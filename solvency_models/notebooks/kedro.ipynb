{
 "cells": [
  {
   "cell_type": "code",
   "execution_count": 34,
   "id": "a5e4bd9b-58ad-454c-a145-e88fa372da20",
   "metadata": {},
   "source": [
    "import sys\n",
    "sys.path.insert(0, \"/home/krzysiek/Development/solvency-modelling/solvency_models/notebooks/utils\")\n",
    "\n",
    "from utils.my_kedro import MyKedro, suppress_all_loggers\n",
    "import logging\n",
    "\n",
    "logger = logging.getLogger(__name__)\n",
    "logger.setLevel(\"INFO\")\n",
    "\n",
    "my_kedro = MyKedro()\n",
    "# my_kedro = MyKedro(mlflow_run_id=\"332778368c374987b6a03b81e96851a9\")\n",
    "config = my_kedro.run(\"init\", level=\"ERROR\")[\"config\"]"
   ],
   "outputs": []
  },
  {
   "cell_type": "code",
   "execution_count": 41,
   "id": "5318e05d-490a-491a-8e08-0d98bf15058b",
   "metadata": {},
   "source": [
    "my_kedro.reload()\n",
    "config = my_kedro.run(\"init\", level=\"ERROR\")[\"config\"]"
   ],
   "outputs": []
  },
  {
   "cell_type": "code",
   "execution_count": 2,
   "id": "8c9a2991-9aeb-44f9-a3a4-62b9fbf7607f",
   "metadata": {
    "scrolled": true
   },
   "source": [
    "task_out = my_kedro.run(\"all_to_smpl\")"
   ],
   "outputs": []
  },
  {
   "cell_type": "code",
   "execution_count": 35,
   "id": "835723e9-df38-49f5-979d-d085e4c5f18e",
   "metadata": {
    "scrolled": true
   },
   "source": [
    "task_out = my_kedro.run(\"de\", level=\"DEBUG\")"
   ],
   "outputs": []
  },
  {
   "cell_type": "code",
   "execution_count": 36,
   "id": "572ac11a-306e-4852-8a78-cf8d6bf46d0d",
   "metadata": {
    "scrolled": true
   },
   "source": [
    "task_out = my_kedro.run(pipeline_name=\"ds\")"
   ],
   "outputs": []
  },
  {
   "cell_type": "code",
   "execution_count": 40,
   "id": "edbb3615-6147-4195-a271-d80d7f922a84",
   "metadata": {
    "scrolled": true
   },
   "source": [
    "task_out = my_kedro.run(pipeline_name=\"clb\")"
   ],
   "outputs": []
  },
  {
   "cell_type": "code",
   "execution_count": 42,
   "id": "4df6b833-9813-4257-ad12-0d8738611b2b",
   "metadata": {},
   "source": [
    "task_out = my_kedro.run(pipeline_name=\"test\")"
   ],
   "outputs": []
  },
  {
   "cell_type": "code",
   "execution_count": 47,
   "id": "c5d5c452-3d49-4a67-9fe8-cd5218107159",
   "metadata": {
    "scrolled": true
   },
   "source": [
    "catalog.list()"
   ],
   "outputs": []
  },
  {
   "cell_type": "code",
   "execution_count": 65,
   "id": "06b63f83-fadd-4f70-8c16-d006b2e7faa9",
   "metadata": {},
   "source": [
    "calibrated_calib_predictions_df = catalog.load(\"calibrated_test_predictions_df\")"
   ],
   "outputs": []
  },
  {
   "cell_type": "code",
   "execution_count": 66,
   "id": "82eaef47-e2b5-4393-a610-cd4e7fc050a9",
   "metadata": {},
   "source": [
    "calibrated_calib_predictions_df.head()"
   ],
   "outputs": []
  },
  {
   "cell_type": "code",
   "execution_count": 64,
   "id": "696fd9a6-c12d-4cee-b699-c386a288f7b4",
   "metadata": {
    "scrolled": true
   },
   "source": [
    "task_out = my_kedro.run(pipeline_name=\"test\", level=\"DEBUG\")"
   ],
   "outputs": []
  },
  {
   "cell_type": "code",
   "execution_count": 5,
   "id": "ab3eb5a3-cde6-42d3-941d-6113d7ab0e29",
   "metadata": {
    "scrolled": true
   },
   "source": [
    "task_out = my_kedro.run(pipeline_name=\"ds\", node_names=[\"process_parameters\", \"select_features\"])"
   ],
   "outputs": []
  },
  {
   "cell_type": "code",
   "execution_count": 30,
   "id": "86833c22-2a65-4d12-aeae-743d25d9d94b",
   "metadata": {},
   "source": [
    "task_out = my_kedro.run(pipeline_name=\"ds\", node_names=[\"process_parameters\", \"fit_predictive_model\"])"
   ],
   "outputs": []
  },
  {
   "cell_type": "code",
   "execution_count": 74,
   "id": "c3797cd6-9bb5-4b12-8973-fde74711c37f",
   "metadata": {},
   "source": [
    "# catalog.list()"
   ],
   "outputs": []
  },
  {
   "cell_type": "code",
   "execution_count": 301,
   "id": "fb24dd01-56bc-48a9-ac68-02905388f676",
   "metadata": {},
   "source": [
    "sample_features_df = catalog.load(\"sample_features_df\")"
   ],
   "outputs": []
  },
  {
   "cell_type": "code",
   "execution_count": 214,
   "id": "8722f4f3-9bdc-4e18-b5d2-a1480aba5d53",
   "metadata": {},
   "source": [
    "sample_features_df.head()"
   ],
   "outputs": []
  },
  {
   "cell_type": "code",
   "execution_count": 5,
   "id": "bfa78e6d-3144-4323-a18c-3711f95e250c",
   "metadata": {},
   "source": [
    "transformed_sample_features_df = catalog.load(\"transformed_sample_features_df\")\n",
    "sample_target_df = catalog.load(\"sample_target_df\")"
   ],
   "outputs": []
  },
  {
   "cell_type": "code",
   "execution_count": 216,
   "id": "a9fe29cc-4304-42a6-a665-8ae861ab7fdf",
   "metadata": {},
   "source": [
    "transformed_sample_features_df.head()"
   ],
   "outputs": []
  },
  {
   "cell_type": "code",
   "execution_count": 57,
   "id": "408d4fcb-b008-4929-962c-c8de23bb42ac",
   "metadata": {},
   "source": [
    "rfe.get_selected_features()"
   ],
   "outputs": []
  },
  {
   "cell_type": "code",
   "execution_count": 60,
   "id": "0907e437-757f-4ddb-8f27-a3d5c02d0347",
   "metadata": {},
   "source": [
    "transformed_sample_features_df.loc[:,rfe._selected_features]"
   ],
   "outputs": []
  },
  {
   "cell_type": "code",
   "execution_count": 217,
   "id": "15392c42-4595-4b8c-8d67-0760e2358c34",
   "metadata": {},
   "source": [
    "transformed_sample_features_df.describe()"
   ],
   "outputs": []
  },
  {
   "cell_type": "code",
   "execution_count": 218,
   "id": "e62ba5d5-8c8a-4254-be16-ec89301932ee",
   "metadata": {},
   "source": [
    "sample_target_df.head()"
   ],
   "outputs": []
  },
  {
   "cell_type": "code",
   "execution_count": 219,
   "id": "bfab9441-b3b3-4fc3-884a-fc7dad0aada5",
   "metadata": {},
   "source": [
    "config.mdl_task.target_col"
   ],
   "outputs": []
  },
  {
   "cell_type": "code",
   "execution_count": 220,
   "id": "97437844-cc16-4968-b3eb-182b4e820763",
   "metadata": {},
   "source": [
    "config.mdl_task.prediction_col"
   ],
   "outputs": []
  },
  {
   "cell_type": "code",
   "execution_count": 43,
   "id": "970c2863-cee4-4f4d-91b9-34d6f13c6996",
   "metadata": {},
   "source": [
    "rfe = RecursiveFeatureEliminationSelector(config)\n",
    "rfe.fit(transformed_sample_features_df, sample_target_df)\n",
    "rfe.get_features_importances()"
   ],
   "outputs": []
  },
  {
   "cell_type": "code",
   "execution_count": 40,
   "id": "acefd715-3e2e-4d2a-96b6-7706584cda80",
   "metadata": {},
   "source": [
    "importances = rfe.selector.estimator_.get_features_importances().copy()\n",
    "importances.index = rfe.selector.feature_names_in_[importances.index]\n",
    "importances"
   ],
   "outputs": []
  },
  {
   "cell_type": "code",
   "execution_count": 30,
   "id": "8750db34-6063-49f0-a05e-d027ff52f183",
   "metadata": {},
   "source": [
    "rfe.selector.feature_names_in_"
   ],
   "outputs": []
  },
  {
   "cell_type": "code",
   "execution_count": 46,
   "id": "277f42bc-58d4-4fb3-bc9d-497bd4ebdffd",
   "metadata": {},
   "source": [
    "\"\\n\".join(rfe.get_selected_features().tolist())"
   ],
   "outputs": []
  },
  {
   "cell_type": "code",
   "execution_count": 29,
   "id": "f9059d4b-206a-4e5c-aa6f-456329a2f13f",
   "metadata": {},
   "source": [
    "rfe.selector.feature_names_in_ rfe.selector.estimator_.get_features_importances()"
   ],
   "outputs": []
  },
  {
   "cell_type": "code",
   "execution_count": 15,
   "id": "43179b3d-3b62-4ab8-afcc-a1f442719507",
   "metadata": {},
   "source": [
    "rfe.get_features_importances()"
   ],
   "outputs": []
  },
  {
   "cell_type": "code",
   "execution_count": 24,
   "id": "e82a5b23-289c-43c6-bbb8-3601eb0f4493",
   "metadata": {},
   "source": [
    "rfe.get_selected_features()"
   ],
   "outputs": []
  },
  {
   "cell_type": "code",
   "execution_count": 20,
   "id": "91d2e291-5d39-4831-8708-2628c279046a",
   "metadata": {},
   "source": [
    "pd.Series(1 / rfe.selector.ranking_, index=pd.Index(rfe.selector.feature_names_in_))"
   ],
   "outputs": []
  },
  {
   "cell_type": "code",
   "execution_count": 401,
   "id": "0cea7602-cd1c-47fd-a8f8-a39f50ab2b65",
   "metadata": {},
   "source": [
    "# from solvency_models.pipelines.p07_data_science.models.glm import GeneralizedLinearModel\n",
    "glm = GeneralizedLinearModel(config)\n",
    "glm.fit(transformed_sample_features_df, sample_target_df)\n",
    "glm.get_features_importances()"
   ],
   "outputs": []
  },
  {
   "cell_type": "code",
   "execution_count": 363,
   "id": "9bdc6593-d992-4619-9b68-95c9fed1513d",
   "metadata": {},
   "source": [
    "rfe.selector.feature_names_in_"
   ],
   "outputs": []
  },
  {
   "cell_type": "code",
   "execution_count": 365,
   "id": "951eae78-a019-4452-9975-bd81c4142d5e",
   "metadata": {},
   "source": [
    "rfe.selector.support_"
   ],
   "outputs": []
  },
  {
   "cell_type": "code",
   "execution_count": 364,
   "id": "b9350f60-4b22-4c22-a73f-e520d83294bc",
   "metadata": {},
   "source": [
    "rfe.selector.feature_names_in_[rfe.selector.support_]"
   ],
   "outputs": []
  },
  {
   "cell_type": "code",
   "execution_count": 312,
   "id": "45d44671-6a96-4768-aaeb-0155c7e758a9",
   "metadata": {},
   "source": [
    "lasso.get_selected_features()"
   ],
   "outputs": []
  },
  {
   "cell_type": "code",
   "execution_count": null,
   "id": "27d1c688-92be-4e14-b072-25e9aa4f625e",
   "metadata": {},
   "source": [],
   "outputs": []
  },
  {
   "cell_type": "code",
   "execution_count": 176,
   "id": "013531b2-84be-41c2-ac84-23b71cb15d30",
   "metadata": {},
   "source": [
    "model = GeneralizedLinearModel(config)"
   ],
   "outputs": []
  },
  {
   "cell_type": "code",
   "execution_count": 177,
   "id": "c6e35547-a89b-41dd-938b-228e384d4df2",
   "metadata": {},
   "source": [
    "model.fit(transformed_sample_features_df, sample_target_df)"
   ],
   "outputs": []
  },
  {
   "cell_type": "code",
   "execution_count": 178,
   "id": "b94de06f-e987-4a02-b2f6-8d92eb9849b8",
   "metadata": {},
   "source": [
    "prediction_df = model.predict(transformed_sample_features_df)"
   ],
   "outputs": []
  },
  {
   "cell_type": "code",
   "execution_count": 173,
   "id": "909272b5-adff-4b83-a257-288e4dfd8b79",
   "metadata": {},
   "source": [
    "s = pd.Series([0, 1, 2, 3, 4])\n",
    "pd.DataFrame(s)"
   ],
   "outputs": []
  },
  {
   "cell_type": "code",
   "execution_count": 179,
   "id": "3d692847-5c10-4263-8cc5-f33438edde20",
   "metadata": {},
   "source": [
    "prediction_df"
   ],
   "outputs": []
  },
  {
   "cell_type": "code",
   "execution_count": 127,
   "id": "b0ab5fbf-eb2e-4dd1-a04f-9344c6503c5a",
   "metadata": {},
   "source": [
    "prediction_df.name"
   ],
   "outputs": []
  },
  {
   "cell_type": "code",
   "execution_count": 183,
   "id": "2f52584d-d039-486e-acdf-e62683b37647",
   "metadata": {},
   "source": [
    "model.summary()"
   ],
   "outputs": []
  },
  {
   "cell_type": "code",
   "execution_count": 92,
   "id": "0669867d-25ed-4e61-8b2d-e1cc079240a7",
   "metadata": {},
   "source": [
    "prediction_df"
   ],
   "outputs": []
  },
  {
   "cell_type": "code",
   "execution_count": 25,
   "id": "82936db9-5add-426a-99a7-3932007bdfb8",
   "metadata": {},
   "source": [
    "from solvency_models.pipelines.utils.mlflow_model import MLFlowModelLoader\n",
    "from solvency_models.pipelines.p08_model_calibration.utils import _calibration_model_artifact_path\n",
    "\n",
    "clb_model = MLFlowModelLoader(\"calibration model\").load_model(path=_calibration_model_artifact_path,\n",
    "                                                                  run_id=config.clb.mlflow_run_id)"
   ],
   "outputs": []
  },
  {
   "cell_type": "code",
   "execution_count": 26,
   "id": "99e0a7b8-ac39-4878-89a9-d7aa43cae8fa",
   "metadata": {},
   "source": [
    "clb_model"
   ],
   "outputs": []
  },
  {
   "cell_type": "code",
   "execution_count": 27,
   "id": "7f62f526-5857-48e3-bcf2-0aea217a8f1d",
   "metadata": {},
   "source": [
    "clb_model.y_thresholds_"
   ],
   "outputs": []
  },
  {
   "cell_type": "code",
   "execution_count": 28,
   "id": "c85e8054-d4a7-486c-b876-4d853e358408",
   "metadata": {},
   "source": [
    "clb_model.X_thresholds_"
   ],
   "outputs": []
  },
  {
   "cell_type": "code",
   "execution_count": 31,
   "id": "5e9119f1-87ef-4857-be5c-425bf128c66b",
   "metadata": {},
   "source": [
    "import numpy as np\n",
    "\n",
    "# Assuming clb_model.y_thresholds_ is a numpy array\n",
    "y_thresholds = clb_model.y_thresholds_\n",
    "\n",
    "# Define the x coordinates for the data points (xp)\n",
    "xp = np.arange(len(y_thresholds))\n",
    "\n",
    "# Define the x coordinates at which to evaluate the interpolant (x)\n",
    "x = np.linspace(0, len(y_thresholds) - 1, num=100)\n",
    "\n",
    "# Perform linear interpolation\n",
    "interpolated_y_thresholds = np.interp(x, xp, y_thresholds)"
   ],
   "outputs": []
  },
  {
   "cell_type": "code",
   "execution_count": 32,
   "id": "08ac3971-4dc6-4e60-8a28-006205712cce",
   "metadata": {},
   "source": [
    "def calibrate(clb_model, y):\n",
    "    return np.interp(y, clb_model.X_thresholds_, clb_model.y_thresholds_)"
   ],
   "outputs": []
  },
  {
   "cell_type": "code",
   "execution_count": 33,
   "id": "0781112e-8569-481b-8f43-6472868de8d7",
   "metadata": {},
   "source": [
    "y_cal = calibrate(clb_model, calibrated_test_predictions_df.pure_ClaimFreq_PRED)"
   ],
   "outputs": []
  },
  {
   "cell_type": "code",
   "execution_count": 34,
   "id": "57c51c99-5a70-4109-a90b-528b9cbcabde",
   "metadata": {},
   "source": [
    "len(y_cal)"
   ],
   "outputs": []
  },
  {
   "cell_type": "code",
   "execution_count": 35,
   "id": "f21b1b7b-cd2d-4eaa-a7ce-3f3c877440ed",
   "metadata": {},
   "source": [
    "y_cal"
   ],
   "outputs": []
  },
  {
   "cell_type": "code",
   "execution_count": 36,
   "id": "77f9ad9d-f92b-4ab6-b4ee-4e9d446f4a48",
   "metadata": {},
   "source": [
    "calibrated_test_predictions_df.pure_ClaimFreq_PRED"
   ],
   "outputs": []
  },
  {
   "cell_type": "code",
   "execution_count": 37,
   "id": "9c331eeb-3089-4d8b-840c-35f33e4549eb",
   "metadata": {},
   "source": [
    "len(np.unique(y_cal))"
   ],
   "outputs": []
  },
  {
   "cell_type": "code",
   "execution_count": 38,
   "id": "c3cdd0da-5d5d-430c-9a2c-6430a6d97996",
   "metadata": {},
   "source": [
    "len(np.unique(calibrated_test_predictions_df.pure_ClaimFreq_PRED))"
   ],
   "outputs": []
  },
  {
   "cell_type": "code",
   "execution_count": 39,
   "id": "7a1886d7-723e-4268-b6cb-5b7f891e1f00",
   "metadata": {},
   "source": [
    "len(np.unique(calibrated_test_predictions_df.calibrated_ClaimFreq_PRED))"
   ],
   "outputs": []
  },
  {
   "cell_type": "code",
   "execution_count": 42,
   "id": "1ef607ff-c63b-4e49-8f0f-015c90cfae1f",
   "metadata": {},
   "source": [
    "y_pure_clb = calibrate(clb_model, calibrated_test_predictions_df.calibrated_ClaimFreq_PRED)"
   ],
   "outputs": []
  },
  {
   "cell_type": "code",
   "execution_count": 10,
   "id": "f5e3c877-d675-4c1f-9e50-9916fddb745a",
   "metadata": {},
   "source": [
    "target_df = catalog.load(\"target_df\")"
   ],
   "outputs": []
  },
  {
   "cell_type": "code",
   "execution_count": 9,
   "id": "2a515f5c-b02d-43e8-be83-98f044f9de17",
   "metadata": {},
   "source": [
    "calibrated_calib_predictions_df = catalog.load(\"calibrated_calib_predictions_df\")"
   ],
   "outputs": []
  },
  {
   "cell_type": "code",
   "execution_count": 65,
   "id": "109f2a58-f68c-4ab2-8611-d9ed00b23d96",
   "metadata": {},
   "source": [
    "len(np.unique(y_cal))"
   ],
   "outputs": []
  },
  {
   "cell_type": "code",
   "execution_count": 11,
   "id": "6ed13192-b2e7-4f36-ab62-93b9a827e86d",
   "metadata": {},
   "source": [
    "calibrated_calib_predictions_df"
   ],
   "outputs": []
  },
  {
   "cell_type": "code",
   "execution_count": 12,
   "id": "2324cb23-9133-40c5-9ee9-c236f558e338",
   "metadata": {},
   "source": [
    "target_df"
   ],
   "outputs": []
  },
  {
   "cell_type": "code",
   "execution_count": 75,
   "id": "8db2a84e-7dac-4d16-8d73-55ddee7da928",
   "metadata": {},
   "source": [
    "pure_sample_predictions_df = catalog.load(\"pure_sample_predictions_df\")"
   ],
   "outputs": []
  },
  {
   "cell_type": "code",
   "execution_count": 76,
   "id": "ff7bed0c-67ca-4640-a9fe-071695bbce70",
   "metadata": {},
   "source": [
    "pure_sample_predictions_df"
   ],
   "outputs": []
  },
  {
   "cell_type": "code",
   "execution_count": 77,
   "id": "999809a9-9c64-42aa-aab0-29656bbc0938",
   "metadata": {},
   "source": [
    "target_df = catalog.load(\"target_df\")"
   ],
   "outputs": []
  },
  {
   "cell_type": "code",
   "execution_count": 78,
   "id": "82d2a7a7-fd99-4bad-96ce-a395a585f7ed",
   "metadata": {},
   "source": [
    "target_df"
   ],
   "outputs": []
  },
  {
   "cell_type": "code",
   "execution_count": 13,
   "id": "894c0f6b-cf6e-4c3d-9026-e0ec14ffa6d9",
   "metadata": {},
   "source": [
    "y = target_df.loc[calibrated_calib_predictions_df.index, config.mdl_task.target_col]\n",
    "x = calibrated_calib_predictions_df.pure_ClaimFreq_PRED"
   ],
   "outputs": []
  },
  {
   "cell_type": "code",
   "execution_count": 16,
   "id": "14afbe00-62b3-4990-ba4e-2397d72d677b",
   "metadata": {},
   "source": [
    "from cir_model import CenteredIsotonicRegression"
   ],
   "outputs": []
  },
  {
   "cell_type": "code",
   "execution_count": 14,
   "id": "20a1a27f-bfe1-487d-9151-27bb5ed96d5b",
   "metadata": {},
   "source": [
    "y"
   ],
   "outputs": []
  },
  {
   "cell_type": "code",
   "execution_count": 15,
   "id": "fa2b817d-7937-4a23-aec2-b57bcf5d7d82",
   "metadata": {},
   "source": [
    "x"
   ],
   "outputs": []
  },
  {
   "cell_type": "code",
   "execution_count": 18,
   "id": "6ceebc13-38ce-4b43-8de4-028fab45036f",
   "metadata": {},
   "source": [
    "cir_model = CenteredIsotonicRegression()\n",
    "cir_model.fit(x, y)\n",
    "y_cir_cal = cir_model.predict(x)\n",
    "y_cir_cal"
   ],
   "outputs": []
  },
  {
   "cell_type": "code",
   "execution_count": 59,
   "id": "645e2764-6c90-4142-8f3e-f15df0afa7a8",
   "metadata": {},
   "source": [
    "len(np.unique(y_cir_cal))"
   ],
   "outputs": []
  },
  {
   "cell_type": "code",
   "execution_count": 19,
   "id": "96238b8f-4b3b-4e83-9865-3c7e49da7440",
   "metadata": {},
   "source": [
    "import sklearn"
   ],
   "outputs": []
  },
  {
   "cell_type": "code",
   "execution_count": 20,
   "id": "57ba0af8-4562-4ca1-8241-99232561bdff",
   "metadata": {},
   "source": [
    "sklearn.__version__"
   ],
   "outputs": []
  },
  {
   "cell_type": "code",
   "execution_count": 22,
   "id": "036bee1a-2291-462f-9e4c-534dc0e533c0",
   "metadata": {},
   "source": [
    "import cir_model"
   ],
   "outputs": []
  },
  {
   "cell_type": "code",
   "execution_count": 23,
   "id": "2d16ee44-6c4a-4258-b4c7-1696c9b19fb8",
   "metadata": {},
   "source": [
    "cir_model.__version__"
   ],
   "outputs": []
  },
  {
   "cell_type": "markdown",
   "id": "c96173bd-96f5-4983-a751-9a0171db5687",
   "metadata": {},
   "source": [
    "## Exploring results"
   ]
  },
  {
   "cell_type": "code",
   "execution_count": 44,
   "id": "8b7d7400-eb40-4179-a69d-8b782e17cd0b",
   "metadata": {},
   "source": [
    "import mlflow"
   ],
   "outputs": []
  },
  {
   "cell_type": "code",
   "execution_count": 45,
   "id": "589de50b-c097-4881-8b64-da9070765196",
   "metadata": {},
   "source": [
    "mlflow.active_run().info"
   ],
   "outputs": []
  },
  {
   "cell_type": "code",
   "execution_count": null,
   "id": "ed1ff9e7-f0f0-4f85-9760-3c0fcbd6322c",
   "metadata": {},
   "source": [
    "from solvency_models.pipelines.p07_data_science.models.glm import GeneralizedLinearModel"
   ],
   "outputs": []
  }
 ],
 "metadata": {
  "kernelspec": {
   "display_name": "Python 3 (ipykernel)",
   "language": "python",
   "name": "python3"
  },
  "language_info": {
   "codemirror_mode": {
    "name": "ipython",
    "version": 3
   },
   "file_extension": ".py",
   "mimetype": "text/x-python",
   "name": "python",
   "nbconvert_exporter": "python",
   "pygments_lexer": "ipython3",
   "version": "3.11.9"
  }
 },
 "nbformat": 4,
 "nbformat_minor": 5
}
