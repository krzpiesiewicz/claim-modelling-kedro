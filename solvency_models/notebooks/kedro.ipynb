{
 "cells": [
  {
   "cell_type": "code",
   "execution_count": 1,
   "id": "a5e4bd9b-58ad-454c-a145-e88fa372da20",
   "metadata": {},
   "outputs": [
    {
     "data": {
      "text/html": [
       "<pre style=\"white-space:pre;overflow-x:auto;line-height:normal;font-family:Menlo,'DejaVu Sans Mono',consolas,'Courier New',monospace\"><span style=\"color: #7fbfbf; text-decoration-color: #7fbfbf\">[06/03/24 20:34:17] </span><span style=\"color: #000080; text-decoration-color: #000080\">INFO    </span> Reloaded kedro. Active mlflow_run_id: ef29cc4c1ef141a2993c37c781ca9d82 <a href=\"file:///home/krzysiek/Development/solvency-modelling/solvency_models/notebooks/utils/my_kedro.py\" target=\"_blank\"><span style=\"color: #7f7f7f; text-decoration-color: #7f7f7f\">my_kedro.py</span></a><span style=\"color: #7f7f7f; text-decoration-color: #7f7f7f\">:</span><a href=\"file:///home/krzysiek/Development/solvency-modelling/solvency_models/notebooks/utils/my_kedro.py#125\" target=\"_blank\"><span style=\"color: #7f7f7f; text-decoration-color: #7f7f7f\">125</span></a>\n",
       "</pre>\n"
      ],
      "text/plain": [
       "\u001b[2;36m[06/03/24 20:34:17]\u001b[0m\u001b[2;36m \u001b[0m\u001b[34mINFO    \u001b[0m Reloaded kedro. Active mlflow_run_id: ef29cc4c1ef141a2993c37c781ca9d82 \u001b]8;id=281971;file:///home/krzysiek/Development/solvency-modelling/solvency_models/notebooks/utils/my_kedro.py\u001b\\\u001b[2mmy_kedro.py\u001b[0m\u001b]8;;\u001b\\\u001b[2m:\u001b[0m\u001b]8;id=832692;file:///home/krzysiek/Development/solvency-modelling/solvency_models/notebooks/utils/my_kedro.py#125\u001b\\\u001b[2m125\u001b[0m\u001b]8;;\u001b\\\n"
      ]
     },
     "metadata": {},
     "output_type": "display_data"
    }
   ],
   "source": [
    "import sys\n",
    "sys.path.insert(0, \"/home/krzysiek/Development/solvency-modelling/solvency_models/notebooks/utils\")\n",
    "\n",
    "from utils.my_kedro import MyKedro, suppress_all_loggers\n",
    "import logging\n",
    "\n",
    "logger = logging.getLogger(__name__)\n",
    "logger.setLevel(\"INFO\")\n",
    "\n",
    "my_kedro = MyKedro()\n",
    "# my_kedro = MyKedro(mlflow_run_id=\"b6e1667f5c1b4881a97447b03b94f180\")\n",
    "config = my_kedro.run(\"init\", level=\"ERROR\")[\"config\"]"
   ]
  },
  {
   "cell_type": "code",
   "execution_count": 24,
   "id": "5318e05d-490a-491a-8e08-0d98bf15058b",
   "metadata": {},
   "outputs": [],
   "source": [
    "my_kedro.reload()\n",
    "config = my_kedro.run(\"init\", level=\"ERROR\")[\"config\"]"
   ]
  },
  {
   "cell_type": "code",
   "execution_count": 2,
   "id": "835723e9-df38-49f5-979d-d085e4c5f18e",
   "metadata": {
    "scrolled": true
   },
   "outputs": [
    {
     "data": {
      "text/html": [
       "<pre style=\"white-space:pre;overflow-x:auto;line-height:normal;font-family:Menlo,'DejaVu Sans Mono',consolas,'Courier New',monospace\"><span style=\"color: #7fbfbf; text-decoration-color: #7fbfbf\">[06/03/24 20:34:27] </span><span style=\"color: #000080; text-decoration-color: #000080\">INFO    </span> Kedro project solvency_models                                           <a href=\"file:///home/krzysiek/Development/solvency-modelling/venv/lib/python3.11/site-packages/kedro/framework/session/session.py\" target=\"_blank\"><span style=\"color: #7f7f7f; text-decoration-color: #7f7f7f\">session.py</span></a><span style=\"color: #7f7f7f; text-decoration-color: #7f7f7f\">:</span><a href=\"file:///home/krzysiek/Development/solvency-modelling/venv/lib/python3.11/site-packages/kedro/framework/session/session.py#321\" target=\"_blank\"><span style=\"color: #7f7f7f; text-decoration-color: #7f7f7f\">321</span></a>\n",
       "</pre>\n"
      ],
      "text/plain": [
       "\u001b[2;36m[06/03/24 20:34:27]\u001b[0m\u001b[2;36m \u001b[0m\u001b[34mINFO    \u001b[0m Kedro project solvency_models                                           \u001b]8;id=812285;file:///home/krzysiek/Development/solvency-modelling/venv/lib/python3.11/site-packages/kedro/framework/session/session.py\u001b\\\u001b[2msession.py\u001b[0m\u001b]8;;\u001b\\\u001b[2m:\u001b[0m\u001b]8;id=85409;file:///home/krzysiek/Development/solvency-modelling/venv/lib/python3.11/site-packages/kedro/framework/session/session.py#321\u001b\\\u001b[2m321\u001b[0m\u001b]8;;\u001b\\\n"
      ]
     },
     "metadata": {},
     "output_type": "display_data"
    },
    {
     "data": {
      "text/html": [
       "<pre style=\"white-space:pre;overflow-x:auto;line-height:normal;font-family:Menlo,'DejaVu Sans Mono',consolas,'Courier New',monospace\"><span style=\"color: #7fbfbf; text-decoration-color: #7fbfbf\">                    </span><span style=\"color: #000080; text-decoration-color: #000080\">INFO    </span> mlflow_config.server.mlflow_tracking_uri: <span style=\"color: #0000ff; text-decoration-color: #0000ff; text-decoration: underline\">http://127.0.0.1:5000</span>          <a href=\"file:///home/krzysiek/Development/solvency-modelling/solvency_models/src/solvency_models/context.py\" target=\"_blank\"><span style=\"color: #7f7f7f; text-decoration-color: #7f7f7f\">context.py</span></a><span style=\"color: #7f7f7f; text-decoration-color: #7f7f7f\">:</span><a href=\"file:///home/krzysiek/Development/solvency-modelling/solvency_models/src/solvency_models/context.py#71\" target=\"_blank\"><span style=\"color: #7f7f7f; text-decoration-color: #7f7f7f\">71</span></a>\n",
       "</pre>\n"
      ],
      "text/plain": [
       "\u001b[2;36m                   \u001b[0m\u001b[2;36m \u001b[0m\u001b[34mINFO    \u001b[0m mlflow_config.server.mlflow_tracking_uri: \u001b[4;94mhttp://127.0.0.1:5000\u001b[0m          \u001b]8;id=611618;file:///home/krzysiek/Development/solvency-modelling/solvency_models/src/solvency_models/context.py\u001b\\\u001b[2mcontext.py\u001b[0m\u001b]8;;\u001b\\\u001b[2m:\u001b[0m\u001b]8;id=149857;file:///home/krzysiek/Development/solvency-modelling/solvency_models/src/solvency_models/context.py#71\u001b\\\u001b[2m71\u001b[0m\u001b]8;;\u001b\\\n"
      ]
     },
     "metadata": {},
     "output_type": "display_data"
    },
    {
     "data": {
      "text/html": [
       "<pre style=\"white-space:pre;overflow-x:auto;line-height:normal;font-family:Menlo,'DejaVu Sans Mono',consolas,'Courier New',monospace\"><span style=\"color: #7fbfbf; text-decoration-color: #7fbfbf\">                    </span><span style=\"color: #000080; text-decoration-color: #000080\">INFO    </span> mlflow_run_id: ef29cc4c1ef141a2993c37c781ca9d82                          <a href=\"file:///home/krzysiek/Development/solvency-modelling/solvency_models/src/solvency_models/context.py\" target=\"_blank\"><span style=\"color: #7f7f7f; text-decoration-color: #7f7f7f\">context.py</span></a><span style=\"color: #7f7f7f; text-decoration-color: #7f7f7f\">:</span><a href=\"file:///home/krzysiek/Development/solvency-modelling/solvency_models/src/solvency_models/context.py#86\" target=\"_blank\"><span style=\"color: #7f7f7f; text-decoration-color: #7f7f7f\">86</span></a>\n",
       "</pre>\n"
      ],
      "text/plain": [
       "\u001b[2;36m                   \u001b[0m\u001b[2;36m \u001b[0m\u001b[34mINFO    \u001b[0m mlflow_run_id: ef29cc4c1ef141a2993c37c781ca9d82                          \u001b]8;id=911738;file:///home/krzysiek/Development/solvency-modelling/solvency_models/src/solvency_models/context.py\u001b\\\u001b[2mcontext.py\u001b[0m\u001b]8;;\u001b\\\u001b[2m:\u001b[0m\u001b]8;id=896937;file:///home/krzysiek/Development/solvency-modelling/solvency_models/src/solvency_models/context.py#86\u001b\\\u001b[2m86\u001b[0m\u001b]8;;\u001b\\\n"
      ]
     },
     "metadata": {},
     "output_type": "display_data"
    },
    {
     "data": {
      "text/html": [
       "<pre style=\"white-space:pre;overflow-x:auto;line-height:normal;font-family:Menlo,'DejaVu Sans Mono',consolas,'Courier New',monospace\"><span style=\"color: #7fbfbf; text-decoration-color: #7fbfbf\">                    </span><span style=\"color: #000080; text-decoration-color: #000080\">INFO    </span> Registering new custom resolver: <span style=\"color: #008000; text-decoration-color: #008000\">'km.random_name'</span>                    <a href=\"file:///home/krzysiek/Development/solvency-modelling/venv/lib/python3.11/site-packages/kedro_mlflow/framework/hooks/mlflow_hook.py\" target=\"_blank\"><span style=\"color: #7f7f7f; text-decoration-color: #7f7f7f\">mlflow_hook.py</span></a><span style=\"color: #7f7f7f; text-decoration-color: #7f7f7f\">:</span><a href=\"file:///home/krzysiek/Development/solvency-modelling/venv/lib/python3.11/site-packages/kedro_mlflow/framework/hooks/mlflow_hook.py#65\" target=\"_blank\"><span style=\"color: #7f7f7f; text-decoration-color: #7f7f7f\">65</span></a>\n",
       "</pre>\n"
      ],
      "text/plain": [
       "\u001b[2;36m                   \u001b[0m\u001b[2;36m \u001b[0m\u001b[34mINFO    \u001b[0m Registering new custom resolver: \u001b[32m'km.random_name'\u001b[0m                    \u001b]8;id=337107;file:///home/krzysiek/Development/solvency-modelling/venv/lib/python3.11/site-packages/kedro_mlflow/framework/hooks/mlflow_hook.py\u001b\\\u001b[2mmlflow_hook.py\u001b[0m\u001b]8;;\u001b\\\u001b[2m:\u001b[0m\u001b]8;id=438589;file:///home/krzysiek/Development/solvency-modelling/venv/lib/python3.11/site-packages/kedro_mlflow/framework/hooks/mlflow_hook.py#65\u001b\\\u001b[2m65\u001b[0m\u001b]8;;\u001b\\\n"
      ]
     },
     "metadata": {},
     "output_type": "display_data"
    },
    {
     "data": {
      "text/html": [
       "<pre style=\"white-space:pre;overflow-x:auto;line-height:normal;font-family:Menlo,'DejaVu Sans Mono',consolas,'Courier New',monospace\"><span style=\"color: #7fbfbf; text-decoration-color: #7fbfbf\">                    </span><span style=\"color: #800000; text-decoration-color: #800000\">WARNING </span> The mlflow run ef29cc4c1ef141a2993c37c781ca9d82 is already active.   <a href=\"file:///home/krzysiek/Development/solvency-modelling/venv/lib/python3.11/site-packages/kedro_mlflow/framework/hooks/mlflow_hook.py\" target=\"_blank\"><span style=\"color: #7f7f7f; text-decoration-color: #7f7f7f\">mlflow_hook.py</span></a><span style=\"color: #7f7f7f; text-decoration-color: #7f7f7f\">:</span><a href=\"file:///home/krzysiek/Development/solvency-modelling/venv/lib/python3.11/site-packages/kedro_mlflow/framework/hooks/mlflow_hook.py#97\" target=\"_blank\"><span style=\"color: #7f7f7f; text-decoration-color: #7f7f7f\">97</span></a>\n",
       "<span style=\"color: #7fbfbf; text-decoration-color: #7fbfbf\">                    </span>         Configuration is inferred from the environment, and mlflow.yml is    <span style=\"color: #7f7f7f; text-decoration-color: #7f7f7f\">                 </span>\n",
       "<span style=\"color: #7fbfbf; text-decoration-color: #7fbfbf\">                    </span>         ignored.                                                             <span style=\"color: #7f7f7f; text-decoration-color: #7f7f7f\">                 </span>\n",
       "</pre>\n"
      ],
      "text/plain": [
       "\u001b[2;36m                   \u001b[0m\u001b[2;36m \u001b[0m\u001b[31mWARNING \u001b[0m The mlflow run ef29cc4c1ef141a2993c37c781ca9d82 is already active.   \u001b]8;id=511813;file:///home/krzysiek/Development/solvency-modelling/venv/lib/python3.11/site-packages/kedro_mlflow/framework/hooks/mlflow_hook.py\u001b\\\u001b[2mmlflow_hook.py\u001b[0m\u001b]8;;\u001b\\\u001b[2m:\u001b[0m\u001b]8;id=355182;file:///home/krzysiek/Development/solvency-modelling/venv/lib/python3.11/site-packages/kedro_mlflow/framework/hooks/mlflow_hook.py#97\u001b\\\u001b[2m97\u001b[0m\u001b]8;;\u001b\\\n",
       "\u001b[2;36m                    \u001b[0m         Configuration is inferred from the environment, and mlflow.yml is    \u001b[2m                 \u001b[0m\n",
       "\u001b[2;36m                    \u001b[0m         ignored.                                                             \u001b[2m                 \u001b[0m\n"
      ]
     },
     "metadata": {},
     "output_type": "display_data"
    },
    {
     "data": {
      "text/html": [
       "<pre style=\"white-space:pre;overflow-x:auto;line-height:normal;font-family:Menlo,'DejaVu Sans Mono',consolas,'Courier New',monospace\"><span style=\"color: #7fbfbf; text-decoration-color: #7fbfbf\">                    </span><span style=\"color: #800000; text-decoration-color: #800000\">WARNING </span> mlflow_config.server.<span style=\"color: #808000; text-decoration-color: #808000\">mlflow_tracking_uri</span>=<span style=\"color: #008000; text-decoration-color: #008000\">'http://127.0.0.1:5000'</span>    <a href=\"file:///home/krzysiek/Development/solvency-modelling/venv/lib/python3.11/site-packages/kedro_mlflow/framework/hooks/mlflow_hook.py\" target=\"_blank\"><span style=\"color: #7f7f7f; text-decoration-color: #7f7f7f\">mlflow_hook.py</span></a><span style=\"color: #7f7f7f; text-decoration-color: #7f7f7f\">:</span><a href=\"file:///home/krzysiek/Development/solvency-modelling/venv/lib/python3.11/site-packages/kedro_mlflow/framework/hooks/mlflow_hook.py#105\" target=\"_blank\"><span style=\"color: #7f7f7f; text-decoration-color: #7f7f7f\">105</span></a>\n",
       "</pre>\n"
      ],
      "text/plain": [
       "\u001b[2;36m                   \u001b[0m\u001b[2;36m \u001b[0m\u001b[31mWARNING \u001b[0m mlflow_config.server.\u001b[33mmlflow_tracking_uri\u001b[0m=\u001b[32m'http://127.0.0.1:5000'\u001b[0m    \u001b]8;id=578602;file:///home/krzysiek/Development/solvency-modelling/venv/lib/python3.11/site-packages/kedro_mlflow/framework/hooks/mlflow_hook.py\u001b\\\u001b[2mmlflow_hook.py\u001b[0m\u001b]8;;\u001b\\\u001b[2m:\u001b[0m\u001b]8;id=564868;file:///home/krzysiek/Development/solvency-modelling/venv/lib/python3.11/site-packages/kedro_mlflow/framework/hooks/mlflow_hook.py#105\u001b\\\u001b[2m105\u001b[0m\u001b]8;;\u001b\\\n"
      ]
     },
     "metadata": {},
     "output_type": "display_data"
    },
    {
     "data": {
      "text/html": [
       "<pre style=\"white-space:pre;overflow-x:auto;line-height:normal;font-family:Menlo,'DejaVu Sans Mono',consolas,'Courier New',monospace\"><span style=\"color: #7fbfbf; text-decoration-color: #7fbfbf\">                    </span><span style=\"color: #800000; text-decoration-color: #800000\">WARNING </span> mlflow_config.tracking.run.<span style=\"color: #808000; text-decoration-color: #808000\">id</span>=<span style=\"color: #008000; text-decoration-color: #008000\">'ef29cc4c1ef141a2993c37c781ca9d82'</span>    <a href=\"file:///home/krzysiek/Development/solvency-modelling/venv/lib/python3.11/site-packages/kedro_mlflow/framework/hooks/mlflow_hook.py\" target=\"_blank\"><span style=\"color: #7f7f7f; text-decoration-color: #7f7f7f\">mlflow_hook.py</span></a><span style=\"color: #7f7f7f; text-decoration-color: #7f7f7f\">:</span><a href=\"file:///home/krzysiek/Development/solvency-modelling/venv/lib/python3.11/site-packages/kedro_mlflow/framework/hooks/mlflow_hook.py#108\" target=\"_blank\"><span style=\"color: #7f7f7f; text-decoration-color: #7f7f7f\">108</span></a>\n",
       "</pre>\n"
      ],
      "text/plain": [
       "\u001b[2;36m                   \u001b[0m\u001b[2;36m \u001b[0m\u001b[31mWARNING \u001b[0m mlflow_config.tracking.run.\u001b[33mid\u001b[0m=\u001b[32m'ef29cc4c1ef141a2993c37c781ca9d82'\u001b[0m    \u001b]8;id=416833;file:///home/krzysiek/Development/solvency-modelling/venv/lib/python3.11/site-packages/kedro_mlflow/framework/hooks/mlflow_hook.py\u001b\\\u001b[2mmlflow_hook.py\u001b[0m\u001b]8;;\u001b\\\u001b[2m:\u001b[0m\u001b]8;id=411811;file:///home/krzysiek/Development/solvency-modelling/venv/lib/python3.11/site-packages/kedro_mlflow/framework/hooks/mlflow_hook.py#108\u001b\\\u001b[2m108\u001b[0m\u001b]8;;\u001b\\\n"
      ]
     },
     "metadata": {},
     "output_type": "display_data"
    },
    {
     "data": {
      "text/html": [
       "<pre style=\"white-space:pre;overflow-x:auto;line-height:normal;font-family:Menlo,'DejaVu Sans Mono',consolas,'Courier New',monospace\"><span style=\"color: #7fbfbf; text-decoration-color: #7fbfbf\">                    </span><span style=\"color: #800000; text-decoration-color: #800000\">WARNING </span> mlflow_config.tracking.experiment.<span style=\"color: #808000; text-decoration-color: #808000\">name</span>=<span style=\"color: #008000; text-decoration-color: #008000\">'test-p07-ds'</span>                <a href=\"file:///home/krzysiek/Development/solvency-modelling/venv/lib/python3.11/site-packages/kedro_mlflow/framework/hooks/mlflow_hook.py\" target=\"_blank\"><span style=\"color: #7f7f7f; text-decoration-color: #7f7f7f\">mlflow_hook.py</span></a><span style=\"color: #7f7f7f; text-decoration-color: #7f7f7f\">:</span><a href=\"file:///home/krzysiek/Development/solvency-modelling/venv/lib/python3.11/site-packages/kedro_mlflow/framework/hooks/mlflow_hook.py#113\" target=\"_blank\"><span style=\"color: #7f7f7f; text-decoration-color: #7f7f7f\">113</span></a>\n",
       "</pre>\n"
      ],
      "text/plain": [
       "\u001b[2;36m                   \u001b[0m\u001b[2;36m \u001b[0m\u001b[31mWARNING \u001b[0m mlflow_config.tracking.experiment.\u001b[33mname\u001b[0m=\u001b[32m'test-p07-ds'\u001b[0m                \u001b]8;id=785270;file:///home/krzysiek/Development/solvency-modelling/venv/lib/python3.11/site-packages/kedro_mlflow/framework/hooks/mlflow_hook.py\u001b\\\u001b[2mmlflow_hook.py\u001b[0m\u001b]8;;\u001b\\\u001b[2m:\u001b[0m\u001b]8;id=945063;file:///home/krzysiek/Development/solvency-modelling/venv/lib/python3.11/site-packages/kedro_mlflow/framework/hooks/mlflow_hook.py#113\u001b\\\u001b[2m113\u001b[0m\u001b]8;;\u001b\\\n"
      ]
     },
     "metadata": {},
     "output_type": "display_data"
    },
    {
     "data": {
      "text/html": [
       "<pre style=\"white-space:pre;overflow-x:auto;line-height:normal;font-family:Menlo,'DejaVu Sans Mono',consolas,'Courier New',monospace\"><span style=\"color: #7fbfbf; text-decoration-color: #7fbfbf\">[06/03/24 20:34:28] </span><span style=\"color: #800000; text-decoration-color: #800000\">WARNING </span> A mlflow run was already active                                     <a href=\"file:///home/krzysiek/Development/solvency-modelling/venv/lib/python3.11/site-packages/kedro_mlflow/framework/hooks/mlflow_hook.py\" target=\"_blank\"><span style=\"color: #7f7f7f; text-decoration-color: #7f7f7f\">mlflow_hook.py</span></a><span style=\"color: #7f7f7f; text-decoration-color: #7f7f7f\">:</span><a href=\"file:///home/krzysiek/Development/solvency-modelling/venv/lib/python3.11/site-packages/kedro_mlflow/framework/hooks/mlflow_hook.py#243\" target=\"_blank\"><span style=\"color: #7f7f7f; text-decoration-color: #7f7f7f\">243</span></a>\n",
       "<span style=\"color: #7fbfbf; text-decoration-color: #7fbfbf\">                    </span>         <span style=\"font-weight: bold\">(</span><span style=\"color: #808000; text-decoration-color: #808000\">run_id</span>=<span style=\"color: #008000; text-decoration-color: #008000\">'ef29cc4c1ef141a2993c37c781ca9d82'</span><span style=\"font-weight: bold\">)</span> before the KedroSession <span style=\"color: #7f7f7f; text-decoration-color: #7f7f7f\">                  </span>\n",
       "<span style=\"color: #7fbfbf; text-decoration-color: #7fbfbf\">                    </span>         was started. This run will be used for logging.                     <span style=\"color: #7f7f7f; text-decoration-color: #7f7f7f\">                  </span>\n",
       "</pre>\n"
      ],
      "text/plain": [
       "\u001b[2;36m[06/03/24 20:34:28]\u001b[0m\u001b[2;36m \u001b[0m\u001b[31mWARNING \u001b[0m A mlflow run was already active                                     \u001b]8;id=972863;file:///home/krzysiek/Development/solvency-modelling/venv/lib/python3.11/site-packages/kedro_mlflow/framework/hooks/mlflow_hook.py\u001b\\\u001b[2mmlflow_hook.py\u001b[0m\u001b]8;;\u001b\\\u001b[2m:\u001b[0m\u001b]8;id=98652;file:///home/krzysiek/Development/solvency-modelling/venv/lib/python3.11/site-packages/kedro_mlflow/framework/hooks/mlflow_hook.py#243\u001b\\\u001b[2m243\u001b[0m\u001b]8;;\u001b\\\n",
       "\u001b[2;36m                    \u001b[0m         \u001b[1m(\u001b[0m\u001b[33mrun_id\u001b[0m=\u001b[32m'ef29cc4c1ef141a2993c37c781ca9d82'\u001b[0m\u001b[1m)\u001b[0m before the KedroSession \u001b[2m                  \u001b[0m\n",
       "\u001b[2;36m                    \u001b[0m         was started. This run will be used for logging.                     \u001b[2m                  \u001b[0m\n"
      ]
     },
     "metadata": {},
     "output_type": "display_data"
    },
    {
     "data": {
      "text/html": [
       "<pre style=\"white-space:pre;overflow-x:auto;line-height:normal;font-family:Menlo,'DejaVu Sans Mono',consolas,'Courier New',monospace\"><span style=\"color: #7fbfbf; text-decoration-color: #7fbfbf\">                    </span><span style=\"color: #000080; text-decoration-color: #000080\">INFO    </span> Using synchronous mode for loading and saving data. Use the    <a href=\"file:///home/krzysiek/Development/solvency-modelling/venv/lib/python3.11/site-packages/kedro/runner/sequential_runner.py\" target=\"_blank\"><span style=\"color: #7f7f7f; text-decoration-color: #7f7f7f\">sequential_runner.py</span></a><span style=\"color: #7f7f7f; text-decoration-color: #7f7f7f\">:</span><a href=\"file:///home/krzysiek/Development/solvency-modelling/venv/lib/python3.11/site-packages/kedro/runner/sequential_runner.py#64\" target=\"_blank\"><span style=\"color: #7f7f7f; text-decoration-color: #7f7f7f\">64</span></a>\n",
       "<span style=\"color: #7fbfbf; text-decoration-color: #7fbfbf\">                    </span>         --async flag for potential performance gains.                  <span style=\"color: #7f7f7f; text-decoration-color: #7f7f7f\">                       </span>\n",
       "<span style=\"color: #7fbfbf; text-decoration-color: #7fbfbf\">                    </span>         <span style=\"color: #0000ff; text-decoration-color: #0000ff; text-decoration: underline\">https://docs.kedro.org/en/stable/nodes_and_pipelines/run_a_pip</span> <span style=\"color: #7f7f7f; text-decoration-color: #7f7f7f\">                       </span>\n",
       "<span style=\"color: #7fbfbf; text-decoration-color: #7fbfbf\">                    </span>         <span style=\"color: #0000ff; text-decoration-color: #0000ff; text-decoration: underline\">eline.html#load-and-save-asynchronously</span>                        <span style=\"color: #7f7f7f; text-decoration-color: #7f7f7f\">                       </span>\n",
       "</pre>\n"
      ],
      "text/plain": [
       "\u001b[2;36m                   \u001b[0m\u001b[2;36m \u001b[0m\u001b[34mINFO    \u001b[0m Using synchronous mode for loading and saving data. Use the    \u001b]8;id=897754;file:///home/krzysiek/Development/solvency-modelling/venv/lib/python3.11/site-packages/kedro/runner/sequential_runner.py\u001b\\\u001b[2msequential_runner.py\u001b[0m\u001b]8;;\u001b\\\u001b[2m:\u001b[0m\u001b]8;id=972155;file:///home/krzysiek/Development/solvency-modelling/venv/lib/python3.11/site-packages/kedro/runner/sequential_runner.py#64\u001b\\\u001b[2m64\u001b[0m\u001b]8;;\u001b\\\n",
       "\u001b[2;36m                    \u001b[0m         --async flag for potential performance gains.                  \u001b[2m                       \u001b[0m\n",
       "\u001b[2;36m                    \u001b[0m         \u001b[4;94mhttps://docs.kedro.org/en/stable/nodes_and_pipelines/run_a_pip\u001b[0m \u001b[2m                       \u001b[0m\n",
       "\u001b[2;36m                    \u001b[0m         \u001b[4;94meline.html#load-and-save-asynchronously\u001b[0m                        \u001b[2m                       \u001b[0m\n"
      ]
     },
     "metadata": {},
     "output_type": "display_data"
    },
    {
     "data": {
      "text/html": [
       "<pre style=\"white-space:pre;overflow-x:auto;line-height:normal;font-family:Menlo,'DejaVu Sans Mono',consolas,'Courier New',monospace\"><span style=\"color: #7fbfbf; text-decoration-color: #7fbfbf\">                    </span><span style=\"color: #000080; text-decoration-color: #000080\">INFO    </span> Loading data from <span style=\"color: #ff8700; text-decoration-color: #ff8700\">parameters</span> <span style=\"font-weight: bold\">(</span>MemoryDataset<span style=\"font-weight: bold\">)</span><span style=\"color: #808000; text-decoration-color: #808000\">...</span>                    <a href=\"file:///home/krzysiek/Development/solvency-modelling/venv/lib/python3.11/site-packages/kedro/io/data_catalog.py\" target=\"_blank\"><span style=\"color: #7f7f7f; text-decoration-color: #7f7f7f\">data_catalog.py</span></a><span style=\"color: #7f7f7f; text-decoration-color: #7f7f7f\">:</span><a href=\"file:///home/krzysiek/Development/solvency-modelling/venv/lib/python3.11/site-packages/kedro/io/data_catalog.py#483\" target=\"_blank\"><span style=\"color: #7f7f7f; text-decoration-color: #7f7f7f\">483</span></a>\n",
       "</pre>\n"
      ],
      "text/plain": [
       "\u001b[2;36m                   \u001b[0m\u001b[2;36m \u001b[0m\u001b[34mINFO    \u001b[0m Loading data from \u001b[38;5;208mparameters\u001b[0m \u001b[1m(\u001b[0mMemoryDataset\u001b[1m)\u001b[0m\u001b[33m...\u001b[0m                    \u001b]8;id=694205;file:///home/krzysiek/Development/solvency-modelling/venv/lib/python3.11/site-packages/kedro/io/data_catalog.py\u001b\\\u001b[2mdata_catalog.py\u001b[0m\u001b]8;;\u001b\\\u001b[2m:\u001b[0m\u001b]8;id=894431;file:///home/krzysiek/Development/solvency-modelling/venv/lib/python3.11/site-packages/kedro/io/data_catalog.py#483\u001b\\\u001b[2m483\u001b[0m\u001b]8;;\u001b\\\n"
      ]
     },
     "metadata": {},
     "output_type": "display_data"
    },
    {
     "data": {
      "text/html": [
       "<pre style=\"white-space:pre;overflow-x:auto;line-height:normal;font-family:Menlo,'DejaVu Sans Mono',consolas,'Courier New',monospace\"><span style=\"color: #7fbfbf; text-decoration-color: #7fbfbf\">[06/03/24 20:34:29] </span><span style=\"color: #000080; text-decoration-color: #000080\">INFO    </span> Running node: process_parameters: <span style=\"color: #800080; text-decoration-color: #800080; font-weight: bold\">process_parameters</span><span style=\"font-weight: bold\">([</span>parameters<span style=\"font-weight: bold\">])</span> -&gt;      <a href=\"file:///home/krzysiek/Development/solvency-modelling/venv/lib/python3.11/site-packages/kedro/pipeline/node.py\" target=\"_blank\"><span style=\"color: #7f7f7f; text-decoration-color: #7f7f7f\">node.py</span></a><span style=\"color: #7f7f7f; text-decoration-color: #7f7f7f\">:</span><a href=\"file:///home/krzysiek/Development/solvency-modelling/venv/lib/python3.11/site-packages/kedro/pipeline/node.py#340\" target=\"_blank\"><span style=\"color: #7f7f7f; text-decoration-color: #7f7f7f\">340</span></a>\n",
       "<span style=\"color: #7fbfbf; text-decoration-color: #7fbfbf\">                    </span>         <span style=\"font-weight: bold\">[</span>config<span style=\"font-weight: bold\">]</span>                                                                   <span style=\"color: #7f7f7f; text-decoration-color: #7f7f7f\">           </span>\n",
       "</pre>\n"
      ],
      "text/plain": [
       "\u001b[2;36m[06/03/24 20:34:29]\u001b[0m\u001b[2;36m \u001b[0m\u001b[34mINFO    \u001b[0m Running node: process_parameters: \u001b[1;35mprocess_parameters\u001b[0m\u001b[1m(\u001b[0m\u001b[1m[\u001b[0mparameters\u001b[1m]\u001b[0m\u001b[1m)\u001b[0m ->      \u001b]8;id=219617;file:///home/krzysiek/Development/solvency-modelling/venv/lib/python3.11/site-packages/kedro/pipeline/node.py\u001b\\\u001b[2mnode.py\u001b[0m\u001b]8;;\u001b\\\u001b[2m:\u001b[0m\u001b]8;id=826980;file:///home/krzysiek/Development/solvency-modelling/venv/lib/python3.11/site-packages/kedro/pipeline/node.py#340\u001b\\\u001b[2m340\u001b[0m\u001b]8;;\u001b\\\n",
       "\u001b[2;36m                    \u001b[0m         \u001b[1m[\u001b[0mconfig\u001b[1m]\u001b[0m                                                                   \u001b[2m           \u001b[0m\n"
      ]
     },
     "metadata": {},
     "output_type": "display_data"
    },
    {
     "data": {
      "text/html": [
       "<pre style=\"white-space:pre;overflow-x:auto;line-height:normal;font-family:Menlo,'DejaVu Sans Mono',consolas,'Courier New',monospace\"><span style=\"color: #7fbfbf; text-decoration-color: #7fbfbf\">                    </span><span style=\"color: #000080; text-decoration-color: #000080\">INFO    </span> Saving parameters.yml to MLFlow as an artifact<span style=\"color: #808000; text-decoration-color: #808000\">...</span>                          <a href=\"file:///home/krzysiek/Development/solvency-modelling/solvency_models/src/solvency_models/pipelines/p01_init/nodes.py\" target=\"_blank\"><span style=\"color: #7f7f7f; text-decoration-color: #7f7f7f\">nodes.py</span></a><span style=\"color: #7f7f7f; text-decoration-color: #7f7f7f\">:</span><a href=\"file:///home/krzysiek/Development/solvency-modelling/solvency_models/src/solvency_models/pipelines/p01_init/nodes.py#13\" target=\"_blank\"><span style=\"color: #7f7f7f; text-decoration-color: #7f7f7f\">13</span></a>\n",
       "</pre>\n"
      ],
      "text/plain": [
       "\u001b[2;36m                   \u001b[0m\u001b[2;36m \u001b[0m\u001b[34mINFO    \u001b[0m Saving parameters.yml to MLFlow as an artifact\u001b[33m...\u001b[0m                          \u001b]8;id=871310;file:///home/krzysiek/Development/solvency-modelling/solvency_models/src/solvency_models/pipelines/p01_init/nodes.py\u001b\\\u001b[2mnodes.py\u001b[0m\u001b]8;;\u001b\\\u001b[2m:\u001b[0m\u001b]8;id=909015;file:///home/krzysiek/Development/solvency-modelling/solvency_models/src/solvency_models/pipelines/p01_init/nodes.py#13\u001b\\\u001b[2m13\u001b[0m\u001b]8;;\u001b\\\n"
      ]
     },
     "metadata": {},
     "output_type": "display_data"
    },
    {
     "data": {
      "text/html": [
       "<pre style=\"white-space:pre;overflow-x:auto;line-height:normal;font-family:Menlo,'DejaVu Sans Mono',consolas,'Courier New',monospace\"><span style=\"color: #7fbfbf; text-decoration-color: #7fbfbf\">                    </span><span style=\"color: #000080; text-decoration-color: #000080\">INFO    </span> Saved parameters.yml to MLFlow as an artifact.                             <a href=\"file:///home/krzysiek/Development/solvency-modelling/solvency_models/src/solvency_models/pipelines/p01_init/nodes.py\" target=\"_blank\"><span style=\"color: #7f7f7f; text-decoration-color: #7f7f7f\">nodes.py</span></a><span style=\"color: #7f7f7f; text-decoration-color: #7f7f7f\">:</span><a href=\"file:///home/krzysiek/Development/solvency-modelling/solvency_models/src/solvency_models/pipelines/p01_init/nodes.py#15\" target=\"_blank\"><span style=\"color: #7f7f7f; text-decoration-color: #7f7f7f\">15</span></a>\n",
       "</pre>\n"
      ],
      "text/plain": [
       "\u001b[2;36m                   \u001b[0m\u001b[2;36m \u001b[0m\u001b[34mINFO    \u001b[0m Saved parameters.yml to MLFlow as an artifact.                             \u001b]8;id=698973;file:///home/krzysiek/Development/solvency-modelling/solvency_models/src/solvency_models/pipelines/p01_init/nodes.py\u001b\\\u001b[2mnodes.py\u001b[0m\u001b]8;;\u001b\\\u001b[2m:\u001b[0m\u001b]8;id=504839;file:///home/krzysiek/Development/solvency-modelling/solvency_models/src/solvency_models/pipelines/p01_init/nodes.py#15\u001b\\\u001b[2m15\u001b[0m\u001b]8;;\u001b\\\n"
      ]
     },
     "metadata": {},
     "output_type": "display_data"
    },
    {
     "data": {
      "text/html": [
       "<pre style=\"white-space:pre;overflow-x:auto;line-height:normal;font-family:Menlo,'DejaVu Sans Mono',consolas,'Courier New',monospace\"><span style=\"color: #7fbfbf; text-decoration-color: #7fbfbf\">                    </span><span style=\"color: #000080; text-decoration-color: #000080\">INFO    </span> Processing parameters<span style=\"color: #808000; text-decoration-color: #808000\">...</span>                                                   <a href=\"file:///home/krzysiek/Development/solvency-modelling/solvency_models/src/solvency_models/pipelines/p01_init/nodes.py\" target=\"_blank\"><span style=\"color: #7f7f7f; text-decoration-color: #7f7f7f\">nodes.py</span></a><span style=\"color: #7f7f7f; text-decoration-color: #7f7f7f\">:</span><a href=\"file:///home/krzysiek/Development/solvency-modelling/solvency_models/src/solvency_models/pipelines/p01_init/nodes.py#17\" target=\"_blank\"><span style=\"color: #7f7f7f; text-decoration-color: #7f7f7f\">17</span></a>\n",
       "</pre>\n"
      ],
      "text/plain": [
       "\u001b[2;36m                   \u001b[0m\u001b[2;36m \u001b[0m\u001b[34mINFO    \u001b[0m Processing parameters\u001b[33m...\u001b[0m                                                   \u001b]8;id=220022;file:///home/krzysiek/Development/solvency-modelling/solvency_models/src/solvency_models/pipelines/p01_init/nodes.py\u001b\\\u001b[2mnodes.py\u001b[0m\u001b]8;;\u001b\\\u001b[2m:\u001b[0m\u001b]8;id=390609;file:///home/krzysiek/Development/solvency-modelling/solvency_models/src/solvency_models/pipelines/p01_init/nodes.py#17\u001b\\\u001b[2m17\u001b[0m\u001b]8;;\u001b\\\n"
      ]
     },
     "metadata": {},
     "output_type": "display_data"
    },
    {
     "data": {
      "text/html": [
       "<pre style=\"white-space:pre;overflow-x:auto;line-height:normal;font-family:Menlo,'DejaVu Sans Mono',consolas,'Courier New',monospace\"><span style=\"color: #7fbfbf; text-decoration-color: #7fbfbf\">                    </span><span style=\"color: #000080; text-decoration-color: #000080\">INFO    </span> Processed. Created config classes.                                         <a href=\"file:///home/krzysiek/Development/solvency-modelling/solvency_models/src/solvency_models/pipelines/p01_init/nodes.py\" target=\"_blank\"><span style=\"color: #7f7f7f; text-decoration-color: #7f7f7f\">nodes.py</span></a><span style=\"color: #7f7f7f; text-decoration-color: #7f7f7f\">:</span><a href=\"file:///home/krzysiek/Development/solvency-modelling/solvency_models/src/solvency_models/pipelines/p01_init/nodes.py#19\" target=\"_blank\"><span style=\"color: #7f7f7f; text-decoration-color: #7f7f7f\">19</span></a>\n",
       "</pre>\n"
      ],
      "text/plain": [
       "\u001b[2;36m                   \u001b[0m\u001b[2;36m \u001b[0m\u001b[34mINFO    \u001b[0m Processed. Created config classes.                                         \u001b]8;id=369628;file:///home/krzysiek/Development/solvency-modelling/solvency_models/src/solvency_models/pipelines/p01_init/nodes.py\u001b\\\u001b[2mnodes.py\u001b[0m\u001b]8;;\u001b\\\u001b[2m:\u001b[0m\u001b]8;id=929144;file:///home/krzysiek/Development/solvency-modelling/solvency_models/src/solvency_models/pipelines/p01_init/nodes.py#19\u001b\\\u001b[2m19\u001b[0m\u001b]8;;\u001b\\\n"
      ]
     },
     "metadata": {},
     "output_type": "display_data"
    },
    {
     "data": {
      "text/html": [
       "<pre style=\"white-space:pre;overflow-x:auto;line-height:normal;font-family:Menlo,'DejaVu Sans Mono',consolas,'Courier New',monospace\"><span style=\"color: #7fbfbf; text-decoration-color: #7fbfbf\">                    </span><span style=\"color: #000080; text-decoration-color: #000080\">INFO    </span> Saving config to MLFlow<span style=\"color: #808000; text-decoration-color: #808000\">...</span>                                                 <a href=\"file:///home/krzysiek/Development/solvency-modelling/solvency_models/src/solvency_models/pipelines/p01_init/nodes.py\" target=\"_blank\"><span style=\"color: #7f7f7f; text-decoration-color: #7f7f7f\">nodes.py</span></a><span style=\"color: #7f7f7f; text-decoration-color: #7f7f7f\">:</span><a href=\"file:///home/krzysiek/Development/solvency-modelling/solvency_models/src/solvency_models/pipelines/p01_init/nodes.py#20\" target=\"_blank\"><span style=\"color: #7f7f7f; text-decoration-color: #7f7f7f\">20</span></a>\n",
       "</pre>\n"
      ],
      "text/plain": [
       "\u001b[2;36m                   \u001b[0m\u001b[2;36m \u001b[0m\u001b[34mINFO    \u001b[0m Saving config to MLFlow\u001b[33m...\u001b[0m                                                 \u001b]8;id=936975;file:///home/krzysiek/Development/solvency-modelling/solvency_models/src/solvency_models/pipelines/p01_init/nodes.py\u001b\\\u001b[2mnodes.py\u001b[0m\u001b]8;;\u001b\\\u001b[2m:\u001b[0m\u001b]8;id=835922;file:///home/krzysiek/Development/solvency-modelling/solvency_models/src/solvency_models/pipelines/p01_init/nodes.py#20\u001b\\\u001b[2m20\u001b[0m\u001b]8;;\u001b\\\n"
      ]
     },
     "metadata": {},
     "output_type": "display_data"
    },
    {
     "data": {
      "text/html": [
       "<pre style=\"white-space:pre;overflow-x:auto;line-height:normal;font-family:Menlo,'DejaVu Sans Mono',consolas,'Courier New',monospace\"><span style=\"color: #7fbfbf; text-decoration-color: #7fbfbf\">                    </span><span style=\"color: #000080; text-decoration-color: #000080\">INFO    </span> Saved config to MLFlow.                                                    <a href=\"file:///home/krzysiek/Development/solvency-modelling/solvency_models/src/solvency_models/pipelines/p01_init/nodes.py\" target=\"_blank\"><span style=\"color: #7f7f7f; text-decoration-color: #7f7f7f\">nodes.py</span></a><span style=\"color: #7f7f7f; text-decoration-color: #7f7f7f\">:</span><a href=\"file:///home/krzysiek/Development/solvency-modelling/solvency_models/src/solvency_models/pipelines/p01_init/nodes.py#22\" target=\"_blank\"><span style=\"color: #7f7f7f; text-decoration-color: #7f7f7f\">22</span></a>\n",
       "</pre>\n"
      ],
      "text/plain": [
       "\u001b[2;36m                   \u001b[0m\u001b[2;36m \u001b[0m\u001b[34mINFO    \u001b[0m Saved config to MLFlow.                                                    \u001b]8;id=251757;file:///home/krzysiek/Development/solvency-modelling/solvency_models/src/solvency_models/pipelines/p01_init/nodes.py\u001b\\\u001b[2mnodes.py\u001b[0m\u001b]8;;\u001b\\\u001b[2m:\u001b[0m\u001b]8;id=84294;file:///home/krzysiek/Development/solvency-modelling/solvency_models/src/solvency_models/pipelines/p01_init/nodes.py#22\u001b\\\u001b[2m22\u001b[0m\u001b]8;;\u001b\\\n"
      ]
     },
     "metadata": {},
     "output_type": "display_data"
    },
    {
     "data": {
      "text/html": [
       "<pre style=\"white-space:pre;overflow-x:auto;line-height:normal;font-family:Menlo,'DejaVu Sans Mono',consolas,'Courier New',monospace\"><span style=\"color: #7fbfbf; text-decoration-color: #7fbfbf\">                    </span><span style=\"color: #000080; text-decoration-color: #000080\">INFO    </span> Saving data to <span style=\"color: #ff8700; text-decoration-color: #ff8700\">config</span> <span style=\"font-weight: bold\">(</span>MemoryDataset<span style=\"font-weight: bold\">)</span><span style=\"color: #808000; text-decoration-color: #808000\">...</span>                           <a href=\"file:///home/krzysiek/Development/solvency-modelling/venv/lib/python3.11/site-packages/kedro/io/data_catalog.py\" target=\"_blank\"><span style=\"color: #7f7f7f; text-decoration-color: #7f7f7f\">data_catalog.py</span></a><span style=\"color: #7f7f7f; text-decoration-color: #7f7f7f\">:</span><a href=\"file:///home/krzysiek/Development/solvency-modelling/venv/lib/python3.11/site-packages/kedro/io/data_catalog.py#525\" target=\"_blank\"><span style=\"color: #7f7f7f; text-decoration-color: #7f7f7f\">525</span></a>\n",
       "</pre>\n"
      ],
      "text/plain": [
       "\u001b[2;36m                   \u001b[0m\u001b[2;36m \u001b[0m\u001b[34mINFO    \u001b[0m Saving data to \u001b[38;5;208mconfig\u001b[0m \u001b[1m(\u001b[0mMemoryDataset\u001b[1m)\u001b[0m\u001b[33m...\u001b[0m                           \u001b]8;id=433196;file:///home/krzysiek/Development/solvency-modelling/venv/lib/python3.11/site-packages/kedro/io/data_catalog.py\u001b\\\u001b[2mdata_catalog.py\u001b[0m\u001b]8;;\u001b\\\u001b[2m:\u001b[0m\u001b]8;id=628970;file:///home/krzysiek/Development/solvency-modelling/venv/lib/python3.11/site-packages/kedro/io/data_catalog.py#525\u001b\\\u001b[2m525\u001b[0m\u001b]8;;\u001b\\\n"
      ]
     },
     "metadata": {},
     "output_type": "display_data"
    },
    {
     "data": {
      "text/html": [
       "<pre style=\"white-space:pre;overflow-x:auto;line-height:normal;font-family:Menlo,'DejaVu Sans Mono',consolas,'Courier New',monospace\"><span style=\"color: #7fbfbf; text-decoration-color: #7fbfbf\">                    </span><span style=\"color: #000080; text-decoration-color: #000080\">INFO    </span> Completed <span style=\"color: #008080; text-decoration-color: #008080; font-weight: bold\">1</span> out of <span style=\"color: #008080; text-decoration-color: #008080; font-weight: bold\">4</span> tasks                                     <a href=\"file:///home/krzysiek/Development/solvency-modelling/venv/lib/python3.11/site-packages/kedro/runner/sequential_runner.py\" target=\"_blank\"><span style=\"color: #7f7f7f; text-decoration-color: #7f7f7f\">sequential_runner.py</span></a><span style=\"color: #7f7f7f; text-decoration-color: #7f7f7f\">:</span><a href=\"file:///home/krzysiek/Development/solvency-modelling/venv/lib/python3.11/site-packages/kedro/runner/sequential_runner.py#90\" target=\"_blank\"><span style=\"color: #7f7f7f; text-decoration-color: #7f7f7f\">90</span></a>\n",
       "</pre>\n"
      ],
      "text/plain": [
       "\u001b[2;36m                   \u001b[0m\u001b[2;36m \u001b[0m\u001b[34mINFO    \u001b[0m Completed \u001b[1;36m1\u001b[0m out of \u001b[1;36m4\u001b[0m tasks                                     \u001b]8;id=252811;file:///home/krzysiek/Development/solvency-modelling/venv/lib/python3.11/site-packages/kedro/runner/sequential_runner.py\u001b\\\u001b[2msequential_runner.py\u001b[0m\u001b]8;;\u001b\\\u001b[2m:\u001b[0m\u001b]8;id=913549;file:///home/krzysiek/Development/solvency-modelling/venv/lib/python3.11/site-packages/kedro/runner/sequential_runner.py#90\u001b\\\u001b[2m90\u001b[0m\u001b]8;;\u001b\\\n"
      ]
     },
     "metadata": {},
     "output_type": "display_data"
    },
    {
     "data": {
      "text/html": [
       "<pre style=\"white-space:pre;overflow-x:auto;line-height:normal;font-family:Menlo,'DejaVu Sans Mono',consolas,'Courier New',monospace\"><span style=\"color: #7fbfbf; text-decoration-color: #7fbfbf\">                    </span><span style=\"color: #000080; text-decoration-color: #000080\">INFO    </span> Loading data from <span style=\"color: #ff8700; text-decoration-color: #ff8700\">config</span> <span style=\"font-weight: bold\">(</span>MemoryDataset<span style=\"font-weight: bold\">)</span><span style=\"color: #808000; text-decoration-color: #808000\">...</span>                        <a href=\"file:///home/krzysiek/Development/solvency-modelling/venv/lib/python3.11/site-packages/kedro/io/data_catalog.py\" target=\"_blank\"><span style=\"color: #7f7f7f; text-decoration-color: #7f7f7f\">data_catalog.py</span></a><span style=\"color: #7f7f7f; text-decoration-color: #7f7f7f\">:</span><a href=\"file:///home/krzysiek/Development/solvency-modelling/venv/lib/python3.11/site-packages/kedro/io/data_catalog.py#483\" target=\"_blank\"><span style=\"color: #7f7f7f; text-decoration-color: #7f7f7f\">483</span></a>\n",
       "</pre>\n"
      ],
      "text/plain": [
       "\u001b[2;36m                   \u001b[0m\u001b[2;36m \u001b[0m\u001b[34mINFO    \u001b[0m Loading data from \u001b[38;5;208mconfig\u001b[0m \u001b[1m(\u001b[0mMemoryDataset\u001b[1m)\u001b[0m\u001b[33m...\u001b[0m                        \u001b]8;id=86242;file:///home/krzysiek/Development/solvency-modelling/venv/lib/python3.11/site-packages/kedro/io/data_catalog.py\u001b\\\u001b[2mdata_catalog.py\u001b[0m\u001b]8;;\u001b\\\u001b[2m:\u001b[0m\u001b]8;id=592123;file:///home/krzysiek/Development/solvency-modelling/venv/lib/python3.11/site-packages/kedro/io/data_catalog.py#483\u001b\\\u001b[2m483\u001b[0m\u001b]8;;\u001b\\\n"
      ]
     },
     "metadata": {},
     "output_type": "display_data"
    },
    {
     "data": {
      "text/html": [
       "<pre style=\"white-space:pre;overflow-x:auto;line-height:normal;font-family:Menlo,'DejaVu Sans Mono',consolas,'Courier New',monospace\"><span style=\"color: #7fbfbf; text-decoration-color: #7fbfbf\">                    </span><span style=\"color: #000080; text-decoration-color: #000080\">INFO    </span> Loading data from <span style=\"color: #ff8700; text-decoration-color: #ff8700\">sample_features_df</span> <span style=\"font-weight: bold\">(</span>ParquetDataset<span style=\"font-weight: bold\">)</span><span style=\"color: #808000; text-decoration-color: #808000\">...</span>           <a href=\"file:///home/krzysiek/Development/solvency-modelling/venv/lib/python3.11/site-packages/kedro/io/data_catalog.py\" target=\"_blank\"><span style=\"color: #7f7f7f; text-decoration-color: #7f7f7f\">data_catalog.py</span></a><span style=\"color: #7f7f7f; text-decoration-color: #7f7f7f\">:</span><a href=\"file:///home/krzysiek/Development/solvency-modelling/venv/lib/python3.11/site-packages/kedro/io/data_catalog.py#483\" target=\"_blank\"><span style=\"color: #7f7f7f; text-decoration-color: #7f7f7f\">483</span></a>\n",
       "</pre>\n"
      ],
      "text/plain": [
       "\u001b[2;36m                   \u001b[0m\u001b[2;36m \u001b[0m\u001b[34mINFO    \u001b[0m Loading data from \u001b[38;5;208msample_features_df\u001b[0m \u001b[1m(\u001b[0mParquetDataset\u001b[1m)\u001b[0m\u001b[33m...\u001b[0m           \u001b]8;id=177538;file:///home/krzysiek/Development/solvency-modelling/venv/lib/python3.11/site-packages/kedro/io/data_catalog.py\u001b\\\u001b[2mdata_catalog.py\u001b[0m\u001b]8;;\u001b\\\u001b[2m:\u001b[0m\u001b]8;id=57764;file:///home/krzysiek/Development/solvency-modelling/venv/lib/python3.11/site-packages/kedro/io/data_catalog.py#483\u001b\\\u001b[2m483\u001b[0m\u001b]8;;\u001b\\\n"
      ]
     },
     "metadata": {},
     "output_type": "display_data"
    },
    {
     "data": {
      "text/html": [
       "<pre style=\"white-space:pre;overflow-x:auto;line-height:normal;font-family:Menlo,'DejaVu Sans Mono',consolas,'Courier New',monospace\"><span style=\"color: #7fbfbf; text-decoration-color: #7fbfbf\">                    </span><span style=\"color: #000080; text-decoration-color: #000080\">INFO    </span> Running node: transform_features:                                          <a href=\"file:///home/krzysiek/Development/solvency-modelling/venv/lib/python3.11/site-packages/kedro/pipeline/node.py\" target=\"_blank\"><span style=\"color: #7f7f7f; text-decoration-color: #7f7f7f\">node.py</span></a><span style=\"color: #7f7f7f; text-decoration-color: #7f7f7f\">:</span><a href=\"file:///home/krzysiek/Development/solvency-modelling/venv/lib/python3.11/site-packages/kedro/pipeline/node.py#340\" target=\"_blank\"><span style=\"color: #7f7f7f; text-decoration-color: #7f7f7f\">340</span></a>\n",
       "<span style=\"color: #7fbfbf; text-decoration-color: #7fbfbf\">                    </span>         <span style=\"color: #800080; text-decoration-color: #800080; font-weight: bold\">transform_features</span><span style=\"font-weight: bold\">([</span>config;sample_features_df<span style=\"font-weight: bold\">])</span> -&gt;                         <span style=\"color: #7f7f7f; text-decoration-color: #7f7f7f\">           </span>\n",
       "<span style=\"color: #7fbfbf; text-decoration-color: #7fbfbf\">                    </span>         <span style=\"font-weight: bold\">[</span>transformed_sample_features_df<span style=\"font-weight: bold\">]</span>                                           <span style=\"color: #7f7f7f; text-decoration-color: #7f7f7f\">           </span>\n",
       "</pre>\n"
      ],
      "text/plain": [
       "\u001b[2;36m                   \u001b[0m\u001b[2;36m \u001b[0m\u001b[34mINFO    \u001b[0m Running node: transform_features:                                          \u001b]8;id=432534;file:///home/krzysiek/Development/solvency-modelling/venv/lib/python3.11/site-packages/kedro/pipeline/node.py\u001b\\\u001b[2mnode.py\u001b[0m\u001b]8;;\u001b\\\u001b[2m:\u001b[0m\u001b]8;id=698645;file:///home/krzysiek/Development/solvency-modelling/venv/lib/python3.11/site-packages/kedro/pipeline/node.py#340\u001b\\\u001b[2m340\u001b[0m\u001b]8;;\u001b\\\n",
       "\u001b[2;36m                    \u001b[0m         \u001b[1;35mtransform_features\u001b[0m\u001b[1m(\u001b[0m\u001b[1m[\u001b[0mconfig;sample_features_df\u001b[1m]\u001b[0m\u001b[1m)\u001b[0m ->                         \u001b[2m           \u001b[0m\n",
       "\u001b[2;36m                    \u001b[0m         \u001b[1m[\u001b[0mtransformed_sample_features_df\u001b[1m]\u001b[0m                                           \u001b[2m           \u001b[0m\n"
      ]
     },
     "metadata": {},
     "output_type": "display_data"
    },
    {
     "data": {
      "text/html": [
       "<pre style=\"white-space:pre;overflow-x:auto;line-height:normal;font-family:Menlo,'DejaVu Sans Mono',consolas,'Courier New',monospace\"><span style=\"color: #7fbfbf; text-decoration-color: #7fbfbf\">                    </span><span style=\"color: #000080; text-decoration-color: #000080\">INFO    </span> Fitting a custom feature creator<span style=\"color: #808000; text-decoration-color: #808000\">...</span>                              <a href=\"file:///home/krzysiek/Development/solvency-modelling/solvency_models/src/solvency_models/pipelines/p06_data_engineering/utils/custom_features.py\" target=\"_blank\"><span style=\"color: #7f7f7f; text-decoration-color: #7f7f7f\">custom_features.py</span></a><span style=\"color: #7f7f7f; text-decoration-color: #7f7f7f\">:</span><a href=\"file:///home/krzysiek/Development/solvency-modelling/solvency_models/src/solvency_models/pipelines/p06_data_engineering/utils/custom_features.py#69\" target=\"_blank\"><span style=\"color: #7f7f7f; text-decoration-color: #7f7f7f\">69</span></a>\n",
       "</pre>\n"
      ],
      "text/plain": [
       "\u001b[2;36m                   \u001b[0m\u001b[2;36m \u001b[0m\u001b[34mINFO    \u001b[0m Fitting a custom feature creator\u001b[33m...\u001b[0m                              \u001b]8;id=837101;file:///home/krzysiek/Development/solvency-modelling/solvency_models/src/solvency_models/pipelines/p06_data_engineering/utils/custom_features.py\u001b\\\u001b[2mcustom_features.py\u001b[0m\u001b]8;;\u001b\\\u001b[2m:\u001b[0m\u001b]8;id=340122;file:///home/krzysiek/Development/solvency-modelling/solvency_models/src/solvency_models/pipelines/p06_data_engineering/utils/custom_features.py#69\u001b\\\u001b[2m69\u001b[0m\u001b]8;;\u001b\\\n"
      ]
     },
     "metadata": {},
     "output_type": "display_data"
    },
    {
     "data": {
      "text/html": [
       "<pre style=\"white-space:pre;overflow-x:auto;line-height:normal;font-family:Menlo,'DejaVu Sans Mono',consolas,'Courier New',monospace\"><span style=\"color: #7fbfbf; text-decoration-color: #7fbfbf\">                    </span><span style=\"color: #000080; text-decoration-color: #000080\">INFO    </span> Fitted the creator.                                              <a href=\"file:///home/krzysiek/Development/solvency-modelling/solvency_models/src/solvency_models/pipelines/p06_data_engineering/utils/custom_features.py\" target=\"_blank\"><span style=\"color: #7f7f7f; text-decoration-color: #7f7f7f\">custom_features.py</span></a><span style=\"color: #7f7f7f; text-decoration-color: #7f7f7f\">:</span><a href=\"file:///home/krzysiek/Development/solvency-modelling/solvency_models/src/solvency_models/pipelines/p06_data_engineering/utils/custom_features.py#72\" target=\"_blank\"><span style=\"color: #7f7f7f; text-decoration-color: #7f7f7f\">72</span></a>\n",
       "</pre>\n"
      ],
      "text/plain": [
       "\u001b[2;36m                   \u001b[0m\u001b[2;36m \u001b[0m\u001b[34mINFO    \u001b[0m Fitted the creator.                                              \u001b]8;id=598801;file:///home/krzysiek/Development/solvency-modelling/solvency_models/src/solvency_models/pipelines/p06_data_engineering/utils/custom_features.py\u001b\\\u001b[2mcustom_features.py\u001b[0m\u001b]8;;\u001b\\\u001b[2m:\u001b[0m\u001b]8;id=236223;file:///home/krzysiek/Development/solvency-modelling/solvency_models/src/solvency_models/pipelines/p06_data_engineering/utils/custom_features.py#72\u001b\\\u001b[2m72\u001b[0m\u001b]8;;\u001b\\\n"
      ]
     },
     "metadata": {},
     "output_type": "display_data"
    },
    {
     "data": {
      "text/html": [
       "<pre style=\"white-space:pre;overflow-x:auto;line-height:normal;font-family:Menlo,'DejaVu Sans Mono',consolas,'Courier New',monospace\"><span style=\"color: #7fbfbf; text-decoration-color: #7fbfbf\">                    </span><span style=\"color: #000080; text-decoration-color: #000080\">INFO    </span> Saving the custom features creator of type <span style=\"font-weight: bold\">&lt;</span><span style=\"color: #ff00ff; text-decoration-color: #ff00ff; font-weight: bold\">class</span><span style=\"color: #000000; text-decoration-color: #000000\"> </span>                  <a href=\"file:///home/krzysiek/Development/solvency-modelling/solvency_models/src/solvency_models/pipelines/utils/mlflow_model.py\" target=\"_blank\"><span style=\"color: #7f7f7f; text-decoration-color: #7f7f7f\">mlflow_model.py</span></a><span style=\"color: #7f7f7f; text-decoration-color: #7f7f7f\">:</span><a href=\"file:///home/krzysiek/Development/solvency-modelling/solvency_models/src/solvency_models/pipelines/utils/mlflow_model.py#40\" target=\"_blank\"><span style=\"color: #7f7f7f; text-decoration-color: #7f7f7f\">40</span></a>\n",
       "<span style=\"color: #7fbfbf; text-decoration-color: #7fbfbf\">                    </span>         <span style=\"color: #008000; text-decoration-color: #008000\">'solvency_models.pipelines.p06_data_engineering.utils.custom_featur</span> <span style=\"color: #7f7f7f; text-decoration-color: #7f7f7f\">                  </span>\n",
       "<span style=\"color: #7fbfbf; text-decoration-color: #7fbfbf\">                    </span>         <span style=\"color: #008000; text-decoration-color: #008000\">es.AllCustomFeaturesCreatorModel'</span><span style=\"font-weight: bold\">&gt;</span> to MLFlow path                   <span style=\"color: #7f7f7f; text-decoration-color: #7f7f7f\">                  </span>\n",
       "<span style=\"color: #7fbfbf; text-decoration-color: #7fbfbf\">                    </span>         model_de/custom_features_creator<span style=\"color: #808000; text-decoration-color: #808000\">...</span>                                 <span style=\"color: #7f7f7f; text-decoration-color: #7f7f7f\">                  </span>\n",
       "</pre>\n"
      ],
      "text/plain": [
       "\u001b[2;36m                   \u001b[0m\u001b[2;36m \u001b[0m\u001b[34mINFO    \u001b[0m Saving the custom features creator of type \u001b[1m<\u001b[0m\u001b[1;95mclass\u001b[0m\u001b[39m \u001b[0m                  \u001b]8;id=100466;file:///home/krzysiek/Development/solvency-modelling/solvency_models/src/solvency_models/pipelines/utils/mlflow_model.py\u001b\\\u001b[2mmlflow_model.py\u001b[0m\u001b]8;;\u001b\\\u001b[2m:\u001b[0m\u001b]8;id=517175;file:///home/krzysiek/Development/solvency-modelling/solvency_models/src/solvency_models/pipelines/utils/mlflow_model.py#40\u001b\\\u001b[2m40\u001b[0m\u001b]8;;\u001b\\\n",
       "\u001b[2;36m                    \u001b[0m         \u001b[32m'solvency_models.pipelines.p06_data_engineering.utils.custom_featur\u001b[0m \u001b[2m                  \u001b[0m\n",
       "\u001b[2;36m                    \u001b[0m         \u001b[32mes.AllCustomFeaturesCreatorModel'\u001b[0m\u001b[1m>\u001b[0m to MLFlow path                   \u001b[2m                  \u001b[0m\n",
       "\u001b[2;36m                    \u001b[0m         model_de/custom_features_creator\u001b[33m...\u001b[0m                                 \u001b[2m                  \u001b[0m\n"
      ]
     },
     "metadata": {},
     "output_type": "display_data"
    },
    {
     "name": "stderr",
     "output_type": "stream",
     "text": [
      "2024/06/03 20:34:34 WARNING mlflow.utils.requirements_utils: The following packages were not found in the public PyPI package index as of 2024-02-29; if these packages are not present in the public PyPI index, you must install them manually before loading your model: {'solvency-models'}\n"
     ]
    },
    {
     "data": {
      "text/html": [
       "<pre style=\"white-space:pre;overflow-x:auto;line-height:normal;font-family:Menlo,'DejaVu Sans Mono',consolas,'Courier New',monospace\"><span style=\"color: #7fbfbf; text-decoration-color: #7fbfbf\">[06/03/24 20:34:34] </span><span style=\"color: #000080; text-decoration-color: #000080\">INFO    </span> Successfully saved the custom features creator in                   <a href=\"file:///home/krzysiek/Development/solvency-modelling/solvency_models/src/solvency_models/pipelines/utils/mlflow_model.py\" target=\"_blank\"><span style=\"color: #7f7f7f; text-decoration-color: #7f7f7f\">mlflow_model.py</span></a><span style=\"color: #7f7f7f; text-decoration-color: #7f7f7f\">:</span><a href=\"file:///home/krzysiek/Development/solvency-modelling/solvency_models/src/solvency_models/pipelines/utils/mlflow_model.py#42\" target=\"_blank\"><span style=\"color: #7f7f7f; text-decoration-color: #7f7f7f\">42</span></a>\n",
       "<span style=\"color: #7fbfbf; text-decoration-color: #7fbfbf\">                    </span>         model_de/custom_features_creator.                                   <span style=\"color: #7f7f7f; text-decoration-color: #7f7f7f\">                  </span>\n",
       "</pre>\n"
      ],
      "text/plain": [
       "\u001b[2;36m[06/03/24 20:34:34]\u001b[0m\u001b[2;36m \u001b[0m\u001b[34mINFO    \u001b[0m Successfully saved the custom features creator in                   \u001b]8;id=664339;file:///home/krzysiek/Development/solvency-modelling/solvency_models/src/solvency_models/pipelines/utils/mlflow_model.py\u001b\\\u001b[2mmlflow_model.py\u001b[0m\u001b]8;;\u001b\\\u001b[2m:\u001b[0m\u001b]8;id=253800;file:///home/krzysiek/Development/solvency-modelling/solvency_models/src/solvency_models/pipelines/utils/mlflow_model.py#42\u001b\\\u001b[2m42\u001b[0m\u001b]8;;\u001b\\\n",
       "\u001b[2;36m                    \u001b[0m         model_de/custom_features_creator.                                   \u001b[2m                  \u001b[0m\n"
      ]
     },
     "metadata": {},
     "output_type": "display_data"
    },
    {
     "data": {
      "text/html": [
       "<pre style=\"white-space:pre;overflow-x:auto;line-height:normal;font-family:Menlo,'DejaVu Sans Mono',consolas,'Courier New',monospace\"><span style=\"color: #7fbfbf; text-decoration-color: #7fbfbf\">                    </span><span style=\"color: #000080; text-decoration-color: #000080\">INFO    </span> Creating the custom features<span style=\"color: #808000; text-decoration-color: #808000\">...</span>                                  <a href=\"file:///home/krzysiek/Development/solvency-modelling/solvency_models/src/solvency_models/pipelines/p06_data_engineering/utils/custom_features.py\" target=\"_blank\"><span style=\"color: #7f7f7f; text-decoration-color: #7f7f7f\">custom_features.py</span></a><span style=\"color: #7f7f7f; text-decoration-color: #7f7f7f\">:</span><a href=\"file:///home/krzysiek/Development/solvency-modelling/solvency_models/src/solvency_models/pipelines/p06_data_engineering/utils/custom_features.py#53\" target=\"_blank\"><span style=\"color: #7f7f7f; text-decoration-color: #7f7f7f\">53</span></a>\n",
       "</pre>\n"
      ],
      "text/plain": [
       "\u001b[2;36m                   \u001b[0m\u001b[2;36m \u001b[0m\u001b[34mINFO    \u001b[0m Creating the custom features\u001b[33m...\u001b[0m                                  \u001b]8;id=150322;file:///home/krzysiek/Development/solvency-modelling/solvency_models/src/solvency_models/pipelines/p06_data_engineering/utils/custom_features.py\u001b\\\u001b[2mcustom_features.py\u001b[0m\u001b]8;;\u001b\\\u001b[2m:\u001b[0m\u001b]8;id=465018;file:///home/krzysiek/Development/solvency-modelling/solvency_models/src/solvency_models/pipelines/p06_data_engineering/utils/custom_features.py#53\u001b\\\u001b[2m53\u001b[0m\u001b]8;;\u001b\\\n"
      ]
     },
     "metadata": {},
     "output_type": "display_data"
    },
    {
     "data": {
      "text/html": [
       "<pre style=\"white-space:pre;overflow-x:auto;line-height:normal;font-family:Menlo,'DejaVu Sans Mono',consolas,'Courier New',monospace\"><span style=\"color: #7fbfbf; text-decoration-color: #7fbfbf\">                    </span><span style=\"color: #000080; text-decoration-color: #000080\">INFO    </span> Created the custom features.                                     <a href=\"file:///home/krzysiek/Development/solvency-modelling/solvency_models/src/solvency_models/pipelines/p06_data_engineering/utils/custom_features.py\" target=\"_blank\"><span style=\"color: #7f7f7f; text-decoration-color: #7f7f7f\">custom_features.py</span></a><span style=\"color: #7f7f7f; text-decoration-color: #7f7f7f\">:</span><a href=\"file:///home/krzysiek/Development/solvency-modelling/solvency_models/src/solvency_models/pipelines/p06_data_engineering/utils/custom_features.py#55\" target=\"_blank\"><span style=\"color: #7f7f7f; text-decoration-color: #7f7f7f\">55</span></a>\n",
       "</pre>\n"
      ],
      "text/plain": [
       "\u001b[2;36m                   \u001b[0m\u001b[2;36m \u001b[0m\u001b[34mINFO    \u001b[0m Created the custom features.                                     \u001b]8;id=778522;file:///home/krzysiek/Development/solvency-modelling/solvency_models/src/solvency_models/pipelines/p06_data_engineering/utils/custom_features.py\u001b\\\u001b[2mcustom_features.py\u001b[0m\u001b]8;;\u001b\\\u001b[2m:\u001b[0m\u001b]8;id=188665;file:///home/krzysiek/Development/solvency-modelling/solvency_models/src/solvency_models/pipelines/p06_data_engineering/utils/custom_features.py#55\u001b\\\u001b[2m55\u001b[0m\u001b]8;;\u001b\\\n"
      ]
     },
     "metadata": {},
     "output_type": "display_data"
    },
    {
     "data": {
      "text/html": [
       "<pre style=\"white-space:pre;overflow-x:auto;line-height:normal;font-family:Menlo,'DejaVu Sans Mono',consolas,'Courier New',monospace\"><span style=\"color: #7fbfbf; text-decoration-color: #7fbfbf\">                    </span><span style=\"color: #000080; text-decoration-color: #000080\">INFO    </span> Initial features:                                                           <a href=\"file:///home/krzysiek/Development/solvency-modelling/solvency_models/src/solvency_models/pipelines/p06_data_engineering/utils/main.py\" target=\"_blank\"><span style=\"color: #7f7f7f; text-decoration-color: #7f7f7f\">main.py</span></a><span style=\"color: #7f7f7f; text-decoration-color: #7f7f7f\">:</span><a href=\"file:///home/krzysiek/Development/solvency-modelling/solvency_models/src/solvency_models/pipelines/p06_data_engineering/utils/main.py#34\" target=\"_blank\"><span style=\"color: #7f7f7f; text-decoration-color: #7f7f7f\">34</span></a>\n",
       "<span style=\"color: #7fbfbf; text-decoration-color: #7fbfbf\">                    </span>             – <span style=\"color: #008080; text-decoration-color: #008080; font-weight: bold\">5</span> numerical features,                                                 <span style=\"color: #7f7f7f; text-decoration-color: #7f7f7f\">          </span>\n",
       "<span style=\"color: #7fbfbf; text-decoration-color: #7fbfbf\">                    </span>             – <span style=\"color: #008080; text-decoration-color: #008080; font-weight: bold\">5</span> categorical features.                                               <span style=\"color: #7f7f7f; text-decoration-color: #7f7f7f\">          </span>\n",
       "</pre>\n"
      ],
      "text/plain": [
       "\u001b[2;36m                   \u001b[0m\u001b[2;36m \u001b[0m\u001b[34mINFO    \u001b[0m Initial features:                                                           \u001b]8;id=511320;file:///home/krzysiek/Development/solvency-modelling/solvency_models/src/solvency_models/pipelines/p06_data_engineering/utils/main.py\u001b\\\u001b[2mmain.py\u001b[0m\u001b]8;;\u001b\\\u001b[2m:\u001b[0m\u001b]8;id=95762;file:///home/krzysiek/Development/solvency-modelling/solvency_models/src/solvency_models/pipelines/p06_data_engineering/utils/main.py#34\u001b\\\u001b[2m34\u001b[0m\u001b]8;;\u001b\\\n",
       "\u001b[2;36m                    \u001b[0m             – \u001b[1;36m5\u001b[0m numerical features,                                                 \u001b[2m          \u001b[0m\n",
       "\u001b[2;36m                    \u001b[0m             – \u001b[1;36m5\u001b[0m categorical features.                                               \u001b[2m          \u001b[0m\n"
      ]
     },
     "metadata": {},
     "output_type": "display_data"
    },
    {
     "data": {
      "text/html": [
       "<pre style=\"white-space:pre;overflow-x:auto;line-height:normal;font-family:Menlo,'DejaVu Sans Mono',consolas,'Courier New',monospace\"><span style=\"color: #7fbfbf; text-decoration-color: #7fbfbf\">                    </span><span style=\"color: #000080; text-decoration-color: #000080\">INFO    </span> Fitting a numerical imputer model<span style=\"color: #808000; text-decoration-color: #808000\">...</span>                                     <a href=\"file:///home/krzysiek/Development/solvency-modelling/solvency_models/src/solvency_models/pipelines/p06_data_engineering/utils/imputer.py\" target=\"_blank\"><span style=\"color: #7f7f7f; text-decoration-color: #7f7f7f\">imputer.py</span></a><span style=\"color: #7f7f7f; text-decoration-color: #7f7f7f\">:</span><a href=\"file:///home/krzysiek/Development/solvency-modelling/solvency_models/src/solvency_models/pipelines/p06_data_engineering/utils/imputer.py#75\" target=\"_blank\"><span style=\"color: #7f7f7f; text-decoration-color: #7f7f7f\">75</span></a>\n",
       "</pre>\n"
      ],
      "text/plain": [
       "\u001b[2;36m                   \u001b[0m\u001b[2;36m \u001b[0m\u001b[34mINFO    \u001b[0m Fitting a numerical imputer model\u001b[33m...\u001b[0m                                     \u001b]8;id=422636;file:///home/krzysiek/Development/solvency-modelling/solvency_models/src/solvency_models/pipelines/p06_data_engineering/utils/imputer.py\u001b\\\u001b[2mimputer.py\u001b[0m\u001b]8;;\u001b\\\u001b[2m:\u001b[0m\u001b]8;id=341600;file:///home/krzysiek/Development/solvency-modelling/solvency_models/src/solvency_models/pipelines/p06_data_engineering/utils/imputer.py#75\u001b\\\u001b[2m75\u001b[0m\u001b]8;;\u001b\\\n"
      ]
     },
     "metadata": {},
     "output_type": "display_data"
    },
    {
     "data": {
      "text/html": [
       "<pre style=\"white-space:pre;overflow-x:auto;line-height:normal;font-family:Menlo,'DejaVu Sans Mono',consolas,'Courier New',monospace\"><span style=\"color: #7fbfbf; text-decoration-color: #7fbfbf\">                    </span><span style=\"color: #000080; text-decoration-color: #000080\">INFO    </span> Saving the numerical imputer model of type <span style=\"font-weight: bold\">&lt;</span><span style=\"color: #ff00ff; text-decoration-color: #ff00ff; font-weight: bold\">class</span><span style=\"color: #000000; text-decoration-color: #000000\"> </span>                  <a href=\"file:///home/krzysiek/Development/solvency-modelling/solvency_models/src/solvency_models/pipelines/utils/mlflow_model.py\" target=\"_blank\"><span style=\"color: #7f7f7f; text-decoration-color: #7f7f7f\">mlflow_model.py</span></a><span style=\"color: #7f7f7f; text-decoration-color: #7f7f7f\">:</span><a href=\"file:///home/krzysiek/Development/solvency-modelling/solvency_models/src/solvency_models/pipelines/utils/mlflow_model.py#40\" target=\"_blank\"><span style=\"color: #7f7f7f; text-decoration-color: #7f7f7f\">40</span></a>\n",
       "<span style=\"color: #7fbfbf; text-decoration-color: #7fbfbf\">                    </span>         <span style=\"color: #008000; text-decoration-color: #008000\">'sklearn.impute._base.SimpleImputer'</span><span style=\"font-weight: bold\">&gt;</span> to MLFlow path                <span style=\"color: #7f7f7f; text-decoration-color: #7f7f7f\">                  </span>\n",
       "<span style=\"color: #7fbfbf; text-decoration-color: #7fbfbf\">                    </span>         model_de/num_imputer<span style=\"color: #808000; text-decoration-color: #808000\">...</span>                                             <span style=\"color: #7f7f7f; text-decoration-color: #7f7f7f\">                  </span>\n",
       "</pre>\n"
      ],
      "text/plain": [
       "\u001b[2;36m                   \u001b[0m\u001b[2;36m \u001b[0m\u001b[34mINFO    \u001b[0m Saving the numerical imputer model of type \u001b[1m<\u001b[0m\u001b[1;95mclass\u001b[0m\u001b[39m \u001b[0m                  \u001b]8;id=470131;file:///home/krzysiek/Development/solvency-modelling/solvency_models/src/solvency_models/pipelines/utils/mlflow_model.py\u001b\\\u001b[2mmlflow_model.py\u001b[0m\u001b]8;;\u001b\\\u001b[2m:\u001b[0m\u001b]8;id=417252;file:///home/krzysiek/Development/solvency-modelling/solvency_models/src/solvency_models/pipelines/utils/mlflow_model.py#40\u001b\\\u001b[2m40\u001b[0m\u001b]8;;\u001b\\\n",
       "\u001b[2;36m                    \u001b[0m         \u001b[32m'sklearn.impute._base.SimpleImputer'\u001b[0m\u001b[1m>\u001b[0m to MLFlow path                \u001b[2m                  \u001b[0m\n",
       "\u001b[2;36m                    \u001b[0m         model_de/num_imputer\u001b[33m...\u001b[0m                                             \u001b[2m                  \u001b[0m\n"
      ]
     },
     "metadata": {},
     "output_type": "display_data"
    },
    {
     "name": "stderr",
     "output_type": "stream",
     "text": [
      "2024/06/03 20:34:37 WARNING mlflow.utils.requirements_utils: The following packages were not found in the public PyPI package index as of 2024-02-29; if these packages are not present in the public PyPI index, you must install them manually before loading your model: {'solvency-models'}\n"
     ]
    },
    {
     "data": {
      "text/html": [
       "<pre style=\"white-space:pre;overflow-x:auto;line-height:normal;font-family:Menlo,'DejaVu Sans Mono',consolas,'Courier New',monospace\"><span style=\"color: #7fbfbf; text-decoration-color: #7fbfbf\">[06/03/24 20:34:37] </span><span style=\"color: #800000; text-decoration-color: #800000\">WARNING </span> <span style=\"color: #800080; text-decoration-color: #800080\">/home/krzysiek/Development/solvency-modelling/venv/lib/python3.11/site</span> <a href=\"file:///usr/lib/python3.11/warnings.py\" target=\"_blank\"><span style=\"color: #7f7f7f; text-decoration-color: #7f7f7f\">warnings.py</span></a><span style=\"color: #7f7f7f; text-decoration-color: #7f7f7f\">:</span><a href=\"file:///usr/lib/python3.11/warnings.py#110\" target=\"_blank\"><span style=\"color: #7f7f7f; text-decoration-color: #7f7f7f\">110</span></a>\n",
       "<span style=\"color: #7fbfbf; text-decoration-color: #7fbfbf\">                    </span>         <span style=\"color: #800080; text-decoration-color: #800080\">-packages/_distutils_hack/</span><span style=\"color: #ff00ff; text-decoration-color: #ff00ff\">__init__.py</span>:<span style=\"color: #008080; text-decoration-color: #008080; font-weight: bold\">18</span>: UserWarning: Distutils was   <span style=\"color: #7f7f7f; text-decoration-color: #7f7f7f\">               </span>\n",
       "<span style=\"color: #7fbfbf; text-decoration-color: #7fbfbf\">                    </span>         imported before Setuptools, but importing Setuptools also replaces the <span style=\"color: #7f7f7f; text-decoration-color: #7f7f7f\">               </span>\n",
       "<span style=\"color: #7fbfbf; text-decoration-color: #7fbfbf\">                    </span>         `distutils` module in `sys.modules`. This may lead to undesirable      <span style=\"color: #7f7f7f; text-decoration-color: #7f7f7f\">               </span>\n",
       "<span style=\"color: #7fbfbf; text-decoration-color: #7fbfbf\">                    </span>         behaviors or errors. To avoid these issues, avoid using distutils      <span style=\"color: #7f7f7f; text-decoration-color: #7f7f7f\">               </span>\n",
       "<span style=\"color: #7fbfbf; text-decoration-color: #7fbfbf\">                    </span>         directly, ensure that setuptools is installed in the traditional way   <span style=\"color: #7f7f7f; text-decoration-color: #7f7f7f\">               </span>\n",
       "<span style=\"color: #7fbfbf; text-decoration-color: #7fbfbf\">                    </span>         <span style=\"font-weight: bold\">(</span>e.g. not an editable install<span style=\"font-weight: bold\">)</span>, and/or make sure that setuptools is    <span style=\"color: #7f7f7f; text-decoration-color: #7f7f7f\">               </span>\n",
       "<span style=\"color: #7fbfbf; text-decoration-color: #7fbfbf\">                    </span>         always imported before distutils.                                      <span style=\"color: #7f7f7f; text-decoration-color: #7f7f7f\">               </span>\n",
       "<span style=\"color: #7fbfbf; text-decoration-color: #7fbfbf\">                    </span>           <span style=\"color: #800080; text-decoration-color: #800080; font-weight: bold\">warnings.warn</span><span style=\"font-weight: bold\">(</span>                                                       <span style=\"color: #7f7f7f; text-decoration-color: #7f7f7f\">               </span>\n",
       "<span style=\"color: #7fbfbf; text-decoration-color: #7fbfbf\">                    </span>                                                                                <span style=\"color: #7f7f7f; text-decoration-color: #7f7f7f\">               </span>\n",
       "</pre>\n"
      ],
      "text/plain": [
       "\u001b[2;36m[06/03/24 20:34:37]\u001b[0m\u001b[2;36m \u001b[0m\u001b[31mWARNING \u001b[0m \u001b[35m/home/krzysiek/Development/solvency-modelling/venv/lib/python3.11/site\u001b[0m \u001b]8;id=590973;file:///usr/lib/python3.11/warnings.py\u001b\\\u001b[2mwarnings.py\u001b[0m\u001b]8;;\u001b\\\u001b[2m:\u001b[0m\u001b]8;id=395143;file:///usr/lib/python3.11/warnings.py#110\u001b\\\u001b[2m110\u001b[0m\u001b]8;;\u001b\\\n",
       "\u001b[2;36m                    \u001b[0m         \u001b[35m-packages/_distutils_hack/\u001b[0m\u001b[95m__init__.py\u001b[0m:\u001b[1;36m18\u001b[0m: UserWarning: Distutils was   \u001b[2m               \u001b[0m\n",
       "\u001b[2;36m                    \u001b[0m         imported before Setuptools, but importing Setuptools also replaces the \u001b[2m               \u001b[0m\n",
       "\u001b[2;36m                    \u001b[0m         `distutils` module in `sys.modules`. This may lead to undesirable      \u001b[2m               \u001b[0m\n",
       "\u001b[2;36m                    \u001b[0m         behaviors or errors. To avoid these issues, avoid using distutils      \u001b[2m               \u001b[0m\n",
       "\u001b[2;36m                    \u001b[0m         directly, ensure that setuptools is installed in the traditional way   \u001b[2m               \u001b[0m\n",
       "\u001b[2;36m                    \u001b[0m         \u001b[1m(\u001b[0me.g. not an editable install\u001b[1m)\u001b[0m, and/or make sure that setuptools is    \u001b[2m               \u001b[0m\n",
       "\u001b[2;36m                    \u001b[0m         always imported before distutils.                                      \u001b[2m               \u001b[0m\n",
       "\u001b[2;36m                    \u001b[0m           \u001b[1;35mwarnings.warn\u001b[0m\u001b[1m(\u001b[0m                                                       \u001b[2m               \u001b[0m\n",
       "\u001b[2;36m                    \u001b[0m                                                                                \u001b[2m               \u001b[0m\n"
      ]
     },
     "metadata": {},
     "output_type": "display_data"
    },
    {
     "data": {
      "text/html": [
       "<pre style=\"white-space:pre;overflow-x:auto;line-height:normal;font-family:Menlo,'DejaVu Sans Mono',consolas,'Courier New',monospace\"><span style=\"color: #7fbfbf; text-decoration-color: #7fbfbf\">                    </span><span style=\"color: #800000; text-decoration-color: #800000\">WARNING </span> <span style=\"color: #800080; text-decoration-color: #800080\">/home/krzysiek/Development/solvency-modelling/venv/lib/python3.11/site</span> <a href=\"file:///usr/lib/python3.11/warnings.py\" target=\"_blank\"><span style=\"color: #7f7f7f; text-decoration-color: #7f7f7f\">warnings.py</span></a><span style=\"color: #7f7f7f; text-decoration-color: #7f7f7f\">:</span><a href=\"file:///usr/lib/python3.11/warnings.py#110\" target=\"_blank\"><span style=\"color: #7f7f7f; text-decoration-color: #7f7f7f\">110</span></a>\n",
       "<span style=\"color: #7fbfbf; text-decoration-color: #7fbfbf\">                    </span>         <span style=\"color: #800080; text-decoration-color: #800080\">-packages/_distutils_hack/</span><span style=\"color: #ff00ff; text-decoration-color: #ff00ff\">__init__.py</span>:<span style=\"color: #008080; text-decoration-color: #008080; font-weight: bold\">33</span>: UserWarning: Setuptools is   <span style=\"color: #7f7f7f; text-decoration-color: #7f7f7f\">               </span>\n",
       "<span style=\"color: #7fbfbf; text-decoration-color: #7fbfbf\">                    </span>         replacing distutils.                                                   <span style=\"color: #7f7f7f; text-decoration-color: #7f7f7f\">               </span>\n",
       "<span style=\"color: #7fbfbf; text-decoration-color: #7fbfbf\">                    </span>           <span style=\"color: #800080; text-decoration-color: #800080; font-weight: bold\">warnings.warn</span><span style=\"font-weight: bold\">(</span><span style=\"color: #008000; text-decoration-color: #008000\">\"Setuptools is replacing distutils.\"</span><span style=\"font-weight: bold\">)</span>                  <span style=\"color: #7f7f7f; text-decoration-color: #7f7f7f\">               </span>\n",
       "<span style=\"color: #7fbfbf; text-decoration-color: #7fbfbf\">                    </span>                                                                                <span style=\"color: #7f7f7f; text-decoration-color: #7f7f7f\">               </span>\n",
       "</pre>\n"
      ],
      "text/plain": [
       "\u001b[2;36m                   \u001b[0m\u001b[2;36m \u001b[0m\u001b[31mWARNING \u001b[0m \u001b[35m/home/krzysiek/Development/solvency-modelling/venv/lib/python3.11/site\u001b[0m \u001b]8;id=694446;file:///usr/lib/python3.11/warnings.py\u001b\\\u001b[2mwarnings.py\u001b[0m\u001b]8;;\u001b\\\u001b[2m:\u001b[0m\u001b]8;id=49322;file:///usr/lib/python3.11/warnings.py#110\u001b\\\u001b[2m110\u001b[0m\u001b]8;;\u001b\\\n",
       "\u001b[2;36m                    \u001b[0m         \u001b[35m-packages/_distutils_hack/\u001b[0m\u001b[95m__init__.py\u001b[0m:\u001b[1;36m33\u001b[0m: UserWarning: Setuptools is   \u001b[2m               \u001b[0m\n",
       "\u001b[2;36m                    \u001b[0m         replacing distutils.                                                   \u001b[2m               \u001b[0m\n",
       "\u001b[2;36m                    \u001b[0m           \u001b[1;35mwarnings.warn\u001b[0m\u001b[1m(\u001b[0m\u001b[32m\"Setuptools is replacing distutils.\"\u001b[0m\u001b[1m)\u001b[0m                  \u001b[2m               \u001b[0m\n",
       "\u001b[2;36m                    \u001b[0m                                                                                \u001b[2m               \u001b[0m\n"
      ]
     },
     "metadata": {},
     "output_type": "display_data"
    },
    {
     "data": {
      "text/html": [
       "<pre style=\"white-space:pre;overflow-x:auto;line-height:normal;font-family:Menlo,'DejaVu Sans Mono',consolas,'Courier New',monospace\"><span style=\"color: #7fbfbf; text-decoration-color: #7fbfbf\">                    </span><span style=\"color: #000080; text-decoration-color: #000080\">INFO    </span> Successfully saved the numerical imputer model in                   <a href=\"file:///home/krzysiek/Development/solvency-modelling/solvency_models/src/solvency_models/pipelines/utils/mlflow_model.py\" target=\"_blank\"><span style=\"color: #7f7f7f; text-decoration-color: #7f7f7f\">mlflow_model.py</span></a><span style=\"color: #7f7f7f; text-decoration-color: #7f7f7f\">:</span><a href=\"file:///home/krzysiek/Development/solvency-modelling/solvency_models/src/solvency_models/pipelines/utils/mlflow_model.py#42\" target=\"_blank\"><span style=\"color: #7f7f7f; text-decoration-color: #7f7f7f\">42</span></a>\n",
       "<span style=\"color: #7fbfbf; text-decoration-color: #7fbfbf\">                    </span>         model_de/num_imputer.                                               <span style=\"color: #7f7f7f; text-decoration-color: #7f7f7f\">                  </span>\n",
       "</pre>\n"
      ],
      "text/plain": [
       "\u001b[2;36m                   \u001b[0m\u001b[2;36m \u001b[0m\u001b[34mINFO    \u001b[0m Successfully saved the numerical imputer model in                   \u001b]8;id=451352;file:///home/krzysiek/Development/solvency-modelling/solvency_models/src/solvency_models/pipelines/utils/mlflow_model.py\u001b\\\u001b[2mmlflow_model.py\u001b[0m\u001b]8;;\u001b\\\u001b[2m:\u001b[0m\u001b]8;id=477462;file:///home/krzysiek/Development/solvency-modelling/solvency_models/src/solvency_models/pipelines/utils/mlflow_model.py#42\u001b\\\u001b[2m42\u001b[0m\u001b]8;;\u001b\\\n",
       "\u001b[2;36m                    \u001b[0m         model_de/num_imputer.                                               \u001b[2m                  \u001b[0m\n"
      ]
     },
     "metadata": {},
     "output_type": "display_data"
    },
    {
     "data": {
      "text/html": [
       "<pre style=\"white-space:pre;overflow-x:auto;line-height:normal;font-family:Menlo,'DejaVu Sans Mono',consolas,'Courier New',monospace\"><span style=\"color: #7fbfbf; text-decoration-color: #7fbfbf\">                    </span><span style=\"color: #000080; text-decoration-color: #000080\">INFO    </span> Fitting a scaler model<span style=\"color: #808000; text-decoration-color: #808000\">...</span>                                                 <a href=\"file:///home/krzysiek/Development/solvency-modelling/solvency_models/src/solvency_models/pipelines/p06_data_engineering/utils/scaler.py\" target=\"_blank\"><span style=\"color: #7f7f7f; text-decoration-color: #7f7f7f\">scaler.py</span></a><span style=\"color: #7f7f7f; text-decoration-color: #7f7f7f\">:</span><a href=\"file:///home/krzysiek/Development/solvency-modelling/solvency_models/src/solvency_models/pipelines/p06_data_engineering/utils/scaler.py#38\" target=\"_blank\"><span style=\"color: #7f7f7f; text-decoration-color: #7f7f7f\">38</span></a>\n",
       "</pre>\n"
      ],
      "text/plain": [
       "\u001b[2;36m                   \u001b[0m\u001b[2;36m \u001b[0m\u001b[34mINFO    \u001b[0m Fitting a scaler model\u001b[33m...\u001b[0m                                                 \u001b]8;id=403406;file:///home/krzysiek/Development/solvency-modelling/solvency_models/src/solvency_models/pipelines/p06_data_engineering/utils/scaler.py\u001b\\\u001b[2mscaler.py\u001b[0m\u001b]8;;\u001b\\\u001b[2m:\u001b[0m\u001b]8;id=105739;file:///home/krzysiek/Development/solvency-modelling/solvency_models/src/solvency_models/pipelines/p06_data_engineering/utils/scaler.py#38\u001b\\\u001b[2m38\u001b[0m\u001b]8;;\u001b\\\n"
      ]
     },
     "metadata": {},
     "output_type": "display_data"
    },
    {
     "data": {
      "text/html": [
       "<pre style=\"white-space:pre;overflow-x:auto;line-height:normal;font-family:Menlo,'DejaVu Sans Mono',consolas,'Courier New',monospace\"><span style=\"color: #7fbfbf; text-decoration-color: #7fbfbf\">                    </span><span style=\"color: #000080; text-decoration-color: #000080\">INFO    </span> Scaled the features.                                                      <a href=\"file:///home/krzysiek/Development/solvency-modelling/solvency_models/src/solvency_models/pipelines/p06_data_engineering/utils/scaler.py\" target=\"_blank\"><span style=\"color: #7f7f7f; text-decoration-color: #7f7f7f\">scaler.py</span></a><span style=\"color: #7f7f7f; text-decoration-color: #7f7f7f\">:</span><a href=\"file:///home/krzysiek/Development/solvency-modelling/solvency_models/src/solvency_models/pipelines/p06_data_engineering/utils/scaler.py#41\" target=\"_blank\"><span style=\"color: #7f7f7f; text-decoration-color: #7f7f7f\">41</span></a>\n",
       "</pre>\n"
      ],
      "text/plain": [
       "\u001b[2;36m                   \u001b[0m\u001b[2;36m \u001b[0m\u001b[34mINFO    \u001b[0m Scaled the features.                                                      \u001b]8;id=163015;file:///home/krzysiek/Development/solvency-modelling/solvency_models/src/solvency_models/pipelines/p06_data_engineering/utils/scaler.py\u001b\\\u001b[2mscaler.py\u001b[0m\u001b]8;;\u001b\\\u001b[2m:\u001b[0m\u001b]8;id=179088;file:///home/krzysiek/Development/solvency-modelling/solvency_models/src/solvency_models/pipelines/p06_data_engineering/utils/scaler.py#41\u001b\\\u001b[2m41\u001b[0m\u001b]8;;\u001b\\\n"
      ]
     },
     "metadata": {},
     "output_type": "display_data"
    },
    {
     "data": {
      "text/html": [
       "<pre style=\"white-space:pre;overflow-x:auto;line-height:normal;font-family:Menlo,'DejaVu Sans Mono',consolas,'Courier New',monospace\"><span style=\"color: #7fbfbf; text-decoration-color: #7fbfbf\">                    </span><span style=\"color: #000080; text-decoration-color: #000080\">INFO    </span> Saving the scaler model of type <span style=\"font-weight: bold\">&lt;</span><span style=\"color: #ff00ff; text-decoration-color: #ff00ff; font-weight: bold\">class</span><span style=\"color: #000000; text-decoration-color: #000000\"> </span>                             <a href=\"file:///home/krzysiek/Development/solvency-modelling/solvency_models/src/solvency_models/pipelines/utils/mlflow_model.py\" target=\"_blank\"><span style=\"color: #7f7f7f; text-decoration-color: #7f7f7f\">mlflow_model.py</span></a><span style=\"color: #7f7f7f; text-decoration-color: #7f7f7f\">:</span><a href=\"file:///home/krzysiek/Development/solvency-modelling/solvency_models/src/solvency_models/pipelines/utils/mlflow_model.py#40\" target=\"_blank\"><span style=\"color: #7f7f7f; text-decoration-color: #7f7f7f\">40</span></a>\n",
       "<span style=\"color: #7fbfbf; text-decoration-color: #7fbfbf\">                    </span>         <span style=\"color: #008000; text-decoration-color: #008000\">'sklearn.preprocessing._data.StandardScaler'</span><span style=\"font-weight: bold\">&gt;</span> to MLFlow path        <span style=\"color: #7f7f7f; text-decoration-color: #7f7f7f\">                  </span>\n",
       "<span style=\"color: #7fbfbf; text-decoration-color: #7fbfbf\">                    </span>         model_de/scaler<span style=\"color: #808000; text-decoration-color: #808000\">...</span>                                                  <span style=\"color: #7f7f7f; text-decoration-color: #7f7f7f\">                  </span>\n",
       "</pre>\n"
      ],
      "text/plain": [
       "\u001b[2;36m                   \u001b[0m\u001b[2;36m \u001b[0m\u001b[34mINFO    \u001b[0m Saving the scaler model of type \u001b[1m<\u001b[0m\u001b[1;95mclass\u001b[0m\u001b[39m \u001b[0m                             \u001b]8;id=623719;file:///home/krzysiek/Development/solvency-modelling/solvency_models/src/solvency_models/pipelines/utils/mlflow_model.py\u001b\\\u001b[2mmlflow_model.py\u001b[0m\u001b]8;;\u001b\\\u001b[2m:\u001b[0m\u001b]8;id=655884;file:///home/krzysiek/Development/solvency-modelling/solvency_models/src/solvency_models/pipelines/utils/mlflow_model.py#40\u001b\\\u001b[2m40\u001b[0m\u001b]8;;\u001b\\\n",
       "\u001b[2;36m                    \u001b[0m         \u001b[32m'sklearn.preprocessing._data.StandardScaler'\u001b[0m\u001b[1m>\u001b[0m to MLFlow path        \u001b[2m                  \u001b[0m\n",
       "\u001b[2;36m                    \u001b[0m         model_de/scaler\u001b[33m...\u001b[0m                                                  \u001b[2m                  \u001b[0m\n"
      ]
     },
     "metadata": {},
     "output_type": "display_data"
    },
    {
     "name": "stderr",
     "output_type": "stream",
     "text": [
      "2024/06/03 20:34:39 WARNING mlflow.utils.requirements_utils: The following packages were not found in the public PyPI package index as of 2024-02-29; if these packages are not present in the public PyPI index, you must install them manually before loading your model: {'solvency-models'}\n"
     ]
    },
    {
     "data": {
      "text/html": [
       "<pre style=\"white-space:pre;overflow-x:auto;line-height:normal;font-family:Menlo,'DejaVu Sans Mono',consolas,'Courier New',monospace\"><span style=\"color: #7fbfbf; text-decoration-color: #7fbfbf\">[06/03/24 20:34:39] </span><span style=\"color: #800000; text-decoration-color: #800000\">WARNING </span> <span style=\"color: #800080; text-decoration-color: #800080\">/home/krzysiek/Development/solvency-modelling/venv/lib/python3.11/site</span> <a href=\"file:///usr/lib/python3.11/warnings.py\" target=\"_blank\"><span style=\"color: #7f7f7f; text-decoration-color: #7f7f7f\">warnings.py</span></a><span style=\"color: #7f7f7f; text-decoration-color: #7f7f7f\">:</span><a href=\"file:///usr/lib/python3.11/warnings.py#110\" target=\"_blank\"><span style=\"color: #7f7f7f; text-decoration-color: #7f7f7f\">110</span></a>\n",
       "<span style=\"color: #7fbfbf; text-decoration-color: #7fbfbf\">                    </span>         <span style=\"color: #800080; text-decoration-color: #800080\">-packages/_distutils_hack/</span><span style=\"color: #ff00ff; text-decoration-color: #ff00ff\">__init__.py</span>:<span style=\"color: #008080; text-decoration-color: #008080; font-weight: bold\">18</span>: UserWarning: Distutils was   <span style=\"color: #7f7f7f; text-decoration-color: #7f7f7f\">               </span>\n",
       "<span style=\"color: #7fbfbf; text-decoration-color: #7fbfbf\">                    </span>         imported before Setuptools, but importing Setuptools also replaces the <span style=\"color: #7f7f7f; text-decoration-color: #7f7f7f\">               </span>\n",
       "<span style=\"color: #7fbfbf; text-decoration-color: #7fbfbf\">                    </span>         `distutils` module in `sys.modules`. This may lead to undesirable      <span style=\"color: #7f7f7f; text-decoration-color: #7f7f7f\">               </span>\n",
       "<span style=\"color: #7fbfbf; text-decoration-color: #7fbfbf\">                    </span>         behaviors or errors. To avoid these issues, avoid using distutils      <span style=\"color: #7f7f7f; text-decoration-color: #7f7f7f\">               </span>\n",
       "<span style=\"color: #7fbfbf; text-decoration-color: #7fbfbf\">                    </span>         directly, ensure that setuptools is installed in the traditional way   <span style=\"color: #7f7f7f; text-decoration-color: #7f7f7f\">               </span>\n",
       "<span style=\"color: #7fbfbf; text-decoration-color: #7fbfbf\">                    </span>         <span style=\"font-weight: bold\">(</span>e.g. not an editable install<span style=\"font-weight: bold\">)</span>, and/or make sure that setuptools is    <span style=\"color: #7f7f7f; text-decoration-color: #7f7f7f\">               </span>\n",
       "<span style=\"color: #7fbfbf; text-decoration-color: #7fbfbf\">                    </span>         always imported before distutils.                                      <span style=\"color: #7f7f7f; text-decoration-color: #7f7f7f\">               </span>\n",
       "<span style=\"color: #7fbfbf; text-decoration-color: #7fbfbf\">                    </span>           <span style=\"color: #800080; text-decoration-color: #800080; font-weight: bold\">warnings.warn</span><span style=\"font-weight: bold\">(</span>                                                       <span style=\"color: #7f7f7f; text-decoration-color: #7f7f7f\">               </span>\n",
       "<span style=\"color: #7fbfbf; text-decoration-color: #7fbfbf\">                    </span>                                                                                <span style=\"color: #7f7f7f; text-decoration-color: #7f7f7f\">               </span>\n",
       "</pre>\n"
      ],
      "text/plain": [
       "\u001b[2;36m[06/03/24 20:34:39]\u001b[0m\u001b[2;36m \u001b[0m\u001b[31mWARNING \u001b[0m \u001b[35m/home/krzysiek/Development/solvency-modelling/venv/lib/python3.11/site\u001b[0m \u001b]8;id=61724;file:///usr/lib/python3.11/warnings.py\u001b\\\u001b[2mwarnings.py\u001b[0m\u001b]8;;\u001b\\\u001b[2m:\u001b[0m\u001b]8;id=155018;file:///usr/lib/python3.11/warnings.py#110\u001b\\\u001b[2m110\u001b[0m\u001b]8;;\u001b\\\n",
       "\u001b[2;36m                    \u001b[0m         \u001b[35m-packages/_distutils_hack/\u001b[0m\u001b[95m__init__.py\u001b[0m:\u001b[1;36m18\u001b[0m: UserWarning: Distutils was   \u001b[2m               \u001b[0m\n",
       "\u001b[2;36m                    \u001b[0m         imported before Setuptools, but importing Setuptools also replaces the \u001b[2m               \u001b[0m\n",
       "\u001b[2;36m                    \u001b[0m         `distutils` module in `sys.modules`. This may lead to undesirable      \u001b[2m               \u001b[0m\n",
       "\u001b[2;36m                    \u001b[0m         behaviors or errors. To avoid these issues, avoid using distutils      \u001b[2m               \u001b[0m\n",
       "\u001b[2;36m                    \u001b[0m         directly, ensure that setuptools is installed in the traditional way   \u001b[2m               \u001b[0m\n",
       "\u001b[2;36m                    \u001b[0m         \u001b[1m(\u001b[0me.g. not an editable install\u001b[1m)\u001b[0m, and/or make sure that setuptools is    \u001b[2m               \u001b[0m\n",
       "\u001b[2;36m                    \u001b[0m         always imported before distutils.                                      \u001b[2m               \u001b[0m\n",
       "\u001b[2;36m                    \u001b[0m           \u001b[1;35mwarnings.warn\u001b[0m\u001b[1m(\u001b[0m                                                       \u001b[2m               \u001b[0m\n",
       "\u001b[2;36m                    \u001b[0m                                                                                \u001b[2m               \u001b[0m\n"
      ]
     },
     "metadata": {},
     "output_type": "display_data"
    },
    {
     "data": {
      "text/html": [
       "<pre style=\"white-space:pre;overflow-x:auto;line-height:normal;font-family:Menlo,'DejaVu Sans Mono',consolas,'Courier New',monospace\"><span style=\"color: #7fbfbf; text-decoration-color: #7fbfbf\">                    </span><span style=\"color: #800000; text-decoration-color: #800000\">WARNING </span> <span style=\"color: #800080; text-decoration-color: #800080\">/home/krzysiek/Development/solvency-modelling/venv/lib/python3.11/site</span> <a href=\"file:///usr/lib/python3.11/warnings.py\" target=\"_blank\"><span style=\"color: #7f7f7f; text-decoration-color: #7f7f7f\">warnings.py</span></a><span style=\"color: #7f7f7f; text-decoration-color: #7f7f7f\">:</span><a href=\"file:///usr/lib/python3.11/warnings.py#110\" target=\"_blank\"><span style=\"color: #7f7f7f; text-decoration-color: #7f7f7f\">110</span></a>\n",
       "<span style=\"color: #7fbfbf; text-decoration-color: #7fbfbf\">                    </span>         <span style=\"color: #800080; text-decoration-color: #800080\">-packages/_distutils_hack/</span><span style=\"color: #ff00ff; text-decoration-color: #ff00ff\">__init__.py</span>:<span style=\"color: #008080; text-decoration-color: #008080; font-weight: bold\">33</span>: UserWarning: Setuptools is   <span style=\"color: #7f7f7f; text-decoration-color: #7f7f7f\">               </span>\n",
       "<span style=\"color: #7fbfbf; text-decoration-color: #7fbfbf\">                    </span>         replacing distutils.                                                   <span style=\"color: #7f7f7f; text-decoration-color: #7f7f7f\">               </span>\n",
       "<span style=\"color: #7fbfbf; text-decoration-color: #7fbfbf\">                    </span>           <span style=\"color: #800080; text-decoration-color: #800080; font-weight: bold\">warnings.warn</span><span style=\"font-weight: bold\">(</span><span style=\"color: #008000; text-decoration-color: #008000\">\"Setuptools is replacing distutils.\"</span><span style=\"font-weight: bold\">)</span>                  <span style=\"color: #7f7f7f; text-decoration-color: #7f7f7f\">               </span>\n",
       "<span style=\"color: #7fbfbf; text-decoration-color: #7fbfbf\">                    </span>                                                                                <span style=\"color: #7f7f7f; text-decoration-color: #7f7f7f\">               </span>\n",
       "</pre>\n"
      ],
      "text/plain": [
       "\u001b[2;36m                   \u001b[0m\u001b[2;36m \u001b[0m\u001b[31mWARNING \u001b[0m \u001b[35m/home/krzysiek/Development/solvency-modelling/venv/lib/python3.11/site\u001b[0m \u001b]8;id=358662;file:///usr/lib/python3.11/warnings.py\u001b\\\u001b[2mwarnings.py\u001b[0m\u001b]8;;\u001b\\\u001b[2m:\u001b[0m\u001b]8;id=443127;file:///usr/lib/python3.11/warnings.py#110\u001b\\\u001b[2m110\u001b[0m\u001b]8;;\u001b\\\n",
       "\u001b[2;36m                    \u001b[0m         \u001b[35m-packages/_distutils_hack/\u001b[0m\u001b[95m__init__.py\u001b[0m:\u001b[1;36m33\u001b[0m: UserWarning: Setuptools is   \u001b[2m               \u001b[0m\n",
       "\u001b[2;36m                    \u001b[0m         replacing distutils.                                                   \u001b[2m               \u001b[0m\n",
       "\u001b[2;36m                    \u001b[0m           \u001b[1;35mwarnings.warn\u001b[0m\u001b[1m(\u001b[0m\u001b[32m\"Setuptools is replacing distutils.\"\u001b[0m\u001b[1m)\u001b[0m                  \u001b[2m               \u001b[0m\n",
       "\u001b[2;36m                    \u001b[0m                                                                                \u001b[2m               \u001b[0m\n"
      ]
     },
     "metadata": {},
     "output_type": "display_data"
    },
    {
     "data": {
      "text/html": [
       "<pre style=\"white-space:pre;overflow-x:auto;line-height:normal;font-family:Menlo,'DejaVu Sans Mono',consolas,'Courier New',monospace\"><span style=\"color: #7fbfbf; text-decoration-color: #7fbfbf\">                    </span><span style=\"color: #000080; text-decoration-color: #000080\">INFO    </span> Successfully saved the scaler model in model_de/scaler.             <a href=\"file:///home/krzysiek/Development/solvency-modelling/solvency_models/src/solvency_models/pipelines/utils/mlflow_model.py\" target=\"_blank\"><span style=\"color: #7f7f7f; text-decoration-color: #7f7f7f\">mlflow_model.py</span></a><span style=\"color: #7f7f7f; text-decoration-color: #7f7f7f\">:</span><a href=\"file:///home/krzysiek/Development/solvency-modelling/solvency_models/src/solvency_models/pipelines/utils/mlflow_model.py#42\" target=\"_blank\"><span style=\"color: #7f7f7f; text-decoration-color: #7f7f7f\">42</span></a>\n",
       "</pre>\n"
      ],
      "text/plain": [
       "\u001b[2;36m                   \u001b[0m\u001b[2;36m \u001b[0m\u001b[34mINFO    \u001b[0m Successfully saved the scaler model in model_de/scaler.             \u001b]8;id=10743;file:///home/krzysiek/Development/solvency-modelling/solvency_models/src/solvency_models/pipelines/utils/mlflow_model.py\u001b\\\u001b[2mmlflow_model.py\u001b[0m\u001b]8;;\u001b\\\u001b[2m:\u001b[0m\u001b]8;id=726857;file:///home/krzysiek/Development/solvency-modelling/solvency_models/src/solvency_models/pipelines/utils/mlflow_model.py#42\u001b\\\u001b[2m42\u001b[0m\u001b]8;;\u001b\\\n"
      ]
     },
     "metadata": {},
     "output_type": "display_data"
    },
    {
     "data": {
      "text/html": [
       "<pre style=\"white-space:pre;overflow-x:auto;line-height:normal;font-family:Menlo,'DejaVu Sans Mono',consolas,'Courier New',monospace\"><span style=\"color: #7fbfbf; text-decoration-color: #7fbfbf\">                    </span><span style=\"color: #000080; text-decoration-color: #000080\">INFO    </span> Fitting the categories reducer<span style=\"color: #808000; text-decoration-color: #808000\">...</span>                                    <a href=\"file:///home/krzysiek/Development/solvency-modelling/solvency_models/src/solvency_models/pipelines/p06_data_engineering/utils/cat_reducer.py\" target=\"_blank\"><span style=\"color: #7f7f7f; text-decoration-color: #7f7f7f\">cat_reducer.py</span></a><span style=\"color: #7f7f7f; text-decoration-color: #7f7f7f\">:</span><a href=\"file:///home/krzysiek/Development/solvency-modelling/solvency_models/src/solvency_models/pipelines/p06_data_engineering/utils/cat_reducer.py#57\" target=\"_blank\"><span style=\"color: #7f7f7f; text-decoration-color: #7f7f7f\">57</span></a>\n",
       "</pre>\n"
      ],
      "text/plain": [
       "\u001b[2;36m                   \u001b[0m\u001b[2;36m \u001b[0m\u001b[34mINFO    \u001b[0m Fitting the categories reducer\u001b[33m...\u001b[0m                                    \u001b]8;id=742956;file:///home/krzysiek/Development/solvency-modelling/solvency_models/src/solvency_models/pipelines/p06_data_engineering/utils/cat_reducer.py\u001b\\\u001b[2mcat_reducer.py\u001b[0m\u001b]8;;\u001b\\\u001b[2m:\u001b[0m\u001b]8;id=28947;file:///home/krzysiek/Development/solvency-modelling/solvency_models/src/solvency_models/pipelines/p06_data_engineering/utils/cat_reducer.py#57\u001b\\\u001b[2m57\u001b[0m\u001b]8;;\u001b\\\n"
      ]
     },
     "metadata": {},
     "output_type": "display_data"
    },
    {
     "data": {
      "text/html": [
       "<pre style=\"white-space:pre;overflow-x:auto;line-height:normal;font-family:Menlo,'DejaVu Sans Mono',consolas,'Courier New',monospace\"><span style=\"color: #7fbfbf; text-decoration-color: #7fbfbf\">                    </span><span style=\"color: #000080; text-decoration-color: #000080\">INFO    </span> Fitted the reducer.                                                 <a href=\"file:///home/krzysiek/Development/solvency-modelling/solvency_models/src/solvency_models/pipelines/p06_data_engineering/utils/cat_reducer.py\" target=\"_blank\"><span style=\"color: #7f7f7f; text-decoration-color: #7f7f7f\">cat_reducer.py</span></a><span style=\"color: #7f7f7f; text-decoration-color: #7f7f7f\">:</span><a href=\"file:///home/krzysiek/Development/solvency-modelling/solvency_models/src/solvency_models/pipelines/p06_data_engineering/utils/cat_reducer.py#101\" target=\"_blank\"><span style=\"color: #7f7f7f; text-decoration-color: #7f7f7f\">101</span></a>\n",
       "</pre>\n"
      ],
      "text/plain": [
       "\u001b[2;36m                   \u001b[0m\u001b[2;36m \u001b[0m\u001b[34mINFO    \u001b[0m Fitted the reducer.                                                 \u001b]8;id=347495;file:///home/krzysiek/Development/solvency-modelling/solvency_models/src/solvency_models/pipelines/p06_data_engineering/utils/cat_reducer.py\u001b\\\u001b[2mcat_reducer.py\u001b[0m\u001b]8;;\u001b\\\u001b[2m:\u001b[0m\u001b]8;id=893832;file:///home/krzysiek/Development/solvency-modelling/solvency_models/src/solvency_models/pipelines/p06_data_engineering/utils/cat_reducer.py#101\u001b\\\u001b[2m101\u001b[0m\u001b]8;;\u001b\\\n"
      ]
     },
     "metadata": {},
     "output_type": "display_data"
    },
    {
     "data": {
      "text/html": [
       "<pre style=\"white-space:pre;overflow-x:auto;line-height:normal;font-family:Menlo,'DejaVu Sans Mono',consolas,'Courier New',monospace\"><span style=\"color: #7fbfbf; text-decoration-color: #7fbfbf\">                    </span><span style=\"color: #000080; text-decoration-color: #000080\">INFO    </span> Saving the reducer<span style=\"color: #808000; text-decoration-color: #808000\">...</span>                                               <a href=\"file:///home/krzysiek/Development/solvency-modelling/solvency_models/src/solvency_models/pipelines/p06_data_engineering/utils/cat_reducer.py\" target=\"_blank\"><span style=\"color: #7f7f7f; text-decoration-color: #7f7f7f\">cat_reducer.py</span></a><span style=\"color: #7f7f7f; text-decoration-color: #7f7f7f\">:</span><a href=\"file:///home/krzysiek/Development/solvency-modelling/solvency_models/src/solvency_models/pipelines/p06_data_engineering/utils/cat_reducer.py#103\" target=\"_blank\"><span style=\"color: #7f7f7f; text-decoration-color: #7f7f7f\">103</span></a>\n",
       "</pre>\n"
      ],
      "text/plain": [
       "\u001b[2;36m                   \u001b[0m\u001b[2;36m \u001b[0m\u001b[34mINFO    \u001b[0m Saving the reducer\u001b[33m...\u001b[0m                                               \u001b]8;id=387987;file:///home/krzysiek/Development/solvency-modelling/solvency_models/src/solvency_models/pipelines/p06_data_engineering/utils/cat_reducer.py\u001b\\\u001b[2mcat_reducer.py\u001b[0m\u001b]8;;\u001b\\\u001b[2m:\u001b[0m\u001b]8;id=535392;file:///home/krzysiek/Development/solvency-modelling/solvency_models/src/solvency_models/pipelines/p06_data_engineering/utils/cat_reducer.py#103\u001b\\\u001b[2m103\u001b[0m\u001b]8;;\u001b\\\n"
      ]
     },
     "metadata": {},
     "output_type": "display_data"
    },
    {
     "data": {
      "text/html": [
       "<pre style=\"white-space:pre;overflow-x:auto;line-height:normal;font-family:Menlo,'DejaVu Sans Mono',consolas,'Courier New',monospace\"><span style=\"color: #7fbfbf; text-decoration-color: #7fbfbf\">                    </span><span style=\"color: #000080; text-decoration-color: #000080\">INFO    </span> Saved the reducer.                                                  <a href=\"file:///home/krzysiek/Development/solvency-modelling/solvency_models/src/solvency_models/pipelines/p06_data_engineering/utils/cat_reducer.py\" target=\"_blank\"><span style=\"color: #7f7f7f; text-decoration-color: #7f7f7f\">cat_reducer.py</span></a><span style=\"color: #7f7f7f; text-decoration-color: #7f7f7f\">:</span><a href=\"file:///home/krzysiek/Development/solvency-modelling/solvency_models/src/solvency_models/pipelines/p06_data_engineering/utils/cat_reducer.py#111\" target=\"_blank\"><span style=\"color: #7f7f7f; text-decoration-color: #7f7f7f\">111</span></a>\n",
       "</pre>\n"
      ],
      "text/plain": [
       "\u001b[2;36m                   \u001b[0m\u001b[2;36m \u001b[0m\u001b[34mINFO    \u001b[0m Saved the reducer.                                                  \u001b]8;id=45797;file:///home/krzysiek/Development/solvency-modelling/solvency_models/src/solvency_models/pipelines/p06_data_engineering/utils/cat_reducer.py\u001b\\\u001b[2mcat_reducer.py\u001b[0m\u001b]8;;\u001b\\\u001b[2m:\u001b[0m\u001b]8;id=572649;file:///home/krzysiek/Development/solvency-modelling/solvency_models/src/solvency_models/pipelines/p06_data_engineering/utils/cat_reducer.py#111\u001b\\\u001b[2m111\u001b[0m\u001b]8;;\u001b\\\n"
      ]
     },
     "metadata": {},
     "output_type": "display_data"
    },
    {
     "data": {
      "text/html": [
       "<pre style=\"white-space:pre;overflow-x:auto;line-height:normal;font-family:Menlo,'DejaVu Sans Mono',consolas,'Courier New',monospace\"><span style=\"color: #7fbfbf; text-decoration-color: #7fbfbf\">                    </span><span style=\"color: #000080; text-decoration-color: #000080\">INFO    </span> Reducing categories<span style=\"color: #808000; text-decoration-color: #808000\">...</span>                                               <a href=\"file:///home/krzysiek/Development/solvency-modelling/solvency_models/src/solvency_models/pipelines/p06_data_engineering/utils/cat_reducer.py\" target=\"_blank\"><span style=\"color: #7f7f7f; text-decoration-color: #7f7f7f\">cat_reducer.py</span></a><span style=\"color: #7f7f7f; text-decoration-color: #7f7f7f\">:</span><a href=\"file:///home/krzysiek/Development/solvency-modelling/solvency_models/src/solvency_models/pipelines/p06_data_engineering/utils/cat_reducer.py#22\" target=\"_blank\"><span style=\"color: #7f7f7f; text-decoration-color: #7f7f7f\">22</span></a>\n",
       "</pre>\n"
      ],
      "text/plain": [
       "\u001b[2;36m                   \u001b[0m\u001b[2;36m \u001b[0m\u001b[34mINFO    \u001b[0m Reducing categories\u001b[33m...\u001b[0m                                               \u001b]8;id=519382;file:///home/krzysiek/Development/solvency-modelling/solvency_models/src/solvency_models/pipelines/p06_data_engineering/utils/cat_reducer.py\u001b\\\u001b[2mcat_reducer.py\u001b[0m\u001b]8;;\u001b\\\u001b[2m:\u001b[0m\u001b]8;id=882761;file:///home/krzysiek/Development/solvency-modelling/solvency_models/src/solvency_models/pipelines/p06_data_engineering/utils/cat_reducer.py#22\u001b\\\u001b[2m22\u001b[0m\u001b]8;;\u001b\\\n"
      ]
     },
     "metadata": {},
     "output_type": "display_data"
    },
    {
     "data": {
      "text/html": [
       "<pre style=\"white-space:pre;overflow-x:auto;line-height:normal;font-family:Menlo,'DejaVu Sans Mono',consolas,'Courier New',monospace\"><span style=\"color: #7fbfbf; text-decoration-color: #7fbfbf\">[06/03/24 20:34:40] </span><span style=\"color: #000080; text-decoration-color: #000080\">INFO    </span> Reduced the categories.                                              <a href=\"file:///home/krzysiek/Development/solvency-modelling/solvency_models/src/solvency_models/pipelines/p06_data_engineering/utils/cat_reducer.py\" target=\"_blank\"><span style=\"color: #7f7f7f; text-decoration-color: #7f7f7f\">cat_reducer.py</span></a><span style=\"color: #7f7f7f; text-decoration-color: #7f7f7f\">:</span><a href=\"file:///home/krzysiek/Development/solvency-modelling/solvency_models/src/solvency_models/pipelines/p06_data_engineering/utils/cat_reducer.py#28\" target=\"_blank\"><span style=\"color: #7f7f7f; text-decoration-color: #7f7f7f\">28</span></a>\n",
       "</pre>\n"
      ],
      "text/plain": [
       "\u001b[2;36m[06/03/24 20:34:40]\u001b[0m\u001b[2;36m \u001b[0m\u001b[34mINFO    \u001b[0m Reduced the categories.                                              \u001b]8;id=87552;file:///home/krzysiek/Development/solvency-modelling/solvency_models/src/solvency_models/pipelines/p06_data_engineering/utils/cat_reducer.py\u001b\\\u001b[2mcat_reducer.py\u001b[0m\u001b]8;;\u001b\\\u001b[2m:\u001b[0m\u001b]8;id=41775;file:///home/krzysiek/Development/solvency-modelling/solvency_models/src/solvency_models/pipelines/p06_data_engineering/utils/cat_reducer.py#28\u001b\\\u001b[2m28\u001b[0m\u001b]8;;\u001b\\\n"
      ]
     },
     "metadata": {},
     "output_type": "display_data"
    },
    {
     "data": {
      "text/html": [
       "<pre style=\"white-space:pre;overflow-x:auto;line-height:normal;font-family:Menlo,'DejaVu Sans Mono',consolas,'Courier New',monospace\"><span style=\"color: #7fbfbf; text-decoration-color: #7fbfbf\">                    </span><span style=\"color: #000080; text-decoration-color: #000080\">INFO    </span> Fitting a categorical imputer model<span style=\"color: #808000; text-decoration-color: #808000\">...</span>                                   <a href=\"file:///home/krzysiek/Development/solvency-modelling/solvency_models/src/solvency_models/pipelines/p06_data_engineering/utils/imputer.py\" target=\"_blank\"><span style=\"color: #7f7f7f; text-decoration-color: #7f7f7f\">imputer.py</span></a><span style=\"color: #7f7f7f; text-decoration-color: #7f7f7f\">:</span><a href=\"file:///home/krzysiek/Development/solvency-modelling/solvency_models/src/solvency_models/pipelines/p06_data_engineering/utils/imputer.py#75\" target=\"_blank\"><span style=\"color: #7f7f7f; text-decoration-color: #7f7f7f\">75</span></a>\n",
       "</pre>\n"
      ],
      "text/plain": [
       "\u001b[2;36m                   \u001b[0m\u001b[2;36m \u001b[0m\u001b[34mINFO    \u001b[0m Fitting a categorical imputer model\u001b[33m...\u001b[0m                                   \u001b]8;id=521661;file:///home/krzysiek/Development/solvency-modelling/solvency_models/src/solvency_models/pipelines/p06_data_engineering/utils/imputer.py\u001b\\\u001b[2mimputer.py\u001b[0m\u001b]8;;\u001b\\\u001b[2m:\u001b[0m\u001b]8;id=443278;file:///home/krzysiek/Development/solvency-modelling/solvency_models/src/solvency_models/pipelines/p06_data_engineering/utils/imputer.py#75\u001b\\\u001b[2m75\u001b[0m\u001b]8;;\u001b\\\n"
      ]
     },
     "metadata": {},
     "output_type": "display_data"
    },
    {
     "data": {
      "text/html": [
       "<pre style=\"white-space:pre;overflow-x:auto;line-height:normal;font-family:Menlo,'DejaVu Sans Mono',consolas,'Courier New',monospace\"><span style=\"color: #7fbfbf; text-decoration-color: #7fbfbf\">                    </span><span style=\"color: #000080; text-decoration-color: #000080\">INFO    </span> Saving the categorical imputer model of type <span style=\"font-weight: bold\">&lt;</span><span style=\"color: #ff00ff; text-decoration-color: #ff00ff; font-weight: bold\">class</span><span style=\"color: #000000; text-decoration-color: #000000\"> </span>                <a href=\"file:///home/krzysiek/Development/solvency-modelling/solvency_models/src/solvency_models/pipelines/utils/mlflow_model.py\" target=\"_blank\"><span style=\"color: #7f7f7f; text-decoration-color: #7f7f7f\">mlflow_model.py</span></a><span style=\"color: #7f7f7f; text-decoration-color: #7f7f7f\">:</span><a href=\"file:///home/krzysiek/Development/solvency-modelling/solvency_models/src/solvency_models/pipelines/utils/mlflow_model.py#40\" target=\"_blank\"><span style=\"color: #7f7f7f; text-decoration-color: #7f7f7f\">40</span></a>\n",
       "<span style=\"color: #7fbfbf; text-decoration-color: #7fbfbf\">                    </span>         <span style=\"color: #008000; text-decoration-color: #008000\">'sklearn.impute._base.SimpleImputer'</span><span style=\"font-weight: bold\">&gt;</span> to MLFlow path                <span style=\"color: #7f7f7f; text-decoration-color: #7f7f7f\">                  </span>\n",
       "<span style=\"color: #7fbfbf; text-decoration-color: #7fbfbf\">                    </span>         model_de/cat_imputer<span style=\"color: #808000; text-decoration-color: #808000\">...</span>                                             <span style=\"color: #7f7f7f; text-decoration-color: #7f7f7f\">                  </span>\n",
       "</pre>\n"
      ],
      "text/plain": [
       "\u001b[2;36m                   \u001b[0m\u001b[2;36m \u001b[0m\u001b[34mINFO    \u001b[0m Saving the categorical imputer model of type \u001b[1m<\u001b[0m\u001b[1;95mclass\u001b[0m\u001b[39m \u001b[0m                \u001b]8;id=714783;file:///home/krzysiek/Development/solvency-modelling/solvency_models/src/solvency_models/pipelines/utils/mlflow_model.py\u001b\\\u001b[2mmlflow_model.py\u001b[0m\u001b]8;;\u001b\\\u001b[2m:\u001b[0m\u001b]8;id=101959;file:///home/krzysiek/Development/solvency-modelling/solvency_models/src/solvency_models/pipelines/utils/mlflow_model.py#40\u001b\\\u001b[2m40\u001b[0m\u001b]8;;\u001b\\\n",
       "\u001b[2;36m                    \u001b[0m         \u001b[32m'sklearn.impute._base.SimpleImputer'\u001b[0m\u001b[1m>\u001b[0m to MLFlow path                \u001b[2m                  \u001b[0m\n",
       "\u001b[2;36m                    \u001b[0m         model_de/cat_imputer\u001b[33m...\u001b[0m                                             \u001b[2m                  \u001b[0m\n"
      ]
     },
     "metadata": {},
     "output_type": "display_data"
    },
    {
     "name": "stderr",
     "output_type": "stream",
     "text": [
      "2024/06/03 20:34:43 WARNING mlflow.utils.requirements_utils: The following packages were not found in the public PyPI package index as of 2024-02-29; if these packages are not present in the public PyPI index, you must install them manually before loading your model: {'solvency-models'}\n"
     ]
    },
    {
     "data": {
      "text/html": [
       "<pre style=\"white-space:pre;overflow-x:auto;line-height:normal;font-family:Menlo,'DejaVu Sans Mono',consolas,'Courier New',monospace\"><span style=\"color: #7fbfbf; text-decoration-color: #7fbfbf\">[06/03/24 20:34:43] </span><span style=\"color: #800000; text-decoration-color: #800000\">WARNING </span> <span style=\"color: #800080; text-decoration-color: #800080\">/home/krzysiek/Development/solvency-modelling/venv/lib/python3.11/site</span> <a href=\"file:///usr/lib/python3.11/warnings.py\" target=\"_blank\"><span style=\"color: #7f7f7f; text-decoration-color: #7f7f7f\">warnings.py</span></a><span style=\"color: #7f7f7f; text-decoration-color: #7f7f7f\">:</span><a href=\"file:///usr/lib/python3.11/warnings.py#110\" target=\"_blank\"><span style=\"color: #7f7f7f; text-decoration-color: #7f7f7f\">110</span></a>\n",
       "<span style=\"color: #7fbfbf; text-decoration-color: #7fbfbf\">                    </span>         <span style=\"color: #800080; text-decoration-color: #800080\">-packages/_distutils_hack/</span><span style=\"color: #ff00ff; text-decoration-color: #ff00ff\">__init__.py</span>:<span style=\"color: #008080; text-decoration-color: #008080; font-weight: bold\">18</span>: UserWarning: Distutils was   <span style=\"color: #7f7f7f; text-decoration-color: #7f7f7f\">               </span>\n",
       "<span style=\"color: #7fbfbf; text-decoration-color: #7fbfbf\">                    </span>         imported before Setuptools, but importing Setuptools also replaces the <span style=\"color: #7f7f7f; text-decoration-color: #7f7f7f\">               </span>\n",
       "<span style=\"color: #7fbfbf; text-decoration-color: #7fbfbf\">                    </span>         `distutils` module in `sys.modules`. This may lead to undesirable      <span style=\"color: #7f7f7f; text-decoration-color: #7f7f7f\">               </span>\n",
       "<span style=\"color: #7fbfbf; text-decoration-color: #7fbfbf\">                    </span>         behaviors or errors. To avoid these issues, avoid using distutils      <span style=\"color: #7f7f7f; text-decoration-color: #7f7f7f\">               </span>\n",
       "<span style=\"color: #7fbfbf; text-decoration-color: #7fbfbf\">                    </span>         directly, ensure that setuptools is installed in the traditional way   <span style=\"color: #7f7f7f; text-decoration-color: #7f7f7f\">               </span>\n",
       "<span style=\"color: #7fbfbf; text-decoration-color: #7fbfbf\">                    </span>         <span style=\"font-weight: bold\">(</span>e.g. not an editable install<span style=\"font-weight: bold\">)</span>, and/or make sure that setuptools is    <span style=\"color: #7f7f7f; text-decoration-color: #7f7f7f\">               </span>\n",
       "<span style=\"color: #7fbfbf; text-decoration-color: #7fbfbf\">                    </span>         always imported before distutils.                                      <span style=\"color: #7f7f7f; text-decoration-color: #7f7f7f\">               </span>\n",
       "<span style=\"color: #7fbfbf; text-decoration-color: #7fbfbf\">                    </span>           <span style=\"color: #800080; text-decoration-color: #800080; font-weight: bold\">warnings.warn</span><span style=\"font-weight: bold\">(</span>                                                       <span style=\"color: #7f7f7f; text-decoration-color: #7f7f7f\">               </span>\n",
       "<span style=\"color: #7fbfbf; text-decoration-color: #7fbfbf\">                    </span>                                                                                <span style=\"color: #7f7f7f; text-decoration-color: #7f7f7f\">               </span>\n",
       "</pre>\n"
      ],
      "text/plain": [
       "\u001b[2;36m[06/03/24 20:34:43]\u001b[0m\u001b[2;36m \u001b[0m\u001b[31mWARNING \u001b[0m \u001b[35m/home/krzysiek/Development/solvency-modelling/venv/lib/python3.11/site\u001b[0m \u001b]8;id=448270;file:///usr/lib/python3.11/warnings.py\u001b\\\u001b[2mwarnings.py\u001b[0m\u001b]8;;\u001b\\\u001b[2m:\u001b[0m\u001b]8;id=981802;file:///usr/lib/python3.11/warnings.py#110\u001b\\\u001b[2m110\u001b[0m\u001b]8;;\u001b\\\n",
       "\u001b[2;36m                    \u001b[0m         \u001b[35m-packages/_distutils_hack/\u001b[0m\u001b[95m__init__.py\u001b[0m:\u001b[1;36m18\u001b[0m: UserWarning: Distutils was   \u001b[2m               \u001b[0m\n",
       "\u001b[2;36m                    \u001b[0m         imported before Setuptools, but importing Setuptools also replaces the \u001b[2m               \u001b[0m\n",
       "\u001b[2;36m                    \u001b[0m         `distutils` module in `sys.modules`. This may lead to undesirable      \u001b[2m               \u001b[0m\n",
       "\u001b[2;36m                    \u001b[0m         behaviors or errors. To avoid these issues, avoid using distutils      \u001b[2m               \u001b[0m\n",
       "\u001b[2;36m                    \u001b[0m         directly, ensure that setuptools is installed in the traditional way   \u001b[2m               \u001b[0m\n",
       "\u001b[2;36m                    \u001b[0m         \u001b[1m(\u001b[0me.g. not an editable install\u001b[1m)\u001b[0m, and/or make sure that setuptools is    \u001b[2m               \u001b[0m\n",
       "\u001b[2;36m                    \u001b[0m         always imported before distutils.                                      \u001b[2m               \u001b[0m\n",
       "\u001b[2;36m                    \u001b[0m           \u001b[1;35mwarnings.warn\u001b[0m\u001b[1m(\u001b[0m                                                       \u001b[2m               \u001b[0m\n",
       "\u001b[2;36m                    \u001b[0m                                                                                \u001b[2m               \u001b[0m\n"
      ]
     },
     "metadata": {},
     "output_type": "display_data"
    },
    {
     "data": {
      "text/html": [
       "<pre style=\"white-space:pre;overflow-x:auto;line-height:normal;font-family:Menlo,'DejaVu Sans Mono',consolas,'Courier New',monospace\"><span style=\"color: #7fbfbf; text-decoration-color: #7fbfbf\">                    </span><span style=\"color: #800000; text-decoration-color: #800000\">WARNING </span> <span style=\"color: #800080; text-decoration-color: #800080\">/home/krzysiek/Development/solvency-modelling/venv/lib/python3.11/site</span> <a href=\"file:///usr/lib/python3.11/warnings.py\" target=\"_blank\"><span style=\"color: #7f7f7f; text-decoration-color: #7f7f7f\">warnings.py</span></a><span style=\"color: #7f7f7f; text-decoration-color: #7f7f7f\">:</span><a href=\"file:///usr/lib/python3.11/warnings.py#110\" target=\"_blank\"><span style=\"color: #7f7f7f; text-decoration-color: #7f7f7f\">110</span></a>\n",
       "<span style=\"color: #7fbfbf; text-decoration-color: #7fbfbf\">                    </span>         <span style=\"color: #800080; text-decoration-color: #800080\">-packages/_distutils_hack/</span><span style=\"color: #ff00ff; text-decoration-color: #ff00ff\">__init__.py</span>:<span style=\"color: #008080; text-decoration-color: #008080; font-weight: bold\">33</span>: UserWarning: Setuptools is   <span style=\"color: #7f7f7f; text-decoration-color: #7f7f7f\">               </span>\n",
       "<span style=\"color: #7fbfbf; text-decoration-color: #7fbfbf\">                    </span>         replacing distutils.                                                   <span style=\"color: #7f7f7f; text-decoration-color: #7f7f7f\">               </span>\n",
       "<span style=\"color: #7fbfbf; text-decoration-color: #7fbfbf\">                    </span>           <span style=\"color: #800080; text-decoration-color: #800080; font-weight: bold\">warnings.warn</span><span style=\"font-weight: bold\">(</span><span style=\"color: #008000; text-decoration-color: #008000\">\"Setuptools is replacing distutils.\"</span><span style=\"font-weight: bold\">)</span>                  <span style=\"color: #7f7f7f; text-decoration-color: #7f7f7f\">               </span>\n",
       "<span style=\"color: #7fbfbf; text-decoration-color: #7fbfbf\">                    </span>                                                                                <span style=\"color: #7f7f7f; text-decoration-color: #7f7f7f\">               </span>\n",
       "</pre>\n"
      ],
      "text/plain": [
       "\u001b[2;36m                   \u001b[0m\u001b[2;36m \u001b[0m\u001b[31mWARNING \u001b[0m \u001b[35m/home/krzysiek/Development/solvency-modelling/venv/lib/python3.11/site\u001b[0m \u001b]8;id=433153;file:///usr/lib/python3.11/warnings.py\u001b\\\u001b[2mwarnings.py\u001b[0m\u001b]8;;\u001b\\\u001b[2m:\u001b[0m\u001b]8;id=227373;file:///usr/lib/python3.11/warnings.py#110\u001b\\\u001b[2m110\u001b[0m\u001b]8;;\u001b\\\n",
       "\u001b[2;36m                    \u001b[0m         \u001b[35m-packages/_distutils_hack/\u001b[0m\u001b[95m__init__.py\u001b[0m:\u001b[1;36m33\u001b[0m: UserWarning: Setuptools is   \u001b[2m               \u001b[0m\n",
       "\u001b[2;36m                    \u001b[0m         replacing distutils.                                                   \u001b[2m               \u001b[0m\n",
       "\u001b[2;36m                    \u001b[0m           \u001b[1;35mwarnings.warn\u001b[0m\u001b[1m(\u001b[0m\u001b[32m\"Setuptools is replacing distutils.\"\u001b[0m\u001b[1m)\u001b[0m                  \u001b[2m               \u001b[0m\n",
       "\u001b[2;36m                    \u001b[0m                                                                                \u001b[2m               \u001b[0m\n"
      ]
     },
     "metadata": {},
     "output_type": "display_data"
    },
    {
     "data": {
      "text/html": [
       "<pre style=\"white-space:pre;overflow-x:auto;line-height:normal;font-family:Menlo,'DejaVu Sans Mono',consolas,'Courier New',monospace\"><span style=\"color: #7fbfbf; text-decoration-color: #7fbfbf\">[06/03/24 20:34:44] </span><span style=\"color: #000080; text-decoration-color: #000080\">INFO    </span> Successfully saved the categorical imputer model in                 <a href=\"file:///home/krzysiek/Development/solvency-modelling/solvency_models/src/solvency_models/pipelines/utils/mlflow_model.py\" target=\"_blank\"><span style=\"color: #7f7f7f; text-decoration-color: #7f7f7f\">mlflow_model.py</span></a><span style=\"color: #7f7f7f; text-decoration-color: #7f7f7f\">:</span><a href=\"file:///home/krzysiek/Development/solvency-modelling/solvency_models/src/solvency_models/pipelines/utils/mlflow_model.py#42\" target=\"_blank\"><span style=\"color: #7f7f7f; text-decoration-color: #7f7f7f\">42</span></a>\n",
       "<span style=\"color: #7fbfbf; text-decoration-color: #7fbfbf\">                    </span>         model_de/cat_imputer.                                               <span style=\"color: #7f7f7f; text-decoration-color: #7f7f7f\">                  </span>\n",
       "</pre>\n"
      ],
      "text/plain": [
       "\u001b[2;36m[06/03/24 20:34:44]\u001b[0m\u001b[2;36m \u001b[0m\u001b[34mINFO    \u001b[0m Successfully saved the categorical imputer model in                 \u001b]8;id=183324;file:///home/krzysiek/Development/solvency-modelling/solvency_models/src/solvency_models/pipelines/utils/mlflow_model.py\u001b\\\u001b[2mmlflow_model.py\u001b[0m\u001b]8;;\u001b\\\u001b[2m:\u001b[0m\u001b]8;id=443882;file:///home/krzysiek/Development/solvency-modelling/solvency_models/src/solvency_models/pipelines/utils/mlflow_model.py#42\u001b\\\u001b[2m42\u001b[0m\u001b]8;;\u001b\\\n",
       "\u001b[2;36m                    \u001b[0m         model_de/cat_imputer.                                               \u001b[2m                  \u001b[0m\n"
      ]
     },
     "metadata": {},
     "output_type": "display_data"
    },
    {
     "data": {
      "text/html": [
       "<pre style=\"white-space:pre;overflow-x:auto;line-height:normal;font-family:Menlo,'DejaVu Sans Mono',consolas,'Courier New',monospace\"><span style=\"color: #7fbfbf; text-decoration-color: #7fbfbf\">                    </span><span style=\"color: #000080; text-decoration-color: #000080\">INFO    </span> Fitting a one hot encoder model<span style=\"color: #808000; text-decoration-color: #808000\">...</span>                                <a href=\"file:///home/krzysiek/Development/solvency-modelling/solvency_models/src/solvency_models/pipelines/p06_data_engineering/utils/onehot_encoder.py\" target=\"_blank\"><span style=\"color: #7f7f7f; text-decoration-color: #7f7f7f\">onehot_encoder.py</span></a><span style=\"color: #7f7f7f; text-decoration-color: #7f7f7f\">:</span><a href=\"file:///home/krzysiek/Development/solvency-modelling/solvency_models/src/solvency_models/pipelines/p06_data_engineering/utils/onehot_encoder.py#41\" target=\"_blank\"><span style=\"color: #7f7f7f; text-decoration-color: #7f7f7f\">41</span></a>\n",
       "</pre>\n"
      ],
      "text/plain": [
       "\u001b[2;36m                   \u001b[0m\u001b[2;36m \u001b[0m\u001b[34mINFO    \u001b[0m Fitting a one hot encoder model\u001b[33m...\u001b[0m                                \u001b]8;id=935976;file:///home/krzysiek/Development/solvency-modelling/solvency_models/src/solvency_models/pipelines/p06_data_engineering/utils/onehot_encoder.py\u001b\\\u001b[2monehot_encoder.py\u001b[0m\u001b]8;;\u001b\\\u001b[2m:\u001b[0m\u001b]8;id=972382;file:///home/krzysiek/Development/solvency-modelling/solvency_models/src/solvency_models/pipelines/p06_data_engineering/utils/onehot_encoder.py#41\u001b\\\u001b[2m41\u001b[0m\u001b]8;;\u001b\\\n"
      ]
     },
     "metadata": {},
     "output_type": "display_data"
    },
    {
     "data": {
      "text/html": [
       "<pre style=\"white-space:pre;overflow-x:auto;line-height:normal;font-family:Menlo,'DejaVu Sans Mono',consolas,'Courier New',monospace\"><span style=\"color: #7fbfbf; text-decoration-color: #7fbfbf\">                    </span><span style=\"color: #000080; text-decoration-color: #000080\">INFO    </span> One hot encoded the features.                                     <a href=\"file:///home/krzysiek/Development/solvency-modelling/solvency_models/src/solvency_models/pipelines/p06_data_engineering/utils/onehot_encoder.py\" target=\"_blank\"><span style=\"color: #7f7f7f; text-decoration-color: #7f7f7f\">onehot_encoder.py</span></a><span style=\"color: #7f7f7f; text-decoration-color: #7f7f7f\">:</span><a href=\"file:///home/krzysiek/Development/solvency-modelling/solvency_models/src/solvency_models/pipelines/p06_data_engineering/utils/onehot_encoder.py#45\" target=\"_blank\"><span style=\"color: #7f7f7f; text-decoration-color: #7f7f7f\">45</span></a>\n",
       "</pre>\n"
      ],
      "text/plain": [
       "\u001b[2;36m                   \u001b[0m\u001b[2;36m \u001b[0m\u001b[34mINFO    \u001b[0m One hot encoded the features.                                     \u001b]8;id=448731;file:///home/krzysiek/Development/solvency-modelling/solvency_models/src/solvency_models/pipelines/p06_data_engineering/utils/onehot_encoder.py\u001b\\\u001b[2monehot_encoder.py\u001b[0m\u001b]8;;\u001b\\\u001b[2m:\u001b[0m\u001b]8;id=932361;file:///home/krzysiek/Development/solvency-modelling/solvency_models/src/solvency_models/pipelines/p06_data_engineering/utils/onehot_encoder.py#45\u001b\\\u001b[2m45\u001b[0m\u001b]8;;\u001b\\\n"
      ]
     },
     "metadata": {},
     "output_type": "display_data"
    },
    {
     "data": {
      "text/html": [
       "<pre style=\"white-space:pre;overflow-x:auto;line-height:normal;font-family:Menlo,'DejaVu Sans Mono',consolas,'Courier New',monospace\"><span style=\"color: #7fbfbf; text-decoration-color: #7fbfbf\">                    </span><span style=\"color: #000080; text-decoration-color: #000080\">INFO    </span> Saving the one-hot encoder model of type <span style=\"font-weight: bold\">&lt;</span><span style=\"color: #ff00ff; text-decoration-color: #ff00ff; font-weight: bold\">class</span><span style=\"color: #000000; text-decoration-color: #000000\"> </span>                    <a href=\"file:///home/krzysiek/Development/solvency-modelling/solvency_models/src/solvency_models/pipelines/utils/mlflow_model.py\" target=\"_blank\"><span style=\"color: #7f7f7f; text-decoration-color: #7f7f7f\">mlflow_model.py</span></a><span style=\"color: #7f7f7f; text-decoration-color: #7f7f7f\">:</span><a href=\"file:///home/krzysiek/Development/solvency-modelling/solvency_models/src/solvency_models/pipelines/utils/mlflow_model.py#40\" target=\"_blank\"><span style=\"color: #7f7f7f; text-decoration-color: #7f7f7f\">40</span></a>\n",
       "<span style=\"color: #7fbfbf; text-decoration-color: #7fbfbf\">                    </span>         <span style=\"color: #008000; text-decoration-color: #008000\">'sklearn.preprocessing._encoders.OneHotEncoder'</span><span style=\"font-weight: bold\">&gt;</span> to MLFlow path     <span style=\"color: #7f7f7f; text-decoration-color: #7f7f7f\">                  </span>\n",
       "<span style=\"color: #7fbfbf; text-decoration-color: #7fbfbf\">                    </span>         model_de/ohe<span style=\"color: #808000; text-decoration-color: #808000\">...</span>                                                     <span style=\"color: #7f7f7f; text-decoration-color: #7f7f7f\">                  </span>\n",
       "</pre>\n"
      ],
      "text/plain": [
       "\u001b[2;36m                   \u001b[0m\u001b[2;36m \u001b[0m\u001b[34mINFO    \u001b[0m Saving the one-hot encoder model of type \u001b[1m<\u001b[0m\u001b[1;95mclass\u001b[0m\u001b[39m \u001b[0m                    \u001b]8;id=475530;file:///home/krzysiek/Development/solvency-modelling/solvency_models/src/solvency_models/pipelines/utils/mlflow_model.py\u001b\\\u001b[2mmlflow_model.py\u001b[0m\u001b]8;;\u001b\\\u001b[2m:\u001b[0m\u001b]8;id=816730;file:///home/krzysiek/Development/solvency-modelling/solvency_models/src/solvency_models/pipelines/utils/mlflow_model.py#40\u001b\\\u001b[2m40\u001b[0m\u001b]8;;\u001b\\\n",
       "\u001b[2;36m                    \u001b[0m         \u001b[32m'sklearn.preprocessing._encoders.OneHotEncoder'\u001b[0m\u001b[1m>\u001b[0m to MLFlow path     \u001b[2m                  \u001b[0m\n",
       "\u001b[2;36m                    \u001b[0m         model_de/ohe\u001b[33m...\u001b[0m                                                     \u001b[2m                  \u001b[0m\n"
      ]
     },
     "metadata": {},
     "output_type": "display_data"
    },
    {
     "name": "stderr",
     "output_type": "stream",
     "text": [
      "2024/06/03 20:34:46 WARNING mlflow.utils.requirements_utils: The following packages were not found in the public PyPI package index as of 2024-02-29; if these packages are not present in the public PyPI index, you must install them manually before loading your model: {'solvency-models'}\n"
     ]
    },
    {
     "data": {
      "text/html": [
       "<pre style=\"white-space:pre;overflow-x:auto;line-height:normal;font-family:Menlo,'DejaVu Sans Mono',consolas,'Courier New',monospace\"><span style=\"color: #7fbfbf; text-decoration-color: #7fbfbf\">[06/03/24 20:34:46] </span><span style=\"color: #800000; text-decoration-color: #800000\">WARNING </span> <span style=\"color: #800080; text-decoration-color: #800080\">/home/krzysiek/Development/solvency-modelling/venv/lib/python3.11/site</span> <a href=\"file:///usr/lib/python3.11/warnings.py\" target=\"_blank\"><span style=\"color: #7f7f7f; text-decoration-color: #7f7f7f\">warnings.py</span></a><span style=\"color: #7f7f7f; text-decoration-color: #7f7f7f\">:</span><a href=\"file:///usr/lib/python3.11/warnings.py#110\" target=\"_blank\"><span style=\"color: #7f7f7f; text-decoration-color: #7f7f7f\">110</span></a>\n",
       "<span style=\"color: #7fbfbf; text-decoration-color: #7fbfbf\">                    </span>         <span style=\"color: #800080; text-decoration-color: #800080\">-packages/_distutils_hack/</span><span style=\"color: #ff00ff; text-decoration-color: #ff00ff\">__init__.py</span>:<span style=\"color: #008080; text-decoration-color: #008080; font-weight: bold\">18</span>: UserWarning: Distutils was   <span style=\"color: #7f7f7f; text-decoration-color: #7f7f7f\">               </span>\n",
       "<span style=\"color: #7fbfbf; text-decoration-color: #7fbfbf\">                    </span>         imported before Setuptools, but importing Setuptools also replaces the <span style=\"color: #7f7f7f; text-decoration-color: #7f7f7f\">               </span>\n",
       "<span style=\"color: #7fbfbf; text-decoration-color: #7fbfbf\">                    </span>         `distutils` module in `sys.modules`. This may lead to undesirable      <span style=\"color: #7f7f7f; text-decoration-color: #7f7f7f\">               </span>\n",
       "<span style=\"color: #7fbfbf; text-decoration-color: #7fbfbf\">                    </span>         behaviors or errors. To avoid these issues, avoid using distutils      <span style=\"color: #7f7f7f; text-decoration-color: #7f7f7f\">               </span>\n",
       "<span style=\"color: #7fbfbf; text-decoration-color: #7fbfbf\">                    </span>         directly, ensure that setuptools is installed in the traditional way   <span style=\"color: #7f7f7f; text-decoration-color: #7f7f7f\">               </span>\n",
       "<span style=\"color: #7fbfbf; text-decoration-color: #7fbfbf\">                    </span>         <span style=\"font-weight: bold\">(</span>e.g. not an editable install<span style=\"font-weight: bold\">)</span>, and/or make sure that setuptools is    <span style=\"color: #7f7f7f; text-decoration-color: #7f7f7f\">               </span>\n",
       "<span style=\"color: #7fbfbf; text-decoration-color: #7fbfbf\">                    </span>         always imported before distutils.                                      <span style=\"color: #7f7f7f; text-decoration-color: #7f7f7f\">               </span>\n",
       "<span style=\"color: #7fbfbf; text-decoration-color: #7fbfbf\">                    </span>           <span style=\"color: #800080; text-decoration-color: #800080; font-weight: bold\">warnings.warn</span><span style=\"font-weight: bold\">(</span>                                                       <span style=\"color: #7f7f7f; text-decoration-color: #7f7f7f\">               </span>\n",
       "<span style=\"color: #7fbfbf; text-decoration-color: #7fbfbf\">                    </span>                                                                                <span style=\"color: #7f7f7f; text-decoration-color: #7f7f7f\">               </span>\n",
       "</pre>\n"
      ],
      "text/plain": [
       "\u001b[2;36m[06/03/24 20:34:46]\u001b[0m\u001b[2;36m \u001b[0m\u001b[31mWARNING \u001b[0m \u001b[35m/home/krzysiek/Development/solvency-modelling/venv/lib/python3.11/site\u001b[0m \u001b]8;id=70191;file:///usr/lib/python3.11/warnings.py\u001b\\\u001b[2mwarnings.py\u001b[0m\u001b]8;;\u001b\\\u001b[2m:\u001b[0m\u001b]8;id=862287;file:///usr/lib/python3.11/warnings.py#110\u001b\\\u001b[2m110\u001b[0m\u001b]8;;\u001b\\\n",
       "\u001b[2;36m                    \u001b[0m         \u001b[35m-packages/_distutils_hack/\u001b[0m\u001b[95m__init__.py\u001b[0m:\u001b[1;36m18\u001b[0m: UserWarning: Distutils was   \u001b[2m               \u001b[0m\n",
       "\u001b[2;36m                    \u001b[0m         imported before Setuptools, but importing Setuptools also replaces the \u001b[2m               \u001b[0m\n",
       "\u001b[2;36m                    \u001b[0m         `distutils` module in `sys.modules`. This may lead to undesirable      \u001b[2m               \u001b[0m\n",
       "\u001b[2;36m                    \u001b[0m         behaviors or errors. To avoid these issues, avoid using distutils      \u001b[2m               \u001b[0m\n",
       "\u001b[2;36m                    \u001b[0m         directly, ensure that setuptools is installed in the traditional way   \u001b[2m               \u001b[0m\n",
       "\u001b[2;36m                    \u001b[0m         \u001b[1m(\u001b[0me.g. not an editable install\u001b[1m)\u001b[0m, and/or make sure that setuptools is    \u001b[2m               \u001b[0m\n",
       "\u001b[2;36m                    \u001b[0m         always imported before distutils.                                      \u001b[2m               \u001b[0m\n",
       "\u001b[2;36m                    \u001b[0m           \u001b[1;35mwarnings.warn\u001b[0m\u001b[1m(\u001b[0m                                                       \u001b[2m               \u001b[0m\n",
       "\u001b[2;36m                    \u001b[0m                                                                                \u001b[2m               \u001b[0m\n"
      ]
     },
     "metadata": {},
     "output_type": "display_data"
    },
    {
     "data": {
      "text/html": [
       "<pre style=\"white-space:pre;overflow-x:auto;line-height:normal;font-family:Menlo,'DejaVu Sans Mono',consolas,'Courier New',monospace\"><span style=\"color: #7fbfbf; text-decoration-color: #7fbfbf\">                    </span><span style=\"color: #800000; text-decoration-color: #800000\">WARNING </span> <span style=\"color: #800080; text-decoration-color: #800080\">/home/krzysiek/Development/solvency-modelling/venv/lib/python3.11/site</span> <a href=\"file:///usr/lib/python3.11/warnings.py\" target=\"_blank\"><span style=\"color: #7f7f7f; text-decoration-color: #7f7f7f\">warnings.py</span></a><span style=\"color: #7f7f7f; text-decoration-color: #7f7f7f\">:</span><a href=\"file:///usr/lib/python3.11/warnings.py#110\" target=\"_blank\"><span style=\"color: #7f7f7f; text-decoration-color: #7f7f7f\">110</span></a>\n",
       "<span style=\"color: #7fbfbf; text-decoration-color: #7fbfbf\">                    </span>         <span style=\"color: #800080; text-decoration-color: #800080\">-packages/_distutils_hack/</span><span style=\"color: #ff00ff; text-decoration-color: #ff00ff\">__init__.py</span>:<span style=\"color: #008080; text-decoration-color: #008080; font-weight: bold\">33</span>: UserWarning: Setuptools is   <span style=\"color: #7f7f7f; text-decoration-color: #7f7f7f\">               </span>\n",
       "<span style=\"color: #7fbfbf; text-decoration-color: #7fbfbf\">                    </span>         replacing distutils.                                                   <span style=\"color: #7f7f7f; text-decoration-color: #7f7f7f\">               </span>\n",
       "<span style=\"color: #7fbfbf; text-decoration-color: #7fbfbf\">                    </span>           <span style=\"color: #800080; text-decoration-color: #800080; font-weight: bold\">warnings.warn</span><span style=\"font-weight: bold\">(</span><span style=\"color: #008000; text-decoration-color: #008000\">\"Setuptools is replacing distutils.\"</span><span style=\"font-weight: bold\">)</span>                  <span style=\"color: #7f7f7f; text-decoration-color: #7f7f7f\">               </span>\n",
       "<span style=\"color: #7fbfbf; text-decoration-color: #7fbfbf\">                    </span>                                                                                <span style=\"color: #7f7f7f; text-decoration-color: #7f7f7f\">               </span>\n",
       "</pre>\n"
      ],
      "text/plain": [
       "\u001b[2;36m                   \u001b[0m\u001b[2;36m \u001b[0m\u001b[31mWARNING \u001b[0m \u001b[35m/home/krzysiek/Development/solvency-modelling/venv/lib/python3.11/site\u001b[0m \u001b]8;id=457001;file:///usr/lib/python3.11/warnings.py\u001b\\\u001b[2mwarnings.py\u001b[0m\u001b]8;;\u001b\\\u001b[2m:\u001b[0m\u001b]8;id=870974;file:///usr/lib/python3.11/warnings.py#110\u001b\\\u001b[2m110\u001b[0m\u001b]8;;\u001b\\\n",
       "\u001b[2;36m                    \u001b[0m         \u001b[35m-packages/_distutils_hack/\u001b[0m\u001b[95m__init__.py\u001b[0m:\u001b[1;36m33\u001b[0m: UserWarning: Setuptools is   \u001b[2m               \u001b[0m\n",
       "\u001b[2;36m                    \u001b[0m         replacing distutils.                                                   \u001b[2m               \u001b[0m\n",
       "\u001b[2;36m                    \u001b[0m           \u001b[1;35mwarnings.warn\u001b[0m\u001b[1m(\u001b[0m\u001b[32m\"Setuptools is replacing distutils.\"\u001b[0m\u001b[1m)\u001b[0m                  \u001b[2m               \u001b[0m\n",
       "\u001b[2;36m                    \u001b[0m                                                                                \u001b[2m               \u001b[0m\n"
      ]
     },
     "metadata": {},
     "output_type": "display_data"
    },
    {
     "data": {
      "text/html": [
       "<pre style=\"white-space:pre;overflow-x:auto;line-height:normal;font-family:Menlo,'DejaVu Sans Mono',consolas,'Courier New',monospace\"><span style=\"color: #7fbfbf; text-decoration-color: #7fbfbf\">                    </span><span style=\"color: #000080; text-decoration-color: #000080\">INFO    </span> Successfully saved the one-hot encoder model in model_de/ohe.       <a href=\"file:///home/krzysiek/Development/solvency-modelling/solvency_models/src/solvency_models/pipelines/utils/mlflow_model.py\" target=\"_blank\"><span style=\"color: #7f7f7f; text-decoration-color: #7f7f7f\">mlflow_model.py</span></a><span style=\"color: #7f7f7f; text-decoration-color: #7f7f7f\">:</span><a href=\"file:///home/krzysiek/Development/solvency-modelling/solvency_models/src/solvency_models/pipelines/utils/mlflow_model.py#42\" target=\"_blank\"><span style=\"color: #7f7f7f; text-decoration-color: #7f7f7f\">42</span></a>\n",
       "</pre>\n"
      ],
      "text/plain": [
       "\u001b[2;36m                   \u001b[0m\u001b[2;36m \u001b[0m\u001b[34mINFO    \u001b[0m Successfully saved the one-hot encoder model in model_de/ohe.       \u001b]8;id=204235;file:///home/krzysiek/Development/solvency-modelling/solvency_models/src/solvency_models/pipelines/utils/mlflow_model.py\u001b\\\u001b[2mmlflow_model.py\u001b[0m\u001b]8;;\u001b\\\u001b[2m:\u001b[0m\u001b]8;id=154742;file:///home/krzysiek/Development/solvency-modelling/solvency_models/src/solvency_models/pipelines/utils/mlflow_model.py#42\u001b\\\u001b[2m42\u001b[0m\u001b]8;;\u001b\\\n"
      ]
     },
     "metadata": {},
     "output_type": "display_data"
    },
    {
     "data": {
      "text/html": [
       "<pre style=\"white-space:pre;overflow-x:auto;line-height:normal;font-family:Menlo,'DejaVu Sans Mono',consolas,'Courier New',monospace\"><span style=\"color: #7fbfbf; text-decoration-color: #7fbfbf\">                    </span><span style=\"color: #000080; text-decoration-color: #000080\">INFO    </span> <span style=\"color: #008080; text-decoration-color: #008080; font-weight: bold\">5</span> categorical features were one-hot encoded to <span style=\"color: #008080; text-decoration-color: #008080; font-weight: bold\">46</span> columns.        <a href=\"file:///home/krzysiek/Development/solvency-modelling/solvency_models/src/solvency_models/pipelines/p06_data_engineering/utils/onehot_encoder.py\" target=\"_blank\"><span style=\"color: #7f7f7f; text-decoration-color: #7f7f7f\">onehot_encoder.py</span></a><span style=\"color: #7f7f7f; text-decoration-color: #7f7f7f\">:</span><a href=\"file:///home/krzysiek/Development/solvency-modelling/solvency_models/src/solvency_models/pipelines/p06_data_engineering/utils/onehot_encoder.py#22\" target=\"_blank\"><span style=\"color: #7f7f7f; text-decoration-color: #7f7f7f\">22</span></a>\n",
       "</pre>\n"
      ],
      "text/plain": [
       "\u001b[2;36m                   \u001b[0m\u001b[2;36m \u001b[0m\u001b[34mINFO    \u001b[0m \u001b[1;36m5\u001b[0m categorical features were one-hot encoded to \u001b[1;36m46\u001b[0m columns.        \u001b]8;id=154093;file:///home/krzysiek/Development/solvency-modelling/solvency_models/src/solvency_models/pipelines/p06_data_engineering/utils/onehot_encoder.py\u001b\\\u001b[2monehot_encoder.py\u001b[0m\u001b]8;;\u001b\\\u001b[2m:\u001b[0m\u001b]8;id=463694;file:///home/krzysiek/Development/solvency-modelling/solvency_models/src/solvency_models/pipelines/p06_data_engineering/utils/onehot_encoder.py#22\u001b\\\u001b[2m22\u001b[0m\u001b]8;;\u001b\\\n"
      ]
     },
     "metadata": {},
     "output_type": "display_data"
    },
    {
     "data": {
      "text/html": [
       "<pre style=\"white-space:pre;overflow-x:auto;line-height:normal;font-family:Menlo,'DejaVu Sans Mono',consolas,'Courier New',monospace\"><span style=\"color: #7fbfbf; text-decoration-color: #7fbfbf\">                    </span><span style=\"color: #000080; text-decoration-color: #000080\">INFO    </span> Saving data to <span style=\"color: #ff8700; text-decoration-color: #ff8700\">transformed_sample_features_df</span> <span style=\"font-weight: bold\">(</span>ParquetDataset<span style=\"font-weight: bold\">)</span><span style=\"color: #808000; text-decoration-color: #808000\">...</span>  <a href=\"file:///home/krzysiek/Development/solvency-modelling/venv/lib/python3.11/site-packages/kedro/io/data_catalog.py\" target=\"_blank\"><span style=\"color: #7f7f7f; text-decoration-color: #7f7f7f\">data_catalog.py</span></a><span style=\"color: #7f7f7f; text-decoration-color: #7f7f7f\">:</span><a href=\"file:///home/krzysiek/Development/solvency-modelling/venv/lib/python3.11/site-packages/kedro/io/data_catalog.py#525\" target=\"_blank\"><span style=\"color: #7f7f7f; text-decoration-color: #7f7f7f\">525</span></a>\n",
       "</pre>\n"
      ],
      "text/plain": [
       "\u001b[2;36m                   \u001b[0m\u001b[2;36m \u001b[0m\u001b[34mINFO    \u001b[0m Saving data to \u001b[38;5;208mtransformed_sample_features_df\u001b[0m \u001b[1m(\u001b[0mParquetDataset\u001b[1m)\u001b[0m\u001b[33m...\u001b[0m  \u001b]8;id=504912;file:///home/krzysiek/Development/solvency-modelling/venv/lib/python3.11/site-packages/kedro/io/data_catalog.py\u001b\\\u001b[2mdata_catalog.py\u001b[0m\u001b]8;;\u001b\\\u001b[2m:\u001b[0m\u001b]8;id=397444;file:///home/krzysiek/Development/solvency-modelling/venv/lib/python3.11/site-packages/kedro/io/data_catalog.py#525\u001b\\\u001b[2m525\u001b[0m\u001b]8;;\u001b\\\n"
      ]
     },
     "metadata": {},
     "output_type": "display_data"
    },
    {
     "data": {
      "text/html": [
       "<pre style=\"white-space:pre;overflow-x:auto;line-height:normal;font-family:Menlo,'DejaVu Sans Mono',consolas,'Courier New',monospace\"><span style=\"color: #7fbfbf; text-decoration-color: #7fbfbf\">[06/03/24 20:34:47] </span><span style=\"color: #000080; text-decoration-color: #000080\">INFO    </span> Completed <span style=\"color: #008080; text-decoration-color: #008080; font-weight: bold\">2</span> out of <span style=\"color: #008080; text-decoration-color: #008080; font-weight: bold\">4</span> tasks                                     <a href=\"file:///home/krzysiek/Development/solvency-modelling/venv/lib/python3.11/site-packages/kedro/runner/sequential_runner.py\" target=\"_blank\"><span style=\"color: #7f7f7f; text-decoration-color: #7f7f7f\">sequential_runner.py</span></a><span style=\"color: #7f7f7f; text-decoration-color: #7f7f7f\">:</span><a href=\"file:///home/krzysiek/Development/solvency-modelling/venv/lib/python3.11/site-packages/kedro/runner/sequential_runner.py#90\" target=\"_blank\"><span style=\"color: #7f7f7f; text-decoration-color: #7f7f7f\">90</span></a>\n",
       "</pre>\n"
      ],
      "text/plain": [
       "\u001b[2;36m[06/03/24 20:34:47]\u001b[0m\u001b[2;36m \u001b[0m\u001b[34mINFO    \u001b[0m Completed \u001b[1;36m2\u001b[0m out of \u001b[1;36m4\u001b[0m tasks                                     \u001b]8;id=692857;file:///home/krzysiek/Development/solvency-modelling/venv/lib/python3.11/site-packages/kedro/runner/sequential_runner.py\u001b\\\u001b[2msequential_runner.py\u001b[0m\u001b]8;;\u001b\\\u001b[2m:\u001b[0m\u001b]8;id=184250;file:///home/krzysiek/Development/solvency-modelling/venv/lib/python3.11/site-packages/kedro/runner/sequential_runner.py#90\u001b\\\u001b[2m90\u001b[0m\u001b]8;;\u001b\\\n"
      ]
     },
     "metadata": {},
     "output_type": "display_data"
    },
    {
     "data": {
      "text/html": [
       "<pre style=\"white-space:pre;overflow-x:auto;line-height:normal;font-family:Menlo,'DejaVu Sans Mono',consolas,'Courier New',monospace\"><span style=\"color: #7fbfbf; text-decoration-color: #7fbfbf\">                    </span><span style=\"color: #000080; text-decoration-color: #000080\">INFO    </span> Loading data from <span style=\"color: #ff8700; text-decoration-color: #ff8700\">config</span> <span style=\"font-weight: bold\">(</span>MemoryDataset<span style=\"font-weight: bold\">)</span><span style=\"color: #808000; text-decoration-color: #808000\">...</span>                        <a href=\"file:///home/krzysiek/Development/solvency-modelling/venv/lib/python3.11/site-packages/kedro/io/data_catalog.py\" target=\"_blank\"><span style=\"color: #7f7f7f; text-decoration-color: #7f7f7f\">data_catalog.py</span></a><span style=\"color: #7f7f7f; text-decoration-color: #7f7f7f\">:</span><a href=\"file:///home/krzysiek/Development/solvency-modelling/venv/lib/python3.11/site-packages/kedro/io/data_catalog.py#483\" target=\"_blank\"><span style=\"color: #7f7f7f; text-decoration-color: #7f7f7f\">483</span></a>\n",
       "</pre>\n"
      ],
      "text/plain": [
       "\u001b[2;36m                   \u001b[0m\u001b[2;36m \u001b[0m\u001b[34mINFO    \u001b[0m Loading data from \u001b[38;5;208mconfig\u001b[0m \u001b[1m(\u001b[0mMemoryDataset\u001b[1m)\u001b[0m\u001b[33m...\u001b[0m                        \u001b]8;id=992136;file:///home/krzysiek/Development/solvency-modelling/venv/lib/python3.11/site-packages/kedro/io/data_catalog.py\u001b\\\u001b[2mdata_catalog.py\u001b[0m\u001b]8;;\u001b\\\u001b[2m:\u001b[0m\u001b]8;id=97331;file:///home/krzysiek/Development/solvency-modelling/venv/lib/python3.11/site-packages/kedro/io/data_catalog.py#483\u001b\\\u001b[2m483\u001b[0m\u001b]8;;\u001b\\\n"
      ]
     },
     "metadata": {},
     "output_type": "display_data"
    },
    {
     "data": {
      "text/html": [
       "<pre style=\"white-space:pre;overflow-x:auto;line-height:normal;font-family:Menlo,'DejaVu Sans Mono',consolas,'Courier New',monospace\"><span style=\"color: #7fbfbf; text-decoration-color: #7fbfbf\">                    </span><span style=\"color: #000080; text-decoration-color: #000080\">INFO    </span> Loading data from <span style=\"color: #ff8700; text-decoration-color: #ff8700\">transformed_sample_features_df</span>                   <a href=\"file:///home/krzysiek/Development/solvency-modelling/venv/lib/python3.11/site-packages/kedro/io/data_catalog.py\" target=\"_blank\"><span style=\"color: #7f7f7f; text-decoration-color: #7f7f7f\">data_catalog.py</span></a><span style=\"color: #7f7f7f; text-decoration-color: #7f7f7f\">:</span><a href=\"file:///home/krzysiek/Development/solvency-modelling/venv/lib/python3.11/site-packages/kedro/io/data_catalog.py#483\" target=\"_blank\"><span style=\"color: #7f7f7f; text-decoration-color: #7f7f7f\">483</span></a>\n",
       "<span style=\"color: #7fbfbf; text-decoration-color: #7fbfbf\">                    </span>         <span style=\"font-weight: bold\">(</span>ParquetDataset<span style=\"font-weight: bold\">)</span><span style=\"color: #808000; text-decoration-color: #808000\">...</span>                                                <span style=\"color: #7f7f7f; text-decoration-color: #7f7f7f\">                   </span>\n",
       "</pre>\n"
      ],
      "text/plain": [
       "\u001b[2;36m                   \u001b[0m\u001b[2;36m \u001b[0m\u001b[34mINFO    \u001b[0m Loading data from \u001b[38;5;208mtransformed_sample_features_df\u001b[0m                   \u001b]8;id=576689;file:///home/krzysiek/Development/solvency-modelling/venv/lib/python3.11/site-packages/kedro/io/data_catalog.py\u001b\\\u001b[2mdata_catalog.py\u001b[0m\u001b]8;;\u001b\\\u001b[2m:\u001b[0m\u001b]8;id=335117;file:///home/krzysiek/Development/solvency-modelling/venv/lib/python3.11/site-packages/kedro/io/data_catalog.py#483\u001b\\\u001b[2m483\u001b[0m\u001b]8;;\u001b\\\n",
       "\u001b[2;36m                    \u001b[0m         \u001b[1m(\u001b[0mParquetDataset\u001b[1m)\u001b[0m\u001b[33m...\u001b[0m                                                \u001b[2m                   \u001b[0m\n"
      ]
     },
     "metadata": {},
     "output_type": "display_data"
    },
    {
     "data": {
      "text/html": [
       "<pre style=\"white-space:pre;overflow-x:auto;line-height:normal;font-family:Menlo,'DejaVu Sans Mono',consolas,'Courier New',monospace\"><span style=\"color: #7fbfbf; text-decoration-color: #7fbfbf\">                    </span><span style=\"color: #000080; text-decoration-color: #000080\">INFO    </span> Loading data from <span style=\"color: #ff8700; text-decoration-color: #ff8700\">sample_target_df</span> <span style=\"font-weight: bold\">(</span>ParquetDataset<span style=\"font-weight: bold\">)</span><span style=\"color: #808000; text-decoration-color: #808000\">...</span>             <a href=\"file:///home/krzysiek/Development/solvency-modelling/venv/lib/python3.11/site-packages/kedro/io/data_catalog.py\" target=\"_blank\"><span style=\"color: #7f7f7f; text-decoration-color: #7f7f7f\">data_catalog.py</span></a><span style=\"color: #7f7f7f; text-decoration-color: #7f7f7f\">:</span><a href=\"file:///home/krzysiek/Development/solvency-modelling/venv/lib/python3.11/site-packages/kedro/io/data_catalog.py#483\" target=\"_blank\"><span style=\"color: #7f7f7f; text-decoration-color: #7f7f7f\">483</span></a>\n",
       "</pre>\n"
      ],
      "text/plain": [
       "\u001b[2;36m                   \u001b[0m\u001b[2;36m \u001b[0m\u001b[34mINFO    \u001b[0m Loading data from \u001b[38;5;208msample_target_df\u001b[0m \u001b[1m(\u001b[0mParquetDataset\u001b[1m)\u001b[0m\u001b[33m...\u001b[0m             \u001b]8;id=816006;file:///home/krzysiek/Development/solvency-modelling/venv/lib/python3.11/site-packages/kedro/io/data_catalog.py\u001b\\\u001b[2mdata_catalog.py\u001b[0m\u001b]8;;\u001b\\\u001b[2m:\u001b[0m\u001b]8;id=396497;file:///home/krzysiek/Development/solvency-modelling/venv/lib/python3.11/site-packages/kedro/io/data_catalog.py#483\u001b\\\u001b[2m483\u001b[0m\u001b]8;;\u001b\\\n"
      ]
     },
     "metadata": {},
     "output_type": "display_data"
    },
    {
     "data": {
      "text/html": [
       "<pre style=\"white-space:pre;overflow-x:auto;line-height:normal;font-family:Menlo,'DejaVu Sans Mono',consolas,'Courier New',monospace\"><span style=\"color: #7fbfbf; text-decoration-color: #7fbfbf\">                    </span><span style=\"color: #000080; text-decoration-color: #000080\">INFO    </span> Running node: select_features:                                             <a href=\"file:///home/krzysiek/Development/solvency-modelling/venv/lib/python3.11/site-packages/kedro/pipeline/node.py\" target=\"_blank\"><span style=\"color: #7f7f7f; text-decoration-color: #7f7f7f\">node.py</span></a><span style=\"color: #7f7f7f; text-decoration-color: #7f7f7f\">:</span><a href=\"file:///home/krzysiek/Development/solvency-modelling/venv/lib/python3.11/site-packages/kedro/pipeline/node.py#340\" target=\"_blank\"><span style=\"color: #7f7f7f; text-decoration-color: #7f7f7f\">340</span></a>\n",
       "<span style=\"color: #7fbfbf; text-decoration-color: #7fbfbf\">                    </span>         <span style=\"color: #800080; text-decoration-color: #800080; font-weight: bold\">select_features</span><span style=\"font-weight: bold\">([</span>config;transformed_sample_features_df;sample_target_df<span style=\"font-weight: bold\">])</span>  <span style=\"color: #7f7f7f; text-decoration-color: #7f7f7f\">           </span>\n",
       "<span style=\"color: #7fbfbf; text-decoration-color: #7fbfbf\">                    </span>         -&gt; <span style=\"font-weight: bold\">[</span>selected_sample_features_df<span style=\"font-weight: bold\">]</span>                                           <span style=\"color: #7f7f7f; text-decoration-color: #7f7f7f\">           </span>\n",
       "</pre>\n"
      ],
      "text/plain": [
       "\u001b[2;36m                   \u001b[0m\u001b[2;36m \u001b[0m\u001b[34mINFO    \u001b[0m Running node: select_features:                                             \u001b]8;id=787823;file:///home/krzysiek/Development/solvency-modelling/venv/lib/python3.11/site-packages/kedro/pipeline/node.py\u001b\\\u001b[2mnode.py\u001b[0m\u001b]8;;\u001b\\\u001b[2m:\u001b[0m\u001b]8;id=910678;file:///home/krzysiek/Development/solvency-modelling/venv/lib/python3.11/site-packages/kedro/pipeline/node.py#340\u001b\\\u001b[2m340\u001b[0m\u001b]8;;\u001b\\\n",
       "\u001b[2;36m                    \u001b[0m         \u001b[1;35mselect_features\u001b[0m\u001b[1m(\u001b[0m\u001b[1m[\u001b[0mconfig;transformed_sample_features_df;sample_target_df\u001b[1m]\u001b[0m\u001b[1m)\u001b[0m  \u001b[2m           \u001b[0m\n",
       "\u001b[2;36m                    \u001b[0m         -> \u001b[1m[\u001b[0mselected_sample_features_df\u001b[1m]\u001b[0m                                           \u001b[2m           \u001b[0m\n"
      ]
     },
     "metadata": {},
     "output_type": "display_data"
    },
    {
     "data": {
      "text/html": [
       "<pre style=\"white-space:pre;overflow-x:auto;line-height:normal;font-family:Menlo,'DejaVu Sans Mono',consolas,'Courier New',monospace\"><span style=\"color: #7fbfbf; text-decoration-color: #7fbfbf\">                    </span><span style=\"color: #000080; text-decoration-color: #000080\">INFO    </span> Fitting the features selector<span style=\"color: #808000; text-decoration-color: #808000\">...</span>                                          <a href=\"file:///home/krzysiek/Development/solvency-modelling/solvency_models/src/solvency_models/pipelines/p07_data_science/select.py\" target=\"_blank\"><span style=\"color: #7f7f7f; text-decoration-color: #7f7f7f\">select.py</span></a><span style=\"color: #7f7f7f; text-decoration-color: #7f7f7f\">:</span><a href=\"file:///home/krzysiek/Development/solvency-modelling/solvency_models/src/solvency_models/pipelines/p07_data_science/select.py#81\" target=\"_blank\"><span style=\"color: #7f7f7f; text-decoration-color: #7f7f7f\">81</span></a>\n",
       "</pre>\n"
      ],
      "text/plain": [
       "\u001b[2;36m                   \u001b[0m\u001b[2;36m \u001b[0m\u001b[34mINFO    \u001b[0m Fitting the features selector\u001b[33m...\u001b[0m                                          \u001b]8;id=855037;file:///home/krzysiek/Development/solvency-modelling/solvency_models/src/solvency_models/pipelines/p07_data_science/select.py\u001b\\\u001b[2mselect.py\u001b[0m\u001b]8;;\u001b\\\u001b[2m:\u001b[0m\u001b]8;id=780999;file:///home/krzysiek/Development/solvency-modelling/solvency_models/src/solvency_models/pipelines/p07_data_science/select.py#81\u001b\\\u001b[2m81\u001b[0m\u001b]8;;\u001b\\\n"
      ]
     },
     "metadata": {},
     "output_type": "display_data"
    },
    {
     "data": {
      "text/html": [
       "<pre style=\"white-space:pre;overflow-x:auto;line-height:normal;font-family:Menlo,'DejaVu Sans Mono',consolas,'Courier New',monospace\"><span style=\"color: #7fbfbf; text-decoration-color: #7fbfbf\">                    </span><span style=\"color: #000080; text-decoration-color: #000080\">INFO    </span> Fitted the features selector.                                             <a href=\"file:///home/krzysiek/Development/solvency-modelling/solvency_models/src/solvency_models/pipelines/p07_data_science/select.py\" target=\"_blank\"><span style=\"color: #7f7f7f; text-decoration-color: #7f7f7f\">select.py</span></a><span style=\"color: #7f7f7f; text-decoration-color: #7f7f7f\">:</span><a href=\"file:///home/krzysiek/Development/solvency-modelling/solvency_models/src/solvency_models/pipelines/p07_data_science/select.py#83\" target=\"_blank\"><span style=\"color: #7f7f7f; text-decoration-color: #7f7f7f\">83</span></a>\n",
       "</pre>\n"
      ],
      "text/plain": [
       "\u001b[2;36m                   \u001b[0m\u001b[2;36m \u001b[0m\u001b[34mINFO    \u001b[0m Fitted the features selector.                                             \u001b]8;id=818649;file:///home/krzysiek/Development/solvency-modelling/solvency_models/src/solvency_models/pipelines/p07_data_science/select.py\u001b\\\u001b[2mselect.py\u001b[0m\u001b]8;;\u001b\\\u001b[2m:\u001b[0m\u001b]8;id=136383;file:///home/krzysiek/Development/solvency-modelling/solvency_models/src/solvency_models/pipelines/p07_data_science/select.py#83\u001b\\\u001b[2m83\u001b[0m\u001b]8;;\u001b\\\n"
      ]
     },
     "metadata": {},
     "output_type": "display_data"
    },
    {
     "data": {
      "text/html": [
       "<pre style=\"white-space:pre;overflow-x:auto;line-height:normal;font-family:Menlo,'DejaVu Sans Mono',consolas,'Courier New',monospace\"><span style=\"color: #7fbfbf; text-decoration-color: #7fbfbf\">                    </span><span style=\"color: #000080; text-decoration-color: #000080\">INFO    </span> Saving the features selector model of type <span style=\"font-weight: bold\">&lt;</span><span style=\"color: #ff00ff; text-decoration-color: #ff00ff; font-weight: bold\">class</span><span style=\"color: #000000; text-decoration-color: #000000\"> </span>                  <a href=\"file:///home/krzysiek/Development/solvency-modelling/solvency_models/src/solvency_models/pipelines/utils/mlflow_model.py\" target=\"_blank\"><span style=\"color: #7f7f7f; text-decoration-color: #7f7f7f\">mlflow_model.py</span></a><span style=\"color: #7f7f7f; text-decoration-color: #7f7f7f\">:</span><a href=\"file:///home/krzysiek/Development/solvency-modelling/solvency_models/src/solvency_models/pipelines/utils/mlflow_model.py#40\" target=\"_blank\"><span style=\"color: #7f7f7f; text-decoration-color: #7f7f7f\">40</span></a>\n",
       "<span style=\"color: #7fbfbf; text-decoration-color: #7fbfbf\">                    </span>         <span style=\"color: #008000; text-decoration-color: #008000\">'solvency_models.pipelines.p07_data_science.selectors.lasso.LassoFe</span> <span style=\"color: #7f7f7f; text-decoration-color: #7f7f7f\">                  </span>\n",
       "<span style=\"color: #7fbfbf; text-decoration-color: #7fbfbf\">                    </span>         <span style=\"color: #008000; text-decoration-color: #008000\">atureSelector'</span><span style=\"font-weight: bold\">&gt;</span> to MLFlow path model_ds/selector<span style=\"color: #808000; text-decoration-color: #808000\">...</span>                 <span style=\"color: #7f7f7f; text-decoration-color: #7f7f7f\">                  </span>\n",
       "</pre>\n"
      ],
      "text/plain": [
       "\u001b[2;36m                   \u001b[0m\u001b[2;36m \u001b[0m\u001b[34mINFO    \u001b[0m Saving the features selector model of type \u001b[1m<\u001b[0m\u001b[1;95mclass\u001b[0m\u001b[39m \u001b[0m                  \u001b]8;id=310068;file:///home/krzysiek/Development/solvency-modelling/solvency_models/src/solvency_models/pipelines/utils/mlflow_model.py\u001b\\\u001b[2mmlflow_model.py\u001b[0m\u001b]8;;\u001b\\\u001b[2m:\u001b[0m\u001b]8;id=953691;file:///home/krzysiek/Development/solvency-modelling/solvency_models/src/solvency_models/pipelines/utils/mlflow_model.py#40\u001b\\\u001b[2m40\u001b[0m\u001b]8;;\u001b\\\n",
       "\u001b[2;36m                    \u001b[0m         \u001b[32m'solvency_models.pipelines.p07_data_science.selectors.lasso.LassoFe\u001b[0m \u001b[2m                  \u001b[0m\n",
       "\u001b[2;36m                    \u001b[0m         \u001b[32matureSelector'\u001b[0m\u001b[1m>\u001b[0m to MLFlow path model_ds/selector\u001b[33m...\u001b[0m                 \u001b[2m                  \u001b[0m\n"
      ]
     },
     "metadata": {},
     "output_type": "display_data"
    },
    {
     "name": "stderr",
     "output_type": "stream",
     "text": [
      "2024/06/03 20:34:49 WARNING mlflow.utils.requirements_utils: The following packages were not found in the public PyPI package index as of 2024-02-29; if these packages are not present in the public PyPI index, you must install them manually before loading your model: {'solvency-models'}\n"
     ]
    },
    {
     "data": {
      "text/html": [
       "<pre style=\"white-space:pre;overflow-x:auto;line-height:normal;font-family:Menlo,'DejaVu Sans Mono',consolas,'Courier New',monospace\"><span style=\"color: #7fbfbf; text-decoration-color: #7fbfbf\">[06/03/24 20:34:49] </span><span style=\"color: #800000; text-decoration-color: #800000\">WARNING </span> <span style=\"color: #800080; text-decoration-color: #800080\">/home/krzysiek/Development/solvency-modelling/venv/lib/python3.11/site</span> <a href=\"file:///usr/lib/python3.11/warnings.py\" target=\"_blank\"><span style=\"color: #7f7f7f; text-decoration-color: #7f7f7f\">warnings.py</span></a><span style=\"color: #7f7f7f; text-decoration-color: #7f7f7f\">:</span><a href=\"file:///usr/lib/python3.11/warnings.py#110\" target=\"_blank\"><span style=\"color: #7f7f7f; text-decoration-color: #7f7f7f\">110</span></a>\n",
       "<span style=\"color: #7fbfbf; text-decoration-color: #7fbfbf\">                    </span>         <span style=\"color: #800080; text-decoration-color: #800080\">-packages/_distutils_hack/</span><span style=\"color: #ff00ff; text-decoration-color: #ff00ff\">__init__.py</span>:<span style=\"color: #008080; text-decoration-color: #008080; font-weight: bold\">18</span>: UserWarning: Distutils was   <span style=\"color: #7f7f7f; text-decoration-color: #7f7f7f\">               </span>\n",
       "<span style=\"color: #7fbfbf; text-decoration-color: #7fbfbf\">                    </span>         imported before Setuptools, but importing Setuptools also replaces the <span style=\"color: #7f7f7f; text-decoration-color: #7f7f7f\">               </span>\n",
       "<span style=\"color: #7fbfbf; text-decoration-color: #7fbfbf\">                    </span>         `distutils` module in `sys.modules`. This may lead to undesirable      <span style=\"color: #7f7f7f; text-decoration-color: #7f7f7f\">               </span>\n",
       "<span style=\"color: #7fbfbf; text-decoration-color: #7fbfbf\">                    </span>         behaviors or errors. To avoid these issues, avoid using distutils      <span style=\"color: #7f7f7f; text-decoration-color: #7f7f7f\">               </span>\n",
       "<span style=\"color: #7fbfbf; text-decoration-color: #7fbfbf\">                    </span>         directly, ensure that setuptools is installed in the traditional way   <span style=\"color: #7f7f7f; text-decoration-color: #7f7f7f\">               </span>\n",
       "<span style=\"color: #7fbfbf; text-decoration-color: #7fbfbf\">                    </span>         <span style=\"font-weight: bold\">(</span>e.g. not an editable install<span style=\"font-weight: bold\">)</span>, and/or make sure that setuptools is    <span style=\"color: #7f7f7f; text-decoration-color: #7f7f7f\">               </span>\n",
       "<span style=\"color: #7fbfbf; text-decoration-color: #7fbfbf\">                    </span>         always imported before distutils.                                      <span style=\"color: #7f7f7f; text-decoration-color: #7f7f7f\">               </span>\n",
       "<span style=\"color: #7fbfbf; text-decoration-color: #7fbfbf\">                    </span>           <span style=\"color: #800080; text-decoration-color: #800080; font-weight: bold\">warnings.warn</span><span style=\"font-weight: bold\">(</span>                                                       <span style=\"color: #7f7f7f; text-decoration-color: #7f7f7f\">               </span>\n",
       "<span style=\"color: #7fbfbf; text-decoration-color: #7fbfbf\">                    </span>                                                                                <span style=\"color: #7f7f7f; text-decoration-color: #7f7f7f\">               </span>\n",
       "</pre>\n"
      ],
      "text/plain": [
       "\u001b[2;36m[06/03/24 20:34:49]\u001b[0m\u001b[2;36m \u001b[0m\u001b[31mWARNING \u001b[0m \u001b[35m/home/krzysiek/Development/solvency-modelling/venv/lib/python3.11/site\u001b[0m \u001b]8;id=684410;file:///usr/lib/python3.11/warnings.py\u001b\\\u001b[2mwarnings.py\u001b[0m\u001b]8;;\u001b\\\u001b[2m:\u001b[0m\u001b]8;id=602624;file:///usr/lib/python3.11/warnings.py#110\u001b\\\u001b[2m110\u001b[0m\u001b]8;;\u001b\\\n",
       "\u001b[2;36m                    \u001b[0m         \u001b[35m-packages/_distutils_hack/\u001b[0m\u001b[95m__init__.py\u001b[0m:\u001b[1;36m18\u001b[0m: UserWarning: Distutils was   \u001b[2m               \u001b[0m\n",
       "\u001b[2;36m                    \u001b[0m         imported before Setuptools, but importing Setuptools also replaces the \u001b[2m               \u001b[0m\n",
       "\u001b[2;36m                    \u001b[0m         `distutils` module in `sys.modules`. This may lead to undesirable      \u001b[2m               \u001b[0m\n",
       "\u001b[2;36m                    \u001b[0m         behaviors or errors. To avoid these issues, avoid using distutils      \u001b[2m               \u001b[0m\n",
       "\u001b[2;36m                    \u001b[0m         directly, ensure that setuptools is installed in the traditional way   \u001b[2m               \u001b[0m\n",
       "\u001b[2;36m                    \u001b[0m         \u001b[1m(\u001b[0me.g. not an editable install\u001b[1m)\u001b[0m, and/or make sure that setuptools is    \u001b[2m               \u001b[0m\n",
       "\u001b[2;36m                    \u001b[0m         always imported before distutils.                                      \u001b[2m               \u001b[0m\n",
       "\u001b[2;36m                    \u001b[0m           \u001b[1;35mwarnings.warn\u001b[0m\u001b[1m(\u001b[0m                                                       \u001b[2m               \u001b[0m\n",
       "\u001b[2;36m                    \u001b[0m                                                                                \u001b[2m               \u001b[0m\n"
      ]
     },
     "metadata": {},
     "output_type": "display_data"
    },
    {
     "data": {
      "text/html": [
       "<pre style=\"white-space:pre;overflow-x:auto;line-height:normal;font-family:Menlo,'DejaVu Sans Mono',consolas,'Courier New',monospace\"><span style=\"color: #7fbfbf; text-decoration-color: #7fbfbf\">                    </span><span style=\"color: #800000; text-decoration-color: #800000\">WARNING </span> <span style=\"color: #800080; text-decoration-color: #800080\">/home/krzysiek/Development/solvency-modelling/venv/lib/python3.11/site</span> <a href=\"file:///usr/lib/python3.11/warnings.py\" target=\"_blank\"><span style=\"color: #7f7f7f; text-decoration-color: #7f7f7f\">warnings.py</span></a><span style=\"color: #7f7f7f; text-decoration-color: #7f7f7f\">:</span><a href=\"file:///usr/lib/python3.11/warnings.py#110\" target=\"_blank\"><span style=\"color: #7f7f7f; text-decoration-color: #7f7f7f\">110</span></a>\n",
       "<span style=\"color: #7fbfbf; text-decoration-color: #7fbfbf\">                    </span>         <span style=\"color: #800080; text-decoration-color: #800080\">-packages/_distutils_hack/</span><span style=\"color: #ff00ff; text-decoration-color: #ff00ff\">__init__.py</span>:<span style=\"color: #008080; text-decoration-color: #008080; font-weight: bold\">33</span>: UserWarning: Setuptools is   <span style=\"color: #7f7f7f; text-decoration-color: #7f7f7f\">               </span>\n",
       "<span style=\"color: #7fbfbf; text-decoration-color: #7fbfbf\">                    </span>         replacing distutils.                                                   <span style=\"color: #7f7f7f; text-decoration-color: #7f7f7f\">               </span>\n",
       "<span style=\"color: #7fbfbf; text-decoration-color: #7fbfbf\">                    </span>           <span style=\"color: #800080; text-decoration-color: #800080; font-weight: bold\">warnings.warn</span><span style=\"font-weight: bold\">(</span><span style=\"color: #008000; text-decoration-color: #008000\">\"Setuptools is replacing distutils.\"</span><span style=\"font-weight: bold\">)</span>                  <span style=\"color: #7f7f7f; text-decoration-color: #7f7f7f\">               </span>\n",
       "<span style=\"color: #7fbfbf; text-decoration-color: #7fbfbf\">                    </span>                                                                                <span style=\"color: #7f7f7f; text-decoration-color: #7f7f7f\">               </span>\n",
       "</pre>\n"
      ],
      "text/plain": [
       "\u001b[2;36m                   \u001b[0m\u001b[2;36m \u001b[0m\u001b[31mWARNING \u001b[0m \u001b[35m/home/krzysiek/Development/solvency-modelling/venv/lib/python3.11/site\u001b[0m \u001b]8;id=253287;file:///usr/lib/python3.11/warnings.py\u001b\\\u001b[2mwarnings.py\u001b[0m\u001b]8;;\u001b\\\u001b[2m:\u001b[0m\u001b]8;id=635880;file:///usr/lib/python3.11/warnings.py#110\u001b\\\u001b[2m110\u001b[0m\u001b]8;;\u001b\\\n",
       "\u001b[2;36m                    \u001b[0m         \u001b[35m-packages/_distutils_hack/\u001b[0m\u001b[95m__init__.py\u001b[0m:\u001b[1;36m33\u001b[0m: UserWarning: Setuptools is   \u001b[2m               \u001b[0m\n",
       "\u001b[2;36m                    \u001b[0m         replacing distutils.                                                   \u001b[2m               \u001b[0m\n",
       "\u001b[2;36m                    \u001b[0m           \u001b[1;35mwarnings.warn\u001b[0m\u001b[1m(\u001b[0m\u001b[32m\"Setuptools is replacing distutils.\"\u001b[0m\u001b[1m)\u001b[0m                  \u001b[2m               \u001b[0m\n",
       "\u001b[2;36m                    \u001b[0m                                                                                \u001b[2m               \u001b[0m\n"
      ]
     },
     "metadata": {},
     "output_type": "display_data"
    },
    {
     "data": {
      "text/html": [
       "<pre style=\"white-space:pre;overflow-x:auto;line-height:normal;font-family:Menlo,'DejaVu Sans Mono',consolas,'Courier New',monospace\"><span style=\"color: #7fbfbf; text-decoration-color: #7fbfbf\">                    </span><span style=\"color: #000080; text-decoration-color: #000080\">INFO    </span> Successfully saved the features selector model in                   <a href=\"file:///home/krzysiek/Development/solvency-modelling/solvency_models/src/solvency_models/pipelines/utils/mlflow_model.py\" target=\"_blank\"><span style=\"color: #7f7f7f; text-decoration-color: #7f7f7f\">mlflow_model.py</span></a><span style=\"color: #7f7f7f; text-decoration-color: #7f7f7f\">:</span><a href=\"file:///home/krzysiek/Development/solvency-modelling/solvency_models/src/solvency_models/pipelines/utils/mlflow_model.py#42\" target=\"_blank\"><span style=\"color: #7f7f7f; text-decoration-color: #7f7f7f\">42</span></a>\n",
       "<span style=\"color: #7fbfbf; text-decoration-color: #7fbfbf\">                    </span>         model_ds/selector.                                                  <span style=\"color: #7f7f7f; text-decoration-color: #7f7f7f\">                  </span>\n",
       "</pre>\n"
      ],
      "text/plain": [
       "\u001b[2;36m                   \u001b[0m\u001b[2;36m \u001b[0m\u001b[34mINFO    \u001b[0m Successfully saved the features selector model in                   \u001b]8;id=290497;file:///home/krzysiek/Development/solvency-modelling/solvency_models/src/solvency_models/pipelines/utils/mlflow_model.py\u001b\\\u001b[2mmlflow_model.py\u001b[0m\u001b]8;;\u001b\\\u001b[2m:\u001b[0m\u001b]8;id=801379;file:///home/krzysiek/Development/solvency-modelling/solvency_models/src/solvency_models/pipelines/utils/mlflow_model.py#42\u001b\\\u001b[2m42\u001b[0m\u001b]8;;\u001b\\\n",
       "\u001b[2;36m                    \u001b[0m         model_ds/selector.                                                  \u001b[2m                  \u001b[0m\n"
      ]
     },
     "metadata": {},
     "output_type": "display_data"
    },
    {
     "data": {
      "text/html": [
       "<pre style=\"white-space:pre;overflow-x:auto;line-height:normal;font-family:Menlo,'DejaVu Sans Mono',consolas,'Courier New',monospace\"><span style=\"color: #7fbfbf; text-decoration-color: #7fbfbf\">                    </span><span style=\"color: #000080; text-decoration-color: #000080\">INFO    </span> Saving the selected features<span style=\"color: #808000; text-decoration-color: #808000\">...</span>                                           <a href=\"file:///home/krzysiek/Development/solvency-modelling/solvency_models/src/solvency_models/pipelines/p07_data_science/select.py\" target=\"_blank\"><span style=\"color: #7f7f7f; text-decoration-color: #7f7f7f\">select.py</span></a><span style=\"color: #7f7f7f; text-decoration-color: #7f7f7f\">:</span><a href=\"file:///home/krzysiek/Development/solvency-modelling/solvency_models/src/solvency_models/pipelines/p07_data_science/select.py#87\" target=\"_blank\"><span style=\"color: #7f7f7f; text-decoration-color: #7f7f7f\">87</span></a>\n",
       "</pre>\n"
      ],
      "text/plain": [
       "\u001b[2;36m                   \u001b[0m\u001b[2;36m \u001b[0m\u001b[34mINFO    \u001b[0m Saving the selected features\u001b[33m...\u001b[0m                                           \u001b]8;id=266087;file:///home/krzysiek/Development/solvency-modelling/solvency_models/src/solvency_models/pipelines/p07_data_science/select.py\u001b\\\u001b[2mselect.py\u001b[0m\u001b]8;;\u001b\\\u001b[2m:\u001b[0m\u001b]8;id=816186;file:///home/krzysiek/Development/solvency-modelling/solvency_models/src/solvency_models/pipelines/p07_data_science/select.py#87\u001b\\\u001b[2m87\u001b[0m\u001b]8;;\u001b\\\n"
      ]
     },
     "metadata": {},
     "output_type": "display_data"
    },
    {
     "data": {
      "text/html": [
       "<pre style=\"white-space:pre;overflow-x:auto;line-height:normal;font-family:Menlo,'DejaVu Sans Mono',consolas,'Courier New',monospace\"><span style=\"color: #7fbfbf; text-decoration-color: #7fbfbf\">                    </span><span style=\"color: #000080; text-decoration-color: #000080\">INFO    </span> Successfully saved the selected features to MLFlow path                   <a href=\"file:///home/krzysiek/Development/solvency-modelling/solvency_models/src/solvency_models/pipelines/p07_data_science/select.py\" target=\"_blank\"><span style=\"color: #7f7f7f; text-decoration-color: #7f7f7f\">select.py</span></a><span style=\"color: #7f7f7f; text-decoration-color: #7f7f7f\">:</span><a href=\"file:///home/krzysiek/Development/solvency-modelling/solvency_models/src/solvency_models/pipelines/p07_data_science/select.py#94\" target=\"_blank\"><span style=\"color: #7f7f7f; text-decoration-color: #7f7f7f\">94</span></a>\n",
       "<span style=\"color: #7fbfbf; text-decoration-color: #7fbfbf\">                    </span>         model_ds/selected_features.txt                                            <span style=\"color: #7f7f7f; text-decoration-color: #7f7f7f\">            </span>\n",
       "</pre>\n"
      ],
      "text/plain": [
       "\u001b[2;36m                   \u001b[0m\u001b[2;36m \u001b[0m\u001b[34mINFO    \u001b[0m Successfully saved the selected features to MLFlow path                   \u001b]8;id=318200;file:///home/krzysiek/Development/solvency-modelling/solvency_models/src/solvency_models/pipelines/p07_data_science/select.py\u001b\\\u001b[2mselect.py\u001b[0m\u001b]8;;\u001b\\\u001b[2m:\u001b[0m\u001b]8;id=313654;file:///home/krzysiek/Development/solvency-modelling/solvency_models/src/solvency_models/pipelines/p07_data_science/select.py#94\u001b\\\u001b[2m94\u001b[0m\u001b]8;;\u001b\\\n",
       "\u001b[2;36m                    \u001b[0m         model_ds/selected_features.txt                                            \u001b[2m            \u001b[0m\n"
      ]
     },
     "metadata": {},
     "output_type": "display_data"
    },
    {
     "data": {
      "text/html": [
       "<pre style=\"white-space:pre;overflow-x:auto;line-height:normal;font-family:Menlo,'DejaVu Sans Mono',consolas,'Courier New',monospace\"><span style=\"color: #7fbfbf; text-decoration-color: #7fbfbf\">                    </span><span style=\"color: #000080; text-decoration-color: #000080\">INFO    </span> Saving the features importances<span style=\"color: #808000; text-decoration-color: #808000\">...</span>                                        <a href=\"file:///home/krzysiek/Development/solvency-modelling/solvency_models/src/solvency_models/pipelines/p07_data_science/select.py\" target=\"_blank\"><span style=\"color: #7f7f7f; text-decoration-color: #7f7f7f\">select.py</span></a><span style=\"color: #7f7f7f; text-decoration-color: #7f7f7f\">:</span><a href=\"file:///home/krzysiek/Development/solvency-modelling/solvency_models/src/solvency_models/pipelines/p07_data_science/select.py#97\" target=\"_blank\"><span style=\"color: #7f7f7f; text-decoration-color: #7f7f7f\">97</span></a>\n",
       "</pre>\n"
      ],
      "text/plain": [
       "\u001b[2;36m                   \u001b[0m\u001b[2;36m \u001b[0m\u001b[34mINFO    \u001b[0m Saving the features importances\u001b[33m...\u001b[0m                                        \u001b]8;id=730693;file:///home/krzysiek/Development/solvency-modelling/solvency_models/src/solvency_models/pipelines/p07_data_science/select.py\u001b\\\u001b[2mselect.py\u001b[0m\u001b]8;;\u001b\\\u001b[2m:\u001b[0m\u001b]8;id=840889;file:///home/krzysiek/Development/solvency-modelling/solvency_models/src/solvency_models/pipelines/p07_data_science/select.py#97\u001b\\\u001b[2m97\u001b[0m\u001b]8;;\u001b\\\n"
      ]
     },
     "metadata": {},
     "output_type": "display_data"
    },
    {
     "data": {
      "text/html": [
       "<pre style=\"white-space:pre;overflow-x:auto;line-height:normal;font-family:Menlo,'DejaVu Sans Mono',consolas,'Courier New',monospace\"><span style=\"color: #7fbfbf; text-decoration-color: #7fbfbf\">                    </span><span style=\"color: #000080; text-decoration-color: #000080\">INFO    </span> Successfully saved the features importances to MLFlow path               <a href=\"file:///home/krzysiek/Development/solvency-modelling/solvency_models/src/solvency_models/pipelines/p07_data_science/select.py\" target=\"_blank\"><span style=\"color: #7f7f7f; text-decoration-color: #7f7f7f\">select.py</span></a><span style=\"color: #7f7f7f; text-decoration-color: #7f7f7f\">:</span><a href=\"file:///home/krzysiek/Development/solvency-modelling/solvency_models/src/solvency_models/pipelines/p07_data_science/select.py#102\" target=\"_blank\"><span style=\"color: #7f7f7f; text-decoration-color: #7f7f7f\">102</span></a>\n",
       "<span style=\"color: #7fbfbf; text-decoration-color: #7fbfbf\">                    </span>         model_ds/features_importances.csv                                        <span style=\"color: #7f7f7f; text-decoration-color: #7f7f7f\">             </span>\n",
       "</pre>\n"
      ],
      "text/plain": [
       "\u001b[2;36m                   \u001b[0m\u001b[2;36m \u001b[0m\u001b[34mINFO    \u001b[0m Successfully saved the features importances to MLFlow path               \u001b]8;id=704987;file:///home/krzysiek/Development/solvency-modelling/solvency_models/src/solvency_models/pipelines/p07_data_science/select.py\u001b\\\u001b[2mselect.py\u001b[0m\u001b]8;;\u001b\\\u001b[2m:\u001b[0m\u001b]8;id=233961;file:///home/krzysiek/Development/solvency-modelling/solvency_models/src/solvency_models/pipelines/p07_data_science/select.py#102\u001b\\\u001b[2m102\u001b[0m\u001b]8;;\u001b\\\n",
       "\u001b[2;36m                    \u001b[0m         model_ds/features_importances.csv                                        \u001b[2m             \u001b[0m\n"
      ]
     },
     "metadata": {},
     "output_type": "display_data"
    },
    {
     "data": {
      "text/html": [
       "<pre style=\"white-space:pre;overflow-x:auto;line-height:normal;font-family:Menlo,'DejaVu Sans Mono',consolas,'Courier New',monospace\"><span style=\"color: #7fbfbf; text-decoration-color: #7fbfbf\">                    </span><span style=\"color: #000080; text-decoration-color: #000080\">INFO    </span> Selected the features.                                                   <a href=\"file:///home/krzysiek/Development/solvency-modelling/solvency_models/src/solvency_models/pipelines/p07_data_science/select.py\" target=\"_blank\"><span style=\"color: #7f7f7f; text-decoration-color: #7f7f7f\">select.py</span></a><span style=\"color: #7f7f7f; text-decoration-color: #7f7f7f\">:</span><a href=\"file:///home/krzysiek/Development/solvency-modelling/solvency_models/src/solvency_models/pipelines/p07_data_science/select.py#105\" target=\"_blank\"><span style=\"color: #7f7f7f; text-decoration-color: #7f7f7f\">105</span></a>\n",
       "</pre>\n"
      ],
      "text/plain": [
       "\u001b[2;36m                   \u001b[0m\u001b[2;36m \u001b[0m\u001b[34mINFO    \u001b[0m Selected the features.                                                   \u001b]8;id=643018;file:///home/krzysiek/Development/solvency-modelling/solvency_models/src/solvency_models/pipelines/p07_data_science/select.py\u001b\\\u001b[2mselect.py\u001b[0m\u001b]8;;\u001b\\\u001b[2m:\u001b[0m\u001b]8;id=922339;file:///home/krzysiek/Development/solvency-modelling/solvency_models/src/solvency_models/pipelines/p07_data_science/select.py#105\u001b\\\u001b[2m105\u001b[0m\u001b]8;;\u001b\\\n"
      ]
     },
     "metadata": {},
     "output_type": "display_data"
    },
    {
     "data": {
      "text/html": [
       "<pre style=\"white-space:pre;overflow-x:auto;line-height:normal;font-family:Menlo,'DejaVu Sans Mono',consolas,'Courier New',monospace\"><span style=\"color: #7fbfbf; text-decoration-color: #7fbfbf\">[06/03/24 20:34:50] </span><span style=\"color: #000080; text-decoration-color: #000080\">INFO    </span> Saving data to <span style=\"color: #ff8700; text-decoration-color: #ff8700\">selected_sample_features_df</span> <span style=\"font-weight: bold\">(</span>ParquetDataset<span style=\"font-weight: bold\">)</span><span style=\"color: #808000; text-decoration-color: #808000\">...</span>     <a href=\"file:///home/krzysiek/Development/solvency-modelling/venv/lib/python3.11/site-packages/kedro/io/data_catalog.py\" target=\"_blank\"><span style=\"color: #7f7f7f; text-decoration-color: #7f7f7f\">data_catalog.py</span></a><span style=\"color: #7f7f7f; text-decoration-color: #7f7f7f\">:</span><a href=\"file:///home/krzysiek/Development/solvency-modelling/venv/lib/python3.11/site-packages/kedro/io/data_catalog.py#525\" target=\"_blank\"><span style=\"color: #7f7f7f; text-decoration-color: #7f7f7f\">525</span></a>\n",
       "</pre>\n"
      ],
      "text/plain": [
       "\u001b[2;36m[06/03/24 20:34:50]\u001b[0m\u001b[2;36m \u001b[0m\u001b[34mINFO    \u001b[0m Saving data to \u001b[38;5;208mselected_sample_features_df\u001b[0m \u001b[1m(\u001b[0mParquetDataset\u001b[1m)\u001b[0m\u001b[33m...\u001b[0m     \u001b]8;id=502738;file:///home/krzysiek/Development/solvency-modelling/venv/lib/python3.11/site-packages/kedro/io/data_catalog.py\u001b\\\u001b[2mdata_catalog.py\u001b[0m\u001b]8;;\u001b\\\u001b[2m:\u001b[0m\u001b]8;id=889456;file:///home/krzysiek/Development/solvency-modelling/venv/lib/python3.11/site-packages/kedro/io/data_catalog.py#525\u001b\\\u001b[2m525\u001b[0m\u001b]8;;\u001b\\\n"
      ]
     },
     "metadata": {},
     "output_type": "display_data"
    },
    {
     "data": {
      "text/html": [
       "<pre style=\"white-space:pre;overflow-x:auto;line-height:normal;font-family:Menlo,'DejaVu Sans Mono',consolas,'Courier New',monospace\"><span style=\"color: #7fbfbf; text-decoration-color: #7fbfbf\">                    </span><span style=\"color: #000080; text-decoration-color: #000080\">INFO    </span> Completed <span style=\"color: #008080; text-decoration-color: #008080; font-weight: bold\">3</span> out of <span style=\"color: #008080; text-decoration-color: #008080; font-weight: bold\">4</span> tasks                                     <a href=\"file:///home/krzysiek/Development/solvency-modelling/venv/lib/python3.11/site-packages/kedro/runner/sequential_runner.py\" target=\"_blank\"><span style=\"color: #7f7f7f; text-decoration-color: #7f7f7f\">sequential_runner.py</span></a><span style=\"color: #7f7f7f; text-decoration-color: #7f7f7f\">:</span><a href=\"file:///home/krzysiek/Development/solvency-modelling/venv/lib/python3.11/site-packages/kedro/runner/sequential_runner.py#90\" target=\"_blank\"><span style=\"color: #7f7f7f; text-decoration-color: #7f7f7f\">90</span></a>\n",
       "</pre>\n"
      ],
      "text/plain": [
       "\u001b[2;36m                   \u001b[0m\u001b[2;36m \u001b[0m\u001b[34mINFO    \u001b[0m Completed \u001b[1;36m3\u001b[0m out of \u001b[1;36m4\u001b[0m tasks                                     \u001b]8;id=708763;file:///home/krzysiek/Development/solvency-modelling/venv/lib/python3.11/site-packages/kedro/runner/sequential_runner.py\u001b\\\u001b[2msequential_runner.py\u001b[0m\u001b]8;;\u001b\\\u001b[2m:\u001b[0m\u001b]8;id=956047;file:///home/krzysiek/Development/solvency-modelling/venv/lib/python3.11/site-packages/kedro/runner/sequential_runner.py#90\u001b\\\u001b[2m90\u001b[0m\u001b]8;;\u001b\\\n"
      ]
     },
     "metadata": {},
     "output_type": "display_data"
    },
    {
     "data": {
      "text/html": [
       "<pre style=\"white-space:pre;overflow-x:auto;line-height:normal;font-family:Menlo,'DejaVu Sans Mono',consolas,'Courier New',monospace\"><span style=\"color: #7fbfbf; text-decoration-color: #7fbfbf\">                    </span><span style=\"color: #000080; text-decoration-color: #000080\">INFO    </span> Loading data from <span style=\"color: #ff8700; text-decoration-color: #ff8700\">config</span> <span style=\"font-weight: bold\">(</span>MemoryDataset<span style=\"font-weight: bold\">)</span><span style=\"color: #808000; text-decoration-color: #808000\">...</span>                        <a href=\"file:///home/krzysiek/Development/solvency-modelling/venv/lib/python3.11/site-packages/kedro/io/data_catalog.py\" target=\"_blank\"><span style=\"color: #7f7f7f; text-decoration-color: #7f7f7f\">data_catalog.py</span></a><span style=\"color: #7f7f7f; text-decoration-color: #7f7f7f\">:</span><a href=\"file:///home/krzysiek/Development/solvency-modelling/venv/lib/python3.11/site-packages/kedro/io/data_catalog.py#483\" target=\"_blank\"><span style=\"color: #7f7f7f; text-decoration-color: #7f7f7f\">483</span></a>\n",
       "</pre>\n"
      ],
      "text/plain": [
       "\u001b[2;36m                   \u001b[0m\u001b[2;36m \u001b[0m\u001b[34mINFO    \u001b[0m Loading data from \u001b[38;5;208mconfig\u001b[0m \u001b[1m(\u001b[0mMemoryDataset\u001b[1m)\u001b[0m\u001b[33m...\u001b[0m                        \u001b]8;id=847053;file:///home/krzysiek/Development/solvency-modelling/venv/lib/python3.11/site-packages/kedro/io/data_catalog.py\u001b\\\u001b[2mdata_catalog.py\u001b[0m\u001b]8;;\u001b\\\u001b[2m:\u001b[0m\u001b]8;id=838994;file:///home/krzysiek/Development/solvency-modelling/venv/lib/python3.11/site-packages/kedro/io/data_catalog.py#483\u001b\\\u001b[2m483\u001b[0m\u001b]8;;\u001b\\\n"
      ]
     },
     "metadata": {},
     "output_type": "display_data"
    },
    {
     "data": {
      "text/html": [
       "<pre style=\"white-space:pre;overflow-x:auto;line-height:normal;font-family:Menlo,'DejaVu Sans Mono',consolas,'Courier New',monospace\"><span style=\"color: #7fbfbf; text-decoration-color: #7fbfbf\">                    </span><span style=\"color: #000080; text-decoration-color: #000080\">INFO    </span> Loading data from <span style=\"color: #ff8700; text-decoration-color: #ff8700\">selected_sample_features_df</span> <span style=\"font-weight: bold\">(</span>ParquetDataset<span style=\"font-weight: bold\">)</span><span style=\"color: #808000; text-decoration-color: #808000\">...</span>  <a href=\"file:///home/krzysiek/Development/solvency-modelling/venv/lib/python3.11/site-packages/kedro/io/data_catalog.py\" target=\"_blank\"><span style=\"color: #7f7f7f; text-decoration-color: #7f7f7f\">data_catalog.py</span></a><span style=\"color: #7f7f7f; text-decoration-color: #7f7f7f\">:</span><a href=\"file:///home/krzysiek/Development/solvency-modelling/venv/lib/python3.11/site-packages/kedro/io/data_catalog.py#483\" target=\"_blank\"><span style=\"color: #7f7f7f; text-decoration-color: #7f7f7f\">483</span></a>\n",
       "</pre>\n"
      ],
      "text/plain": [
       "\u001b[2;36m                   \u001b[0m\u001b[2;36m \u001b[0m\u001b[34mINFO    \u001b[0m Loading data from \u001b[38;5;208mselected_sample_features_df\u001b[0m \u001b[1m(\u001b[0mParquetDataset\u001b[1m)\u001b[0m\u001b[33m...\u001b[0m  \u001b]8;id=588323;file:///home/krzysiek/Development/solvency-modelling/venv/lib/python3.11/site-packages/kedro/io/data_catalog.py\u001b\\\u001b[2mdata_catalog.py\u001b[0m\u001b]8;;\u001b\\\u001b[2m:\u001b[0m\u001b]8;id=490885;file:///home/krzysiek/Development/solvency-modelling/venv/lib/python3.11/site-packages/kedro/io/data_catalog.py#483\u001b\\\u001b[2m483\u001b[0m\u001b]8;;\u001b\\\n"
      ]
     },
     "metadata": {},
     "output_type": "display_data"
    },
    {
     "data": {
      "text/html": [
       "<pre style=\"white-space:pre;overflow-x:auto;line-height:normal;font-family:Menlo,'DejaVu Sans Mono',consolas,'Courier New',monospace\"><span style=\"color: #7fbfbf; text-decoration-color: #7fbfbf\">                    </span><span style=\"color: #000080; text-decoration-color: #000080\">INFO    </span> Loading data from <span style=\"color: #ff8700; text-decoration-color: #ff8700\">sample_target_df</span> <span style=\"font-weight: bold\">(</span>ParquetDataset<span style=\"font-weight: bold\">)</span><span style=\"color: #808000; text-decoration-color: #808000\">...</span>             <a href=\"file:///home/krzysiek/Development/solvency-modelling/venv/lib/python3.11/site-packages/kedro/io/data_catalog.py\" target=\"_blank\"><span style=\"color: #7f7f7f; text-decoration-color: #7f7f7f\">data_catalog.py</span></a><span style=\"color: #7f7f7f; text-decoration-color: #7f7f7f\">:</span><a href=\"file:///home/krzysiek/Development/solvency-modelling/venv/lib/python3.11/site-packages/kedro/io/data_catalog.py#483\" target=\"_blank\"><span style=\"color: #7f7f7f; text-decoration-color: #7f7f7f\">483</span></a>\n",
       "</pre>\n"
      ],
      "text/plain": [
       "\u001b[2;36m                   \u001b[0m\u001b[2;36m \u001b[0m\u001b[34mINFO    \u001b[0m Loading data from \u001b[38;5;208msample_target_df\u001b[0m \u001b[1m(\u001b[0mParquetDataset\u001b[1m)\u001b[0m\u001b[33m...\u001b[0m             \u001b]8;id=253303;file:///home/krzysiek/Development/solvency-modelling/venv/lib/python3.11/site-packages/kedro/io/data_catalog.py\u001b\\\u001b[2mdata_catalog.py\u001b[0m\u001b]8;;\u001b\\\u001b[2m:\u001b[0m\u001b]8;id=101920;file:///home/krzysiek/Development/solvency-modelling/venv/lib/python3.11/site-packages/kedro/io/data_catalog.py#483\u001b\\\u001b[2m483\u001b[0m\u001b]8;;\u001b\\\n"
      ]
     },
     "metadata": {},
     "output_type": "display_data"
    },
    {
     "data": {
      "text/html": [
       "<pre style=\"white-space:pre;overflow-x:auto;line-height:normal;font-family:Menlo,'DejaVu Sans Mono',consolas,'Courier New',monospace\"><span style=\"color: #7fbfbf; text-decoration-color: #7fbfbf\">                    </span><span style=\"color: #000080; text-decoration-color: #000080\">INFO    </span> Running node: fit_predictive_model:                                        <a href=\"file:///home/krzysiek/Development/solvency-modelling/venv/lib/python3.11/site-packages/kedro/pipeline/node.py\" target=\"_blank\"><span style=\"color: #7f7f7f; text-decoration-color: #7f7f7f\">node.py</span></a><span style=\"color: #7f7f7f; text-decoration-color: #7f7f7f\">:</span><a href=\"file:///home/krzysiek/Development/solvency-modelling/venv/lib/python3.11/site-packages/kedro/pipeline/node.py#340\" target=\"_blank\"><span style=\"color: #7f7f7f; text-decoration-color: #7f7f7f\">340</span></a>\n",
       "<span style=\"color: #7fbfbf; text-decoration-color: #7fbfbf\">                    </span>         <span style=\"color: #800080; text-decoration-color: #800080; font-weight: bold\">fit_predictive_model</span><span style=\"font-weight: bold\">([</span>config;selected_sample_features_df;sample_target_df<span style=\"font-weight: bold\">]</span> <span style=\"color: #7f7f7f; text-decoration-color: #7f7f7f\">           </span>\n",
       "<span style=\"color: #7fbfbf; text-decoration-color: #7fbfbf\">                    </span>         <span style=\"font-weight: bold\">)</span> -&gt; <span style=\"font-weight: bold\">[</span>pure_sample_predictions_df<span style=\"font-weight: bold\">]</span>                                          <span style=\"color: #7f7f7f; text-decoration-color: #7f7f7f\">           </span>\n",
       "</pre>\n"
      ],
      "text/plain": [
       "\u001b[2;36m                   \u001b[0m\u001b[2;36m \u001b[0m\u001b[34mINFO    \u001b[0m Running node: fit_predictive_model:                                        \u001b]8;id=224056;file:///home/krzysiek/Development/solvency-modelling/venv/lib/python3.11/site-packages/kedro/pipeline/node.py\u001b\\\u001b[2mnode.py\u001b[0m\u001b]8;;\u001b\\\u001b[2m:\u001b[0m\u001b]8;id=792328;file:///home/krzysiek/Development/solvency-modelling/venv/lib/python3.11/site-packages/kedro/pipeline/node.py#340\u001b\\\u001b[2m340\u001b[0m\u001b]8;;\u001b\\\n",
       "\u001b[2;36m                    \u001b[0m         \u001b[1;35mfit_predictive_model\u001b[0m\u001b[1m(\u001b[0m\u001b[1m[\u001b[0mconfig;selected_sample_features_df;sample_target_df\u001b[1m]\u001b[0m \u001b[2m           \u001b[0m\n",
       "\u001b[2;36m                    \u001b[0m         \u001b[1m)\u001b[0m -> \u001b[1m[\u001b[0mpure_sample_predictions_df\u001b[1m]\u001b[0m                                          \u001b[2m           \u001b[0m\n"
      ]
     },
     "metadata": {},
     "output_type": "display_data"
    },
    {
     "data": {
      "text/html": [
       "<pre style=\"white-space:pre;overflow-x:auto;line-height:normal;font-family:Menlo,'DejaVu Sans Mono',consolas,'Courier New',monospace\"><span style=\"color: #7fbfbf; text-decoration-color: #7fbfbf\">                    </span><span style=\"color: #000080; text-decoration-color: #000080\">INFO    </span> Fitting the predictive model<span style=\"color: #808000; text-decoration-color: #808000\">...</span>                                           <a href=\"file:///home/krzysiek/Development/solvency-modelling/solvency_models/src/solvency_models/pipelines/p07_data_science/model.py\" target=\"_blank\"><span style=\"color: #7f7f7f; text-decoration-color: #7f7f7f\">model.py</span></a><span style=\"color: #7f7f7f; text-decoration-color: #7f7f7f\">:</span><a href=\"file:///home/krzysiek/Development/solvency-modelling/solvency_models/src/solvency_models/pipelines/p07_data_science/model.py#100\" target=\"_blank\"><span style=\"color: #7f7f7f; text-decoration-color: #7f7f7f\">100</span></a>\n",
       "</pre>\n"
      ],
      "text/plain": [
       "\u001b[2;36m                   \u001b[0m\u001b[2;36m \u001b[0m\u001b[34mINFO    \u001b[0m Fitting the predictive model\u001b[33m...\u001b[0m                                           \u001b]8;id=95726;file:///home/krzysiek/Development/solvency-modelling/solvency_models/src/solvency_models/pipelines/p07_data_science/model.py\u001b\\\u001b[2mmodel.py\u001b[0m\u001b]8;;\u001b\\\u001b[2m:\u001b[0m\u001b]8;id=927315;file:///home/krzysiek/Development/solvency-modelling/solvency_models/src/solvency_models/pipelines/p07_data_science/model.py#100\u001b\\\u001b[2m100\u001b[0m\u001b]8;;\u001b\\\n"
      ]
     },
     "metadata": {},
     "output_type": "display_data"
    },
    {
     "data": {
      "text/html": [
       "<pre style=\"white-space:pre;overflow-x:auto;line-height:normal;font-family:Menlo,'DejaVu Sans Mono',consolas,'Courier New',monospace\"><span style=\"color: #7fbfbf; text-decoration-color: #7fbfbf\">[06/03/24 20:34:51] </span><span style=\"color: #000080; text-decoration-color: #000080\">INFO    </span> Fitted the predictive model. Elapsed time: <span style=\"color: #00ff00; text-decoration-color: #00ff00; font-weight: bold\">0:00:00</span>.<span style=\"color: #008080; text-decoration-color: #008080; font-weight: bold\">062579</span>.                <a href=\"file:///home/krzysiek/Development/solvency-modelling/solvency_models/src/solvency_models/pipelines/p07_data_science/model.py\" target=\"_blank\"><span style=\"color: #7f7f7f; text-decoration-color: #7f7f7f\">model.py</span></a><span style=\"color: #7f7f7f; text-decoration-color: #7f7f7f\">:</span><a href=\"file:///home/krzysiek/Development/solvency-modelling/solvency_models/src/solvency_models/pipelines/p07_data_science/model.py#107\" target=\"_blank\"><span style=\"color: #7f7f7f; text-decoration-color: #7f7f7f\">107</span></a>\n",
       "</pre>\n"
      ],
      "text/plain": [
       "\u001b[2;36m[06/03/24 20:34:51]\u001b[0m\u001b[2;36m \u001b[0m\u001b[34mINFO    \u001b[0m Fitted the predictive model. Elapsed time: \u001b[1;92m0:00:00\u001b[0m.\u001b[1;36m062579\u001b[0m.                \u001b]8;id=812415;file:///home/krzysiek/Development/solvency-modelling/solvency_models/src/solvency_models/pipelines/p07_data_science/model.py\u001b\\\u001b[2mmodel.py\u001b[0m\u001b]8;;\u001b\\\u001b[2m:\u001b[0m\u001b]8;id=650311;file:///home/krzysiek/Development/solvency-modelling/solvency_models/src/solvency_models/pipelines/p07_data_science/model.py#107\u001b\\\u001b[2m107\u001b[0m\u001b]8;;\u001b\\\n"
      ]
     },
     "metadata": {},
     "output_type": "display_data"
    },
    {
     "data": {
      "text/html": [
       "<pre style=\"white-space:pre;overflow-x:auto;line-height:normal;font-family:Menlo,'DejaVu Sans Mono',consolas,'Courier New',monospace\"><span style=\"color: #7fbfbf; text-decoration-color: #7fbfbf\">                    </span><span style=\"color: #000080; text-decoration-color: #000080\">INFO    </span> Saving the predictive model of type <span style=\"font-weight: bold\">&lt;</span><span style=\"color: #ff00ff; text-decoration-color: #ff00ff; font-weight: bold\">class</span><span style=\"color: #000000; text-decoration-color: #000000\"> </span>                         <a href=\"file:///home/krzysiek/Development/solvency-modelling/solvency_models/src/solvency_models/pipelines/utils/mlflow_model.py\" target=\"_blank\"><span style=\"color: #7f7f7f; text-decoration-color: #7f7f7f\">mlflow_model.py</span></a><span style=\"color: #7f7f7f; text-decoration-color: #7f7f7f\">:</span><a href=\"file:///home/krzysiek/Development/solvency-modelling/solvency_models/src/solvency_models/pipelines/utils/mlflow_model.py#40\" target=\"_blank\"><span style=\"color: #7f7f7f; text-decoration-color: #7f7f7f\">40</span></a>\n",
       "<span style=\"color: #7fbfbf; text-decoration-color: #7fbfbf\">                    </span>         <span style=\"color: #008000; text-decoration-color: #008000\">'solvency_models.pipelines.p07_data_science.models.glm.SklearnPoiss</span> <span style=\"color: #7f7f7f; text-decoration-color: #7f7f7f\">                  </span>\n",
       "<span style=\"color: #7fbfbf; text-decoration-color: #7fbfbf\">                    </span>         <span style=\"color: #008000; text-decoration-color: #008000\">onGLM'</span><span style=\"font-weight: bold\">&gt;</span> to MLFlow path model_ds/predictive_model<span style=\"color: #808000; text-decoration-color: #808000\">...</span>                 <span style=\"color: #7f7f7f; text-decoration-color: #7f7f7f\">                  </span>\n",
       "</pre>\n"
      ],
      "text/plain": [
       "\u001b[2;36m                   \u001b[0m\u001b[2;36m \u001b[0m\u001b[34mINFO    \u001b[0m Saving the predictive model of type \u001b[1m<\u001b[0m\u001b[1;95mclass\u001b[0m\u001b[39m \u001b[0m                         \u001b]8;id=360148;file:///home/krzysiek/Development/solvency-modelling/solvency_models/src/solvency_models/pipelines/utils/mlflow_model.py\u001b\\\u001b[2mmlflow_model.py\u001b[0m\u001b]8;;\u001b\\\u001b[2m:\u001b[0m\u001b]8;id=235688;file:///home/krzysiek/Development/solvency-modelling/solvency_models/src/solvency_models/pipelines/utils/mlflow_model.py#40\u001b\\\u001b[2m40\u001b[0m\u001b]8;;\u001b\\\n",
       "\u001b[2;36m                    \u001b[0m         \u001b[32m'solvency_models.pipelines.p07_data_science.models.glm.SklearnPoiss\u001b[0m \u001b[2m                  \u001b[0m\n",
       "\u001b[2;36m                    \u001b[0m         \u001b[32monGLM'\u001b[0m\u001b[1m>\u001b[0m to MLFlow path model_ds/predictive_model\u001b[33m...\u001b[0m                 \u001b[2m                  \u001b[0m\n"
      ]
     },
     "metadata": {},
     "output_type": "display_data"
    },
    {
     "name": "stderr",
     "output_type": "stream",
     "text": [
      "2024/06/03 20:34:54 WARNING mlflow.utils.requirements_utils: The following packages were not found in the public PyPI package index as of 2024-02-29; if these packages are not present in the public PyPI index, you must install them manually before loading your model: {'solvency-models'}\n"
     ]
    },
    {
     "data": {
      "text/html": [
       "<pre style=\"white-space:pre;overflow-x:auto;line-height:normal;font-family:Menlo,'DejaVu Sans Mono',consolas,'Courier New',monospace\"><span style=\"color: #7fbfbf; text-decoration-color: #7fbfbf\">[06/03/24 20:34:54] </span><span style=\"color: #800000; text-decoration-color: #800000\">WARNING </span> <span style=\"color: #800080; text-decoration-color: #800080\">/home/krzysiek/Development/solvency-modelling/venv/lib/python3.11/site</span> <a href=\"file:///usr/lib/python3.11/warnings.py\" target=\"_blank\"><span style=\"color: #7f7f7f; text-decoration-color: #7f7f7f\">warnings.py</span></a><span style=\"color: #7f7f7f; text-decoration-color: #7f7f7f\">:</span><a href=\"file:///usr/lib/python3.11/warnings.py#110\" target=\"_blank\"><span style=\"color: #7f7f7f; text-decoration-color: #7f7f7f\">110</span></a>\n",
       "<span style=\"color: #7fbfbf; text-decoration-color: #7fbfbf\">                    </span>         <span style=\"color: #800080; text-decoration-color: #800080\">-packages/_distutils_hack/</span><span style=\"color: #ff00ff; text-decoration-color: #ff00ff\">__init__.py</span>:<span style=\"color: #008080; text-decoration-color: #008080; font-weight: bold\">18</span>: UserWarning: Distutils was   <span style=\"color: #7f7f7f; text-decoration-color: #7f7f7f\">               </span>\n",
       "<span style=\"color: #7fbfbf; text-decoration-color: #7fbfbf\">                    </span>         imported before Setuptools, but importing Setuptools also replaces the <span style=\"color: #7f7f7f; text-decoration-color: #7f7f7f\">               </span>\n",
       "<span style=\"color: #7fbfbf; text-decoration-color: #7fbfbf\">                    </span>         `distutils` module in `sys.modules`. This may lead to undesirable      <span style=\"color: #7f7f7f; text-decoration-color: #7f7f7f\">               </span>\n",
       "<span style=\"color: #7fbfbf; text-decoration-color: #7fbfbf\">                    </span>         behaviors or errors. To avoid these issues, avoid using distutils      <span style=\"color: #7f7f7f; text-decoration-color: #7f7f7f\">               </span>\n",
       "<span style=\"color: #7fbfbf; text-decoration-color: #7fbfbf\">                    </span>         directly, ensure that setuptools is installed in the traditional way   <span style=\"color: #7f7f7f; text-decoration-color: #7f7f7f\">               </span>\n",
       "<span style=\"color: #7fbfbf; text-decoration-color: #7fbfbf\">                    </span>         <span style=\"font-weight: bold\">(</span>e.g. not an editable install<span style=\"font-weight: bold\">)</span>, and/or make sure that setuptools is    <span style=\"color: #7f7f7f; text-decoration-color: #7f7f7f\">               </span>\n",
       "<span style=\"color: #7fbfbf; text-decoration-color: #7fbfbf\">                    </span>         always imported before distutils.                                      <span style=\"color: #7f7f7f; text-decoration-color: #7f7f7f\">               </span>\n",
       "<span style=\"color: #7fbfbf; text-decoration-color: #7fbfbf\">                    </span>           <span style=\"color: #800080; text-decoration-color: #800080; font-weight: bold\">warnings.warn</span><span style=\"font-weight: bold\">(</span>                                                       <span style=\"color: #7f7f7f; text-decoration-color: #7f7f7f\">               </span>\n",
       "<span style=\"color: #7fbfbf; text-decoration-color: #7fbfbf\">                    </span>                                                                                <span style=\"color: #7f7f7f; text-decoration-color: #7f7f7f\">               </span>\n",
       "</pre>\n"
      ],
      "text/plain": [
       "\u001b[2;36m[06/03/24 20:34:54]\u001b[0m\u001b[2;36m \u001b[0m\u001b[31mWARNING \u001b[0m \u001b[35m/home/krzysiek/Development/solvency-modelling/venv/lib/python3.11/site\u001b[0m \u001b]8;id=189315;file:///usr/lib/python3.11/warnings.py\u001b\\\u001b[2mwarnings.py\u001b[0m\u001b]8;;\u001b\\\u001b[2m:\u001b[0m\u001b]8;id=100433;file:///usr/lib/python3.11/warnings.py#110\u001b\\\u001b[2m110\u001b[0m\u001b]8;;\u001b\\\n",
       "\u001b[2;36m                    \u001b[0m         \u001b[35m-packages/_distutils_hack/\u001b[0m\u001b[95m__init__.py\u001b[0m:\u001b[1;36m18\u001b[0m: UserWarning: Distutils was   \u001b[2m               \u001b[0m\n",
       "\u001b[2;36m                    \u001b[0m         imported before Setuptools, but importing Setuptools also replaces the \u001b[2m               \u001b[0m\n",
       "\u001b[2;36m                    \u001b[0m         `distutils` module in `sys.modules`. This may lead to undesirable      \u001b[2m               \u001b[0m\n",
       "\u001b[2;36m                    \u001b[0m         behaviors or errors. To avoid these issues, avoid using distutils      \u001b[2m               \u001b[0m\n",
       "\u001b[2;36m                    \u001b[0m         directly, ensure that setuptools is installed in the traditional way   \u001b[2m               \u001b[0m\n",
       "\u001b[2;36m                    \u001b[0m         \u001b[1m(\u001b[0me.g. not an editable install\u001b[1m)\u001b[0m, and/or make sure that setuptools is    \u001b[2m               \u001b[0m\n",
       "\u001b[2;36m                    \u001b[0m         always imported before distutils.                                      \u001b[2m               \u001b[0m\n",
       "\u001b[2;36m                    \u001b[0m           \u001b[1;35mwarnings.warn\u001b[0m\u001b[1m(\u001b[0m                                                       \u001b[2m               \u001b[0m\n",
       "\u001b[2;36m                    \u001b[0m                                                                                \u001b[2m               \u001b[0m\n"
      ]
     },
     "metadata": {},
     "output_type": "display_data"
    },
    {
     "data": {
      "text/html": [
       "<pre style=\"white-space:pre;overflow-x:auto;line-height:normal;font-family:Menlo,'DejaVu Sans Mono',consolas,'Courier New',monospace\"><span style=\"color: #7fbfbf; text-decoration-color: #7fbfbf\">                    </span><span style=\"color: #800000; text-decoration-color: #800000\">WARNING </span> <span style=\"color: #800080; text-decoration-color: #800080\">/home/krzysiek/Development/solvency-modelling/venv/lib/python3.11/site</span> <a href=\"file:///usr/lib/python3.11/warnings.py\" target=\"_blank\"><span style=\"color: #7f7f7f; text-decoration-color: #7f7f7f\">warnings.py</span></a><span style=\"color: #7f7f7f; text-decoration-color: #7f7f7f\">:</span><a href=\"file:///usr/lib/python3.11/warnings.py#110\" target=\"_blank\"><span style=\"color: #7f7f7f; text-decoration-color: #7f7f7f\">110</span></a>\n",
       "<span style=\"color: #7fbfbf; text-decoration-color: #7fbfbf\">                    </span>         <span style=\"color: #800080; text-decoration-color: #800080\">-packages/_distutils_hack/</span><span style=\"color: #ff00ff; text-decoration-color: #ff00ff\">__init__.py</span>:<span style=\"color: #008080; text-decoration-color: #008080; font-weight: bold\">33</span>: UserWarning: Setuptools is   <span style=\"color: #7f7f7f; text-decoration-color: #7f7f7f\">               </span>\n",
       "<span style=\"color: #7fbfbf; text-decoration-color: #7fbfbf\">                    </span>         replacing distutils.                                                   <span style=\"color: #7f7f7f; text-decoration-color: #7f7f7f\">               </span>\n",
       "<span style=\"color: #7fbfbf; text-decoration-color: #7fbfbf\">                    </span>           <span style=\"color: #800080; text-decoration-color: #800080; font-weight: bold\">warnings.warn</span><span style=\"font-weight: bold\">(</span><span style=\"color: #008000; text-decoration-color: #008000\">\"Setuptools is replacing distutils.\"</span><span style=\"font-weight: bold\">)</span>                  <span style=\"color: #7f7f7f; text-decoration-color: #7f7f7f\">               </span>\n",
       "<span style=\"color: #7fbfbf; text-decoration-color: #7fbfbf\">                    </span>                                                                                <span style=\"color: #7f7f7f; text-decoration-color: #7f7f7f\">               </span>\n",
       "</pre>\n"
      ],
      "text/plain": [
       "\u001b[2;36m                   \u001b[0m\u001b[2;36m \u001b[0m\u001b[31mWARNING \u001b[0m \u001b[35m/home/krzysiek/Development/solvency-modelling/venv/lib/python3.11/site\u001b[0m \u001b]8;id=707474;file:///usr/lib/python3.11/warnings.py\u001b\\\u001b[2mwarnings.py\u001b[0m\u001b]8;;\u001b\\\u001b[2m:\u001b[0m\u001b]8;id=979716;file:///usr/lib/python3.11/warnings.py#110\u001b\\\u001b[2m110\u001b[0m\u001b]8;;\u001b\\\n",
       "\u001b[2;36m                    \u001b[0m         \u001b[35m-packages/_distutils_hack/\u001b[0m\u001b[95m__init__.py\u001b[0m:\u001b[1;36m33\u001b[0m: UserWarning: Setuptools is   \u001b[2m               \u001b[0m\n",
       "\u001b[2;36m                    \u001b[0m         replacing distutils.                                                   \u001b[2m               \u001b[0m\n",
       "\u001b[2;36m                    \u001b[0m           \u001b[1;35mwarnings.warn\u001b[0m\u001b[1m(\u001b[0m\u001b[32m\"Setuptools is replacing distutils.\"\u001b[0m\u001b[1m)\u001b[0m                  \u001b[2m               \u001b[0m\n",
       "\u001b[2;36m                    \u001b[0m                                                                                \u001b[2m               \u001b[0m\n"
      ]
     },
     "metadata": {},
     "output_type": "display_data"
    },
    {
     "data": {
      "text/html": [
       "<pre style=\"white-space:pre;overflow-x:auto;line-height:normal;font-family:Menlo,'DejaVu Sans Mono',consolas,'Courier New',monospace\"><span style=\"color: #7fbfbf; text-decoration-color: #7fbfbf\">                    </span><span style=\"color: #000080; text-decoration-color: #000080\">INFO    </span> Successfully saved the predictive model in                          <a href=\"file:///home/krzysiek/Development/solvency-modelling/solvency_models/src/solvency_models/pipelines/utils/mlflow_model.py\" target=\"_blank\"><span style=\"color: #7f7f7f; text-decoration-color: #7f7f7f\">mlflow_model.py</span></a><span style=\"color: #7f7f7f; text-decoration-color: #7f7f7f\">:</span><a href=\"file:///home/krzysiek/Development/solvency-modelling/solvency_models/src/solvency_models/pipelines/utils/mlflow_model.py#42\" target=\"_blank\"><span style=\"color: #7f7f7f; text-decoration-color: #7f7f7f\">42</span></a>\n",
       "<span style=\"color: #7fbfbf; text-decoration-color: #7fbfbf\">                    </span>         model_ds/predictive_model.                                          <span style=\"color: #7f7f7f; text-decoration-color: #7f7f7f\">                  </span>\n",
       "</pre>\n"
      ],
      "text/plain": [
       "\u001b[2;36m                   \u001b[0m\u001b[2;36m \u001b[0m\u001b[34mINFO    \u001b[0m Successfully saved the predictive model in                          \u001b]8;id=737928;file:///home/krzysiek/Development/solvency-modelling/solvency_models/src/solvency_models/pipelines/utils/mlflow_model.py\u001b\\\u001b[2mmlflow_model.py\u001b[0m\u001b]8;;\u001b\\\u001b[2m:\u001b[0m\u001b]8;id=953830;file:///home/krzysiek/Development/solvency-modelling/solvency_models/src/solvency_models/pipelines/utils/mlflow_model.py#42\u001b\\\u001b[2m42\u001b[0m\u001b]8;;\u001b\\\n",
       "\u001b[2;36m                    \u001b[0m         model_ds/predictive_model.                                          \u001b[2m                  \u001b[0m\n"
      ]
     },
     "metadata": {},
     "output_type": "display_data"
    },
    {
     "data": {
      "text/html": [
       "<pre style=\"white-space:pre;overflow-x:auto;line-height:normal;font-family:Menlo,'DejaVu Sans Mono',consolas,'Courier New',monospace\"><span style=\"color: #7fbfbf; text-decoration-color: #7fbfbf\">                    </span><span style=\"color: #000080; text-decoration-color: #000080\">INFO    </span> Predicting the target<span style=\"color: #808000; text-decoration-color: #808000\">...</span>                                                  <a href=\"file:///home/krzysiek/Development/solvency-modelling/solvency_models/src/solvency_models/pipelines/p07_data_science/model.py\" target=\"_blank\"><span style=\"color: #7f7f7f; text-decoration-color: #7f7f7f\">model.py</span></a><span style=\"color: #7f7f7f; text-decoration-color: #7f7f7f\">:</span><a href=\"file:///home/krzysiek/Development/solvency-modelling/solvency_models/src/solvency_models/pipelines/p07_data_science/model.py#111\" target=\"_blank\"><span style=\"color: #7f7f7f; text-decoration-color: #7f7f7f\">111</span></a>\n",
       "</pre>\n"
      ],
      "text/plain": [
       "\u001b[2;36m                   \u001b[0m\u001b[2;36m \u001b[0m\u001b[34mINFO    \u001b[0m Predicting the target\u001b[33m...\u001b[0m                                                  \u001b]8;id=756725;file:///home/krzysiek/Development/solvency-modelling/solvency_models/src/solvency_models/pipelines/p07_data_science/model.py\u001b\\\u001b[2mmodel.py\u001b[0m\u001b]8;;\u001b\\\u001b[2m:\u001b[0m\u001b]8;id=101851;file:///home/krzysiek/Development/solvency-modelling/solvency_models/src/solvency_models/pipelines/p07_data_science/model.py#111\u001b\\\u001b[2m111\u001b[0m\u001b]8;;\u001b\\\n"
      ]
     },
     "metadata": {},
     "output_type": "display_data"
    },
    {
     "data": {
      "text/html": [
       "<pre style=\"white-space:pre;overflow-x:auto;line-height:normal;font-family:Menlo,'DejaVu Sans Mono',consolas,'Courier New',monospace\"><span style=\"color: #7fbfbf; text-decoration-color: #7fbfbf\">                    </span><span style=\"color: #000080; text-decoration-color: #000080\">INFO    </span> Made predictions                                                          <a href=\"file:///home/krzysiek/Development/solvency-modelling/solvency_models/src/solvency_models/pipelines/p07_data_science/model.py\" target=\"_blank\"><span style=\"color: #7f7f7f; text-decoration-color: #7f7f7f\">model.py</span></a><span style=\"color: #7f7f7f; text-decoration-color: #7f7f7f\">:</span><a href=\"file:///home/krzysiek/Development/solvency-modelling/solvency_models/src/solvency_models/pipelines/p07_data_science/model.py#113\" target=\"_blank\"><span style=\"color: #7f7f7f; text-decoration-color: #7f7f7f\">113</span></a>\n",
       "</pre>\n"
      ],
      "text/plain": [
       "\u001b[2;36m                   \u001b[0m\u001b[2;36m \u001b[0m\u001b[34mINFO    \u001b[0m Made predictions                                                          \u001b]8;id=147060;file:///home/krzysiek/Development/solvency-modelling/solvency_models/src/solvency_models/pipelines/p07_data_science/model.py\u001b\\\u001b[2mmodel.py\u001b[0m\u001b]8;;\u001b\\\u001b[2m:\u001b[0m\u001b]8;id=476043;file:///home/krzysiek/Development/solvency-modelling/solvency_models/src/solvency_models/pipelines/p07_data_science/model.py#113\u001b\\\u001b[2m113\u001b[0m\u001b]8;;\u001b\\\n"
      ]
     },
     "metadata": {},
     "output_type": "display_data"
    },
    {
     "data": {
      "text/html": [
       "<pre style=\"white-space:pre;overflow-x:auto;line-height:normal;font-family:Menlo,'DejaVu Sans Mono',consolas,'Courier New',monospace\"><span style=\"color: #7fbfbf; text-decoration-color: #7fbfbf\">                    </span><span style=\"color: #000080; text-decoration-color: #000080\">INFO    </span> Evaluating the predictions:                                               <a href=\"file:///home/krzysiek/Development/solvency-modelling/solvency_models/src/solvency_models/pipelines/p07_data_science/model.py\" target=\"_blank\"><span style=\"color: #7f7f7f; text-decoration-color: #7f7f7f\">model.py</span></a><span style=\"color: #7f7f7f; text-decoration-color: #7f7f7f\">:</span><a href=\"file:///home/krzysiek/Development/solvency-modelling/solvency_models/src/solvency_models/pipelines/p07_data_science/model.py#133\" target=\"_blank\"><span style=\"color: #7f7f7f; text-decoration-color: #7f7f7f\">133</span></a>\n",
       "</pre>\n"
      ],
      "text/plain": [
       "\u001b[2;36m                   \u001b[0m\u001b[2;36m \u001b[0m\u001b[34mINFO    \u001b[0m Evaluating the predictions:                                               \u001b]8;id=119084;file:///home/krzysiek/Development/solvency-modelling/solvency_models/src/solvency_models/pipelines/p07_data_science/model.py\u001b\\\u001b[2mmodel.py\u001b[0m\u001b]8;;\u001b\\\u001b[2m:\u001b[0m\u001b]8;id=318484;file:///home/krzysiek/Development/solvency-modelling/solvency_models/src/solvency_models/pipelines/p07_data_science/model.py#133\u001b\\\u001b[2m133\u001b[0m\u001b]8;;\u001b\\\n"
      ]
     },
     "metadata": {},
     "output_type": "display_data"
    },
    {
     "data": {
      "text/html": [
       "<pre style=\"white-space:pre;overflow-x:auto;line-height:normal;font-family:Menlo,'DejaVu Sans Mono',consolas,'Courier New',monospace\"><span style=\"color: #7fbfbf; text-decoration-color: #7fbfbf\">                    </span><span style=\"color: #000080; text-decoration-color: #000080\">INFO    </span> Evaluated the predictions:                                                <a href=\"file:///home/krzysiek/Development/solvency-modelling/solvency_models/src/solvency_models/pipelines/p07_data_science/model.py\" target=\"_blank\"><span style=\"color: #7f7f7f; text-decoration-color: #7f7f7f\">model.py</span></a><span style=\"color: #7f7f7f; text-decoration-color: #7f7f7f\">:</span><a href=\"file:///home/krzysiek/Development/solvency-modelling/solvency_models/src/solvency_models/pipelines/p07_data_science/model.py#142\" target=\"_blank\"><span style=\"color: #7f7f7f; text-decoration-color: #7f7f7f\">142</span></a>\n",
       "<span style=\"color: #7fbfbf; text-decoration-color: #7fbfbf\">                    </span>             - sample_MPD: <span style=\"color: #008080; text-decoration-color: #008080; font-weight: bold\">3.8918479157394215</span>                                      <span style=\"color: #7f7f7f; text-decoration-color: #7f7f7f\">            </span>\n",
       "<span style=\"color: #7fbfbf; text-decoration-color: #7fbfbf\">                    </span>             - sample_wMPD: <span style=\"color: #008080; text-decoration-color: #008080; font-weight: bold\">1.5399282131005723</span>                                     <span style=\"color: #7f7f7f; text-decoration-color: #7f7f7f\">            </span>\n",
       "<span style=\"color: #7fbfbf; text-decoration-color: #7fbfbf\">                    </span>             - sample_RMSE: <span style=\"color: #008080; text-decoration-color: #008080; font-weight: bold\">4.498991792359357</span>                                      <span style=\"color: #7f7f7f; text-decoration-color: #7f7f7f\">            </span>\n",
       "<span style=\"color: #7fbfbf; text-decoration-color: #7fbfbf\">                    </span>             - sample_wRMSE: <span style=\"color: #008080; text-decoration-color: #008080; font-weight: bold\">1.3917886912290154</span>                                    <span style=\"color: #7f7f7f; text-decoration-color: #7f7f7f\">            </span>\n",
       "<span style=\"color: #7fbfbf; text-decoration-color: #7fbfbf\">                    </span>             - sample_R2: <span style=\"color: #008080; text-decoration-color: #008080; font-weight: bold\">0.0054552228396752556</span>                                    <span style=\"color: #7f7f7f; text-decoration-color: #7f7f7f\">            </span>\n",
       "<span style=\"color: #7fbfbf; text-decoration-color: #7fbfbf\">                    </span>             - sample_wR2: <span style=\"color: #008080; text-decoration-color: #008080; font-weight: bold\">-0.11413783448457049</span>                                    <span style=\"color: #7f7f7f; text-decoration-color: #7f7f7f\">            </span>\n",
       "<span style=\"color: #7fbfbf; text-decoration-color: #7fbfbf\">                    </span>             - sample_SC: <span style=\"color: #008080; text-decoration-color: #008080; font-weight: bold\">0.17583594766892416</span>                                      <span style=\"color: #7f7f7f; text-decoration-color: #7f7f7f\">            </span>\n",
       "<span style=\"color: #7fbfbf; text-decoration-color: #7fbfbf\">                    </span>             - sample_SRC: <span style=\"color: #008080; text-decoration-color: #008080; font-weight: bold\">0.17583594766892416</span>                                     <span style=\"color: #7f7f7f; text-decoration-color: #7f7f7f\">            </span>\n",
       "</pre>\n"
      ],
      "text/plain": [
       "\u001b[2;36m                   \u001b[0m\u001b[2;36m \u001b[0m\u001b[34mINFO    \u001b[0m Evaluated the predictions:                                                \u001b]8;id=798478;file:///home/krzysiek/Development/solvency-modelling/solvency_models/src/solvency_models/pipelines/p07_data_science/model.py\u001b\\\u001b[2mmodel.py\u001b[0m\u001b]8;;\u001b\\\u001b[2m:\u001b[0m\u001b]8;id=858402;file:///home/krzysiek/Development/solvency-modelling/solvency_models/src/solvency_models/pipelines/p07_data_science/model.py#142\u001b\\\u001b[2m142\u001b[0m\u001b]8;;\u001b\\\n",
       "\u001b[2;36m                    \u001b[0m             - sample_MPD: \u001b[1;36m3.8918479157394215\u001b[0m                                      \u001b[2m            \u001b[0m\n",
       "\u001b[2;36m                    \u001b[0m             - sample_wMPD: \u001b[1;36m1.5399282131005723\u001b[0m                                     \u001b[2m            \u001b[0m\n",
       "\u001b[2;36m                    \u001b[0m             - sample_RMSE: \u001b[1;36m4.498991792359357\u001b[0m                                      \u001b[2m            \u001b[0m\n",
       "\u001b[2;36m                    \u001b[0m             - sample_wRMSE: \u001b[1;36m1.3917886912290154\u001b[0m                                    \u001b[2m            \u001b[0m\n",
       "\u001b[2;36m                    \u001b[0m             - sample_R2: \u001b[1;36m0.0054552228396752556\u001b[0m                                    \u001b[2m            \u001b[0m\n",
       "\u001b[2;36m                    \u001b[0m             - sample_wR2: \u001b[1;36m-0.11413783448457049\u001b[0m                                    \u001b[2m            \u001b[0m\n",
       "\u001b[2;36m                    \u001b[0m             - sample_SC: \u001b[1;36m0.17583594766892416\u001b[0m                                      \u001b[2m            \u001b[0m\n",
       "\u001b[2;36m                    \u001b[0m             - sample_SRC: \u001b[1;36m0.17583594766892416\u001b[0m                                     \u001b[2m            \u001b[0m\n"
      ]
     },
     "metadata": {},
     "output_type": "display_data"
    },
    {
     "data": {
      "text/html": [
       "<pre style=\"white-space:pre;overflow-x:auto;line-height:normal;font-family:Menlo,'DejaVu Sans Mono',consolas,'Courier New',monospace\"><span style=\"color: #7fbfbf; text-decoration-color: #7fbfbf\">                    </span><span style=\"color: #000080; text-decoration-color: #000080\">INFO    </span> Logging the metrics to MLFlow<span style=\"color: #808000; text-decoration-color: #808000\">...</span>                                          <a href=\"file:///home/krzysiek/Development/solvency-modelling/solvency_models/src/solvency_models/pipelines/p07_data_science/model.py\" target=\"_blank\"><span style=\"color: #7f7f7f; text-decoration-color: #7f7f7f\">model.py</span></a><span style=\"color: #7f7f7f; text-decoration-color: #7f7f7f\">:</span><a href=\"file:///home/krzysiek/Development/solvency-modelling/solvency_models/src/solvency_models/pipelines/p07_data_science/model.py#145\" target=\"_blank\"><span style=\"color: #7f7f7f; text-decoration-color: #7f7f7f\">145</span></a>\n",
       "</pre>\n"
      ],
      "text/plain": [
       "\u001b[2;36m                   \u001b[0m\u001b[2;36m \u001b[0m\u001b[34mINFO    \u001b[0m Logging the metrics to MLFlow\u001b[33m...\u001b[0m                                          \u001b]8;id=814251;file:///home/krzysiek/Development/solvency-modelling/solvency_models/src/solvency_models/pipelines/p07_data_science/model.py\u001b\\\u001b[2mmodel.py\u001b[0m\u001b]8;;\u001b\\\u001b[2m:\u001b[0m\u001b]8;id=664995;file:///home/krzysiek/Development/solvency-modelling/solvency_models/src/solvency_models/pipelines/p07_data_science/model.py#145\u001b\\\u001b[2m145\u001b[0m\u001b]8;;\u001b\\\n"
      ]
     },
     "metadata": {},
     "output_type": "display_data"
    },
    {
     "data": {
      "text/html": [
       "<pre style=\"white-space:pre;overflow-x:auto;line-height:normal;font-family:Menlo,'DejaVu Sans Mono',consolas,'Courier New',monospace\"><span style=\"color: #7fbfbf; text-decoration-color: #7fbfbf\">                    </span><span style=\"color: #000080; text-decoration-color: #000080\">INFO    </span> Logged the metrics to MLFlow.                                             <a href=\"file:///home/krzysiek/Development/solvency-modelling/solvency_models/src/solvency_models/pipelines/p07_data_science/model.py\" target=\"_blank\"><span style=\"color: #7f7f7f; text-decoration-color: #7f7f7f\">model.py</span></a><span style=\"color: #7f7f7f; text-decoration-color: #7f7f7f\">:</span><a href=\"file:///home/krzysiek/Development/solvency-modelling/solvency_models/src/solvency_models/pipelines/p07_data_science/model.py#148\" target=\"_blank\"><span style=\"color: #7f7f7f; text-decoration-color: #7f7f7f\">148</span></a>\n",
       "</pre>\n"
      ],
      "text/plain": [
       "\u001b[2;36m                   \u001b[0m\u001b[2;36m \u001b[0m\u001b[34mINFO    \u001b[0m Logged the metrics to MLFlow.                                             \u001b]8;id=330017;file:///home/krzysiek/Development/solvency-modelling/solvency_models/src/solvency_models/pipelines/p07_data_science/model.py\u001b\\\u001b[2mmodel.py\u001b[0m\u001b]8;;\u001b\\\u001b[2m:\u001b[0m\u001b]8;id=253596;file:///home/krzysiek/Development/solvency-modelling/solvency_models/src/solvency_models/pipelines/p07_data_science/model.py#148\u001b\\\u001b[2m148\u001b[0m\u001b]8;;\u001b\\\n"
      ]
     },
     "metadata": {},
     "output_type": "display_data"
    },
    {
     "data": {
      "text/html": [
       "<pre style=\"white-space:pre;overflow-x:auto;line-height:normal;font-family:Menlo,'DejaVu Sans Mono',consolas,'Courier New',monospace\"><span style=\"color: #7fbfbf; text-decoration-color: #7fbfbf\">                    </span><span style=\"color: #000080; text-decoration-color: #000080\">INFO    </span> Saving data to <span style=\"color: #ff8700; text-decoration-color: #ff8700\">pure_sample_predictions_df</span> <span style=\"font-weight: bold\">(</span>ParquetDataset<span style=\"font-weight: bold\">)</span><span style=\"color: #808000; text-decoration-color: #808000\">...</span>      <a href=\"file:///home/krzysiek/Development/solvency-modelling/venv/lib/python3.11/site-packages/kedro/io/data_catalog.py\" target=\"_blank\"><span style=\"color: #7f7f7f; text-decoration-color: #7f7f7f\">data_catalog.py</span></a><span style=\"color: #7f7f7f; text-decoration-color: #7f7f7f\">:</span><a href=\"file:///home/krzysiek/Development/solvency-modelling/venv/lib/python3.11/site-packages/kedro/io/data_catalog.py#525\" target=\"_blank\"><span style=\"color: #7f7f7f; text-decoration-color: #7f7f7f\">525</span></a>\n",
       "</pre>\n"
      ],
      "text/plain": [
       "\u001b[2;36m                   \u001b[0m\u001b[2;36m \u001b[0m\u001b[34mINFO    \u001b[0m Saving data to \u001b[38;5;208mpure_sample_predictions_df\u001b[0m \u001b[1m(\u001b[0mParquetDataset\u001b[1m)\u001b[0m\u001b[33m...\u001b[0m      \u001b]8;id=39694;file:///home/krzysiek/Development/solvency-modelling/venv/lib/python3.11/site-packages/kedro/io/data_catalog.py\u001b\\\u001b[2mdata_catalog.py\u001b[0m\u001b]8;;\u001b\\\u001b[2m:\u001b[0m\u001b]8;id=477920;file:///home/krzysiek/Development/solvency-modelling/venv/lib/python3.11/site-packages/kedro/io/data_catalog.py#525\u001b\\\u001b[2m525\u001b[0m\u001b]8;;\u001b\\\n"
      ]
     },
     "metadata": {},
     "output_type": "display_data"
    },
    {
     "data": {
      "text/html": [
       "<pre style=\"white-space:pre;overflow-x:auto;line-height:normal;font-family:Menlo,'DejaVu Sans Mono',consolas,'Courier New',monospace\"><span style=\"color: #7fbfbf; text-decoration-color: #7fbfbf\">                    </span><span style=\"color: #000080; text-decoration-color: #000080\">INFO    </span> Completed <span style=\"color: #008080; text-decoration-color: #008080; font-weight: bold\">4</span> out of <span style=\"color: #008080; text-decoration-color: #008080; font-weight: bold\">4</span> tasks                                     <a href=\"file:///home/krzysiek/Development/solvency-modelling/venv/lib/python3.11/site-packages/kedro/runner/sequential_runner.py\" target=\"_blank\"><span style=\"color: #7f7f7f; text-decoration-color: #7f7f7f\">sequential_runner.py</span></a><span style=\"color: #7f7f7f; text-decoration-color: #7f7f7f\">:</span><a href=\"file:///home/krzysiek/Development/solvency-modelling/venv/lib/python3.11/site-packages/kedro/runner/sequential_runner.py#90\" target=\"_blank\"><span style=\"color: #7f7f7f; text-decoration-color: #7f7f7f\">90</span></a>\n",
       "</pre>\n"
      ],
      "text/plain": [
       "\u001b[2;36m                   \u001b[0m\u001b[2;36m \u001b[0m\u001b[34mINFO    \u001b[0m Completed \u001b[1;36m4\u001b[0m out of \u001b[1;36m4\u001b[0m tasks                                     \u001b]8;id=533655;file:///home/krzysiek/Development/solvency-modelling/venv/lib/python3.11/site-packages/kedro/runner/sequential_runner.py\u001b\\\u001b[2msequential_runner.py\u001b[0m\u001b]8;;\u001b\\\u001b[2m:\u001b[0m\u001b]8;id=200310;file:///home/krzysiek/Development/solvency-modelling/venv/lib/python3.11/site-packages/kedro/runner/sequential_runner.py#90\u001b\\\u001b[2m90\u001b[0m\u001b]8;;\u001b\\\n"
      ]
     },
     "metadata": {},
     "output_type": "display_data"
    },
    {
     "data": {
      "text/html": [
       "<pre style=\"white-space:pre;overflow-x:auto;line-height:normal;font-family:Menlo,'DejaVu Sans Mono',consolas,'Courier New',monospace\"><span style=\"color: #7fbfbf; text-decoration-color: #7fbfbf\">                    </span><span style=\"color: #000080; text-decoration-color: #000080\">INFO    </span> Pipeline execution completed successfully.                               <a href=\"file:///home/krzysiek/Development/solvency-modelling/venv/lib/python3.11/site-packages/kedro/runner/runner.py\" target=\"_blank\"><span style=\"color: #7f7f7f; text-decoration-color: #7f7f7f\">runner.py</span></a><span style=\"color: #7f7f7f; text-decoration-color: #7f7f7f\">:</span><a href=\"file:///home/krzysiek/Development/solvency-modelling/venv/lib/python3.11/site-packages/kedro/runner/runner.py#119\" target=\"_blank\"><span style=\"color: #7f7f7f; text-decoration-color: #7f7f7f\">119</span></a>\n",
       "</pre>\n"
      ],
      "text/plain": [
       "\u001b[2;36m                   \u001b[0m\u001b[2;36m \u001b[0m\u001b[34mINFO    \u001b[0m Pipeline execution completed successfully.                               \u001b]8;id=596130;file:///home/krzysiek/Development/solvency-modelling/venv/lib/python3.11/site-packages/kedro/runner/runner.py\u001b\\\u001b[2mrunner.py\u001b[0m\u001b]8;;\u001b\\\u001b[2m:\u001b[0m\u001b]8;id=724205;file:///home/krzysiek/Development/solvency-modelling/venv/lib/python3.11/site-packages/kedro/runner/runner.py#119\u001b\\\u001b[2m119\u001b[0m\u001b]8;;\u001b\\\n"
      ]
     },
     "metadata": {},
     "output_type": "display_data"
    },
    {
     "data": {
      "text/html": [
       "<pre style=\"white-space:pre;overflow-x:auto;line-height:normal;font-family:Menlo,'DejaVu Sans Mono',consolas,'Courier New',monospace\"><span style=\"color: #7fbfbf; text-decoration-color: #7fbfbf\">                    </span><span style=\"color: #800000; text-decoration-color: #800000\">WARNING </span> The run <span style=\"color: #008000; text-decoration-color: #008000\">'ef29cc4c1ef141a2993c37c781ca9d82'</span> was already opened       <a href=\"file:///home/krzysiek/Development/solvency-modelling/venv/lib/python3.11/site-packages/kedro_mlflow/framework/hooks/mlflow_hook.py\" target=\"_blank\"><span style=\"color: #7f7f7f; text-decoration-color: #7f7f7f\">mlflow_hook.py</span></a><span style=\"color: #7f7f7f; text-decoration-color: #7f7f7f\">:</span><a href=\"file:///home/krzysiek/Development/solvency-modelling/venv/lib/python3.11/site-packages/kedro_mlflow/framework/hooks/mlflow_hook.py#395\" target=\"_blank\"><span style=\"color: #7f7f7f; text-decoration-color: #7f7f7f\">395</span></a>\n",
       "<span style=\"color: #7fbfbf; text-decoration-color: #7fbfbf\">                    </span>         before launching <span style=\"color: #008000; text-decoration-color: #008000\">'kedro run'</span> so it is not closed. You should close  <span style=\"color: #7f7f7f; text-decoration-color: #7f7f7f\">                  </span>\n",
       "<span style=\"color: #7fbfbf; text-decoration-color: #7fbfbf\">                    </span>         it manually.                                                        <span style=\"color: #7f7f7f; text-decoration-color: #7f7f7f\">                  </span>\n",
       "</pre>\n"
      ],
      "text/plain": [
       "\u001b[2;36m                   \u001b[0m\u001b[2;36m \u001b[0m\u001b[31mWARNING \u001b[0m The run \u001b[32m'ef29cc4c1ef141a2993c37c781ca9d82'\u001b[0m was already opened       \u001b]8;id=502008;file:///home/krzysiek/Development/solvency-modelling/venv/lib/python3.11/site-packages/kedro_mlflow/framework/hooks/mlflow_hook.py\u001b\\\u001b[2mmlflow_hook.py\u001b[0m\u001b]8;;\u001b\\\u001b[2m:\u001b[0m\u001b]8;id=925109;file:///home/krzysiek/Development/solvency-modelling/venv/lib/python3.11/site-packages/kedro_mlflow/framework/hooks/mlflow_hook.py#395\u001b\\\u001b[2m395\u001b[0m\u001b]8;;\u001b\\\n",
       "\u001b[2;36m                    \u001b[0m         before launching \u001b[32m'kedro run'\u001b[0m so it is not closed. You should close  \u001b[2m                  \u001b[0m\n",
       "\u001b[2;36m                    \u001b[0m         it manually.                                                        \u001b[2m                  \u001b[0m\n"
      ]
     },
     "metadata": {},
     "output_type": "display_data"
    }
   ],
   "source": [
    "task_out = my_kedro.run(\"de_ds\")"
   ]
  },
  {
   "cell_type": "code",
   "execution_count": 3,
   "id": "edbb3615-6147-4195-a271-d80d7f922a84",
   "metadata": {
    "scrolled": true
   },
   "outputs": [
    {
     "data": {
      "text/html": [
       "<pre style=\"white-space:pre;overflow-x:auto;line-height:normal;font-family:Menlo,'DejaVu Sans Mono',consolas,'Courier New',monospace\"><span style=\"color: #7fbfbf; text-decoration-color: #7fbfbf\">[06/03/24 20:35:27] </span><span style=\"color: #000080; text-decoration-color: #000080\">INFO    </span> Kedro project solvency_models                                           <a href=\"file:///home/krzysiek/Development/solvency-modelling/venv/lib/python3.11/site-packages/kedro/framework/session/session.py\" target=\"_blank\"><span style=\"color: #7f7f7f; text-decoration-color: #7f7f7f\">session.py</span></a><span style=\"color: #7f7f7f; text-decoration-color: #7f7f7f\">:</span><a href=\"file:///home/krzysiek/Development/solvency-modelling/venv/lib/python3.11/site-packages/kedro/framework/session/session.py#321\" target=\"_blank\"><span style=\"color: #7f7f7f; text-decoration-color: #7f7f7f\">321</span></a>\n",
       "</pre>\n"
      ],
      "text/plain": [
       "\u001b[2;36m[06/03/24 20:35:27]\u001b[0m\u001b[2;36m \u001b[0m\u001b[34mINFO    \u001b[0m Kedro project solvency_models                                           \u001b]8;id=192125;file:///home/krzysiek/Development/solvency-modelling/venv/lib/python3.11/site-packages/kedro/framework/session/session.py\u001b\\\u001b[2msession.py\u001b[0m\u001b]8;;\u001b\\\u001b[2m:\u001b[0m\u001b]8;id=532779;file:///home/krzysiek/Development/solvency-modelling/venv/lib/python3.11/site-packages/kedro/framework/session/session.py#321\u001b\\\u001b[2m321\u001b[0m\u001b]8;;\u001b\\\n"
      ]
     },
     "metadata": {},
     "output_type": "display_data"
    },
    {
     "data": {
      "text/html": [
       "<pre style=\"white-space:pre;overflow-x:auto;line-height:normal;font-family:Menlo,'DejaVu Sans Mono',consolas,'Courier New',monospace\"><span style=\"color: #7fbfbf; text-decoration-color: #7fbfbf\">                    </span><span style=\"color: #000080; text-decoration-color: #000080\">INFO    </span> mlflow_config.server.mlflow_tracking_uri: <span style=\"color: #0000ff; text-decoration-color: #0000ff; text-decoration: underline\">http://127.0.0.1:5000</span>          <a href=\"file:///home/krzysiek/Development/solvency-modelling/solvency_models/src/solvency_models/context.py\" target=\"_blank\"><span style=\"color: #7f7f7f; text-decoration-color: #7f7f7f\">context.py</span></a><span style=\"color: #7f7f7f; text-decoration-color: #7f7f7f\">:</span><a href=\"file:///home/krzysiek/Development/solvency-modelling/solvency_models/src/solvency_models/context.py#71\" target=\"_blank\"><span style=\"color: #7f7f7f; text-decoration-color: #7f7f7f\">71</span></a>\n",
       "</pre>\n"
      ],
      "text/plain": [
       "\u001b[2;36m                   \u001b[0m\u001b[2;36m \u001b[0m\u001b[34mINFO    \u001b[0m mlflow_config.server.mlflow_tracking_uri: \u001b[4;94mhttp://127.0.0.1:5000\u001b[0m          \u001b]8;id=308093;file:///home/krzysiek/Development/solvency-modelling/solvency_models/src/solvency_models/context.py\u001b\\\u001b[2mcontext.py\u001b[0m\u001b]8;;\u001b\\\u001b[2m:\u001b[0m\u001b]8;id=608760;file:///home/krzysiek/Development/solvency-modelling/solvency_models/src/solvency_models/context.py#71\u001b\\\u001b[2m71\u001b[0m\u001b]8;;\u001b\\\n"
      ]
     },
     "metadata": {},
     "output_type": "display_data"
    },
    {
     "data": {
      "text/html": [
       "<pre style=\"white-space:pre;overflow-x:auto;line-height:normal;font-family:Menlo,'DejaVu Sans Mono',consolas,'Courier New',monospace\"><span style=\"color: #7fbfbf; text-decoration-color: #7fbfbf\">                    </span><span style=\"color: #000080; text-decoration-color: #000080\">INFO    </span> mlflow_run_id: ef29cc4c1ef141a2993c37c781ca9d82                          <a href=\"file:///home/krzysiek/Development/solvency-modelling/solvency_models/src/solvency_models/context.py\" target=\"_blank\"><span style=\"color: #7f7f7f; text-decoration-color: #7f7f7f\">context.py</span></a><span style=\"color: #7f7f7f; text-decoration-color: #7f7f7f\">:</span><a href=\"file:///home/krzysiek/Development/solvency-modelling/solvency_models/src/solvency_models/context.py#86\" target=\"_blank\"><span style=\"color: #7f7f7f; text-decoration-color: #7f7f7f\">86</span></a>\n",
       "</pre>\n"
      ],
      "text/plain": [
       "\u001b[2;36m                   \u001b[0m\u001b[2;36m \u001b[0m\u001b[34mINFO    \u001b[0m mlflow_run_id: ef29cc4c1ef141a2993c37c781ca9d82                          \u001b]8;id=494003;file:///home/krzysiek/Development/solvency-modelling/solvency_models/src/solvency_models/context.py\u001b\\\u001b[2mcontext.py\u001b[0m\u001b]8;;\u001b\\\u001b[2m:\u001b[0m\u001b]8;id=250860;file:///home/krzysiek/Development/solvency-modelling/solvency_models/src/solvency_models/context.py#86\u001b\\\u001b[2m86\u001b[0m\u001b]8;;\u001b\\\n"
      ]
     },
     "metadata": {},
     "output_type": "display_data"
    },
    {
     "data": {
      "text/html": [
       "<pre style=\"white-space:pre;overflow-x:auto;line-height:normal;font-family:Menlo,'DejaVu Sans Mono',consolas,'Courier New',monospace\"><span style=\"color: #7fbfbf; text-decoration-color: #7fbfbf\">                    </span><span style=\"color: #000080; text-decoration-color: #000080\">INFO    </span> Registering new custom resolver: <span style=\"color: #008000; text-decoration-color: #008000\">'km.random_name'</span>                    <a href=\"file:///home/krzysiek/Development/solvency-modelling/venv/lib/python3.11/site-packages/kedro_mlflow/framework/hooks/mlflow_hook.py\" target=\"_blank\"><span style=\"color: #7f7f7f; text-decoration-color: #7f7f7f\">mlflow_hook.py</span></a><span style=\"color: #7f7f7f; text-decoration-color: #7f7f7f\">:</span><a href=\"file:///home/krzysiek/Development/solvency-modelling/venv/lib/python3.11/site-packages/kedro_mlflow/framework/hooks/mlflow_hook.py#65\" target=\"_blank\"><span style=\"color: #7f7f7f; text-decoration-color: #7f7f7f\">65</span></a>\n",
       "</pre>\n"
      ],
      "text/plain": [
       "\u001b[2;36m                   \u001b[0m\u001b[2;36m \u001b[0m\u001b[34mINFO    \u001b[0m Registering new custom resolver: \u001b[32m'km.random_name'\u001b[0m                    \u001b]8;id=394948;file:///home/krzysiek/Development/solvency-modelling/venv/lib/python3.11/site-packages/kedro_mlflow/framework/hooks/mlflow_hook.py\u001b\\\u001b[2mmlflow_hook.py\u001b[0m\u001b]8;;\u001b\\\u001b[2m:\u001b[0m\u001b]8;id=75767;file:///home/krzysiek/Development/solvency-modelling/venv/lib/python3.11/site-packages/kedro_mlflow/framework/hooks/mlflow_hook.py#65\u001b\\\u001b[2m65\u001b[0m\u001b]8;;\u001b\\\n"
      ]
     },
     "metadata": {},
     "output_type": "display_data"
    },
    {
     "data": {
      "text/html": [
       "<pre style=\"white-space:pre;overflow-x:auto;line-height:normal;font-family:Menlo,'DejaVu Sans Mono',consolas,'Courier New',monospace\"><span style=\"color: #7fbfbf; text-decoration-color: #7fbfbf\">                    </span><span style=\"color: #800000; text-decoration-color: #800000\">WARNING </span> The mlflow run ef29cc4c1ef141a2993c37c781ca9d82 is already active.   <a href=\"file:///home/krzysiek/Development/solvency-modelling/venv/lib/python3.11/site-packages/kedro_mlflow/framework/hooks/mlflow_hook.py\" target=\"_blank\"><span style=\"color: #7f7f7f; text-decoration-color: #7f7f7f\">mlflow_hook.py</span></a><span style=\"color: #7f7f7f; text-decoration-color: #7f7f7f\">:</span><a href=\"file:///home/krzysiek/Development/solvency-modelling/venv/lib/python3.11/site-packages/kedro_mlflow/framework/hooks/mlflow_hook.py#97\" target=\"_blank\"><span style=\"color: #7f7f7f; text-decoration-color: #7f7f7f\">97</span></a>\n",
       "<span style=\"color: #7fbfbf; text-decoration-color: #7fbfbf\">                    </span>         Configuration is inferred from the environment, and mlflow.yml is    <span style=\"color: #7f7f7f; text-decoration-color: #7f7f7f\">                 </span>\n",
       "<span style=\"color: #7fbfbf; text-decoration-color: #7fbfbf\">                    </span>         ignored.                                                             <span style=\"color: #7f7f7f; text-decoration-color: #7f7f7f\">                 </span>\n",
       "</pre>\n"
      ],
      "text/plain": [
       "\u001b[2;36m                   \u001b[0m\u001b[2;36m \u001b[0m\u001b[31mWARNING \u001b[0m The mlflow run ef29cc4c1ef141a2993c37c781ca9d82 is already active.   \u001b]8;id=621732;file:///home/krzysiek/Development/solvency-modelling/venv/lib/python3.11/site-packages/kedro_mlflow/framework/hooks/mlflow_hook.py\u001b\\\u001b[2mmlflow_hook.py\u001b[0m\u001b]8;;\u001b\\\u001b[2m:\u001b[0m\u001b]8;id=709016;file:///home/krzysiek/Development/solvency-modelling/venv/lib/python3.11/site-packages/kedro_mlflow/framework/hooks/mlflow_hook.py#97\u001b\\\u001b[2m97\u001b[0m\u001b]8;;\u001b\\\n",
       "\u001b[2;36m                    \u001b[0m         Configuration is inferred from the environment, and mlflow.yml is    \u001b[2m                 \u001b[0m\n",
       "\u001b[2;36m                    \u001b[0m         ignored.                                                             \u001b[2m                 \u001b[0m\n"
      ]
     },
     "metadata": {},
     "output_type": "display_data"
    },
    {
     "data": {
      "text/html": [
       "<pre style=\"white-space:pre;overflow-x:auto;line-height:normal;font-family:Menlo,'DejaVu Sans Mono',consolas,'Courier New',monospace\"><span style=\"color: #7fbfbf; text-decoration-color: #7fbfbf\">                    </span><span style=\"color: #800000; text-decoration-color: #800000\">WARNING </span> mlflow_config.server.<span style=\"color: #808000; text-decoration-color: #808000\">mlflow_tracking_uri</span>=<span style=\"color: #008000; text-decoration-color: #008000\">'http://127.0.0.1:5000'</span>    <a href=\"file:///home/krzysiek/Development/solvency-modelling/venv/lib/python3.11/site-packages/kedro_mlflow/framework/hooks/mlflow_hook.py\" target=\"_blank\"><span style=\"color: #7f7f7f; text-decoration-color: #7f7f7f\">mlflow_hook.py</span></a><span style=\"color: #7f7f7f; text-decoration-color: #7f7f7f\">:</span><a href=\"file:///home/krzysiek/Development/solvency-modelling/venv/lib/python3.11/site-packages/kedro_mlflow/framework/hooks/mlflow_hook.py#105\" target=\"_blank\"><span style=\"color: #7f7f7f; text-decoration-color: #7f7f7f\">105</span></a>\n",
       "</pre>\n"
      ],
      "text/plain": [
       "\u001b[2;36m                   \u001b[0m\u001b[2;36m \u001b[0m\u001b[31mWARNING \u001b[0m mlflow_config.server.\u001b[33mmlflow_tracking_uri\u001b[0m=\u001b[32m'http://127.0.0.1:5000'\u001b[0m    \u001b]8;id=535345;file:///home/krzysiek/Development/solvency-modelling/venv/lib/python3.11/site-packages/kedro_mlflow/framework/hooks/mlflow_hook.py\u001b\\\u001b[2mmlflow_hook.py\u001b[0m\u001b]8;;\u001b\\\u001b[2m:\u001b[0m\u001b]8;id=288051;file:///home/krzysiek/Development/solvency-modelling/venv/lib/python3.11/site-packages/kedro_mlflow/framework/hooks/mlflow_hook.py#105\u001b\\\u001b[2m105\u001b[0m\u001b]8;;\u001b\\\n"
      ]
     },
     "metadata": {},
     "output_type": "display_data"
    },
    {
     "data": {
      "text/html": [
       "<pre style=\"white-space:pre;overflow-x:auto;line-height:normal;font-family:Menlo,'DejaVu Sans Mono',consolas,'Courier New',monospace\"><span style=\"color: #7fbfbf; text-decoration-color: #7fbfbf\">                    </span><span style=\"color: #800000; text-decoration-color: #800000\">WARNING </span> mlflow_config.tracking.run.<span style=\"color: #808000; text-decoration-color: #808000\">id</span>=<span style=\"color: #008000; text-decoration-color: #008000\">'ef29cc4c1ef141a2993c37c781ca9d82'</span>    <a href=\"file:///home/krzysiek/Development/solvency-modelling/venv/lib/python3.11/site-packages/kedro_mlflow/framework/hooks/mlflow_hook.py\" target=\"_blank\"><span style=\"color: #7f7f7f; text-decoration-color: #7f7f7f\">mlflow_hook.py</span></a><span style=\"color: #7f7f7f; text-decoration-color: #7f7f7f\">:</span><a href=\"file:///home/krzysiek/Development/solvency-modelling/venv/lib/python3.11/site-packages/kedro_mlflow/framework/hooks/mlflow_hook.py#108\" target=\"_blank\"><span style=\"color: #7f7f7f; text-decoration-color: #7f7f7f\">108</span></a>\n",
       "</pre>\n"
      ],
      "text/plain": [
       "\u001b[2;36m                   \u001b[0m\u001b[2;36m \u001b[0m\u001b[31mWARNING \u001b[0m mlflow_config.tracking.run.\u001b[33mid\u001b[0m=\u001b[32m'ef29cc4c1ef141a2993c37c781ca9d82'\u001b[0m    \u001b]8;id=880710;file:///home/krzysiek/Development/solvency-modelling/venv/lib/python3.11/site-packages/kedro_mlflow/framework/hooks/mlflow_hook.py\u001b\\\u001b[2mmlflow_hook.py\u001b[0m\u001b]8;;\u001b\\\u001b[2m:\u001b[0m\u001b]8;id=289804;file:///home/krzysiek/Development/solvency-modelling/venv/lib/python3.11/site-packages/kedro_mlflow/framework/hooks/mlflow_hook.py#108\u001b\\\u001b[2m108\u001b[0m\u001b]8;;\u001b\\\n"
      ]
     },
     "metadata": {},
     "output_type": "display_data"
    },
    {
     "data": {
      "text/html": [
       "<pre style=\"white-space:pre;overflow-x:auto;line-height:normal;font-family:Menlo,'DejaVu Sans Mono',consolas,'Courier New',monospace\"><span style=\"color: #7fbfbf; text-decoration-color: #7fbfbf\">                    </span><span style=\"color: #800000; text-decoration-color: #800000\">WARNING </span> mlflow_config.tracking.experiment.<span style=\"color: #808000; text-decoration-color: #808000\">name</span>=<span style=\"color: #008000; text-decoration-color: #008000\">'test-p07-ds'</span>                <a href=\"file:///home/krzysiek/Development/solvency-modelling/venv/lib/python3.11/site-packages/kedro_mlflow/framework/hooks/mlflow_hook.py\" target=\"_blank\"><span style=\"color: #7f7f7f; text-decoration-color: #7f7f7f\">mlflow_hook.py</span></a><span style=\"color: #7f7f7f; text-decoration-color: #7f7f7f\">:</span><a href=\"file:///home/krzysiek/Development/solvency-modelling/venv/lib/python3.11/site-packages/kedro_mlflow/framework/hooks/mlflow_hook.py#113\" target=\"_blank\"><span style=\"color: #7f7f7f; text-decoration-color: #7f7f7f\">113</span></a>\n",
       "</pre>\n"
      ],
      "text/plain": [
       "\u001b[2;36m                   \u001b[0m\u001b[2;36m \u001b[0m\u001b[31mWARNING \u001b[0m mlflow_config.tracking.experiment.\u001b[33mname\u001b[0m=\u001b[32m'test-p07-ds'\u001b[0m                \u001b]8;id=698405;file:///home/krzysiek/Development/solvency-modelling/venv/lib/python3.11/site-packages/kedro_mlflow/framework/hooks/mlflow_hook.py\u001b\\\u001b[2mmlflow_hook.py\u001b[0m\u001b]8;;\u001b\\\u001b[2m:\u001b[0m\u001b]8;id=721498;file:///home/krzysiek/Development/solvency-modelling/venv/lib/python3.11/site-packages/kedro_mlflow/framework/hooks/mlflow_hook.py#113\u001b\\\u001b[2m113\u001b[0m\u001b]8;;\u001b\\\n"
      ]
     },
     "metadata": {},
     "output_type": "display_data"
    },
    {
     "data": {
      "text/html": [
       "<pre style=\"white-space:pre;overflow-x:auto;line-height:normal;font-family:Menlo,'DejaVu Sans Mono',consolas,'Courier New',monospace\"><span style=\"color: #7fbfbf; text-decoration-color: #7fbfbf\">                    </span><span style=\"color: #800000; text-decoration-color: #800000\">WARNING </span> A mlflow run was already active                                     <a href=\"file:///home/krzysiek/Development/solvency-modelling/venv/lib/python3.11/site-packages/kedro_mlflow/framework/hooks/mlflow_hook.py\" target=\"_blank\"><span style=\"color: #7f7f7f; text-decoration-color: #7f7f7f\">mlflow_hook.py</span></a><span style=\"color: #7f7f7f; text-decoration-color: #7f7f7f\">:</span><a href=\"file:///home/krzysiek/Development/solvency-modelling/venv/lib/python3.11/site-packages/kedro_mlflow/framework/hooks/mlflow_hook.py#243\" target=\"_blank\"><span style=\"color: #7f7f7f; text-decoration-color: #7f7f7f\">243</span></a>\n",
       "<span style=\"color: #7fbfbf; text-decoration-color: #7fbfbf\">                    </span>         <span style=\"font-weight: bold\">(</span><span style=\"color: #808000; text-decoration-color: #808000\">run_id</span>=<span style=\"color: #008000; text-decoration-color: #008000\">'ef29cc4c1ef141a2993c37c781ca9d82'</span><span style=\"font-weight: bold\">)</span> before the KedroSession <span style=\"color: #7f7f7f; text-decoration-color: #7f7f7f\">                  </span>\n",
       "<span style=\"color: #7fbfbf; text-decoration-color: #7fbfbf\">                    </span>         was started. This run will be used for logging.                     <span style=\"color: #7f7f7f; text-decoration-color: #7f7f7f\">                  </span>\n",
       "</pre>\n"
      ],
      "text/plain": [
       "\u001b[2;36m                   \u001b[0m\u001b[2;36m \u001b[0m\u001b[31mWARNING \u001b[0m A mlflow run was already active                                     \u001b]8;id=61462;file:///home/krzysiek/Development/solvency-modelling/venv/lib/python3.11/site-packages/kedro_mlflow/framework/hooks/mlflow_hook.py\u001b\\\u001b[2mmlflow_hook.py\u001b[0m\u001b]8;;\u001b\\\u001b[2m:\u001b[0m\u001b]8;id=240712;file:///home/krzysiek/Development/solvency-modelling/venv/lib/python3.11/site-packages/kedro_mlflow/framework/hooks/mlflow_hook.py#243\u001b\\\u001b[2m243\u001b[0m\u001b]8;;\u001b\\\n",
       "\u001b[2;36m                    \u001b[0m         \u001b[1m(\u001b[0m\u001b[33mrun_id\u001b[0m=\u001b[32m'ef29cc4c1ef141a2993c37c781ca9d82'\u001b[0m\u001b[1m)\u001b[0m before the KedroSession \u001b[2m                  \u001b[0m\n",
       "\u001b[2;36m                    \u001b[0m         was started. This run will be used for logging.                     \u001b[2m                  \u001b[0m\n"
      ]
     },
     "metadata": {},
     "output_type": "display_data"
    },
    {
     "data": {
      "text/html": [
       "<pre style=\"white-space:pre;overflow-x:auto;line-height:normal;font-family:Menlo,'DejaVu Sans Mono',consolas,'Courier New',monospace\"><span style=\"color: #7fbfbf; text-decoration-color: #7fbfbf\">                    </span><span style=\"color: #000080; text-decoration-color: #000080\">INFO    </span> Using synchronous mode for loading and saving data. Use the    <a href=\"file:///home/krzysiek/Development/solvency-modelling/venv/lib/python3.11/site-packages/kedro/runner/sequential_runner.py\" target=\"_blank\"><span style=\"color: #7f7f7f; text-decoration-color: #7f7f7f\">sequential_runner.py</span></a><span style=\"color: #7f7f7f; text-decoration-color: #7f7f7f\">:</span><a href=\"file:///home/krzysiek/Development/solvency-modelling/venv/lib/python3.11/site-packages/kedro/runner/sequential_runner.py#64\" target=\"_blank\"><span style=\"color: #7f7f7f; text-decoration-color: #7f7f7f\">64</span></a>\n",
       "<span style=\"color: #7fbfbf; text-decoration-color: #7fbfbf\">                    </span>         --async flag for potential performance gains.                  <span style=\"color: #7f7f7f; text-decoration-color: #7f7f7f\">                       </span>\n",
       "<span style=\"color: #7fbfbf; text-decoration-color: #7fbfbf\">                    </span>         <span style=\"color: #0000ff; text-decoration-color: #0000ff; text-decoration: underline\">https://docs.kedro.org/en/stable/nodes_and_pipelines/run_a_pip</span> <span style=\"color: #7f7f7f; text-decoration-color: #7f7f7f\">                       </span>\n",
       "<span style=\"color: #7fbfbf; text-decoration-color: #7fbfbf\">                    </span>         <span style=\"color: #0000ff; text-decoration-color: #0000ff; text-decoration: underline\">eline.html#load-and-save-asynchronously</span>                        <span style=\"color: #7f7f7f; text-decoration-color: #7f7f7f\">                       </span>\n",
       "</pre>\n"
      ],
      "text/plain": [
       "\u001b[2;36m                   \u001b[0m\u001b[2;36m \u001b[0m\u001b[34mINFO    \u001b[0m Using synchronous mode for loading and saving data. Use the    \u001b]8;id=433050;file:///home/krzysiek/Development/solvency-modelling/venv/lib/python3.11/site-packages/kedro/runner/sequential_runner.py\u001b\\\u001b[2msequential_runner.py\u001b[0m\u001b]8;;\u001b\\\u001b[2m:\u001b[0m\u001b]8;id=859049;file:///home/krzysiek/Development/solvency-modelling/venv/lib/python3.11/site-packages/kedro/runner/sequential_runner.py#64\u001b\\\u001b[2m64\u001b[0m\u001b]8;;\u001b\\\n",
       "\u001b[2;36m                    \u001b[0m         --async flag for potential performance gains.                  \u001b[2m                       \u001b[0m\n",
       "\u001b[2;36m                    \u001b[0m         \u001b[4;94mhttps://docs.kedro.org/en/stable/nodes_and_pipelines/run_a_pip\u001b[0m \u001b[2m                       \u001b[0m\n",
       "\u001b[2;36m                    \u001b[0m         \u001b[4;94meline.html#load-and-save-asynchronously\u001b[0m                        \u001b[2m                       \u001b[0m\n"
      ]
     },
     "metadata": {},
     "output_type": "display_data"
    },
    {
     "data": {
      "text/html": [
       "<pre style=\"white-space:pre;overflow-x:auto;line-height:normal;font-family:Menlo,'DejaVu Sans Mono',consolas,'Courier New',monospace\"><span style=\"color: #7fbfbf; text-decoration-color: #7fbfbf\">                    </span><span style=\"color: #000080; text-decoration-color: #000080\">INFO    </span> Loading data from <span style=\"color: #ff8700; text-decoration-color: #ff8700\">parameters</span> <span style=\"font-weight: bold\">(</span>MemoryDataset<span style=\"font-weight: bold\">)</span><span style=\"color: #808000; text-decoration-color: #808000\">...</span>                    <a href=\"file:///home/krzysiek/Development/solvency-modelling/venv/lib/python3.11/site-packages/kedro/io/data_catalog.py\" target=\"_blank\"><span style=\"color: #7f7f7f; text-decoration-color: #7f7f7f\">data_catalog.py</span></a><span style=\"color: #7f7f7f; text-decoration-color: #7f7f7f\">:</span><a href=\"file:///home/krzysiek/Development/solvency-modelling/venv/lib/python3.11/site-packages/kedro/io/data_catalog.py#483\" target=\"_blank\"><span style=\"color: #7f7f7f; text-decoration-color: #7f7f7f\">483</span></a>\n",
       "</pre>\n"
      ],
      "text/plain": [
       "\u001b[2;36m                   \u001b[0m\u001b[2;36m \u001b[0m\u001b[34mINFO    \u001b[0m Loading data from \u001b[38;5;208mparameters\u001b[0m \u001b[1m(\u001b[0mMemoryDataset\u001b[1m)\u001b[0m\u001b[33m...\u001b[0m                    \u001b]8;id=22994;file:///home/krzysiek/Development/solvency-modelling/venv/lib/python3.11/site-packages/kedro/io/data_catalog.py\u001b\\\u001b[2mdata_catalog.py\u001b[0m\u001b]8;;\u001b\\\u001b[2m:\u001b[0m\u001b]8;id=270974;file:///home/krzysiek/Development/solvency-modelling/venv/lib/python3.11/site-packages/kedro/io/data_catalog.py#483\u001b\\\u001b[2m483\u001b[0m\u001b]8;;\u001b\\\n"
      ]
     },
     "metadata": {},
     "output_type": "display_data"
    },
    {
     "data": {
      "text/html": [
       "<pre style=\"white-space:pre;overflow-x:auto;line-height:normal;font-family:Menlo,'DejaVu Sans Mono',consolas,'Courier New',monospace\"><span style=\"color: #7fbfbf; text-decoration-color: #7fbfbf\">[06/03/24 20:35:28] </span><span style=\"color: #000080; text-decoration-color: #000080\">INFO    </span> Running node: process_parameters: <span style=\"color: #800080; text-decoration-color: #800080; font-weight: bold\">process_parameters</span><span style=\"font-weight: bold\">([</span>parameters<span style=\"font-weight: bold\">])</span> -&gt;      <a href=\"file:///home/krzysiek/Development/solvency-modelling/venv/lib/python3.11/site-packages/kedro/pipeline/node.py\" target=\"_blank\"><span style=\"color: #7f7f7f; text-decoration-color: #7f7f7f\">node.py</span></a><span style=\"color: #7f7f7f; text-decoration-color: #7f7f7f\">:</span><a href=\"file:///home/krzysiek/Development/solvency-modelling/venv/lib/python3.11/site-packages/kedro/pipeline/node.py#340\" target=\"_blank\"><span style=\"color: #7f7f7f; text-decoration-color: #7f7f7f\">340</span></a>\n",
       "<span style=\"color: #7fbfbf; text-decoration-color: #7fbfbf\">                    </span>         <span style=\"font-weight: bold\">[</span>config<span style=\"font-weight: bold\">]</span>                                                                   <span style=\"color: #7f7f7f; text-decoration-color: #7f7f7f\">           </span>\n",
       "</pre>\n"
      ],
      "text/plain": [
       "\u001b[2;36m[06/03/24 20:35:28]\u001b[0m\u001b[2;36m \u001b[0m\u001b[34mINFO    \u001b[0m Running node: process_parameters: \u001b[1;35mprocess_parameters\u001b[0m\u001b[1m(\u001b[0m\u001b[1m[\u001b[0mparameters\u001b[1m]\u001b[0m\u001b[1m)\u001b[0m ->      \u001b]8;id=153535;file:///home/krzysiek/Development/solvency-modelling/venv/lib/python3.11/site-packages/kedro/pipeline/node.py\u001b\\\u001b[2mnode.py\u001b[0m\u001b]8;;\u001b\\\u001b[2m:\u001b[0m\u001b]8;id=505575;file:///home/krzysiek/Development/solvency-modelling/venv/lib/python3.11/site-packages/kedro/pipeline/node.py#340\u001b\\\u001b[2m340\u001b[0m\u001b]8;;\u001b\\\n",
       "\u001b[2;36m                    \u001b[0m         \u001b[1m[\u001b[0mconfig\u001b[1m]\u001b[0m                                                                   \u001b[2m           \u001b[0m\n"
      ]
     },
     "metadata": {},
     "output_type": "display_data"
    },
    {
     "data": {
      "text/html": [
       "<pre style=\"white-space:pre;overflow-x:auto;line-height:normal;font-family:Menlo,'DejaVu Sans Mono',consolas,'Courier New',monospace\"><span style=\"color: #7fbfbf; text-decoration-color: #7fbfbf\">                    </span><span style=\"color: #000080; text-decoration-color: #000080\">INFO    </span> Saving parameters.yml to MLFlow as an artifact<span style=\"color: #808000; text-decoration-color: #808000\">...</span>                          <a href=\"file:///home/krzysiek/Development/solvency-modelling/solvency_models/src/solvency_models/pipelines/p01_init/nodes.py\" target=\"_blank\"><span style=\"color: #7f7f7f; text-decoration-color: #7f7f7f\">nodes.py</span></a><span style=\"color: #7f7f7f; text-decoration-color: #7f7f7f\">:</span><a href=\"file:///home/krzysiek/Development/solvency-modelling/solvency_models/src/solvency_models/pipelines/p01_init/nodes.py#13\" target=\"_blank\"><span style=\"color: #7f7f7f; text-decoration-color: #7f7f7f\">13</span></a>\n",
       "</pre>\n"
      ],
      "text/plain": [
       "\u001b[2;36m                   \u001b[0m\u001b[2;36m \u001b[0m\u001b[34mINFO    \u001b[0m Saving parameters.yml to MLFlow as an artifact\u001b[33m...\u001b[0m                          \u001b]8;id=306079;file:///home/krzysiek/Development/solvency-modelling/solvency_models/src/solvency_models/pipelines/p01_init/nodes.py\u001b\\\u001b[2mnodes.py\u001b[0m\u001b]8;;\u001b\\\u001b[2m:\u001b[0m\u001b]8;id=744924;file:///home/krzysiek/Development/solvency-modelling/solvency_models/src/solvency_models/pipelines/p01_init/nodes.py#13\u001b\\\u001b[2m13\u001b[0m\u001b]8;;\u001b\\\n"
      ]
     },
     "metadata": {},
     "output_type": "display_data"
    },
    {
     "data": {
      "text/html": [
       "<pre style=\"white-space:pre;overflow-x:auto;line-height:normal;font-family:Menlo,'DejaVu Sans Mono',consolas,'Courier New',monospace\"><span style=\"color: #7fbfbf; text-decoration-color: #7fbfbf\">                    </span><span style=\"color: #000080; text-decoration-color: #000080\">INFO    </span> Saved parameters.yml to MLFlow as an artifact.                             <a href=\"file:///home/krzysiek/Development/solvency-modelling/solvency_models/src/solvency_models/pipelines/p01_init/nodes.py\" target=\"_blank\"><span style=\"color: #7f7f7f; text-decoration-color: #7f7f7f\">nodes.py</span></a><span style=\"color: #7f7f7f; text-decoration-color: #7f7f7f\">:</span><a href=\"file:///home/krzysiek/Development/solvency-modelling/solvency_models/src/solvency_models/pipelines/p01_init/nodes.py#15\" target=\"_blank\"><span style=\"color: #7f7f7f; text-decoration-color: #7f7f7f\">15</span></a>\n",
       "</pre>\n"
      ],
      "text/plain": [
       "\u001b[2;36m                   \u001b[0m\u001b[2;36m \u001b[0m\u001b[34mINFO    \u001b[0m Saved parameters.yml to MLFlow as an artifact.                             \u001b]8;id=575621;file:///home/krzysiek/Development/solvency-modelling/solvency_models/src/solvency_models/pipelines/p01_init/nodes.py\u001b\\\u001b[2mnodes.py\u001b[0m\u001b]8;;\u001b\\\u001b[2m:\u001b[0m\u001b]8;id=403725;file:///home/krzysiek/Development/solvency-modelling/solvency_models/src/solvency_models/pipelines/p01_init/nodes.py#15\u001b\\\u001b[2m15\u001b[0m\u001b]8;;\u001b\\\n"
      ]
     },
     "metadata": {},
     "output_type": "display_data"
    },
    {
     "data": {
      "text/html": [
       "<pre style=\"white-space:pre;overflow-x:auto;line-height:normal;font-family:Menlo,'DejaVu Sans Mono',consolas,'Courier New',monospace\"><span style=\"color: #7fbfbf; text-decoration-color: #7fbfbf\">                    </span><span style=\"color: #000080; text-decoration-color: #000080\">INFO    </span> Processing parameters<span style=\"color: #808000; text-decoration-color: #808000\">...</span>                                                   <a href=\"file:///home/krzysiek/Development/solvency-modelling/solvency_models/src/solvency_models/pipelines/p01_init/nodes.py\" target=\"_blank\"><span style=\"color: #7f7f7f; text-decoration-color: #7f7f7f\">nodes.py</span></a><span style=\"color: #7f7f7f; text-decoration-color: #7f7f7f\">:</span><a href=\"file:///home/krzysiek/Development/solvency-modelling/solvency_models/src/solvency_models/pipelines/p01_init/nodes.py#17\" target=\"_blank\"><span style=\"color: #7f7f7f; text-decoration-color: #7f7f7f\">17</span></a>\n",
       "</pre>\n"
      ],
      "text/plain": [
       "\u001b[2;36m                   \u001b[0m\u001b[2;36m \u001b[0m\u001b[34mINFO    \u001b[0m Processing parameters\u001b[33m...\u001b[0m                                                   \u001b]8;id=241079;file:///home/krzysiek/Development/solvency-modelling/solvency_models/src/solvency_models/pipelines/p01_init/nodes.py\u001b\\\u001b[2mnodes.py\u001b[0m\u001b]8;;\u001b\\\u001b[2m:\u001b[0m\u001b]8;id=625203;file:///home/krzysiek/Development/solvency-modelling/solvency_models/src/solvency_models/pipelines/p01_init/nodes.py#17\u001b\\\u001b[2m17\u001b[0m\u001b]8;;\u001b\\\n"
      ]
     },
     "metadata": {},
     "output_type": "display_data"
    },
    {
     "data": {
      "text/html": [
       "<pre style=\"white-space:pre;overflow-x:auto;line-height:normal;font-family:Menlo,'DejaVu Sans Mono',consolas,'Courier New',monospace\"><span style=\"color: #7fbfbf; text-decoration-color: #7fbfbf\">                    </span><span style=\"color: #000080; text-decoration-color: #000080\">INFO    </span> Processed. Created config classes.                                         <a href=\"file:///home/krzysiek/Development/solvency-modelling/solvency_models/src/solvency_models/pipelines/p01_init/nodes.py\" target=\"_blank\"><span style=\"color: #7f7f7f; text-decoration-color: #7f7f7f\">nodes.py</span></a><span style=\"color: #7f7f7f; text-decoration-color: #7f7f7f\">:</span><a href=\"file:///home/krzysiek/Development/solvency-modelling/solvency_models/src/solvency_models/pipelines/p01_init/nodes.py#19\" target=\"_blank\"><span style=\"color: #7f7f7f; text-decoration-color: #7f7f7f\">19</span></a>\n",
       "</pre>\n"
      ],
      "text/plain": [
       "\u001b[2;36m                   \u001b[0m\u001b[2;36m \u001b[0m\u001b[34mINFO    \u001b[0m Processed. Created config classes.                                         \u001b]8;id=273835;file:///home/krzysiek/Development/solvency-modelling/solvency_models/src/solvency_models/pipelines/p01_init/nodes.py\u001b\\\u001b[2mnodes.py\u001b[0m\u001b]8;;\u001b\\\u001b[2m:\u001b[0m\u001b]8;id=248369;file:///home/krzysiek/Development/solvency-modelling/solvency_models/src/solvency_models/pipelines/p01_init/nodes.py#19\u001b\\\u001b[2m19\u001b[0m\u001b]8;;\u001b\\\n"
      ]
     },
     "metadata": {},
     "output_type": "display_data"
    },
    {
     "data": {
      "text/html": [
       "<pre style=\"white-space:pre;overflow-x:auto;line-height:normal;font-family:Menlo,'DejaVu Sans Mono',consolas,'Courier New',monospace\"><span style=\"color: #7fbfbf; text-decoration-color: #7fbfbf\">                    </span><span style=\"color: #000080; text-decoration-color: #000080\">INFO    </span> Saving config to MLFlow<span style=\"color: #808000; text-decoration-color: #808000\">...</span>                                                 <a href=\"file:///home/krzysiek/Development/solvency-modelling/solvency_models/src/solvency_models/pipelines/p01_init/nodes.py\" target=\"_blank\"><span style=\"color: #7f7f7f; text-decoration-color: #7f7f7f\">nodes.py</span></a><span style=\"color: #7f7f7f; text-decoration-color: #7f7f7f\">:</span><a href=\"file:///home/krzysiek/Development/solvency-modelling/solvency_models/src/solvency_models/pipelines/p01_init/nodes.py#20\" target=\"_blank\"><span style=\"color: #7f7f7f; text-decoration-color: #7f7f7f\">20</span></a>\n",
       "</pre>\n"
      ],
      "text/plain": [
       "\u001b[2;36m                   \u001b[0m\u001b[2;36m \u001b[0m\u001b[34mINFO    \u001b[0m Saving config to MLFlow\u001b[33m...\u001b[0m                                                 \u001b]8;id=874749;file:///home/krzysiek/Development/solvency-modelling/solvency_models/src/solvency_models/pipelines/p01_init/nodes.py\u001b\\\u001b[2mnodes.py\u001b[0m\u001b]8;;\u001b\\\u001b[2m:\u001b[0m\u001b]8;id=730243;file:///home/krzysiek/Development/solvency-modelling/solvency_models/src/solvency_models/pipelines/p01_init/nodes.py#20\u001b\\\u001b[2m20\u001b[0m\u001b]8;;\u001b\\\n"
      ]
     },
     "metadata": {},
     "output_type": "display_data"
    },
    {
     "data": {
      "text/html": [
       "<pre style=\"white-space:pre;overflow-x:auto;line-height:normal;font-family:Menlo,'DejaVu Sans Mono',consolas,'Courier New',monospace\"><span style=\"color: #7fbfbf; text-decoration-color: #7fbfbf\">                    </span><span style=\"color: #000080; text-decoration-color: #000080\">INFO    </span> Saved config to MLFlow.                                                    <a href=\"file:///home/krzysiek/Development/solvency-modelling/solvency_models/src/solvency_models/pipelines/p01_init/nodes.py\" target=\"_blank\"><span style=\"color: #7f7f7f; text-decoration-color: #7f7f7f\">nodes.py</span></a><span style=\"color: #7f7f7f; text-decoration-color: #7f7f7f\">:</span><a href=\"file:///home/krzysiek/Development/solvency-modelling/solvency_models/src/solvency_models/pipelines/p01_init/nodes.py#22\" target=\"_blank\"><span style=\"color: #7f7f7f; text-decoration-color: #7f7f7f\">22</span></a>\n",
       "</pre>\n"
      ],
      "text/plain": [
       "\u001b[2;36m                   \u001b[0m\u001b[2;36m \u001b[0m\u001b[34mINFO    \u001b[0m Saved config to MLFlow.                                                    \u001b]8;id=149781;file:///home/krzysiek/Development/solvency-modelling/solvency_models/src/solvency_models/pipelines/p01_init/nodes.py\u001b\\\u001b[2mnodes.py\u001b[0m\u001b]8;;\u001b\\\u001b[2m:\u001b[0m\u001b]8;id=470442;file:///home/krzysiek/Development/solvency-modelling/solvency_models/src/solvency_models/pipelines/p01_init/nodes.py#22\u001b\\\u001b[2m22\u001b[0m\u001b]8;;\u001b\\\n"
      ]
     },
     "metadata": {},
     "output_type": "display_data"
    },
    {
     "data": {
      "text/html": [
       "<pre style=\"white-space:pre;overflow-x:auto;line-height:normal;font-family:Menlo,'DejaVu Sans Mono',consolas,'Courier New',monospace\"><span style=\"color: #7fbfbf; text-decoration-color: #7fbfbf\">                    </span><span style=\"color: #000080; text-decoration-color: #000080\">INFO    </span> Saving data to <span style=\"color: #ff8700; text-decoration-color: #ff8700\">config</span> <span style=\"font-weight: bold\">(</span>MemoryDataset<span style=\"font-weight: bold\">)</span><span style=\"color: #808000; text-decoration-color: #808000\">...</span>                           <a href=\"file:///home/krzysiek/Development/solvency-modelling/venv/lib/python3.11/site-packages/kedro/io/data_catalog.py\" target=\"_blank\"><span style=\"color: #7f7f7f; text-decoration-color: #7f7f7f\">data_catalog.py</span></a><span style=\"color: #7f7f7f; text-decoration-color: #7f7f7f\">:</span><a href=\"file:///home/krzysiek/Development/solvency-modelling/venv/lib/python3.11/site-packages/kedro/io/data_catalog.py#525\" target=\"_blank\"><span style=\"color: #7f7f7f; text-decoration-color: #7f7f7f\">525</span></a>\n",
       "</pre>\n"
      ],
      "text/plain": [
       "\u001b[2;36m                   \u001b[0m\u001b[2;36m \u001b[0m\u001b[34mINFO    \u001b[0m Saving data to \u001b[38;5;208mconfig\u001b[0m \u001b[1m(\u001b[0mMemoryDataset\u001b[1m)\u001b[0m\u001b[33m...\u001b[0m                           \u001b]8;id=82158;file:///home/krzysiek/Development/solvency-modelling/venv/lib/python3.11/site-packages/kedro/io/data_catalog.py\u001b\\\u001b[2mdata_catalog.py\u001b[0m\u001b]8;;\u001b\\\u001b[2m:\u001b[0m\u001b]8;id=61745;file:///home/krzysiek/Development/solvency-modelling/venv/lib/python3.11/site-packages/kedro/io/data_catalog.py#525\u001b\\\u001b[2m525\u001b[0m\u001b]8;;\u001b\\\n"
      ]
     },
     "metadata": {},
     "output_type": "display_data"
    },
    {
     "data": {
      "text/html": [
       "<pre style=\"white-space:pre;overflow-x:auto;line-height:normal;font-family:Menlo,'DejaVu Sans Mono',consolas,'Courier New',monospace\"><span style=\"color: #7fbfbf; text-decoration-color: #7fbfbf\">                    </span><span style=\"color: #000080; text-decoration-color: #000080\">INFO    </span> Completed <span style=\"color: #008080; text-decoration-color: #008080; font-weight: bold\">1</span> out of <span style=\"color: #008080; text-decoration-color: #008080; font-weight: bold\">2</span> tasks                                     <a href=\"file:///home/krzysiek/Development/solvency-modelling/venv/lib/python3.11/site-packages/kedro/runner/sequential_runner.py\" target=\"_blank\"><span style=\"color: #7f7f7f; text-decoration-color: #7f7f7f\">sequential_runner.py</span></a><span style=\"color: #7f7f7f; text-decoration-color: #7f7f7f\">:</span><a href=\"file:///home/krzysiek/Development/solvency-modelling/venv/lib/python3.11/site-packages/kedro/runner/sequential_runner.py#90\" target=\"_blank\"><span style=\"color: #7f7f7f; text-decoration-color: #7f7f7f\">90</span></a>\n",
       "</pre>\n"
      ],
      "text/plain": [
       "\u001b[2;36m                   \u001b[0m\u001b[2;36m \u001b[0m\u001b[34mINFO    \u001b[0m Completed \u001b[1;36m1\u001b[0m out of \u001b[1;36m2\u001b[0m tasks                                     \u001b]8;id=629517;file:///home/krzysiek/Development/solvency-modelling/venv/lib/python3.11/site-packages/kedro/runner/sequential_runner.py\u001b\\\u001b[2msequential_runner.py\u001b[0m\u001b]8;;\u001b\\\u001b[2m:\u001b[0m\u001b]8;id=169548;file:///home/krzysiek/Development/solvency-modelling/venv/lib/python3.11/site-packages/kedro/runner/sequential_runner.py#90\u001b\\\u001b[2m90\u001b[0m\u001b]8;;\u001b\\\n"
      ]
     },
     "metadata": {},
     "output_type": "display_data"
    },
    {
     "data": {
      "text/html": [
       "<pre style=\"white-space:pre;overflow-x:auto;line-height:normal;font-family:Menlo,'DejaVu Sans Mono',consolas,'Courier New',monospace\"><span style=\"color: #7fbfbf; text-decoration-color: #7fbfbf\">                    </span><span style=\"color: #000080; text-decoration-color: #000080\">INFO    </span> Loading data from <span style=\"color: #ff8700; text-decoration-color: #ff8700\">config</span> <span style=\"font-weight: bold\">(</span>MemoryDataset<span style=\"font-weight: bold\">)</span><span style=\"color: #808000; text-decoration-color: #808000\">...</span>                        <a href=\"file:///home/krzysiek/Development/solvency-modelling/venv/lib/python3.11/site-packages/kedro/io/data_catalog.py\" target=\"_blank\"><span style=\"color: #7f7f7f; text-decoration-color: #7f7f7f\">data_catalog.py</span></a><span style=\"color: #7f7f7f; text-decoration-color: #7f7f7f\">:</span><a href=\"file:///home/krzysiek/Development/solvency-modelling/venv/lib/python3.11/site-packages/kedro/io/data_catalog.py#483\" target=\"_blank\"><span style=\"color: #7f7f7f; text-decoration-color: #7f7f7f\">483</span></a>\n",
       "</pre>\n"
      ],
      "text/plain": [
       "\u001b[2;36m                   \u001b[0m\u001b[2;36m \u001b[0m\u001b[34mINFO    \u001b[0m Loading data from \u001b[38;5;208mconfig\u001b[0m \u001b[1m(\u001b[0mMemoryDataset\u001b[1m)\u001b[0m\u001b[33m...\u001b[0m                        \u001b]8;id=846210;file:///home/krzysiek/Development/solvency-modelling/venv/lib/python3.11/site-packages/kedro/io/data_catalog.py\u001b\\\u001b[2mdata_catalog.py\u001b[0m\u001b]8;;\u001b\\\u001b[2m:\u001b[0m\u001b]8;id=64381;file:///home/krzysiek/Development/solvency-modelling/venv/lib/python3.11/site-packages/kedro/io/data_catalog.py#483\u001b\\\u001b[2m483\u001b[0m\u001b]8;;\u001b\\\n"
      ]
     },
     "metadata": {},
     "output_type": "display_data"
    },
    {
     "data": {
      "text/html": [
       "<pre style=\"white-space:pre;overflow-x:auto;line-height:normal;font-family:Menlo,'DejaVu Sans Mono',consolas,'Courier New',monospace\"><span style=\"color: #7fbfbf; text-decoration-color: #7fbfbf\">                    </span><span style=\"color: #000080; text-decoration-color: #000080\">INFO    </span> Loading data from <span style=\"color: #ff8700; text-decoration-color: #ff8700\">pure_sample_predictions_df</span> <span style=\"font-weight: bold\">(</span>ParquetDataset<span style=\"font-weight: bold\">)</span><span style=\"color: #808000; text-decoration-color: #808000\">...</span>   <a href=\"file:///home/krzysiek/Development/solvency-modelling/venv/lib/python3.11/site-packages/kedro/io/data_catalog.py\" target=\"_blank\"><span style=\"color: #7f7f7f; text-decoration-color: #7f7f7f\">data_catalog.py</span></a><span style=\"color: #7f7f7f; text-decoration-color: #7f7f7f\">:</span><a href=\"file:///home/krzysiek/Development/solvency-modelling/venv/lib/python3.11/site-packages/kedro/io/data_catalog.py#483\" target=\"_blank\"><span style=\"color: #7f7f7f; text-decoration-color: #7f7f7f\">483</span></a>\n",
       "</pre>\n"
      ],
      "text/plain": [
       "\u001b[2;36m                   \u001b[0m\u001b[2;36m \u001b[0m\u001b[34mINFO    \u001b[0m Loading data from \u001b[38;5;208mpure_sample_predictions_df\u001b[0m \u001b[1m(\u001b[0mParquetDataset\u001b[1m)\u001b[0m\u001b[33m...\u001b[0m   \u001b]8;id=981375;file:///home/krzysiek/Development/solvency-modelling/venv/lib/python3.11/site-packages/kedro/io/data_catalog.py\u001b\\\u001b[2mdata_catalog.py\u001b[0m\u001b]8;;\u001b\\\u001b[2m:\u001b[0m\u001b]8;id=387174;file:///home/krzysiek/Development/solvency-modelling/venv/lib/python3.11/site-packages/kedro/io/data_catalog.py#483\u001b\\\u001b[2m483\u001b[0m\u001b]8;;\u001b\\\n"
      ]
     },
     "metadata": {},
     "output_type": "display_data"
    },
    {
     "data": {
      "text/html": [
       "<pre style=\"white-space:pre;overflow-x:auto;line-height:normal;font-family:Menlo,'DejaVu Sans Mono',consolas,'Courier New',monospace\"><span style=\"color: #7fbfbf; text-decoration-color: #7fbfbf\">                    </span><span style=\"color: #000080; text-decoration-color: #000080\">INFO    </span> Loading data from <span style=\"color: #ff8700; text-decoration-color: #ff8700\">features_df</span> <span style=\"font-weight: bold\">(</span>ParquetDataset<span style=\"font-weight: bold\">)</span><span style=\"color: #808000; text-decoration-color: #808000\">...</span>                  <a href=\"file:///home/krzysiek/Development/solvency-modelling/venv/lib/python3.11/site-packages/kedro/io/data_catalog.py\" target=\"_blank\"><span style=\"color: #7f7f7f; text-decoration-color: #7f7f7f\">data_catalog.py</span></a><span style=\"color: #7f7f7f; text-decoration-color: #7f7f7f\">:</span><a href=\"file:///home/krzysiek/Development/solvency-modelling/venv/lib/python3.11/site-packages/kedro/io/data_catalog.py#483\" target=\"_blank\"><span style=\"color: #7f7f7f; text-decoration-color: #7f7f7f\">483</span></a>\n",
       "</pre>\n"
      ],
      "text/plain": [
       "\u001b[2;36m                   \u001b[0m\u001b[2;36m \u001b[0m\u001b[34mINFO    \u001b[0m Loading data from \u001b[38;5;208mfeatures_df\u001b[0m \u001b[1m(\u001b[0mParquetDataset\u001b[1m)\u001b[0m\u001b[33m...\u001b[0m                  \u001b]8;id=698801;file:///home/krzysiek/Development/solvency-modelling/venv/lib/python3.11/site-packages/kedro/io/data_catalog.py\u001b\\\u001b[2mdata_catalog.py\u001b[0m\u001b]8;;\u001b\\\u001b[2m:\u001b[0m\u001b]8;id=608086;file:///home/krzysiek/Development/solvency-modelling/venv/lib/python3.11/site-packages/kedro/io/data_catalog.py#483\u001b\\\u001b[2m483\u001b[0m\u001b]8;;\u001b\\\n"
      ]
     },
     "metadata": {},
     "output_type": "display_data"
    },
    {
     "data": {
      "text/html": [
       "<pre style=\"white-space:pre;overflow-x:auto;line-height:normal;font-family:Menlo,'DejaVu Sans Mono',consolas,'Courier New',monospace\"><span style=\"color: #7fbfbf; text-decoration-color: #7fbfbf\">                    </span><span style=\"color: #000080; text-decoration-color: #000080\">INFO    </span> Loading data from <span style=\"color: #ff8700; text-decoration-color: #ff8700\">target_df</span> <span style=\"font-weight: bold\">(</span>ParquetDataset<span style=\"font-weight: bold\">)</span><span style=\"color: #808000; text-decoration-color: #808000\">...</span>                    <a href=\"file:///home/krzysiek/Development/solvency-modelling/venv/lib/python3.11/site-packages/kedro/io/data_catalog.py\" target=\"_blank\"><span style=\"color: #7f7f7f; text-decoration-color: #7f7f7f\">data_catalog.py</span></a><span style=\"color: #7f7f7f; text-decoration-color: #7f7f7f\">:</span><a href=\"file:///home/krzysiek/Development/solvency-modelling/venv/lib/python3.11/site-packages/kedro/io/data_catalog.py#483\" target=\"_blank\"><span style=\"color: #7f7f7f; text-decoration-color: #7f7f7f\">483</span></a>\n",
       "</pre>\n"
      ],
      "text/plain": [
       "\u001b[2;36m                   \u001b[0m\u001b[2;36m \u001b[0m\u001b[34mINFO    \u001b[0m Loading data from \u001b[38;5;208mtarget_df\u001b[0m \u001b[1m(\u001b[0mParquetDataset\u001b[1m)\u001b[0m\u001b[33m...\u001b[0m                    \u001b]8;id=649016;file:///home/krzysiek/Development/solvency-modelling/venv/lib/python3.11/site-packages/kedro/io/data_catalog.py\u001b\\\u001b[2mdata_catalog.py\u001b[0m\u001b]8;;\u001b\\\u001b[2m:\u001b[0m\u001b]8;id=75733;file:///home/krzysiek/Development/solvency-modelling/venv/lib/python3.11/site-packages/kedro/io/data_catalog.py#483\u001b\\\u001b[2m483\u001b[0m\u001b]8;;\u001b\\\n"
      ]
     },
     "metadata": {},
     "output_type": "display_data"
    },
    {
     "data": {
      "text/html": [
       "<pre style=\"white-space:pre;overflow-x:auto;line-height:normal;font-family:Menlo,'DejaVu Sans Mono',consolas,'Courier New',monospace\"><span style=\"color: #7fbfbf; text-decoration-color: #7fbfbf\">                    </span><span style=\"color: #000080; text-decoration-color: #000080\">INFO    </span> Loading data from <span style=\"color: #ff8700; text-decoration-color: #ff8700\">calib_keys</span> <span style=\"font-weight: bold\">(</span>PickleDataset<span style=\"font-weight: bold\">)</span><span style=\"color: #808000; text-decoration-color: #808000\">...</span>                    <a href=\"file:///home/krzysiek/Development/solvency-modelling/venv/lib/python3.11/site-packages/kedro/io/data_catalog.py\" target=\"_blank\"><span style=\"color: #7f7f7f; text-decoration-color: #7f7f7f\">data_catalog.py</span></a><span style=\"color: #7f7f7f; text-decoration-color: #7f7f7f\">:</span><a href=\"file:///home/krzysiek/Development/solvency-modelling/venv/lib/python3.11/site-packages/kedro/io/data_catalog.py#483\" target=\"_blank\"><span style=\"color: #7f7f7f; text-decoration-color: #7f7f7f\">483</span></a>\n",
       "</pre>\n"
      ],
      "text/plain": [
       "\u001b[2;36m                   \u001b[0m\u001b[2;36m \u001b[0m\u001b[34mINFO    \u001b[0m Loading data from \u001b[38;5;208mcalib_keys\u001b[0m \u001b[1m(\u001b[0mPickleDataset\u001b[1m)\u001b[0m\u001b[33m...\u001b[0m                    \u001b]8;id=260725;file:///home/krzysiek/Development/solvency-modelling/venv/lib/python3.11/site-packages/kedro/io/data_catalog.py\u001b\\\u001b[2mdata_catalog.py\u001b[0m\u001b]8;;\u001b\\\u001b[2m:\u001b[0m\u001b]8;id=159388;file:///home/krzysiek/Development/solvency-modelling/venv/lib/python3.11/site-packages/kedro/io/data_catalog.py#483\u001b\\\u001b[2m483\u001b[0m\u001b]8;;\u001b\\\n"
      ]
     },
     "metadata": {},
     "output_type": "display_data"
    },
    {
     "data": {
      "text/html": [
       "<pre style=\"white-space:pre;overflow-x:auto;line-height:normal;font-family:Menlo,'DejaVu Sans Mono',consolas,'Courier New',monospace\"><span style=\"color: #7fbfbf; text-decoration-color: #7fbfbf\">                    </span><span style=\"color: #000080; text-decoration-color: #000080\">INFO    </span> Running node: fit_calibration_model:                                       <a href=\"file:///home/krzysiek/Development/solvency-modelling/venv/lib/python3.11/site-packages/kedro/pipeline/node.py\" target=\"_blank\"><span style=\"color: #7f7f7f; text-decoration-color: #7f7f7f\">node.py</span></a><span style=\"color: #7f7f7f; text-decoration-color: #7f7f7f\">:</span><a href=\"file:///home/krzysiek/Development/solvency-modelling/venv/lib/python3.11/site-packages/kedro/pipeline/node.py#340\" target=\"_blank\"><span style=\"color: #7f7f7f; text-decoration-color: #7f7f7f\">340</span></a>\n",
       "<span style=\"color: #7fbfbf; text-decoration-color: #7fbfbf\">                    </span>         <span style=\"color: #800080; text-decoration-color: #800080; font-weight: bold\">fit_calibration_model</span><span style=\"font-weight: bold\">([</span>config;pure_sample_predictions_df;features_df;targe <span style=\"color: #7f7f7f; text-decoration-color: #7f7f7f\">           </span>\n",
       "<span style=\"color: #7fbfbf; text-decoration-color: #7fbfbf\">                    </span>         t_df;calib_keys<span style=\"font-weight: bold\">])</span> -&gt; <span style=\"font-weight: bold\">[</span>calibrated_calib_predictions_df<span style=\"font-weight: bold\">]</span>                     <span style=\"color: #7f7f7f; text-decoration-color: #7f7f7f\">           </span>\n",
       "</pre>\n"
      ],
      "text/plain": [
       "\u001b[2;36m                   \u001b[0m\u001b[2;36m \u001b[0m\u001b[34mINFO    \u001b[0m Running node: fit_calibration_model:                                       \u001b]8;id=319091;file:///home/krzysiek/Development/solvency-modelling/venv/lib/python3.11/site-packages/kedro/pipeline/node.py\u001b\\\u001b[2mnode.py\u001b[0m\u001b]8;;\u001b\\\u001b[2m:\u001b[0m\u001b]8;id=727181;file:///home/krzysiek/Development/solvency-modelling/venv/lib/python3.11/site-packages/kedro/pipeline/node.py#340\u001b\\\u001b[2m340\u001b[0m\u001b]8;;\u001b\\\n",
       "\u001b[2;36m                    \u001b[0m         \u001b[1;35mfit_calibration_model\u001b[0m\u001b[1m(\u001b[0m\u001b[1m[\u001b[0mconfig;pure_sample_predictions_df;features_df;targe \u001b[2m           \u001b[0m\n",
       "\u001b[2;36m                    \u001b[0m         t_df;calib_keys\u001b[1m]\u001b[0m\u001b[1m)\u001b[0m -> \u001b[1m[\u001b[0mcalibrated_calib_predictions_df\u001b[1m]\u001b[0m                     \u001b[2m           \u001b[0m\n"
      ]
     },
     "metadata": {},
     "output_type": "display_data"
    },
    {
     "data": {
      "text/html": [
       "<pre style=\"white-space:pre;overflow-x:auto;line-height:normal;font-family:Menlo,'DejaVu Sans Mono',consolas,'Courier New',monospace\"><span style=\"color: #7fbfbf; text-decoration-color: #7fbfbf\">                    </span><span style=\"color: #000080; text-decoration-color: #000080\">INFO    </span> Removing outliers from the calibration dataset<span style=\"color: #808000; text-decoration-color: #808000\">...</span>                          <a href=\"file:///home/krzysiek/Development/solvency-modelling/solvency_models/src/solvency_models/pipelines/p08_model_calibration/utils.py\" target=\"_blank\"><span style=\"color: #7f7f7f; text-decoration-color: #7f7f7f\">utils.py</span></a><span style=\"color: #7f7f7f; text-decoration-color: #7f7f7f\">:</span><a href=\"file:///home/krzysiek/Development/solvency-modelling/solvency_models/src/solvency_models/pipelines/p08_model_calibration/utils.py#25\" target=\"_blank\"><span style=\"color: #7f7f7f; text-decoration-color: #7f7f7f\">25</span></a>\n",
       "</pre>\n"
      ],
      "text/plain": [
       "\u001b[2;36m                   \u001b[0m\u001b[2;36m \u001b[0m\u001b[34mINFO    \u001b[0m Removing outliers from the calibration dataset\u001b[33m...\u001b[0m                          \u001b]8;id=495900;file:///home/krzysiek/Development/solvency-modelling/solvency_models/src/solvency_models/pipelines/p08_model_calibration/utils.py\u001b\\\u001b[2mutils.py\u001b[0m\u001b]8;;\u001b\\\u001b[2m:\u001b[0m\u001b]8;id=642248;file:///home/krzysiek/Development/solvency-modelling/solvency_models/src/solvency_models/pipelines/p08_model_calibration/utils.py#25\u001b\\\u001b[2m25\u001b[0m\u001b]8;;\u001b\\\n"
      ]
     },
     "metadata": {},
     "output_type": "display_data"
    },
    {
     "data": {
      "text/html": [
       "<pre style=\"white-space:pre;overflow-x:auto;line-height:normal;font-family:Menlo,'DejaVu Sans Mono',consolas,'Courier New',monospace\"><span style=\"color: #7fbfbf; text-decoration-color: #7fbfbf\">                    </span><span style=\"color: #000080; text-decoration-color: #000080\">INFO    </span> Removing outliers from the calibration dataset before sampling<span style=\"color: #808000; text-decoration-color: #808000\">...</span>       <a href=\"file:///home/krzysiek/Development/solvency-modelling/solvency_models/src/solvency_models/pipelines/utils/outliers.py\" target=\"_blank\"><span style=\"color: #7f7f7f; text-decoration-color: #7f7f7f\">outliers.py</span></a><span style=\"color: #7f7f7f; text-decoration-color: #7f7f7f\">:</span><a href=\"file:///home/krzysiek/Development/solvency-modelling/solvency_models/src/solvency_models/pipelines/utils/outliers.py#44\" target=\"_blank\"><span style=\"color: #7f7f7f; text-decoration-color: #7f7f7f\">44</span></a>\n",
       "<span style=\"color: #7fbfbf; text-decoration-color: #7fbfbf\">                    </span>             - <span style=\"color: #008080; text-decoration-color: #008080; font-weight: bold\">0</span> targets are greater than <span style=\"color: #008080; text-decoration-color: #008080; font-weight: bold\">1000</span>:                                  <span style=\"color: #7f7f7f; text-decoration-color: #7f7f7f\">              </span>\n",
       "</pre>\n"
      ],
      "text/plain": [
       "\u001b[2;36m                   \u001b[0m\u001b[2;36m \u001b[0m\u001b[34mINFO    \u001b[0m Removing outliers from the calibration dataset before sampling\u001b[33m...\u001b[0m       \u001b]8;id=508950;file:///home/krzysiek/Development/solvency-modelling/solvency_models/src/solvency_models/pipelines/utils/outliers.py\u001b\\\u001b[2moutliers.py\u001b[0m\u001b]8;;\u001b\\\u001b[2m:\u001b[0m\u001b]8;id=685145;file:///home/krzysiek/Development/solvency-modelling/solvency_models/src/solvency_models/pipelines/utils/outliers.py#44\u001b\\\u001b[2m44\u001b[0m\u001b]8;;\u001b\\\n",
       "\u001b[2;36m                    \u001b[0m             - \u001b[1;36m0\u001b[0m targets are greater than \u001b[1;36m1000\u001b[0m:                                  \u001b[2m              \u001b[0m\n"
      ]
     },
     "metadata": {},
     "output_type": "display_data"
    },
    {
     "data": {
      "text/html": [
       "<pre style=\"white-space:pre;overflow-x:auto;line-height:normal;font-family:Menlo,'DejaVu Sans Mono',consolas,'Courier New',monospace\"><span style=\"color: #7fbfbf; text-decoration-color: #7fbfbf\">                    </span><span style=\"color: #000080; text-decoration-color: #000080\">INFO    </span> Removed the outliers.                                                      <a href=\"file:///home/krzysiek/Development/solvency-modelling/solvency_models/src/solvency_models/pipelines/p08_model_calibration/utils.py\" target=\"_blank\"><span style=\"color: #7f7f7f; text-decoration-color: #7f7f7f\">utils.py</span></a><span style=\"color: #7f7f7f; text-decoration-color: #7f7f7f\">:</span><a href=\"file:///home/krzysiek/Development/solvency-modelling/solvency_models/src/solvency_models/pipelines/p08_model_calibration/utils.py#34\" target=\"_blank\"><span style=\"color: #7f7f7f; text-decoration-color: #7f7f7f\">34</span></a>\n",
       "</pre>\n"
      ],
      "text/plain": [
       "\u001b[2;36m                   \u001b[0m\u001b[2;36m \u001b[0m\u001b[34mINFO    \u001b[0m Removed the outliers.                                                      \u001b]8;id=366006;file:///home/krzysiek/Development/solvency-modelling/solvency_models/src/solvency_models/pipelines/p08_model_calibration/utils.py\u001b\\\u001b[2mutils.py\u001b[0m\u001b]8;;\u001b\\\u001b[2m:\u001b[0m\u001b]8;id=136922;file:///home/krzysiek/Development/solvency-modelling/solvency_models/src/solvency_models/pipelines/p08_model_calibration/utils.py#34\u001b\\\u001b[2m34\u001b[0m\u001b]8;;\u001b\\\n"
      ]
     },
     "metadata": {},
     "output_type": "display_data"
    },
    {
     "data": {
      "text/html": [
       "<pre style=\"white-space:pre;overflow-x:auto;line-height:normal;font-family:Menlo,'DejaVu Sans Mono',consolas,'Courier New',monospace\"><span style=\"color: #7fbfbf; text-decoration-color: #7fbfbf\">                    </span><span style=\"color: #000080; text-decoration-color: #000080\">INFO    </span> Creating custom features by the MLFlow scaler model<span style=\"color: #808000; text-decoration-color: #808000\">...</span>           <a href=\"file:///home/krzysiek/Development/solvency-modelling/solvency_models/src/solvency_models/pipelines/p06_data_engineering/utils/custom_features.py\" target=\"_blank\"><span style=\"color: #7f7f7f; text-decoration-color: #7f7f7f\">custom_features.py</span></a><span style=\"color: #7f7f7f; text-decoration-color: #7f7f7f\">:</span><a href=\"file:///home/krzysiek/Development/solvency-modelling/solvency_models/src/solvency_models/pipelines/p06_data_engineering/utils/custom_features.py#61\" target=\"_blank\"><span style=\"color: #7f7f7f; text-decoration-color: #7f7f7f\">61</span></a>\n",
       "</pre>\n"
      ],
      "text/plain": [
       "\u001b[2;36m                   \u001b[0m\u001b[2;36m \u001b[0m\u001b[34mINFO    \u001b[0m Creating custom features by the MLFlow scaler model\u001b[33m...\u001b[0m           \u001b]8;id=998073;file:///home/krzysiek/Development/solvency-modelling/solvency_models/src/solvency_models/pipelines/p06_data_engineering/utils/custom_features.py\u001b\\\u001b[2mcustom_features.py\u001b[0m\u001b]8;;\u001b\\\u001b[2m:\u001b[0m\u001b]8;id=58160;file:///home/krzysiek/Development/solvency-modelling/solvency_models/src/solvency_models/pipelines/p06_data_engineering/utils/custom_features.py#61\u001b\\\u001b[2m61\u001b[0m\u001b]8;;\u001b\\\n"
      ]
     },
     "metadata": {},
     "output_type": "display_data"
    },
    {
     "data": {
      "text/html": [
       "<pre style=\"white-space:pre;overflow-x:auto;line-height:normal;font-family:Menlo,'DejaVu Sans Mono',consolas,'Courier New',monospace\"><span style=\"color: #7fbfbf; text-decoration-color: #7fbfbf\">                    </span><span style=\"color: #000080; text-decoration-color: #000080\">INFO    </span> Using the provided MLFlow run ID: 219322d6b4d84362a07e91be53a66910. <a href=\"file:///home/krzysiek/Development/solvency-modelling/solvency_models/src/solvency_models/pipelines/utils/mlflow_model.py\" target=\"_blank\"><span style=\"color: #7f7f7f; text-decoration-color: #7f7f7f\">mlflow_model.py</span></a><span style=\"color: #7f7f7f; text-decoration-color: #7f7f7f\">:</span><a href=\"file:///home/krzysiek/Development/solvency-modelling/solvency_models/src/solvency_models/pipelines/utils/mlflow_model.py#60\" target=\"_blank\"><span style=\"color: #7f7f7f; text-decoration-color: #7f7f7f\">60</span></a>\n",
       "</pre>\n"
      ],
      "text/plain": [
       "\u001b[2;36m                   \u001b[0m\u001b[2;36m \u001b[0m\u001b[34mINFO    \u001b[0m Using the provided MLFlow run ID: 219322d6b4d84362a07e91be53a66910. \u001b]8;id=964885;file:///home/krzysiek/Development/solvency-modelling/solvency_models/src/solvency_models/pipelines/utils/mlflow_model.py\u001b\\\u001b[2mmlflow_model.py\u001b[0m\u001b]8;;\u001b\\\u001b[2m:\u001b[0m\u001b]8;id=531372;file:///home/krzysiek/Development/solvency-modelling/solvency_models/src/solvency_models/pipelines/utils/mlflow_model.py#60\u001b\\\u001b[2m60\u001b[0m\u001b]8;;\u001b\\\n"
      ]
     },
     "metadata": {},
     "output_type": "display_data"
    },
    {
     "data": {
      "text/html": [
       "<pre style=\"white-space:pre;overflow-x:auto;line-height:normal;font-family:Menlo,'DejaVu Sans Mono',consolas,'Courier New',monospace\"><span style=\"color: #7fbfbf; text-decoration-color: #7fbfbf\">                    </span><span style=\"color: #000080; text-decoration-color: #000080\">INFO    </span> Loading the custom features creator from MLFlow path                <a href=\"file:///home/krzysiek/Development/solvency-modelling/solvency_models/src/solvency_models/pipelines/utils/mlflow_model.py\" target=\"_blank\"><span style=\"color: #7f7f7f; text-decoration-color: #7f7f7f\">mlflow_model.py</span></a><span style=\"color: #7f7f7f; text-decoration-color: #7f7f7f\">:</span><a href=\"file:///home/krzysiek/Development/solvency-modelling/solvency_models/src/solvency_models/pipelines/utils/mlflow_model.py#63\" target=\"_blank\"><span style=\"color: #7f7f7f; text-decoration-color: #7f7f7f\">63</span></a>\n",
       "<span style=\"color: #7fbfbf; text-decoration-color: #7fbfbf\">                    </span>         model_de/custom_features_creator<span style=\"color: #808000; text-decoration-color: #808000\">...</span>                                 <span style=\"color: #7f7f7f; text-decoration-color: #7f7f7f\">                  </span>\n",
       "</pre>\n"
      ],
      "text/plain": [
       "\u001b[2;36m                   \u001b[0m\u001b[2;36m \u001b[0m\u001b[34mINFO    \u001b[0m Loading the custom features creator from MLFlow path                \u001b]8;id=816073;file:///home/krzysiek/Development/solvency-modelling/solvency_models/src/solvency_models/pipelines/utils/mlflow_model.py\u001b\\\u001b[2mmlflow_model.py\u001b[0m\u001b]8;;\u001b\\\u001b[2m:\u001b[0m\u001b]8;id=347489;file:///home/krzysiek/Development/solvency-modelling/solvency_models/src/solvency_models/pipelines/utils/mlflow_model.py#63\u001b\\\u001b[2m63\u001b[0m\u001b]8;;\u001b\\\n",
       "\u001b[2;36m                    \u001b[0m         model_de/custom_features_creator\u001b[33m...\u001b[0m                                 \u001b[2m                  \u001b[0m\n"
      ]
     },
     "metadata": {},
     "output_type": "display_data"
    },
    {
     "data": {
      "application/vnd.jupyter.widget-view+json": {
       "model_id": "81774b0629cf4ec29b694185500bb8ac",
       "version_major": 2,
       "version_minor": 0
      },
      "text/plain": [
       "Downloading artifacts:   0%|          | 0/9 [00:00<?, ?it/s]"
      ]
     },
     "metadata": {},
     "output_type": "display_data"
    },
    {
     "data": {
      "text/html": [
       "<pre style=\"white-space:pre;overflow-x:auto;line-height:normal;font-family:Menlo,'DejaVu Sans Mono',consolas,'Courier New',monospace\"><span style=\"color: #7fbfbf; text-decoration-color: #7fbfbf\">[06/03/24 20:35:29] </span><span style=\"color: #000080; text-decoration-color: #000080\">INFO    </span> Successfully loaded the custom features creator of type <span style=\"font-weight: bold\">&lt;</span><span style=\"color: #ff00ff; text-decoration-color: #ff00ff; font-weight: bold\">class</span><span style=\"color: #000000; text-decoration-color: #000000\"> </span>     <a href=\"file:///home/krzysiek/Development/solvency-modelling/solvency_models/src/solvency_models/pipelines/utils/mlflow_model.py\" target=\"_blank\"><span style=\"color: #7f7f7f; text-decoration-color: #7f7f7f\">mlflow_model.py</span></a><span style=\"color: #7f7f7f; text-decoration-color: #7f7f7f\">:</span><a href=\"file:///home/krzysiek/Development/solvency-modelling/solvency_models/src/solvency_models/pipelines/utils/mlflow_model.py#67\" target=\"_blank\"><span style=\"color: #7f7f7f; text-decoration-color: #7f7f7f\">67</span></a>\n",
       "<span style=\"color: #7fbfbf; text-decoration-color: #7fbfbf\">                    </span>         <span style=\"color: #008000; text-decoration-color: #008000\">'solvency_models.pipelines.p06_data_engineering.utils.custom_featur</span> <span style=\"color: #7f7f7f; text-decoration-color: #7f7f7f\">                  </span>\n",
       "<span style=\"color: #7fbfbf; text-decoration-color: #7fbfbf\">                    </span>         <span style=\"color: #008000; text-decoration-color: #008000\">es.AllCustomFeaturesCreatorModel'</span><span style=\"font-weight: bold\">&gt;</span>.                                 <span style=\"color: #7f7f7f; text-decoration-color: #7f7f7f\">                  </span>\n",
       "</pre>\n"
      ],
      "text/plain": [
       "\u001b[2;36m[06/03/24 20:35:29]\u001b[0m\u001b[2;36m \u001b[0m\u001b[34mINFO    \u001b[0m Successfully loaded the custom features creator of type \u001b[1m<\u001b[0m\u001b[1;95mclass\u001b[0m\u001b[39m \u001b[0m     \u001b]8;id=518770;file:///home/krzysiek/Development/solvency-modelling/solvency_models/src/solvency_models/pipelines/utils/mlflow_model.py\u001b\\\u001b[2mmlflow_model.py\u001b[0m\u001b]8;;\u001b\\\u001b[2m:\u001b[0m\u001b]8;id=692093;file:///home/krzysiek/Development/solvency-modelling/solvency_models/src/solvency_models/pipelines/utils/mlflow_model.py#67\u001b\\\u001b[2m67\u001b[0m\u001b]8;;\u001b\\\n",
       "\u001b[2;36m                    \u001b[0m         \u001b[32m'solvency_models.pipelines.p06_data_engineering.utils.custom_featur\u001b[0m \u001b[2m                  \u001b[0m\n",
       "\u001b[2;36m                    \u001b[0m         \u001b[32mes.AllCustomFeaturesCreatorModel'\u001b[0m\u001b[1m>\u001b[0m.                                 \u001b[2m                  \u001b[0m\n"
      ]
     },
     "metadata": {},
     "output_type": "display_data"
    },
    {
     "data": {
      "text/html": [
       "<pre style=\"white-space:pre;overflow-x:auto;line-height:normal;font-family:Menlo,'DejaVu Sans Mono',consolas,'Courier New',monospace\"><span style=\"color: #7fbfbf; text-decoration-color: #7fbfbf\">                    </span><span style=\"color: #000080; text-decoration-color: #000080\">INFO    </span> Creating the custom features<span style=\"color: #808000; text-decoration-color: #808000\">...</span>                                  <a href=\"file:///home/krzysiek/Development/solvency-modelling/solvency_models/src/solvency_models/pipelines/p06_data_engineering/utils/custom_features.py\" target=\"_blank\"><span style=\"color: #7f7f7f; text-decoration-color: #7f7f7f\">custom_features.py</span></a><span style=\"color: #7f7f7f; text-decoration-color: #7f7f7f\">:</span><a href=\"file:///home/krzysiek/Development/solvency-modelling/solvency_models/src/solvency_models/pipelines/p06_data_engineering/utils/custom_features.py#53\" target=\"_blank\"><span style=\"color: #7f7f7f; text-decoration-color: #7f7f7f\">53</span></a>\n",
       "</pre>\n"
      ],
      "text/plain": [
       "\u001b[2;36m                   \u001b[0m\u001b[2;36m \u001b[0m\u001b[34mINFO    \u001b[0m Creating the custom features\u001b[33m...\u001b[0m                                  \u001b]8;id=515052;file:///home/krzysiek/Development/solvency-modelling/solvency_models/src/solvency_models/pipelines/p06_data_engineering/utils/custom_features.py\u001b\\\u001b[2mcustom_features.py\u001b[0m\u001b]8;;\u001b\\\u001b[2m:\u001b[0m\u001b]8;id=677526;file:///home/krzysiek/Development/solvency-modelling/solvency_models/src/solvency_models/pipelines/p06_data_engineering/utils/custom_features.py#53\u001b\\\u001b[2m53\u001b[0m\u001b]8;;\u001b\\\n"
      ]
     },
     "metadata": {},
     "output_type": "display_data"
    },
    {
     "data": {
      "text/html": [
       "<pre style=\"white-space:pre;overflow-x:auto;line-height:normal;font-family:Menlo,'DejaVu Sans Mono',consolas,'Courier New',monospace\"><span style=\"color: #7fbfbf; text-decoration-color: #7fbfbf\">                    </span><span style=\"color: #000080; text-decoration-color: #000080\">INFO    </span> Created the custom features.                                     <a href=\"file:///home/krzysiek/Development/solvency-modelling/solvency_models/src/solvency_models/pipelines/p06_data_engineering/utils/custom_features.py\" target=\"_blank\"><span style=\"color: #7f7f7f; text-decoration-color: #7f7f7f\">custom_features.py</span></a><span style=\"color: #7f7f7f; text-decoration-color: #7f7f7f\">:</span><a href=\"file:///home/krzysiek/Development/solvency-modelling/solvency_models/src/solvency_models/pipelines/p06_data_engineering/utils/custom_features.py#55\" target=\"_blank\"><span style=\"color: #7f7f7f; text-decoration-color: #7f7f7f\">55</span></a>\n",
       "</pre>\n"
      ],
      "text/plain": [
       "\u001b[2;36m                   \u001b[0m\u001b[2;36m \u001b[0m\u001b[34mINFO    \u001b[0m Created the custom features.                                     \u001b]8;id=772335;file:///home/krzysiek/Development/solvency-modelling/solvency_models/src/solvency_models/pipelines/p06_data_engineering/utils/custom_features.py\u001b\\\u001b[2mcustom_features.py\u001b[0m\u001b]8;;\u001b\\\u001b[2m:\u001b[0m\u001b]8;id=466990;file:///home/krzysiek/Development/solvency-modelling/solvency_models/src/solvency_models/pipelines/p06_data_engineering/utils/custom_features.py#55\u001b\\\u001b[2m55\u001b[0m\u001b]8;;\u001b\\\n"
      ]
     },
     "metadata": {},
     "output_type": "display_data"
    },
    {
     "data": {
      "text/html": [
       "<pre style=\"white-space:pre;overflow-x:auto;line-height:normal;font-family:Menlo,'DejaVu Sans Mono',consolas,'Courier New',monospace\"><span style=\"color: #7fbfbf; text-decoration-color: #7fbfbf\">                    </span><span style=\"color: #000080; text-decoration-color: #000080\">INFO    </span> Imputing numerical features by the MLFlow numerical imputer model<span style=\"color: #808000; text-decoration-color: #808000\">...</span>     <a href=\"file:///home/krzysiek/Development/solvency-modelling/solvency_models/src/solvency_models/pipelines/p06_data_engineering/utils/imputer.py\" target=\"_blank\"><span style=\"color: #7f7f7f; text-decoration-color: #7f7f7f\">imputer.py</span></a><span style=\"color: #7f7f7f; text-decoration-color: #7f7f7f\">:</span><a href=\"file:///home/krzysiek/Development/solvency-modelling/solvency_models/src/solvency_models/pipelines/p06_data_engineering/utils/imputer.py#38\" target=\"_blank\"><span style=\"color: #7f7f7f; text-decoration-color: #7f7f7f\">38</span></a>\n",
       "</pre>\n"
      ],
      "text/plain": [
       "\u001b[2;36m                   \u001b[0m\u001b[2;36m \u001b[0m\u001b[34mINFO    \u001b[0m Imputing numerical features by the MLFlow numerical imputer model\u001b[33m...\u001b[0m     \u001b]8;id=935014;file:///home/krzysiek/Development/solvency-modelling/solvency_models/src/solvency_models/pipelines/p06_data_engineering/utils/imputer.py\u001b\\\u001b[2mimputer.py\u001b[0m\u001b]8;;\u001b\\\u001b[2m:\u001b[0m\u001b]8;id=662781;file:///home/krzysiek/Development/solvency-modelling/solvency_models/src/solvency_models/pipelines/p06_data_engineering/utils/imputer.py#38\u001b\\\u001b[2m38\u001b[0m\u001b]8;;\u001b\\\n"
      ]
     },
     "metadata": {},
     "output_type": "display_data"
    },
    {
     "data": {
      "text/html": [
       "<pre style=\"white-space:pre;overflow-x:auto;line-height:normal;font-family:Menlo,'DejaVu Sans Mono',consolas,'Courier New',monospace\"><span style=\"color: #7fbfbf; text-decoration-color: #7fbfbf\">                    </span><span style=\"color: #000080; text-decoration-color: #000080\">INFO    </span> Using the provided MLFlow run ID: 219322d6b4d84362a07e91be53a66910.      <a href=\"file:///home/krzysiek/Development/solvency-modelling/solvency_models/src/solvency_models/pipelines/p06_data_engineering/utils/imputer.py\" target=\"_blank\"><span style=\"color: #7f7f7f; text-decoration-color: #7f7f7f\">imputer.py</span></a><span style=\"color: #7f7f7f; text-decoration-color: #7f7f7f\">:</span><a href=\"file:///home/krzysiek/Development/solvency-modelling/solvency_models/src/solvency_models/pipelines/p06_data_engineering/utils/imputer.py#45\" target=\"_blank\"><span style=\"color: #7f7f7f; text-decoration-color: #7f7f7f\">45</span></a>\n",
       "</pre>\n"
      ],
      "text/plain": [
       "\u001b[2;36m                   \u001b[0m\u001b[2;36m \u001b[0m\u001b[34mINFO    \u001b[0m Using the provided MLFlow run ID: 219322d6b4d84362a07e91be53a66910.      \u001b]8;id=898784;file:///home/krzysiek/Development/solvency-modelling/solvency_models/src/solvency_models/pipelines/p06_data_engineering/utils/imputer.py\u001b\\\u001b[2mimputer.py\u001b[0m\u001b]8;;\u001b\\\u001b[2m:\u001b[0m\u001b]8;id=30748;file:///home/krzysiek/Development/solvency-modelling/solvency_models/src/solvency_models/pipelines/p06_data_engineering/utils/imputer.py#45\u001b\\\u001b[2m45\u001b[0m\u001b]8;;\u001b\\\n"
      ]
     },
     "metadata": {},
     "output_type": "display_data"
    },
    {
     "data": {
      "text/html": [
       "<pre style=\"white-space:pre;overflow-x:auto;line-height:normal;font-family:Menlo,'DejaVu Sans Mono',consolas,'Courier New',monospace\"><span style=\"color: #7fbfbf; text-decoration-color: #7fbfbf\">                    </span><span style=\"color: #000080; text-decoration-color: #000080\">INFO    </span> Using the provided MLFlow run ID: 219322d6b4d84362a07e91be53a66910. <a href=\"file:///home/krzysiek/Development/solvency-modelling/solvency_models/src/solvency_models/pipelines/utils/mlflow_model.py\" target=\"_blank\"><span style=\"color: #7f7f7f; text-decoration-color: #7f7f7f\">mlflow_model.py</span></a><span style=\"color: #7f7f7f; text-decoration-color: #7f7f7f\">:</span><a href=\"file:///home/krzysiek/Development/solvency-modelling/solvency_models/src/solvency_models/pipelines/utils/mlflow_model.py#60\" target=\"_blank\"><span style=\"color: #7f7f7f; text-decoration-color: #7f7f7f\">60</span></a>\n",
       "</pre>\n"
      ],
      "text/plain": [
       "\u001b[2;36m                   \u001b[0m\u001b[2;36m \u001b[0m\u001b[34mINFO    \u001b[0m Using the provided MLFlow run ID: 219322d6b4d84362a07e91be53a66910. \u001b]8;id=232515;file:///home/krzysiek/Development/solvency-modelling/solvency_models/src/solvency_models/pipelines/utils/mlflow_model.py\u001b\\\u001b[2mmlflow_model.py\u001b[0m\u001b]8;;\u001b\\\u001b[2m:\u001b[0m\u001b]8;id=839256;file:///home/krzysiek/Development/solvency-modelling/solvency_models/src/solvency_models/pipelines/utils/mlflow_model.py#60\u001b\\\u001b[2m60\u001b[0m\u001b]8;;\u001b\\\n"
      ]
     },
     "metadata": {},
     "output_type": "display_data"
    },
    {
     "data": {
      "text/html": [
       "<pre style=\"white-space:pre;overflow-x:auto;line-height:normal;font-family:Menlo,'DejaVu Sans Mono',consolas,'Courier New',monospace\"><span style=\"color: #7fbfbf; text-decoration-color: #7fbfbf\">                    </span><span style=\"color: #000080; text-decoration-color: #000080\">INFO    </span> Loading the numerical imputer model from MLFlow path                <a href=\"file:///home/krzysiek/Development/solvency-modelling/solvency_models/src/solvency_models/pipelines/utils/mlflow_model.py\" target=\"_blank\"><span style=\"color: #7f7f7f; text-decoration-color: #7f7f7f\">mlflow_model.py</span></a><span style=\"color: #7f7f7f; text-decoration-color: #7f7f7f\">:</span><a href=\"file:///home/krzysiek/Development/solvency-modelling/solvency_models/src/solvency_models/pipelines/utils/mlflow_model.py#63\" target=\"_blank\"><span style=\"color: #7f7f7f; text-decoration-color: #7f7f7f\">63</span></a>\n",
       "<span style=\"color: #7fbfbf; text-decoration-color: #7fbfbf\">                    </span>         model_de/num_imputer<span style=\"color: #808000; text-decoration-color: #808000\">...</span>                                             <span style=\"color: #7f7f7f; text-decoration-color: #7f7f7f\">                  </span>\n",
       "</pre>\n"
      ],
      "text/plain": [
       "\u001b[2;36m                   \u001b[0m\u001b[2;36m \u001b[0m\u001b[34mINFO    \u001b[0m Loading the numerical imputer model from MLFlow path                \u001b]8;id=585550;file:///home/krzysiek/Development/solvency-modelling/solvency_models/src/solvency_models/pipelines/utils/mlflow_model.py\u001b\\\u001b[2mmlflow_model.py\u001b[0m\u001b]8;;\u001b\\\u001b[2m:\u001b[0m\u001b]8;id=803138;file:///home/krzysiek/Development/solvency-modelling/solvency_models/src/solvency_models/pipelines/utils/mlflow_model.py#63\u001b\\\u001b[2m63\u001b[0m\u001b]8;;\u001b\\\n",
       "\u001b[2;36m                    \u001b[0m         model_de/num_imputer\u001b[33m...\u001b[0m                                             \u001b[2m                  \u001b[0m\n"
      ]
     },
     "metadata": {},
     "output_type": "display_data"
    },
    {
     "data": {
      "application/vnd.jupyter.widget-view+json": {
       "model_id": "7828c7b405014f2c8011ccab8a18e22b",
       "version_major": 2,
       "version_minor": 0
      },
      "text/plain": [
       "Downloading artifacts:   0%|          | 0/9 [00:00<?, ?it/s]"
      ]
     },
     "metadata": {},
     "output_type": "display_data"
    },
    {
     "data": {
      "text/html": [
       "<pre style=\"white-space:pre;overflow-x:auto;line-height:normal;font-family:Menlo,'DejaVu Sans Mono',consolas,'Courier New',monospace\"><span style=\"color: #7fbfbf; text-decoration-color: #7fbfbf\">                    </span><span style=\"color: #000080; text-decoration-color: #000080\">INFO    </span> Successfully loaded the numerical imputer model of type <span style=\"font-weight: bold\">&lt;</span><span style=\"color: #ff00ff; text-decoration-color: #ff00ff; font-weight: bold\">class</span><span style=\"color: #000000; text-decoration-color: #000000\"> </span>     <a href=\"file:///home/krzysiek/Development/solvency-modelling/solvency_models/src/solvency_models/pipelines/utils/mlflow_model.py\" target=\"_blank\"><span style=\"color: #7f7f7f; text-decoration-color: #7f7f7f\">mlflow_model.py</span></a><span style=\"color: #7f7f7f; text-decoration-color: #7f7f7f\">:</span><a href=\"file:///home/krzysiek/Development/solvency-modelling/solvency_models/src/solvency_models/pipelines/utils/mlflow_model.py#67\" target=\"_blank\"><span style=\"color: #7f7f7f; text-decoration-color: #7f7f7f\">67</span></a>\n",
       "<span style=\"color: #7fbfbf; text-decoration-color: #7fbfbf\">                    </span>         <span style=\"color: #008000; text-decoration-color: #008000\">'sklearn.impute._base.SimpleImputer'</span><span style=\"font-weight: bold\">&gt;</span>.                              <span style=\"color: #7f7f7f; text-decoration-color: #7f7f7f\">                  </span>\n",
       "</pre>\n"
      ],
      "text/plain": [
       "\u001b[2;36m                   \u001b[0m\u001b[2;36m \u001b[0m\u001b[34mINFO    \u001b[0m Successfully loaded the numerical imputer model of type \u001b[1m<\u001b[0m\u001b[1;95mclass\u001b[0m\u001b[39m \u001b[0m     \u001b]8;id=554962;file:///home/krzysiek/Development/solvency-modelling/solvency_models/src/solvency_models/pipelines/utils/mlflow_model.py\u001b\\\u001b[2mmlflow_model.py\u001b[0m\u001b]8;;\u001b\\\u001b[2m:\u001b[0m\u001b]8;id=868134;file:///home/krzysiek/Development/solvency-modelling/solvency_models/src/solvency_models/pipelines/utils/mlflow_model.py#67\u001b\\\u001b[2m67\u001b[0m\u001b]8;;\u001b\\\n",
       "\u001b[2;36m                    \u001b[0m         \u001b[32m'sklearn.impute._base.SimpleImputer'\u001b[0m\u001b[1m>\u001b[0m.                              \u001b[2m                  \u001b[0m\n"
      ]
     },
     "metadata": {},
     "output_type": "display_data"
    },
    {
     "data": {
      "text/html": [
       "<pre style=\"white-space:pre;overflow-x:auto;line-height:normal;font-family:Menlo,'DejaVu Sans Mono',consolas,'Courier New',monospace\"><span style=\"color: #7fbfbf; text-decoration-color: #7fbfbf\">                    </span><span style=\"color: #000080; text-decoration-color: #000080\">INFO    </span> Imputing numerical features by the loaded model<span style=\"color: #808000; text-decoration-color: #808000\">...</span>                       <a href=\"file:///home/krzysiek/Development/solvency-modelling/solvency_models/src/solvency_models/pipelines/p06_data_engineering/utils/imputer.py\" target=\"_blank\"><span style=\"color: #7f7f7f; text-decoration-color: #7f7f7f\">imputer.py</span></a><span style=\"color: #7f7f7f; text-decoration-color: #7f7f7f\">:</span><a href=\"file:///home/krzysiek/Development/solvency-modelling/solvency_models/src/solvency_models/pipelines/p06_data_engineering/utils/imputer.py#49\" target=\"_blank\"><span style=\"color: #7f7f7f; text-decoration-color: #7f7f7f\">49</span></a>\n",
       "</pre>\n"
      ],
      "text/plain": [
       "\u001b[2;36m                   \u001b[0m\u001b[2;36m \u001b[0m\u001b[34mINFO    \u001b[0m Imputing numerical features by the loaded model\u001b[33m...\u001b[0m                       \u001b]8;id=826123;file:///home/krzysiek/Development/solvency-modelling/solvency_models/src/solvency_models/pipelines/p06_data_engineering/utils/imputer.py\u001b\\\u001b[2mimputer.py\u001b[0m\u001b]8;;\u001b\\\u001b[2m:\u001b[0m\u001b]8;id=544266;file:///home/krzysiek/Development/solvency-modelling/solvency_models/src/solvency_models/pipelines/p06_data_engineering/utils/imputer.py#49\u001b\\\u001b[2m49\u001b[0m\u001b]8;;\u001b\\\n"
      ]
     },
     "metadata": {},
     "output_type": "display_data"
    },
    {
     "data": {
      "text/html": [
       "<pre style=\"white-space:pre;overflow-x:auto;line-height:normal;font-family:Menlo,'DejaVu Sans Mono',consolas,'Courier New',monospace\"><span style=\"color: #7fbfbf; text-decoration-color: #7fbfbf\">                    </span><span style=\"color: #000080; text-decoration-color: #000080\">INFO    </span> Imputed the numerical features.                                          <a href=\"file:///home/krzysiek/Development/solvency-modelling/solvency_models/src/solvency_models/pipelines/p06_data_engineering/utils/imputer.py\" target=\"_blank\"><span style=\"color: #7f7f7f; text-decoration-color: #7f7f7f\">imputer.py</span></a><span style=\"color: #7f7f7f; text-decoration-color: #7f7f7f\">:</span><a href=\"file:///home/krzysiek/Development/solvency-modelling/solvency_models/src/solvency_models/pipelines/p06_data_engineering/utils/imputer.py#51\" target=\"_blank\"><span style=\"color: #7f7f7f; text-decoration-color: #7f7f7f\">51</span></a>\n",
       "</pre>\n"
      ],
      "text/plain": [
       "\u001b[2;36m                   \u001b[0m\u001b[2;36m \u001b[0m\u001b[34mINFO    \u001b[0m Imputed the numerical features.                                          \u001b]8;id=924901;file:///home/krzysiek/Development/solvency-modelling/solvency_models/src/solvency_models/pipelines/p06_data_engineering/utils/imputer.py\u001b\\\u001b[2mimputer.py\u001b[0m\u001b]8;;\u001b\\\u001b[2m:\u001b[0m\u001b]8;id=575810;file:///home/krzysiek/Development/solvency-modelling/solvency_models/src/solvency_models/pipelines/p06_data_engineering/utils/imputer.py#51\u001b\\\u001b[2m51\u001b[0m\u001b]8;;\u001b\\\n"
      ]
     },
     "metadata": {},
     "output_type": "display_data"
    },
    {
     "data": {
      "text/html": [
       "<pre style=\"white-space:pre;overflow-x:auto;line-height:normal;font-family:Menlo,'DejaVu Sans Mono',consolas,'Courier New',monospace\"><span style=\"color: #7fbfbf; text-decoration-color: #7fbfbf\">                    </span><span style=\"color: #000080; text-decoration-color: #000080\">INFO    </span> Scaling features by the MLFlow scaler model<span style=\"color: #808000; text-decoration-color: #808000\">...</span>                            <a href=\"file:///home/krzysiek/Development/solvency-modelling/solvency_models/src/solvency_models/pipelines/p06_data_engineering/utils/scaler.py\" target=\"_blank\"><span style=\"color: #7f7f7f; text-decoration-color: #7f7f7f\">scaler.py</span></a><span style=\"color: #7f7f7f; text-decoration-color: #7f7f7f\">:</span><a href=\"file:///home/krzysiek/Development/solvency-modelling/solvency_models/src/solvency_models/pipelines/p06_data_engineering/utils/scaler.py#28\" target=\"_blank\"><span style=\"color: #7f7f7f; text-decoration-color: #7f7f7f\">28</span></a>\n",
       "</pre>\n"
      ],
      "text/plain": [
       "\u001b[2;36m                   \u001b[0m\u001b[2;36m \u001b[0m\u001b[34mINFO    \u001b[0m Scaling features by the MLFlow scaler model\u001b[33m...\u001b[0m                            \u001b]8;id=636115;file:///home/krzysiek/Development/solvency-modelling/solvency_models/src/solvency_models/pipelines/p06_data_engineering/utils/scaler.py\u001b\\\u001b[2mscaler.py\u001b[0m\u001b]8;;\u001b\\\u001b[2m:\u001b[0m\u001b]8;id=794349;file:///home/krzysiek/Development/solvency-modelling/solvency_models/src/solvency_models/pipelines/p06_data_engineering/utils/scaler.py#28\u001b\\\u001b[2m28\u001b[0m\u001b]8;;\u001b\\\n"
      ]
     },
     "metadata": {},
     "output_type": "display_data"
    },
    {
     "data": {
      "text/html": [
       "<pre style=\"white-space:pre;overflow-x:auto;line-height:normal;font-family:Menlo,'DejaVu Sans Mono',consolas,'Courier New',monospace\"><span style=\"color: #7fbfbf; text-decoration-color: #7fbfbf\">                    </span><span style=\"color: #000080; text-decoration-color: #000080\">INFO    </span> Using the provided MLFlow run ID: 219322d6b4d84362a07e91be53a66910. <a href=\"file:///home/krzysiek/Development/solvency-modelling/solvency_models/src/solvency_models/pipelines/utils/mlflow_model.py\" target=\"_blank\"><span style=\"color: #7f7f7f; text-decoration-color: #7f7f7f\">mlflow_model.py</span></a><span style=\"color: #7f7f7f; text-decoration-color: #7f7f7f\">:</span><a href=\"file:///home/krzysiek/Development/solvency-modelling/solvency_models/src/solvency_models/pipelines/utils/mlflow_model.py#60\" target=\"_blank\"><span style=\"color: #7f7f7f; text-decoration-color: #7f7f7f\">60</span></a>\n",
       "</pre>\n"
      ],
      "text/plain": [
       "\u001b[2;36m                   \u001b[0m\u001b[2;36m \u001b[0m\u001b[34mINFO    \u001b[0m Using the provided MLFlow run ID: 219322d6b4d84362a07e91be53a66910. \u001b]8;id=658495;file:///home/krzysiek/Development/solvency-modelling/solvency_models/src/solvency_models/pipelines/utils/mlflow_model.py\u001b\\\u001b[2mmlflow_model.py\u001b[0m\u001b]8;;\u001b\\\u001b[2m:\u001b[0m\u001b]8;id=18052;file:///home/krzysiek/Development/solvency-modelling/solvency_models/src/solvency_models/pipelines/utils/mlflow_model.py#60\u001b\\\u001b[2m60\u001b[0m\u001b]8;;\u001b\\\n"
      ]
     },
     "metadata": {},
     "output_type": "display_data"
    },
    {
     "data": {
      "text/html": [
       "<pre style=\"white-space:pre;overflow-x:auto;line-height:normal;font-family:Menlo,'DejaVu Sans Mono',consolas,'Courier New',monospace\"><span style=\"color: #7fbfbf; text-decoration-color: #7fbfbf\">                    </span><span style=\"color: #000080; text-decoration-color: #000080\">INFO    </span> Loading the scaler model from MLFlow path model_de/scaler<span style=\"color: #808000; text-decoration-color: #808000\">...</span>        <a href=\"file:///home/krzysiek/Development/solvency-modelling/solvency_models/src/solvency_models/pipelines/utils/mlflow_model.py\" target=\"_blank\"><span style=\"color: #7f7f7f; text-decoration-color: #7f7f7f\">mlflow_model.py</span></a><span style=\"color: #7f7f7f; text-decoration-color: #7f7f7f\">:</span><a href=\"file:///home/krzysiek/Development/solvency-modelling/solvency_models/src/solvency_models/pipelines/utils/mlflow_model.py#63\" target=\"_blank\"><span style=\"color: #7f7f7f; text-decoration-color: #7f7f7f\">63</span></a>\n",
       "</pre>\n"
      ],
      "text/plain": [
       "\u001b[2;36m                   \u001b[0m\u001b[2;36m \u001b[0m\u001b[34mINFO    \u001b[0m Loading the scaler model from MLFlow path model_de/scaler\u001b[33m...\u001b[0m        \u001b]8;id=741926;file:///home/krzysiek/Development/solvency-modelling/solvency_models/src/solvency_models/pipelines/utils/mlflow_model.py\u001b\\\u001b[2mmlflow_model.py\u001b[0m\u001b]8;;\u001b\\\u001b[2m:\u001b[0m\u001b]8;id=464952;file:///home/krzysiek/Development/solvency-modelling/solvency_models/src/solvency_models/pipelines/utils/mlflow_model.py#63\u001b\\\u001b[2m63\u001b[0m\u001b]8;;\u001b\\\n"
      ]
     },
     "metadata": {},
     "output_type": "display_data"
    },
    {
     "data": {
      "application/vnd.jupyter.widget-view+json": {
       "model_id": "6691ff7d8d9d4610a4a6ec1c3ef8d300",
       "version_major": 2,
       "version_minor": 0
      },
      "text/plain": [
       "Downloading artifacts:   0%|          | 0/9 [00:00<?, ?it/s]"
      ]
     },
     "metadata": {},
     "output_type": "display_data"
    },
    {
     "data": {
      "text/html": [
       "<pre style=\"white-space:pre;overflow-x:auto;line-height:normal;font-family:Menlo,'DejaVu Sans Mono',consolas,'Courier New',monospace\"><span style=\"color: #7fbfbf; text-decoration-color: #7fbfbf\">                    </span><span style=\"color: #000080; text-decoration-color: #000080\">INFO    </span> Successfully loaded the scaler model of type <span style=\"font-weight: bold\">&lt;</span><span style=\"color: #ff00ff; text-decoration-color: #ff00ff; font-weight: bold\">class</span><span style=\"color: #000000; text-decoration-color: #000000\"> </span>                <a href=\"file:///home/krzysiek/Development/solvency-modelling/solvency_models/src/solvency_models/pipelines/utils/mlflow_model.py\" target=\"_blank\"><span style=\"color: #7f7f7f; text-decoration-color: #7f7f7f\">mlflow_model.py</span></a><span style=\"color: #7f7f7f; text-decoration-color: #7f7f7f\">:</span><a href=\"file:///home/krzysiek/Development/solvency-modelling/solvency_models/src/solvency_models/pipelines/utils/mlflow_model.py#67\" target=\"_blank\"><span style=\"color: #7f7f7f; text-decoration-color: #7f7f7f\">67</span></a>\n",
       "<span style=\"color: #7fbfbf; text-decoration-color: #7fbfbf\">                    </span>         <span style=\"color: #008000; text-decoration-color: #008000\">'sklearn.preprocessing._data.StandardScaler'</span><span style=\"font-weight: bold\">&gt;</span>.                      <span style=\"color: #7f7f7f; text-decoration-color: #7f7f7f\">                  </span>\n",
       "</pre>\n"
      ],
      "text/plain": [
       "\u001b[2;36m                   \u001b[0m\u001b[2;36m \u001b[0m\u001b[34mINFO    \u001b[0m Successfully loaded the scaler model of type \u001b[1m<\u001b[0m\u001b[1;95mclass\u001b[0m\u001b[39m \u001b[0m                \u001b]8;id=61273;file:///home/krzysiek/Development/solvency-modelling/solvency_models/src/solvency_models/pipelines/utils/mlflow_model.py\u001b\\\u001b[2mmlflow_model.py\u001b[0m\u001b]8;;\u001b\\\u001b[2m:\u001b[0m\u001b]8;id=693317;file:///home/krzysiek/Development/solvency-modelling/solvency_models/src/solvency_models/pipelines/utils/mlflow_model.py#67\u001b\\\u001b[2m67\u001b[0m\u001b]8;;\u001b\\\n",
       "\u001b[2;36m                    \u001b[0m         \u001b[32m'sklearn.preprocessing._data.StandardScaler'\u001b[0m\u001b[1m>\u001b[0m.                      \u001b[2m                  \u001b[0m\n"
      ]
     },
     "metadata": {},
     "output_type": "display_data"
    },
    {
     "data": {
      "text/html": [
       "<pre style=\"white-space:pre;overflow-x:auto;line-height:normal;font-family:Menlo,'DejaVu Sans Mono',consolas,'Courier New',monospace\"><span style=\"color: #7fbfbf; text-decoration-color: #7fbfbf\">                    </span><span style=\"color: #000080; text-decoration-color: #000080\">INFO    </span> Scaled the features.                                                      <a href=\"file:///home/krzysiek/Development/solvency-modelling/solvency_models/src/solvency_models/pipelines/p06_data_engineering/utils/scaler.py\" target=\"_blank\"><span style=\"color: #7f7f7f; text-decoration-color: #7f7f7f\">scaler.py</span></a><span style=\"color: #7f7f7f; text-decoration-color: #7f7f7f\">:</span><a href=\"file:///home/krzysiek/Development/solvency-modelling/solvency_models/src/solvency_models/pipelines/p06_data_engineering/utils/scaler.py#31\" target=\"_blank\"><span style=\"color: #7f7f7f; text-decoration-color: #7f7f7f\">31</span></a>\n",
       "</pre>\n"
      ],
      "text/plain": [
       "\u001b[2;36m                   \u001b[0m\u001b[2;36m \u001b[0m\u001b[34mINFO    \u001b[0m Scaled the features.                                                      \u001b]8;id=50467;file:///home/krzysiek/Development/solvency-modelling/solvency_models/src/solvency_models/pipelines/p06_data_engineering/utils/scaler.py\u001b\\\u001b[2mscaler.py\u001b[0m\u001b]8;;\u001b\\\u001b[2m:\u001b[0m\u001b]8;id=578863;file:///home/krzysiek/Development/solvency-modelling/solvency_models/src/solvency_models/pipelines/p06_data_engineering/utils/scaler.py#31\u001b\\\u001b[2m31\u001b[0m\u001b]8;;\u001b\\\n"
      ]
     },
     "metadata": {},
     "output_type": "display_data"
    },
    {
     "data": {
      "text/html": [
       "<pre style=\"white-space:pre;overflow-x:auto;line-height:normal;font-family:Menlo,'DejaVu Sans Mono',consolas,'Courier New',monospace\"><span style=\"color: #7fbfbf; text-decoration-color: #7fbfbf\">                    </span><span style=\"color: #000080; text-decoration-color: #000080\">INFO    </span> Loading the reducer model<span style=\"color: #808000; text-decoration-color: #808000\">...</span>                                         <a href=\"file:///home/krzysiek/Development/solvency-modelling/solvency_models/src/solvency_models/pipelines/p06_data_engineering/utils/cat_reducer.py\" target=\"_blank\"><span style=\"color: #7f7f7f; text-decoration-color: #7f7f7f\">cat_reducer.py</span></a><span style=\"color: #7f7f7f; text-decoration-color: #7f7f7f\">:</span><a href=\"file:///home/krzysiek/Development/solvency-modelling/solvency_models/src/solvency_models/pipelines/p06_data_engineering/utils/cat_reducer.py#36\" target=\"_blank\"><span style=\"color: #7f7f7f; text-decoration-color: #7f7f7f\">36</span></a>\n",
       "</pre>\n"
      ],
      "text/plain": [
       "\u001b[2;36m                   \u001b[0m\u001b[2;36m \u001b[0m\u001b[34mINFO    \u001b[0m Loading the reducer model\u001b[33m...\u001b[0m                                         \u001b]8;id=849750;file:///home/krzysiek/Development/solvency-modelling/solvency_models/src/solvency_models/pipelines/p06_data_engineering/utils/cat_reducer.py\u001b\\\u001b[2mcat_reducer.py\u001b[0m\u001b]8;;\u001b\\\u001b[2m:\u001b[0m\u001b]8;id=322190;file:///home/krzysiek/Development/solvency-modelling/solvency_models/src/solvency_models/pipelines/p06_data_engineering/utils/cat_reducer.py#36\u001b\\\u001b[2m36\u001b[0m\u001b]8;;\u001b\\\n"
      ]
     },
     "metadata": {},
     "output_type": "display_data"
    },
    {
     "data": {
      "application/vnd.jupyter.widget-view+json": {
       "model_id": "3e429d603bae41828b71700c620ca1e6",
       "version_major": 2,
       "version_minor": 0
      },
      "text/plain": [
       "Downloading artifacts:   0%|          | 0/1 [00:00<?, ?it/s]"
      ]
     },
     "metadata": {},
     "output_type": "display_data"
    },
    {
     "data": {
      "text/html": [
       "<pre style=\"white-space:pre;overflow-x:auto;line-height:normal;font-family:Menlo,'DejaVu Sans Mono',consolas,'Courier New',monospace\"><span style=\"color: #7fbfbf; text-decoration-color: #7fbfbf\">                    </span><span style=\"color: #000080; text-decoration-color: #000080\">INFO    </span> Successfully loaded the reducer model.                               <a href=\"file:///home/krzysiek/Development/solvency-modelling/solvency_models/src/solvency_models/pipelines/p06_data_engineering/utils/cat_reducer.py\" target=\"_blank\"><span style=\"color: #7f7f7f; text-decoration-color: #7f7f7f\">cat_reducer.py</span></a><span style=\"color: #7f7f7f; text-decoration-color: #7f7f7f\">:</span><a href=\"file:///home/krzysiek/Development/solvency-modelling/solvency_models/src/solvency_models/pipelines/p06_data_engineering/utils/cat_reducer.py#49\" target=\"_blank\"><span style=\"color: #7f7f7f; text-decoration-color: #7f7f7f\">49</span></a>\n",
       "</pre>\n"
      ],
      "text/plain": [
       "\u001b[2;36m                   \u001b[0m\u001b[2;36m \u001b[0m\u001b[34mINFO    \u001b[0m Successfully loaded the reducer model.                               \u001b]8;id=371276;file:///home/krzysiek/Development/solvency-modelling/solvency_models/src/solvency_models/pipelines/p06_data_engineering/utils/cat_reducer.py\u001b\\\u001b[2mcat_reducer.py\u001b[0m\u001b]8;;\u001b\\\u001b[2m:\u001b[0m\u001b]8;id=769737;file:///home/krzysiek/Development/solvency-modelling/solvency_models/src/solvency_models/pipelines/p06_data_engineering/utils/cat_reducer.py#49\u001b\\\u001b[2m49\u001b[0m\u001b]8;;\u001b\\\n"
      ]
     },
     "metadata": {},
     "output_type": "display_data"
    },
    {
     "data": {
      "text/html": [
       "<pre style=\"white-space:pre;overflow-x:auto;line-height:normal;font-family:Menlo,'DejaVu Sans Mono',consolas,'Courier New',monospace\"><span style=\"color: #7fbfbf; text-decoration-color: #7fbfbf\">                    </span><span style=\"color: #000080; text-decoration-color: #000080\">INFO    </span> Reducing categories<span style=\"color: #808000; text-decoration-color: #808000\">...</span>                                               <a href=\"file:///home/krzysiek/Development/solvency-modelling/solvency_models/src/solvency_models/pipelines/p06_data_engineering/utils/cat_reducer.py\" target=\"_blank\"><span style=\"color: #7f7f7f; text-decoration-color: #7f7f7f\">cat_reducer.py</span></a><span style=\"color: #7f7f7f; text-decoration-color: #7f7f7f\">:</span><a href=\"file:///home/krzysiek/Development/solvency-modelling/solvency_models/src/solvency_models/pipelines/p06_data_engineering/utils/cat_reducer.py#22\" target=\"_blank\"><span style=\"color: #7f7f7f; text-decoration-color: #7f7f7f\">22</span></a>\n",
       "</pre>\n"
      ],
      "text/plain": [
       "\u001b[2;36m                   \u001b[0m\u001b[2;36m \u001b[0m\u001b[34mINFO    \u001b[0m Reducing categories\u001b[33m...\u001b[0m                                               \u001b]8;id=467759;file:///home/krzysiek/Development/solvency-modelling/solvency_models/src/solvency_models/pipelines/p06_data_engineering/utils/cat_reducer.py\u001b\\\u001b[2mcat_reducer.py\u001b[0m\u001b]8;;\u001b\\\u001b[2m:\u001b[0m\u001b]8;id=457058;file:///home/krzysiek/Development/solvency-modelling/solvency_models/src/solvency_models/pipelines/p06_data_engineering/utils/cat_reducer.py#22\u001b\\\u001b[2m22\u001b[0m\u001b]8;;\u001b\\\n"
      ]
     },
     "metadata": {},
     "output_type": "display_data"
    },
    {
     "data": {
      "text/html": [
       "<pre style=\"white-space:pre;overflow-x:auto;line-height:normal;font-family:Menlo,'DejaVu Sans Mono',consolas,'Courier New',monospace\"><span style=\"color: #7fbfbf; text-decoration-color: #7fbfbf\">[06/03/24 20:35:30] </span><span style=\"color: #000080; text-decoration-color: #000080\">INFO    </span> Reduced the categories.                                              <a href=\"file:///home/krzysiek/Development/solvency-modelling/solvency_models/src/solvency_models/pipelines/p06_data_engineering/utils/cat_reducer.py\" target=\"_blank\"><span style=\"color: #7f7f7f; text-decoration-color: #7f7f7f\">cat_reducer.py</span></a><span style=\"color: #7f7f7f; text-decoration-color: #7f7f7f\">:</span><a href=\"file:///home/krzysiek/Development/solvency-modelling/solvency_models/src/solvency_models/pipelines/p06_data_engineering/utils/cat_reducer.py#28\" target=\"_blank\"><span style=\"color: #7f7f7f; text-decoration-color: #7f7f7f\">28</span></a>\n",
       "</pre>\n"
      ],
      "text/plain": [
       "\u001b[2;36m[06/03/24 20:35:30]\u001b[0m\u001b[2;36m \u001b[0m\u001b[34mINFO    \u001b[0m Reduced the categories.                                              \u001b]8;id=701923;file:///home/krzysiek/Development/solvency-modelling/solvency_models/src/solvency_models/pipelines/p06_data_engineering/utils/cat_reducer.py\u001b\\\u001b[2mcat_reducer.py\u001b[0m\u001b]8;;\u001b\\\u001b[2m:\u001b[0m\u001b]8;id=551598;file:///home/krzysiek/Development/solvency-modelling/solvency_models/src/solvency_models/pipelines/p06_data_engineering/utils/cat_reducer.py#28\u001b\\\u001b[2m28\u001b[0m\u001b]8;;\u001b\\\n"
      ]
     },
     "metadata": {},
     "output_type": "display_data"
    },
    {
     "data": {
      "text/html": [
       "<pre style=\"white-space:pre;overflow-x:auto;line-height:normal;font-family:Menlo,'DejaVu Sans Mono',consolas,'Courier New',monospace\"><span style=\"color: #7fbfbf; text-decoration-color: #7fbfbf\">                    </span><span style=\"color: #000080; text-decoration-color: #000080\">INFO    </span> Imputing categorical features by the MLFlow categorical imputer model<span style=\"color: #808000; text-decoration-color: #808000\">...</span> <a href=\"file:///home/krzysiek/Development/solvency-modelling/solvency_models/src/solvency_models/pipelines/p06_data_engineering/utils/imputer.py\" target=\"_blank\"><span style=\"color: #7f7f7f; text-decoration-color: #7f7f7f\">imputer.py</span></a><span style=\"color: #7f7f7f; text-decoration-color: #7f7f7f\">:</span><a href=\"file:///home/krzysiek/Development/solvency-modelling/solvency_models/src/solvency_models/pipelines/p06_data_engineering/utils/imputer.py#38\" target=\"_blank\"><span style=\"color: #7f7f7f; text-decoration-color: #7f7f7f\">38</span></a>\n",
       "</pre>\n"
      ],
      "text/plain": [
       "\u001b[2;36m                   \u001b[0m\u001b[2;36m \u001b[0m\u001b[34mINFO    \u001b[0m Imputing categorical features by the MLFlow categorical imputer model\u001b[33m...\u001b[0m \u001b]8;id=629705;file:///home/krzysiek/Development/solvency-modelling/solvency_models/src/solvency_models/pipelines/p06_data_engineering/utils/imputer.py\u001b\\\u001b[2mimputer.py\u001b[0m\u001b]8;;\u001b\\\u001b[2m:\u001b[0m\u001b]8;id=792014;file:///home/krzysiek/Development/solvency-modelling/solvency_models/src/solvency_models/pipelines/p06_data_engineering/utils/imputer.py#38\u001b\\\u001b[2m38\u001b[0m\u001b]8;;\u001b\\\n"
      ]
     },
     "metadata": {},
     "output_type": "display_data"
    },
    {
     "data": {
      "text/html": [
       "<pre style=\"white-space:pre;overflow-x:auto;line-height:normal;font-family:Menlo,'DejaVu Sans Mono',consolas,'Courier New',monospace\"><span style=\"color: #7fbfbf; text-decoration-color: #7fbfbf\">                    </span><span style=\"color: #000080; text-decoration-color: #000080\">INFO    </span> Using the provided MLFlow run ID: 219322d6b4d84362a07e91be53a66910.      <a href=\"file:///home/krzysiek/Development/solvency-modelling/solvency_models/src/solvency_models/pipelines/p06_data_engineering/utils/imputer.py\" target=\"_blank\"><span style=\"color: #7f7f7f; text-decoration-color: #7f7f7f\">imputer.py</span></a><span style=\"color: #7f7f7f; text-decoration-color: #7f7f7f\">:</span><a href=\"file:///home/krzysiek/Development/solvency-modelling/solvency_models/src/solvency_models/pipelines/p06_data_engineering/utils/imputer.py#45\" target=\"_blank\"><span style=\"color: #7f7f7f; text-decoration-color: #7f7f7f\">45</span></a>\n",
       "</pre>\n"
      ],
      "text/plain": [
       "\u001b[2;36m                   \u001b[0m\u001b[2;36m \u001b[0m\u001b[34mINFO    \u001b[0m Using the provided MLFlow run ID: 219322d6b4d84362a07e91be53a66910.      \u001b]8;id=310282;file:///home/krzysiek/Development/solvency-modelling/solvency_models/src/solvency_models/pipelines/p06_data_engineering/utils/imputer.py\u001b\\\u001b[2mimputer.py\u001b[0m\u001b]8;;\u001b\\\u001b[2m:\u001b[0m\u001b]8;id=764918;file:///home/krzysiek/Development/solvency-modelling/solvency_models/src/solvency_models/pipelines/p06_data_engineering/utils/imputer.py#45\u001b\\\u001b[2m45\u001b[0m\u001b]8;;\u001b\\\n"
      ]
     },
     "metadata": {},
     "output_type": "display_data"
    },
    {
     "data": {
      "text/html": [
       "<pre style=\"white-space:pre;overflow-x:auto;line-height:normal;font-family:Menlo,'DejaVu Sans Mono',consolas,'Courier New',monospace\"><span style=\"color: #7fbfbf; text-decoration-color: #7fbfbf\">                    </span><span style=\"color: #000080; text-decoration-color: #000080\">INFO    </span> Using the provided MLFlow run ID: 219322d6b4d84362a07e91be53a66910. <a href=\"file:///home/krzysiek/Development/solvency-modelling/solvency_models/src/solvency_models/pipelines/utils/mlflow_model.py\" target=\"_blank\"><span style=\"color: #7f7f7f; text-decoration-color: #7f7f7f\">mlflow_model.py</span></a><span style=\"color: #7f7f7f; text-decoration-color: #7f7f7f\">:</span><a href=\"file:///home/krzysiek/Development/solvency-modelling/solvency_models/src/solvency_models/pipelines/utils/mlflow_model.py#60\" target=\"_blank\"><span style=\"color: #7f7f7f; text-decoration-color: #7f7f7f\">60</span></a>\n",
       "</pre>\n"
      ],
      "text/plain": [
       "\u001b[2;36m                   \u001b[0m\u001b[2;36m \u001b[0m\u001b[34mINFO    \u001b[0m Using the provided MLFlow run ID: 219322d6b4d84362a07e91be53a66910. \u001b]8;id=548101;file:///home/krzysiek/Development/solvency-modelling/solvency_models/src/solvency_models/pipelines/utils/mlflow_model.py\u001b\\\u001b[2mmlflow_model.py\u001b[0m\u001b]8;;\u001b\\\u001b[2m:\u001b[0m\u001b]8;id=760910;file:///home/krzysiek/Development/solvency-modelling/solvency_models/src/solvency_models/pipelines/utils/mlflow_model.py#60\u001b\\\u001b[2m60\u001b[0m\u001b]8;;\u001b\\\n"
      ]
     },
     "metadata": {},
     "output_type": "display_data"
    },
    {
     "data": {
      "text/html": [
       "<pre style=\"white-space:pre;overflow-x:auto;line-height:normal;font-family:Menlo,'DejaVu Sans Mono',consolas,'Courier New',monospace\"><span style=\"color: #7fbfbf; text-decoration-color: #7fbfbf\">                    </span><span style=\"color: #000080; text-decoration-color: #000080\">INFO    </span> Loading the categorical imputer model from MLFlow path              <a href=\"file:///home/krzysiek/Development/solvency-modelling/solvency_models/src/solvency_models/pipelines/utils/mlflow_model.py\" target=\"_blank\"><span style=\"color: #7f7f7f; text-decoration-color: #7f7f7f\">mlflow_model.py</span></a><span style=\"color: #7f7f7f; text-decoration-color: #7f7f7f\">:</span><a href=\"file:///home/krzysiek/Development/solvency-modelling/solvency_models/src/solvency_models/pipelines/utils/mlflow_model.py#63\" target=\"_blank\"><span style=\"color: #7f7f7f; text-decoration-color: #7f7f7f\">63</span></a>\n",
       "<span style=\"color: #7fbfbf; text-decoration-color: #7fbfbf\">                    </span>         model_de/cat_imputer<span style=\"color: #808000; text-decoration-color: #808000\">...</span>                                             <span style=\"color: #7f7f7f; text-decoration-color: #7f7f7f\">                  </span>\n",
       "</pre>\n"
      ],
      "text/plain": [
       "\u001b[2;36m                   \u001b[0m\u001b[2;36m \u001b[0m\u001b[34mINFO    \u001b[0m Loading the categorical imputer model from MLFlow path              \u001b]8;id=298099;file:///home/krzysiek/Development/solvency-modelling/solvency_models/src/solvency_models/pipelines/utils/mlflow_model.py\u001b\\\u001b[2mmlflow_model.py\u001b[0m\u001b]8;;\u001b\\\u001b[2m:\u001b[0m\u001b]8;id=667629;file:///home/krzysiek/Development/solvency-modelling/solvency_models/src/solvency_models/pipelines/utils/mlflow_model.py#63\u001b\\\u001b[2m63\u001b[0m\u001b]8;;\u001b\\\n",
       "\u001b[2;36m                    \u001b[0m         model_de/cat_imputer\u001b[33m...\u001b[0m                                             \u001b[2m                  \u001b[0m\n"
      ]
     },
     "metadata": {},
     "output_type": "display_data"
    },
    {
     "data": {
      "application/vnd.jupyter.widget-view+json": {
       "model_id": "1f7686fb069b444fa1da172d3d999a04",
       "version_major": 2,
       "version_minor": 0
      },
      "text/plain": [
       "Downloading artifacts:   0%|          | 0/9 [00:00<?, ?it/s]"
      ]
     },
     "metadata": {},
     "output_type": "display_data"
    },
    {
     "data": {
      "text/html": [
       "<pre style=\"white-space:pre;overflow-x:auto;line-height:normal;font-family:Menlo,'DejaVu Sans Mono',consolas,'Courier New',monospace\"><span style=\"color: #7fbfbf; text-decoration-color: #7fbfbf\">                    </span><span style=\"color: #000080; text-decoration-color: #000080\">INFO    </span> Successfully loaded the categorical imputer model of type <span style=\"font-weight: bold\">&lt;</span><span style=\"color: #ff00ff; text-decoration-color: #ff00ff; font-weight: bold\">class</span><span style=\"color: #000000; text-decoration-color: #000000\"> </span>   <a href=\"file:///home/krzysiek/Development/solvency-modelling/solvency_models/src/solvency_models/pipelines/utils/mlflow_model.py\" target=\"_blank\"><span style=\"color: #7f7f7f; text-decoration-color: #7f7f7f\">mlflow_model.py</span></a><span style=\"color: #7f7f7f; text-decoration-color: #7f7f7f\">:</span><a href=\"file:///home/krzysiek/Development/solvency-modelling/solvency_models/src/solvency_models/pipelines/utils/mlflow_model.py#67\" target=\"_blank\"><span style=\"color: #7f7f7f; text-decoration-color: #7f7f7f\">67</span></a>\n",
       "<span style=\"color: #7fbfbf; text-decoration-color: #7fbfbf\">                    </span>         <span style=\"color: #008000; text-decoration-color: #008000\">'sklearn.impute._base.SimpleImputer'</span><span style=\"font-weight: bold\">&gt;</span>.                              <span style=\"color: #7f7f7f; text-decoration-color: #7f7f7f\">                  </span>\n",
       "</pre>\n"
      ],
      "text/plain": [
       "\u001b[2;36m                   \u001b[0m\u001b[2;36m \u001b[0m\u001b[34mINFO    \u001b[0m Successfully loaded the categorical imputer model of type \u001b[1m<\u001b[0m\u001b[1;95mclass\u001b[0m\u001b[39m \u001b[0m   \u001b]8;id=870816;file:///home/krzysiek/Development/solvency-modelling/solvency_models/src/solvency_models/pipelines/utils/mlflow_model.py\u001b\\\u001b[2mmlflow_model.py\u001b[0m\u001b]8;;\u001b\\\u001b[2m:\u001b[0m\u001b]8;id=800802;file:///home/krzysiek/Development/solvency-modelling/solvency_models/src/solvency_models/pipelines/utils/mlflow_model.py#67\u001b\\\u001b[2m67\u001b[0m\u001b]8;;\u001b\\\n",
       "\u001b[2;36m                    \u001b[0m         \u001b[32m'sklearn.impute._base.SimpleImputer'\u001b[0m\u001b[1m>\u001b[0m.                              \u001b[2m                  \u001b[0m\n"
      ]
     },
     "metadata": {},
     "output_type": "display_data"
    },
    {
     "data": {
      "text/html": [
       "<pre style=\"white-space:pre;overflow-x:auto;line-height:normal;font-family:Menlo,'DejaVu Sans Mono',consolas,'Courier New',monospace\"><span style=\"color: #7fbfbf; text-decoration-color: #7fbfbf\">                    </span><span style=\"color: #000080; text-decoration-color: #000080\">INFO    </span> Imputing categorical features by the loaded model<span style=\"color: #808000; text-decoration-color: #808000\">...</span>                     <a href=\"file:///home/krzysiek/Development/solvency-modelling/solvency_models/src/solvency_models/pipelines/p06_data_engineering/utils/imputer.py\" target=\"_blank\"><span style=\"color: #7f7f7f; text-decoration-color: #7f7f7f\">imputer.py</span></a><span style=\"color: #7f7f7f; text-decoration-color: #7f7f7f\">:</span><a href=\"file:///home/krzysiek/Development/solvency-modelling/solvency_models/src/solvency_models/pipelines/p06_data_engineering/utils/imputer.py#49\" target=\"_blank\"><span style=\"color: #7f7f7f; text-decoration-color: #7f7f7f\">49</span></a>\n",
       "</pre>\n"
      ],
      "text/plain": [
       "\u001b[2;36m                   \u001b[0m\u001b[2;36m \u001b[0m\u001b[34mINFO    \u001b[0m Imputing categorical features by the loaded model\u001b[33m...\u001b[0m                     \u001b]8;id=584054;file:///home/krzysiek/Development/solvency-modelling/solvency_models/src/solvency_models/pipelines/p06_data_engineering/utils/imputer.py\u001b\\\u001b[2mimputer.py\u001b[0m\u001b]8;;\u001b\\\u001b[2m:\u001b[0m\u001b]8;id=472824;file:///home/krzysiek/Development/solvency-modelling/solvency_models/src/solvency_models/pipelines/p06_data_engineering/utils/imputer.py#49\u001b\\\u001b[2m49\u001b[0m\u001b]8;;\u001b\\\n"
      ]
     },
     "metadata": {},
     "output_type": "display_data"
    },
    {
     "data": {
      "text/html": [
       "<pre style=\"white-space:pre;overflow-x:auto;line-height:normal;font-family:Menlo,'DejaVu Sans Mono',consolas,'Courier New',monospace\"><span style=\"color: #7fbfbf; text-decoration-color: #7fbfbf\">                    </span><span style=\"color: #000080; text-decoration-color: #000080\">INFO    </span> Imputed the categorical features.                                        <a href=\"file:///home/krzysiek/Development/solvency-modelling/solvency_models/src/solvency_models/pipelines/p06_data_engineering/utils/imputer.py\" target=\"_blank\"><span style=\"color: #7f7f7f; text-decoration-color: #7f7f7f\">imputer.py</span></a><span style=\"color: #7f7f7f; text-decoration-color: #7f7f7f\">:</span><a href=\"file:///home/krzysiek/Development/solvency-modelling/solvency_models/src/solvency_models/pipelines/p06_data_engineering/utils/imputer.py#51\" target=\"_blank\"><span style=\"color: #7f7f7f; text-decoration-color: #7f7f7f\">51</span></a>\n",
       "</pre>\n"
      ],
      "text/plain": [
       "\u001b[2;36m                   \u001b[0m\u001b[2;36m \u001b[0m\u001b[34mINFO    \u001b[0m Imputed the categorical features.                                        \u001b]8;id=422130;file:///home/krzysiek/Development/solvency-modelling/solvency_models/src/solvency_models/pipelines/p06_data_engineering/utils/imputer.py\u001b\\\u001b[2mimputer.py\u001b[0m\u001b]8;;\u001b\\\u001b[2m:\u001b[0m\u001b]8;id=516689;file:///home/krzysiek/Development/solvency-modelling/solvency_models/src/solvency_models/pipelines/p06_data_engineering/utils/imputer.py#51\u001b\\\u001b[2m51\u001b[0m\u001b]8;;\u001b\\\n"
      ]
     },
     "metadata": {},
     "output_type": "display_data"
    },
    {
     "data": {
      "text/html": [
       "<pre style=\"white-space:pre;overflow-x:auto;line-height:normal;font-family:Menlo,'DejaVu Sans Mono',consolas,'Courier New',monospace\"><span style=\"color: #7fbfbf; text-decoration-color: #7fbfbf\">                    </span><span style=\"color: #000080; text-decoration-color: #000080\">INFO    </span> One-hot encoding features by the MLFlow one hot encoder model<span style=\"color: #808000; text-decoration-color: #808000\">...</span>  <a href=\"file:///home/krzysiek/Development/solvency-modelling/solvency_models/src/solvency_models/pipelines/p06_data_engineering/utils/onehot_encoder.py\" target=\"_blank\"><span style=\"color: #7f7f7f; text-decoration-color: #7f7f7f\">onehot_encoder.py</span></a><span style=\"color: #7f7f7f; text-decoration-color: #7f7f7f\">:</span><a href=\"file:///home/krzysiek/Development/solvency-modelling/solvency_models/src/solvency_models/pipelines/p06_data_engineering/utils/onehot_encoder.py#31\" target=\"_blank\"><span style=\"color: #7f7f7f; text-decoration-color: #7f7f7f\">31</span></a>\n",
       "</pre>\n"
      ],
      "text/plain": [
       "\u001b[2;36m                   \u001b[0m\u001b[2;36m \u001b[0m\u001b[34mINFO    \u001b[0m One-hot encoding features by the MLFlow one hot encoder model\u001b[33m...\u001b[0m  \u001b]8;id=681705;file:///home/krzysiek/Development/solvency-modelling/solvency_models/src/solvency_models/pipelines/p06_data_engineering/utils/onehot_encoder.py\u001b\\\u001b[2monehot_encoder.py\u001b[0m\u001b]8;;\u001b\\\u001b[2m:\u001b[0m\u001b]8;id=560550;file:///home/krzysiek/Development/solvency-modelling/solvency_models/src/solvency_models/pipelines/p06_data_engineering/utils/onehot_encoder.py#31\u001b\\\u001b[2m31\u001b[0m\u001b]8;;\u001b\\\n"
      ]
     },
     "metadata": {},
     "output_type": "display_data"
    },
    {
     "data": {
      "text/html": [
       "<pre style=\"white-space:pre;overflow-x:auto;line-height:normal;font-family:Menlo,'DejaVu Sans Mono',consolas,'Courier New',monospace\"><span style=\"color: #7fbfbf; text-decoration-color: #7fbfbf\">                    </span><span style=\"color: #000080; text-decoration-color: #000080\">INFO    </span> Using the provided MLFlow run ID: 219322d6b4d84362a07e91be53a66910. <a href=\"file:///home/krzysiek/Development/solvency-modelling/solvency_models/src/solvency_models/pipelines/utils/mlflow_model.py\" target=\"_blank\"><span style=\"color: #7f7f7f; text-decoration-color: #7f7f7f\">mlflow_model.py</span></a><span style=\"color: #7f7f7f; text-decoration-color: #7f7f7f\">:</span><a href=\"file:///home/krzysiek/Development/solvency-modelling/solvency_models/src/solvency_models/pipelines/utils/mlflow_model.py#60\" target=\"_blank\"><span style=\"color: #7f7f7f; text-decoration-color: #7f7f7f\">60</span></a>\n",
       "</pre>\n"
      ],
      "text/plain": [
       "\u001b[2;36m                   \u001b[0m\u001b[2;36m \u001b[0m\u001b[34mINFO    \u001b[0m Using the provided MLFlow run ID: 219322d6b4d84362a07e91be53a66910. \u001b]8;id=435208;file:///home/krzysiek/Development/solvency-modelling/solvency_models/src/solvency_models/pipelines/utils/mlflow_model.py\u001b\\\u001b[2mmlflow_model.py\u001b[0m\u001b]8;;\u001b\\\u001b[2m:\u001b[0m\u001b]8;id=207433;file:///home/krzysiek/Development/solvency-modelling/solvency_models/src/solvency_models/pipelines/utils/mlflow_model.py#60\u001b\\\u001b[2m60\u001b[0m\u001b]8;;\u001b\\\n"
      ]
     },
     "metadata": {},
     "output_type": "display_data"
    },
    {
     "data": {
      "text/html": [
       "<pre style=\"white-space:pre;overflow-x:auto;line-height:normal;font-family:Menlo,'DejaVu Sans Mono',consolas,'Courier New',monospace\"><span style=\"color: #7fbfbf; text-decoration-color: #7fbfbf\">                    </span><span style=\"color: #000080; text-decoration-color: #000080\">INFO    </span> Loading the one-hot encoder model from MLFlow path model_de/ohe<span style=\"color: #808000; text-decoration-color: #808000\">...</span>  <a href=\"file:///home/krzysiek/Development/solvency-modelling/solvency_models/src/solvency_models/pipelines/utils/mlflow_model.py\" target=\"_blank\"><span style=\"color: #7f7f7f; text-decoration-color: #7f7f7f\">mlflow_model.py</span></a><span style=\"color: #7f7f7f; text-decoration-color: #7f7f7f\">:</span><a href=\"file:///home/krzysiek/Development/solvency-modelling/solvency_models/src/solvency_models/pipelines/utils/mlflow_model.py#63\" target=\"_blank\"><span style=\"color: #7f7f7f; text-decoration-color: #7f7f7f\">63</span></a>\n",
       "</pre>\n"
      ],
      "text/plain": [
       "\u001b[2;36m                   \u001b[0m\u001b[2;36m \u001b[0m\u001b[34mINFO    \u001b[0m Loading the one-hot encoder model from MLFlow path model_de/ohe\u001b[33m...\u001b[0m  \u001b]8;id=357577;file:///home/krzysiek/Development/solvency-modelling/solvency_models/src/solvency_models/pipelines/utils/mlflow_model.py\u001b\\\u001b[2mmlflow_model.py\u001b[0m\u001b]8;;\u001b\\\u001b[2m:\u001b[0m\u001b]8;id=977800;file:///home/krzysiek/Development/solvency-modelling/solvency_models/src/solvency_models/pipelines/utils/mlflow_model.py#63\u001b\\\u001b[2m63\u001b[0m\u001b]8;;\u001b\\\n"
      ]
     },
     "metadata": {},
     "output_type": "display_data"
    },
    {
     "data": {
      "application/vnd.jupyter.widget-view+json": {
       "model_id": "cb4e494bba9e492aae5b1ca33de34170",
       "version_major": 2,
       "version_minor": 0
      },
      "text/plain": [
       "Downloading artifacts:   0%|          | 0/9 [00:00<?, ?it/s]"
      ]
     },
     "metadata": {},
     "output_type": "display_data"
    },
    {
     "data": {
      "text/html": [
       "<pre style=\"white-space:pre;overflow-x:auto;line-height:normal;font-family:Menlo,'DejaVu Sans Mono',consolas,'Courier New',monospace\"><span style=\"color: #7fbfbf; text-decoration-color: #7fbfbf\">                    </span><span style=\"color: #000080; text-decoration-color: #000080\">INFO    </span> Successfully loaded the one-hot encoder model of type <span style=\"font-weight: bold\">&lt;</span><span style=\"color: #ff00ff; text-decoration-color: #ff00ff; font-weight: bold\">class</span><span style=\"color: #000000; text-decoration-color: #000000\"> </span>       <a href=\"file:///home/krzysiek/Development/solvency-modelling/solvency_models/src/solvency_models/pipelines/utils/mlflow_model.py\" target=\"_blank\"><span style=\"color: #7f7f7f; text-decoration-color: #7f7f7f\">mlflow_model.py</span></a><span style=\"color: #7f7f7f; text-decoration-color: #7f7f7f\">:</span><a href=\"file:///home/krzysiek/Development/solvency-modelling/solvency_models/src/solvency_models/pipelines/utils/mlflow_model.py#67\" target=\"_blank\"><span style=\"color: #7f7f7f; text-decoration-color: #7f7f7f\">67</span></a>\n",
       "<span style=\"color: #7fbfbf; text-decoration-color: #7fbfbf\">                    </span>         <span style=\"color: #008000; text-decoration-color: #008000\">'sklearn.preprocessing._encoders.OneHotEncoder'</span><span style=\"font-weight: bold\">&gt;</span>.                   <span style=\"color: #7f7f7f; text-decoration-color: #7f7f7f\">                  </span>\n",
       "</pre>\n"
      ],
      "text/plain": [
       "\u001b[2;36m                   \u001b[0m\u001b[2;36m \u001b[0m\u001b[34mINFO    \u001b[0m Successfully loaded the one-hot encoder model of type \u001b[1m<\u001b[0m\u001b[1;95mclass\u001b[0m\u001b[39m \u001b[0m       \u001b]8;id=638386;file:///home/krzysiek/Development/solvency-modelling/solvency_models/src/solvency_models/pipelines/utils/mlflow_model.py\u001b\\\u001b[2mmlflow_model.py\u001b[0m\u001b]8;;\u001b\\\u001b[2m:\u001b[0m\u001b]8;id=983093;file:///home/krzysiek/Development/solvency-modelling/solvency_models/src/solvency_models/pipelines/utils/mlflow_model.py#67\u001b\\\u001b[2m67\u001b[0m\u001b]8;;\u001b\\\n",
       "\u001b[2;36m                    \u001b[0m         \u001b[32m'sklearn.preprocessing._encoders.OneHotEncoder'\u001b[0m\u001b[1m>\u001b[0m.                   \u001b[2m                  \u001b[0m\n"
      ]
     },
     "metadata": {},
     "output_type": "display_data"
    },
    {
     "data": {
      "text/html": [
       "<pre style=\"white-space:pre;overflow-x:auto;line-height:normal;font-family:Menlo,'DejaVu Sans Mono',consolas,'Courier New',monospace\"><span style=\"color: #7fbfbf; text-decoration-color: #7fbfbf\">                    </span><span style=\"color: #000080; text-decoration-color: #000080\">INFO    </span> One-hot encoded the features.                                     <a href=\"file:///home/krzysiek/Development/solvency-modelling/solvency_models/src/solvency_models/pipelines/p06_data_engineering/utils/onehot_encoder.py\" target=\"_blank\"><span style=\"color: #7f7f7f; text-decoration-color: #7f7f7f\">onehot_encoder.py</span></a><span style=\"color: #7f7f7f; text-decoration-color: #7f7f7f\">:</span><a href=\"file:///home/krzysiek/Development/solvency-modelling/solvency_models/src/solvency_models/pipelines/p06_data_engineering/utils/onehot_encoder.py#34\" target=\"_blank\"><span style=\"color: #7f7f7f; text-decoration-color: #7f7f7f\">34</span></a>\n",
       "</pre>\n"
      ],
      "text/plain": [
       "\u001b[2;36m                   \u001b[0m\u001b[2;36m \u001b[0m\u001b[34mINFO    \u001b[0m One-hot encoded the features.                                     \u001b]8;id=673699;file:///home/krzysiek/Development/solvency-modelling/solvency_models/src/solvency_models/pipelines/p06_data_engineering/utils/onehot_encoder.py\u001b\\\u001b[2monehot_encoder.py\u001b[0m\u001b]8;;\u001b\\\u001b[2m:\u001b[0m\u001b]8;id=84303;file:///home/krzysiek/Development/solvency-modelling/solvency_models/src/solvency_models/pipelines/p06_data_engineering/utils/onehot_encoder.py#34\u001b\\\u001b[2m34\u001b[0m\u001b]8;;\u001b\\\n"
      ]
     },
     "metadata": {},
     "output_type": "display_data"
    },
    {
     "data": {
      "text/html": [
       "<pre style=\"white-space:pre;overflow-x:auto;line-height:normal;font-family:Menlo,'DejaVu Sans Mono',consolas,'Courier New',monospace\"><span style=\"color: #7fbfbf; text-decoration-color: #7fbfbf\">                    </span><span style=\"color: #000080; text-decoration-color: #000080\">INFO    </span> <span style=\"color: #008080; text-decoration-color: #008080; font-weight: bold\">5</span> categorical features were one-hot encoded to <span style=\"color: #008080; text-decoration-color: #008080; font-weight: bold\">46</span> columns.        <a href=\"file:///home/krzysiek/Development/solvency-modelling/solvency_models/src/solvency_models/pipelines/p06_data_engineering/utils/onehot_encoder.py\" target=\"_blank\"><span style=\"color: #7f7f7f; text-decoration-color: #7f7f7f\">onehot_encoder.py</span></a><span style=\"color: #7f7f7f; text-decoration-color: #7f7f7f\">:</span><a href=\"file:///home/krzysiek/Development/solvency-modelling/solvency_models/src/solvency_models/pipelines/p06_data_engineering/utils/onehot_encoder.py#22\" target=\"_blank\"><span style=\"color: #7f7f7f; text-decoration-color: #7f7f7f\">22</span></a>\n",
       "</pre>\n"
      ],
      "text/plain": [
       "\u001b[2;36m                   \u001b[0m\u001b[2;36m \u001b[0m\u001b[34mINFO    \u001b[0m \u001b[1;36m5\u001b[0m categorical features were one-hot encoded to \u001b[1;36m46\u001b[0m columns.        \u001b]8;id=393491;file:///home/krzysiek/Development/solvency-modelling/solvency_models/src/solvency_models/pipelines/p06_data_engineering/utils/onehot_encoder.py\u001b\\\u001b[2monehot_encoder.py\u001b[0m\u001b]8;;\u001b\\\u001b[2m:\u001b[0m\u001b]8;id=38361;file:///home/krzysiek/Development/solvency-modelling/solvency_models/src/solvency_models/pipelines/p06_data_engineering/utils/onehot_encoder.py#22\u001b\\\u001b[2m22\u001b[0m\u001b]8;;\u001b\\\n"
      ]
     },
     "metadata": {},
     "output_type": "display_data"
    },
    {
     "data": {
      "text/html": [
       "<pre style=\"white-space:pre;overflow-x:auto;line-height:normal;font-family:Menlo,'DejaVu Sans Mono',consolas,'Courier New',monospace\"><span style=\"color: #7fbfbf; text-decoration-color: #7fbfbf\">                    </span><span style=\"color: #000080; text-decoration-color: #000080\">INFO    </span> Selecting features by the MLFlow model<span style=\"color: #808000; text-decoration-color: #808000\">...</span>                                 <a href=\"file:///home/krzysiek/Development/solvency-modelling/solvency_models/src/solvency_models/pipelines/p07_data_science/select.py\" target=\"_blank\"><span style=\"color: #7f7f7f; text-decoration-color: #7f7f7f\">select.py</span></a><span style=\"color: #7f7f7f; text-decoration-color: #7f7f7f\">:</span><a href=\"file:///home/krzysiek/Development/solvency-modelling/solvency_models/src/solvency_models/pipelines/p07_data_science/select.py#68\" target=\"_blank\"><span style=\"color: #7f7f7f; text-decoration-color: #7f7f7f\">68</span></a>\n",
       "</pre>\n"
      ],
      "text/plain": [
       "\u001b[2;36m                   \u001b[0m\u001b[2;36m \u001b[0m\u001b[34mINFO    \u001b[0m Selecting features by the MLFlow model\u001b[33m...\u001b[0m                                 \u001b]8;id=1983;file:///home/krzysiek/Development/solvency-modelling/solvency_models/src/solvency_models/pipelines/p07_data_science/select.py\u001b\\\u001b[2mselect.py\u001b[0m\u001b]8;;\u001b\\\u001b[2m:\u001b[0m\u001b]8;id=703909;file:///home/krzysiek/Development/solvency-modelling/solvency_models/src/solvency_models/pipelines/p07_data_science/select.py#68\u001b\\\u001b[2m68\u001b[0m\u001b]8;;\u001b\\\n"
      ]
     },
     "metadata": {},
     "output_type": "display_data"
    },
    {
     "data": {
      "text/html": [
       "<pre style=\"white-space:pre;overflow-x:auto;line-height:normal;font-family:Menlo,'DejaVu Sans Mono',consolas,'Courier New',monospace\"><span style=\"color: #7fbfbf; text-decoration-color: #7fbfbf\">                    </span><span style=\"color: #000080; text-decoration-color: #000080\">INFO    </span> Using the provided MLFlow run ID: 219322d6b4d84362a07e91be53a66910. <a href=\"file:///home/krzysiek/Development/solvency-modelling/solvency_models/src/solvency_models/pipelines/utils/mlflow_model.py\" target=\"_blank\"><span style=\"color: #7f7f7f; text-decoration-color: #7f7f7f\">mlflow_model.py</span></a><span style=\"color: #7f7f7f; text-decoration-color: #7f7f7f\">:</span><a href=\"file:///home/krzysiek/Development/solvency-modelling/solvency_models/src/solvency_models/pipelines/utils/mlflow_model.py#60\" target=\"_blank\"><span style=\"color: #7f7f7f; text-decoration-color: #7f7f7f\">60</span></a>\n",
       "</pre>\n"
      ],
      "text/plain": [
       "\u001b[2;36m                   \u001b[0m\u001b[2;36m \u001b[0m\u001b[34mINFO    \u001b[0m Using the provided MLFlow run ID: 219322d6b4d84362a07e91be53a66910. \u001b]8;id=520215;file:///home/krzysiek/Development/solvency-modelling/solvency_models/src/solvency_models/pipelines/utils/mlflow_model.py\u001b\\\u001b[2mmlflow_model.py\u001b[0m\u001b]8;;\u001b\\\u001b[2m:\u001b[0m\u001b]8;id=10260;file:///home/krzysiek/Development/solvency-modelling/solvency_models/src/solvency_models/pipelines/utils/mlflow_model.py#60\u001b\\\u001b[2m60\u001b[0m\u001b]8;;\u001b\\\n"
      ]
     },
     "metadata": {},
     "output_type": "display_data"
    },
    {
     "data": {
      "text/html": [
       "<pre style=\"white-space:pre;overflow-x:auto;line-height:normal;font-family:Menlo,'DejaVu Sans Mono',consolas,'Courier New',monospace\"><span style=\"color: #7fbfbf; text-decoration-color: #7fbfbf\">                    </span><span style=\"color: #000080; text-decoration-color: #000080\">INFO    </span> Loading the features selector model from MLFlow path                <a href=\"file:///home/krzysiek/Development/solvency-modelling/solvency_models/src/solvency_models/pipelines/utils/mlflow_model.py\" target=\"_blank\"><span style=\"color: #7f7f7f; text-decoration-color: #7f7f7f\">mlflow_model.py</span></a><span style=\"color: #7f7f7f; text-decoration-color: #7f7f7f\">:</span><a href=\"file:///home/krzysiek/Development/solvency-modelling/solvency_models/src/solvency_models/pipelines/utils/mlflow_model.py#63\" target=\"_blank\"><span style=\"color: #7f7f7f; text-decoration-color: #7f7f7f\">63</span></a>\n",
       "<span style=\"color: #7fbfbf; text-decoration-color: #7fbfbf\">                    </span>         model_ds/selector<span style=\"color: #808000; text-decoration-color: #808000\">...</span>                                                <span style=\"color: #7f7f7f; text-decoration-color: #7f7f7f\">                  </span>\n",
       "</pre>\n"
      ],
      "text/plain": [
       "\u001b[2;36m                   \u001b[0m\u001b[2;36m \u001b[0m\u001b[34mINFO    \u001b[0m Loading the features selector model from MLFlow path                \u001b]8;id=173482;file:///home/krzysiek/Development/solvency-modelling/solvency_models/src/solvency_models/pipelines/utils/mlflow_model.py\u001b\\\u001b[2mmlflow_model.py\u001b[0m\u001b]8;;\u001b\\\u001b[2m:\u001b[0m\u001b]8;id=947277;file:///home/krzysiek/Development/solvency-modelling/solvency_models/src/solvency_models/pipelines/utils/mlflow_model.py#63\u001b\\\u001b[2m63\u001b[0m\u001b]8;;\u001b\\\n",
       "\u001b[2;36m                    \u001b[0m         model_ds/selector\u001b[33m...\u001b[0m                                                \u001b[2m                  \u001b[0m\n"
      ]
     },
     "metadata": {},
     "output_type": "display_data"
    },
    {
     "data": {
      "application/vnd.jupyter.widget-view+json": {
       "model_id": "48a6da5af2e44125b7782732fb303ecd",
       "version_major": 2,
       "version_minor": 0
      },
      "text/plain": [
       "Downloading artifacts:   0%|          | 0/9 [00:00<?, ?it/s]"
      ]
     },
     "metadata": {},
     "output_type": "display_data"
    },
    {
     "data": {
      "text/html": [
       "<pre style=\"white-space:pre;overflow-x:auto;line-height:normal;font-family:Menlo,'DejaVu Sans Mono',consolas,'Courier New',monospace\"><span style=\"color: #7fbfbf; text-decoration-color: #7fbfbf\">                    </span><span style=\"color: #000080; text-decoration-color: #000080\">INFO    </span> Successfully loaded the features selector model of type <span style=\"font-weight: bold\">&lt;</span><span style=\"color: #ff00ff; text-decoration-color: #ff00ff; font-weight: bold\">class</span><span style=\"color: #000000; text-decoration-color: #000000\"> </span>     <a href=\"file:///home/krzysiek/Development/solvency-modelling/solvency_models/src/solvency_models/pipelines/utils/mlflow_model.py\" target=\"_blank\"><span style=\"color: #7f7f7f; text-decoration-color: #7f7f7f\">mlflow_model.py</span></a><span style=\"color: #7f7f7f; text-decoration-color: #7f7f7f\">:</span><a href=\"file:///home/krzysiek/Development/solvency-modelling/solvency_models/src/solvency_models/pipelines/utils/mlflow_model.py#67\" target=\"_blank\"><span style=\"color: #7f7f7f; text-decoration-color: #7f7f7f\">67</span></a>\n",
       "<span style=\"color: #7fbfbf; text-decoration-color: #7fbfbf\">                    </span>         <span style=\"color: #008000; text-decoration-color: #008000\">'solvency_models.pipelines.p07_data_science.selectors.lasso.LassoFe</span> <span style=\"color: #7f7f7f; text-decoration-color: #7f7f7f\">                  </span>\n",
       "<span style=\"color: #7fbfbf; text-decoration-color: #7fbfbf\">                    </span>         <span style=\"color: #008000; text-decoration-color: #008000\">atureSelector'</span><span style=\"font-weight: bold\">&gt;</span>.                                                    <span style=\"color: #7f7f7f; text-decoration-color: #7f7f7f\">                  </span>\n",
       "</pre>\n"
      ],
      "text/plain": [
       "\u001b[2;36m                   \u001b[0m\u001b[2;36m \u001b[0m\u001b[34mINFO    \u001b[0m Successfully loaded the features selector model of type \u001b[1m<\u001b[0m\u001b[1;95mclass\u001b[0m\u001b[39m \u001b[0m     \u001b]8;id=211711;file:///home/krzysiek/Development/solvency-modelling/solvency_models/src/solvency_models/pipelines/utils/mlflow_model.py\u001b\\\u001b[2mmlflow_model.py\u001b[0m\u001b]8;;\u001b\\\u001b[2m:\u001b[0m\u001b]8;id=105160;file:///home/krzysiek/Development/solvency-modelling/solvency_models/src/solvency_models/pipelines/utils/mlflow_model.py#67\u001b\\\u001b[2m67\u001b[0m\u001b]8;;\u001b\\\n",
       "\u001b[2;36m                    \u001b[0m         \u001b[32m'solvency_models.pipelines.p07_data_science.selectors.lasso.LassoFe\u001b[0m \u001b[2m                  \u001b[0m\n",
       "\u001b[2;36m                    \u001b[0m         \u001b[32matureSelector'\u001b[0m\u001b[1m>\u001b[0m.                                                    \u001b[2m                  \u001b[0m\n"
      ]
     },
     "metadata": {},
     "output_type": "display_data"
    },
    {
     "data": {
      "text/html": [
       "<pre style=\"white-space:pre;overflow-x:auto;line-height:normal;font-family:Menlo,'DejaVu Sans Mono',consolas,'Courier New',monospace\"><span style=\"color: #7fbfbf; text-decoration-color: #7fbfbf\">                    </span><span style=\"color: #000080; text-decoration-color: #000080\">INFO    </span> Selected the features.                                                    <a href=\"file:///home/krzysiek/Development/solvency-modelling/solvency_models/src/solvency_models/pipelines/p07_data_science/select.py\" target=\"_blank\"><span style=\"color: #7f7f7f; text-decoration-color: #7f7f7f\">select.py</span></a><span style=\"color: #7f7f7f; text-decoration-color: #7f7f7f\">:</span><a href=\"file:///home/krzysiek/Development/solvency-modelling/solvency_models/src/solvency_models/pipelines/p07_data_science/select.py#74\" target=\"_blank\"><span style=\"color: #7f7f7f; text-decoration-color: #7f7f7f\">74</span></a>\n",
       "</pre>\n"
      ],
      "text/plain": [
       "\u001b[2;36m                   \u001b[0m\u001b[2;36m \u001b[0m\u001b[34mINFO    \u001b[0m Selected the features.                                                    \u001b]8;id=367571;file:///home/krzysiek/Development/solvency-modelling/solvency_models/src/solvency_models/pipelines/p07_data_science/select.py\u001b\\\u001b[2mselect.py\u001b[0m\u001b]8;;\u001b\\\u001b[2m:\u001b[0m\u001b]8;id=471205;file:///home/krzysiek/Development/solvency-modelling/solvency_models/src/solvency_models/pipelines/p07_data_science/select.py#74\u001b\\\u001b[2m74\u001b[0m\u001b]8;;\u001b\\\n"
      ]
     },
     "metadata": {},
     "output_type": "display_data"
    },
    {
     "data": {
      "text/html": [
       "<pre style=\"white-space:pre;overflow-x:auto;line-height:normal;font-family:Menlo,'DejaVu Sans Mono',consolas,'Courier New',monospace\"><span style=\"color: #7fbfbf; text-decoration-color: #7fbfbf\">                    </span><span style=\"color: #000080; text-decoration-color: #000080\">INFO    </span> Predicting the target by the MLFlow model<span style=\"color: #808000; text-decoration-color: #808000\">...</span>                               <a href=\"file:///home/krzysiek/Development/solvency-modelling/solvency_models/src/solvency_models/pipelines/p07_data_science/model.py\" target=\"_blank\"><span style=\"color: #7f7f7f; text-decoration-color: #7f7f7f\">model.py</span></a><span style=\"color: #7f7f7f; text-decoration-color: #7f7f7f\">:</span><a href=\"file:///home/krzysiek/Development/solvency-modelling/solvency_models/src/solvency_models/pipelines/p07_data_science/model.py#88\" target=\"_blank\"><span style=\"color: #7f7f7f; text-decoration-color: #7f7f7f\">88</span></a>\n",
       "</pre>\n"
      ],
      "text/plain": [
       "\u001b[2;36m                   \u001b[0m\u001b[2;36m \u001b[0m\u001b[34mINFO    \u001b[0m Predicting the target by the MLFlow model\u001b[33m...\u001b[0m                               \u001b]8;id=700139;file:///home/krzysiek/Development/solvency-modelling/solvency_models/src/solvency_models/pipelines/p07_data_science/model.py\u001b\\\u001b[2mmodel.py\u001b[0m\u001b]8;;\u001b\\\u001b[2m:\u001b[0m\u001b]8;id=316699;file:///home/krzysiek/Development/solvency-modelling/solvency_models/src/solvency_models/pipelines/p07_data_science/model.py#88\u001b\\\u001b[2m88\u001b[0m\u001b]8;;\u001b\\\n"
      ]
     },
     "metadata": {},
     "output_type": "display_data"
    },
    {
     "data": {
      "text/html": [
       "<pre style=\"white-space:pre;overflow-x:auto;line-height:normal;font-family:Menlo,'DejaVu Sans Mono',consolas,'Courier New',monospace\"><span style=\"color: #7fbfbf; text-decoration-color: #7fbfbf\">                    </span><span style=\"color: #000080; text-decoration-color: #000080\">INFO    </span> Using the provided MLFlow run ID: 219322d6b4d84362a07e91be53a66910. <a href=\"file:///home/krzysiek/Development/solvency-modelling/solvency_models/src/solvency_models/pipelines/utils/mlflow_model.py\" target=\"_blank\"><span style=\"color: #7f7f7f; text-decoration-color: #7f7f7f\">mlflow_model.py</span></a><span style=\"color: #7f7f7f; text-decoration-color: #7f7f7f\">:</span><a href=\"file:///home/krzysiek/Development/solvency-modelling/solvency_models/src/solvency_models/pipelines/utils/mlflow_model.py#60\" target=\"_blank\"><span style=\"color: #7f7f7f; text-decoration-color: #7f7f7f\">60</span></a>\n",
       "</pre>\n"
      ],
      "text/plain": [
       "\u001b[2;36m                   \u001b[0m\u001b[2;36m \u001b[0m\u001b[34mINFO    \u001b[0m Using the provided MLFlow run ID: 219322d6b4d84362a07e91be53a66910. \u001b]8;id=301273;file:///home/krzysiek/Development/solvency-modelling/solvency_models/src/solvency_models/pipelines/utils/mlflow_model.py\u001b\\\u001b[2mmlflow_model.py\u001b[0m\u001b]8;;\u001b\\\u001b[2m:\u001b[0m\u001b]8;id=63368;file:///home/krzysiek/Development/solvency-modelling/solvency_models/src/solvency_models/pipelines/utils/mlflow_model.py#60\u001b\\\u001b[2m60\u001b[0m\u001b]8;;\u001b\\\n"
      ]
     },
     "metadata": {},
     "output_type": "display_data"
    },
    {
     "data": {
      "text/html": [
       "<pre style=\"white-space:pre;overflow-x:auto;line-height:normal;font-family:Menlo,'DejaVu Sans Mono',consolas,'Courier New',monospace\"><span style=\"color: #7fbfbf; text-decoration-color: #7fbfbf\">                    </span><span style=\"color: #000080; text-decoration-color: #000080\">INFO    </span> Loading the predictive model from MLFlow path                       <a href=\"file:///home/krzysiek/Development/solvency-modelling/solvency_models/src/solvency_models/pipelines/utils/mlflow_model.py\" target=\"_blank\"><span style=\"color: #7f7f7f; text-decoration-color: #7f7f7f\">mlflow_model.py</span></a><span style=\"color: #7f7f7f; text-decoration-color: #7f7f7f\">:</span><a href=\"file:///home/krzysiek/Development/solvency-modelling/solvency_models/src/solvency_models/pipelines/utils/mlflow_model.py#63\" target=\"_blank\"><span style=\"color: #7f7f7f; text-decoration-color: #7f7f7f\">63</span></a>\n",
       "<span style=\"color: #7fbfbf; text-decoration-color: #7fbfbf\">                    </span>         model_ds/predictive_model<span style=\"color: #808000; text-decoration-color: #808000\">...</span>                                        <span style=\"color: #7f7f7f; text-decoration-color: #7f7f7f\">                  </span>\n",
       "</pre>\n"
      ],
      "text/plain": [
       "\u001b[2;36m                   \u001b[0m\u001b[2;36m \u001b[0m\u001b[34mINFO    \u001b[0m Loading the predictive model from MLFlow path                       \u001b]8;id=266877;file:///home/krzysiek/Development/solvency-modelling/solvency_models/src/solvency_models/pipelines/utils/mlflow_model.py\u001b\\\u001b[2mmlflow_model.py\u001b[0m\u001b]8;;\u001b\\\u001b[2m:\u001b[0m\u001b]8;id=571817;file:///home/krzysiek/Development/solvency-modelling/solvency_models/src/solvency_models/pipelines/utils/mlflow_model.py#63\u001b\\\u001b[2m63\u001b[0m\u001b]8;;\u001b\\\n",
       "\u001b[2;36m                    \u001b[0m         model_ds/predictive_model\u001b[33m...\u001b[0m                                        \u001b[2m                  \u001b[0m\n"
      ]
     },
     "metadata": {},
     "output_type": "display_data"
    },
    {
     "data": {
      "application/vnd.jupyter.widget-view+json": {
       "model_id": "7d8a9f73b1bb4a2eabb1bbd80e038d01",
       "version_major": 2,
       "version_minor": 0
      },
      "text/plain": [
       "Downloading artifacts:   0%|          | 0/9 [00:00<?, ?it/s]"
      ]
     },
     "metadata": {},
     "output_type": "display_data"
    },
    {
     "data": {
      "text/html": [
       "<pre style=\"white-space:pre;overflow-x:auto;line-height:normal;font-family:Menlo,'DejaVu Sans Mono',consolas,'Courier New',monospace\"><span style=\"color: #7fbfbf; text-decoration-color: #7fbfbf\">[06/03/24 20:35:31] </span><span style=\"color: #000080; text-decoration-color: #000080\">INFO    </span> Successfully loaded the predictive model of type <span style=\"font-weight: bold\">&lt;</span><span style=\"color: #ff00ff; text-decoration-color: #ff00ff; font-weight: bold\">class</span><span style=\"color: #000000; text-decoration-color: #000000\"> </span>            <a href=\"file:///home/krzysiek/Development/solvency-modelling/solvency_models/src/solvency_models/pipelines/utils/mlflow_model.py\" target=\"_blank\"><span style=\"color: #7f7f7f; text-decoration-color: #7f7f7f\">mlflow_model.py</span></a><span style=\"color: #7f7f7f; text-decoration-color: #7f7f7f\">:</span><a href=\"file:///home/krzysiek/Development/solvency-modelling/solvency_models/src/solvency_models/pipelines/utils/mlflow_model.py#67\" target=\"_blank\"><span style=\"color: #7f7f7f; text-decoration-color: #7f7f7f\">67</span></a>\n",
       "<span style=\"color: #7fbfbf; text-decoration-color: #7fbfbf\">                    </span>         <span style=\"color: #008000; text-decoration-color: #008000\">'solvency_models.pipelines.p07_data_science.models.glm.SklearnPoiss</span> <span style=\"color: #7f7f7f; text-decoration-color: #7f7f7f\">                  </span>\n",
       "<span style=\"color: #7fbfbf; text-decoration-color: #7fbfbf\">                    </span>         <span style=\"color: #008000; text-decoration-color: #008000\">onGLM'</span><span style=\"font-weight: bold\">&gt;</span>.                                                            <span style=\"color: #7f7f7f; text-decoration-color: #7f7f7f\">                  </span>\n",
       "</pre>\n"
      ],
      "text/plain": [
       "\u001b[2;36m[06/03/24 20:35:31]\u001b[0m\u001b[2;36m \u001b[0m\u001b[34mINFO    \u001b[0m Successfully loaded the predictive model of type \u001b[1m<\u001b[0m\u001b[1;95mclass\u001b[0m\u001b[39m \u001b[0m            \u001b]8;id=332569;file:///home/krzysiek/Development/solvency-modelling/solvency_models/src/solvency_models/pipelines/utils/mlflow_model.py\u001b\\\u001b[2mmlflow_model.py\u001b[0m\u001b]8;;\u001b\\\u001b[2m:\u001b[0m\u001b]8;id=256154;file:///home/krzysiek/Development/solvency-modelling/solvency_models/src/solvency_models/pipelines/utils/mlflow_model.py#67\u001b\\\u001b[2m67\u001b[0m\u001b]8;;\u001b\\\n",
       "\u001b[2;36m                    \u001b[0m         \u001b[32m'solvency_models.pipelines.p07_data_science.models.glm.SklearnPoiss\u001b[0m \u001b[2m                  \u001b[0m\n",
       "\u001b[2;36m                    \u001b[0m         \u001b[32monGLM'\u001b[0m\u001b[1m>\u001b[0m.                                                            \u001b[2m                  \u001b[0m\n"
      ]
     },
     "metadata": {},
     "output_type": "display_data"
    },
    {
     "data": {
      "text/html": [
       "<pre style=\"white-space:pre;overflow-x:auto;line-height:normal;font-family:Menlo,'DejaVu Sans Mono',consolas,'Courier New',monospace\"><span style=\"color: #7fbfbf; text-decoration-color: #7fbfbf\">                    </span><span style=\"color: #000080; text-decoration-color: #000080\">INFO    </span> Made predictions.                                                          <a href=\"file:///home/krzysiek/Development/solvency-modelling/solvency_models/src/solvency_models/pipelines/p07_data_science/model.py\" target=\"_blank\"><span style=\"color: #7f7f7f; text-decoration-color: #7f7f7f\">model.py</span></a><span style=\"color: #7f7f7f; text-decoration-color: #7f7f7f\">:</span><a href=\"file:///home/krzysiek/Development/solvency-modelling/solvency_models/src/solvency_models/pipelines/p07_data_science/model.py#93\" target=\"_blank\"><span style=\"color: #7f7f7f; text-decoration-color: #7f7f7f\">93</span></a>\n",
       "</pre>\n"
      ],
      "text/plain": [
       "\u001b[2;36m                   \u001b[0m\u001b[2;36m \u001b[0m\u001b[34mINFO    \u001b[0m Made predictions.                                                          \u001b]8;id=385772;file:///home/krzysiek/Development/solvency-modelling/solvency_models/src/solvency_models/pipelines/p07_data_science/model.py\u001b\\\u001b[2mmodel.py\u001b[0m\u001b]8;;\u001b\\\u001b[2m:\u001b[0m\u001b]8;id=33158;file:///home/krzysiek/Development/solvency-modelling/solvency_models/src/solvency_models/pipelines/p07_data_science/model.py#93\u001b\\\u001b[2m93\u001b[0m\u001b]8;;\u001b\\\n"
      ]
     },
     "metadata": {},
     "output_type": "display_data"
    },
    {
     "data": {
      "text/html": [
       "<pre style=\"white-space:pre;overflow-x:auto;line-height:normal;font-family:Menlo,'DejaVu Sans Mono',consolas,'Courier New',monospace\"><span style=\"color: #7fbfbf; text-decoration-color: #7fbfbf\">                    </span><span style=\"color: #000080; text-decoration-color: #000080\">INFO    </span> Fitting the calibration model<span style=\"color: #808000; text-decoration-color: #808000\">...</span>                                           <a href=\"file:///home/krzysiek/Development/solvency-modelling/solvency_models/src/solvency_models/pipelines/p08_model_calibration/utils.py\" target=\"_blank\"><span style=\"color: #7f7f7f; text-decoration-color: #7f7f7f\">utils.py</span></a><span style=\"color: #7f7f7f; text-decoration-color: #7f7f7f\">:</span><a href=\"file:///home/krzysiek/Development/solvency-modelling/solvency_models/src/solvency_models/pipelines/p08_model_calibration/utils.py#76\" target=\"_blank\"><span style=\"color: #7f7f7f; text-decoration-color: #7f7f7f\">76</span></a>\n",
       "</pre>\n"
      ],
      "text/plain": [
       "\u001b[2;36m                   \u001b[0m\u001b[2;36m \u001b[0m\u001b[34mINFO    \u001b[0m Fitting the calibration model\u001b[33m...\u001b[0m                                           \u001b]8;id=832035;file:///home/krzysiek/Development/solvency-modelling/solvency_models/src/solvency_models/pipelines/p08_model_calibration/utils.py\u001b\\\u001b[2mutils.py\u001b[0m\u001b]8;;\u001b\\\u001b[2m:\u001b[0m\u001b]8;id=842707;file:///home/krzysiek/Development/solvency-modelling/solvency_models/src/solvency_models/pipelines/p08_model_calibration/utils.py#76\u001b\\\u001b[2m76\u001b[0m\u001b]8;;\u001b\\\n"
      ]
     },
     "metadata": {},
     "output_type": "display_data"
    },
    {
     "data": {
      "text/html": [
       "<pre style=\"white-space:pre;overflow-x:auto;line-height:normal;font-family:Menlo,'DejaVu Sans Mono',consolas,'Courier New',monospace\"><span style=\"color: #7fbfbf; text-decoration-color: #7fbfbf\">                    </span><span style=\"color: #000080; text-decoration-color: #000080\">INFO    </span> Fitted the calibration model.                                              <a href=\"file:///home/krzysiek/Development/solvency-modelling/solvency_models/src/solvency_models/pipelines/p08_model_calibration/utils.py\" target=\"_blank\"><span style=\"color: #7f7f7f; text-decoration-color: #7f7f7f\">utils.py</span></a><span style=\"color: #7f7f7f; text-decoration-color: #7f7f7f\">:</span><a href=\"file:///home/krzysiek/Development/solvency-modelling/solvency_models/src/solvency_models/pipelines/p08_model_calibration/utils.py#81\" target=\"_blank\"><span style=\"color: #7f7f7f; text-decoration-color: #7f7f7f\">81</span></a>\n",
       "</pre>\n"
      ],
      "text/plain": [
       "\u001b[2;36m                   \u001b[0m\u001b[2;36m \u001b[0m\u001b[34mINFO    \u001b[0m Fitted the calibration model.                                              \u001b]8;id=506921;file:///home/krzysiek/Development/solvency-modelling/solvency_models/src/solvency_models/pipelines/p08_model_calibration/utils.py\u001b\\\u001b[2mutils.py\u001b[0m\u001b]8;;\u001b\\\u001b[2m:\u001b[0m\u001b]8;id=643269;file:///home/krzysiek/Development/solvency-modelling/solvency_models/src/solvency_models/pipelines/p08_model_calibration/utils.py#81\u001b\\\u001b[2m81\u001b[0m\u001b]8;;\u001b\\\n"
      ]
     },
     "metadata": {},
     "output_type": "display_data"
    },
    {
     "data": {
      "text/html": [
       "<pre style=\"white-space:pre;overflow-x:auto;line-height:normal;font-family:Menlo,'DejaVu Sans Mono',consolas,'Courier New',monospace\"><span style=\"color: #7fbfbf; text-decoration-color: #7fbfbf\">                    </span><span style=\"color: #000080; text-decoration-color: #000080\">INFO    </span> Calibrating the calib predictions using the calibration model<span style=\"color: #808000; text-decoration-color: #808000\">...</span>           <a href=\"file:///home/krzysiek/Development/solvency-modelling/solvency_models/src/solvency_models/pipelines/p08_model_calibration/utils.py\" target=\"_blank\"><span style=\"color: #7f7f7f; text-decoration-color: #7f7f7f\">utils.py</span></a><span style=\"color: #7f7f7f; text-decoration-color: #7f7f7f\">:</span><a href=\"file:///home/krzysiek/Development/solvency-modelling/solvency_models/src/solvency_models/pipelines/p08_model_calibration/utils.py#83\" target=\"_blank\"><span style=\"color: #7f7f7f; text-decoration-color: #7f7f7f\">83</span></a>\n",
       "</pre>\n"
      ],
      "text/plain": [
       "\u001b[2;36m                   \u001b[0m\u001b[2;36m \u001b[0m\u001b[34mINFO    \u001b[0m Calibrating the calib predictions using the calibration model\u001b[33m...\u001b[0m           \u001b]8;id=763596;file:///home/krzysiek/Development/solvency-modelling/solvency_models/src/solvency_models/pipelines/p08_model_calibration/utils.py\u001b\\\u001b[2mutils.py\u001b[0m\u001b]8;;\u001b\\\u001b[2m:\u001b[0m\u001b]8;id=691146;file:///home/krzysiek/Development/solvency-modelling/solvency_models/src/solvency_models/pipelines/p08_model_calibration/utils.py#83\u001b\\\u001b[2m83\u001b[0m\u001b]8;;\u001b\\\n"
      ]
     },
     "metadata": {},
     "output_type": "display_data"
    },
    {
     "data": {
      "text/html": [
       "<pre style=\"white-space:pre;overflow-x:auto;line-height:normal;font-family:Menlo,'DejaVu Sans Mono',consolas,'Courier New',monospace\"><span style=\"color: #7fbfbf; text-decoration-color: #7fbfbf\">                    </span><span style=\"color: #000080; text-decoration-color: #000080\">INFO    </span> Transformed the calib predictions.                                         <a href=\"file:///home/krzysiek/Development/solvency-modelling/solvency_models/src/solvency_models/pipelines/p08_model_calibration/utils.py\" target=\"_blank\"><span style=\"color: #7f7f7f; text-decoration-color: #7f7f7f\">utils.py</span></a><span style=\"color: #7f7f7f; text-decoration-color: #7f7f7f\">:</span><a href=\"file:///home/krzysiek/Development/solvency-modelling/solvency_models/src/solvency_models/pipelines/p08_model_calibration/utils.py#85\" target=\"_blank\"><span style=\"color: #7f7f7f; text-decoration-color: #7f7f7f\">85</span></a>\n",
       "</pre>\n"
      ],
      "text/plain": [
       "\u001b[2;36m                   \u001b[0m\u001b[2;36m \u001b[0m\u001b[34mINFO    \u001b[0m Transformed the calib predictions.                                         \u001b]8;id=956146;file:///home/krzysiek/Development/solvency-modelling/solvency_models/src/solvency_models/pipelines/p08_model_calibration/utils.py\u001b\\\u001b[2mutils.py\u001b[0m\u001b]8;;\u001b\\\u001b[2m:\u001b[0m\u001b]8;id=494603;file:///home/krzysiek/Development/solvency-modelling/solvency_models/src/solvency_models/pipelines/p08_model_calibration/utils.py#85\u001b\\\u001b[2m85\u001b[0m\u001b]8;;\u001b\\\n"
      ]
     },
     "metadata": {},
     "output_type": "display_data"
    },
    {
     "data": {
      "text/html": [
       "<pre style=\"white-space:pre;overflow-x:auto;line-height:normal;font-family:Menlo,'DejaVu Sans Mono',consolas,'Courier New',monospace\"><span style=\"color: #7fbfbf; text-decoration-color: #7fbfbf\">                    </span><span style=\"color: #000080; text-decoration-color: #000080\">INFO    </span> Saving the calibration model of type <span style=\"font-weight: bold\">&lt;</span><span style=\"color: #ff00ff; text-decoration-color: #ff00ff; font-weight: bold\">class</span><span style=\"color: #000000; text-decoration-color: #000000\"> </span>                        <a href=\"file:///home/krzysiek/Development/solvency-modelling/solvency_models/src/solvency_models/pipelines/utils/mlflow_model.py\" target=\"_blank\"><span style=\"color: #7f7f7f; text-decoration-color: #7f7f7f\">mlflow_model.py</span></a><span style=\"color: #7f7f7f; text-decoration-color: #7f7f7f\">:</span><a href=\"file:///home/krzysiek/Development/solvency-modelling/solvency_models/src/solvency_models/pipelines/utils/mlflow_model.py#40\" target=\"_blank\"><span style=\"color: #7f7f7f; text-decoration-color: #7f7f7f\">40</span></a>\n",
       "<span style=\"color: #7fbfbf; text-decoration-color: #7fbfbf\">                    </span>         <span style=\"color: #008000; text-decoration-color: #008000\">'solvency_models.pipelines.p08_model_calibration.calibration_models</span> <span style=\"color: #7f7f7f; text-decoration-color: #7f7f7f\">                  </span>\n",
       "<span style=\"color: #7fbfbf; text-decoration-color: #7fbfbf\">                    </span>         <span style=\"color: #008000; text-decoration-color: #008000\">.SklearnPoissonGLM'</span><span style=\"font-weight: bold\">&gt;</span> to MLFlow path calibration/model<span style=\"color: #808000; text-decoration-color: #808000\">...</span>            <span style=\"color: #7f7f7f; text-decoration-color: #7f7f7f\">                  </span>\n",
       "</pre>\n"
      ],
      "text/plain": [
       "\u001b[2;36m                   \u001b[0m\u001b[2;36m \u001b[0m\u001b[34mINFO    \u001b[0m Saving the calibration model of type \u001b[1m<\u001b[0m\u001b[1;95mclass\u001b[0m\u001b[39m \u001b[0m                        \u001b]8;id=857085;file:///home/krzysiek/Development/solvency-modelling/solvency_models/src/solvency_models/pipelines/utils/mlflow_model.py\u001b\\\u001b[2mmlflow_model.py\u001b[0m\u001b]8;;\u001b\\\u001b[2m:\u001b[0m\u001b]8;id=997489;file:///home/krzysiek/Development/solvency-modelling/solvency_models/src/solvency_models/pipelines/utils/mlflow_model.py#40\u001b\\\u001b[2m40\u001b[0m\u001b]8;;\u001b\\\n",
       "\u001b[2;36m                    \u001b[0m         \u001b[32m'solvency_models.pipelines.p08_model_calibration.calibration_models\u001b[0m \u001b[2m                  \u001b[0m\n",
       "\u001b[2;36m                    \u001b[0m         \u001b[32m.SklearnPoissonGLM'\u001b[0m\u001b[1m>\u001b[0m to MLFlow path calibration/model\u001b[33m...\u001b[0m            \u001b[2m                  \u001b[0m\n"
      ]
     },
     "metadata": {},
     "output_type": "display_data"
    },
    {
     "name": "stderr",
     "output_type": "stream",
     "text": [
      "2024/06/03 20:35:34 WARNING mlflow.utils.requirements_utils: The following packages were not found in the public PyPI package index as of 2024-02-29; if these packages are not present in the public PyPI index, you must install them manually before loading your model: {'solvency-models'}\n"
     ]
    },
    {
     "data": {
      "text/html": [
       "<pre style=\"white-space:pre;overflow-x:auto;line-height:normal;font-family:Menlo,'DejaVu Sans Mono',consolas,'Courier New',monospace\"><span style=\"color: #7fbfbf; text-decoration-color: #7fbfbf\">[06/03/24 20:35:34] </span><span style=\"color: #800000; text-decoration-color: #800000\">WARNING </span> <span style=\"color: #800080; text-decoration-color: #800080\">/home/krzysiek/Development/solvency-modelling/venv/lib/python3.11/site</span> <a href=\"file:///usr/lib/python3.11/warnings.py\" target=\"_blank\"><span style=\"color: #7f7f7f; text-decoration-color: #7f7f7f\">warnings.py</span></a><span style=\"color: #7f7f7f; text-decoration-color: #7f7f7f\">:</span><a href=\"file:///usr/lib/python3.11/warnings.py#110\" target=\"_blank\"><span style=\"color: #7f7f7f; text-decoration-color: #7f7f7f\">110</span></a>\n",
       "<span style=\"color: #7fbfbf; text-decoration-color: #7fbfbf\">                    </span>         <span style=\"color: #800080; text-decoration-color: #800080\">-packages/_distutils_hack/</span><span style=\"color: #ff00ff; text-decoration-color: #ff00ff\">__init__.py</span>:<span style=\"color: #008080; text-decoration-color: #008080; font-weight: bold\">18</span>: UserWarning: Distutils was   <span style=\"color: #7f7f7f; text-decoration-color: #7f7f7f\">               </span>\n",
       "<span style=\"color: #7fbfbf; text-decoration-color: #7fbfbf\">                    </span>         imported before Setuptools, but importing Setuptools also replaces the <span style=\"color: #7f7f7f; text-decoration-color: #7f7f7f\">               </span>\n",
       "<span style=\"color: #7fbfbf; text-decoration-color: #7fbfbf\">                    </span>         `distutils` module in `sys.modules`. This may lead to undesirable      <span style=\"color: #7f7f7f; text-decoration-color: #7f7f7f\">               </span>\n",
       "<span style=\"color: #7fbfbf; text-decoration-color: #7fbfbf\">                    </span>         behaviors or errors. To avoid these issues, avoid using distutils      <span style=\"color: #7f7f7f; text-decoration-color: #7f7f7f\">               </span>\n",
       "<span style=\"color: #7fbfbf; text-decoration-color: #7fbfbf\">                    </span>         directly, ensure that setuptools is installed in the traditional way   <span style=\"color: #7f7f7f; text-decoration-color: #7f7f7f\">               </span>\n",
       "<span style=\"color: #7fbfbf; text-decoration-color: #7fbfbf\">                    </span>         <span style=\"font-weight: bold\">(</span>e.g. not an editable install<span style=\"font-weight: bold\">)</span>, and/or make sure that setuptools is    <span style=\"color: #7f7f7f; text-decoration-color: #7f7f7f\">               </span>\n",
       "<span style=\"color: #7fbfbf; text-decoration-color: #7fbfbf\">                    </span>         always imported before distutils.                                      <span style=\"color: #7f7f7f; text-decoration-color: #7f7f7f\">               </span>\n",
       "<span style=\"color: #7fbfbf; text-decoration-color: #7fbfbf\">                    </span>           <span style=\"color: #800080; text-decoration-color: #800080; font-weight: bold\">warnings.warn</span><span style=\"font-weight: bold\">(</span>                                                       <span style=\"color: #7f7f7f; text-decoration-color: #7f7f7f\">               </span>\n",
       "<span style=\"color: #7fbfbf; text-decoration-color: #7fbfbf\">                    </span>                                                                                <span style=\"color: #7f7f7f; text-decoration-color: #7f7f7f\">               </span>\n",
       "</pre>\n"
      ],
      "text/plain": [
       "\u001b[2;36m[06/03/24 20:35:34]\u001b[0m\u001b[2;36m \u001b[0m\u001b[31mWARNING \u001b[0m \u001b[35m/home/krzysiek/Development/solvency-modelling/venv/lib/python3.11/site\u001b[0m \u001b]8;id=302018;file:///usr/lib/python3.11/warnings.py\u001b\\\u001b[2mwarnings.py\u001b[0m\u001b]8;;\u001b\\\u001b[2m:\u001b[0m\u001b]8;id=222429;file:///usr/lib/python3.11/warnings.py#110\u001b\\\u001b[2m110\u001b[0m\u001b]8;;\u001b\\\n",
       "\u001b[2;36m                    \u001b[0m         \u001b[35m-packages/_distutils_hack/\u001b[0m\u001b[95m__init__.py\u001b[0m:\u001b[1;36m18\u001b[0m: UserWarning: Distutils was   \u001b[2m               \u001b[0m\n",
       "\u001b[2;36m                    \u001b[0m         imported before Setuptools, but importing Setuptools also replaces the \u001b[2m               \u001b[0m\n",
       "\u001b[2;36m                    \u001b[0m         `distutils` module in `sys.modules`. This may lead to undesirable      \u001b[2m               \u001b[0m\n",
       "\u001b[2;36m                    \u001b[0m         behaviors or errors. To avoid these issues, avoid using distutils      \u001b[2m               \u001b[0m\n",
       "\u001b[2;36m                    \u001b[0m         directly, ensure that setuptools is installed in the traditional way   \u001b[2m               \u001b[0m\n",
       "\u001b[2;36m                    \u001b[0m         \u001b[1m(\u001b[0me.g. not an editable install\u001b[1m)\u001b[0m, and/or make sure that setuptools is    \u001b[2m               \u001b[0m\n",
       "\u001b[2;36m                    \u001b[0m         always imported before distutils.                                      \u001b[2m               \u001b[0m\n",
       "\u001b[2;36m                    \u001b[0m           \u001b[1;35mwarnings.warn\u001b[0m\u001b[1m(\u001b[0m                                                       \u001b[2m               \u001b[0m\n",
       "\u001b[2;36m                    \u001b[0m                                                                                \u001b[2m               \u001b[0m\n"
      ]
     },
     "metadata": {},
     "output_type": "display_data"
    },
    {
     "data": {
      "text/html": [
       "<pre style=\"white-space:pre;overflow-x:auto;line-height:normal;font-family:Menlo,'DejaVu Sans Mono',consolas,'Courier New',monospace\"><span style=\"color: #7fbfbf; text-decoration-color: #7fbfbf\">                    </span><span style=\"color: #800000; text-decoration-color: #800000\">WARNING </span> <span style=\"color: #800080; text-decoration-color: #800080\">/home/krzysiek/Development/solvency-modelling/venv/lib/python3.11/site</span> <a href=\"file:///usr/lib/python3.11/warnings.py\" target=\"_blank\"><span style=\"color: #7f7f7f; text-decoration-color: #7f7f7f\">warnings.py</span></a><span style=\"color: #7f7f7f; text-decoration-color: #7f7f7f\">:</span><a href=\"file:///usr/lib/python3.11/warnings.py#110\" target=\"_blank\"><span style=\"color: #7f7f7f; text-decoration-color: #7f7f7f\">110</span></a>\n",
       "<span style=\"color: #7fbfbf; text-decoration-color: #7fbfbf\">                    </span>         <span style=\"color: #800080; text-decoration-color: #800080\">-packages/_distutils_hack/</span><span style=\"color: #ff00ff; text-decoration-color: #ff00ff\">__init__.py</span>:<span style=\"color: #008080; text-decoration-color: #008080; font-weight: bold\">33</span>: UserWarning: Setuptools is   <span style=\"color: #7f7f7f; text-decoration-color: #7f7f7f\">               </span>\n",
       "<span style=\"color: #7fbfbf; text-decoration-color: #7fbfbf\">                    </span>         replacing distutils.                                                   <span style=\"color: #7f7f7f; text-decoration-color: #7f7f7f\">               </span>\n",
       "<span style=\"color: #7fbfbf; text-decoration-color: #7fbfbf\">                    </span>           <span style=\"color: #800080; text-decoration-color: #800080; font-weight: bold\">warnings.warn</span><span style=\"font-weight: bold\">(</span><span style=\"color: #008000; text-decoration-color: #008000\">\"Setuptools is replacing distutils.\"</span><span style=\"font-weight: bold\">)</span>                  <span style=\"color: #7f7f7f; text-decoration-color: #7f7f7f\">               </span>\n",
       "<span style=\"color: #7fbfbf; text-decoration-color: #7fbfbf\">                    </span>                                                                                <span style=\"color: #7f7f7f; text-decoration-color: #7f7f7f\">               </span>\n",
       "</pre>\n"
      ],
      "text/plain": [
       "\u001b[2;36m                   \u001b[0m\u001b[2;36m \u001b[0m\u001b[31mWARNING \u001b[0m \u001b[35m/home/krzysiek/Development/solvency-modelling/venv/lib/python3.11/site\u001b[0m \u001b]8;id=40712;file:///usr/lib/python3.11/warnings.py\u001b\\\u001b[2mwarnings.py\u001b[0m\u001b]8;;\u001b\\\u001b[2m:\u001b[0m\u001b]8;id=101275;file:///usr/lib/python3.11/warnings.py#110\u001b\\\u001b[2m110\u001b[0m\u001b]8;;\u001b\\\n",
       "\u001b[2;36m                    \u001b[0m         \u001b[35m-packages/_distutils_hack/\u001b[0m\u001b[95m__init__.py\u001b[0m:\u001b[1;36m33\u001b[0m: UserWarning: Setuptools is   \u001b[2m               \u001b[0m\n",
       "\u001b[2;36m                    \u001b[0m         replacing distutils.                                                   \u001b[2m               \u001b[0m\n",
       "\u001b[2;36m                    \u001b[0m           \u001b[1;35mwarnings.warn\u001b[0m\u001b[1m(\u001b[0m\u001b[32m\"Setuptools is replacing distutils.\"\u001b[0m\u001b[1m)\u001b[0m                  \u001b[2m               \u001b[0m\n",
       "\u001b[2;36m                    \u001b[0m                                                                                \u001b[2m               \u001b[0m\n"
      ]
     },
     "metadata": {},
     "output_type": "display_data"
    },
    {
     "data": {
      "text/html": [
       "<pre style=\"white-space:pre;overflow-x:auto;line-height:normal;font-family:Menlo,'DejaVu Sans Mono',consolas,'Courier New',monospace\"><span style=\"color: #7fbfbf; text-decoration-color: #7fbfbf\">                    </span><span style=\"color: #000080; text-decoration-color: #000080\">INFO    </span> Successfully saved the calibration model in calibration/model.      <a href=\"file:///home/krzysiek/Development/solvency-modelling/solvency_models/src/solvency_models/pipelines/utils/mlflow_model.py\" target=\"_blank\"><span style=\"color: #7f7f7f; text-decoration-color: #7f7f7f\">mlflow_model.py</span></a><span style=\"color: #7f7f7f; text-decoration-color: #7f7f7f\">:</span><a href=\"file:///home/krzysiek/Development/solvency-modelling/solvency_models/src/solvency_models/pipelines/utils/mlflow_model.py#42\" target=\"_blank\"><span style=\"color: #7f7f7f; text-decoration-color: #7f7f7f\">42</span></a>\n",
       "</pre>\n"
      ],
      "text/plain": [
       "\u001b[2;36m                   \u001b[0m\u001b[2;36m \u001b[0m\u001b[34mINFO    \u001b[0m Successfully saved the calibration model in calibration/model.      \u001b]8;id=471595;file:///home/krzysiek/Development/solvency-modelling/solvency_models/src/solvency_models/pipelines/utils/mlflow_model.py\u001b\\\u001b[2mmlflow_model.py\u001b[0m\u001b]8;;\u001b\\\u001b[2m:\u001b[0m\u001b]8;id=923024;file:///home/krzysiek/Development/solvency-modelling/solvency_models/src/solvency_models/pipelines/utils/mlflow_model.py#42\u001b\\\u001b[2m42\u001b[0m\u001b]8;;\u001b\\\n"
      ]
     },
     "metadata": {},
     "output_type": "display_data"
    },
    {
     "data": {
      "text/html": [
       "<pre style=\"white-space:pre;overflow-x:auto;line-height:normal;font-family:Menlo,'DejaVu Sans Mono',consolas,'Courier New',monospace\"><span style=\"color: #7fbfbf; text-decoration-color: #7fbfbf\">                    </span><span style=\"color: #000080; text-decoration-color: #000080\">INFO    </span> Saving data to <span style=\"color: #ff8700; text-decoration-color: #ff8700\">calibrated_calib_predictions_df</span> <span style=\"font-weight: bold\">(</span>ParquetDataset<span style=\"font-weight: bold\">)</span><span style=\"color: #808000; text-decoration-color: #808000\">...</span> <a href=\"file:///home/krzysiek/Development/solvency-modelling/venv/lib/python3.11/site-packages/kedro/io/data_catalog.py\" target=\"_blank\"><span style=\"color: #7f7f7f; text-decoration-color: #7f7f7f\">data_catalog.py</span></a><span style=\"color: #7f7f7f; text-decoration-color: #7f7f7f\">:</span><a href=\"file:///home/krzysiek/Development/solvency-modelling/venv/lib/python3.11/site-packages/kedro/io/data_catalog.py#525\" target=\"_blank\"><span style=\"color: #7f7f7f; text-decoration-color: #7f7f7f\">525</span></a>\n",
       "</pre>\n"
      ],
      "text/plain": [
       "\u001b[2;36m                   \u001b[0m\u001b[2;36m \u001b[0m\u001b[34mINFO    \u001b[0m Saving data to \u001b[38;5;208mcalibrated_calib_predictions_df\u001b[0m \u001b[1m(\u001b[0mParquetDataset\u001b[1m)\u001b[0m\u001b[33m...\u001b[0m \u001b]8;id=732801;file:///home/krzysiek/Development/solvency-modelling/venv/lib/python3.11/site-packages/kedro/io/data_catalog.py\u001b\\\u001b[2mdata_catalog.py\u001b[0m\u001b]8;;\u001b\\\u001b[2m:\u001b[0m\u001b]8;id=511867;file:///home/krzysiek/Development/solvency-modelling/venv/lib/python3.11/site-packages/kedro/io/data_catalog.py#525\u001b\\\u001b[2m525\u001b[0m\u001b]8;;\u001b\\\n"
      ]
     },
     "metadata": {},
     "output_type": "display_data"
    },
    {
     "data": {
      "text/html": [
       "<pre style=\"white-space:pre;overflow-x:auto;line-height:normal;font-family:Menlo,'DejaVu Sans Mono',consolas,'Courier New',monospace\"><span style=\"color: #7fbfbf; text-decoration-color: #7fbfbf\">                    </span><span style=\"color: #000080; text-decoration-color: #000080\">INFO    </span> Completed <span style=\"color: #008080; text-decoration-color: #008080; font-weight: bold\">2</span> out of <span style=\"color: #008080; text-decoration-color: #008080; font-weight: bold\">2</span> tasks                                     <a href=\"file:///home/krzysiek/Development/solvency-modelling/venv/lib/python3.11/site-packages/kedro/runner/sequential_runner.py\" target=\"_blank\"><span style=\"color: #7f7f7f; text-decoration-color: #7f7f7f\">sequential_runner.py</span></a><span style=\"color: #7f7f7f; text-decoration-color: #7f7f7f\">:</span><a href=\"file:///home/krzysiek/Development/solvency-modelling/venv/lib/python3.11/site-packages/kedro/runner/sequential_runner.py#90\" target=\"_blank\"><span style=\"color: #7f7f7f; text-decoration-color: #7f7f7f\">90</span></a>\n",
       "</pre>\n"
      ],
      "text/plain": [
       "\u001b[2;36m                   \u001b[0m\u001b[2;36m \u001b[0m\u001b[34mINFO    \u001b[0m Completed \u001b[1;36m2\u001b[0m out of \u001b[1;36m2\u001b[0m tasks                                     \u001b]8;id=761070;file:///home/krzysiek/Development/solvency-modelling/venv/lib/python3.11/site-packages/kedro/runner/sequential_runner.py\u001b\\\u001b[2msequential_runner.py\u001b[0m\u001b]8;;\u001b\\\u001b[2m:\u001b[0m\u001b]8;id=135990;file:///home/krzysiek/Development/solvency-modelling/venv/lib/python3.11/site-packages/kedro/runner/sequential_runner.py#90\u001b\\\u001b[2m90\u001b[0m\u001b]8;;\u001b\\\n"
      ]
     },
     "metadata": {},
     "output_type": "display_data"
    },
    {
     "data": {
      "text/html": [
       "<pre style=\"white-space:pre;overflow-x:auto;line-height:normal;font-family:Menlo,'DejaVu Sans Mono',consolas,'Courier New',monospace\"><span style=\"color: #7fbfbf; text-decoration-color: #7fbfbf\">                    </span><span style=\"color: #000080; text-decoration-color: #000080\">INFO    </span> Pipeline execution completed successfully.                               <a href=\"file:///home/krzysiek/Development/solvency-modelling/venv/lib/python3.11/site-packages/kedro/runner/runner.py\" target=\"_blank\"><span style=\"color: #7f7f7f; text-decoration-color: #7f7f7f\">runner.py</span></a><span style=\"color: #7f7f7f; text-decoration-color: #7f7f7f\">:</span><a href=\"file:///home/krzysiek/Development/solvency-modelling/venv/lib/python3.11/site-packages/kedro/runner/runner.py#119\" target=\"_blank\"><span style=\"color: #7f7f7f; text-decoration-color: #7f7f7f\">119</span></a>\n",
       "</pre>\n"
      ],
      "text/plain": [
       "\u001b[2;36m                   \u001b[0m\u001b[2;36m \u001b[0m\u001b[34mINFO    \u001b[0m Pipeline execution completed successfully.                               \u001b]8;id=765609;file:///home/krzysiek/Development/solvency-modelling/venv/lib/python3.11/site-packages/kedro/runner/runner.py\u001b\\\u001b[2mrunner.py\u001b[0m\u001b]8;;\u001b\\\u001b[2m:\u001b[0m\u001b]8;id=384324;file:///home/krzysiek/Development/solvency-modelling/venv/lib/python3.11/site-packages/kedro/runner/runner.py#119\u001b\\\u001b[2m119\u001b[0m\u001b]8;;\u001b\\\n"
      ]
     },
     "metadata": {},
     "output_type": "display_data"
    },
    {
     "data": {
      "text/html": [
       "<pre style=\"white-space:pre;overflow-x:auto;line-height:normal;font-family:Menlo,'DejaVu Sans Mono',consolas,'Courier New',monospace\"><span style=\"color: #7fbfbf; text-decoration-color: #7fbfbf\">                    </span><span style=\"color: #800000; text-decoration-color: #800000\">WARNING </span> The run <span style=\"color: #008000; text-decoration-color: #008000\">'ef29cc4c1ef141a2993c37c781ca9d82'</span> was already opened       <a href=\"file:///home/krzysiek/Development/solvency-modelling/venv/lib/python3.11/site-packages/kedro_mlflow/framework/hooks/mlflow_hook.py\" target=\"_blank\"><span style=\"color: #7f7f7f; text-decoration-color: #7f7f7f\">mlflow_hook.py</span></a><span style=\"color: #7f7f7f; text-decoration-color: #7f7f7f\">:</span><a href=\"file:///home/krzysiek/Development/solvency-modelling/venv/lib/python3.11/site-packages/kedro_mlflow/framework/hooks/mlflow_hook.py#395\" target=\"_blank\"><span style=\"color: #7f7f7f; text-decoration-color: #7f7f7f\">395</span></a>\n",
       "<span style=\"color: #7fbfbf; text-decoration-color: #7fbfbf\">                    </span>         before launching <span style=\"color: #008000; text-decoration-color: #008000\">'kedro run'</span> so it is not closed. You should close  <span style=\"color: #7f7f7f; text-decoration-color: #7f7f7f\">                  </span>\n",
       "<span style=\"color: #7fbfbf; text-decoration-color: #7fbfbf\">                    </span>         it manually.                                                        <span style=\"color: #7f7f7f; text-decoration-color: #7f7f7f\">                  </span>\n",
       "</pre>\n"
      ],
      "text/plain": [
       "\u001b[2;36m                   \u001b[0m\u001b[2;36m \u001b[0m\u001b[31mWARNING \u001b[0m The run \u001b[32m'ef29cc4c1ef141a2993c37c781ca9d82'\u001b[0m was already opened       \u001b]8;id=596814;file:///home/krzysiek/Development/solvency-modelling/venv/lib/python3.11/site-packages/kedro_mlflow/framework/hooks/mlflow_hook.py\u001b\\\u001b[2mmlflow_hook.py\u001b[0m\u001b]8;;\u001b\\\u001b[2m:\u001b[0m\u001b]8;id=967370;file:///home/krzysiek/Development/solvency-modelling/venv/lib/python3.11/site-packages/kedro_mlflow/framework/hooks/mlflow_hook.py#395\u001b\\\u001b[2m395\u001b[0m\u001b]8;;\u001b\\\n",
       "\u001b[2;36m                    \u001b[0m         before launching \u001b[32m'kedro run'\u001b[0m so it is not closed. You should close  \u001b[2m                  \u001b[0m\n",
       "\u001b[2;36m                    \u001b[0m         it manually.                                                        \u001b[2m                  \u001b[0m\n"
      ]
     },
     "metadata": {},
     "output_type": "display_data"
    }
   ],
   "source": [
    "task_out = my_kedro.run(pipeline_name=\"clb\")"
   ]
  },
  {
   "cell_type": "code",
   "execution_count": 4,
   "id": "4df6b833-9813-4257-ad12-0d8738611b2b",
   "metadata": {},
   "outputs": [
    {
     "data": {
      "text/html": [
       "<pre style=\"white-space:pre;overflow-x:auto;line-height:normal;font-family:Menlo,'DejaVu Sans Mono',consolas,'Courier New',monospace\"><span style=\"color: #7fbfbf; text-decoration-color: #7fbfbf\">[06/03/24 20:37:29] </span><span style=\"color: #000080; text-decoration-color: #000080\">INFO    </span> Kedro project solvency_models                                           <a href=\"file:///home/krzysiek/Development/solvency-modelling/venv/lib/python3.11/site-packages/kedro/framework/session/session.py\" target=\"_blank\"><span style=\"color: #7f7f7f; text-decoration-color: #7f7f7f\">session.py</span></a><span style=\"color: #7f7f7f; text-decoration-color: #7f7f7f\">:</span><a href=\"file:///home/krzysiek/Development/solvency-modelling/venv/lib/python3.11/site-packages/kedro/framework/session/session.py#321\" target=\"_blank\"><span style=\"color: #7f7f7f; text-decoration-color: #7f7f7f\">321</span></a>\n",
       "</pre>\n"
      ],
      "text/plain": [
       "\u001b[2;36m[06/03/24 20:37:29]\u001b[0m\u001b[2;36m \u001b[0m\u001b[34mINFO    \u001b[0m Kedro project solvency_models                                           \u001b]8;id=18321;file:///home/krzysiek/Development/solvency-modelling/venv/lib/python3.11/site-packages/kedro/framework/session/session.py\u001b\\\u001b[2msession.py\u001b[0m\u001b]8;;\u001b\\\u001b[2m:\u001b[0m\u001b]8;id=24440;file:///home/krzysiek/Development/solvency-modelling/venv/lib/python3.11/site-packages/kedro/framework/session/session.py#321\u001b\\\u001b[2m321\u001b[0m\u001b]8;;\u001b\\\n"
      ]
     },
     "metadata": {},
     "output_type": "display_data"
    },
    {
     "data": {
      "text/html": [
       "<pre style=\"white-space:pre;overflow-x:auto;line-height:normal;font-family:Menlo,'DejaVu Sans Mono',consolas,'Courier New',monospace\"><span style=\"color: #7fbfbf; text-decoration-color: #7fbfbf\">                    </span><span style=\"color: #000080; text-decoration-color: #000080\">INFO    </span> mlflow_config.server.mlflow_tracking_uri: <span style=\"color: #0000ff; text-decoration-color: #0000ff; text-decoration: underline\">http://127.0.0.1:5000</span>          <a href=\"file:///home/krzysiek/Development/solvency-modelling/solvency_models/src/solvency_models/context.py\" target=\"_blank\"><span style=\"color: #7f7f7f; text-decoration-color: #7f7f7f\">context.py</span></a><span style=\"color: #7f7f7f; text-decoration-color: #7f7f7f\">:</span><a href=\"file:///home/krzysiek/Development/solvency-modelling/solvency_models/src/solvency_models/context.py#71\" target=\"_blank\"><span style=\"color: #7f7f7f; text-decoration-color: #7f7f7f\">71</span></a>\n",
       "</pre>\n"
      ],
      "text/plain": [
       "\u001b[2;36m                   \u001b[0m\u001b[2;36m \u001b[0m\u001b[34mINFO    \u001b[0m mlflow_config.server.mlflow_tracking_uri: \u001b[4;94mhttp://127.0.0.1:5000\u001b[0m          \u001b]8;id=94389;file:///home/krzysiek/Development/solvency-modelling/solvency_models/src/solvency_models/context.py\u001b\\\u001b[2mcontext.py\u001b[0m\u001b]8;;\u001b\\\u001b[2m:\u001b[0m\u001b]8;id=819779;file:///home/krzysiek/Development/solvency-modelling/solvency_models/src/solvency_models/context.py#71\u001b\\\u001b[2m71\u001b[0m\u001b]8;;\u001b\\\n"
      ]
     },
     "metadata": {},
     "output_type": "display_data"
    },
    {
     "data": {
      "text/html": [
       "<pre style=\"white-space:pre;overflow-x:auto;line-height:normal;font-family:Menlo,'DejaVu Sans Mono',consolas,'Courier New',monospace\"><span style=\"color: #7fbfbf; text-decoration-color: #7fbfbf\">                    </span><span style=\"color: #000080; text-decoration-color: #000080\">INFO    </span> mlflow_run_id: ef29cc4c1ef141a2993c37c781ca9d82                          <a href=\"file:///home/krzysiek/Development/solvency-modelling/solvency_models/src/solvency_models/context.py\" target=\"_blank\"><span style=\"color: #7f7f7f; text-decoration-color: #7f7f7f\">context.py</span></a><span style=\"color: #7f7f7f; text-decoration-color: #7f7f7f\">:</span><a href=\"file:///home/krzysiek/Development/solvency-modelling/solvency_models/src/solvency_models/context.py#86\" target=\"_blank\"><span style=\"color: #7f7f7f; text-decoration-color: #7f7f7f\">86</span></a>\n",
       "</pre>\n"
      ],
      "text/plain": [
       "\u001b[2;36m                   \u001b[0m\u001b[2;36m \u001b[0m\u001b[34mINFO    \u001b[0m mlflow_run_id: ef29cc4c1ef141a2993c37c781ca9d82                          \u001b]8;id=620345;file:///home/krzysiek/Development/solvency-modelling/solvency_models/src/solvency_models/context.py\u001b\\\u001b[2mcontext.py\u001b[0m\u001b]8;;\u001b\\\u001b[2m:\u001b[0m\u001b]8;id=729114;file:///home/krzysiek/Development/solvency-modelling/solvency_models/src/solvency_models/context.py#86\u001b\\\u001b[2m86\u001b[0m\u001b]8;;\u001b\\\n"
      ]
     },
     "metadata": {},
     "output_type": "display_data"
    },
    {
     "data": {
      "text/html": [
       "<pre style=\"white-space:pre;overflow-x:auto;line-height:normal;font-family:Menlo,'DejaVu Sans Mono',consolas,'Courier New',monospace\"><span style=\"color: #7fbfbf; text-decoration-color: #7fbfbf\">                    </span><span style=\"color: #000080; text-decoration-color: #000080\">INFO    </span> Registering new custom resolver: <span style=\"color: #008000; text-decoration-color: #008000\">'km.random_name'</span>                    <a href=\"file:///home/krzysiek/Development/solvency-modelling/venv/lib/python3.11/site-packages/kedro_mlflow/framework/hooks/mlflow_hook.py\" target=\"_blank\"><span style=\"color: #7f7f7f; text-decoration-color: #7f7f7f\">mlflow_hook.py</span></a><span style=\"color: #7f7f7f; text-decoration-color: #7f7f7f\">:</span><a href=\"file:///home/krzysiek/Development/solvency-modelling/venv/lib/python3.11/site-packages/kedro_mlflow/framework/hooks/mlflow_hook.py#65\" target=\"_blank\"><span style=\"color: #7f7f7f; text-decoration-color: #7f7f7f\">65</span></a>\n",
       "</pre>\n"
      ],
      "text/plain": [
       "\u001b[2;36m                   \u001b[0m\u001b[2;36m \u001b[0m\u001b[34mINFO    \u001b[0m Registering new custom resolver: \u001b[32m'km.random_name'\u001b[0m                    \u001b]8;id=518918;file:///home/krzysiek/Development/solvency-modelling/venv/lib/python3.11/site-packages/kedro_mlflow/framework/hooks/mlflow_hook.py\u001b\\\u001b[2mmlflow_hook.py\u001b[0m\u001b]8;;\u001b\\\u001b[2m:\u001b[0m\u001b]8;id=703133;file:///home/krzysiek/Development/solvency-modelling/venv/lib/python3.11/site-packages/kedro_mlflow/framework/hooks/mlflow_hook.py#65\u001b\\\u001b[2m65\u001b[0m\u001b]8;;\u001b\\\n"
      ]
     },
     "metadata": {},
     "output_type": "display_data"
    },
    {
     "data": {
      "text/html": [
       "<pre style=\"white-space:pre;overflow-x:auto;line-height:normal;font-family:Menlo,'DejaVu Sans Mono',consolas,'Courier New',monospace\"><span style=\"color: #7fbfbf; text-decoration-color: #7fbfbf\">                    </span><span style=\"color: #800000; text-decoration-color: #800000\">WARNING </span> The mlflow run ef29cc4c1ef141a2993c37c781ca9d82 is already active.   <a href=\"file:///home/krzysiek/Development/solvency-modelling/venv/lib/python3.11/site-packages/kedro_mlflow/framework/hooks/mlflow_hook.py\" target=\"_blank\"><span style=\"color: #7f7f7f; text-decoration-color: #7f7f7f\">mlflow_hook.py</span></a><span style=\"color: #7f7f7f; text-decoration-color: #7f7f7f\">:</span><a href=\"file:///home/krzysiek/Development/solvency-modelling/venv/lib/python3.11/site-packages/kedro_mlflow/framework/hooks/mlflow_hook.py#97\" target=\"_blank\"><span style=\"color: #7f7f7f; text-decoration-color: #7f7f7f\">97</span></a>\n",
       "<span style=\"color: #7fbfbf; text-decoration-color: #7fbfbf\">                    </span>         Configuration is inferred from the environment, and mlflow.yml is    <span style=\"color: #7f7f7f; text-decoration-color: #7f7f7f\">                 </span>\n",
       "<span style=\"color: #7fbfbf; text-decoration-color: #7fbfbf\">                    </span>         ignored.                                                             <span style=\"color: #7f7f7f; text-decoration-color: #7f7f7f\">                 </span>\n",
       "</pre>\n"
      ],
      "text/plain": [
       "\u001b[2;36m                   \u001b[0m\u001b[2;36m \u001b[0m\u001b[31mWARNING \u001b[0m The mlflow run ef29cc4c1ef141a2993c37c781ca9d82 is already active.   \u001b]8;id=703729;file:///home/krzysiek/Development/solvency-modelling/venv/lib/python3.11/site-packages/kedro_mlflow/framework/hooks/mlflow_hook.py\u001b\\\u001b[2mmlflow_hook.py\u001b[0m\u001b]8;;\u001b\\\u001b[2m:\u001b[0m\u001b]8;id=64544;file:///home/krzysiek/Development/solvency-modelling/venv/lib/python3.11/site-packages/kedro_mlflow/framework/hooks/mlflow_hook.py#97\u001b\\\u001b[2m97\u001b[0m\u001b]8;;\u001b\\\n",
       "\u001b[2;36m                    \u001b[0m         Configuration is inferred from the environment, and mlflow.yml is    \u001b[2m                 \u001b[0m\n",
       "\u001b[2;36m                    \u001b[0m         ignored.                                                             \u001b[2m                 \u001b[0m\n"
      ]
     },
     "metadata": {},
     "output_type": "display_data"
    },
    {
     "data": {
      "text/html": [
       "<pre style=\"white-space:pre;overflow-x:auto;line-height:normal;font-family:Menlo,'DejaVu Sans Mono',consolas,'Courier New',monospace\"><span style=\"color: #7fbfbf; text-decoration-color: #7fbfbf\">                    </span><span style=\"color: #800000; text-decoration-color: #800000\">WARNING </span> mlflow_config.server.<span style=\"color: #808000; text-decoration-color: #808000\">mlflow_tracking_uri</span>=<span style=\"color: #008000; text-decoration-color: #008000\">'http://127.0.0.1:5000'</span>    <a href=\"file:///home/krzysiek/Development/solvency-modelling/venv/lib/python3.11/site-packages/kedro_mlflow/framework/hooks/mlflow_hook.py\" target=\"_blank\"><span style=\"color: #7f7f7f; text-decoration-color: #7f7f7f\">mlflow_hook.py</span></a><span style=\"color: #7f7f7f; text-decoration-color: #7f7f7f\">:</span><a href=\"file:///home/krzysiek/Development/solvency-modelling/venv/lib/python3.11/site-packages/kedro_mlflow/framework/hooks/mlflow_hook.py#105\" target=\"_blank\"><span style=\"color: #7f7f7f; text-decoration-color: #7f7f7f\">105</span></a>\n",
       "</pre>\n"
      ],
      "text/plain": [
       "\u001b[2;36m                   \u001b[0m\u001b[2;36m \u001b[0m\u001b[31mWARNING \u001b[0m mlflow_config.server.\u001b[33mmlflow_tracking_uri\u001b[0m=\u001b[32m'http://127.0.0.1:5000'\u001b[0m    \u001b]8;id=72414;file:///home/krzysiek/Development/solvency-modelling/venv/lib/python3.11/site-packages/kedro_mlflow/framework/hooks/mlflow_hook.py\u001b\\\u001b[2mmlflow_hook.py\u001b[0m\u001b]8;;\u001b\\\u001b[2m:\u001b[0m\u001b]8;id=38814;file:///home/krzysiek/Development/solvency-modelling/venv/lib/python3.11/site-packages/kedro_mlflow/framework/hooks/mlflow_hook.py#105\u001b\\\u001b[2m105\u001b[0m\u001b]8;;\u001b\\\n"
      ]
     },
     "metadata": {},
     "output_type": "display_data"
    },
    {
     "data": {
      "text/html": [
       "<pre style=\"white-space:pre;overflow-x:auto;line-height:normal;font-family:Menlo,'DejaVu Sans Mono',consolas,'Courier New',monospace\"><span style=\"color: #7fbfbf; text-decoration-color: #7fbfbf\">                    </span><span style=\"color: #800000; text-decoration-color: #800000\">WARNING </span> mlflow_config.tracking.run.<span style=\"color: #808000; text-decoration-color: #808000\">id</span>=<span style=\"color: #008000; text-decoration-color: #008000\">'ef29cc4c1ef141a2993c37c781ca9d82'</span>    <a href=\"file:///home/krzysiek/Development/solvency-modelling/venv/lib/python3.11/site-packages/kedro_mlflow/framework/hooks/mlflow_hook.py\" target=\"_blank\"><span style=\"color: #7f7f7f; text-decoration-color: #7f7f7f\">mlflow_hook.py</span></a><span style=\"color: #7f7f7f; text-decoration-color: #7f7f7f\">:</span><a href=\"file:///home/krzysiek/Development/solvency-modelling/venv/lib/python3.11/site-packages/kedro_mlflow/framework/hooks/mlflow_hook.py#108\" target=\"_blank\"><span style=\"color: #7f7f7f; text-decoration-color: #7f7f7f\">108</span></a>\n",
       "</pre>\n"
      ],
      "text/plain": [
       "\u001b[2;36m                   \u001b[0m\u001b[2;36m \u001b[0m\u001b[31mWARNING \u001b[0m mlflow_config.tracking.run.\u001b[33mid\u001b[0m=\u001b[32m'ef29cc4c1ef141a2993c37c781ca9d82'\u001b[0m    \u001b]8;id=817748;file:///home/krzysiek/Development/solvency-modelling/venv/lib/python3.11/site-packages/kedro_mlflow/framework/hooks/mlflow_hook.py\u001b\\\u001b[2mmlflow_hook.py\u001b[0m\u001b]8;;\u001b\\\u001b[2m:\u001b[0m\u001b]8;id=993662;file:///home/krzysiek/Development/solvency-modelling/venv/lib/python3.11/site-packages/kedro_mlflow/framework/hooks/mlflow_hook.py#108\u001b\\\u001b[2m108\u001b[0m\u001b]8;;\u001b\\\n"
      ]
     },
     "metadata": {},
     "output_type": "display_data"
    },
    {
     "data": {
      "text/html": [
       "<pre style=\"white-space:pre;overflow-x:auto;line-height:normal;font-family:Menlo,'DejaVu Sans Mono',consolas,'Courier New',monospace\"><span style=\"color: #7fbfbf; text-decoration-color: #7fbfbf\">                    </span><span style=\"color: #800000; text-decoration-color: #800000\">WARNING </span> mlflow_config.tracking.experiment.<span style=\"color: #808000; text-decoration-color: #808000\">name</span>=<span style=\"color: #008000; text-decoration-color: #008000\">'test-p07-ds'</span>                <a href=\"file:///home/krzysiek/Development/solvency-modelling/venv/lib/python3.11/site-packages/kedro_mlflow/framework/hooks/mlflow_hook.py\" target=\"_blank\"><span style=\"color: #7f7f7f; text-decoration-color: #7f7f7f\">mlflow_hook.py</span></a><span style=\"color: #7f7f7f; text-decoration-color: #7f7f7f\">:</span><a href=\"file:///home/krzysiek/Development/solvency-modelling/venv/lib/python3.11/site-packages/kedro_mlflow/framework/hooks/mlflow_hook.py#113\" target=\"_blank\"><span style=\"color: #7f7f7f; text-decoration-color: #7f7f7f\">113</span></a>\n",
       "</pre>\n"
      ],
      "text/plain": [
       "\u001b[2;36m                   \u001b[0m\u001b[2;36m \u001b[0m\u001b[31mWARNING \u001b[0m mlflow_config.tracking.experiment.\u001b[33mname\u001b[0m=\u001b[32m'test-p07-ds'\u001b[0m                \u001b]8;id=189312;file:///home/krzysiek/Development/solvency-modelling/venv/lib/python3.11/site-packages/kedro_mlflow/framework/hooks/mlflow_hook.py\u001b\\\u001b[2mmlflow_hook.py\u001b[0m\u001b]8;;\u001b\\\u001b[2m:\u001b[0m\u001b]8;id=542711;file:///home/krzysiek/Development/solvency-modelling/venv/lib/python3.11/site-packages/kedro_mlflow/framework/hooks/mlflow_hook.py#113\u001b\\\u001b[2m113\u001b[0m\u001b]8;;\u001b\\\n"
      ]
     },
     "metadata": {},
     "output_type": "display_data"
    },
    {
     "data": {
      "text/html": [
       "<pre style=\"white-space:pre;overflow-x:auto;line-height:normal;font-family:Menlo,'DejaVu Sans Mono',consolas,'Courier New',monospace\"><span style=\"color: #7fbfbf; text-decoration-color: #7fbfbf\">                    </span><span style=\"color: #800000; text-decoration-color: #800000\">WARNING </span> A mlflow run was already active                                     <a href=\"file:///home/krzysiek/Development/solvency-modelling/venv/lib/python3.11/site-packages/kedro_mlflow/framework/hooks/mlflow_hook.py\" target=\"_blank\"><span style=\"color: #7f7f7f; text-decoration-color: #7f7f7f\">mlflow_hook.py</span></a><span style=\"color: #7f7f7f; text-decoration-color: #7f7f7f\">:</span><a href=\"file:///home/krzysiek/Development/solvency-modelling/venv/lib/python3.11/site-packages/kedro_mlflow/framework/hooks/mlflow_hook.py#243\" target=\"_blank\"><span style=\"color: #7f7f7f; text-decoration-color: #7f7f7f\">243</span></a>\n",
       "<span style=\"color: #7fbfbf; text-decoration-color: #7fbfbf\">                    </span>         <span style=\"font-weight: bold\">(</span><span style=\"color: #808000; text-decoration-color: #808000\">run_id</span>=<span style=\"color: #008000; text-decoration-color: #008000\">'ef29cc4c1ef141a2993c37c781ca9d82'</span><span style=\"font-weight: bold\">)</span> before the KedroSession <span style=\"color: #7f7f7f; text-decoration-color: #7f7f7f\">                  </span>\n",
       "<span style=\"color: #7fbfbf; text-decoration-color: #7fbfbf\">                    </span>         was started. This run will be used for logging.                     <span style=\"color: #7f7f7f; text-decoration-color: #7f7f7f\">                  </span>\n",
       "</pre>\n"
      ],
      "text/plain": [
       "\u001b[2;36m                   \u001b[0m\u001b[2;36m \u001b[0m\u001b[31mWARNING \u001b[0m A mlflow run was already active                                     \u001b]8;id=927493;file:///home/krzysiek/Development/solvency-modelling/venv/lib/python3.11/site-packages/kedro_mlflow/framework/hooks/mlflow_hook.py\u001b\\\u001b[2mmlflow_hook.py\u001b[0m\u001b]8;;\u001b\\\u001b[2m:\u001b[0m\u001b]8;id=787889;file:///home/krzysiek/Development/solvency-modelling/venv/lib/python3.11/site-packages/kedro_mlflow/framework/hooks/mlflow_hook.py#243\u001b\\\u001b[2m243\u001b[0m\u001b]8;;\u001b\\\n",
       "\u001b[2;36m                    \u001b[0m         \u001b[1m(\u001b[0m\u001b[33mrun_id\u001b[0m=\u001b[32m'ef29cc4c1ef141a2993c37c781ca9d82'\u001b[0m\u001b[1m)\u001b[0m before the KedroSession \u001b[2m                  \u001b[0m\n",
       "\u001b[2;36m                    \u001b[0m         was started. This run will be used for logging.                     \u001b[2m                  \u001b[0m\n"
      ]
     },
     "metadata": {},
     "output_type": "display_data"
    },
    {
     "data": {
      "text/html": [
       "<pre style=\"white-space:pre;overflow-x:auto;line-height:normal;font-family:Menlo,'DejaVu Sans Mono',consolas,'Courier New',monospace\"><span style=\"color: #7fbfbf; text-decoration-color: #7fbfbf\">                    </span><span style=\"color: #000080; text-decoration-color: #000080\">INFO    </span> Using synchronous mode for loading and saving data. Use the    <a href=\"file:///home/krzysiek/Development/solvency-modelling/venv/lib/python3.11/site-packages/kedro/runner/sequential_runner.py\" target=\"_blank\"><span style=\"color: #7f7f7f; text-decoration-color: #7f7f7f\">sequential_runner.py</span></a><span style=\"color: #7f7f7f; text-decoration-color: #7f7f7f\">:</span><a href=\"file:///home/krzysiek/Development/solvency-modelling/venv/lib/python3.11/site-packages/kedro/runner/sequential_runner.py#64\" target=\"_blank\"><span style=\"color: #7f7f7f; text-decoration-color: #7f7f7f\">64</span></a>\n",
       "<span style=\"color: #7fbfbf; text-decoration-color: #7fbfbf\">                    </span>         --async flag for potential performance gains.                  <span style=\"color: #7f7f7f; text-decoration-color: #7f7f7f\">                       </span>\n",
       "<span style=\"color: #7fbfbf; text-decoration-color: #7fbfbf\">                    </span>         <span style=\"color: #0000ff; text-decoration-color: #0000ff; text-decoration: underline\">https://docs.kedro.org/en/stable/nodes_and_pipelines/run_a_pip</span> <span style=\"color: #7f7f7f; text-decoration-color: #7f7f7f\">                       </span>\n",
       "<span style=\"color: #7fbfbf; text-decoration-color: #7fbfbf\">                    </span>         <span style=\"color: #0000ff; text-decoration-color: #0000ff; text-decoration: underline\">eline.html#load-and-save-asynchronously</span>                        <span style=\"color: #7f7f7f; text-decoration-color: #7f7f7f\">                       </span>\n",
       "</pre>\n"
      ],
      "text/plain": [
       "\u001b[2;36m                   \u001b[0m\u001b[2;36m \u001b[0m\u001b[34mINFO    \u001b[0m Using synchronous mode for loading and saving data. Use the    \u001b]8;id=517678;file:///home/krzysiek/Development/solvency-modelling/venv/lib/python3.11/site-packages/kedro/runner/sequential_runner.py\u001b\\\u001b[2msequential_runner.py\u001b[0m\u001b]8;;\u001b\\\u001b[2m:\u001b[0m\u001b]8;id=880621;file:///home/krzysiek/Development/solvency-modelling/venv/lib/python3.11/site-packages/kedro/runner/sequential_runner.py#64\u001b\\\u001b[2m64\u001b[0m\u001b]8;;\u001b\\\n",
       "\u001b[2;36m                    \u001b[0m         --async flag for potential performance gains.                  \u001b[2m                       \u001b[0m\n",
       "\u001b[2;36m                    \u001b[0m         \u001b[4;94mhttps://docs.kedro.org/en/stable/nodes_and_pipelines/run_a_pip\u001b[0m \u001b[2m                       \u001b[0m\n",
       "\u001b[2;36m                    \u001b[0m         \u001b[4;94meline.html#load-and-save-asynchronously\u001b[0m                        \u001b[2m                       \u001b[0m\n"
      ]
     },
     "metadata": {},
     "output_type": "display_data"
    },
    {
     "data": {
      "text/html": [
       "<pre style=\"white-space:pre;overflow-x:auto;line-height:normal;font-family:Menlo,'DejaVu Sans Mono',consolas,'Courier New',monospace\"><span style=\"color: #7fbfbf; text-decoration-color: #7fbfbf\">                    </span><span style=\"color: #000080; text-decoration-color: #000080\">INFO    </span> Loading data from <span style=\"color: #ff8700; text-decoration-color: #ff8700\">parameters</span> <span style=\"font-weight: bold\">(</span>MemoryDataset<span style=\"font-weight: bold\">)</span><span style=\"color: #808000; text-decoration-color: #808000\">...</span>                    <a href=\"file:///home/krzysiek/Development/solvency-modelling/venv/lib/python3.11/site-packages/kedro/io/data_catalog.py\" target=\"_blank\"><span style=\"color: #7f7f7f; text-decoration-color: #7f7f7f\">data_catalog.py</span></a><span style=\"color: #7f7f7f; text-decoration-color: #7f7f7f\">:</span><a href=\"file:///home/krzysiek/Development/solvency-modelling/venv/lib/python3.11/site-packages/kedro/io/data_catalog.py#483\" target=\"_blank\"><span style=\"color: #7f7f7f; text-decoration-color: #7f7f7f\">483</span></a>\n",
       "</pre>\n"
      ],
      "text/plain": [
       "\u001b[2;36m                   \u001b[0m\u001b[2;36m \u001b[0m\u001b[34mINFO    \u001b[0m Loading data from \u001b[38;5;208mparameters\u001b[0m \u001b[1m(\u001b[0mMemoryDataset\u001b[1m)\u001b[0m\u001b[33m...\u001b[0m                    \u001b]8;id=78171;file:///home/krzysiek/Development/solvency-modelling/venv/lib/python3.11/site-packages/kedro/io/data_catalog.py\u001b\\\u001b[2mdata_catalog.py\u001b[0m\u001b]8;;\u001b\\\u001b[2m:\u001b[0m\u001b]8;id=949971;file:///home/krzysiek/Development/solvency-modelling/venv/lib/python3.11/site-packages/kedro/io/data_catalog.py#483\u001b\\\u001b[2m483\u001b[0m\u001b]8;;\u001b\\\n"
      ]
     },
     "metadata": {},
     "output_type": "display_data"
    },
    {
     "data": {
      "text/html": [
       "<pre style=\"white-space:pre;overflow-x:auto;line-height:normal;font-family:Menlo,'DejaVu Sans Mono',consolas,'Courier New',monospace\"><span style=\"color: #7fbfbf; text-decoration-color: #7fbfbf\">                    </span><span style=\"color: #000080; text-decoration-color: #000080\">INFO    </span> Running node: process_parameters: <span style=\"color: #800080; text-decoration-color: #800080; font-weight: bold\">process_parameters</span><span style=\"font-weight: bold\">([</span>parameters<span style=\"font-weight: bold\">])</span> -&gt;      <a href=\"file:///home/krzysiek/Development/solvency-modelling/venv/lib/python3.11/site-packages/kedro/pipeline/node.py\" target=\"_blank\"><span style=\"color: #7f7f7f; text-decoration-color: #7f7f7f\">node.py</span></a><span style=\"color: #7f7f7f; text-decoration-color: #7f7f7f\">:</span><a href=\"file:///home/krzysiek/Development/solvency-modelling/venv/lib/python3.11/site-packages/kedro/pipeline/node.py#340\" target=\"_blank\"><span style=\"color: #7f7f7f; text-decoration-color: #7f7f7f\">340</span></a>\n",
       "<span style=\"color: #7fbfbf; text-decoration-color: #7fbfbf\">                    </span>         <span style=\"font-weight: bold\">[</span>config<span style=\"font-weight: bold\">]</span>                                                                   <span style=\"color: #7f7f7f; text-decoration-color: #7f7f7f\">           </span>\n",
       "</pre>\n"
      ],
      "text/plain": [
       "\u001b[2;36m                   \u001b[0m\u001b[2;36m \u001b[0m\u001b[34mINFO    \u001b[0m Running node: process_parameters: \u001b[1;35mprocess_parameters\u001b[0m\u001b[1m(\u001b[0m\u001b[1m[\u001b[0mparameters\u001b[1m]\u001b[0m\u001b[1m)\u001b[0m ->      \u001b]8;id=986847;file:///home/krzysiek/Development/solvency-modelling/venv/lib/python3.11/site-packages/kedro/pipeline/node.py\u001b\\\u001b[2mnode.py\u001b[0m\u001b]8;;\u001b\\\u001b[2m:\u001b[0m\u001b]8;id=881715;file:///home/krzysiek/Development/solvency-modelling/venv/lib/python3.11/site-packages/kedro/pipeline/node.py#340\u001b\\\u001b[2m340\u001b[0m\u001b]8;;\u001b\\\n",
       "\u001b[2;36m                    \u001b[0m         \u001b[1m[\u001b[0mconfig\u001b[1m]\u001b[0m                                                                   \u001b[2m           \u001b[0m\n"
      ]
     },
     "metadata": {},
     "output_type": "display_data"
    },
    {
     "data": {
      "text/html": [
       "<pre style=\"white-space:pre;overflow-x:auto;line-height:normal;font-family:Menlo,'DejaVu Sans Mono',consolas,'Courier New',monospace\"><span style=\"color: #7fbfbf; text-decoration-color: #7fbfbf\">                    </span><span style=\"color: #000080; text-decoration-color: #000080\">INFO    </span> Saving parameters.yml to MLFlow as an artifact<span style=\"color: #808000; text-decoration-color: #808000\">...</span>                          <a href=\"file:///home/krzysiek/Development/solvency-modelling/solvency_models/src/solvency_models/pipelines/p01_init/nodes.py\" target=\"_blank\"><span style=\"color: #7f7f7f; text-decoration-color: #7f7f7f\">nodes.py</span></a><span style=\"color: #7f7f7f; text-decoration-color: #7f7f7f\">:</span><a href=\"file:///home/krzysiek/Development/solvency-modelling/solvency_models/src/solvency_models/pipelines/p01_init/nodes.py#13\" target=\"_blank\"><span style=\"color: #7f7f7f; text-decoration-color: #7f7f7f\">13</span></a>\n",
       "</pre>\n"
      ],
      "text/plain": [
       "\u001b[2;36m                   \u001b[0m\u001b[2;36m \u001b[0m\u001b[34mINFO    \u001b[0m Saving parameters.yml to MLFlow as an artifact\u001b[33m...\u001b[0m                          \u001b]8;id=333594;file:///home/krzysiek/Development/solvency-modelling/solvency_models/src/solvency_models/pipelines/p01_init/nodes.py\u001b\\\u001b[2mnodes.py\u001b[0m\u001b]8;;\u001b\\\u001b[2m:\u001b[0m\u001b]8;id=709053;file:///home/krzysiek/Development/solvency-modelling/solvency_models/src/solvency_models/pipelines/p01_init/nodes.py#13\u001b\\\u001b[2m13\u001b[0m\u001b]8;;\u001b\\\n"
      ]
     },
     "metadata": {},
     "output_type": "display_data"
    },
    {
     "data": {
      "text/html": [
       "<pre style=\"white-space:pre;overflow-x:auto;line-height:normal;font-family:Menlo,'DejaVu Sans Mono',consolas,'Courier New',monospace\"><span style=\"color: #7fbfbf; text-decoration-color: #7fbfbf\">                    </span><span style=\"color: #000080; text-decoration-color: #000080\">INFO    </span> Saved parameters.yml to MLFlow as an artifact.                             <a href=\"file:///home/krzysiek/Development/solvency-modelling/solvency_models/src/solvency_models/pipelines/p01_init/nodes.py\" target=\"_blank\"><span style=\"color: #7f7f7f; text-decoration-color: #7f7f7f\">nodes.py</span></a><span style=\"color: #7f7f7f; text-decoration-color: #7f7f7f\">:</span><a href=\"file:///home/krzysiek/Development/solvency-modelling/solvency_models/src/solvency_models/pipelines/p01_init/nodes.py#15\" target=\"_blank\"><span style=\"color: #7f7f7f; text-decoration-color: #7f7f7f\">15</span></a>\n",
       "</pre>\n"
      ],
      "text/plain": [
       "\u001b[2;36m                   \u001b[0m\u001b[2;36m \u001b[0m\u001b[34mINFO    \u001b[0m Saved parameters.yml to MLFlow as an artifact.                             \u001b]8;id=430860;file:///home/krzysiek/Development/solvency-modelling/solvency_models/src/solvency_models/pipelines/p01_init/nodes.py\u001b\\\u001b[2mnodes.py\u001b[0m\u001b]8;;\u001b\\\u001b[2m:\u001b[0m\u001b]8;id=494731;file:///home/krzysiek/Development/solvency-modelling/solvency_models/src/solvency_models/pipelines/p01_init/nodes.py#15\u001b\\\u001b[2m15\u001b[0m\u001b]8;;\u001b\\\n"
      ]
     },
     "metadata": {},
     "output_type": "display_data"
    },
    {
     "data": {
      "text/html": [
       "<pre style=\"white-space:pre;overflow-x:auto;line-height:normal;font-family:Menlo,'DejaVu Sans Mono',consolas,'Courier New',monospace\"><span style=\"color: #7fbfbf; text-decoration-color: #7fbfbf\">                    </span><span style=\"color: #000080; text-decoration-color: #000080\">INFO    </span> Processing parameters<span style=\"color: #808000; text-decoration-color: #808000\">...</span>                                                   <a href=\"file:///home/krzysiek/Development/solvency-modelling/solvency_models/src/solvency_models/pipelines/p01_init/nodes.py\" target=\"_blank\"><span style=\"color: #7f7f7f; text-decoration-color: #7f7f7f\">nodes.py</span></a><span style=\"color: #7f7f7f; text-decoration-color: #7f7f7f\">:</span><a href=\"file:///home/krzysiek/Development/solvency-modelling/solvency_models/src/solvency_models/pipelines/p01_init/nodes.py#17\" target=\"_blank\"><span style=\"color: #7f7f7f; text-decoration-color: #7f7f7f\">17</span></a>\n",
       "</pre>\n"
      ],
      "text/plain": [
       "\u001b[2;36m                   \u001b[0m\u001b[2;36m \u001b[0m\u001b[34mINFO    \u001b[0m Processing parameters\u001b[33m...\u001b[0m                                                   \u001b]8;id=310292;file:///home/krzysiek/Development/solvency-modelling/solvency_models/src/solvency_models/pipelines/p01_init/nodes.py\u001b\\\u001b[2mnodes.py\u001b[0m\u001b]8;;\u001b\\\u001b[2m:\u001b[0m\u001b]8;id=483623;file:///home/krzysiek/Development/solvency-modelling/solvency_models/src/solvency_models/pipelines/p01_init/nodes.py#17\u001b\\\u001b[2m17\u001b[0m\u001b]8;;\u001b\\\n"
      ]
     },
     "metadata": {},
     "output_type": "display_data"
    },
    {
     "data": {
      "text/html": [
       "<pre style=\"white-space:pre;overflow-x:auto;line-height:normal;font-family:Menlo,'DejaVu Sans Mono',consolas,'Courier New',monospace\"><span style=\"color: #7fbfbf; text-decoration-color: #7fbfbf\">                    </span><span style=\"color: #000080; text-decoration-color: #000080\">INFO    </span> Processed. Created config classes.                                         <a href=\"file:///home/krzysiek/Development/solvency-modelling/solvency_models/src/solvency_models/pipelines/p01_init/nodes.py\" target=\"_blank\"><span style=\"color: #7f7f7f; text-decoration-color: #7f7f7f\">nodes.py</span></a><span style=\"color: #7f7f7f; text-decoration-color: #7f7f7f\">:</span><a href=\"file:///home/krzysiek/Development/solvency-modelling/solvency_models/src/solvency_models/pipelines/p01_init/nodes.py#19\" target=\"_blank\"><span style=\"color: #7f7f7f; text-decoration-color: #7f7f7f\">19</span></a>\n",
       "</pre>\n"
      ],
      "text/plain": [
       "\u001b[2;36m                   \u001b[0m\u001b[2;36m \u001b[0m\u001b[34mINFO    \u001b[0m Processed. Created config classes.                                         \u001b]8;id=169490;file:///home/krzysiek/Development/solvency-modelling/solvency_models/src/solvency_models/pipelines/p01_init/nodes.py\u001b\\\u001b[2mnodes.py\u001b[0m\u001b]8;;\u001b\\\u001b[2m:\u001b[0m\u001b]8;id=695418;file:///home/krzysiek/Development/solvency-modelling/solvency_models/src/solvency_models/pipelines/p01_init/nodes.py#19\u001b\\\u001b[2m19\u001b[0m\u001b]8;;\u001b\\\n"
      ]
     },
     "metadata": {},
     "output_type": "display_data"
    },
    {
     "data": {
      "text/html": [
       "<pre style=\"white-space:pre;overflow-x:auto;line-height:normal;font-family:Menlo,'DejaVu Sans Mono',consolas,'Courier New',monospace\"><span style=\"color: #7fbfbf; text-decoration-color: #7fbfbf\">                    </span><span style=\"color: #000080; text-decoration-color: #000080\">INFO    </span> Saving config to MLFlow<span style=\"color: #808000; text-decoration-color: #808000\">...</span>                                                 <a href=\"file:///home/krzysiek/Development/solvency-modelling/solvency_models/src/solvency_models/pipelines/p01_init/nodes.py\" target=\"_blank\"><span style=\"color: #7f7f7f; text-decoration-color: #7f7f7f\">nodes.py</span></a><span style=\"color: #7f7f7f; text-decoration-color: #7f7f7f\">:</span><a href=\"file:///home/krzysiek/Development/solvency-modelling/solvency_models/src/solvency_models/pipelines/p01_init/nodes.py#20\" target=\"_blank\"><span style=\"color: #7f7f7f; text-decoration-color: #7f7f7f\">20</span></a>\n",
       "</pre>\n"
      ],
      "text/plain": [
       "\u001b[2;36m                   \u001b[0m\u001b[2;36m \u001b[0m\u001b[34mINFO    \u001b[0m Saving config to MLFlow\u001b[33m...\u001b[0m                                                 \u001b]8;id=867910;file:///home/krzysiek/Development/solvency-modelling/solvency_models/src/solvency_models/pipelines/p01_init/nodes.py\u001b\\\u001b[2mnodes.py\u001b[0m\u001b]8;;\u001b\\\u001b[2m:\u001b[0m\u001b]8;id=481631;file:///home/krzysiek/Development/solvency-modelling/solvency_models/src/solvency_models/pipelines/p01_init/nodes.py#20\u001b\\\u001b[2m20\u001b[0m\u001b]8;;\u001b\\\n"
      ]
     },
     "metadata": {},
     "output_type": "display_data"
    },
    {
     "data": {
      "text/html": [
       "<pre style=\"white-space:pre;overflow-x:auto;line-height:normal;font-family:Menlo,'DejaVu Sans Mono',consolas,'Courier New',monospace\"><span style=\"color: #7fbfbf; text-decoration-color: #7fbfbf\">                    </span><span style=\"color: #000080; text-decoration-color: #000080\">INFO    </span> Saved config to MLFlow.                                                    <a href=\"file:///home/krzysiek/Development/solvency-modelling/solvency_models/src/solvency_models/pipelines/p01_init/nodes.py\" target=\"_blank\"><span style=\"color: #7f7f7f; text-decoration-color: #7f7f7f\">nodes.py</span></a><span style=\"color: #7f7f7f; text-decoration-color: #7f7f7f\">:</span><a href=\"file:///home/krzysiek/Development/solvency-modelling/solvency_models/src/solvency_models/pipelines/p01_init/nodes.py#22\" target=\"_blank\"><span style=\"color: #7f7f7f; text-decoration-color: #7f7f7f\">22</span></a>\n",
       "</pre>\n"
      ],
      "text/plain": [
       "\u001b[2;36m                   \u001b[0m\u001b[2;36m \u001b[0m\u001b[34mINFO    \u001b[0m Saved config to MLFlow.                                                    \u001b]8;id=261165;file:///home/krzysiek/Development/solvency-modelling/solvency_models/src/solvency_models/pipelines/p01_init/nodes.py\u001b\\\u001b[2mnodes.py\u001b[0m\u001b]8;;\u001b\\\u001b[2m:\u001b[0m\u001b]8;id=98433;file:///home/krzysiek/Development/solvency-modelling/solvency_models/src/solvency_models/pipelines/p01_init/nodes.py#22\u001b\\\u001b[2m22\u001b[0m\u001b]8;;\u001b\\\n"
      ]
     },
     "metadata": {},
     "output_type": "display_data"
    },
    {
     "data": {
      "text/html": [
       "<pre style=\"white-space:pre;overflow-x:auto;line-height:normal;font-family:Menlo,'DejaVu Sans Mono',consolas,'Courier New',monospace\"><span style=\"color: #7fbfbf; text-decoration-color: #7fbfbf\">                    </span><span style=\"color: #000080; text-decoration-color: #000080\">INFO    </span> Saving data to <span style=\"color: #ff8700; text-decoration-color: #ff8700\">config</span> <span style=\"font-weight: bold\">(</span>MemoryDataset<span style=\"font-weight: bold\">)</span><span style=\"color: #808000; text-decoration-color: #808000\">...</span>                           <a href=\"file:///home/krzysiek/Development/solvency-modelling/venv/lib/python3.11/site-packages/kedro/io/data_catalog.py\" target=\"_blank\"><span style=\"color: #7f7f7f; text-decoration-color: #7f7f7f\">data_catalog.py</span></a><span style=\"color: #7f7f7f; text-decoration-color: #7f7f7f\">:</span><a href=\"file:///home/krzysiek/Development/solvency-modelling/venv/lib/python3.11/site-packages/kedro/io/data_catalog.py#525\" target=\"_blank\"><span style=\"color: #7f7f7f; text-decoration-color: #7f7f7f\">525</span></a>\n",
       "</pre>\n"
      ],
      "text/plain": [
       "\u001b[2;36m                   \u001b[0m\u001b[2;36m \u001b[0m\u001b[34mINFO    \u001b[0m Saving data to \u001b[38;5;208mconfig\u001b[0m \u001b[1m(\u001b[0mMemoryDataset\u001b[1m)\u001b[0m\u001b[33m...\u001b[0m                           \u001b]8;id=607427;file:///home/krzysiek/Development/solvency-modelling/venv/lib/python3.11/site-packages/kedro/io/data_catalog.py\u001b\\\u001b[2mdata_catalog.py\u001b[0m\u001b]8;;\u001b\\\u001b[2m:\u001b[0m\u001b]8;id=783415;file:///home/krzysiek/Development/solvency-modelling/venv/lib/python3.11/site-packages/kedro/io/data_catalog.py#525\u001b\\\u001b[2m525\u001b[0m\u001b]8;;\u001b\\\n"
      ]
     },
     "metadata": {},
     "output_type": "display_data"
    },
    {
     "data": {
      "text/html": [
       "<pre style=\"white-space:pre;overflow-x:auto;line-height:normal;font-family:Menlo,'DejaVu Sans Mono',consolas,'Courier New',monospace\"><span style=\"color: #7fbfbf; text-decoration-color: #7fbfbf\">                    </span><span style=\"color: #000080; text-decoration-color: #000080\">INFO    </span> Completed <span style=\"color: #008080; text-decoration-color: #008080; font-weight: bold\">1</span> out of <span style=\"color: #008080; text-decoration-color: #008080; font-weight: bold\">2</span> tasks                                     <a href=\"file:///home/krzysiek/Development/solvency-modelling/venv/lib/python3.11/site-packages/kedro/runner/sequential_runner.py\" target=\"_blank\"><span style=\"color: #7f7f7f; text-decoration-color: #7f7f7f\">sequential_runner.py</span></a><span style=\"color: #7f7f7f; text-decoration-color: #7f7f7f\">:</span><a href=\"file:///home/krzysiek/Development/solvency-modelling/venv/lib/python3.11/site-packages/kedro/runner/sequential_runner.py#90\" target=\"_blank\"><span style=\"color: #7f7f7f; text-decoration-color: #7f7f7f\">90</span></a>\n",
       "</pre>\n"
      ],
      "text/plain": [
       "\u001b[2;36m                   \u001b[0m\u001b[2;36m \u001b[0m\u001b[34mINFO    \u001b[0m Completed \u001b[1;36m1\u001b[0m out of \u001b[1;36m2\u001b[0m tasks                                     \u001b]8;id=817438;file:///home/krzysiek/Development/solvency-modelling/venv/lib/python3.11/site-packages/kedro/runner/sequential_runner.py\u001b\\\u001b[2msequential_runner.py\u001b[0m\u001b]8;;\u001b\\\u001b[2m:\u001b[0m\u001b]8;id=726107;file:///home/krzysiek/Development/solvency-modelling/venv/lib/python3.11/site-packages/kedro/runner/sequential_runner.py#90\u001b\\\u001b[2m90\u001b[0m\u001b]8;;\u001b\\\n"
      ]
     },
     "metadata": {},
     "output_type": "display_data"
    },
    {
     "data": {
      "text/html": [
       "<pre style=\"white-space:pre;overflow-x:auto;line-height:normal;font-family:Menlo,'DejaVu Sans Mono',consolas,'Courier New',monospace\"><span style=\"color: #7fbfbf; text-decoration-color: #7fbfbf\">                    </span><span style=\"color: #000080; text-decoration-color: #000080\">INFO    </span> Loading data from <span style=\"color: #ff8700; text-decoration-color: #ff8700\">config</span> <span style=\"font-weight: bold\">(</span>MemoryDataset<span style=\"font-weight: bold\">)</span><span style=\"color: #808000; text-decoration-color: #808000\">...</span>                        <a href=\"file:///home/krzysiek/Development/solvency-modelling/venv/lib/python3.11/site-packages/kedro/io/data_catalog.py\" target=\"_blank\"><span style=\"color: #7f7f7f; text-decoration-color: #7f7f7f\">data_catalog.py</span></a><span style=\"color: #7f7f7f; text-decoration-color: #7f7f7f\">:</span><a href=\"file:///home/krzysiek/Development/solvency-modelling/venv/lib/python3.11/site-packages/kedro/io/data_catalog.py#483\" target=\"_blank\"><span style=\"color: #7f7f7f; text-decoration-color: #7f7f7f\">483</span></a>\n",
       "</pre>\n"
      ],
      "text/plain": [
       "\u001b[2;36m                   \u001b[0m\u001b[2;36m \u001b[0m\u001b[34mINFO    \u001b[0m Loading data from \u001b[38;5;208mconfig\u001b[0m \u001b[1m(\u001b[0mMemoryDataset\u001b[1m)\u001b[0m\u001b[33m...\u001b[0m                        \u001b]8;id=479529;file:///home/krzysiek/Development/solvency-modelling/venv/lib/python3.11/site-packages/kedro/io/data_catalog.py\u001b\\\u001b[2mdata_catalog.py\u001b[0m\u001b]8;;\u001b\\\u001b[2m:\u001b[0m\u001b]8;id=955378;file:///home/krzysiek/Development/solvency-modelling/venv/lib/python3.11/site-packages/kedro/io/data_catalog.py#483\u001b\\\u001b[2m483\u001b[0m\u001b]8;;\u001b\\\n"
      ]
     },
     "metadata": {},
     "output_type": "display_data"
    },
    {
     "data": {
      "text/html": [
       "<pre style=\"white-space:pre;overflow-x:auto;line-height:normal;font-family:Menlo,'DejaVu Sans Mono',consolas,'Courier New',monospace\"><span style=\"color: #7fbfbf; text-decoration-color: #7fbfbf\">                    </span><span style=\"color: #000080; text-decoration-color: #000080\">INFO    </span> Loading data from <span style=\"color: #ff8700; text-decoration-color: #ff8700\">calibrated_calib_predictions_df</span>                  <a href=\"file:///home/krzysiek/Development/solvency-modelling/venv/lib/python3.11/site-packages/kedro/io/data_catalog.py\" target=\"_blank\"><span style=\"color: #7f7f7f; text-decoration-color: #7f7f7f\">data_catalog.py</span></a><span style=\"color: #7f7f7f; text-decoration-color: #7f7f7f\">:</span><a href=\"file:///home/krzysiek/Development/solvency-modelling/venv/lib/python3.11/site-packages/kedro/io/data_catalog.py#483\" target=\"_blank\"><span style=\"color: #7f7f7f; text-decoration-color: #7f7f7f\">483</span></a>\n",
       "<span style=\"color: #7fbfbf; text-decoration-color: #7fbfbf\">                    </span>         <span style=\"font-weight: bold\">(</span>ParquetDataset<span style=\"font-weight: bold\">)</span><span style=\"color: #808000; text-decoration-color: #808000\">...</span>                                                <span style=\"color: #7f7f7f; text-decoration-color: #7f7f7f\">                   </span>\n",
       "</pre>\n"
      ],
      "text/plain": [
       "\u001b[2;36m                   \u001b[0m\u001b[2;36m \u001b[0m\u001b[34mINFO    \u001b[0m Loading data from \u001b[38;5;208mcalibrated_calib_predictions_df\u001b[0m                  \u001b]8;id=735456;file:///home/krzysiek/Development/solvency-modelling/venv/lib/python3.11/site-packages/kedro/io/data_catalog.py\u001b\\\u001b[2mdata_catalog.py\u001b[0m\u001b]8;;\u001b\\\u001b[2m:\u001b[0m\u001b]8;id=347627;file:///home/krzysiek/Development/solvency-modelling/venv/lib/python3.11/site-packages/kedro/io/data_catalog.py#483\u001b\\\u001b[2m483\u001b[0m\u001b]8;;\u001b\\\n",
       "\u001b[2;36m                    \u001b[0m         \u001b[1m(\u001b[0mParquetDataset\u001b[1m)\u001b[0m\u001b[33m...\u001b[0m                                                \u001b[2m                   \u001b[0m\n"
      ]
     },
     "metadata": {},
     "output_type": "display_data"
    },
    {
     "data": {
      "text/html": [
       "<pre style=\"white-space:pre;overflow-x:auto;line-height:normal;font-family:Menlo,'DejaVu Sans Mono',consolas,'Courier New',monospace\"><span style=\"color: #7fbfbf; text-decoration-color: #7fbfbf\">[06/03/24 20:37:30] </span><span style=\"color: #000080; text-decoration-color: #000080\">INFO    </span> Loading data from <span style=\"color: #ff8700; text-decoration-color: #ff8700\">features_df</span> <span style=\"font-weight: bold\">(</span>ParquetDataset<span style=\"font-weight: bold\">)</span><span style=\"color: #808000; text-decoration-color: #808000\">...</span>                  <a href=\"file:///home/krzysiek/Development/solvency-modelling/venv/lib/python3.11/site-packages/kedro/io/data_catalog.py\" target=\"_blank\"><span style=\"color: #7f7f7f; text-decoration-color: #7f7f7f\">data_catalog.py</span></a><span style=\"color: #7f7f7f; text-decoration-color: #7f7f7f\">:</span><a href=\"file:///home/krzysiek/Development/solvency-modelling/venv/lib/python3.11/site-packages/kedro/io/data_catalog.py#483\" target=\"_blank\"><span style=\"color: #7f7f7f; text-decoration-color: #7f7f7f\">483</span></a>\n",
       "</pre>\n"
      ],
      "text/plain": [
       "\u001b[2;36m[06/03/24 20:37:30]\u001b[0m\u001b[2;36m \u001b[0m\u001b[34mINFO    \u001b[0m Loading data from \u001b[38;5;208mfeatures_df\u001b[0m \u001b[1m(\u001b[0mParquetDataset\u001b[1m)\u001b[0m\u001b[33m...\u001b[0m                  \u001b]8;id=257289;file:///home/krzysiek/Development/solvency-modelling/venv/lib/python3.11/site-packages/kedro/io/data_catalog.py\u001b\\\u001b[2mdata_catalog.py\u001b[0m\u001b]8;;\u001b\\\u001b[2m:\u001b[0m\u001b]8;id=469764;file:///home/krzysiek/Development/solvency-modelling/venv/lib/python3.11/site-packages/kedro/io/data_catalog.py#483\u001b\\\u001b[2m483\u001b[0m\u001b]8;;\u001b\\\n"
      ]
     },
     "metadata": {},
     "output_type": "display_data"
    },
    {
     "data": {
      "text/html": [
       "<pre style=\"white-space:pre;overflow-x:auto;line-height:normal;font-family:Menlo,'DejaVu Sans Mono',consolas,'Courier New',monospace\"><span style=\"color: #7fbfbf; text-decoration-color: #7fbfbf\">                    </span><span style=\"color: #000080; text-decoration-color: #000080\">INFO    </span> Loading data from <span style=\"color: #ff8700; text-decoration-color: #ff8700\">target_df</span> <span style=\"font-weight: bold\">(</span>ParquetDataset<span style=\"font-weight: bold\">)</span><span style=\"color: #808000; text-decoration-color: #808000\">...</span>                    <a href=\"file:///home/krzysiek/Development/solvency-modelling/venv/lib/python3.11/site-packages/kedro/io/data_catalog.py\" target=\"_blank\"><span style=\"color: #7f7f7f; text-decoration-color: #7f7f7f\">data_catalog.py</span></a><span style=\"color: #7f7f7f; text-decoration-color: #7f7f7f\">:</span><a href=\"file:///home/krzysiek/Development/solvency-modelling/venv/lib/python3.11/site-packages/kedro/io/data_catalog.py#483\" target=\"_blank\"><span style=\"color: #7f7f7f; text-decoration-color: #7f7f7f\">483</span></a>\n",
       "</pre>\n"
      ],
      "text/plain": [
       "\u001b[2;36m                   \u001b[0m\u001b[2;36m \u001b[0m\u001b[34mINFO    \u001b[0m Loading data from \u001b[38;5;208mtarget_df\u001b[0m \u001b[1m(\u001b[0mParquetDataset\u001b[1m)\u001b[0m\u001b[33m...\u001b[0m                    \u001b]8;id=262305;file:///home/krzysiek/Development/solvency-modelling/venv/lib/python3.11/site-packages/kedro/io/data_catalog.py\u001b\\\u001b[2mdata_catalog.py\u001b[0m\u001b]8;;\u001b\\\u001b[2m:\u001b[0m\u001b]8;id=745664;file:///home/krzysiek/Development/solvency-modelling/venv/lib/python3.11/site-packages/kedro/io/data_catalog.py#483\u001b\\\u001b[2m483\u001b[0m\u001b]8;;\u001b\\\n"
      ]
     },
     "metadata": {},
     "output_type": "display_data"
    },
    {
     "data": {
      "text/html": [
       "<pre style=\"white-space:pre;overflow-x:auto;line-height:normal;font-family:Menlo,'DejaVu Sans Mono',consolas,'Courier New',monospace\"><span style=\"color: #7fbfbf; text-decoration-color: #7fbfbf\">                    </span><span style=\"color: #000080; text-decoration-color: #000080\">INFO    </span> Loading data from <span style=\"color: #ff8700; text-decoration-color: #ff8700\">test_keys</span> <span style=\"font-weight: bold\">(</span>PickleDataset<span style=\"font-weight: bold\">)</span><span style=\"color: #808000; text-decoration-color: #808000\">...</span>                     <a href=\"file:///home/krzysiek/Development/solvency-modelling/venv/lib/python3.11/site-packages/kedro/io/data_catalog.py\" target=\"_blank\"><span style=\"color: #7f7f7f; text-decoration-color: #7f7f7f\">data_catalog.py</span></a><span style=\"color: #7f7f7f; text-decoration-color: #7f7f7f\">:</span><a href=\"file:///home/krzysiek/Development/solvency-modelling/venv/lib/python3.11/site-packages/kedro/io/data_catalog.py#483\" target=\"_blank\"><span style=\"color: #7f7f7f; text-decoration-color: #7f7f7f\">483</span></a>\n",
       "</pre>\n"
      ],
      "text/plain": [
       "\u001b[2;36m                   \u001b[0m\u001b[2;36m \u001b[0m\u001b[34mINFO    \u001b[0m Loading data from \u001b[38;5;208mtest_keys\u001b[0m \u001b[1m(\u001b[0mPickleDataset\u001b[1m)\u001b[0m\u001b[33m...\u001b[0m                     \u001b]8;id=937627;file:///home/krzysiek/Development/solvency-modelling/venv/lib/python3.11/site-packages/kedro/io/data_catalog.py\u001b\\\u001b[2mdata_catalog.py\u001b[0m\u001b]8;;\u001b\\\u001b[2m:\u001b[0m\u001b]8;id=408886;file:///home/krzysiek/Development/solvency-modelling/venv/lib/python3.11/site-packages/kedro/io/data_catalog.py#483\u001b\\\u001b[2m483\u001b[0m\u001b]8;;\u001b\\\n"
      ]
     },
     "metadata": {},
     "output_type": "display_data"
    },
    {
     "data": {
      "text/html": [
       "<pre style=\"white-space:pre;overflow-x:auto;line-height:normal;font-family:Menlo,'DejaVu Sans Mono',consolas,'Courier New',monospace\"><span style=\"color: #7fbfbf; text-decoration-color: #7fbfbf\">                    </span><span style=\"color: #000080; text-decoration-color: #000080\">INFO    </span> Running node: test_model_and_compute_stats:                                <a href=\"file:///home/krzysiek/Development/solvency-modelling/venv/lib/python3.11/site-packages/kedro/pipeline/node.py\" target=\"_blank\"><span style=\"color: #7f7f7f; text-decoration-color: #7f7f7f\">node.py</span></a><span style=\"color: #7f7f7f; text-decoration-color: #7f7f7f\">:</span><a href=\"file:///home/krzysiek/Development/solvency-modelling/venv/lib/python3.11/site-packages/kedro/pipeline/node.py#340\" target=\"_blank\"><span style=\"color: #7f7f7f; text-decoration-color: #7f7f7f\">340</span></a>\n",
       "<span style=\"color: #7fbfbf; text-decoration-color: #7fbfbf\">                    </span>         <span style=\"color: #800080; text-decoration-color: #800080; font-weight: bold\">test_model_and_compute_stats</span><span style=\"font-weight: bold\">([</span>config;calibrated_calib_predictions_df;featu <span style=\"color: #7f7f7f; text-decoration-color: #7f7f7f\">           </span>\n",
       "<span style=\"color: #7fbfbf; text-decoration-color: #7fbfbf\">                    </span>         res_df;target_df;test_keys<span style=\"font-weight: bold\">])</span> -&gt; <span style=\"font-weight: bold\">[</span>calibrated_test_predictions_df<span style=\"font-weight: bold\">]</span>           <span style=\"color: #7f7f7f; text-decoration-color: #7f7f7f\">           </span>\n",
       "</pre>\n"
      ],
      "text/plain": [
       "\u001b[2;36m                   \u001b[0m\u001b[2;36m \u001b[0m\u001b[34mINFO    \u001b[0m Running node: test_model_and_compute_stats:                                \u001b]8;id=200892;file:///home/krzysiek/Development/solvency-modelling/venv/lib/python3.11/site-packages/kedro/pipeline/node.py\u001b\\\u001b[2mnode.py\u001b[0m\u001b]8;;\u001b\\\u001b[2m:\u001b[0m\u001b]8;id=332545;file:///home/krzysiek/Development/solvency-modelling/venv/lib/python3.11/site-packages/kedro/pipeline/node.py#340\u001b\\\u001b[2m340\u001b[0m\u001b]8;;\u001b\\\n",
       "\u001b[2;36m                    \u001b[0m         \u001b[1;35mtest_model_and_compute_stats\u001b[0m\u001b[1m(\u001b[0m\u001b[1m[\u001b[0mconfig;calibrated_calib_predictions_df;featu \u001b[2m           \u001b[0m\n",
       "\u001b[2;36m                    \u001b[0m         res_df;target_df;test_keys\u001b[1m]\u001b[0m\u001b[1m)\u001b[0m -> \u001b[1m[\u001b[0mcalibrated_test_predictions_df\u001b[1m]\u001b[0m           \u001b[2m           \u001b[0m\n"
      ]
     },
     "metadata": {},
     "output_type": "display_data"
    },
    {
     "data": {
      "text/html": [
       "<pre style=\"white-space:pre;overflow-x:auto;line-height:normal;font-family:Menlo,'DejaVu Sans Mono',consolas,'Courier New',monospace\"><span style=\"color: #7fbfbf; text-decoration-color: #7fbfbf\">                    </span><span style=\"color: #000080; text-decoration-color: #000080\">INFO    </span> Removing outliers from the test dataset<span style=\"color: #808000; text-decoration-color: #808000\">...</span>                                 <a href=\"file:///home/krzysiek/Development/solvency-modelling/solvency_models/src/solvency_models/pipelines/p09_test/utils.py\" target=\"_blank\"><span style=\"color: #7f7f7f; text-decoration-color: #7f7f7f\">utils.py</span></a><span style=\"color: #7f7f7f; text-decoration-color: #7f7f7f\">:</span><a href=\"file:///home/krzysiek/Development/solvency-modelling/solvency_models/src/solvency_models/pipelines/p09_test/utils.py#19\" target=\"_blank\"><span style=\"color: #7f7f7f; text-decoration-color: #7f7f7f\">19</span></a>\n",
       "</pre>\n"
      ],
      "text/plain": [
       "\u001b[2;36m                   \u001b[0m\u001b[2;36m \u001b[0m\u001b[34mINFO    \u001b[0m Removing outliers from the test dataset\u001b[33m...\u001b[0m                                 \u001b]8;id=728971;file:///home/krzysiek/Development/solvency-modelling/solvency_models/src/solvency_models/pipelines/p09_test/utils.py\u001b\\\u001b[2mutils.py\u001b[0m\u001b]8;;\u001b\\\u001b[2m:\u001b[0m\u001b]8;id=662990;file:///home/krzysiek/Development/solvency-modelling/solvency_models/src/solvency_models/pipelines/p09_test/utils.py#19\u001b\\\u001b[2m19\u001b[0m\u001b]8;;\u001b\\\n"
      ]
     },
     "metadata": {},
     "output_type": "display_data"
    },
    {
     "data": {
      "text/html": [
       "<pre style=\"white-space:pre;overflow-x:auto;line-height:normal;font-family:Menlo,'DejaVu Sans Mono',consolas,'Courier New',monospace\"><span style=\"color: #7fbfbf; text-decoration-color: #7fbfbf\">                    </span><span style=\"color: #000080; text-decoration-color: #000080\">INFO    </span> Removing outliers from the test dataset before sampling<span style=\"color: #808000; text-decoration-color: #808000\">...</span>              <a href=\"file:///home/krzysiek/Development/solvency-modelling/solvency_models/src/solvency_models/pipelines/utils/outliers.py\" target=\"_blank\"><span style=\"color: #7f7f7f; text-decoration-color: #7f7f7f\">outliers.py</span></a><span style=\"color: #7f7f7f; text-decoration-color: #7f7f7f\">:</span><a href=\"file:///home/krzysiek/Development/solvency-modelling/solvency_models/src/solvency_models/pipelines/utils/outliers.py#44\" target=\"_blank\"><span style=\"color: #7f7f7f; text-decoration-color: #7f7f7f\">44</span></a>\n",
       "<span style=\"color: #7fbfbf; text-decoration-color: #7fbfbf\">                    </span>             - <span style=\"color: #008080; text-decoration-color: #008080; font-weight: bold\">0</span> targets are greater than <span style=\"color: #008080; text-decoration-color: #008080; font-weight: bold\">1000</span>:                                  <span style=\"color: #7f7f7f; text-decoration-color: #7f7f7f\">              </span>\n",
       "</pre>\n"
      ],
      "text/plain": [
       "\u001b[2;36m                   \u001b[0m\u001b[2;36m \u001b[0m\u001b[34mINFO    \u001b[0m Removing outliers from the test dataset before sampling\u001b[33m...\u001b[0m              \u001b]8;id=495824;file:///home/krzysiek/Development/solvency-modelling/solvency_models/src/solvency_models/pipelines/utils/outliers.py\u001b\\\u001b[2moutliers.py\u001b[0m\u001b]8;;\u001b\\\u001b[2m:\u001b[0m\u001b]8;id=329466;file:///home/krzysiek/Development/solvency-modelling/solvency_models/src/solvency_models/pipelines/utils/outliers.py#44\u001b\\\u001b[2m44\u001b[0m\u001b]8;;\u001b\\\n",
       "\u001b[2;36m                    \u001b[0m             - \u001b[1;36m0\u001b[0m targets are greater than \u001b[1;36m1000\u001b[0m:                                  \u001b[2m              \u001b[0m\n"
      ]
     },
     "metadata": {},
     "output_type": "display_data"
    },
    {
     "data": {
      "text/html": [
       "<pre style=\"white-space:pre;overflow-x:auto;line-height:normal;font-family:Menlo,'DejaVu Sans Mono',consolas,'Courier New',monospace\"><span style=\"color: #7fbfbf; text-decoration-color: #7fbfbf\">                    </span><span style=\"color: #000080; text-decoration-color: #000080\">INFO    </span> Removed the outliers.                                                      <a href=\"file:///home/krzysiek/Development/solvency-modelling/solvency_models/src/solvency_models/pipelines/p09_test/utils.py\" target=\"_blank\"><span style=\"color: #7f7f7f; text-decoration-color: #7f7f7f\">utils.py</span></a><span style=\"color: #7f7f7f; text-decoration-color: #7f7f7f\">:</span><a href=\"file:///home/krzysiek/Development/solvency-modelling/solvency_models/src/solvency_models/pipelines/p09_test/utils.py#28\" target=\"_blank\"><span style=\"color: #7f7f7f; text-decoration-color: #7f7f7f\">28</span></a>\n",
       "</pre>\n"
      ],
      "text/plain": [
       "\u001b[2;36m                   \u001b[0m\u001b[2;36m \u001b[0m\u001b[34mINFO    \u001b[0m Removed the outliers.                                                      \u001b]8;id=995372;file:///home/krzysiek/Development/solvency-modelling/solvency_models/src/solvency_models/pipelines/p09_test/utils.py\u001b\\\u001b[2mutils.py\u001b[0m\u001b]8;;\u001b\\\u001b[2m:\u001b[0m\u001b]8;id=68891;file:///home/krzysiek/Development/solvency-modelling/solvency_models/src/solvency_models/pipelines/p09_test/utils.py#28\u001b\\\u001b[2m28\u001b[0m\u001b]8;;\u001b\\\n"
      ]
     },
     "metadata": {},
     "output_type": "display_data"
    },
    {
     "data": {
      "text/html": [
       "<pre style=\"white-space:pre;overflow-x:auto;line-height:normal;font-family:Menlo,'DejaVu Sans Mono',consolas,'Courier New',monospace\"><span style=\"color: #7fbfbf; text-decoration-color: #7fbfbf\">                    </span><span style=\"color: #000080; text-decoration-color: #000080\">INFO    </span> Creating custom features by the MLFlow scaler model<span style=\"color: #808000; text-decoration-color: #808000\">...</span>           <a href=\"file:///home/krzysiek/Development/solvency-modelling/solvency_models/src/solvency_models/pipelines/p06_data_engineering/utils/custom_features.py\" target=\"_blank\"><span style=\"color: #7f7f7f; text-decoration-color: #7f7f7f\">custom_features.py</span></a><span style=\"color: #7f7f7f; text-decoration-color: #7f7f7f\">:</span><a href=\"file:///home/krzysiek/Development/solvency-modelling/solvency_models/src/solvency_models/pipelines/p06_data_engineering/utils/custom_features.py#61\" target=\"_blank\"><span style=\"color: #7f7f7f; text-decoration-color: #7f7f7f\">61</span></a>\n",
       "</pre>\n"
      ],
      "text/plain": [
       "\u001b[2;36m                   \u001b[0m\u001b[2;36m \u001b[0m\u001b[34mINFO    \u001b[0m Creating custom features by the MLFlow scaler model\u001b[33m...\u001b[0m           \u001b]8;id=96506;file:///home/krzysiek/Development/solvency-modelling/solvency_models/src/solvency_models/pipelines/p06_data_engineering/utils/custom_features.py\u001b\\\u001b[2mcustom_features.py\u001b[0m\u001b]8;;\u001b\\\u001b[2m:\u001b[0m\u001b]8;id=965787;file:///home/krzysiek/Development/solvency-modelling/solvency_models/src/solvency_models/pipelines/p06_data_engineering/utils/custom_features.py#61\u001b\\\u001b[2m61\u001b[0m\u001b]8;;\u001b\\\n"
      ]
     },
     "metadata": {},
     "output_type": "display_data"
    },
    {
     "data": {
      "text/html": [
       "<pre style=\"white-space:pre;overflow-x:auto;line-height:normal;font-family:Menlo,'DejaVu Sans Mono',consolas,'Courier New',monospace\"><span style=\"color: #7fbfbf; text-decoration-color: #7fbfbf\">                    </span><span style=\"color: #000080; text-decoration-color: #000080\">INFO    </span> Using the provided MLFlow run ID: 219322d6b4d84362a07e91be53a66910. <a href=\"file:///home/krzysiek/Development/solvency-modelling/solvency_models/src/solvency_models/pipelines/utils/mlflow_model.py\" target=\"_blank\"><span style=\"color: #7f7f7f; text-decoration-color: #7f7f7f\">mlflow_model.py</span></a><span style=\"color: #7f7f7f; text-decoration-color: #7f7f7f\">:</span><a href=\"file:///home/krzysiek/Development/solvency-modelling/solvency_models/src/solvency_models/pipelines/utils/mlflow_model.py#60\" target=\"_blank\"><span style=\"color: #7f7f7f; text-decoration-color: #7f7f7f\">60</span></a>\n",
       "</pre>\n"
      ],
      "text/plain": [
       "\u001b[2;36m                   \u001b[0m\u001b[2;36m \u001b[0m\u001b[34mINFO    \u001b[0m Using the provided MLFlow run ID: 219322d6b4d84362a07e91be53a66910. \u001b]8;id=799561;file:///home/krzysiek/Development/solvency-modelling/solvency_models/src/solvency_models/pipelines/utils/mlflow_model.py\u001b\\\u001b[2mmlflow_model.py\u001b[0m\u001b]8;;\u001b\\\u001b[2m:\u001b[0m\u001b]8;id=104199;file:///home/krzysiek/Development/solvency-modelling/solvency_models/src/solvency_models/pipelines/utils/mlflow_model.py#60\u001b\\\u001b[2m60\u001b[0m\u001b]8;;\u001b\\\n"
      ]
     },
     "metadata": {},
     "output_type": "display_data"
    },
    {
     "data": {
      "text/html": [
       "<pre style=\"white-space:pre;overflow-x:auto;line-height:normal;font-family:Menlo,'DejaVu Sans Mono',consolas,'Courier New',monospace\"><span style=\"color: #7fbfbf; text-decoration-color: #7fbfbf\">                    </span><span style=\"color: #000080; text-decoration-color: #000080\">INFO    </span> Loading the custom features creator from MLFlow path                <a href=\"file:///home/krzysiek/Development/solvency-modelling/solvency_models/src/solvency_models/pipelines/utils/mlflow_model.py\" target=\"_blank\"><span style=\"color: #7f7f7f; text-decoration-color: #7f7f7f\">mlflow_model.py</span></a><span style=\"color: #7f7f7f; text-decoration-color: #7f7f7f\">:</span><a href=\"file:///home/krzysiek/Development/solvency-modelling/solvency_models/src/solvency_models/pipelines/utils/mlflow_model.py#63\" target=\"_blank\"><span style=\"color: #7f7f7f; text-decoration-color: #7f7f7f\">63</span></a>\n",
       "<span style=\"color: #7fbfbf; text-decoration-color: #7fbfbf\">                    </span>         model_de/custom_features_creator<span style=\"color: #808000; text-decoration-color: #808000\">...</span>                                 <span style=\"color: #7f7f7f; text-decoration-color: #7f7f7f\">                  </span>\n",
       "</pre>\n"
      ],
      "text/plain": [
       "\u001b[2;36m                   \u001b[0m\u001b[2;36m \u001b[0m\u001b[34mINFO    \u001b[0m Loading the custom features creator from MLFlow path                \u001b]8;id=758313;file:///home/krzysiek/Development/solvency-modelling/solvency_models/src/solvency_models/pipelines/utils/mlflow_model.py\u001b\\\u001b[2mmlflow_model.py\u001b[0m\u001b]8;;\u001b\\\u001b[2m:\u001b[0m\u001b]8;id=777036;file:///home/krzysiek/Development/solvency-modelling/solvency_models/src/solvency_models/pipelines/utils/mlflow_model.py#63\u001b\\\u001b[2m63\u001b[0m\u001b]8;;\u001b\\\n",
       "\u001b[2;36m                    \u001b[0m         model_de/custom_features_creator\u001b[33m...\u001b[0m                                 \u001b[2m                  \u001b[0m\n"
      ]
     },
     "metadata": {},
     "output_type": "display_data"
    },
    {
     "data": {
      "application/vnd.jupyter.widget-view+json": {
       "model_id": "c9660ad09e8a4126921b8f13debcc93d",
       "version_major": 2,
       "version_minor": 0
      },
      "text/plain": [
       "Downloading artifacts:   0%|          | 0/9 [00:00<?, ?it/s]"
      ]
     },
     "metadata": {},
     "output_type": "display_data"
    },
    {
     "data": {
      "text/html": [
       "<pre style=\"white-space:pre;overflow-x:auto;line-height:normal;font-family:Menlo,'DejaVu Sans Mono',consolas,'Courier New',monospace\"><span style=\"color: #7fbfbf; text-decoration-color: #7fbfbf\">                    </span><span style=\"color: #000080; text-decoration-color: #000080\">INFO    </span> Successfully loaded the custom features creator of type <span style=\"font-weight: bold\">&lt;</span><span style=\"color: #ff00ff; text-decoration-color: #ff00ff; font-weight: bold\">class</span><span style=\"color: #000000; text-decoration-color: #000000\"> </span>     <a href=\"file:///home/krzysiek/Development/solvency-modelling/solvency_models/src/solvency_models/pipelines/utils/mlflow_model.py\" target=\"_blank\"><span style=\"color: #7f7f7f; text-decoration-color: #7f7f7f\">mlflow_model.py</span></a><span style=\"color: #7f7f7f; text-decoration-color: #7f7f7f\">:</span><a href=\"file:///home/krzysiek/Development/solvency-modelling/solvency_models/src/solvency_models/pipelines/utils/mlflow_model.py#67\" target=\"_blank\"><span style=\"color: #7f7f7f; text-decoration-color: #7f7f7f\">67</span></a>\n",
       "<span style=\"color: #7fbfbf; text-decoration-color: #7fbfbf\">                    </span>         <span style=\"color: #008000; text-decoration-color: #008000\">'solvency_models.pipelines.p06_data_engineering.utils.custom_featur</span> <span style=\"color: #7f7f7f; text-decoration-color: #7f7f7f\">                  </span>\n",
       "<span style=\"color: #7fbfbf; text-decoration-color: #7fbfbf\">                    </span>         <span style=\"color: #008000; text-decoration-color: #008000\">es.AllCustomFeaturesCreatorModel'</span><span style=\"font-weight: bold\">&gt;</span>.                                 <span style=\"color: #7f7f7f; text-decoration-color: #7f7f7f\">                  </span>\n",
       "</pre>\n"
      ],
      "text/plain": [
       "\u001b[2;36m                   \u001b[0m\u001b[2;36m \u001b[0m\u001b[34mINFO    \u001b[0m Successfully loaded the custom features creator of type \u001b[1m<\u001b[0m\u001b[1;95mclass\u001b[0m\u001b[39m \u001b[0m     \u001b]8;id=907031;file:///home/krzysiek/Development/solvency-modelling/solvency_models/src/solvency_models/pipelines/utils/mlflow_model.py\u001b\\\u001b[2mmlflow_model.py\u001b[0m\u001b]8;;\u001b\\\u001b[2m:\u001b[0m\u001b]8;id=684418;file:///home/krzysiek/Development/solvency-modelling/solvency_models/src/solvency_models/pipelines/utils/mlflow_model.py#67\u001b\\\u001b[2m67\u001b[0m\u001b]8;;\u001b\\\n",
       "\u001b[2;36m                    \u001b[0m         \u001b[32m'solvency_models.pipelines.p06_data_engineering.utils.custom_featur\u001b[0m \u001b[2m                  \u001b[0m\n",
       "\u001b[2;36m                    \u001b[0m         \u001b[32mes.AllCustomFeaturesCreatorModel'\u001b[0m\u001b[1m>\u001b[0m.                                 \u001b[2m                  \u001b[0m\n"
      ]
     },
     "metadata": {},
     "output_type": "display_data"
    },
    {
     "data": {
      "text/html": [
       "<pre style=\"white-space:pre;overflow-x:auto;line-height:normal;font-family:Menlo,'DejaVu Sans Mono',consolas,'Courier New',monospace\"><span style=\"color: #7fbfbf; text-decoration-color: #7fbfbf\">                    </span><span style=\"color: #000080; text-decoration-color: #000080\">INFO    </span> Creating the custom features<span style=\"color: #808000; text-decoration-color: #808000\">...</span>                                  <a href=\"file:///home/krzysiek/Development/solvency-modelling/solvency_models/src/solvency_models/pipelines/p06_data_engineering/utils/custom_features.py\" target=\"_blank\"><span style=\"color: #7f7f7f; text-decoration-color: #7f7f7f\">custom_features.py</span></a><span style=\"color: #7f7f7f; text-decoration-color: #7f7f7f\">:</span><a href=\"file:///home/krzysiek/Development/solvency-modelling/solvency_models/src/solvency_models/pipelines/p06_data_engineering/utils/custom_features.py#53\" target=\"_blank\"><span style=\"color: #7f7f7f; text-decoration-color: #7f7f7f\">53</span></a>\n",
       "</pre>\n"
      ],
      "text/plain": [
       "\u001b[2;36m                   \u001b[0m\u001b[2;36m \u001b[0m\u001b[34mINFO    \u001b[0m Creating the custom features\u001b[33m...\u001b[0m                                  \u001b]8;id=884083;file:///home/krzysiek/Development/solvency-modelling/solvency_models/src/solvency_models/pipelines/p06_data_engineering/utils/custom_features.py\u001b\\\u001b[2mcustom_features.py\u001b[0m\u001b]8;;\u001b\\\u001b[2m:\u001b[0m\u001b]8;id=907398;file:///home/krzysiek/Development/solvency-modelling/solvency_models/src/solvency_models/pipelines/p06_data_engineering/utils/custom_features.py#53\u001b\\\u001b[2m53\u001b[0m\u001b]8;;\u001b\\\n"
      ]
     },
     "metadata": {},
     "output_type": "display_data"
    },
    {
     "data": {
      "text/html": [
       "<pre style=\"white-space:pre;overflow-x:auto;line-height:normal;font-family:Menlo,'DejaVu Sans Mono',consolas,'Courier New',monospace\"><span style=\"color: #7fbfbf; text-decoration-color: #7fbfbf\">                    </span><span style=\"color: #000080; text-decoration-color: #000080\">INFO    </span> Created the custom features.                                     <a href=\"file:///home/krzysiek/Development/solvency-modelling/solvency_models/src/solvency_models/pipelines/p06_data_engineering/utils/custom_features.py\" target=\"_blank\"><span style=\"color: #7f7f7f; text-decoration-color: #7f7f7f\">custom_features.py</span></a><span style=\"color: #7f7f7f; text-decoration-color: #7f7f7f\">:</span><a href=\"file:///home/krzysiek/Development/solvency-modelling/solvency_models/src/solvency_models/pipelines/p06_data_engineering/utils/custom_features.py#55\" target=\"_blank\"><span style=\"color: #7f7f7f; text-decoration-color: #7f7f7f\">55</span></a>\n",
       "</pre>\n"
      ],
      "text/plain": [
       "\u001b[2;36m                   \u001b[0m\u001b[2;36m \u001b[0m\u001b[34mINFO    \u001b[0m Created the custom features.                                     \u001b]8;id=918630;file:///home/krzysiek/Development/solvency-modelling/solvency_models/src/solvency_models/pipelines/p06_data_engineering/utils/custom_features.py\u001b\\\u001b[2mcustom_features.py\u001b[0m\u001b]8;;\u001b\\\u001b[2m:\u001b[0m\u001b]8;id=331666;file:///home/krzysiek/Development/solvency-modelling/solvency_models/src/solvency_models/pipelines/p06_data_engineering/utils/custom_features.py#55\u001b\\\u001b[2m55\u001b[0m\u001b]8;;\u001b\\\n"
      ]
     },
     "metadata": {},
     "output_type": "display_data"
    },
    {
     "data": {
      "text/html": [
       "<pre style=\"white-space:pre;overflow-x:auto;line-height:normal;font-family:Menlo,'DejaVu Sans Mono',consolas,'Courier New',monospace\"><span style=\"color: #7fbfbf; text-decoration-color: #7fbfbf\">[06/03/24 20:37:31] </span><span style=\"color: #000080; text-decoration-color: #000080\">INFO    </span> Imputing numerical features by the MLFlow numerical imputer model<span style=\"color: #808000; text-decoration-color: #808000\">...</span>     <a href=\"file:///home/krzysiek/Development/solvency-modelling/solvency_models/src/solvency_models/pipelines/p06_data_engineering/utils/imputer.py\" target=\"_blank\"><span style=\"color: #7f7f7f; text-decoration-color: #7f7f7f\">imputer.py</span></a><span style=\"color: #7f7f7f; text-decoration-color: #7f7f7f\">:</span><a href=\"file:///home/krzysiek/Development/solvency-modelling/solvency_models/src/solvency_models/pipelines/p06_data_engineering/utils/imputer.py#38\" target=\"_blank\"><span style=\"color: #7f7f7f; text-decoration-color: #7f7f7f\">38</span></a>\n",
       "</pre>\n"
      ],
      "text/plain": [
       "\u001b[2;36m[06/03/24 20:37:31]\u001b[0m\u001b[2;36m \u001b[0m\u001b[34mINFO    \u001b[0m Imputing numerical features by the MLFlow numerical imputer model\u001b[33m...\u001b[0m     \u001b]8;id=316500;file:///home/krzysiek/Development/solvency-modelling/solvency_models/src/solvency_models/pipelines/p06_data_engineering/utils/imputer.py\u001b\\\u001b[2mimputer.py\u001b[0m\u001b]8;;\u001b\\\u001b[2m:\u001b[0m\u001b]8;id=29314;file:///home/krzysiek/Development/solvency-modelling/solvency_models/src/solvency_models/pipelines/p06_data_engineering/utils/imputer.py#38\u001b\\\u001b[2m38\u001b[0m\u001b]8;;\u001b\\\n"
      ]
     },
     "metadata": {},
     "output_type": "display_data"
    },
    {
     "data": {
      "text/html": [
       "<pre style=\"white-space:pre;overflow-x:auto;line-height:normal;font-family:Menlo,'DejaVu Sans Mono',consolas,'Courier New',monospace\"><span style=\"color: #7fbfbf; text-decoration-color: #7fbfbf\">                    </span><span style=\"color: #000080; text-decoration-color: #000080\">INFO    </span> Using the provided MLFlow run ID: 219322d6b4d84362a07e91be53a66910.      <a href=\"file:///home/krzysiek/Development/solvency-modelling/solvency_models/src/solvency_models/pipelines/p06_data_engineering/utils/imputer.py\" target=\"_blank\"><span style=\"color: #7f7f7f; text-decoration-color: #7f7f7f\">imputer.py</span></a><span style=\"color: #7f7f7f; text-decoration-color: #7f7f7f\">:</span><a href=\"file:///home/krzysiek/Development/solvency-modelling/solvency_models/src/solvency_models/pipelines/p06_data_engineering/utils/imputer.py#45\" target=\"_blank\"><span style=\"color: #7f7f7f; text-decoration-color: #7f7f7f\">45</span></a>\n",
       "</pre>\n"
      ],
      "text/plain": [
       "\u001b[2;36m                   \u001b[0m\u001b[2;36m \u001b[0m\u001b[34mINFO    \u001b[0m Using the provided MLFlow run ID: 219322d6b4d84362a07e91be53a66910.      \u001b]8;id=216340;file:///home/krzysiek/Development/solvency-modelling/solvency_models/src/solvency_models/pipelines/p06_data_engineering/utils/imputer.py\u001b\\\u001b[2mimputer.py\u001b[0m\u001b]8;;\u001b\\\u001b[2m:\u001b[0m\u001b]8;id=507651;file:///home/krzysiek/Development/solvency-modelling/solvency_models/src/solvency_models/pipelines/p06_data_engineering/utils/imputer.py#45\u001b\\\u001b[2m45\u001b[0m\u001b]8;;\u001b\\\n"
      ]
     },
     "metadata": {},
     "output_type": "display_data"
    },
    {
     "data": {
      "text/html": [
       "<pre style=\"white-space:pre;overflow-x:auto;line-height:normal;font-family:Menlo,'DejaVu Sans Mono',consolas,'Courier New',monospace\"><span style=\"color: #7fbfbf; text-decoration-color: #7fbfbf\">                    </span><span style=\"color: #000080; text-decoration-color: #000080\">INFO    </span> Using the provided MLFlow run ID: 219322d6b4d84362a07e91be53a66910. <a href=\"file:///home/krzysiek/Development/solvency-modelling/solvency_models/src/solvency_models/pipelines/utils/mlflow_model.py\" target=\"_blank\"><span style=\"color: #7f7f7f; text-decoration-color: #7f7f7f\">mlflow_model.py</span></a><span style=\"color: #7f7f7f; text-decoration-color: #7f7f7f\">:</span><a href=\"file:///home/krzysiek/Development/solvency-modelling/solvency_models/src/solvency_models/pipelines/utils/mlflow_model.py#60\" target=\"_blank\"><span style=\"color: #7f7f7f; text-decoration-color: #7f7f7f\">60</span></a>\n",
       "</pre>\n"
      ],
      "text/plain": [
       "\u001b[2;36m                   \u001b[0m\u001b[2;36m \u001b[0m\u001b[34mINFO    \u001b[0m Using the provided MLFlow run ID: 219322d6b4d84362a07e91be53a66910. \u001b]8;id=260574;file:///home/krzysiek/Development/solvency-modelling/solvency_models/src/solvency_models/pipelines/utils/mlflow_model.py\u001b\\\u001b[2mmlflow_model.py\u001b[0m\u001b]8;;\u001b\\\u001b[2m:\u001b[0m\u001b]8;id=438003;file:///home/krzysiek/Development/solvency-modelling/solvency_models/src/solvency_models/pipelines/utils/mlflow_model.py#60\u001b\\\u001b[2m60\u001b[0m\u001b]8;;\u001b\\\n"
      ]
     },
     "metadata": {},
     "output_type": "display_data"
    },
    {
     "data": {
      "text/html": [
       "<pre style=\"white-space:pre;overflow-x:auto;line-height:normal;font-family:Menlo,'DejaVu Sans Mono',consolas,'Courier New',monospace\"><span style=\"color: #7fbfbf; text-decoration-color: #7fbfbf\">                    </span><span style=\"color: #000080; text-decoration-color: #000080\">INFO    </span> Loading the numerical imputer model from MLFlow path                <a href=\"file:///home/krzysiek/Development/solvency-modelling/solvency_models/src/solvency_models/pipelines/utils/mlflow_model.py\" target=\"_blank\"><span style=\"color: #7f7f7f; text-decoration-color: #7f7f7f\">mlflow_model.py</span></a><span style=\"color: #7f7f7f; text-decoration-color: #7f7f7f\">:</span><a href=\"file:///home/krzysiek/Development/solvency-modelling/solvency_models/src/solvency_models/pipelines/utils/mlflow_model.py#63\" target=\"_blank\"><span style=\"color: #7f7f7f; text-decoration-color: #7f7f7f\">63</span></a>\n",
       "<span style=\"color: #7fbfbf; text-decoration-color: #7fbfbf\">                    </span>         model_de/num_imputer<span style=\"color: #808000; text-decoration-color: #808000\">...</span>                                             <span style=\"color: #7f7f7f; text-decoration-color: #7f7f7f\">                  </span>\n",
       "</pre>\n"
      ],
      "text/plain": [
       "\u001b[2;36m                   \u001b[0m\u001b[2;36m \u001b[0m\u001b[34mINFO    \u001b[0m Loading the numerical imputer model from MLFlow path                \u001b]8;id=918469;file:///home/krzysiek/Development/solvency-modelling/solvency_models/src/solvency_models/pipelines/utils/mlflow_model.py\u001b\\\u001b[2mmlflow_model.py\u001b[0m\u001b]8;;\u001b\\\u001b[2m:\u001b[0m\u001b]8;id=94221;file:///home/krzysiek/Development/solvency-modelling/solvency_models/src/solvency_models/pipelines/utils/mlflow_model.py#63\u001b\\\u001b[2m63\u001b[0m\u001b]8;;\u001b\\\n",
       "\u001b[2;36m                    \u001b[0m         model_de/num_imputer\u001b[33m...\u001b[0m                                             \u001b[2m                  \u001b[0m\n"
      ]
     },
     "metadata": {},
     "output_type": "display_data"
    },
    {
     "data": {
      "application/vnd.jupyter.widget-view+json": {
       "model_id": "27596131b3364cceb01e6c3346330d78",
       "version_major": 2,
       "version_minor": 0
      },
      "text/plain": [
       "Downloading artifacts:   0%|          | 0/9 [00:00<?, ?it/s]"
      ]
     },
     "metadata": {},
     "output_type": "display_data"
    },
    {
     "data": {
      "text/html": [
       "<pre style=\"white-space:pre;overflow-x:auto;line-height:normal;font-family:Menlo,'DejaVu Sans Mono',consolas,'Courier New',monospace\"><span style=\"color: #7fbfbf; text-decoration-color: #7fbfbf\">                    </span><span style=\"color: #000080; text-decoration-color: #000080\">INFO    </span> Successfully loaded the numerical imputer model of type <span style=\"font-weight: bold\">&lt;</span><span style=\"color: #ff00ff; text-decoration-color: #ff00ff; font-weight: bold\">class</span><span style=\"color: #000000; text-decoration-color: #000000\"> </span>     <a href=\"file:///home/krzysiek/Development/solvency-modelling/solvency_models/src/solvency_models/pipelines/utils/mlflow_model.py\" target=\"_blank\"><span style=\"color: #7f7f7f; text-decoration-color: #7f7f7f\">mlflow_model.py</span></a><span style=\"color: #7f7f7f; text-decoration-color: #7f7f7f\">:</span><a href=\"file:///home/krzysiek/Development/solvency-modelling/solvency_models/src/solvency_models/pipelines/utils/mlflow_model.py#67\" target=\"_blank\"><span style=\"color: #7f7f7f; text-decoration-color: #7f7f7f\">67</span></a>\n",
       "<span style=\"color: #7fbfbf; text-decoration-color: #7fbfbf\">                    </span>         <span style=\"color: #008000; text-decoration-color: #008000\">'sklearn.impute._base.SimpleImputer'</span><span style=\"font-weight: bold\">&gt;</span>.                              <span style=\"color: #7f7f7f; text-decoration-color: #7f7f7f\">                  </span>\n",
       "</pre>\n"
      ],
      "text/plain": [
       "\u001b[2;36m                   \u001b[0m\u001b[2;36m \u001b[0m\u001b[34mINFO    \u001b[0m Successfully loaded the numerical imputer model of type \u001b[1m<\u001b[0m\u001b[1;95mclass\u001b[0m\u001b[39m \u001b[0m     \u001b]8;id=43153;file:///home/krzysiek/Development/solvency-modelling/solvency_models/src/solvency_models/pipelines/utils/mlflow_model.py\u001b\\\u001b[2mmlflow_model.py\u001b[0m\u001b]8;;\u001b\\\u001b[2m:\u001b[0m\u001b]8;id=523707;file:///home/krzysiek/Development/solvency-modelling/solvency_models/src/solvency_models/pipelines/utils/mlflow_model.py#67\u001b\\\u001b[2m67\u001b[0m\u001b]8;;\u001b\\\n",
       "\u001b[2;36m                    \u001b[0m         \u001b[32m'sklearn.impute._base.SimpleImputer'\u001b[0m\u001b[1m>\u001b[0m.                              \u001b[2m                  \u001b[0m\n"
      ]
     },
     "metadata": {},
     "output_type": "display_data"
    },
    {
     "data": {
      "text/html": [
       "<pre style=\"white-space:pre;overflow-x:auto;line-height:normal;font-family:Menlo,'DejaVu Sans Mono',consolas,'Courier New',monospace\"><span style=\"color: #7fbfbf; text-decoration-color: #7fbfbf\">                    </span><span style=\"color: #000080; text-decoration-color: #000080\">INFO    </span> Imputing numerical features by the loaded model<span style=\"color: #808000; text-decoration-color: #808000\">...</span>                       <a href=\"file:///home/krzysiek/Development/solvency-modelling/solvency_models/src/solvency_models/pipelines/p06_data_engineering/utils/imputer.py\" target=\"_blank\"><span style=\"color: #7f7f7f; text-decoration-color: #7f7f7f\">imputer.py</span></a><span style=\"color: #7f7f7f; text-decoration-color: #7f7f7f\">:</span><a href=\"file:///home/krzysiek/Development/solvency-modelling/solvency_models/src/solvency_models/pipelines/p06_data_engineering/utils/imputer.py#49\" target=\"_blank\"><span style=\"color: #7f7f7f; text-decoration-color: #7f7f7f\">49</span></a>\n",
       "</pre>\n"
      ],
      "text/plain": [
       "\u001b[2;36m                   \u001b[0m\u001b[2;36m \u001b[0m\u001b[34mINFO    \u001b[0m Imputing numerical features by the loaded model\u001b[33m...\u001b[0m                       \u001b]8;id=898173;file:///home/krzysiek/Development/solvency-modelling/solvency_models/src/solvency_models/pipelines/p06_data_engineering/utils/imputer.py\u001b\\\u001b[2mimputer.py\u001b[0m\u001b]8;;\u001b\\\u001b[2m:\u001b[0m\u001b]8;id=475063;file:///home/krzysiek/Development/solvency-modelling/solvency_models/src/solvency_models/pipelines/p06_data_engineering/utils/imputer.py#49\u001b\\\u001b[2m49\u001b[0m\u001b]8;;\u001b\\\n"
      ]
     },
     "metadata": {},
     "output_type": "display_data"
    },
    {
     "data": {
      "text/html": [
       "<pre style=\"white-space:pre;overflow-x:auto;line-height:normal;font-family:Menlo,'DejaVu Sans Mono',consolas,'Courier New',monospace\"><span style=\"color: #7fbfbf; text-decoration-color: #7fbfbf\">                    </span><span style=\"color: #000080; text-decoration-color: #000080\">INFO    </span> Imputed the numerical features.                                          <a href=\"file:///home/krzysiek/Development/solvency-modelling/solvency_models/src/solvency_models/pipelines/p06_data_engineering/utils/imputer.py\" target=\"_blank\"><span style=\"color: #7f7f7f; text-decoration-color: #7f7f7f\">imputer.py</span></a><span style=\"color: #7f7f7f; text-decoration-color: #7f7f7f\">:</span><a href=\"file:///home/krzysiek/Development/solvency-modelling/solvency_models/src/solvency_models/pipelines/p06_data_engineering/utils/imputer.py#51\" target=\"_blank\"><span style=\"color: #7f7f7f; text-decoration-color: #7f7f7f\">51</span></a>\n",
       "</pre>\n"
      ],
      "text/plain": [
       "\u001b[2;36m                   \u001b[0m\u001b[2;36m \u001b[0m\u001b[34mINFO    \u001b[0m Imputed the numerical features.                                          \u001b]8;id=409278;file:///home/krzysiek/Development/solvency-modelling/solvency_models/src/solvency_models/pipelines/p06_data_engineering/utils/imputer.py\u001b\\\u001b[2mimputer.py\u001b[0m\u001b]8;;\u001b\\\u001b[2m:\u001b[0m\u001b]8;id=319936;file:///home/krzysiek/Development/solvency-modelling/solvency_models/src/solvency_models/pipelines/p06_data_engineering/utils/imputer.py#51\u001b\\\u001b[2m51\u001b[0m\u001b]8;;\u001b\\\n"
      ]
     },
     "metadata": {},
     "output_type": "display_data"
    },
    {
     "data": {
      "text/html": [
       "<pre style=\"white-space:pre;overflow-x:auto;line-height:normal;font-family:Menlo,'DejaVu Sans Mono',consolas,'Courier New',monospace\"><span style=\"color: #7fbfbf; text-decoration-color: #7fbfbf\">                    </span><span style=\"color: #000080; text-decoration-color: #000080\">INFO    </span> Scaling features by the MLFlow scaler model<span style=\"color: #808000; text-decoration-color: #808000\">...</span>                            <a href=\"file:///home/krzysiek/Development/solvency-modelling/solvency_models/src/solvency_models/pipelines/p06_data_engineering/utils/scaler.py\" target=\"_blank\"><span style=\"color: #7f7f7f; text-decoration-color: #7f7f7f\">scaler.py</span></a><span style=\"color: #7f7f7f; text-decoration-color: #7f7f7f\">:</span><a href=\"file:///home/krzysiek/Development/solvency-modelling/solvency_models/src/solvency_models/pipelines/p06_data_engineering/utils/scaler.py#28\" target=\"_blank\"><span style=\"color: #7f7f7f; text-decoration-color: #7f7f7f\">28</span></a>\n",
       "</pre>\n"
      ],
      "text/plain": [
       "\u001b[2;36m                   \u001b[0m\u001b[2;36m \u001b[0m\u001b[34mINFO    \u001b[0m Scaling features by the MLFlow scaler model\u001b[33m...\u001b[0m                            \u001b]8;id=637567;file:///home/krzysiek/Development/solvency-modelling/solvency_models/src/solvency_models/pipelines/p06_data_engineering/utils/scaler.py\u001b\\\u001b[2mscaler.py\u001b[0m\u001b]8;;\u001b\\\u001b[2m:\u001b[0m\u001b]8;id=497362;file:///home/krzysiek/Development/solvency-modelling/solvency_models/src/solvency_models/pipelines/p06_data_engineering/utils/scaler.py#28\u001b\\\u001b[2m28\u001b[0m\u001b]8;;\u001b\\\n"
      ]
     },
     "metadata": {},
     "output_type": "display_data"
    },
    {
     "data": {
      "text/html": [
       "<pre style=\"white-space:pre;overflow-x:auto;line-height:normal;font-family:Menlo,'DejaVu Sans Mono',consolas,'Courier New',monospace\"><span style=\"color: #7fbfbf; text-decoration-color: #7fbfbf\">                    </span><span style=\"color: #000080; text-decoration-color: #000080\">INFO    </span> Using the provided MLFlow run ID: 219322d6b4d84362a07e91be53a66910. <a href=\"file:///home/krzysiek/Development/solvency-modelling/solvency_models/src/solvency_models/pipelines/utils/mlflow_model.py\" target=\"_blank\"><span style=\"color: #7f7f7f; text-decoration-color: #7f7f7f\">mlflow_model.py</span></a><span style=\"color: #7f7f7f; text-decoration-color: #7f7f7f\">:</span><a href=\"file:///home/krzysiek/Development/solvency-modelling/solvency_models/src/solvency_models/pipelines/utils/mlflow_model.py#60\" target=\"_blank\"><span style=\"color: #7f7f7f; text-decoration-color: #7f7f7f\">60</span></a>\n",
       "</pre>\n"
      ],
      "text/plain": [
       "\u001b[2;36m                   \u001b[0m\u001b[2;36m \u001b[0m\u001b[34mINFO    \u001b[0m Using the provided MLFlow run ID: 219322d6b4d84362a07e91be53a66910. \u001b]8;id=772582;file:///home/krzysiek/Development/solvency-modelling/solvency_models/src/solvency_models/pipelines/utils/mlflow_model.py\u001b\\\u001b[2mmlflow_model.py\u001b[0m\u001b]8;;\u001b\\\u001b[2m:\u001b[0m\u001b]8;id=193436;file:///home/krzysiek/Development/solvency-modelling/solvency_models/src/solvency_models/pipelines/utils/mlflow_model.py#60\u001b\\\u001b[2m60\u001b[0m\u001b]8;;\u001b\\\n"
      ]
     },
     "metadata": {},
     "output_type": "display_data"
    },
    {
     "data": {
      "text/html": [
       "<pre style=\"white-space:pre;overflow-x:auto;line-height:normal;font-family:Menlo,'DejaVu Sans Mono',consolas,'Courier New',monospace\"><span style=\"color: #7fbfbf; text-decoration-color: #7fbfbf\">                    </span><span style=\"color: #000080; text-decoration-color: #000080\">INFO    </span> Loading the scaler model from MLFlow path model_de/scaler<span style=\"color: #808000; text-decoration-color: #808000\">...</span>        <a href=\"file:///home/krzysiek/Development/solvency-modelling/solvency_models/src/solvency_models/pipelines/utils/mlflow_model.py\" target=\"_blank\"><span style=\"color: #7f7f7f; text-decoration-color: #7f7f7f\">mlflow_model.py</span></a><span style=\"color: #7f7f7f; text-decoration-color: #7f7f7f\">:</span><a href=\"file:///home/krzysiek/Development/solvency-modelling/solvency_models/src/solvency_models/pipelines/utils/mlflow_model.py#63\" target=\"_blank\"><span style=\"color: #7f7f7f; text-decoration-color: #7f7f7f\">63</span></a>\n",
       "</pre>\n"
      ],
      "text/plain": [
       "\u001b[2;36m                   \u001b[0m\u001b[2;36m \u001b[0m\u001b[34mINFO    \u001b[0m Loading the scaler model from MLFlow path model_de/scaler\u001b[33m...\u001b[0m        \u001b]8;id=541982;file:///home/krzysiek/Development/solvency-modelling/solvency_models/src/solvency_models/pipelines/utils/mlflow_model.py\u001b\\\u001b[2mmlflow_model.py\u001b[0m\u001b]8;;\u001b\\\u001b[2m:\u001b[0m\u001b]8;id=643946;file:///home/krzysiek/Development/solvency-modelling/solvency_models/src/solvency_models/pipelines/utils/mlflow_model.py#63\u001b\\\u001b[2m63\u001b[0m\u001b]8;;\u001b\\\n"
      ]
     },
     "metadata": {},
     "output_type": "display_data"
    },
    {
     "data": {
      "application/vnd.jupyter.widget-view+json": {
       "model_id": "3cc42b58b93c481fadc4efb782af422c",
       "version_major": 2,
       "version_minor": 0
      },
      "text/plain": [
       "Downloading artifacts:   0%|          | 0/9 [00:00<?, ?it/s]"
      ]
     },
     "metadata": {},
     "output_type": "display_data"
    },
    {
     "data": {
      "text/html": [
       "<pre style=\"white-space:pre;overflow-x:auto;line-height:normal;font-family:Menlo,'DejaVu Sans Mono',consolas,'Courier New',monospace\"><span style=\"color: #7fbfbf; text-decoration-color: #7fbfbf\">                    </span><span style=\"color: #000080; text-decoration-color: #000080\">INFO    </span> Successfully loaded the scaler model of type <span style=\"font-weight: bold\">&lt;</span><span style=\"color: #ff00ff; text-decoration-color: #ff00ff; font-weight: bold\">class</span><span style=\"color: #000000; text-decoration-color: #000000\"> </span>                <a href=\"file:///home/krzysiek/Development/solvency-modelling/solvency_models/src/solvency_models/pipelines/utils/mlflow_model.py\" target=\"_blank\"><span style=\"color: #7f7f7f; text-decoration-color: #7f7f7f\">mlflow_model.py</span></a><span style=\"color: #7f7f7f; text-decoration-color: #7f7f7f\">:</span><a href=\"file:///home/krzysiek/Development/solvency-modelling/solvency_models/src/solvency_models/pipelines/utils/mlflow_model.py#67\" target=\"_blank\"><span style=\"color: #7f7f7f; text-decoration-color: #7f7f7f\">67</span></a>\n",
       "<span style=\"color: #7fbfbf; text-decoration-color: #7fbfbf\">                    </span>         <span style=\"color: #008000; text-decoration-color: #008000\">'sklearn.preprocessing._data.StandardScaler'</span><span style=\"font-weight: bold\">&gt;</span>.                      <span style=\"color: #7f7f7f; text-decoration-color: #7f7f7f\">                  </span>\n",
       "</pre>\n"
      ],
      "text/plain": [
       "\u001b[2;36m                   \u001b[0m\u001b[2;36m \u001b[0m\u001b[34mINFO    \u001b[0m Successfully loaded the scaler model of type \u001b[1m<\u001b[0m\u001b[1;95mclass\u001b[0m\u001b[39m \u001b[0m                \u001b]8;id=620683;file:///home/krzysiek/Development/solvency-modelling/solvency_models/src/solvency_models/pipelines/utils/mlflow_model.py\u001b\\\u001b[2mmlflow_model.py\u001b[0m\u001b]8;;\u001b\\\u001b[2m:\u001b[0m\u001b]8;id=817864;file:///home/krzysiek/Development/solvency-modelling/solvency_models/src/solvency_models/pipelines/utils/mlflow_model.py#67\u001b\\\u001b[2m67\u001b[0m\u001b]8;;\u001b\\\n",
       "\u001b[2;36m                    \u001b[0m         \u001b[32m'sklearn.preprocessing._data.StandardScaler'\u001b[0m\u001b[1m>\u001b[0m.                      \u001b[2m                  \u001b[0m\n"
      ]
     },
     "metadata": {},
     "output_type": "display_data"
    },
    {
     "data": {
      "text/html": [
       "<pre style=\"white-space:pre;overflow-x:auto;line-height:normal;font-family:Menlo,'DejaVu Sans Mono',consolas,'Courier New',monospace\"><span style=\"color: #7fbfbf; text-decoration-color: #7fbfbf\">                    </span><span style=\"color: #000080; text-decoration-color: #000080\">INFO    </span> Scaled the features.                                                      <a href=\"file:///home/krzysiek/Development/solvency-modelling/solvency_models/src/solvency_models/pipelines/p06_data_engineering/utils/scaler.py\" target=\"_blank\"><span style=\"color: #7f7f7f; text-decoration-color: #7f7f7f\">scaler.py</span></a><span style=\"color: #7f7f7f; text-decoration-color: #7f7f7f\">:</span><a href=\"file:///home/krzysiek/Development/solvency-modelling/solvency_models/src/solvency_models/pipelines/p06_data_engineering/utils/scaler.py#31\" target=\"_blank\"><span style=\"color: #7f7f7f; text-decoration-color: #7f7f7f\">31</span></a>\n",
       "</pre>\n"
      ],
      "text/plain": [
       "\u001b[2;36m                   \u001b[0m\u001b[2;36m \u001b[0m\u001b[34mINFO    \u001b[0m Scaled the features.                                                      \u001b]8;id=569151;file:///home/krzysiek/Development/solvency-modelling/solvency_models/src/solvency_models/pipelines/p06_data_engineering/utils/scaler.py\u001b\\\u001b[2mscaler.py\u001b[0m\u001b]8;;\u001b\\\u001b[2m:\u001b[0m\u001b]8;id=522747;file:///home/krzysiek/Development/solvency-modelling/solvency_models/src/solvency_models/pipelines/p06_data_engineering/utils/scaler.py#31\u001b\\\u001b[2m31\u001b[0m\u001b]8;;\u001b\\\n"
      ]
     },
     "metadata": {},
     "output_type": "display_data"
    },
    {
     "data": {
      "text/html": [
       "<pre style=\"white-space:pre;overflow-x:auto;line-height:normal;font-family:Menlo,'DejaVu Sans Mono',consolas,'Courier New',monospace\"><span style=\"color: #7fbfbf; text-decoration-color: #7fbfbf\">                    </span><span style=\"color: #000080; text-decoration-color: #000080\">INFO    </span> Loading the reducer model<span style=\"color: #808000; text-decoration-color: #808000\">...</span>                                         <a href=\"file:///home/krzysiek/Development/solvency-modelling/solvency_models/src/solvency_models/pipelines/p06_data_engineering/utils/cat_reducer.py\" target=\"_blank\"><span style=\"color: #7f7f7f; text-decoration-color: #7f7f7f\">cat_reducer.py</span></a><span style=\"color: #7f7f7f; text-decoration-color: #7f7f7f\">:</span><a href=\"file:///home/krzysiek/Development/solvency-modelling/solvency_models/src/solvency_models/pipelines/p06_data_engineering/utils/cat_reducer.py#36\" target=\"_blank\"><span style=\"color: #7f7f7f; text-decoration-color: #7f7f7f\">36</span></a>\n",
       "</pre>\n"
      ],
      "text/plain": [
       "\u001b[2;36m                   \u001b[0m\u001b[2;36m \u001b[0m\u001b[34mINFO    \u001b[0m Loading the reducer model\u001b[33m...\u001b[0m                                         \u001b]8;id=578816;file:///home/krzysiek/Development/solvency-modelling/solvency_models/src/solvency_models/pipelines/p06_data_engineering/utils/cat_reducer.py\u001b\\\u001b[2mcat_reducer.py\u001b[0m\u001b]8;;\u001b\\\u001b[2m:\u001b[0m\u001b]8;id=477692;file:///home/krzysiek/Development/solvency-modelling/solvency_models/src/solvency_models/pipelines/p06_data_engineering/utils/cat_reducer.py#36\u001b\\\u001b[2m36\u001b[0m\u001b]8;;\u001b\\\n"
      ]
     },
     "metadata": {},
     "output_type": "display_data"
    },
    {
     "data": {
      "application/vnd.jupyter.widget-view+json": {
       "model_id": "9d5c01ce0e354ae6b1a30fb4335bf168",
       "version_major": 2,
       "version_minor": 0
      },
      "text/plain": [
       "Downloading artifacts:   0%|          | 0/1 [00:00<?, ?it/s]"
      ]
     },
     "metadata": {},
     "output_type": "display_data"
    },
    {
     "data": {
      "text/html": [
       "<pre style=\"white-space:pre;overflow-x:auto;line-height:normal;font-family:Menlo,'DejaVu Sans Mono',consolas,'Courier New',monospace\"><span style=\"color: #7fbfbf; text-decoration-color: #7fbfbf\">                    </span><span style=\"color: #000080; text-decoration-color: #000080\">INFO    </span> Successfully loaded the reducer model.                               <a href=\"file:///home/krzysiek/Development/solvency-modelling/solvency_models/src/solvency_models/pipelines/p06_data_engineering/utils/cat_reducer.py\" target=\"_blank\"><span style=\"color: #7f7f7f; text-decoration-color: #7f7f7f\">cat_reducer.py</span></a><span style=\"color: #7f7f7f; text-decoration-color: #7f7f7f\">:</span><a href=\"file:///home/krzysiek/Development/solvency-modelling/solvency_models/src/solvency_models/pipelines/p06_data_engineering/utils/cat_reducer.py#49\" target=\"_blank\"><span style=\"color: #7f7f7f; text-decoration-color: #7f7f7f\">49</span></a>\n",
       "</pre>\n"
      ],
      "text/plain": [
       "\u001b[2;36m                   \u001b[0m\u001b[2;36m \u001b[0m\u001b[34mINFO    \u001b[0m Successfully loaded the reducer model.                               \u001b]8;id=648628;file:///home/krzysiek/Development/solvency-modelling/solvency_models/src/solvency_models/pipelines/p06_data_engineering/utils/cat_reducer.py\u001b\\\u001b[2mcat_reducer.py\u001b[0m\u001b]8;;\u001b\\\u001b[2m:\u001b[0m\u001b]8;id=969872;file:///home/krzysiek/Development/solvency-modelling/solvency_models/src/solvency_models/pipelines/p06_data_engineering/utils/cat_reducer.py#49\u001b\\\u001b[2m49\u001b[0m\u001b]8;;\u001b\\\n"
      ]
     },
     "metadata": {},
     "output_type": "display_data"
    },
    {
     "data": {
      "text/html": [
       "<pre style=\"white-space:pre;overflow-x:auto;line-height:normal;font-family:Menlo,'DejaVu Sans Mono',consolas,'Courier New',monospace\"><span style=\"color: #7fbfbf; text-decoration-color: #7fbfbf\">                    </span><span style=\"color: #000080; text-decoration-color: #000080\">INFO    </span> Reducing categories<span style=\"color: #808000; text-decoration-color: #808000\">...</span>                                               <a href=\"file:///home/krzysiek/Development/solvency-modelling/solvency_models/src/solvency_models/pipelines/p06_data_engineering/utils/cat_reducer.py\" target=\"_blank\"><span style=\"color: #7f7f7f; text-decoration-color: #7f7f7f\">cat_reducer.py</span></a><span style=\"color: #7f7f7f; text-decoration-color: #7f7f7f\">:</span><a href=\"file:///home/krzysiek/Development/solvency-modelling/solvency_models/src/solvency_models/pipelines/p06_data_engineering/utils/cat_reducer.py#22\" target=\"_blank\"><span style=\"color: #7f7f7f; text-decoration-color: #7f7f7f\">22</span></a>\n",
       "</pre>\n"
      ],
      "text/plain": [
       "\u001b[2;36m                   \u001b[0m\u001b[2;36m \u001b[0m\u001b[34mINFO    \u001b[0m Reducing categories\u001b[33m...\u001b[0m                                               \u001b]8;id=825165;file:///home/krzysiek/Development/solvency-modelling/solvency_models/src/solvency_models/pipelines/p06_data_engineering/utils/cat_reducer.py\u001b\\\u001b[2mcat_reducer.py\u001b[0m\u001b]8;;\u001b\\\u001b[2m:\u001b[0m\u001b]8;id=186587;file:///home/krzysiek/Development/solvency-modelling/solvency_models/src/solvency_models/pipelines/p06_data_engineering/utils/cat_reducer.py#22\u001b\\\u001b[2m22\u001b[0m\u001b]8;;\u001b\\\n"
      ]
     },
     "metadata": {},
     "output_type": "display_data"
    },
    {
     "data": {
      "text/html": [
       "<pre style=\"white-space:pre;overflow-x:auto;line-height:normal;font-family:Menlo,'DejaVu Sans Mono',consolas,'Courier New',monospace\"><span style=\"color: #7fbfbf; text-decoration-color: #7fbfbf\">                    </span><span style=\"color: #000080; text-decoration-color: #000080\">INFO    </span> Reduced the categories.                                              <a href=\"file:///home/krzysiek/Development/solvency-modelling/solvency_models/src/solvency_models/pipelines/p06_data_engineering/utils/cat_reducer.py\" target=\"_blank\"><span style=\"color: #7f7f7f; text-decoration-color: #7f7f7f\">cat_reducer.py</span></a><span style=\"color: #7f7f7f; text-decoration-color: #7f7f7f\">:</span><a href=\"file:///home/krzysiek/Development/solvency-modelling/solvency_models/src/solvency_models/pipelines/p06_data_engineering/utils/cat_reducer.py#28\" target=\"_blank\"><span style=\"color: #7f7f7f; text-decoration-color: #7f7f7f\">28</span></a>\n",
       "</pre>\n"
      ],
      "text/plain": [
       "\u001b[2;36m                   \u001b[0m\u001b[2;36m \u001b[0m\u001b[34mINFO    \u001b[0m Reduced the categories.                                              \u001b]8;id=228497;file:///home/krzysiek/Development/solvency-modelling/solvency_models/src/solvency_models/pipelines/p06_data_engineering/utils/cat_reducer.py\u001b\\\u001b[2mcat_reducer.py\u001b[0m\u001b]8;;\u001b\\\u001b[2m:\u001b[0m\u001b]8;id=514180;file:///home/krzysiek/Development/solvency-modelling/solvency_models/src/solvency_models/pipelines/p06_data_engineering/utils/cat_reducer.py#28\u001b\\\u001b[2m28\u001b[0m\u001b]8;;\u001b\\\n"
      ]
     },
     "metadata": {},
     "output_type": "display_data"
    },
    {
     "data": {
      "text/html": [
       "<pre style=\"white-space:pre;overflow-x:auto;line-height:normal;font-family:Menlo,'DejaVu Sans Mono',consolas,'Courier New',monospace\"><span style=\"color: #7fbfbf; text-decoration-color: #7fbfbf\">                    </span><span style=\"color: #000080; text-decoration-color: #000080\">INFO    </span> Imputing categorical features by the MLFlow categorical imputer model<span style=\"color: #808000; text-decoration-color: #808000\">...</span> <a href=\"file:///home/krzysiek/Development/solvency-modelling/solvency_models/src/solvency_models/pipelines/p06_data_engineering/utils/imputer.py\" target=\"_blank\"><span style=\"color: #7f7f7f; text-decoration-color: #7f7f7f\">imputer.py</span></a><span style=\"color: #7f7f7f; text-decoration-color: #7f7f7f\">:</span><a href=\"file:///home/krzysiek/Development/solvency-modelling/solvency_models/src/solvency_models/pipelines/p06_data_engineering/utils/imputer.py#38\" target=\"_blank\"><span style=\"color: #7f7f7f; text-decoration-color: #7f7f7f\">38</span></a>\n",
       "</pre>\n"
      ],
      "text/plain": [
       "\u001b[2;36m                   \u001b[0m\u001b[2;36m \u001b[0m\u001b[34mINFO    \u001b[0m Imputing categorical features by the MLFlow categorical imputer model\u001b[33m...\u001b[0m \u001b]8;id=168255;file:///home/krzysiek/Development/solvency-modelling/solvency_models/src/solvency_models/pipelines/p06_data_engineering/utils/imputer.py\u001b\\\u001b[2mimputer.py\u001b[0m\u001b]8;;\u001b\\\u001b[2m:\u001b[0m\u001b]8;id=627607;file:///home/krzysiek/Development/solvency-modelling/solvency_models/src/solvency_models/pipelines/p06_data_engineering/utils/imputer.py#38\u001b\\\u001b[2m38\u001b[0m\u001b]8;;\u001b\\\n"
      ]
     },
     "metadata": {},
     "output_type": "display_data"
    },
    {
     "data": {
      "text/html": [
       "<pre style=\"white-space:pre;overflow-x:auto;line-height:normal;font-family:Menlo,'DejaVu Sans Mono',consolas,'Courier New',monospace\"><span style=\"color: #7fbfbf; text-decoration-color: #7fbfbf\">                    </span><span style=\"color: #000080; text-decoration-color: #000080\">INFO    </span> Using the provided MLFlow run ID: 219322d6b4d84362a07e91be53a66910.      <a href=\"file:///home/krzysiek/Development/solvency-modelling/solvency_models/src/solvency_models/pipelines/p06_data_engineering/utils/imputer.py\" target=\"_blank\"><span style=\"color: #7f7f7f; text-decoration-color: #7f7f7f\">imputer.py</span></a><span style=\"color: #7f7f7f; text-decoration-color: #7f7f7f\">:</span><a href=\"file:///home/krzysiek/Development/solvency-modelling/solvency_models/src/solvency_models/pipelines/p06_data_engineering/utils/imputer.py#45\" target=\"_blank\"><span style=\"color: #7f7f7f; text-decoration-color: #7f7f7f\">45</span></a>\n",
       "</pre>\n"
      ],
      "text/plain": [
       "\u001b[2;36m                   \u001b[0m\u001b[2;36m \u001b[0m\u001b[34mINFO    \u001b[0m Using the provided MLFlow run ID: 219322d6b4d84362a07e91be53a66910.      \u001b]8;id=752974;file:///home/krzysiek/Development/solvency-modelling/solvency_models/src/solvency_models/pipelines/p06_data_engineering/utils/imputer.py\u001b\\\u001b[2mimputer.py\u001b[0m\u001b]8;;\u001b\\\u001b[2m:\u001b[0m\u001b]8;id=399986;file:///home/krzysiek/Development/solvency-modelling/solvency_models/src/solvency_models/pipelines/p06_data_engineering/utils/imputer.py#45\u001b\\\u001b[2m45\u001b[0m\u001b]8;;\u001b\\\n"
      ]
     },
     "metadata": {},
     "output_type": "display_data"
    },
    {
     "data": {
      "text/html": [
       "<pre style=\"white-space:pre;overflow-x:auto;line-height:normal;font-family:Menlo,'DejaVu Sans Mono',consolas,'Courier New',monospace\"><span style=\"color: #7fbfbf; text-decoration-color: #7fbfbf\">                    </span><span style=\"color: #000080; text-decoration-color: #000080\">INFO    </span> Using the provided MLFlow run ID: 219322d6b4d84362a07e91be53a66910. <a href=\"file:///home/krzysiek/Development/solvency-modelling/solvency_models/src/solvency_models/pipelines/utils/mlflow_model.py\" target=\"_blank\"><span style=\"color: #7f7f7f; text-decoration-color: #7f7f7f\">mlflow_model.py</span></a><span style=\"color: #7f7f7f; text-decoration-color: #7f7f7f\">:</span><a href=\"file:///home/krzysiek/Development/solvency-modelling/solvency_models/src/solvency_models/pipelines/utils/mlflow_model.py#60\" target=\"_blank\"><span style=\"color: #7f7f7f; text-decoration-color: #7f7f7f\">60</span></a>\n",
       "</pre>\n"
      ],
      "text/plain": [
       "\u001b[2;36m                   \u001b[0m\u001b[2;36m \u001b[0m\u001b[34mINFO    \u001b[0m Using the provided MLFlow run ID: 219322d6b4d84362a07e91be53a66910. \u001b]8;id=565326;file:///home/krzysiek/Development/solvency-modelling/solvency_models/src/solvency_models/pipelines/utils/mlflow_model.py\u001b\\\u001b[2mmlflow_model.py\u001b[0m\u001b]8;;\u001b\\\u001b[2m:\u001b[0m\u001b]8;id=201924;file:///home/krzysiek/Development/solvency-modelling/solvency_models/src/solvency_models/pipelines/utils/mlflow_model.py#60\u001b\\\u001b[2m60\u001b[0m\u001b]8;;\u001b\\\n"
      ]
     },
     "metadata": {},
     "output_type": "display_data"
    },
    {
     "data": {
      "text/html": [
       "<pre style=\"white-space:pre;overflow-x:auto;line-height:normal;font-family:Menlo,'DejaVu Sans Mono',consolas,'Courier New',monospace\"><span style=\"color: #7fbfbf; text-decoration-color: #7fbfbf\">                    </span><span style=\"color: #000080; text-decoration-color: #000080\">INFO    </span> Loading the categorical imputer model from MLFlow path              <a href=\"file:///home/krzysiek/Development/solvency-modelling/solvency_models/src/solvency_models/pipelines/utils/mlflow_model.py\" target=\"_blank\"><span style=\"color: #7f7f7f; text-decoration-color: #7f7f7f\">mlflow_model.py</span></a><span style=\"color: #7f7f7f; text-decoration-color: #7f7f7f\">:</span><a href=\"file:///home/krzysiek/Development/solvency-modelling/solvency_models/src/solvency_models/pipelines/utils/mlflow_model.py#63\" target=\"_blank\"><span style=\"color: #7f7f7f; text-decoration-color: #7f7f7f\">63</span></a>\n",
       "<span style=\"color: #7fbfbf; text-decoration-color: #7fbfbf\">                    </span>         model_de/cat_imputer<span style=\"color: #808000; text-decoration-color: #808000\">...</span>                                             <span style=\"color: #7f7f7f; text-decoration-color: #7f7f7f\">                  </span>\n",
       "</pre>\n"
      ],
      "text/plain": [
       "\u001b[2;36m                   \u001b[0m\u001b[2;36m \u001b[0m\u001b[34mINFO    \u001b[0m Loading the categorical imputer model from MLFlow path              \u001b]8;id=496866;file:///home/krzysiek/Development/solvency-modelling/solvency_models/src/solvency_models/pipelines/utils/mlflow_model.py\u001b\\\u001b[2mmlflow_model.py\u001b[0m\u001b]8;;\u001b\\\u001b[2m:\u001b[0m\u001b]8;id=352945;file:///home/krzysiek/Development/solvency-modelling/solvency_models/src/solvency_models/pipelines/utils/mlflow_model.py#63\u001b\\\u001b[2m63\u001b[0m\u001b]8;;\u001b\\\n",
       "\u001b[2;36m                    \u001b[0m         model_de/cat_imputer\u001b[33m...\u001b[0m                                             \u001b[2m                  \u001b[0m\n"
      ]
     },
     "metadata": {},
     "output_type": "display_data"
    },
    {
     "data": {
      "application/vnd.jupyter.widget-view+json": {
       "model_id": "8bcf1b9bbdc849f1a37c3a40b3644e4b",
       "version_major": 2,
       "version_minor": 0
      },
      "text/plain": [
       "Downloading artifacts:   0%|          | 0/9 [00:00<?, ?it/s]"
      ]
     },
     "metadata": {},
     "output_type": "display_data"
    },
    {
     "data": {
      "text/html": [
       "<pre style=\"white-space:pre;overflow-x:auto;line-height:normal;font-family:Menlo,'DejaVu Sans Mono',consolas,'Courier New',monospace\"><span style=\"color: #7fbfbf; text-decoration-color: #7fbfbf\">[06/03/24 20:37:32] </span><span style=\"color: #000080; text-decoration-color: #000080\">INFO    </span> Successfully loaded the categorical imputer model of type <span style=\"font-weight: bold\">&lt;</span><span style=\"color: #ff00ff; text-decoration-color: #ff00ff; font-weight: bold\">class</span><span style=\"color: #000000; text-decoration-color: #000000\"> </span>   <a href=\"file:///home/krzysiek/Development/solvency-modelling/solvency_models/src/solvency_models/pipelines/utils/mlflow_model.py\" target=\"_blank\"><span style=\"color: #7f7f7f; text-decoration-color: #7f7f7f\">mlflow_model.py</span></a><span style=\"color: #7f7f7f; text-decoration-color: #7f7f7f\">:</span><a href=\"file:///home/krzysiek/Development/solvency-modelling/solvency_models/src/solvency_models/pipelines/utils/mlflow_model.py#67\" target=\"_blank\"><span style=\"color: #7f7f7f; text-decoration-color: #7f7f7f\">67</span></a>\n",
       "<span style=\"color: #7fbfbf; text-decoration-color: #7fbfbf\">                    </span>         <span style=\"color: #008000; text-decoration-color: #008000\">'sklearn.impute._base.SimpleImputer'</span><span style=\"font-weight: bold\">&gt;</span>.                              <span style=\"color: #7f7f7f; text-decoration-color: #7f7f7f\">                  </span>\n",
       "</pre>\n"
      ],
      "text/plain": [
       "\u001b[2;36m[06/03/24 20:37:32]\u001b[0m\u001b[2;36m \u001b[0m\u001b[34mINFO    \u001b[0m Successfully loaded the categorical imputer model of type \u001b[1m<\u001b[0m\u001b[1;95mclass\u001b[0m\u001b[39m \u001b[0m   \u001b]8;id=408131;file:///home/krzysiek/Development/solvency-modelling/solvency_models/src/solvency_models/pipelines/utils/mlflow_model.py\u001b\\\u001b[2mmlflow_model.py\u001b[0m\u001b]8;;\u001b\\\u001b[2m:\u001b[0m\u001b]8;id=727008;file:///home/krzysiek/Development/solvency-modelling/solvency_models/src/solvency_models/pipelines/utils/mlflow_model.py#67\u001b\\\u001b[2m67\u001b[0m\u001b]8;;\u001b\\\n",
       "\u001b[2;36m                    \u001b[0m         \u001b[32m'sklearn.impute._base.SimpleImputer'\u001b[0m\u001b[1m>\u001b[0m.                              \u001b[2m                  \u001b[0m\n"
      ]
     },
     "metadata": {},
     "output_type": "display_data"
    },
    {
     "data": {
      "text/html": [
       "<pre style=\"white-space:pre;overflow-x:auto;line-height:normal;font-family:Menlo,'DejaVu Sans Mono',consolas,'Courier New',monospace\"><span style=\"color: #7fbfbf; text-decoration-color: #7fbfbf\">                    </span><span style=\"color: #000080; text-decoration-color: #000080\">INFO    </span> Imputing categorical features by the loaded model<span style=\"color: #808000; text-decoration-color: #808000\">...</span>                     <a href=\"file:///home/krzysiek/Development/solvency-modelling/solvency_models/src/solvency_models/pipelines/p06_data_engineering/utils/imputer.py\" target=\"_blank\"><span style=\"color: #7f7f7f; text-decoration-color: #7f7f7f\">imputer.py</span></a><span style=\"color: #7f7f7f; text-decoration-color: #7f7f7f\">:</span><a href=\"file:///home/krzysiek/Development/solvency-modelling/solvency_models/src/solvency_models/pipelines/p06_data_engineering/utils/imputer.py#49\" target=\"_blank\"><span style=\"color: #7f7f7f; text-decoration-color: #7f7f7f\">49</span></a>\n",
       "</pre>\n"
      ],
      "text/plain": [
       "\u001b[2;36m                   \u001b[0m\u001b[2;36m \u001b[0m\u001b[34mINFO    \u001b[0m Imputing categorical features by the loaded model\u001b[33m...\u001b[0m                     \u001b]8;id=445882;file:///home/krzysiek/Development/solvency-modelling/solvency_models/src/solvency_models/pipelines/p06_data_engineering/utils/imputer.py\u001b\\\u001b[2mimputer.py\u001b[0m\u001b]8;;\u001b\\\u001b[2m:\u001b[0m\u001b]8;id=150707;file:///home/krzysiek/Development/solvency-modelling/solvency_models/src/solvency_models/pipelines/p06_data_engineering/utils/imputer.py#49\u001b\\\u001b[2m49\u001b[0m\u001b]8;;\u001b\\\n"
      ]
     },
     "metadata": {},
     "output_type": "display_data"
    },
    {
     "data": {
      "text/html": [
       "<pre style=\"white-space:pre;overflow-x:auto;line-height:normal;font-family:Menlo,'DejaVu Sans Mono',consolas,'Courier New',monospace\"><span style=\"color: #7fbfbf; text-decoration-color: #7fbfbf\">                    </span><span style=\"color: #000080; text-decoration-color: #000080\">INFO    </span> Imputed the categorical features.                                        <a href=\"file:///home/krzysiek/Development/solvency-modelling/solvency_models/src/solvency_models/pipelines/p06_data_engineering/utils/imputer.py\" target=\"_blank\"><span style=\"color: #7f7f7f; text-decoration-color: #7f7f7f\">imputer.py</span></a><span style=\"color: #7f7f7f; text-decoration-color: #7f7f7f\">:</span><a href=\"file:///home/krzysiek/Development/solvency-modelling/solvency_models/src/solvency_models/pipelines/p06_data_engineering/utils/imputer.py#51\" target=\"_blank\"><span style=\"color: #7f7f7f; text-decoration-color: #7f7f7f\">51</span></a>\n",
       "</pre>\n"
      ],
      "text/plain": [
       "\u001b[2;36m                   \u001b[0m\u001b[2;36m \u001b[0m\u001b[34mINFO    \u001b[0m Imputed the categorical features.                                        \u001b]8;id=122163;file:///home/krzysiek/Development/solvency-modelling/solvency_models/src/solvency_models/pipelines/p06_data_engineering/utils/imputer.py\u001b\\\u001b[2mimputer.py\u001b[0m\u001b]8;;\u001b\\\u001b[2m:\u001b[0m\u001b]8;id=195418;file:///home/krzysiek/Development/solvency-modelling/solvency_models/src/solvency_models/pipelines/p06_data_engineering/utils/imputer.py#51\u001b\\\u001b[2m51\u001b[0m\u001b]8;;\u001b\\\n"
      ]
     },
     "metadata": {},
     "output_type": "display_data"
    },
    {
     "data": {
      "text/html": [
       "<pre style=\"white-space:pre;overflow-x:auto;line-height:normal;font-family:Menlo,'DejaVu Sans Mono',consolas,'Courier New',monospace\"><span style=\"color: #7fbfbf; text-decoration-color: #7fbfbf\">                    </span><span style=\"color: #000080; text-decoration-color: #000080\">INFO    </span> One-hot encoding features by the MLFlow one hot encoder model<span style=\"color: #808000; text-decoration-color: #808000\">...</span>  <a href=\"file:///home/krzysiek/Development/solvency-modelling/solvency_models/src/solvency_models/pipelines/p06_data_engineering/utils/onehot_encoder.py\" target=\"_blank\"><span style=\"color: #7f7f7f; text-decoration-color: #7f7f7f\">onehot_encoder.py</span></a><span style=\"color: #7f7f7f; text-decoration-color: #7f7f7f\">:</span><a href=\"file:///home/krzysiek/Development/solvency-modelling/solvency_models/src/solvency_models/pipelines/p06_data_engineering/utils/onehot_encoder.py#31\" target=\"_blank\"><span style=\"color: #7f7f7f; text-decoration-color: #7f7f7f\">31</span></a>\n",
       "</pre>\n"
      ],
      "text/plain": [
       "\u001b[2;36m                   \u001b[0m\u001b[2;36m \u001b[0m\u001b[34mINFO    \u001b[0m One-hot encoding features by the MLFlow one hot encoder model\u001b[33m...\u001b[0m  \u001b]8;id=326937;file:///home/krzysiek/Development/solvency-modelling/solvency_models/src/solvency_models/pipelines/p06_data_engineering/utils/onehot_encoder.py\u001b\\\u001b[2monehot_encoder.py\u001b[0m\u001b]8;;\u001b\\\u001b[2m:\u001b[0m\u001b]8;id=829231;file:///home/krzysiek/Development/solvency-modelling/solvency_models/src/solvency_models/pipelines/p06_data_engineering/utils/onehot_encoder.py#31\u001b\\\u001b[2m31\u001b[0m\u001b]8;;\u001b\\\n"
      ]
     },
     "metadata": {},
     "output_type": "display_data"
    },
    {
     "data": {
      "text/html": [
       "<pre style=\"white-space:pre;overflow-x:auto;line-height:normal;font-family:Menlo,'DejaVu Sans Mono',consolas,'Courier New',monospace\"><span style=\"color: #7fbfbf; text-decoration-color: #7fbfbf\">                    </span><span style=\"color: #000080; text-decoration-color: #000080\">INFO    </span> Using the provided MLFlow run ID: 219322d6b4d84362a07e91be53a66910. <a href=\"file:///home/krzysiek/Development/solvency-modelling/solvency_models/src/solvency_models/pipelines/utils/mlflow_model.py\" target=\"_blank\"><span style=\"color: #7f7f7f; text-decoration-color: #7f7f7f\">mlflow_model.py</span></a><span style=\"color: #7f7f7f; text-decoration-color: #7f7f7f\">:</span><a href=\"file:///home/krzysiek/Development/solvency-modelling/solvency_models/src/solvency_models/pipelines/utils/mlflow_model.py#60\" target=\"_blank\"><span style=\"color: #7f7f7f; text-decoration-color: #7f7f7f\">60</span></a>\n",
       "</pre>\n"
      ],
      "text/plain": [
       "\u001b[2;36m                   \u001b[0m\u001b[2;36m \u001b[0m\u001b[34mINFO    \u001b[0m Using the provided MLFlow run ID: 219322d6b4d84362a07e91be53a66910. \u001b]8;id=538066;file:///home/krzysiek/Development/solvency-modelling/solvency_models/src/solvency_models/pipelines/utils/mlflow_model.py\u001b\\\u001b[2mmlflow_model.py\u001b[0m\u001b]8;;\u001b\\\u001b[2m:\u001b[0m\u001b]8;id=185682;file:///home/krzysiek/Development/solvency-modelling/solvency_models/src/solvency_models/pipelines/utils/mlflow_model.py#60\u001b\\\u001b[2m60\u001b[0m\u001b]8;;\u001b\\\n"
      ]
     },
     "metadata": {},
     "output_type": "display_data"
    },
    {
     "data": {
      "text/html": [
       "<pre style=\"white-space:pre;overflow-x:auto;line-height:normal;font-family:Menlo,'DejaVu Sans Mono',consolas,'Courier New',monospace\"><span style=\"color: #7fbfbf; text-decoration-color: #7fbfbf\">                    </span><span style=\"color: #000080; text-decoration-color: #000080\">INFO    </span> Loading the one-hot encoder model from MLFlow path model_de/ohe<span style=\"color: #808000; text-decoration-color: #808000\">...</span>  <a href=\"file:///home/krzysiek/Development/solvency-modelling/solvency_models/src/solvency_models/pipelines/utils/mlflow_model.py\" target=\"_blank\"><span style=\"color: #7f7f7f; text-decoration-color: #7f7f7f\">mlflow_model.py</span></a><span style=\"color: #7f7f7f; text-decoration-color: #7f7f7f\">:</span><a href=\"file:///home/krzysiek/Development/solvency-modelling/solvency_models/src/solvency_models/pipelines/utils/mlflow_model.py#63\" target=\"_blank\"><span style=\"color: #7f7f7f; text-decoration-color: #7f7f7f\">63</span></a>\n",
       "</pre>\n"
      ],
      "text/plain": [
       "\u001b[2;36m                   \u001b[0m\u001b[2;36m \u001b[0m\u001b[34mINFO    \u001b[0m Loading the one-hot encoder model from MLFlow path model_de/ohe\u001b[33m...\u001b[0m  \u001b]8;id=473058;file:///home/krzysiek/Development/solvency-modelling/solvency_models/src/solvency_models/pipelines/utils/mlflow_model.py\u001b\\\u001b[2mmlflow_model.py\u001b[0m\u001b]8;;\u001b\\\u001b[2m:\u001b[0m\u001b]8;id=383486;file:///home/krzysiek/Development/solvency-modelling/solvency_models/src/solvency_models/pipelines/utils/mlflow_model.py#63\u001b\\\u001b[2m63\u001b[0m\u001b]8;;\u001b\\\n"
      ]
     },
     "metadata": {},
     "output_type": "display_data"
    },
    {
     "data": {
      "application/vnd.jupyter.widget-view+json": {
       "model_id": "1dbc1207b4394829b24047fbabf279d4",
       "version_major": 2,
       "version_minor": 0
      },
      "text/plain": [
       "Downloading artifacts:   0%|          | 0/9 [00:00<?, ?it/s]"
      ]
     },
     "metadata": {},
     "output_type": "display_data"
    },
    {
     "data": {
      "text/html": [
       "<pre style=\"white-space:pre;overflow-x:auto;line-height:normal;font-family:Menlo,'DejaVu Sans Mono',consolas,'Courier New',monospace\"><span style=\"color: #7fbfbf; text-decoration-color: #7fbfbf\">                    </span><span style=\"color: #000080; text-decoration-color: #000080\">INFO    </span> Successfully loaded the one-hot encoder model of type <span style=\"font-weight: bold\">&lt;</span><span style=\"color: #ff00ff; text-decoration-color: #ff00ff; font-weight: bold\">class</span><span style=\"color: #000000; text-decoration-color: #000000\"> </span>       <a href=\"file:///home/krzysiek/Development/solvency-modelling/solvency_models/src/solvency_models/pipelines/utils/mlflow_model.py\" target=\"_blank\"><span style=\"color: #7f7f7f; text-decoration-color: #7f7f7f\">mlflow_model.py</span></a><span style=\"color: #7f7f7f; text-decoration-color: #7f7f7f\">:</span><a href=\"file:///home/krzysiek/Development/solvency-modelling/solvency_models/src/solvency_models/pipelines/utils/mlflow_model.py#67\" target=\"_blank\"><span style=\"color: #7f7f7f; text-decoration-color: #7f7f7f\">67</span></a>\n",
       "<span style=\"color: #7fbfbf; text-decoration-color: #7fbfbf\">                    </span>         <span style=\"color: #008000; text-decoration-color: #008000\">'sklearn.preprocessing._encoders.OneHotEncoder'</span><span style=\"font-weight: bold\">&gt;</span>.                   <span style=\"color: #7f7f7f; text-decoration-color: #7f7f7f\">                  </span>\n",
       "</pre>\n"
      ],
      "text/plain": [
       "\u001b[2;36m                   \u001b[0m\u001b[2;36m \u001b[0m\u001b[34mINFO    \u001b[0m Successfully loaded the one-hot encoder model of type \u001b[1m<\u001b[0m\u001b[1;95mclass\u001b[0m\u001b[39m \u001b[0m       \u001b]8;id=388731;file:///home/krzysiek/Development/solvency-modelling/solvency_models/src/solvency_models/pipelines/utils/mlflow_model.py\u001b\\\u001b[2mmlflow_model.py\u001b[0m\u001b]8;;\u001b\\\u001b[2m:\u001b[0m\u001b]8;id=760777;file:///home/krzysiek/Development/solvency-modelling/solvency_models/src/solvency_models/pipelines/utils/mlflow_model.py#67\u001b\\\u001b[2m67\u001b[0m\u001b]8;;\u001b\\\n",
       "\u001b[2;36m                    \u001b[0m         \u001b[32m'sklearn.preprocessing._encoders.OneHotEncoder'\u001b[0m\u001b[1m>\u001b[0m.                   \u001b[2m                  \u001b[0m\n"
      ]
     },
     "metadata": {},
     "output_type": "display_data"
    },
    {
     "data": {
      "text/html": [
       "<pre style=\"white-space:pre;overflow-x:auto;line-height:normal;font-family:Menlo,'DejaVu Sans Mono',consolas,'Courier New',monospace\"><span style=\"color: #7fbfbf; text-decoration-color: #7fbfbf\">                    </span><span style=\"color: #000080; text-decoration-color: #000080\">INFO    </span> One-hot encoded the features.                                     <a href=\"file:///home/krzysiek/Development/solvency-modelling/solvency_models/src/solvency_models/pipelines/p06_data_engineering/utils/onehot_encoder.py\" target=\"_blank\"><span style=\"color: #7f7f7f; text-decoration-color: #7f7f7f\">onehot_encoder.py</span></a><span style=\"color: #7f7f7f; text-decoration-color: #7f7f7f\">:</span><a href=\"file:///home/krzysiek/Development/solvency-modelling/solvency_models/src/solvency_models/pipelines/p06_data_engineering/utils/onehot_encoder.py#34\" target=\"_blank\"><span style=\"color: #7f7f7f; text-decoration-color: #7f7f7f\">34</span></a>\n",
       "</pre>\n"
      ],
      "text/plain": [
       "\u001b[2;36m                   \u001b[0m\u001b[2;36m \u001b[0m\u001b[34mINFO    \u001b[0m One-hot encoded the features.                                     \u001b]8;id=843985;file:///home/krzysiek/Development/solvency-modelling/solvency_models/src/solvency_models/pipelines/p06_data_engineering/utils/onehot_encoder.py\u001b\\\u001b[2monehot_encoder.py\u001b[0m\u001b]8;;\u001b\\\u001b[2m:\u001b[0m\u001b]8;id=851505;file:///home/krzysiek/Development/solvency-modelling/solvency_models/src/solvency_models/pipelines/p06_data_engineering/utils/onehot_encoder.py#34\u001b\\\u001b[2m34\u001b[0m\u001b]8;;\u001b\\\n"
      ]
     },
     "metadata": {},
     "output_type": "display_data"
    },
    {
     "data": {
      "text/html": [
       "<pre style=\"white-space:pre;overflow-x:auto;line-height:normal;font-family:Menlo,'DejaVu Sans Mono',consolas,'Courier New',monospace\"><span style=\"color: #7fbfbf; text-decoration-color: #7fbfbf\">                    </span><span style=\"color: #000080; text-decoration-color: #000080\">INFO    </span> <span style=\"color: #008080; text-decoration-color: #008080; font-weight: bold\">5</span> categorical features were one-hot encoded to <span style=\"color: #008080; text-decoration-color: #008080; font-weight: bold\">46</span> columns.        <a href=\"file:///home/krzysiek/Development/solvency-modelling/solvency_models/src/solvency_models/pipelines/p06_data_engineering/utils/onehot_encoder.py\" target=\"_blank\"><span style=\"color: #7f7f7f; text-decoration-color: #7f7f7f\">onehot_encoder.py</span></a><span style=\"color: #7f7f7f; text-decoration-color: #7f7f7f\">:</span><a href=\"file:///home/krzysiek/Development/solvency-modelling/solvency_models/src/solvency_models/pipelines/p06_data_engineering/utils/onehot_encoder.py#22\" target=\"_blank\"><span style=\"color: #7f7f7f; text-decoration-color: #7f7f7f\">22</span></a>\n",
       "</pre>\n"
      ],
      "text/plain": [
       "\u001b[2;36m                   \u001b[0m\u001b[2;36m \u001b[0m\u001b[34mINFO    \u001b[0m \u001b[1;36m5\u001b[0m categorical features were one-hot encoded to \u001b[1;36m46\u001b[0m columns.        \u001b]8;id=37970;file:///home/krzysiek/Development/solvency-modelling/solvency_models/src/solvency_models/pipelines/p06_data_engineering/utils/onehot_encoder.py\u001b\\\u001b[2monehot_encoder.py\u001b[0m\u001b]8;;\u001b\\\u001b[2m:\u001b[0m\u001b]8;id=581193;file:///home/krzysiek/Development/solvency-modelling/solvency_models/src/solvency_models/pipelines/p06_data_engineering/utils/onehot_encoder.py#22\u001b\\\u001b[2m22\u001b[0m\u001b]8;;\u001b\\\n"
      ]
     },
     "metadata": {},
     "output_type": "display_data"
    },
    {
     "data": {
      "text/html": [
       "<pre style=\"white-space:pre;overflow-x:auto;line-height:normal;font-family:Menlo,'DejaVu Sans Mono',consolas,'Courier New',monospace\"><span style=\"color: #7fbfbf; text-decoration-color: #7fbfbf\">                    </span><span style=\"color: #000080; text-decoration-color: #000080\">INFO    </span> Selecting features by the MLFlow model<span style=\"color: #808000; text-decoration-color: #808000\">...</span>                                 <a href=\"file:///home/krzysiek/Development/solvency-modelling/solvency_models/src/solvency_models/pipelines/p07_data_science/select.py\" target=\"_blank\"><span style=\"color: #7f7f7f; text-decoration-color: #7f7f7f\">select.py</span></a><span style=\"color: #7f7f7f; text-decoration-color: #7f7f7f\">:</span><a href=\"file:///home/krzysiek/Development/solvency-modelling/solvency_models/src/solvency_models/pipelines/p07_data_science/select.py#68\" target=\"_blank\"><span style=\"color: #7f7f7f; text-decoration-color: #7f7f7f\">68</span></a>\n",
       "</pre>\n"
      ],
      "text/plain": [
       "\u001b[2;36m                   \u001b[0m\u001b[2;36m \u001b[0m\u001b[34mINFO    \u001b[0m Selecting features by the MLFlow model\u001b[33m...\u001b[0m                                 \u001b]8;id=204722;file:///home/krzysiek/Development/solvency-modelling/solvency_models/src/solvency_models/pipelines/p07_data_science/select.py\u001b\\\u001b[2mselect.py\u001b[0m\u001b]8;;\u001b\\\u001b[2m:\u001b[0m\u001b]8;id=4492;file:///home/krzysiek/Development/solvency-modelling/solvency_models/src/solvency_models/pipelines/p07_data_science/select.py#68\u001b\\\u001b[2m68\u001b[0m\u001b]8;;\u001b\\\n"
      ]
     },
     "metadata": {},
     "output_type": "display_data"
    },
    {
     "data": {
      "text/html": [
       "<pre style=\"white-space:pre;overflow-x:auto;line-height:normal;font-family:Menlo,'DejaVu Sans Mono',consolas,'Courier New',monospace\"><span style=\"color: #7fbfbf; text-decoration-color: #7fbfbf\">                    </span><span style=\"color: #000080; text-decoration-color: #000080\">INFO    </span> Using the provided MLFlow run ID: 219322d6b4d84362a07e91be53a66910. <a href=\"file:///home/krzysiek/Development/solvency-modelling/solvency_models/src/solvency_models/pipelines/utils/mlflow_model.py\" target=\"_blank\"><span style=\"color: #7f7f7f; text-decoration-color: #7f7f7f\">mlflow_model.py</span></a><span style=\"color: #7f7f7f; text-decoration-color: #7f7f7f\">:</span><a href=\"file:///home/krzysiek/Development/solvency-modelling/solvency_models/src/solvency_models/pipelines/utils/mlflow_model.py#60\" target=\"_blank\"><span style=\"color: #7f7f7f; text-decoration-color: #7f7f7f\">60</span></a>\n",
       "</pre>\n"
      ],
      "text/plain": [
       "\u001b[2;36m                   \u001b[0m\u001b[2;36m \u001b[0m\u001b[34mINFO    \u001b[0m Using the provided MLFlow run ID: 219322d6b4d84362a07e91be53a66910. \u001b]8;id=711659;file:///home/krzysiek/Development/solvency-modelling/solvency_models/src/solvency_models/pipelines/utils/mlflow_model.py\u001b\\\u001b[2mmlflow_model.py\u001b[0m\u001b]8;;\u001b\\\u001b[2m:\u001b[0m\u001b]8;id=813793;file:///home/krzysiek/Development/solvency-modelling/solvency_models/src/solvency_models/pipelines/utils/mlflow_model.py#60\u001b\\\u001b[2m60\u001b[0m\u001b]8;;\u001b\\\n"
      ]
     },
     "metadata": {},
     "output_type": "display_data"
    },
    {
     "data": {
      "text/html": [
       "<pre style=\"white-space:pre;overflow-x:auto;line-height:normal;font-family:Menlo,'DejaVu Sans Mono',consolas,'Courier New',monospace\"><span style=\"color: #7fbfbf; text-decoration-color: #7fbfbf\">                    </span><span style=\"color: #000080; text-decoration-color: #000080\">INFO    </span> Loading the features selector model from MLFlow path                <a href=\"file:///home/krzysiek/Development/solvency-modelling/solvency_models/src/solvency_models/pipelines/utils/mlflow_model.py\" target=\"_blank\"><span style=\"color: #7f7f7f; text-decoration-color: #7f7f7f\">mlflow_model.py</span></a><span style=\"color: #7f7f7f; text-decoration-color: #7f7f7f\">:</span><a href=\"file:///home/krzysiek/Development/solvency-modelling/solvency_models/src/solvency_models/pipelines/utils/mlflow_model.py#63\" target=\"_blank\"><span style=\"color: #7f7f7f; text-decoration-color: #7f7f7f\">63</span></a>\n",
       "<span style=\"color: #7fbfbf; text-decoration-color: #7fbfbf\">                    </span>         model_ds/selector<span style=\"color: #808000; text-decoration-color: #808000\">...</span>                                                <span style=\"color: #7f7f7f; text-decoration-color: #7f7f7f\">                  </span>\n",
       "</pre>\n"
      ],
      "text/plain": [
       "\u001b[2;36m                   \u001b[0m\u001b[2;36m \u001b[0m\u001b[34mINFO    \u001b[0m Loading the features selector model from MLFlow path                \u001b]8;id=594732;file:///home/krzysiek/Development/solvency-modelling/solvency_models/src/solvency_models/pipelines/utils/mlflow_model.py\u001b\\\u001b[2mmlflow_model.py\u001b[0m\u001b]8;;\u001b\\\u001b[2m:\u001b[0m\u001b]8;id=58870;file:///home/krzysiek/Development/solvency-modelling/solvency_models/src/solvency_models/pipelines/utils/mlflow_model.py#63\u001b\\\u001b[2m63\u001b[0m\u001b]8;;\u001b\\\n",
       "\u001b[2;36m                    \u001b[0m         model_ds/selector\u001b[33m...\u001b[0m                                                \u001b[2m                  \u001b[0m\n"
      ]
     },
     "metadata": {},
     "output_type": "display_data"
    },
    {
     "data": {
      "application/vnd.jupyter.widget-view+json": {
       "model_id": "1f3725b0fa264f1c8e86f0e290c84fa4",
       "version_major": 2,
       "version_minor": 0
      },
      "text/plain": [
       "Downloading artifacts:   0%|          | 0/9 [00:00<?, ?it/s]"
      ]
     },
     "metadata": {},
     "output_type": "display_data"
    },
    {
     "data": {
      "text/html": [
       "<pre style=\"white-space:pre;overflow-x:auto;line-height:normal;font-family:Menlo,'DejaVu Sans Mono',consolas,'Courier New',monospace\"><span style=\"color: #7fbfbf; text-decoration-color: #7fbfbf\">                    </span><span style=\"color: #000080; text-decoration-color: #000080\">INFO    </span> Successfully loaded the features selector model of type <span style=\"font-weight: bold\">&lt;</span><span style=\"color: #ff00ff; text-decoration-color: #ff00ff; font-weight: bold\">class</span><span style=\"color: #000000; text-decoration-color: #000000\"> </span>     <a href=\"file:///home/krzysiek/Development/solvency-modelling/solvency_models/src/solvency_models/pipelines/utils/mlflow_model.py\" target=\"_blank\"><span style=\"color: #7f7f7f; text-decoration-color: #7f7f7f\">mlflow_model.py</span></a><span style=\"color: #7f7f7f; text-decoration-color: #7f7f7f\">:</span><a href=\"file:///home/krzysiek/Development/solvency-modelling/solvency_models/src/solvency_models/pipelines/utils/mlflow_model.py#67\" target=\"_blank\"><span style=\"color: #7f7f7f; text-decoration-color: #7f7f7f\">67</span></a>\n",
       "<span style=\"color: #7fbfbf; text-decoration-color: #7fbfbf\">                    </span>         <span style=\"color: #008000; text-decoration-color: #008000\">'solvency_models.pipelines.p07_data_science.selectors.lasso.LassoFe</span> <span style=\"color: #7f7f7f; text-decoration-color: #7f7f7f\">                  </span>\n",
       "<span style=\"color: #7fbfbf; text-decoration-color: #7fbfbf\">                    </span>         <span style=\"color: #008000; text-decoration-color: #008000\">atureSelector'</span><span style=\"font-weight: bold\">&gt;</span>.                                                    <span style=\"color: #7f7f7f; text-decoration-color: #7f7f7f\">                  </span>\n",
       "</pre>\n"
      ],
      "text/plain": [
       "\u001b[2;36m                   \u001b[0m\u001b[2;36m \u001b[0m\u001b[34mINFO    \u001b[0m Successfully loaded the features selector model of type \u001b[1m<\u001b[0m\u001b[1;95mclass\u001b[0m\u001b[39m \u001b[0m     \u001b]8;id=304700;file:///home/krzysiek/Development/solvency-modelling/solvency_models/src/solvency_models/pipelines/utils/mlflow_model.py\u001b\\\u001b[2mmlflow_model.py\u001b[0m\u001b]8;;\u001b\\\u001b[2m:\u001b[0m\u001b]8;id=401624;file:///home/krzysiek/Development/solvency-modelling/solvency_models/src/solvency_models/pipelines/utils/mlflow_model.py#67\u001b\\\u001b[2m67\u001b[0m\u001b]8;;\u001b\\\n",
       "\u001b[2;36m                    \u001b[0m         \u001b[32m'solvency_models.pipelines.p07_data_science.selectors.lasso.LassoFe\u001b[0m \u001b[2m                  \u001b[0m\n",
       "\u001b[2;36m                    \u001b[0m         \u001b[32matureSelector'\u001b[0m\u001b[1m>\u001b[0m.                                                    \u001b[2m                  \u001b[0m\n"
      ]
     },
     "metadata": {},
     "output_type": "display_data"
    },
    {
     "data": {
      "text/html": [
       "<pre style=\"white-space:pre;overflow-x:auto;line-height:normal;font-family:Menlo,'DejaVu Sans Mono',consolas,'Courier New',monospace\"><span style=\"color: #7fbfbf; text-decoration-color: #7fbfbf\">                    </span><span style=\"color: #000080; text-decoration-color: #000080\">INFO    </span> Selected the features.                                                    <a href=\"file:///home/krzysiek/Development/solvency-modelling/solvency_models/src/solvency_models/pipelines/p07_data_science/select.py\" target=\"_blank\"><span style=\"color: #7f7f7f; text-decoration-color: #7f7f7f\">select.py</span></a><span style=\"color: #7f7f7f; text-decoration-color: #7f7f7f\">:</span><a href=\"file:///home/krzysiek/Development/solvency-modelling/solvency_models/src/solvency_models/pipelines/p07_data_science/select.py#74\" target=\"_blank\"><span style=\"color: #7f7f7f; text-decoration-color: #7f7f7f\">74</span></a>\n",
       "</pre>\n"
      ],
      "text/plain": [
       "\u001b[2;36m                   \u001b[0m\u001b[2;36m \u001b[0m\u001b[34mINFO    \u001b[0m Selected the features.                                                    \u001b]8;id=975510;file:///home/krzysiek/Development/solvency-modelling/solvency_models/src/solvency_models/pipelines/p07_data_science/select.py\u001b\\\u001b[2mselect.py\u001b[0m\u001b]8;;\u001b\\\u001b[2m:\u001b[0m\u001b]8;id=409279;file:///home/krzysiek/Development/solvency-modelling/solvency_models/src/solvency_models/pipelines/p07_data_science/select.py#74\u001b\\\u001b[2m74\u001b[0m\u001b]8;;\u001b\\\n"
      ]
     },
     "metadata": {},
     "output_type": "display_data"
    },
    {
     "data": {
      "text/html": [
       "<pre style=\"white-space:pre;overflow-x:auto;line-height:normal;font-family:Menlo,'DejaVu Sans Mono',consolas,'Courier New',monospace\"><span style=\"color: #7fbfbf; text-decoration-color: #7fbfbf\">                    </span><span style=\"color: #000080; text-decoration-color: #000080\">INFO    </span> Predicting the target by the MLFlow model<span style=\"color: #808000; text-decoration-color: #808000\">...</span>                               <a href=\"file:///home/krzysiek/Development/solvency-modelling/solvency_models/src/solvency_models/pipelines/p07_data_science/model.py\" target=\"_blank\"><span style=\"color: #7f7f7f; text-decoration-color: #7f7f7f\">model.py</span></a><span style=\"color: #7f7f7f; text-decoration-color: #7f7f7f\">:</span><a href=\"file:///home/krzysiek/Development/solvency-modelling/solvency_models/src/solvency_models/pipelines/p07_data_science/model.py#88\" target=\"_blank\"><span style=\"color: #7f7f7f; text-decoration-color: #7f7f7f\">88</span></a>\n",
       "</pre>\n"
      ],
      "text/plain": [
       "\u001b[2;36m                   \u001b[0m\u001b[2;36m \u001b[0m\u001b[34mINFO    \u001b[0m Predicting the target by the MLFlow model\u001b[33m...\u001b[0m                               \u001b]8;id=501244;file:///home/krzysiek/Development/solvency-modelling/solvency_models/src/solvency_models/pipelines/p07_data_science/model.py\u001b\\\u001b[2mmodel.py\u001b[0m\u001b]8;;\u001b\\\u001b[2m:\u001b[0m\u001b]8;id=562915;file:///home/krzysiek/Development/solvency-modelling/solvency_models/src/solvency_models/pipelines/p07_data_science/model.py#88\u001b\\\u001b[2m88\u001b[0m\u001b]8;;\u001b\\\n"
      ]
     },
     "metadata": {},
     "output_type": "display_data"
    },
    {
     "data": {
      "text/html": [
       "<pre style=\"white-space:pre;overflow-x:auto;line-height:normal;font-family:Menlo,'DejaVu Sans Mono',consolas,'Courier New',monospace\"><span style=\"color: #7fbfbf; text-decoration-color: #7fbfbf\">                    </span><span style=\"color: #000080; text-decoration-color: #000080\">INFO    </span> Using the provided MLFlow run ID: 219322d6b4d84362a07e91be53a66910. <a href=\"file:///home/krzysiek/Development/solvency-modelling/solvency_models/src/solvency_models/pipelines/utils/mlflow_model.py\" target=\"_blank\"><span style=\"color: #7f7f7f; text-decoration-color: #7f7f7f\">mlflow_model.py</span></a><span style=\"color: #7f7f7f; text-decoration-color: #7f7f7f\">:</span><a href=\"file:///home/krzysiek/Development/solvency-modelling/solvency_models/src/solvency_models/pipelines/utils/mlflow_model.py#60\" target=\"_blank\"><span style=\"color: #7f7f7f; text-decoration-color: #7f7f7f\">60</span></a>\n",
       "</pre>\n"
      ],
      "text/plain": [
       "\u001b[2;36m                   \u001b[0m\u001b[2;36m \u001b[0m\u001b[34mINFO    \u001b[0m Using the provided MLFlow run ID: 219322d6b4d84362a07e91be53a66910. \u001b]8;id=244428;file:///home/krzysiek/Development/solvency-modelling/solvency_models/src/solvency_models/pipelines/utils/mlflow_model.py\u001b\\\u001b[2mmlflow_model.py\u001b[0m\u001b]8;;\u001b\\\u001b[2m:\u001b[0m\u001b]8;id=589995;file:///home/krzysiek/Development/solvency-modelling/solvency_models/src/solvency_models/pipelines/utils/mlflow_model.py#60\u001b\\\u001b[2m60\u001b[0m\u001b]8;;\u001b\\\n"
      ]
     },
     "metadata": {},
     "output_type": "display_data"
    },
    {
     "data": {
      "text/html": [
       "<pre style=\"white-space:pre;overflow-x:auto;line-height:normal;font-family:Menlo,'DejaVu Sans Mono',consolas,'Courier New',monospace\"><span style=\"color: #7fbfbf; text-decoration-color: #7fbfbf\">                    </span><span style=\"color: #000080; text-decoration-color: #000080\">INFO    </span> Loading the predictive model from MLFlow path                       <a href=\"file:///home/krzysiek/Development/solvency-modelling/solvency_models/src/solvency_models/pipelines/utils/mlflow_model.py\" target=\"_blank\"><span style=\"color: #7f7f7f; text-decoration-color: #7f7f7f\">mlflow_model.py</span></a><span style=\"color: #7f7f7f; text-decoration-color: #7f7f7f\">:</span><a href=\"file:///home/krzysiek/Development/solvency-modelling/solvency_models/src/solvency_models/pipelines/utils/mlflow_model.py#63\" target=\"_blank\"><span style=\"color: #7f7f7f; text-decoration-color: #7f7f7f\">63</span></a>\n",
       "<span style=\"color: #7fbfbf; text-decoration-color: #7fbfbf\">                    </span>         model_ds/predictive_model<span style=\"color: #808000; text-decoration-color: #808000\">...</span>                                        <span style=\"color: #7f7f7f; text-decoration-color: #7f7f7f\">                  </span>\n",
       "</pre>\n"
      ],
      "text/plain": [
       "\u001b[2;36m                   \u001b[0m\u001b[2;36m \u001b[0m\u001b[34mINFO    \u001b[0m Loading the predictive model from MLFlow path                       \u001b]8;id=920423;file:///home/krzysiek/Development/solvency-modelling/solvency_models/src/solvency_models/pipelines/utils/mlflow_model.py\u001b\\\u001b[2mmlflow_model.py\u001b[0m\u001b]8;;\u001b\\\u001b[2m:\u001b[0m\u001b]8;id=816968;file:///home/krzysiek/Development/solvency-modelling/solvency_models/src/solvency_models/pipelines/utils/mlflow_model.py#63\u001b\\\u001b[2m63\u001b[0m\u001b]8;;\u001b\\\n",
       "\u001b[2;36m                    \u001b[0m         model_ds/predictive_model\u001b[33m...\u001b[0m                                        \u001b[2m                  \u001b[0m\n"
      ]
     },
     "metadata": {},
     "output_type": "display_data"
    },
    {
     "data": {
      "application/vnd.jupyter.widget-view+json": {
       "model_id": "d010b71b872347e9b04e85612c1c3460",
       "version_major": 2,
       "version_minor": 0
      },
      "text/plain": [
       "Downloading artifacts:   0%|          | 0/9 [00:00<?, ?it/s]"
      ]
     },
     "metadata": {},
     "output_type": "display_data"
    },
    {
     "data": {
      "text/html": [
       "<pre style=\"white-space:pre;overflow-x:auto;line-height:normal;font-family:Menlo,'DejaVu Sans Mono',consolas,'Courier New',monospace\"><span style=\"color: #7fbfbf; text-decoration-color: #7fbfbf\">[06/03/24 20:37:33] </span><span style=\"color: #000080; text-decoration-color: #000080\">INFO    </span> Successfully loaded the predictive model of type <span style=\"font-weight: bold\">&lt;</span><span style=\"color: #ff00ff; text-decoration-color: #ff00ff; font-weight: bold\">class</span><span style=\"color: #000000; text-decoration-color: #000000\"> </span>            <a href=\"file:///home/krzysiek/Development/solvency-modelling/solvency_models/src/solvency_models/pipelines/utils/mlflow_model.py\" target=\"_blank\"><span style=\"color: #7f7f7f; text-decoration-color: #7f7f7f\">mlflow_model.py</span></a><span style=\"color: #7f7f7f; text-decoration-color: #7f7f7f\">:</span><a href=\"file:///home/krzysiek/Development/solvency-modelling/solvency_models/src/solvency_models/pipelines/utils/mlflow_model.py#67\" target=\"_blank\"><span style=\"color: #7f7f7f; text-decoration-color: #7f7f7f\">67</span></a>\n",
       "<span style=\"color: #7fbfbf; text-decoration-color: #7fbfbf\">                    </span>         <span style=\"color: #008000; text-decoration-color: #008000\">'solvency_models.pipelines.p07_data_science.models.glm.SklearnPoiss</span> <span style=\"color: #7f7f7f; text-decoration-color: #7f7f7f\">                  </span>\n",
       "<span style=\"color: #7fbfbf; text-decoration-color: #7fbfbf\">                    </span>         <span style=\"color: #008000; text-decoration-color: #008000\">onGLM'</span><span style=\"font-weight: bold\">&gt;</span>.                                                            <span style=\"color: #7f7f7f; text-decoration-color: #7f7f7f\">                  </span>\n",
       "</pre>\n"
      ],
      "text/plain": [
       "\u001b[2;36m[06/03/24 20:37:33]\u001b[0m\u001b[2;36m \u001b[0m\u001b[34mINFO    \u001b[0m Successfully loaded the predictive model of type \u001b[1m<\u001b[0m\u001b[1;95mclass\u001b[0m\u001b[39m \u001b[0m            \u001b]8;id=508669;file:///home/krzysiek/Development/solvency-modelling/solvency_models/src/solvency_models/pipelines/utils/mlflow_model.py\u001b\\\u001b[2mmlflow_model.py\u001b[0m\u001b]8;;\u001b\\\u001b[2m:\u001b[0m\u001b]8;id=154217;file:///home/krzysiek/Development/solvency-modelling/solvency_models/src/solvency_models/pipelines/utils/mlflow_model.py#67\u001b\\\u001b[2m67\u001b[0m\u001b]8;;\u001b\\\n",
       "\u001b[2;36m                    \u001b[0m         \u001b[32m'solvency_models.pipelines.p07_data_science.models.glm.SklearnPoiss\u001b[0m \u001b[2m                  \u001b[0m\n",
       "\u001b[2;36m                    \u001b[0m         \u001b[32monGLM'\u001b[0m\u001b[1m>\u001b[0m.                                                            \u001b[2m                  \u001b[0m\n"
      ]
     },
     "metadata": {},
     "output_type": "display_data"
    },
    {
     "data": {
      "text/html": [
       "<pre style=\"white-space:pre;overflow-x:auto;line-height:normal;font-family:Menlo,'DejaVu Sans Mono',consolas,'Courier New',monospace\"><span style=\"color: #7fbfbf; text-decoration-color: #7fbfbf\">                    </span><span style=\"color: #000080; text-decoration-color: #000080\">INFO    </span> Made predictions.                                                          <a href=\"file:///home/krzysiek/Development/solvency-modelling/solvency_models/src/solvency_models/pipelines/p07_data_science/model.py\" target=\"_blank\"><span style=\"color: #7f7f7f; text-decoration-color: #7f7f7f\">model.py</span></a><span style=\"color: #7f7f7f; text-decoration-color: #7f7f7f\">:</span><a href=\"file:///home/krzysiek/Development/solvency-modelling/solvency_models/src/solvency_models/pipelines/p07_data_science/model.py#93\" target=\"_blank\"><span style=\"color: #7f7f7f; text-decoration-color: #7f7f7f\">93</span></a>\n",
       "</pre>\n"
      ],
      "text/plain": [
       "\u001b[2;36m                   \u001b[0m\u001b[2;36m \u001b[0m\u001b[34mINFO    \u001b[0m Made predictions.                                                          \u001b]8;id=85693;file:///home/krzysiek/Development/solvency-modelling/solvency_models/src/solvency_models/pipelines/p07_data_science/model.py\u001b\\\u001b[2mmodel.py\u001b[0m\u001b]8;;\u001b\\\u001b[2m:\u001b[0m\u001b]8;id=247854;file:///home/krzysiek/Development/solvency-modelling/solvency_models/src/solvency_models/pipelines/p07_data_science/model.py#93\u001b\\\u001b[2m93\u001b[0m\u001b]8;;\u001b\\\n"
      ]
     },
     "metadata": {},
     "output_type": "display_data"
    },
    {
     "data": {
      "text/html": [
       "<pre style=\"white-space:pre;overflow-x:auto;line-height:normal;font-family:Menlo,'DejaVu Sans Mono',consolas,'Courier New',monospace\"><span style=\"color: #7fbfbf; text-decoration-color: #7fbfbf\">                    </span><span style=\"color: #000080; text-decoration-color: #000080\">INFO    </span> Calibrationg the pure predictions by the MLFlow model<span style=\"color: #808000; text-decoration-color: #808000\">...</span>                   <a href=\"file:///home/krzysiek/Development/solvency-modelling/solvency_models/src/solvency_models/pipelines/p08_model_calibration/utils.py\" target=\"_blank\"><span style=\"color: #7f7f7f; text-decoration-color: #7f7f7f\">utils.py</span></a><span style=\"color: #7f7f7f; text-decoration-color: #7f7f7f\">:</span><a href=\"file:///home/krzysiek/Development/solvency-modelling/solvency_models/src/solvency_models/pipelines/p08_model_calibration/utils.py#54\" target=\"_blank\"><span style=\"color: #7f7f7f; text-decoration-color: #7f7f7f\">54</span></a>\n",
       "</pre>\n"
      ],
      "text/plain": [
       "\u001b[2;36m                   \u001b[0m\u001b[2;36m \u001b[0m\u001b[34mINFO    \u001b[0m Calibrationg the pure predictions by the MLFlow model\u001b[33m...\u001b[0m                   \u001b]8;id=247423;file:///home/krzysiek/Development/solvency-modelling/solvency_models/src/solvency_models/pipelines/p08_model_calibration/utils.py\u001b\\\u001b[2mutils.py\u001b[0m\u001b]8;;\u001b\\\u001b[2m:\u001b[0m\u001b]8;id=699479;file:///home/krzysiek/Development/solvency-modelling/solvency_models/src/solvency_models/pipelines/p08_model_calibration/utils.py#54\u001b\\\u001b[2m54\u001b[0m\u001b]8;;\u001b\\\n"
      ]
     },
     "metadata": {},
     "output_type": "display_data"
    },
    {
     "data": {
      "text/html": [
       "<pre style=\"white-space:pre;overflow-x:auto;line-height:normal;font-family:Menlo,'DejaVu Sans Mono',consolas,'Courier New',monospace\"><span style=\"color: #7fbfbf; text-decoration-color: #7fbfbf\">                    </span><span style=\"color: #000080; text-decoration-color: #000080\">INFO    </span> Using the active MLFlow run ID: ef29cc4c1ef141a2993c37c781ca9d82.   <a href=\"file:///home/krzysiek/Development/solvency-modelling/solvency_models/src/solvency_models/pipelines/utils/mlflow_model.py\" target=\"_blank\"><span style=\"color: #7f7f7f; text-decoration-color: #7f7f7f\">mlflow_model.py</span></a><span style=\"color: #7f7f7f; text-decoration-color: #7f7f7f\">:</span><a href=\"file:///home/krzysiek/Development/solvency-modelling/solvency_models/src/solvency_models/pipelines/utils/mlflow_model.py#58\" target=\"_blank\"><span style=\"color: #7f7f7f; text-decoration-color: #7f7f7f\">58</span></a>\n",
       "</pre>\n"
      ],
      "text/plain": [
       "\u001b[2;36m                   \u001b[0m\u001b[2;36m \u001b[0m\u001b[34mINFO    \u001b[0m Using the active MLFlow run ID: ef29cc4c1ef141a2993c37c781ca9d82.   \u001b]8;id=293322;file:///home/krzysiek/Development/solvency-modelling/solvency_models/src/solvency_models/pipelines/utils/mlflow_model.py\u001b\\\u001b[2mmlflow_model.py\u001b[0m\u001b]8;;\u001b\\\u001b[2m:\u001b[0m\u001b]8;id=488716;file:///home/krzysiek/Development/solvency-modelling/solvency_models/src/solvency_models/pipelines/utils/mlflow_model.py#58\u001b\\\u001b[2m58\u001b[0m\u001b]8;;\u001b\\\n"
      ]
     },
     "metadata": {},
     "output_type": "display_data"
    },
    {
     "data": {
      "text/html": [
       "<pre style=\"white-space:pre;overflow-x:auto;line-height:normal;font-family:Menlo,'DejaVu Sans Mono',consolas,'Courier New',monospace\"><span style=\"color: #7fbfbf; text-decoration-color: #7fbfbf\">                    </span><span style=\"color: #000080; text-decoration-color: #000080\">INFO    </span> Loading the calibration model from MLFlow path calibration/model<span style=\"color: #808000; text-decoration-color: #808000\">...</span> <a href=\"file:///home/krzysiek/Development/solvency-modelling/solvency_models/src/solvency_models/pipelines/utils/mlflow_model.py\" target=\"_blank\"><span style=\"color: #7f7f7f; text-decoration-color: #7f7f7f\">mlflow_model.py</span></a><span style=\"color: #7f7f7f; text-decoration-color: #7f7f7f\">:</span><a href=\"file:///home/krzysiek/Development/solvency-modelling/solvency_models/src/solvency_models/pipelines/utils/mlflow_model.py#63\" target=\"_blank\"><span style=\"color: #7f7f7f; text-decoration-color: #7f7f7f\">63</span></a>\n",
       "</pre>\n"
      ],
      "text/plain": [
       "\u001b[2;36m                   \u001b[0m\u001b[2;36m \u001b[0m\u001b[34mINFO    \u001b[0m Loading the calibration model from MLFlow path calibration/model\u001b[33m...\u001b[0m \u001b]8;id=729706;file:///home/krzysiek/Development/solvency-modelling/solvency_models/src/solvency_models/pipelines/utils/mlflow_model.py\u001b\\\u001b[2mmlflow_model.py\u001b[0m\u001b]8;;\u001b\\\u001b[2m:\u001b[0m\u001b]8;id=321119;file:///home/krzysiek/Development/solvency-modelling/solvency_models/src/solvency_models/pipelines/utils/mlflow_model.py#63\u001b\\\u001b[2m63\u001b[0m\u001b]8;;\u001b\\\n"
      ]
     },
     "metadata": {},
     "output_type": "display_data"
    },
    {
     "data": {
      "application/vnd.jupyter.widget-view+json": {
       "model_id": "7e2cc71cfc1a4e04b734478600032317",
       "version_major": 2,
       "version_minor": 0
      },
      "text/plain": [
       "Downloading artifacts:   0%|          | 0/9 [00:00<?, ?it/s]"
      ]
     },
     "metadata": {},
     "output_type": "display_data"
    },
    {
     "data": {
      "text/html": [
       "<pre style=\"white-space:pre;overflow-x:auto;line-height:normal;font-family:Menlo,'DejaVu Sans Mono',consolas,'Courier New',monospace\"><span style=\"color: #7fbfbf; text-decoration-color: #7fbfbf\">                    </span><span style=\"color: #000080; text-decoration-color: #000080\">INFO    </span> Successfully loaded the calibration model of type <span style=\"font-weight: bold\">&lt;</span><span style=\"color: #ff00ff; text-decoration-color: #ff00ff; font-weight: bold\">class</span><span style=\"color: #000000; text-decoration-color: #000000\"> </span>           <a href=\"file:///home/krzysiek/Development/solvency-modelling/solvency_models/src/solvency_models/pipelines/utils/mlflow_model.py\" target=\"_blank\"><span style=\"color: #7f7f7f; text-decoration-color: #7f7f7f\">mlflow_model.py</span></a><span style=\"color: #7f7f7f; text-decoration-color: #7f7f7f\">:</span><a href=\"file:///home/krzysiek/Development/solvency-modelling/solvency_models/src/solvency_models/pipelines/utils/mlflow_model.py#67\" target=\"_blank\"><span style=\"color: #7f7f7f; text-decoration-color: #7f7f7f\">67</span></a>\n",
       "<span style=\"color: #7fbfbf; text-decoration-color: #7fbfbf\">                    </span>         <span style=\"color: #008000; text-decoration-color: #008000\">'solvency_models.pipelines.p08_model_calibration.calibration_models</span> <span style=\"color: #7f7f7f; text-decoration-color: #7f7f7f\">                  </span>\n",
       "<span style=\"color: #7fbfbf; text-decoration-color: #7fbfbf\">                    </span>         <span style=\"color: #008000; text-decoration-color: #008000\">.SklearnPoissonGLM'</span><span style=\"font-weight: bold\">&gt;</span>.                                               <span style=\"color: #7f7f7f; text-decoration-color: #7f7f7f\">                  </span>\n",
       "</pre>\n"
      ],
      "text/plain": [
       "\u001b[2;36m                   \u001b[0m\u001b[2;36m \u001b[0m\u001b[34mINFO    \u001b[0m Successfully loaded the calibration model of type \u001b[1m<\u001b[0m\u001b[1;95mclass\u001b[0m\u001b[39m \u001b[0m           \u001b]8;id=406325;file:///home/krzysiek/Development/solvency-modelling/solvency_models/src/solvency_models/pipelines/utils/mlflow_model.py\u001b\\\u001b[2mmlflow_model.py\u001b[0m\u001b]8;;\u001b\\\u001b[2m:\u001b[0m\u001b]8;id=977457;file:///home/krzysiek/Development/solvency-modelling/solvency_models/src/solvency_models/pipelines/utils/mlflow_model.py#67\u001b\\\u001b[2m67\u001b[0m\u001b]8;;\u001b\\\n",
       "\u001b[2;36m                    \u001b[0m         \u001b[32m'solvency_models.pipelines.p08_model_calibration.calibration_models\u001b[0m \u001b[2m                  \u001b[0m\n",
       "\u001b[2;36m                    \u001b[0m         \u001b[32m.SklearnPoissonGLM'\u001b[0m\u001b[1m>\u001b[0m.                                               \u001b[2m                  \u001b[0m\n"
      ]
     },
     "metadata": {},
     "output_type": "display_data"
    },
    {
     "data": {
      "text/html": [
       "<pre style=\"white-space:pre;overflow-x:auto;line-height:normal;font-family:Menlo,'DejaVu Sans Mono',consolas,'Courier New',monospace\"><span style=\"color: #7fbfbf; text-decoration-color: #7fbfbf\">                    </span><span style=\"color: #000080; text-decoration-color: #000080\">INFO    </span> Transformed the predictions.                                               <a href=\"file:///home/krzysiek/Development/solvency-modelling/solvency_models/src/solvency_models/pipelines/p08_model_calibration/utils.py\" target=\"_blank\"><span style=\"color: #7f7f7f; text-decoration-color: #7f7f7f\">utils.py</span></a><span style=\"color: #7f7f7f; text-decoration-color: #7f7f7f\">:</span><a href=\"file:///home/krzysiek/Development/solvency-modelling/solvency_models/src/solvency_models/pipelines/p08_model_calibration/utils.py#63\" target=\"_blank\"><span style=\"color: #7f7f7f; text-decoration-color: #7f7f7f\">63</span></a>\n",
       "</pre>\n"
      ],
      "text/plain": [
       "\u001b[2;36m                   \u001b[0m\u001b[2;36m \u001b[0m\u001b[34mINFO    \u001b[0m Transformed the predictions.                                               \u001b]8;id=722643;file:///home/krzysiek/Development/solvency-modelling/solvency_models/src/solvency_models/pipelines/p08_model_calibration/utils.py\u001b\\\u001b[2mutils.py\u001b[0m\u001b]8;;\u001b\\\u001b[2m:\u001b[0m\u001b]8;id=984680;file:///home/krzysiek/Development/solvency-modelling/solvency_models/src/solvency_models/pipelines/p08_model_calibration/utils.py#63\u001b\\\u001b[2m63\u001b[0m\u001b]8;;\u001b\\\n"
      ]
     },
     "metadata": {},
     "output_type": "display_data"
    },
    {
     "data": {
      "text/html": [
       "<pre style=\"white-space:pre;overflow-x:auto;line-height:normal;font-family:Menlo,'DejaVu Sans Mono',consolas,'Courier New',monospace\"><span style=\"color: #7fbfbf; text-decoration-color: #7fbfbf\">                    </span><span style=\"color: #000080; text-decoration-color: #000080\">INFO    </span> Calibrated predictions:          pure_ClaimFreq_PRED                       <a href=\"file:///home/krzysiek/Development/solvency-modelling/solvency_models/src/solvency_models/pipelines/p08_model_calibration/utils.py\" target=\"_blank\"><span style=\"color: #7f7f7f; text-decoration-color: #7f7f7f\">utils.py</span></a><span style=\"color: #7f7f7f; text-decoration-color: #7f7f7f\">:</span><a href=\"file:///home/krzysiek/Development/solvency-modelling/solvency_models/src/solvency_models/pipelines/p08_model_calibration/utils.py#64\" target=\"_blank\"><span style=\"color: #7f7f7f; text-decoration-color: #7f7f7f\">64</span></a>\n",
       "<span style=\"color: #7fbfbf; text-decoration-color: #7fbfbf\">                    </span>         calibrated_ClaimFreq_PRED  ClaimFreq_PRED                                  <span style=\"color: #7f7f7f; text-decoration-color: #7f7f7f\">           </span>\n",
       "<span style=\"color: #7fbfbf; text-decoration-color: #7fbfbf\">                    </span>         IDpol                                                                      <span style=\"color: #7f7f7f; text-decoration-color: #7f7f7f\">           </span>\n",
       "<span style=\"color: #7fbfbf; text-decoration-color: #7fbfbf\">                    </span>         <span style=\"color: #008080; text-decoration-color: #008080; font-weight: bold\">4037459</span>             <span style=\"color: #008080; text-decoration-color: #008080; font-weight: bold\">1.170619</span>                   <span style=\"color: #008080; text-decoration-color: #008080; font-weight: bold\">0.093669</span>        <span style=\"color: #008080; text-decoration-color: #008080; font-weight: bold\">0.093669</span>    <span style=\"color: #7f7f7f; text-decoration-color: #7f7f7f\">           </span>\n",
       "<span style=\"color: #7fbfbf; text-decoration-color: #7fbfbf\">                    </span>         <span style=\"color: #008080; text-decoration-color: #008080; font-weight: bold\">1145350</span>             <span style=\"color: #008080; text-decoration-color: #008080; font-weight: bold\">1.171971</span>                   <span style=\"color: #008080; text-decoration-color: #008080; font-weight: bold\">0.093925</span>        <span style=\"color: #008080; text-decoration-color: #008080; font-weight: bold\">0.093925</span>    <span style=\"color: #7f7f7f; text-decoration-color: #7f7f7f\">           </span>\n",
       "<span style=\"color: #7fbfbf; text-decoration-color: #7fbfbf\">                    </span>         <span style=\"color: #008080; text-decoration-color: #008080; font-weight: bold\">1055770</span>             <span style=\"color: #008080; text-decoration-color: #008080; font-weight: bold\">1.165594</span>                   <span style=\"color: #008080; text-decoration-color: #008080; font-weight: bold\">0.092726</span>        <span style=\"color: #008080; text-decoration-color: #008080; font-weight: bold\">0.092726</span>    <span style=\"color: #7f7f7f; text-decoration-color: #7f7f7f\">           </span>\n",
       "<span style=\"color: #7fbfbf; text-decoration-color: #7fbfbf\">                    </span>         <span style=\"color: #008080; text-decoration-color: #008080; font-weight: bold\">6027104</span>             <span style=\"color: #008080; text-decoration-color: #008080; font-weight: bold\">1.534036</span>                   <span style=\"color: #008080; text-decoration-color: #008080; font-weight: bold\">0.194746</span>        <span style=\"color: #008080; text-decoration-color: #008080; font-weight: bold\">0.194746</span>    <span style=\"color: #7f7f7f; text-decoration-color: #7f7f7f\">           </span>\n",
       "<span style=\"color: #7fbfbf; text-decoration-color: #7fbfbf\">                    </span>         <span style=\"color: #008080; text-decoration-color: #008080; font-weight: bold\">160507</span>              <span style=\"color: #008080; text-decoration-color: #008080; font-weight: bold\">1.197557</span>                   <span style=\"color: #008080; text-decoration-color: #008080; font-weight: bold\">0.098892</span>        <span style=\"color: #008080; text-decoration-color: #008080; font-weight: bold\">0.098892</span>    <span style=\"color: #7f7f7f; text-decoration-color: #7f7f7f\">           </span>\n",
       "</pre>\n"
      ],
      "text/plain": [
       "\u001b[2;36m                   \u001b[0m\u001b[2;36m \u001b[0m\u001b[34mINFO    \u001b[0m Calibrated predictions:          pure_ClaimFreq_PRED                       \u001b]8;id=792872;file:///home/krzysiek/Development/solvency-modelling/solvency_models/src/solvency_models/pipelines/p08_model_calibration/utils.py\u001b\\\u001b[2mutils.py\u001b[0m\u001b]8;;\u001b\\\u001b[2m:\u001b[0m\u001b]8;id=687943;file:///home/krzysiek/Development/solvency-modelling/solvency_models/src/solvency_models/pipelines/p08_model_calibration/utils.py#64\u001b\\\u001b[2m64\u001b[0m\u001b]8;;\u001b\\\n",
       "\u001b[2;36m                    \u001b[0m         calibrated_ClaimFreq_PRED  ClaimFreq_PRED                                  \u001b[2m           \u001b[0m\n",
       "\u001b[2;36m                    \u001b[0m         IDpol                                                                      \u001b[2m           \u001b[0m\n",
       "\u001b[2;36m                    \u001b[0m         \u001b[1;36m4037459\u001b[0m             \u001b[1;36m1.170619\u001b[0m                   \u001b[1;36m0.093669\u001b[0m        \u001b[1;36m0.093669\u001b[0m    \u001b[2m           \u001b[0m\n",
       "\u001b[2;36m                    \u001b[0m         \u001b[1;36m1145350\u001b[0m             \u001b[1;36m1.171971\u001b[0m                   \u001b[1;36m0.093925\u001b[0m        \u001b[1;36m0.093925\u001b[0m    \u001b[2m           \u001b[0m\n",
       "\u001b[2;36m                    \u001b[0m         \u001b[1;36m1055770\u001b[0m             \u001b[1;36m1.165594\u001b[0m                   \u001b[1;36m0.092726\u001b[0m        \u001b[1;36m0.092726\u001b[0m    \u001b[2m           \u001b[0m\n",
       "\u001b[2;36m                    \u001b[0m         \u001b[1;36m6027104\u001b[0m             \u001b[1;36m1.534036\u001b[0m                   \u001b[1;36m0.194746\u001b[0m        \u001b[1;36m0.194746\u001b[0m    \u001b[2m           \u001b[0m\n",
       "\u001b[2;36m                    \u001b[0m         \u001b[1;36m160507\u001b[0m              \u001b[1;36m1.197557\u001b[0m                   \u001b[1;36m0.098892\u001b[0m        \u001b[1;36m0.098892\u001b[0m    \u001b[2m           \u001b[0m\n"
      ]
     },
     "metadata": {},
     "output_type": "display_data"
    },
    {
     "data": {
      "text/html": [
       "<pre style=\"white-space:pre;overflow-x:auto;line-height:normal;font-family:Menlo,'DejaVu Sans Mono',consolas,'Courier New',monospace\"><span style=\"color: #7fbfbf; text-decoration-color: #7fbfbf\">                    </span><span style=\"color: #000080; text-decoration-color: #000080\">INFO    </span> logger: <span style=\"font-weight: bold\">&lt;</span><span style=\"color: #ff00ff; text-decoration-color: #ff00ff; font-weight: bold\">Logger</span><span style=\"color: #000000; text-decoration-color: #000000\"> solvency_models.pipelines.p08_model_calibration.utils </span>     <a href=\"file:///home/krzysiek/Development/solvency-modelling/solvency_models/src/solvency_models/pipelines/p08_model_calibration/utils.py\" target=\"_blank\"><span style=\"color: #7f7f7f; text-decoration-color: #7f7f7f\">utils.py</span></a><span style=\"color: #7f7f7f; text-decoration-color: #7f7f7f\">:</span><a href=\"file:///home/krzysiek/Development/solvency-modelling/solvency_models/src/solvency_models/pipelines/p08_model_calibration/utils.py#65\" target=\"_blank\"><span style=\"color: #7f7f7f; text-decoration-color: #7f7f7f\">65</span></a>\n",
       "<span style=\"color: #7fbfbf; text-decoration-color: #7fbfbf\">                    </span>         <span style=\"color: #000000; text-decoration-color: #000000; font-weight: bold\">(</span><span style=\"color: #000000; text-decoration-color: #000000\">INFO</span><span style=\"color: #000000; text-decoration-color: #000000; font-weight: bold\">)</span><span style=\"font-weight: bold\">&gt;</span>                                                                    <span style=\"color: #7f7f7f; text-decoration-color: #7f7f7f\">           </span>\n",
       "</pre>\n"
      ],
      "text/plain": [
       "\u001b[2;36m                   \u001b[0m\u001b[2;36m \u001b[0m\u001b[34mINFO    \u001b[0m logger: \u001b[1m<\u001b[0m\u001b[1;95mLogger\u001b[0m\u001b[39m solvency_models.pipelines.p08_model_calibration.utils \u001b[0m     \u001b]8;id=793200;file:///home/krzysiek/Development/solvency-modelling/solvency_models/src/solvency_models/pipelines/p08_model_calibration/utils.py\u001b\\\u001b[2mutils.py\u001b[0m\u001b]8;;\u001b\\\u001b[2m:\u001b[0m\u001b]8;id=448167;file:///home/krzysiek/Development/solvency-modelling/solvency_models/src/solvency_models/pipelines/p08_model_calibration/utils.py#65\u001b\\\u001b[2m65\u001b[0m\u001b]8;;\u001b\\\n",
       "\u001b[2;36m                    \u001b[0m         \u001b[1;39m(\u001b[0m\u001b[39mINFO\u001b[0m\u001b[1;39m)\u001b[0m\u001b[1m>\u001b[0m                                                                    \u001b[2m           \u001b[0m\n"
      ]
     },
     "metadata": {},
     "output_type": "display_data"
    },
    {
     "data": {
      "text/html": [
       "<pre style=\"white-space:pre;overflow-x:auto;line-height:normal;font-family:Menlo,'DejaVu Sans Mono',consolas,'Courier New',monospace\"><span style=\"color: #7fbfbf; text-decoration-color: #7fbfbf\">                    </span><span style=\"color: #000080; text-decoration-color: #000080\">INFO    </span> logger.level: <span style=\"color: #008080; text-decoration-color: #008080; font-weight: bold\">0</span>                                                            <a href=\"file:///home/krzysiek/Development/solvency-modelling/solvency_models/src/solvency_models/pipelines/p08_model_calibration/utils.py\" target=\"_blank\"><span style=\"color: #7f7f7f; text-decoration-color: #7f7f7f\">utils.py</span></a><span style=\"color: #7f7f7f; text-decoration-color: #7f7f7f\">:</span><a href=\"file:///home/krzysiek/Development/solvency-modelling/solvency_models/src/solvency_models/pipelines/p08_model_calibration/utils.py#66\" target=\"_blank\"><span style=\"color: #7f7f7f; text-decoration-color: #7f7f7f\">66</span></a>\n",
       "</pre>\n"
      ],
      "text/plain": [
       "\u001b[2;36m                   \u001b[0m\u001b[2;36m \u001b[0m\u001b[34mINFO    \u001b[0m logger.level: \u001b[1;36m0\u001b[0m                                                            \u001b]8;id=862812;file:///home/krzysiek/Development/solvency-modelling/solvency_models/src/solvency_models/pipelines/p08_model_calibration/utils.py\u001b\\\u001b[2mutils.py\u001b[0m\u001b]8;;\u001b\\\u001b[2m:\u001b[0m\u001b]8;id=956204;file:///home/krzysiek/Development/solvency-modelling/solvency_models/src/solvency_models/pipelines/p08_model_calibration/utils.py#66\u001b\\\u001b[2m66\u001b[0m\u001b]8;;\u001b\\\n"
      ]
     },
     "metadata": {},
     "output_type": "display_data"
    },
    {
     "data": {
      "text/html": [
       "<pre style=\"white-space:pre;overflow-x:auto;line-height:normal;font-family:Menlo,'DejaVu Sans Mono',consolas,'Courier New',monospace\"><span style=\"color: #7fbfbf; text-decoration-color: #7fbfbf\">                    </span><span style=\"color: #000080; text-decoration-color: #000080\">INFO    </span> Evaluating the predictions:                                               <a href=\"file:///home/krzysiek/Development/solvency-modelling/solvency_models/src/solvency_models/pipelines/p07_data_science/model.py\" target=\"_blank\"><span style=\"color: #7f7f7f; text-decoration-color: #7f7f7f\">model.py</span></a><span style=\"color: #7f7f7f; text-decoration-color: #7f7f7f\">:</span><a href=\"file:///home/krzysiek/Development/solvency-modelling/solvency_models/src/solvency_models/pipelines/p07_data_science/model.py#133\" target=\"_blank\"><span style=\"color: #7f7f7f; text-decoration-color: #7f7f7f\">133</span></a>\n",
       "</pre>\n"
      ],
      "text/plain": [
       "\u001b[2;36m                   \u001b[0m\u001b[2;36m \u001b[0m\u001b[34mINFO    \u001b[0m Evaluating the predictions:                                               \u001b]8;id=520433;file:///home/krzysiek/Development/solvency-modelling/solvency_models/src/solvency_models/pipelines/p07_data_science/model.py\u001b\\\u001b[2mmodel.py\u001b[0m\u001b]8;;\u001b\\\u001b[2m:\u001b[0m\u001b]8;id=405495;file:///home/krzysiek/Development/solvency-modelling/solvency_models/src/solvency_models/pipelines/p07_data_science/model.py#133\u001b\\\u001b[2m133\u001b[0m\u001b]8;;\u001b\\\n"
      ]
     },
     "metadata": {},
     "output_type": "display_data"
    },
    {
     "data": {
      "text/html": [
       "<pre style=\"white-space:pre;overflow-x:auto;line-height:normal;font-family:Menlo,'DejaVu Sans Mono',consolas,'Courier New',monospace\"><span style=\"color: #7fbfbf; text-decoration-color: #7fbfbf\">                    </span><span style=\"color: #000080; text-decoration-color: #000080\">INFO    </span> Evaluated the predictions:                                                <a href=\"file:///home/krzysiek/Development/solvency-modelling/solvency_models/src/solvency_models/pipelines/p07_data_science/model.py\" target=\"_blank\"><span style=\"color: #7f7f7f; text-decoration-color: #7f7f7f\">model.py</span></a><span style=\"color: #7f7f7f; text-decoration-color: #7f7f7f\">:</span><a href=\"file:///home/krzysiek/Development/solvency-modelling/solvency_models/src/solvency_models/pipelines/p07_data_science/model.py#142\" target=\"_blank\"><span style=\"color: #7f7f7f; text-decoration-color: #7f7f7f\">142</span></a>\n",
       "<span style=\"color: #7fbfbf; text-decoration-color: #7fbfbf\">                    </span>             - pure_test_MPD: <span style=\"color: #008080; text-decoration-color: #008080; font-weight: bold\">2.688558990693829</span>                                    <span style=\"color: #7f7f7f; text-decoration-color: #7f7f7f\">            </span>\n",
       "<span style=\"color: #7fbfbf; text-decoration-color: #7fbfbf\">                    </span>             - pure_test_wMPD: <span style=\"color: #008080; text-decoration-color: #008080; font-weight: bold\">2.3799020838354754</span>                                  <span style=\"color: #7f7f7f; text-decoration-color: #7f7f7f\">            </span>\n",
       "<span style=\"color: #7fbfbf; text-decoration-color: #7fbfbf\">                    </span>             - pure_test_RMSE: <span style=\"color: #008080; text-decoration-color: #008080; font-weight: bold\">2.0560970399672622</span>                                  <span style=\"color: #7f7f7f; text-decoration-color: #7f7f7f\">            </span>\n",
       "<span style=\"color: #7fbfbf; text-decoration-color: #7fbfbf\">                    </span>             - pure_test_wRMSE: <span style=\"color: #008080; text-decoration-color: #008080; font-weight: bold\">1.2650836457492658</span>                                 <span style=\"color: #7f7f7f; text-decoration-color: #7f7f7f\">            </span>\n",
       "<span style=\"color: #7fbfbf; text-decoration-color: #7fbfbf\">                    </span>             - pure_test_R2: <span style=\"color: #008080; text-decoration-color: #008080; font-weight: bold\">-0.4602749676698661</span>                                   <span style=\"color: #7f7f7f; text-decoration-color: #7f7f7f\">            </span>\n",
       "<span style=\"color: #7fbfbf; text-decoration-color: #7fbfbf\">                    </span>             - pure_test_wR2: <span style=\"color: #008080; text-decoration-color: #008080; font-weight: bold\">-5.803216684695909</span>                                   <span style=\"color: #7f7f7f; text-decoration-color: #7f7f7f\">            </span>\n",
       "<span style=\"color: #7fbfbf; text-decoration-color: #7fbfbf\">                    </span>             - pure_test_SC: <span style=\"color: #008080; text-decoration-color: #008080; font-weight: bold\">0.055411283773382336</span>                                  <span style=\"color: #7f7f7f; text-decoration-color: #7f7f7f\">            </span>\n",
       "<span style=\"color: #7fbfbf; text-decoration-color: #7fbfbf\">                    </span>             - pure_test_SRC: <span style=\"color: #008080; text-decoration-color: #008080; font-weight: bold\">0.055411283773382336</span>                                 <span style=\"color: #7f7f7f; text-decoration-color: #7f7f7f\">            </span>\n",
       "</pre>\n"
      ],
      "text/plain": [
       "\u001b[2;36m                   \u001b[0m\u001b[2;36m \u001b[0m\u001b[34mINFO    \u001b[0m Evaluated the predictions:                                                \u001b]8;id=853893;file:///home/krzysiek/Development/solvency-modelling/solvency_models/src/solvency_models/pipelines/p07_data_science/model.py\u001b\\\u001b[2mmodel.py\u001b[0m\u001b]8;;\u001b\\\u001b[2m:\u001b[0m\u001b]8;id=887967;file:///home/krzysiek/Development/solvency-modelling/solvency_models/src/solvency_models/pipelines/p07_data_science/model.py#142\u001b\\\u001b[2m142\u001b[0m\u001b]8;;\u001b\\\n",
       "\u001b[2;36m                    \u001b[0m             - pure_test_MPD: \u001b[1;36m2.688558990693829\u001b[0m                                    \u001b[2m            \u001b[0m\n",
       "\u001b[2;36m                    \u001b[0m             - pure_test_wMPD: \u001b[1;36m2.3799020838354754\u001b[0m                                  \u001b[2m            \u001b[0m\n",
       "\u001b[2;36m                    \u001b[0m             - pure_test_RMSE: \u001b[1;36m2.0560970399672622\u001b[0m                                  \u001b[2m            \u001b[0m\n",
       "\u001b[2;36m                    \u001b[0m             - pure_test_wRMSE: \u001b[1;36m1.2650836457492658\u001b[0m                                 \u001b[2m            \u001b[0m\n",
       "\u001b[2;36m                    \u001b[0m             - pure_test_R2: \u001b[1;36m-0.4602749676698661\u001b[0m                                   \u001b[2m            \u001b[0m\n",
       "\u001b[2;36m                    \u001b[0m             - pure_test_wR2: \u001b[1;36m-5.803216684695909\u001b[0m                                   \u001b[2m            \u001b[0m\n",
       "\u001b[2;36m                    \u001b[0m             - pure_test_SC: \u001b[1;36m0.055411283773382336\u001b[0m                                  \u001b[2m            \u001b[0m\n",
       "\u001b[2;36m                    \u001b[0m             - pure_test_SRC: \u001b[1;36m0.055411283773382336\u001b[0m                                 \u001b[2m            \u001b[0m\n"
      ]
     },
     "metadata": {},
     "output_type": "display_data"
    },
    {
     "data": {
      "text/html": [
       "<pre style=\"white-space:pre;overflow-x:auto;line-height:normal;font-family:Menlo,'DejaVu Sans Mono',consolas,'Courier New',monospace\"><span style=\"color: #7fbfbf; text-decoration-color: #7fbfbf\">                    </span><span style=\"color: #000080; text-decoration-color: #000080\">INFO    </span> Logging the metrics to MLFlow<span style=\"color: #808000; text-decoration-color: #808000\">...</span>                                          <a href=\"file:///home/krzysiek/Development/solvency-modelling/solvency_models/src/solvency_models/pipelines/p07_data_science/model.py\" target=\"_blank\"><span style=\"color: #7f7f7f; text-decoration-color: #7f7f7f\">model.py</span></a><span style=\"color: #7f7f7f; text-decoration-color: #7f7f7f\">:</span><a href=\"file:///home/krzysiek/Development/solvency-modelling/solvency_models/src/solvency_models/pipelines/p07_data_science/model.py#145\" target=\"_blank\"><span style=\"color: #7f7f7f; text-decoration-color: #7f7f7f\">145</span></a>\n",
       "</pre>\n"
      ],
      "text/plain": [
       "\u001b[2;36m                   \u001b[0m\u001b[2;36m \u001b[0m\u001b[34mINFO    \u001b[0m Logging the metrics to MLFlow\u001b[33m...\u001b[0m                                          \u001b]8;id=402462;file:///home/krzysiek/Development/solvency-modelling/solvency_models/src/solvency_models/pipelines/p07_data_science/model.py\u001b\\\u001b[2mmodel.py\u001b[0m\u001b]8;;\u001b\\\u001b[2m:\u001b[0m\u001b]8;id=77800;file:///home/krzysiek/Development/solvency-modelling/solvency_models/src/solvency_models/pipelines/p07_data_science/model.py#145\u001b\\\u001b[2m145\u001b[0m\u001b]8;;\u001b\\\n"
      ]
     },
     "metadata": {},
     "output_type": "display_data"
    },
    {
     "data": {
      "text/html": [
       "<pre style=\"white-space:pre;overflow-x:auto;line-height:normal;font-family:Menlo,'DejaVu Sans Mono',consolas,'Courier New',monospace\"><span style=\"color: #7fbfbf; text-decoration-color: #7fbfbf\">                    </span><span style=\"color: #000080; text-decoration-color: #000080\">INFO    </span> Logged the metrics to MLFlow.                                             <a href=\"file:///home/krzysiek/Development/solvency-modelling/solvency_models/src/solvency_models/pipelines/p07_data_science/model.py\" target=\"_blank\"><span style=\"color: #7f7f7f; text-decoration-color: #7f7f7f\">model.py</span></a><span style=\"color: #7f7f7f; text-decoration-color: #7f7f7f\">:</span><a href=\"file:///home/krzysiek/Development/solvency-modelling/solvency_models/src/solvency_models/pipelines/p07_data_science/model.py#148\" target=\"_blank\"><span style=\"color: #7f7f7f; text-decoration-color: #7f7f7f\">148</span></a>\n",
       "</pre>\n"
      ],
      "text/plain": [
       "\u001b[2;36m                   \u001b[0m\u001b[2;36m \u001b[0m\u001b[34mINFO    \u001b[0m Logged the metrics to MLFlow.                                             \u001b]8;id=56926;file:///home/krzysiek/Development/solvency-modelling/solvency_models/src/solvency_models/pipelines/p07_data_science/model.py\u001b\\\u001b[2mmodel.py\u001b[0m\u001b]8;;\u001b\\\u001b[2m:\u001b[0m\u001b]8;id=459571;file:///home/krzysiek/Development/solvency-modelling/solvency_models/src/solvency_models/pipelines/p07_data_science/model.py#148\u001b\\\u001b[2m148\u001b[0m\u001b]8;;\u001b\\\n"
      ]
     },
     "metadata": {},
     "output_type": "display_data"
    },
    {
     "data": {
      "text/html": [
       "<pre style=\"white-space:pre;overflow-x:auto;line-height:normal;font-family:Menlo,'DejaVu Sans Mono',consolas,'Courier New',monospace\"><span style=\"color: #7fbfbf; text-decoration-color: #7fbfbf\">                    </span><span style=\"color: #000080; text-decoration-color: #000080\">INFO    </span> Evaluating the predictions:                                               <a href=\"file:///home/krzysiek/Development/solvency-modelling/solvency_models/src/solvency_models/pipelines/p07_data_science/model.py\" target=\"_blank\"><span style=\"color: #7f7f7f; text-decoration-color: #7f7f7f\">model.py</span></a><span style=\"color: #7f7f7f; text-decoration-color: #7f7f7f\">:</span><a href=\"file:///home/krzysiek/Development/solvency-modelling/solvency_models/src/solvency_models/pipelines/p07_data_science/model.py#133\" target=\"_blank\"><span style=\"color: #7f7f7f; text-decoration-color: #7f7f7f\">133</span></a>\n",
       "</pre>\n"
      ],
      "text/plain": [
       "\u001b[2;36m                   \u001b[0m\u001b[2;36m \u001b[0m\u001b[34mINFO    \u001b[0m Evaluating the predictions:                                               \u001b]8;id=954793;file:///home/krzysiek/Development/solvency-modelling/solvency_models/src/solvency_models/pipelines/p07_data_science/model.py\u001b\\\u001b[2mmodel.py\u001b[0m\u001b]8;;\u001b\\\u001b[2m:\u001b[0m\u001b]8;id=109365;file:///home/krzysiek/Development/solvency-modelling/solvency_models/src/solvency_models/pipelines/p07_data_science/model.py#133\u001b\\\u001b[2m133\u001b[0m\u001b]8;;\u001b\\\n"
      ]
     },
     "metadata": {},
     "output_type": "display_data"
    },
    {
     "data": {
      "text/html": [
       "<pre style=\"white-space:pre;overflow-x:auto;line-height:normal;font-family:Menlo,'DejaVu Sans Mono',consolas,'Courier New',monospace\"><span style=\"color: #7fbfbf; text-decoration-color: #7fbfbf\">                    </span><span style=\"color: #000080; text-decoration-color: #000080\">INFO    </span> Evaluated the predictions:                                                <a href=\"file:///home/krzysiek/Development/solvency-modelling/solvency_models/src/solvency_models/pipelines/p07_data_science/model.py\" target=\"_blank\"><span style=\"color: #7f7f7f; text-decoration-color: #7f7f7f\">model.py</span></a><span style=\"color: #7f7f7f; text-decoration-color: #7f7f7f\">:</span><a href=\"file:///home/krzysiek/Development/solvency-modelling/solvency_models/src/solvency_models/pipelines/p07_data_science/model.py#142\" target=\"_blank\"><span style=\"color: #7f7f7f; text-decoration-color: #7f7f7f\">142</span></a>\n",
       "<span style=\"color: #7fbfbf; text-decoration-color: #7fbfbf\">                    </span>             - test_MPD: <span style=\"color: #008080; text-decoration-color: #008080; font-weight: bold\">0.952450996019964</span>                                         <span style=\"color: #7f7f7f; text-decoration-color: #7f7f7f\">            </span>\n",
       "<span style=\"color: #7fbfbf; text-decoration-color: #7fbfbf\">                    </span>             - test_wMPD: <span style=\"color: #008080; text-decoration-color: #008080; font-weight: bold\">0.4887977273873787</span>                                       <span style=\"color: #7f7f7f; text-decoration-color: #7f7f7f\">            </span>\n",
       "<span style=\"color: #7fbfbf; text-decoration-color: #7fbfbf\">                    </span>             - test_RMSE: <span style=\"color: #008080; text-decoration-color: #008080; font-weight: bold\">1.702793125495253</span>                                        <span style=\"color: #7f7f7f; text-decoration-color: #7f7f7f\">            </span>\n",
       "<span style=\"color: #7fbfbf; text-decoration-color: #7fbfbf\">                    </span>             - test_wRMSE: <span style=\"color: #008080; text-decoration-color: #008080; font-weight: bold\">0.4927597498623945</span>                                      <span style=\"color: #7f7f7f; text-decoration-color: #7f7f7f\">            </span>\n",
       "<span style=\"color: #7fbfbf; text-decoration-color: #7fbfbf\">                    </span>             - test_R2: <span style=\"color: #008080; text-decoration-color: #008080; font-weight: bold\">-0.001546692665427285</span>                                      <span style=\"color: #7f7f7f; text-decoration-color: #7f7f7f\">            </span>\n",
       "<span style=\"color: #7fbfbf; text-decoration-color: #7fbfbf\">                    </span>             - test_wR2: <span style=\"color: #008080; text-decoration-color: #008080; font-weight: bold\">-0.032158213476306985</span>                                     <span style=\"color: #7f7f7f; text-decoration-color: #7f7f7f\">            </span>\n",
       "<span style=\"color: #7fbfbf; text-decoration-color: #7fbfbf\">                    </span>             - test_SC: <span style=\"color: #008080; text-decoration-color: #008080; font-weight: bold\">0.055411283773382336</span>                                       <span style=\"color: #7f7f7f; text-decoration-color: #7f7f7f\">            </span>\n",
       "<span style=\"color: #7fbfbf; text-decoration-color: #7fbfbf\">                    </span>             - test_SRC: <span style=\"color: #008080; text-decoration-color: #008080; font-weight: bold\">0.055411283773382336</span>                                      <span style=\"color: #7f7f7f; text-decoration-color: #7f7f7f\">            </span>\n",
       "</pre>\n"
      ],
      "text/plain": [
       "\u001b[2;36m                   \u001b[0m\u001b[2;36m \u001b[0m\u001b[34mINFO    \u001b[0m Evaluated the predictions:                                                \u001b]8;id=872918;file:///home/krzysiek/Development/solvency-modelling/solvency_models/src/solvency_models/pipelines/p07_data_science/model.py\u001b\\\u001b[2mmodel.py\u001b[0m\u001b]8;;\u001b\\\u001b[2m:\u001b[0m\u001b]8;id=609707;file:///home/krzysiek/Development/solvency-modelling/solvency_models/src/solvency_models/pipelines/p07_data_science/model.py#142\u001b\\\u001b[2m142\u001b[0m\u001b]8;;\u001b\\\n",
       "\u001b[2;36m                    \u001b[0m             - test_MPD: \u001b[1;36m0.952450996019964\u001b[0m                                         \u001b[2m            \u001b[0m\n",
       "\u001b[2;36m                    \u001b[0m             - test_wMPD: \u001b[1;36m0.4887977273873787\u001b[0m                                       \u001b[2m            \u001b[0m\n",
       "\u001b[2;36m                    \u001b[0m             - test_RMSE: \u001b[1;36m1.702793125495253\u001b[0m                                        \u001b[2m            \u001b[0m\n",
       "\u001b[2;36m                    \u001b[0m             - test_wRMSE: \u001b[1;36m0.4927597498623945\u001b[0m                                      \u001b[2m            \u001b[0m\n",
       "\u001b[2;36m                    \u001b[0m             - test_R2: \u001b[1;36m-0.001546692665427285\u001b[0m                                      \u001b[2m            \u001b[0m\n",
       "\u001b[2;36m                    \u001b[0m             - test_wR2: \u001b[1;36m-0.032158213476306985\u001b[0m                                     \u001b[2m            \u001b[0m\n",
       "\u001b[2;36m                    \u001b[0m             - test_SC: \u001b[1;36m0.055411283773382336\u001b[0m                                       \u001b[2m            \u001b[0m\n",
       "\u001b[2;36m                    \u001b[0m             - test_SRC: \u001b[1;36m0.055411283773382336\u001b[0m                                      \u001b[2m            \u001b[0m\n"
      ]
     },
     "metadata": {},
     "output_type": "display_data"
    },
    {
     "data": {
      "text/html": [
       "<pre style=\"white-space:pre;overflow-x:auto;line-height:normal;font-family:Menlo,'DejaVu Sans Mono',consolas,'Courier New',monospace\"><span style=\"color: #7fbfbf; text-decoration-color: #7fbfbf\">                    </span><span style=\"color: #000080; text-decoration-color: #000080\">INFO    </span> Logging the metrics to MLFlow<span style=\"color: #808000; text-decoration-color: #808000\">...</span>                                          <a href=\"file:///home/krzysiek/Development/solvency-modelling/solvency_models/src/solvency_models/pipelines/p07_data_science/model.py\" target=\"_blank\"><span style=\"color: #7f7f7f; text-decoration-color: #7f7f7f\">model.py</span></a><span style=\"color: #7f7f7f; text-decoration-color: #7f7f7f\">:</span><a href=\"file:///home/krzysiek/Development/solvency-modelling/solvency_models/src/solvency_models/pipelines/p07_data_science/model.py#145\" target=\"_blank\"><span style=\"color: #7f7f7f; text-decoration-color: #7f7f7f\">145</span></a>\n",
       "</pre>\n"
      ],
      "text/plain": [
       "\u001b[2;36m                   \u001b[0m\u001b[2;36m \u001b[0m\u001b[34mINFO    \u001b[0m Logging the metrics to MLFlow\u001b[33m...\u001b[0m                                          \u001b]8;id=639205;file:///home/krzysiek/Development/solvency-modelling/solvency_models/src/solvency_models/pipelines/p07_data_science/model.py\u001b\\\u001b[2mmodel.py\u001b[0m\u001b]8;;\u001b\\\u001b[2m:\u001b[0m\u001b]8;id=953533;file:///home/krzysiek/Development/solvency-modelling/solvency_models/src/solvency_models/pipelines/p07_data_science/model.py#145\u001b\\\u001b[2m145\u001b[0m\u001b]8;;\u001b\\\n"
      ]
     },
     "metadata": {},
     "output_type": "display_data"
    },
    {
     "data": {
      "text/html": [
       "<pre style=\"white-space:pre;overflow-x:auto;line-height:normal;font-family:Menlo,'DejaVu Sans Mono',consolas,'Courier New',monospace\"><span style=\"color: #7fbfbf; text-decoration-color: #7fbfbf\">                    </span><span style=\"color: #000080; text-decoration-color: #000080\">INFO    </span> Logged the metrics to MLFlow.                                             <a href=\"file:///home/krzysiek/Development/solvency-modelling/solvency_models/src/solvency_models/pipelines/p07_data_science/model.py\" target=\"_blank\"><span style=\"color: #7f7f7f; text-decoration-color: #7f7f7f\">model.py</span></a><span style=\"color: #7f7f7f; text-decoration-color: #7f7f7f\">:</span><a href=\"file:///home/krzysiek/Development/solvency-modelling/solvency_models/src/solvency_models/pipelines/p07_data_science/model.py#148\" target=\"_blank\"><span style=\"color: #7f7f7f; text-decoration-color: #7f7f7f\">148</span></a>\n",
       "</pre>\n"
      ],
      "text/plain": [
       "\u001b[2;36m                   \u001b[0m\u001b[2;36m \u001b[0m\u001b[34mINFO    \u001b[0m Logged the metrics to MLFlow.                                             \u001b]8;id=450660;file:///home/krzysiek/Development/solvency-modelling/solvency_models/src/solvency_models/pipelines/p07_data_science/model.py\u001b\\\u001b[2mmodel.py\u001b[0m\u001b]8;;\u001b\\\u001b[2m:\u001b[0m\u001b]8;id=458599;file:///home/krzysiek/Development/solvency-modelling/solvency_models/src/solvency_models/pipelines/p07_data_science/model.py#148\u001b\\\u001b[2m148\u001b[0m\u001b]8;;\u001b\\\n"
      ]
     },
     "metadata": {},
     "output_type": "display_data"
    },
    {
     "data": {
      "text/html": [
       "<pre style=\"white-space:pre;overflow-x:auto;line-height:normal;font-family:Menlo,'DejaVu Sans Mono',consolas,'Courier New',monospace\"><span style=\"color: #7fbfbf; text-decoration-color: #7fbfbf\">                    </span><span style=\"color: #000080; text-decoration-color: #000080\">INFO    </span> Saving data to <span style=\"color: #ff8700; text-decoration-color: #ff8700\">calibrated_test_predictions_df</span> <span style=\"font-weight: bold\">(</span>ParquetDataset<span style=\"font-weight: bold\">)</span><span style=\"color: #808000; text-decoration-color: #808000\">...</span>  <a href=\"file:///home/krzysiek/Development/solvency-modelling/venv/lib/python3.11/site-packages/kedro/io/data_catalog.py\" target=\"_blank\"><span style=\"color: #7f7f7f; text-decoration-color: #7f7f7f\">data_catalog.py</span></a><span style=\"color: #7f7f7f; text-decoration-color: #7f7f7f\">:</span><a href=\"file:///home/krzysiek/Development/solvency-modelling/venv/lib/python3.11/site-packages/kedro/io/data_catalog.py#525\" target=\"_blank\"><span style=\"color: #7f7f7f; text-decoration-color: #7f7f7f\">525</span></a>\n",
       "</pre>\n"
      ],
      "text/plain": [
       "\u001b[2;36m                   \u001b[0m\u001b[2;36m \u001b[0m\u001b[34mINFO    \u001b[0m Saving data to \u001b[38;5;208mcalibrated_test_predictions_df\u001b[0m \u001b[1m(\u001b[0mParquetDataset\u001b[1m)\u001b[0m\u001b[33m...\u001b[0m  \u001b]8;id=141971;file:///home/krzysiek/Development/solvency-modelling/venv/lib/python3.11/site-packages/kedro/io/data_catalog.py\u001b\\\u001b[2mdata_catalog.py\u001b[0m\u001b]8;;\u001b\\\u001b[2m:\u001b[0m\u001b]8;id=877876;file:///home/krzysiek/Development/solvency-modelling/venv/lib/python3.11/site-packages/kedro/io/data_catalog.py#525\u001b\\\u001b[2m525\u001b[0m\u001b]8;;\u001b\\\n"
      ]
     },
     "metadata": {},
     "output_type": "display_data"
    },
    {
     "data": {
      "text/html": [
       "<pre style=\"white-space:pre;overflow-x:auto;line-height:normal;font-family:Menlo,'DejaVu Sans Mono',consolas,'Courier New',monospace\"><span style=\"color: #7fbfbf; text-decoration-color: #7fbfbf\">                    </span><span style=\"color: #000080; text-decoration-color: #000080\">INFO    </span> Completed <span style=\"color: #008080; text-decoration-color: #008080; font-weight: bold\">2</span> out of <span style=\"color: #008080; text-decoration-color: #008080; font-weight: bold\">2</span> tasks                                     <a href=\"file:///home/krzysiek/Development/solvency-modelling/venv/lib/python3.11/site-packages/kedro/runner/sequential_runner.py\" target=\"_blank\"><span style=\"color: #7f7f7f; text-decoration-color: #7f7f7f\">sequential_runner.py</span></a><span style=\"color: #7f7f7f; text-decoration-color: #7f7f7f\">:</span><a href=\"file:///home/krzysiek/Development/solvency-modelling/venv/lib/python3.11/site-packages/kedro/runner/sequential_runner.py#90\" target=\"_blank\"><span style=\"color: #7f7f7f; text-decoration-color: #7f7f7f\">90</span></a>\n",
       "</pre>\n"
      ],
      "text/plain": [
       "\u001b[2;36m                   \u001b[0m\u001b[2;36m \u001b[0m\u001b[34mINFO    \u001b[0m Completed \u001b[1;36m2\u001b[0m out of \u001b[1;36m2\u001b[0m tasks                                     \u001b]8;id=684404;file:///home/krzysiek/Development/solvency-modelling/venv/lib/python3.11/site-packages/kedro/runner/sequential_runner.py\u001b\\\u001b[2msequential_runner.py\u001b[0m\u001b]8;;\u001b\\\u001b[2m:\u001b[0m\u001b]8;id=162852;file:///home/krzysiek/Development/solvency-modelling/venv/lib/python3.11/site-packages/kedro/runner/sequential_runner.py#90\u001b\\\u001b[2m90\u001b[0m\u001b]8;;\u001b\\\n"
      ]
     },
     "metadata": {},
     "output_type": "display_data"
    },
    {
     "data": {
      "text/html": [
       "<pre style=\"white-space:pre;overflow-x:auto;line-height:normal;font-family:Menlo,'DejaVu Sans Mono',consolas,'Courier New',monospace\"><span style=\"color: #7fbfbf; text-decoration-color: #7fbfbf\">                    </span><span style=\"color: #000080; text-decoration-color: #000080\">INFO    </span> Pipeline execution completed successfully.                               <a href=\"file:///home/krzysiek/Development/solvency-modelling/venv/lib/python3.11/site-packages/kedro/runner/runner.py\" target=\"_blank\"><span style=\"color: #7f7f7f; text-decoration-color: #7f7f7f\">runner.py</span></a><span style=\"color: #7f7f7f; text-decoration-color: #7f7f7f\">:</span><a href=\"file:///home/krzysiek/Development/solvency-modelling/venv/lib/python3.11/site-packages/kedro/runner/runner.py#119\" target=\"_blank\"><span style=\"color: #7f7f7f; text-decoration-color: #7f7f7f\">119</span></a>\n",
       "</pre>\n"
      ],
      "text/plain": [
       "\u001b[2;36m                   \u001b[0m\u001b[2;36m \u001b[0m\u001b[34mINFO    \u001b[0m Pipeline execution completed successfully.                               \u001b]8;id=975418;file:///home/krzysiek/Development/solvency-modelling/venv/lib/python3.11/site-packages/kedro/runner/runner.py\u001b\\\u001b[2mrunner.py\u001b[0m\u001b]8;;\u001b\\\u001b[2m:\u001b[0m\u001b]8;id=625498;file:///home/krzysiek/Development/solvency-modelling/venv/lib/python3.11/site-packages/kedro/runner/runner.py#119\u001b\\\u001b[2m119\u001b[0m\u001b]8;;\u001b\\\n"
      ]
     },
     "metadata": {},
     "output_type": "display_data"
    },
    {
     "data": {
      "text/html": [
       "<pre style=\"white-space:pre;overflow-x:auto;line-height:normal;font-family:Menlo,'DejaVu Sans Mono',consolas,'Courier New',monospace\"><span style=\"color: #7fbfbf; text-decoration-color: #7fbfbf\">                    </span><span style=\"color: #800000; text-decoration-color: #800000\">WARNING </span> The run <span style=\"color: #008000; text-decoration-color: #008000\">'ef29cc4c1ef141a2993c37c781ca9d82'</span> was already opened       <a href=\"file:///home/krzysiek/Development/solvency-modelling/venv/lib/python3.11/site-packages/kedro_mlflow/framework/hooks/mlflow_hook.py\" target=\"_blank\"><span style=\"color: #7f7f7f; text-decoration-color: #7f7f7f\">mlflow_hook.py</span></a><span style=\"color: #7f7f7f; text-decoration-color: #7f7f7f\">:</span><a href=\"file:///home/krzysiek/Development/solvency-modelling/venv/lib/python3.11/site-packages/kedro_mlflow/framework/hooks/mlflow_hook.py#395\" target=\"_blank\"><span style=\"color: #7f7f7f; text-decoration-color: #7f7f7f\">395</span></a>\n",
       "<span style=\"color: #7fbfbf; text-decoration-color: #7fbfbf\">                    </span>         before launching <span style=\"color: #008000; text-decoration-color: #008000\">'kedro run'</span> so it is not closed. You should close  <span style=\"color: #7f7f7f; text-decoration-color: #7f7f7f\">                  </span>\n",
       "<span style=\"color: #7fbfbf; text-decoration-color: #7fbfbf\">                    </span>         it manually.                                                        <span style=\"color: #7f7f7f; text-decoration-color: #7f7f7f\">                  </span>\n",
       "</pre>\n"
      ],
      "text/plain": [
       "\u001b[2;36m                   \u001b[0m\u001b[2;36m \u001b[0m\u001b[31mWARNING \u001b[0m The run \u001b[32m'ef29cc4c1ef141a2993c37c781ca9d82'\u001b[0m was already opened       \u001b]8;id=96901;file:///home/krzysiek/Development/solvency-modelling/venv/lib/python3.11/site-packages/kedro_mlflow/framework/hooks/mlflow_hook.py\u001b\\\u001b[2mmlflow_hook.py\u001b[0m\u001b]8;;\u001b\\\u001b[2m:\u001b[0m\u001b]8;id=363833;file:///home/krzysiek/Development/solvency-modelling/venv/lib/python3.11/site-packages/kedro_mlflow/framework/hooks/mlflow_hook.py#395\u001b\\\u001b[2m395\u001b[0m\u001b]8;;\u001b\\\n",
       "\u001b[2;36m                    \u001b[0m         before launching \u001b[32m'kedro run'\u001b[0m so it is not closed. You should close  \u001b[2m                  \u001b[0m\n",
       "\u001b[2;36m                    \u001b[0m         it manually.                                                        \u001b[2m                  \u001b[0m\n"
      ]
     },
     "metadata": {},
     "output_type": "display_data"
    }
   ],
   "source": [
    "task_out = my_kedro.run(pipeline_name=\"test\")"
   ]
  },
  {
   "cell_type": "code",
   "execution_count": 47,
   "id": "c5d5c452-3d49-4a67-9fe8-cd5218107159",
   "metadata": {
    "scrolled": true
   },
   "outputs": [],
   "source": [
    "catalog.list()"
   ]
  },
  {
   "cell_type": "code",
   "execution_count": 65,
   "id": "06b63f83-fadd-4f70-8c16-d006b2e7faa9",
   "metadata": {},
   "outputs": [],
   "source": [
    "calibrated_calib_predictions_df = catalog.load(\"calibrated_test_predictions_df\")"
   ]
  },
  {
   "cell_type": "code",
   "execution_count": 66,
   "id": "82eaef47-e2b5-4393-a610-cd4e7fc050a9",
   "metadata": {},
   "outputs": [],
   "source": [
    "calibrated_calib_predictions_df.head()"
   ]
  },
  {
   "cell_type": "code",
   "execution_count": 64,
   "id": "696fd9a6-c12d-4cee-b699-c386a288f7b4",
   "metadata": {
    "scrolled": true
   },
   "outputs": [],
   "source": [
    "task_out = my_kedro.run(pipeline_name=\"test\", level=\"DEBUG\")"
   ]
  },
  {
   "cell_type": "code",
   "execution_count": 5,
   "id": "ab3eb5a3-cde6-42d3-941d-6113d7ab0e29",
   "metadata": {
    "scrolled": true
   },
   "outputs": [],
   "source": [
    "task_out = my_kedro.run(pipeline_name=\"ds\", node_names=[\"process_parameters\", \"select_features\"])"
   ]
  },
  {
   "cell_type": "code",
   "execution_count": 30,
   "id": "86833c22-2a65-4d12-aeae-743d25d9d94b",
   "metadata": {},
   "outputs": [],
   "source": [
    "task_out = my_kedro.run(pipeline_name=\"ds\", node_names=[\"process_parameters\", \"fit_predictive_model\"])"
   ]
  },
  {
   "cell_type": "code",
   "execution_count": 74,
   "id": "c3797cd6-9bb5-4b12-8973-fde74711c37f",
   "metadata": {},
   "outputs": [],
   "source": [
    "# catalog.list()"
   ]
  },
  {
   "cell_type": "code",
   "execution_count": 301,
   "id": "fb24dd01-56bc-48a9-ac68-02905388f676",
   "metadata": {},
   "outputs": [],
   "source": [
    "sample_features_df = catalog.load(\"sample_features_df\")"
   ]
  },
  {
   "cell_type": "code",
   "execution_count": 214,
   "id": "8722f4f3-9bdc-4e18-b5d2-a1480aba5d53",
   "metadata": {},
   "outputs": [],
   "source": [
    "sample_features_df.head()"
   ]
  },
  {
   "cell_type": "code",
   "execution_count": 5,
   "id": "bfa78e6d-3144-4323-a18c-3711f95e250c",
   "metadata": {},
   "outputs": [],
   "source": [
    "transformed_sample_features_df = catalog.load(\"transformed_sample_features_df\")\n",
    "sample_target_df = catalog.load(\"sample_target_df\")"
   ]
  },
  {
   "cell_type": "code",
   "execution_count": 216,
   "id": "a9fe29cc-4304-42a6-a665-8ae861ab7fdf",
   "metadata": {},
   "outputs": [],
   "source": [
    "transformed_sample_features_df.head()"
   ]
  },
  {
   "cell_type": "code",
   "execution_count": 57,
   "id": "408d4fcb-b008-4929-962c-c8de23bb42ac",
   "metadata": {},
   "outputs": [],
   "source": [
    "rfe.get_selected_features()"
   ]
  },
  {
   "cell_type": "code",
   "execution_count": 60,
   "id": "0907e437-757f-4ddb-8f27-a3d5c02d0347",
   "metadata": {},
   "outputs": [],
   "source": [
    "transformed_sample_features_df.loc[:,rfe._selected_features]"
   ]
  },
  {
   "cell_type": "code",
   "execution_count": 217,
   "id": "15392c42-4595-4b8c-8d67-0760e2358c34",
   "metadata": {},
   "outputs": [],
   "source": [
    "transformed_sample_features_df.describe()"
   ]
  },
  {
   "cell_type": "code",
   "execution_count": 218,
   "id": "e62ba5d5-8c8a-4254-be16-ec89301932ee",
   "metadata": {},
   "outputs": [],
   "source": [
    "sample_target_df.head()"
   ]
  },
  {
   "cell_type": "code",
   "execution_count": 219,
   "id": "bfab9441-b3b3-4fc3-884a-fc7dad0aada5",
   "metadata": {},
   "outputs": [],
   "source": [
    "config.mdl_task.target_col"
   ]
  },
  {
   "cell_type": "code",
   "execution_count": 220,
   "id": "97437844-cc16-4968-b3eb-182b4e820763",
   "metadata": {},
   "outputs": [],
   "source": [
    "config.mdl_task.prediction_col"
   ]
  },
  {
   "cell_type": "code",
   "execution_count": 43,
   "id": "970c2863-cee4-4f4d-91b9-34d6f13c6996",
   "metadata": {},
   "outputs": [],
   "source": [
    "rfe = RecursiveFeatureEliminationSelector(config)\n",
    "rfe.fit(transformed_sample_features_df, sample_target_df)\n",
    "rfe.get_features_importances()"
   ]
  },
  {
   "cell_type": "code",
   "execution_count": 40,
   "id": "acefd715-3e2e-4d2a-96b6-7706584cda80",
   "metadata": {},
   "outputs": [],
   "source": [
    "importances = rfe.selector.estimator_.get_features_importances().copy()\n",
    "importances.index = rfe.selector.feature_names_in_[importances.index]\n",
    "importances"
   ]
  },
  {
   "cell_type": "code",
   "execution_count": 30,
   "id": "8750db34-6063-49f0-a05e-d027ff52f183",
   "metadata": {},
   "outputs": [],
   "source": [
    "rfe.selector.feature_names_in_"
   ]
  },
  {
   "cell_type": "code",
   "execution_count": 46,
   "id": "277f42bc-58d4-4fb3-bc9d-497bd4ebdffd",
   "metadata": {},
   "outputs": [],
   "source": [
    "\"\\n\".join(rfe.get_selected_features().tolist())"
   ]
  },
  {
   "cell_type": "code",
   "execution_count": 29,
   "id": "f9059d4b-206a-4e5c-aa6f-456329a2f13f",
   "metadata": {},
   "outputs": [],
   "source": [
    "rfe.selector.feature_names_in_ rfe.selector.estimator_.get_features_importances()"
   ]
  },
  {
   "cell_type": "code",
   "execution_count": 15,
   "id": "43179b3d-3b62-4ab8-afcc-a1f442719507",
   "metadata": {},
   "outputs": [],
   "source": [
    "rfe.get_features_importances()"
   ]
  },
  {
   "cell_type": "code",
   "execution_count": 24,
   "id": "e82a5b23-289c-43c6-bbb8-3601eb0f4493",
   "metadata": {},
   "outputs": [],
   "source": [
    "rfe.get_selected_features()"
   ]
  },
  {
   "cell_type": "code",
   "execution_count": 20,
   "id": "91d2e291-5d39-4831-8708-2628c279046a",
   "metadata": {},
   "outputs": [],
   "source": [
    "pd.Series(1 / rfe.selector.ranking_, index=pd.Index(rfe.selector.feature_names_in_))"
   ]
  },
  {
   "cell_type": "code",
   "execution_count": 401,
   "id": "0cea7602-cd1c-47fd-a8f8-a39f50ab2b65",
   "metadata": {},
   "outputs": [],
   "source": [
    "# from solvency_models.pipelines.p07_data_science.models.glm import GeneralizedLinearModel\n",
    "glm = GeneralizedLinearModel(config)\n",
    "glm.fit(transformed_sample_features_df, sample_target_df)\n",
    "glm.get_features_importances()"
   ]
  },
  {
   "cell_type": "code",
   "execution_count": 363,
   "id": "9bdc6593-d992-4619-9b68-95c9fed1513d",
   "metadata": {},
   "outputs": [],
   "source": [
    "rfe.selector.feature_names_in_"
   ]
  },
  {
   "cell_type": "code",
   "execution_count": 365,
   "id": "951eae78-a019-4452-9975-bd81c4142d5e",
   "metadata": {},
   "outputs": [],
   "source": [
    "rfe.selector.support_"
   ]
  },
  {
   "cell_type": "code",
   "execution_count": 364,
   "id": "b9350f60-4b22-4c22-a73f-e520d83294bc",
   "metadata": {},
   "outputs": [],
   "source": [
    "rfe.selector.feature_names_in_[rfe.selector.support_]"
   ]
  },
  {
   "cell_type": "code",
   "execution_count": 312,
   "id": "45d44671-6a96-4768-aaeb-0155c7e758a9",
   "metadata": {},
   "outputs": [],
   "source": [
    "lasso.get_selected_features()"
   ]
  },
  {
   "cell_type": "code",
   "execution_count": null,
   "id": "27d1c688-92be-4e14-b072-25e9aa4f625e",
   "metadata": {},
   "outputs": [],
   "source": []
  },
  {
   "cell_type": "code",
   "execution_count": 176,
   "id": "013531b2-84be-41c2-ac84-23b71cb15d30",
   "metadata": {},
   "outputs": [],
   "source": [
    "model = GeneralizedLinearModel(config)"
   ]
  },
  {
   "cell_type": "code",
   "execution_count": 177,
   "id": "c6e35547-a89b-41dd-938b-228e384d4df2",
   "metadata": {},
   "outputs": [],
   "source": [
    "model.fit(transformed_sample_features_df, sample_target_df)"
   ]
  },
  {
   "cell_type": "code",
   "execution_count": 178,
   "id": "b94de06f-e987-4a02-b2f6-8d92eb9849b8",
   "metadata": {},
   "outputs": [],
   "source": [
    "prediction_df = model.predict(transformed_sample_features_df)"
   ]
  },
  {
   "cell_type": "code",
   "execution_count": 173,
   "id": "909272b5-adff-4b83-a257-288e4dfd8b79",
   "metadata": {},
   "outputs": [],
   "source": [
    "s = pd.Series([0, 1, 2, 3, 4])\n",
    "pd.DataFrame(s)"
   ]
  },
  {
   "cell_type": "code",
   "execution_count": 179,
   "id": "3d692847-5c10-4263-8cc5-f33438edde20",
   "metadata": {},
   "outputs": [],
   "source": [
    "prediction_df"
   ]
  },
  {
   "cell_type": "code",
   "execution_count": 127,
   "id": "b0ab5fbf-eb2e-4dd1-a04f-9344c6503c5a",
   "metadata": {},
   "outputs": [],
   "source": [
    "prediction_df.name"
   ]
  },
  {
   "cell_type": "code",
   "execution_count": 183,
   "id": "2f52584d-d039-486e-acdf-e62683b37647",
   "metadata": {},
   "outputs": [],
   "source": [
    "model.summary()"
   ]
  },
  {
   "cell_type": "code",
   "execution_count": 92,
   "id": "0669867d-25ed-4e61-8b2d-e1cc079240a7",
   "metadata": {},
   "outputs": [],
   "source": [
    "prediction_df"
   ]
  },
  {
   "cell_type": "code",
   "execution_count": 25,
   "id": "82936db9-5add-426a-99a7-3932007bdfb8",
   "metadata": {},
   "outputs": [],
   "source": [
    "from solvency_models.pipelines.utils.mlflow_model import MLFlowModelLoader\n",
    "from solvency_models.pipelines.p08_model_calibration.utils import _calibration_model_artifact_path\n",
    "\n",
    "clb_model = MLFlowModelLoader(\"calibration model\").load_model(path=_calibration_model_artifact_path,\n",
    "                                                                  run_id=config.clb.mlflow_run_id)"
   ]
  },
  {
   "cell_type": "code",
   "execution_count": 26,
   "id": "99e0a7b8-ac39-4878-89a9-d7aa43cae8fa",
   "metadata": {},
   "outputs": [],
   "source": [
    "clb_model"
   ]
  },
  {
   "cell_type": "code",
   "execution_count": 27,
   "id": "7f62f526-5857-48e3-bcf2-0aea217a8f1d",
   "metadata": {},
   "outputs": [],
   "source": [
    "clb_model.y_thresholds_"
   ]
  },
  {
   "cell_type": "code",
   "execution_count": 28,
   "id": "c85e8054-d4a7-486c-b876-4d853e358408",
   "metadata": {},
   "outputs": [],
   "source": [
    "clb_model.X_thresholds_"
   ]
  },
  {
   "cell_type": "code",
   "execution_count": 31,
   "id": "5e9119f1-87ef-4857-be5c-425bf128c66b",
   "metadata": {},
   "outputs": [],
   "source": [
    "import numpy as np\n",
    "\n",
    "# Assuming clb_model.y_thresholds_ is a numpy array\n",
    "y_thresholds = clb_model.y_thresholds_\n",
    "\n",
    "# Define the x coordinates for the data points (xp)\n",
    "xp = np.arange(len(y_thresholds))\n",
    "\n",
    "# Define the x coordinates at which to evaluate the interpolant (x)\n",
    "x = np.linspace(0, len(y_thresholds) - 1, num=100)\n",
    "\n",
    "# Perform linear interpolation\n",
    "interpolated_y_thresholds = np.interp(x, xp, y_thresholds)"
   ]
  },
  {
   "cell_type": "code",
   "execution_count": 32,
   "id": "08ac3971-4dc6-4e60-8a28-006205712cce",
   "metadata": {},
   "outputs": [],
   "source": [
    "def calibrate(clb_model, y):\n",
    "    return np.interp(y, clb_model.X_thresholds_, clb_model.y_thresholds_)"
   ]
  },
  {
   "cell_type": "code",
   "execution_count": 33,
   "id": "0781112e-8569-481b-8f43-6472868de8d7",
   "metadata": {},
   "outputs": [],
   "source": [
    "y_cal = calibrate(clb_model, calibrated_test_predictions_df.pure_ClaimFreq_PRED)"
   ]
  },
  {
   "cell_type": "code",
   "execution_count": 34,
   "id": "57c51c99-5a70-4109-a90b-528b9cbcabde",
   "metadata": {},
   "outputs": [],
   "source": [
    "len(y_cal)"
   ]
  },
  {
   "cell_type": "code",
   "execution_count": 35,
   "id": "f21b1b7b-cd2d-4eaa-a7ce-3f3c877440ed",
   "metadata": {},
   "outputs": [],
   "source": [
    "y_cal"
   ]
  },
  {
   "cell_type": "code",
   "execution_count": 36,
   "id": "77f9ad9d-f92b-4ab6-b4ee-4e9d446f4a48",
   "metadata": {},
   "outputs": [],
   "source": [
    "calibrated_test_predictions_df.pure_ClaimFreq_PRED"
   ]
  },
  {
   "cell_type": "code",
   "execution_count": 37,
   "id": "9c331eeb-3089-4d8b-840c-35f33e4549eb",
   "metadata": {},
   "outputs": [],
   "source": [
    "len(np.unique(y_cal))"
   ]
  },
  {
   "cell_type": "code",
   "execution_count": 38,
   "id": "c3cdd0da-5d5d-430c-9a2c-6430a6d97996",
   "metadata": {},
   "outputs": [],
   "source": [
    "len(np.unique(calibrated_test_predictions_df.pure_ClaimFreq_PRED))"
   ]
  },
  {
   "cell_type": "code",
   "execution_count": 39,
   "id": "7a1886d7-723e-4268-b6cb-5b7f891e1f00",
   "metadata": {},
   "outputs": [],
   "source": [
    "len(np.unique(calibrated_test_predictions_df.calibrated_ClaimFreq_PRED))"
   ]
  },
  {
   "cell_type": "code",
   "execution_count": 42,
   "id": "1ef607ff-c63b-4e49-8f0f-015c90cfae1f",
   "metadata": {},
   "outputs": [],
   "source": [
    "y_pure_clb = calibrate(clb_model, calibrated_test_predictions_df.calibrated_ClaimFreq_PRED)"
   ]
  },
  {
   "cell_type": "code",
   "execution_count": 10,
   "id": "f5e3c877-d675-4c1f-9e50-9916fddb745a",
   "metadata": {},
   "outputs": [],
   "source": [
    "target_df = catalog.load(\"target_df\")"
   ]
  },
  {
   "cell_type": "code",
   "execution_count": 9,
   "id": "2a515f5c-b02d-43e8-be83-98f044f9de17",
   "metadata": {},
   "outputs": [],
   "source": [
    "calibrated_calib_predictions_df = catalog.load(\"calibrated_calib_predictions_df\")"
   ]
  },
  {
   "cell_type": "code",
   "execution_count": 65,
   "id": "109f2a58-f68c-4ab2-8611-d9ed00b23d96",
   "metadata": {},
   "outputs": [],
   "source": [
    "len(np.unique(y_cal))"
   ]
  },
  {
   "cell_type": "code",
   "execution_count": 11,
   "id": "6ed13192-b2e7-4f36-ab62-93b9a827e86d",
   "metadata": {},
   "outputs": [],
   "source": [
    "calibrated_calib_predictions_df"
   ]
  },
  {
   "cell_type": "code",
   "execution_count": 12,
   "id": "2324cb23-9133-40c5-9ee9-c236f558e338",
   "metadata": {},
   "outputs": [],
   "source": [
    "target_df"
   ]
  },
  {
   "cell_type": "code",
   "execution_count": 75,
   "id": "8db2a84e-7dac-4d16-8d73-55ddee7da928",
   "metadata": {},
   "outputs": [],
   "source": [
    "pure_sample_predictions_df = catalog.load(\"pure_sample_predictions_df\")"
   ]
  },
  {
   "cell_type": "code",
   "execution_count": 76,
   "id": "ff7bed0c-67ca-4640-a9fe-071695bbce70",
   "metadata": {},
   "outputs": [],
   "source": [
    "pure_sample_predictions_df"
   ]
  },
  {
   "cell_type": "code",
   "execution_count": 77,
   "id": "999809a9-9c64-42aa-aab0-29656bbc0938",
   "metadata": {},
   "outputs": [],
   "source": [
    "target_df = catalog.load(\"target_df\")"
   ]
  },
  {
   "cell_type": "code",
   "execution_count": 78,
   "id": "82d2a7a7-fd99-4bad-96ce-a395a585f7ed",
   "metadata": {},
   "outputs": [],
   "source": [
    "target_df"
   ]
  },
  {
   "cell_type": "code",
   "execution_count": 13,
   "id": "894c0f6b-cf6e-4c3d-9026-e0ec14ffa6d9",
   "metadata": {},
   "outputs": [],
   "source": [
    "y = target_df.loc[calibrated_calib_predictions_df.index, config.mdl_task.target_col]\n",
    "x = calibrated_calib_predictions_df.pure_ClaimFreq_PRED"
   ]
  },
  {
   "cell_type": "code",
   "execution_count": 16,
   "id": "14afbe00-62b3-4990-ba4e-2397d72d677b",
   "metadata": {},
   "outputs": [],
   "source": [
    "from cir_model import CenteredIsotonicRegression"
   ]
  },
  {
   "cell_type": "code",
   "execution_count": 14,
   "id": "20a1a27f-bfe1-487d-9151-27bb5ed96d5b",
   "metadata": {},
   "outputs": [],
   "source": [
    "y"
   ]
  },
  {
   "cell_type": "code",
   "execution_count": 15,
   "id": "fa2b817d-7937-4a23-aec2-b57bcf5d7d82",
   "metadata": {},
   "outputs": [],
   "source": [
    "x"
   ]
  },
  {
   "cell_type": "code",
   "execution_count": 18,
   "id": "6ceebc13-38ce-4b43-8de4-028fab45036f",
   "metadata": {},
   "outputs": [],
   "source": [
    "cir_model = CenteredIsotonicRegression()\n",
    "cir_model.fit(x, y)\n",
    "y_cir_cal = cir_model.predict(x)\n",
    "y_cir_cal"
   ]
  },
  {
   "cell_type": "code",
   "execution_count": 59,
   "id": "645e2764-6c90-4142-8f3e-f15df0afa7a8",
   "metadata": {},
   "outputs": [],
   "source": [
    "len(np.unique(y_cir_cal))"
   ]
  },
  {
   "cell_type": "code",
   "execution_count": 19,
   "id": "96238b8f-4b3b-4e83-9865-3c7e49da7440",
   "metadata": {},
   "outputs": [],
   "source": [
    "import sklearn"
   ]
  },
  {
   "cell_type": "code",
   "execution_count": 20,
   "id": "57ba0af8-4562-4ca1-8241-99232561bdff",
   "metadata": {},
   "outputs": [],
   "source": [
    "sklearn.__version__"
   ]
  },
  {
   "cell_type": "code",
   "execution_count": 22,
   "id": "036bee1a-2291-462f-9e4c-534dc0e533c0",
   "metadata": {},
   "outputs": [],
   "source": [
    "import cir_model"
   ]
  },
  {
   "cell_type": "code",
   "execution_count": 23,
   "id": "2d16ee44-6c4a-4258-b4c7-1696c9b19fb8",
   "metadata": {},
   "outputs": [],
   "source": [
    "cir_model.__version__"
   ]
  }
 ],
 "metadata": {
  "kernelspec": {
   "display_name": "Python 3 (ipykernel)",
   "language": "python",
   "name": "python3"
  },
  "language_info": {
   "codemirror_mode": {
    "name": "ipython",
    "version": 3
   },
   "file_extension": ".py",
   "mimetype": "text/x-python",
   "name": "python",
   "nbconvert_exporter": "python",
   "pygments_lexer": "ipython3",
   "version": "3.11.9"
  }
 },
 "nbformat": 4,
 "nbformat_minor": 5
}
