{
 "cells": [
  {
   "cell_type": "code",
   "execution_count": 1,
   "id": "0ed5f091-fe5e-4164-9e32-6edc5bf6f2d5",
   "metadata": {},
   "outputs": [],
   "source": [
    "import sys\n",
    "sys.path.insert(0, \"/home/krzysiek/Development/claim-modelling/claim_modelling_kedro/src/\")\n",
    "\n",
    "import logging\n",
    "\n",
    "logger = logging.getLogger(__name__)\n",
    "logger.setLevel(\"INFO\")"
   ]
  },
  {
   "cell_type": "code",
   "execution_count": 2,
   "id": "ee73e3ec-736d-47e0-b9dc-07270cdd33ac",
   "metadata": {},
   "outputs": [],
   "source": [
    "import os\n",
    "import mlflow\n",
    "import logging\n",
    "import time\n",
    "import tempfile\n",
    "from abc import ABC, abstractmethod\n",
    "from datetime import timedelta\n",
    "from typing import Any, Dict, Union, List, Tuple\n",
    "\n",
    "import pandas as pd\n",
    "import numpy as np\n",
    "\n",
    "\n",
    "logger = logging.getLogger(__name__)"
   ]
  },
  {
   "cell_type": "code",
   "execution_count": 3,
   "id": "01ccc792-49e6-4cc9-99d8-a8f56c886357",
   "metadata": {},
   "outputs": [],
   "source": [
    "# !pip install git+https://github.com/krzpiesiewicz/timeseries"
   ]
  },
  {
   "cell_type": "code",
   "execution_count": 4,
   "id": "75e81c8b-7ec1-400d-afab-dfcf8cdeefc2",
   "metadata": {},
   "outputs": [],
   "source": [
    "from timeseries import Interval, plot_ts\n",
    "from timeseries.plotting import plot_hist, plot_stats"
   ]
  },
  {
   "cell_type": "code",
   "execution_count": 8,
   "id": "4ef96814-ed7c-4703-b089-4849b2ebf05b",
   "metadata": {},
   "outputs": [],
   "source": [
    "mlflow.set_tracking_uri(\"http://127.0.0.1:5000\")\n",
    "mlflow.set_experiment(\"test\")\n",
    "run = mlflow.start_run(run_name=\"dev_run\")"
   ]
  },
  {
   "cell_type": "code",
   "execution_count": 9,
   "id": "0cd6a9d6-3a4f-437c-a53a-80671c4b2aff",
   "metadata": {},
   "outputs": [],
   "source": [
    "from claim_modelling_kedro.pipelines.utils.utils import (\n",
    "    load_metrics_table_from_mlflow,\n",
    "    load_predictions_and_target_from_mlflow,\n",
    "    load_metrics_cv_stats_from_mlflow,\n",
    "    get_partition,\n",
    "    get_mlflow_run_id_for_partition,\n",
    ")"
   ]
  },
  {
   "cell_type": "code",
   "execution_count": 51,
   "id": "0615a781-de4c-498d-9ba7-12482940fe34",
   "metadata": {},
   "outputs": [],
   "source": [
    "mlflow_run_id = \"9e92594a898c403481fc72fbcbeeeeb0\"\n",
    "mlflow_run_id = \"9495f8c7aaca483d894f0d3f39b58af8\""
   ]
  },
  {
   "cell_type": "code",
   "execution_count": 37,
   "id": "8ebb90fb-2e85-469f-bec9-facc095a550c",
   "metadata": {},
   "outputs": [
    {
     "data": {
      "text/plain": [
       "[<FileInfo: file_size=None, is_dir=True, path='predictions/test/prediction'>,\n",
       " <FileInfo: file_size=None, is_dir=True, path='predictions/test/target'>]"
      ]
     },
     "execution_count": 37,
     "metadata": {},
     "output_type": "execute_result"
    }
   ],
   "source": [
    "mlflow.artifacts.list_artifacts(run_id=mlflow_run_id, artifact_path=\"predictions/test\")"
   ]
  },
  {
   "cell_type": "code",
   "execution_count": 38,
   "id": "a1683513-23d6-417b-98ca-f90c6cc2e952",
   "metadata": {},
   "outputs": [
    {
     "data": {
      "text/plain": [
       "[<FileInfo: file_size=None, is_dir=True, path='predictions/sample/prediction'>,\n",
       " <FileInfo: file_size=None, is_dir=True, path='predictions/sample/target'>]"
      ]
     },
     "execution_count": 38,
     "metadata": {},
     "output_type": "execute_result"
    }
   ],
   "source": [
    "mlflow.artifacts.list_artifacts(run_id=mlflow_run_id, artifact_path=\"predictions/sample\")"
   ]
  },
  {
   "cell_type": "code",
   "execution_count": 52,
   "id": "13c4ca85-eb82-49c8-a1ea-d6f0cfb65044",
   "metadata": {},
   "outputs": [
    {
     "data": {
      "application/vnd.jupyter.widget-view+json": {
       "model_id": "529042043e4243c99790fb71b9f4ce9b",
       "version_major": 2,
       "version_minor": 0
      },
      "text/plain": [
       "Downloading artifacts:   0%|          | 0/1 [00:00<?, ?it/s]"
      ]
     },
     "metadata": {},
     "output_type": "display_data"
    },
    {
     "data": {
      "application/vnd.jupyter.widget-view+json": {
       "model_id": "d7291103b28344bea80d4e85ea4385b4",
       "version_major": 2,
       "version_minor": 0
      },
      "text/plain": [
       "Downloading artifacts:   0%|          | 0/1 [00:00<?, ?it/s]"
      ]
     },
     "metadata": {},
     "output_type": "display_data"
    },
    {
     "data": {
      "application/vnd.jupyter.widget-view+json": {
       "model_id": "f922a29f94b249129490e78e7512a522",
       "version_major": 2,
       "version_minor": 0
      },
      "text/plain": [
       "Downloading artifacts:   0%|          | 0/1 [00:00<?, ?it/s]"
      ]
     },
     "metadata": {},
     "output_type": "display_data"
    },
    {
     "data": {
      "application/vnd.jupyter.widget-view+json": {
       "model_id": "b7521631dae1444ebdf88a71a62becf9",
       "version_major": 2,
       "version_minor": 0
      },
      "text/plain": [
       "Downloading artifacts:   0%|          | 0/1 [00:00<?, ?it/s]"
      ]
     },
     "metadata": {},
     "output_type": "display_data"
    },
    {
     "data": {
      "application/vnd.jupyter.widget-view+json": {
       "model_id": "0dc4e0bb220e4693839a1f65b33d7a2a",
       "version_major": 2,
       "version_minor": 0
      },
      "text/plain": [
       "Downloading artifacts:   0%|          | 0/1 [00:00<?, ?it/s]"
      ]
     },
     "metadata": {},
     "output_type": "display_data"
    },
    {
     "data": {
      "application/vnd.jupyter.widget-view+json": {
       "model_id": "ee9b693691de4178855f3697e4a5f4f4",
       "version_major": 2,
       "version_minor": 0
      },
      "text/plain": [
       "Downloading artifacts:   0%|          | 0/1 [00:00<?, ?it/s]"
      ]
     },
     "metadata": {},
     "output_type": "display_data"
    }
   ],
   "source": [
    "sample_predictions_df, sample_target_df = load_predictions_and_target_from_mlflow(dataset=\"sample\", mlflow_run_id=mlflow_run_id)"
   ]
  },
  {
   "cell_type": "code",
   "execution_count": 14,
   "id": "71eee013-0040-4465-8a8c-659cb81adb0f",
   "metadata": {},
   "outputs": [
    {
     "data": {
      "application/vnd.jupyter.widget-view+json": {
       "model_id": "3dd466a8c20a4ba0affe41b12b10ca57",
       "version_major": 2,
       "version_minor": 0
      },
      "text/plain": [
       "Downloading artifacts:   0%|          | 0/1 [00:00<?, ?it/s]"
      ]
     },
     "metadata": {},
     "output_type": "display_data"
    },
    {
     "data": {
      "application/vnd.jupyter.widget-view+json": {
       "model_id": "96e83cd9252a453381b9a8d75f2c3727",
       "version_major": 2,
       "version_minor": 0
      },
      "text/plain": [
       "Downloading artifacts:   0%|          | 0/1 [00:00<?, ?it/s]"
      ]
     },
     "metadata": {},
     "output_type": "display_data"
    },
    {
     "data": {
      "application/vnd.jupyter.widget-view+json": {
       "model_id": "b00ab9d276e347c7a36a945a884a9355",
       "version_major": 2,
       "version_minor": 0
      },
      "text/plain": [
       "Downloading artifacts:   0%|          | 0/1 [00:00<?, ?it/s]"
      ]
     },
     "metadata": {},
     "output_type": "display_data"
    },
    {
     "data": {
      "application/vnd.jupyter.widget-view+json": {
       "model_id": "3352eae29a1445b498af6263a6de2cfa",
       "version_major": 2,
       "version_minor": 0
      },
      "text/plain": [
       "Downloading artifacts:   0%|          | 0/1 [00:00<?, ?it/s]"
      ]
     },
     "metadata": {},
     "output_type": "display_data"
    },
    {
     "data": {
      "application/vnd.jupyter.widget-view+json": {
       "model_id": "6f0a82faacb04e2e9000a48767ee65db",
       "version_major": 2,
       "version_minor": 0
      },
      "text/plain": [
       "Downloading artifacts:   0%|          | 0/1 [00:00<?, ?it/s]"
      ]
     },
     "metadata": {},
     "output_type": "display_data"
    },
    {
     "data": {
      "application/vnd.jupyter.widget-view+json": {
       "model_id": "655e5884eb9e48bfa19b73edf2206204",
       "version_major": 2,
       "version_minor": 0
      },
      "text/plain": [
       "Downloading artifacts:   0%|          | 0/1 [00:00<?, ?it/s]"
      ]
     },
     "metadata": {},
     "output_type": "display_data"
    }
   ],
   "source": [
    "calib_predictions_df, calib_target_df = load_predictions_and_target_from_mlflow(dataset=\"calib\", mlflow_run_id=mlflow_run_id)"
   ]
  },
  {
   "cell_type": "code",
   "execution_count": 15,
   "id": "bdd0fc11-c9d1-41b2-b7e0-9e11edea7712",
   "metadata": {},
   "outputs": [
    {
     "data": {
      "application/vnd.jupyter.widget-view+json": {
       "model_id": "705a7d238be24a8186152795a171cc5d",
       "version_major": 2,
       "version_minor": 0
      },
      "text/plain": [
       "Downloading artifacts:   0%|          | 0/1 [00:00<?, ?it/s]"
      ]
     },
     "metadata": {},
     "output_type": "display_data"
    },
    {
     "data": {
      "application/vnd.jupyter.widget-view+json": {
       "model_id": "8924c6be270f4f2ea38125a8df4e7d50",
       "version_major": 2,
       "version_minor": 0
      },
      "text/plain": [
       "Downloading artifacts:   0%|          | 0/1 [00:00<?, ?it/s]"
      ]
     },
     "metadata": {},
     "output_type": "display_data"
    },
    {
     "data": {
      "application/vnd.jupyter.widget-view+json": {
       "model_id": "019272a1344e42e1af27cb4d0af9d86d",
       "version_major": 2,
       "version_minor": 0
      },
      "text/plain": [
       "Downloading artifacts:   0%|          | 0/1 [00:00<?, ?it/s]"
      ]
     },
     "metadata": {},
     "output_type": "display_data"
    },
    {
     "data": {
      "application/vnd.jupyter.widget-view+json": {
       "model_id": "a9c13302fb9b4635aa16f0f81b051871",
       "version_major": 2,
       "version_minor": 0
      },
      "text/plain": [
       "Downloading artifacts:   0%|          | 0/1 [00:00<?, ?it/s]"
      ]
     },
     "metadata": {},
     "output_type": "display_data"
    },
    {
     "data": {
      "application/vnd.jupyter.widget-view+json": {
       "model_id": "b8fee95e9e134bdc9cd28a3928908dba",
       "version_major": 2,
       "version_minor": 0
      },
      "text/plain": [
       "Downloading artifacts:   0%|          | 0/1 [00:00<?, ?it/s]"
      ]
     },
     "metadata": {},
     "output_type": "display_data"
    },
    {
     "data": {
      "application/vnd.jupyter.widget-view+json": {
       "model_id": "d8a2cf42d78e42c0b9d155248ec143f2",
       "version_major": 2,
       "version_minor": 0
      },
      "text/plain": [
       "Downloading artifacts:   0%|          | 0/1 [00:00<?, ?it/s]"
      ]
     },
     "metadata": {},
     "output_type": "display_data"
    }
   ],
   "source": [
    "test_predictions_df, test_target_df = load_predictions_and_target_from_mlflow(dataset=\"test\", mlflow_run_id=mlflow_run_id)"
   ]
  },
  {
   "cell_type": "code",
   "execution_count": 40,
   "id": "d06c4b1b-41cd-4fbc-898a-4c472d21b2e3",
   "metadata": {},
   "outputs": [
    {
     "data": {
      "text/html": [
       "<div>\n",
       "<style scoped>\n",
       "    .dataframe tbody tr th:only-of-type {\n",
       "        vertical-align: middle;\n",
       "    }\n",
       "\n",
       "    .dataframe tbody tr th {\n",
       "        vertical-align: top;\n",
       "    }\n",
       "\n",
       "    .dataframe thead th {\n",
       "        text-align: right;\n",
       "    }\n",
       "</style>\n",
       "<table border=\"1\" class=\"dataframe\">\n",
       "  <thead>\n",
       "    <tr style=\"text-align: right;\">\n",
       "      <th></th>\n",
       "      <th>ClaimSeverity_PRED</th>\n",
       "    </tr>\n",
       "    <tr>\n",
       "      <th>IDpol</th>\n",
       "      <th></th>\n",
       "    </tr>\n",
       "  </thead>\n",
       "  <tbody>\n",
       "    <tr>\n",
       "      <th>2107169</th>\n",
       "      <td>1081.627268</td>\n",
       "    </tr>\n",
       "    <tr>\n",
       "      <th>2158993</th>\n",
       "      <td>1030.733399</td>\n",
       "    </tr>\n",
       "    <tr>\n",
       "      <th>2075943</th>\n",
       "      <td>1292.806738</td>\n",
       "    </tr>\n",
       "    <tr>\n",
       "      <th>2186693</th>\n",
       "      <td>840.436707</td>\n",
       "    </tr>\n",
       "    <tr>\n",
       "      <th>3110369</th>\n",
       "      <td>912.763224</td>\n",
       "    </tr>\n",
       "  </tbody>\n",
       "</table>\n",
       "</div>"
      ],
      "text/plain": [
       "         ClaimSeverity_PRED\n",
       "IDpol                      \n",
       "2107169         1081.627268\n",
       "2158993         1030.733399\n",
       "2075943         1292.806738\n",
       "2186693          840.436707\n",
       "3110369          912.763224"
      ]
     },
     "execution_count": 40,
     "metadata": {},
     "output_type": "execute_result"
    }
   ],
   "source": [
    "sample_predictions_df[\"0\"].head()"
   ]
  },
  {
   "cell_type": "code",
   "execution_count": 41,
   "id": "82682fe9-1181-4ea7-8d10-72d48c4454cf",
   "metadata": {},
   "outputs": [
    {
     "data": {
      "text/plain": [
       "IDpol\n",
       "1123011         1.490000\n",
       "177371          1.490000\n",
       "4166204         1.490000\n",
       "3057395         1.490000\n",
       "3047899         1.490000\n",
       "               ...      \n",
       "101035      48617.116058\n",
       "3145824     56629.165508\n",
       "1193287    112003.186539\n",
       "2104226    112003.186539\n",
       "1184070    112003.186539\n",
       "Name: ClaimSeverity_PRED, Length: 8000, dtype: float64"
      ]
     },
     "execution_count": 41,
     "metadata": {},
     "output_type": "execute_result"
    }
   ],
   "source": [
    "sample_predictions_df[\"0\"].ClaimSeverity_PRED.sort_values()"
   ]
  },
  {
   "cell_type": "code",
   "execution_count": 53,
   "id": "5b6e6d53-0bf5-4ced-8e21-d34c8af6a2fa",
   "metadata": {},
   "outputs": [
    {
     "data": {
      "text/plain": [
       "IDpol\n",
       "1123011   -368697.184872\n",
       "3057395   -368697.184872\n",
       "177371    -117198.423022\n",
       "4166204    -23012.709369\n",
       "3047899    -23012.709369\n",
       "3112717    -23012.709369\n",
       "Name: ClaimSeverity_PRED, dtype: float64"
      ]
     },
     "execution_count": 53,
     "metadata": {},
     "output_type": "execute_result"
    }
   ],
   "source": [
    "a = sample_predictions_df[\"0\"].ClaimSeverity_PRED.sort_values()\n",
    "a[a <= 0]"
   ]
  },
  {
   "cell_type": "code",
   "execution_count": 46,
   "id": "a000213c-b229-435b-bf4f-044c7ec36ca2",
   "metadata": {},
   "outputs": [
    {
     "data": {
      "image/png": "[encoded data removed]",
      "text/plain": [
       "<Figure size 900x500 with 1 Axes>"
      ]
     },
     "execution_count": 46,
     "metadata": {},
     "output_type": "execute_result"
    }
   ],
   "source": [
    "plot_ts(sample_predictions_df[\"0\"].ClaimSeverity_PRED.sort_values().values)"
   ]
  },
  {
   "cell_type": "code",
   "execution_count": 54,
   "id": "828712d0-5127-4321-872c-9d498342d735",
   "metadata": {},
   "outputs": [
    {
     "data": {
      "text/plain": [
       "11889694.029622028"
      ]
     },
     "execution_count": 54,
     "metadata": {},
     "output_type": "execute_result"
    }
   ],
   "source": [
    "sample_predictions_df[\"0\"].ClaimSeverity_PRED.sum()"
   ]
  },
  {
   "cell_type": "code",
   "execution_count": 48,
   "id": "e853bdec-c432-4735-8e57-4de3a8b3eebb",
   "metadata": {},
   "outputs": [
    {
     "data": {
      "text/plain": [
       "10576220.395"
      ]
     },
     "execution_count": 48,
     "metadata": {},
     "output_type": "execute_result"
    }
   ],
   "source": [
    "sample_target_df[\"0\"].ClaimSeverity_TRG.sum()"
   ]
  },
  {
   "cell_type": "code",
   "execution_count": 55,
   "id": "81e9326e-19ad-4690-85b8-de32e3689e3b",
   "metadata": {},
   "outputs": [
    {
     "data": {
      "text/plain": [
       "0.12419121250943146"
      ]
     },
     "execution_count": 55,
     "metadata": {},
     "output_type": "execute_result"
    }
   ],
   "source": [
    "(sample_predictions_df[\"0\"].ClaimSeverity_PRED.sum() - sample_target_df[\"0\"].ClaimSeverity_TRG.sum()) / sample_target_df[\"0\"].ClaimSeverity_TRG.sum()"
   ]
  },
  {
   "cell_type": "code",
   "execution_count": 33,
   "id": "f7738815-8aa0-4a09-8022-f4577c7aa138",
   "metadata": {},
   "outputs": [
    {
     "data": {
      "text/html": [
       "<div>\n",
       "<style scoped>\n",
       "    .dataframe tbody tr th:only-of-type {\n",
       "        vertical-align: middle;\n",
       "    }\n",
       "\n",
       "    .dataframe tbody tr th {\n",
       "        vertical-align: top;\n",
       "    }\n",
       "\n",
       "    .dataframe thead th {\n",
       "        text-align: right;\n",
       "    }\n",
       "</style>\n",
       "<table border=\"1\" class=\"dataframe\">\n",
       "  <thead>\n",
       "    <tr style=\"text-align: right;\">\n",
       "      <th></th>\n",
       "      <th>pure_ClaimSeverity_PRED</th>\n",
       "      <th>calibrated_ClaimSeverity_PRED</th>\n",
       "      <th>ClaimSeverity_PRED</th>\n",
       "    </tr>\n",
       "    <tr>\n",
       "      <th>IDpol</th>\n",
       "      <th></th>\n",
       "      <th></th>\n",
       "      <th></th>\n",
       "    </tr>\n",
       "  </thead>\n",
       "  <tbody>\n",
       "    <tr>\n",
       "      <th>1120377</th>\n",
       "      <td>1358.561438</td>\n",
       "      <td>3347.807066</td>\n",
       "      <td>3347.807066</td>\n",
       "    </tr>\n",
       "    <tr>\n",
       "      <th>3075820</th>\n",
       "      <td>2460.513002</td>\n",
       "      <td>3347.807066</td>\n",
       "      <td>3347.807066</td>\n",
       "    </tr>\n",
       "    <tr>\n",
       "      <th>4169019</th>\n",
       "      <td>2704.853022</td>\n",
       "      <td>3347.807066</td>\n",
       "      <td>3347.807066</td>\n",
       "    </tr>\n",
       "    <tr>\n",
       "      <th>1096763</th>\n",
       "      <td>1030.856045</td>\n",
       "      <td>2498.224465</td>\n",
       "      <td>2498.224465</td>\n",
       "    </tr>\n",
       "    <tr>\n",
       "      <th>2206511</th>\n",
       "      <td>1316.354055</td>\n",
       "      <td>2498.224465</td>\n",
       "      <td>2498.224465</td>\n",
       "    </tr>\n",
       "  </tbody>\n",
       "</table>\n",
       "</div>"
      ],
      "text/plain": [
       "         pure_ClaimSeverity_PRED  calibrated_ClaimSeverity_PRED  \\\n",
       "IDpol                                                             \n",
       "1120377              1358.561438                    3347.807066   \n",
       "3075820              2460.513002                    3347.807066   \n",
       "4169019              2704.853022                    3347.807066   \n",
       "1096763              1030.856045                    2498.224465   \n",
       "2206511              1316.354055                    2498.224465   \n",
       "\n",
       "         ClaimSeverity_PRED  \n",
       "IDpol                        \n",
       "1120377         3347.807066  \n",
       "3075820         3347.807066  \n",
       "4169019         3347.807066  \n",
       "1096763         2498.224465  \n",
       "2206511         2498.224465  "
      ]
     },
     "execution_count": 33,
     "metadata": {},
     "output_type": "execute_result"
    }
   ],
   "source": [
    "calib_predictions_df[\"0\"].head()"
   ]
  },
  {
   "cell_type": "code",
   "execution_count": 31,
   "id": "7c6f9736-6121-44ee-bd1e-e349a7ff6515",
   "metadata": {},
   "outputs": [
    {
     "data": {
      "text/plain": [
       "23752747.192142863"
      ]
     },
     "execution_count": 31,
     "metadata": {},
     "output_type": "execute_result"
    }
   ],
   "source": [
    "calib_predictions_df[\"0\"].ClaimSeverity_PRED.sum()"
   ]
  },
  {
   "cell_type": "code",
   "execution_count": 32,
   "id": "8ff98776-6a6e-4d7d-9546-50a81fe56f35",
   "metadata": {},
   "outputs": [
    {
     "data": {
      "text/plain": [
       "20765241.754166663"
      ]
     },
     "execution_count": 32,
     "metadata": {},
     "output_type": "execute_result"
    }
   ],
   "source": [
    "calib_target_df[\"0\"].ClaimSeverity_TRG.sum()"
   ]
  },
  {
   "cell_type": "code",
   "execution_count": 35,
   "id": "3b528036-153f-47f1-a9e5-94636b061346",
   "metadata": {},
   "outputs": [
    {
     "data": {
      "text/plain": [
       "IDpol\n",
       "3115657        1.490000\n",
       "40884          1.490000\n",
       "2268060        1.490000\n",
       "175357         1.490000\n",
       "155666         1.490000\n",
       "               ...     \n",
       "41960      31046.781379\n",
       "6092952    31046.781379\n",
       "5105891    31046.781379\n",
       "3123274    48617.116058\n",
       "2234497    48617.116058\n",
       "Name: pure_ClaimSeverity_PRED, Length: 8312, dtype: float64"
      ]
     },
     "execution_count": 35,
     "metadata": {},
     "output_type": "execute_result"
    }
   ],
   "source": [
    "calib_predictions_df[\"0\"].pure_ClaimSeverity_PRED.sort_values()"
   ]
  },
  {
   "cell_type": "code",
   "execution_count": 10,
   "id": "53c2d9d3-71f9-41e6-984f-4edecb6f74e6",
   "metadata": {
    "scrolled": true
   },
   "outputs": [
    {
     "data": {
      "text/plain": [
       "{'0':          pure_ClaimFreq_PRED  calibrated_ClaimFreq_PRED  ClaimFreq_PRED\n",
       " IDpol                                                                  \n",
       " 4169479             0.084812                   0.118505        0.118505\n",
       " 1029561             0.063508                   0.117399        0.117399\n",
       " 6101794             0.178691                   0.123507        0.123507\n",
       " 4120268             0.189139                   0.124076        0.124076\n",
       " 76230               0.495778                   0.142012        0.142012\n",
       " ...                      ...                        ...             ...\n",
       " 2069846             0.143597                   0.121613        0.121613\n",
       " 2069826             0.137237                   0.121273        0.121273\n",
       " 2069827             0.234025                   0.126553        0.126553\n",
       " 2069892             0.166104                   0.122824        0.122824\n",
       " 2069907             0.121476                   0.120434        0.120434\n",
       " \n",
       " [67801 rows x 3 columns],\n",
       " '1':          pure_ClaimFreq_PRED  calibrated_ClaimFreq_PRED  ClaimFreq_PRED\n",
       " IDpol                                                                  \n",
       " 3155836             0.032283                   0.102297        0.102297\n",
       " 2163982             0.059694                   0.105210        0.105210\n",
       " 2162875             0.062305                   0.105492        0.105492\n",
       " 3151243             0.225880                   0.124732        0.124732\n",
       " 1091784             0.117929                   0.111676        0.111676\n",
       " ...                      ...                        ...             ...\n",
       " 2069876             0.037105                   0.102804        0.102804\n",
       " 2069925             0.583662                   0.179938        0.179938\n",
       " 2069934             0.119338                   0.111837        0.111837\n",
       " 2069938             0.129332                   0.112988        0.112988\n",
       " 2069895             0.124310                   0.112408        0.112408\n",
       " \n",
       " [67801 rows x 3 columns],\n",
       " '2':          pure_ClaimFreq_PRED  calibrated_ClaimFreq_PRED  ClaimFreq_PRED\n",
       " IDpol                                                                  \n",
       " 2185848             0.124717                   0.107888        0.107888\n",
       " 2112487             0.038296                   0.102272        0.102272\n",
       " 82035               0.497292                   0.135856        0.135856\n",
       " 4180483             0.177783                   0.111489        0.111489\n",
       " 3175380             0.156638                   0.110040        0.110040\n",
       " ...                      ...                        ...             ...\n",
       " 2069883             0.050868                   0.103070        0.103070\n",
       " 2069893             0.157654                   0.110110        0.110110\n",
       " 2069896             0.054497                   0.103302        0.103302\n",
       " 2069901             0.102449                   0.106412        0.106412\n",
       " 2069904             0.150778                   0.109642        0.109642\n",
       " \n",
       " [67801 rows x 3 columns],\n",
       " '3':          pure_ClaimFreq_PRED  calibrated_ClaimFreq_PRED  ClaimFreq_PRED\n",
       " IDpol                                                                  \n",
       " 3002643             0.044118                   0.119772        0.119772\n",
       " 3078277             0.230104                   0.129774        0.129774\n",
       " 125402              0.084028                   0.121851        0.121851\n",
       " 3109660             0.207272                   0.128503        0.128503\n",
       " 1050869             0.104894                   0.122952        0.122952\n",
       " ...                      ...                        ...             ...\n",
       " 2069818             0.237023                   0.130162        0.130162\n",
       " 2069927             0.034069                   0.119254        0.119254\n",
       " 2069910             0.119280                   0.123718        0.123718\n",
       " 2069902             0.116392                   0.123564        0.123564\n",
       " 2069906             0.122417                   0.123885        0.123885\n",
       " \n",
       " [67801 rows x 3 columns],\n",
       " '4':          pure_ClaimFreq_PRED  calibrated_ClaimFreq_PRED  ClaimFreq_PRED\n",
       " IDpol                                                                  \n",
       " 91820               0.317126                   0.118671        0.118671\n",
       " 81178               0.060862                   0.093607        0.093607\n",
       " 92343               0.082304                   0.095484        0.095484\n",
       " 74231               0.583298                   0.151833        0.151833\n",
       " 1163458             0.104342                   0.097452        0.097452\n",
       " ...                      ...                        ...             ...\n",
       " 2069948             0.124836                   0.099319        0.099319\n",
       " 2069858             0.061346                   0.093649        0.093649\n",
       " 2069867             0.064983                   0.093965        0.093965\n",
       " 2069841             0.064471                   0.093921        0.093921\n",
       " 2069931             0.135471                   0.100302        0.100302\n",
       " \n",
       " [67801 rows x 3 columns],\n",
       " '5':          pure_ClaimFreq_PRED  calibrated_ClaimFreq_PRED  ClaimFreq_PRED\n",
       " IDpol                                                                  \n",
       " 2054078             0.300539                   0.122247        0.122247\n",
       " 3073240             0.120220                   0.103933        0.103933\n",
       " 97995               0.062470                   0.098669        0.098669\n",
       " 3153504             0.350477                   0.127866        0.127866\n",
       " 51720               0.131867                   0.105028        0.105028\n",
       " ...                      ...                        ...             ...\n",
       " 2069838             0.300539                   0.122247        0.122247\n",
       " 2069920             0.059399                   0.098397        0.098397\n",
       " 2069924             0.574431                   0.156421        0.156421\n",
       " 2069886             0.059399                   0.098397        0.098397\n",
       " 6114330             0.418613                   0.135953        0.135953\n",
       " \n",
       " [67800 rows x 3 columns],\n",
       " '6':          pure_ClaimFreq_PRED  calibrated_ClaimFreq_PRED  ClaimFreq_PRED\n",
       " IDpol                                                                  \n",
       " 2124033             0.155345                   0.124496        0.124496\n",
       " 6017766             0.080830                   0.115067        0.115067\n",
       " 1122963             0.113978                   0.119170        0.119170\n",
       " 178693              0.131844                   0.121442        0.121442\n",
       " 1171061             0.066607                   0.113350        0.113350\n",
       " ...                      ...                        ...             ...\n",
       " 2069836             0.317300                   0.147742        0.147742\n",
       " 2069929             0.235089                   0.135445        0.135445\n",
       " 2069932             0.138974                   0.122361        0.122361\n",
       " 2069881             0.284631                   0.142727        0.142727\n",
       " 2069900             0.219119                   0.133178        0.133178\n",
       " \n",
       " [67800 rows x 3 columns],\n",
       " '7':          pure_ClaimFreq_PRED  calibrated_ClaimFreq_PRED  ClaimFreq_PRED\n",
       " IDpol                                                                  \n",
       " 3088885             0.148075                   0.108423        0.108423\n",
       " 75290               0.541388                   0.178794        0.178794\n",
       " 4169952             0.063815                   0.097405        0.097405\n",
       " 2268342             0.058398                   0.096736        0.096736\n",
       " 3118189             0.298147                   0.131222        0.131222\n",
       " ...                      ...                        ...             ...\n",
       " 2069831             0.076984                   0.099050        0.099050\n",
       " 2069917             0.319016                   0.134752        0.134752\n",
       " 2069922             0.058935                   0.096803        0.096803\n",
       " 2069935             0.126972                   0.105552        0.105552\n",
       " 2069939             0.589256                   0.190017        0.190017\n",
       " \n",
       " [67800 rows x 3 columns],\n",
       " '8':          pure_ClaimFreq_PRED  calibrated_ClaimFreq_PRED  ClaimFreq_PRED\n",
       " IDpol                                                                  \n",
       " 2120448             0.220771                   0.133122        0.133122\n",
       " 2206399             0.286803                   0.141704        0.141704\n",
       " 1107289             0.125803                   0.121682        0.121682\n",
       " 3133614             0.114624                   0.120402        0.120402\n",
       " 3114873             0.105733                   0.119393        0.119393\n",
       " ...                      ...                        ...             ...\n",
       " 2069913             0.148127                   0.124279        0.124279\n",
       " 2069879             0.234320                   0.134839        0.134839\n",
       " 2069888             0.124539                   0.121537        0.121537\n",
       " 2069890             0.167809                   0.126615        0.126615\n",
       " 2069891             0.167809                   0.126615        0.126615\n",
       " \n",
       " [67800 rows x 3 columns],\n",
       " '9':          pure_ClaimFreq_PRED  calibrated_ClaimFreq_PRED  ClaimFreq_PRED\n",
       " IDpol                                                                  \n",
       " 5018634             0.087489                   0.102338        0.102338\n",
       " 5056636             0.250735                   0.115840        0.115840\n",
       " 2081184             0.067258                   0.100778        0.100778\n",
       " 101673              0.488999                   0.138807        0.138807\n",
       " 2128099             0.522681                   0.142402        0.142402\n",
       " ...                      ...                        ...             ...\n",
       " 2069839             0.307295                   0.120922        0.120922\n",
       " 2069829             0.060137                   0.100235        0.100235\n",
       " 2069873             0.235738                   0.114528        0.114528\n",
       " 2069942             0.122979                   0.105132        0.105132\n",
       " 2069936             0.094257                   0.102865        0.102865\n",
       " \n",
       " [67800 rows x 3 columns]}"
      ]
     },
     "execution_count": 10,
     "metadata": {},
     "output_type": "execute_result"
    }
   ],
   "source": [
    "predictions_df"
   ]
  },
  {
   "cell_type": "code",
   "execution_count": 26,
   "id": "af12de9b-7291-4ac2-9b8b-12fe1cbbfb23",
   "metadata": {},
   "outputs": [
    {
     "data": {
      "text/plain": [
       "[<FileInfo: file_size=2611, is_dir=False, path='results/test/pure_test_metrics_by_part.csv'>,\n",
       " <FileInfo: file_size=684, is_dir=False, path='results/test/pure_test_metrics_cv_stats.csv'>,\n",
       " <FileInfo: file_size=2590, is_dir=False, path='results/test/test_metrics_by_part.csv'>,\n",
       " <FileInfo: file_size=632, is_dir=False, path='results/test/test_metrics_cv_stats.csv'>]"
      ]
     },
     "execution_count": 26,
     "metadata": {},
     "output_type": "execute_result"
    }
   ],
   "source": [
    "mlflow.artifacts.list_artifacts(run_id=mlflow_run_id, artifact_path=\"results/test\")"
   ]
  },
  {
   "cell_type": "code",
   "execution_count": 37,
   "id": "343b30cd-486d-4887-9e1e-b29d4f2bdf7d",
   "metadata": {},
   "outputs": [],
   "source": [
    "def load_pd_dataframe_csv_from_mlflow(artifact_path: str, filename: str = None,mlflow_run_id: str = None, index_col=None,\n",
    "                                      columns_index_name=None) -> pd.DataFrame:\n",
    "    if mlflow_run_id is None:\n",
    "        mlflow_run_id = mlflow.active_run().info.run_id\n",
    "    with tempfile.TemporaryDirectory() as temp_dir:\n",
    "        artifact_path = f\"{artifact_path}/{filename}\" if filename is not None else artifact_path\n",
    "        artifact_uri = f\"runs:/{mlflow_run_id}/{artifact_path}\"\n",
    "        local_path = mlflow.tracking.artifact_utils._download_artifact_from_uri(artifact_uri, temp_dir)\n",
    "        df = pd.read_csv(local_path, index_col=index_col)\n",
    "        df.columns.name = columns_index_name\n",
    "        return df"
   ]
  },
  {
   "cell_type": "code",
   "execution_count": 38,
   "id": "b18dc8d0-7a75-418b-b045-793026cf3f05",
   "metadata": {},
   "outputs": [],
   "source": [
    "def _file_name(dataset: str, prefix: str = None, suffix: str = None, ext: str = None) -> str:\n",
    "    filename = f\"{prefix}_{dataset}\" if prefix is not None else dataset\n",
    "    filename = f\"{filename}_{suffix}\" if suffix is not None else filename\n",
    "    return f\"{filename}.{ext}\" if ext is not None else filename\n",
    "\n",
    "\n",
    "def get_metrics_table_filname_and_artifact_path(dataset: str, prefix: str = None) -> Tuple[str, str]:\n",
    "    filename = _file_name(dataset, prefix, \"metrics_by_part\", \"csv\")\n",
    "    artifact_path = f\"results/{dataset}\"\n",
    "    return filename, artifact_path\n",
    "\n",
    "\n",
    "def save_metrics_table_in_mlflow(metrics_df: pd.DataFrame, dataset: str, prefix: str = None):\n",
    "    csv_filename, artifact_path = get_metrics_table_filname_and_artifact_path(dataset, prefix)\n",
    "    save_pd_dataframe_as_csv_in_mlflow(metrics_df, artifact_path=artifact_path, csv_filename=csv_filename)\n",
    "\n",
    "\n",
    "def load_metrics_table_from_mlflow(dataset: str, prefix: str = None, mlflow_run_id: str = None) -> pd.DataFrame:\n",
    "    filename, artifact_path = get_metrics_table_filname_and_artifact_path(dataset, prefix)\n",
    "    metrics_df = load_pd_dataframe_csv_from_mlflow(artifact_path, filename, mlflow_run_id, index_col=\"metric\",\n",
    "                                                   columns_index_name=\"part\")\n",
    "    return metrics_df"
   ]
  },
  {
   "cell_type": "code",
   "execution_count": 41,
   "id": "b61d5d57-e2a1-4dcd-bde2-f15cd055662d",
   "metadata": {},
   "outputs": [],
   "source": [
    "def get_metrics_cv_stats_filname_and_artifact_path(dataset: str, prefix: str = None) -> Tuple[str, str]:\n",
    "    filename = _file_name(dataset, prefix, \"metrics_cv_stats\", \"csv\")\n",
    "    artifact_path = f\"results/{dataset}\"\n",
    "    return filename, artifact_path\n",
    "\n",
    "\n",
    "def load_metrics_cv_stats_from_mlflow(dataset: str, prefix: str = None, mlflow_run_id: str = None) -> pd.DataFrame:\n",
    "    filename, artifact_path = get_metrics_cv_stats_filname_and_artifact_path(dataset, prefix)\n",
    "    metrics_cv_stats_df = load_pd_dataframe_csv_from_mlflow(artifact_path, filename, mlflow_run_id, index_col=\"metric\")\n",
    "    return metrics_cv_stats_df"
   ]
  },
  {
   "cell_type": "code",
   "execution_count": 42,
   "id": "cd10dbab-8349-4c2e-9bd8-11950c82a4b5",
   "metadata": {},
   "outputs": [
    {
     "data": {
      "application/vnd.jupyter.widget-view+json": {
       "model_id": "79521e67a69e445a83c026737cb3b5ed",
       "version_major": 2,
       "version_minor": 0
      },
      "text/plain": [
       "Downloading artifacts:   0%|          | 0/1 [00:00<?, ?it/s]"
      ]
     },
     "metadata": {},
     "output_type": "display_data"
    }
   ],
   "source": [
    "metrics_cv_stats = load_metrics_cv_stats_from_mlflow(dataset=\"test\", mlflow_run_id = mlflow_run_id)"
   ]
  },
  {
   "cell_type": "code",
   "execution_count": null,
   "id": "dd2e5c5e-7d28-4096-be7d-e14b838a4693",
   "metadata": {},
   "outputs": [],
   "source": []
  },
  {
   "cell_type": "code",
   "execution_count": 43,
   "id": "6ed8d938-fce2-4652-9b87-12230b40a3af",
   "metadata": {},
   "outputs": [
    {
     "data": {
      "application/vnd.jupyter.widget-view+json": {
       "model_id": "bf46afc139064a2f8b43e8cd150c5c5c",
       "version_major": 2,
       "version_minor": 0
      },
      "text/plain": [
       "Downloading artifacts:   0%|          | 0/1 [00:00<?, ?it/s]"
      ]
     },
     "metadata": {},
     "output_type": "display_data"
    }
   ],
   "source": [
    "metrics_by_part = load_metrics_table_from_mlflow(dataset=\"test\", mlflow_run_id = mlflow_run_id)"
   ]
  },
  {
   "cell_type": "code",
   "execution_count": 44,
   "id": "4559381b-7bef-4d14-9a43-1eb1a4db8ace",
   "metadata": {},
   "outputs": [
    {
     "data": {
      "text/html": [
       "<div>\n",
       "<style scoped>\n",
       "    .dataframe tbody tr th:only-of-type {\n",
       "        vertical-align: middle;\n",
       "    }\n",
       "\n",
       "    .dataframe tbody tr th {\n",
       "        vertical-align: top;\n",
       "    }\n",
       "\n",
       "    .dataframe thead th {\n",
       "        text-align: right;\n",
       "    }\n",
       "</style>\n",
       "<table border=\"1\" class=\"dataframe\">\n",
       "  <thead>\n",
       "    <tr style=\"text-align: right;\">\n",
       "      <th>part</th>\n",
       "      <th>0</th>\n",
       "      <th>1</th>\n",
       "      <th>2</th>\n",
       "      <th>3</th>\n",
       "      <th>4</th>\n",
       "      <th>5</th>\n",
       "      <th>6</th>\n",
       "      <th>7</th>\n",
       "      <th>8</th>\n",
       "      <th>9</th>\n",
       "    </tr>\n",
       "    <tr>\n",
       "      <th>metric</th>\n",
       "      <th></th>\n",
       "      <th></th>\n",
       "      <th></th>\n",
       "      <th></th>\n",
       "      <th></th>\n",
       "      <th></th>\n",
       "      <th></th>\n",
       "      <th></th>\n",
       "      <th></th>\n",
       "      <th></th>\n",
       "    </tr>\n",
       "  </thead>\n",
       "  <tbody>\n",
       "    <tr>\n",
       "      <th>test_MPD</th>\n",
       "      <td>0.885846</td>\n",
       "      <td>1.052887</td>\n",
       "      <td>1.027052</td>\n",
       "      <td>0.944465</td>\n",
       "      <td>1.111153</td>\n",
       "      <td>0.825786</td>\n",
       "      <td>0.929565</td>\n",
       "      <td>1.133675</td>\n",
       "      <td>0.961578</td>\n",
       "      <td>1.134429</td>\n",
       "    </tr>\n",
       "    <tr>\n",
       "      <th>test_wMPD</th>\n",
       "      <td>0.505019</td>\n",
       "      <td>0.502245</td>\n",
       "      <td>0.489405</td>\n",
       "      <td>0.494871</td>\n",
       "      <td>0.484315</td>\n",
       "      <td>0.488367</td>\n",
       "      <td>0.500906</td>\n",
       "      <td>0.494655</td>\n",
       "      <td>0.497689</td>\n",
       "      <td>0.491305</td>\n",
       "    </tr>\n",
       "    <tr>\n",
       "      <th>test_RMSE</th>\n",
       "      <td>1.513411</td>\n",
       "      <td>2.012962</td>\n",
       "      <td>2.210971</td>\n",
       "      <td>1.782154</td>\n",
       "      <td>2.090518</td>\n",
       "      <td>1.157011</td>\n",
       "      <td>2.081918</td>\n",
       "      <td>2.446309</td>\n",
       "      <td>1.874213</td>\n",
       "      <td>2.471737</td>\n",
       "    </tr>\n",
       "    <tr>\n",
       "      <th>test_wRMSE</th>\n",
       "      <td>0.475220</td>\n",
       "      <td>0.497380</td>\n",
       "      <td>0.490774</td>\n",
       "      <td>0.474673</td>\n",
       "      <td>0.507172</td>\n",
       "      <td>0.460856</td>\n",
       "      <td>0.478562</td>\n",
       "      <td>0.513426</td>\n",
       "      <td>0.475881</td>\n",
       "      <td>0.522860</td>\n",
       "    </tr>\n",
       "    <tr>\n",
       "      <th>test_R2</th>\n",
       "      <td>-0.000013</td>\n",
       "      <td>-0.000033</td>\n",
       "      <td>0.000057</td>\n",
       "      <td>-0.000039</td>\n",
       "      <td>-0.000118</td>\n",
       "      <td>0.000160</td>\n",
       "      <td>-0.000037</td>\n",
       "      <td>0.000024</td>\n",
       "      <td>0.000135</td>\n",
       "      <td>-0.000001</td>\n",
       "    </tr>\n",
       "    <tr>\n",
       "      <th>test_wR2</th>\n",
       "      <td>-0.009950</td>\n",
       "      <td>-0.008303</td>\n",
       "      <td>-0.005438</td>\n",
       "      <td>-0.012563</td>\n",
       "      <td>-0.003927</td>\n",
       "      <td>-0.005484</td>\n",
       "      <td>-0.012740</td>\n",
       "      <td>-0.006914</td>\n",
       "      <td>-0.012645</td>\n",
       "      <td>-0.004112</td>\n",
       "    </tr>\n",
       "    <tr>\n",
       "      <th>test_MBD</th>\n",
       "      <td>-0.013600</td>\n",
       "      <td>0.003708</td>\n",
       "      <td>0.007861</td>\n",
       "      <td>-0.015178</td>\n",
       "      <td>0.021936</td>\n",
       "      <td>-0.005455</td>\n",
       "      <td>-0.018451</td>\n",
       "      <td>0.014418</td>\n",
       "      <td>-0.014462</td>\n",
       "      <td>0.018672</td>\n",
       "    </tr>\n",
       "    <tr>\n",
       "      <th>test_wMBD</th>\n",
       "      <td>-0.048384</td>\n",
       "      <td>-0.044381</td>\n",
       "      <td>-0.038422</td>\n",
       "      <td>-0.054090</td>\n",
       "      <td>-0.032194</td>\n",
       "      <td>-0.035958</td>\n",
       "      <td>-0.053802</td>\n",
       "      <td>-0.040086</td>\n",
       "      <td>-0.053971</td>\n",
       "      <td>-0.035364</td>\n",
       "    </tr>\n",
       "    <tr>\n",
       "      <th>test_SC</th>\n",
       "      <td>0.026622</td>\n",
       "      <td>0.022289</td>\n",
       "      <td>0.028210</td>\n",
       "      <td>0.023575</td>\n",
       "      <td>0.019243</td>\n",
       "      <td>0.023648</td>\n",
       "      <td>0.024641</td>\n",
       "      <td>0.023222</td>\n",
       "      <td>0.027876</td>\n",
       "      <td>0.026632</td>\n",
       "    </tr>\n",
       "    <tr>\n",
       "      <th>test_SRC</th>\n",
       "      <td>0.026622</td>\n",
       "      <td>0.022289</td>\n",
       "      <td>0.028210</td>\n",
       "      <td>0.023575</td>\n",
       "      <td>0.019243</td>\n",
       "      <td>0.023648</td>\n",
       "      <td>0.024641</td>\n",
       "      <td>0.023222</td>\n",
       "      <td>0.027876</td>\n",
       "      <td>0.026632</td>\n",
       "    </tr>\n",
       "    <tr>\n",
       "      <th>test_GINI</th>\n",
       "      <td>0.086352</td>\n",
       "      <td>0.016149</td>\n",
       "      <td>0.115341</td>\n",
       "      <td>0.074616</td>\n",
       "      <td>0.049831</td>\n",
       "      <td>0.099135</td>\n",
       "      <td>0.091366</td>\n",
       "      <td>0.132868</td>\n",
       "      <td>0.136062</td>\n",
       "      <td>0.101308</td>\n",
       "    </tr>\n",
       "    <tr>\n",
       "      <th>test_wGINI</th>\n",
       "      <td>0.391130</td>\n",
       "      <td>0.379032</td>\n",
       "      <td>0.393001</td>\n",
       "      <td>0.381377</td>\n",
       "      <td>0.376528</td>\n",
       "      <td>0.384240</td>\n",
       "      <td>0.385324</td>\n",
       "      <td>0.382347</td>\n",
       "      <td>0.392781</td>\n",
       "      <td>0.389903</td>\n",
       "    </tr>\n",
       "  </tbody>\n",
       "</table>\n",
       "</div>"
      ],
      "text/plain": [
       "part               0         1         2         3         4         5  \\\n",
       "metric                                                                   \n",
       "test_MPD    0.885846  1.052887  1.027052  0.944465  1.111153  0.825786   \n",
       "test_wMPD   0.505019  0.502245  0.489405  0.494871  0.484315  0.488367   \n",
       "test_RMSE   1.513411  2.012962  2.210971  1.782154  2.090518  1.157011   \n",
       "test_wRMSE  0.475220  0.497380  0.490774  0.474673  0.507172  0.460856   \n",
       "test_R2    -0.000013 -0.000033  0.000057 -0.000039 -0.000118  0.000160   \n",
       "test_wR2   -0.009950 -0.008303 -0.005438 -0.012563 -0.003927 -0.005484   \n",
       "test_MBD   -0.013600  0.003708  0.007861 -0.015178  0.021936 -0.005455   \n",
       "test_wMBD  -0.048384 -0.044381 -0.038422 -0.054090 -0.032194 -0.035958   \n",
       "test_SC     0.026622  0.022289  0.028210  0.023575  0.019243  0.023648   \n",
       "test_SRC    0.026622  0.022289  0.028210  0.023575  0.019243  0.023648   \n",
       "test_GINI   0.086352  0.016149  0.115341  0.074616  0.049831  0.099135   \n",
       "test_wGINI  0.391130  0.379032  0.393001  0.381377  0.376528  0.384240   \n",
       "\n",
       "part               6         7         8         9  \n",
       "metric                                              \n",
       "test_MPD    0.929565  1.133675  0.961578  1.134429  \n",
       "test_wMPD   0.500906  0.494655  0.497689  0.491305  \n",
       "test_RMSE   2.081918  2.446309  1.874213  2.471737  \n",
       "test_wRMSE  0.478562  0.513426  0.475881  0.522860  \n",
       "test_R2    -0.000037  0.000024  0.000135 -0.000001  \n",
       "test_wR2   -0.012740 -0.006914 -0.012645 -0.004112  \n",
       "test_MBD   -0.018451  0.014418 -0.014462  0.018672  \n",
       "test_wMBD  -0.053802 -0.040086 -0.053971 -0.035364  \n",
       "test_SC     0.024641  0.023222  0.027876  0.026632  \n",
       "test_SRC    0.024641  0.023222  0.027876  0.026632  \n",
       "test_GINI   0.091366  0.132868  0.136062  0.101308  \n",
       "test_wGINI  0.385324  0.382347  0.392781  0.389903  "
      ]
     },
     "execution_count": 44,
     "metadata": {},
     "output_type": "execute_result"
    }
   ],
   "source": [
    "metrics_by_part"
   ]
  }
 ],
 "metadata": {
  "kernelspec": {
   "display_name": "Python 3 (ipykernel)",
   "language": "python",
   "name": "python3"
  },
  "language_info": {
   "codemirror_mode": {
    "name": "ipython",
    "version": 3
   },
   "file_extension": ".py",
   "mimetype": "text/x-python",
   "name": "python",
   "nbconvert_exporter": "python",
   "pygments_lexer": "ipython3",
   "version": "3.11.9"
  }
 },
 "nbformat": 4,
 "nbformat_minor": 5
}
