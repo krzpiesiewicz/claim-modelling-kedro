{
 "cells": [
  {
   "cell_type": "code",
   "execution_count": 2,
   "id": "c50f90e1-35b0-4a0d-9e30-a5212f42682b",
   "metadata": {},
   "outputs": [],
   "source": [
    "import os\n",
    "import pandas as pd\n",
    "import numpy as np\n",
    "import matplotlib.pyplot as plt\n",
    "import plotly.express as px\n",
    "import plotly.graph_objects as go\n",
    "import plotly.figure_factory as ff\n",
    "import seaborn as sns\n",
    "\n",
    "from timeseries import plot_ts"
   ]
  },
  {
   "cell_type": "code",
   "execution_count": 3,
   "id": "60d7a1c4-fa41-47c8-8233-43248225f4b1",
   "metadata": {},
   "outputs": [],
   "source": [
    "data = pd.read_parquet(\"../data/03_primary/features.pq\")"
   ]
  },
  {
   "cell_type": "code",
   "execution_count": 4,
   "id": "6bfe35ae-9c3f-4836-afcb-fa44705fc785",
   "metadata": {},
   "outputs": [
    {
     "data": {
      "text/html": [
       "<div>\n",
       "<style scoped>\n",
       "    .dataframe tbody tr th:only-of-type {\n",
       "        vertical-align: middle;\n",
       "    }\n",
       "\n",
       "    .dataframe tbody tr th {\n",
       "        vertical-align: top;\n",
       "    }\n",
       "\n",
       "    .dataframe thead th {\n",
       "        text-align: right;\n",
       "    }\n",
       "</style>\n",
       "<table border=\"1\" class=\"dataframe\">\n",
       "  <thead>\n",
       "    <tr style=\"text-align: right;\">\n",
       "      <th></th>\n",
       "      <th>VehPower</th>\n",
       "      <th>VehAge</th>\n",
       "      <th>DrivAge</th>\n",
       "      <th>BonusMalus</th>\n",
       "      <th>Density</th>\n",
       "    </tr>\n",
       "  </thead>\n",
       "  <tbody>\n",
       "    <tr>\n",
       "      <th>count</th>\n",
       "      <td>678005.000000</td>\n",
       "      <td>678005.000000</td>\n",
       "      <td>678005.000000</td>\n",
       "      <td>678005.000000</td>\n",
       "      <td>678005.000000</td>\n",
       "    </tr>\n",
       "    <tr>\n",
       "      <th>mean</th>\n",
       "      <td>6.454656</td>\n",
       "      <td>7.044208</td>\n",
       "      <td>45.499020</td>\n",
       "      <td>59.761617</td>\n",
       "      <td>1792.428023</td>\n",
       "    </tr>\n",
       "    <tr>\n",
       "      <th>std</th>\n",
       "      <td>2.050903</td>\n",
       "      <td>5.666239</td>\n",
       "      <td>14.137486</td>\n",
       "      <td>15.636714</td>\n",
       "      <td>3958.667052</td>\n",
       "    </tr>\n",
       "    <tr>\n",
       "      <th>min</th>\n",
       "      <td>4.000000</td>\n",
       "      <td>0.000000</td>\n",
       "      <td>18.000000</td>\n",
       "      <td>50.000000</td>\n",
       "      <td>1.000000</td>\n",
       "    </tr>\n",
       "    <tr>\n",
       "      <th>25%</th>\n",
       "      <td>5.000000</td>\n",
       "      <td>2.000000</td>\n",
       "      <td>34.000000</td>\n",
       "      <td>50.000000</td>\n",
       "      <td>92.000000</td>\n",
       "    </tr>\n",
       "    <tr>\n",
       "      <th>50%</th>\n",
       "      <td>6.000000</td>\n",
       "      <td>6.000000</td>\n",
       "      <td>44.000000</td>\n",
       "      <td>50.000000</td>\n",
       "      <td>393.000000</td>\n",
       "    </tr>\n",
       "    <tr>\n",
       "      <th>75%</th>\n",
       "      <td>7.000000</td>\n",
       "      <td>11.000000</td>\n",
       "      <td>55.000000</td>\n",
       "      <td>64.000000</td>\n",
       "      <td>1658.000000</td>\n",
       "    </tr>\n",
       "    <tr>\n",
       "      <th>max</th>\n",
       "      <td>15.000000</td>\n",
       "      <td>100.000000</td>\n",
       "      <td>100.000000</td>\n",
       "      <td>230.000000</td>\n",
       "      <td>27000.000000</td>\n",
       "    </tr>\n",
       "  </tbody>\n",
       "</table>\n",
       "</div>"
      ],
      "text/plain": [
       "            VehPower         VehAge        DrivAge     BonusMalus  \\\n",
       "count  678005.000000  678005.000000  678005.000000  678005.000000   \n",
       "mean        6.454656       7.044208      45.499020      59.761617   \n",
       "std         2.050903       5.666239      14.137486      15.636714   \n",
       "min         4.000000       0.000000      18.000000      50.000000   \n",
       "25%         5.000000       2.000000      34.000000      50.000000   \n",
       "50%         6.000000       6.000000      44.000000      50.000000   \n",
       "75%         7.000000      11.000000      55.000000      64.000000   \n",
       "max        15.000000     100.000000     100.000000     230.000000   \n",
       "\n",
       "             Density  \n",
       "count  678005.000000  \n",
       "mean     1792.428023  \n",
       "std      3958.667052  \n",
       "min         1.000000  \n",
       "25%        92.000000  \n",
       "50%       393.000000  \n",
       "75%      1658.000000  \n",
       "max     27000.000000  "
      ]
     },
     "execution_count": 4,
     "metadata": {},
     "output_type": "execute_result"
    }
   ],
   "source": [
    "data.describe()"
   ]
  },
  {
   "cell_type": "code",
   "execution_count": 5,
   "id": "ac9e5e29-d8f9-4d4d-bec0-2a3accda262a",
   "metadata": {},
   "outputs": [
    {
     "data": {
      "text/html": [
       "<div>\n",
       "<style scoped>\n",
       "    .dataframe tbody tr th:only-of-type {\n",
       "        vertical-align: middle;\n",
       "    }\n",
       "\n",
       "    .dataframe tbody tr th {\n",
       "        vertical-align: top;\n",
       "    }\n",
       "\n",
       "    .dataframe thead th {\n",
       "        text-align: right;\n",
       "    }\n",
       "</style>\n",
       "<table border=\"1\" class=\"dataframe\">\n",
       "  <thead>\n",
       "    <tr style=\"text-align: right;\">\n",
       "      <th></th>\n",
       "      <th>VehPower</th>\n",
       "      <th>VehAge</th>\n",
       "      <th>DrivAge</th>\n",
       "      <th>BonusMalus</th>\n",
       "      <th>VehBrand</th>\n",
       "      <th>VehGas</th>\n",
       "      <th>Area</th>\n",
       "      <th>Density</th>\n",
       "      <th>Region</th>\n",
       "    </tr>\n",
       "    <tr>\n",
       "      <th>IDpol</th>\n",
       "      <th></th>\n",
       "      <th></th>\n",
       "      <th></th>\n",
       "      <th></th>\n",
       "      <th></th>\n",
       "      <th></th>\n",
       "      <th></th>\n",
       "      <th></th>\n",
       "      <th></th>\n",
       "    </tr>\n",
       "  </thead>\n",
       "  <tbody>\n",
       "    <tr>\n",
       "      <th>1</th>\n",
       "      <td>5</td>\n",
       "      <td>0</td>\n",
       "      <td>55</td>\n",
       "      <td>50</td>\n",
       "      <td>B12</td>\n",
       "      <td>Regular</td>\n",
       "      <td>D</td>\n",
       "      <td>1217</td>\n",
       "      <td>Rhone-Alpes</td>\n",
       "    </tr>\n",
       "    <tr>\n",
       "      <th>3</th>\n",
       "      <td>5</td>\n",
       "      <td>0</td>\n",
       "      <td>55</td>\n",
       "      <td>50</td>\n",
       "      <td>B12</td>\n",
       "      <td>Regular</td>\n",
       "      <td>D</td>\n",
       "      <td>1217</td>\n",
       "      <td>Rhone-Alpes</td>\n",
       "    </tr>\n",
       "    <tr>\n",
       "      <th>5</th>\n",
       "      <td>6</td>\n",
       "      <td>2</td>\n",
       "      <td>52</td>\n",
       "      <td>50</td>\n",
       "      <td>B12</td>\n",
       "      <td>Diesel</td>\n",
       "      <td>B</td>\n",
       "      <td>54</td>\n",
       "      <td>Picardie</td>\n",
       "    </tr>\n",
       "    <tr>\n",
       "      <th>10</th>\n",
       "      <td>7</td>\n",
       "      <td>0</td>\n",
       "      <td>46</td>\n",
       "      <td>50</td>\n",
       "      <td>B12</td>\n",
       "      <td>Diesel</td>\n",
       "      <td>B</td>\n",
       "      <td>76</td>\n",
       "      <td>Aquitaine</td>\n",
       "    </tr>\n",
       "    <tr>\n",
       "      <th>11</th>\n",
       "      <td>7</td>\n",
       "      <td>0</td>\n",
       "      <td>46</td>\n",
       "      <td>50</td>\n",
       "      <td>B12</td>\n",
       "      <td>Diesel</td>\n",
       "      <td>B</td>\n",
       "      <td>76</td>\n",
       "      <td>Aquitaine</td>\n",
       "    </tr>\n",
       "  </tbody>\n",
       "</table>\n",
       "</div>"
      ],
      "text/plain": [
       "       VehPower  VehAge  DrivAge  BonusMalus VehBrand   VehGas Area  Density  \\\n",
       "IDpol                                                                          \n",
       "1             5       0       55          50      B12  Regular    D     1217   \n",
       "3             5       0       55          50      B12  Regular    D     1217   \n",
       "5             6       2       52          50      B12   Diesel    B       54   \n",
       "10            7       0       46          50      B12   Diesel    B       76   \n",
       "11            7       0       46          50      B12   Diesel    B       76   \n",
       "\n",
       "            Region  \n",
       "IDpol               \n",
       "1      Rhone-Alpes  \n",
       "3      Rhone-Alpes  \n",
       "5         Picardie  \n",
       "10       Aquitaine  \n",
       "11       Aquitaine  "
      ]
     },
     "execution_count": 5,
     "metadata": {},
     "output_type": "execute_result"
    }
   ],
   "source": [
    "data.head()"
   ]
  },
  {
   "cell_type": "markdown",
   "id": "dff156e5-8013-46f9-91ba-bed7290757ed",
   "metadata": {},
   "source": [
    "## VehGas"
   ]
  },
  {
   "cell_type": "code",
   "execution_count": 7,
   "id": "77ad9230-59d5-4ceb-943c-6ae8d1f6f038",
   "metadata": {},
   "outputs": [
    {
     "data": {
      "text/plain": [
       "VehGas\n",
       "Regular    345870\n",
       "Diesel     332135\n",
       "Name: count, dtype: int64"
      ]
     },
     "execution_count": 7,
     "metadata": {},
     "output_type": "execute_result"
    }
   ],
   "source": [
    "data.VehGas.value_counts()"
   ]
  },
  {
   "cell_type": "markdown",
   "id": "b80b2f77-9690-432b-9525-0476f554987e",
   "metadata": {},
   "source": [
    "## VehBrand"
   ]
  },
  {
   "cell_type": "code",
   "execution_count": 13,
   "id": "f34ac44b-b2f0-4ad3-9a55-132679530e0f",
   "metadata": {},
   "outputs": [
    {
     "data": {
      "text/plain": [
       "VehBrand\n",
       "B12    166024\n",
       "B1     162729\n",
       "B2     159860\n",
       "B3      53395\n",
       "B5      34753\n",
       "B6      28548\n",
       "B4      25179\n",
       "B10     17707\n",
       "B11     13585\n",
       "B13     12178\n",
       "B14      4047\n",
       "Name: count, dtype: int64"
      ]
     },
     "execution_count": 13,
     "metadata": {},
     "output_type": "execute_result"
    }
   ],
   "source": [
    "data.VehBrand.value_counts()"
   ]
  },
  {
   "cell_type": "markdown",
   "id": "0327190b-0197-41fc-be37-77441eedcede",
   "metadata": {},
   "source": [
    "## Region"
   ]
  },
  {
   "cell_type": "code",
   "execution_count": 15,
   "id": "4ab2975c-aff0-441e-ae12-ed13c8231ca9",
   "metadata": {},
   "outputs": [
    {
     "data": {
      "text/plain": [
       "Region\n",
       "Centre                         160601\n",
       "Rhone-Alpes                     84752\n",
       "Provence-Alpes-Cotes-D'Azur     79314\n",
       "Ile-de-France                   69791\n",
       "Bretagne                        42122\n",
       "Nord-Pas-de-Calais              40275\n",
       "Pays-de-la-Loire                38751\n",
       "Languedoc-Roussillon            35798\n",
       "Aquitaine                       31329\n",
       "Poitou-Charentes                19046\n",
       "Midi-Pyrenees                   17141\n",
       "Basse-Normandie                 10893\n",
       "Bourgogne                       10492\n",
       "Haute-Normandie                  8784\n",
       "Picardie                         7994\n",
       "Auvergne                         5287\n",
       "Limousin                         4567\n",
       "Corse                            4516\n",
       "Champagne-Ardenne                3026\n",
       "Alsace                           2200\n",
       "Franche-Comte                    1326\n",
       "Name: count, dtype: int64"
      ]
     },
     "execution_count": 15,
     "metadata": {},
     "output_type": "execute_result"
    }
   ],
   "source": [
    "data.Region.value_counts()"
   ]
  },
  {
   "cell_type": "markdown",
   "id": "089d2afe-7201-4088-8e50-670508e47b1d",
   "metadata": {},
   "source": [
    "## Area"
   ]
  },
  {
   "cell_type": "code",
   "execution_count": 66,
   "id": "185a8e37-3615-4719-8dff-c0ef1f8bc32a",
   "metadata": {},
   "outputs": [
    {
     "data": {
      "text/plain": [
       "Area\n",
       "A    103957\n",
       "B     75459\n",
       "C    191880\n",
       "D    151589\n",
       "E    137166\n",
       "F     17954\n",
       "Name: count, dtype: int64"
      ]
     },
     "execution_count": 66,
     "metadata": {},
     "output_type": "execute_result"
    }
   ],
   "source": [
    "data.Area.value_counts().sort_index()"
   ]
  },
  {
   "cell_type": "markdown",
   "id": "4a1c80a3-a897-44c3-ab59-b05069d0885a",
   "metadata": {},
   "source": [
    "## DrivAge"
   ]
  },
  {
   "cell_type": "code",
   "execution_count": 46,
   "id": "4cc28456-e13d-4c9d-91ee-1a7cc4daf0af",
   "metadata": {},
   "outputs": [
    {
     "data": {
      "text/plain": [
       "IDpol\n",
       "1          55\n",
       "3          55\n",
       "5          52\n",
       "10         46\n",
       "11         46\n",
       "           ..\n",
       "6114326    54\n",
       "6114327    41\n",
       "6114328    45\n",
       "6114329    60\n",
       "6114330    29\n",
       "Name: DrivAge, Length: 678005, dtype: int64"
      ]
     },
     "execution_count": 46,
     "metadata": {},
     "output_type": "execute_result"
    }
   ],
   "source": [
    "data.DrivAge"
   ]
  },
  {
   "cell_type": "code",
   "execution_count": 33,
   "id": "4cebbc02-5f23-4de5-bc7e-c40e3fe00eba",
   "metadata": {},
   "outputs": [],
   "source": [
    "thres = np.array([18, 21, 26, 31, 41, 51, 71])"
   ]
  },
  {
   "cell_type": "code",
   "execution_count": 51,
   "id": "8e34350a-557f-4247-9fe3-bd41e6d8f0ca",
   "metadata": {},
   "outputs": [
    {
     "data": {
      "text/plain": [
       "DrivAge\n",
       "51    198869\n",
       "31    170097\n",
       "41    165185\n",
       "26     65594\n",
       "71     39365\n",
       "21     32079\n",
       "18      6816\n",
       "Name: count, dtype: int64"
      ]
     },
     "execution_count": 51,
     "metadata": {},
     "output_type": "execute_result"
    }
   ],
   "source": [
    "g = data.DrivAge.apply(lambda age: thres[np.argmax(age < thres) - 1])\n",
    "g.value_counts()"
   ]
  },
  {
   "cell_type": "code",
   "execution_count": 30,
   "id": "96b917ed-15cc-4fc7-bd6d-3e3705c76c1a",
   "metadata": {},
   "outputs": [
    {
     "data": {
      "text/plain": [
       "0"
      ]
     },
     "execution_count": 30,
     "metadata": {},
     "output_type": "execute_result"
    }
   ],
   "source": [
    "sum(data.DrivAge < 18)"
   ]
  },
  {
   "cell_type": "code",
   "execution_count": 52,
   "id": "780a85a1-93ef-49bb-9ce4-a58897d6ea02",
   "metadata": {},
   "outputs": [
    {
     "data": {
      "text/plain": [
       "<Axes: xlabel='DrivAge', ylabel='Count'>"
      ]
     },
     "execution_count": 52,
     "metadata": {},
     "output_type": "execute_result"
    },
    {
     "data": {
      "image/png": "[encoded data removed]",
      "text/plain": [
       "<Figure size 640x480 with 1 Axes>"
      ]
     },
     "metadata": {},
     "output_type": "display_data"
    }
   ],
   "source": [
    "sns.histplot(data.DrivAge)"
   ]
  },
  {
   "cell_type": "code",
   "execution_count": 53,
   "id": "80c12c51-0c3f-4613-b11c-336570883d29",
   "metadata": {},
   "outputs": [
    {
     "data": {
      "text/plain": [
       "<Axes: xlabel='DrivAge', ylabel='Count'>"
      ]
     },
     "execution_count": 53,
     "metadata": {},
     "output_type": "execute_result"
    },
    {
     "data": {
      "image/png": "[encoded data removed]",
      "text/plain": [
       "<Figure size 640x480 with 1 Axes>"
      ]
     },
     "metadata": {},
     "output_type": "display_data"
    }
   ],
   "source": [
    "sns.histplot(g)"
   ]
  },
  {
   "cell_type": "code",
   "execution_count": 103,
   "id": "542fea1f-a6d7-4b8b-a114-a507811ce8d7",
   "metadata": {},
   "outputs": [],
   "source": [
    "def create_category_feature(\n",
    "    features_df: pd.DataFrame,\n",
    "    column: str,\n",
    "    intervals: list,\n",
    "    labels: list = None,\n",
    "    right: bool = False,\n",
    "    new_column: str = None\n",
    ") -> pd.DataFrame:\n",
    "    # Generowanie etykiet, jeśli nie podano\n",
    "    if labels is None:\n",
    "        labels = []\n",
    "        for i in range(len(intervals) - 1):\n",
    "            left = intervals[i]\n",
    "            right_ = intervals[i + 1]\n",
    "            left_str = \"-infty\" if left == float(\"-inf\") else str(left)\n",
    "            right_str = \"infty\" if right_ == float(\"inf\") else str(right_)\n",
    "            if right:\n",
    "                label = f\"({left_str},{right_str}]\"\n",
    "            else:\n",
    "                label = f\"[{left_str},{right_str})\"\n",
    "            labels.append(label)\n",
    "    # Kategoryzacja\n",
    "    category = pd.cut(features_df[column], bins=intervals, labels=labels, right=right)\n",
    "    # Zamiana NaN na None\n",
    "    category = category.where(~category.isna(), None)\n",
    "    category_df = pd.DataFrame()\n",
    "    category_df[new_column or f\"{column}Category\"] = category\n",
    "    return category_df"
   ]
  },
  {
   "cell_type": "code",
   "execution_count": 105,
   "id": "82bcd7f5-30bd-4e09-8212-3c09edda5baf",
   "metadata": {},
   "outputs": [
    {
     "data": {
      "text/html": [
       "<div>\n",
       "<style scoped>\n",
       "    .dataframe tbody tr th:only-of-type {\n",
       "        vertical-align: middle;\n",
       "    }\n",
       "\n",
       "    .dataframe tbody tr th {\n",
       "        vertical-align: top;\n",
       "    }\n",
       "\n",
       "    .dataframe thead th {\n",
       "        text-align: right;\n",
       "    }\n",
       "</style>\n",
       "<table border=\"1\" class=\"dataframe\">\n",
       "  <thead>\n",
       "    <tr style=\"text-align: right;\">\n",
       "      <th></th>\n",
       "      <th>DrivAge</th>\n",
       "    </tr>\n",
       "    <tr>\n",
       "      <th>IDpol</th>\n",
       "      <th></th>\n",
       "    </tr>\n",
       "  </thead>\n",
       "  <tbody>\n",
       "    <tr>\n",
       "      <th>1</th>\n",
       "      <td>[51,71)</td>\n",
       "    </tr>\n",
       "    <tr>\n",
       "      <th>3</th>\n",
       "      <td>[51,71)</td>\n",
       "    </tr>\n",
       "    <tr>\n",
       "      <th>5</th>\n",
       "      <td>[51,71)</td>\n",
       "    </tr>\n",
       "    <tr>\n",
       "      <th>10</th>\n",
       "      <td>[41,51)</td>\n",
       "    </tr>\n",
       "    <tr>\n",
       "      <th>11</th>\n",
       "      <td>[41,51)</td>\n",
       "    </tr>\n",
       "    <tr>\n",
       "      <th>...</th>\n",
       "      <td>...</td>\n",
       "    </tr>\n",
       "    <tr>\n",
       "      <th>6114326</th>\n",
       "      <td>[51,71)</td>\n",
       "    </tr>\n",
       "    <tr>\n",
       "      <th>6114327</th>\n",
       "      <td>[41,51)</td>\n",
       "    </tr>\n",
       "    <tr>\n",
       "      <th>6114328</th>\n",
       "      <td>[41,51)</td>\n",
       "    </tr>\n",
       "    <tr>\n",
       "      <th>6114329</th>\n",
       "      <td>[51,71)</td>\n",
       "    </tr>\n",
       "    <tr>\n",
       "      <th>6114330</th>\n",
       "      <td>[26,31)</td>\n",
       "    </tr>\n",
       "  </tbody>\n",
       "</table>\n",
       "<p>678005 rows × 1 columns</p>\n",
       "</div>"
      ],
      "text/plain": [
       "         DrivAge\n",
       "IDpol           \n",
       "1        [51,71)\n",
       "3        [51,71)\n",
       "5        [51,71)\n",
       "10       [41,51)\n",
       "11       [41,51)\n",
       "...          ...\n",
       "6114326  [51,71)\n",
       "6114327  [41,51)\n",
       "6114328  [41,51)\n",
       "6114329  [51,71)\n",
       "6114330  [26,31)\n",
       "\n",
       "[678005 rows x 1 columns]"
      ]
     },
     "execution_count": 105,
     "metadata": {},
     "output_type": "execute_result"
    }
   ],
   "source": [
    "age_intervals = [18, 21, 26, 31, 41, 51, 71, float(\"inf\")]\n",
    "create_category_feature(\n",
    "    data,\n",
    "    column=\"DrivAge\",\n",
    "    intervals=age_intervals,\n",
    "    right=False,\n",
    "    new_column=\"DrivAge\" # we replace the original column with the new one\n",
    ")"
   ]
  },
  {
   "cell_type": "markdown",
   "id": "79205073-22e4-4c23-9212-d3550cb7f32a",
   "metadata": {},
   "source": [
    "## VehAge"
   ]
  },
  {
   "cell_type": "code",
   "execution_count": 54,
   "id": "a15a9ab6-ecf6-4cba-b02c-3f458a43bb48",
   "metadata": {},
   "outputs": [
    {
     "data": {
      "text/plain": [
       "IDpol\n",
       "1          0\n",
       "3          0\n",
       "5          2\n",
       "10         0\n",
       "11         0\n",
       "          ..\n",
       "6114326    0\n",
       "6114327    0\n",
       "6114328    2\n",
       "6114329    0\n",
       "6114330    6\n",
       "Name: VehAge, Length: 678005, dtype: int64"
      ]
     },
     "execution_count": 54,
     "metadata": {},
     "output_type": "execute_result"
    }
   ],
   "source": [
    "data.VehAge"
   ]
  },
  {
   "cell_type": "code",
   "execution_count": 55,
   "id": "353f136e-a2ad-4c0d-8e67-b014625d35ff",
   "metadata": {},
   "outputs": [
    {
     "data": {
      "text/plain": [
       "<Axes: xlabel='VehAge', ylabel='Count'>"
      ]
     },
     "execution_count": 55,
     "metadata": {},
     "output_type": "execute_result"
    },
    {
     "data": {
      "image/png": "[encoded data removed]",
      "text/plain": [
       "<Figure size 640x480 with 1 Axes>"
      ]
     },
     "metadata": {},
     "output_type": "display_data"
    }
   ],
   "source": [
    "sns.histplot(data.VehAge)"
   ]
  },
  {
   "cell_type": "code",
   "execution_count": 56,
   "id": "7d87f992-3179-45f4-a2f2-b8d110c6267e",
   "metadata": {},
   "outputs": [],
   "source": [
    "thres = np.array([0,1,10])"
   ]
  },
  {
   "cell_type": "code",
   "execution_count": 57,
   "id": "0bc24514-7f04-4b64-918f-f0d5bc18ccdf",
   "metadata": {},
   "outputs": [
    {
     "data": {
      "text/plain": [
       "VehAge\n",
       "1     396096\n",
       "10    224170\n",
       "0      57739\n",
       "Name: count, dtype: int64"
      ]
     },
     "execution_count": 57,
     "metadata": {},
     "output_type": "execute_result"
    }
   ],
   "source": [
    "g = data.VehAge.apply(lambda age: thres[np.argmax(age < thres) - 1])\n",
    "g.value_counts()"
   ]
  },
  {
   "cell_type": "code",
   "execution_count": 58,
   "id": "327c8b73-0425-4a80-b6bb-3584341588f6",
   "metadata": {},
   "outputs": [
    {
     "data": {
      "text/plain": [
       "<Axes: xlabel='VehAge', ylabel='Count'>"
      ]
     },
     "execution_count": 58,
     "metadata": {},
     "output_type": "execute_result"
    },
    {
     "data": {
      "image/png": "[encoded data removed]",
      "text/plain": [
       "<Figure size 640x480 with 1 Axes>"
      ]
     },
     "metadata": {},
     "output_type": "display_data"
    }
   ],
   "source": [
    "sns.histplot(g)"
   ]
  },
  {
   "cell_type": "markdown",
   "id": "fdb8ca34-64b4-4659-80eb-6279b91b1090",
   "metadata": {},
   "source": [
    "## VehPower"
   ]
  },
  {
   "cell_type": "code",
   "execution_count": 59,
   "id": "55224121-b6ff-4720-a97e-31f3992ff32c",
   "metadata": {},
   "outputs": [
    {
     "data": {
      "text/plain": [
       "IDpol\n",
       "1          5\n",
       "3          5\n",
       "5          6\n",
       "10         7\n",
       "11         7\n",
       "          ..\n",
       "6114326    4\n",
       "6114327    4\n",
       "6114328    6\n",
       "6114329    4\n",
       "6114330    7\n",
       "Name: VehPower, Length: 678005, dtype: int64"
      ]
     },
     "execution_count": 59,
     "metadata": {},
     "output_type": "execute_result"
    }
   ],
   "source": [
    "data.VehPower"
   ]
  },
  {
   "cell_type": "code",
   "execution_count": 60,
   "id": "e82ce6d3-f57a-483f-9e2e-24b1a75adeed",
   "metadata": {},
   "outputs": [
    {
     "data": {
      "text/plain": [
       "<Axes: xlabel='VehPower', ylabel='Count'>"
      ]
     },
     "execution_count": 60,
     "metadata": {},
     "output_type": "execute_result"
    },
    {
     "data": {
      "image/png": "[encoded data removed]",
      "text/plain": [
       "<Figure size 640x480 with 1 Axes>"
      ]
     },
     "metadata": {},
     "output_type": "display_data"
    }
   ],
   "source": [
    "sns.histplot(data.VehPower)"
   ]
  },
  {
   "cell_type": "code",
   "execution_count": 61,
   "id": "6faab879-b5f5-4572-b3cb-c5b2aeb4c761",
   "metadata": {},
   "outputs": [
    {
     "data": {
      "text/plain": [
       "array([0, 1, 2, 3, 4, 5, 6, 7, 8, 9])"
      ]
     },
     "execution_count": 61,
     "metadata": {},
     "output_type": "execute_result"
    }
   ],
   "source": [
    "thres = np.arange(0, 10)\n",
    "thres"
   ]
  },
  {
   "cell_type": "code",
   "execution_count": 64,
   "id": "6df4cd26-1224-4126-b3f5-4fc2eaa32175",
   "metadata": {},
   "outputs": [
    {
     "data": {
      "text/plain": [
       "VehPower\n",
       "6    148976\n",
       "7    145400\n",
       "5    124821\n",
       "4    115342\n",
       "9     96510\n",
       "8     46956\n",
       "Name: count, dtype: int64"
      ]
     },
     "execution_count": 64,
     "metadata": {},
     "output_type": "execute_result"
    }
   ],
   "source": [
    "g = data.VehPower.apply(lambda age: thres[np.argmax(age < thres) - 1])\n",
    "g.value_counts()"
   ]
  },
  {
   "cell_type": "code",
   "execution_count": 65,
   "id": "d52cbfef-c07b-4bb3-bd13-ecf3c6b28e04",
   "metadata": {},
   "outputs": [
    {
     "data": {
      "text/plain": [
       "<Axes: xlabel='VehPower', ylabel='Count'>"
      ]
     },
     "execution_count": 65,
     "metadata": {},
     "output_type": "execute_result"
    },
    {
     "data": {
      "image/png": "[encoded data removed]",
      "text/plain": [
       "<Figure size 640x480 with 1 Axes>"
      ]
     },
     "metadata": {},
     "output_type": "display_data"
    }
   ],
   "source": [
    "sns.histplot(g)"
   ]
  },
  {
   "cell_type": "code",
   "execution_count": 117,
   "id": "84d62ba8-109b-4180-b8bd-031a061cf615",
   "metadata": {},
   "outputs": [
    {
     "data": {
      "text/plain": [
       "VehPowerCategory\n",
       "[6,7)               148976\n",
       "[7,8)               145400\n",
       "[5,6)               124821\n",
       "[4,5)               115342\n",
       "[9,infty)            96510\n",
       "[8,9)                46956\n",
       "Name: count, dtype: int64"
      ]
     },
     "execution_count": 117,
     "metadata": {},
     "output_type": "execute_result"
    }
   ],
   "source": [
    "veh_power_intervals = list(range(4, 10)) + [float(\"inf\")]\n",
    "c = create_category_feature(\n",
    "    data,\n",
    "    column=\"VehPower\",\n",
    "    intervals=veh_power_intervals,\n",
    "    right=False,\n",
    "    new_column=\"VehPowerCategory\"\n",
    ")\n",
    "c.value_counts(dropna=False)"
   ]
  },
  {
   "cell_type": "markdown",
   "id": "e0948b7b-7b35-46d1-856c-5e27d94a7f30",
   "metadata": {},
   "source": [
    "## Density"
   ]
  },
  {
   "cell_type": "code",
   "execution_count": 67,
   "id": "92524ed3-62dd-4d8a-8cef-b24a99cb0c29",
   "metadata": {},
   "outputs": [
    {
     "data": {
      "text/plain": [
       "IDpol\n",
       "1          1217\n",
       "3          1217\n",
       "5            54\n",
       "10           76\n",
       "11           76\n",
       "           ... \n",
       "6114326    3317\n",
       "6114327    9850\n",
       "6114328    1323\n",
       "6114329      95\n",
       "6114330      65\n",
       "Name: Density, Length: 678005, dtype: int64"
      ]
     },
     "execution_count": 67,
     "metadata": {},
     "output_type": "execute_result"
    }
   ],
   "source": [
    "data.Density"
   ]
  },
  {
   "cell_type": "code",
   "execution_count": 68,
   "id": "75e9db5e-b193-420e-9e2c-35a710c56825",
   "metadata": {},
   "outputs": [
    {
     "data": {
      "text/plain": [
       "<Axes: xlabel='Density', ylabel='Count'>"
      ]
     },
     "execution_count": 68,
     "metadata": {},
     "output_type": "execute_result"
    },
    {
     "data": {
      "image/png": "[encoded data removed]",
      "text/plain": [
       "<Figure size 640x480 with 1 Axes>"
      ]
     },
     "metadata": {},
     "output_type": "display_data"
    }
   ],
   "source": [
    "sns.histplot(data.Density)"
   ]
  },
  {
   "cell_type": "code",
   "execution_count": 69,
   "id": "f4f4106d-ebea-438c-afa0-bc6abf96e32c",
   "metadata": {},
   "outputs": [
    {
     "data": {
      "text/plain": [
       "<Axes: xlabel='Density', ylabel='Count'>"
      ]
     },
     "execution_count": 69,
     "metadata": {},
     "output_type": "execute_result"
    },
    {
     "data": {
      "image/png": "[encoded data removed]",
      "text/plain": [
       "<Figure size 640x480 with 1 Axes>"
      ]
     },
     "metadata": {},
     "output_type": "display_data"
    }
   ],
   "source": [
    "sns.histplot(np.log(data.Density))"
   ]
  },
  {
   "cell_type": "markdown",
   "id": "7800d90b-0cc9-4fd0-b59f-98639e7e79d6",
   "metadata": {},
   "source": [
    "## BonusMalus"
   ]
  },
  {
   "cell_type": "code",
   "execution_count": 70,
   "id": "6b35453b-36c3-4ab0-88f5-5550a76b3da9",
   "metadata": {},
   "outputs": [
    {
     "data": {
      "text/plain": [
       "IDpol\n",
       "1          50\n",
       "3          50\n",
       "5          50\n",
       "10         50\n",
       "11         50\n",
       "           ..\n",
       "6114326    50\n",
       "6114327    95\n",
       "6114328    50\n",
       "6114329    50\n",
       "6114330    54\n",
       "Name: BonusMalus, Length: 678005, dtype: int64"
      ]
     },
     "execution_count": 70,
     "metadata": {},
     "output_type": "execute_result"
    }
   ],
   "source": [
    "data.BonusMalus"
   ]
  },
  {
   "cell_type": "code",
   "execution_count": 71,
   "id": "abc049da-1209-4250-a69d-be576e74a14f",
   "metadata": {},
   "outputs": [
    {
     "data": {
      "text/plain": [
       "<Axes: xlabel='BonusMalus', ylabel='Count'>"
      ]
     },
     "execution_count": 71,
     "metadata": {},
     "output_type": "execute_result"
    },
    {
     "data": {
      "image/png": "[encoded data removed]",
      "text/plain": [
       "<Figure size 640x480 with 1 Axes>"
      ]
     },
     "metadata": {},
     "output_type": "display_data"
    }
   ],
   "source": [
    "sns.histplot(data.BonusMalus)"
   ]
  },
  {
   "cell_type": "code",
   "execution_count": 95,
   "id": "25504b33-3864-48de-977a-d83861953638",
   "metadata": {},
   "outputs": [
    {
     "data": {
      "text/plain": [
       "BonusMalus\n",
       "151      1\n",
       "156    139\n",
       "158      4\n",
       "162      2\n",
       "163      1\n",
       "165     11\n",
       "166      2\n",
       "173      7\n",
       "174      2\n",
       "175      3\n",
       "176      3\n",
       "177      2\n",
       "183      6\n",
       "185      5\n",
       "187      3\n",
       "190      3\n",
       "195      6\n",
       "196      3\n",
       "198      2\n",
       "208      1\n",
       "218      1\n",
       "228      1\n",
       "230      1\n",
       "Name: count, dtype: int64"
      ]
     },
     "execution_count": 95,
     "metadata": {},
     "output_type": "execute_result"
    }
   ],
   "source": [
    "data.BonusMalus[data.BonusMalus >= 150].value_counts().sort_index()"
   ]
  },
  {
   "cell_type": "code",
   "execution_count": 12,
   "id": "2d7603f4-9544-408a-91c9-9cbfee7e3030",
   "metadata": {},
   "outputs": [
    {
     "data": {
      "text/plain": [
       "BonusMalus\n",
       "91       186\n",
       "92       131\n",
       "93       205\n",
       "94        43\n",
       "95     16726\n",
       "       ...  \n",
       "198        2\n",
       "208        1\n",
       "218        1\n",
       "228        1\n",
       "230        1\n",
       "Name: count, Length: 74, dtype: int64"
      ]
     },
     "execution_count": 12,
     "metadata": {},
     "output_type": "execute_result"
    }
   ],
   "source": [
    "data.BonusMalus[data.BonusMalus >= 91].value_counts().sort_index()"
   ]
  },
  {
   "cell_type": "code",
   "execution_count": 96,
   "id": "0f65c191-944b-4f4f-94e3-879855b5d630",
   "metadata": {},
   "outputs": [
    {
     "data": {
      "text/plain": [
       "<Axes: xlabel='BonusMalus', ylabel='Count'>"
      ]
     },
     "execution_count": 96,
     "metadata": {},
     "output_type": "execute_result"
    },
    {
     "data": {
      "image/png": "[encoded data removed]",
      "text/plain": [
       "<Figure size 640x480 with 1 Axes>"
      ]
     },
     "metadata": {},
     "output_type": "display_data"
    }
   ],
   "source": [
    "sns.histplot(data.BonusMalus[data.BonusMalus < 150])"
   ]
  },
  {
   "cell_type": "code",
   "execution_count": 100,
   "id": "80ca24f1-19ea-4cf8-8c2c-b1c3c426a06b",
   "metadata": {},
   "outputs": [
    {
     "data": {
      "text/plain": [
       "BonusMalus\n",
       "50     384148\n",
       "100     19530\n",
       "68      18791\n",
       "72      18580\n",
       "76      18226\n",
       "64      18192\n",
       "80      18086\n",
       "57      17938\n",
       "60      17363\n",
       "54      17360\n",
       "85      16887\n",
       "95      16726\n",
       "90      16585\n",
       "51      15869\n",
       "62       7180\n",
       "58       5970\n",
       "55       5593\n",
       "52       4770\n",
       "56       3453\n",
       "53       3351\n",
       "63       3169\n",
       "67       2782\n",
       "59       2779\n",
       "71       2056\n",
       "61       1724\n",
       "112      1703\n",
       "106      1670\n",
       "118      1647\n",
       "65       1533\n",
       "125      1418\n",
       "66       1348\n",
       "75       1345\n",
       "70       1113\n",
       "69       1097\n",
       "73        985\n",
       "77        983\n",
       "74        671\n",
       "78        641\n",
       "81        533\n",
       "83        438\n",
       "88        318\n",
       "86        314\n",
       "82        294\n",
       "79        253\n",
       "93        205\n",
       "91        186\n",
       "87        182\n",
       "96        132\n",
       "92        131\n",
       "147       121\n",
       "84        120\n",
       "140       118\n",
       "132       113\n",
       "101       107\n",
       "97        105\n",
       "Name: count, dtype: int64"
      ]
     },
     "execution_count": 100,
     "metadata": {},
     "output_type": "execute_result"
    }
   ],
   "source": [
    "c = data.BonusMalus[data.BonusMalus < 150].value_counts()\n",
    "c[c > 100]"
   ]
  },
  {
   "cell_type": "code",
   "execution_count": 101,
   "id": "610b3c64-abc9-42c5-bf94-969baf9d3726",
   "metadata": {},
   "outputs": [
    {
     "data": {
      "text/plain": [
       "BonusMalus\n",
       "False    384148\n",
       "True     293857\n",
       "Name: count, dtype: int64"
      ]
     },
     "execution_count": 101,
     "metadata": {},
     "output_type": "execute_result"
    }
   ],
   "source": [
    "(data.BonusMalus > 50).value_counts()"
   ]
  },
  {
   "cell_type": "code",
   "execution_count": 120,
   "id": "e0cefcbe-7468-4be1-a459-8d78491a2ddd",
   "metadata": {},
   "outputs": [
    {
     "data": {
      "text/html": [
       "<div>\n",
       "<style scoped>\n",
       "    .dataframe tbody tr th:only-of-type {\n",
       "        vertical-align: middle;\n",
       "    }\n",
       "\n",
       "    .dataframe tbody tr th {\n",
       "        vertical-align: top;\n",
       "    }\n",
       "\n",
       "    .dataframe thead th {\n",
       "        text-align: right;\n",
       "    }\n",
       "</style>\n",
       "<table border=\"1\" class=\"dataframe\">\n",
       "  <thead>\n",
       "    <tr style=\"text-align: right;\">\n",
       "      <th></th>\n",
       "      <th>BonusMalus</th>\n",
       "    </tr>\n",
       "    <tr>\n",
       "      <th>IDpol</th>\n",
       "      <th></th>\n",
       "    </tr>\n",
       "  </thead>\n",
       "  <tbody>\n",
       "    <tr>\n",
       "      <th>1</th>\n",
       "      <td>50</td>\n",
       "    </tr>\n",
       "    <tr>\n",
       "      <th>3</th>\n",
       "      <td>50</td>\n",
       "    </tr>\n",
       "    <tr>\n",
       "      <th>5</th>\n",
       "      <td>50</td>\n",
       "    </tr>\n",
       "    <tr>\n",
       "      <th>10</th>\n",
       "      <td>50</td>\n",
       "    </tr>\n",
       "    <tr>\n",
       "      <th>11</th>\n",
       "      <td>50</td>\n",
       "    </tr>\n",
       "    <tr>\n",
       "      <th>...</th>\n",
       "      <td>...</td>\n",
       "    </tr>\n",
       "    <tr>\n",
       "      <th>6114326</th>\n",
       "      <td>50</td>\n",
       "    </tr>\n",
       "    <tr>\n",
       "      <th>6114327</th>\n",
       "      <td>95</td>\n",
       "    </tr>\n",
       "    <tr>\n",
       "      <th>6114328</th>\n",
       "      <td>50</td>\n",
       "    </tr>\n",
       "    <tr>\n",
       "      <th>6114329</th>\n",
       "      <td>50</td>\n",
       "    </tr>\n",
       "    <tr>\n",
       "      <th>6114330</th>\n",
       "      <td>54</td>\n",
       "    </tr>\n",
       "  </tbody>\n",
       "</table>\n",
       "<p>678005 rows × 1 columns</p>\n",
       "</div>"
      ],
      "text/plain": [
       "         BonusMalus\n",
       "IDpol              \n",
       "1                50\n",
       "3                50\n",
       "5                50\n",
       "10               50\n",
       "11               50\n",
       "...             ...\n",
       "6114326          50\n",
       "6114327          95\n",
       "6114328          50\n",
       "6114329          50\n",
       "6114330          54\n",
       "\n",
       "[678005 rows x 1 columns]"
      ]
     },
     "execution_count": 120,
     "metadata": {},
     "output_type": "execute_result"
    }
   ],
   "source": [
    "bm = pd.DataFrame({\"BonusMalus\": data.BonusMalus.clip(upper=150)})\n",
    "bm"
   ]
  },
  {
   "cell_type": "code",
   "execution_count": 122,
   "id": "93834d1c-2ab5-411a-aac3-09df97adbde7",
   "metadata": {},
   "outputs": [
    {
     "data": {
      "text/plain": [
       "BonusMalus\n",
       "50            384148\n",
       "51             15869\n",
       "52              4770\n",
       "53              3351\n",
       "54             17360\n",
       "               ...  \n",
       "144                4\n",
       "147              121\n",
       "148               63\n",
       "149                1\n",
       "150              209\n",
       "Name: count, Length: 93, dtype: int64"
      ]
     },
     "execution_count": 122,
     "metadata": {},
     "output_type": "execute_result"
    }
   ],
   "source": [
    "bm.value_counts().sort_index()"
   ]
  }
 ],
 "metadata": {
  "kernelspec": {
   "display_name": "Python 3 (ipykernel)",
   "language": "python",
   "name": "python3"
  },
  "language_info": {
   "codemirror_mode": {
    "name": "ipython",
    "version": 3
   },
   "file_extension": ".py",
   "mimetype": "text/x-python",
   "name": "python",
   "nbconvert_exporter": "python",
   "pygments_lexer": "ipython3",
   "version": "3.11.11"
  }
 },
 "nbformat": 4,
 "nbformat_minor": 5
}
