{
 "cells": [
  {
   "cell_type": "code",
   "execution_count": 1,
   "id": "c50f90e1-35b0-4a0d-9e30-a5212f42682b",
   "metadata": {},
   "outputs": [],
   "source": [
    "import os\n",
    "import pandas as pd\n",
    "import numpy as np\n",
    "import matplotlib.pyplot as plt\n",
    "import plotly.express as px\n",
    "import plotly.graph_objects as go\n",
    "import plotly.figure_factory as ff\n",
    "import seaborn as sns\n",
    "\n",
    "from timeseries import plot_ts"
   ]
  },
  {
   "cell_type": "code",
   "execution_count": 2,
   "id": "60d7a1c4-fa41-47c8-8233-43248225f4b1",
   "metadata": {},
   "outputs": [],
   "source": [
    "data = pd.read_parquet(\"../data/03_primary/features.pq\")"
   ]
  },
  {
   "cell_type": "code",
   "execution_count": 4,
   "id": "6bfe35ae-9c3f-4836-afcb-fa44705fc785",
   "metadata": {},
   "outputs": [
    {
     "data": {
      "text/html": [
       "<div>\n",
       "<style scoped>\n",
       "    .dataframe tbody tr th:only-of-type {\n",
       "        vertical-align: middle;\n",
       "    }\n",
       "\n",
       "    .dataframe tbody tr th {\n",
       "        vertical-align: top;\n",
       "    }\n",
       "\n",
       "    .dataframe thead th {\n",
       "        text-align: right;\n",
       "    }\n",
       "</style>\n",
       "<table border=\"1\" class=\"dataframe\">\n",
       "  <thead>\n",
       "    <tr style=\"text-align: right;\">\n",
       "      <th></th>\n",
       "      <th>VehPower</th>\n",
       "      <th>VehAge</th>\n",
       "      <th>DrivAge</th>\n",
       "      <th>BonusMalus</th>\n",
       "      <th>Density</th>\n",
       "    </tr>\n",
       "  </thead>\n",
       "  <tbody>\n",
       "    <tr>\n",
       "      <th>count</th>\n",
       "      <td>678005.000000</td>\n",
       "      <td>678005.000000</td>\n",
       "      <td>678005.000000</td>\n",
       "      <td>678005.000000</td>\n",
       "      <td>678005.000000</td>\n",
       "    </tr>\n",
       "    <tr>\n",
       "      <th>mean</th>\n",
       "      <td>6.454656</td>\n",
       "      <td>7.044208</td>\n",
       "      <td>45.499020</td>\n",
       "      <td>59.761617</td>\n",
       "      <td>1792.428023</td>\n",
       "    </tr>\n",
       "    <tr>\n",
       "      <th>std</th>\n",
       "      <td>2.050903</td>\n",
       "      <td>5.666239</td>\n",
       "      <td>14.137486</td>\n",
       "      <td>15.636714</td>\n",
       "      <td>3958.667052</td>\n",
       "    </tr>\n",
       "    <tr>\n",
       "      <th>min</th>\n",
       "      <td>4.000000</td>\n",
       "      <td>0.000000</td>\n",
       "      <td>18.000000</td>\n",
       "      <td>50.000000</td>\n",
       "      <td>1.000000</td>\n",
       "    </tr>\n",
       "    <tr>\n",
       "      <th>25%</th>\n",
       "      <td>5.000000</td>\n",
       "      <td>2.000000</td>\n",
       "      <td>34.000000</td>\n",
       "      <td>50.000000</td>\n",
       "      <td>92.000000</td>\n",
       "    </tr>\n",
       "    <tr>\n",
       "      <th>50%</th>\n",
       "      <td>6.000000</td>\n",
       "      <td>6.000000</td>\n",
       "      <td>44.000000</td>\n",
       "      <td>50.000000</td>\n",
       "      <td>393.000000</td>\n",
       "    </tr>\n",
       "    <tr>\n",
       "      <th>75%</th>\n",
       "      <td>7.000000</td>\n",
       "      <td>11.000000</td>\n",
       "      <td>55.000000</td>\n",
       "      <td>64.000000</td>\n",
       "      <td>1658.000000</td>\n",
       "    </tr>\n",
       "    <tr>\n",
       "      <th>max</th>\n",
       "      <td>15.000000</td>\n",
       "      <td>100.000000</td>\n",
       "      <td>100.000000</td>\n",
       "      <td>230.000000</td>\n",
       "      <td>27000.000000</td>\n",
       "    </tr>\n",
       "  </tbody>\n",
       "</table>\n",
       "</div>"
      ],
      "text/plain": [
       "            VehPower         VehAge        DrivAge     BonusMalus  \\\n",
       "count  678005.000000  678005.000000  678005.000000  678005.000000   \n",
       "mean        6.454656       7.044208      45.499020      59.761617   \n",
       "std         2.050903       5.666239      14.137486      15.636714   \n",
       "min         4.000000       0.000000      18.000000      50.000000   \n",
       "25%         5.000000       2.000000      34.000000      50.000000   \n",
       "50%         6.000000       6.000000      44.000000      50.000000   \n",
       "75%         7.000000      11.000000      55.000000      64.000000   \n",
       "max        15.000000     100.000000     100.000000     230.000000   \n",
       "\n",
       "             Density  \n",
       "count  678005.000000  \n",
       "mean     1792.428023  \n",
       "std      3958.667052  \n",
       "min         1.000000  \n",
       "25%        92.000000  \n",
       "50%       393.000000  \n",
       "75%      1658.000000  \n",
       "max     27000.000000  "
      ]
     },
     "execution_count": 4,
     "metadata": {},
     "output_type": "execute_result"
    }
   ],
   "source": [
    "data.describe()"
   ]
  },
  {
   "cell_type": "code",
   "execution_count": 5,
   "id": "ac9e5e29-d8f9-4d4d-bec0-2a3accda262a",
   "metadata": {},
   "outputs": [
    {
     "data": {
      "text/html": [
       "<div>\n",
       "<style scoped>\n",
       "    .dataframe tbody tr th:only-of-type {\n",
       "        vertical-align: middle;\n",
       "    }\n",
       "\n",
       "    .dataframe tbody tr th {\n",
       "        vertical-align: top;\n",
       "    }\n",
       "\n",
       "    .dataframe thead th {\n",
       "        text-align: right;\n",
       "    }\n",
       "</style>\n",
       "<table border=\"1\" class=\"dataframe\">\n",
       "  <thead>\n",
       "    <tr style=\"text-align: right;\">\n",
       "      <th></th>\n",
       "      <th>VehPower</th>\n",
       "      <th>VehAge</th>\n",
       "      <th>DrivAge</th>\n",
       "      <th>BonusMalus</th>\n",
       "      <th>VehBrand</th>\n",
       "      <th>VehGas</th>\n",
       "      <th>Area</th>\n",
       "      <th>Density</th>\n",
       "      <th>Region</th>\n",
       "    </tr>\n",
       "    <tr>\n",
       "      <th>IDpol</th>\n",
       "      <th></th>\n",
       "      <th></th>\n",
       "      <th></th>\n",
       "      <th></th>\n",
       "      <th></th>\n",
       "      <th></th>\n",
       "      <th></th>\n",
       "      <th></th>\n",
       "      <th></th>\n",
       "    </tr>\n",
       "  </thead>\n",
       "  <tbody>\n",
       "    <tr>\n",
       "      <th>1</th>\n",
       "      <td>5</td>\n",
       "      <td>0</td>\n",
       "      <td>55</td>\n",
       "      <td>50</td>\n",
       "      <td>B12</td>\n",
       "      <td>Regular</td>\n",
       "      <td>D</td>\n",
       "      <td>1217</td>\n",
       "      <td>Rhone-Alpes</td>\n",
       "    </tr>\n",
       "    <tr>\n",
       "      <th>3</th>\n",
       "      <td>5</td>\n",
       "      <td>0</td>\n",
       "      <td>55</td>\n",
       "      <td>50</td>\n",
       "      <td>B12</td>\n",
       "      <td>Regular</td>\n",
       "      <td>D</td>\n",
       "      <td>1217</td>\n",
       "      <td>Rhone-Alpes</td>\n",
       "    </tr>\n",
       "    <tr>\n",
       "      <th>5</th>\n",
       "      <td>6</td>\n",
       "      <td>2</td>\n",
       "      <td>52</td>\n",
       "      <td>50</td>\n",
       "      <td>B12</td>\n",
       "      <td>Diesel</td>\n",
       "      <td>B</td>\n",
       "      <td>54</td>\n",
       "      <td>Picardie</td>\n",
       "    </tr>\n",
       "    <tr>\n",
       "      <th>10</th>\n",
       "      <td>7</td>\n",
       "      <td>0</td>\n",
       "      <td>46</td>\n",
       "      <td>50</td>\n",
       "      <td>B12</td>\n",
       "      <td>Diesel</td>\n",
       "      <td>B</td>\n",
       "      <td>76</td>\n",
       "      <td>Aquitaine</td>\n",
       "    </tr>\n",
       "    <tr>\n",
       "      <th>11</th>\n",
       "      <td>7</td>\n",
       "      <td>0</td>\n",
       "      <td>46</td>\n",
       "      <td>50</td>\n",
       "      <td>B12</td>\n",
       "      <td>Diesel</td>\n",
       "      <td>B</td>\n",
       "      <td>76</td>\n",
       "      <td>Aquitaine</td>\n",
       "    </tr>\n",
       "  </tbody>\n",
       "</table>\n",
       "</div>"
      ],
      "text/plain": [
       "       VehPower  VehAge  DrivAge  BonusMalus VehBrand   VehGas Area  Density  \\\n",
       "IDpol                                                                          \n",
       "1             5       0       55          50      B12  Regular    D     1217   \n",
       "3             5       0       55          50      B12  Regular    D     1217   \n",
       "5             6       2       52          50      B12   Diesel    B       54   \n",
       "10            7       0       46          50      B12   Diesel    B       76   \n",
       "11            7       0       46          50      B12   Diesel    B       76   \n",
       "\n",
       "            Region  \n",
       "IDpol               \n",
       "1      Rhone-Alpes  \n",
       "3      Rhone-Alpes  \n",
       "5         Picardie  \n",
       "10       Aquitaine  \n",
       "11       Aquitaine  "
      ]
     },
     "execution_count": 5,
     "metadata": {},
     "output_type": "execute_result"
    }
   ],
   "source": [
    "data.head()"
   ]
  },
  {
   "cell_type": "code",
   "execution_count": 10,
   "id": "77ad9230-59d5-4ceb-943c-6ae8d1f6f038",
   "metadata": {},
   "outputs": [
    {
     "data": {
      "text/plain": [
       "VehGas\n",
       "Regular    345870\n",
       "Diesel     332135\n",
       "Name: count, dtype: int64"
      ]
     },
     "execution_count": 10,
     "metadata": {},
     "output_type": "execute_result"
    }
   ],
   "source": [
    "data.VehGas.value_counts()"
   ]
  },
  {
   "cell_type": "code",
   "execution_count": 11,
   "id": "a80c4a0a-ff11-4b4f-9d29-8d664ea4eef3",
   "metadata": {},
   "outputs": [
    {
     "data": {
      "text/plain": [
       "VehPower\n",
       "6     148976\n",
       "7     145400\n",
       "5     124821\n",
       "4     115342\n",
       "8      46956\n",
       "10     31354\n",
       "9      30085\n",
       "11     18352\n",
       "12      8214\n",
       "13      3229\n",
       "15      2926\n",
       "14      2350\n",
       "Name: count, dtype: int64"
      ]
     },
     "execution_count": 11,
     "metadata": {},
     "output_type": "execute_result"
    }
   ],
   "source": [
    "data.VehPower.value_counts()"
   ]
  },
  {
   "cell_type": "code",
   "execution_count": 13,
   "id": "f34ac44b-b2f0-4ad3-9a55-132679530e0f",
   "metadata": {},
   "outputs": [
    {
     "data": {
      "text/plain": [
       "VehBrand\n",
       "B12    166024\n",
       "B1     162729\n",
       "B2     159860\n",
       "B3      53395\n",
       "B5      34753\n",
       "B6      28548\n",
       "B4      25179\n",
       "B10     17707\n",
       "B11     13585\n",
       "B13     12178\n",
       "B14      4047\n",
       "Name: count, dtype: int64"
      ]
     },
     "execution_count": 13,
     "metadata": {},
     "output_type": "execute_result"
    }
   ],
   "source": [
    "data.VehBrand.value_counts()"
   ]
  },
  {
   "cell_type": "code",
   "execution_count": 14,
   "id": "185a8e37-3615-4719-8dff-c0ef1f8bc32a",
   "metadata": {},
   "outputs": [
    {
     "data": {
      "text/plain": [
       "Area\n",
       "C    191880\n",
       "D    151589\n",
       "E    137166\n",
       "A    103957\n",
       "B     75459\n",
       "F     17954\n",
       "Name: count, dtype: int64"
      ]
     },
     "execution_count": 14,
     "metadata": {},
     "output_type": "execute_result"
    }
   ],
   "source": [
    "data.Area.value_counts()"
   ]
  },
  {
   "cell_type": "code",
   "execution_count": 15,
   "id": "4ab2975c-aff0-441e-ae12-ed13c8231ca9",
   "metadata": {},
   "outputs": [
    {
     "data": {
      "text/plain": [
       "Region\n",
       "Centre                         160601\n",
       "Rhone-Alpes                     84752\n",
       "Provence-Alpes-Cotes-D'Azur     79314\n",
       "Ile-de-France                   69791\n",
       "Bretagne                        42122\n",
       "Nord-Pas-de-Calais              40275\n",
       "Pays-de-la-Loire                38751\n",
       "Languedoc-Roussillon            35798\n",
       "Aquitaine                       31329\n",
       "Poitou-Charentes                19046\n",
       "Midi-Pyrenees                   17141\n",
       "Basse-Normandie                 10893\n",
       "Bourgogne                       10492\n",
       "Haute-Normandie                  8784\n",
       "Picardie                         7994\n",
       "Auvergne                         5287\n",
       "Limousin                         4567\n",
       "Corse                            4516\n",
       "Champagne-Ardenne                3026\n",
       "Alsace                           2200\n",
       "Franche-Comte                    1326\n",
       "Name: count, dtype: int64"
      ]
     },
     "execution_count": 15,
     "metadata": {},
     "output_type": "execute_result"
    }
   ],
   "source": [
    "data.Region.value_counts()"
   ]
  }
 ],
 "metadata": {
  "kernelspec": {
   "display_name": "Python 3 (ipykernel)",
   "language": "python",
   "name": "python3"
  },
  "language_info": {
   "codemirror_mode": {
    "name": "ipython",
    "version": 3
   },
   "file_extension": ".py",
   "mimetype": "text/x-python",
   "name": "python",
   "nbconvert_exporter": "python",
   "pygments_lexer": "ipython3",
   "version": "3.11.9"
  }
 },
 "nbformat": 4,
 "nbformat_minor": 5
}
