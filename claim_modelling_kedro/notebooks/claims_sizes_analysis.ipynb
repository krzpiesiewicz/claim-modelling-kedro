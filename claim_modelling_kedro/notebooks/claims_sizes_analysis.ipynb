{
 "cells": [
  {
   "cell_type": "code",
   "execution_count": 3,
   "id": "da790f8a-1614-4900-958c-14931ca28d16",
   "metadata": {},
   "outputs": [],
   "source": [
    "import os\n",
    "import pandas as pd\n",
    "import numpy as np\n",
    "import matplotlib.pyplot as plt\n",
    "import plotly.express as px\n",
    "import plotly.graph_objects as go\n",
    "import plotly.figure_factory as ff\n",
    "import seaborn as sns\n",
    "\n",
    "from timeseries import plot_ts"
   ]
  },
  {
   "cell_type": "code",
   "execution_count": 53,
   "id": "6b3dc508-4957-41d9-9198-5c9a8c856a5c",
   "metadata": {},
   "outputs": [],
   "source": [
    "data = pd.read_parquet(\"../data/04_sample/target/0.pq\")"
   ]
  },
  {
   "cell_type": "code",
   "execution_count": 54,
   "id": "c6977c54-aa93-48b5-bc19-b124151fc7f4",
   "metadata": {},
   "outputs": [
    {
     "data": {
      "text/html": [
       "<div>\n",
       "<style scoped>\n",
       "    .dataframe tbody tr th:only-of-type {\n",
       "        vertical-align: middle;\n",
       "    }\n",
       "\n",
       "    .dataframe tbody tr th {\n",
       "        vertical-align: top;\n",
       "    }\n",
       "\n",
       "    .dataframe thead th {\n",
       "        text-align: right;\n",
       "    }\n",
       "</style>\n",
       "<table border=\"1\" class=\"dataframe\">\n",
       "  <thead>\n",
       "    <tr style=\"text-align: right;\">\n",
       "      <th></th>\n",
       "      <th>ClaimNb_TRG</th>\n",
       "      <th>ClaimFreq_TRG</th>\n",
       "      <th>ClaimSeverity_TRG</th>\n",
       "      <th>ClaimTotalAmount_TRG</th>\n",
       "      <th>ClaimPurePremium_TRG</th>\n",
       "      <th>Exposure</th>\n",
       "    </tr>\n",
       "    <tr>\n",
       "      <th>IDpol</th>\n",
       "      <th></th>\n",
       "      <th></th>\n",
       "      <th></th>\n",
       "      <th></th>\n",
       "      <th></th>\n",
       "      <th></th>\n",
       "    </tr>\n",
       "  </thead>\n",
       "  <tbody>\n",
       "    <tr>\n",
       "      <th>139</th>\n",
       "      <td>1</td>\n",
       "      <td>1.333333</td>\n",
       "      <td>303.00</td>\n",
       "      <td>303.00</td>\n",
       "      <td>404.000000</td>\n",
       "      <td>0.750000</td>\n",
       "    </tr>\n",
       "    <tr>\n",
       "      <th>424</th>\n",
       "      <td>2</td>\n",
       "      <td>3.225806</td>\n",
       "      <td>5417.00</td>\n",
       "      <td>10834.00</td>\n",
       "      <td>17474.193548</td>\n",
       "      <td>0.620000</td>\n",
       "    </tr>\n",
       "    <tr>\n",
       "      <th>448</th>\n",
       "      <td>0</td>\n",
       "      <td>0.000000</td>\n",
       "      <td>0.00</td>\n",
       "      <td>0.00</td>\n",
       "      <td>0.000000</td>\n",
       "      <td>0.130000</td>\n",
       "    </tr>\n",
       "    <tr>\n",
       "      <th>622</th>\n",
       "      <td>1</td>\n",
       "      <td>1.333333</td>\n",
       "      <td>1397.97</td>\n",
       "      <td>1397.97</td>\n",
       "      <td>1863.960000</td>\n",
       "      <td>0.750000</td>\n",
       "    </tr>\n",
       "    <tr>\n",
       "      <th>647</th>\n",
       "      <td>0</td>\n",
       "      <td>0.000000</td>\n",
       "      <td>0.00</td>\n",
       "      <td>0.00</td>\n",
       "      <td>0.000000</td>\n",
       "      <td>0.510000</td>\n",
       "    </tr>\n",
       "    <tr>\n",
       "      <th>...</th>\n",
       "      <td>...</td>\n",
       "      <td>...</td>\n",
       "      <td>...</td>\n",
       "      <td>...</td>\n",
       "      <td>...</td>\n",
       "      <td>...</td>\n",
       "    </tr>\n",
       "    <tr>\n",
       "      <th>6114183</th>\n",
       "      <td>0</td>\n",
       "      <td>0.000000</td>\n",
       "      <td>0.00</td>\n",
       "      <td>0.00</td>\n",
       "      <td>0.000000</td>\n",
       "      <td>0.050000</td>\n",
       "    </tr>\n",
       "    <tr>\n",
       "      <th>6114186</th>\n",
       "      <td>0</td>\n",
       "      <td>0.000000</td>\n",
       "      <td>0.00</td>\n",
       "      <td>0.00</td>\n",
       "      <td>0.000000</td>\n",
       "      <td>0.040000</td>\n",
       "    </tr>\n",
       "    <tr>\n",
       "      <th>6114240</th>\n",
       "      <td>0</td>\n",
       "      <td>0.000000</td>\n",
       "      <td>0.00</td>\n",
       "      <td>0.00</td>\n",
       "      <td>0.000000</td>\n",
       "      <td>0.030000</td>\n",
       "    </tr>\n",
       "    <tr>\n",
       "      <th>6114262</th>\n",
       "      <td>0</td>\n",
       "      <td>0.000000</td>\n",
       "      <td>0.00</td>\n",
       "      <td>0.00</td>\n",
       "      <td>0.000000</td>\n",
       "      <td>0.020000</td>\n",
       "    </tr>\n",
       "    <tr>\n",
       "      <th>6114296</th>\n",
       "      <td>0</td>\n",
       "      <td>0.000000</td>\n",
       "      <td>0.00</td>\n",
       "      <td>0.00</td>\n",
       "      <td>0.000000</td>\n",
       "      <td>0.005479</td>\n",
       "    </tr>\n",
       "  </tbody>\n",
       "</table>\n",
       "<p>20000 rows × 6 columns</p>\n",
       "</div>"
      ],
      "text/plain": [
       "         ClaimNb_TRG  ClaimFreq_TRG  ClaimSeverity_TRG  ClaimTotalAmount_TRG  \\\n",
       "IDpol                                                                          \n",
       "139                1       1.333333             303.00                303.00   \n",
       "424                2       3.225806            5417.00              10834.00   \n",
       "448                0       0.000000               0.00                  0.00   \n",
       "622                1       1.333333            1397.97               1397.97   \n",
       "647                0       0.000000               0.00                  0.00   \n",
       "...              ...            ...                ...                   ...   \n",
       "6114183            0       0.000000               0.00                  0.00   \n",
       "6114186            0       0.000000               0.00                  0.00   \n",
       "6114240            0       0.000000               0.00                  0.00   \n",
       "6114262            0       0.000000               0.00                  0.00   \n",
       "6114296            0       0.000000               0.00                  0.00   \n",
       "\n",
       "         ClaimPurePremium_TRG  Exposure  \n",
       "IDpol                                    \n",
       "139                404.000000  0.750000  \n",
       "424              17474.193548  0.620000  \n",
       "448                  0.000000  0.130000  \n",
       "622               1863.960000  0.750000  \n",
       "647                  0.000000  0.510000  \n",
       "...                       ...       ...  \n",
       "6114183              0.000000  0.050000  \n",
       "6114186              0.000000  0.040000  \n",
       "6114240              0.000000  0.030000  \n",
       "6114262              0.000000  0.020000  \n",
       "6114296              0.000000  0.005479  \n",
       "\n",
       "[20000 rows x 6 columns]"
      ]
     },
     "execution_count": 54,
     "metadata": {},
     "output_type": "execute_result"
    }
   ],
   "source": [
    "data"
   ]
  },
  {
   "cell_type": "code",
   "execution_count": 8,
   "id": "0a0f843f-579d-44d6-8126-5d01cd363663",
   "metadata": {},
   "outputs": [],
   "source": [
    "data = pd.read_parquet(\"../data/03_primary/targets.pq\")"
   ]
  },
  {
   "cell_type": "code",
   "execution_count": 10,
   "id": "65a8aa47-a716-48a5-b11f-68db79b7684e",
   "metadata": {},
   "outputs": [],
   "source": [
    "data = data[data.ClaimNb_TRG > 0]"
   ]
  },
  {
   "cell_type": "code",
   "execution_count": 11,
   "id": "6dbbfd5f-216c-449a-8aea-1c7693222e34",
   "metadata": {},
   "outputs": [
    {
     "data": {
      "text/html": [
       "<div>\n",
       "<style scoped>\n",
       "    .dataframe tbody tr th:only-of-type {\n",
       "        vertical-align: middle;\n",
       "    }\n",
       "\n",
       "    .dataframe tbody tr th {\n",
       "        vertical-align: top;\n",
       "    }\n",
       "\n",
       "    .dataframe thead th {\n",
       "        text-align: right;\n",
       "    }\n",
       "</style>\n",
       "<table border=\"1\" class=\"dataframe\">\n",
       "  <thead>\n",
       "    <tr style=\"text-align: right;\">\n",
       "      <th></th>\n",
       "      <th>ClaimNb_TRG</th>\n",
       "      <th>ClaimFreq_TRG</th>\n",
       "      <th>ClaimSeverity_TRG</th>\n",
       "      <th>ClaimTotalAmount_TRG</th>\n",
       "      <th>ClaimPurePremium_TRG</th>\n",
       "      <th>Exposure</th>\n",
       "    </tr>\n",
       "    <tr>\n",
       "      <th>IDpol</th>\n",
       "      <th></th>\n",
       "      <th></th>\n",
       "      <th></th>\n",
       "      <th></th>\n",
       "      <th></th>\n",
       "      <th></th>\n",
       "    </tr>\n",
       "  </thead>\n",
       "  <tbody>\n",
       "    <tr>\n",
       "      <th>139</th>\n",
       "      <td>1</td>\n",
       "      <td>1.333333</td>\n",
       "      <td>303.00</td>\n",
       "      <td>303.00</td>\n",
       "      <td>404.000000</td>\n",
       "      <td>0.75</td>\n",
       "    </tr>\n",
       "    <tr>\n",
       "      <th>190</th>\n",
       "      <td>1</td>\n",
       "      <td>7.142857</td>\n",
       "      <td>1981.84</td>\n",
       "      <td>1981.84</td>\n",
       "      <td>14156.000000</td>\n",
       "      <td>0.14</td>\n",
       "    </tr>\n",
       "    <tr>\n",
       "      <th>414</th>\n",
       "      <td>1</td>\n",
       "      <td>7.142857</td>\n",
       "      <td>1456.55</td>\n",
       "      <td>1456.55</td>\n",
       "      <td>10403.928571</td>\n",
       "      <td>0.14</td>\n",
       "    </tr>\n",
       "    <tr>\n",
       "      <th>424</th>\n",
       "      <td>2</td>\n",
       "      <td>3.225806</td>\n",
       "      <td>5417.00</td>\n",
       "      <td>10834.00</td>\n",
       "      <td>17474.193548</td>\n",
       "      <td>0.62</td>\n",
       "    </tr>\n",
       "    <tr>\n",
       "      <th>463</th>\n",
       "      <td>1</td>\n",
       "      <td>3.225806</td>\n",
       "      <td>3986.67</td>\n",
       "      <td>3986.67</td>\n",
       "      <td>12860.225806</td>\n",
       "      <td>0.31</td>\n",
       "    </tr>\n",
       "    <tr>\n",
       "      <th>...</th>\n",
       "      <td>...</td>\n",
       "      <td>...</td>\n",
       "      <td>...</td>\n",
       "      <td>...</td>\n",
       "      <td>...</td>\n",
       "      <td>...</td>\n",
       "    </tr>\n",
       "    <tr>\n",
       "      <th>6113521</th>\n",
       "      <td>1</td>\n",
       "      <td>5.555556</td>\n",
       "      <td>1324.40</td>\n",
       "      <td>1324.40</td>\n",
       "      <td>7357.777778</td>\n",
       "      <td>0.18</td>\n",
       "    </tr>\n",
       "    <tr>\n",
       "      <th>6113793</th>\n",
       "      <td>1</td>\n",
       "      <td>7.142857</td>\n",
       "      <td>1769.88</td>\n",
       "      <td>1769.88</td>\n",
       "      <td>12642.000000</td>\n",
       "      <td>0.14</td>\n",
       "    </tr>\n",
       "    <tr>\n",
       "      <th>6113817</th>\n",
       "      <td>1</td>\n",
       "      <td>5.882353</td>\n",
       "      <td>1288.28</td>\n",
       "      <td>1288.28</td>\n",
       "      <td>7578.117647</td>\n",
       "      <td>0.17</td>\n",
       "    </tr>\n",
       "    <tr>\n",
       "      <th>6113834</th>\n",
       "      <td>2</td>\n",
       "      <td>11.764706</td>\n",
       "      <td>6115.20</td>\n",
       "      <td>12230.40</td>\n",
       "      <td>71943.529412</td>\n",
       "      <td>0.17</td>\n",
       "    </tr>\n",
       "    <tr>\n",
       "      <th>6113971</th>\n",
       "      <td>1</td>\n",
       "      <td>7.692308</td>\n",
       "      <td>1452.00</td>\n",
       "      <td>1452.00</td>\n",
       "      <td>11169.230769</td>\n",
       "      <td>0.13</td>\n",
       "    </tr>\n",
       "  </tbody>\n",
       "</table>\n",
       "<p>24936 rows × 6 columns</p>\n",
       "</div>"
      ],
      "text/plain": [
       "         ClaimNb_TRG  ClaimFreq_TRG  ClaimSeverity_TRG  ClaimTotalAmount_TRG  \\\n",
       "IDpol                                                                          \n",
       "139                1       1.333333             303.00                303.00   \n",
       "190                1       7.142857            1981.84               1981.84   \n",
       "414                1       7.142857            1456.55               1456.55   \n",
       "424                2       3.225806            5417.00              10834.00   \n",
       "463                1       3.225806            3986.67               3986.67   \n",
       "...              ...            ...                ...                   ...   \n",
       "6113521            1       5.555556            1324.40               1324.40   \n",
       "6113793            1       7.142857            1769.88               1769.88   \n",
       "6113817            1       5.882353            1288.28               1288.28   \n",
       "6113834            2      11.764706            6115.20              12230.40   \n",
       "6113971            1       7.692308            1452.00               1452.00   \n",
       "\n",
       "         ClaimPurePremium_TRG  Exposure  \n",
       "IDpol                                    \n",
       "139                404.000000      0.75  \n",
       "190              14156.000000      0.14  \n",
       "414              10403.928571      0.14  \n",
       "424              17474.193548      0.62  \n",
       "463              12860.225806      0.31  \n",
       "...                       ...       ...  \n",
       "6113521           7357.777778      0.18  \n",
       "6113793          12642.000000      0.14  \n",
       "6113817           7578.117647      0.17  \n",
       "6113834          71943.529412      0.17  \n",
       "6113971          11169.230769      0.13  \n",
       "\n",
       "[24936 rows x 6 columns]"
      ]
     },
     "execution_count": 11,
     "metadata": {},
     "output_type": "execute_result"
    }
   ],
   "source": [
    "data.ClaimSeverity_TRG"
   ]
  },
  {
   "cell_type": "code",
   "execution_count": 19,
   "id": "a2c02b22-b82f-423d-8adf-9963f59ba572",
   "metadata": {},
   "outputs": [
    {
     "data": {
      "text/plain": [
       "array([1.00000e+00, 2.08775e+02, 5.86000e+02, 9.32945e+02, 1.12812e+03,\n",
       "       1.17200e+03, 1.20400e+03, 1.20400e+03, 1.48123e+03, 2.73651e+03])"
      ]
     },
     "execution_count": 19,
     "metadata": {},
     "output_type": "execute_result"
    }
   ],
   "source": [
    "quantiles = list(np.arange(0, 1, 0.1))\n",
    "np.quantile(data.ClaimSeverity_TRG, quantiles)"
   ]
  },
  {
   "cell_type": "code",
   "execution_count": 20,
   "id": "fdd10779-62f3-4361-a4fe-a0e79de082c6",
   "metadata": {},
   "outputs": [
    {
     "data": {
      "text/plain": [
       "array([ 2736.51   ,  3000.     ,  3204.     ,  3608.779  ,  4060.583  ,\n",
       "        4649.95625,  5437.74   ,  6907.3345 ,  9331.696  , 16328.36975])"
      ]
     },
     "execution_count": 20,
     "metadata": {},
     "output_type": "execute_result"
    }
   ],
   "source": [
    "quantiles = list(np.arange(0.9, 1, 0.01))\n",
    "np.quantile(data.ClaimSeverity_TRG, quantiles)"
   ]
  },
  {
   "cell_type": "code",
   "execution_count": 21,
   "id": "e7c49e25-8b7d-40fc-953f-bcf024cf341b",
   "metadata": {},
   "outputs": [
    {
     "data": {
      "text/plain": [
       "array([  16328.36975   ,   18103.70295   ,   20068.5702    ,\n",
       "         23042.9443    ,   26605.6367    ,   34578.88925   ,\n",
       "         41729.8974    ,   54639.2956    ,   73234.386     ,\n",
       "        133337.62834999, 4075400.56      ])"
      ]
     },
     "execution_count": 21,
     "metadata": {},
     "output_type": "execute_result"
    }
   ],
   "source": [
    "quantiles = list(np.arange(0.99, 1, 0.001))\n",
    "np.quantile(data.ClaimSeverity_TRG, quantiles)"
   ]
  },
  {
   "cell_type": "code",
   "execution_count": 24,
   "id": "b457c55a-f305-40fa-905c-8e87bbb1b299",
   "metadata": {},
   "outputs": [],
   "source": [
    "x = data[data.ClaimSeverity_TRG > 73234.386].ClaimSeverity_TRG.sort_values()"
   ]
  },
  {
   "cell_type": "code",
   "execution_count": 43,
   "id": "2c690fdc-1194-4e34-b776-8640b1ea7dbb",
   "metadata": {},
   "outputs": [
    {
     "data": {
      "text/plain": [
       "250"
      ]
     },
     "execution_count": 43,
     "metadata": {},
     "output_type": "execute_result"
    }
   ],
   "source": [
    "len(x)"
   ]
  },
  {
   "cell_type": "code",
   "execution_count": 25,
   "id": "08c8f31f-f826-4ada-be3a-48e4150c1625",
   "metadata": {},
   "outputs": [
    {
     "data": {
      "text/plain": [
       "IDpol\n",
       "85926        74784.900\n",
       "109729       74966.230\n",
       "3234374      75000.000\n",
       "105098       76333.195\n",
       "4073213      77538.575\n",
       "3097066      78104.830\n",
       "175126       85442.210\n",
       "5055089      85552.270\n",
       "3068252      86719.200\n",
       "2101212      92149.000\n",
       "43832        96422.320\n",
       "5033465     100572.500\n",
       "2070262     105119.665\n",
       "2205491     109743.720\n",
       "3041107     114759.950\n",
       "28509       115232.880\n",
       "2125576     115484.110\n",
       "30738       116318.900\n",
       "4167474     118000.000\n",
       "2226904     120000.000\n",
       "1017853     121959.210\n",
       "5068147     125847.050\n",
       "2209888     128902.060\n",
       "1043258     132628.120\n",
       "2008127     133071.220\n",
       "154968      137169.810\n",
       "1107370     152084.960\n",
       "4138268     181204.000\n",
       "3083780     182050.000\n",
       "3172846     182500.000\n",
       "2096700     182878.180\n",
       "53865       183073.660\n",
       "3196736     186584.150\n",
       "3025890     191477.570\n",
       "2202813     203172.000\n",
       "1067220     205432.050\n",
       "3059946     208472.600\n",
       "3103319     209695.870\n",
       "4159792     211204.000\n",
       "2206511     241171.160\n",
       "1096763     255013.030\n",
       "4169019     276643.000\n",
       "3150210     281897.490\n",
       "3075820     287423.000\n",
       "158309      301635.490\n",
       "1117644     307096.420\n",
       "110846      702092.760\n",
       "3122016     774411.500\n",
       "2141337    1301172.600\n",
       "1120377    4075400.560\n",
       "Name: ClaimSeverity_TRG, dtype: float64"
      ]
     },
     "execution_count": 25,
     "metadata": {},
     "output_type": "execute_result"
    }
   ],
   "source": [
    "x"
   ]
  },
  {
   "cell_type": "code",
   "execution_count": 27,
   "id": "8268bea9-370d-48bf-bf4d-0f9dfb50378a",
   "metadata": {},
   "outputs": [
    {
     "data": {
      "text/plain": [
       "50"
      ]
     },
     "execution_count": 27,
     "metadata": {},
     "output_type": "execute_result"
    }
   ],
   "source": [
    "len(x)"
   ]
  },
  {
   "cell_type": "code",
   "execution_count": 26,
   "id": "72498594-044a-41ec-aabe-a85a5f210af0",
   "metadata": {},
   "outputs": [
    {
     "data": {
      "text/plain": [
       "<Axes: xlabel='category', ylabel='values'>"
      ]
     },
     "execution_count": 26,
     "metadata": {},
     "output_type": "execute_result"
    },
    {
     "data": {
      "image/png": "[encoded data removed]",
      "text/plain": [
       "<Figure size 600x400 with 1 Axes>"
      ]
     },
     "metadata": {},
     "output_type": "display_data"
    }
   ],
   "source": [
    "df = pd.DataFrame({\"values\": x, \"category\": [\"A\"] * len(x)})  # Single category\n",
    "\n",
    "# Create Seaborn boxplot\n",
    "plt.figure(figsize=(6, 4))\n",
    "sns.boxplot(x=\"category\", y=\"values\", data=df, color=\"skyblue\")"
   ]
  },
  {
   "cell_type": "code",
   "execution_count": 35,
   "id": "0cb41c75-6ed5-4bf0-9bea-4903689beb52",
   "metadata": {},
   "outputs": [
    {
     "name": "stdout",
     "output_type": "stream",
     "text": [
      "iqr_value=44968.45\n",
      "q3=66450.1375\n",
      "q3_plus_15_iqr=133902.8125\n"
     ]
    }
   ],
   "source": [
    "from scipy.stats import iqr\n",
    "\n",
    "th = np.quantile(data.ClaimSeverity_TRG, 0.99)\n",
    "x = data.ClaimSeverity_TRG[data.ClaimSeverity_TRG >= th]\n",
    "\n",
    "# Compute IQR directly\n",
    "iqr_value = iqr(x)\n",
    "print(f\"{iqr_value=}\")\n",
    "q3 = np.quantile(x, 0.75)\n",
    "print(f\"{q3=}\")\n",
    "q3_plus_15_iqr = q3 + 1.5 * iqr_value\n",
    "print(f\"{q3_plus_15_iqr=}\")"
   ]
  },
  {
   "cell_type": "code",
   "execution_count": 36,
   "id": "a033f9c6-eb73-43bf-a194-6b53452390d8",
   "metadata": {},
   "outputs": [
    {
     "data": {
      "text/plain": [
       "<Axes: xlabel='category', ylabel='values'>"
      ]
     },
     "execution_count": 36,
     "metadata": {},
     "output_type": "execute_result"
    },
    {
     "data": {
      "image/png": "[encoded data removed]",
      "text/plain": [
       "<Figure size 600x400 with 1 Axes>"
      ]
     },
     "metadata": {},
     "output_type": "display_data"
    }
   ],
   "source": [
    "df = pd.DataFrame({\"values\": x, \"category\": [\"A\"] * len(x)})  # Single category\n",
    "\n",
    "# Create Seaborn boxplot\n",
    "plt.figure(figsize=(6, 4))\n",
    "sns.boxplot(x=\"category\", y=\"values\", data=df, color=\"skyblue\")"
   ]
  },
  {
   "cell_type": "code",
   "execution_count": 37,
   "id": "a217b6fc-efb7-4998-a19d-7e5879980f6c",
   "metadata": {},
   "outputs": [
    {
     "data": {
      "text/plain": [
       "IDpol\n",
       "154968      137169.81\n",
       "1107370     152084.96\n",
       "4138268     181204.00\n",
       "3083780     182050.00\n",
       "3172846     182500.00\n",
       "2096700     182878.18\n",
       "53865       183073.66\n",
       "3196736     186584.15\n",
       "3025890     191477.57\n",
       "2202813     203172.00\n",
       "1067220     205432.05\n",
       "3059946     208472.60\n",
       "3103319     209695.87\n",
       "4159792     211204.00\n",
       "2206511     241171.16\n",
       "1096763     255013.03\n",
       "4169019     276643.00\n",
       "3150210     281897.49\n",
       "3075820     287423.00\n",
       "158309      301635.49\n",
       "1117644     307096.42\n",
       "110846      702092.76\n",
       "3122016     774411.50\n",
       "2141337    1301172.60\n",
       "1120377    4075400.56\n",
       "Name: ClaimSeverity_TRG, dtype: float64"
      ]
     },
     "execution_count": 37,
     "metadata": {},
     "output_type": "execute_result"
    }
   ],
   "source": [
    "data.ClaimSeverity_TRG[data.ClaimSeverity_TRG > q3_plus_15_iqr].sort_values()"
   ]
  },
  {
   "cell_type": "code",
   "execution_count": 46,
   "id": "f76f4bae-c709-4bba-bc2b-cb3666a0f6e2",
   "metadata": {},
   "outputs": [
    {
     "data": {
      "text/plain": [
       "55390041.56000001"
      ]
     },
     "execution_count": 46,
     "metadata": {},
     "output_type": "execute_result"
    }
   ],
   "source": [
    "s = data.ClaimSeverity_TRG.sum()\n",
    "s"
   ]
  },
  {
   "cell_type": "code",
   "execution_count": 45,
   "id": "10ca9bb8-3d0e-4855-8303-20b2c5945e62",
   "metadata": {},
   "outputs": [
    {
     "data": {
      "text/plain": [
       "IDpol\n",
       "2166718      56219.60\n",
       "1080933      58711.00\n",
       "4146144      61204.00\n",
       "4037514      61469.00\n",
       "2211587      62400.00\n",
       "              ...    \n",
       "1117644     307096.42\n",
       "110846      702092.76\n",
       "3122016     774411.50\n",
       "2141337    1301172.60\n",
       "1120377    4075400.56\n",
       "Name: ClaimSeverity_TRG, Length: 73, dtype: float64"
      ]
     },
     "execution_count": 45,
     "metadata": {},
     "output_type": "execute_result"
    }
   ],
   "source": [
    "data.ClaimSeverity_TRG[data.ClaimSeverity_TRG > s * 0.001].sort_values()"
   ]
  },
  {
   "cell_type": "code",
   "execution_count": 50,
   "id": "094640cc-7bef-4cc8-a9d3-95bfeb81f621",
   "metadata": {},
   "outputs": [
    {
     "name": "stdout",
     "output_type": "stream",
     "text": [
      "24932\n"
     ]
    },
    {
     "data": {
      "text/plain": [
       "IDpol\n",
       "1031713         1.00\n",
       "2054554         1.09\n",
       "175914          1.49\n",
       "3191712         1.59\n",
       "3120081         1.74\n",
       "             ...    \n",
       "4169019    276643.00\n",
       "3150210    281897.49\n",
       "3075820    287423.00\n",
       "158309     301635.49\n",
       "1117644    307096.42\n",
       "Name: ClaimSeverity_TRG, Length: 24932, dtype: float64"
      ]
     },
     "execution_count": 50,
     "metadata": {},
     "output_type": "execute_result"
    }
   ],
   "source": [
    "x = data.ClaimSeverity_TRG.sort_values()\n",
    "while len(x) > 0 and x.iloc[-1] > 0.01 * x.sum():\n",
    "    x = x.iloc[:-1]\n",
    "print(len(x))\n",
    "x"
   ]
  },
  {
   "cell_type": "code",
   "execution_count": null,
   "id": "9dac6c0d-36fe-4334-9470-f7dbd01e6c3c",
   "metadata": {},
   "outputs": [],
   "source": [
    "3097066      78104.830\n",
    "3025890     191477.570\n",
    "3122016     774411.500\n",
    "2141337    1301172.600"
   ]
  },
  {
   "cell_type": "code",
   "execution_count": null,
   "id": "0c3379ea-c50b-45f3-8d73-4b28667f1d2f",
   "metadata": {},
   "outputs": [],
   "source": [
    "np.quantile(data.ClaimSeverity_TRG, quantiles)"
   ]
  },
  {
   "cell_type": "code",
   "execution_count": 13,
   "id": "7a2bbfa8-9a22-4403-989b-8ef28210837a",
   "metadata": {},
   "outputs": [],
   "source": [
    "def target_percs(data, only_positive=False, trg_var=\"ClaimFreq\", vals_and_ops=None):\n",
    "    if vals_and_ops is None:\n",
    "        vals_and_ops = [(0, \"≥\"), (0, \">\"), (1, \"≥\"), (1, \">\")] + list(zip([1.5, 2, 3, 5, 7] + list(range(10, 110, 10)) + [150, 200, 250, 300, 350, 400], [\">\"] * 100))\n",
    "    if only_positive:\n",
    "        vals_and_ops = vals_and_ops[1:]\n",
    "        data = data[data[trg_var] > 0]\n",
    "    n = len(data)\n",
    "    rows = []\n",
    "    for t, op in vals_and_ops:\n",
    "        if op == \"≥\":\n",
    "            cnt = (data[trg_var] >= t).sum()\n",
    "        else:\n",
    "            cnt = (data[trg_var] > t).sum()\n",
    "        thrhs = f\"{trg_var} {op} {t:3}\".replace(\" \", \" \")\n",
    "        rows.append((thrhs, cnt, round(100 * cnt/n, 2)))\n",
    "    df = pd.DataFrame(rows, columns=[\"Threshold\", \"Samples\", \"Percentage\"])\n",
    "    return df"
   ]
  },
  {
   "cell_type": "code",
   "execution_count": 15,
   "id": "f5133ddb-606a-478e-ab7a-2e8f8ed7ea94",
   "metadata": {},
   "outputs": [
    {
     "data": {
      "text/html": [
       "<div>\n",
       "<style scoped>\n",
       "    .dataframe tbody tr th:only-of-type {\n",
       "        vertical-align: middle;\n",
       "    }\n",
       "\n",
       "    .dataframe tbody tr th {\n",
       "        vertical-align: top;\n",
       "    }\n",
       "\n",
       "    .dataframe thead th {\n",
       "        text-align: right;\n",
       "    }\n",
       "</style>\n",
       "<table border=\"1\" class=\"dataframe\">\n",
       "  <thead>\n",
       "    <tr style=\"text-align: right;\">\n",
       "      <th></th>\n",
       "      <th>Threshold</th>\n",
       "      <th>Samples</th>\n",
       "      <th>Percentage</th>\n",
       "    </tr>\n",
       "  </thead>\n",
       "  <tbody>\n",
       "    <tr>\n",
       "      <th>0</th>\n",
       "      <td>ClaimSeverity_TRG ≥   0</td>\n",
       "      <td>24936</td>\n",
       "      <td>100.00</td>\n",
       "    </tr>\n",
       "    <tr>\n",
       "      <th>1</th>\n",
       "      <td>ClaimSeverity_TRG &gt;   0</td>\n",
       "      <td>24936</td>\n",
       "      <td>100.00</td>\n",
       "    </tr>\n",
       "    <tr>\n",
       "      <th>2</th>\n",
       "      <td>ClaimSeverity_TRG ≥   1</td>\n",
       "      <td>24936</td>\n",
       "      <td>100.00</td>\n",
       "    </tr>\n",
       "    <tr>\n",
       "      <th>3</th>\n",
       "      <td>ClaimSeverity_TRG &gt;   1</td>\n",
       "      <td>24935</td>\n",
       "      <td>100.00</td>\n",
       "    </tr>\n",
       "    <tr>\n",
       "      <th>4</th>\n",
       "      <td>ClaimSeverity_TRG &gt; 1.5</td>\n",
       "      <td>24933</td>\n",
       "      <td>99.99</td>\n",
       "    </tr>\n",
       "    <tr>\n",
       "      <th>5</th>\n",
       "      <td>ClaimSeverity_TRG &gt;   2</td>\n",
       "      <td>24928</td>\n",
       "      <td>99.97</td>\n",
       "    </tr>\n",
       "    <tr>\n",
       "      <th>6</th>\n",
       "      <td>ClaimSeverity_TRG &gt;   3</td>\n",
       "      <td>24926</td>\n",
       "      <td>99.96</td>\n",
       "    </tr>\n",
       "    <tr>\n",
       "      <th>7</th>\n",
       "      <td>ClaimSeverity_TRG &gt;   5</td>\n",
       "      <td>24920</td>\n",
       "      <td>99.94</td>\n",
       "    </tr>\n",
       "    <tr>\n",
       "      <th>8</th>\n",
       "      <td>ClaimSeverity_TRG &gt;   7</td>\n",
       "      <td>24904</td>\n",
       "      <td>99.87</td>\n",
       "    </tr>\n",
       "    <tr>\n",
       "      <th>9</th>\n",
       "      <td>ClaimSeverity_TRG &gt;  10</td>\n",
       "      <td>24889</td>\n",
       "      <td>99.81</td>\n",
       "    </tr>\n",
       "    <tr>\n",
       "      <th>10</th>\n",
       "      <td>ClaimSeverity_TRG &gt;  20</td>\n",
       "      <td>24831</td>\n",
       "      <td>99.58</td>\n",
       "    </tr>\n",
       "    <tr>\n",
       "      <th>11</th>\n",
       "      <td>ClaimSeverity_TRG &gt;  30</td>\n",
       "      <td>24763</td>\n",
       "      <td>99.31</td>\n",
       "    </tr>\n",
       "    <tr>\n",
       "      <th>12</th>\n",
       "      <td>ClaimSeverity_TRG &gt;  40</td>\n",
       "      <td>24686</td>\n",
       "      <td>99.00</td>\n",
       "    </tr>\n",
       "    <tr>\n",
       "      <th>13</th>\n",
       "      <td>ClaimSeverity_TRG &gt;  50</td>\n",
       "      <td>24628</td>\n",
       "      <td>98.76</td>\n",
       "    </tr>\n",
       "    <tr>\n",
       "      <th>14</th>\n",
       "      <td>ClaimSeverity_TRG &gt;  60</td>\n",
       "      <td>24530</td>\n",
       "      <td>98.37</td>\n",
       "    </tr>\n",
       "    <tr>\n",
       "      <th>15</th>\n",
       "      <td>ClaimSeverity_TRG &gt;  70</td>\n",
       "      <td>24303</td>\n",
       "      <td>97.46</td>\n",
       "    </tr>\n",
       "    <tr>\n",
       "      <th>16</th>\n",
       "      <td>ClaimSeverity_TRG &gt;  80</td>\n",
       "      <td>23681</td>\n",
       "      <td>94.97</td>\n",
       "    </tr>\n",
       "    <tr>\n",
       "      <th>17</th>\n",
       "      <td>ClaimSeverity_TRG &gt;  90</td>\n",
       "      <td>23368</td>\n",
       "      <td>93.71</td>\n",
       "    </tr>\n",
       "    <tr>\n",
       "      <th>18</th>\n",
       "      <td>ClaimSeverity_TRG &gt; 100</td>\n",
       "      <td>23215</td>\n",
       "      <td>93.10</td>\n",
       "    </tr>\n",
       "    <tr>\n",
       "      <th>19</th>\n",
       "      <td>ClaimSeverity_TRG &gt; 150</td>\n",
       "      <td>22854</td>\n",
       "      <td>91.65</td>\n",
       "    </tr>\n",
       "    <tr>\n",
       "      <th>20</th>\n",
       "      <td>ClaimSeverity_TRG &gt; 200</td>\n",
       "      <td>22501</td>\n",
       "      <td>90.24</td>\n",
       "    </tr>\n",
       "    <tr>\n",
       "      <th>21</th>\n",
       "      <td>ClaimSeverity_TRG &gt; 250</td>\n",
       "      <td>22169</td>\n",
       "      <td>88.90</td>\n",
       "    </tr>\n",
       "    <tr>\n",
       "      <th>22</th>\n",
       "      <td>ClaimSeverity_TRG &gt; 300</td>\n",
       "      <td>21849</td>\n",
       "      <td>87.62</td>\n",
       "    </tr>\n",
       "    <tr>\n",
       "      <th>23</th>\n",
       "      <td>ClaimSeverity_TRG &gt; 350</td>\n",
       "      <td>21548</td>\n",
       "      <td>86.41</td>\n",
       "    </tr>\n",
       "    <tr>\n",
       "      <th>24</th>\n",
       "      <td>ClaimSeverity_TRG &gt; 400</td>\n",
       "      <td>21240</td>\n",
       "      <td>85.18</td>\n",
       "    </tr>\n",
       "  </tbody>\n",
       "</table>\n",
       "</div>"
      ],
      "text/plain": [
       "                  Threshold  Samples  Percentage\n",
       "0   ClaimSeverity_TRG ≥   0    24936      100.00\n",
       "1   ClaimSeverity_TRG >   0    24936      100.00\n",
       "2   ClaimSeverity_TRG ≥   1    24936      100.00\n",
       "3   ClaimSeverity_TRG >   1    24935      100.00\n",
       "4   ClaimSeverity_TRG > 1.5    24933       99.99\n",
       "5   ClaimSeverity_TRG >   2    24928       99.97\n",
       "6   ClaimSeverity_TRG >   3    24926       99.96\n",
       "7   ClaimSeverity_TRG >   5    24920       99.94\n",
       "8   ClaimSeverity_TRG >   7    24904       99.87\n",
       "9   ClaimSeverity_TRG >  10    24889       99.81\n",
       "10  ClaimSeverity_TRG >  20    24831       99.58\n",
       "11  ClaimSeverity_TRG >  30    24763       99.31\n",
       "12  ClaimSeverity_TRG >  40    24686       99.00\n",
       "13  ClaimSeverity_TRG >  50    24628       98.76\n",
       "14  ClaimSeverity_TRG >  60    24530       98.37\n",
       "15  ClaimSeverity_TRG >  70    24303       97.46\n",
       "16  ClaimSeverity_TRG >  80    23681       94.97\n",
       "17  ClaimSeverity_TRG >  90    23368       93.71\n",
       "18  ClaimSeverity_TRG > 100    23215       93.10\n",
       "19  ClaimSeverity_TRG > 150    22854       91.65\n",
       "20  ClaimSeverity_TRG > 200    22501       90.24\n",
       "21  ClaimSeverity_TRG > 250    22169       88.90\n",
       "22  ClaimSeverity_TRG > 300    21849       87.62\n",
       "23  ClaimSeverity_TRG > 350    21548       86.41\n",
       "24  ClaimSeverity_TRG > 400    21240       85.18"
      ]
     },
     "execution_count": 15,
     "metadata": {},
     "output_type": "execute_result"
    }
   ],
   "source": [
    "vals_and_ops = [(0, \"≥\"), (0, \">\"), (1, \"≥\"), (1, \">\")] + list(zip([1.5, 2, 3, 5, 7] + list(range(10, 110, 10)) + [150, 200, 250, 300, 350, 400], [\">\"] * 100))\n",
    "target_percs(data, trg_var=\"ClaimSeverity_TRG\", vals_and_ops=vals_and_ops)"
   ]
  }
 ],
 "metadata": {
  "kernelspec": {
   "display_name": "Python 3 (ipykernel)",
   "language": "python",
   "name": "python3"
  },
  "language_info": {
   "codemirror_mode": {
    "name": "ipython",
    "version": 3
   },
   "file_extension": ".py",
   "mimetype": "text/x-python",
   "name": "python",
   "nbconvert_exporter": "python",
   "pygments_lexer": "ipython3",
   "version": "3.11.9"
  }
 },
 "nbformat": 4,
 "nbformat_minor": 5
}
