{
 "cells": [
  {
   "cell_type": "code",
   "execution_count": 2,
   "id": "a5e4bd9b-58ad-454c-a145-e88fa372da20",
   "metadata": {},
   "outputs": [
    {
     "data": {
      "text/html": [
       "<pre style=\"white-space:pre;overflow-x:auto;line-height:normal;font-family:Menlo,'DejaVu Sans Mono',consolas,'Courier New',monospace\"><span style=\"color: #7fbfbf; text-decoration-color: #7fbfbf\">[09/25/24 20:19:29] </span><span style=\"color: #000080; text-decoration-color: #000080\">INFO    </span> Reloaded kedro. Active mlflow_run_id: 854322f27f5f4d05949cbd07dddd53ab <a href=\"file:///home/krzysiek/Development/claim-modelling/claim_modelling_kedro/notebooks/utils/my_kedro.py\" target=\"_blank\"><span style=\"color: #7f7f7f; text-decoration-color: #7f7f7f\">my_kedro.py</span></a><span style=\"color: #7f7f7f; text-decoration-color: #7f7f7f\">:</span><a href=\"file:///home/krzysiek/Development/claim-modelling/claim_modelling_kedro/notebooks/utils/my_kedro.py#125\" target=\"_blank\"><span style=\"color: #7f7f7f; text-decoration-color: #7f7f7f\">125</span></a>\n",
       "</pre>\n"
      ],
      "text/plain": [
       "\u001b[2;36m[09/25/24 20:19:29]\u001b[0m\u001b[2;36m \u001b[0m\u001b[34mINFO    \u001b[0m Reloaded kedro. Active mlflow_run_id: 854322f27f5f4d05949cbd07dddd53ab \u001b]8;id=289776;file:///home/krzysiek/Development/claim-modelling/claim_modelling_kedro/notebooks/utils/my_kedro.py\u001b\\\u001b[2mmy_kedro.py\u001b[0m\u001b]8;;\u001b\\\u001b[2m:\u001b[0m\u001b]8;id=627315;file:///home/krzysiek/Development/claim-modelling/claim_modelling_kedro/notebooks/utils/my_kedro.py#125\u001b\\\u001b[2m125\u001b[0m\u001b]8;;\u001b\\\n"
      ]
     },
     "metadata": {},
     "output_type": "display_data"
    }
   ],
   "source": [
    "import sys\n",
    "import os\n",
    "\n",
    "sys.path.insert(0, \"/home/krzysiek/Development/claim-modelling/claim_modelling_kedro/notebooks/utils\")\n",
    "os.chdir(\"/home/krzysiek/Development/claim-modelling/claim_modelling_kedro/\")\n",
    "\n",
    "from notebooks.utils.my_kedro import MyKedro, suppress_all_loggers\n",
    "import logging\n",
    "\n",
    "logger = logging.getLogger(__name__)\n",
    "logger.setLevel(\"INFO\")\n",
    "\n",
    "my_kedro = MyKedro()"
   ]
  },
  {
   "cell_type": "code",
   "execution_count": null,
   "id": "5318e05d-490a-491a-8e08-0d98bf15058b",
   "metadata": {},
   "outputs": [],
   "source": [
    "my_kedro.reload()"
   ]
  },
  {
   "cell_type": "code",
   "execution_count": 64,
   "id": "8af5daae-04d5-4273-83d3-29e310b56ced",
   "metadata": {},
   "outputs": [],
   "source": [
    "config = my_kedro.run(\"init\", level=\"ERROR\")[\"config\"]"
   ]
  },
  {
   "cell_type": "code",
   "execution_count": 85,
   "id": "835723e9-df38-49f5-979d-d085e4c5f18e",
   "metadata": {},
   "outputs": [],
   "source": [
    "task_out = my_kedro.run(\"de\")"
   ]
  },
  {
   "cell_type": "code",
   "execution_count": 74,
   "id": "c3797cd6-9bb5-4b12-8973-fde74711c37f",
   "metadata": {},
   "outputs": [],
   "source": [
    "# catalog.list()"
   ]
  },
  {
   "cell_type": "code",
   "execution_count": 86,
   "id": "bfa78e6d-3144-4323-a18c-3711f95e250c",
   "metadata": {},
   "outputs": [],
   "source": [
    "transformed_sample_features_df = catalog.load(\"transformed_sample_features_df\")"
   ]
  },
  {
   "cell_type": "code",
   "execution_count": 87,
   "id": "a9fe29cc-4304-42a6-a665-8ae861ab7fdf",
   "metadata": {},
   "outputs": [],
   "source": [
    "transformed_sample_features_df.head()"
   ]
  },
  {
   "cell_type": "code",
   "execution_count": 4,
   "id": "fe1be597-3e74-4794-9a00-cc579b694ba0",
   "metadata": {},
   "outputs": [],
   "source": [
    "from claim_modelling_kedro.experiments.experiment import create_experiment_run, default_run_name_from_run_no"
   ]
  },
  {
   "cell_type": "code",
   "execution_count": 5,
   "id": "1f0b98bc-e295-4c74-b7df-92644f28a27e",
   "metadata": {},
   "outputs": [],
   "source": [
    "trg_size = 9700"
   ]
  },
  {
   "cell_type": "code",
   "execution_count": 13,
   "id": "710da50e-51b2-42df-8711-666a18b1547e",
   "metadata": {},
   "outputs": [
    {
     "data": {
      "text/html": [
       "<pre style=\"white-space:pre;overflow-x:auto;line-height:normal;font-family:Menlo,'DejaVu Sans Mono',consolas,'Courier New',monospace\"></pre>\n"
      ],
      "text/plain": []
     },
     "metadata": {},
     "output_type": "display_data"
    },
    {
     "data": {
      "text/plain": [
       "\u001b[1;36m19680.0\u001b[0m"
      ]
     },
     "execution_count": 13,
     "metadata": {},
     "output_type": "execute_result"
    }
   ],
   "source": [
    "8200 * 3 * 8/10"
   ]
  },
  {
   "cell_type": "code",
   "execution_count": 18,
   "id": "d84f6552-193b-4e17-9a07-f3452b0fdf7a",
   "metadata": {},
   "outputs": [
    {
     "data": {
      "text/html": [
       "<pre style=\"white-space:pre;overflow-x:auto;line-height:normal;font-family:Menlo,'DejaVu Sans Mono',consolas,'Courier New',monospace\"></pre>\n"
      ],
      "text/plain": []
     },
     "metadata": {},
     "output_type": "display_data"
    },
    {
     "data": {
      "text/plain": [
       "\u001b[1;36m380000.0\u001b[0m"
      ]
     },
     "execution_count": 18,
     "metadata": {},
     "output_type": "execute_result"
    }
   ],
   "source": [
    "19000 / 0.05"
   ]
  },
  {
   "cell_type": "code",
   "execution_count": 21,
   "id": "25fbac89-40d2-480c-86da-36076a8fb467",
   "metadata": {},
   "outputs": [
    {
     "data": {
      "text/html": [
       "<pre style=\"white-space:pre;overflow-x:auto;line-height:normal;font-family:Menlo,'DejaVu Sans Mono',consolas,'Courier New',monospace\"></pre>\n"
      ],
      "text/plain": []
     },
     "metadata": {},
     "output_type": "display_data"
    },
    {
     "data": {
      "text/plain": [
       "\u001b[1;36m19980.0\u001b[0m"
      ]
     },
     "execution_count": 21,
     "metadata": {},
     "output_type": "execute_result"
    }
   ],
   "source": [
    "540000 * 0.037"
   ]
  },
  {
   "cell_type": "code",
   "execution_count": null,
   "id": "244d3e1d-2451-49c4-a785-02542160a455",
   "metadata": {},
   "outputs": [],
   "source": []
  },
  {
   "cell_type": "code",
   "execution_count": 9,
   "id": "6dd6af8c-0644-4578-90f7-a4063ad28a84",
   "metadata": {
    "scrolled": true
   },
   "outputs": [
    {
     "data": {
      "text/html": [
       "<pre style=\"white-space:pre;overflow-x:auto;line-height:normal;font-family:Menlo,'DejaVu Sans Mono',consolas,'Courier New',monospace\"><span style=\"color: #7fbfbf; text-decoration-color: #7fbfbf\">[09/25/24 23:24:52] </span><span style=\"color: #000080; text-decoration-color: #000080\">INFO    </span> Filled templates copied to                                            <a href=\"file:///home/krzysiek/Development/claim-modelling/claim_modelling_kedro/src/claim_modelling_kedro/experiments/experiment.py\" target=\"_blank\"><span style=\"color: #7f7f7f; text-decoration-color: #7f7f7f\">experiment.py</span></a><span style=\"color: #7f7f7f; text-decoration-color: #7f7f7f\">:</span><a href=\"file:///home/krzysiek/Development/claim-modelling/claim_modelling_kedro/src/claim_modelling_kedro/experiments/experiment.py#41\" target=\"_blank\"><span style=\"color: #7f7f7f; text-decoration-color: #7f7f7f\">41</span></a>\n",
       "<span style=\"color: #7fbfbf; text-decoration-color: #7fbfbf\">                    </span>         experiments/exp_001_freq_glm_trg_ratio_clb_poisson/runs/exp_001_freq_ <span style=\"color: #7f7f7f; text-decoration-color: #7f7f7f\">                </span>\n",
       "<span style=\"color: #7fbfbf; text-decoration-color: #7fbfbf\">                    </span>         glm_trg_ratio_clb_poisson_00001_p_None/filled_templates.              <span style=\"color: #7f7f7f; text-decoration-color: #7f7f7f\">                </span>\n",
       "</pre>\n"
      ],
      "text/plain": [
       "\u001b[2;36m[09/25/24 23:24:52]\u001b[0m\u001b[2;36m \u001b[0m\u001b[34mINFO    \u001b[0m Filled templates copied to                                            \u001b]8;id=504036;file:///home/krzysiek/Development/claim-modelling/claim_modelling_kedro/src/claim_modelling_kedro/experiments/experiment.py\u001b\\\u001b[2mexperiment.py\u001b[0m\u001b]8;;\u001b\\\u001b[2m:\u001b[0m\u001b]8;id=617924;file:///home/krzysiek/Development/claim-modelling/claim_modelling_kedro/src/claim_modelling_kedro/experiments/experiment.py#41\u001b\\\u001b[2m41\u001b[0m\u001b]8;;\u001b\\\n",
       "\u001b[2;36m                    \u001b[0m         experiments/exp_001_freq_glm_trg_ratio_clb_poisson/runs/exp_001_freq_ \u001b[2m                \u001b[0m\n",
       "\u001b[2;36m                    \u001b[0m         glm_trg_ratio_clb_poisson_00001_p_None/filled_templates.              \u001b[2m                \u001b[0m\n"
      ]
     },
     "metadata": {},
     "output_type": "display_data"
    },
    {
     "data": {
      "text/html": [
       "<pre style=\"white-space:pre;overflow-x:auto;line-height:normal;font-family:Menlo,'DejaVu Sans Mono',consolas,'Courier New',monospace\"><span style=\"color: #7fbfbf; text-decoration-color: #7fbfbf\">                    </span><span style=\"color: #000080; text-decoration-color: #000080\">INFO    </span> Created experiment run directory:                                     <a href=\"file:///home/krzysiek/Development/claim-modelling/claim_modelling_kedro/src/claim_modelling_kedro/experiments/experiment.py\" target=\"_blank\"><span style=\"color: #7f7f7f; text-decoration-color: #7f7f7f\">experiment.py</span></a><span style=\"color: #7f7f7f; text-decoration-color: #7f7f7f\">:</span><a href=\"file:///home/krzysiek/Development/claim-modelling/claim_modelling_kedro/src/claim_modelling_kedro/experiments/experiment.py#73\" target=\"_blank\"><span style=\"color: #7f7f7f; text-decoration-color: #7f7f7f\">73</span></a>\n",
       "<span style=\"color: #7fbfbf; text-decoration-color: #7fbfbf\">                    </span>         experiments/exp_001_freq_glm_trg_ratio_clb_poisson/runs/exp_001_freq_ <span style=\"color: #7f7f7f; text-decoration-color: #7f7f7f\">                </span>\n",
       "<span style=\"color: #7fbfbf; text-decoration-color: #7fbfbf\">                    </span>         glm_trg_ratio_clb_poisson_00001_p_None.                               <span style=\"color: #7f7f7f; text-decoration-color: #7f7f7f\">                </span>\n",
       "</pre>\n"
      ],
      "text/plain": [
       "\u001b[2;36m                   \u001b[0m\u001b[2;36m \u001b[0m\u001b[34mINFO    \u001b[0m Created experiment run directory:                                     \u001b]8;id=588548;file:///home/krzysiek/Development/claim-modelling/claim_modelling_kedro/src/claim_modelling_kedro/experiments/experiment.py\u001b\\\u001b[2mexperiment.py\u001b[0m\u001b]8;;\u001b\\\u001b[2m:\u001b[0m\u001b]8;id=692812;file:///home/krzysiek/Development/claim-modelling/claim_modelling_kedro/src/claim_modelling_kedro/experiments/experiment.py#73\u001b\\\u001b[2m73\u001b[0m\u001b]8;;\u001b\\\n",
       "\u001b[2;36m                    \u001b[0m         experiments/exp_001_freq_glm_trg_ratio_clb_poisson/runs/exp_001_freq_ \u001b[2m                \u001b[0m\n",
       "\u001b[2;36m                    \u001b[0m         glm_trg_ratio_clb_poisson_00001_p_None.                               \u001b[2m                \u001b[0m\n"
      ]
     },
     "metadata": {},
     "output_type": "display_data"
    },
    {
     "data": {
      "text/html": [
       "<pre style=\"white-space:pre;overflow-x:auto;line-height:normal;font-family:Menlo,'DejaVu Sans Mono',consolas,'Courier New',monospace\"><span style=\"color: #7fbfbf; text-decoration-color: #7fbfbf\">                    </span><span style=\"color: #000080; text-decoration-color: #000080\">INFO    </span> Filled templates copied to                                            <a href=\"file:///home/krzysiek/Development/claim-modelling/claim_modelling_kedro/src/claim_modelling_kedro/experiments/experiment.py\" target=\"_blank\"><span style=\"color: #7f7f7f; text-decoration-color: #7f7f7f\">experiment.py</span></a><span style=\"color: #7f7f7f; text-decoration-color: #7f7f7f\">:</span><a href=\"file:///home/krzysiek/Development/claim-modelling/claim_modelling_kedro/src/claim_modelling_kedro/experiments/experiment.py#41\" target=\"_blank\"><span style=\"color: #7f7f7f; text-decoration-color: #7f7f7f\">41</span></a>\n",
       "<span style=\"color: #7fbfbf; text-decoration-color: #7fbfbf\">                    </span>         experiments/exp_001_freq_glm_trg_ratio_clb_poisson/runs/exp_001_freq_ <span style=\"color: #7f7f7f; text-decoration-color: #7f7f7f\">                </span>\n",
       "<span style=\"color: #7fbfbf; text-decoration-color: #7fbfbf\">                    </span>         glm_trg_ratio_clb_poisson_00002_p_0.<span style=\"color: #008080; text-decoration-color: #008080; font-weight: bold\">05</span>/filled_templates.              <span style=\"color: #7f7f7f; text-decoration-color: #7f7f7f\">                </span>\n",
       "</pre>\n"
      ],
      "text/plain": [
       "\u001b[2;36m                   \u001b[0m\u001b[2;36m \u001b[0m\u001b[34mINFO    \u001b[0m Filled templates copied to                                            \u001b]8;id=461372;file:///home/krzysiek/Development/claim-modelling/claim_modelling_kedro/src/claim_modelling_kedro/experiments/experiment.py\u001b\\\u001b[2mexperiment.py\u001b[0m\u001b]8;;\u001b\\\u001b[2m:\u001b[0m\u001b]8;id=723947;file:///home/krzysiek/Development/claim-modelling/claim_modelling_kedro/src/claim_modelling_kedro/experiments/experiment.py#41\u001b\\\u001b[2m41\u001b[0m\u001b]8;;\u001b\\\n",
       "\u001b[2;36m                    \u001b[0m         experiments/exp_001_freq_glm_trg_ratio_clb_poisson/runs/exp_001_freq_ \u001b[2m                \u001b[0m\n",
       "\u001b[2;36m                    \u001b[0m         glm_trg_ratio_clb_poisson_00002_p_0.\u001b[1;36m05\u001b[0m/filled_templates.              \u001b[2m                \u001b[0m\n"
      ]
     },
     "metadata": {},
     "output_type": "display_data"
    },
    {
     "data": {
      "text/html": [
       "<pre style=\"white-space:pre;overflow-x:auto;line-height:normal;font-family:Menlo,'DejaVu Sans Mono',consolas,'Courier New',monospace\"><span style=\"color: #7fbfbf; text-decoration-color: #7fbfbf\">                    </span><span style=\"color: #000080; text-decoration-color: #000080\">INFO    </span> Created experiment run directory:                                     <a href=\"file:///home/krzysiek/Development/claim-modelling/claim_modelling_kedro/src/claim_modelling_kedro/experiments/experiment.py\" target=\"_blank\"><span style=\"color: #7f7f7f; text-decoration-color: #7f7f7f\">experiment.py</span></a><span style=\"color: #7f7f7f; text-decoration-color: #7f7f7f\">:</span><a href=\"file:///home/krzysiek/Development/claim-modelling/claim_modelling_kedro/src/claim_modelling_kedro/experiments/experiment.py#73\" target=\"_blank\"><span style=\"color: #7f7f7f; text-decoration-color: #7f7f7f\">73</span></a>\n",
       "<span style=\"color: #7fbfbf; text-decoration-color: #7fbfbf\">                    </span>         experiments/exp_001_freq_glm_trg_ratio_clb_poisson/runs/exp_001_freq_ <span style=\"color: #7f7f7f; text-decoration-color: #7f7f7f\">                </span>\n",
       "<span style=\"color: #7fbfbf; text-decoration-color: #7fbfbf\">                    </span>         glm_trg_ratio_clb_poisson_00002_p_0.<span style=\"color: #008080; text-decoration-color: #008080; font-weight: bold\">05</span>.                               <span style=\"color: #7f7f7f; text-decoration-color: #7f7f7f\">                </span>\n",
       "</pre>\n"
      ],
      "text/plain": [
       "\u001b[2;36m                   \u001b[0m\u001b[2;36m \u001b[0m\u001b[34mINFO    \u001b[0m Created experiment run directory:                                     \u001b]8;id=645539;file:///home/krzysiek/Development/claim-modelling/claim_modelling_kedro/src/claim_modelling_kedro/experiments/experiment.py\u001b\\\u001b[2mexperiment.py\u001b[0m\u001b]8;;\u001b\\\u001b[2m:\u001b[0m\u001b]8;id=466930;file:///home/krzysiek/Development/claim-modelling/claim_modelling_kedro/src/claim_modelling_kedro/experiments/experiment.py#73\u001b\\\u001b[2m73\u001b[0m\u001b]8;;\u001b\\\n",
       "\u001b[2;36m                    \u001b[0m         experiments/exp_001_freq_glm_trg_ratio_clb_poisson/runs/exp_001_freq_ \u001b[2m                \u001b[0m\n",
       "\u001b[2;36m                    \u001b[0m         glm_trg_ratio_clb_poisson_00002_p_0.\u001b[1;36m05\u001b[0m.                               \u001b[2m                \u001b[0m\n"
      ]
     },
     "metadata": {},
     "output_type": "display_data"
    },
    {
     "data": {
      "text/html": [
       "<pre style=\"white-space:pre;overflow-x:auto;line-height:normal;font-family:Menlo,'DejaVu Sans Mono',consolas,'Courier New',monospace\"><span style=\"color: #7fbfbf; text-decoration-color: #7fbfbf\">                    </span><span style=\"color: #000080; text-decoration-color: #000080\">INFO    </span> Filled templates copied to                                            <a href=\"file:///home/krzysiek/Development/claim-modelling/claim_modelling_kedro/src/claim_modelling_kedro/experiments/experiment.py\" target=\"_blank\"><span style=\"color: #7f7f7f; text-decoration-color: #7f7f7f\">experiment.py</span></a><span style=\"color: #7f7f7f; text-decoration-color: #7f7f7f\">:</span><a href=\"file:///home/krzysiek/Development/claim-modelling/claim_modelling_kedro/src/claim_modelling_kedro/experiments/experiment.py#41\" target=\"_blank\"><span style=\"color: #7f7f7f; text-decoration-color: #7f7f7f\">41</span></a>\n",
       "<span style=\"color: #7fbfbf; text-decoration-color: #7fbfbf\">                    </span>         experiments/exp_001_freq_glm_trg_ratio_clb_poisson/runs/exp_001_freq_ <span style=\"color: #7f7f7f; text-decoration-color: #7f7f7f\">                </span>\n",
       "<span style=\"color: #7fbfbf; text-decoration-color: #7fbfbf\">                    </span>         glm_trg_ratio_clb_poisson_00003_p_0.<span style=\"color: #008080; text-decoration-color: #008080; font-weight: bold\">1</span>/filled_templates.               <span style=\"color: #7f7f7f; text-decoration-color: #7f7f7f\">                </span>\n",
       "</pre>\n"
      ],
      "text/plain": [
       "\u001b[2;36m                   \u001b[0m\u001b[2;36m \u001b[0m\u001b[34mINFO    \u001b[0m Filled templates copied to                                            \u001b]8;id=907056;file:///home/krzysiek/Development/claim-modelling/claim_modelling_kedro/src/claim_modelling_kedro/experiments/experiment.py\u001b\\\u001b[2mexperiment.py\u001b[0m\u001b]8;;\u001b\\\u001b[2m:\u001b[0m\u001b]8;id=235335;file:///home/krzysiek/Development/claim-modelling/claim_modelling_kedro/src/claim_modelling_kedro/experiments/experiment.py#41\u001b\\\u001b[2m41\u001b[0m\u001b]8;;\u001b\\\n",
       "\u001b[2;36m                    \u001b[0m         experiments/exp_001_freq_glm_trg_ratio_clb_poisson/runs/exp_001_freq_ \u001b[2m                \u001b[0m\n",
       "\u001b[2;36m                    \u001b[0m         glm_trg_ratio_clb_poisson_00003_p_0.\u001b[1;36m1\u001b[0m/filled_templates.               \u001b[2m                \u001b[0m\n"
      ]
     },
     "metadata": {},
     "output_type": "display_data"
    },
    {
     "data": {
      "text/html": [
       "<pre style=\"white-space:pre;overflow-x:auto;line-height:normal;font-family:Menlo,'DejaVu Sans Mono',consolas,'Courier New',monospace\"><span style=\"color: #7fbfbf; text-decoration-color: #7fbfbf\">                    </span><span style=\"color: #000080; text-decoration-color: #000080\">INFO    </span> Created experiment run directory:                                     <a href=\"file:///home/krzysiek/Development/claim-modelling/claim_modelling_kedro/src/claim_modelling_kedro/experiments/experiment.py\" target=\"_blank\"><span style=\"color: #7f7f7f; text-decoration-color: #7f7f7f\">experiment.py</span></a><span style=\"color: #7f7f7f; text-decoration-color: #7f7f7f\">:</span><a href=\"file:///home/krzysiek/Development/claim-modelling/claim_modelling_kedro/src/claim_modelling_kedro/experiments/experiment.py#73\" target=\"_blank\"><span style=\"color: #7f7f7f; text-decoration-color: #7f7f7f\">73</span></a>\n",
       "<span style=\"color: #7fbfbf; text-decoration-color: #7fbfbf\">                    </span>         experiments/exp_001_freq_glm_trg_ratio_clb_poisson/runs/exp_001_freq_ <span style=\"color: #7f7f7f; text-decoration-color: #7f7f7f\">                </span>\n",
       "<span style=\"color: #7fbfbf; text-decoration-color: #7fbfbf\">                    </span>         glm_trg_ratio_clb_poisson_00003_p_0.<span style=\"color: #008080; text-decoration-color: #008080; font-weight: bold\">1</span>.                                <span style=\"color: #7f7f7f; text-decoration-color: #7f7f7f\">                </span>\n",
       "</pre>\n"
      ],
      "text/plain": [
       "\u001b[2;36m                   \u001b[0m\u001b[2;36m \u001b[0m\u001b[34mINFO    \u001b[0m Created experiment run directory:                                     \u001b]8;id=803860;file:///home/krzysiek/Development/claim-modelling/claim_modelling_kedro/src/claim_modelling_kedro/experiments/experiment.py\u001b\\\u001b[2mexperiment.py\u001b[0m\u001b]8;;\u001b\\\u001b[2m:\u001b[0m\u001b]8;id=377521;file:///home/krzysiek/Development/claim-modelling/claim_modelling_kedro/src/claim_modelling_kedro/experiments/experiment.py#73\u001b\\\u001b[2m73\u001b[0m\u001b]8;;\u001b\\\n",
       "\u001b[2;36m                    \u001b[0m         experiments/exp_001_freq_glm_trg_ratio_clb_poisson/runs/exp_001_freq_ \u001b[2m                \u001b[0m\n",
       "\u001b[2;36m                    \u001b[0m         glm_trg_ratio_clb_poisson_00003_p_0.\u001b[1;36m1\u001b[0m.                                \u001b[2m                \u001b[0m\n"
      ]
     },
     "metadata": {},
     "output_type": "display_data"
    },
    {
     "data": {
      "text/html": [
       "<pre style=\"white-space:pre;overflow-x:auto;line-height:normal;font-family:Menlo,'DejaVu Sans Mono',consolas,'Courier New',monospace\"><span style=\"color: #7fbfbf; text-decoration-color: #7fbfbf\">                    </span><span style=\"color: #000080; text-decoration-color: #000080\">INFO    </span> Filled templates copied to                                            <a href=\"file:///home/krzysiek/Development/claim-modelling/claim_modelling_kedro/src/claim_modelling_kedro/experiments/experiment.py\" target=\"_blank\"><span style=\"color: #7f7f7f; text-decoration-color: #7f7f7f\">experiment.py</span></a><span style=\"color: #7f7f7f; text-decoration-color: #7f7f7f\">:</span><a href=\"file:///home/krzysiek/Development/claim-modelling/claim_modelling_kedro/src/claim_modelling_kedro/experiments/experiment.py#41\" target=\"_blank\"><span style=\"color: #7f7f7f; text-decoration-color: #7f7f7f\">41</span></a>\n",
       "<span style=\"color: #7fbfbf; text-decoration-color: #7fbfbf\">                    </span>         experiments/exp_001_freq_glm_trg_ratio_clb_poisson/runs/exp_001_freq_ <span style=\"color: #7f7f7f; text-decoration-color: #7f7f7f\">                </span>\n",
       "<span style=\"color: #7fbfbf; text-decoration-color: #7fbfbf\">                    </span>         glm_trg_ratio_clb_poisson_00004_p_0.<span style=\"color: #008080; text-decoration-color: #008080; font-weight: bold\">15</span>/filled_templates.              <span style=\"color: #7f7f7f; text-decoration-color: #7f7f7f\">                </span>\n",
       "</pre>\n"
      ],
      "text/plain": [
       "\u001b[2;36m                   \u001b[0m\u001b[2;36m \u001b[0m\u001b[34mINFO    \u001b[0m Filled templates copied to                                            \u001b]8;id=924141;file:///home/krzysiek/Development/claim-modelling/claim_modelling_kedro/src/claim_modelling_kedro/experiments/experiment.py\u001b\\\u001b[2mexperiment.py\u001b[0m\u001b]8;;\u001b\\\u001b[2m:\u001b[0m\u001b]8;id=160407;file:///home/krzysiek/Development/claim-modelling/claim_modelling_kedro/src/claim_modelling_kedro/experiments/experiment.py#41\u001b\\\u001b[2m41\u001b[0m\u001b]8;;\u001b\\\n",
       "\u001b[2;36m                    \u001b[0m         experiments/exp_001_freq_glm_trg_ratio_clb_poisson/runs/exp_001_freq_ \u001b[2m                \u001b[0m\n",
       "\u001b[2;36m                    \u001b[0m         glm_trg_ratio_clb_poisson_00004_p_0.\u001b[1;36m15\u001b[0m/filled_templates.              \u001b[2m                \u001b[0m\n"
      ]
     },
     "metadata": {},
     "output_type": "display_data"
    },
    {
     "data": {
      "text/html": [
       "<pre style=\"white-space:pre;overflow-x:auto;line-height:normal;font-family:Menlo,'DejaVu Sans Mono',consolas,'Courier New',monospace\"><span style=\"color: #7fbfbf; text-decoration-color: #7fbfbf\">                    </span><span style=\"color: #000080; text-decoration-color: #000080\">INFO    </span> Created experiment run directory:                                     <a href=\"file:///home/krzysiek/Development/claim-modelling/claim_modelling_kedro/src/claim_modelling_kedro/experiments/experiment.py\" target=\"_blank\"><span style=\"color: #7f7f7f; text-decoration-color: #7f7f7f\">experiment.py</span></a><span style=\"color: #7f7f7f; text-decoration-color: #7f7f7f\">:</span><a href=\"file:///home/krzysiek/Development/claim-modelling/claim_modelling_kedro/src/claim_modelling_kedro/experiments/experiment.py#73\" target=\"_blank\"><span style=\"color: #7f7f7f; text-decoration-color: #7f7f7f\">73</span></a>\n",
       "<span style=\"color: #7fbfbf; text-decoration-color: #7fbfbf\">                    </span>         experiments/exp_001_freq_glm_trg_ratio_clb_poisson/runs/exp_001_freq_ <span style=\"color: #7f7f7f; text-decoration-color: #7f7f7f\">                </span>\n",
       "<span style=\"color: #7fbfbf; text-decoration-color: #7fbfbf\">                    </span>         glm_trg_ratio_clb_poisson_00004_p_0.<span style=\"color: #008080; text-decoration-color: #008080; font-weight: bold\">15</span>.                               <span style=\"color: #7f7f7f; text-decoration-color: #7f7f7f\">                </span>\n",
       "</pre>\n"
      ],
      "text/plain": [
       "\u001b[2;36m                   \u001b[0m\u001b[2;36m \u001b[0m\u001b[34mINFO    \u001b[0m Created experiment run directory:                                     \u001b]8;id=694437;file:///home/krzysiek/Development/claim-modelling/claim_modelling_kedro/src/claim_modelling_kedro/experiments/experiment.py\u001b\\\u001b[2mexperiment.py\u001b[0m\u001b]8;;\u001b\\\u001b[2m:\u001b[0m\u001b]8;id=768231;file:///home/krzysiek/Development/claim-modelling/claim_modelling_kedro/src/claim_modelling_kedro/experiments/experiment.py#73\u001b\\\u001b[2m73\u001b[0m\u001b]8;;\u001b\\\n",
       "\u001b[2;36m                    \u001b[0m         experiments/exp_001_freq_glm_trg_ratio_clb_poisson/runs/exp_001_freq_ \u001b[2m                \u001b[0m\n",
       "\u001b[2;36m                    \u001b[0m         glm_trg_ratio_clb_poisson_00004_p_0.\u001b[1;36m15\u001b[0m.                               \u001b[2m                \u001b[0m\n"
      ]
     },
     "metadata": {},
     "output_type": "display_data"
    },
    {
     "data": {
      "text/html": [
       "<pre style=\"white-space:pre;overflow-x:auto;line-height:normal;font-family:Menlo,'DejaVu Sans Mono',consolas,'Courier New',monospace\"><span style=\"color: #7fbfbf; text-decoration-color: #7fbfbf\">                    </span><span style=\"color: #000080; text-decoration-color: #000080\">INFO    </span> Filled templates copied to                                            <a href=\"file:///home/krzysiek/Development/claim-modelling/claim_modelling_kedro/src/claim_modelling_kedro/experiments/experiment.py\" target=\"_blank\"><span style=\"color: #7f7f7f; text-decoration-color: #7f7f7f\">experiment.py</span></a><span style=\"color: #7f7f7f; text-decoration-color: #7f7f7f\">:</span><a href=\"file:///home/krzysiek/Development/claim-modelling/claim_modelling_kedro/src/claim_modelling_kedro/experiments/experiment.py#41\" target=\"_blank\"><span style=\"color: #7f7f7f; text-decoration-color: #7f7f7f\">41</span></a>\n",
       "<span style=\"color: #7fbfbf; text-decoration-color: #7fbfbf\">                    </span>         experiments/exp_001_freq_glm_trg_ratio_clb_poisson/runs/exp_001_freq_ <span style=\"color: #7f7f7f; text-decoration-color: #7f7f7f\">                </span>\n",
       "<span style=\"color: #7fbfbf; text-decoration-color: #7fbfbf\">                    </span>         glm_trg_ratio_clb_poisson_00005_p_0.<span style=\"color: #008080; text-decoration-color: #008080; font-weight: bold\">2</span>/filled_templates.               <span style=\"color: #7f7f7f; text-decoration-color: #7f7f7f\">                </span>\n",
       "</pre>\n"
      ],
      "text/plain": [
       "\u001b[2;36m                   \u001b[0m\u001b[2;36m \u001b[0m\u001b[34mINFO    \u001b[0m Filled templates copied to                                            \u001b]8;id=455279;file:///home/krzysiek/Development/claim-modelling/claim_modelling_kedro/src/claim_modelling_kedro/experiments/experiment.py\u001b\\\u001b[2mexperiment.py\u001b[0m\u001b]8;;\u001b\\\u001b[2m:\u001b[0m\u001b]8;id=868841;file:///home/krzysiek/Development/claim-modelling/claim_modelling_kedro/src/claim_modelling_kedro/experiments/experiment.py#41\u001b\\\u001b[2m41\u001b[0m\u001b]8;;\u001b\\\n",
       "\u001b[2;36m                    \u001b[0m         experiments/exp_001_freq_glm_trg_ratio_clb_poisson/runs/exp_001_freq_ \u001b[2m                \u001b[0m\n",
       "\u001b[2;36m                    \u001b[0m         glm_trg_ratio_clb_poisson_00005_p_0.\u001b[1;36m2\u001b[0m/filled_templates.               \u001b[2m                \u001b[0m\n"
      ]
     },
     "metadata": {},
     "output_type": "display_data"
    },
    {
     "data": {
      "text/html": [
       "<pre style=\"white-space:pre;overflow-x:auto;line-height:normal;font-family:Menlo,'DejaVu Sans Mono',consolas,'Courier New',monospace\"><span style=\"color: #7fbfbf; text-decoration-color: #7fbfbf\">                    </span><span style=\"color: #000080; text-decoration-color: #000080\">INFO    </span> Created experiment run directory:                                     <a href=\"file:///home/krzysiek/Development/claim-modelling/claim_modelling_kedro/src/claim_modelling_kedro/experiments/experiment.py\" target=\"_blank\"><span style=\"color: #7f7f7f; text-decoration-color: #7f7f7f\">experiment.py</span></a><span style=\"color: #7f7f7f; text-decoration-color: #7f7f7f\">:</span><a href=\"file:///home/krzysiek/Development/claim-modelling/claim_modelling_kedro/src/claim_modelling_kedro/experiments/experiment.py#73\" target=\"_blank\"><span style=\"color: #7f7f7f; text-decoration-color: #7f7f7f\">73</span></a>\n",
       "<span style=\"color: #7fbfbf; text-decoration-color: #7fbfbf\">                    </span>         experiments/exp_001_freq_glm_trg_ratio_clb_poisson/runs/exp_001_freq_ <span style=\"color: #7f7f7f; text-decoration-color: #7f7f7f\">                </span>\n",
       "<span style=\"color: #7fbfbf; text-decoration-color: #7fbfbf\">                    </span>         glm_trg_ratio_clb_poisson_00005_p_0.<span style=\"color: #008080; text-decoration-color: #008080; font-weight: bold\">2</span>.                                <span style=\"color: #7f7f7f; text-decoration-color: #7f7f7f\">                </span>\n",
       "</pre>\n"
      ],
      "text/plain": [
       "\u001b[2;36m                   \u001b[0m\u001b[2;36m \u001b[0m\u001b[34mINFO    \u001b[0m Created experiment run directory:                                     \u001b]8;id=828492;file:///home/krzysiek/Development/claim-modelling/claim_modelling_kedro/src/claim_modelling_kedro/experiments/experiment.py\u001b\\\u001b[2mexperiment.py\u001b[0m\u001b]8;;\u001b\\\u001b[2m:\u001b[0m\u001b]8;id=412281;file:///home/krzysiek/Development/claim-modelling/claim_modelling_kedro/src/claim_modelling_kedro/experiments/experiment.py#73\u001b\\\u001b[2m73\u001b[0m\u001b]8;;\u001b\\\n",
       "\u001b[2;36m                    \u001b[0m         experiments/exp_001_freq_glm_trg_ratio_clb_poisson/runs/exp_001_freq_ \u001b[2m                \u001b[0m\n",
       "\u001b[2;36m                    \u001b[0m         glm_trg_ratio_clb_poisson_00005_p_0.\u001b[1;36m2\u001b[0m.                                \u001b[2m                \u001b[0m\n"
      ]
     },
     "metadata": {},
     "output_type": "display_data"
    },
    {
     "data": {
      "text/html": [
       "<pre style=\"white-space:pre;overflow-x:auto;line-height:normal;font-family:Menlo,'DejaVu Sans Mono',consolas,'Courier New',monospace\"><span style=\"color: #7fbfbf; text-decoration-color: #7fbfbf\">                    </span><span style=\"color: #000080; text-decoration-color: #000080\">INFO    </span> Filled templates copied to                                            <a href=\"file:///home/krzysiek/Development/claim-modelling/claim_modelling_kedro/src/claim_modelling_kedro/experiments/experiment.py\" target=\"_blank\"><span style=\"color: #7f7f7f; text-decoration-color: #7f7f7f\">experiment.py</span></a><span style=\"color: #7f7f7f; text-decoration-color: #7f7f7f\">:</span><a href=\"file:///home/krzysiek/Development/claim-modelling/claim_modelling_kedro/src/claim_modelling_kedro/experiments/experiment.py#41\" target=\"_blank\"><span style=\"color: #7f7f7f; text-decoration-color: #7f7f7f\">41</span></a>\n",
       "<span style=\"color: #7fbfbf; text-decoration-color: #7fbfbf\">                    </span>         experiments/exp_001_freq_glm_trg_ratio_clb_poisson/runs/exp_001_freq_ <span style=\"color: #7f7f7f; text-decoration-color: #7f7f7f\">                </span>\n",
       "<span style=\"color: #7fbfbf; text-decoration-color: #7fbfbf\">                    </span>         glm_trg_ratio_clb_poisson_00006_p_0.<span style=\"color: #008080; text-decoration-color: #008080; font-weight: bold\">25</span>/filled_templates.              <span style=\"color: #7f7f7f; text-decoration-color: #7f7f7f\">                </span>\n",
       "</pre>\n"
      ],
      "text/plain": [
       "\u001b[2;36m                   \u001b[0m\u001b[2;36m \u001b[0m\u001b[34mINFO    \u001b[0m Filled templates copied to                                            \u001b]8;id=533711;file:///home/krzysiek/Development/claim-modelling/claim_modelling_kedro/src/claim_modelling_kedro/experiments/experiment.py\u001b\\\u001b[2mexperiment.py\u001b[0m\u001b]8;;\u001b\\\u001b[2m:\u001b[0m\u001b]8;id=159929;file:///home/krzysiek/Development/claim-modelling/claim_modelling_kedro/src/claim_modelling_kedro/experiments/experiment.py#41\u001b\\\u001b[2m41\u001b[0m\u001b]8;;\u001b\\\n",
       "\u001b[2;36m                    \u001b[0m         experiments/exp_001_freq_glm_trg_ratio_clb_poisson/runs/exp_001_freq_ \u001b[2m                \u001b[0m\n",
       "\u001b[2;36m                    \u001b[0m         glm_trg_ratio_clb_poisson_00006_p_0.\u001b[1;36m25\u001b[0m/filled_templates.              \u001b[2m                \u001b[0m\n"
      ]
     },
     "metadata": {},
     "output_type": "display_data"
    },
    {
     "data": {
      "text/html": [
       "<pre style=\"white-space:pre;overflow-x:auto;line-height:normal;font-family:Menlo,'DejaVu Sans Mono',consolas,'Courier New',monospace\"><span style=\"color: #7fbfbf; text-decoration-color: #7fbfbf\">                    </span><span style=\"color: #000080; text-decoration-color: #000080\">INFO    </span> Created experiment run directory:                                     <a href=\"file:///home/krzysiek/Development/claim-modelling/claim_modelling_kedro/src/claim_modelling_kedro/experiments/experiment.py\" target=\"_blank\"><span style=\"color: #7f7f7f; text-decoration-color: #7f7f7f\">experiment.py</span></a><span style=\"color: #7f7f7f; text-decoration-color: #7f7f7f\">:</span><a href=\"file:///home/krzysiek/Development/claim-modelling/claim_modelling_kedro/src/claim_modelling_kedro/experiments/experiment.py#73\" target=\"_blank\"><span style=\"color: #7f7f7f; text-decoration-color: #7f7f7f\">73</span></a>\n",
       "<span style=\"color: #7fbfbf; text-decoration-color: #7fbfbf\">                    </span>         experiments/exp_001_freq_glm_trg_ratio_clb_poisson/runs/exp_001_freq_ <span style=\"color: #7f7f7f; text-decoration-color: #7f7f7f\">                </span>\n",
       "<span style=\"color: #7fbfbf; text-decoration-color: #7fbfbf\">                    </span>         glm_trg_ratio_clb_poisson_00006_p_0.<span style=\"color: #008080; text-decoration-color: #008080; font-weight: bold\">25</span>.                               <span style=\"color: #7f7f7f; text-decoration-color: #7f7f7f\">                </span>\n",
       "</pre>\n"
      ],
      "text/plain": [
       "\u001b[2;36m                   \u001b[0m\u001b[2;36m \u001b[0m\u001b[34mINFO    \u001b[0m Created experiment run directory:                                     \u001b]8;id=28099;file:///home/krzysiek/Development/claim-modelling/claim_modelling_kedro/src/claim_modelling_kedro/experiments/experiment.py\u001b\\\u001b[2mexperiment.py\u001b[0m\u001b]8;;\u001b\\\u001b[2m:\u001b[0m\u001b]8;id=4561;file:///home/krzysiek/Development/claim-modelling/claim_modelling_kedro/src/claim_modelling_kedro/experiments/experiment.py#73\u001b\\\u001b[2m73\u001b[0m\u001b]8;;\u001b\\\n",
       "\u001b[2;36m                    \u001b[0m         experiments/exp_001_freq_glm_trg_ratio_clb_poisson/runs/exp_001_freq_ \u001b[2m                \u001b[0m\n",
       "\u001b[2;36m                    \u001b[0m         glm_trg_ratio_clb_poisson_00006_p_0.\u001b[1;36m25\u001b[0m.                               \u001b[2m                \u001b[0m\n"
      ]
     },
     "metadata": {},
     "output_type": "display_data"
    },
    {
     "data": {
      "text/html": [
       "<pre style=\"white-space:pre;overflow-x:auto;line-height:normal;font-family:Menlo,'DejaVu Sans Mono',consolas,'Courier New',monospace\"><span style=\"color: #7fbfbf; text-decoration-color: #7fbfbf\">                    </span><span style=\"color: #000080; text-decoration-color: #000080\">INFO    </span> Filled templates copied to                                            <a href=\"file:///home/krzysiek/Development/claim-modelling/claim_modelling_kedro/src/claim_modelling_kedro/experiments/experiment.py\" target=\"_blank\"><span style=\"color: #7f7f7f; text-decoration-color: #7f7f7f\">experiment.py</span></a><span style=\"color: #7f7f7f; text-decoration-color: #7f7f7f\">:</span><a href=\"file:///home/krzysiek/Development/claim-modelling/claim_modelling_kedro/src/claim_modelling_kedro/experiments/experiment.py#41\" target=\"_blank\"><span style=\"color: #7f7f7f; text-decoration-color: #7f7f7f\">41</span></a>\n",
       "<span style=\"color: #7fbfbf; text-decoration-color: #7fbfbf\">                    </span>         experiments/exp_001_freq_glm_trg_ratio_clb_poisson/runs/exp_001_freq_ <span style=\"color: #7f7f7f; text-decoration-color: #7f7f7f\">                </span>\n",
       "<span style=\"color: #7fbfbf; text-decoration-color: #7fbfbf\">                    </span>         glm_trg_ratio_clb_poisson_00007_p_0.<span style=\"color: #008080; text-decoration-color: #008080; font-weight: bold\">3</span>/filled_templates.               <span style=\"color: #7f7f7f; text-decoration-color: #7f7f7f\">                </span>\n",
       "</pre>\n"
      ],
      "text/plain": [
       "\u001b[2;36m                   \u001b[0m\u001b[2;36m \u001b[0m\u001b[34mINFO    \u001b[0m Filled templates copied to                                            \u001b]8;id=247641;file:///home/krzysiek/Development/claim-modelling/claim_modelling_kedro/src/claim_modelling_kedro/experiments/experiment.py\u001b\\\u001b[2mexperiment.py\u001b[0m\u001b]8;;\u001b\\\u001b[2m:\u001b[0m\u001b]8;id=187447;file:///home/krzysiek/Development/claim-modelling/claim_modelling_kedro/src/claim_modelling_kedro/experiments/experiment.py#41\u001b\\\u001b[2m41\u001b[0m\u001b]8;;\u001b\\\n",
       "\u001b[2;36m                    \u001b[0m         experiments/exp_001_freq_glm_trg_ratio_clb_poisson/runs/exp_001_freq_ \u001b[2m                \u001b[0m\n",
       "\u001b[2;36m                    \u001b[0m         glm_trg_ratio_clb_poisson_00007_p_0.\u001b[1;36m3\u001b[0m/filled_templates.               \u001b[2m                \u001b[0m\n"
      ]
     },
     "metadata": {},
     "output_type": "display_data"
    },
    {
     "data": {
      "text/html": [
       "<pre style=\"white-space:pre;overflow-x:auto;line-height:normal;font-family:Menlo,'DejaVu Sans Mono',consolas,'Courier New',monospace\"><span style=\"color: #7fbfbf; text-decoration-color: #7fbfbf\">                    </span><span style=\"color: #000080; text-decoration-color: #000080\">INFO    </span> Created experiment run directory:                                     <a href=\"file:///home/krzysiek/Development/claim-modelling/claim_modelling_kedro/src/claim_modelling_kedro/experiments/experiment.py\" target=\"_blank\"><span style=\"color: #7f7f7f; text-decoration-color: #7f7f7f\">experiment.py</span></a><span style=\"color: #7f7f7f; text-decoration-color: #7f7f7f\">:</span><a href=\"file:///home/krzysiek/Development/claim-modelling/claim_modelling_kedro/src/claim_modelling_kedro/experiments/experiment.py#73\" target=\"_blank\"><span style=\"color: #7f7f7f; text-decoration-color: #7f7f7f\">73</span></a>\n",
       "<span style=\"color: #7fbfbf; text-decoration-color: #7fbfbf\">                    </span>         experiments/exp_001_freq_glm_trg_ratio_clb_poisson/runs/exp_001_freq_ <span style=\"color: #7f7f7f; text-decoration-color: #7f7f7f\">                </span>\n",
       "<span style=\"color: #7fbfbf; text-decoration-color: #7fbfbf\">                    </span>         glm_trg_ratio_clb_poisson_00007_p_0.<span style=\"color: #008080; text-decoration-color: #008080; font-weight: bold\">3</span>.                                <span style=\"color: #7f7f7f; text-decoration-color: #7f7f7f\">                </span>\n",
       "</pre>\n"
      ],
      "text/plain": [
       "\u001b[2;36m                   \u001b[0m\u001b[2;36m \u001b[0m\u001b[34mINFO    \u001b[0m Created experiment run directory:                                     \u001b]8;id=353005;file:///home/krzysiek/Development/claim-modelling/claim_modelling_kedro/src/claim_modelling_kedro/experiments/experiment.py\u001b\\\u001b[2mexperiment.py\u001b[0m\u001b]8;;\u001b\\\u001b[2m:\u001b[0m\u001b]8;id=976491;file:///home/krzysiek/Development/claim-modelling/claim_modelling_kedro/src/claim_modelling_kedro/experiments/experiment.py#73\u001b\\\u001b[2m73\u001b[0m\u001b]8;;\u001b\\\n",
       "\u001b[2;36m                    \u001b[0m         experiments/exp_001_freq_glm_trg_ratio_clb_poisson/runs/exp_001_freq_ \u001b[2m                \u001b[0m\n",
       "\u001b[2;36m                    \u001b[0m         glm_trg_ratio_clb_poisson_00007_p_0.\u001b[1;36m3\u001b[0m.                                \u001b[2m                \u001b[0m\n"
      ]
     },
     "metadata": {},
     "output_type": "display_data"
    },
    {
     "data": {
      "text/html": [
       "<pre style=\"white-space:pre;overflow-x:auto;line-height:normal;font-family:Menlo,'DejaVu Sans Mono',consolas,'Courier New',monospace\"><span style=\"color: #7fbfbf; text-decoration-color: #7fbfbf\">                    </span><span style=\"color: #000080; text-decoration-color: #000080\">INFO    </span> Filled templates copied to                                            <a href=\"file:///home/krzysiek/Development/claim-modelling/claim_modelling_kedro/src/claim_modelling_kedro/experiments/experiment.py\" target=\"_blank\"><span style=\"color: #7f7f7f; text-decoration-color: #7f7f7f\">experiment.py</span></a><span style=\"color: #7f7f7f; text-decoration-color: #7f7f7f\">:</span><a href=\"file:///home/krzysiek/Development/claim-modelling/claim_modelling_kedro/src/claim_modelling_kedro/experiments/experiment.py#41\" target=\"_blank\"><span style=\"color: #7f7f7f; text-decoration-color: #7f7f7f\">41</span></a>\n",
       "<span style=\"color: #7fbfbf; text-decoration-color: #7fbfbf\">                    </span>         experiments/exp_001_freq_glm_trg_ratio_clb_poisson/runs/exp_001_freq_ <span style=\"color: #7f7f7f; text-decoration-color: #7f7f7f\">                </span>\n",
       "<span style=\"color: #7fbfbf; text-decoration-color: #7fbfbf\">                    </span>         glm_trg_ratio_clb_poisson_00008_p_0.<span style=\"color: #008080; text-decoration-color: #008080; font-weight: bold\">35</span>/filled_templates.              <span style=\"color: #7f7f7f; text-decoration-color: #7f7f7f\">                </span>\n",
       "</pre>\n"
      ],
      "text/plain": [
       "\u001b[2;36m                   \u001b[0m\u001b[2;36m \u001b[0m\u001b[34mINFO    \u001b[0m Filled templates copied to                                            \u001b]8;id=142050;file:///home/krzysiek/Development/claim-modelling/claim_modelling_kedro/src/claim_modelling_kedro/experiments/experiment.py\u001b\\\u001b[2mexperiment.py\u001b[0m\u001b]8;;\u001b\\\u001b[2m:\u001b[0m\u001b]8;id=5690;file:///home/krzysiek/Development/claim-modelling/claim_modelling_kedro/src/claim_modelling_kedro/experiments/experiment.py#41\u001b\\\u001b[2m41\u001b[0m\u001b]8;;\u001b\\\n",
       "\u001b[2;36m                    \u001b[0m         experiments/exp_001_freq_glm_trg_ratio_clb_poisson/runs/exp_001_freq_ \u001b[2m                \u001b[0m\n",
       "\u001b[2;36m                    \u001b[0m         glm_trg_ratio_clb_poisson_00008_p_0.\u001b[1;36m35\u001b[0m/filled_templates.              \u001b[2m                \u001b[0m\n"
      ]
     },
     "metadata": {},
     "output_type": "display_data"
    },
    {
     "data": {
      "text/html": [
       "<pre style=\"white-space:pre;overflow-x:auto;line-height:normal;font-family:Menlo,'DejaVu Sans Mono',consolas,'Courier New',monospace\"><span style=\"color: #7fbfbf; text-decoration-color: #7fbfbf\">                    </span><span style=\"color: #000080; text-decoration-color: #000080\">INFO    </span> Created experiment run directory:                                     <a href=\"file:///home/krzysiek/Development/claim-modelling/claim_modelling_kedro/src/claim_modelling_kedro/experiments/experiment.py\" target=\"_blank\"><span style=\"color: #7f7f7f; text-decoration-color: #7f7f7f\">experiment.py</span></a><span style=\"color: #7f7f7f; text-decoration-color: #7f7f7f\">:</span><a href=\"file:///home/krzysiek/Development/claim-modelling/claim_modelling_kedro/src/claim_modelling_kedro/experiments/experiment.py#73\" target=\"_blank\"><span style=\"color: #7f7f7f; text-decoration-color: #7f7f7f\">73</span></a>\n",
       "<span style=\"color: #7fbfbf; text-decoration-color: #7fbfbf\">                    </span>         experiments/exp_001_freq_glm_trg_ratio_clb_poisson/runs/exp_001_freq_ <span style=\"color: #7f7f7f; text-decoration-color: #7f7f7f\">                </span>\n",
       "<span style=\"color: #7fbfbf; text-decoration-color: #7fbfbf\">                    </span>         glm_trg_ratio_clb_poisson_00008_p_0.<span style=\"color: #008080; text-decoration-color: #008080; font-weight: bold\">35</span>.                               <span style=\"color: #7f7f7f; text-decoration-color: #7f7f7f\">                </span>\n",
       "</pre>\n"
      ],
      "text/plain": [
       "\u001b[2;36m                   \u001b[0m\u001b[2;36m \u001b[0m\u001b[34mINFO    \u001b[0m Created experiment run directory:                                     \u001b]8;id=891800;file:///home/krzysiek/Development/claim-modelling/claim_modelling_kedro/src/claim_modelling_kedro/experiments/experiment.py\u001b\\\u001b[2mexperiment.py\u001b[0m\u001b]8;;\u001b\\\u001b[2m:\u001b[0m\u001b]8;id=745985;file:///home/krzysiek/Development/claim-modelling/claim_modelling_kedro/src/claim_modelling_kedro/experiments/experiment.py#73\u001b\\\u001b[2m73\u001b[0m\u001b]8;;\u001b\\\n",
       "\u001b[2;36m                    \u001b[0m         experiments/exp_001_freq_glm_trg_ratio_clb_poisson/runs/exp_001_freq_ \u001b[2m                \u001b[0m\n",
       "\u001b[2;36m                    \u001b[0m         glm_trg_ratio_clb_poisson_00008_p_0.\u001b[1;36m35\u001b[0m.                               \u001b[2m                \u001b[0m\n"
      ]
     },
     "metadata": {},
     "output_type": "display_data"
    },
    {
     "data": {
      "text/html": [
       "<pre style=\"white-space:pre;overflow-x:auto;line-height:normal;font-family:Menlo,'DejaVu Sans Mono',consolas,'Courier New',monospace\"><span style=\"color: #7fbfbf; text-decoration-color: #7fbfbf\">                    </span><span style=\"color: #000080; text-decoration-color: #000080\">INFO    </span> Filled templates copied to                                            <a href=\"file:///home/krzysiek/Development/claim-modelling/claim_modelling_kedro/src/claim_modelling_kedro/experiments/experiment.py\" target=\"_blank\"><span style=\"color: #7f7f7f; text-decoration-color: #7f7f7f\">experiment.py</span></a><span style=\"color: #7f7f7f; text-decoration-color: #7f7f7f\">:</span><a href=\"file:///home/krzysiek/Development/claim-modelling/claim_modelling_kedro/src/claim_modelling_kedro/experiments/experiment.py#41\" target=\"_blank\"><span style=\"color: #7f7f7f; text-decoration-color: #7f7f7f\">41</span></a>\n",
       "<span style=\"color: #7fbfbf; text-decoration-color: #7fbfbf\">                    </span>         experiments/exp_001_freq_glm_trg_ratio_clb_poisson/runs/exp_001_freq_ <span style=\"color: #7f7f7f; text-decoration-color: #7f7f7f\">                </span>\n",
       "<span style=\"color: #7fbfbf; text-decoration-color: #7fbfbf\">                    </span>         glm_trg_ratio_clb_poisson_00009_p_0.<span style=\"color: #008080; text-decoration-color: #008080; font-weight: bold\">4</span>/filled_templates.               <span style=\"color: #7f7f7f; text-decoration-color: #7f7f7f\">                </span>\n",
       "</pre>\n"
      ],
      "text/plain": [
       "\u001b[2;36m                   \u001b[0m\u001b[2;36m \u001b[0m\u001b[34mINFO    \u001b[0m Filled templates copied to                                            \u001b]8;id=800863;file:///home/krzysiek/Development/claim-modelling/claim_modelling_kedro/src/claim_modelling_kedro/experiments/experiment.py\u001b\\\u001b[2mexperiment.py\u001b[0m\u001b]8;;\u001b\\\u001b[2m:\u001b[0m\u001b]8;id=135209;file:///home/krzysiek/Development/claim-modelling/claim_modelling_kedro/src/claim_modelling_kedro/experiments/experiment.py#41\u001b\\\u001b[2m41\u001b[0m\u001b]8;;\u001b\\\n",
       "\u001b[2;36m                    \u001b[0m         experiments/exp_001_freq_glm_trg_ratio_clb_poisson/runs/exp_001_freq_ \u001b[2m                \u001b[0m\n",
       "\u001b[2;36m                    \u001b[0m         glm_trg_ratio_clb_poisson_00009_p_0.\u001b[1;36m4\u001b[0m/filled_templates.               \u001b[2m                \u001b[0m\n"
      ]
     },
     "metadata": {},
     "output_type": "display_data"
    },
    {
     "data": {
      "text/html": [
       "<pre style=\"white-space:pre;overflow-x:auto;line-height:normal;font-family:Menlo,'DejaVu Sans Mono',consolas,'Courier New',monospace\"><span style=\"color: #7fbfbf; text-decoration-color: #7fbfbf\">                    </span><span style=\"color: #000080; text-decoration-color: #000080\">INFO    </span> Created experiment run directory:                                     <a href=\"file:///home/krzysiek/Development/claim-modelling/claim_modelling_kedro/src/claim_modelling_kedro/experiments/experiment.py\" target=\"_blank\"><span style=\"color: #7f7f7f; text-decoration-color: #7f7f7f\">experiment.py</span></a><span style=\"color: #7f7f7f; text-decoration-color: #7f7f7f\">:</span><a href=\"file:///home/krzysiek/Development/claim-modelling/claim_modelling_kedro/src/claim_modelling_kedro/experiments/experiment.py#73\" target=\"_blank\"><span style=\"color: #7f7f7f; text-decoration-color: #7f7f7f\">73</span></a>\n",
       "<span style=\"color: #7fbfbf; text-decoration-color: #7fbfbf\">                    </span>         experiments/exp_001_freq_glm_trg_ratio_clb_poisson/runs/exp_001_freq_ <span style=\"color: #7f7f7f; text-decoration-color: #7f7f7f\">                </span>\n",
       "<span style=\"color: #7fbfbf; text-decoration-color: #7fbfbf\">                    </span>         glm_trg_ratio_clb_poisson_00009_p_0.<span style=\"color: #008080; text-decoration-color: #008080; font-weight: bold\">4</span>.                                <span style=\"color: #7f7f7f; text-decoration-color: #7f7f7f\">                </span>\n",
       "</pre>\n"
      ],
      "text/plain": [
       "\u001b[2;36m                   \u001b[0m\u001b[2;36m \u001b[0m\u001b[34mINFO    \u001b[0m Created experiment run directory:                                     \u001b]8;id=850208;file:///home/krzysiek/Development/claim-modelling/claim_modelling_kedro/src/claim_modelling_kedro/experiments/experiment.py\u001b\\\u001b[2mexperiment.py\u001b[0m\u001b]8;;\u001b\\\u001b[2m:\u001b[0m\u001b]8;id=640221;file:///home/krzysiek/Development/claim-modelling/claim_modelling_kedro/src/claim_modelling_kedro/experiments/experiment.py#73\u001b\\\u001b[2m73\u001b[0m\u001b]8;;\u001b\\\n",
       "\u001b[2;36m                    \u001b[0m         experiments/exp_001_freq_glm_trg_ratio_clb_poisson/runs/exp_001_freq_ \u001b[2m                \u001b[0m\n",
       "\u001b[2;36m                    \u001b[0m         glm_trg_ratio_clb_poisson_00009_p_0.\u001b[1;36m4\u001b[0m.                                \u001b[2m                \u001b[0m\n"
      ]
     },
     "metadata": {},
     "output_type": "display_data"
    },
    {
     "data": {
      "text/html": [
       "<pre style=\"white-space:pre;overflow-x:auto;line-height:normal;font-family:Menlo,'DejaVu Sans Mono',consolas,'Courier New',monospace\"><span style=\"color: #7fbfbf; text-decoration-color: #7fbfbf\">                    </span><span style=\"color: #000080; text-decoration-color: #000080\">INFO    </span> Filled templates copied to                                            <a href=\"file:///home/krzysiek/Development/claim-modelling/claim_modelling_kedro/src/claim_modelling_kedro/experiments/experiment.py\" target=\"_blank\"><span style=\"color: #7f7f7f; text-decoration-color: #7f7f7f\">experiment.py</span></a><span style=\"color: #7f7f7f; text-decoration-color: #7f7f7f\">:</span><a href=\"file:///home/krzysiek/Development/claim-modelling/claim_modelling_kedro/src/claim_modelling_kedro/experiments/experiment.py#41\" target=\"_blank\"><span style=\"color: #7f7f7f; text-decoration-color: #7f7f7f\">41</span></a>\n",
       "<span style=\"color: #7fbfbf; text-decoration-color: #7fbfbf\">                    </span>         experiments/exp_001_freq_glm_trg_ratio_clb_poisson/runs/exp_001_freq_ <span style=\"color: #7f7f7f; text-decoration-color: #7f7f7f\">                </span>\n",
       "<span style=\"color: #7fbfbf; text-decoration-color: #7fbfbf\">                    </span>         glm_trg_ratio_clb_poisson_00010_p_0.<span style=\"color: #008080; text-decoration-color: #008080; font-weight: bold\">45</span>/filled_templates.              <span style=\"color: #7f7f7f; text-decoration-color: #7f7f7f\">                </span>\n",
       "</pre>\n"
      ],
      "text/plain": [
       "\u001b[2;36m                   \u001b[0m\u001b[2;36m \u001b[0m\u001b[34mINFO    \u001b[0m Filled templates copied to                                            \u001b]8;id=662756;file:///home/krzysiek/Development/claim-modelling/claim_modelling_kedro/src/claim_modelling_kedro/experiments/experiment.py\u001b\\\u001b[2mexperiment.py\u001b[0m\u001b]8;;\u001b\\\u001b[2m:\u001b[0m\u001b]8;id=959714;file:///home/krzysiek/Development/claim-modelling/claim_modelling_kedro/src/claim_modelling_kedro/experiments/experiment.py#41\u001b\\\u001b[2m41\u001b[0m\u001b]8;;\u001b\\\n",
       "\u001b[2;36m                    \u001b[0m         experiments/exp_001_freq_glm_trg_ratio_clb_poisson/runs/exp_001_freq_ \u001b[2m                \u001b[0m\n",
       "\u001b[2;36m                    \u001b[0m         glm_trg_ratio_clb_poisson_00010_p_0.\u001b[1;36m45\u001b[0m/filled_templates.              \u001b[2m                \u001b[0m\n"
      ]
     },
     "metadata": {},
     "output_type": "display_data"
    },
    {
     "data": {
      "text/html": [
       "<pre style=\"white-space:pre;overflow-x:auto;line-height:normal;font-family:Menlo,'DejaVu Sans Mono',consolas,'Courier New',monospace\"><span style=\"color: #7fbfbf; text-decoration-color: #7fbfbf\">                    </span><span style=\"color: #000080; text-decoration-color: #000080\">INFO    </span> Created experiment run directory:                                     <a href=\"file:///home/krzysiek/Development/claim-modelling/claim_modelling_kedro/src/claim_modelling_kedro/experiments/experiment.py\" target=\"_blank\"><span style=\"color: #7f7f7f; text-decoration-color: #7f7f7f\">experiment.py</span></a><span style=\"color: #7f7f7f; text-decoration-color: #7f7f7f\">:</span><a href=\"file:///home/krzysiek/Development/claim-modelling/claim_modelling_kedro/src/claim_modelling_kedro/experiments/experiment.py#73\" target=\"_blank\"><span style=\"color: #7f7f7f; text-decoration-color: #7f7f7f\">73</span></a>\n",
       "<span style=\"color: #7fbfbf; text-decoration-color: #7fbfbf\">                    </span>         experiments/exp_001_freq_glm_trg_ratio_clb_poisson/runs/exp_001_freq_ <span style=\"color: #7f7f7f; text-decoration-color: #7f7f7f\">                </span>\n",
       "<span style=\"color: #7fbfbf; text-decoration-color: #7fbfbf\">                    </span>         glm_trg_ratio_clb_poisson_00010_p_0.<span style=\"color: #008080; text-decoration-color: #008080; font-weight: bold\">45</span>.                               <span style=\"color: #7f7f7f; text-decoration-color: #7f7f7f\">                </span>\n",
       "</pre>\n"
      ],
      "text/plain": [
       "\u001b[2;36m                   \u001b[0m\u001b[2;36m \u001b[0m\u001b[34mINFO    \u001b[0m Created experiment run directory:                                     \u001b]8;id=414455;file:///home/krzysiek/Development/claim-modelling/claim_modelling_kedro/src/claim_modelling_kedro/experiments/experiment.py\u001b\\\u001b[2mexperiment.py\u001b[0m\u001b]8;;\u001b\\\u001b[2m:\u001b[0m\u001b]8;id=271281;file:///home/krzysiek/Development/claim-modelling/claim_modelling_kedro/src/claim_modelling_kedro/experiments/experiment.py#73\u001b\\\u001b[2m73\u001b[0m\u001b]8;;\u001b\\\n",
       "\u001b[2;36m                    \u001b[0m         experiments/exp_001_freq_glm_trg_ratio_clb_poisson/runs/exp_001_freq_ \u001b[2m                \u001b[0m\n",
       "\u001b[2;36m                    \u001b[0m         glm_trg_ratio_clb_poisson_00010_p_0.\u001b[1;36m45\u001b[0m.                               \u001b[2m                \u001b[0m\n"
      ]
     },
     "metadata": {},
     "output_type": "display_data"
    },
    {
     "data": {
      "text/html": [
       "<pre style=\"white-space:pre;overflow-x:auto;line-height:normal;font-family:Menlo,'DejaVu Sans Mono',consolas,'Courier New',monospace\"><span style=\"color: #7fbfbf; text-decoration-color: #7fbfbf\">                    </span><span style=\"color: #000080; text-decoration-color: #000080\">INFO    </span> Filled templates copied to                                            <a href=\"file:///home/krzysiek/Development/claim-modelling/claim_modelling_kedro/src/claim_modelling_kedro/experiments/experiment.py\" target=\"_blank\"><span style=\"color: #7f7f7f; text-decoration-color: #7f7f7f\">experiment.py</span></a><span style=\"color: #7f7f7f; text-decoration-color: #7f7f7f\">:</span><a href=\"file:///home/krzysiek/Development/claim-modelling/claim_modelling_kedro/src/claim_modelling_kedro/experiments/experiment.py#41\" target=\"_blank\"><span style=\"color: #7f7f7f; text-decoration-color: #7f7f7f\">41</span></a>\n",
       "<span style=\"color: #7fbfbf; text-decoration-color: #7fbfbf\">                    </span>         experiments/exp_001_freq_glm_trg_ratio_clb_poisson/runs/exp_001_freq_ <span style=\"color: #7f7f7f; text-decoration-color: #7f7f7f\">                </span>\n",
       "<span style=\"color: #7fbfbf; text-decoration-color: #7fbfbf\">                    </span>         glm_trg_ratio_clb_poisson_00011_p_0.<span style=\"color: #008080; text-decoration-color: #008080; font-weight: bold\">5</span>/filled_templates.               <span style=\"color: #7f7f7f; text-decoration-color: #7f7f7f\">                </span>\n",
       "</pre>\n"
      ],
      "text/plain": [
       "\u001b[2;36m                   \u001b[0m\u001b[2;36m \u001b[0m\u001b[34mINFO    \u001b[0m Filled templates copied to                                            \u001b]8;id=982095;file:///home/krzysiek/Development/claim-modelling/claim_modelling_kedro/src/claim_modelling_kedro/experiments/experiment.py\u001b\\\u001b[2mexperiment.py\u001b[0m\u001b]8;;\u001b\\\u001b[2m:\u001b[0m\u001b]8;id=511812;file:///home/krzysiek/Development/claim-modelling/claim_modelling_kedro/src/claim_modelling_kedro/experiments/experiment.py#41\u001b\\\u001b[2m41\u001b[0m\u001b]8;;\u001b\\\n",
       "\u001b[2;36m                    \u001b[0m         experiments/exp_001_freq_glm_trg_ratio_clb_poisson/runs/exp_001_freq_ \u001b[2m                \u001b[0m\n",
       "\u001b[2;36m                    \u001b[0m         glm_trg_ratio_clb_poisson_00011_p_0.\u001b[1;36m5\u001b[0m/filled_templates.               \u001b[2m                \u001b[0m\n"
      ]
     },
     "metadata": {},
     "output_type": "display_data"
    },
    {
     "data": {
      "text/html": [
       "<pre style=\"white-space:pre;overflow-x:auto;line-height:normal;font-family:Menlo,'DejaVu Sans Mono',consolas,'Courier New',monospace\"><span style=\"color: #7fbfbf; text-decoration-color: #7fbfbf\">                    </span><span style=\"color: #000080; text-decoration-color: #000080\">INFO    </span> Created experiment run directory:                                     <a href=\"file:///home/krzysiek/Development/claim-modelling/claim_modelling_kedro/src/claim_modelling_kedro/experiments/experiment.py\" target=\"_blank\"><span style=\"color: #7f7f7f; text-decoration-color: #7f7f7f\">experiment.py</span></a><span style=\"color: #7f7f7f; text-decoration-color: #7f7f7f\">:</span><a href=\"file:///home/krzysiek/Development/claim-modelling/claim_modelling_kedro/src/claim_modelling_kedro/experiments/experiment.py#73\" target=\"_blank\"><span style=\"color: #7f7f7f; text-decoration-color: #7f7f7f\">73</span></a>\n",
       "<span style=\"color: #7fbfbf; text-decoration-color: #7fbfbf\">                    </span>         experiments/exp_001_freq_glm_trg_ratio_clb_poisson/runs/exp_001_freq_ <span style=\"color: #7f7f7f; text-decoration-color: #7f7f7f\">                </span>\n",
       "<span style=\"color: #7fbfbf; text-decoration-color: #7fbfbf\">                    </span>         glm_trg_ratio_clb_poisson_00011_p_0.<span style=\"color: #008080; text-decoration-color: #008080; font-weight: bold\">5</span>.                                <span style=\"color: #7f7f7f; text-decoration-color: #7f7f7f\">                </span>\n",
       "</pre>\n"
      ],
      "text/plain": [
       "\u001b[2;36m                   \u001b[0m\u001b[2;36m \u001b[0m\u001b[34mINFO    \u001b[0m Created experiment run directory:                                     \u001b]8;id=623461;file:///home/krzysiek/Development/claim-modelling/claim_modelling_kedro/src/claim_modelling_kedro/experiments/experiment.py\u001b\\\u001b[2mexperiment.py\u001b[0m\u001b]8;;\u001b\\\u001b[2m:\u001b[0m\u001b]8;id=706009;file:///home/krzysiek/Development/claim-modelling/claim_modelling_kedro/src/claim_modelling_kedro/experiments/experiment.py#73\u001b\\\u001b[2m73\u001b[0m\u001b]8;;\u001b\\\n",
       "\u001b[2;36m                    \u001b[0m         experiments/exp_001_freq_glm_trg_ratio_clb_poisson/runs/exp_001_freq_ \u001b[2m                \u001b[0m\n",
       "\u001b[2;36m                    \u001b[0m         glm_trg_ratio_clb_poisson_00011_p_0.\u001b[1;36m5\u001b[0m.                                \u001b[2m                \u001b[0m\n"
      ]
     },
     "metadata": {},
     "output_type": "display_data"
    },
    {
     "data": {
      "text/html": [
       "<pre style=\"white-space:pre;overflow-x:auto;line-height:normal;font-family:Menlo,'DejaVu Sans Mono',consolas,'Courier New',monospace\"><span style=\"color: #7fbfbf; text-decoration-color: #7fbfbf\">                    </span><span style=\"color: #000080; text-decoration-color: #000080\">INFO    </span> Filled templates copied to                                            <a href=\"file:///home/krzysiek/Development/claim-modelling/claim_modelling_kedro/src/claim_modelling_kedro/experiments/experiment.py\" target=\"_blank\"><span style=\"color: #7f7f7f; text-decoration-color: #7f7f7f\">experiment.py</span></a><span style=\"color: #7f7f7f; text-decoration-color: #7f7f7f\">:</span><a href=\"file:///home/krzysiek/Development/claim-modelling/claim_modelling_kedro/src/claim_modelling_kedro/experiments/experiment.py#41\" target=\"_blank\"><span style=\"color: #7f7f7f; text-decoration-color: #7f7f7f\">41</span></a>\n",
       "<span style=\"color: #7fbfbf; text-decoration-color: #7fbfbf\">                    </span>         experiments/exp_001_freq_glm_trg_ratio_clb_poisson/runs/exp_001_freq_ <span style=\"color: #7f7f7f; text-decoration-color: #7f7f7f\">                </span>\n",
       "<span style=\"color: #7fbfbf; text-decoration-color: #7fbfbf\">                    </span>         glm_trg_ratio_clb_poisson_00012_p_0.<span style=\"color: #008080; text-decoration-color: #008080; font-weight: bold\">55</span>/filled_templates.              <span style=\"color: #7f7f7f; text-decoration-color: #7f7f7f\">                </span>\n",
       "</pre>\n"
      ],
      "text/plain": [
       "\u001b[2;36m                   \u001b[0m\u001b[2;36m \u001b[0m\u001b[34mINFO    \u001b[0m Filled templates copied to                                            \u001b]8;id=283578;file:///home/krzysiek/Development/claim-modelling/claim_modelling_kedro/src/claim_modelling_kedro/experiments/experiment.py\u001b\\\u001b[2mexperiment.py\u001b[0m\u001b]8;;\u001b\\\u001b[2m:\u001b[0m\u001b]8;id=901960;file:///home/krzysiek/Development/claim-modelling/claim_modelling_kedro/src/claim_modelling_kedro/experiments/experiment.py#41\u001b\\\u001b[2m41\u001b[0m\u001b]8;;\u001b\\\n",
       "\u001b[2;36m                    \u001b[0m         experiments/exp_001_freq_glm_trg_ratio_clb_poisson/runs/exp_001_freq_ \u001b[2m                \u001b[0m\n",
       "\u001b[2;36m                    \u001b[0m         glm_trg_ratio_clb_poisson_00012_p_0.\u001b[1;36m55\u001b[0m/filled_templates.              \u001b[2m                \u001b[0m\n"
      ]
     },
     "metadata": {},
     "output_type": "display_data"
    },
    {
     "data": {
      "text/html": [
       "<pre style=\"white-space:pre;overflow-x:auto;line-height:normal;font-family:Menlo,'DejaVu Sans Mono',consolas,'Courier New',monospace\"><span style=\"color: #7fbfbf; text-decoration-color: #7fbfbf\">                    </span><span style=\"color: #000080; text-decoration-color: #000080\">INFO    </span> Created experiment run directory:                                     <a href=\"file:///home/krzysiek/Development/claim-modelling/claim_modelling_kedro/src/claim_modelling_kedro/experiments/experiment.py\" target=\"_blank\"><span style=\"color: #7f7f7f; text-decoration-color: #7f7f7f\">experiment.py</span></a><span style=\"color: #7f7f7f; text-decoration-color: #7f7f7f\">:</span><a href=\"file:///home/krzysiek/Development/claim-modelling/claim_modelling_kedro/src/claim_modelling_kedro/experiments/experiment.py#73\" target=\"_blank\"><span style=\"color: #7f7f7f; text-decoration-color: #7f7f7f\">73</span></a>\n",
       "<span style=\"color: #7fbfbf; text-decoration-color: #7fbfbf\">                    </span>         experiments/exp_001_freq_glm_trg_ratio_clb_poisson/runs/exp_001_freq_ <span style=\"color: #7f7f7f; text-decoration-color: #7f7f7f\">                </span>\n",
       "<span style=\"color: #7fbfbf; text-decoration-color: #7fbfbf\">                    </span>         glm_trg_ratio_clb_poisson_00012_p_0.<span style=\"color: #008080; text-decoration-color: #008080; font-weight: bold\">55</span>.                               <span style=\"color: #7f7f7f; text-decoration-color: #7f7f7f\">                </span>\n",
       "</pre>\n"
      ],
      "text/plain": [
       "\u001b[2;36m                   \u001b[0m\u001b[2;36m \u001b[0m\u001b[34mINFO    \u001b[0m Created experiment run directory:                                     \u001b]8;id=921494;file:///home/krzysiek/Development/claim-modelling/claim_modelling_kedro/src/claim_modelling_kedro/experiments/experiment.py\u001b\\\u001b[2mexperiment.py\u001b[0m\u001b]8;;\u001b\\\u001b[2m:\u001b[0m\u001b]8;id=876888;file:///home/krzysiek/Development/claim-modelling/claim_modelling_kedro/src/claim_modelling_kedro/experiments/experiment.py#73\u001b\\\u001b[2m73\u001b[0m\u001b]8;;\u001b\\\n",
       "\u001b[2;36m                    \u001b[0m         experiments/exp_001_freq_glm_trg_ratio_clb_poisson/runs/exp_001_freq_ \u001b[2m                \u001b[0m\n",
       "\u001b[2;36m                    \u001b[0m         glm_trg_ratio_clb_poisson_00012_p_0.\u001b[1;36m55\u001b[0m.                               \u001b[2m                \u001b[0m\n"
      ]
     },
     "metadata": {},
     "output_type": "display_data"
    },
    {
     "data": {
      "text/html": [
       "<pre style=\"white-space:pre;overflow-x:auto;line-height:normal;font-family:Menlo,'DejaVu Sans Mono',consolas,'Courier New',monospace\"><span style=\"color: #7fbfbf; text-decoration-color: #7fbfbf\">                    </span><span style=\"color: #000080; text-decoration-color: #000080\">INFO    </span> Filled templates copied to                                            <a href=\"file:///home/krzysiek/Development/claim-modelling/claim_modelling_kedro/src/claim_modelling_kedro/experiments/experiment.py\" target=\"_blank\"><span style=\"color: #7f7f7f; text-decoration-color: #7f7f7f\">experiment.py</span></a><span style=\"color: #7f7f7f; text-decoration-color: #7f7f7f\">:</span><a href=\"file:///home/krzysiek/Development/claim-modelling/claim_modelling_kedro/src/claim_modelling_kedro/experiments/experiment.py#41\" target=\"_blank\"><span style=\"color: #7f7f7f; text-decoration-color: #7f7f7f\">41</span></a>\n",
       "<span style=\"color: #7fbfbf; text-decoration-color: #7fbfbf\">                    </span>         experiments/exp_001_freq_glm_trg_ratio_clb_poisson/runs/exp_001_freq_ <span style=\"color: #7f7f7f; text-decoration-color: #7f7f7f\">                </span>\n",
       "<span style=\"color: #7fbfbf; text-decoration-color: #7fbfbf\">                    </span>         glm_trg_ratio_clb_poisson_00013_p_0.<span style=\"color: #008080; text-decoration-color: #008080; font-weight: bold\">6</span>/filled_templates.               <span style=\"color: #7f7f7f; text-decoration-color: #7f7f7f\">                </span>\n",
       "</pre>\n"
      ],
      "text/plain": [
       "\u001b[2;36m                   \u001b[0m\u001b[2;36m \u001b[0m\u001b[34mINFO    \u001b[0m Filled templates copied to                                            \u001b]8;id=438566;file:///home/krzysiek/Development/claim-modelling/claim_modelling_kedro/src/claim_modelling_kedro/experiments/experiment.py\u001b\\\u001b[2mexperiment.py\u001b[0m\u001b]8;;\u001b\\\u001b[2m:\u001b[0m\u001b]8;id=527039;file:///home/krzysiek/Development/claim-modelling/claim_modelling_kedro/src/claim_modelling_kedro/experiments/experiment.py#41\u001b\\\u001b[2m41\u001b[0m\u001b]8;;\u001b\\\n",
       "\u001b[2;36m                    \u001b[0m         experiments/exp_001_freq_glm_trg_ratio_clb_poisson/runs/exp_001_freq_ \u001b[2m                \u001b[0m\n",
       "\u001b[2;36m                    \u001b[0m         glm_trg_ratio_clb_poisson_00013_p_0.\u001b[1;36m6\u001b[0m/filled_templates.               \u001b[2m                \u001b[0m\n"
      ]
     },
     "metadata": {},
     "output_type": "display_data"
    },
    {
     "data": {
      "text/html": [
       "<pre style=\"white-space:pre;overflow-x:auto;line-height:normal;font-family:Menlo,'DejaVu Sans Mono',consolas,'Courier New',monospace\"><span style=\"color: #7fbfbf; text-decoration-color: #7fbfbf\">                    </span><span style=\"color: #000080; text-decoration-color: #000080\">INFO    </span> Created experiment run directory:                                     <a href=\"file:///home/krzysiek/Development/claim-modelling/claim_modelling_kedro/src/claim_modelling_kedro/experiments/experiment.py\" target=\"_blank\"><span style=\"color: #7f7f7f; text-decoration-color: #7f7f7f\">experiment.py</span></a><span style=\"color: #7f7f7f; text-decoration-color: #7f7f7f\">:</span><a href=\"file:///home/krzysiek/Development/claim-modelling/claim_modelling_kedro/src/claim_modelling_kedro/experiments/experiment.py#73\" target=\"_blank\"><span style=\"color: #7f7f7f; text-decoration-color: #7f7f7f\">73</span></a>\n",
       "<span style=\"color: #7fbfbf; text-decoration-color: #7fbfbf\">                    </span>         experiments/exp_001_freq_glm_trg_ratio_clb_poisson/runs/exp_001_freq_ <span style=\"color: #7f7f7f; text-decoration-color: #7f7f7f\">                </span>\n",
       "<span style=\"color: #7fbfbf; text-decoration-color: #7fbfbf\">                    </span>         glm_trg_ratio_clb_poisson_00013_p_0.<span style=\"color: #008080; text-decoration-color: #008080; font-weight: bold\">6</span>.                                <span style=\"color: #7f7f7f; text-decoration-color: #7f7f7f\">                </span>\n",
       "</pre>\n"
      ],
      "text/plain": [
       "\u001b[2;36m                   \u001b[0m\u001b[2;36m \u001b[0m\u001b[34mINFO    \u001b[0m Created experiment run directory:                                     \u001b]8;id=863569;file:///home/krzysiek/Development/claim-modelling/claim_modelling_kedro/src/claim_modelling_kedro/experiments/experiment.py\u001b\\\u001b[2mexperiment.py\u001b[0m\u001b]8;;\u001b\\\u001b[2m:\u001b[0m\u001b]8;id=893264;file:///home/krzysiek/Development/claim-modelling/claim_modelling_kedro/src/claim_modelling_kedro/experiments/experiment.py#73\u001b\\\u001b[2m73\u001b[0m\u001b]8;;\u001b\\\n",
       "\u001b[2;36m                    \u001b[0m         experiments/exp_001_freq_glm_trg_ratio_clb_poisson/runs/exp_001_freq_ \u001b[2m                \u001b[0m\n",
       "\u001b[2;36m                    \u001b[0m         glm_trg_ratio_clb_poisson_00013_p_0.\u001b[1;36m6\u001b[0m.                                \u001b[2m                \u001b[0m\n"
      ]
     },
     "metadata": {},
     "output_type": "display_data"
    },
    {
     "data": {
      "text/html": [
       "<pre style=\"white-space:pre;overflow-x:auto;line-height:normal;font-family:Menlo,'DejaVu Sans Mono',consolas,'Courier New',monospace\"><span style=\"color: #7fbfbf; text-decoration-color: #7fbfbf\">                    </span><span style=\"color: #000080; text-decoration-color: #000080\">INFO    </span> Filled templates copied to                                            <a href=\"file:///home/krzysiek/Development/claim-modelling/claim_modelling_kedro/src/claim_modelling_kedro/experiments/experiment.py\" target=\"_blank\"><span style=\"color: #7f7f7f; text-decoration-color: #7f7f7f\">experiment.py</span></a><span style=\"color: #7f7f7f; text-decoration-color: #7f7f7f\">:</span><a href=\"file:///home/krzysiek/Development/claim-modelling/claim_modelling_kedro/src/claim_modelling_kedro/experiments/experiment.py#41\" target=\"_blank\"><span style=\"color: #7f7f7f; text-decoration-color: #7f7f7f\">41</span></a>\n",
       "<span style=\"color: #7fbfbf; text-decoration-color: #7fbfbf\">                    </span>         experiments/exp_001_freq_glm_trg_ratio_clb_poisson/runs/exp_001_freq_ <span style=\"color: #7f7f7f; text-decoration-color: #7f7f7f\">                </span>\n",
       "<span style=\"color: #7fbfbf; text-decoration-color: #7fbfbf\">                    </span>         glm_trg_ratio_clb_poisson_00014_p_0.<span style=\"color: #008080; text-decoration-color: #008080; font-weight: bold\">65</span>/filled_templates.              <span style=\"color: #7f7f7f; text-decoration-color: #7f7f7f\">                </span>\n",
       "</pre>\n"
      ],
      "text/plain": [
       "\u001b[2;36m                   \u001b[0m\u001b[2;36m \u001b[0m\u001b[34mINFO    \u001b[0m Filled templates copied to                                            \u001b]8;id=595447;file:///home/krzysiek/Development/claim-modelling/claim_modelling_kedro/src/claim_modelling_kedro/experiments/experiment.py\u001b\\\u001b[2mexperiment.py\u001b[0m\u001b]8;;\u001b\\\u001b[2m:\u001b[0m\u001b]8;id=465565;file:///home/krzysiek/Development/claim-modelling/claim_modelling_kedro/src/claim_modelling_kedro/experiments/experiment.py#41\u001b\\\u001b[2m41\u001b[0m\u001b]8;;\u001b\\\n",
       "\u001b[2;36m                    \u001b[0m         experiments/exp_001_freq_glm_trg_ratio_clb_poisson/runs/exp_001_freq_ \u001b[2m                \u001b[0m\n",
       "\u001b[2;36m                    \u001b[0m         glm_trg_ratio_clb_poisson_00014_p_0.\u001b[1;36m65\u001b[0m/filled_templates.              \u001b[2m                \u001b[0m\n"
      ]
     },
     "metadata": {},
     "output_type": "display_data"
    },
    {
     "data": {
      "text/html": [
       "<pre style=\"white-space:pre;overflow-x:auto;line-height:normal;font-family:Menlo,'DejaVu Sans Mono',consolas,'Courier New',monospace\"><span style=\"color: #7fbfbf; text-decoration-color: #7fbfbf\">                    </span><span style=\"color: #000080; text-decoration-color: #000080\">INFO    </span> Created experiment run directory:                                     <a href=\"file:///home/krzysiek/Development/claim-modelling/claim_modelling_kedro/src/claim_modelling_kedro/experiments/experiment.py\" target=\"_blank\"><span style=\"color: #7f7f7f; text-decoration-color: #7f7f7f\">experiment.py</span></a><span style=\"color: #7f7f7f; text-decoration-color: #7f7f7f\">:</span><a href=\"file:///home/krzysiek/Development/claim-modelling/claim_modelling_kedro/src/claim_modelling_kedro/experiments/experiment.py#73\" target=\"_blank\"><span style=\"color: #7f7f7f; text-decoration-color: #7f7f7f\">73</span></a>\n",
       "<span style=\"color: #7fbfbf; text-decoration-color: #7fbfbf\">                    </span>         experiments/exp_001_freq_glm_trg_ratio_clb_poisson/runs/exp_001_freq_ <span style=\"color: #7f7f7f; text-decoration-color: #7f7f7f\">                </span>\n",
       "<span style=\"color: #7fbfbf; text-decoration-color: #7fbfbf\">                    </span>         glm_trg_ratio_clb_poisson_00014_p_0.<span style=\"color: #008080; text-decoration-color: #008080; font-weight: bold\">65</span>.                               <span style=\"color: #7f7f7f; text-decoration-color: #7f7f7f\">                </span>\n",
       "</pre>\n"
      ],
      "text/plain": [
       "\u001b[2;36m                   \u001b[0m\u001b[2;36m \u001b[0m\u001b[34mINFO    \u001b[0m Created experiment run directory:                                     \u001b]8;id=954905;file:///home/krzysiek/Development/claim-modelling/claim_modelling_kedro/src/claim_modelling_kedro/experiments/experiment.py\u001b\\\u001b[2mexperiment.py\u001b[0m\u001b]8;;\u001b\\\u001b[2m:\u001b[0m\u001b]8;id=160444;file:///home/krzysiek/Development/claim-modelling/claim_modelling_kedro/src/claim_modelling_kedro/experiments/experiment.py#73\u001b\\\u001b[2m73\u001b[0m\u001b]8;;\u001b\\\n",
       "\u001b[2;36m                    \u001b[0m         experiments/exp_001_freq_glm_trg_ratio_clb_poisson/runs/exp_001_freq_ \u001b[2m                \u001b[0m\n",
       "\u001b[2;36m                    \u001b[0m         glm_trg_ratio_clb_poisson_00014_p_0.\u001b[1;36m65\u001b[0m.                               \u001b[2m                \u001b[0m\n"
      ]
     },
     "metadata": {},
     "output_type": "display_data"
    },
    {
     "data": {
      "text/html": [
       "<pre style=\"white-space:pre;overflow-x:auto;line-height:normal;font-family:Menlo,'DejaVu Sans Mono',consolas,'Courier New',monospace\"><span style=\"color: #7fbfbf; text-decoration-color: #7fbfbf\">                    </span><span style=\"color: #000080; text-decoration-color: #000080\">INFO    </span> Filled templates copied to                                            <a href=\"file:///home/krzysiek/Development/claim-modelling/claim_modelling_kedro/src/claim_modelling_kedro/experiments/experiment.py\" target=\"_blank\"><span style=\"color: #7f7f7f; text-decoration-color: #7f7f7f\">experiment.py</span></a><span style=\"color: #7f7f7f; text-decoration-color: #7f7f7f\">:</span><a href=\"file:///home/krzysiek/Development/claim-modelling/claim_modelling_kedro/src/claim_modelling_kedro/experiments/experiment.py#41\" target=\"_blank\"><span style=\"color: #7f7f7f; text-decoration-color: #7f7f7f\">41</span></a>\n",
       "<span style=\"color: #7fbfbf; text-decoration-color: #7fbfbf\">                    </span>         experiments/exp_001_freq_glm_trg_ratio_clb_poisson/runs/exp_001_freq_ <span style=\"color: #7f7f7f; text-decoration-color: #7f7f7f\">                </span>\n",
       "<span style=\"color: #7fbfbf; text-decoration-color: #7fbfbf\">                    </span>         glm_trg_ratio_clb_poisson_00015_p_0.<span style=\"color: #008080; text-decoration-color: #008080; font-weight: bold\">7</span>/filled_templates.               <span style=\"color: #7f7f7f; text-decoration-color: #7f7f7f\">                </span>\n",
       "</pre>\n"
      ],
      "text/plain": [
       "\u001b[2;36m                   \u001b[0m\u001b[2;36m \u001b[0m\u001b[34mINFO    \u001b[0m Filled templates copied to                                            \u001b]8;id=757691;file:///home/krzysiek/Development/claim-modelling/claim_modelling_kedro/src/claim_modelling_kedro/experiments/experiment.py\u001b\\\u001b[2mexperiment.py\u001b[0m\u001b]8;;\u001b\\\u001b[2m:\u001b[0m\u001b]8;id=208648;file:///home/krzysiek/Development/claim-modelling/claim_modelling_kedro/src/claim_modelling_kedro/experiments/experiment.py#41\u001b\\\u001b[2m41\u001b[0m\u001b]8;;\u001b\\\n",
       "\u001b[2;36m                    \u001b[0m         experiments/exp_001_freq_glm_trg_ratio_clb_poisson/runs/exp_001_freq_ \u001b[2m                \u001b[0m\n",
       "\u001b[2;36m                    \u001b[0m         glm_trg_ratio_clb_poisson_00015_p_0.\u001b[1;36m7\u001b[0m/filled_templates.               \u001b[2m                \u001b[0m\n"
      ]
     },
     "metadata": {},
     "output_type": "display_data"
    },
    {
     "data": {
      "text/html": [
       "<pre style=\"white-space:pre;overflow-x:auto;line-height:normal;font-family:Menlo,'DejaVu Sans Mono',consolas,'Courier New',monospace\"><span style=\"color: #7fbfbf; text-decoration-color: #7fbfbf\">                    </span><span style=\"color: #000080; text-decoration-color: #000080\">INFO    </span> Created experiment run directory:                                     <a href=\"file:///home/krzysiek/Development/claim-modelling/claim_modelling_kedro/src/claim_modelling_kedro/experiments/experiment.py\" target=\"_blank\"><span style=\"color: #7f7f7f; text-decoration-color: #7f7f7f\">experiment.py</span></a><span style=\"color: #7f7f7f; text-decoration-color: #7f7f7f\">:</span><a href=\"file:///home/krzysiek/Development/claim-modelling/claim_modelling_kedro/src/claim_modelling_kedro/experiments/experiment.py#73\" target=\"_blank\"><span style=\"color: #7f7f7f; text-decoration-color: #7f7f7f\">73</span></a>\n",
       "<span style=\"color: #7fbfbf; text-decoration-color: #7fbfbf\">                    </span>         experiments/exp_001_freq_glm_trg_ratio_clb_poisson/runs/exp_001_freq_ <span style=\"color: #7f7f7f; text-decoration-color: #7f7f7f\">                </span>\n",
       "<span style=\"color: #7fbfbf; text-decoration-color: #7fbfbf\">                    </span>         glm_trg_ratio_clb_poisson_00015_p_0.<span style=\"color: #008080; text-decoration-color: #008080; font-weight: bold\">7</span>.                                <span style=\"color: #7f7f7f; text-decoration-color: #7f7f7f\">                </span>\n",
       "</pre>\n"
      ],
      "text/plain": [
       "\u001b[2;36m                   \u001b[0m\u001b[2;36m \u001b[0m\u001b[34mINFO    \u001b[0m Created experiment run directory:                                     \u001b]8;id=471724;file:///home/krzysiek/Development/claim-modelling/claim_modelling_kedro/src/claim_modelling_kedro/experiments/experiment.py\u001b\\\u001b[2mexperiment.py\u001b[0m\u001b]8;;\u001b\\\u001b[2m:\u001b[0m\u001b]8;id=457547;file:///home/krzysiek/Development/claim-modelling/claim_modelling_kedro/src/claim_modelling_kedro/experiments/experiment.py#73\u001b\\\u001b[2m73\u001b[0m\u001b]8;;\u001b\\\n",
       "\u001b[2;36m                    \u001b[0m         experiments/exp_001_freq_glm_trg_ratio_clb_poisson/runs/exp_001_freq_ \u001b[2m                \u001b[0m\n",
       "\u001b[2;36m                    \u001b[0m         glm_trg_ratio_clb_poisson_00015_p_0.\u001b[1;36m7\u001b[0m.                                \u001b[2m                \u001b[0m\n"
      ]
     },
     "metadata": {},
     "output_type": "display_data"
    },
    {
     "data": {
      "text/html": [
       "<pre style=\"white-space:pre;overflow-x:auto;line-height:normal;font-family:Menlo,'DejaVu Sans Mono',consolas,'Courier New',monospace\"><span style=\"color: #7fbfbf; text-decoration-color: #7fbfbf\">                    </span><span style=\"color: #000080; text-decoration-color: #000080\">INFO    </span> Filled templates copied to                                            <a href=\"file:///home/krzysiek/Development/claim-modelling/claim_modelling_kedro/src/claim_modelling_kedro/experiments/experiment.py\" target=\"_blank\"><span style=\"color: #7f7f7f; text-decoration-color: #7f7f7f\">experiment.py</span></a><span style=\"color: #7f7f7f; text-decoration-color: #7f7f7f\">:</span><a href=\"file:///home/krzysiek/Development/claim-modelling/claim_modelling_kedro/src/claim_modelling_kedro/experiments/experiment.py#41\" target=\"_blank\"><span style=\"color: #7f7f7f; text-decoration-color: #7f7f7f\">41</span></a>\n",
       "<span style=\"color: #7fbfbf; text-decoration-color: #7fbfbf\">                    </span>         experiments/exp_001_freq_glm_trg_ratio_clb_poisson/runs/exp_001_freq_ <span style=\"color: #7f7f7f; text-decoration-color: #7f7f7f\">                </span>\n",
       "<span style=\"color: #7fbfbf; text-decoration-color: #7fbfbf\">                    </span>         glm_trg_ratio_clb_poisson_00016_p_0.<span style=\"color: #008080; text-decoration-color: #008080; font-weight: bold\">75</span>/filled_templates.              <span style=\"color: #7f7f7f; text-decoration-color: #7f7f7f\">                </span>\n",
       "</pre>\n"
      ],
      "text/plain": [
       "\u001b[2;36m                   \u001b[0m\u001b[2;36m \u001b[0m\u001b[34mINFO    \u001b[0m Filled templates copied to                                            \u001b]8;id=290756;file:///home/krzysiek/Development/claim-modelling/claim_modelling_kedro/src/claim_modelling_kedro/experiments/experiment.py\u001b\\\u001b[2mexperiment.py\u001b[0m\u001b]8;;\u001b\\\u001b[2m:\u001b[0m\u001b]8;id=136507;file:///home/krzysiek/Development/claim-modelling/claim_modelling_kedro/src/claim_modelling_kedro/experiments/experiment.py#41\u001b\\\u001b[2m41\u001b[0m\u001b]8;;\u001b\\\n",
       "\u001b[2;36m                    \u001b[0m         experiments/exp_001_freq_glm_trg_ratio_clb_poisson/runs/exp_001_freq_ \u001b[2m                \u001b[0m\n",
       "\u001b[2;36m                    \u001b[0m         glm_trg_ratio_clb_poisson_00016_p_0.\u001b[1;36m75\u001b[0m/filled_templates.              \u001b[2m                \u001b[0m\n"
      ]
     },
     "metadata": {},
     "output_type": "display_data"
    },
    {
     "data": {
      "text/html": [
       "<pre style=\"white-space:pre;overflow-x:auto;line-height:normal;font-family:Menlo,'DejaVu Sans Mono',consolas,'Courier New',monospace\"><span style=\"color: #7fbfbf; text-decoration-color: #7fbfbf\">                    </span><span style=\"color: #000080; text-decoration-color: #000080\">INFO    </span> Created experiment run directory:                                     <a href=\"file:///home/krzysiek/Development/claim-modelling/claim_modelling_kedro/src/claim_modelling_kedro/experiments/experiment.py\" target=\"_blank\"><span style=\"color: #7f7f7f; text-decoration-color: #7f7f7f\">experiment.py</span></a><span style=\"color: #7f7f7f; text-decoration-color: #7f7f7f\">:</span><a href=\"file:///home/krzysiek/Development/claim-modelling/claim_modelling_kedro/src/claim_modelling_kedro/experiments/experiment.py#73\" target=\"_blank\"><span style=\"color: #7f7f7f; text-decoration-color: #7f7f7f\">73</span></a>\n",
       "<span style=\"color: #7fbfbf; text-decoration-color: #7fbfbf\">                    </span>         experiments/exp_001_freq_glm_trg_ratio_clb_poisson/runs/exp_001_freq_ <span style=\"color: #7f7f7f; text-decoration-color: #7f7f7f\">                </span>\n",
       "<span style=\"color: #7fbfbf; text-decoration-color: #7fbfbf\">                    </span>         glm_trg_ratio_clb_poisson_00016_p_0.<span style=\"color: #008080; text-decoration-color: #008080; font-weight: bold\">75</span>.                               <span style=\"color: #7f7f7f; text-decoration-color: #7f7f7f\">                </span>\n",
       "</pre>\n"
      ],
      "text/plain": [
       "\u001b[2;36m                   \u001b[0m\u001b[2;36m \u001b[0m\u001b[34mINFO    \u001b[0m Created experiment run directory:                                     \u001b]8;id=58633;file:///home/krzysiek/Development/claim-modelling/claim_modelling_kedro/src/claim_modelling_kedro/experiments/experiment.py\u001b\\\u001b[2mexperiment.py\u001b[0m\u001b]8;;\u001b\\\u001b[2m:\u001b[0m\u001b]8;id=946332;file:///home/krzysiek/Development/claim-modelling/claim_modelling_kedro/src/claim_modelling_kedro/experiments/experiment.py#73\u001b\\\u001b[2m73\u001b[0m\u001b]8;;\u001b\\\n",
       "\u001b[2;36m                    \u001b[0m         experiments/exp_001_freq_glm_trg_ratio_clb_poisson/runs/exp_001_freq_ \u001b[2m                \u001b[0m\n",
       "\u001b[2;36m                    \u001b[0m         glm_trg_ratio_clb_poisson_00016_p_0.\u001b[1;36m75\u001b[0m.                               \u001b[2m                \u001b[0m\n"
      ]
     },
     "metadata": {},
     "output_type": "display_data"
    },
    {
     "data": {
      "text/html": [
       "<pre style=\"white-space:pre;overflow-x:auto;line-height:normal;font-family:Menlo,'DejaVu Sans Mono',consolas,'Courier New',monospace\"><span style=\"color: #7fbfbf; text-decoration-color: #7fbfbf\">                    </span><span style=\"color: #000080; text-decoration-color: #000080\">INFO    </span> Filled templates copied to                                            <a href=\"file:///home/krzysiek/Development/claim-modelling/claim_modelling_kedro/src/claim_modelling_kedro/experiments/experiment.py\" target=\"_blank\"><span style=\"color: #7f7f7f; text-decoration-color: #7f7f7f\">experiment.py</span></a><span style=\"color: #7f7f7f; text-decoration-color: #7f7f7f\">:</span><a href=\"file:///home/krzysiek/Development/claim-modelling/claim_modelling_kedro/src/claim_modelling_kedro/experiments/experiment.py#41\" target=\"_blank\"><span style=\"color: #7f7f7f; text-decoration-color: #7f7f7f\">41</span></a>\n",
       "<span style=\"color: #7fbfbf; text-decoration-color: #7fbfbf\">                    </span>         experiments/exp_001_freq_glm_trg_ratio_clb_poisson/runs/exp_001_freq_ <span style=\"color: #7f7f7f; text-decoration-color: #7f7f7f\">                </span>\n",
       "<span style=\"color: #7fbfbf; text-decoration-color: #7fbfbf\">                    </span>         glm_trg_ratio_clb_poisson_00017_p_0.<span style=\"color: #008080; text-decoration-color: #008080; font-weight: bold\">8</span>/filled_templates.               <span style=\"color: #7f7f7f; text-decoration-color: #7f7f7f\">                </span>\n",
       "</pre>\n"
      ],
      "text/plain": [
       "\u001b[2;36m                   \u001b[0m\u001b[2;36m \u001b[0m\u001b[34mINFO    \u001b[0m Filled templates copied to                                            \u001b]8;id=259797;file:///home/krzysiek/Development/claim-modelling/claim_modelling_kedro/src/claim_modelling_kedro/experiments/experiment.py\u001b\\\u001b[2mexperiment.py\u001b[0m\u001b]8;;\u001b\\\u001b[2m:\u001b[0m\u001b]8;id=83359;file:///home/krzysiek/Development/claim-modelling/claim_modelling_kedro/src/claim_modelling_kedro/experiments/experiment.py#41\u001b\\\u001b[2m41\u001b[0m\u001b]8;;\u001b\\\n",
       "\u001b[2;36m                    \u001b[0m         experiments/exp_001_freq_glm_trg_ratio_clb_poisson/runs/exp_001_freq_ \u001b[2m                \u001b[0m\n",
       "\u001b[2;36m                    \u001b[0m         glm_trg_ratio_clb_poisson_00017_p_0.\u001b[1;36m8\u001b[0m/filled_templates.               \u001b[2m                \u001b[0m\n"
      ]
     },
     "metadata": {},
     "output_type": "display_data"
    },
    {
     "data": {
      "text/html": [
       "<pre style=\"white-space:pre;overflow-x:auto;line-height:normal;font-family:Menlo,'DejaVu Sans Mono',consolas,'Courier New',monospace\"><span style=\"color: #7fbfbf; text-decoration-color: #7fbfbf\">                    </span><span style=\"color: #000080; text-decoration-color: #000080\">INFO    </span> Created experiment run directory:                                     <a href=\"file:///home/krzysiek/Development/claim-modelling/claim_modelling_kedro/src/claim_modelling_kedro/experiments/experiment.py\" target=\"_blank\"><span style=\"color: #7f7f7f; text-decoration-color: #7f7f7f\">experiment.py</span></a><span style=\"color: #7f7f7f; text-decoration-color: #7f7f7f\">:</span><a href=\"file:///home/krzysiek/Development/claim-modelling/claim_modelling_kedro/src/claim_modelling_kedro/experiments/experiment.py#73\" target=\"_blank\"><span style=\"color: #7f7f7f; text-decoration-color: #7f7f7f\">73</span></a>\n",
       "<span style=\"color: #7fbfbf; text-decoration-color: #7fbfbf\">                    </span>         experiments/exp_001_freq_glm_trg_ratio_clb_poisson/runs/exp_001_freq_ <span style=\"color: #7f7f7f; text-decoration-color: #7f7f7f\">                </span>\n",
       "<span style=\"color: #7fbfbf; text-decoration-color: #7fbfbf\">                    </span>         glm_trg_ratio_clb_poisson_00017_p_0.<span style=\"color: #008080; text-decoration-color: #008080; font-weight: bold\">8</span>.                                <span style=\"color: #7f7f7f; text-decoration-color: #7f7f7f\">                </span>\n",
       "</pre>\n"
      ],
      "text/plain": [
       "\u001b[2;36m                   \u001b[0m\u001b[2;36m \u001b[0m\u001b[34mINFO    \u001b[0m Created experiment run directory:                                     \u001b]8;id=921698;file:///home/krzysiek/Development/claim-modelling/claim_modelling_kedro/src/claim_modelling_kedro/experiments/experiment.py\u001b\\\u001b[2mexperiment.py\u001b[0m\u001b]8;;\u001b\\\u001b[2m:\u001b[0m\u001b]8;id=356358;file:///home/krzysiek/Development/claim-modelling/claim_modelling_kedro/src/claim_modelling_kedro/experiments/experiment.py#73\u001b\\\u001b[2m73\u001b[0m\u001b]8;;\u001b\\\n",
       "\u001b[2;36m                    \u001b[0m         experiments/exp_001_freq_glm_trg_ratio_clb_poisson/runs/exp_001_freq_ \u001b[2m                \u001b[0m\n",
       "\u001b[2;36m                    \u001b[0m         glm_trg_ratio_clb_poisson_00017_p_0.\u001b[1;36m8\u001b[0m.                                \u001b[2m                \u001b[0m\n"
      ]
     },
     "metadata": {},
     "output_type": "display_data"
    },
    {
     "data": {
      "text/html": [
       "<pre style=\"white-space:pre;overflow-x:auto;line-height:normal;font-family:Menlo,'DejaVu Sans Mono',consolas,'Courier New',monospace\"><span style=\"color: #7fbfbf; text-decoration-color: #7fbfbf\">                    </span><span style=\"color: #000080; text-decoration-color: #000080\">INFO    </span> Filled templates copied to                                            <a href=\"file:///home/krzysiek/Development/claim-modelling/claim_modelling_kedro/src/claim_modelling_kedro/experiments/experiment.py\" target=\"_blank\"><span style=\"color: #7f7f7f; text-decoration-color: #7f7f7f\">experiment.py</span></a><span style=\"color: #7f7f7f; text-decoration-color: #7f7f7f\">:</span><a href=\"file:///home/krzysiek/Development/claim-modelling/claim_modelling_kedro/src/claim_modelling_kedro/experiments/experiment.py#41\" target=\"_blank\"><span style=\"color: #7f7f7f; text-decoration-color: #7f7f7f\">41</span></a>\n",
       "<span style=\"color: #7fbfbf; text-decoration-color: #7fbfbf\">                    </span>         experiments/exp_001_freq_glm_trg_ratio_clb_poisson/runs/exp_001_freq_ <span style=\"color: #7f7f7f; text-decoration-color: #7f7f7f\">                </span>\n",
       "<span style=\"color: #7fbfbf; text-decoration-color: #7fbfbf\">                    </span>         glm_trg_ratio_clb_poisson_00018_p_0.<span style=\"color: #008080; text-decoration-color: #008080; font-weight: bold\">85</span>/filled_templates.              <span style=\"color: #7f7f7f; text-decoration-color: #7f7f7f\">                </span>\n",
       "</pre>\n"
      ],
      "text/plain": [
       "\u001b[2;36m                   \u001b[0m\u001b[2;36m \u001b[0m\u001b[34mINFO    \u001b[0m Filled templates copied to                                            \u001b]8;id=807338;file:///home/krzysiek/Development/claim-modelling/claim_modelling_kedro/src/claim_modelling_kedro/experiments/experiment.py\u001b\\\u001b[2mexperiment.py\u001b[0m\u001b]8;;\u001b\\\u001b[2m:\u001b[0m\u001b]8;id=624665;file:///home/krzysiek/Development/claim-modelling/claim_modelling_kedro/src/claim_modelling_kedro/experiments/experiment.py#41\u001b\\\u001b[2m41\u001b[0m\u001b]8;;\u001b\\\n",
       "\u001b[2;36m                    \u001b[0m         experiments/exp_001_freq_glm_trg_ratio_clb_poisson/runs/exp_001_freq_ \u001b[2m                \u001b[0m\n",
       "\u001b[2;36m                    \u001b[0m         glm_trg_ratio_clb_poisson_00018_p_0.\u001b[1;36m85\u001b[0m/filled_templates.              \u001b[2m                \u001b[0m\n"
      ]
     },
     "metadata": {},
     "output_type": "display_data"
    },
    {
     "data": {
      "text/html": [
       "<pre style=\"white-space:pre;overflow-x:auto;line-height:normal;font-family:Menlo,'DejaVu Sans Mono',consolas,'Courier New',monospace\"><span style=\"color: #7fbfbf; text-decoration-color: #7fbfbf\">                    </span><span style=\"color: #000080; text-decoration-color: #000080\">INFO    </span> Created experiment run directory:                                     <a href=\"file:///home/krzysiek/Development/claim-modelling/claim_modelling_kedro/src/claim_modelling_kedro/experiments/experiment.py\" target=\"_blank\"><span style=\"color: #7f7f7f; text-decoration-color: #7f7f7f\">experiment.py</span></a><span style=\"color: #7f7f7f; text-decoration-color: #7f7f7f\">:</span><a href=\"file:///home/krzysiek/Development/claim-modelling/claim_modelling_kedro/src/claim_modelling_kedro/experiments/experiment.py#73\" target=\"_blank\"><span style=\"color: #7f7f7f; text-decoration-color: #7f7f7f\">73</span></a>\n",
       "<span style=\"color: #7fbfbf; text-decoration-color: #7fbfbf\">                    </span>         experiments/exp_001_freq_glm_trg_ratio_clb_poisson/runs/exp_001_freq_ <span style=\"color: #7f7f7f; text-decoration-color: #7f7f7f\">                </span>\n",
       "<span style=\"color: #7fbfbf; text-decoration-color: #7fbfbf\">                    </span>         glm_trg_ratio_clb_poisson_00018_p_0.<span style=\"color: #008080; text-decoration-color: #008080; font-weight: bold\">85</span>.                               <span style=\"color: #7f7f7f; text-decoration-color: #7f7f7f\">                </span>\n",
       "</pre>\n"
      ],
      "text/plain": [
       "\u001b[2;36m                   \u001b[0m\u001b[2;36m \u001b[0m\u001b[34mINFO    \u001b[0m Created experiment run directory:                                     \u001b]8;id=580970;file:///home/krzysiek/Development/claim-modelling/claim_modelling_kedro/src/claim_modelling_kedro/experiments/experiment.py\u001b\\\u001b[2mexperiment.py\u001b[0m\u001b]8;;\u001b\\\u001b[2m:\u001b[0m\u001b]8;id=512839;file:///home/krzysiek/Development/claim-modelling/claim_modelling_kedro/src/claim_modelling_kedro/experiments/experiment.py#73\u001b\\\u001b[2m73\u001b[0m\u001b]8;;\u001b\\\n",
       "\u001b[2;36m                    \u001b[0m         experiments/exp_001_freq_glm_trg_ratio_clb_poisson/runs/exp_001_freq_ \u001b[2m                \u001b[0m\n",
       "\u001b[2;36m                    \u001b[0m         glm_trg_ratio_clb_poisson_00018_p_0.\u001b[1;36m85\u001b[0m.                               \u001b[2m                \u001b[0m\n"
      ]
     },
     "metadata": {},
     "output_type": "display_data"
    },
    {
     "data": {
      "text/html": [
       "<pre style=\"white-space:pre;overflow-x:auto;line-height:normal;font-family:Menlo,'DejaVu Sans Mono',consolas,'Courier New',monospace\"><span style=\"color: #7fbfbf; text-decoration-color: #7fbfbf\">                    </span><span style=\"color: #000080; text-decoration-color: #000080\">INFO    </span> Filled templates copied to                                            <a href=\"file:///home/krzysiek/Development/claim-modelling/claim_modelling_kedro/src/claim_modelling_kedro/experiments/experiment.py\" target=\"_blank\"><span style=\"color: #7f7f7f; text-decoration-color: #7f7f7f\">experiment.py</span></a><span style=\"color: #7f7f7f; text-decoration-color: #7f7f7f\">:</span><a href=\"file:///home/krzysiek/Development/claim-modelling/claim_modelling_kedro/src/claim_modelling_kedro/experiments/experiment.py#41\" target=\"_blank\"><span style=\"color: #7f7f7f; text-decoration-color: #7f7f7f\">41</span></a>\n",
       "<span style=\"color: #7fbfbf; text-decoration-color: #7fbfbf\">                    </span>         experiments/exp_001_freq_glm_trg_ratio_clb_poisson/runs/exp_001_freq_ <span style=\"color: #7f7f7f; text-decoration-color: #7f7f7f\">                </span>\n",
       "<span style=\"color: #7fbfbf; text-decoration-color: #7fbfbf\">                    </span>         glm_trg_ratio_clb_poisson_00019_p_0.<span style=\"color: #008080; text-decoration-color: #008080; font-weight: bold\">9</span>/filled_templates.               <span style=\"color: #7f7f7f; text-decoration-color: #7f7f7f\">                </span>\n",
       "</pre>\n"
      ],
      "text/plain": [
       "\u001b[2;36m                   \u001b[0m\u001b[2;36m \u001b[0m\u001b[34mINFO    \u001b[0m Filled templates copied to                                            \u001b]8;id=201530;file:///home/krzysiek/Development/claim-modelling/claim_modelling_kedro/src/claim_modelling_kedro/experiments/experiment.py\u001b\\\u001b[2mexperiment.py\u001b[0m\u001b]8;;\u001b\\\u001b[2m:\u001b[0m\u001b]8;id=197029;file:///home/krzysiek/Development/claim-modelling/claim_modelling_kedro/src/claim_modelling_kedro/experiments/experiment.py#41\u001b\\\u001b[2m41\u001b[0m\u001b]8;;\u001b\\\n",
       "\u001b[2;36m                    \u001b[0m         experiments/exp_001_freq_glm_trg_ratio_clb_poisson/runs/exp_001_freq_ \u001b[2m                \u001b[0m\n",
       "\u001b[2;36m                    \u001b[0m         glm_trg_ratio_clb_poisson_00019_p_0.\u001b[1;36m9\u001b[0m/filled_templates.               \u001b[2m                \u001b[0m\n"
      ]
     },
     "metadata": {},
     "output_type": "display_data"
    },
    {
     "data": {
      "text/html": [
       "<pre style=\"white-space:pre;overflow-x:auto;line-height:normal;font-family:Menlo,'DejaVu Sans Mono',consolas,'Courier New',monospace\"><span style=\"color: #7fbfbf; text-decoration-color: #7fbfbf\">                    </span><span style=\"color: #000080; text-decoration-color: #000080\">INFO    </span> Created experiment run directory:                                     <a href=\"file:///home/krzysiek/Development/claim-modelling/claim_modelling_kedro/src/claim_modelling_kedro/experiments/experiment.py\" target=\"_blank\"><span style=\"color: #7f7f7f; text-decoration-color: #7f7f7f\">experiment.py</span></a><span style=\"color: #7f7f7f; text-decoration-color: #7f7f7f\">:</span><a href=\"file:///home/krzysiek/Development/claim-modelling/claim_modelling_kedro/src/claim_modelling_kedro/experiments/experiment.py#73\" target=\"_blank\"><span style=\"color: #7f7f7f; text-decoration-color: #7f7f7f\">73</span></a>\n",
       "<span style=\"color: #7fbfbf; text-decoration-color: #7fbfbf\">                    </span>         experiments/exp_001_freq_glm_trg_ratio_clb_poisson/runs/exp_001_freq_ <span style=\"color: #7f7f7f; text-decoration-color: #7f7f7f\">                </span>\n",
       "<span style=\"color: #7fbfbf; text-decoration-color: #7fbfbf\">                    </span>         glm_trg_ratio_clb_poisson_00019_p_0.<span style=\"color: #008080; text-decoration-color: #008080; font-weight: bold\">9</span>.                                <span style=\"color: #7f7f7f; text-decoration-color: #7f7f7f\">                </span>\n",
       "</pre>\n"
      ],
      "text/plain": [
       "\u001b[2;36m                   \u001b[0m\u001b[2;36m \u001b[0m\u001b[34mINFO    \u001b[0m Created experiment run directory:                                     \u001b]8;id=35323;file:///home/krzysiek/Development/claim-modelling/claim_modelling_kedro/src/claim_modelling_kedro/experiments/experiment.py\u001b\\\u001b[2mexperiment.py\u001b[0m\u001b]8;;\u001b\\\u001b[2m:\u001b[0m\u001b]8;id=599941;file:///home/krzysiek/Development/claim-modelling/claim_modelling_kedro/src/claim_modelling_kedro/experiments/experiment.py#73\u001b\\\u001b[2m73\u001b[0m\u001b]8;;\u001b\\\n",
       "\u001b[2;36m                    \u001b[0m         experiments/exp_001_freq_glm_trg_ratio_clb_poisson/runs/exp_001_freq_ \u001b[2m                \u001b[0m\n",
       "\u001b[2;36m                    \u001b[0m         glm_trg_ratio_clb_poisson_00019_p_0.\u001b[1;36m9\u001b[0m.                                \u001b[2m                \u001b[0m\n"
      ]
     },
     "metadata": {},
     "output_type": "display_data"
    },
    {
     "data": {
      "text/html": [
       "<pre style=\"white-space:pre;overflow-x:auto;line-height:normal;font-family:Menlo,'DejaVu Sans Mono',consolas,'Courier New',monospace\"><span style=\"color: #7fbfbf; text-decoration-color: #7fbfbf\">                    </span><span style=\"color: #000080; text-decoration-color: #000080\">INFO    </span> Filled templates copied to                                            <a href=\"file:///home/krzysiek/Development/claim-modelling/claim_modelling_kedro/src/claim_modelling_kedro/experiments/experiment.py\" target=\"_blank\"><span style=\"color: #7f7f7f; text-decoration-color: #7f7f7f\">experiment.py</span></a><span style=\"color: #7f7f7f; text-decoration-color: #7f7f7f\">:</span><a href=\"file:///home/krzysiek/Development/claim-modelling/claim_modelling_kedro/src/claim_modelling_kedro/experiments/experiment.py#41\" target=\"_blank\"><span style=\"color: #7f7f7f; text-decoration-color: #7f7f7f\">41</span></a>\n",
       "<span style=\"color: #7fbfbf; text-decoration-color: #7fbfbf\">                    </span>         experiments/exp_001_freq_glm_trg_ratio_clb_poisson/runs/exp_001_freq_ <span style=\"color: #7f7f7f; text-decoration-color: #7f7f7f\">                </span>\n",
       "<span style=\"color: #7fbfbf; text-decoration-color: #7fbfbf\">                    </span>         glm_trg_ratio_clb_poisson_00020_p_0.<span style=\"color: #008080; text-decoration-color: #008080; font-weight: bold\">95</span>/filled_templates.              <span style=\"color: #7f7f7f; text-decoration-color: #7f7f7f\">                </span>\n",
       "</pre>\n"
      ],
      "text/plain": [
       "\u001b[2;36m                   \u001b[0m\u001b[2;36m \u001b[0m\u001b[34mINFO    \u001b[0m Filled templates copied to                                            \u001b]8;id=931885;file:///home/krzysiek/Development/claim-modelling/claim_modelling_kedro/src/claim_modelling_kedro/experiments/experiment.py\u001b\\\u001b[2mexperiment.py\u001b[0m\u001b]8;;\u001b\\\u001b[2m:\u001b[0m\u001b]8;id=853804;file:///home/krzysiek/Development/claim-modelling/claim_modelling_kedro/src/claim_modelling_kedro/experiments/experiment.py#41\u001b\\\u001b[2m41\u001b[0m\u001b]8;;\u001b\\\n",
       "\u001b[2;36m                    \u001b[0m         experiments/exp_001_freq_glm_trg_ratio_clb_poisson/runs/exp_001_freq_ \u001b[2m                \u001b[0m\n",
       "\u001b[2;36m                    \u001b[0m         glm_trg_ratio_clb_poisson_00020_p_0.\u001b[1;36m95\u001b[0m/filled_templates.              \u001b[2m                \u001b[0m\n"
      ]
     },
     "metadata": {},
     "output_type": "display_data"
    },
    {
     "data": {
      "text/html": [
       "<pre style=\"white-space:pre;overflow-x:auto;line-height:normal;font-family:Menlo,'DejaVu Sans Mono',consolas,'Courier New',monospace\"><span style=\"color: #7fbfbf; text-decoration-color: #7fbfbf\">                    </span><span style=\"color: #000080; text-decoration-color: #000080\">INFO    </span> Created experiment run directory:                                     <a href=\"file:///home/krzysiek/Development/claim-modelling/claim_modelling_kedro/src/claim_modelling_kedro/experiments/experiment.py\" target=\"_blank\"><span style=\"color: #7f7f7f; text-decoration-color: #7f7f7f\">experiment.py</span></a><span style=\"color: #7f7f7f; text-decoration-color: #7f7f7f\">:</span><a href=\"file:///home/krzysiek/Development/claim-modelling/claim_modelling_kedro/src/claim_modelling_kedro/experiments/experiment.py#73\" target=\"_blank\"><span style=\"color: #7f7f7f; text-decoration-color: #7f7f7f\">73</span></a>\n",
       "<span style=\"color: #7fbfbf; text-decoration-color: #7fbfbf\">                    </span>         experiments/exp_001_freq_glm_trg_ratio_clb_poisson/runs/exp_001_freq_ <span style=\"color: #7f7f7f; text-decoration-color: #7f7f7f\">                </span>\n",
       "<span style=\"color: #7fbfbf; text-decoration-color: #7fbfbf\">                    </span>         glm_trg_ratio_clb_poisson_00020_p_0.<span style=\"color: #008080; text-decoration-color: #008080; font-weight: bold\">95</span>.                               <span style=\"color: #7f7f7f; text-decoration-color: #7f7f7f\">                </span>\n",
       "</pre>\n"
      ],
      "text/plain": [
       "\u001b[2;36m                   \u001b[0m\u001b[2;36m \u001b[0m\u001b[34mINFO    \u001b[0m Created experiment run directory:                                     \u001b]8;id=725946;file:///home/krzysiek/Development/claim-modelling/claim_modelling_kedro/src/claim_modelling_kedro/experiments/experiment.py\u001b\\\u001b[2mexperiment.py\u001b[0m\u001b]8;;\u001b\\\u001b[2m:\u001b[0m\u001b]8;id=331346;file:///home/krzysiek/Development/claim-modelling/claim_modelling_kedro/src/claim_modelling_kedro/experiments/experiment.py#73\u001b\\\u001b[2m73\u001b[0m\u001b]8;;\u001b\\\n",
       "\u001b[2;36m                    \u001b[0m         experiments/exp_001_freq_glm_trg_ratio_clb_poisson/runs/exp_001_freq_ \u001b[2m                \u001b[0m\n",
       "\u001b[2;36m                    \u001b[0m         glm_trg_ratio_clb_poisson_00020_p_0.\u001b[1;36m95\u001b[0m.                               \u001b[2m                \u001b[0m\n"
      ]
     },
     "metadata": {},
     "output_type": "display_data"
    }
   ],
   "source": [
    "import numpy as np\n",
    "\n",
    "experiment_name = \"exp_001_freq_glm_trg_ratio_clb_poisson\"\n",
    "p_lst = []\n",
    "template_parameters_lst = []\n",
    "run_name_lst = []\n",
    "trg_size = 19000\n",
    "\n",
    "for i, p in enumerate([None, 0.05, 0.1, 0.15, 0.2, 0.25, 0.3, 0.35, 0.4, 0.45, 0.5, 0.55, 0.6, 0.65, 0.7, 0.75, 0.8, 0.85, 0.9, 0.95]):\n",
    "    p_lst.append(p)\n",
    "    template_parameters_lst.append({\"SAMPLING_TARGET_RATIO\": f\"{p}\" if p is not None else \"\",\n",
    "                                   \"SAMPLING_N_OBS\": f\"{int(np.floor(trg_size / p))}\" if p is not None else \"540000\"})\n",
    "    run_name_lst.append(default_run_name_from_run_no(experiment_name=experiment_name, run_no=i + 1, suffix=f\"p_{p}\"))\n",
    "\n",
    "for run_name, template_parameters in zip(run_name_lst, template_parameters_lst):\n",
    "    create_experiment_run(experiment_name=experiment_name, run_name=run_name, template_parameters=template_parameters)"
   ]
  },
  {
   "cell_type": "code",
   "execution_count": 6,
   "id": "4e3540a2-e444-4e8d-a444-f7eb5af2385f",
   "metadata": {},
   "outputs": [
    {
     "data": {
      "text/html": [
       "<pre style=\"white-space:pre;overflow-x:auto;line-height:normal;font-family:Menlo,'DejaVu Sans Mono',consolas,'Courier New',monospace\"></pre>\n"
      ],
      "text/plain": []
     },
     "metadata": {},
     "output_type": "display_data"
    },
    {
     "data": {
      "text/plain": [
       "\n",
       "\u001b[1m(\u001b[0m\n",
       "    \u001b[1m[\u001b[0m\n",
       "        \u001b[3;35mNone\u001b[0m,\n",
       "        \u001b[1;36m0.05\u001b[0m,\n",
       "        \u001b[1;36m0.1\u001b[0m,\n",
       "        \u001b[1;36m0.15\u001b[0m,\n",
       "        \u001b[1;36m0.2\u001b[0m,\n",
       "        \u001b[1;36m0.25\u001b[0m,\n",
       "        \u001b[1;36m0.3\u001b[0m,\n",
       "        \u001b[1;36m0.35\u001b[0m,\n",
       "        \u001b[1;36m0.4\u001b[0m,\n",
       "        \u001b[1;36m0.45\u001b[0m,\n",
       "        \u001b[1;36m0.5\u001b[0m,\n",
       "        \u001b[1;36m0.55\u001b[0m,\n",
       "        \u001b[1;36m0.6\u001b[0m,\n",
       "        \u001b[1;36m0.65\u001b[0m,\n",
       "        \u001b[1;36m0.7\u001b[0m,\n",
       "        \u001b[1;36m0.75\u001b[0m,\n",
       "        \u001b[1;36m0.8\u001b[0m,\n",
       "        \u001b[1;36m0.85\u001b[0m,\n",
       "        \u001b[1;36m0.9\u001b[0m,\n",
       "        \u001b[1;36m0.95\u001b[0m\n",
       "    \u001b[1m]\u001b[0m,\n",
       "    \u001b[1m[\u001b[0m\n",
       "        \u001b[32m'exp_001_freq_glm_trg_ratio_clb_poisson_00001_p_None'\u001b[0m,\n",
       "        \u001b[32m'exp_001_freq_glm_trg_ratio_clb_poisson_00002_p_0.05'\u001b[0m,\n",
       "        \u001b[32m'exp_001_freq_glm_trg_ratio_clb_poisson_00003_p_0.1'\u001b[0m,\n",
       "        \u001b[32m'exp_001_freq_glm_trg_ratio_clb_poisson_00004_p_0.15'\u001b[0m,\n",
       "        \u001b[32m'exp_001_freq_glm_trg_ratio_clb_poisson_00005_p_0.2'\u001b[0m,\n",
       "        \u001b[32m'exp_001_freq_glm_trg_ratio_clb_poisson_00006_p_0.25'\u001b[0m,\n",
       "        \u001b[32m'exp_001_freq_glm_trg_ratio_clb_poisson_00007_p_0.3'\u001b[0m,\n",
       "        \u001b[32m'exp_001_freq_glm_trg_ratio_clb_poisson_00008_p_0.35'\u001b[0m,\n",
       "        \u001b[32m'exp_001_freq_glm_trg_ratio_clb_poisson_00009_p_0.4'\u001b[0m,\n",
       "        \u001b[32m'exp_001_freq_glm_trg_ratio_clb_poisson_00010_p_0.45'\u001b[0m,\n",
       "        \u001b[32m'exp_001_freq_glm_trg_ratio_clb_poisson_00011_p_0.5'\u001b[0m,\n",
       "        \u001b[32m'exp_001_freq_glm_trg_ratio_clb_poisson_00012_p_0.55'\u001b[0m,\n",
       "        \u001b[32m'exp_001_freq_glm_trg_ratio_clb_poisson_00013_p_0.6'\u001b[0m,\n",
       "        \u001b[32m'exp_001_freq_glm_trg_ratio_clb_poisson_00014_p_0.65'\u001b[0m,\n",
       "        \u001b[32m'exp_001_freq_glm_trg_ratio_clb_poisson_00015_p_0.7'\u001b[0m,\n",
       "        \u001b[32m'exp_001_freq_glm_trg_ratio_clb_poisson_00016_p_0.75'\u001b[0m,\n",
       "        \u001b[32m'exp_001_freq_glm_trg_ratio_clb_poisson_00017_p_0.8'\u001b[0m,\n",
       "        \u001b[32m'exp_001_freq_glm_trg_ratio_clb_poisson_00018_p_0.85'\u001b[0m,\n",
       "        \u001b[32m'exp_001_freq_glm_trg_ratio_clb_poisson_00019_p_0.9'\u001b[0m,\n",
       "        \u001b[32m'exp_001_freq_glm_trg_ratio_clb_poisson_00020_p_0.95'\u001b[0m\n",
       "    \u001b[1m]\u001b[0m\n",
       "\u001b[1m)\u001b[0m"
      ]
     },
     "execution_count": 6,
     "metadata": {},
     "output_type": "execute_result"
    }
   ],
   "source": [
    "p_lst, run_name_lst"
   ]
  },
  {
   "cell_type": "code",
   "execution_count": 24,
   "id": "75d49559-df98-4432-9c5c-56c89aa86eb6",
   "metadata": {},
   "outputs": [
    {
     "data": {
      "text/html": [
       "<pre style=\"white-space:pre;overflow-x:auto;line-height:normal;font-family:Menlo,'DejaVu Sans Mono',consolas,'Courier New',monospace\"><span style=\"color: #7fbfbf; text-decoration-color: #7fbfbf\">[09/23/24 17:14:44] </span><span style=\"color: #000080; text-decoration-color: #000080\">INFO    </span> Filled templates copied to                                            <a href=\"file:///home/krzysiek/Development/solvency-modelling/solvency_models/src/solvency_models/experiments/experiment.py\" target=\"_blank\"><span style=\"color: #7f7f7f; text-decoration-color: #7f7f7f\">experiment.py</span></a><span style=\"color: #7f7f7f; text-decoration-color: #7f7f7f\">:</span><a href=\"file:///home/krzysiek/Development/solvency-modelling/solvency_models/src/solvency_models/experiments/experiment.py#41\" target=\"_blank\"><span style=\"color: #7f7f7f; text-decoration-color: #7f7f7f\">41</span></a>\n",
       "<span style=\"color: #7fbfbf; text-decoration-color: #7fbfbf\">                    </span>         experiments/exp_001_freq_glm_trg_ratio_clb_poisson/runs/dummy/filled_ <span style=\"color: #7f7f7f; text-decoration-color: #7f7f7f\">                </span>\n",
       "<span style=\"color: #7fbfbf; text-decoration-color: #7fbfbf\">                    </span>         templates.                                                            <span style=\"color: #7f7f7f; text-decoration-color: #7f7f7f\">                </span>\n",
       "</pre>\n"
      ],
      "text/plain": [
       "\u001b[2;36m[09/23/24 17:14:44]\u001b[0m\u001b[2;36m \u001b[0m\u001b[34mINFO    \u001b[0m Filled templates copied to                                            \u001b]8;id=227034;file:///home/krzysiek/Development/solvency-modelling/solvency_models/src/solvency_models/experiments/experiment.py\u001b\\\u001b[2mexperiment.py\u001b[0m\u001b]8;;\u001b\\\u001b[2m:\u001b[0m\u001b]8;id=719853;file:///home/krzysiek/Development/solvency-modelling/solvency_models/src/solvency_models/experiments/experiment.py#41\u001b\\\u001b[2m41\u001b[0m\u001b]8;;\u001b\\\n",
       "\u001b[2;36m                    \u001b[0m         experiments/exp_001_freq_glm_trg_ratio_clb_poisson/runs/dummy/filled_ \u001b[2m                \u001b[0m\n",
       "\u001b[2;36m                    \u001b[0m         templates.                                                            \u001b[2m                \u001b[0m\n"
      ]
     },
     "metadata": {},
     "output_type": "display_data"
    },
    {
     "data": {
      "text/html": [
       "<pre style=\"white-space:pre;overflow-x:auto;line-height:normal;font-family:Menlo,'DejaVu Sans Mono',consolas,'Courier New',monospace\"><span style=\"color: #7fbfbf; text-decoration-color: #7fbfbf\">                    </span><span style=\"color: #000080; text-decoration-color: #000080\">INFO    </span> Created experiment run directory:                                     <a href=\"file:///home/krzysiek/Development/solvency-modelling/solvency_models/src/solvency_models/experiments/experiment.py\" target=\"_blank\"><span style=\"color: #7f7f7f; text-decoration-color: #7f7f7f\">experiment.py</span></a><span style=\"color: #7f7f7f; text-decoration-color: #7f7f7f\">:</span><a href=\"file:///home/krzysiek/Development/solvency-modelling/solvency_models/src/solvency_models/experiments/experiment.py#73\" target=\"_blank\"><span style=\"color: #7f7f7f; text-decoration-color: #7f7f7f\">73</span></a>\n",
       "<span style=\"color: #7fbfbf; text-decoration-color: #7fbfbf\">                    </span>         experiments/exp_001_freq_glm_trg_ratio_clb_poisson/runs/dummy.        <span style=\"color: #7f7f7f; text-decoration-color: #7f7f7f\">                </span>\n",
       "</pre>\n"
      ],
      "text/plain": [
       "\u001b[2;36m                   \u001b[0m\u001b[2;36m \u001b[0m\u001b[34mINFO    \u001b[0m Created experiment run directory:                                     \u001b]8;id=453000;file:///home/krzysiek/Development/solvency-modelling/solvency_models/src/solvency_models/experiments/experiment.py\u001b\\\u001b[2mexperiment.py\u001b[0m\u001b]8;;\u001b\\\u001b[2m:\u001b[0m\u001b]8;id=578571;file:///home/krzysiek/Development/solvency-modelling/solvency_models/src/solvency_models/experiments/experiment.py#73\u001b\\\u001b[2m73\u001b[0m\u001b]8;;\u001b\\\n",
       "\u001b[2;36m                    \u001b[0m         experiments/exp_001_freq_glm_trg_ratio_clb_poisson/runs/dummy.        \u001b[2m                \u001b[0m\n"
      ]
     },
     "metadata": {},
     "output_type": "display_data"
    }
   ],
   "source": [
    "create_experiment_run(experiment_name=experiment_name, run_name=\"dummy\", template_parameters={\"SAMPLING_TARGET_RATIO\": \"0.5\",\n",
    "                                   \"SAMPLING_N_OBS\": \"40000\"})"
   ]
  },
  {
   "cell_type": "code",
   "execution_count": null,
   "id": "aaa46730-eb59-4110-9c01-211cfebcdbcd",
   "metadata": {},
   "outputs": [],
   "source": [
    "SAMPLING_N_OBS\n",
    "CALIBRATION_METHOD"
   ]
  },
  {
   "cell_type": "code",
   "execution_count": null,
   "id": "0a09dbdc-9ccc-4b3e-89b4-6a4bcbdcdd60",
   "metadata": {},
   "outputs": [],
   "source": [
    "create_experiment_run(experiment_name, run_no, template_parameters)"
   ]
  }
 ],
 "metadata": {
  "kernelspec": {
   "display_name": "Python 3 (ipykernel)",
   "language": "python",
   "name": "python3"
  },
  "language_info": {
   "codemirror_mode": {
    "name": "ipython",
    "version": 3
   },
   "file_extension": ".py",
   "mimetype": "text/x-python",
   "name": "python",
   "nbconvert_exporter": "python",
   "pygments_lexer": "ipython3",
   "version": "3.11.9"
  }
 },
 "nbformat": 4,
 "nbformat_minor": 5
}
