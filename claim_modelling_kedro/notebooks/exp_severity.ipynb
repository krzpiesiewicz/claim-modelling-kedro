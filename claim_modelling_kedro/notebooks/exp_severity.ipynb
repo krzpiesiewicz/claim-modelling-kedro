{
 "cells": [
  {
   "cell_type": "code",
   "execution_count": 10,
   "id": "3c491598-7352-4e72-877d-fac29ff85fc2",
   "metadata": {},
   "outputs": [],
   "source": [
    "from claim_modelling_kedro.pipelines.utils.dataframes import (\n",
    "    load_metrics_table_from_mlflow,\n",
    "    load_predictions_and_target_from_mlflow,\n",
    "    load_metrics_cv_stats_from_mlflow\n",
    ")\n",
    "from claim_modelling_kedro.pipelines.utils.datasets import (\n",
    "    get_partition,\n",
    "    get_mlflow_run_id_for_partition,\n",
    ")\n",
    "from claim_modelling_kedro.experiments.experiment import create_experiment_run, default_run_name_from_run_no, get_run_mlflow_id"
   ]
  },
  {
   "cell_type": "code",
   "execution_count": 1,
   "id": "a5e4bd9b-58ad-454c-a145-e88fa372da20",
   "metadata": {},
   "outputs": [
    {
     "data": {
      "text/html": [
       "<pre style=\"white-space:pre;overflow-x:auto;line-height:normal;font-family:Menlo,'DejaVu Sans Mono',consolas,'Courier New',monospace\"><span style=\"color: #7fbfbf; text-decoration-color: #7fbfbf\">[05/30/25 15:37:43] </span><span style=\"color: #000080; text-decoration-color: #000080\">INFO    </span> <span style=\"color: #626262; text-decoration-color: #626262\">               context.py:L91      </span> mlflow_config.server.mlflow_tracking_uri:         \n",
       "<span style=\"color: #7fbfbf; text-decoration-color: #7fbfbf\">                    </span>         <span style=\"color: #0000ff; text-decoration-color: #0000ff; text-decoration: underline\">http://127.0.0.1:5000</span>                                                                 \n",
       "</pre>\n"
      ],
      "text/plain": [
       "\u001b[2;36m[05/30/25 15:37:43]\u001b[0m\u001b[2;36m \u001b[0m\u001b[34mINFO    \u001b[0m \u001b[38;5;241m               context.py:L91      \u001b[0m mlflow_config.server.mlflow_tracking_uri:         \n",
       "\u001b[2;36m                    \u001b[0m         \u001b[4;94mhttp://127.0.0.1:5000\u001b[0m                                                                 \n"
      ]
     },
     "metadata": {},
     "output_type": "display_data"
    },
    {
     "data": {
      "text/html": [
       "<pre style=\"white-space:pre;overflow-x:auto;line-height:normal;font-family:Menlo,'DejaVu Sans Mono',consolas,'Courier New',monospace\"><span style=\"color: #7fbfbf; text-decoration-color: #7fbfbf\">                    </span><span style=\"color: #000080; text-decoration-color: #000080\">INFO    </span> <span style=\"color: #626262; text-decoration-color: #626262\">               context.py:L106     </span> mlflow_run_id: a220ddaad3744be9ba3b799066ddbc5a   \n",
       "</pre>\n"
      ],
      "text/plain": [
       "\u001b[2;36m                   \u001b[0m\u001b[2;36m \u001b[0m\u001b[34mINFO    \u001b[0m \u001b[38;5;241m               context.py:L106     \u001b[0m mlflow_run_id: a220ddaad3744be9ba3b799066ddbc5a   \n"
      ]
     },
     "metadata": {},
     "output_type": "display_data"
    },
    {
     "data": {
      "text/html": [
       "<pre style=\"white-space:pre;overflow-x:auto;line-height:normal;font-family:Menlo,'DejaVu Sans Mono',consolas,'Courier New',monospace\"><span style=\"color: #7fbfbf; text-decoration-color: #7fbfbf\">                    </span><span style=\"color: #000080; text-decoration-color: #000080\">INFO    </span> <span style=\"color: #626262; text-decoration-color: #626262\">              __init__.py:L134     </span> Kedro project solvency-models                     \n",
       "</pre>\n"
      ],
      "text/plain": [
       "\u001b[2;36m                   \u001b[0m\u001b[2;36m \u001b[0m\u001b[34mINFO    \u001b[0m \u001b[38;5;241m              __init__.py:L134     \u001b[0m Kedro project solvency-models                     \n"
      ]
     },
     "metadata": {},
     "output_type": "display_data"
    },
    {
     "data": {
      "text/html": [
       "<pre style=\"white-space:pre;overflow-x:auto;line-height:normal;font-family:Menlo,'DejaVu Sans Mono',consolas,'Courier New',monospace\"><span style=\"color: #7fbfbf; text-decoration-color: #7fbfbf\">                    </span><span style=\"color: #000080; text-decoration-color: #000080\">INFO    </span> <span style=\"color: #626262; text-decoration-color: #626262\">              __init__.py:L135     </span> Defined global variable <span style=\"color: #008000; text-decoration-color: #008000\">'context'</span>, <span style=\"color: #008000; text-decoration-color: #008000\">'session'</span>,     \n",
       "<span style=\"color: #7fbfbf; text-decoration-color: #7fbfbf\">                    </span>         <span style=\"color: #008000; text-decoration-color: #008000\">'catalog'</span> and <span style=\"color: #008000; text-decoration-color: #008000\">'pipelines'</span>                                                             \n",
       "</pre>\n"
      ],
      "text/plain": [
       "\u001b[2;36m                   \u001b[0m\u001b[2;36m \u001b[0m\u001b[34mINFO    \u001b[0m \u001b[38;5;241m              __init__.py:L135     \u001b[0m Defined global variable \u001b[32m'context'\u001b[0m, \u001b[32m'session'\u001b[0m,     \n",
       "\u001b[2;36m                    \u001b[0m         \u001b[32m'catalog'\u001b[0m and \u001b[32m'pipelines'\u001b[0m                                                             \n"
      ]
     },
     "metadata": {},
     "output_type": "display_data"
    },
    {
     "data": {
      "text/html": [
       "<pre style=\"white-space:pre;overflow-x:auto;line-height:normal;font-family:Menlo,'DejaVu Sans Mono',consolas,'Courier New',monospace\"><span style=\"color: #7fbfbf; text-decoration-color: #7fbfbf\">                    </span><span style=\"color: #000080; text-decoration-color: #000080\">INFO    </span> <span style=\"color: #626262; text-decoration-color: #626262\">              my_kedro.py:L125     </span> Reloaded kedro. Active mlflow_run_id:             \n",
       "<span style=\"color: #7fbfbf; text-decoration-color: #7fbfbf\">                    </span>         a220ddaad3744be9ba3b799066ddbc5a                                                      \n",
       "</pre>\n"
      ],
      "text/plain": [
       "\u001b[2;36m                   \u001b[0m\u001b[2;36m \u001b[0m\u001b[34mINFO    \u001b[0m \u001b[38;5;241m              my_kedro.py:L125     \u001b[0m Reloaded kedro. Active mlflow_run_id:             \n",
       "\u001b[2;36m                    \u001b[0m         a220ddaad3744be9ba3b799066ddbc5a                                                      \n"
      ]
     },
     "metadata": {},
     "output_type": "display_data"
    }
   ],
   "source": [
    "import sys\n",
    "sys.path.insert(0, \"/home/krzysiek/Development/claim-modelling/claim_modelling_kedro/notebooks/utils\")\n",
    "\n",
    "from utils.my_kedro import MyKedro, suppress_all_loggers\n",
    "import logging\n",
    "\n",
    "logger = logging.getLogger(__name__)\n",
    "logger.setLevel(\"INFO\")\n",
    "\n",
    "my_kedro = MyKedro()"
   ]
  },
  {
   "cell_type": "code",
   "execution_count": 2,
   "id": "5318e05d-490a-491a-8e08-0d98bf15058b",
   "metadata": {},
   "outputs": [
    {
     "data": {
      "text/html": [
       "<pre style=\"white-space:pre;overflow-x:auto;line-height:normal;font-family:Menlo,'DejaVu Sans Mono',consolas,'Courier New',monospace\"><span style=\"color: #7fbfbf; text-decoration-color: #7fbfbf\">[05/30/25 15:37:44] </span><span style=\"color: #000080; text-decoration-color: #000080\">INFO    </span> <span style=\"color: #626262; text-decoration-color: #626262\">               context.py:L91      </span> mlflow_config.server.mlflow_tracking_uri:         \n",
       "<span style=\"color: #7fbfbf; text-decoration-color: #7fbfbf\">                    </span>         <span style=\"color: #0000ff; text-decoration-color: #0000ff; text-decoration: underline\">http://127.0.0.1:5000</span>                                                                 \n",
       "</pre>\n"
      ],
      "text/plain": [
       "\u001b[2;36m[05/30/25 15:37:44]\u001b[0m\u001b[2;36m \u001b[0m\u001b[34mINFO    \u001b[0m \u001b[38;5;241m               context.py:L91      \u001b[0m mlflow_config.server.mlflow_tracking_uri:         \n",
       "\u001b[2;36m                    \u001b[0m         \u001b[4;94mhttp://127.0.0.1:5000\u001b[0m                                                                 \n"
      ]
     },
     "metadata": {},
     "output_type": "display_data"
    },
    {
     "data": {
      "text/html": [
       "<pre style=\"white-space:pre;overflow-x:auto;line-height:normal;font-family:Menlo,'DejaVu Sans Mono',consolas,'Courier New',monospace\"><span style=\"color: #7fbfbf; text-decoration-color: #7fbfbf\">                    </span><span style=\"color: #000080; text-decoration-color: #000080\">INFO    </span> <span style=\"color: #626262; text-decoration-color: #626262\">               context.py:L106     </span> mlflow_run_id: a220ddaad3744be9ba3b799066ddbc5a   \n",
       "</pre>\n"
      ],
      "text/plain": [
       "\u001b[2;36m                   \u001b[0m\u001b[2;36m \u001b[0m\u001b[34mINFO    \u001b[0m \u001b[38;5;241m               context.py:L106     \u001b[0m mlflow_run_id: a220ddaad3744be9ba3b799066ddbc5a   \n"
      ]
     },
     "metadata": {},
     "output_type": "display_data"
    },
    {
     "data": {
      "text/html": [
       "<pre style=\"white-space:pre;overflow-x:auto;line-height:normal;font-family:Menlo,'DejaVu Sans Mono',consolas,'Courier New',monospace\"><span style=\"color: #7fbfbf; text-decoration-color: #7fbfbf\">[05/30/25 15:37:45] </span><span style=\"color: #000080; text-decoration-color: #000080\">INFO    </span> <span style=\"color: #626262; text-decoration-color: #626262\">              __init__.py:L134     </span> Kedro project solvency-models                     \n",
       "</pre>\n"
      ],
      "text/plain": [
       "\u001b[2;36m[05/30/25 15:37:45]\u001b[0m\u001b[2;36m \u001b[0m\u001b[34mINFO    \u001b[0m \u001b[38;5;241m              __init__.py:L134     \u001b[0m Kedro project solvency-models                     \n"
      ]
     },
     "metadata": {},
     "output_type": "display_data"
    },
    {
     "data": {
      "text/html": [
       "<pre style=\"white-space:pre;overflow-x:auto;line-height:normal;font-family:Menlo,'DejaVu Sans Mono',consolas,'Courier New',monospace\"><span style=\"color: #7fbfbf; text-decoration-color: #7fbfbf\">                    </span><span style=\"color: #000080; text-decoration-color: #000080\">INFO    </span> <span style=\"color: #626262; text-decoration-color: #626262\">              __init__.py:L135     </span> Defined global variable <span style=\"color: #008000; text-decoration-color: #008000\">'context'</span>, <span style=\"color: #008000; text-decoration-color: #008000\">'session'</span>,     \n",
       "<span style=\"color: #7fbfbf; text-decoration-color: #7fbfbf\">                    </span>         <span style=\"color: #008000; text-decoration-color: #008000\">'catalog'</span> and <span style=\"color: #008000; text-decoration-color: #008000\">'pipelines'</span>                                                             \n",
       "</pre>\n"
      ],
      "text/plain": [
       "\u001b[2;36m                   \u001b[0m\u001b[2;36m \u001b[0m\u001b[34mINFO    \u001b[0m \u001b[38;5;241m              __init__.py:L135     \u001b[0m Defined global variable \u001b[32m'context'\u001b[0m, \u001b[32m'session'\u001b[0m,     \n",
       "\u001b[2;36m                    \u001b[0m         \u001b[32m'catalog'\u001b[0m and \u001b[32m'pipelines'\u001b[0m                                                             \n"
      ]
     },
     "metadata": {},
     "output_type": "display_data"
    },
    {
     "data": {
      "text/html": [
       "<pre style=\"white-space:pre;overflow-x:auto;line-height:normal;font-family:Menlo,'DejaVu Sans Mono',consolas,'Courier New',monospace\"><span style=\"color: #7fbfbf; text-decoration-color: #7fbfbf\">                    </span><span style=\"color: #000080; text-decoration-color: #000080\">INFO    </span> <span style=\"color: #626262; text-decoration-color: #626262\">              my_kedro.py:L125     </span> Reloaded kedro. Active mlflow_run_id:             \n",
       "<span style=\"color: #7fbfbf; text-decoration-color: #7fbfbf\">                    </span>         a220ddaad3744be9ba3b799066ddbc5a                                                      \n",
       "</pre>\n"
      ],
      "text/plain": [
       "\u001b[2;36m                   \u001b[0m\u001b[2;36m \u001b[0m\u001b[34mINFO    \u001b[0m \u001b[38;5;241m              my_kedro.py:L125     \u001b[0m Reloaded kedro. Active mlflow_run_id:             \n",
       "\u001b[2;36m                    \u001b[0m         a220ddaad3744be9ba3b799066ddbc5a                                                      \n"
      ]
     },
     "metadata": {},
     "output_type": "display_data"
    }
   ],
   "source": [
    "my_kedro.reload()"
   ]
  },
  {
   "cell_type": "code",
   "execution_count": 4,
   "id": "8af5daae-04d5-4273-83d3-29e310b56ced",
   "metadata": {},
   "outputs": [
    {
     "data": {
      "text/html": [
       "<pre style=\"white-space:pre;overflow-x:auto;line-height:normal;font-family:Menlo,'DejaVu Sans Mono',consolas,'Courier New',monospace\"></pre>\n"
      ],
      "text/plain": []
     },
     "metadata": {},
     "output_type": "display_data"
    },
    {
     "data": {
      "text/plain": [
       "\u001b[1m{\u001b[0m\u001b[1m}\u001b[0m"
      ]
     },
     "execution_count": 4,
     "metadata": {},
     "output_type": "execute_result"
    }
   ],
   "source": [
    "my_kedro.run(\"init\", level=\"ERROR\")\n",
    "config = catalog.load(\"config\")"
   ]
  },
  {
   "cell_type": "markdown",
   "id": "ccbcf8c7-e62e-45f8-bdba-e80edac1039b",
   "metadata": {},
   "source": [
    "## Dummy mean regressor"
   ]
  },
  {
   "cell_type": "code",
   "execution_count": 11,
   "id": "e71e8472-6fb8-4034-8cb8-a4961b7adb46",
   "metadata": {},
   "outputs": [
    {
     "data": {
      "text/html": [
       "<pre style=\"white-space:pre;overflow-x:auto;line-height:normal;font-family:Menlo,'DejaVu Sans Mono',consolas,'Courier New',monospace\"><span style=\"color: #7fbfbf; text-decoration-color: #7fbfbf\">[05/30/25 18:33:39] </span><span style=\"color: #000080; text-decoration-color: #000080\">INFO    </span> <span style=\"color: #626262; text-decoration-color: #626262\">            experiment.py:L185     </span> MLflow Run ID for sev_001_dummy_mean_regressor,   \n",
       "<span style=\"color: #7fbfbf; text-decoration-color: #7fbfbf\">                    </span>         Run dummy_mean: 5c5c70ecd2ec491ba8b4e7f6552dc753                                      \n",
       "</pre>\n"
      ],
      "text/plain": [
       "\u001b[2;36m[05/30/25 18:33:39]\u001b[0m\u001b[2;36m \u001b[0m\u001b[34mINFO    \u001b[0m \u001b[38;5;241m            experiment.py:L185     \u001b[0m MLflow Run ID for sev_001_dummy_mean_regressor,   \n",
       "\u001b[2;36m                    \u001b[0m         Run dummy_mean: 5c5c70ecd2ec491ba8b4e7f6552dc753                                      \n"
      ]
     },
     "metadata": {},
     "output_type": "display_data"
    }
   ],
   "source": [
    "dummy_exp_name = \"sev_001_dummy_mean_regressor\"\n",
    "dummy_run_name = \"dummy_mean\"\n",
    "dummy_run_id = get_run_mlflow_id(dummy_exp_name, dummy_run_name)"
   ]
  },
  {
   "cell_type": "code",
   "execution_count": 32,
   "id": "181c0a19-1304-46af-8781-1938cbdcaa06",
   "metadata": {},
   "outputs": [
    {
     "data": {
      "application/vnd.jupyter.widget-view+json": {
       "model_id": "90dcd0cdda1c4534a5bb0003eb8b24e2",
       "version_major": 2,
       "version_minor": 0
      },
      "text/plain": [
       "Downloading artifacts:   0%|          | 0/1 [00:00<?, ?it/s]"
      ]
     },
     "metadata": {},
     "output_type": "display_data"
    },
    {
     "data": {
      "application/vnd.jupyter.widget-view+json": {
       "model_id": "f430af8169f440a7bde90f800dc8b65f",
       "version_major": 2,
       "version_minor": 0
      },
      "text/plain": [
       "Downloading artifacts:   0%|          | 0/1 [00:00<?, ?it/s]"
      ]
     },
     "metadata": {},
     "output_type": "display_data"
    }
   ],
   "source": [
    "test_dummy_cv_stats = load_metrics_cv_stats_from_mlflow(dataset=\"test\", mlflow_run_id=dummy_run_id)\n",
    "train_dummy_cv_stats = load_metrics_cv_stats_from_mlflow(dataset=\"sample_train_pure\", mlflow_run_id=dummy_run_id)"
   ]
  },
  {
   "cell_type": "code",
   "execution_count": 30,
   "id": "a3e15d1f-0a22-4e0c-b47a-d635de694d9a",
   "metadata": {},
   "outputs": [
    {
     "data": {
      "text/html": [
       "<pre style=\"white-space:pre;overflow-x:auto;line-height:normal;font-family:Menlo,'DejaVu Sans Mono',consolas,'Courier New',monospace\"></pre>\n"
      ],
      "text/plain": []
     },
     "metadata": {},
     "output_type": "display_data"
    },
    {
     "data": {
      "text/html": [
       "<div>\n",
       "<style scoped>\n",
       "    .dataframe tbody tr th:only-of-type {\n",
       "        vertical-align: middle;\n",
       "    }\n",
       "\n",
       "    .dataframe tbody tr th {\n",
       "        vertical-align: top;\n",
       "    }\n",
       "\n",
       "    .dataframe thead th {\n",
       "        text-align: right;\n",
       "    }\n",
       "</style>\n",
       "<table border=\"1\" class=\"dataframe\">\n",
       "  <thead>\n",
       "    <tr style=\"text-align: right;\">\n",
       "      <th></th>\n",
       "      <th>cv_mean</th>\n",
       "      <th>cv_std</th>\n",
       "    </tr>\n",
       "    <tr>\n",
       "      <th>metric</th>\n",
       "      <th></th>\n",
       "      <th></th>\n",
       "    </tr>\n",
       "  </thead>\n",
       "  <tbody>\n",
       "    <tr>\n",
       "      <th>test_nwMGD</th>\n",
       "      <td>1.493</td>\n",
       "      <td>0.046</td>\n",
       "    </tr>\n",
       "    <tr>\n",
       "      <th>test_nwMAE</th>\n",
       "      <td>43.077</td>\n",
       "      <td>0.583</td>\n",
       "    </tr>\n",
       "    <tr>\n",
       "      <th>test_nwRMSE</th>\n",
       "      <td>9022.634</td>\n",
       "      <td>678.876</td>\n",
       "    </tr>\n",
       "    <tr>\n",
       "      <th>test_nwR2</th>\n",
       "      <td>-0.000</td>\n",
       "      <td>0.000</td>\n",
       "    </tr>\n",
       "    <tr>\n",
       "      <th>test_nwMBD</th>\n",
       "      <td>-1.502</td>\n",
       "      <td>50.147</td>\n",
       "    </tr>\n",
       "    <tr>\n",
       "      <th>test_nwSC</th>\n",
       "      <td>-0.000</td>\n",
       "      <td>0.000</td>\n",
       "    </tr>\n",
       "    <tr>\n",
       "      <th>test_nwABC</th>\n",
       "      <td>0.000</td>\n",
       "      <td>0.000</td>\n",
       "    </tr>\n",
       "    <tr>\n",
       "      <th>test_nwCCI</th>\n",
       "      <td>0.024</td>\n",
       "      <td>0.008</td>\n",
       "    </tr>\n",
       "    <tr>\n",
       "      <th>test_nwCOI</th>\n",
       "      <td>0.017</td>\n",
       "      <td>0.010</td>\n",
       "    </tr>\n",
       "    <tr>\n",
       "      <th>test_nwCUI</th>\n",
       "      <td>0.006</td>\n",
       "      <td>0.007</td>\n",
       "    </tr>\n",
       "    <tr>\n",
       "      <th>test_nwLCGI</th>\n",
       "      <td>0.000</td>\n",
       "      <td>0.000</td>\n",
       "    </tr>\n",
       "    <tr>\n",
       "      <th>test_nwCCGI</th>\n",
       "      <td>0.000</td>\n",
       "      <td>0.000</td>\n",
       "    </tr>\n",
       "    <tr>\n",
       "      <th>test_nwNCCGI</th>\n",
       "      <td>0.000</td>\n",
       "      <td>0.000</td>\n",
       "    </tr>\n",
       "  </tbody>\n",
       "</table>\n",
       "</div>"
      ],
      "text/plain": [
       "\n",
       "               cv_mean   cv_std\n",
       "metric                         \n",
       "test_nwMGD       \u001b[1;36m1.493\u001b[0m    \u001b[1;36m0.046\u001b[0m\n",
       "test_nwMAE      \u001b[1;36m43.077\u001b[0m    \u001b[1;36m0.583\u001b[0m\n",
       "test_nwRMSE   \u001b[1;36m9022.634\u001b[0m  \u001b[1;36m678.876\u001b[0m\n",
       "test_nwR2       \u001b[1;36m-0.000\u001b[0m    \u001b[1;36m0.000\u001b[0m\n",
       "test_nwMBD      \u001b[1;36m-1.502\u001b[0m   \u001b[1;36m50.147\u001b[0m\n",
       "test_nwSC       \u001b[1;36m-0.000\u001b[0m    \u001b[1;36m0.000\u001b[0m\n",
       "test_nwABC       \u001b[1;36m0.000\u001b[0m    \u001b[1;36m0.000\u001b[0m\n",
       "test_nwCCI       \u001b[1;36m0.024\u001b[0m    \u001b[1;36m0.008\u001b[0m\n",
       "test_nwCOI       \u001b[1;36m0.017\u001b[0m    \u001b[1;36m0.010\u001b[0m\n",
       "test_nwCUI       \u001b[1;36m0.006\u001b[0m    \u001b[1;36m0.007\u001b[0m\n",
       "test_nwLCGI      \u001b[1;36m0.000\u001b[0m    \u001b[1;36m0.000\u001b[0m\n",
       "test_nwCCGI      \u001b[1;36m0.000\u001b[0m    \u001b[1;36m0.000\u001b[0m\n",
       "test_nwNCCGI     \u001b[1;36m0.000\u001b[0m    \u001b[1;36m0.000\u001b[0m"
      ]
     },
     "execution_count": 30,
     "metadata": {},
     "output_type": "execute_result"
    }
   ],
   "source": [
    "test_dummy_cv_stats.round(3)"
   ]
  },
  {
   "cell_type": "code",
   "execution_count": 33,
   "id": "5460eef4-4a04-45c8-885b-a08839b3fae3",
   "metadata": {},
   "outputs": [
    {
     "data": {
      "text/html": [
       "<pre style=\"white-space:pre;overflow-x:auto;line-height:normal;font-family:Menlo,'DejaVu Sans Mono',consolas,'Courier New',monospace\"></pre>\n"
      ],
      "text/plain": []
     },
     "metadata": {},
     "output_type": "display_data"
    },
    {
     "data": {
      "text/html": [
       "<div>\n",
       "<style scoped>\n",
       "    .dataframe tbody tr th:only-of-type {\n",
       "        vertical-align: middle;\n",
       "    }\n",
       "\n",
       "    .dataframe tbody tr th {\n",
       "        vertical-align: top;\n",
       "    }\n",
       "\n",
       "    .dataframe thead th {\n",
       "        text-align: right;\n",
       "    }\n",
       "</style>\n",
       "<table border=\"1\" class=\"dataframe\">\n",
       "  <thead>\n",
       "    <tr style=\"text-align: right;\">\n",
       "      <th></th>\n",
       "      <th>cv_mean</th>\n",
       "      <th>cv_std</th>\n",
       "    </tr>\n",
       "    <tr>\n",
       "      <th>metric</th>\n",
       "      <th></th>\n",
       "      <th></th>\n",
       "    </tr>\n",
       "  </thead>\n",
       "  <tbody>\n",
       "    <tr>\n",
       "      <th>sample_train_pure_nwMGD</th>\n",
       "      <td>1.495</td>\n",
       "      <td>0.007</td>\n",
       "    </tr>\n",
       "    <tr>\n",
       "      <th>sample_train_pure_nwMAE</th>\n",
       "      <td>43.103</td>\n",
       "      <td>0.161</td>\n",
       "    </tr>\n",
       "    <tr>\n",
       "      <th>sample_train_pure_nwRMSE</th>\n",
       "      <td>9001.243</td>\n",
       "      <td>218.032</td>\n",
       "    </tr>\n",
       "    <tr>\n",
       "      <th>sample_train_pure_nwR2</th>\n",
       "      <td>0.000</td>\n",
       "      <td>0.000</td>\n",
       "    </tr>\n",
       "    <tr>\n",
       "      <th>sample_train_pure_nwMBD</th>\n",
       "      <td>0.000</td>\n",
       "      <td>0.000</td>\n",
       "    </tr>\n",
       "    <tr>\n",
       "      <th>sample_train_pure_nwSC</th>\n",
       "      <td>-0.000</td>\n",
       "      <td>0.000</td>\n",
       "    </tr>\n",
       "    <tr>\n",
       "      <th>sample_train_pure_nwABC</th>\n",
       "      <td>0.000</td>\n",
       "      <td>0.000</td>\n",
       "    </tr>\n",
       "    <tr>\n",
       "      <th>sample_train_pure_nwCCI</th>\n",
       "      <td>0.016</td>\n",
       "      <td>0.002</td>\n",
       "    </tr>\n",
       "    <tr>\n",
       "      <th>sample_train_pure_nwCOI</th>\n",
       "      <td>0.012</td>\n",
       "      <td>0.004</td>\n",
       "    </tr>\n",
       "    <tr>\n",
       "      <th>sample_train_pure_nwCUI</th>\n",
       "      <td>0.005</td>\n",
       "      <td>0.004</td>\n",
       "    </tr>\n",
       "    <tr>\n",
       "      <th>sample_train_pure_nwLCGI</th>\n",
       "      <td>0.000</td>\n",
       "      <td>0.000</td>\n",
       "    </tr>\n",
       "    <tr>\n",
       "      <th>sample_train_pure_nwCCGI</th>\n",
       "      <td>0.000</td>\n",
       "      <td>0.000</td>\n",
       "    </tr>\n",
       "    <tr>\n",
       "      <th>sample_train_pure_nwNCCGI</th>\n",
       "      <td>0.000</td>\n",
       "      <td>0.000</td>\n",
       "    </tr>\n",
       "  </tbody>\n",
       "</table>\n",
       "</div>"
      ],
      "text/plain": [
       "\n",
       "                            cv_mean   cv_std\n",
       "metric                                      \n",
       "sample_train_pure_nwMGD       \u001b[1;36m1.495\u001b[0m    \u001b[1;36m0.007\u001b[0m\n",
       "sample_train_pure_nwMAE      \u001b[1;36m43.103\u001b[0m    \u001b[1;36m0.161\u001b[0m\n",
       "sample_train_pure_nwRMSE   \u001b[1;36m9001.243\u001b[0m  \u001b[1;36m218.032\u001b[0m\n",
       "sample_train_pure_nwR2        \u001b[1;36m0.000\u001b[0m    \u001b[1;36m0.000\u001b[0m\n",
       "sample_train_pure_nwMBD       \u001b[1;36m0.000\u001b[0m    \u001b[1;36m0.000\u001b[0m\n",
       "sample_train_pure_nwSC       \u001b[1;36m-0.000\u001b[0m    \u001b[1;36m0.000\u001b[0m\n",
       "sample_train_pure_nwABC       \u001b[1;36m0.000\u001b[0m    \u001b[1;36m0.000\u001b[0m\n",
       "sample_train_pure_nwCCI       \u001b[1;36m0.016\u001b[0m    \u001b[1;36m0.002\u001b[0m\n",
       "sample_train_pure_nwCOI       \u001b[1;36m0.012\u001b[0m    \u001b[1;36m0.004\u001b[0m\n",
       "sample_train_pure_nwCUI       \u001b[1;36m0.005\u001b[0m    \u001b[1;36m0.004\u001b[0m\n",
       "sample_train_pure_nwLCGI      \u001b[1;36m0.000\u001b[0m    \u001b[1;36m0.000\u001b[0m\n",
       "sample_train_pure_nwCCGI      \u001b[1;36m0.000\u001b[0m    \u001b[1;36m0.000\u001b[0m\n",
       "sample_train_pure_nwNCCGI     \u001b[1;36m0.000\u001b[0m    \u001b[1;36m0.000\u001b[0m"
      ]
     },
     "execution_count": 33,
     "metadata": {},
     "output_type": "execute_result"
    }
   ],
   "source": [
    "train_dummy_cv_stats.round(3)"
   ]
  },
  {
   "cell_type": "markdown",
   "id": "2ffc1c42-21c7-4f12-b7fd-fe1ee83b036e",
   "metadata": {},
   "source": [
    "## Statsmodels GLM"
   ]
  },
  {
   "cell_type": "markdown",
   "id": "b33c7515-4f34-4a6d-9780-3cd1d17844e5",
   "metadata": {},
   "source": [
    "### Wuthrich baseline"
   ]
  },
  {
   "cell_type": "code",
   "execution_count": 37,
   "id": "3ec56351-58dc-4314-9b9a-d4859ffd4ef7",
   "metadata": {},
   "outputs": [
    {
     "data": {
      "text/html": [
       "<pre style=\"white-space:pre;overflow-x:auto;line-height:normal;font-family:Menlo,'DejaVu Sans Mono',consolas,'Courier New',monospace\"><span style=\"color: #7fbfbf; text-decoration-color: #7fbfbf\">[05/30/25 19:45:09] </span><span style=\"color: #000080; text-decoration-color: #000080\">INFO    </span> <span style=\"color: #626262; text-decoration-color: #626262\">            experiment.py:L185     </span> MLflow Run ID for sev_002_statsmodels_glm_de, Run \n",
       "<span style=\"color: #7fbfbf; text-decoration-color: #7fbfbf\">                    </span>         wuthrich_baseline: 44f7611ffc4247c8b492ba700d2dc7d8                                   \n",
       "</pre>\n"
      ],
      "text/plain": [
       "\u001b[2;36m[05/30/25 19:45:09]\u001b[0m\u001b[2;36m \u001b[0m\u001b[34mINFO    \u001b[0m \u001b[38;5;241m            experiment.py:L185     \u001b[0m MLflow Run ID for sev_002_statsmodels_glm_de, Run \n",
       "\u001b[2;36m                    \u001b[0m         wuthrich_baseline: 44f7611ffc4247c8b492ba700d2dc7d8                                   \n"
      ]
     },
     "metadata": {},
     "output_type": "display_data"
    },
    {
     "data": {
      "application/vnd.jupyter.widget-view+json": {
       "model_id": "94a3ecde7b3c45f191c94f78fd2b4466",
       "version_major": 2,
       "version_minor": 0
      },
      "text/plain": [
       "Downloading artifacts:   0%|          | 0/1 [00:00<?, ?it/s]"
      ]
     },
     "metadata": {},
     "output_type": "display_data"
    },
    {
     "data": {
      "application/vnd.jupyter.widget-view+json": {
       "model_id": "49c740493850415bb1e16f1d148b4387",
       "version_major": 2,
       "version_minor": 0
      },
      "text/plain": [
       "Downloading artifacts:   0%|          | 0/1 [00:00<?, ?it/s]"
      ]
     },
     "metadata": {},
     "output_type": "display_data"
    }
   ],
   "source": [
    "glm_de_exp_name = \"sev_002_statsmodels_glm_de\"\n",
    "baseline_run_name = \"wuthrich_baseline\"\n",
    "baseline_run_id = get_run_mlflow_id(glm_de_exp_name, baseline_run_name)\n",
    "test_wuthrich_cv_stats = load_metrics_cv_stats_from_mlflow(dataset=\"test\", mlflow_run_id=baseline_run_id)\n",
    "train_wuthrich_cv_stats = load_metrics_cv_stats_from_mlflow(dataset=\"sample_train_pure\", mlflow_run_id=baseline_run_id)"
   ]
  },
  {
   "cell_type": "code",
   "execution_count": 38,
   "id": "507448ce-22f5-4a6b-a90f-15d2d7c4ba6d",
   "metadata": {},
   "outputs": [
    {
     "data": {
      "text/html": [
       "<pre style=\"white-space:pre;overflow-x:auto;line-height:normal;font-family:Menlo,'DejaVu Sans Mono',consolas,'Courier New',monospace\"></pre>\n"
      ],
      "text/plain": []
     },
     "metadata": {},
     "output_type": "display_data"
    },
    {
     "data": {
      "text/html": [
       "<div>\n",
       "<style scoped>\n",
       "    .dataframe tbody tr th:only-of-type {\n",
       "        vertical-align: middle;\n",
       "    }\n",
       "\n",
       "    .dataframe tbody tr th {\n",
       "        vertical-align: top;\n",
       "    }\n",
       "\n",
       "    .dataframe thead th {\n",
       "        text-align: right;\n",
       "    }\n",
       "</style>\n",
       "<table border=\"1\" class=\"dataframe\">\n",
       "  <thead>\n",
       "    <tr style=\"text-align: right;\">\n",
       "      <th></th>\n",
       "      <th>cv_mean</th>\n",
       "      <th>cv_std</th>\n",
       "    </tr>\n",
       "    <tr>\n",
       "      <th>metric</th>\n",
       "      <th></th>\n",
       "      <th></th>\n",
       "    </tr>\n",
       "  </thead>\n",
       "  <tbody>\n",
       "    <tr>\n",
       "      <th>test_nwMGD</th>\n",
       "      <td>188.970</td>\n",
       "      <td>79.295</td>\n",
       "    </tr>\n",
       "    <tr>\n",
       "      <th>test_nwMAE</th>\n",
       "      <td>61.502</td>\n",
       "      <td>4.257</td>\n",
       "    </tr>\n",
       "    <tr>\n",
       "      <th>test_nwRMSE</th>\n",
       "      <td>35095.564</td>\n",
       "      <td>28735.109</td>\n",
       "    </tr>\n",
       "    <tr>\n",
       "      <th>test_nwR2</th>\n",
       "      <td>-23.844</td>\n",
       "      <td>41.886</td>\n",
       "    </tr>\n",
       "    <tr>\n",
       "      <th>test_nwMBD</th>\n",
       "      <td>-1732.854</td>\n",
       "      <td>560.853</td>\n",
       "    </tr>\n",
       "    <tr>\n",
       "      <th>test_nwSC</th>\n",
       "      <td>-0.001</td>\n",
       "      <td>0.015</td>\n",
       "    </tr>\n",
       "    <tr>\n",
       "      <th>test_nwABC</th>\n",
       "      <td>0.319</td>\n",
       "      <td>0.028</td>\n",
       "    </tr>\n",
       "    <tr>\n",
       "      <th>test_nwCCI</th>\n",
       "      <td>0.320</td>\n",
       "      <td>0.024</td>\n",
       "    </tr>\n",
       "    <tr>\n",
       "      <th>test_nwCOI</th>\n",
       "      <td>0.000</td>\n",
       "      <td>0.000</td>\n",
       "    </tr>\n",
       "    <tr>\n",
       "      <th>test_nwCUI</th>\n",
       "      <td>0.320</td>\n",
       "      <td>0.024</td>\n",
       "    </tr>\n",
       "    <tr>\n",
       "      <th>test_nwLCGI</th>\n",
       "      <td>0.648</td>\n",
       "      <td>0.043</td>\n",
       "    </tr>\n",
       "    <tr>\n",
       "      <th>test_nwCCGI</th>\n",
       "      <td>0.010</td>\n",
       "      <td>0.030</td>\n",
       "    </tr>\n",
       "    <tr>\n",
       "      <th>test_nwNCCGI</th>\n",
       "      <td>0.018</td>\n",
       "      <td>0.050</td>\n",
       "    </tr>\n",
       "  </tbody>\n",
       "</table>\n",
       "</div>"
      ],
      "text/plain": [
       "\n",
       "                cv_mean     cv_std\n",
       "metric                            \n",
       "test_nwMGD      \u001b[1;36m188.970\u001b[0m     \u001b[1;36m79.295\u001b[0m\n",
       "test_nwMAE       \u001b[1;36m61.502\u001b[0m      \u001b[1;36m4.257\u001b[0m\n",
       "test_nwRMSE   \u001b[1;36m35095.564\u001b[0m  \u001b[1;36m28735.109\u001b[0m\n",
       "test_nwR2       \u001b[1;36m-23.844\u001b[0m     \u001b[1;36m41.886\u001b[0m\n",
       "test_nwMBD    \u001b[1;36m-1732.854\u001b[0m    \u001b[1;36m560.853\u001b[0m\n",
       "test_nwSC        \u001b[1;36m-0.001\u001b[0m      \u001b[1;36m0.015\u001b[0m\n",
       "test_nwABC        \u001b[1;36m0.319\u001b[0m      \u001b[1;36m0.028\u001b[0m\n",
       "test_nwCCI        \u001b[1;36m0.320\u001b[0m      \u001b[1;36m0.024\u001b[0m\n",
       "test_nwCOI        \u001b[1;36m0.000\u001b[0m      \u001b[1;36m0.000\u001b[0m\n",
       "test_nwCUI        \u001b[1;36m0.320\u001b[0m      \u001b[1;36m0.024\u001b[0m\n",
       "test_nwLCGI       \u001b[1;36m0.648\u001b[0m      \u001b[1;36m0.043\u001b[0m\n",
       "test_nwCCGI       \u001b[1;36m0.010\u001b[0m      \u001b[1;36m0.030\u001b[0m\n",
       "test_nwNCCGI      \u001b[1;36m0.018\u001b[0m      \u001b[1;36m0.050\u001b[0m"
      ]
     },
     "execution_count": 38,
     "metadata": {},
     "output_type": "execute_result"
    }
   ],
   "source": [
    "test_wuthrich_cv_stats.round(3)"
   ]
  },
  {
   "cell_type": "code",
   "execution_count": 39,
   "id": "9fcd0951-6279-4142-8f34-76e39d4a231e",
   "metadata": {},
   "outputs": [
    {
     "data": {
      "text/html": [
       "<pre style=\"white-space:pre;overflow-x:auto;line-height:normal;font-family:Menlo,'DejaVu Sans Mono',consolas,'Courier New',monospace\"></pre>\n"
      ],
      "text/plain": []
     },
     "metadata": {},
     "output_type": "display_data"
    },
    {
     "data": {
      "text/html": [
       "<div>\n",
       "<style scoped>\n",
       "    .dataframe tbody tr th:only-of-type {\n",
       "        vertical-align: middle;\n",
       "    }\n",
       "\n",
       "    .dataframe tbody tr th {\n",
       "        vertical-align: top;\n",
       "    }\n",
       "\n",
       "    .dataframe thead th {\n",
       "        text-align: right;\n",
       "    }\n",
       "</style>\n",
       "<table border=\"1\" class=\"dataframe\">\n",
       "  <thead>\n",
       "    <tr style=\"text-align: right;\">\n",
       "      <th></th>\n",
       "      <th>cv_mean</th>\n",
       "      <th>cv_std</th>\n",
       "    </tr>\n",
       "    <tr>\n",
       "      <th>metric</th>\n",
       "      <th></th>\n",
       "      <th></th>\n",
       "    </tr>\n",
       "  </thead>\n",
       "  <tbody>\n",
       "    <tr>\n",
       "      <th>sample_train_pure_nwMGD</th>\n",
       "      <td>209.050</td>\n",
       "      <td>66.377</td>\n",
       "    </tr>\n",
       "    <tr>\n",
       "      <th>sample_train_pure_nwMAE</th>\n",
       "      <td>61.844</td>\n",
       "      <td>11.877</td>\n",
       "    </tr>\n",
       "    <tr>\n",
       "      <th>sample_train_pure_nwRMSE</th>\n",
       "      <td>71853.379</td>\n",
       "      <td>122585.145</td>\n",
       "    </tr>\n",
       "    <tr>\n",
       "      <th>sample_train_pure_nwR2</th>\n",
       "      <td>-209.522</td>\n",
       "      <td>462.541</td>\n",
       "    </tr>\n",
       "    <tr>\n",
       "      <th>sample_train_pure_nwMBD</th>\n",
       "      <td>-1972.623</td>\n",
       "      <td>1649.688</td>\n",
       "    </tr>\n",
       "    <tr>\n",
       "      <th>sample_train_pure_nwSC</th>\n",
       "      <td>0.011</td>\n",
       "      <td>0.010</td>\n",
       "    </tr>\n",
       "    <tr>\n",
       "      <th>sample_train_pure_nwABC</th>\n",
       "      <td>0.247</td>\n",
       "      <td>0.045</td>\n",
       "    </tr>\n",
       "    <tr>\n",
       "      <th>sample_train_pure_nwCCI</th>\n",
       "      <td>0.263</td>\n",
       "      <td>0.064</td>\n",
       "    </tr>\n",
       "    <tr>\n",
       "      <th>sample_train_pure_nwCOI</th>\n",
       "      <td>0.000</td>\n",
       "      <td>0.000</td>\n",
       "    </tr>\n",
       "    <tr>\n",
       "      <th>sample_train_pure_nwCUI</th>\n",
       "      <td>0.263</td>\n",
       "      <td>0.064</td>\n",
       "    </tr>\n",
       "    <tr>\n",
       "      <th>sample_train_pure_nwLCGI</th>\n",
       "      <td>0.640</td>\n",
       "      <td>0.105</td>\n",
       "    </tr>\n",
       "    <tr>\n",
       "      <th>sample_train_pure_nwCCGI</th>\n",
       "      <td>0.145</td>\n",
       "      <td>0.024</td>\n",
       "    </tr>\n",
       "    <tr>\n",
       "      <th>sample_train_pure_nwNCCGI</th>\n",
       "      <td>0.244</td>\n",
       "      <td>0.039</td>\n",
       "    </tr>\n",
       "  </tbody>\n",
       "</table>\n",
       "</div>"
      ],
      "text/plain": [
       "\n",
       "                             cv_mean      cv_std\n",
       "metric                                          \n",
       "sample_train_pure_nwMGD      \u001b[1;36m209.050\u001b[0m      \u001b[1;36m66.377\u001b[0m\n",
       "sample_train_pure_nwMAE       \u001b[1;36m61.844\u001b[0m      \u001b[1;36m11.877\u001b[0m\n",
       "sample_train_pure_nwRMSE   \u001b[1;36m71853.379\u001b[0m  \u001b[1;36m122585.145\u001b[0m\n",
       "sample_train_pure_nwR2      \u001b[1;36m-209.522\u001b[0m     \u001b[1;36m462.541\u001b[0m\n",
       "sample_train_pure_nwMBD    \u001b[1;36m-1972.623\u001b[0m    \u001b[1;36m1649.688\u001b[0m\n",
       "sample_train_pure_nwSC         \u001b[1;36m0.011\u001b[0m       \u001b[1;36m0.010\u001b[0m\n",
       "sample_train_pure_nwABC        \u001b[1;36m0.247\u001b[0m       \u001b[1;36m0.045\u001b[0m\n",
       "sample_train_pure_nwCCI        \u001b[1;36m0.263\u001b[0m       \u001b[1;36m0.064\u001b[0m\n",
       "sample_train_pure_nwCOI        \u001b[1;36m0.000\u001b[0m       \u001b[1;36m0.000\u001b[0m\n",
       "sample_train_pure_nwCUI        \u001b[1;36m0.263\u001b[0m       \u001b[1;36m0.064\u001b[0m\n",
       "sample_train_pure_nwLCGI       \u001b[1;36m0.640\u001b[0m       \u001b[1;36m0.105\u001b[0m\n",
       "sample_train_pure_nwCCGI       \u001b[1;36m0.145\u001b[0m       \u001b[1;36m0.024\u001b[0m\n",
       "sample_train_pure_nwNCCGI      \u001b[1;36m0.244\u001b[0m       \u001b[1;36m0.039\u001b[0m"
      ]
     },
     "execution_count": 39,
     "metadata": {},
     "output_type": "execute_result"
    }
   ],
   "source": [
    "train_wuthrich_cv_stats.round(3)"
   ]
  },
  {
   "cell_type": "code",
   "execution_count": 48,
   "id": "de6e1cdc-3328-4549-827b-344725b408bc",
   "metadata": {
    "scrolled": true
   },
   "outputs": [
    {
     "data": {
      "text/html": [
       "<pre style=\"white-space:pre;overflow-x:auto;line-height:normal;font-family:Menlo,'DejaVu Sans Mono',consolas,'Courier New',monospace\"><span style=\"color: #7fbfbf; text-decoration-color: #7fbfbf\">[05/30/25 23:20:17] </span><span style=\"color: #000080; text-decoration-color: #000080\">INFO    </span> <span style=\"color: #626262; text-decoration-color: #626262\">            experiment.py:L188     </span> MLflow run ID file                                \n",
       "<span style=\"color: #7fbfbf; text-decoration-color: #7fbfbf\">                    </span>         experiments/sev_002_statsmodels_glm_de/runs/wuthrich_standard_scaler_mean             \n",
       "<span style=\"color: #7fbfbf; text-decoration-color: #7fbfbf\">                    </span>         <span style=\"color: #800080; text-decoration-color: #800080\">/</span><span style=\"color: #ff00ff; text-decoration-color: #ff00ff\">mlflow_run_id.txt</span> not found.                                                         \n",
       "</pre>\n"
      ],
      "text/plain": [
       "\u001b[2;36m[05/30/25 23:20:17]\u001b[0m\u001b[2;36m \u001b[0m\u001b[34mINFO    \u001b[0m \u001b[38;5;241m            experiment.py:L188     \u001b[0m MLflow run ID file                                \n",
       "\u001b[2;36m                    \u001b[0m         experiments/sev_002_statsmodels_glm_de/runs/wuthrich_standard_scaler_mean             \n",
       "\u001b[2;36m                    \u001b[0m         \u001b[35m/\u001b[0m\u001b[95mmlflow_run_id.txt\u001b[0m not found.                                                         \n"
      ]
     },
     "metadata": {},
     "output_type": "display_data"
    },
    {
     "data": {
      "application/vnd.jupyter.widget-view+json": {
       "model_id": "19e91063be0b492c9332717af44e63bc",
       "version_major": 2,
       "version_minor": 0
      },
      "text/plain": [
       "Downloading artifacts:   0%|          | 0/1 [00:00<?, ?it/s]"
      ]
     },
     "metadata": {},
     "output_type": "display_data"
    },
    {
     "data": {
      "text/html": [
       "<pre style=\"white-space:pre;overflow-x:auto;line-height:normal;font-family:Menlo,'DejaVu Sans Mono',consolas,'Courier New',monospace\"><span style=\"color: #800000; text-decoration-color: #800000\">╭─────────────────────────────── </span><span style=\"color: #800000; text-decoration-color: #800000; font-weight: bold\">Traceback </span><span style=\"color: #bf7f7f; text-decoration-color: #bf7f7f; font-weight: bold\">(most recent call last)</span><span style=\"color: #800000; text-decoration-color: #800000\"> ────────────────────────────────╮</span>\n",
       "<span style=\"color: #800000; text-decoration-color: #800000\">│</span> in <span style=\"color: #00ff00; text-decoration-color: #00ff00\">&lt;module&gt;</span>:<span style=\"color: #0000ff; text-decoration-color: #0000ff\">4</span>                                                                                    <span style=\"color: #800000; text-decoration-color: #800000\">│</span>\n",
       "<span style=\"color: #800000; text-decoration-color: #800000\">│</span>                                                                                                  <span style=\"color: #800000; text-decoration-color: #800000\">│</span>\n",
       "<span style=\"color: #800000; text-decoration-color: #800000\">│</span>   <span style=\"color: #7f7f7f; text-decoration-color: #7f7f7f\">1 </span>glm_de_exp_name = <span style=\"color: #808000; text-decoration-color: #808000\">\"sev_002_statsmodels_glm_de\"</span>                                               <span style=\"color: #800000; text-decoration-color: #800000\">│</span>\n",
       "<span style=\"color: #800000; text-decoration-color: #800000\">│</span>   <span style=\"color: #7f7f7f; text-decoration-color: #7f7f7f\">2 </span>run_name = <span style=\"color: #808000; text-decoration-color: #808000\">\"wuthrich_standard_scaler_mean \"</span>                                                  <span style=\"color: #800000; text-decoration-color: #800000\">│</span>\n",
       "<span style=\"color: #800000; text-decoration-color: #800000\">│</span>   <span style=\"color: #7f7f7f; text-decoration-color: #7f7f7f\">3 </span>run_id = get_run_mlflow_id(glm_de_exp_name, run_name)                                        <span style=\"color: #800000; text-decoration-color: #800000\">│</span>\n",
       "<span style=\"color: #800000; text-decoration-color: #800000\">│</span> <span style=\"color: #800000; text-decoration-color: #800000\">❱ </span>4 test_cv_stats = load_metrics_cv_stats_from_mlflow(dataset=<span style=\"color: #808000; text-decoration-color: #808000\">\"test\"</span>, mlflow_run_id=run_id)      <span style=\"color: #800000; text-decoration-color: #800000\">│</span>\n",
       "<span style=\"color: #800000; text-decoration-color: #800000\">│</span>   <span style=\"color: #7f7f7f; text-decoration-color: #7f7f7f\">5 </span>train_cv_stats = load_metrics_cv_stats_from_mlflow(dataset=<span style=\"color: #808000; text-decoration-color: #808000\">\"sample_train_pure\"</span>, mlflow_r     <span style=\"color: #800000; text-decoration-color: #800000\">│</span>\n",
       "<span style=\"color: #800000; text-decoration-color: #800000\">│</span>   <span style=\"color: #7f7f7f; text-decoration-color: #7f7f7f\">6 </span>                                                                                             <span style=\"color: #800000; text-decoration-color: #800000\">│</span>\n",
       "<span style=\"color: #800000; text-decoration-color: #800000\">│</span>                                                                                                  <span style=\"color: #800000; text-decoration-color: #800000\">│</span>\n",
       "<span style=\"color: #800000; text-decoration-color: #800000\">│</span> <span style=\"color: #bfbf7f; text-decoration-color: #bfbf7f\">/home/krzysiek/Development/claim-modelling-kedro/claim_modelling_kedro/src/claim_modelling_kedro</span> <span style=\"color: #800000; text-decoration-color: #800000\">│</span>\n",
       "<span style=\"color: #800000; text-decoration-color: #800000\">│</span> <span style=\"color: #bfbf7f; text-decoration-color: #bfbf7f\">/pipelines/utils/</span><span style=\"color: #808000; text-decoration-color: #808000; font-weight: bold\">dataframes.py</span>:<span style=\"color: #0000ff; text-decoration-color: #0000ff\">192</span> in <span style=\"color: #00ff00; text-decoration-color: #00ff00\">load_metrics_cv_stats_from_mlflow</span>                          <span style=\"color: #800000; text-decoration-color: #800000\">│</span>\n",
       "<span style=\"color: #800000; text-decoration-color: #800000\">│</span>                                                                                                  <span style=\"color: #800000; text-decoration-color: #800000\">│</span>\n",
       "<span style=\"color: #800000; text-decoration-color: #800000\">│</span>   <span style=\"color: #7f7f7f; text-decoration-color: #7f7f7f\">189 </span>                                                                                           <span style=\"color: #800000; text-decoration-color: #800000\">│</span>\n",
       "<span style=\"color: #800000; text-decoration-color: #800000\">│</span>   <span style=\"color: #7f7f7f; text-decoration-color: #7f7f7f\">190 </span><span style=\"color: #0000ff; text-decoration-color: #0000ff\">def</span> <span style=\"color: #00ff00; text-decoration-color: #00ff00\">load_metrics_cv_stats_from_mlflow</span>(dataset: <span style=\"color: #00ffff; text-decoration-color: #00ffff\">str</span>, prefix: <span style=\"color: #00ffff; text-decoration-color: #00ffff\">str</span> = <span style=\"color: #0000ff; text-decoration-color: #0000ff\">None</span>, mlflow_run_id: <span style=\"color: #00ffff; text-decoration-color: #00ffff\">s</span>   <span style=\"color: #800000; text-decoration-color: #800000\">│</span>\n",
       "<span style=\"color: #800000; text-decoration-color: #800000\">│</span>   <span style=\"color: #7f7f7f; text-decoration-color: #7f7f7f\">191 </span><span style=\"color: #7f7f7f; text-decoration-color: #7f7f7f\">│   </span>filename, artifact_path = get_metrics_cv_stats_filname_and_artifact_path(dataset, pr   <span style=\"color: #800000; text-decoration-color: #800000\">│</span>\n",
       "<span style=\"color: #800000; text-decoration-color: #800000\">│</span> <span style=\"color: #800000; text-decoration-color: #800000\">❱ </span>192 <span style=\"color: #7f7f7f; text-decoration-color: #7f7f7f\">│   </span>metrics_cv_stats_df = load_pd_dataframe_csv_from_mlflow(artifact_path, filename, mlf   <span style=\"color: #800000; text-decoration-color: #800000\">│</span>\n",
       "<span style=\"color: #800000; text-decoration-color: #800000\">│</span>   <span style=\"color: #7f7f7f; text-decoration-color: #7f7f7f\">193 </span><span style=\"color: #7f7f7f; text-decoration-color: #7f7f7f\">│   </span><span style=\"color: #0000ff; text-decoration-color: #0000ff\">return</span> metrics_cv_stats_df                                                             <span style=\"color: #800000; text-decoration-color: #800000\">│</span>\n",
       "<span style=\"color: #800000; text-decoration-color: #800000\">│</span>   <span style=\"color: #7f7f7f; text-decoration-color: #7f7f7f\">194 </span>                                                                                           <span style=\"color: #800000; text-decoration-color: #800000\">│</span>\n",
       "<span style=\"color: #800000; text-decoration-color: #800000\">│</span>                                                                                                  <span style=\"color: #800000; text-decoration-color: #800000\">│</span>\n",
       "<span style=\"color: #800000; text-decoration-color: #800000\">│</span> <span style=\"color: #bfbf7f; text-decoration-color: #bfbf7f\">/home/krzysiek/Development/claim-modelling-kedro/claim_modelling_kedro/src/claim_modelling_kedro</span> <span style=\"color: #800000; text-decoration-color: #800000\">│</span>\n",
       "<span style=\"color: #800000; text-decoration-color: #800000\">│</span> <span style=\"color: #bfbf7f; text-decoration-color: #bfbf7f\">/pipelines/utils/</span><span style=\"color: #808000; text-decoration-color: #808000; font-weight: bold\">dataframes.py</span>:<span style=\"color: #0000ff; text-decoration-color: #0000ff\">149</span> in <span style=\"color: #00ff00; text-decoration-color: #00ff00\">load_pd_dataframe_csv_from_mlflow</span>                          <span style=\"color: #800000; text-decoration-color: #800000\">│</span>\n",
       "<span style=\"color: #800000; text-decoration-color: #800000\">│</span>                                                                                                  <span style=\"color: #800000; text-decoration-color: #800000\">│</span>\n",
       "<span style=\"color: #800000; text-decoration-color: #800000\">│</span>   <span style=\"color: #7f7f7f; text-decoration-color: #7f7f7f\">146 </span><span style=\"color: #7f7f7f; text-decoration-color: #7f7f7f\">│   </span><span style=\"color: #0000ff; text-decoration-color: #0000ff\">with</span> tempfile.TemporaryDirectory() <span style=\"color: #0000ff; text-decoration-color: #0000ff\">as</span> temp_dir:                                        <span style=\"color: #800000; text-decoration-color: #800000\">│</span>\n",
       "<span style=\"color: #800000; text-decoration-color: #800000\">│</span>   <span style=\"color: #7f7f7f; text-decoration-color: #7f7f7f\">147 </span><span style=\"color: #7f7f7f; text-decoration-color: #7f7f7f\">│   │   </span>artifact_path = <span style=\"color: #808000; text-decoration-color: #808000\">f\"{</span>artifact_path<span style=\"color: #808000; text-decoration-color: #808000\">}/{</span>filename<span style=\"color: #808000; text-decoration-color: #808000\">}\"</span> <span style=\"color: #0000ff; text-decoration-color: #0000ff\">if</span> filename <span style=\"color: #ff00ff; text-decoration-color: #ff00ff\">is</span> <span style=\"color: #ff00ff; text-decoration-color: #ff00ff\">not</span> <span style=\"color: #0000ff; text-decoration-color: #0000ff\">None</span> <span style=\"color: #0000ff; text-decoration-color: #0000ff\">else</span> artif   <span style=\"color: #800000; text-decoration-color: #800000\">│</span>\n",
       "<span style=\"color: #800000; text-decoration-color: #800000\">│</span>   <span style=\"color: #7f7f7f; text-decoration-color: #7f7f7f\">148 </span><span style=\"color: #7f7f7f; text-decoration-color: #7f7f7f\">│   │   </span>artifact_uri = <span style=\"color: #808000; text-decoration-color: #808000\">f\"runs:/{</span>mlflow_run_id<span style=\"color: #808000; text-decoration-color: #808000\">}/{</span>artifact_path<span style=\"color: #808000; text-decoration-color: #808000\">}\"</span>                            <span style=\"color: #800000; text-decoration-color: #800000\">│</span>\n",
       "<span style=\"color: #800000; text-decoration-color: #800000\">│</span> <span style=\"color: #800000; text-decoration-color: #800000\">❱ </span>149 <span style=\"color: #7f7f7f; text-decoration-color: #7f7f7f\">│   │   </span>local_path = mlflow.tracking.artifact_utils._download_artifact_from_uri(artifact   <span style=\"color: #800000; text-decoration-color: #800000\">│</span>\n",
       "<span style=\"color: #800000; text-decoration-color: #800000\">│</span>   <span style=\"color: #7f7f7f; text-decoration-color: #7f7f7f\">150 </span><span style=\"color: #7f7f7f; text-decoration-color: #7f7f7f\">│   │   </span>df = pd.read_csv(local_path, index_col=index_col)                                  <span style=\"color: #800000; text-decoration-color: #800000\">│</span>\n",
       "<span style=\"color: #800000; text-decoration-color: #800000\">│</span>   <span style=\"color: #7f7f7f; text-decoration-color: #7f7f7f\">151 </span><span style=\"color: #7f7f7f; text-decoration-color: #7f7f7f\">│   │   </span>df.columns.name = columns_index_name                                               <span style=\"color: #800000; text-decoration-color: #800000\">│</span>\n",
       "<span style=\"color: #800000; text-decoration-color: #800000\">│</span>   <span style=\"color: #7f7f7f; text-decoration-color: #7f7f7f\">152 </span><span style=\"color: #7f7f7f; text-decoration-color: #7f7f7f\">│   │   </span><span style=\"color: #0000ff; text-decoration-color: #0000ff\">return</span> df                                                                          <span style=\"color: #800000; text-decoration-color: #800000\">│</span>\n",
       "<span style=\"color: #800000; text-decoration-color: #800000\">│</span>                                                                                                  <span style=\"color: #800000; text-decoration-color: #800000\">│</span>\n",
       "<span style=\"color: #800000; text-decoration-color: #800000\">│</span> <span style=\"color: #bfbf7f; text-decoration-color: #bfbf7f\">/home/krzysiek/Development/claim-modelling-kedro/venv/lib/python3.11/site-packages/mlflow/tracki</span> <span style=\"color: #800000; text-decoration-color: #800000\">│</span>\n",
       "<span style=\"color: #800000; text-decoration-color: #800000\">│</span> <span style=\"color: #bfbf7f; text-decoration-color: #bfbf7f\">ng/</span><span style=\"color: #808000; text-decoration-color: #808000; font-weight: bold\">artifact_utils.py</span>:<span style=\"color: #0000ff; text-decoration-color: #0000ff\">105</span> in <span style=\"color: #00ff00; text-decoration-color: #00ff00\">_download_artifact_from_uri</span>                                          <span style=\"color: #800000; text-decoration-color: #800000\">│</span>\n",
       "<span style=\"color: #800000; text-decoration-color: #800000\">│</span>                                                                                                  <span style=\"color: #800000; text-decoration-color: #800000\">│</span>\n",
       "<span style=\"color: #800000; text-decoration-color: #800000\">│</span>   <span style=\"color: #7f7f7f; text-decoration-color: #7f7f7f\">102 </span><span style=\"color: #bfbf7f; text-decoration-color: #bfbf7f\">│   │   │   </span><span style=\"color: #808000; text-decoration-color: #808000\">a local output path will be created.</span>                                           <span style=\"color: #800000; text-decoration-color: #800000\">│</span>\n",
       "<span style=\"color: #800000; text-decoration-color: #800000\">│</span>   <span style=\"color: #7f7f7f; text-decoration-color: #7f7f7f\">103 </span><span style=\"color: #bfbf7f; text-decoration-color: #bfbf7f\">│   </span><span style=\"color: #808000; text-decoration-color: #808000\">\"\"\"</span>                                                                                    <span style=\"color: #800000; text-decoration-color: #800000\">│</span>\n",
       "<span style=\"color: #800000; text-decoration-color: #800000\">│</span>   <span style=\"color: #7f7f7f; text-decoration-color: #7f7f7f\">104 </span><span style=\"color: #7f7f7f; text-decoration-color: #7f7f7f\">│   </span>root_uri, artifact_path = _get_root_uri_and_artifact_path(artifact_uri)                <span style=\"color: #800000; text-decoration-color: #800000\">│</span>\n",
       "<span style=\"color: #800000; text-decoration-color: #800000\">│</span> <span style=\"color: #800000; text-decoration-color: #800000\">❱ </span>105 <span style=\"color: #7f7f7f; text-decoration-color: #7f7f7f\">│   </span><span style=\"color: #0000ff; text-decoration-color: #0000ff\">return</span> get_artifact_repository(artifact_uri=root_uri).download_artifacts(              <span style=\"color: #800000; text-decoration-color: #800000\">│</span>\n",
       "<span style=\"color: #800000; text-decoration-color: #800000\">│</span>   <span style=\"color: #7f7f7f; text-decoration-color: #7f7f7f\">106 </span><span style=\"color: #7f7f7f; text-decoration-color: #7f7f7f\">│   │   </span>artifact_path=artifact_path, dst_path=output_path                                  <span style=\"color: #800000; text-decoration-color: #800000\">│</span>\n",
       "<span style=\"color: #800000; text-decoration-color: #800000\">│</span>   <span style=\"color: #7f7f7f; text-decoration-color: #7f7f7f\">107 </span><span style=\"color: #7f7f7f; text-decoration-color: #7f7f7f\">│   </span>)                                                                                      <span style=\"color: #800000; text-decoration-color: #800000\">│</span>\n",
       "<span style=\"color: #800000; text-decoration-color: #800000\">│</span>   <span style=\"color: #7f7f7f; text-decoration-color: #7f7f7f\">108 </span>                                                                                           <span style=\"color: #800000; text-decoration-color: #800000\">│</span>\n",
       "<span style=\"color: #800000; text-decoration-color: #800000\">│</span>                                                                                                  <span style=\"color: #800000; text-decoration-color: #800000\">│</span>\n",
       "<span style=\"color: #800000; text-decoration-color: #800000\">│</span> <span style=\"color: #bfbf7f; text-decoration-color: #bfbf7f\">/home/krzysiek/Development/claim-modelling-kedro/venv/lib/python3.11/site-packages/mlflow/store/</span> <span style=\"color: #800000; text-decoration-color: #800000\">│</span>\n",
       "<span style=\"color: #800000; text-decoration-color: #800000\">│</span> <span style=\"color: #bfbf7f; text-decoration-color: #bfbf7f\">artifact/</span><span style=\"color: #808000; text-decoration-color: #808000; font-weight: bold\">runs_artifact_repo.py</span>:<span style=\"color: #0000ff; text-decoration-color: #0000ff\">131</span> in <span style=\"color: #00ff00; text-decoration-color: #00ff00\">download_artifacts</span>                                         <span style=\"color: #800000; text-decoration-color: #800000\">│</span>\n",
       "<span style=\"color: #800000; text-decoration-color: #800000\">│</span>                                                                                                  <span style=\"color: #800000; text-decoration-color: #800000\">│</span>\n",
       "<span style=\"color: #800000; text-decoration-color: #800000\">│</span>   <span style=\"color: #7f7f7f; text-decoration-color: #7f7f7f\">128 </span><span style=\"color: #bfbf7f; text-decoration-color: #bfbf7f\">│   │   </span><span style=\"color: #808000; text-decoration-color: #808000\">Returns:</span>                                                                           <span style=\"color: #800000; text-decoration-color: #800000\">│</span>\n",
       "<span style=\"color: #800000; text-decoration-color: #800000\">│</span>   <span style=\"color: #7f7f7f; text-decoration-color: #7f7f7f\">129 </span><span style=\"color: #bfbf7f; text-decoration-color: #bfbf7f\">│   │   │   </span><span style=\"color: #808000; text-decoration-color: #808000\">Absolute path of the local filesystem location containing the desired artifa</span>   <span style=\"color: #800000; text-decoration-color: #800000\">│</span>\n",
       "<span style=\"color: #800000; text-decoration-color: #800000\">│</span>   <span style=\"color: #7f7f7f; text-decoration-color: #7f7f7f\">130 </span><span style=\"color: #bfbf7f; text-decoration-color: #bfbf7f\">│   │   </span><span style=\"color: #808000; text-decoration-color: #808000\">\"\"\"</span>                                                                                <span style=\"color: #800000; text-decoration-color: #800000\">│</span>\n",
       "<span style=\"color: #800000; text-decoration-color: #800000\">│</span> <span style=\"color: #800000; text-decoration-color: #800000\">❱ </span>131 <span style=\"color: #7f7f7f; text-decoration-color: #7f7f7f\">│   │   </span><span style=\"color: #0000ff; text-decoration-color: #0000ff\">return</span> <span style=\"color: #00ffff; text-decoration-color: #00ffff\">self</span>.repo.download_artifacts(artifact_path, dst_path)                       <span style=\"color: #800000; text-decoration-color: #800000\">│</span>\n",
       "<span style=\"color: #800000; text-decoration-color: #800000\">│</span>   <span style=\"color: #7f7f7f; text-decoration-color: #7f7f7f\">132 </span><span style=\"color: #7f7f7f; text-decoration-color: #7f7f7f\">│   </span>                                                                                       <span style=\"color: #800000; text-decoration-color: #800000\">│</span>\n",
       "<span style=\"color: #800000; text-decoration-color: #800000\">│</span>   <span style=\"color: #7f7f7f; text-decoration-color: #7f7f7f\">133 </span><span style=\"color: #7f7f7f; text-decoration-color: #7f7f7f\">│   </span><span style=\"color: #0000ff; text-decoration-color: #0000ff\">def</span> <span style=\"color: #00ff00; text-decoration-color: #00ff00\">_download_file</span>(<span style=\"color: #00ffff; text-decoration-color: #00ffff\">self</span>, remote_file_path, local_path):                                <span style=\"color: #800000; text-decoration-color: #800000\">│</span>\n",
       "<span style=\"color: #800000; text-decoration-color: #800000\">│</span>   <span style=\"color: #7f7f7f; text-decoration-color: #7f7f7f\">134 </span><span style=\"color: #bfbfbf; text-decoration-color: #bfbfbf\">│   │   </span><span style=\"color: #808000; text-decoration-color: #808000\">\"\"\"</span>                                                                                <span style=\"color: #800000; text-decoration-color: #800000\">│</span>\n",
       "<span style=\"color: #800000; text-decoration-color: #800000\">│</span>                                                                                                  <span style=\"color: #800000; text-decoration-color: #800000\">│</span>\n",
       "<span style=\"color: #800000; text-decoration-color: #800000\">│</span> <span style=\"color: #bfbf7f; text-decoration-color: #bfbf7f\">/home/krzysiek/Development/claim-modelling-kedro/venv/lib/python3.11/site-packages/mlflow/store/</span> <span style=\"color: #800000; text-decoration-color: #800000\">│</span>\n",
       "<span style=\"color: #800000; text-decoration-color: #800000\">│</span> <span style=\"color: #bfbf7f; text-decoration-color: #bfbf7f\">artifact/</span><span style=\"color: #808000; text-decoration-color: #808000; font-weight: bold\">artifact_repo.py</span>:<span style=\"color: #0000ff; text-decoration-color: #0000ff\">217</span> in <span style=\"color: #00ff00; text-decoration-color: #00ff00\">download_artifacts</span>                                              <span style=\"color: #800000; text-decoration-color: #800000\">│</span>\n",
       "<span style=\"color: #800000; text-decoration-color: #800000\">│</span>                                                                                                  <span style=\"color: #800000; text-decoration-color: #800000\">│</span>\n",
       "<span style=\"color: #800000; text-decoration-color: #800000\">│</span>   <span style=\"color: #7f7f7f; text-decoration-color: #7f7f7f\">214 </span><span style=\"color: #7f7f7f; text-decoration-color: #7f7f7f\">│   │   │   │   │   </span><span style=\"color: #808000; text-decoration-color: #808000\">\"The progress bar can be disabled by setting the environment \"</span>         <span style=\"color: #800000; text-decoration-color: #800000\">│</span>\n",
       "<span style=\"color: #800000; text-decoration-color: #800000\">│</span>   <span style=\"color: #7f7f7f; text-decoration-color: #7f7f7f\">215 </span><span style=\"color: #7f7f7f; text-decoration-color: #7f7f7f\">│   │   │   │   │   </span><span style=\"color: #808000; text-decoration-color: #808000\">f\"variable {</span>MLFLOW_ENABLE_ARTIFACTS_PROGRESS_BAR<span style=\"color: #808000; text-decoration-color: #808000\">} to false\"</span>            <span style=\"color: #800000; text-decoration-color: #800000\">│</span>\n",
       "<span style=\"color: #800000; text-decoration-color: #800000\">│</span>   <span style=\"color: #7f7f7f; text-decoration-color: #7f7f7f\">216 </span><span style=\"color: #7f7f7f; text-decoration-color: #7f7f7f\">│   │   │   │   </span>)                                                                          <span style=\"color: #800000; text-decoration-color: #800000\">│</span>\n",
       "<span style=\"color: #800000; text-decoration-color: #800000\">│</span> <span style=\"color: #800000; text-decoration-color: #800000\">❱ </span>217 <span style=\"color: #7f7f7f; text-decoration-color: #7f7f7f\">│   │   │   </span><span style=\"color: #0000ff; text-decoration-color: #0000ff\">for</span> f <span style=\"color: #ff00ff; text-decoration-color: #ff00ff\">in</span> as_completed(futures):                                                <span style=\"color: #800000; text-decoration-color: #800000\">│</span>\n",
       "<span style=\"color: #800000; text-decoration-color: #800000\">│</span>   <span style=\"color: #7f7f7f; text-decoration-color: #7f7f7f\">218 </span><span style=\"color: #7f7f7f; text-decoration-color: #7f7f7f\">│   │   │   │   </span><span style=\"color: #0000ff; text-decoration-color: #0000ff\">try</span>:                                                                       <span style=\"color: #800000; text-decoration-color: #800000\">│</span>\n",
       "<span style=\"color: #800000; text-decoration-color: #800000\">│</span>   <span style=\"color: #7f7f7f; text-decoration-color: #7f7f7f\">219 </span><span style=\"color: #7f7f7f; text-decoration-color: #7f7f7f\">│   │   │   │   │   </span>f.result()                                                             <span style=\"color: #800000; text-decoration-color: #800000\">│</span>\n",
       "<span style=\"color: #800000; text-decoration-color: #800000\">│</span>   <span style=\"color: #7f7f7f; text-decoration-color: #7f7f7f\">220 </span><span style=\"color: #7f7f7f; text-decoration-color: #7f7f7f\">│   │   │   │   │   </span>pbar.update()                                                          <span style=\"color: #800000; text-decoration-color: #800000\">│</span>\n",
       "<span style=\"color: #800000; text-decoration-color: #800000\">│</span>                                                                                                  <span style=\"color: #800000; text-decoration-color: #800000\">│</span>\n",
       "<span style=\"color: #800000; text-decoration-color: #800000\">│</span> <span style=\"color: #bfbf7f; text-decoration-color: #bfbf7f\">/usr/lib/python3.11/concurrent/futures/</span><span style=\"color: #808000; text-decoration-color: #808000; font-weight: bold\">_base.py</span>:<span style=\"color: #0000ff; text-decoration-color: #0000ff\">243</span> in <span style=\"color: #00ff00; text-decoration-color: #00ff00\">as_completed</span>                              <span style=\"color: #800000; text-decoration-color: #800000\">│</span>\n",
       "<span style=\"color: #800000; text-decoration-color: #800000\">│</span>                                                                                                  <span style=\"color: #800000; text-decoration-color: #800000\">│</span>\n",
       "<span style=\"color: #800000; text-decoration-color: #800000\">│</span>   <span style=\"color: #7f7f7f; text-decoration-color: #7f7f7f\">240 </span><span style=\"color: #7f7f7f; text-decoration-color: #7f7f7f\">│   │   │   │   │   │   │   </span><span style=\"color: #808000; text-decoration-color: #808000\">'%d (of %d) futures unfinished'</span> % (                            <span style=\"color: #800000; text-decoration-color: #800000\">│</span>\n",
       "<span style=\"color: #800000; text-decoration-color: #800000\">│</span>   <span style=\"color: #7f7f7f; text-decoration-color: #7f7f7f\">241 </span><span style=\"color: #7f7f7f; text-decoration-color: #7f7f7f\">│   │   │   │   │   │   │   </span><span style=\"color: #00ffff; text-decoration-color: #00ffff\">len</span>(pending), total_futures))                                  <span style=\"color: #800000; text-decoration-color: #800000\">│</span>\n",
       "<span style=\"color: #800000; text-decoration-color: #800000\">│</span>   <span style=\"color: #7f7f7f; text-decoration-color: #7f7f7f\">242 </span><span style=\"color: #7f7f7f; text-decoration-color: #7f7f7f\">│   │   │   </span>                                                                               <span style=\"color: #800000; text-decoration-color: #800000\">│</span>\n",
       "<span style=\"color: #800000; text-decoration-color: #800000\">│</span> <span style=\"color: #800000; text-decoration-color: #800000\">❱ </span>243 <span style=\"color: #7f7f7f; text-decoration-color: #7f7f7f\">│   │   │   </span>waiter.event.wait(wait_timeout)                                                <span style=\"color: #800000; text-decoration-color: #800000\">│</span>\n",
       "<span style=\"color: #800000; text-decoration-color: #800000\">│</span>   <span style=\"color: #7f7f7f; text-decoration-color: #7f7f7f\">244 </span><span style=\"color: #7f7f7f; text-decoration-color: #7f7f7f\">│   │   │   </span>                                                                               <span style=\"color: #800000; text-decoration-color: #800000\">│</span>\n",
       "<span style=\"color: #800000; text-decoration-color: #800000\">│</span>   <span style=\"color: #7f7f7f; text-decoration-color: #7f7f7f\">245 </span><span style=\"color: #7f7f7f; text-decoration-color: #7f7f7f\">│   │   │   </span><span style=\"color: #0000ff; text-decoration-color: #0000ff\">with</span> waiter.lock:                                                              <span style=\"color: #800000; text-decoration-color: #800000\">│</span>\n",
       "<span style=\"color: #800000; text-decoration-color: #800000\">│</span>   <span style=\"color: #7f7f7f; text-decoration-color: #7f7f7f\">246 </span><span style=\"color: #7f7f7f; text-decoration-color: #7f7f7f\">│   │   │   │   </span>finished = waiter.finished_futures                                         <span style=\"color: #800000; text-decoration-color: #800000\">│</span>\n",
       "<span style=\"color: #800000; text-decoration-color: #800000\">│</span>                                                                                                  <span style=\"color: #800000; text-decoration-color: #800000\">│</span>\n",
       "<span style=\"color: #800000; text-decoration-color: #800000\">│</span> <span style=\"color: #bfbf7f; text-decoration-color: #bfbf7f\">/usr/lib/python3.11/</span><span style=\"color: #808000; text-decoration-color: #808000; font-weight: bold\">threading.py</span>:<span style=\"color: #0000ff; text-decoration-color: #0000ff\">629</span> in <span style=\"color: #00ff00; text-decoration-color: #00ff00\">wait</span>                                                     <span style=\"color: #800000; text-decoration-color: #800000\">│</span>\n",
       "<span style=\"color: #800000; text-decoration-color: #800000\">│</span>                                                                                                  <span style=\"color: #800000; text-decoration-color: #800000\">│</span>\n",
       "<span style=\"color: #800000; text-decoration-color: #800000\">│</span>   <span style=\"color: #7f7f7f; text-decoration-color: #7f7f7f\"> 626 </span><span style=\"color: #7f7f7f; text-decoration-color: #7f7f7f\">│   │   </span><span style=\"color: #0000ff; text-decoration-color: #0000ff\">with</span> <span style=\"color: #00ffff; text-decoration-color: #00ffff\">self</span>._cond:                                                                  <span style=\"color: #800000; text-decoration-color: #800000\">│</span>\n",
       "<span style=\"color: #800000; text-decoration-color: #800000\">│</span>   <span style=\"color: #7f7f7f; text-decoration-color: #7f7f7f\"> 627 </span><span style=\"color: #7f7f7f; text-decoration-color: #7f7f7f\">│   │   │   </span>signaled = <span style=\"color: #00ffff; text-decoration-color: #00ffff\">self</span>._flag                                                         <span style=\"color: #800000; text-decoration-color: #800000\">│</span>\n",
       "<span style=\"color: #800000; text-decoration-color: #800000\">│</span>   <span style=\"color: #7f7f7f; text-decoration-color: #7f7f7f\"> 628 </span><span style=\"color: #7f7f7f; text-decoration-color: #7f7f7f\">│   │   │   </span><span style=\"color: #0000ff; text-decoration-color: #0000ff\">if</span> <span style=\"color: #ff00ff; text-decoration-color: #ff00ff\">not</span> signaled:                                                              <span style=\"color: #800000; text-decoration-color: #800000\">│</span>\n",
       "<span style=\"color: #800000; text-decoration-color: #800000\">│</span> <span style=\"color: #800000; text-decoration-color: #800000\">❱ </span> 629 <span style=\"color: #7f7f7f; text-decoration-color: #7f7f7f\">│   │   │   │   </span>signaled = <span style=\"color: #00ffff; text-decoration-color: #00ffff\">self</span>._cond.wait(timeout)                                       <span style=\"color: #800000; text-decoration-color: #800000\">│</span>\n",
       "<span style=\"color: #800000; text-decoration-color: #800000\">│</span>   <span style=\"color: #7f7f7f; text-decoration-color: #7f7f7f\"> 630 </span><span style=\"color: #7f7f7f; text-decoration-color: #7f7f7f\">│   │   │   </span><span style=\"color: #0000ff; text-decoration-color: #0000ff\">return</span> signaled                                                               <span style=\"color: #800000; text-decoration-color: #800000\">│</span>\n",
       "<span style=\"color: #800000; text-decoration-color: #800000\">│</span>   <span style=\"color: #7f7f7f; text-decoration-color: #7f7f7f\"> 631 </span>                                                                                          <span style=\"color: #800000; text-decoration-color: #800000\">│</span>\n",
       "<span style=\"color: #800000; text-decoration-color: #800000\">│</span>   <span style=\"color: #7f7f7f; text-decoration-color: #7f7f7f\"> 632 </span>                                                                                          <span style=\"color: #800000; text-decoration-color: #800000\">│</span>\n",
       "<span style=\"color: #800000; text-decoration-color: #800000\">│</span>                                                                                                  <span style=\"color: #800000; text-decoration-color: #800000\">│</span>\n",
       "<span style=\"color: #800000; text-decoration-color: #800000\">│</span> <span style=\"color: #bfbf7f; text-decoration-color: #bfbf7f\">/usr/lib/python3.11/</span><span style=\"color: #808000; text-decoration-color: #808000; font-weight: bold\">threading.py</span>:<span style=\"color: #0000ff; text-decoration-color: #0000ff\">327</span> in <span style=\"color: #00ff00; text-decoration-color: #00ff00\">wait</span>                                                     <span style=\"color: #800000; text-decoration-color: #800000\">│</span>\n",
       "<span style=\"color: #800000; text-decoration-color: #800000\">│</span>                                                                                                  <span style=\"color: #800000; text-decoration-color: #800000\">│</span>\n",
       "<span style=\"color: #800000; text-decoration-color: #800000\">│</span>   <span style=\"color: #7f7f7f; text-decoration-color: #7f7f7f\"> 324 </span><span style=\"color: #7f7f7f; text-decoration-color: #7f7f7f\">│   │   </span>gotit = <span style=\"color: #0000ff; text-decoration-color: #0000ff\">False</span>                                                                     <span style=\"color: #800000; text-decoration-color: #800000\">│</span>\n",
       "<span style=\"color: #800000; text-decoration-color: #800000\">│</span>   <span style=\"color: #7f7f7f; text-decoration-color: #7f7f7f\"> 325 </span><span style=\"color: #7f7f7f; text-decoration-color: #7f7f7f\">│   │   </span><span style=\"color: #0000ff; text-decoration-color: #0000ff\">try</span>:    <span style=\"color: #7f7f7f; text-decoration-color: #7f7f7f\"># restore state no matter what (e.g., KeyboardInterrupt)</span>                  <span style=\"color: #800000; text-decoration-color: #800000\">│</span>\n",
       "<span style=\"color: #800000; text-decoration-color: #800000\">│</span>   <span style=\"color: #7f7f7f; text-decoration-color: #7f7f7f\"> 326 </span><span style=\"color: #7f7f7f; text-decoration-color: #7f7f7f\">│   │   │   </span><span style=\"color: #0000ff; text-decoration-color: #0000ff\">if</span> timeout <span style=\"color: #ff00ff; text-decoration-color: #ff00ff\">is</span> <span style=\"color: #0000ff; text-decoration-color: #0000ff\">None</span>:                                                           <span style=\"color: #800000; text-decoration-color: #800000\">│</span>\n",
       "<span style=\"color: #800000; text-decoration-color: #800000\">│</span> <span style=\"color: #800000; text-decoration-color: #800000\">❱ </span> 327 <span style=\"color: #7f7f7f; text-decoration-color: #7f7f7f\">│   │   │   │   </span>waiter.acquire()                                                          <span style=\"color: #800000; text-decoration-color: #800000\">│</span>\n",
       "<span style=\"color: #800000; text-decoration-color: #800000\">│</span>   <span style=\"color: #7f7f7f; text-decoration-color: #7f7f7f\"> 328 </span><span style=\"color: #7f7f7f; text-decoration-color: #7f7f7f\">│   │   │   │   </span>gotit = <span style=\"color: #0000ff; text-decoration-color: #0000ff\">True</span>                                                              <span style=\"color: #800000; text-decoration-color: #800000\">│</span>\n",
       "<span style=\"color: #800000; text-decoration-color: #800000\">│</span>   <span style=\"color: #7f7f7f; text-decoration-color: #7f7f7f\"> 329 </span><span style=\"color: #7f7f7f; text-decoration-color: #7f7f7f\">│   │   │   </span><span style=\"color: #0000ff; text-decoration-color: #0000ff\">else</span>:                                                                         <span style=\"color: #800000; text-decoration-color: #800000\">│</span>\n",
       "<span style=\"color: #800000; text-decoration-color: #800000\">│</span>   <span style=\"color: #7f7f7f; text-decoration-color: #7f7f7f\"> 330 </span><span style=\"color: #7f7f7f; text-decoration-color: #7f7f7f\">│   │   │   │   </span><span style=\"color: #0000ff; text-decoration-color: #0000ff\">if</span> timeout &gt; <span style=\"color: #0000ff; text-decoration-color: #0000ff\">0</span>:                                                           <span style=\"color: #800000; text-decoration-color: #800000\">│</span>\n",
       "<span style=\"color: #800000; text-decoration-color: #800000\">╰──────────────────────────────────────────────────────────────────────────────────────────────────╯</span>\n",
       "<span style=\"color: #ff0000; text-decoration-color: #ff0000; font-weight: bold\">KeyboardInterrupt</span>\n",
       "</pre>\n"
      ],
      "text/plain": [
       "\u001b[31m╭─\u001b[0m\u001b[31m──────────────────────────────\u001b[0m\u001b[31m \u001b[0m\u001b[1;31mTraceback \u001b[0m\u001b[1;2;31m(most recent call last)\u001b[0m\u001b[31m \u001b[0m\u001b[31m───────────────────────────────\u001b[0m\u001b[31m─╮\u001b[0m\n",
       "\u001b[31m│\u001b[0m in \u001b[92m<module>\u001b[0m:\u001b[94m4\u001b[0m                                                                                    \u001b[31m│\u001b[0m\n",
       "\u001b[31m│\u001b[0m                                                                                                  \u001b[31m│\u001b[0m\n",
       "\u001b[31m│\u001b[0m   \u001b[2m1 \u001b[0mglm_de_exp_name = \u001b[33m\"\u001b[0m\u001b[33msev_002_statsmodels_glm_de\u001b[0m\u001b[33m\"\u001b[0m                                               \u001b[31m│\u001b[0m\n",
       "\u001b[31m│\u001b[0m   \u001b[2m2 \u001b[0mrun_name = \u001b[33m\"\u001b[0m\u001b[33mwuthrich_standard_scaler_mean \u001b[0m\u001b[33m\"\u001b[0m                                                  \u001b[31m│\u001b[0m\n",
       "\u001b[31m│\u001b[0m   \u001b[2m3 \u001b[0mrun_id = get_run_mlflow_id(glm_de_exp_name, run_name)                                        \u001b[31m│\u001b[0m\n",
       "\u001b[31m│\u001b[0m \u001b[31m❱ \u001b[0m4 test_cv_stats = load_metrics_cv_stats_from_mlflow(dataset=\u001b[33m\"\u001b[0m\u001b[33mtest\u001b[0m\u001b[33m\"\u001b[0m, mlflow_run_id=run_id)      \u001b[31m│\u001b[0m\n",
       "\u001b[31m│\u001b[0m   \u001b[2m5 \u001b[0mtrain_cv_stats = load_metrics_cv_stats_from_mlflow(dataset=\u001b[33m\"\u001b[0m\u001b[33msample_train_pure\u001b[0m\u001b[33m\"\u001b[0m, mlflow_r     \u001b[31m│\u001b[0m\n",
       "\u001b[31m│\u001b[0m   \u001b[2m6 \u001b[0m                                                                                             \u001b[31m│\u001b[0m\n",
       "\u001b[31m│\u001b[0m                                                                                                  \u001b[31m│\u001b[0m\n",
       "\u001b[31m│\u001b[0m \u001b[2;33m/home/krzysiek/Development/claim-modelling-kedro/claim_modelling_kedro/src/claim_modelling_kedro\u001b[0m \u001b[31m│\u001b[0m\n",
       "\u001b[31m│\u001b[0m \u001b[2;33m/pipelines/utils/\u001b[0m\u001b[1;33mdataframes.py\u001b[0m:\u001b[94m192\u001b[0m in \u001b[92mload_metrics_cv_stats_from_mlflow\u001b[0m                          \u001b[31m│\u001b[0m\n",
       "\u001b[31m│\u001b[0m                                                                                                  \u001b[31m│\u001b[0m\n",
       "\u001b[31m│\u001b[0m   \u001b[2m189 \u001b[0m                                                                                           \u001b[31m│\u001b[0m\n",
       "\u001b[31m│\u001b[0m   \u001b[2m190 \u001b[0m\u001b[94mdef\u001b[0m \u001b[92mload_metrics_cv_stats_from_mlflow\u001b[0m(dataset: \u001b[96mstr\u001b[0m, prefix: \u001b[96mstr\u001b[0m = \u001b[94mNone\u001b[0m, mlflow_run_id: \u001b[96ms\u001b[0m   \u001b[31m│\u001b[0m\n",
       "\u001b[31m│\u001b[0m   \u001b[2m191 \u001b[0m\u001b[2m│   \u001b[0mfilename, artifact_path = get_metrics_cv_stats_filname_and_artifact_path(dataset, pr   \u001b[31m│\u001b[0m\n",
       "\u001b[31m│\u001b[0m \u001b[31m❱ \u001b[0m192 \u001b[2m│   \u001b[0mmetrics_cv_stats_df = load_pd_dataframe_csv_from_mlflow(artifact_path, filename, mlf   \u001b[31m│\u001b[0m\n",
       "\u001b[31m│\u001b[0m   \u001b[2m193 \u001b[0m\u001b[2m│   \u001b[0m\u001b[94mreturn\u001b[0m metrics_cv_stats_df                                                             \u001b[31m│\u001b[0m\n",
       "\u001b[31m│\u001b[0m   \u001b[2m194 \u001b[0m                                                                                           \u001b[31m│\u001b[0m\n",
       "\u001b[31m│\u001b[0m                                                                                                  \u001b[31m│\u001b[0m\n",
       "\u001b[31m│\u001b[0m \u001b[2;33m/home/krzysiek/Development/claim-modelling-kedro/claim_modelling_kedro/src/claim_modelling_kedro\u001b[0m \u001b[31m│\u001b[0m\n",
       "\u001b[31m│\u001b[0m \u001b[2;33m/pipelines/utils/\u001b[0m\u001b[1;33mdataframes.py\u001b[0m:\u001b[94m149\u001b[0m in \u001b[92mload_pd_dataframe_csv_from_mlflow\u001b[0m                          \u001b[31m│\u001b[0m\n",
       "\u001b[31m│\u001b[0m                                                                                                  \u001b[31m│\u001b[0m\n",
       "\u001b[31m│\u001b[0m   \u001b[2m146 \u001b[0m\u001b[2m│   \u001b[0m\u001b[94mwith\u001b[0m tempfile.TemporaryDirectory() \u001b[94mas\u001b[0m temp_dir:                                        \u001b[31m│\u001b[0m\n",
       "\u001b[31m│\u001b[0m   \u001b[2m147 \u001b[0m\u001b[2m│   │   \u001b[0martifact_path = \u001b[33mf\u001b[0m\u001b[33m\"\u001b[0m\u001b[33m{\u001b[0martifact_path\u001b[33m}\u001b[0m\u001b[33m/\u001b[0m\u001b[33m{\u001b[0mfilename\u001b[33m}\u001b[0m\u001b[33m\"\u001b[0m \u001b[94mif\u001b[0m filename \u001b[95mis\u001b[0m \u001b[95mnot\u001b[0m \u001b[94mNone\u001b[0m \u001b[94melse\u001b[0m artif   \u001b[31m│\u001b[0m\n",
       "\u001b[31m│\u001b[0m   \u001b[2m148 \u001b[0m\u001b[2m│   │   \u001b[0martifact_uri = \u001b[33mf\u001b[0m\u001b[33m\"\u001b[0m\u001b[33mruns:/\u001b[0m\u001b[33m{\u001b[0mmlflow_run_id\u001b[33m}\u001b[0m\u001b[33m/\u001b[0m\u001b[33m{\u001b[0martifact_path\u001b[33m}\u001b[0m\u001b[33m\"\u001b[0m                            \u001b[31m│\u001b[0m\n",
       "\u001b[31m│\u001b[0m \u001b[31m❱ \u001b[0m149 \u001b[2m│   │   \u001b[0mlocal_path = mlflow.tracking.artifact_utils._download_artifact_from_uri(artifact   \u001b[31m│\u001b[0m\n",
       "\u001b[31m│\u001b[0m   \u001b[2m150 \u001b[0m\u001b[2m│   │   \u001b[0mdf = pd.read_csv(local_path, index_col=index_col)                                  \u001b[31m│\u001b[0m\n",
       "\u001b[31m│\u001b[0m   \u001b[2m151 \u001b[0m\u001b[2m│   │   \u001b[0mdf.columns.name = columns_index_name                                               \u001b[31m│\u001b[0m\n",
       "\u001b[31m│\u001b[0m   \u001b[2m152 \u001b[0m\u001b[2m│   │   \u001b[0m\u001b[94mreturn\u001b[0m df                                                                          \u001b[31m│\u001b[0m\n",
       "\u001b[31m│\u001b[0m                                                                                                  \u001b[31m│\u001b[0m\n",
       "\u001b[31m│\u001b[0m \u001b[2;33m/home/krzysiek/Development/claim-modelling-kedro/venv/lib/python3.11/site-packages/mlflow/tracki\u001b[0m \u001b[31m│\u001b[0m\n",
       "\u001b[31m│\u001b[0m \u001b[2;33mng/\u001b[0m\u001b[1;33martifact_utils.py\u001b[0m:\u001b[94m105\u001b[0m in \u001b[92m_download_artifact_from_uri\u001b[0m                                          \u001b[31m│\u001b[0m\n",
       "\u001b[31m│\u001b[0m                                                                                                  \u001b[31m│\u001b[0m\n",
       "\u001b[31m│\u001b[0m   \u001b[2m102 \u001b[0m\u001b[2;33m│   │   │   \u001b[0m\u001b[33ma local output path will be created.\u001b[0m                                           \u001b[31m│\u001b[0m\n",
       "\u001b[31m│\u001b[0m   \u001b[2m103 \u001b[0m\u001b[2;33m│   \u001b[0m\u001b[33m\"\"\"\u001b[0m                                                                                    \u001b[31m│\u001b[0m\n",
       "\u001b[31m│\u001b[0m   \u001b[2m104 \u001b[0m\u001b[2m│   \u001b[0mroot_uri, artifact_path = _get_root_uri_and_artifact_path(artifact_uri)                \u001b[31m│\u001b[0m\n",
       "\u001b[31m│\u001b[0m \u001b[31m❱ \u001b[0m105 \u001b[2m│   \u001b[0m\u001b[94mreturn\u001b[0m get_artifact_repository(artifact_uri=root_uri).download_artifacts(              \u001b[31m│\u001b[0m\n",
       "\u001b[31m│\u001b[0m   \u001b[2m106 \u001b[0m\u001b[2m│   │   \u001b[0martifact_path=artifact_path, dst_path=output_path                                  \u001b[31m│\u001b[0m\n",
       "\u001b[31m│\u001b[0m   \u001b[2m107 \u001b[0m\u001b[2m│   \u001b[0m)                                                                                      \u001b[31m│\u001b[0m\n",
       "\u001b[31m│\u001b[0m   \u001b[2m108 \u001b[0m                                                                                           \u001b[31m│\u001b[0m\n",
       "\u001b[31m│\u001b[0m                                                                                                  \u001b[31m│\u001b[0m\n",
       "\u001b[31m│\u001b[0m \u001b[2;33m/home/krzysiek/Development/claim-modelling-kedro/venv/lib/python3.11/site-packages/mlflow/store/\u001b[0m \u001b[31m│\u001b[0m\n",
       "\u001b[31m│\u001b[0m \u001b[2;33martifact/\u001b[0m\u001b[1;33mruns_artifact_repo.py\u001b[0m:\u001b[94m131\u001b[0m in \u001b[92mdownload_artifacts\u001b[0m                                         \u001b[31m│\u001b[0m\n",
       "\u001b[31m│\u001b[0m                                                                                                  \u001b[31m│\u001b[0m\n",
       "\u001b[31m│\u001b[0m   \u001b[2m128 \u001b[0m\u001b[2;33m│   │   \u001b[0m\u001b[33mReturns:\u001b[0m                                                                           \u001b[31m│\u001b[0m\n",
       "\u001b[31m│\u001b[0m   \u001b[2m129 \u001b[0m\u001b[2;33m│   │   │   \u001b[0m\u001b[33mAbsolute path of the local filesystem location containing the desired artifa\u001b[0m   \u001b[31m│\u001b[0m\n",
       "\u001b[31m│\u001b[0m   \u001b[2m130 \u001b[0m\u001b[2;33m│   │   \u001b[0m\u001b[33m\"\"\"\u001b[0m                                                                                \u001b[31m│\u001b[0m\n",
       "\u001b[31m│\u001b[0m \u001b[31m❱ \u001b[0m131 \u001b[2m│   │   \u001b[0m\u001b[94mreturn\u001b[0m \u001b[96mself\u001b[0m.repo.download_artifacts(artifact_path, dst_path)                       \u001b[31m│\u001b[0m\n",
       "\u001b[31m│\u001b[0m   \u001b[2m132 \u001b[0m\u001b[2m│   \u001b[0m                                                                                       \u001b[31m│\u001b[0m\n",
       "\u001b[31m│\u001b[0m   \u001b[2m133 \u001b[0m\u001b[2m│   \u001b[0m\u001b[94mdef\u001b[0m \u001b[92m_download_file\u001b[0m(\u001b[96mself\u001b[0m, remote_file_path, local_path):                                \u001b[31m│\u001b[0m\n",
       "\u001b[31m│\u001b[0m   \u001b[2m134 \u001b[0m\u001b[2;90m│   │   \u001b[0m\u001b[33m\"\"\"\u001b[0m                                                                                \u001b[31m│\u001b[0m\n",
       "\u001b[31m│\u001b[0m                                                                                                  \u001b[31m│\u001b[0m\n",
       "\u001b[31m│\u001b[0m \u001b[2;33m/home/krzysiek/Development/claim-modelling-kedro/venv/lib/python3.11/site-packages/mlflow/store/\u001b[0m \u001b[31m│\u001b[0m\n",
       "\u001b[31m│\u001b[0m \u001b[2;33martifact/\u001b[0m\u001b[1;33martifact_repo.py\u001b[0m:\u001b[94m217\u001b[0m in \u001b[92mdownload_artifacts\u001b[0m                                              \u001b[31m│\u001b[0m\n",
       "\u001b[31m│\u001b[0m                                                                                                  \u001b[31m│\u001b[0m\n",
       "\u001b[31m│\u001b[0m   \u001b[2m214 \u001b[0m\u001b[2m│   │   │   │   │   \u001b[0m\u001b[33m\"\u001b[0m\u001b[33mThe progress bar can be disabled by setting the environment \u001b[0m\u001b[33m\"\u001b[0m         \u001b[31m│\u001b[0m\n",
       "\u001b[31m│\u001b[0m   \u001b[2m215 \u001b[0m\u001b[2m│   │   │   │   │   \u001b[0m\u001b[33mf\u001b[0m\u001b[33m\"\u001b[0m\u001b[33mvariable \u001b[0m\u001b[33m{\u001b[0mMLFLOW_ENABLE_ARTIFACTS_PROGRESS_BAR\u001b[33m}\u001b[0m\u001b[33m to false\u001b[0m\u001b[33m\"\u001b[0m            \u001b[31m│\u001b[0m\n",
       "\u001b[31m│\u001b[0m   \u001b[2m216 \u001b[0m\u001b[2m│   │   │   │   \u001b[0m)                                                                          \u001b[31m│\u001b[0m\n",
       "\u001b[31m│\u001b[0m \u001b[31m❱ \u001b[0m217 \u001b[2m│   │   │   \u001b[0m\u001b[94mfor\u001b[0m f \u001b[95min\u001b[0m as_completed(futures):                                                \u001b[31m│\u001b[0m\n",
       "\u001b[31m│\u001b[0m   \u001b[2m218 \u001b[0m\u001b[2m│   │   │   │   \u001b[0m\u001b[94mtry\u001b[0m:                                                                       \u001b[31m│\u001b[0m\n",
       "\u001b[31m│\u001b[0m   \u001b[2m219 \u001b[0m\u001b[2m│   │   │   │   │   \u001b[0mf.result()                                                             \u001b[31m│\u001b[0m\n",
       "\u001b[31m│\u001b[0m   \u001b[2m220 \u001b[0m\u001b[2m│   │   │   │   │   \u001b[0mpbar.update()                                                          \u001b[31m│\u001b[0m\n",
       "\u001b[31m│\u001b[0m                                                                                                  \u001b[31m│\u001b[0m\n",
       "\u001b[31m│\u001b[0m \u001b[2;33m/usr/lib/python3.11/concurrent/futures/\u001b[0m\u001b[1;33m_base.py\u001b[0m:\u001b[94m243\u001b[0m in \u001b[92mas_completed\u001b[0m                              \u001b[31m│\u001b[0m\n",
       "\u001b[31m│\u001b[0m                                                                                                  \u001b[31m│\u001b[0m\n",
       "\u001b[31m│\u001b[0m   \u001b[2m240 \u001b[0m\u001b[2m│   │   │   │   │   │   │   \u001b[0m\u001b[33m'\u001b[0m\u001b[33m%d\u001b[0m\u001b[33m (of \u001b[0m\u001b[33m%d\u001b[0m\u001b[33m) futures unfinished\u001b[0m\u001b[33m'\u001b[0m % (                            \u001b[31m│\u001b[0m\n",
       "\u001b[31m│\u001b[0m   \u001b[2m241 \u001b[0m\u001b[2m│   │   │   │   │   │   │   \u001b[0m\u001b[96mlen\u001b[0m(pending), total_futures))                                  \u001b[31m│\u001b[0m\n",
       "\u001b[31m│\u001b[0m   \u001b[2m242 \u001b[0m\u001b[2m│   │   │   \u001b[0m                                                                               \u001b[31m│\u001b[0m\n",
       "\u001b[31m│\u001b[0m \u001b[31m❱ \u001b[0m243 \u001b[2m│   │   │   \u001b[0mwaiter.event.wait(wait_timeout)                                                \u001b[31m│\u001b[0m\n",
       "\u001b[31m│\u001b[0m   \u001b[2m244 \u001b[0m\u001b[2m│   │   │   \u001b[0m                                                                               \u001b[31m│\u001b[0m\n",
       "\u001b[31m│\u001b[0m   \u001b[2m245 \u001b[0m\u001b[2m│   │   │   \u001b[0m\u001b[94mwith\u001b[0m waiter.lock:                                                              \u001b[31m│\u001b[0m\n",
       "\u001b[31m│\u001b[0m   \u001b[2m246 \u001b[0m\u001b[2m│   │   │   │   \u001b[0mfinished = waiter.finished_futures                                         \u001b[31m│\u001b[0m\n",
       "\u001b[31m│\u001b[0m                                                                                                  \u001b[31m│\u001b[0m\n",
       "\u001b[31m│\u001b[0m \u001b[2;33m/usr/lib/python3.11/\u001b[0m\u001b[1;33mthreading.py\u001b[0m:\u001b[94m629\u001b[0m in \u001b[92mwait\u001b[0m                                                     \u001b[31m│\u001b[0m\n",
       "\u001b[31m│\u001b[0m                                                                                                  \u001b[31m│\u001b[0m\n",
       "\u001b[31m│\u001b[0m   \u001b[2m 626 \u001b[0m\u001b[2m│   │   \u001b[0m\u001b[94mwith\u001b[0m \u001b[96mself\u001b[0m._cond:                                                                  \u001b[31m│\u001b[0m\n",
       "\u001b[31m│\u001b[0m   \u001b[2m 627 \u001b[0m\u001b[2m│   │   │   \u001b[0msignaled = \u001b[96mself\u001b[0m._flag                                                         \u001b[31m│\u001b[0m\n",
       "\u001b[31m│\u001b[0m   \u001b[2m 628 \u001b[0m\u001b[2m│   │   │   \u001b[0m\u001b[94mif\u001b[0m \u001b[95mnot\u001b[0m signaled:                                                              \u001b[31m│\u001b[0m\n",
       "\u001b[31m│\u001b[0m \u001b[31m❱ \u001b[0m 629 \u001b[2m│   │   │   │   \u001b[0msignaled = \u001b[96mself\u001b[0m._cond.wait(timeout)                                       \u001b[31m│\u001b[0m\n",
       "\u001b[31m│\u001b[0m   \u001b[2m 630 \u001b[0m\u001b[2m│   │   │   \u001b[0m\u001b[94mreturn\u001b[0m signaled                                                               \u001b[31m│\u001b[0m\n",
       "\u001b[31m│\u001b[0m   \u001b[2m 631 \u001b[0m                                                                                          \u001b[31m│\u001b[0m\n",
       "\u001b[31m│\u001b[0m   \u001b[2m 632 \u001b[0m                                                                                          \u001b[31m│\u001b[0m\n",
       "\u001b[31m│\u001b[0m                                                                                                  \u001b[31m│\u001b[0m\n",
       "\u001b[31m│\u001b[0m \u001b[2;33m/usr/lib/python3.11/\u001b[0m\u001b[1;33mthreading.py\u001b[0m:\u001b[94m327\u001b[0m in \u001b[92mwait\u001b[0m                                                     \u001b[31m│\u001b[0m\n",
       "\u001b[31m│\u001b[0m                                                                                                  \u001b[31m│\u001b[0m\n",
       "\u001b[31m│\u001b[0m   \u001b[2m 324 \u001b[0m\u001b[2m│   │   \u001b[0mgotit = \u001b[94mFalse\u001b[0m                                                                     \u001b[31m│\u001b[0m\n",
       "\u001b[31m│\u001b[0m   \u001b[2m 325 \u001b[0m\u001b[2m│   │   \u001b[0m\u001b[94mtry\u001b[0m:    \u001b[2m# restore state no matter what (e.g., KeyboardInterrupt)\u001b[0m                  \u001b[31m│\u001b[0m\n",
       "\u001b[31m│\u001b[0m   \u001b[2m 326 \u001b[0m\u001b[2m│   │   │   \u001b[0m\u001b[94mif\u001b[0m timeout \u001b[95mis\u001b[0m \u001b[94mNone\u001b[0m:                                                           \u001b[31m│\u001b[0m\n",
       "\u001b[31m│\u001b[0m \u001b[31m❱ \u001b[0m 327 \u001b[2m│   │   │   │   \u001b[0mwaiter.acquire()                                                          \u001b[31m│\u001b[0m\n",
       "\u001b[31m│\u001b[0m   \u001b[2m 328 \u001b[0m\u001b[2m│   │   │   │   \u001b[0mgotit = \u001b[94mTrue\u001b[0m                                                              \u001b[31m│\u001b[0m\n",
       "\u001b[31m│\u001b[0m   \u001b[2m 329 \u001b[0m\u001b[2m│   │   │   \u001b[0m\u001b[94melse\u001b[0m:                                                                         \u001b[31m│\u001b[0m\n",
       "\u001b[31m│\u001b[0m   \u001b[2m 330 \u001b[0m\u001b[2m│   │   │   │   \u001b[0m\u001b[94mif\u001b[0m timeout > \u001b[94m0\u001b[0m:                                                           \u001b[31m│\u001b[0m\n",
       "\u001b[31m╰──────────────────────────────────────────────────────────────────────────────────────────────────╯\u001b[0m\n",
       "\u001b[1;91mKeyboardInterrupt\u001b[0m\n"
      ]
     },
     "metadata": {},
     "output_type": "display_data"
    }
   ],
   "source": [
    "glm_de_exp_name = \"sev_002_statsmodels_glm_de\"\n",
    "run_name = \"wuthrich_standard_scaler_mean \"\n",
    "run_id = get_run_mlflow_id(glm_de_exp_name, run_name)\n",
    "test_cv_stats = load_metrics_cv_stats_from_mlflow(dataset=\"test\", mlflow_run_id=run_id)\n",
    "train_cv_stats = load_metrics_cv_stats_from_mlflow(dataset=\"sample_train_pure\", mlflow_run_id=run_id)"
   ]
  },
  {
   "cell_type": "code",
   "execution_count": null,
   "id": "af1e8cee-51bf-4313-97d5-f3420f424331",
   "metadata": {},
   "outputs": [],
   "source": [
    "test_cv_stats.round(3)"
   ]
  },
  {
   "cell_type": "markdown",
   "id": "18361a02-48b9-4ede-a772-4f6cfc683195",
   "metadata": {},
   "source": [
    "### Categorical area"
   ]
  },
  {
   "cell_type": "code",
   "execution_count": 44,
   "id": "32daf515-df2b-4e12-881e-c64b70f44f1d",
   "metadata": {},
   "outputs": [
    {
     "data": {
      "text/html": [
       "<pre style=\"white-space:pre;overflow-x:auto;line-height:normal;font-family:Menlo,'DejaVu Sans Mono',consolas,'Courier New',monospace\"><span style=\"color: #7fbfbf; text-decoration-color: #7fbfbf\">[05/30/25 20:30:10] </span><span style=\"color: #000080; text-decoration-color: #000080\">INFO    </span> <span style=\"color: #626262; text-decoration-color: #626262\">            experiment.py:L185     </span> MLflow Run ID for sev_002_statsmodels_glm_de, Run \n",
       "<span style=\"color: #7fbfbf; text-decoration-color: #7fbfbf\">                    </span>         cat_area_baseline: be8fb278e1e44bb6a9883b1495770cbb                                   \n",
       "</pre>\n"
      ],
      "text/plain": [
       "\u001b[2;36m[05/30/25 20:30:10]\u001b[0m\u001b[2;36m \u001b[0m\u001b[34mINFO    \u001b[0m \u001b[38;5;241m            experiment.py:L185     \u001b[0m MLflow Run ID for sev_002_statsmodels_glm_de, Run \n",
       "\u001b[2;36m                    \u001b[0m         cat_area_baseline: be8fb278e1e44bb6a9883b1495770cbb                                   \n"
      ]
     },
     "metadata": {},
     "output_type": "display_data"
    },
    {
     "data": {
      "application/vnd.jupyter.widget-view+json": {
       "model_id": "5b98717783834d13ad70c1359a1be582",
       "version_major": 2,
       "version_minor": 0
      },
      "text/plain": [
       "Downloading artifacts:   0%|          | 0/1 [00:00<?, ?it/s]"
      ]
     },
     "metadata": {},
     "output_type": "display_data"
    },
    {
     "data": {
      "application/vnd.jupyter.widget-view+json": {
       "model_id": "655bc4472a944c0f9786248a00a3d81c",
       "version_major": 2,
       "version_minor": 0
      },
      "text/plain": [
       "Downloading artifacts:   0%|          | 0/1 [00:00<?, ?it/s]"
      ]
     },
     "metadata": {},
     "output_type": "display_data"
    }
   ],
   "source": [
    "glm_de_exp_name = \"sev_002_statsmodels_glm_de\"\n",
    "run_name = \"cat_area_baseline\"\n",
    "run_id = get_run_mlflow_id(glm_de_exp_name, run_name)\n",
    "test_cv_stats = load_metrics_cv_stats_from_mlflow(dataset=\"test\", mlflow_run_id=run_id)\n",
    "train_cv_stats = load_metrics_cv_stats_from_mlflow(dataset=\"sample_train_pure\", mlflow_run_id=run_id)"
   ]
  },
  {
   "cell_type": "code",
   "execution_count": 45,
   "id": "adefe7e3-8412-4953-b7bf-59eeb62b3d99",
   "metadata": {},
   "outputs": [
    {
     "data": {
      "text/html": [
       "<pre style=\"white-space:pre;overflow-x:auto;line-height:normal;font-family:Menlo,'DejaVu Sans Mono',consolas,'Courier New',monospace\"></pre>\n"
      ],
      "text/plain": []
     },
     "metadata": {},
     "output_type": "display_data"
    },
    {
     "data": {
      "text/html": [
       "<div>\n",
       "<style scoped>\n",
       "    .dataframe tbody tr th:only-of-type {\n",
       "        vertical-align: middle;\n",
       "    }\n",
       "\n",
       "    .dataframe tbody tr th {\n",
       "        vertical-align: top;\n",
       "    }\n",
       "\n",
       "    .dataframe thead th {\n",
       "        text-align: right;\n",
       "    }\n",
       "</style>\n",
       "<table border=\"1\" class=\"dataframe\">\n",
       "  <thead>\n",
       "    <tr style=\"text-align: right;\">\n",
       "      <th></th>\n",
       "      <th>cv_mean</th>\n",
       "      <th>cv_std</th>\n",
       "    </tr>\n",
       "    <tr>\n",
       "      <th>metric</th>\n",
       "      <th></th>\n",
       "      <th></th>\n",
       "    </tr>\n",
       "  </thead>\n",
       "  <tbody>\n",
       "    <tr>\n",
       "      <th>test_nwMGD</th>\n",
       "      <td>169.770</td>\n",
       "      <td>76.630</td>\n",
       "    </tr>\n",
       "    <tr>\n",
       "      <th>test_nwMAE</th>\n",
       "      <td>69.253</td>\n",
       "      <td>12.054</td>\n",
       "    </tr>\n",
       "    <tr>\n",
       "      <th>test_nwRMSE</th>\n",
       "      <td>100667.359</td>\n",
       "      <td>96113.575</td>\n",
       "    </tr>\n",
       "    <tr>\n",
       "      <th>test_nwR2</th>\n",
       "      <td>-208.537</td>\n",
       "      <td>287.733</td>\n",
       "    </tr>\n",
       "    <tr>\n",
       "      <th>test_nwMBD</th>\n",
       "      <td>-2849.614</td>\n",
       "      <td>1698.534</td>\n",
       "    </tr>\n",
       "    <tr>\n",
       "      <th>test_nwSC</th>\n",
       "      <td>0.005</td>\n",
       "      <td>0.005</td>\n",
       "    </tr>\n",
       "    <tr>\n",
       "      <th>test_nwABC</th>\n",
       "      <td>0.345</td>\n",
       "      <td>0.049</td>\n",
       "    </tr>\n",
       "    <tr>\n",
       "      <th>test_nwCCI</th>\n",
       "      <td>0.351</td>\n",
       "      <td>0.044</td>\n",
       "    </tr>\n",
       "    <tr>\n",
       "      <th>test_nwCOI</th>\n",
       "      <td>0.000</td>\n",
       "      <td>0.000</td>\n",
       "    </tr>\n",
       "    <tr>\n",
       "      <th>test_nwCUI</th>\n",
       "      <td>0.351</td>\n",
       "      <td>0.044</td>\n",
       "    </tr>\n",
       "    <tr>\n",
       "      <th>test_nwLCGI</th>\n",
       "      <td>0.709</td>\n",
       "      <td>0.087</td>\n",
       "    </tr>\n",
       "    <tr>\n",
       "      <th>test_nwCCGI</th>\n",
       "      <td>0.019</td>\n",
       "      <td>0.026</td>\n",
       "    </tr>\n",
       "    <tr>\n",
       "      <th>test_nwNCCGI</th>\n",
       "      <td>0.032</td>\n",
       "      <td>0.045</td>\n",
       "    </tr>\n",
       "  </tbody>\n",
       "</table>\n",
       "</div>"
      ],
      "text/plain": [
       "\n",
       "                 cv_mean     cv_std\n",
       "metric                             \n",
       "test_nwMGD       \u001b[1;36m169.770\u001b[0m     \u001b[1;36m76.630\u001b[0m\n",
       "test_nwMAE        \u001b[1;36m69.253\u001b[0m     \u001b[1;36m12.054\u001b[0m\n",
       "test_nwRMSE   \u001b[1;36m100667.359\u001b[0m  \u001b[1;36m96113.575\u001b[0m\n",
       "test_nwR2       \u001b[1;36m-208.537\u001b[0m    \u001b[1;36m287.733\u001b[0m\n",
       "test_nwMBD     \u001b[1;36m-2849.614\u001b[0m   \u001b[1;36m1698.534\u001b[0m\n",
       "test_nwSC          \u001b[1;36m0.005\u001b[0m      \u001b[1;36m0.005\u001b[0m\n",
       "test_nwABC         \u001b[1;36m0.345\u001b[0m      \u001b[1;36m0.049\u001b[0m\n",
       "test_nwCCI         \u001b[1;36m0.351\u001b[0m      \u001b[1;36m0.044\u001b[0m\n",
       "test_nwCOI         \u001b[1;36m0.000\u001b[0m      \u001b[1;36m0.000\u001b[0m\n",
       "test_nwCUI         \u001b[1;36m0.351\u001b[0m      \u001b[1;36m0.044\u001b[0m\n",
       "test_nwLCGI        \u001b[1;36m0.709\u001b[0m      \u001b[1;36m0.087\u001b[0m\n",
       "test_nwCCGI        \u001b[1;36m0.019\u001b[0m      \u001b[1;36m0.026\u001b[0m\n",
       "test_nwNCCGI       \u001b[1;36m0.032\u001b[0m      \u001b[1;36m0.045\u001b[0m"
      ]
     },
     "execution_count": 45,
     "metadata": {},
     "output_type": "execute_result"
    }
   ],
   "source": [
    "test_cv_stats.round(3)"
   ]
  },
  {
   "cell_type": "code",
   "execution_count": 47,
   "id": "3860c0a4-5e39-4c9a-916e-416a2522c952",
   "metadata": {},
   "outputs": [
    {
     "data": {
      "text/html": [
       "<pre style=\"white-space:pre;overflow-x:auto;line-height:normal;font-family:Menlo,'DejaVu Sans Mono',consolas,'Courier New',monospace\"></pre>\n"
      ],
      "text/plain": []
     },
     "metadata": {},
     "output_type": "display_data"
    },
    {
     "data": {
      "text/html": [
       "<div>\n",
       "<style scoped>\n",
       "    .dataframe tbody tr th:only-of-type {\n",
       "        vertical-align: middle;\n",
       "    }\n",
       "\n",
       "    .dataframe tbody tr th {\n",
       "        vertical-align: top;\n",
       "    }\n",
       "\n",
       "    .dataframe thead th {\n",
       "        text-align: right;\n",
       "    }\n",
       "</style>\n",
       "<table border=\"1\" class=\"dataframe\">\n",
       "  <thead>\n",
       "    <tr style=\"text-align: right;\">\n",
       "      <th></th>\n",
       "      <th>cv_mean</th>\n",
       "      <th>cv_std</th>\n",
       "    </tr>\n",
       "    <tr>\n",
       "      <th>metric</th>\n",
       "      <th></th>\n",
       "      <th></th>\n",
       "    </tr>\n",
       "  </thead>\n",
       "  <tbody>\n",
       "    <tr>\n",
       "      <th>test_nwMGD</th>\n",
       "      <td>188.970</td>\n",
       "      <td>79.295</td>\n",
       "    </tr>\n",
       "    <tr>\n",
       "      <th>test_nwMAE</th>\n",
       "      <td>61.502</td>\n",
       "      <td>4.257</td>\n",
       "    </tr>\n",
       "    <tr>\n",
       "      <th>test_nwRMSE</th>\n",
       "      <td>35095.564</td>\n",
       "      <td>28735.109</td>\n",
       "    </tr>\n",
       "    <tr>\n",
       "      <th>test_nwR2</th>\n",
       "      <td>-23.844</td>\n",
       "      <td>41.886</td>\n",
       "    </tr>\n",
       "    <tr>\n",
       "      <th>test_nwMBD</th>\n",
       "      <td>-1732.854</td>\n",
       "      <td>560.853</td>\n",
       "    </tr>\n",
       "    <tr>\n",
       "      <th>test_nwSC</th>\n",
       "      <td>-0.001</td>\n",
       "      <td>0.015</td>\n",
       "    </tr>\n",
       "    <tr>\n",
       "      <th>test_nwABC</th>\n",
       "      <td>0.319</td>\n",
       "      <td>0.028</td>\n",
       "    </tr>\n",
       "    <tr>\n",
       "      <th>test_nwCCI</th>\n",
       "      <td>0.320</td>\n",
       "      <td>0.024</td>\n",
       "    </tr>\n",
       "    <tr>\n",
       "      <th>test_nwCOI</th>\n",
       "      <td>0.000</td>\n",
       "      <td>0.000</td>\n",
       "    </tr>\n",
       "    <tr>\n",
       "      <th>test_nwCUI</th>\n",
       "      <td>0.320</td>\n",
       "      <td>0.024</td>\n",
       "    </tr>\n",
       "    <tr>\n",
       "      <th>test_nwLCGI</th>\n",
       "      <td>0.648</td>\n",
       "      <td>0.043</td>\n",
       "    </tr>\n",
       "    <tr>\n",
       "      <th>test_nwCCGI</th>\n",
       "      <td>0.010</td>\n",
       "      <td>0.030</td>\n",
       "    </tr>\n",
       "    <tr>\n",
       "      <th>test_nwNCCGI</th>\n",
       "      <td>0.018</td>\n",
       "      <td>0.050</td>\n",
       "    </tr>\n",
       "  </tbody>\n",
       "</table>\n",
       "</div>"
      ],
      "text/plain": [
       "\n",
       "                cv_mean     cv_std\n",
       "metric                            \n",
       "test_nwMGD      \u001b[1;36m188.970\u001b[0m     \u001b[1;36m79.295\u001b[0m\n",
       "test_nwMAE       \u001b[1;36m61.502\u001b[0m      \u001b[1;36m4.257\u001b[0m\n",
       "test_nwRMSE   \u001b[1;36m35095.564\u001b[0m  \u001b[1;36m28735.109\u001b[0m\n",
       "test_nwR2       \u001b[1;36m-23.844\u001b[0m     \u001b[1;36m41.886\u001b[0m\n",
       "test_nwMBD    \u001b[1;36m-1732.854\u001b[0m    \u001b[1;36m560.853\u001b[0m\n",
       "test_nwSC        \u001b[1;36m-0.001\u001b[0m      \u001b[1;36m0.015\u001b[0m\n",
       "test_nwABC        \u001b[1;36m0.319\u001b[0m      \u001b[1;36m0.028\u001b[0m\n",
       "test_nwCCI        \u001b[1;36m0.320\u001b[0m      \u001b[1;36m0.024\u001b[0m\n",
       "test_nwCOI        \u001b[1;36m0.000\u001b[0m      \u001b[1;36m0.000\u001b[0m\n",
       "test_nwCUI        \u001b[1;36m0.320\u001b[0m      \u001b[1;36m0.024\u001b[0m\n",
       "test_nwLCGI       \u001b[1;36m0.648\u001b[0m      \u001b[1;36m0.043\u001b[0m\n",
       "test_nwCCGI       \u001b[1;36m0.010\u001b[0m      \u001b[1;36m0.030\u001b[0m\n",
       "test_nwNCCGI      \u001b[1;36m0.018\u001b[0m      \u001b[1;36m0.050\u001b[0m"
      ]
     },
     "execution_count": 47,
     "metadata": {},
     "output_type": "execute_result"
    }
   ],
   "source": [
    "test_wuthrich_cv_stats.round(3)"
   ]
  },
  {
   "cell_type": "code",
   "execution_count": null,
   "id": "605b4bc7-a02d-4256-af45-12eb1e642831",
   "metadata": {},
   "outputs": [],
   "source": []
  }
 ],
 "metadata": {
  "kernelspec": {
   "display_name": "Python 3 (ipykernel)",
   "language": "python",
   "name": "python3"
  },
  "language_info": {
   "codemirror_mode": {
    "name": "ipython",
    "version": 3
   },
   "file_extension": ".py",
   "mimetype": "text/x-python",
   "name": "python",
   "nbconvert_exporter": "python",
   "pygments_lexer": "ipython3",
   "version": "3.11.11"
  }
 },
 "nbformat": 4,
 "nbformat_minor": 5
}
