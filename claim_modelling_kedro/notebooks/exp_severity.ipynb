{
 "cells": [
  {
   "cell_type": "code",
   "execution_count": 1,
   "id": "a5e4bd9b-58ad-454c-a145-e88fa372da20",
   "metadata": {},
   "outputs": [
    {
     "data": {
      "text/html": [
       "<pre style=\"white-space:pre;overflow-x:auto;line-height:normal;font-family:Menlo,'DejaVu Sans Mono',consolas,'Courier New',monospace\"><span style=\"color: #7fbfbf; text-decoration-color: #7fbfbf\">[01/12/25 19:21:52] </span><span style=\"color: #000080; text-decoration-color: #000080\">INFO    </span> Reloaded kedro. Active mlflow_run_id: f341f4064ca641eb8a5d9c2b5906e273 <a href=\"file:///home/krzysiek/Development/claim-modelling/claim_modelling_kedro/notebooks/utils/my_kedro.py\" target=\"_blank\"><span style=\"color: #7f7f7f; text-decoration-color: #7f7f7f\">my_kedro.py</span></a><span style=\"color: #7f7f7f; text-decoration-color: #7f7f7f\">:</span><a href=\"file:///home/krzysiek/Development/claim-modelling/claim_modelling_kedro/notebooks/utils/my_kedro.py#125\" target=\"_blank\"><span style=\"color: #7f7f7f; text-decoration-color: #7f7f7f\">125</span></a>\n",
       "</pre>\n"
      ],
      "text/plain": [
       "\u001b[2;36m[01/12/25 19:21:52]\u001b[0m\u001b[2;36m \u001b[0m\u001b[34mINFO    \u001b[0m Reloaded kedro. Active mlflow_run_id: f341f4064ca641eb8a5d9c2b5906e273 \u001b]8;id=188530;file:///home/krzysiek/Development/claim-modelling/claim_modelling_kedro/notebooks/utils/my_kedro.py\u001b\\\u001b[2mmy_kedro.py\u001b[0m\u001b]8;;\u001b\\\u001b[2m:\u001b[0m\u001b]8;id=832915;file:///home/krzysiek/Development/claim-modelling/claim_modelling_kedro/notebooks/utils/my_kedro.py#125\u001b\\\u001b[2m125\u001b[0m\u001b]8;;\u001b\\\n"
      ]
     },
     "metadata": {},
     "output_type": "display_data"
    }
   ],
   "source": [
    "import sys\n",
    "sys.path.insert(0, \"/home/krzysiek/Development/claim-modelling/claim_modelling_kedro/notebooks/utils\")\n",
    "\n",
    "from utils.my_kedro import MyKedro, suppress_all_loggers\n",
    "import logging\n",
    "\n",
    "logger = logging.getLogger(__name__)\n",
    "logger.setLevel(\"INFO\")\n",
    "\n",
    "my_kedro = MyKedro()"
   ]
  },
  {
   "cell_type": "code",
   "execution_count": 84,
   "id": "5318e05d-490a-491a-8e08-0d98bf15058b",
   "metadata": {},
   "outputs": [],
   "source": [
    "my_kedro.reload()"
   ]
  },
  {
   "cell_type": "code",
   "execution_count": 64,
   "id": "8af5daae-04d5-4273-83d3-29e310b56ced",
   "metadata": {},
   "outputs": [],
   "source": [
    "config = my_kedro.run(\"init\", level=\"ERROR\")[\"config\"]"
   ]
  },
  {
   "cell_type": "code",
   "execution_count": 85,
   "id": "835723e9-df38-49f5-979d-d085e4c5f18e",
   "metadata": {},
   "outputs": [],
   "source": [
    "task_out = my_kedro.run(\"de\")"
   ]
  },
  {
   "cell_type": "code",
   "execution_count": 74,
   "id": "c3797cd6-9bb5-4b12-8973-fde74711c37f",
   "metadata": {},
   "outputs": [],
   "source": [
    "# catalog.list()"
   ]
  },
  {
   "cell_type": "code",
   "execution_count": 86,
   "id": "bfa78e6d-3144-4323-a18c-3711f95e250c",
   "metadata": {},
   "outputs": [],
   "source": [
    "transformed_sample_features_df = catalog.load(\"transformed_sample_features_df\")"
   ]
  },
  {
   "cell_type": "code",
   "execution_count": 87,
   "id": "a9fe29cc-4304-42a6-a665-8ae861ab7fdf",
   "metadata": {},
   "outputs": [],
   "source": [
    "transformed_sample_features_df.head()"
   ]
  }
 ],
 "metadata": {
  "kernelspec": {
   "display_name": "Python 3 (ipykernel)",
   "language": "python",
   "name": "python3"
  },
  "language_info": {
   "codemirror_mode": {
    "name": "ipython",
    "version": 3
   },
   "file_extension": ".py",
   "mimetype": "text/x-python",
   "name": "python",
   "nbconvert_exporter": "python",
   "pygments_lexer": "ipython3",
   "version": "3.11.9"
  }
 },
 "nbformat": 4,
 "nbformat_minor": 5
}
