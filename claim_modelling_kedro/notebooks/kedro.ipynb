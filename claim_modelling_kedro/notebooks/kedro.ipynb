{
 "cells": [
  {
   "cell_type": "code",
   "execution_count": 4,
   "id": "a5e4bd9b-58ad-454c-a145-e88fa372da20",
   "metadata": {},
   "outputs": [
    {
     "data": {
      "text/html": [
       "<pre style=\"white-space:pre;overflow-x:auto;line-height:normal;font-family:Menlo,'DejaVu Sans Mono',consolas,'Courier New',monospace\"><span style=\"color: #7fbfbf; text-decoration-color: #7fbfbf\">[09/21/24 16:18:15] </span><span style=\"color: #000080; text-decoration-color: #000080\">INFO    </span> Reloaded kedro. Active mlflow_run_id: 52294e20c80f4213812ce8370e2eb804 <a href=\"file:///home/krzysiek/Development/solvency-modelling/solvency_models/notebooks/utils/my_kedro.py\" target=\"_blank\"><span style=\"color: #7f7f7f; text-decoration-color: #7f7f7f\">my_kedro.py</span></a><span style=\"color: #7f7f7f; text-decoration-color: #7f7f7f\">:</span><a href=\"file:///home/krzysiek/Development/solvency-modelling/solvency_models/notebooks/utils/my_kedro.py#125\" target=\"_blank\"><span style=\"color: #7f7f7f; text-decoration-color: #7f7f7f\">125</span></a>\n",
       "</pre>\n"
      ],
      "text/plain": [
       "\u001B[2;36m[09/21/24 16:18:15]\u001B[0m\u001B[2;36m \u001B[0m\u001B[34mINFO    \u001B[0m Reloaded kedro. Active mlflow_run_id: 52294e20c80f4213812ce8370e2eb804 \u001B]8;id=963837;file:///home/krzysiek/Development/solvency-modelling/solvency_models/notebooks/utils/my_kedro.py\u001B\\\u001B[2mmy_kedro.py\u001B[0m\u001B]8;;\u001B\\\u001B[2m:\u001B[0m\u001B]8;id=268893;file:///home/krzysiek/Development/solvency-modelling/solvency_models/notebooks/utils/my_kedro.py#125\u001B\\\u001B[2m125\u001B[0m\u001B]8;;\u001B\\\n"
      ]
     },
     "metadata": {},
     "output_type": "display_data"
    }
   ],
   "source": [
    "import sys\n",
    "sys.path.insert(0, \"/home/krzysiek/Development/claim-modeling/claim_modelling_kedro/notebooks/utils\")\n",
    "\n",
    "from utils.my_kedro import MyKedro, suppress_all_loggers\n",
    "import logging\n",
    "\n",
    "logger = logging.getLogger(__name__)\n",
    "logger.setLevel(\"INFO\")\n",
    "\n",
    "# my_kedro = MyKedro()\n",
    "my_kedro = MyKedro(mlflow_run_id=\"52294e20c80f4213812ce8370e2eb804\")\n",
    "config = my_kedro.run(\"init\", level=\"ERROR\")[\"config\"]"
   ]
  },
  {
   "cell_type": "code",
   "execution_count": 41,
   "id": "5318e05d-490a-491a-8e08-0d98bf15058b",
   "metadata": {},
   "outputs": [],
   "source": [
    "my_kedro.reload()\n",
    "config = my_kedro.run(\"init\", level=\"ERROR\")[\"config\"]"
   ]
  },
  {
   "cell_type": "code",
   "execution_count": 2,
   "id": "8c9a2991-9aeb-44f9-a3a4-62b9fbf7607f",
   "metadata": {
    "scrolled": true
   },
   "outputs": [],
   "source": [
    "task_out = my_kedro.run(\"all_to_smpl\")"
   ]
  },
  {
   "cell_type": "code",
   "execution_count": 35,
   "id": "835723e9-df38-49f5-979d-d085e4c5f18e",
   "metadata": {
    "scrolled": true
   },
   "outputs": [],
   "source": [
    "task_out = my_kedro.run(\"de\", level=\"DEBUG\")"
   ]
  },
  {
   "cell_type": "code",
   "execution_count": 3,
   "id": "572ac11a-306e-4852-8a78-cf8d6bf46d0d",
   "metadata": {
    "scrolled": true
   },
   "outputs": [
    {
     "data": {
      "text/html": [
       "<pre style=\"white-space:pre;overflow-x:auto;line-height:normal;font-family:Menlo,'DejaVu Sans Mono',consolas,'Courier New',monospace\"><span style=\"color: #7fbfbf; text-decoration-color: #7fbfbf\">[09/19/24 16:02:24] </span><span style=\"color: #000080; text-decoration-color: #000080\">INFO    </span> Kedro project solvency_models                                           <a href=\"file:///home/krzysiek/Development/solvency-modelling/venv/lib/python3.11/site-packages/kedro/framework/session/session.py\" target=\"_blank\"><span style=\"color: #7f7f7f; text-decoration-color: #7f7f7f\">session.py</span></a><span style=\"color: #7f7f7f; text-decoration-color: #7f7f7f\">:</span><a href=\"file:///home/krzysiek/Development/solvency-modelling/venv/lib/python3.11/site-packages/kedro/framework/session/session.py#321\" target=\"_blank\"><span style=\"color: #7f7f7f; text-decoration-color: #7f7f7f\">321</span></a>\n",
       "</pre>\n"
      ],
      "text/plain": [
       "\u001B[2;36m[09/19/24 16:02:24]\u001B[0m\u001B[2;36m \u001B[0m\u001B[34mINFO    \u001B[0m Kedro project solvency_models                                           \u001B]8;id=529462;file:///home/krzysiek/Development/solvency-modelling/venv/lib/python3.11/site-packages/kedro/framework/session/session.py\u001B\\\u001B[2msession.py\u001B[0m\u001B]8;;\u001B\\\u001B[2m:\u001B[0m\u001B]8;id=137186;file:///home/krzysiek/Development/solvency-modelling/venv/lib/python3.11/site-packages/kedro/framework/session/session.py#321\u001B\\\u001B[2m321\u001B[0m\u001B]8;;\u001B\\\n"
      ]
     },
     "metadata": {},
     "output_type": "display_data"
    },
    {
     "data": {
      "text/html": [
       "<pre style=\"white-space:pre;overflow-x:auto;line-height:normal;font-family:Menlo,'DejaVu Sans Mono',consolas,'Courier New',monospace\"><span style=\"color: #7fbfbf; text-decoration-color: #7fbfbf\">                    </span><span style=\"color: #000080; text-decoration-color: #000080\">INFO    </span> mlflow_config.server.mlflow_tracking_uri: <span style=\"color: #0000ff; text-decoration-color: #0000ff; text-decoration: underline\">http://127.0.0.1:5000</span>          <a href=\"file:///home/krzysiek/Development/solvency-modelling/solvency_models/src/solvency_models/context.py\" target=\"_blank\"><span style=\"color: #7f7f7f; text-decoration-color: #7f7f7f\">context.py</span></a><span style=\"color: #7f7f7f; text-decoration-color: #7f7f7f\">:</span><a href=\"file:///home/krzysiek/Development/solvency-modelling/solvency_models/src/solvency_models/context.py#71\" target=\"_blank\"><span style=\"color: #7f7f7f; text-decoration-color: #7f7f7f\">71</span></a>\n",
       "</pre>\n"
      ],
      "text/plain": [
       "\u001B[2;36m                   \u001B[0m\u001B[2;36m \u001B[0m\u001B[34mINFO    \u001B[0m mlflow_config.server.mlflow_tracking_uri: \u001B[4;94mhttp://127.0.0.1:5000\u001B[0m          \u001B]8;id=216325;file:///home/krzysiek/Development/solvency-modelling/solvency_models/src/solvency_models/context.py\u001B\\\u001B[2mcontext.py\u001B[0m\u001B]8;;\u001B\\\u001B[2m:\u001B[0m\u001B]8;id=226466;file:///home/krzysiek/Development/solvency-modelling/solvency_models/src/solvency_models/context.py#71\u001B\\\u001B[2m71\u001B[0m\u001B]8;;\u001B\\\n"
      ]
     },
     "metadata": {},
     "output_type": "display_data"
    },
    {
     "data": {
      "text/html": [
       "<pre style=\"white-space:pre;overflow-x:auto;line-height:normal;font-family:Menlo,'DejaVu Sans Mono',consolas,'Courier New',monospace\"><span style=\"color: #7fbfbf; text-decoration-color: #7fbfbf\">                    </span><span style=\"color: #000080; text-decoration-color: #000080\">INFO    </span> mlflow_run_id: b8c84d269fa4471bb803fe2766d2f8c6                          <a href=\"file:///home/krzysiek/Development/solvency-modelling/solvency_models/src/solvency_models/context.py\" target=\"_blank\"><span style=\"color: #7f7f7f; text-decoration-color: #7f7f7f\">context.py</span></a><span style=\"color: #7f7f7f; text-decoration-color: #7f7f7f\">:</span><a href=\"file:///home/krzysiek/Development/solvency-modelling/solvency_models/src/solvency_models/context.py#86\" target=\"_blank\"><span style=\"color: #7f7f7f; text-decoration-color: #7f7f7f\">86</span></a>\n",
       "</pre>\n"
      ],
      "text/plain": [
       "\u001B[2;36m                   \u001B[0m\u001B[2;36m \u001B[0m\u001B[34mINFO    \u001B[0m mlflow_run_id: b8c84d269fa4471bb803fe2766d2f8c6                          \u001B]8;id=602157;file:///home/krzysiek/Development/solvency-modelling/solvency_models/src/solvency_models/context.py\u001B\\\u001B[2mcontext.py\u001B[0m\u001B]8;;\u001B\\\u001B[2m:\u001B[0m\u001B]8;id=886232;file:///home/krzysiek/Development/solvency-modelling/solvency_models/src/solvency_models/context.py#86\u001B\\\u001B[2m86\u001B[0m\u001B]8;;\u001B\\\n"
      ]
     },
     "metadata": {},
     "output_type": "display_data"
    },
    {
     "data": {
      "text/html": [
       "<pre style=\"white-space:pre;overflow-x:auto;line-height:normal;font-family:Menlo,'DejaVu Sans Mono',consolas,'Courier New',monospace\"><span style=\"color: #7fbfbf; text-decoration-color: #7fbfbf\">                    </span><span style=\"color: #000080; text-decoration-color: #000080\">INFO    </span> Registering new custom resolver: <span style=\"color: #008000; text-decoration-color: #008000\">'km.random_name'</span>                    <a href=\"file:///home/krzysiek/Development/solvency-modelling/venv/lib/python3.11/site-packages/kedro_mlflow/framework/hooks/mlflow_hook.py\" target=\"_blank\"><span style=\"color: #7f7f7f; text-decoration-color: #7f7f7f\">mlflow_hook.py</span></a><span style=\"color: #7f7f7f; text-decoration-color: #7f7f7f\">:</span><a href=\"file:///home/krzysiek/Development/solvency-modelling/venv/lib/python3.11/site-packages/kedro_mlflow/framework/hooks/mlflow_hook.py#65\" target=\"_blank\"><span style=\"color: #7f7f7f; text-decoration-color: #7f7f7f\">65</span></a>\n",
       "</pre>\n"
      ],
      "text/plain": [
       "\u001B[2;36m                   \u001B[0m\u001B[2;36m \u001B[0m\u001B[34mINFO    \u001B[0m Registering new custom resolver: \u001B[32m'km.random_name'\u001B[0m                    \u001B]8;id=613870;file:///home/krzysiek/Development/solvency-modelling/venv/lib/python3.11/site-packages/kedro_mlflow/framework/hooks/mlflow_hook.py\u001B\\\u001B[2mmlflow_hook.py\u001B[0m\u001B]8;;\u001B\\\u001B[2m:\u001B[0m\u001B]8;id=517520;file:///home/krzysiek/Development/solvency-modelling/venv/lib/python3.11/site-packages/kedro_mlflow/framework/hooks/mlflow_hook.py#65\u001B\\\u001B[2m65\u001B[0m\u001B]8;;\u001B\\\n"
      ]
     },
     "metadata": {},
     "output_type": "display_data"
    },
    {
     "data": {
      "text/html": [
       "<pre style=\"white-space:pre;overflow-x:auto;line-height:normal;font-family:Menlo,'DejaVu Sans Mono',consolas,'Courier New',monospace\"><span style=\"color: #7fbfbf; text-decoration-color: #7fbfbf\">                    </span><span style=\"color: #800000; text-decoration-color: #800000\">WARNING </span> The mlflow run b8c84d269fa4471bb803fe2766d2f8c6 is already active.   <a href=\"file:///home/krzysiek/Development/solvency-modelling/venv/lib/python3.11/site-packages/kedro_mlflow/framework/hooks/mlflow_hook.py\" target=\"_blank\"><span style=\"color: #7f7f7f; text-decoration-color: #7f7f7f\">mlflow_hook.py</span></a><span style=\"color: #7f7f7f; text-decoration-color: #7f7f7f\">:</span><a href=\"file:///home/krzysiek/Development/solvency-modelling/venv/lib/python3.11/site-packages/kedro_mlflow/framework/hooks/mlflow_hook.py#97\" target=\"_blank\"><span style=\"color: #7f7f7f; text-decoration-color: #7f7f7f\">97</span></a>\n",
       "<span style=\"color: #7fbfbf; text-decoration-color: #7fbfbf\">                    </span>         Configuration is inferred from the environment, and mlflow.yml is    <span style=\"color: #7f7f7f; text-decoration-color: #7f7f7f\">                 </span>\n",
       "<span style=\"color: #7fbfbf; text-decoration-color: #7fbfbf\">                    </span>         ignored.                                                             <span style=\"color: #7f7f7f; text-decoration-color: #7f7f7f\">                 </span>\n",
       "</pre>\n"
      ],
      "text/plain": [
       "\u001B[2;36m                   \u001B[0m\u001B[2;36m \u001B[0m\u001B[31mWARNING \u001B[0m The mlflow run b8c84d269fa4471bb803fe2766d2f8c6 is already active.   \u001B]8;id=281939;file:///home/krzysiek/Development/solvency-modelling/venv/lib/python3.11/site-packages/kedro_mlflow/framework/hooks/mlflow_hook.py\u001B\\\u001B[2mmlflow_hook.py\u001B[0m\u001B]8;;\u001B\\\u001B[2m:\u001B[0m\u001B]8;id=546409;file:///home/krzysiek/Development/solvency-modelling/venv/lib/python3.11/site-packages/kedro_mlflow/framework/hooks/mlflow_hook.py#97\u001B\\\u001B[2m97\u001B[0m\u001B]8;;\u001B\\\n",
       "\u001B[2;36m                    \u001B[0m         Configuration is inferred from the environment, and mlflow.yml is    \u001B[2m                 \u001B[0m\n",
       "\u001B[2;36m                    \u001B[0m         ignored.                                                             \u001B[2m                 \u001B[0m\n"
      ]
     },
     "metadata": {},
     "output_type": "display_data"
    },
    {
     "data": {
      "text/html": [
       "<pre style=\"white-space:pre;overflow-x:auto;line-height:normal;font-family:Menlo,'DejaVu Sans Mono',consolas,'Courier New',monospace\"><span style=\"color: #7fbfbf; text-decoration-color: #7fbfbf\">                    </span><span style=\"color: #800000; text-decoration-color: #800000\">WARNING </span> mlflow_config.server.<span style=\"color: #808000; text-decoration-color: #808000\">mlflow_tracking_uri</span>=<span style=\"color: #008000; text-decoration-color: #008000\">'http://127.0.0.1:5000'</span>    <a href=\"file:///home/krzysiek/Development/solvency-modelling/venv/lib/python3.11/site-packages/kedro_mlflow/framework/hooks/mlflow_hook.py\" target=\"_blank\"><span style=\"color: #7f7f7f; text-decoration-color: #7f7f7f\">mlflow_hook.py</span></a><span style=\"color: #7f7f7f; text-decoration-color: #7f7f7f\">:</span><a href=\"file:///home/krzysiek/Development/solvency-modelling/venv/lib/python3.11/site-packages/kedro_mlflow/framework/hooks/mlflow_hook.py#105\" target=\"_blank\"><span style=\"color: #7f7f7f; text-decoration-color: #7f7f7f\">105</span></a>\n",
       "</pre>\n"
      ],
      "text/plain": [
       "\u001B[2;36m                   \u001B[0m\u001B[2;36m \u001B[0m\u001B[31mWARNING \u001B[0m mlflow_config.server.\u001B[33mmlflow_tracking_uri\u001B[0m=\u001B[32m'http://127.0.0.1:5000'\u001B[0m    \u001B]8;id=535631;file:///home/krzysiek/Development/solvency-modelling/venv/lib/python3.11/site-packages/kedro_mlflow/framework/hooks/mlflow_hook.py\u001B\\\u001B[2mmlflow_hook.py\u001B[0m\u001B]8;;\u001B\\\u001B[2m:\u001B[0m\u001B]8;id=312985;file:///home/krzysiek/Development/solvency-modelling/venv/lib/python3.11/site-packages/kedro_mlflow/framework/hooks/mlflow_hook.py#105\u001B\\\u001B[2m105\u001B[0m\u001B]8;;\u001B\\\n"
      ]
     },
     "metadata": {},
     "output_type": "display_data"
    },
    {
     "data": {
      "text/html": [
       "<pre style=\"white-space:pre;overflow-x:auto;line-height:normal;font-family:Menlo,'DejaVu Sans Mono',consolas,'Courier New',monospace\"><span style=\"color: #7fbfbf; text-decoration-color: #7fbfbf\">                    </span><span style=\"color: #800000; text-decoration-color: #800000\">WARNING </span> mlflow_config.tracking.run.<span style=\"color: #808000; text-decoration-color: #808000\">id</span>=<span style=\"color: #008000; text-decoration-color: #008000\">'b8c84d269fa4471bb803fe2766d2f8c6'</span>    <a href=\"file:///home/krzysiek/Development/solvency-modelling/venv/lib/python3.11/site-packages/kedro_mlflow/framework/hooks/mlflow_hook.py\" target=\"_blank\"><span style=\"color: #7f7f7f; text-decoration-color: #7f7f7f\">mlflow_hook.py</span></a><span style=\"color: #7f7f7f; text-decoration-color: #7f7f7f\">:</span><a href=\"file:///home/krzysiek/Development/solvency-modelling/venv/lib/python3.11/site-packages/kedro_mlflow/framework/hooks/mlflow_hook.py#108\" target=\"_blank\"><span style=\"color: #7f7f7f; text-decoration-color: #7f7f7f\">108</span></a>\n",
       "</pre>\n"
      ],
      "text/plain": [
       "\u001B[2;36m                   \u001B[0m\u001B[2;36m \u001B[0m\u001B[31mWARNING \u001B[0m mlflow_config.tracking.run.\u001B[33mid\u001B[0m=\u001B[32m'b8c84d269fa4471bb803fe2766d2f8c6'\u001B[0m    \u001B]8;id=155449;file:///home/krzysiek/Development/solvency-modelling/venv/lib/python3.11/site-packages/kedro_mlflow/framework/hooks/mlflow_hook.py\u001B\\\u001B[2mmlflow_hook.py\u001B[0m\u001B]8;;\u001B\\\u001B[2m:\u001B[0m\u001B]8;id=877211;file:///home/krzysiek/Development/solvency-modelling/venv/lib/python3.11/site-packages/kedro_mlflow/framework/hooks/mlflow_hook.py#108\u001B\\\u001B[2m108\u001B[0m\u001B]8;;\u001B\\\n"
      ]
     },
     "metadata": {},
     "output_type": "display_data"
    },
    {
     "data": {
      "text/html": [
       "<pre style=\"white-space:pre;overflow-x:auto;line-height:normal;font-family:Menlo,'DejaVu Sans Mono',consolas,'Courier New',monospace\"><span style=\"color: #7fbfbf; text-decoration-color: #7fbfbf\">                    </span><span style=\"color: #800000; text-decoration-color: #800000\">WARNING </span> mlflow_config.tracking.experiment.<span style=\"color: #808000; text-decoration-color: #808000\">name</span>=<span style=\"color: #008000; text-decoration-color: #008000\">'no-cross'</span>                   <a href=\"file:///home/krzysiek/Development/solvency-modelling/venv/lib/python3.11/site-packages/kedro_mlflow/framework/hooks/mlflow_hook.py\" target=\"_blank\"><span style=\"color: #7f7f7f; text-decoration-color: #7f7f7f\">mlflow_hook.py</span></a><span style=\"color: #7f7f7f; text-decoration-color: #7f7f7f\">:</span><a href=\"file:///home/krzysiek/Development/solvency-modelling/venv/lib/python3.11/site-packages/kedro_mlflow/framework/hooks/mlflow_hook.py#113\" target=\"_blank\"><span style=\"color: #7f7f7f; text-decoration-color: #7f7f7f\">113</span></a>\n",
       "</pre>\n"
      ],
      "text/plain": [
       "\u001B[2;36m                   \u001B[0m\u001B[2;36m \u001B[0m\u001B[31mWARNING \u001B[0m mlflow_config.tracking.experiment.\u001B[33mname\u001B[0m=\u001B[32m'no-cross'\u001B[0m                   \u001B]8;id=780444;file:///home/krzysiek/Development/solvency-modelling/venv/lib/python3.11/site-packages/kedro_mlflow/framework/hooks/mlflow_hook.py\u001B\\\u001B[2mmlflow_hook.py\u001B[0m\u001B]8;;\u001B\\\u001B[2m:\u001B[0m\u001B]8;id=112388;file:///home/krzysiek/Development/solvency-modelling/venv/lib/python3.11/site-packages/kedro_mlflow/framework/hooks/mlflow_hook.py#113\u001B\\\u001B[2m113\u001B[0m\u001B]8;;\u001B\\\n"
      ]
     },
     "metadata": {},
     "output_type": "display_data"
    },
    {
     "data": {
      "text/html": [
       "<pre style=\"white-space:pre;overflow-x:auto;line-height:normal;font-family:Menlo,'DejaVu Sans Mono',consolas,'Courier New',monospace\"><span style=\"color: #7fbfbf; text-decoration-color: #7fbfbf\">                    </span><span style=\"color: #800000; text-decoration-color: #800000\">WARNING </span> A mlflow run was already active                                     <a href=\"file:///home/krzysiek/Development/solvency-modelling/venv/lib/python3.11/site-packages/kedro_mlflow/framework/hooks/mlflow_hook.py\" target=\"_blank\"><span style=\"color: #7f7f7f; text-decoration-color: #7f7f7f\">mlflow_hook.py</span></a><span style=\"color: #7f7f7f; text-decoration-color: #7f7f7f\">:</span><a href=\"file:///home/krzysiek/Development/solvency-modelling/venv/lib/python3.11/site-packages/kedro_mlflow/framework/hooks/mlflow_hook.py#243\" target=\"_blank\"><span style=\"color: #7f7f7f; text-decoration-color: #7f7f7f\">243</span></a>\n",
       "<span style=\"color: #7fbfbf; text-decoration-color: #7fbfbf\">                    </span>         <span style=\"font-weight: bold\">(</span><span style=\"color: #808000; text-decoration-color: #808000\">run_id</span>=<span style=\"color: #008000; text-decoration-color: #008000\">'b8c84d269fa4471bb803fe2766d2f8c6'</span><span style=\"font-weight: bold\">)</span> before the KedroSession <span style=\"color: #7f7f7f; text-decoration-color: #7f7f7f\">                  </span>\n",
       "<span style=\"color: #7fbfbf; text-decoration-color: #7fbfbf\">                    </span>         was started. This run will be used for logging.                     <span style=\"color: #7f7f7f; text-decoration-color: #7f7f7f\">                  </span>\n",
       "</pre>\n"
      ],
      "text/plain": [
       "\u001B[2;36m                   \u001B[0m\u001B[2;36m \u001B[0m\u001B[31mWARNING \u001B[0m A mlflow run was already active                                     \u001B]8;id=210247;file:///home/krzysiek/Development/solvency-modelling/venv/lib/python3.11/site-packages/kedro_mlflow/framework/hooks/mlflow_hook.py\u001B\\\u001B[2mmlflow_hook.py\u001B[0m\u001B]8;;\u001B\\\u001B[2m:\u001B[0m\u001B]8;id=370661;file:///home/krzysiek/Development/solvency-modelling/venv/lib/python3.11/site-packages/kedro_mlflow/framework/hooks/mlflow_hook.py#243\u001B\\\u001B[2m243\u001B[0m\u001B]8;;\u001B\\\n",
       "\u001B[2;36m                    \u001B[0m         \u001B[1m(\u001B[0m\u001B[33mrun_id\u001B[0m=\u001B[32m'b8c84d269fa4471bb803fe2766d2f8c6'\u001B[0m\u001B[1m)\u001B[0m before the KedroSession \u001B[2m                  \u001B[0m\n",
       "\u001B[2;36m                    \u001B[0m         was started. This run will be used for logging.                     \u001B[2m                  \u001B[0m\n"
      ]
     },
     "metadata": {},
     "output_type": "display_data"
    },
    {
     "data": {
      "text/html": [
       "<pre style=\"white-space:pre;overflow-x:auto;line-height:normal;font-family:Menlo,'DejaVu Sans Mono',consolas,'Courier New',monospace\"><span style=\"color: #7fbfbf; text-decoration-color: #7fbfbf\">                    </span><span style=\"color: #000080; text-decoration-color: #000080\">INFO    </span> Using synchronous mode for loading and saving data. Use the    <a href=\"file:///home/krzysiek/Development/solvency-modelling/venv/lib/python3.11/site-packages/kedro/runner/sequential_runner.py\" target=\"_blank\"><span style=\"color: #7f7f7f; text-decoration-color: #7f7f7f\">sequential_runner.py</span></a><span style=\"color: #7f7f7f; text-decoration-color: #7f7f7f\">:</span><a href=\"file:///home/krzysiek/Development/solvency-modelling/venv/lib/python3.11/site-packages/kedro/runner/sequential_runner.py#64\" target=\"_blank\"><span style=\"color: #7f7f7f; text-decoration-color: #7f7f7f\">64</span></a>\n",
       "<span style=\"color: #7fbfbf; text-decoration-color: #7fbfbf\">                    </span>         --async flag for potential performance gains.                  <span style=\"color: #7f7f7f; text-decoration-color: #7f7f7f\">                       </span>\n",
       "<span style=\"color: #7fbfbf; text-decoration-color: #7fbfbf\">                    </span>         <span style=\"color: #0000ff; text-decoration-color: #0000ff; text-decoration: underline\">https://docs.kedro.org/en/stable/nodes_and_pipelines/run_a_pip</span> <span style=\"color: #7f7f7f; text-decoration-color: #7f7f7f\">                       </span>\n",
       "<span style=\"color: #7fbfbf; text-decoration-color: #7fbfbf\">                    </span>         <span style=\"color: #0000ff; text-decoration-color: #0000ff; text-decoration: underline\">eline.html#load-and-save-asynchronously</span>                        <span style=\"color: #7f7f7f; text-decoration-color: #7f7f7f\">                       </span>\n",
       "</pre>\n"
      ],
      "text/plain": [
       "\u001B[2;36m                   \u001B[0m\u001B[2;36m \u001B[0m\u001B[34mINFO    \u001B[0m Using synchronous mode for loading and saving data. Use the    \u001B]8;id=689401;file:///home/krzysiek/Development/solvency-modelling/venv/lib/python3.11/site-packages/kedro/runner/sequential_runner.py\u001B\\\u001B[2msequential_runner.py\u001B[0m\u001B]8;;\u001B\\\u001B[2m:\u001B[0m\u001B]8;id=352941;file:///home/krzysiek/Development/solvency-modelling/venv/lib/python3.11/site-packages/kedro/runner/sequential_runner.py#64\u001B\\\u001B[2m64\u001B[0m\u001B]8;;\u001B\\\n",
       "\u001B[2;36m                    \u001B[0m         --async flag for potential performance gains.                  \u001B[2m                       \u001B[0m\n",
       "\u001B[2;36m                    \u001B[0m         \u001B[4;94mhttps://docs.kedro.org/en/stable/nodes_and_pipelines/run_a_pip\u001B[0m \u001B[2m                       \u001B[0m\n",
       "\u001B[2;36m                    \u001B[0m         \u001B[4;94meline.html#load-and-save-asynchronously\u001B[0m                        \u001B[2m                       \u001B[0m\n"
      ]
     },
     "metadata": {},
     "output_type": "display_data"
    },
    {
     "data": {
      "text/html": [
       "<pre style=\"white-space:pre;overflow-x:auto;line-height:normal;font-family:Menlo,'DejaVu Sans Mono',consolas,'Courier New',monospace\"><span style=\"color: #7fbfbf; text-decoration-color: #7fbfbf\">                    </span><span style=\"color: #000080; text-decoration-color: #000080\">INFO    </span> Loading data from <span style=\"color: #ff8700; text-decoration-color: #ff8700\">parameters</span> <span style=\"font-weight: bold\">(</span>MemoryDataset<span style=\"font-weight: bold\">)</span><span style=\"color: #808000; text-decoration-color: #808000\">...</span>                    <a href=\"file:///home/krzysiek/Development/solvency-modelling/venv/lib/python3.11/site-packages/kedro/io/data_catalog.py\" target=\"_blank\"><span style=\"color: #7f7f7f; text-decoration-color: #7f7f7f\">data_catalog.py</span></a><span style=\"color: #7f7f7f; text-decoration-color: #7f7f7f\">:</span><a href=\"file:///home/krzysiek/Development/solvency-modelling/venv/lib/python3.11/site-packages/kedro/io/data_catalog.py#483\" target=\"_blank\"><span style=\"color: #7f7f7f; text-decoration-color: #7f7f7f\">483</span></a>\n",
       "</pre>\n"
      ],
      "text/plain": [
       "\u001B[2;36m                   \u001B[0m\u001B[2;36m \u001B[0m\u001B[34mINFO    \u001B[0m Loading data from \u001B[38;5;208mparameters\u001B[0m \u001B[1m(\u001B[0mMemoryDataset\u001B[1m)\u001B[0m\u001B[33m...\u001B[0m                    \u001B]8;id=532404;file:///home/krzysiek/Development/solvency-modelling/venv/lib/python3.11/site-packages/kedro/io/data_catalog.py\u001B\\\u001B[2mdata_catalog.py\u001B[0m\u001B]8;;\u001B\\\u001B[2m:\u001B[0m\u001B]8;id=759917;file:///home/krzysiek/Development/solvency-modelling/venv/lib/python3.11/site-packages/kedro/io/data_catalog.py#483\u001B\\\u001B[2m483\u001B[0m\u001B]8;;\u001B\\\n"
      ]
     },
     "metadata": {},
     "output_type": "display_data"
    },
    {
     "data": {
      "text/html": [
       "<pre style=\"white-space:pre;overflow-x:auto;line-height:normal;font-family:Menlo,'DejaVu Sans Mono',consolas,'Courier New',monospace\"><span style=\"color: #7fbfbf; text-decoration-color: #7fbfbf\">[09/19/24 16:02:26] </span><span style=\"color: #000080; text-decoration-color: #000080\">INFO    </span> Running node: process_parameters: <span style=\"color: #800080; text-decoration-color: #800080; font-weight: bold\">process_parameters</span><span style=\"font-weight: bold\">([</span>parameters<span style=\"font-weight: bold\">])</span> -&gt;      <a href=\"file:///home/krzysiek/Development/solvency-modelling/venv/lib/python3.11/site-packages/kedro/pipeline/node.py\" target=\"_blank\"><span style=\"color: #7f7f7f; text-decoration-color: #7f7f7f\">node.py</span></a><span style=\"color: #7f7f7f; text-decoration-color: #7f7f7f\">:</span><a href=\"file:///home/krzysiek/Development/solvency-modelling/venv/lib/python3.11/site-packages/kedro/pipeline/node.py#340\" target=\"_blank\"><span style=\"color: #7f7f7f; text-decoration-color: #7f7f7f\">340</span></a>\n",
       "<span style=\"color: #7fbfbf; text-decoration-color: #7fbfbf\">                    </span>         <span style=\"font-weight: bold\">[</span>config<span style=\"font-weight: bold\">]</span>                                                                   <span style=\"color: #7f7f7f; text-decoration-color: #7f7f7f\">           </span>\n",
       "</pre>\n"
      ],
      "text/plain": [
       "\u001B[2;36m[09/19/24 16:02:26]\u001B[0m\u001B[2;36m \u001B[0m\u001B[34mINFO    \u001B[0m Running node: process_parameters: \u001B[1;35mprocess_parameters\u001B[0m\u001B[1m(\u001B[0m\u001B[1m[\u001B[0mparameters\u001B[1m]\u001B[0m\u001B[1m)\u001B[0m ->      \u001B]8;id=797451;file:///home/krzysiek/Development/solvency-modelling/venv/lib/python3.11/site-packages/kedro/pipeline/node.py\u001B\\\u001B[2mnode.py\u001B[0m\u001B]8;;\u001B\\\u001B[2m:\u001B[0m\u001B]8;id=442005;file:///home/krzysiek/Development/solvency-modelling/venv/lib/python3.11/site-packages/kedro/pipeline/node.py#340\u001B\\\u001B[2m340\u001B[0m\u001B]8;;\u001B\\\n",
       "\u001B[2;36m                    \u001B[0m         \u001B[1m[\u001B[0mconfig\u001B[1m]\u001B[0m                                                                   \u001B[2m           \u001B[0m\n"
      ]
     },
     "metadata": {},
     "output_type": "display_data"
    },
    {
     "data": {
      "text/html": [
       "<pre style=\"white-space:pre;overflow-x:auto;line-height:normal;font-family:Menlo,'DejaVu Sans Mono',consolas,'Courier New',monospace\"><span style=\"color: #7fbfbf; text-decoration-color: #7fbfbf\">                    </span><span style=\"color: #000080; text-decoration-color: #000080\">INFO    </span> Saving parameters.yml to MLFlow as an artifact<span style=\"color: #808000; text-decoration-color: #808000\">...</span>                          <a href=\"file:///home/krzysiek/Development/solvency-modelling/solvency_models/src/solvency_models/pipelines/p01_init/nodes.py\" target=\"_blank\"><span style=\"color: #7f7f7f; text-decoration-color: #7f7f7f\">nodes.py</span></a><span style=\"color: #7f7f7f; text-decoration-color: #7f7f7f\">:</span><a href=\"file:///home/krzysiek/Development/solvency-modelling/solvency_models/src/solvency_models/pipelines/p01_init/nodes.py#13\" target=\"_blank\"><span style=\"color: #7f7f7f; text-decoration-color: #7f7f7f\">13</span></a>\n",
       "</pre>\n"
      ],
      "text/plain": [
       "\u001B[2;36m                   \u001B[0m\u001B[2;36m \u001B[0m\u001B[34mINFO    \u001B[0m Saving parameters.yml to MLFlow as an artifact\u001B[33m...\u001B[0m                          \u001B]8;id=995126;file:///home/krzysiek/Development/solvency-modelling/solvency_models/src/solvency_models/pipelines/p01_init/nodes.py\u001B\\\u001B[2mnodes.py\u001B[0m\u001B]8;;\u001B\\\u001B[2m:\u001B[0m\u001B]8;id=838496;file:///home/krzysiek/Development/solvency-modelling/solvency_models/src/solvency_models/pipelines/p01_init/nodes.py#13\u001B\\\u001B[2m13\u001B[0m\u001B]8;;\u001B\\\n"
      ]
     },
     "metadata": {},
     "output_type": "display_data"
    },
    {
     "data": {
      "text/html": [
       "<pre style=\"white-space:pre;overflow-x:auto;line-height:normal;font-family:Menlo,'DejaVu Sans Mono',consolas,'Courier New',monospace\"><span style=\"color: #7fbfbf; text-decoration-color: #7fbfbf\">                    </span><span style=\"color: #000080; text-decoration-color: #000080\">INFO    </span> Saved parameters.yml to MLFlow as an artifact.                             <a href=\"file:///home/krzysiek/Development/solvency-modelling/solvency_models/src/solvency_models/pipelines/p01_init/nodes.py\" target=\"_blank\"><span style=\"color: #7f7f7f; text-decoration-color: #7f7f7f\">nodes.py</span></a><span style=\"color: #7f7f7f; text-decoration-color: #7f7f7f\">:</span><a href=\"file:///home/krzysiek/Development/solvency-modelling/solvency_models/src/solvency_models/pipelines/p01_init/nodes.py#15\" target=\"_blank\"><span style=\"color: #7f7f7f; text-decoration-color: #7f7f7f\">15</span></a>\n",
       "</pre>\n"
      ],
      "text/plain": [
       "\u001B[2;36m                   \u001B[0m\u001B[2;36m \u001B[0m\u001B[34mINFO    \u001B[0m Saved parameters.yml to MLFlow as an artifact.                             \u001B]8;id=797763;file:///home/krzysiek/Development/solvency-modelling/solvency_models/src/solvency_models/pipelines/p01_init/nodes.py\u001B\\\u001B[2mnodes.py\u001B[0m\u001B]8;;\u001B\\\u001B[2m:\u001B[0m\u001B]8;id=328661;file:///home/krzysiek/Development/solvency-modelling/solvency_models/src/solvency_models/pipelines/p01_init/nodes.py#15\u001B\\\u001B[2m15\u001B[0m\u001B]8;;\u001B\\\n"
      ]
     },
     "metadata": {},
     "output_type": "display_data"
    },
    {
     "data": {
      "text/html": [
       "<pre style=\"white-space:pre;overflow-x:auto;line-height:normal;font-family:Menlo,'DejaVu Sans Mono',consolas,'Courier New',monospace\"><span style=\"color: #7fbfbf; text-decoration-color: #7fbfbf\">                    </span><span style=\"color: #000080; text-decoration-color: #000080\">INFO    </span> Processing parameters<span style=\"color: #808000; text-decoration-color: #808000\">...</span>                                                   <a href=\"file:///home/krzysiek/Development/solvency-modelling/solvency_models/src/solvency_models/pipelines/p01_init/nodes.py\" target=\"_blank\"><span style=\"color: #7f7f7f; text-decoration-color: #7f7f7f\">nodes.py</span></a><span style=\"color: #7f7f7f; text-decoration-color: #7f7f7f\">:</span><a href=\"file:///home/krzysiek/Development/solvency-modelling/solvency_models/src/solvency_models/pipelines/p01_init/nodes.py#17\" target=\"_blank\"><span style=\"color: #7f7f7f; text-decoration-color: #7f7f7f\">17</span></a>\n",
       "</pre>\n"
      ],
      "text/plain": [
       "\u001B[2;36m                   \u001B[0m\u001B[2;36m \u001B[0m\u001B[34mINFO    \u001B[0m Processing parameters\u001B[33m...\u001B[0m                                                   \u001B]8;id=145632;file:///home/krzysiek/Development/solvency-modelling/solvency_models/src/solvency_models/pipelines/p01_init/nodes.py\u001B\\\u001B[2mnodes.py\u001B[0m\u001B]8;;\u001B\\\u001B[2m:\u001B[0m\u001B]8;id=481392;file:///home/krzysiek/Development/solvency-modelling/solvency_models/src/solvency_models/pipelines/p01_init/nodes.py#17\u001B\\\u001B[2m17\u001B[0m\u001B]8;;\u001B\\\n"
      ]
     },
     "metadata": {},
     "output_type": "display_data"
    },
    {
     "data": {
      "text/html": [
       "<pre style=\"white-space:pre;overflow-x:auto;line-height:normal;font-family:Menlo,'DejaVu Sans Mono',consolas,'Courier New',monospace\"><span style=\"color: #7fbfbf; text-decoration-color: #7fbfbf\">                    </span><span style=\"color: #000080; text-decoration-color: #000080\">INFO    </span> Processed. Created config classes.                                         <a href=\"file:///home/krzysiek/Development/solvency-modelling/solvency_models/src/solvency_models/pipelines/p01_init/nodes.py\" target=\"_blank\"><span style=\"color: #7f7f7f; text-decoration-color: #7f7f7f\">nodes.py</span></a><span style=\"color: #7f7f7f; text-decoration-color: #7f7f7f\">:</span><a href=\"file:///home/krzysiek/Development/solvency-modelling/solvency_models/src/solvency_models/pipelines/p01_init/nodes.py#19\" target=\"_blank\"><span style=\"color: #7f7f7f; text-decoration-color: #7f7f7f\">19</span></a>\n",
       "</pre>\n"
      ],
      "text/plain": [
       "\u001B[2;36m                   \u001B[0m\u001B[2;36m \u001B[0m\u001B[34mINFO    \u001B[0m Processed. Created config classes.                                         \u001B]8;id=527362;file:///home/krzysiek/Development/solvency-modelling/solvency_models/src/solvency_models/pipelines/p01_init/nodes.py\u001B\\\u001B[2mnodes.py\u001B[0m\u001B]8;;\u001B\\\u001B[2m:\u001B[0m\u001B]8;id=106605;file:///home/krzysiek/Development/solvency-modelling/solvency_models/src/solvency_models/pipelines/p01_init/nodes.py#19\u001B\\\u001B[2m19\u001B[0m\u001B]8;;\u001B\\\n"
      ]
     },
     "metadata": {},
     "output_type": "display_data"
    },
    {
     "data": {
      "text/html": [
       "<pre style=\"white-space:pre;overflow-x:auto;line-height:normal;font-family:Menlo,'DejaVu Sans Mono',consolas,'Courier New',monospace\"><span style=\"color: #7fbfbf; text-decoration-color: #7fbfbf\">                    </span><span style=\"color: #000080; text-decoration-color: #000080\">INFO    </span> Saving config to MLFlow<span style=\"color: #808000; text-decoration-color: #808000\">...</span>                                                 <a href=\"file:///home/krzysiek/Development/solvency-modelling/solvency_models/src/solvency_models/pipelines/p01_init/nodes.py\" target=\"_blank\"><span style=\"color: #7f7f7f; text-decoration-color: #7f7f7f\">nodes.py</span></a><span style=\"color: #7f7f7f; text-decoration-color: #7f7f7f\">:</span><a href=\"file:///home/krzysiek/Development/solvency-modelling/solvency_models/src/solvency_models/pipelines/p01_init/nodes.py#26\" target=\"_blank\"><span style=\"color: #7f7f7f; text-decoration-color: #7f7f7f\">26</span></a>\n",
       "</pre>\n"
      ],
      "text/plain": [
       "\u001B[2;36m                   \u001B[0m\u001B[2;36m \u001B[0m\u001B[34mINFO    \u001B[0m Saving config to MLFlow\u001B[33m...\u001B[0m                                                 \u001B]8;id=83980;file:///home/krzysiek/Development/solvency-modelling/solvency_models/src/solvency_models/pipelines/p01_init/nodes.py\u001B\\\u001B[2mnodes.py\u001B[0m\u001B]8;;\u001B\\\u001B[2m:\u001B[0m\u001B]8;id=647922;file:///home/krzysiek/Development/solvency-modelling/solvency_models/src/solvency_models/pipelines/p01_init/nodes.py#26\u001B\\\u001B[2m26\u001B[0m\u001B]8;;\u001B\\\n"
      ]
     },
     "metadata": {},
     "output_type": "display_data"
    },
    {
     "data": {
      "text/html": [
       "<pre style=\"white-space:pre;overflow-x:auto;line-height:normal;font-family:Menlo,'DejaVu Sans Mono',consolas,'Courier New',monospace\"><span style=\"color: #7fbfbf; text-decoration-color: #7fbfbf\">                    </span><span style=\"color: #000080; text-decoration-color: #000080\">INFO    </span> Saved config to MLFlow.                                                    <a href=\"file:///home/krzysiek/Development/solvency-modelling/solvency_models/src/solvency_models/pipelines/p01_init/nodes.py\" target=\"_blank\"><span style=\"color: #7f7f7f; text-decoration-color: #7f7f7f\">nodes.py</span></a><span style=\"color: #7f7f7f; text-decoration-color: #7f7f7f\">:</span><a href=\"file:///home/krzysiek/Development/solvency-modelling/solvency_models/src/solvency_models/pipelines/p01_init/nodes.py#28\" target=\"_blank\"><span style=\"color: #7f7f7f; text-decoration-color: #7f7f7f\">28</span></a>\n",
       "</pre>\n"
      ],
      "text/plain": [
       "\u001B[2;36m                   \u001B[0m\u001B[2;36m \u001B[0m\u001B[34mINFO    \u001B[0m Saved config to MLFlow.                                                    \u001B]8;id=304349;file:///home/krzysiek/Development/solvency-modelling/solvency_models/src/solvency_models/pipelines/p01_init/nodes.py\u001B\\\u001B[2mnodes.py\u001B[0m\u001B]8;;\u001B\\\u001B[2m:\u001B[0m\u001B]8;id=825528;file:///home/krzysiek/Development/solvency-modelling/solvency_models/src/solvency_models/pipelines/p01_init/nodes.py#28\u001B\\\u001B[2m28\u001B[0m\u001B]8;;\u001B\\\n"
      ]
     },
     "metadata": {},
     "output_type": "display_data"
    },
    {
     "data": {
      "text/html": [
       "<pre style=\"white-space:pre;overflow-x:auto;line-height:normal;font-family:Menlo,'DejaVu Sans Mono',consolas,'Courier New',monospace\"><span style=\"color: #7fbfbf; text-decoration-color: #7fbfbf\">                    </span><span style=\"color: #000080; text-decoration-color: #000080\">INFO    </span> Saving data to <span style=\"color: #ff8700; text-decoration-color: #ff8700\">config</span> <span style=\"font-weight: bold\">(</span>MemoryDataset<span style=\"font-weight: bold\">)</span><span style=\"color: #808000; text-decoration-color: #808000\">...</span>                           <a href=\"file:///home/krzysiek/Development/solvency-modelling/venv/lib/python3.11/site-packages/kedro/io/data_catalog.py\" target=\"_blank\"><span style=\"color: #7f7f7f; text-decoration-color: #7f7f7f\">data_catalog.py</span></a><span style=\"color: #7f7f7f; text-decoration-color: #7f7f7f\">:</span><a href=\"file:///home/krzysiek/Development/solvency-modelling/venv/lib/python3.11/site-packages/kedro/io/data_catalog.py#525\" target=\"_blank\"><span style=\"color: #7f7f7f; text-decoration-color: #7f7f7f\">525</span></a>\n",
       "</pre>\n"
      ],
      "text/plain": [
       "\u001B[2;36m                   \u001B[0m\u001B[2;36m \u001B[0m\u001B[34mINFO    \u001B[0m Saving data to \u001B[38;5;208mconfig\u001B[0m \u001B[1m(\u001B[0mMemoryDataset\u001B[1m)\u001B[0m\u001B[33m...\u001B[0m                           \u001B]8;id=838126;file:///home/krzysiek/Development/solvency-modelling/venv/lib/python3.11/site-packages/kedro/io/data_catalog.py\u001B\\\u001B[2mdata_catalog.py\u001B[0m\u001B]8;;\u001B\\\u001B[2m:\u001B[0m\u001B]8;id=670021;file:///home/krzysiek/Development/solvency-modelling/venv/lib/python3.11/site-packages/kedro/io/data_catalog.py#525\u001B\\\u001B[2m525\u001B[0m\u001B]8;;\u001B\\\n"
      ]
     },
     "metadata": {},
     "output_type": "display_data"
    },
    {
     "data": {
      "text/html": [
       "<pre style=\"white-space:pre;overflow-x:auto;line-height:normal;font-family:Menlo,'DejaVu Sans Mono',consolas,'Courier New',monospace\"><span style=\"color: #7fbfbf; text-decoration-color: #7fbfbf\">                    </span><span style=\"color: #000080; text-decoration-color: #000080\">INFO    </span> Completed <span style=\"color: #008080; text-decoration-color: #008080; font-weight: bold\">1</span> out of <span style=\"color: #008080; text-decoration-color: #008080; font-weight: bold\">3</span> tasks                                     <a href=\"file:///home/krzysiek/Development/solvency-modelling/venv/lib/python3.11/site-packages/kedro/runner/sequential_runner.py\" target=\"_blank\"><span style=\"color: #7f7f7f; text-decoration-color: #7f7f7f\">sequential_runner.py</span></a><span style=\"color: #7f7f7f; text-decoration-color: #7f7f7f\">:</span><a href=\"file:///home/krzysiek/Development/solvency-modelling/venv/lib/python3.11/site-packages/kedro/runner/sequential_runner.py#90\" target=\"_blank\"><span style=\"color: #7f7f7f; text-decoration-color: #7f7f7f\">90</span></a>\n",
       "</pre>\n"
      ],
      "text/plain": [
       "\u001B[2;36m                   \u001B[0m\u001B[2;36m \u001B[0m\u001B[34mINFO    \u001B[0m Completed \u001B[1;36m1\u001B[0m out of \u001B[1;36m3\u001B[0m tasks                                     \u001B]8;id=728336;file:///home/krzysiek/Development/solvency-modelling/venv/lib/python3.11/site-packages/kedro/runner/sequential_runner.py\u001B\\\u001B[2msequential_runner.py\u001B[0m\u001B]8;;\u001B\\\u001B[2m:\u001B[0m\u001B]8;id=89371;file:///home/krzysiek/Development/solvency-modelling/venv/lib/python3.11/site-packages/kedro/runner/sequential_runner.py#90\u001B\\\u001B[2m90\u001B[0m\u001B]8;;\u001B\\\n"
      ]
     },
     "metadata": {},
     "output_type": "display_data"
    },
    {
     "data": {
      "text/html": [
       "<pre style=\"white-space:pre;overflow-x:auto;line-height:normal;font-family:Menlo,'DejaVu Sans Mono',consolas,'Courier New',monospace\"><span style=\"color: #7fbfbf; text-decoration-color: #7fbfbf\">                    </span><span style=\"color: #000080; text-decoration-color: #000080\">INFO    </span> Loading data from <span style=\"color: #ff8700; text-decoration-color: #ff8700\">config</span> <span style=\"font-weight: bold\">(</span>MemoryDataset<span style=\"font-weight: bold\">)</span><span style=\"color: #808000; text-decoration-color: #808000\">...</span>                        <a href=\"file:///home/krzysiek/Development/solvency-modelling/venv/lib/python3.11/site-packages/kedro/io/data_catalog.py\" target=\"_blank\"><span style=\"color: #7f7f7f; text-decoration-color: #7f7f7f\">data_catalog.py</span></a><span style=\"color: #7f7f7f; text-decoration-color: #7f7f7f\">:</span><a href=\"file:///home/krzysiek/Development/solvency-modelling/venv/lib/python3.11/site-packages/kedro/io/data_catalog.py#483\" target=\"_blank\"><span style=\"color: #7f7f7f; text-decoration-color: #7f7f7f\">483</span></a>\n",
       "</pre>\n"
      ],
      "text/plain": [
       "\u001B[2;36m                   \u001B[0m\u001B[2;36m \u001B[0m\u001B[34mINFO    \u001B[0m Loading data from \u001B[38;5;208mconfig\u001B[0m \u001B[1m(\u001B[0mMemoryDataset\u001B[1m)\u001B[0m\u001B[33m...\u001B[0m                        \u001B]8;id=845804;file:///home/krzysiek/Development/solvency-modelling/venv/lib/python3.11/site-packages/kedro/io/data_catalog.py\u001B\\\u001B[2mdata_catalog.py\u001B[0m\u001B]8;;\u001B\\\u001B[2m:\u001B[0m\u001B]8;id=49208;file:///home/krzysiek/Development/solvency-modelling/venv/lib/python3.11/site-packages/kedro/io/data_catalog.py#483\u001B\\\u001B[2m483\u001B[0m\u001B]8;;\u001B\\\n"
      ]
     },
     "metadata": {},
     "output_type": "display_data"
    },
    {
     "data": {
      "text/html": [
       "<pre style=\"white-space:pre;overflow-x:auto;line-height:normal;font-family:Menlo,'DejaVu Sans Mono',consolas,'Courier New',monospace\"><span style=\"color: #7fbfbf; text-decoration-color: #7fbfbf\">                    </span><span style=\"color: #000080; text-decoration-color: #000080\">INFO    </span> Loading data from <span style=\"color: #ff8700; text-decoration-color: #ff8700\">transformed_sample_features_df</span>                   <a href=\"file:///home/krzysiek/Development/solvency-modelling/venv/lib/python3.11/site-packages/kedro/io/data_catalog.py\" target=\"_blank\"><span style=\"color: #7f7f7f; text-decoration-color: #7f7f7f\">data_catalog.py</span></a><span style=\"color: #7f7f7f; text-decoration-color: #7f7f7f\">:</span><a href=\"file:///home/krzysiek/Development/solvency-modelling/venv/lib/python3.11/site-packages/kedro/io/data_catalog.py#483\" target=\"_blank\"><span style=\"color: #7f7f7f; text-decoration-color: #7f7f7f\">483</span></a>\n",
       "<span style=\"color: #7fbfbf; text-decoration-color: #7fbfbf\">                    </span>         <span style=\"font-weight: bold\">(</span>PartitionedDataset<span style=\"font-weight: bold\">)</span><span style=\"color: #808000; text-decoration-color: #808000\">...</span>                                            <span style=\"color: #7f7f7f; text-decoration-color: #7f7f7f\">                   </span>\n",
       "</pre>\n"
      ],
      "text/plain": [
       "\u001B[2;36m                   \u001B[0m\u001B[2;36m \u001B[0m\u001B[34mINFO    \u001B[0m Loading data from \u001B[38;5;208mtransformed_sample_features_df\u001B[0m                   \u001B]8;id=735472;file:///home/krzysiek/Development/solvency-modelling/venv/lib/python3.11/site-packages/kedro/io/data_catalog.py\u001B\\\u001B[2mdata_catalog.py\u001B[0m\u001B]8;;\u001B\\\u001B[2m:\u001B[0m\u001B]8;id=678743;file:///home/krzysiek/Development/solvency-modelling/venv/lib/python3.11/site-packages/kedro/io/data_catalog.py#483\u001B\\\u001B[2m483\u001B[0m\u001B]8;;\u001B\\\n",
       "\u001B[2;36m                    \u001B[0m         \u001B[1m(\u001B[0mPartitionedDataset\u001B[1m)\u001B[0m\u001B[33m...\u001B[0m                                            \u001B[2m                   \u001B[0m\n"
      ]
     },
     "metadata": {},
     "output_type": "display_data"
    },
    {
     "data": {
      "text/html": [
       "<pre style=\"white-space:pre;overflow-x:auto;line-height:normal;font-family:Menlo,'DejaVu Sans Mono',consolas,'Courier New',monospace\"><span style=\"color: #7fbfbf; text-decoration-color: #7fbfbf\">                    </span><span style=\"color: #000080; text-decoration-color: #000080\">INFO    </span> Loading data from <span style=\"color: #ff8700; text-decoration-color: #ff8700\">sample_target_df</span> <span style=\"font-weight: bold\">(</span>PartitionedDataset<span style=\"font-weight: bold\">)</span><span style=\"color: #808000; text-decoration-color: #808000\">...</span>         <a href=\"file:///home/krzysiek/Development/solvency-modelling/venv/lib/python3.11/site-packages/kedro/io/data_catalog.py\" target=\"_blank\"><span style=\"color: #7f7f7f; text-decoration-color: #7f7f7f\">data_catalog.py</span></a><span style=\"color: #7f7f7f; text-decoration-color: #7f7f7f\">:</span><a href=\"file:///home/krzysiek/Development/solvency-modelling/venv/lib/python3.11/site-packages/kedro/io/data_catalog.py#483\" target=\"_blank\"><span style=\"color: #7f7f7f; text-decoration-color: #7f7f7f\">483</span></a>\n",
       "</pre>\n"
      ],
      "text/plain": [
       "\u001B[2;36m                   \u001B[0m\u001B[2;36m \u001B[0m\u001B[34mINFO    \u001B[0m Loading data from \u001B[38;5;208msample_target_df\u001B[0m \u001B[1m(\u001B[0mPartitionedDataset\u001B[1m)\u001B[0m\u001B[33m...\u001B[0m         \u001B]8;id=911467;file:///home/krzysiek/Development/solvency-modelling/venv/lib/python3.11/site-packages/kedro/io/data_catalog.py\u001B\\\u001B[2mdata_catalog.py\u001B[0m\u001B]8;;\u001B\\\u001B[2m:\u001B[0m\u001B]8;id=622612;file:///home/krzysiek/Development/solvency-modelling/venv/lib/python3.11/site-packages/kedro/io/data_catalog.py#483\u001B\\\u001B[2m483\u001B[0m\u001B]8;;\u001B\\\n"
      ]
     },
     "metadata": {},
     "output_type": "display_data"
    },
    {
     "data": {
      "text/html": [
       "<pre style=\"white-space:pre;overflow-x:auto;line-height:normal;font-family:Menlo,'DejaVu Sans Mono',consolas,'Courier New',monospace\"><span style=\"color: #7fbfbf; text-decoration-color: #7fbfbf\">                    </span><span style=\"color: #000080; text-decoration-color: #000080\">INFO    </span> Running node: fit_features_selector:                                       <a href=\"file:///home/krzysiek/Development/solvency-modelling/venv/lib/python3.11/site-packages/kedro/pipeline/node.py\" target=\"_blank\"><span style=\"color: #7f7f7f; text-decoration-color: #7f7f7f\">node.py</span></a><span style=\"color: #7f7f7f; text-decoration-color: #7f7f7f\">:</span><a href=\"file:///home/krzysiek/Development/solvency-modelling/venv/lib/python3.11/site-packages/kedro/pipeline/node.py#340\" target=\"_blank\"><span style=\"color: #7f7f7f; text-decoration-color: #7f7f7f\">340</span></a>\n",
       "<span style=\"color: #7fbfbf; text-decoration-color: #7fbfbf\">                    </span>         <span style=\"color: #800080; text-decoration-color: #800080; font-weight: bold\">fit_features_selector</span><span style=\"font-weight: bold\">([</span>config;transformed_sample_features_df;sample_target <span style=\"color: #7f7f7f; text-decoration-color: #7f7f7f\">           </span>\n",
       "<span style=\"color: #7fbfbf; text-decoration-color: #7fbfbf\">                    </span>         _df<span style=\"font-weight: bold\">])</span> -&gt; <span style=\"font-weight: bold\">[</span>selected_sample_features_df<span style=\"font-weight: bold\">]</span>                                     <span style=\"color: #7f7f7f; text-decoration-color: #7f7f7f\">           </span>\n",
       "</pre>\n"
      ],
      "text/plain": [
       "\u001B[2;36m                   \u001B[0m\u001B[2;36m \u001B[0m\u001B[34mINFO    \u001B[0m Running node: fit_features_selector:                                       \u001B]8;id=976702;file:///home/krzysiek/Development/solvency-modelling/venv/lib/python3.11/site-packages/kedro/pipeline/node.py\u001B\\\u001B[2mnode.py\u001B[0m\u001B]8;;\u001B\\\u001B[2m:\u001B[0m\u001B]8;id=855154;file:///home/krzysiek/Development/solvency-modelling/venv/lib/python3.11/site-packages/kedro/pipeline/node.py#340\u001B\\\u001B[2m340\u001B[0m\u001B]8;;\u001B\\\n",
       "\u001B[2;36m                    \u001B[0m         \u001B[1;35mfit_features_selector\u001B[0m\u001B[1m(\u001B[0m\u001B[1m[\u001B[0mconfig;transformed_sample_features_df;sample_target \u001B[2m           \u001B[0m\n",
       "\u001B[2;36m                    \u001B[0m         _df\u001B[1m]\u001B[0m\u001B[1m)\u001B[0m -> \u001B[1m[\u001B[0mselected_sample_features_df\u001B[1m]\u001B[0m                                     \u001B[2m           \u001B[0m\n"
      ]
     },
     "metadata": {},
     "output_type": "display_data"
    },
    {
     "data": {
      "text/html": [
       "<pre style=\"white-space:pre;overflow-x:auto;line-height:normal;font-family:Menlo,'DejaVu Sans Mono',consolas,'Courier New',monospace\"><span style=\"color: #7fbfbf; text-decoration-color: #7fbfbf\">                    </span><span style=\"color: #000080; text-decoration-color: #000080\">INFO    </span> Fitting features selector on the sample dataset<span style=\"color: #808000; text-decoration-color: #808000\">...</span>                       <a href=\"file:///home/krzysiek/Development/solvency-modelling/solvency_models/src/solvency_models/pipelines/p07_data_science/select.py\" target=\"_blank\"><span style=\"color: #7f7f7f; text-decoration-color: #7f7f7f\">select.py</span></a><span style=\"color: #7f7f7f; text-decoration-color: #7f7f7f\">:</span><a href=\"file:///home/krzysiek/Development/solvency-modelling/solvency_models/src/solvency_models/pipelines/p07_data_science/select.py#111\" target=\"_blank\"><span style=\"color: #7f7f7f; text-decoration-color: #7f7f7f\">111</span></a>\n",
       "</pre>\n"
      ],
      "text/plain": [
       "\u001B[2;36m                   \u001B[0m\u001B[2;36m \u001B[0m\u001B[34mINFO    \u001B[0m Fitting features selector on the sample dataset\u001B[33m...\u001B[0m                       \u001B]8;id=123651;file:///home/krzysiek/Development/solvency-modelling/solvency_models/src/solvency_models/pipelines/p07_data_science/select.py\u001B\\\u001B[2mselect.py\u001B[0m\u001B]8;;\u001B\\\u001B[2m:\u001B[0m\u001B]8;id=194109;file:///home/krzysiek/Development/solvency-modelling/solvency_models/src/solvency_models/pipelines/p07_data_science/select.py#111\u001B\\\u001B[2m111\u001B[0m\u001B]8;;\u001B\\\n"
      ]
     },
     "metadata": {},
     "output_type": "display_data"
    },
    {
     "data": {
      "text/html": [
       "<pre style=\"white-space:pre;overflow-x:auto;line-height:normal;font-family:Menlo,'DejaVu Sans Mono',consolas,'Courier New',monospace\"><span style=\"color: #7fbfbf; text-decoration-color: #7fbfbf\">[09/19/24 16:02:27] </span><span style=\"color: #000080; text-decoration-color: #000080\">INFO    </span> <span style=\"color: #800080; text-decoration-color: #800080; font-weight: bold\">type</span><span style=\"font-weight: bold\">(</span>run<span style=\"font-weight: bold\">)</span>: <span style=\"font-weight: bold\">&lt;</span><span style=\"color: #ff00ff; text-decoration-color: #ff00ff; font-weight: bold\">class</span><span style=\"color: #000000; text-decoration-color: #000000\"> </span><span style=\"color: #008000; text-decoration-color: #008000\">'mlflow.tracking.fluent.ActiveRun'</span><span style=\"font-weight: bold\">&gt;</span>                    <a href=\"file:///home/krzysiek/Development/solvency-modelling/solvency_models/src/solvency_models/pipelines/p01_init/config.py\" target=\"_blank\"><span style=\"color: #7f7f7f; text-decoration-color: #7f7f7f\">config.py</span></a><span style=\"color: #7f7f7f; text-decoration-color: #7f7f7f\">:</span><a href=\"file:///home/krzysiek/Development/solvency-modelling/solvency_models/src/solvency_models/pipelines/p01_init/config.py#506\" target=\"_blank\"><span style=\"color: #7f7f7f; text-decoration-color: #7f7f7f\">506</span></a>\n",
       "</pre>\n"
      ],
      "text/plain": [
       "\u001B[2;36m[09/19/24 16:02:27]\u001B[0m\u001B[2;36m \u001B[0m\u001B[34mINFO    \u001B[0m \u001B[1;35mtype\u001B[0m\u001B[1m(\u001B[0mrun\u001B[1m)\u001B[0m: \u001B[1m<\u001B[0m\u001B[1;95mclass\u001B[0m\u001B[39m \u001B[0m\u001B[32m'mlflow.tracking.fluent.ActiveRun'\u001B[0m\u001B[1m>\u001B[0m                    \u001B]8;id=339311;file:///home/krzysiek/Development/solvency-modelling/solvency_models/src/solvency_models/pipelines/p01_init/config.py\u001B\\\u001B[2mconfig.py\u001B[0m\u001B]8;;\u001B\\\u001B[2m:\u001B[0m\u001B]8;id=4049;file:///home/krzysiek/Development/solvency-modelling/solvency_models/src/solvency_models/pipelines/p01_init/config.py#506\u001B\\\u001B[2m506\u001B[0m\u001B]8;;\u001B\\\n"
      ]
     },
     "metadata": {},
     "output_type": "display_data"
    },
    {
     "data": {
      "text/html": [
       "<pre style=\"white-space:pre;overflow-x:auto;line-height:normal;font-family:Menlo,'DejaVu Sans Mono',consolas,'Courier New',monospace\"><span style=\"color: #7fbfbf; text-decoration-color: #7fbfbf\">                    </span><span style=\"color: #000080; text-decoration-color: #000080\">INFO    </span> Fitting selector on partition <span style=\"color: #008000; text-decoration-color: #008000\">'0'</span> of the sample dataset<span style=\"color: #808000; text-decoration-color: #808000\">...</span>               <a href=\"file:///home/krzysiek/Development/solvency-modelling/solvency_models/src/solvency_models/pipelines/p07_data_science/select.py\" target=\"_blank\"><span style=\"color: #7f7f7f; text-decoration-color: #7f7f7f\">select.py</span></a><span style=\"color: #7f7f7f; text-decoration-color: #7f7f7f\">:</span><a href=\"file:///home/krzysiek/Development/solvency-modelling/solvency_models/src/solvency_models/pipelines/p07_data_science/select.py#117\" target=\"_blank\"><span style=\"color: #7f7f7f; text-decoration-color: #7f7f7f\">117</span></a>\n",
       "</pre>\n"
      ],
      "text/plain": [
       "\u001B[2;36m                   \u001B[0m\u001B[2;36m \u001B[0m\u001B[34mINFO    \u001B[0m Fitting selector on partition \u001B[32m'0'\u001B[0m of the sample dataset\u001B[33m...\u001B[0m               \u001B]8;id=64726;file:///home/krzysiek/Development/solvency-modelling/solvency_models/src/solvency_models/pipelines/p07_data_science/select.py\u001B\\\u001B[2mselect.py\u001B[0m\u001B]8;;\u001B\\\u001B[2m:\u001B[0m\u001B]8;id=811444;file:///home/krzysiek/Development/solvency-modelling/solvency_models/src/solvency_models/pipelines/p07_data_science/select.py#117\u001B\\\u001B[2m117\u001B[0m\u001B]8;;\u001B\\\n"
      ]
     },
     "metadata": {},
     "output_type": "display_data"
    },
    {
     "data": {
      "text/html": [
       "<pre style=\"white-space:pre;overflow-x:auto;line-height:normal;font-family:Menlo,'DejaVu Sans Mono',consolas,'Courier New',monospace\"><span style=\"color: #7fbfbf; text-decoration-color: #7fbfbf\">                    </span><span style=\"color: #000080; text-decoration-color: #000080\">INFO    </span> Fitting the features selector<span style=\"color: #808000; text-decoration-color: #808000\">...</span>                                          <a href=\"file:///home/krzysiek/Development/solvency-modelling/solvency_models/src/solvency_models/pipelines/p07_data_science/select.py\" target=\"_blank\"><span style=\"color: #7f7f7f; text-decoration-color: #7f7f7f\">select.py</span></a><span style=\"color: #7f7f7f; text-decoration-color: #7f7f7f\">:</span><a href=\"file:///home/krzysiek/Development/solvency-modelling/solvency_models/src/solvency_models/pipelines/p07_data_science/select.py#81\" target=\"_blank\"><span style=\"color: #7f7f7f; text-decoration-color: #7f7f7f\">81</span></a>\n",
       "</pre>\n"
      ],
      "text/plain": [
       "\u001B[2;36m                   \u001B[0m\u001B[2;36m \u001B[0m\u001B[34mINFO    \u001B[0m Fitting the features selector\u001B[33m...\u001B[0m                                          \u001B]8;id=699408;file:///home/krzysiek/Development/solvency-modelling/solvency_models/src/solvency_models/pipelines/p07_data_science/select.py\u001B\\\u001B[2mselect.py\u001B[0m\u001B]8;;\u001B\\\u001B[2m:\u001B[0m\u001B]8;id=330123;file:///home/krzysiek/Development/solvency-modelling/solvency_models/src/solvency_models/pipelines/p07_data_science/select.py#81\u001B\\\u001B[2m81\u001B[0m\u001B]8;;\u001B\\\n"
      ]
     },
     "metadata": {},
     "output_type": "display_data"
    },
    {
     "data": {
      "text/html": [
       "<pre style=\"white-space:pre;overflow-x:auto;line-height:normal;font-family:Menlo,'DejaVu Sans Mono',consolas,'Courier New',monospace\"><span style=\"color: #7fbfbf; text-decoration-color: #7fbfbf\">[09/19/24 16:02:35] </span><span style=\"color: #000080; text-decoration-color: #000080\">INFO    </span> Fitted the features selector.                                             <a href=\"file:///home/krzysiek/Development/solvency-modelling/solvency_models/src/solvency_models/pipelines/p07_data_science/select.py\" target=\"_blank\"><span style=\"color: #7f7f7f; text-decoration-color: #7f7f7f\">select.py</span></a><span style=\"color: #7f7f7f; text-decoration-color: #7f7f7f\">:</span><a href=\"file:///home/krzysiek/Development/solvency-modelling/solvency_models/src/solvency_models/pipelines/p07_data_science/select.py#83\" target=\"_blank\"><span style=\"color: #7f7f7f; text-decoration-color: #7f7f7f\">83</span></a>\n",
       "</pre>\n"
      ],
      "text/plain": [
       "\u001B[2;36m[09/19/24 16:02:35]\u001B[0m\u001B[2;36m \u001B[0m\u001B[34mINFO    \u001B[0m Fitted the features selector.                                             \u001B]8;id=60286;file:///home/krzysiek/Development/solvency-modelling/solvency_models/src/solvency_models/pipelines/p07_data_science/select.py\u001B\\\u001B[2mselect.py\u001B[0m\u001B]8;;\u001B\\\u001B[2m:\u001B[0m\u001B]8;id=609607;file:///home/krzysiek/Development/solvency-modelling/solvency_models/src/solvency_models/pipelines/p07_data_science/select.py#83\u001B\\\u001B[2m83\u001B[0m\u001B]8;;\u001B\\\n"
      ]
     },
     "metadata": {},
     "output_type": "display_data"
    },
    {
     "data": {
      "text/html": [
       "<pre style=\"white-space:pre;overflow-x:auto;line-height:normal;font-family:Menlo,'DejaVu Sans Mono',consolas,'Courier New',monospace\"><span style=\"color: #7fbfbf; text-decoration-color: #7fbfbf\">                    </span><span style=\"color: #000080; text-decoration-color: #000080\">INFO    </span> Saving the features selector model of type <span style=\"font-weight: bold\">&lt;</span><span style=\"color: #ff00ff; text-decoration-color: #ff00ff; font-weight: bold\">class</span><span style=\"color: #000000; text-decoration-color: #000000\"> </span>                  <a href=\"file:///home/krzysiek/Development/solvency-modelling/solvency_models/src/solvency_models/pipelines/utils/mlflow_model.py\" target=\"_blank\"><span style=\"color: #7f7f7f; text-decoration-color: #7f7f7f\">mlflow_model.py</span></a><span style=\"color: #7f7f7f; text-decoration-color: #7f7f7f\">:</span><a href=\"file:///home/krzysiek/Development/solvency-modelling/solvency_models/src/solvency_models/pipelines/utils/mlflow_model.py#40\" target=\"_blank\"><span style=\"color: #7f7f7f; text-decoration-color: #7f7f7f\">40</span></a>\n",
       "<span style=\"color: #7fbfbf; text-decoration-color: #7fbfbf\">                    </span>         <span style=\"color: #008000; text-decoration-color: #008000\">'solvency_models.pipelines.p07_data_science.selectors.lasso.LassoFe</span> <span style=\"color: #7f7f7f; text-decoration-color: #7f7f7f\">                  </span>\n",
       "<span style=\"color: #7fbfbf; text-decoration-color: #7fbfbf\">                    </span>         <span style=\"color: #008000; text-decoration-color: #008000\">atureSelector'</span><span style=\"font-weight: bold\">&gt;</span> to MLFlow path model_ds/selector<span style=\"color: #808000; text-decoration-color: #808000\">...</span>                 <span style=\"color: #7f7f7f; text-decoration-color: #7f7f7f\">                  </span>\n",
       "</pre>\n"
      ],
      "text/plain": [
       "\u001B[2;36m                   \u001B[0m\u001B[2;36m \u001B[0m\u001B[34mINFO    \u001B[0m Saving the features selector model of type \u001B[1m<\u001B[0m\u001B[1;95mclass\u001B[0m\u001B[39m \u001B[0m                  \u001B]8;id=121580;file:///home/krzysiek/Development/solvency-modelling/solvency_models/src/solvency_models/pipelines/utils/mlflow_model.py\u001B\\\u001B[2mmlflow_model.py\u001B[0m\u001B]8;;\u001B\\\u001B[2m:\u001B[0m\u001B]8;id=314393;file:///home/krzysiek/Development/solvency-modelling/solvency_models/src/solvency_models/pipelines/utils/mlflow_model.py#40\u001B\\\u001B[2m40\u001B[0m\u001B]8;;\u001B\\\n",
       "\u001B[2;36m                    \u001B[0m         \u001B[32m'solvency_models.pipelines.p07_data_science.selectors.lasso.LassoFe\u001B[0m \u001B[2m                  \u001B[0m\n",
       "\u001B[2;36m                    \u001B[0m         \u001B[32matureSelector'\u001B[0m\u001B[1m>\u001B[0m to MLFlow path model_ds/selector\u001B[33m...\u001B[0m                 \u001B[2m                  \u001B[0m\n"
      ]
     },
     "metadata": {},
     "output_type": "display_data"
    },
    {
     "name": "stderr",
     "output_type": "stream",
     "text": [
      "2024/09/19 16:02:49 WARNING mlflow.utils.requirements_utils: The following packages were not found in the public PyPI package index as of 2024-02-29; if these packages are not present in the public PyPI index, you must install them manually before loading your model: {'solvency-models'}\n"
     ]
    },
    {
     "data": {
      "text/html": [
       "<pre style=\"white-space:pre;overflow-x:auto;line-height:normal;font-family:Menlo,'DejaVu Sans Mono',consolas,'Courier New',monospace\"><span style=\"color: #7fbfbf; text-decoration-color: #7fbfbf\">[09/19/24 16:02:50] </span><span style=\"color: #000080; text-decoration-color: #000080\">INFO    </span> Successfully saved the features selector model in                   <a href=\"file:///home/krzysiek/Development/solvency-modelling/solvency_models/src/solvency_models/pipelines/utils/mlflow_model.py\" target=\"_blank\"><span style=\"color: #7f7f7f; text-decoration-color: #7f7f7f\">mlflow_model.py</span></a><span style=\"color: #7f7f7f; text-decoration-color: #7f7f7f\">:</span><a href=\"file:///home/krzysiek/Development/solvency-modelling/solvency_models/src/solvency_models/pipelines/utils/mlflow_model.py#42\" target=\"_blank\"><span style=\"color: #7f7f7f; text-decoration-color: #7f7f7f\">42</span></a>\n",
       "<span style=\"color: #7fbfbf; text-decoration-color: #7fbfbf\">                    </span>         model_ds/selector.                                                  <span style=\"color: #7f7f7f; text-decoration-color: #7f7f7f\">                  </span>\n",
       "</pre>\n"
      ],
      "text/plain": [
       "\u001B[2;36m[09/19/24 16:02:50]\u001B[0m\u001B[2;36m \u001B[0m\u001B[34mINFO    \u001B[0m Successfully saved the features selector model in                   \u001B]8;id=349537;file:///home/krzysiek/Development/solvency-modelling/solvency_models/src/solvency_models/pipelines/utils/mlflow_model.py\u001B\\\u001B[2mmlflow_model.py\u001B[0m\u001B]8;;\u001B\\\u001B[2m:\u001B[0m\u001B]8;id=44382;file:///home/krzysiek/Development/solvency-modelling/solvency_models/src/solvency_models/pipelines/utils/mlflow_model.py#42\u001B\\\u001B[2m42\u001B[0m\u001B]8;;\u001B\\\n",
       "\u001B[2;36m                    \u001B[0m         model_ds/selector.                                                  \u001B[2m                  \u001B[0m\n"
      ]
     },
     "metadata": {},
     "output_type": "display_data"
    },
    {
     "data": {
      "text/html": [
       "<pre style=\"white-space:pre;overflow-x:auto;line-height:normal;font-family:Menlo,'DejaVu Sans Mono',consolas,'Courier New',monospace\"><span style=\"color: #7fbfbf; text-decoration-color: #7fbfbf\">                    </span><span style=\"color: #000080; text-decoration-color: #000080\">INFO    </span> Saving the selected features<span style=\"color: #808000; text-decoration-color: #808000\">...</span>                                           <a href=\"file:///home/krzysiek/Development/solvency-modelling/solvency_models/src/solvency_models/pipelines/p07_data_science/select.py\" target=\"_blank\"><span style=\"color: #7f7f7f; text-decoration-color: #7f7f7f\">select.py</span></a><span style=\"color: #7f7f7f; text-decoration-color: #7f7f7f\">:</span><a href=\"file:///home/krzysiek/Development/solvency-modelling/solvency_models/src/solvency_models/pipelines/p07_data_science/select.py#87\" target=\"_blank\"><span style=\"color: #7f7f7f; text-decoration-color: #7f7f7f\">87</span></a>\n",
       "</pre>\n"
      ],
      "text/plain": [
       "\u001B[2;36m                   \u001B[0m\u001B[2;36m \u001B[0m\u001B[34mINFO    \u001B[0m Saving the selected features\u001B[33m...\u001B[0m                                           \u001B]8;id=538232;file:///home/krzysiek/Development/solvency-modelling/solvency_models/src/solvency_models/pipelines/p07_data_science/select.py\u001B\\\u001B[2mselect.py\u001B[0m\u001B]8;;\u001B\\\u001B[2m:\u001B[0m\u001B]8;id=752896;file:///home/krzysiek/Development/solvency-modelling/solvency_models/src/solvency_models/pipelines/p07_data_science/select.py#87\u001B\\\u001B[2m87\u001B[0m\u001B]8;;\u001B\\\n"
      ]
     },
     "metadata": {},
     "output_type": "display_data"
    },
    {
     "data": {
      "text/html": [
       "<pre style=\"white-space:pre;overflow-x:auto;line-height:normal;font-family:Menlo,'DejaVu Sans Mono',consolas,'Courier New',monospace\"><span style=\"color: #7fbfbf; text-decoration-color: #7fbfbf\">                    </span><span style=\"color: #000080; text-decoration-color: #000080\">INFO    </span> Successfully saved the selected features to MLFlow path                   <a href=\"file:///home/krzysiek/Development/solvency-modelling/solvency_models/src/solvency_models/pipelines/p07_data_science/select.py\" target=\"_blank\"><span style=\"color: #7f7f7f; text-decoration-color: #7f7f7f\">select.py</span></a><span style=\"color: #7f7f7f; text-decoration-color: #7f7f7f\">:</span><a href=\"file:///home/krzysiek/Development/solvency-modelling/solvency_models/src/solvency_models/pipelines/p07_data_science/select.py#94\" target=\"_blank\"><span style=\"color: #7f7f7f; text-decoration-color: #7f7f7f\">94</span></a>\n",
       "<span style=\"color: #7fbfbf; text-decoration-color: #7fbfbf\">                    </span>         model_ds/selected_features.txt                                            <span style=\"color: #7f7f7f; text-decoration-color: #7f7f7f\">            </span>\n",
       "</pre>\n"
      ],
      "text/plain": [
       "\u001B[2;36m                   \u001B[0m\u001B[2;36m \u001B[0m\u001B[34mINFO    \u001B[0m Successfully saved the selected features to MLFlow path                   \u001B]8;id=230375;file:///home/krzysiek/Development/solvency-modelling/solvency_models/src/solvency_models/pipelines/p07_data_science/select.py\u001B\\\u001B[2mselect.py\u001B[0m\u001B]8;;\u001B\\\u001B[2m:\u001B[0m\u001B]8;id=208042;file:///home/krzysiek/Development/solvency-modelling/solvency_models/src/solvency_models/pipelines/p07_data_science/select.py#94\u001B\\\u001B[2m94\u001B[0m\u001B]8;;\u001B\\\n",
       "\u001B[2;36m                    \u001B[0m         model_ds/selected_features.txt                                            \u001B[2m            \u001B[0m\n"
      ]
     },
     "metadata": {},
     "output_type": "display_data"
    },
    {
     "data": {
      "text/html": [
       "<pre style=\"white-space:pre;overflow-x:auto;line-height:normal;font-family:Menlo,'DejaVu Sans Mono',consolas,'Courier New',monospace\"><span style=\"color: #7fbfbf; text-decoration-color: #7fbfbf\">                    </span><span style=\"color: #000080; text-decoration-color: #000080\">INFO    </span> Saving the features importances<span style=\"color: #808000; text-decoration-color: #808000\">...</span>                                        <a href=\"file:///home/krzysiek/Development/solvency-modelling/solvency_models/src/solvency_models/pipelines/p07_data_science/select.py\" target=\"_blank\"><span style=\"color: #7f7f7f; text-decoration-color: #7f7f7f\">select.py</span></a><span style=\"color: #7f7f7f; text-decoration-color: #7f7f7f\">:</span><a href=\"file:///home/krzysiek/Development/solvency-modelling/solvency_models/src/solvency_models/pipelines/p07_data_science/select.py#97\" target=\"_blank\"><span style=\"color: #7f7f7f; text-decoration-color: #7f7f7f\">97</span></a>\n",
       "</pre>\n"
      ],
      "text/plain": [
       "\u001B[2;36m                   \u001B[0m\u001B[2;36m \u001B[0m\u001B[34mINFO    \u001B[0m Saving the features importances\u001B[33m...\u001B[0m                                        \u001B]8;id=732751;file:///home/krzysiek/Development/solvency-modelling/solvency_models/src/solvency_models/pipelines/p07_data_science/select.py\u001B\\\u001B[2mselect.py\u001B[0m\u001B]8;;\u001B\\\u001B[2m:\u001B[0m\u001B]8;id=285683;file:///home/krzysiek/Development/solvency-modelling/solvency_models/src/solvency_models/pipelines/p07_data_science/select.py#97\u001B\\\u001B[2m97\u001B[0m\u001B]8;;\u001B\\\n"
      ]
     },
     "metadata": {},
     "output_type": "display_data"
    },
    {
     "data": {
      "text/html": [
       "<pre style=\"white-space:pre;overflow-x:auto;line-height:normal;font-family:Menlo,'DejaVu Sans Mono',consolas,'Courier New',monospace\"><span style=\"color: #7fbfbf; text-decoration-color: #7fbfbf\">                    </span><span style=\"color: #000080; text-decoration-color: #000080\">INFO    </span> Successfully saved the features importances to MLFlow path               <a href=\"file:///home/krzysiek/Development/solvency-modelling/solvency_models/src/solvency_models/pipelines/p07_data_science/select.py\" target=\"_blank\"><span style=\"color: #7f7f7f; text-decoration-color: #7f7f7f\">select.py</span></a><span style=\"color: #7f7f7f; text-decoration-color: #7f7f7f\">:</span><a href=\"file:///home/krzysiek/Development/solvency-modelling/solvency_models/src/solvency_models/pipelines/p07_data_science/select.py#102\" target=\"_blank\"><span style=\"color: #7f7f7f; text-decoration-color: #7f7f7f\">102</span></a>\n",
       "<span style=\"color: #7fbfbf; text-decoration-color: #7fbfbf\">                    </span>         model_ds/features_importances.csv                                        <span style=\"color: #7f7f7f; text-decoration-color: #7f7f7f\">             </span>\n",
       "</pre>\n"
      ],
      "text/plain": [
       "\u001B[2;36m                   \u001B[0m\u001B[2;36m \u001B[0m\u001B[34mINFO    \u001B[0m Successfully saved the features importances to MLFlow path               \u001B]8;id=149293;file:///home/krzysiek/Development/solvency-modelling/solvency_models/src/solvency_models/pipelines/p07_data_science/select.py\u001B\\\u001B[2mselect.py\u001B[0m\u001B]8;;\u001B\\\u001B[2m:\u001B[0m\u001B]8;id=160898;file:///home/krzysiek/Development/solvency-modelling/solvency_models/src/solvency_models/pipelines/p07_data_science/select.py#102\u001B\\\u001B[2m102\u001B[0m\u001B]8;;\u001B\\\n",
       "\u001B[2;36m                    \u001B[0m         model_ds/features_importances.csv                                        \u001B[2m             \u001B[0m\n"
      ]
     },
     "metadata": {},
     "output_type": "display_data"
    },
    {
     "data": {
      "text/html": [
       "<pre style=\"white-space:pre;overflow-x:auto;line-height:normal;font-family:Menlo,'DejaVu Sans Mono',consolas,'Courier New',monospace\"><span style=\"color: #7fbfbf; text-decoration-color: #7fbfbf\">                    </span><span style=\"color: #000080; text-decoration-color: #000080\">INFO    </span> Selected the features.                                                   <a href=\"file:///home/krzysiek/Development/solvency-modelling/solvency_models/src/solvency_models/pipelines/p07_data_science/select.py\" target=\"_blank\"><span style=\"color: #7f7f7f; text-decoration-color: #7f7f7f\">select.py</span></a><span style=\"color: #7f7f7f; text-decoration-color: #7f7f7f\">:</span><a href=\"file:///home/krzysiek/Development/solvency-modelling/solvency_models/src/solvency_models/pipelines/p07_data_science/select.py#105\" target=\"_blank\"><span style=\"color: #7f7f7f; text-decoration-color: #7f7f7f\">105</span></a>\n",
       "</pre>\n"
      ],
      "text/plain": [
       "\u001B[2;36m                   \u001B[0m\u001B[2;36m \u001B[0m\u001B[34mINFO    \u001B[0m Selected the features.                                                   \u001B]8;id=267839;file:///home/krzysiek/Development/solvency-modelling/solvency_models/src/solvency_models/pipelines/p07_data_science/select.py\u001B\\\u001B[2mselect.py\u001B[0m\u001B]8;;\u001B\\\u001B[2m:\u001B[0m\u001B]8;id=37698;file:///home/krzysiek/Development/solvency-modelling/solvency_models/src/solvency_models/pipelines/p07_data_science/select.py#105\u001B\\\u001B[2m105\u001B[0m\u001B]8;;\u001B\\\n"
      ]
     },
     "metadata": {},
     "output_type": "display_data"
    },
    {
     "data": {
      "text/html": [
       "<pre style=\"white-space:pre;overflow-x:auto;line-height:normal;font-family:Menlo,'DejaVu Sans Mono',consolas,'Courier New',monospace\"><span style=\"color: #7fbfbf; text-decoration-color: #7fbfbf\">                    </span><span style=\"color: #000080; text-decoration-color: #000080\">INFO    </span> Saving data to <span style=\"color: #ff8700; text-decoration-color: #ff8700\">selected_sample_features_df</span> <span style=\"font-weight: bold\">(</span>PartitionedDataset<span style=\"font-weight: bold\">)</span><span style=\"color: #808000; text-decoration-color: #808000\">...</span> <a href=\"file:///home/krzysiek/Development/solvency-modelling/venv/lib/python3.11/site-packages/kedro/io/data_catalog.py\" target=\"_blank\"><span style=\"color: #7f7f7f; text-decoration-color: #7f7f7f\">data_catalog.py</span></a><span style=\"color: #7f7f7f; text-decoration-color: #7f7f7f\">:</span><a href=\"file:///home/krzysiek/Development/solvency-modelling/venv/lib/python3.11/site-packages/kedro/io/data_catalog.py#525\" target=\"_blank\"><span style=\"color: #7f7f7f; text-decoration-color: #7f7f7f\">525</span></a>\n",
       "</pre>\n"
      ],
      "text/plain": [
       "\u001B[2;36m                   \u001B[0m\u001B[2;36m \u001B[0m\u001B[34mINFO    \u001B[0m Saving data to \u001B[38;5;208mselected_sample_features_df\u001B[0m \u001B[1m(\u001B[0mPartitionedDataset\u001B[1m)\u001B[0m\u001B[33m...\u001B[0m \u001B]8;id=351463;file:///home/krzysiek/Development/solvency-modelling/venv/lib/python3.11/site-packages/kedro/io/data_catalog.py\u001B\\\u001B[2mdata_catalog.py\u001B[0m\u001B]8;;\u001B\\\u001B[2m:\u001B[0m\u001B]8;id=547770;file:///home/krzysiek/Development/solvency-modelling/venv/lib/python3.11/site-packages/kedro/io/data_catalog.py#525\u001B\\\u001B[2m525\u001B[0m\u001B]8;;\u001B\\\n"
      ]
     },
     "metadata": {},
     "output_type": "display_data"
    },
    {
     "data": {
      "text/html": [
       "<pre style=\"white-space:pre;overflow-x:auto;line-height:normal;font-family:Menlo,'DejaVu Sans Mono',consolas,'Courier New',monospace\"><span style=\"color: #7fbfbf; text-decoration-color: #7fbfbf\">                    </span><span style=\"color: #000080; text-decoration-color: #000080\">INFO    </span> Completed <span style=\"color: #008080; text-decoration-color: #008080; font-weight: bold\">2</span> out of <span style=\"color: #008080; text-decoration-color: #008080; font-weight: bold\">3</span> tasks                                     <a href=\"file:///home/krzysiek/Development/solvency-modelling/venv/lib/python3.11/site-packages/kedro/runner/sequential_runner.py\" target=\"_blank\"><span style=\"color: #7f7f7f; text-decoration-color: #7f7f7f\">sequential_runner.py</span></a><span style=\"color: #7f7f7f; text-decoration-color: #7f7f7f\">:</span><a href=\"file:///home/krzysiek/Development/solvency-modelling/venv/lib/python3.11/site-packages/kedro/runner/sequential_runner.py#90\" target=\"_blank\"><span style=\"color: #7f7f7f; text-decoration-color: #7f7f7f\">90</span></a>\n",
       "</pre>\n"
      ],
      "text/plain": [
       "\u001B[2;36m                   \u001B[0m\u001B[2;36m \u001B[0m\u001B[34mINFO    \u001B[0m Completed \u001B[1;36m2\u001B[0m out of \u001B[1;36m3\u001B[0m tasks                                     \u001B]8;id=117152;file:///home/krzysiek/Development/solvency-modelling/venv/lib/python3.11/site-packages/kedro/runner/sequential_runner.py\u001B\\\u001B[2msequential_runner.py\u001B[0m\u001B]8;;\u001B\\\u001B[2m:\u001B[0m\u001B]8;id=56030;file:///home/krzysiek/Development/solvency-modelling/venv/lib/python3.11/site-packages/kedro/runner/sequential_runner.py#90\u001B\\\u001B[2m90\u001B[0m\u001B]8;;\u001B\\\n"
      ]
     },
     "metadata": {},
     "output_type": "display_data"
    },
    {
     "data": {
      "text/html": [
       "<pre style=\"white-space:pre;overflow-x:auto;line-height:normal;font-family:Menlo,'DejaVu Sans Mono',consolas,'Courier New',monospace\"><span style=\"color: #7fbfbf; text-decoration-color: #7fbfbf\">                    </span><span style=\"color: #000080; text-decoration-color: #000080\">INFO    </span> Loading data from <span style=\"color: #ff8700; text-decoration-color: #ff8700\">config</span> <span style=\"font-weight: bold\">(</span>MemoryDataset<span style=\"font-weight: bold\">)</span><span style=\"color: #808000; text-decoration-color: #808000\">...</span>                        <a href=\"file:///home/krzysiek/Development/solvency-modelling/venv/lib/python3.11/site-packages/kedro/io/data_catalog.py\" target=\"_blank\"><span style=\"color: #7f7f7f; text-decoration-color: #7f7f7f\">data_catalog.py</span></a><span style=\"color: #7f7f7f; text-decoration-color: #7f7f7f\">:</span><a href=\"file:///home/krzysiek/Development/solvency-modelling/venv/lib/python3.11/site-packages/kedro/io/data_catalog.py#483\" target=\"_blank\"><span style=\"color: #7f7f7f; text-decoration-color: #7f7f7f\">483</span></a>\n",
       "</pre>\n"
      ],
      "text/plain": [
       "\u001B[2;36m                   \u001B[0m\u001B[2;36m \u001B[0m\u001B[34mINFO    \u001B[0m Loading data from \u001B[38;5;208mconfig\u001B[0m \u001B[1m(\u001B[0mMemoryDataset\u001B[1m)\u001B[0m\u001B[33m...\u001B[0m                        \u001B]8;id=709649;file:///home/krzysiek/Development/solvency-modelling/venv/lib/python3.11/site-packages/kedro/io/data_catalog.py\u001B\\\u001B[2mdata_catalog.py\u001B[0m\u001B]8;;\u001B\\\u001B[2m:\u001B[0m\u001B]8;id=547246;file:///home/krzysiek/Development/solvency-modelling/venv/lib/python3.11/site-packages/kedro/io/data_catalog.py#483\u001B\\\u001B[2m483\u001B[0m\u001B]8;;\u001B\\\n"
      ]
     },
     "metadata": {},
     "output_type": "display_data"
    },
    {
     "data": {
      "text/html": [
       "<pre style=\"white-space:pre;overflow-x:auto;line-height:normal;font-family:Menlo,'DejaVu Sans Mono',consolas,'Courier New',monospace\"><span style=\"color: #7fbfbf; text-decoration-color: #7fbfbf\">                    </span><span style=\"color: #000080; text-decoration-color: #000080\">INFO    </span> Loading data from <span style=\"color: #ff8700; text-decoration-color: #ff8700\">selected_sample_features_df</span>                      <a href=\"file:///home/krzysiek/Development/solvency-modelling/venv/lib/python3.11/site-packages/kedro/io/data_catalog.py\" target=\"_blank\"><span style=\"color: #7f7f7f; text-decoration-color: #7f7f7f\">data_catalog.py</span></a><span style=\"color: #7f7f7f; text-decoration-color: #7f7f7f\">:</span><a href=\"file:///home/krzysiek/Development/solvency-modelling/venv/lib/python3.11/site-packages/kedro/io/data_catalog.py#483\" target=\"_blank\"><span style=\"color: #7f7f7f; text-decoration-color: #7f7f7f\">483</span></a>\n",
       "<span style=\"color: #7fbfbf; text-decoration-color: #7fbfbf\">                    </span>         <span style=\"font-weight: bold\">(</span>PartitionedDataset<span style=\"font-weight: bold\">)</span><span style=\"color: #808000; text-decoration-color: #808000\">...</span>                                            <span style=\"color: #7f7f7f; text-decoration-color: #7f7f7f\">                   </span>\n",
       "</pre>\n"
      ],
      "text/plain": [
       "\u001B[2;36m                   \u001B[0m\u001B[2;36m \u001B[0m\u001B[34mINFO    \u001B[0m Loading data from \u001B[38;5;208mselected_sample_features_df\u001B[0m                      \u001B]8;id=481736;file:///home/krzysiek/Development/solvency-modelling/venv/lib/python3.11/site-packages/kedro/io/data_catalog.py\u001B\\\u001B[2mdata_catalog.py\u001B[0m\u001B]8;;\u001B\\\u001B[2m:\u001B[0m\u001B]8;id=255176;file:///home/krzysiek/Development/solvency-modelling/venv/lib/python3.11/site-packages/kedro/io/data_catalog.py#483\u001B\\\u001B[2m483\u001B[0m\u001B]8;;\u001B\\\n",
       "\u001B[2;36m                    \u001B[0m         \u001B[1m(\u001B[0mPartitionedDataset\u001B[1m)\u001B[0m\u001B[33m...\u001B[0m                                            \u001B[2m                   \u001B[0m\n"
      ]
     },
     "metadata": {},
     "output_type": "display_data"
    },
    {
     "data": {
      "text/html": [
       "<pre style=\"white-space:pre;overflow-x:auto;line-height:normal;font-family:Menlo,'DejaVu Sans Mono',consolas,'Courier New',monospace\"><span style=\"color: #7fbfbf; text-decoration-color: #7fbfbf\">                    </span><span style=\"color: #000080; text-decoration-color: #000080\">INFO    </span> Loading data from <span style=\"color: #ff8700; text-decoration-color: #ff8700\">sample_target_df</span> <span style=\"font-weight: bold\">(</span>PartitionedDataset<span style=\"font-weight: bold\">)</span><span style=\"color: #808000; text-decoration-color: #808000\">...</span>         <a href=\"file:///home/krzysiek/Development/solvency-modelling/venv/lib/python3.11/site-packages/kedro/io/data_catalog.py\" target=\"_blank\"><span style=\"color: #7f7f7f; text-decoration-color: #7f7f7f\">data_catalog.py</span></a><span style=\"color: #7f7f7f; text-decoration-color: #7f7f7f\">:</span><a href=\"file:///home/krzysiek/Development/solvency-modelling/venv/lib/python3.11/site-packages/kedro/io/data_catalog.py#483\" target=\"_blank\"><span style=\"color: #7f7f7f; text-decoration-color: #7f7f7f\">483</span></a>\n",
       "</pre>\n"
      ],
      "text/plain": [
       "\u001B[2;36m                   \u001B[0m\u001B[2;36m \u001B[0m\u001B[34mINFO    \u001B[0m Loading data from \u001B[38;5;208msample_target_df\u001B[0m \u001B[1m(\u001B[0mPartitionedDataset\u001B[1m)\u001B[0m\u001B[33m...\u001B[0m         \u001B]8;id=983089;file:///home/krzysiek/Development/solvency-modelling/venv/lib/python3.11/site-packages/kedro/io/data_catalog.py\u001B\\\u001B[2mdata_catalog.py\u001B[0m\u001B]8;;\u001B\\\u001B[2m:\u001B[0m\u001B]8;id=192382;file:///home/krzysiek/Development/solvency-modelling/venv/lib/python3.11/site-packages/kedro/io/data_catalog.py#483\u001B\\\u001B[2m483\u001B[0m\u001B]8;;\u001B\\\n"
      ]
     },
     "metadata": {},
     "output_type": "display_data"
    },
    {
     "data": {
      "text/html": [
       "<pre style=\"white-space:pre;overflow-x:auto;line-height:normal;font-family:Menlo,'DejaVu Sans Mono',consolas,'Courier New',monospace\"><span style=\"color: #7fbfbf; text-decoration-color: #7fbfbf\">                    </span><span style=\"color: #000080; text-decoration-color: #000080\">INFO    </span> Running node: fit_predictive_model:                                        <a href=\"file:///home/krzysiek/Development/solvency-modelling/venv/lib/python3.11/site-packages/kedro/pipeline/node.py\" target=\"_blank\"><span style=\"color: #7f7f7f; text-decoration-color: #7f7f7f\">node.py</span></a><span style=\"color: #7f7f7f; text-decoration-color: #7f7f7f\">:</span><a href=\"file:///home/krzysiek/Development/solvency-modelling/venv/lib/python3.11/site-packages/kedro/pipeline/node.py#340\" target=\"_blank\"><span style=\"color: #7f7f7f; text-decoration-color: #7f7f7f\">340</span></a>\n",
       "<span style=\"color: #7fbfbf; text-decoration-color: #7fbfbf\">                    </span>         <span style=\"color: #800080; text-decoration-color: #800080; font-weight: bold\">fit_predictive_model</span><span style=\"font-weight: bold\">([</span>config;selected_sample_features_df;sample_target_df<span style=\"font-weight: bold\">]</span> <span style=\"color: #7f7f7f; text-decoration-color: #7f7f7f\">           </span>\n",
       "<span style=\"color: #7fbfbf; text-decoration-color: #7fbfbf\">                    </span>         <span style=\"font-weight: bold\">)</span> -&gt; <span style=\"font-weight: bold\">[</span>pure_sample_predictions_df<span style=\"font-weight: bold\">]</span>                                          <span style=\"color: #7f7f7f; text-decoration-color: #7f7f7f\">           </span>\n",
       "</pre>\n"
      ],
      "text/plain": [
       "\u001B[2;36m                   \u001B[0m\u001B[2;36m \u001B[0m\u001B[34mINFO    \u001B[0m Running node: fit_predictive_model:                                        \u001B]8;id=109073;file:///home/krzysiek/Development/solvency-modelling/venv/lib/python3.11/site-packages/kedro/pipeline/node.py\u001B\\\u001B[2mnode.py\u001B[0m\u001B]8;;\u001B\\\u001B[2m:\u001B[0m\u001B]8;id=472620;file:///home/krzysiek/Development/solvency-modelling/venv/lib/python3.11/site-packages/kedro/pipeline/node.py#340\u001B\\\u001B[2m340\u001B[0m\u001B]8;;\u001B\\\n",
       "\u001B[2;36m                    \u001B[0m         \u001B[1;35mfit_predictive_model\u001B[0m\u001B[1m(\u001B[0m\u001B[1m[\u001B[0mconfig;selected_sample_features_df;sample_target_df\u001B[1m]\u001B[0m \u001B[2m           \u001B[0m\n",
       "\u001B[2;36m                    \u001B[0m         \u001B[1m)\u001B[0m -> \u001B[1m[\u001B[0mpure_sample_predictions_df\u001B[1m]\u001B[0m                                          \u001B[2m           \u001B[0m\n"
      ]
     },
     "metadata": {},
     "output_type": "display_data"
    },
    {
     "data": {
      "text/html": [
       "<pre style=\"white-space:pre;overflow-x:auto;line-height:normal;font-family:Menlo,'DejaVu Sans Mono',consolas,'Courier New',monospace\"><span style=\"color: #7fbfbf; text-decoration-color: #7fbfbf\">                    </span><span style=\"color: #000080; text-decoration-color: #000080\">INFO    </span> Fitting and transforming the predictive model<span style=\"color: #808000; text-decoration-color: #808000\">...</span>                          <a href=\"file:///home/krzysiek/Development/solvency-modelling/solvency_models/src/solvency_models/pipelines/p07_data_science/model.py\" target=\"_blank\"><span style=\"color: #7f7f7f; text-decoration-color: #7f7f7f\">model.py</span></a><span style=\"color: #7f7f7f; text-decoration-color: #7f7f7f\">:</span><a href=\"file:///home/krzysiek/Development/solvency-modelling/solvency_models/src/solvency_models/pipelines/p07_data_science/model.py#169\" target=\"_blank\"><span style=\"color: #7f7f7f; text-decoration-color: #7f7f7f\">169</span></a>\n",
       "</pre>\n"
      ],
      "text/plain": [
       "\u001B[2;36m                   \u001B[0m\u001B[2;36m \u001B[0m\u001B[34mINFO    \u001B[0m Fitting and transforming the predictive model\u001B[33m...\u001B[0m                          \u001B]8;id=22861;file:///home/krzysiek/Development/solvency-modelling/solvency_models/src/solvency_models/pipelines/p07_data_science/model.py\u001B\\\u001B[2mmodel.py\u001B[0m\u001B]8;;\u001B\\\u001B[2m:\u001B[0m\u001B]8;id=824535;file:///home/krzysiek/Development/solvency-modelling/solvency_models/src/solvency_models/pipelines/p07_data_science/model.py#169\u001B\\\u001B[2m169\u001B[0m\u001B]8;;\u001B\\\n"
      ]
     },
     "metadata": {},
     "output_type": "display_data"
    },
    {
     "data": {
      "text/html": [
       "<pre style=\"white-space:pre;overflow-x:auto;line-height:normal;font-family:Menlo,'DejaVu Sans Mono',consolas,'Courier New',monospace\"><span style=\"color: #7fbfbf; text-decoration-color: #7fbfbf\">                    </span><span style=\"color: #000080; text-decoration-color: #000080\">INFO    </span> <span style=\"color: #800080; text-decoration-color: #800080; font-weight: bold\">type</span><span style=\"font-weight: bold\">(</span>run<span style=\"font-weight: bold\">)</span>: <span style=\"font-weight: bold\">&lt;</span><span style=\"color: #ff00ff; text-decoration-color: #ff00ff; font-weight: bold\">class</span><span style=\"color: #000000; text-decoration-color: #000000\"> </span><span style=\"color: #008000; text-decoration-color: #008000\">'mlflow.tracking.fluent.ActiveRun'</span><span style=\"font-weight: bold\">&gt;</span>                    <a href=\"file:///home/krzysiek/Development/solvency-modelling/solvency_models/src/solvency_models/pipelines/p01_init/config.py\" target=\"_blank\"><span style=\"color: #7f7f7f; text-decoration-color: #7f7f7f\">config.py</span></a><span style=\"color: #7f7f7f; text-decoration-color: #7f7f7f\">:</span><a href=\"file:///home/krzysiek/Development/solvency-modelling/solvency_models/src/solvency_models/pipelines/p01_init/config.py#506\" target=\"_blank\"><span style=\"color: #7f7f7f; text-decoration-color: #7f7f7f\">506</span></a>\n",
       "</pre>\n"
      ],
      "text/plain": [
       "\u001B[2;36m                   \u001B[0m\u001B[2;36m \u001B[0m\u001B[34mINFO    \u001B[0m \u001B[1;35mtype\u001B[0m\u001B[1m(\u001B[0mrun\u001B[1m)\u001B[0m: \u001B[1m<\u001B[0m\u001B[1;95mclass\u001B[0m\u001B[39m \u001B[0m\u001B[32m'mlflow.tracking.fluent.ActiveRun'\u001B[0m\u001B[1m>\u001B[0m                    \u001B]8;id=504235;file:///home/krzysiek/Development/solvency-modelling/solvency_models/src/solvency_models/pipelines/p01_init/config.py\u001B\\\u001B[2mconfig.py\u001B[0m\u001B]8;;\u001B\\\u001B[2m:\u001B[0m\u001B]8;id=857933;file:///home/krzysiek/Development/solvency-modelling/solvency_models/src/solvency_models/pipelines/p01_init/config.py#506\u001B\\\u001B[2m506\u001B[0m\u001B]8;;\u001B\\\n"
      ]
     },
     "metadata": {},
     "output_type": "display_data"
    },
    {
     "data": {
      "text/html": [
       "<pre style=\"white-space:pre;overflow-x:auto;line-height:normal;font-family:Menlo,'DejaVu Sans Mono',consolas,'Courier New',monospace\"><span style=\"color: #7fbfbf; text-decoration-color: #7fbfbf\">                    </span><span style=\"color: #000080; text-decoration-color: #000080\">INFO    </span> Fitting and transforming the predictive model on partition <span style=\"color: #008000; text-decoration-color: #008000\">'0'</span> of the     <a href=\"file:///home/krzysiek/Development/solvency-modelling/solvency_models/src/solvency_models/pipelines/p07_data_science/model.py\" target=\"_blank\"><span style=\"color: #7f7f7f; text-decoration-color: #7f7f7f\">model.py</span></a><span style=\"color: #7f7f7f; text-decoration-color: #7f7f7f\">:</span><a href=\"file:///home/krzysiek/Development/solvency-modelling/solvency_models/src/solvency_models/pipelines/p07_data_science/model.py#174\" target=\"_blank\"><span style=\"color: #7f7f7f; text-decoration-color: #7f7f7f\">174</span></a>\n",
       "<span style=\"color: #7fbfbf; text-decoration-color: #7fbfbf\">                    </span>         sample dataset<span style=\"color: #808000; text-decoration-color: #808000\">...</span>                                                         <span style=\"color: #7f7f7f; text-decoration-color: #7f7f7f\">            </span>\n",
       "</pre>\n"
      ],
      "text/plain": [
       "\u001B[2;36m                   \u001B[0m\u001B[2;36m \u001B[0m\u001B[34mINFO    \u001B[0m Fitting and transforming the predictive model on partition \u001B[32m'0'\u001B[0m of the     \u001B]8;id=586147;file:///home/krzysiek/Development/solvency-modelling/solvency_models/src/solvency_models/pipelines/p07_data_science/model.py\u001B\\\u001B[2mmodel.py\u001B[0m\u001B]8;;\u001B\\\u001B[2m:\u001B[0m\u001B]8;id=749785;file:///home/krzysiek/Development/solvency-modelling/solvency_models/src/solvency_models/pipelines/p07_data_science/model.py#174\u001B\\\u001B[2m174\u001B[0m\u001B]8;;\u001B\\\n",
       "\u001B[2;36m                    \u001B[0m         sample dataset\u001B[33m...\u001B[0m                                                         \u001B[2m            \u001B[0m\n"
      ]
     },
     "metadata": {},
     "output_type": "display_data"
    },
    {
     "data": {
      "text/html": [
       "<pre style=\"white-space:pre;overflow-x:auto;line-height:normal;font-family:Menlo,'DejaVu Sans Mono',consolas,'Courier New',monospace\"><span style=\"color: #7fbfbf; text-decoration-color: #7fbfbf\">                    </span><span style=\"color: #000080; text-decoration-color: #000080\">INFO    </span> Fitting the predictive model<span style=\"color: #808000; text-decoration-color: #808000\">...</span>                                           <a href=\"file:///home/krzysiek/Development/solvency-modelling/solvency_models/src/solvency_models/pipelines/p07_data_science/model.py\" target=\"_blank\"><span style=\"color: #7f7f7f; text-decoration-color: #7f7f7f\">model.py</span></a><span style=\"color: #7f7f7f; text-decoration-color: #7f7f7f\">:</span><a href=\"file:///home/krzysiek/Development/solvency-modelling/solvency_models/src/solvency_models/pipelines/p07_data_science/model.py#102\" target=\"_blank\"><span style=\"color: #7f7f7f; text-decoration-color: #7f7f7f\">102</span></a>\n",
       "</pre>\n"
      ],
      "text/plain": [
       "\u001B[2;36m                   \u001B[0m\u001B[2;36m \u001B[0m\u001B[34mINFO    \u001B[0m Fitting the predictive model\u001B[33m...\u001B[0m                                           \u001B]8;id=985465;file:///home/krzysiek/Development/solvency-modelling/solvency_models/src/solvency_models/pipelines/p07_data_science/model.py\u001B\\\u001B[2mmodel.py\u001B[0m\u001B]8;;\u001B\\\u001B[2m:\u001B[0m\u001B]8;id=317041;file:///home/krzysiek/Development/solvency-modelling/solvency_models/src/solvency_models/pipelines/p07_data_science/model.py#102\u001B\\\u001B[2m102\u001B[0m\u001B]8;;\u001B\\\n"
      ]
     },
     "metadata": {},
     "output_type": "display_data"
    },
    {
     "data": {
      "text/html": [
       "<pre style=\"white-space:pre;overflow-x:auto;line-height:normal;font-family:Menlo,'DejaVu Sans Mono',consolas,'Courier New',monospace\"><span style=\"color: #7fbfbf; text-decoration-color: #7fbfbf\">[09/19/24 16:02:52] </span><span style=\"color: #000080; text-decoration-color: #000080\">INFO    </span> Fitted the predictive model. Elapsed time: <span style=\"color: #00ff00; text-decoration-color: #00ff00; font-weight: bold\">0:00:00</span>.<span style=\"color: #008080; text-decoration-color: #008080; font-weight: bold\">078533</span>.                <a href=\"file:///home/krzysiek/Development/solvency-modelling/solvency_models/src/solvency_models/pipelines/p07_data_science/model.py\" target=\"_blank\"><span style=\"color: #7f7f7f; text-decoration-color: #7f7f7f\">model.py</span></a><span style=\"color: #7f7f7f; text-decoration-color: #7f7f7f\">:</span><a href=\"file:///home/krzysiek/Development/solvency-modelling/solvency_models/src/solvency_models/pipelines/p07_data_science/model.py#109\" target=\"_blank\"><span style=\"color: #7f7f7f; text-decoration-color: #7f7f7f\">109</span></a>\n",
       "</pre>\n"
      ],
      "text/plain": [
       "\u001B[2;36m[09/19/24 16:02:52]\u001B[0m\u001B[2;36m \u001B[0m\u001B[34mINFO    \u001B[0m Fitted the predictive model. Elapsed time: \u001B[1;92m0:00:00\u001B[0m.\u001B[1;36m078533\u001B[0m.                \u001B]8;id=793836;file:///home/krzysiek/Development/solvency-modelling/solvency_models/src/solvency_models/pipelines/p07_data_science/model.py\u001B\\\u001B[2mmodel.py\u001B[0m\u001B]8;;\u001B\\\u001B[2m:\u001B[0m\u001B]8;id=434115;file:///home/krzysiek/Development/solvency-modelling/solvency_models/src/solvency_models/pipelines/p07_data_science/model.py#109\u001B\\\u001B[2m109\u001B[0m\u001B]8;;\u001B\\\n"
      ]
     },
     "metadata": {},
     "output_type": "display_data"
    },
    {
     "data": {
      "text/html": [
       "<pre style=\"white-space:pre;overflow-x:auto;line-height:normal;font-family:Menlo,'DejaVu Sans Mono',consolas,'Courier New',monospace\"><span style=\"color: #7fbfbf; text-decoration-color: #7fbfbf\">                    </span><span style=\"color: #000080; text-decoration-color: #000080\">INFO    </span> Saving the predictive model of type <span style=\"font-weight: bold\">&lt;</span><span style=\"color: #ff00ff; text-decoration-color: #ff00ff; font-weight: bold\">class</span><span style=\"color: #000000; text-decoration-color: #000000\"> </span>                         <a href=\"file:///home/krzysiek/Development/solvency-modelling/solvency_models/src/solvency_models/pipelines/utils/mlflow_model.py\" target=\"_blank\"><span style=\"color: #7f7f7f; text-decoration-color: #7f7f7f\">mlflow_model.py</span></a><span style=\"color: #7f7f7f; text-decoration-color: #7f7f7f\">:</span><a href=\"file:///home/krzysiek/Development/solvency-modelling/solvency_models/src/solvency_models/pipelines/utils/mlflow_model.py#40\" target=\"_blank\"><span style=\"color: #7f7f7f; text-decoration-color: #7f7f7f\">40</span></a>\n",
       "<span style=\"color: #7fbfbf; text-decoration-color: #7fbfbf\">                    </span>         <span style=\"color: #008000; text-decoration-color: #008000\">'solvency_models.pipelines.p07_data_science.models.glm.SklearnPoiss</span> <span style=\"color: #7f7f7f; text-decoration-color: #7f7f7f\">                  </span>\n",
       "<span style=\"color: #7fbfbf; text-decoration-color: #7fbfbf\">                    </span>         <span style=\"color: #008000; text-decoration-color: #008000\">onGLM'</span><span style=\"font-weight: bold\">&gt;</span> to MLFlow path model_ds/predictive_model<span style=\"color: #808000; text-decoration-color: #808000\">...</span>                 <span style=\"color: #7f7f7f; text-decoration-color: #7f7f7f\">                  </span>\n",
       "</pre>\n"
      ],
      "text/plain": [
       "\u001B[2;36m                   \u001B[0m\u001B[2;36m \u001B[0m\u001B[34mINFO    \u001B[0m Saving the predictive model of type \u001B[1m<\u001B[0m\u001B[1;95mclass\u001B[0m\u001B[39m \u001B[0m                         \u001B]8;id=558235;file:///home/krzysiek/Development/solvency-modelling/solvency_models/src/solvency_models/pipelines/utils/mlflow_model.py\u001B\\\u001B[2mmlflow_model.py\u001B[0m\u001B]8;;\u001B\\\u001B[2m:\u001B[0m\u001B]8;id=597267;file:///home/krzysiek/Development/solvency-modelling/solvency_models/src/solvency_models/pipelines/utils/mlflow_model.py#40\u001B\\\u001B[2m40\u001B[0m\u001B]8;;\u001B\\\n",
       "\u001B[2;36m                    \u001B[0m         \u001B[32m'solvency_models.pipelines.p07_data_science.models.glm.SklearnPoiss\u001B[0m \u001B[2m                  \u001B[0m\n",
       "\u001B[2;36m                    \u001B[0m         \u001B[32monGLM'\u001B[0m\u001B[1m>\u001B[0m to MLFlow path model_ds/predictive_model\u001B[33m...\u001B[0m                 \u001B[2m                  \u001B[0m\n"
      ]
     },
     "metadata": {},
     "output_type": "display_data"
    },
    {
     "name": "stderr",
     "output_type": "stream",
     "text": [
      "2024/09/19 16:03:01 WARNING mlflow.utils.requirements_utils: The following packages were not found in the public PyPI package index as of 2024-02-29; if these packages are not present in the public PyPI index, you must install them manually before loading your model: {'solvency-models'}\n"
     ]
    },
    {
     "data": {
      "text/html": [
       "<pre style=\"white-space:pre;overflow-x:auto;line-height:normal;font-family:Menlo,'DejaVu Sans Mono',consolas,'Courier New',monospace\"><span style=\"color: #7fbfbf; text-decoration-color: #7fbfbf\">[09/19/24 16:03:01] </span><span style=\"color: #800000; text-decoration-color: #800000\">WARNING </span> <span style=\"color: #800080; text-decoration-color: #800080\">/home/krzysiek/Development/solvency-modelling/venv/lib/python3.11/site</span> <a href=\"file:///usr/lib/python3.11/warnings.py\" target=\"_blank\"><span style=\"color: #7f7f7f; text-decoration-color: #7f7f7f\">warnings.py</span></a><span style=\"color: #7f7f7f; text-decoration-color: #7f7f7f\">:</span><a href=\"file:///usr/lib/python3.11/warnings.py#110\" target=\"_blank\"><span style=\"color: #7f7f7f; text-decoration-color: #7f7f7f\">110</span></a>\n",
       "<span style=\"color: #7fbfbf; text-decoration-color: #7fbfbf\">                    </span>         <span style=\"color: #800080; text-decoration-color: #800080\">-packages/_distutils_hack/</span><span style=\"color: #ff00ff; text-decoration-color: #ff00ff\">__init__.py</span>:<span style=\"color: #008080; text-decoration-color: #008080; font-weight: bold\">18</span>: UserWarning: Distutils was   <span style=\"color: #7f7f7f; text-decoration-color: #7f7f7f\">               </span>\n",
       "<span style=\"color: #7fbfbf; text-decoration-color: #7fbfbf\">                    </span>         imported before Setuptools, but importing Setuptools also replaces the <span style=\"color: #7f7f7f; text-decoration-color: #7f7f7f\">               </span>\n",
       "<span style=\"color: #7fbfbf; text-decoration-color: #7fbfbf\">                    </span>         `distutils` module in `sys.modules`. This may lead to undesirable      <span style=\"color: #7f7f7f; text-decoration-color: #7f7f7f\">               </span>\n",
       "<span style=\"color: #7fbfbf; text-decoration-color: #7fbfbf\">                    </span>         behaviors or errors. To avoid these issues, avoid using distutils      <span style=\"color: #7f7f7f; text-decoration-color: #7f7f7f\">               </span>\n",
       "<span style=\"color: #7fbfbf; text-decoration-color: #7fbfbf\">                    </span>         directly, ensure that setuptools is installed in the traditional way   <span style=\"color: #7f7f7f; text-decoration-color: #7f7f7f\">               </span>\n",
       "<span style=\"color: #7fbfbf; text-decoration-color: #7fbfbf\">                    </span>         <span style=\"font-weight: bold\">(</span>e.g. not an editable install<span style=\"font-weight: bold\">)</span>, and/or make sure that setuptools is    <span style=\"color: #7f7f7f; text-decoration-color: #7f7f7f\">               </span>\n",
       "<span style=\"color: #7fbfbf; text-decoration-color: #7fbfbf\">                    </span>         always imported before distutils.                                      <span style=\"color: #7f7f7f; text-decoration-color: #7f7f7f\">               </span>\n",
       "<span style=\"color: #7fbfbf; text-decoration-color: #7fbfbf\">                    </span>           <span style=\"color: #800080; text-decoration-color: #800080; font-weight: bold\">warnings.warn</span><span style=\"font-weight: bold\">(</span>                                                       <span style=\"color: #7f7f7f; text-decoration-color: #7f7f7f\">               </span>\n",
       "<span style=\"color: #7fbfbf; text-decoration-color: #7fbfbf\">                    </span>                                                                                <span style=\"color: #7f7f7f; text-decoration-color: #7f7f7f\">               </span>\n",
       "</pre>\n"
      ],
      "text/plain": [
       "\u001B[2;36m[09/19/24 16:03:01]\u001B[0m\u001B[2;36m \u001B[0m\u001B[31mWARNING \u001B[0m \u001B[35m/home/krzysiek/Development/solvency-modelling/venv/lib/python3.11/site\u001B[0m \u001B]8;id=751011;file:///usr/lib/python3.11/warnings.py\u001B\\\u001B[2mwarnings.py\u001B[0m\u001B]8;;\u001B\\\u001B[2m:\u001B[0m\u001B]8;id=215049;file:///usr/lib/python3.11/warnings.py#110\u001B\\\u001B[2m110\u001B[0m\u001B]8;;\u001B\\\n",
       "\u001B[2;36m                    \u001B[0m         \u001B[35m-packages/_distutils_hack/\u001B[0m\u001B[95m__init__.py\u001B[0m:\u001B[1;36m18\u001B[0m: UserWarning: Distutils was   \u001B[2m               \u001B[0m\n",
       "\u001B[2;36m                    \u001B[0m         imported before Setuptools, but importing Setuptools also replaces the \u001B[2m               \u001B[0m\n",
       "\u001B[2;36m                    \u001B[0m         `distutils` module in `sys.modules`. This may lead to undesirable      \u001B[2m               \u001B[0m\n",
       "\u001B[2;36m                    \u001B[0m         behaviors or errors. To avoid these issues, avoid using distutils      \u001B[2m               \u001B[0m\n",
       "\u001B[2;36m                    \u001B[0m         directly, ensure that setuptools is installed in the traditional way   \u001B[2m               \u001B[0m\n",
       "\u001B[2;36m                    \u001B[0m         \u001B[1m(\u001B[0me.g. not an editable install\u001B[1m)\u001B[0m, and/or make sure that setuptools is    \u001B[2m               \u001B[0m\n",
       "\u001B[2;36m                    \u001B[0m         always imported before distutils.                                      \u001B[2m               \u001B[0m\n",
       "\u001B[2;36m                    \u001B[0m           \u001B[1;35mwarnings.warn\u001B[0m\u001B[1m(\u001B[0m                                                       \u001B[2m               \u001B[0m\n",
       "\u001B[2;36m                    \u001B[0m                                                                                \u001B[2m               \u001B[0m\n"
      ]
     },
     "metadata": {},
     "output_type": "display_data"
    },
    {
     "data": {
      "text/html": [
       "<pre style=\"white-space:pre;overflow-x:auto;line-height:normal;font-family:Menlo,'DejaVu Sans Mono',consolas,'Courier New',monospace\"><span style=\"color: #7fbfbf; text-decoration-color: #7fbfbf\">                    </span><span style=\"color: #800000; text-decoration-color: #800000\">WARNING </span> <span style=\"color: #800080; text-decoration-color: #800080\">/home/krzysiek/Development/solvency-modelling/venv/lib/python3.11/site</span> <a href=\"file:///usr/lib/python3.11/warnings.py\" target=\"_blank\"><span style=\"color: #7f7f7f; text-decoration-color: #7f7f7f\">warnings.py</span></a><span style=\"color: #7f7f7f; text-decoration-color: #7f7f7f\">:</span><a href=\"file:///usr/lib/python3.11/warnings.py#110\" target=\"_blank\"><span style=\"color: #7f7f7f; text-decoration-color: #7f7f7f\">110</span></a>\n",
       "<span style=\"color: #7fbfbf; text-decoration-color: #7fbfbf\">                    </span>         <span style=\"color: #800080; text-decoration-color: #800080\">-packages/_distutils_hack/</span><span style=\"color: #ff00ff; text-decoration-color: #ff00ff\">__init__.py</span>:<span style=\"color: #008080; text-decoration-color: #008080; font-weight: bold\">33</span>: UserWarning: Setuptools is   <span style=\"color: #7f7f7f; text-decoration-color: #7f7f7f\">               </span>\n",
       "<span style=\"color: #7fbfbf; text-decoration-color: #7fbfbf\">                    </span>         replacing distutils.                                                   <span style=\"color: #7f7f7f; text-decoration-color: #7f7f7f\">               </span>\n",
       "<span style=\"color: #7fbfbf; text-decoration-color: #7fbfbf\">                    </span>           <span style=\"color: #800080; text-decoration-color: #800080; font-weight: bold\">warnings.warn</span><span style=\"font-weight: bold\">(</span><span style=\"color: #008000; text-decoration-color: #008000\">\"Setuptools is replacing distutils.\"</span><span style=\"font-weight: bold\">)</span>                  <span style=\"color: #7f7f7f; text-decoration-color: #7f7f7f\">               </span>\n",
       "<span style=\"color: #7fbfbf; text-decoration-color: #7fbfbf\">                    </span>                                                                                <span style=\"color: #7f7f7f; text-decoration-color: #7f7f7f\">               </span>\n",
       "</pre>\n"
      ],
      "text/plain": [
       "\u001B[2;36m                   \u001B[0m\u001B[2;36m \u001B[0m\u001B[31mWARNING \u001B[0m \u001B[35m/home/krzysiek/Development/solvency-modelling/venv/lib/python3.11/site\u001B[0m \u001B]8;id=442753;file:///usr/lib/python3.11/warnings.py\u001B\\\u001B[2mwarnings.py\u001B[0m\u001B]8;;\u001B\\\u001B[2m:\u001B[0m\u001B]8;id=814168;file:///usr/lib/python3.11/warnings.py#110\u001B\\\u001B[2m110\u001B[0m\u001B]8;;\u001B\\\n",
       "\u001B[2;36m                    \u001B[0m         \u001B[35m-packages/_distutils_hack/\u001B[0m\u001B[95m__init__.py\u001B[0m:\u001B[1;36m33\u001B[0m: UserWarning: Setuptools is   \u001B[2m               \u001B[0m\n",
       "\u001B[2;36m                    \u001B[0m         replacing distutils.                                                   \u001B[2m               \u001B[0m\n",
       "\u001B[2;36m                    \u001B[0m           \u001B[1;35mwarnings.warn\u001B[0m\u001B[1m(\u001B[0m\u001B[32m\"Setuptools is replacing distutils.\"\u001B[0m\u001B[1m)\u001B[0m                  \u001B[2m               \u001B[0m\n",
       "\u001B[2;36m                    \u001B[0m                                                                                \u001B[2m               \u001B[0m\n"
      ]
     },
     "metadata": {},
     "output_type": "display_data"
    },
    {
     "data": {
      "text/html": [
       "<pre style=\"white-space:pre;overflow-x:auto;line-height:normal;font-family:Menlo,'DejaVu Sans Mono',consolas,'Courier New',monospace\"><span style=\"color: #7fbfbf; text-decoration-color: #7fbfbf\">                    </span><span style=\"color: #000080; text-decoration-color: #000080\">INFO    </span> Successfully saved the predictive model in                          <a href=\"file:///home/krzysiek/Development/solvency-modelling/solvency_models/src/solvency_models/pipelines/utils/mlflow_model.py\" target=\"_blank\"><span style=\"color: #7f7f7f; text-decoration-color: #7f7f7f\">mlflow_model.py</span></a><span style=\"color: #7f7f7f; text-decoration-color: #7f7f7f\">:</span><a href=\"file:///home/krzysiek/Development/solvency-modelling/solvency_models/src/solvency_models/pipelines/utils/mlflow_model.py#42\" target=\"_blank\"><span style=\"color: #7f7f7f; text-decoration-color: #7f7f7f\">42</span></a>\n",
       "<span style=\"color: #7fbfbf; text-decoration-color: #7fbfbf\">                    </span>         model_ds/predictive_model.                                          <span style=\"color: #7f7f7f; text-decoration-color: #7f7f7f\">                  </span>\n",
       "</pre>\n"
      ],
      "text/plain": [
       "\u001B[2;36m                   \u001B[0m\u001B[2;36m \u001B[0m\u001B[34mINFO    \u001B[0m Successfully saved the predictive model in                          \u001B]8;id=888358;file:///home/krzysiek/Development/solvency-modelling/solvency_models/src/solvency_models/pipelines/utils/mlflow_model.py\u001B\\\u001B[2mmlflow_model.py\u001B[0m\u001B]8;;\u001B\\\u001B[2m:\u001B[0m\u001B]8;id=369027;file:///home/krzysiek/Development/solvency-modelling/solvency_models/src/solvency_models/pipelines/utils/mlflow_model.py#42\u001B\\\u001B[2m42\u001B[0m\u001B]8;;\u001B\\\n",
       "\u001B[2;36m                    \u001B[0m         model_ds/predictive_model.                                          \u001B[2m                  \u001B[0m\n"
      ]
     },
     "metadata": {},
     "output_type": "display_data"
    },
    {
     "data": {
      "text/html": [
       "<pre style=\"white-space:pre;overflow-x:auto;line-height:normal;font-family:Menlo,'DejaVu Sans Mono',consolas,'Courier New',monospace\"><span style=\"color: #7fbfbf; text-decoration-color: #7fbfbf\">                    </span><span style=\"color: #000080; text-decoration-color: #000080\">INFO    </span> Predicting the target<span style=\"color: #808000; text-decoration-color: #808000\">...</span>                                                  <a href=\"file:///home/krzysiek/Development/solvency-modelling/solvency_models/src/solvency_models/pipelines/p07_data_science/model.py\" target=\"_blank\"><span style=\"color: #7f7f7f; text-decoration-color: #7f7f7f\">model.py</span></a><span style=\"color: #7f7f7f; text-decoration-color: #7f7f7f\">:</span><a href=\"file:///home/krzysiek/Development/solvency-modelling/solvency_models/src/solvency_models/pipelines/p07_data_science/model.py#113\" target=\"_blank\"><span style=\"color: #7f7f7f; text-decoration-color: #7f7f7f\">113</span></a>\n",
       "</pre>\n"
      ],
      "text/plain": [
       "\u001B[2;36m                   \u001B[0m\u001B[2;36m \u001B[0m\u001B[34mINFO    \u001B[0m Predicting the target\u001B[33m...\u001B[0m                                                  \u001B]8;id=340006;file:///home/krzysiek/Development/solvency-modelling/solvency_models/src/solvency_models/pipelines/p07_data_science/model.py\u001B\\\u001B[2mmodel.py\u001B[0m\u001B]8;;\u001B\\\u001B[2m:\u001B[0m\u001B]8;id=596561;file:///home/krzysiek/Development/solvency-modelling/solvency_models/src/solvency_models/pipelines/p07_data_science/model.py#113\u001B\\\u001B[2m113\u001B[0m\u001B]8;;\u001B\\\n"
      ]
     },
     "metadata": {},
     "output_type": "display_data"
    },
    {
     "data": {
      "text/html": [
       "<pre style=\"white-space:pre;overflow-x:auto;line-height:normal;font-family:Menlo,'DejaVu Sans Mono',consolas,'Courier New',monospace\"><span style=\"color: #7fbfbf; text-decoration-color: #7fbfbf\">                    </span><span style=\"color: #000080; text-decoration-color: #000080\">INFO    </span> Made predictions                                                          <a href=\"file:///home/krzysiek/Development/solvency-modelling/solvency_models/src/solvency_models/pipelines/p07_data_science/model.py\" target=\"_blank\"><span style=\"color: #7f7f7f; text-decoration-color: #7f7f7f\">model.py</span></a><span style=\"color: #7f7f7f; text-decoration-color: #7f7f7f\">:</span><a href=\"file:///home/krzysiek/Development/solvency-modelling/solvency_models/src/solvency_models/pipelines/p07_data_science/model.py#115\" target=\"_blank\"><span style=\"color: #7f7f7f; text-decoration-color: #7f7f7f\">115</span></a>\n",
       "</pre>\n"
      ],
      "text/plain": [
       "\u001B[2;36m                   \u001B[0m\u001B[2;36m \u001B[0m\u001B[34mINFO    \u001B[0m Made predictions                                                          \u001B]8;id=408896;file:///home/krzysiek/Development/solvency-modelling/solvency_models/src/solvency_models/pipelines/p07_data_science/model.py\u001B\\\u001B[2mmodel.py\u001B[0m\u001B]8;;\u001B\\\u001B[2m:\u001B[0m\u001B]8;id=150699;file:///home/krzysiek/Development/solvency-modelling/solvency_models/src/solvency_models/pipelines/p07_data_science/model.py#115\u001B\\\u001B[2m115\u001B[0m\u001B]8;;\u001B\\\n"
      ]
     },
     "metadata": {},
     "output_type": "display_data"
    },
    {
     "data": {
      "text/html": [
       "<pre style=\"white-space:pre;overflow-x:auto;line-height:normal;font-family:Menlo,'DejaVu Sans Mono',consolas,'Courier New',monospace\"><span style=\"color: #7fbfbf; text-decoration-color: #7fbfbf\">                    </span><span style=\"color: #000080; text-decoration-color: #000080\">INFO    </span> Evaluating the predictions<span style=\"color: #808000; text-decoration-color: #808000\">...</span>                                             <a href=\"file:///home/krzysiek/Development/solvency-modelling/solvency_models/src/solvency_models/pipelines/p07_data_science/model.py\" target=\"_blank\"><span style=\"color: #7f7f7f; text-decoration-color: #7f7f7f\">model.py</span></a><span style=\"color: #7f7f7f; text-decoration-color: #7f7f7f\">:</span><a href=\"file:///home/krzysiek/Development/solvency-modelling/solvency_models/src/solvency_models/pipelines/p07_data_science/model.py#187\" target=\"_blank\"><span style=\"color: #7f7f7f; text-decoration-color: #7f7f7f\">187</span></a>\n",
       "</pre>\n"
      ],
      "text/plain": [
       "\u001B[2;36m                   \u001B[0m\u001B[2;36m \u001B[0m\u001B[34mINFO    \u001B[0m Evaluating the predictions\u001B[33m...\u001B[0m                                             \u001B]8;id=452313;file:///home/krzysiek/Development/solvency-modelling/solvency_models/src/solvency_models/pipelines/p07_data_science/model.py\u001B\\\u001B[2mmodel.py\u001B[0m\u001B]8;;\u001B\\\u001B[2m:\u001B[0m\u001B]8;id=633204;file:///home/krzysiek/Development/solvency-modelling/solvency_models/src/solvency_models/pipelines/p07_data_science/model.py#187\u001B\\\u001B[2m187\u001B[0m\u001B]8;;\u001B\\\n"
      ]
     },
     "metadata": {},
     "output_type": "display_data"
    },
    {
     "data": {
      "text/html": [
       "<pre style=\"white-space:pre;overflow-x:auto;line-height:normal;font-family:Menlo,'DejaVu Sans Mono',consolas,'Courier New',monospace\"><span style=\"color: #7fbfbf; text-decoration-color: #7fbfbf\">                    </span><span style=\"color: #000080; text-decoration-color: #000080\">INFO    </span> <span style=\"color: #800080; text-decoration-color: #800080; font-weight: bold\">type</span><span style=\"font-weight: bold\">(</span>run<span style=\"font-weight: bold\">)</span>: <span style=\"font-weight: bold\">&lt;</span><span style=\"color: #ff00ff; text-decoration-color: #ff00ff; font-weight: bold\">class</span><span style=\"color: #000000; text-decoration-color: #000000\"> </span><span style=\"color: #008000; text-decoration-color: #008000\">'mlflow.tracking.fluent.ActiveRun'</span><span style=\"font-weight: bold\">&gt;</span>                    <a href=\"file:///home/krzysiek/Development/solvency-modelling/solvency_models/src/solvency_models/pipelines/p01_init/config.py\" target=\"_blank\"><span style=\"color: #7f7f7f; text-decoration-color: #7f7f7f\">config.py</span></a><span style=\"color: #7f7f7f; text-decoration-color: #7f7f7f\">:</span><a href=\"file:///home/krzysiek/Development/solvency-modelling/solvency_models/src/solvency_models/pipelines/p01_init/config.py#506\" target=\"_blank\"><span style=\"color: #7f7f7f; text-decoration-color: #7f7f7f\">506</span></a>\n",
       "</pre>\n"
      ],
      "text/plain": [
       "\u001B[2;36m                   \u001B[0m\u001B[2;36m \u001B[0m\u001B[34mINFO    \u001B[0m \u001B[1;35mtype\u001B[0m\u001B[1m(\u001B[0mrun\u001B[1m)\u001B[0m: \u001B[1m<\u001B[0m\u001B[1;95mclass\u001B[0m\u001B[39m \u001B[0m\u001B[32m'mlflow.tracking.fluent.ActiveRun'\u001B[0m\u001B[1m>\u001B[0m                    \u001B]8;id=664288;file:///home/krzysiek/Development/solvency-modelling/solvency_models/src/solvency_models/pipelines/p01_init/config.py\u001B\\\u001B[2mconfig.py\u001B[0m\u001B]8;;\u001B\\\u001B[2m:\u001B[0m\u001B]8;id=721569;file:///home/krzysiek/Development/solvency-modelling/solvency_models/src/solvency_models/pipelines/p01_init/config.py#506\u001B\\\u001B[2m506\u001B[0m\u001B]8;;\u001B\\\n"
      ]
     },
     "metadata": {},
     "output_type": "display_data"
    },
    {
     "data": {
      "text/html": [
       "<pre style=\"white-space:pre;overflow-x:auto;line-height:normal;font-family:Menlo,'DejaVu Sans Mono',consolas,'Courier New',monospace\"><span style=\"color: #7fbfbf; text-decoration-color: #7fbfbf\">                    </span><span style=\"color: #000080; text-decoration-color: #000080\">INFO    </span> Evaluating the predictions on partition <span style=\"color: #008000; text-decoration-color: #008000\">'0'</span> of the dataset<span style=\"color: #808000; text-decoration-color: #808000\">...</span>             <a href=\"file:///home/krzysiek/Development/solvency-modelling/solvency_models/src/solvency_models/pipelines/p07_data_science/model.py\" target=\"_blank\"><span style=\"color: #7f7f7f; text-decoration-color: #7f7f7f\">model.py</span></a><span style=\"color: #7f7f7f; text-decoration-color: #7f7f7f\">:</span><a href=\"file:///home/krzysiek/Development/solvency-modelling/solvency_models/src/solvency_models/pipelines/p07_data_science/model.py#192\" target=\"_blank\"><span style=\"color: #7f7f7f; text-decoration-color: #7f7f7f\">192</span></a>\n",
       "</pre>\n"
      ],
      "text/plain": [
       "\u001B[2;36m                   \u001B[0m\u001B[2;36m \u001B[0m\u001B[34mINFO    \u001B[0m Evaluating the predictions on partition \u001B[32m'0'\u001B[0m of the dataset\u001B[33m...\u001B[0m             \u001B]8;id=723996;file:///home/krzysiek/Development/solvency-modelling/solvency_models/src/solvency_models/pipelines/p07_data_science/model.py\u001B\\\u001B[2mmodel.py\u001B[0m\u001B]8;;\u001B\\\u001B[2m:\u001B[0m\u001B]8;id=708566;file:///home/krzysiek/Development/solvency-modelling/solvency_models/src/solvency_models/pipelines/p07_data_science/model.py#192\u001B\\\u001B[2m192\u001B[0m\u001B]8;;\u001B\\\n"
      ]
     },
     "metadata": {},
     "output_type": "display_data"
    },
    {
     "data": {
      "text/html": [
       "<pre style=\"white-space:pre;overflow-x:auto;line-height:normal;font-family:Menlo,'DejaVu Sans Mono',consolas,'Courier New',monospace\"><span style=\"color: #7fbfbf; text-decoration-color: #7fbfbf\">                    </span><span style=\"color: #000080; text-decoration-color: #000080\">INFO    </span> Evaluating the predictions:                                               <a href=\"file:///home/krzysiek/Development/solvency-modelling/solvency_models/src/solvency_models/pipelines/p07_data_science/model.py\" target=\"_blank\"><span style=\"color: #7f7f7f; text-decoration-color: #7f7f7f\">model.py</span></a><span style=\"color: #7f7f7f; text-decoration-color: #7f7f7f\">:</span><a href=\"file:///home/krzysiek/Development/solvency-modelling/solvency_models/src/solvency_models/pipelines/p07_data_science/model.py#135\" target=\"_blank\"><span style=\"color: #7f7f7f; text-decoration-color: #7f7f7f\">135</span></a>\n",
       "</pre>\n"
      ],
      "text/plain": [
       "\u001B[2;36m                   \u001B[0m\u001B[2;36m \u001B[0m\u001B[34mINFO    \u001B[0m Evaluating the predictions:                                               \u001B]8;id=120821;file:///home/krzysiek/Development/solvency-modelling/solvency_models/src/solvency_models/pipelines/p07_data_science/model.py\u001B\\\u001B[2mmodel.py\u001B[0m\u001B]8;;\u001B\\\u001B[2m:\u001B[0m\u001B]8;id=861870;file:///home/krzysiek/Development/solvency-modelling/solvency_models/src/solvency_models/pipelines/p07_data_science/model.py#135\u001B\\\u001B[2m135\u001B[0m\u001B]8;;\u001B\\\n"
      ]
     },
     "metadata": {},
     "output_type": "display_data"
    },
    {
     "data": {
      "text/html": [
       "<pre style=\"white-space:pre;overflow-x:auto;line-height:normal;font-family:Menlo,'DejaVu Sans Mono',consolas,'Courier New',monospace\"><span style=\"color: #7fbfbf; text-decoration-color: #7fbfbf\">                    </span><span style=\"color: #000080; text-decoration-color: #000080\">INFO    </span> Evaluated the predictions:                                                <a href=\"file:///home/krzysiek/Development/solvency-modelling/solvency_models/src/solvency_models/pipelines/p07_data_science/model.py\" target=\"_blank\"><span style=\"color: #7f7f7f; text-decoration-color: #7f7f7f\">model.py</span></a><span style=\"color: #7f7f7f; text-decoration-color: #7f7f7f\">:</span><a href=\"file:///home/krzysiek/Development/solvency-modelling/solvency_models/src/solvency_models/pipelines/p07_data_science/model.py#144\" target=\"_blank\"><span style=\"color: #7f7f7f; text-decoration-color: #7f7f7f\">144</span></a>\n",
       "<span style=\"color: #7fbfbf; text-decoration-color: #7fbfbf\">                    </span>             - sample_MPD: <span style=\"color: #008080; text-decoration-color: #008080; font-weight: bold\">3.8918479157394215</span>                                      <span style=\"color: #7f7f7f; text-decoration-color: #7f7f7f\">            </span>\n",
       "<span style=\"color: #7fbfbf; text-decoration-color: #7fbfbf\">                    </span>             - sample_wMPD: <span style=\"color: #008080; text-decoration-color: #008080; font-weight: bold\">1.5399282131005723</span>                                     <span style=\"color: #7f7f7f; text-decoration-color: #7f7f7f\">            </span>\n",
       "<span style=\"color: #7fbfbf; text-decoration-color: #7fbfbf\">                    </span>             - sample_RMSE: <span style=\"color: #008080; text-decoration-color: #008080; font-weight: bold\">4.498991792359357</span>                                      <span style=\"color: #7f7f7f; text-decoration-color: #7f7f7f\">            </span>\n",
       "<span style=\"color: #7fbfbf; text-decoration-color: #7fbfbf\">                    </span>             - sample_wRMSE: <span style=\"color: #008080; text-decoration-color: #008080; font-weight: bold\">1.3917886912290154</span>                                    <span style=\"color: #7f7f7f; text-decoration-color: #7f7f7f\">            </span>\n",
       "<span style=\"color: #7fbfbf; text-decoration-color: #7fbfbf\">                    </span>             - sample_R2: <span style=\"color: #008080; text-decoration-color: #008080; font-weight: bold\">0.0054552228396752556</span>                                    <span style=\"color: #7f7f7f; text-decoration-color: #7f7f7f\">            </span>\n",
       "<span style=\"color: #7fbfbf; text-decoration-color: #7fbfbf\">                    </span>             - sample_wR2: <span style=\"color: #008080; text-decoration-color: #008080; font-weight: bold\">-0.11413783448457049</span>                                    <span style=\"color: #7f7f7f; text-decoration-color: #7f7f7f\">            </span>\n",
       "<span style=\"color: #7fbfbf; text-decoration-color: #7fbfbf\">                    </span>             - sample_SC: <span style=\"color: #008080; text-decoration-color: #008080; font-weight: bold\">0.17583594766892416</span>                                      <span style=\"color: #7f7f7f; text-decoration-color: #7f7f7f\">            </span>\n",
       "<span style=\"color: #7fbfbf; text-decoration-color: #7fbfbf\">                    </span>             - sample_SRC: <span style=\"color: #008080; text-decoration-color: #008080; font-weight: bold\">0.17583594766892416</span>                                     <span style=\"color: #7f7f7f; text-decoration-color: #7f7f7f\">            </span>\n",
       "</pre>\n"
      ],
      "text/plain": [
       "\u001B[2;36m                   \u001B[0m\u001B[2;36m \u001B[0m\u001B[34mINFO    \u001B[0m Evaluated the predictions:                                                \u001B]8;id=329686;file:///home/krzysiek/Development/solvency-modelling/solvency_models/src/solvency_models/pipelines/p07_data_science/model.py\u001B\\\u001B[2mmodel.py\u001B[0m\u001B]8;;\u001B\\\u001B[2m:\u001B[0m\u001B]8;id=11904;file:///home/krzysiek/Development/solvency-modelling/solvency_models/src/solvency_models/pipelines/p07_data_science/model.py#144\u001B\\\u001B[2m144\u001B[0m\u001B]8;;\u001B\\\n",
       "\u001B[2;36m                    \u001B[0m             - sample_MPD: \u001B[1;36m3.8918479157394215\u001B[0m                                      \u001B[2m            \u001B[0m\n",
       "\u001B[2;36m                    \u001B[0m             - sample_wMPD: \u001B[1;36m1.5399282131005723\u001B[0m                                     \u001B[2m            \u001B[0m\n",
       "\u001B[2;36m                    \u001B[0m             - sample_RMSE: \u001B[1;36m4.498991792359357\u001B[0m                                      \u001B[2m            \u001B[0m\n",
       "\u001B[2;36m                    \u001B[0m             - sample_wRMSE: \u001B[1;36m1.3917886912290154\u001B[0m                                    \u001B[2m            \u001B[0m\n",
       "\u001B[2;36m                    \u001B[0m             - sample_R2: \u001B[1;36m0.0054552228396752556\u001B[0m                                    \u001B[2m            \u001B[0m\n",
       "\u001B[2;36m                    \u001B[0m             - sample_wR2: \u001B[1;36m-0.11413783448457049\u001B[0m                                    \u001B[2m            \u001B[0m\n",
       "\u001B[2;36m                    \u001B[0m             - sample_SC: \u001B[1;36m0.17583594766892416\u001B[0m                                      \u001B[2m            \u001B[0m\n",
       "\u001B[2;36m                    \u001B[0m             - sample_SRC: \u001B[1;36m0.17583594766892416\u001B[0m                                     \u001B[2m            \u001B[0m\n"
      ]
     },
     "metadata": {},
     "output_type": "display_data"
    },
    {
     "data": {
      "text/html": [
       "<pre style=\"white-space:pre;overflow-x:auto;line-height:normal;font-family:Menlo,'DejaVu Sans Mono',consolas,'Courier New',monospace\"><span style=\"color: #7fbfbf; text-decoration-color: #7fbfbf\">                    </span><span style=\"color: #000080; text-decoration-color: #000080\">INFO    </span> Logging the metrics to MLFlow<span style=\"color: #808000; text-decoration-color: #808000\">...</span>                                          <a href=\"file:///home/krzysiek/Development/solvency-modelling/solvency_models/src/solvency_models/pipelines/p07_data_science/model.py\" target=\"_blank\"><span style=\"color: #7f7f7f; text-decoration-color: #7f7f7f\">model.py</span></a><span style=\"color: #7f7f7f; text-decoration-color: #7f7f7f\">:</span><a href=\"file:///home/krzysiek/Development/solvency-modelling/solvency_models/src/solvency_models/pipelines/p07_data_science/model.py#147\" target=\"_blank\"><span style=\"color: #7f7f7f; text-decoration-color: #7f7f7f\">147</span></a>\n",
       "</pre>\n"
      ],
      "text/plain": [
       "\u001B[2;36m                   \u001B[0m\u001B[2;36m \u001B[0m\u001B[34mINFO    \u001B[0m Logging the metrics to MLFlow\u001B[33m...\u001B[0m                                          \u001B]8;id=474216;file:///home/krzysiek/Development/solvency-modelling/solvency_models/src/solvency_models/pipelines/p07_data_science/model.py\u001B\\\u001B[2mmodel.py\u001B[0m\u001B]8;;\u001B\\\u001B[2m:\u001B[0m\u001B]8;id=857976;file:///home/krzysiek/Development/solvency-modelling/solvency_models/src/solvency_models/pipelines/p07_data_science/model.py#147\u001B\\\u001B[2m147\u001B[0m\u001B]8;;\u001B\\\n"
      ]
     },
     "metadata": {},
     "output_type": "display_data"
    },
    {
     "data": {
      "text/html": [
       "<pre style=\"white-space:pre;overflow-x:auto;line-height:normal;font-family:Menlo,'DejaVu Sans Mono',consolas,'Courier New',monospace\"><span style=\"color: #7fbfbf; text-decoration-color: #7fbfbf\">[09/19/24 16:03:02] </span><span style=\"color: #000080; text-decoration-color: #000080\">INFO    </span> Logged the metrics to MLFlow.                                             <a href=\"file:///home/krzysiek/Development/solvency-modelling/solvency_models/src/solvency_models/pipelines/p07_data_science/model.py\" target=\"_blank\"><span style=\"color: #7f7f7f; text-decoration-color: #7f7f7f\">model.py</span></a><span style=\"color: #7f7f7f; text-decoration-color: #7f7f7f\">:</span><a href=\"file:///home/krzysiek/Development/solvency-modelling/solvency_models/src/solvency_models/pipelines/p07_data_science/model.py#150\" target=\"_blank\"><span style=\"color: #7f7f7f; text-decoration-color: #7f7f7f\">150</span></a>\n",
       "</pre>\n"
      ],
      "text/plain": [
       "\u001B[2;36m[09/19/24 16:03:02]\u001B[0m\u001B[2;36m \u001B[0m\u001B[34mINFO    \u001B[0m Logged the metrics to MLFlow.                                             \u001B]8;id=852501;file:///home/krzysiek/Development/solvency-modelling/solvency_models/src/solvency_models/pipelines/p07_data_science/model.py\u001B\\\u001B[2mmodel.py\u001B[0m\u001B]8;;\u001B\\\u001B[2m:\u001B[0m\u001B]8;id=478806;file:///home/krzysiek/Development/solvency-modelling/solvency_models/src/solvency_models/pipelines/p07_data_science/model.py#150\u001B\\\u001B[2m150\u001B[0m\u001B]8;;\u001B\\\n"
      ]
     },
     "metadata": {},
     "output_type": "display_data"
    },
    {
     "data": {
      "text/html": [
       "<pre style=\"white-space:pre;overflow-x:auto;line-height:normal;font-family:Menlo,'DejaVu Sans Mono',consolas,'Courier New',monospace\"><span style=\"color: #7fbfbf; text-decoration-color: #7fbfbf\">                    </span><span style=\"color: #000080; text-decoration-color: #000080\">INFO    </span> Saving data to <span style=\"color: #ff8700; text-decoration-color: #ff8700\">pure_sample_predictions_df</span> <span style=\"font-weight: bold\">(</span>PartitionedDataset<span style=\"font-weight: bold\">)</span><span style=\"color: #808000; text-decoration-color: #808000\">...</span>  <a href=\"file:///home/krzysiek/Development/solvency-modelling/venv/lib/python3.11/site-packages/kedro/io/data_catalog.py\" target=\"_blank\"><span style=\"color: #7f7f7f; text-decoration-color: #7f7f7f\">data_catalog.py</span></a><span style=\"color: #7f7f7f; text-decoration-color: #7f7f7f\">:</span><a href=\"file:///home/krzysiek/Development/solvency-modelling/venv/lib/python3.11/site-packages/kedro/io/data_catalog.py#525\" target=\"_blank\"><span style=\"color: #7f7f7f; text-decoration-color: #7f7f7f\">525</span></a>\n",
       "</pre>\n"
      ],
      "text/plain": [
       "\u001B[2;36m                   \u001B[0m\u001B[2;36m \u001B[0m\u001B[34mINFO    \u001B[0m Saving data to \u001B[38;5;208mpure_sample_predictions_df\u001B[0m \u001B[1m(\u001B[0mPartitionedDataset\u001B[1m)\u001B[0m\u001B[33m...\u001B[0m  \u001B]8;id=13680;file:///home/krzysiek/Development/solvency-modelling/venv/lib/python3.11/site-packages/kedro/io/data_catalog.py\u001B\\\u001B[2mdata_catalog.py\u001B[0m\u001B]8;;\u001B\\\u001B[2m:\u001B[0m\u001B]8;id=461298;file:///home/krzysiek/Development/solvency-modelling/venv/lib/python3.11/site-packages/kedro/io/data_catalog.py#525\u001B\\\u001B[2m525\u001B[0m\u001B]8;;\u001B\\\n"
      ]
     },
     "metadata": {},
     "output_type": "display_data"
    },
    {
     "data": {
      "text/html": [
       "<pre style=\"white-space:pre;overflow-x:auto;line-height:normal;font-family:Menlo,'DejaVu Sans Mono',consolas,'Courier New',monospace\"><span style=\"color: #7fbfbf; text-decoration-color: #7fbfbf\">                    </span><span style=\"color: #000080; text-decoration-color: #000080\">INFO    </span> Completed <span style=\"color: #008080; text-decoration-color: #008080; font-weight: bold\">3</span> out of <span style=\"color: #008080; text-decoration-color: #008080; font-weight: bold\">3</span> tasks                                     <a href=\"file:///home/krzysiek/Development/solvency-modelling/venv/lib/python3.11/site-packages/kedro/runner/sequential_runner.py\" target=\"_blank\"><span style=\"color: #7f7f7f; text-decoration-color: #7f7f7f\">sequential_runner.py</span></a><span style=\"color: #7f7f7f; text-decoration-color: #7f7f7f\">:</span><a href=\"file:///home/krzysiek/Development/solvency-modelling/venv/lib/python3.11/site-packages/kedro/runner/sequential_runner.py#90\" target=\"_blank\"><span style=\"color: #7f7f7f; text-decoration-color: #7f7f7f\">90</span></a>\n",
       "</pre>\n"
      ],
      "text/plain": [
       "\u001B[2;36m                   \u001B[0m\u001B[2;36m \u001B[0m\u001B[34mINFO    \u001B[0m Completed \u001B[1;36m3\u001B[0m out of \u001B[1;36m3\u001B[0m tasks                                     \u001B]8;id=659337;file:///home/krzysiek/Development/solvency-modelling/venv/lib/python3.11/site-packages/kedro/runner/sequential_runner.py\u001B\\\u001B[2msequential_runner.py\u001B[0m\u001B]8;;\u001B\\\u001B[2m:\u001B[0m\u001B]8;id=502517;file:///home/krzysiek/Development/solvency-modelling/venv/lib/python3.11/site-packages/kedro/runner/sequential_runner.py#90\u001B\\\u001B[2m90\u001B[0m\u001B]8;;\u001B\\\n"
      ]
     },
     "metadata": {},
     "output_type": "display_data"
    },
    {
     "data": {
      "text/html": [
       "<pre style=\"white-space:pre;overflow-x:auto;line-height:normal;font-family:Menlo,'DejaVu Sans Mono',consolas,'Courier New',monospace\"><span style=\"color: #7fbfbf; text-decoration-color: #7fbfbf\">                    </span><span style=\"color: #000080; text-decoration-color: #000080\">INFO    </span> Pipeline execution completed successfully.                               <a href=\"file:///home/krzysiek/Development/solvency-modelling/venv/lib/python3.11/site-packages/kedro/runner/runner.py\" target=\"_blank\"><span style=\"color: #7f7f7f; text-decoration-color: #7f7f7f\">runner.py</span></a><span style=\"color: #7f7f7f; text-decoration-color: #7f7f7f\">:</span><a href=\"file:///home/krzysiek/Development/solvency-modelling/venv/lib/python3.11/site-packages/kedro/runner/runner.py#119\" target=\"_blank\"><span style=\"color: #7f7f7f; text-decoration-color: #7f7f7f\">119</span></a>\n",
       "</pre>\n"
      ],
      "text/plain": [
       "\u001B[2;36m                   \u001B[0m\u001B[2;36m \u001B[0m\u001B[34mINFO    \u001B[0m Pipeline execution completed successfully.                               \u001B]8;id=229075;file:///home/krzysiek/Development/solvency-modelling/venv/lib/python3.11/site-packages/kedro/runner/runner.py\u001B\\\u001B[2mrunner.py\u001B[0m\u001B]8;;\u001B\\\u001B[2m:\u001B[0m\u001B]8;id=525250;file:///home/krzysiek/Development/solvency-modelling/venv/lib/python3.11/site-packages/kedro/runner/runner.py#119\u001B\\\u001B[2m119\u001B[0m\u001B]8;;\u001B\\\n"
      ]
     },
     "metadata": {},
     "output_type": "display_data"
    },
    {
     "data": {
      "text/html": [
       "<pre style=\"white-space:pre;overflow-x:auto;line-height:normal;font-family:Menlo,'DejaVu Sans Mono',consolas,'Courier New',monospace\"><span style=\"color: #7fbfbf; text-decoration-color: #7fbfbf\">                    </span><span style=\"color: #800000; text-decoration-color: #800000\">WARNING </span> The run <span style=\"color: #008000; text-decoration-color: #008000\">'b8c84d269fa4471bb803fe2766d2f8c6'</span> was already opened       <a href=\"file:///home/krzysiek/Development/solvency-modelling/venv/lib/python3.11/site-packages/kedro_mlflow/framework/hooks/mlflow_hook.py\" target=\"_blank\"><span style=\"color: #7f7f7f; text-decoration-color: #7f7f7f\">mlflow_hook.py</span></a><span style=\"color: #7f7f7f; text-decoration-color: #7f7f7f\">:</span><a href=\"file:///home/krzysiek/Development/solvency-modelling/venv/lib/python3.11/site-packages/kedro_mlflow/framework/hooks/mlflow_hook.py#395\" target=\"_blank\"><span style=\"color: #7f7f7f; text-decoration-color: #7f7f7f\">395</span></a>\n",
       "<span style=\"color: #7fbfbf; text-decoration-color: #7fbfbf\">                    </span>         before launching <span style=\"color: #008000; text-decoration-color: #008000\">'kedro run'</span> so it is not closed. You should close  <span style=\"color: #7f7f7f; text-decoration-color: #7f7f7f\">                  </span>\n",
       "<span style=\"color: #7fbfbf; text-decoration-color: #7fbfbf\">                    </span>         it manually.                                                        <span style=\"color: #7f7f7f; text-decoration-color: #7f7f7f\">                  </span>\n",
       "</pre>\n"
      ],
      "text/plain": [
       "\u001B[2;36m                   \u001B[0m\u001B[2;36m \u001B[0m\u001B[31mWARNING \u001B[0m The run \u001B[32m'b8c84d269fa4471bb803fe2766d2f8c6'\u001B[0m was already opened       \u001B]8;id=653990;file:///home/krzysiek/Development/solvency-modelling/venv/lib/python3.11/site-packages/kedro_mlflow/framework/hooks/mlflow_hook.py\u001B\\\u001B[2mmlflow_hook.py\u001B[0m\u001B]8;;\u001B\\\u001B[2m:\u001B[0m\u001B]8;id=383083;file:///home/krzysiek/Development/solvency-modelling/venv/lib/python3.11/site-packages/kedro_mlflow/framework/hooks/mlflow_hook.py#395\u001B\\\u001B[2m395\u001B[0m\u001B]8;;\u001B\\\n",
       "\u001B[2;36m                    \u001B[0m         before launching \u001B[32m'kedro run'\u001B[0m so it is not closed. You should close  \u001B[2m                  \u001B[0m\n",
       "\u001B[2;36m                    \u001B[0m         it manually.                                                        \u001B[2m                  \u001B[0m\n"
      ]
     },
     "metadata": {},
     "output_type": "display_data"
    }
   ],
   "source": [
    "task_out = my_kedro.run(pipeline_name=\"ds\")"
   ]
  },
  {
   "cell_type": "code",
   "execution_count": 40,
   "id": "edbb3615-6147-4195-a271-d80d7f922a84",
   "metadata": {
    "scrolled": true
   },
   "outputs": [],
   "source": [
    "task_out = my_kedro.run(pipeline_name=\"clb\")"
   ]
  },
  {
   "cell_type": "code",
   "execution_count": 42,
   "id": "4df6b833-9813-4257-ad12-0d8738611b2b",
   "metadata": {},
   "outputs": [],
   "source": [
    "task_out = my_kedro.run(pipeline_name=\"test\")"
   ]
  },
  {
   "cell_type": "code",
   "execution_count": 47,
   "id": "c5d5c452-3d49-4a67-9fe8-cd5218107159",
   "metadata": {
    "scrolled": true
   },
   "outputs": [],
   "source": [
    "catalog.list()"
   ]
  },
  {
   "cell_type": "code",
   "execution_count": 5,
   "id": "920ebd7d-1a89-491a-ab82-fbb167b8d755",
   "metadata": {},
   "outputs": [
    {
     "data": {
      "text/html": [
       "<pre style=\"white-space:pre;overflow-x:auto;line-height:normal;font-family:Menlo,'DejaVu Sans Mono',consolas,'Courier New',monospace\"><span style=\"color: #7fbfbf; text-decoration-color: #7fbfbf\">[09/21/24 16:19:18] </span><span style=\"color: #000080; text-decoration-color: #000080\">INFO    </span> Loading data from <span style=\"color: #ff8700; text-decoration-color: #ff8700\">sample_target_df</span> <span style=\"font-weight: bold\">(</span>PartitionedDataset<span style=\"font-weight: bold\">)</span><span style=\"color: #808000; text-decoration-color: #808000\">...</span>         <a href=\"file:///home/krzysiek/Development/solvency-modelling/venv/lib/python3.11/site-packages/kedro/io/data_catalog.py\" target=\"_blank\"><span style=\"color: #7f7f7f; text-decoration-color: #7f7f7f\">data_catalog.py</span></a><span style=\"color: #7f7f7f; text-decoration-color: #7f7f7f\">:</span><a href=\"file:///home/krzysiek/Development/solvency-modelling/venv/lib/python3.11/site-packages/kedro/io/data_catalog.py#483\" target=\"_blank\"><span style=\"color: #7f7f7f; text-decoration-color: #7f7f7f\">483</span></a>\n",
       "</pre>\n"
      ],
      "text/plain": [
       "\u001B[2;36m[09/21/24 16:19:18]\u001B[0m\u001B[2;36m \u001B[0m\u001B[34mINFO    \u001B[0m Loading data from \u001B[38;5;208msample_target_df\u001B[0m \u001B[1m(\u001B[0mPartitionedDataset\u001B[1m)\u001B[0m\u001B[33m...\u001B[0m         \u001B]8;id=204912;file:///home/krzysiek/Development/solvency-modelling/venv/lib/python3.11/site-packages/kedro/io/data_catalog.py\u001B\\\u001B[2mdata_catalog.py\u001B[0m\u001B]8;;\u001B\\\u001B[2m:\u001B[0m\u001B]8;id=358701;file:///home/krzysiek/Development/solvency-modelling/venv/lib/python3.11/site-packages/kedro/io/data_catalog.py#483\u001B\\\u001B[2m483\u001B[0m\u001B]8;;\u001B\\\n"
      ]
     },
     "metadata": {},
     "output_type": "display_data"
    }
   ],
   "source": [
    "sample_target_df = catalog.load(\"sample_target_df\")"
   ]
  },
  {
   "cell_type": "code",
   "execution_count": 12,
   "id": "84eabb0d-2e8b-42d5-9aec-6332eecfd8ad",
   "metadata": {},
   "outputs": [],
   "source": [
    "from solvency_models.pipelines.utils.utils import get_partition"
   ]
  },
  {
   "cell_type": "code",
   "execution_count": 177,
   "id": "1bc21ba8-6632-405d-ab4a-bec888d15a51",
   "metadata": {},
   "outputs": [],
   "source": [
    "sample_target_part_df = get_partition(sample_target_df, \"0\")"
   ]
  },
  {
   "cell_type": "code",
   "execution_count": 178,
   "id": "b7ab4a38-6459-4e4b-bcb5-6ac0f57f87d5",
   "metadata": {},
   "outputs": [
    {
     "data": {
      "text/html": [
       "<pre style=\"white-space:pre;overflow-x:auto;line-height:normal;font-family:Menlo,'DejaVu Sans Mono',consolas,'Courier New',monospace\"></pre>\n"
      ],
      "text/plain": []
     },
     "metadata": {},
     "output_type": "display_data"
    },
    {
     "data": {
      "text/html": [
       "<div>\n",
       "<style scoped>\n",
       "    .dataframe tbody tr th:only-of-type {\n",
       "        vertical-align: middle;\n",
       "    }\n",
       "\n",
       "    .dataframe tbody tr th {\n",
       "        vertical-align: top;\n",
       "    }\n",
       "\n",
       "    .dataframe thead th {\n",
       "        text-align: right;\n",
       "    }\n",
       "</style>\n",
       "<table border=\"1\" class=\"dataframe\">\n",
       "  <thead>\n",
       "    <tr style=\"text-align: right;\">\n",
       "      <th></th>\n",
       "      <th>ClaimNb_TRG</th>\n",
       "      <th>ClaimFreq_TRG</th>\n",
       "      <th>ClaimSeverity_TRG</th>\n",
       "      <th>ClaimTotalAmount_TRG</th>\n",
       "      <th>Exposure</th>\n",
       "    </tr>\n",
       "    <tr>\n",
       "      <th>IDpol</th>\n",
       "      <th></th>\n",
       "      <th></th>\n",
       "      <th></th>\n",
       "      <th></th>\n",
       "      <th></th>\n",
       "    </tr>\n",
       "  </thead>\n",
       "  <tbody>\n",
       "    <tr>\n",
       "      <th>27</th>\n",
       "      <td>0</td>\n",
       "      <td>0.000000</td>\n",
       "      <td>0.000000</td>\n",
       "      <td>0.00</td>\n",
       "      <td>0.87</td>\n",
       "    </tr>\n",
       "    <tr>\n",
       "      <th>190</th>\n",
       "      <td>1</td>\n",
       "      <td>7.142857</td>\n",
       "      <td>14156.000000</td>\n",
       "      <td>1981.84</td>\n",
       "      <td>0.14</td>\n",
       "    </tr>\n",
       "    <tr>\n",
       "      <th>289</th>\n",
       "      <td>0</td>\n",
       "      <td>0.000000</td>\n",
       "      <td>0.000000</td>\n",
       "      <td>0.00</td>\n",
       "      <td>0.86</td>\n",
       "    </tr>\n",
       "    <tr>\n",
       "      <th>414</th>\n",
       "      <td>1</td>\n",
       "      <td>7.142857</td>\n",
       "      <td>10403.928571</td>\n",
       "      <td>1456.55</td>\n",
       "      <td>0.14</td>\n",
       "    </tr>\n",
       "    <tr>\n",
       "      <th>424</th>\n",
       "      <td>2</td>\n",
       "      <td>3.225806</td>\n",
       "      <td>17474.193548</td>\n",
       "      <td>10834.00</td>\n",
       "      <td>0.62</td>\n",
       "    </tr>\n",
       "  </tbody>\n",
       "</table>\n",
       "</div>"
      ],
      "text/plain": [
       "\n",
       "       ClaimNb_TRG  ClaimFreq_TRG  ClaimSeverity_TRG  ClaimTotalAmount_TRG  \\\n",
       "IDpol                                                                        \n",
       "\u001B[1;36m27\u001B[0m               \u001B[1;36m0\u001B[0m       \u001B[1;36m0.000000\u001B[0m           \u001B[1;36m0.000000\u001B[0m                  \u001B[1;36m0.00\u001B[0m   \n",
       "\u001B[1;36m190\u001B[0m              \u001B[1;36m1\u001B[0m       \u001B[1;36m7.142857\u001B[0m       \u001B[1;36m14156.000000\u001B[0m               \u001B[1;36m1981.84\u001B[0m   \n",
       "\u001B[1;36m289\u001B[0m              \u001B[1;36m0\u001B[0m       \u001B[1;36m0.000000\u001B[0m           \u001B[1;36m0.000000\u001B[0m                  \u001B[1;36m0.00\u001B[0m   \n",
       "\u001B[1;36m414\u001B[0m              \u001B[1;36m1\u001B[0m       \u001B[1;36m7.142857\u001B[0m       \u001B[1;36m10403.928571\u001B[0m               \u001B[1;36m1456.55\u001B[0m   \n",
       "\u001B[1;36m424\u001B[0m              \u001B[1;36m2\u001B[0m       \u001B[1;36m3.225806\u001B[0m       \u001B[1;36m17474.193548\u001B[0m              \u001B[1;36m10834.00\u001B[0m   \n",
       "\n",
       "       Exposure  \n",
       "IDpol            \n",
       "\u001B[1;36m27\u001B[0m         \u001B[1;36m0.87\u001B[0m  \n",
       "\u001B[1;36m190\u001B[0m        \u001B[1;36m0.14\u001B[0m  \n",
       "\u001B[1;36m289\u001B[0m        \u001B[1;36m0.86\u001B[0m  \n",
       "\u001B[1;36m414\u001B[0m        \u001B[1;36m0.14\u001B[0m  \n",
       "\u001B[1;36m424\u001B[0m        \u001B[1;36m0.62\u001B[0m  "
      ]
     },
     "execution_count": 178,
     "metadata": {},
     "output_type": "execute_result"
    }
   ],
   "source": [
    "sample_target_part_df.head()"
   ]
  },
  {
   "cell_type": "code",
   "execution_count": 179,
   "id": "4f88cdbb-708d-46cd-aafd-e3cb0f939a7d",
   "metadata": {},
   "outputs": [
    {
     "data": {
      "text/html": [
       "<pre style=\"white-space:pre;overflow-x:auto;line-height:normal;font-family:Menlo,'DejaVu Sans Mono',consolas,'Courier New',monospace\"></pre>\n"
      ],
      "text/plain": []
     },
     "metadata": {},
     "output_type": "display_data"
    },
    {
     "data": {
      "text/html": [
       "<div>\n",
       "<style scoped>\n",
       "    .dataframe tbody tr th:only-of-type {\n",
       "        vertical-align: middle;\n",
       "    }\n",
       "\n",
       "    .dataframe tbody tr th {\n",
       "        vertical-align: top;\n",
       "    }\n",
       "\n",
       "    .dataframe thead th {\n",
       "        text-align: right;\n",
       "    }\n",
       "</style>\n",
       "<table border=\"1\" class=\"dataframe\">\n",
       "  <thead>\n",
       "    <tr style=\"text-align: right;\">\n",
       "      <th></th>\n",
       "      <th>ClaimNb_TRG</th>\n",
       "      <th>ClaimFreq_TRG</th>\n",
       "      <th>ClaimSeverity_TRG</th>\n",
       "      <th>ClaimTotalAmount_TRG</th>\n",
       "      <th>Exposure</th>\n",
       "    </tr>\n",
       "  </thead>\n",
       "  <tbody>\n",
       "    <tr>\n",
       "      <th>count</th>\n",
       "      <td>44859.000000</td>\n",
       "      <td>44859.000000</td>\n",
       "      <td>4.485900e+04</td>\n",
       "      <td>4.485900e+04</td>\n",
       "      <td>44859.000000</td>\n",
       "    </tr>\n",
       "    <tr>\n",
       "      <th>mean</th>\n",
       "      <td>0.468379</td>\n",
       "      <td>1.287923</td>\n",
       "      <td>4.353109e+03</td>\n",
       "      <td>1.101954e+03</td>\n",
       "      <td>0.601469</td>\n",
       "    </tr>\n",
       "    <tr>\n",
       "      <th>std</th>\n",
       "      <td>0.550534</td>\n",
       "      <td>4.511364</td>\n",
       "      <td>1.378177e+05</td>\n",
       "      <td>2.239004e+04</td>\n",
       "      <td>0.352766</td>\n",
       "    </tr>\n",
       "    <tr>\n",
       "      <th>min</th>\n",
       "      <td>0.000000</td>\n",
       "      <td>0.000000</td>\n",
       "      <td>0.000000e+00</td>\n",
       "      <td>0.000000e+00</td>\n",
       "      <td>0.002732</td>\n",
       "    </tr>\n",
       "    <tr>\n",
       "      <th>25%</th>\n",
       "      <td>0.000000</td>\n",
       "      <td>0.000000</td>\n",
       "      <td>0.000000e+00</td>\n",
       "      <td>0.000000e+00</td>\n",
       "      <td>0.270000</td>\n",
       "    </tr>\n",
       "    <tr>\n",
       "      <th>50%</th>\n",
       "      <td>0.000000</td>\n",
       "      <td>0.000000</td>\n",
       "      <td>0.000000e+00</td>\n",
       "      <td>0.000000e+00</td>\n",
       "      <td>0.620000</td>\n",
       "    </tr>\n",
       "    <tr>\n",
       "      <th>75%</th>\n",
       "      <td>1.000000</td>\n",
       "      <td>1.204819</td>\n",
       "      <td>1.280221e+03</td>\n",
       "      <td>1.128120e+03</td>\n",
       "      <td>1.000000</td>\n",
       "    </tr>\n",
       "    <tr>\n",
       "      <th>max</th>\n",
       "      <td>4.000000</td>\n",
       "      <td>100.000000</td>\n",
       "      <td>1.852455e+07</td>\n",
       "      <td>4.075401e+06</td>\n",
       "      <td>1.000000</td>\n",
       "    </tr>\n",
       "  </tbody>\n",
       "</table>\n",
       "</div>"
      ],
      "text/plain": [
       "\n",
       "        ClaimNb_TRG  ClaimFreq_TRG  ClaimSeverity_TRG  ClaimTotalAmount_TRG  \\\n",
       "count  \u001B[1;36m44859.000000\u001B[0m   \u001B[1;36m44859.000000\u001B[0m       \u001B[1;36m4.485900e+04\u001B[0m          \u001B[1;36m4.485900e+04\u001B[0m   \n",
       "mean       \u001B[1;36m0.468379\u001B[0m       \u001B[1;36m1.287923\u001B[0m       \u001B[1;36m4.353109e+03\u001B[0m          \u001B[1;36m1.101954e+03\u001B[0m   \n",
       "std        \u001B[1;36m0.550534\u001B[0m       \u001B[1;36m4.511364\u001B[0m       \u001B[1;36m1.378177e+05\u001B[0m          \u001B[1;36m2.239004e+04\u001B[0m   \n",
       "min        \u001B[1;36m0.000000\u001B[0m       \u001B[1;36m0.000000\u001B[0m       \u001B[1;36m0.000000e+00\u001B[0m          \u001B[1;36m0.000000e+00\u001B[0m   \n",
       "\u001B[1;36m25\u001B[0m%        \u001B[1;36m0.000000\u001B[0m       \u001B[1;36m0.000000\u001B[0m       \u001B[1;36m0.000000e+00\u001B[0m          \u001B[1;36m0.000000e+00\u001B[0m   \n",
       "\u001B[1;36m50\u001B[0m%        \u001B[1;36m0.000000\u001B[0m       \u001B[1;36m0.000000\u001B[0m       \u001B[1;36m0.000000e+00\u001B[0m          \u001B[1;36m0.000000e+00\u001B[0m   \n",
       "\u001B[1;36m75\u001B[0m%        \u001B[1;36m1.000000\u001B[0m       \u001B[1;36m1.204819\u001B[0m       \u001B[1;36m1.280221e+03\u001B[0m          \u001B[1;36m1.128120e+03\u001B[0m   \n",
       "max        \u001B[1;36m4.000000\u001B[0m     \u001B[1;36m100.000000\u001B[0m       \u001B[1;36m1.852455e+07\u001B[0m          \u001B[1;36m4.075401e+06\u001B[0m   \n",
       "\n",
       "           Exposure  \n",
       "count  \u001B[1;36m44859.000000\u001B[0m  \n",
       "mean       \u001B[1;36m0.601469\u001B[0m  \n",
       "std        \u001B[1;36m0.352766\u001B[0m  \n",
       "min        \u001B[1;36m0.002732\u001B[0m  \n",
       "\u001B[1;36m25\u001B[0m%        \u001B[1;36m0.270000\u001B[0m  \n",
       "\u001B[1;36m50\u001B[0m%        \u001B[1;36m0.620000\u001B[0m  \n",
       "\u001B[1;36m75\u001B[0m%        \u001B[1;36m1.000000\u001B[0m  \n",
       "max        \u001B[1;36m1.000000\u001B[0m  "
      ]
     },
     "execution_count": 179,
     "metadata": {},
     "output_type": "execute_result"
    }
   ],
   "source": [
    "sample_target_part_df.describe()"
   ]
  },
  {
   "cell_type": "code",
   "execution_count": 17,
   "id": "54f6bbff-3556-4150-a649-78776cebf376",
   "metadata": {},
   "outputs": [
    {
     "data": {
      "text/html": [
       "<pre style=\"white-space:pre;overflow-x:auto;line-height:normal;font-family:Menlo,'DejaVu Sans Mono',consolas,'Courier New',monospace\"></pre>\n"
      ],
      "text/plain": []
     },
     "metadata": {},
     "output_type": "display_data"
    },
    {
     "data": {
      "text/plain": [
       "\n",
       "count    \u001B[1;36m44859.000000\u001B[0m\n",
       "mean         \u001B[1;36m1.287923\u001B[0m\n",
       "std          \u001B[1;36m4.511364\u001B[0m\n",
       "min          \u001B[1;36m0.000000\u001B[0m\n",
       "\u001B[1;36m25\u001B[0m%          \u001B[1;36m0.000000\u001B[0m\n",
       "\u001B[1;36m50\u001B[0m%          \u001B[1;36m0.000000\u001B[0m\n",
       "\u001B[1;36m75\u001B[0m%          \u001B[1;36m1.204819\u001B[0m\n",
       "max        \u001B[1;36m100.000000\u001B[0m\n",
       "Name: ClaimFreq_TRG, dtype: float64"
      ]
     },
     "execution_count": 17,
     "metadata": {},
     "output_type": "execute_result"
    }
   ],
   "source": [
    "sample_target_part_df.ClaimFreq_TRG.describe()"
   ]
  },
  {
   "cell_type": "code",
   "execution_count": 20,
   "id": "5c7423e6-aaf5-41aa-9df5-08eaa33ede67",
   "metadata": {},
   "outputs": [],
   "source": [
    "import numpy as np"
   ]
  },
  {
   "cell_type": "code",
   "execution_count": 22,
   "id": "fd0928de-410e-42a5-8618-5f902b23095d",
   "metadata": {},
   "outputs": [
    {
     "data": {
      "text/html": [
       "<pre style=\"white-space:pre;overflow-x:auto;line-height:normal;font-family:Menlo,'DejaVu Sans Mono',consolas,'Courier New',monospace\"></pre>\n"
      ],
      "text/plain": []
     },
     "metadata": {},
     "output_type": "display_data"
    },
    {
     "data": {
      "text/plain": [
       "\u001B[3;91mFalse\u001B[0m"
      ]
     },
     "execution_count": 22,
     "metadata": {},
     "output_type": "execute_result"
    }
   ],
   "source": [
    "any(np.isnan(sample_target_part_df.ClaimFreq_TRG))"
   ]
  },
  {
   "cell_type": "code",
   "execution_count": 75,
   "id": "d7c9c4e6-bde7-4666-bd96-cc88a17af8ad",
   "metadata": {},
   "outputs": [
    {
     "data": {
      "text/html": [
       "<pre style=\"white-space:pre;overflow-x:auto;line-height:normal;font-family:Menlo,'DejaVu Sans Mono',consolas,'Courier New',monospace\"></pre>\n"
      ],
      "text/plain": []
     },
     "metadata": {},
     "output_type": "display_data"
    },
    {
     "data": {
      "text/plain": [
       "\n",
       "\u001B[1;36m0\u001B[0m      \u001B[1;36m31745\u001B[0m\n",
       "\u001B[1;36m1\u001B[0m         \u001B[1;36m82\u001B[0m\n",
       "\u001B[1;36m2\u001B[0m        \u001B[1;36m105\u001B[0m\n",
       "\u001B[1;36m3\u001B[0m        \u001B[1;36m101\u001B[0m\n",
       "\u001B[1;36m4\u001B[0m        \u001B[1;36m262\u001B[0m\n",
       "       \u001B[33m...\u001B[0m  \n",
       "\u001B[1;36m120\u001B[0m       \u001B[1;36m21\u001B[0m\n",
       "\u001B[1;36m121\u001B[0m        \u001B[1;36m6\u001B[0m\n",
       "\u001B[1;36m122\u001B[0m        \u001B[1;36m8\u001B[0m\n",
       "\u001B[1;36m123\u001B[0m        \u001B[1;36m4\u001B[0m\n",
       "\u001B[1;36m124\u001B[0m       \u001B[1;36m11\u001B[0m\n",
       "Name: count, Length: \u001B[1;36m125\u001B[0m, dtype: int64"
      ]
     },
     "execution_count": 75,
     "metadata": {},
     "output_type": "execute_result"
    }
   ],
   "source": [
    "pd.Series(stratified_labels).value_counts().sort_index()"
   ]
  },
  {
   "cell_type": "code",
   "execution_count": 204,
   "id": "4c2f4de7-9aee-45c9-a8d4-91c7d26be0d8",
   "metadata": {},
   "outputs": [
    {
     "name": "stdout",
     "output_type": "stream",
     "text": [
      "/home/krzysiek/Development/solvency-modelling/solvency_models\n"
     ]
    }
   ],
   "source": [
    "!pwd"
   ]
  },
  {
   "cell_type": "code",
   "execution_count": 196,
   "id": "52d28e1b-6268-409a-a815-36d540b787d6",
   "metadata": {},
   "outputs": [],
   "source": [
    "def _interval_midpoint(interval):\n",
    "    \"\"\"Helper function to calculate the midpoint of a pandas.Interval.\"\"\"\n",
    "    return (interval.left + interval.right) / 2\n",
    "\n",
    "\n",
    "def _merge_infrequent_bins(stratified_bins, min_samples=2):\n",
    "    \"\"\" Merge bins with fewer than min_samples into adjacent bins based on midpoints. \"\"\"\n",
    "    bin_counts = pd.Series(stratified_bins).value_counts()\n",
    "\n",
    "    # Identify infrequent bins (those with less than min_samples)\n",
    "    infrequent_bins = bin_counts[bin_counts < min_samples].index\n",
    "    frequent_bins = bin_counts[bin_counts >= min_samples].index\n",
    "    \n",
    "    # Convert stratified_bins to DataFrame for easier manipulation\n",
    "    stratified_df = pd.DataFrame({'bins': stratified_bins})\n",
    "    \n",
    "    # Get midpoints of all bins\n",
    "    bin_midpoints = pd.Series({bin: _interval_midpoint(bin) for bin in infrequent_bins.union(frequent_bins)})\n",
    "    \n",
    "    for inf_bin in infrequent_bins:\n",
    "        # Get the midpoint of the infrequent bin\n",
    "        inf_bin_midpoint = bin_midpoints[inf_bin]\n",
    "        \n",
    "        # Find the closest frequent bin by comparing midpoints\n",
    "        closest_bin = (bin_midpoints[frequent_bins] - inf_bin_midpoint).abs().idxmin()\n",
    "        \n",
    "        # Merge the infrequent bin with the closest frequent bin\n",
    "        stratified_df['bins'].replace(inf_bin, closest_bin, inplace=True)\n",
    "    \n",
    "    return stratified_df['bins']\n",
    "\n",
    "    \n",
    "\n",
    "def _get_stratified_train_test_split_keys(target_df: pd.DataFrame, stratify_target_col: str, test_size: float,\n",
    "                                          shuffle: bool = True, random_seed: int = 0, verbose: bool = True,\n",
    "                                          split_type: str = 'train_test', calib_size: float = None):\n",
    "    \"\"\"\n",
    "    Splits the dataset into stratified train/test or train/calib/test sets using either a simple split or three-way split.\n",
    "\n",
    "    Args:\n",
    "        target_df (pd.DataFrame): The DataFrame containing the target column.\n",
    "        stratify_target_col (str): The column in target_df to stratify on (e.g., a continuous variable like frequency/severity).\n",
    "        test_size (float): The test set size (as a fraction between 0 and 1).\n",
    "        shuffle (bool): Whether to shuffle the data before splitting. Default is True.\n",
    "        random_seed (int): The random seed for reproducibility. Default is 0.\n",
    "        verbose (bool): Whether to print information about the splits. Default is True.\n",
    "        split_type (str): The type of split. Either 'train_test' for a standard train/test split or 'train_calib_test' for a train/calib/test split.\n",
    "        calib_size (float, optional): The calibration set size (as a fraction between 0 and 1). If not provided, it will be set equal to test_size.\n",
    "\n",
    "    Returns:\n",
    "        Tuple[pd.Index, pd.Index, pd.Index]: Indices of the training set, calibration set (optional), and test set.\n",
    "    \"\"\"\n",
    "\n",
    "    # Ensure calib_size is provided or defaults to test_size if using 'train_calib_test'\n",
    "    if split_type == 'train_calib_test' and calib_size is None:\n",
    "        calib_size = test_size\n",
    "\n",
    "    # Total number of samples\n",
    "    n_samples = target_df.shape[0]\n",
    "\n",
    "    # Calculate the minimum number of samples per bin based on the test size or train size, whichever is smaller\n",
    "    min_ratio = np.min([test_size, calib_size, 1 - test_size - calib_size] if split_type == 'train_calib_test'\n",
    "                       else [test_size, 1 - test_size])\n",
    "    min_samples_per_bin = np.ceil(1 / min_ratio)\n",
    "\n",
    "    # Calculate the number of bins to ensure at least `min_samples_per_bin` samples per bin\n",
    "    n_bins = max(2, int(np.floor(n_samples / min_samples_per_bin)))\n",
    "\n",
    "    # Ensure the number of bins does not exceed a reasonable limit\n",
    "    max_bins = int(n_samples * test_size / min_samples_per_bin)\n",
    "    n_bins = min(n_bins, max_bins)\n",
    "\n",
    "    # Bin the continuous variable using pandas.qcut to create quantile-based bins for fair stratification\n",
    "    stratified_bins = pd.qcut(target_df[stratify_target_col], q=n_bins, duplicates='drop')\n",
    "    \n",
    "    # Merge infrequent bins into adjacent bins\n",
    "    stratified_bins = _merge_infrequent_bins(stratified_bins, min_samples=2)\n",
    "    \n",
    "    stratified_labels, _ = pd.factorize(stratified_bins)\n",
    "\n",
    "    if split_type == 'train_test':\n",
    "        # Perform a simple train/test split\n",
    "        train_policies, test_policies = train_test_split(\n",
    "            target_df,\n",
    "            test_size=test_size,\n",
    "            stratify=stratified_labels,\n",
    "            random_state=random_seed,\n",
    "            shuffle=shuffle\n",
    "        )\n",
    "        train_keys = train_policies.index\n",
    "        test_keys = test_policies.index\n",
    "        if verbose:\n",
    "            logger.info(f\"Stratified Train/Test Split. Data is split into:\\n\"\n",
    "                        f\"    - train: {len(train_keys)} samples ({len(train_keys) / n_samples:.2%})\\n\"\n",
    "                        f\"    - test: {len(test_keys)} samples  ({len(test_keys) / n_samples:.2%})\")\n",
    "        return train_keys, None, test_keys  # Calibration set is None for 'train_test'\n",
    "\n",
    "    elif split_type == 'train_calib_test':\n",
    "        # Step 1: Perform a train/test split with the given test_size\n",
    "        train_policies, test_policies = train_test_split(\n",
    "            target_df,\n",
    "            test_size=test_size,\n",
    "            stratify=stratified_labels,\n",
    "            random_state=random_seed,\n",
    "            shuffle=shuffle\n",
    "        )\n",
    "\n",
    "        # Calculate calibration size relative to the remaining training set\n",
    "        test_size_actual = len(test_policies) / n_samples  # Test set size as a fraction\n",
    "        calib_size_relative = calib_size / (\n",
    "                1 - test_size_actual)  # Adjust calib_size relative to remaining training data\n",
    "\n",
    "        # Step 2: Split remaining train_policies into train and calibration sets\n",
    "        \n",
    "        # Bin the continuous variable using pandas.qcut to create quantile-based bins for fair stratification\n",
    "        stratified_bins_train = pd.qcut(train_policies[stratify_target_col], q=n_bins, duplicates='drop')\n",
    "        \n",
    "        # Merge infrequent bins into adjacent bins\n",
    "        stratified_bins_train = _merge_infrequent_bins(stratified_bins_train, min_samples=2)\n",
    "        \n",
    "        stratified_labels_train, _ = pd.factorize(stratified_bins_train)\n",
    "    \n",
    "        train_policies_final, calib_policies = train_test_split(\n",
    "            train_policies,\n",
    "            test_size=calib_size_relative,  # Adjusted calib_size\n",
    "            stratify=stratified_labels_train,\n",
    "            random_state=random_seed,\n",
    "            shuffle=shuffle\n",
    "        )\n",
    "\n",
    "        train_keys = train_policies_final.index\n",
    "        calib_keys = calib_policies.index\n",
    "        test_keys = test_policies.index\n",
    "\n",
    "        if verbose:\n",
    "            logger.info(f\"Stratified Train/Calib/Test Split. Data is split into:\\n\"\n",
    "                        f\"    – train: {len(train_keys)} samples ({len(train_keys) / n_samples:.2%})\\n\"\n",
    "                        f\"    – calibration: {len(calib_keys)} samples ({len(calib_keys) / n_samples:.2%})\\n\"\n",
    "                        f\"    – test: {len(test_keys)} samples ({len(test_keys) / n_samples:.2%})\")\n",
    "        return train_keys, calib_keys, test_keys\n",
    "\n",
    "\n",
    "def get_stratified_train_test_split_keys(target_df: pd.DataFrame, stratify_target_col: str, test_size: float,\n",
    "                                         shuffle: bool = True, random_seed: int = 0,\n",
    "                                         verbose: bool = True) -> Tuple[pd.Index, pd.Index]:\n",
    "    train_keys, _, test_keys = _get_stratified_train_test_split_keys(target_df, stratify_target_col,\n",
    "                                                                     test_size=test_size,\n",
    "                                                                     shuffle=shuffle,\n",
    "                                                                     random_seed=random_seed,\n",
    "                                                                     verbose=verbose,\n",
    "                                                                     split_type='train_test')\n",
    "    return train_keys, test_keys\n",
    "\n",
    "\n",
    "def get_stratified_train_calib_test_split_keys(target_df: pd.DataFrame, stratify_target_col: str, test_size: float,\n",
    "                                               calib_size: float,\n",
    "                                               shuffle: bool = True, random_seed: int = 0, verbose: bool = True) -> \\\n",
    "        Tuple[pd.Index, pd.Index, pd.Index]:\n",
    "    return _get_stratified_train_test_split_keys(target_df, stratify_target_col, test_size=test_size,\n",
    "                                                 calib_size=calib_size, shuffle=shuffle, random_seed=random_seed,\n",
    "                                                 verbose=verbose, split_type='train_calib_test')\n"
   ]
  },
  {
   "cell_type": "code",
   "execution_count": 199,
   "id": "544ffc47-a20c-47c0-b713-71557cb4e748",
   "metadata": {},
   "outputs": [
    {
     "data": {
      "text/html": [
       "<pre style=\"white-space:pre;overflow-x:auto;line-height:normal;font-family:Menlo,'DejaVu Sans Mono',consolas,'Courier New',monospace\"><span style=\"color: #7fbfbf; text-decoration-color: #7fbfbf\">[09/21/24 20:05:41] </span><span style=\"color: #000080; text-decoration-color: #000080\">INFO    </span> Stratified Train/Test Split. Data is split into:                      <a href=\"file:///tmp/ipykernel_2296198/4021540069.py\" target=\"_blank\"><span style=\"color: #7f7f7f; text-decoration-color: #7f7f7f\">4021540069.py</span></a><span style=\"color: #7f7f7f; text-decoration-color: #7f7f7f\">:</span><a href=\"file:///tmp/ipykernel_2296198/4021540069.py#92\" target=\"_blank\"><span style=\"color: #7f7f7f; text-decoration-color: #7f7f7f\">92</span></a>\n",
       "<span style=\"color: #7fbfbf; text-decoration-color: #7fbfbf\">                    </span>             - train: <span style=\"color: #008080; text-decoration-color: #008080; font-weight: bold\">31401</span> samples <span style=\"font-weight: bold\">(</span><span style=\"color: #008080; text-decoration-color: #008080; font-weight: bold\">70.00</span>%<span style=\"font-weight: bold\">)</span>                                   <span style=\"color: #7f7f7f; text-decoration-color: #7f7f7f\">                </span>\n",
       "<span style=\"color: #7fbfbf; text-decoration-color: #7fbfbf\">                    </span>             - test: <span style=\"color: #008080; text-decoration-color: #008080; font-weight: bold\">13458</span> samples  <span style=\"font-weight: bold\">(</span><span style=\"color: #008080; text-decoration-color: #008080; font-weight: bold\">30.00</span>%<span style=\"font-weight: bold\">)</span>                                   <span style=\"color: #7f7f7f; text-decoration-color: #7f7f7f\">                </span>\n",
       "</pre>\n"
      ],
      "text/plain": [
       "\u001B[2;36m[09/21/24 20:05:41]\u001B[0m\u001B[2;36m \u001B[0m\u001B[34mINFO    \u001B[0m Stratified Train/Test Split. Data is split into:                      \u001B]8;id=793114;file:///tmp/ipykernel_2296198/4021540069.py\u001B\\\u001B[2m4021540069.py\u001B[0m\u001B]8;;\u001B\\\u001B[2m:\u001B[0m\u001B]8;id=946166;file:///tmp/ipykernel_2296198/4021540069.py#92\u001B\\\u001B[2m92\u001B[0m\u001B]8;;\u001B\\\n",
       "\u001B[2;36m                    \u001B[0m             - train: \u001B[1;36m31401\u001B[0m samples \u001B[1m(\u001B[0m\u001B[1;36m70.00\u001B[0m%\u001B[1m)\u001B[0m                                   \u001B[2m                \u001B[0m\n",
       "\u001B[2;36m                    \u001B[0m             - test: \u001B[1;36m13458\u001B[0m samples  \u001B[1m(\u001B[0m\u001B[1;36m30.00\u001B[0m%\u001B[1m)\u001B[0m                                   \u001B[2m                \u001B[0m\n"
      ]
     },
     "metadata": {},
     "output_type": "display_data"
    }
   ],
   "source": [
    "# Example usage for train/test split\n",
    "train_keys, test_keys = get_stratified_train_test_split_keys(\n",
    "    sample_target_part_df, stratify_target_col='ClaimFreq_TRG', test_size=0.3, shuffle=True, random_seed=0, verbose=True)"
   ]
  },
  {
   "cell_type": "code",
   "execution_count": 200,
   "id": "b4b1b0d2-1415-417b-b4b1-8b9cc7616965",
   "metadata": {},
   "outputs": [
    {
     "data": {
      "text/html": [
       "<pre style=\"white-space:pre;overflow-x:auto;line-height:normal;font-family:Menlo,'DejaVu Sans Mono',consolas,'Courier New',monospace\"><span style=\"color: #7fbfbf; text-decoration-color: #7fbfbf\">[09/21/24 20:05:44] </span><span style=\"color: #000080; text-decoration-color: #000080\">INFO    </span> set: train, trg values:                                                <a href=\"file:///tmp/ipykernel_2296198/1101668488.py\" target=\"_blank\"><span style=\"color: #7f7f7f; text-decoration-color: #7f7f7f\">1101668488.py</span></a><span style=\"color: #7f7f7f; text-decoration-color: #7f7f7f\">:</span><a href=\"file:///tmp/ipykernel_2296198/1101668488.py#3\" target=\"_blank\"><span style=\"color: #7f7f7f; text-decoration-color: #7f7f7f\">3</span></a>\n",
       "<span style=\"color: #7fbfbf; text-decoration-color: #7fbfbf\">                    </span>         IDpol                                                                  <span style=\"color: #7f7f7f; text-decoration-color: #7f7f7f\">               </span>\n",
       "<span style=\"color: #7fbfbf; text-decoration-color: #7fbfbf\">                    </span>         <span style=\"color: #008080; text-decoration-color: #008080; font-weight: bold\">3114873</span>    <span style=\"color: #008080; text-decoration-color: #008080; font-weight: bold\">100.0</span>                                                       <span style=\"color: #7f7f7f; text-decoration-color: #7f7f7f\">               </span>\n",
       "<span style=\"color: #7fbfbf; text-decoration-color: #7fbfbf\">                    </span>         <span style=\"color: #008080; text-decoration-color: #008080; font-weight: bold\">4121727</span>    <span style=\"color: #008080; text-decoration-color: #008080; font-weight: bold\">100.0</span>                                                       <span style=\"color: #7f7f7f; text-decoration-color: #7f7f7f\">               </span>\n",
       "<span style=\"color: #7fbfbf; text-decoration-color: #7fbfbf\">                    </span>         <span style=\"color: #008080; text-decoration-color: #008080; font-weight: bold\">4134360</span>    <span style=\"color: #008080; text-decoration-color: #008080; font-weight: bold\">100.0</span>                                                       <span style=\"color: #7f7f7f; text-decoration-color: #7f7f7f\">               </span>\n",
       "<span style=\"color: #7fbfbf; text-decoration-color: #7fbfbf\">                    </span>         <span style=\"color: #008080; text-decoration-color: #008080; font-weight: bold\">2064279</span>    <span style=\"color: #008080; text-decoration-color: #008080; font-weight: bold\">100.0</span>                                                       <span style=\"color: #7f7f7f; text-decoration-color: #7f7f7f\">               </span>\n",
       "<span style=\"color: #7fbfbf; text-decoration-color: #7fbfbf\">                    </span>         <span style=\"color: #008080; text-decoration-color: #008080; font-weight: bold\">1050869</span>    <span style=\"color: #008080; text-decoration-color: #008080; font-weight: bold\">100.0</span>                                                       <span style=\"color: #7f7f7f; text-decoration-color: #7f7f7f\">               </span>\n",
       "<span style=\"color: #7fbfbf; text-decoration-color: #7fbfbf\">                    </span>                    <span style=\"color: #808000; text-decoration-color: #808000\">...</span>                                                         <span style=\"color: #7f7f7f; text-decoration-color: #7f7f7f\">               </span>\n",
       "<span style=\"color: #7fbfbf; text-decoration-color: #7fbfbf\">                    </span>         <span style=\"color: #008080; text-decoration-color: #008080; font-weight: bold\">4143094</span>      <span style=\"color: #008080; text-decoration-color: #008080; font-weight: bold\">0.0</span>                                                       <span style=\"color: #7f7f7f; text-decoration-color: #7f7f7f\">               </span>\n",
       "<span style=\"color: #7fbfbf; text-decoration-color: #7fbfbf\">                    </span>         <span style=\"color: #008080; text-decoration-color: #008080; font-weight: bold\">2083195</span>      <span style=\"color: #008080; text-decoration-color: #008080; font-weight: bold\">0.0</span>                                                       <span style=\"color: #7f7f7f; text-decoration-color: #7f7f7f\">               </span>\n",
       "<span style=\"color: #7fbfbf; text-decoration-color: #7fbfbf\">                    </span>         <span style=\"color: #008080; text-decoration-color: #008080; font-weight: bold\">5078911</span>      <span style=\"color: #008080; text-decoration-color: #008080; font-weight: bold\">0.0</span>                                                       <span style=\"color: #7f7f7f; text-decoration-color: #7f7f7f\">               </span>\n",
       "<span style=\"color: #7fbfbf; text-decoration-color: #7fbfbf\">                    </span>         <span style=\"color: #008080; text-decoration-color: #008080; font-weight: bold\">6112318</span>      <span style=\"color: #008080; text-decoration-color: #008080; font-weight: bold\">0.0</span>                                                       <span style=\"color: #7f7f7f; text-decoration-color: #7f7f7f\">               </span>\n",
       "<span style=\"color: #7fbfbf; text-decoration-color: #7fbfbf\">                    </span>         <span style=\"color: #008080; text-decoration-color: #008080; font-weight: bold\">23903</span>        <span style=\"color: #008080; text-decoration-color: #008080; font-weight: bold\">0.0</span>                                                       <span style=\"color: #7f7f7f; text-decoration-color: #7f7f7f\">               </span>\n",
       "<span style=\"color: #7fbfbf; text-decoration-color: #7fbfbf\">                    </span>         Name: ClaimFreq_TRG, Length: <span style=\"color: #008080; text-decoration-color: #008080; font-weight: bold\">31401</span>, dtype: float64                     <span style=\"color: #7f7f7f; text-decoration-color: #7f7f7f\">               </span>\n",
       "</pre>\n"
      ],
      "text/plain": [
       "\u001B[2;36m[09/21/24 20:05:44]\u001B[0m\u001B[2;36m \u001B[0m\u001B[34mINFO    \u001B[0m set: train, trg values:                                                \u001B]8;id=997069;file:///tmp/ipykernel_2296198/1101668488.py\u001B\\\u001B[2m1101668488.py\u001B[0m\u001B]8;;\u001B\\\u001B[2m:\u001B[0m\u001B]8;id=99951;file:///tmp/ipykernel_2296198/1101668488.py#3\u001B\\\u001B[2m3\u001B[0m\u001B]8;;\u001B\\\n",
       "\u001B[2;36m                    \u001B[0m         IDpol                                                                  \u001B[2m               \u001B[0m\n",
       "\u001B[2;36m                    \u001B[0m         \u001B[1;36m3114873\u001B[0m    \u001B[1;36m100.0\u001B[0m                                                       \u001B[2m               \u001B[0m\n",
       "\u001B[2;36m                    \u001B[0m         \u001B[1;36m4121727\u001B[0m    \u001B[1;36m100.0\u001B[0m                                                       \u001B[2m               \u001B[0m\n",
       "\u001B[2;36m                    \u001B[0m         \u001B[1;36m4134360\u001B[0m    \u001B[1;36m100.0\u001B[0m                                                       \u001B[2m               \u001B[0m\n",
       "\u001B[2;36m                    \u001B[0m         \u001B[1;36m2064279\u001B[0m    \u001B[1;36m100.0\u001B[0m                                                       \u001B[2m               \u001B[0m\n",
       "\u001B[2;36m                    \u001B[0m         \u001B[1;36m1050869\u001B[0m    \u001B[1;36m100.0\u001B[0m                                                       \u001B[2m               \u001B[0m\n",
       "\u001B[2;36m                    \u001B[0m                    \u001B[33m...\u001B[0m                                                         \u001B[2m               \u001B[0m\n",
       "\u001B[2;36m                    \u001B[0m         \u001B[1;36m4143094\u001B[0m      \u001B[1;36m0.0\u001B[0m                                                       \u001B[2m               \u001B[0m\n",
       "\u001B[2;36m                    \u001B[0m         \u001B[1;36m2083195\u001B[0m      \u001B[1;36m0.0\u001B[0m                                                       \u001B[2m               \u001B[0m\n",
       "\u001B[2;36m                    \u001B[0m         \u001B[1;36m5078911\u001B[0m      \u001B[1;36m0.0\u001B[0m                                                       \u001B[2m               \u001B[0m\n",
       "\u001B[2;36m                    \u001B[0m         \u001B[1;36m6112318\u001B[0m      \u001B[1;36m0.0\u001B[0m                                                       \u001B[2m               \u001B[0m\n",
       "\u001B[2;36m                    \u001B[0m         \u001B[1;36m23903\u001B[0m        \u001B[1;36m0.0\u001B[0m                                                       \u001B[2m               \u001B[0m\n",
       "\u001B[2;36m                    \u001B[0m         Name: ClaimFreq_TRG, Length: \u001B[1;36m31401\u001B[0m, dtype: float64                     \u001B[2m               \u001B[0m\n"
      ]
     },
     "metadata": {},
     "output_type": "display_data"
    },
    {
     "data": {
      "text/html": [
       "<pre style=\"white-space:pre;overflow-x:auto;line-height:normal;font-family:Menlo,'DejaVu Sans Mono',consolas,'Courier New',monospace\"><span style=\"color: #7fbfbf; text-decoration-color: #7fbfbf\">                    </span><span style=\"color: #000080; text-decoration-color: #000080\">INFO    </span> set: test, trg values:                                                 <a href=\"file:///tmp/ipykernel_2296198/1101668488.py\" target=\"_blank\"><span style=\"color: #7f7f7f; text-decoration-color: #7f7f7f\">1101668488.py</span></a><span style=\"color: #7f7f7f; text-decoration-color: #7f7f7f\">:</span><a href=\"file:///tmp/ipykernel_2296198/1101668488.py#3\" target=\"_blank\"><span style=\"color: #7f7f7f; text-decoration-color: #7f7f7f\">3</span></a>\n",
       "<span style=\"color: #7fbfbf; text-decoration-color: #7fbfbf\">                    </span>         IDpol                                                                  <span style=\"color: #7f7f7f; text-decoration-color: #7f7f7f\">               </span>\n",
       "<span style=\"color: #7fbfbf; text-decoration-color: #7fbfbf\">                    </span>         <span style=\"color: #008080; text-decoration-color: #008080; font-weight: bold\">44799</span>      <span style=\"color: #008080; text-decoration-color: #008080; font-weight: bold\">100.0</span>                                                       <span style=\"color: #7f7f7f; text-decoration-color: #7f7f7f\">               </span>\n",
       "<span style=\"color: #7fbfbf; text-decoration-color: #7fbfbf\">                    </span>         <span style=\"color: #008080; text-decoration-color: #008080; font-weight: bold\">5096322</span>    <span style=\"color: #008080; text-decoration-color: #008080; font-weight: bold\">100.0</span>                                                       <span style=\"color: #7f7f7f; text-decoration-color: #7f7f7f\">               </span>\n",
       "<span style=\"color: #7fbfbf; text-decoration-color: #7fbfbf\">                    </span>         <span style=\"color: #008080; text-decoration-color: #008080; font-weight: bold\">5105891</span>    <span style=\"color: #008080; text-decoration-color: #008080; font-weight: bold\">100.0</span>                                                       <span style=\"color: #7f7f7f; text-decoration-color: #7f7f7f\">               </span>\n",
       "<span style=\"color: #7fbfbf; text-decoration-color: #7fbfbf\">                    </span>         <span style=\"color: #008080; text-decoration-color: #008080; font-weight: bold\">1079463</span>    <span style=\"color: #008080; text-decoration-color: #008080; font-weight: bold\">100.0</span>                                                       <span style=\"color: #7f7f7f; text-decoration-color: #7f7f7f\">               </span>\n",
       "<span style=\"color: #7fbfbf; text-decoration-color: #7fbfbf\">                    </span>         <span style=\"color: #008080; text-decoration-color: #008080; font-weight: bold\">4151182</span>    <span style=\"color: #008080; text-decoration-color: #008080; font-weight: bold\">100.0</span>                                                       <span style=\"color: #7f7f7f; text-decoration-color: #7f7f7f\">               </span>\n",
       "<span style=\"color: #7fbfbf; text-decoration-color: #7fbfbf\">                    </span>                    <span style=\"color: #808000; text-decoration-color: #808000\">...</span>                                                         <span style=\"color: #7f7f7f; text-decoration-color: #7f7f7f\">               </span>\n",
       "<span style=\"color: #7fbfbf; text-decoration-color: #7fbfbf\">                    </span>         <span style=\"color: #008080; text-decoration-color: #008080; font-weight: bold\">4179704</span>      <span style=\"color: #008080; text-decoration-color: #008080; font-weight: bold\">0.0</span>                                                       <span style=\"color: #7f7f7f; text-decoration-color: #7f7f7f\">               </span>\n",
       "<span style=\"color: #7fbfbf; text-decoration-color: #7fbfbf\">                    </span>         <span style=\"color: #008080; text-decoration-color: #008080; font-weight: bold\">3175986</span>      <span style=\"color: #008080; text-decoration-color: #008080; font-weight: bold\">0.0</span>                                                       <span style=\"color: #7f7f7f; text-decoration-color: #7f7f7f\">               </span>\n",
       "<span style=\"color: #7fbfbf; text-decoration-color: #7fbfbf\">                    </span>         <span style=\"color: #008080; text-decoration-color: #008080; font-weight: bold\">2265384</span>      <span style=\"color: #008080; text-decoration-color: #008080; font-weight: bold\">0.0</span>                                                       <span style=\"color: #7f7f7f; text-decoration-color: #7f7f7f\">               </span>\n",
       "<span style=\"color: #7fbfbf; text-decoration-color: #7fbfbf\">                    </span>         <span style=\"color: #008080; text-decoration-color: #008080; font-weight: bold\">3005418</span>      <span style=\"color: #008080; text-decoration-color: #008080; font-weight: bold\">0.0</span>                                                       <span style=\"color: #7f7f7f; text-decoration-color: #7f7f7f\">               </span>\n",
       "<span style=\"color: #7fbfbf; text-decoration-color: #7fbfbf\">                    </span>         <span style=\"color: #008080; text-decoration-color: #008080; font-weight: bold\">2184066</span>      <span style=\"color: #008080; text-decoration-color: #008080; font-weight: bold\">0.0</span>                                                       <span style=\"color: #7f7f7f; text-decoration-color: #7f7f7f\">               </span>\n",
       "<span style=\"color: #7fbfbf; text-decoration-color: #7fbfbf\">                    </span>         Name: ClaimFreq_TRG, Length: <span style=\"color: #008080; text-decoration-color: #008080; font-weight: bold\">13458</span>, dtype: float64                     <span style=\"color: #7f7f7f; text-decoration-color: #7f7f7f\">               </span>\n",
       "</pre>\n"
      ],
      "text/plain": [
       "\u001B[2;36m                   \u001B[0m\u001B[2;36m \u001B[0m\u001B[34mINFO    \u001B[0m set: test, trg values:                                                 \u001B]8;id=1949;file:///tmp/ipykernel_2296198/1101668488.py\u001B\\\u001B[2m1101668488.py\u001B[0m\u001B]8;;\u001B\\\u001B[2m:\u001B[0m\u001B]8;id=707301;file:///tmp/ipykernel_2296198/1101668488.py#3\u001B\\\u001B[2m3\u001B[0m\u001B]8;;\u001B\\\n",
       "\u001B[2;36m                    \u001B[0m         IDpol                                                                  \u001B[2m               \u001B[0m\n",
       "\u001B[2;36m                    \u001B[0m         \u001B[1;36m44799\u001B[0m      \u001B[1;36m100.0\u001B[0m                                                       \u001B[2m               \u001B[0m\n",
       "\u001B[2;36m                    \u001B[0m         \u001B[1;36m5096322\u001B[0m    \u001B[1;36m100.0\u001B[0m                                                       \u001B[2m               \u001B[0m\n",
       "\u001B[2;36m                    \u001B[0m         \u001B[1;36m5105891\u001B[0m    \u001B[1;36m100.0\u001B[0m                                                       \u001B[2m               \u001B[0m\n",
       "\u001B[2;36m                    \u001B[0m         \u001B[1;36m1079463\u001B[0m    \u001B[1;36m100.0\u001B[0m                                                       \u001B[2m               \u001B[0m\n",
       "\u001B[2;36m                    \u001B[0m         \u001B[1;36m4151182\u001B[0m    \u001B[1;36m100.0\u001B[0m                                                       \u001B[2m               \u001B[0m\n",
       "\u001B[2;36m                    \u001B[0m                    \u001B[33m...\u001B[0m                                                         \u001B[2m               \u001B[0m\n",
       "\u001B[2;36m                    \u001B[0m         \u001B[1;36m4179704\u001B[0m      \u001B[1;36m0.0\u001B[0m                                                       \u001B[2m               \u001B[0m\n",
       "\u001B[2;36m                    \u001B[0m         \u001B[1;36m3175986\u001B[0m      \u001B[1;36m0.0\u001B[0m                                                       \u001B[2m               \u001B[0m\n",
       "\u001B[2;36m                    \u001B[0m         \u001B[1;36m2265384\u001B[0m      \u001B[1;36m0.0\u001B[0m                                                       \u001B[2m               \u001B[0m\n",
       "\u001B[2;36m                    \u001B[0m         \u001B[1;36m3005418\u001B[0m      \u001B[1;36m0.0\u001B[0m                                                       \u001B[2m               \u001B[0m\n",
       "\u001B[2;36m                    \u001B[0m         \u001B[1;36m2184066\u001B[0m      \u001B[1;36m0.0\u001B[0m                                                       \u001B[2m               \u001B[0m\n",
       "\u001B[2;36m                    \u001B[0m         Name: ClaimFreq_TRG, Length: \u001B[1;36m13458\u001B[0m, dtype: float64                     \u001B[2m               \u001B[0m\n"
      ]
     },
     "metadata": {},
     "output_type": "display_data"
    }
   ],
   "source": [
    "for name, keys in [(\"train\", train_keys), (\"test\", test_keys)]:\n",
    "    trg = sample_target_part_df[\"ClaimFreq_TRG\"].loc[keys].sort_values(ascending=False)\n",
    "    logger.info(f\"set: {name}, trg values:\\n{trg}\")"
   ]
  },
  {
   "cell_type": "code",
   "execution_count": 202,
   "id": "7f2a4216-c506-400a-a387-b2def9f1bc15",
   "metadata": {},
   "outputs": [
    {
     "data": {
      "text/html": [
       "<pre style=\"white-space:pre;overflow-x:auto;line-height:normal;font-family:Menlo,'DejaVu Sans Mono',consolas,'Courier New',monospace\"><span style=\"color: #7fbfbf; text-decoration-color: #7fbfbf\">[09/21/24 20:06:04] </span><span style=\"color: #000080; text-decoration-color: #000080\">INFO    </span> Stratified Train/Calib/Test Split. Data is split into:               <a href=\"file:///tmp/ipykernel_2296198/4021540069.py\" target=\"_blank\"><span style=\"color: #7f7f7f; text-decoration-color: #7f7f7f\">4021540069.py</span></a><span style=\"color: #7f7f7f; text-decoration-color: #7f7f7f\">:</span><a href=\"file:///tmp/ipykernel_2296198/4021540069.py#135\" target=\"_blank\"><span style=\"color: #7f7f7f; text-decoration-color: #7f7f7f\">135</span></a>\n",
       "<span style=\"color: #7fbfbf; text-decoration-color: #7fbfbf\">                    </span>             – train: <span style=\"color: #008080; text-decoration-color: #008080; font-weight: bold\">31401</span> samples <span style=\"font-weight: bold\">(</span><span style=\"color: #008080; text-decoration-color: #008080; font-weight: bold\">70.00</span>%<span style=\"font-weight: bold\">)</span>                                  <span style=\"color: #7f7f7f; text-decoration-color: #7f7f7f\">                 </span>\n",
       "<span style=\"color: #7fbfbf; text-decoration-color: #7fbfbf\">                    </span>             – calibration: <span style=\"color: #008080; text-decoration-color: #008080; font-weight: bold\">6729</span> samples <span style=\"font-weight: bold\">(</span><span style=\"color: #008080; text-decoration-color: #008080; font-weight: bold\">15.00</span>%<span style=\"font-weight: bold\">)</span>                             <span style=\"color: #7f7f7f; text-decoration-color: #7f7f7f\">                 </span>\n",
       "<span style=\"color: #7fbfbf; text-decoration-color: #7fbfbf\">                    </span>             – test: <span style=\"color: #008080; text-decoration-color: #008080; font-weight: bold\">6729</span> samples <span style=\"font-weight: bold\">(</span><span style=\"color: #008080; text-decoration-color: #008080; font-weight: bold\">15.00</span>%<span style=\"font-weight: bold\">)</span>                                    <span style=\"color: #7f7f7f; text-decoration-color: #7f7f7f\">                 </span>\n",
       "</pre>\n"
      ],
      "text/plain": [
       "\u001B[2;36m[09/21/24 20:06:04]\u001B[0m\u001B[2;36m \u001B[0m\u001B[34mINFO    \u001B[0m Stratified Train/Calib/Test Split. Data is split into:               \u001B]8;id=614614;file:///tmp/ipykernel_2296198/4021540069.py\u001B\\\u001B[2m4021540069.py\u001B[0m\u001B]8;;\u001B\\\u001B[2m:\u001B[0m\u001B]8;id=356274;file:///tmp/ipykernel_2296198/4021540069.py#135\u001B\\\u001B[2m135\u001B[0m\u001B]8;;\u001B\\\n",
       "\u001B[2;36m                    \u001B[0m             – train: \u001B[1;36m31401\u001B[0m samples \u001B[1m(\u001B[0m\u001B[1;36m70.00\u001B[0m%\u001B[1m)\u001B[0m                                  \u001B[2m                 \u001B[0m\n",
       "\u001B[2;36m                    \u001B[0m             – calibration: \u001B[1;36m6729\u001B[0m samples \u001B[1m(\u001B[0m\u001B[1;36m15.00\u001B[0m%\u001B[1m)\u001B[0m                             \u001B[2m                 \u001B[0m\n",
       "\u001B[2;36m                    \u001B[0m             – test: \u001B[1;36m6729\u001B[0m samples \u001B[1m(\u001B[0m\u001B[1;36m15.00\u001B[0m%\u001B[1m)\u001B[0m                                    \u001B[2m                 \u001B[0m\n"
      ]
     },
     "metadata": {},
     "output_type": "display_data"
    }
   ],
   "source": [
    "# Example usage for train/test split\n",
    "train_keys, calib_keys, test_keys = get_stratified_train_calib_test_split_keys(\n",
    "    sample_target_part_df, stratify_target_col='ClaimFreq_TRG', calib_size = 0.15, test_size=0.15, shuffle=True, random_seed=0, verbose=True)"
   ]
  },
  {
   "cell_type": "code",
   "execution_count": 203,
   "id": "2a542465-ec7b-4eea-b3bf-3976aa248f58",
   "metadata": {},
   "outputs": [
    {
     "data": {
      "text/html": [
       "<pre style=\"white-space:pre;overflow-x:auto;line-height:normal;font-family:Menlo,'DejaVu Sans Mono',consolas,'Courier New',monospace\"><span style=\"color: #7fbfbf; text-decoration-color: #7fbfbf\">[09/21/24 20:06:07] </span><span style=\"color: #000080; text-decoration-color: #000080\">INFO    </span> set: train, trg values:                                                <a href=\"file:///tmp/ipykernel_2296198/3783152477.py\" target=\"_blank\"><span style=\"color: #7f7f7f; text-decoration-color: #7f7f7f\">3783152477.py</span></a><span style=\"color: #7f7f7f; text-decoration-color: #7f7f7f\">:</span><a href=\"file:///tmp/ipykernel_2296198/3783152477.py#3\" target=\"_blank\"><span style=\"color: #7f7f7f; text-decoration-color: #7f7f7f\">3</span></a>\n",
       "<span style=\"color: #7fbfbf; text-decoration-color: #7fbfbf\">                    </span>         IDpol                                                                  <span style=\"color: #7f7f7f; text-decoration-color: #7f7f7f\">               </span>\n",
       "<span style=\"color: #7fbfbf; text-decoration-color: #7fbfbf\">                    </span>         <span style=\"color: #008080; text-decoration-color: #008080; font-weight: bold\">3172233</span>    <span style=\"color: #008080; text-decoration-color: #008080; font-weight: bold\">100.0</span>                                                       <span style=\"color: #7f7f7f; text-decoration-color: #7f7f7f\">               </span>\n",
       "<span style=\"color: #7fbfbf; text-decoration-color: #7fbfbf\">                    </span>         <span style=\"color: #008080; text-decoration-color: #008080; font-weight: bold\">5096322</span>    <span style=\"color: #008080; text-decoration-color: #008080; font-weight: bold\">100.0</span>                                                       <span style=\"color: #7f7f7f; text-decoration-color: #7f7f7f\">               </span>\n",
       "<span style=\"color: #7fbfbf; text-decoration-color: #7fbfbf\">                    </span>         <span style=\"color: #008080; text-decoration-color: #008080; font-weight: bold\">3029628</span>    <span style=\"color: #008080; text-decoration-color: #008080; font-weight: bold\">100.0</span>                                                       <span style=\"color: #7f7f7f; text-decoration-color: #7f7f7f\">               </span>\n",
       "<span style=\"color: #7fbfbf; text-decoration-color: #7fbfbf\">                    </span>         <span style=\"color: #008080; text-decoration-color: #008080; font-weight: bold\">2064279</span>    <span style=\"color: #008080; text-decoration-color: #008080; font-weight: bold\">100.0</span>                                                       <span style=\"color: #7f7f7f; text-decoration-color: #7f7f7f\">               </span>\n",
       "<span style=\"color: #7fbfbf; text-decoration-color: #7fbfbf\">                    </span>         <span style=\"color: #008080; text-decoration-color: #008080; font-weight: bold\">1149519</span>    <span style=\"color: #008080; text-decoration-color: #008080; font-weight: bold\">100.0</span>                                                       <span style=\"color: #7f7f7f; text-decoration-color: #7f7f7f\">               </span>\n",
       "<span style=\"color: #7fbfbf; text-decoration-color: #7fbfbf\">                    </span>                    <span style=\"color: #808000; text-decoration-color: #808000\">...</span>                                                         <span style=\"color: #7f7f7f; text-decoration-color: #7f7f7f\">               </span>\n",
       "<span style=\"color: #7fbfbf; text-decoration-color: #7fbfbf\">                    </span>         <span style=\"color: #008080; text-decoration-color: #008080; font-weight: bold\">2220772</span>      <span style=\"color: #008080; text-decoration-color: #008080; font-weight: bold\">0.0</span>                                                       <span style=\"color: #7f7f7f; text-decoration-color: #7f7f7f\">               </span>\n",
       "<span style=\"color: #7fbfbf; text-decoration-color: #7fbfbf\">                    </span>         <span style=\"color: #008080; text-decoration-color: #008080; font-weight: bold\">1144477</span>      <span style=\"color: #008080; text-decoration-color: #008080; font-weight: bold\">0.0</span>                                                       <span style=\"color: #7f7f7f; text-decoration-color: #7f7f7f\">               </span>\n",
       "<span style=\"color: #7fbfbf; text-decoration-color: #7fbfbf\">                    </span>         <span style=\"color: #008080; text-decoration-color: #008080; font-weight: bold\">24366</span>        <span style=\"color: #008080; text-decoration-color: #008080; font-weight: bold\">0.0</span>                                                       <span style=\"color: #7f7f7f; text-decoration-color: #7f7f7f\">               </span>\n",
       "<span style=\"color: #7fbfbf; text-decoration-color: #7fbfbf\">                    </span>         <span style=\"color: #008080; text-decoration-color: #008080; font-weight: bold\">1120700</span>      <span style=\"color: #008080; text-decoration-color: #008080; font-weight: bold\">0.0</span>                                                       <span style=\"color: #7f7f7f; text-decoration-color: #7f7f7f\">               </span>\n",
       "<span style=\"color: #7fbfbf; text-decoration-color: #7fbfbf\">                    </span>         <span style=\"color: #008080; text-decoration-color: #008080; font-weight: bold\">2277560</span>      <span style=\"color: #008080; text-decoration-color: #008080; font-weight: bold\">0.0</span>                                                       <span style=\"color: #7f7f7f; text-decoration-color: #7f7f7f\">               </span>\n",
       "<span style=\"color: #7fbfbf; text-decoration-color: #7fbfbf\">                    </span>         Name: ClaimFreq_TRG, Length: <span style=\"color: #008080; text-decoration-color: #008080; font-weight: bold\">31401</span>, dtype: float64                     <span style=\"color: #7f7f7f; text-decoration-color: #7f7f7f\">               </span>\n",
       "</pre>\n"
      ],
      "text/plain": [
       "\u001B[2;36m[09/21/24 20:06:07]\u001B[0m\u001B[2;36m \u001B[0m\u001B[34mINFO    \u001B[0m set: train, trg values:                                                \u001B]8;id=297138;file:///tmp/ipykernel_2296198/3783152477.py\u001B\\\u001B[2m3783152477.py\u001B[0m\u001B]8;;\u001B\\\u001B[2m:\u001B[0m\u001B]8;id=198683;file:///tmp/ipykernel_2296198/3783152477.py#3\u001B\\\u001B[2m3\u001B[0m\u001B]8;;\u001B\\\n",
       "\u001B[2;36m                    \u001B[0m         IDpol                                                                  \u001B[2m               \u001B[0m\n",
       "\u001B[2;36m                    \u001B[0m         \u001B[1;36m3172233\u001B[0m    \u001B[1;36m100.0\u001B[0m                                                       \u001B[2m               \u001B[0m\n",
       "\u001B[2;36m                    \u001B[0m         \u001B[1;36m5096322\u001B[0m    \u001B[1;36m100.0\u001B[0m                                                       \u001B[2m               \u001B[0m\n",
       "\u001B[2;36m                    \u001B[0m         \u001B[1;36m3029628\u001B[0m    \u001B[1;36m100.0\u001B[0m                                                       \u001B[2m               \u001B[0m\n",
       "\u001B[2;36m                    \u001B[0m         \u001B[1;36m2064279\u001B[0m    \u001B[1;36m100.0\u001B[0m                                                       \u001B[2m               \u001B[0m\n",
       "\u001B[2;36m                    \u001B[0m         \u001B[1;36m1149519\u001B[0m    \u001B[1;36m100.0\u001B[0m                                                       \u001B[2m               \u001B[0m\n",
       "\u001B[2;36m                    \u001B[0m                    \u001B[33m...\u001B[0m                                                         \u001B[2m               \u001B[0m\n",
       "\u001B[2;36m                    \u001B[0m         \u001B[1;36m2220772\u001B[0m      \u001B[1;36m0.0\u001B[0m                                                       \u001B[2m               \u001B[0m\n",
       "\u001B[2;36m                    \u001B[0m         \u001B[1;36m1144477\u001B[0m      \u001B[1;36m0.0\u001B[0m                                                       \u001B[2m               \u001B[0m\n",
       "\u001B[2;36m                    \u001B[0m         \u001B[1;36m24366\u001B[0m        \u001B[1;36m0.0\u001B[0m                                                       \u001B[2m               \u001B[0m\n",
       "\u001B[2;36m                    \u001B[0m         \u001B[1;36m1120700\u001B[0m      \u001B[1;36m0.0\u001B[0m                                                       \u001B[2m               \u001B[0m\n",
       "\u001B[2;36m                    \u001B[0m         \u001B[1;36m2277560\u001B[0m      \u001B[1;36m0.0\u001B[0m                                                       \u001B[2m               \u001B[0m\n",
       "\u001B[2;36m                    \u001B[0m         Name: ClaimFreq_TRG, Length: \u001B[1;36m31401\u001B[0m, dtype: float64                     \u001B[2m               \u001B[0m\n"
      ]
     },
     "metadata": {},
     "output_type": "display_data"
    },
    {
     "data": {
      "text/html": [
       "<pre style=\"white-space:pre;overflow-x:auto;line-height:normal;font-family:Menlo,'DejaVu Sans Mono',consolas,'Courier New',monospace\"><span style=\"color: #7fbfbf; text-decoration-color: #7fbfbf\">                    </span><span style=\"color: #000080; text-decoration-color: #000080\">INFO    </span> set: calib, trg values:                                                <a href=\"file:///tmp/ipykernel_2296198/3783152477.py\" target=\"_blank\"><span style=\"color: #7f7f7f; text-decoration-color: #7f7f7f\">3783152477.py</span></a><span style=\"color: #7f7f7f; text-decoration-color: #7f7f7f\">:</span><a href=\"file:///tmp/ipykernel_2296198/3783152477.py#3\" target=\"_blank\"><span style=\"color: #7f7f7f; text-decoration-color: #7f7f7f\">3</span></a>\n",
       "<span style=\"color: #7fbfbf; text-decoration-color: #7fbfbf\">                    </span>         IDpol                                                                  <span style=\"color: #7f7f7f; text-decoration-color: #7f7f7f\">               </span>\n",
       "<span style=\"color: #7fbfbf; text-decoration-color: #7fbfbf\">                    </span>         <span style=\"color: #008080; text-decoration-color: #008080; font-weight: bold\">1100830</span>    <span style=\"color: #008080; text-decoration-color: #008080; font-weight: bold\">100.0</span>                                                       <span style=\"color: #7f7f7f; text-decoration-color: #7f7f7f\">               </span>\n",
       "<span style=\"color: #7fbfbf; text-decoration-color: #7fbfbf\">                    </span>         <span style=\"color: #008080; text-decoration-color: #008080; font-weight: bold\">4135942</span>    <span style=\"color: #008080; text-decoration-color: #008080; font-weight: bold\">100.0</span>                                                       <span style=\"color: #7f7f7f; text-decoration-color: #7f7f7f\">               </span>\n",
       "<span style=\"color: #7fbfbf; text-decoration-color: #7fbfbf\">                    </span>         <span style=\"color: #008080; text-decoration-color: #008080; font-weight: bold\">3122778</span>    <span style=\"color: #008080; text-decoration-color: #008080; font-weight: bold\">100.0</span>                                                       <span style=\"color: #7f7f7f; text-decoration-color: #7f7f7f\">               </span>\n",
       "<span style=\"color: #7fbfbf; text-decoration-color: #7fbfbf\">                    </span>         <span style=\"color: #008080; text-decoration-color: #008080; font-weight: bold\">3073240</span>    <span style=\"color: #008080; text-decoration-color: #008080; font-weight: bold\">100.0</span>                                                       <span style=\"color: #7f7f7f; text-decoration-color: #7f7f7f\">               </span>\n",
       "<span style=\"color: #7fbfbf; text-decoration-color: #7fbfbf\">                    </span>         <span style=\"color: #008080; text-decoration-color: #008080; font-weight: bold\">91671</span>      <span style=\"color: #008080; text-decoration-color: #008080; font-weight: bold\">100.0</span>                                                       <span style=\"color: #7f7f7f; text-decoration-color: #7f7f7f\">               </span>\n",
       "<span style=\"color: #7fbfbf; text-decoration-color: #7fbfbf\">                    </span>                    <span style=\"color: #808000; text-decoration-color: #808000\">...</span>                                                         <span style=\"color: #7f7f7f; text-decoration-color: #7f7f7f\">               </span>\n",
       "<span style=\"color: #7fbfbf; text-decoration-color: #7fbfbf\">                    </span>         <span style=\"color: #008080; text-decoration-color: #008080; font-weight: bold\">44781</span>        <span style=\"color: #008080; text-decoration-color: #008080; font-weight: bold\">0.0</span>                                                       <span style=\"color: #7f7f7f; text-decoration-color: #7f7f7f\">               </span>\n",
       "<span style=\"color: #7fbfbf; text-decoration-color: #7fbfbf\">                    </span>         <span style=\"color: #008080; text-decoration-color: #008080; font-weight: bold\">4168292</span>      <span style=\"color: #008080; text-decoration-color: #008080; font-weight: bold\">0.0</span>                                                       <span style=\"color: #7f7f7f; text-decoration-color: #7f7f7f\">               </span>\n",
       "<span style=\"color: #7fbfbf; text-decoration-color: #7fbfbf\">                    </span>         <span style=\"color: #008080; text-decoration-color: #008080; font-weight: bold\">19916</span>        <span style=\"color: #008080; text-decoration-color: #008080; font-weight: bold\">0.0</span>                                                       <span style=\"color: #7f7f7f; text-decoration-color: #7f7f7f\">               </span>\n",
       "<span style=\"color: #7fbfbf; text-decoration-color: #7fbfbf\">                    </span>         <span style=\"color: #008080; text-decoration-color: #008080; font-weight: bold\">2220163</span>      <span style=\"color: #008080; text-decoration-color: #008080; font-weight: bold\">0.0</span>                                                       <span style=\"color: #7f7f7f; text-decoration-color: #7f7f7f\">               </span>\n",
       "<span style=\"color: #7fbfbf; text-decoration-color: #7fbfbf\">                    </span>         <span style=\"color: #008080; text-decoration-color: #008080; font-weight: bold\">3251603</span>      <span style=\"color: #008080; text-decoration-color: #008080; font-weight: bold\">0.0</span>                                                       <span style=\"color: #7f7f7f; text-decoration-color: #7f7f7f\">               </span>\n",
       "<span style=\"color: #7fbfbf; text-decoration-color: #7fbfbf\">                    </span>         Name: ClaimFreq_TRG, Length: <span style=\"color: #008080; text-decoration-color: #008080; font-weight: bold\">6729</span>, dtype: float64                      <span style=\"color: #7f7f7f; text-decoration-color: #7f7f7f\">               </span>\n",
       "</pre>\n"
      ],
      "text/plain": [
       "\u001B[2;36m                   \u001B[0m\u001B[2;36m \u001B[0m\u001B[34mINFO    \u001B[0m set: calib, trg values:                                                \u001B]8;id=706246;file:///tmp/ipykernel_2296198/3783152477.py\u001B\\\u001B[2m3783152477.py\u001B[0m\u001B]8;;\u001B\\\u001B[2m:\u001B[0m\u001B]8;id=16582;file:///tmp/ipykernel_2296198/3783152477.py#3\u001B\\\u001B[2m3\u001B[0m\u001B]8;;\u001B\\\n",
       "\u001B[2;36m                    \u001B[0m         IDpol                                                                  \u001B[2m               \u001B[0m\n",
       "\u001B[2;36m                    \u001B[0m         \u001B[1;36m1100830\u001B[0m    \u001B[1;36m100.0\u001B[0m                                                       \u001B[2m               \u001B[0m\n",
       "\u001B[2;36m                    \u001B[0m         \u001B[1;36m4135942\u001B[0m    \u001B[1;36m100.0\u001B[0m                                                       \u001B[2m               \u001B[0m\n",
       "\u001B[2;36m                    \u001B[0m         \u001B[1;36m3122778\u001B[0m    \u001B[1;36m100.0\u001B[0m                                                       \u001B[2m               \u001B[0m\n",
       "\u001B[2;36m                    \u001B[0m         \u001B[1;36m3073240\u001B[0m    \u001B[1;36m100.0\u001B[0m                                                       \u001B[2m               \u001B[0m\n",
       "\u001B[2;36m                    \u001B[0m         \u001B[1;36m91671\u001B[0m      \u001B[1;36m100.0\u001B[0m                                                       \u001B[2m               \u001B[0m\n",
       "\u001B[2;36m                    \u001B[0m                    \u001B[33m...\u001B[0m                                                         \u001B[2m               \u001B[0m\n",
       "\u001B[2;36m                    \u001B[0m         \u001B[1;36m44781\u001B[0m        \u001B[1;36m0.0\u001B[0m                                                       \u001B[2m               \u001B[0m\n",
       "\u001B[2;36m                    \u001B[0m         \u001B[1;36m4168292\u001B[0m      \u001B[1;36m0.0\u001B[0m                                                       \u001B[2m               \u001B[0m\n",
       "\u001B[2;36m                    \u001B[0m         \u001B[1;36m19916\u001B[0m        \u001B[1;36m0.0\u001B[0m                                                       \u001B[2m               \u001B[0m\n",
       "\u001B[2;36m                    \u001B[0m         \u001B[1;36m2220163\u001B[0m      \u001B[1;36m0.0\u001B[0m                                                       \u001B[2m               \u001B[0m\n",
       "\u001B[2;36m                    \u001B[0m         \u001B[1;36m3251603\u001B[0m      \u001B[1;36m0.0\u001B[0m                                                       \u001B[2m               \u001B[0m\n",
       "\u001B[2;36m                    \u001B[0m         Name: ClaimFreq_TRG, Length: \u001B[1;36m6729\u001B[0m, dtype: float64                      \u001B[2m               \u001B[0m\n"
      ]
     },
     "metadata": {},
     "output_type": "display_data"
    },
    {
     "data": {
      "text/html": [
       "<pre style=\"white-space:pre;overflow-x:auto;line-height:normal;font-family:Menlo,'DejaVu Sans Mono',consolas,'Courier New',monospace\"><span style=\"color: #7fbfbf; text-decoration-color: #7fbfbf\">                    </span><span style=\"color: #000080; text-decoration-color: #000080\">INFO    </span> set: test, trg values:                                                 <a href=\"file:///tmp/ipykernel_2296198/3783152477.py\" target=\"_blank\"><span style=\"color: #7f7f7f; text-decoration-color: #7f7f7f\">3783152477.py</span></a><span style=\"color: #7f7f7f; text-decoration-color: #7f7f7f\">:</span><a href=\"file:///tmp/ipykernel_2296198/3783152477.py#3\" target=\"_blank\"><span style=\"color: #7f7f7f; text-decoration-color: #7f7f7f\">3</span></a>\n",
       "<span style=\"color: #7fbfbf; text-decoration-color: #7fbfbf\">                    </span>         IDpol                                                                  <span style=\"color: #7f7f7f; text-decoration-color: #7f7f7f\">               </span>\n",
       "<span style=\"color: #7fbfbf; text-decoration-color: #7fbfbf\">                    </span>         <span style=\"color: #008080; text-decoration-color: #008080; font-weight: bold\">5105891</span>    <span style=\"color: #008080; text-decoration-color: #008080; font-weight: bold\">100.0</span>                                                       <span style=\"color: #7f7f7f; text-decoration-color: #7f7f7f\">               </span>\n",
       "<span style=\"color: #7fbfbf; text-decoration-color: #7fbfbf\">                    </span>         <span style=\"color: #008080; text-decoration-color: #008080; font-weight: bold\">1112625</span>    <span style=\"color: #008080; text-decoration-color: #008080; font-weight: bold\">100.0</span>                                                       <span style=\"color: #7f7f7f; text-decoration-color: #7f7f7f\">               </span>\n",
       "<span style=\"color: #7fbfbf; text-decoration-color: #7fbfbf\">                    </span>         <span style=\"color: #008080; text-decoration-color: #008080; font-weight: bold\">2606</span>       <span style=\"color: #008080; text-decoration-color: #008080; font-weight: bold\">100.0</span>                                                       <span style=\"color: #7f7f7f; text-decoration-color: #7f7f7f\">               </span>\n",
       "<span style=\"color: #7fbfbf; text-decoration-color: #7fbfbf\">                    </span>         <span style=\"color: #008080; text-decoration-color: #008080; font-weight: bold\">114918</span>     <span style=\"color: #008080; text-decoration-color: #008080; font-weight: bold\">100.0</span>                                                       <span style=\"color: #7f7f7f; text-decoration-color: #7f7f7f\">               </span>\n",
       "<span style=\"color: #7fbfbf; text-decoration-color: #7fbfbf\">                    </span>         <span style=\"color: #008080; text-decoration-color: #008080; font-weight: bold\">4140766</span>    <span style=\"color: #008080; text-decoration-color: #008080; font-weight: bold\">100.0</span>                                                       <span style=\"color: #7f7f7f; text-decoration-color: #7f7f7f\">               </span>\n",
       "<span style=\"color: #7fbfbf; text-decoration-color: #7fbfbf\">                    </span>                    <span style=\"color: #808000; text-decoration-color: #808000\">...</span>                                                         <span style=\"color: #7f7f7f; text-decoration-color: #7f7f7f\">               </span>\n",
       "<span style=\"color: #7fbfbf; text-decoration-color: #7fbfbf\">                    </span>         <span style=\"color: #008080; text-decoration-color: #008080; font-weight: bold\">1186513</span>      <span style=\"color: #008080; text-decoration-color: #008080; font-weight: bold\">0.0</span>                                                       <span style=\"color: #7f7f7f; text-decoration-color: #7f7f7f\">               </span>\n",
       "<span style=\"color: #7fbfbf; text-decoration-color: #7fbfbf\">                    </span>         <span style=\"color: #008080; text-decoration-color: #008080; font-weight: bold\">2023898</span>      <span style=\"color: #008080; text-decoration-color: #008080; font-weight: bold\">0.0</span>                                                       <span style=\"color: #7f7f7f; text-decoration-color: #7f7f7f\">               </span>\n",
       "<span style=\"color: #7fbfbf; text-decoration-color: #7fbfbf\">                    </span>         <span style=\"color: #008080; text-decoration-color: #008080; font-weight: bold\">1068993</span>      <span style=\"color: #008080; text-decoration-color: #008080; font-weight: bold\">0.0</span>                                                       <span style=\"color: #7f7f7f; text-decoration-color: #7f7f7f\">               </span>\n",
       "<span style=\"color: #7fbfbf; text-decoration-color: #7fbfbf\">                    </span>         <span style=\"color: #008080; text-decoration-color: #008080; font-weight: bold\">3205881</span>      <span style=\"color: #008080; text-decoration-color: #008080; font-weight: bold\">0.0</span>                                                       <span style=\"color: #7f7f7f; text-decoration-color: #7f7f7f\">               </span>\n",
       "<span style=\"color: #7fbfbf; text-decoration-color: #7fbfbf\">                    </span>         <span style=\"color: #008080; text-decoration-color: #008080; font-weight: bold\">1104601</span>      <span style=\"color: #008080; text-decoration-color: #008080; font-weight: bold\">0.0</span>                                                       <span style=\"color: #7f7f7f; text-decoration-color: #7f7f7f\">               </span>\n",
       "<span style=\"color: #7fbfbf; text-decoration-color: #7fbfbf\">                    </span>         Name: ClaimFreq_TRG, Length: <span style=\"color: #008080; text-decoration-color: #008080; font-weight: bold\">6729</span>, dtype: float64                      <span style=\"color: #7f7f7f; text-decoration-color: #7f7f7f\">               </span>\n",
       "</pre>\n"
      ],
      "text/plain": [
       "\u001B[2;36m                   \u001B[0m\u001B[2;36m \u001B[0m\u001B[34mINFO    \u001B[0m set: test, trg values:                                                 \u001B]8;id=465784;file:///tmp/ipykernel_2296198/3783152477.py\u001B\\\u001B[2m3783152477.py\u001B[0m\u001B]8;;\u001B\\\u001B[2m:\u001B[0m\u001B]8;id=306762;file:///tmp/ipykernel_2296198/3783152477.py#3\u001B\\\u001B[2m3\u001B[0m\u001B]8;;\u001B\\\n",
       "\u001B[2;36m                    \u001B[0m         IDpol                                                                  \u001B[2m               \u001B[0m\n",
       "\u001B[2;36m                    \u001B[0m         \u001B[1;36m5105891\u001B[0m    \u001B[1;36m100.0\u001B[0m                                                       \u001B[2m               \u001B[0m\n",
       "\u001B[2;36m                    \u001B[0m         \u001B[1;36m1112625\u001B[0m    \u001B[1;36m100.0\u001B[0m                                                       \u001B[2m               \u001B[0m\n",
       "\u001B[2;36m                    \u001B[0m         \u001B[1;36m2606\u001B[0m       \u001B[1;36m100.0\u001B[0m                                                       \u001B[2m               \u001B[0m\n",
       "\u001B[2;36m                    \u001B[0m         \u001B[1;36m114918\u001B[0m     \u001B[1;36m100.0\u001B[0m                                                       \u001B[2m               \u001B[0m\n",
       "\u001B[2;36m                    \u001B[0m         \u001B[1;36m4140766\u001B[0m    \u001B[1;36m100.0\u001B[0m                                                       \u001B[2m               \u001B[0m\n",
       "\u001B[2;36m                    \u001B[0m                    \u001B[33m...\u001B[0m                                                         \u001B[2m               \u001B[0m\n",
       "\u001B[2;36m                    \u001B[0m         \u001B[1;36m1186513\u001B[0m      \u001B[1;36m0.0\u001B[0m                                                       \u001B[2m               \u001B[0m\n",
       "\u001B[2;36m                    \u001B[0m         \u001B[1;36m2023898\u001B[0m      \u001B[1;36m0.0\u001B[0m                                                       \u001B[2m               \u001B[0m\n",
       "\u001B[2;36m                    \u001B[0m         \u001B[1;36m1068993\u001B[0m      \u001B[1;36m0.0\u001B[0m                                                       \u001B[2m               \u001B[0m\n",
       "\u001B[2;36m                    \u001B[0m         \u001B[1;36m3205881\u001B[0m      \u001B[1;36m0.0\u001B[0m                                                       \u001B[2m               \u001B[0m\n",
       "\u001B[2;36m                    \u001B[0m         \u001B[1;36m1104601\u001B[0m      \u001B[1;36m0.0\u001B[0m                                                       \u001B[2m               \u001B[0m\n",
       "\u001B[2;36m                    \u001B[0m         Name: ClaimFreq_TRG, Length: \u001B[1;36m6729\u001B[0m, dtype: float64                      \u001B[2m               \u001B[0m\n"
      ]
     },
     "metadata": {},
     "output_type": "display_data"
    }
   ],
   "source": [
    "for name, keys in [(\"train\", train_keys), (\"calib\", calib_keys), (\"test\", test_keys)]:\n",
    "    trg = sample_target_part_df[\"ClaimFreq_TRG\"].loc[keys].sort_values(ascending=False)\n",
    "    logger.info(f\"set: {name}, trg values:\\n{trg}\")"
   ]
  },
  {
   "cell_type": "code",
   "execution_count": 158,
   "id": "060b57d7-d263-47f8-86c2-e9bbe0bf77d2",
   "metadata": {},
   "outputs": [
    {
     "data": {
      "text/html": [
       "<pre style=\"white-space:pre;overflow-x:auto;line-height:normal;font-family:Menlo,'DejaVu Sans Mono',consolas,'Courier New',monospace\"><span style=\"color: #7fbfbf; text-decoration-color: #7fbfbf\">[09/21/24 18:56:09] </span><span style=\"color: #000080; text-decoration-color: #000080\">INFO    </span> fold: <span style=\"color: #008080; text-decoration-color: #008080; font-weight: bold\">0</span>, trg values:                                                   <a href=\"file:///tmp/ipykernel_2296198/3203588996.py\" target=\"_blank\"><span style=\"color: #7f7f7f; text-decoration-color: #7f7f7f\">3203588996.py</span></a><span style=\"color: #7f7f7f; text-decoration-color: #7f7f7f\">:</span><a href=\"file:///tmp/ipykernel_2296198/3203588996.py#3\" target=\"_blank\"><span style=\"color: #7f7f7f; text-decoration-color: #7f7f7f\">3</span></a>\n",
       "<span style=\"color: #7fbfbf; text-decoration-color: #7fbfbf\">                    </span>         IDpol                                                                  <span style=\"color: #7f7f7f; text-decoration-color: #7f7f7f\">               </span>\n",
       "<span style=\"color: #7fbfbf; text-decoration-color: #7fbfbf\">                    </span>         <span style=\"color: #008080; text-decoration-color: #008080; font-weight: bold\">1149519</span>    <span style=\"color: #008080; text-decoration-color: #008080; font-weight: bold\">100.000000</span>                                                  <span style=\"color: #7f7f7f; text-decoration-color: #7f7f7f\">               </span>\n",
       "<span style=\"color: #7fbfbf; text-decoration-color: #7fbfbf\">                    </span>         <span style=\"color: #008080; text-decoration-color: #008080; font-weight: bold\">3167239</span>    <span style=\"color: #008080; text-decoration-color: #008080; font-weight: bold\">100.000000</span>                                                  <span style=\"color: #7f7f7f; text-decoration-color: #7f7f7f\">               </span>\n",
       "<span style=\"color: #7fbfbf; text-decoration-color: #7fbfbf\">                    </span>         <span style=\"color: #008080; text-decoration-color: #008080; font-weight: bold\">3073240</span>    <span style=\"color: #008080; text-decoration-color: #008080; font-weight: bold\">100.000000</span>                                                  <span style=\"color: #7f7f7f; text-decoration-color: #7f7f7f\">               </span>\n",
       "<span style=\"color: #7fbfbf; text-decoration-color: #7fbfbf\">                    </span>         <span style=\"color: #008080; text-decoration-color: #008080; font-weight: bold\">5096322</span>    <span style=\"color: #008080; text-decoration-color: #008080; font-weight: bold\">100.000000</span>                                                  <span style=\"color: #7f7f7f; text-decoration-color: #7f7f7f\">               </span>\n",
       "<span style=\"color: #7fbfbf; text-decoration-color: #7fbfbf\">                    </span>         <span style=\"color: #008080; text-decoration-color: #008080; font-weight: bold\">1145815</span>    <span style=\"color: #008080; text-decoration-color: #008080; font-weight: bold\">100.000000</span>                                                  <span style=\"color: #7f7f7f; text-decoration-color: #7f7f7f\">               </span>\n",
       "<span style=\"color: #7fbfbf; text-decoration-color: #7fbfbf\">                    </span>                       <span style=\"color: #808000; text-decoration-color: #808000\">...</span>                                                      <span style=\"color: #7f7f7f; text-decoration-color: #7f7f7f\">               </span>\n",
       "<span style=\"color: #7fbfbf; text-decoration-color: #7fbfbf\">                    </span>         <span style=\"color: #008080; text-decoration-color: #008080; font-weight: bold\">36785</span>        <span style=\"color: #008080; text-decoration-color: #008080; font-weight: bold\">1.470588</span>                                                  <span style=\"color: #7f7f7f; text-decoration-color: #7f7f7f\">               </span>\n",
       "<span style=\"color: #7fbfbf; text-decoration-color: #7fbfbf\">                    </span>         <span style=\"color: #008080; text-decoration-color: #008080; font-weight: bold\">3131368</span>      <span style=\"color: #008080; text-decoration-color: #008080; font-weight: bold\">1.449275</span>                                                  <span style=\"color: #7f7f7f; text-decoration-color: #7f7f7f\">               </span>\n",
       "<span style=\"color: #7fbfbf; text-decoration-color: #7fbfbf\">                    </span>         <span style=\"color: #008080; text-decoration-color: #008080; font-weight: bold\">4138440</span>      <span style=\"color: #008080; text-decoration-color: #008080; font-weight: bold\">1.449275</span>                                                  <span style=\"color: #7f7f7f; text-decoration-color: #7f7f7f\">               </span>\n",
       "<span style=\"color: #7fbfbf; text-decoration-color: #7fbfbf\">                    </span>         <span style=\"color: #008080; text-decoration-color: #008080; font-weight: bold\">4123143</span>      <span style=\"color: #008080; text-decoration-color: #008080; font-weight: bold\">1.449275</span>                                                  <span style=\"color: #7f7f7f; text-decoration-color: #7f7f7f\">               </span>\n",
       "<span style=\"color: #7fbfbf; text-decoration-color: #7fbfbf\">                    </span>         <span style=\"color: #008080; text-decoration-color: #008080; font-weight: bold\">84652</span>        <span style=\"color: #008080; text-decoration-color: #008080; font-weight: bold\">1.449275</span>                                                  <span style=\"color: #7f7f7f; text-decoration-color: #7f7f7f\">               </span>\n",
       "<span style=\"color: #7fbfbf; text-decoration-color: #7fbfbf\">                    </span>         Name: ClaimFreq_TRG, Length: <span style=\"color: #008080; text-decoration-color: #008080; font-weight: bold\">8972</span>, dtype: float64                      <span style=\"color: #7f7f7f; text-decoration-color: #7f7f7f\">               </span>\n",
       "</pre>\n"
      ],
      "text/plain": [
       "\u001B[2;36m[09/21/24 18:56:09]\u001B[0m\u001B[2;36m \u001B[0m\u001B[34mINFO    \u001B[0m fold: \u001B[1;36m0\u001B[0m, trg values:                                                   \u001B]8;id=247703;file:///tmp/ipykernel_2296198/3203588996.py\u001B\\\u001B[2m3203588996.py\u001B[0m\u001B]8;;\u001B\\\u001B[2m:\u001B[0m\u001B]8;id=41995;file:///tmp/ipykernel_2296198/3203588996.py#3\u001B\\\u001B[2m3\u001B[0m\u001B]8;;\u001B\\\n",
       "\u001B[2;36m                    \u001B[0m         IDpol                                                                  \u001B[2m               \u001B[0m\n",
       "\u001B[2;36m                    \u001B[0m         \u001B[1;36m1149519\u001B[0m    \u001B[1;36m100.000000\u001B[0m                                                  \u001B[2m               \u001B[0m\n",
       "\u001B[2;36m                    \u001B[0m         \u001B[1;36m3167239\u001B[0m    \u001B[1;36m100.000000\u001B[0m                                                  \u001B[2m               \u001B[0m\n",
       "\u001B[2;36m                    \u001B[0m         \u001B[1;36m3073240\u001B[0m    \u001B[1;36m100.000000\u001B[0m                                                  \u001B[2m               \u001B[0m\n",
       "\u001B[2;36m                    \u001B[0m         \u001B[1;36m5096322\u001B[0m    \u001B[1;36m100.000000\u001B[0m                                                  \u001B[2m               \u001B[0m\n",
       "\u001B[2;36m                    \u001B[0m         \u001B[1;36m1145815\u001B[0m    \u001B[1;36m100.000000\u001B[0m                                                  \u001B[2m               \u001B[0m\n",
       "\u001B[2;36m                    \u001B[0m                       \u001B[33m...\u001B[0m                                                      \u001B[2m               \u001B[0m\n",
       "\u001B[2;36m                    \u001B[0m         \u001B[1;36m36785\u001B[0m        \u001B[1;36m1.470588\u001B[0m                                                  \u001B[2m               \u001B[0m\n",
       "\u001B[2;36m                    \u001B[0m         \u001B[1;36m3131368\u001B[0m      \u001B[1;36m1.449275\u001B[0m                                                  \u001B[2m               \u001B[0m\n",
       "\u001B[2;36m                    \u001B[0m         \u001B[1;36m4138440\u001B[0m      \u001B[1;36m1.449275\u001B[0m                                                  \u001B[2m               \u001B[0m\n",
       "\u001B[2;36m                    \u001B[0m         \u001B[1;36m4123143\u001B[0m      \u001B[1;36m1.449275\u001B[0m                                                  \u001B[2m               \u001B[0m\n",
       "\u001B[2;36m                    \u001B[0m         \u001B[1;36m84652\u001B[0m        \u001B[1;36m1.449275\u001B[0m                                                  \u001B[2m               \u001B[0m\n",
       "\u001B[2;36m                    \u001B[0m         Name: ClaimFreq_TRG, Length: \u001B[1;36m8972\u001B[0m, dtype: float64                      \u001B[2m               \u001B[0m\n"
      ]
     },
     "metadata": {},
     "output_type": "display_data"
    },
    {
     "data": {
      "text/html": [
       "<pre style=\"white-space:pre;overflow-x:auto;line-height:normal;font-family:Menlo,'DejaVu Sans Mono',consolas,'Courier New',monospace\"><span style=\"color: #7fbfbf; text-decoration-color: #7fbfbf\">                    </span><span style=\"color: #000080; text-decoration-color: #000080\">INFO    </span> fold: <span style=\"color: #008080; text-decoration-color: #008080; font-weight: bold\">1</span>, trg values:                                                   <a href=\"file:///tmp/ipykernel_2296198/3203588996.py\" target=\"_blank\"><span style=\"color: #7f7f7f; text-decoration-color: #7f7f7f\">3203588996.py</span></a><span style=\"color: #7f7f7f; text-decoration-color: #7f7f7f\">:</span><a href=\"file:///tmp/ipykernel_2296198/3203588996.py#3\" target=\"_blank\"><span style=\"color: #7f7f7f; text-decoration-color: #7f7f7f\">3</span></a>\n",
       "<span style=\"color: #7fbfbf; text-decoration-color: #7fbfbf\">                    </span>         IDpol                                                                  <span style=\"color: #7f7f7f; text-decoration-color: #7f7f7f\">               </span>\n",
       "<span style=\"color: #7fbfbf; text-decoration-color: #7fbfbf\">                    </span>         <span style=\"color: #008080; text-decoration-color: #008080; font-weight: bold\">4181519</span>    <span style=\"color: #008080; text-decoration-color: #008080; font-weight: bold\">1.538462</span>                                                    <span style=\"color: #7f7f7f; text-decoration-color: #7f7f7f\">               </span>\n",
       "<span style=\"color: #7fbfbf; text-decoration-color: #7fbfbf\">                    </span>         <span style=\"color: #008080; text-decoration-color: #008080; font-weight: bold\">3144713</span>    <span style=\"color: #008080; text-decoration-color: #008080; font-weight: bold\">1.538462</span>                                                    <span style=\"color: #7f7f7f; text-decoration-color: #7f7f7f\">               </span>\n",
       "<span style=\"color: #7fbfbf; text-decoration-color: #7fbfbf\">                    </span>         <span style=\"color: #008080; text-decoration-color: #008080; font-weight: bold\">65020</span>      <span style=\"color: #008080; text-decoration-color: #008080; font-weight: bold\">1.538462</span>                                                    <span style=\"color: #7f7f7f; text-decoration-color: #7f7f7f\">               </span>\n",
       "<span style=\"color: #7fbfbf; text-decoration-color: #7fbfbf\">                    </span>         <span style=\"color: #008080; text-decoration-color: #008080; font-weight: bold\">2027150</span>    <span style=\"color: #008080; text-decoration-color: #008080; font-weight: bold\">1.538462</span>                                                    <span style=\"color: #7f7f7f; text-decoration-color: #7f7f7f\">               </span>\n",
       "<span style=\"color: #7fbfbf; text-decoration-color: #7fbfbf\">                    </span>         <span style=\"color: #008080; text-decoration-color: #008080; font-weight: bold\">4132754</span>    <span style=\"color: #008080; text-decoration-color: #008080; font-weight: bold\">1.538462</span>                                                    <span style=\"color: #7f7f7f; text-decoration-color: #7f7f7f\">               </span>\n",
       "<span style=\"color: #7fbfbf; text-decoration-color: #7fbfbf\">                    </span>                      <span style=\"color: #808000; text-decoration-color: #808000\">...</span>                                                       <span style=\"color: #7f7f7f; text-decoration-color: #7f7f7f\">               </span>\n",
       "<span style=\"color: #7fbfbf; text-decoration-color: #7fbfbf\">                    </span>         <span style=\"color: #008080; text-decoration-color: #008080; font-weight: bold\">2084075</span>    <span style=\"color: #008080; text-decoration-color: #008080; font-weight: bold\">1.000000</span>                                                    <span style=\"color: #7f7f7f; text-decoration-color: #7f7f7f\">               </span>\n",
       "<span style=\"color: #7fbfbf; text-decoration-color: #7fbfbf\">                    </span>         <span style=\"color: #008080; text-decoration-color: #008080; font-weight: bold\">3139372</span>    <span style=\"color: #008080; text-decoration-color: #008080; font-weight: bold\">1.000000</span>                                                    <span style=\"color: #7f7f7f; text-decoration-color: #7f7f7f\">               </span>\n",
       "<span style=\"color: #7fbfbf; text-decoration-color: #7fbfbf\">                    </span>         <span style=\"color: #008080; text-decoration-color: #008080; font-weight: bold\">42785</span>      <span style=\"color: #008080; text-decoration-color: #008080; font-weight: bold\">1.000000</span>                                                    <span style=\"color: #7f7f7f; text-decoration-color: #7f7f7f\">               </span>\n",
       "<span style=\"color: #7fbfbf; text-decoration-color: #7fbfbf\">                    </span>         <span style=\"color: #008080; text-decoration-color: #008080; font-weight: bold\">3137618</span>    <span style=\"color: #008080; text-decoration-color: #008080; font-weight: bold\">1.000000</span>                                                    <span style=\"color: #7f7f7f; text-decoration-color: #7f7f7f\">               </span>\n",
       "<span style=\"color: #7fbfbf; text-decoration-color: #7fbfbf\">                    </span>         <span style=\"color: #008080; text-decoration-color: #008080; font-weight: bold\">1034499</span>    <span style=\"color: #008080; text-decoration-color: #008080; font-weight: bold\">1.000000</span>                                                    <span style=\"color: #7f7f7f; text-decoration-color: #7f7f7f\">               </span>\n",
       "<span style=\"color: #7fbfbf; text-decoration-color: #7fbfbf\">                    </span>         Name: ClaimFreq_TRG, Length: <span style=\"color: #008080; text-decoration-color: #008080; font-weight: bold\">8972</span>, dtype: float64                      <span style=\"color: #7f7f7f; text-decoration-color: #7f7f7f\">               </span>\n",
       "</pre>\n"
      ],
      "text/plain": [
       "\u001B[2;36m                   \u001B[0m\u001B[2;36m \u001B[0m\u001B[34mINFO    \u001B[0m fold: \u001B[1;36m1\u001B[0m, trg values:                                                   \u001B]8;id=602389;file:///tmp/ipykernel_2296198/3203588996.py\u001B\\\u001B[2m3203588996.py\u001B[0m\u001B]8;;\u001B\\\u001B[2m:\u001B[0m\u001B]8;id=961173;file:///tmp/ipykernel_2296198/3203588996.py#3\u001B\\\u001B[2m3\u001B[0m\u001B]8;;\u001B\\\n",
       "\u001B[2;36m                    \u001B[0m         IDpol                                                                  \u001B[2m               \u001B[0m\n",
       "\u001B[2;36m                    \u001B[0m         \u001B[1;36m4181519\u001B[0m    \u001B[1;36m1.538462\u001B[0m                                                    \u001B[2m               \u001B[0m\n",
       "\u001B[2;36m                    \u001B[0m         \u001B[1;36m3144713\u001B[0m    \u001B[1;36m1.538462\u001B[0m                                                    \u001B[2m               \u001B[0m\n",
       "\u001B[2;36m                    \u001B[0m         \u001B[1;36m65020\u001B[0m      \u001B[1;36m1.538462\u001B[0m                                                    \u001B[2m               \u001B[0m\n",
       "\u001B[2;36m                    \u001B[0m         \u001B[1;36m2027150\u001B[0m    \u001B[1;36m1.538462\u001B[0m                                                    \u001B[2m               \u001B[0m\n",
       "\u001B[2;36m                    \u001B[0m         \u001B[1;36m4132754\u001B[0m    \u001B[1;36m1.538462\u001B[0m                                                    \u001B[2m               \u001B[0m\n",
       "\u001B[2;36m                    \u001B[0m                      \u001B[33m...\u001B[0m                                                       \u001B[2m               \u001B[0m\n",
       "\u001B[2;36m                    \u001B[0m         \u001B[1;36m2084075\u001B[0m    \u001B[1;36m1.000000\u001B[0m                                                    \u001B[2m               \u001B[0m\n",
       "\u001B[2;36m                    \u001B[0m         \u001B[1;36m3139372\u001B[0m    \u001B[1;36m1.000000\u001B[0m                                                    \u001B[2m               \u001B[0m\n",
       "\u001B[2;36m                    \u001B[0m         \u001B[1;36m42785\u001B[0m      \u001B[1;36m1.000000\u001B[0m                                                    \u001B[2m               \u001B[0m\n",
       "\u001B[2;36m                    \u001B[0m         \u001B[1;36m3137618\u001B[0m    \u001B[1;36m1.000000\u001B[0m                                                    \u001B[2m               \u001B[0m\n",
       "\u001B[2;36m                    \u001B[0m         \u001B[1;36m1034499\u001B[0m    \u001B[1;36m1.000000\u001B[0m                                                    \u001B[2m               \u001B[0m\n",
       "\u001B[2;36m                    \u001B[0m         Name: ClaimFreq_TRG, Length: \u001B[1;36m8972\u001B[0m, dtype: float64                      \u001B[2m               \u001B[0m\n"
      ]
     },
     "metadata": {},
     "output_type": "display_data"
    },
    {
     "data": {
      "text/html": [
       "<pre style=\"white-space:pre;overflow-x:auto;line-height:normal;font-family:Menlo,'DejaVu Sans Mono',consolas,'Courier New',monospace\"><span style=\"color: #7fbfbf; text-decoration-color: #7fbfbf\">                    </span><span style=\"color: #000080; text-decoration-color: #000080\">INFO    </span> fold: <span style=\"color: #008080; text-decoration-color: #008080; font-weight: bold\">2</span>, trg values:                                                   <a href=\"file:///tmp/ipykernel_2296198/3203588996.py\" target=\"_blank\"><span style=\"color: #7f7f7f; text-decoration-color: #7f7f7f\">3203588996.py</span></a><span style=\"color: #7f7f7f; text-decoration-color: #7f7f7f\">:</span><a href=\"file:///tmp/ipykernel_2296198/3203588996.py#3\" target=\"_blank\"><span style=\"color: #7f7f7f; text-decoration-color: #7f7f7f\">3</span></a>\n",
       "<span style=\"color: #7fbfbf; text-decoration-color: #7fbfbf\">                    </span>         IDpol                                                                  <span style=\"color: #7f7f7f; text-decoration-color: #7f7f7f\">               </span>\n",
       "<span style=\"color: #7fbfbf; text-decoration-color: #7fbfbf\">                    </span>         <span style=\"color: #008080; text-decoration-color: #008080; font-weight: bold\">3069461</span>    <span style=\"color: #008080; text-decoration-color: #008080; font-weight: bold\">1.0</span>                                                         <span style=\"color: #7f7f7f; text-decoration-color: #7f7f7f\">               </span>\n",
       "<span style=\"color: #7fbfbf; text-decoration-color: #7fbfbf\">                    </span>         <span style=\"color: #008080; text-decoration-color: #008080; font-weight: bold\">4156323</span>    <span style=\"color: #008080; text-decoration-color: #008080; font-weight: bold\">1.0</span>                                                         <span style=\"color: #7f7f7f; text-decoration-color: #7f7f7f\">               </span>\n",
       "<span style=\"color: #7fbfbf; text-decoration-color: #7fbfbf\">                    </span>         <span style=\"color: #008080; text-decoration-color: #008080; font-weight: bold\">136054</span>     <span style=\"color: #008080; text-decoration-color: #008080; font-weight: bold\">1.0</span>                                                         <span style=\"color: #7f7f7f; text-decoration-color: #7f7f7f\">               </span>\n",
       "<span style=\"color: #7fbfbf; text-decoration-color: #7fbfbf\">                    </span>         <span style=\"color: #008080; text-decoration-color: #008080; font-weight: bold\">1174356</span>    <span style=\"color: #008080; text-decoration-color: #008080; font-weight: bold\">1.0</span>                                                         <span style=\"color: #7f7f7f; text-decoration-color: #7f7f7f\">               </span>\n",
       "<span style=\"color: #7fbfbf; text-decoration-color: #7fbfbf\">                    </span>         <span style=\"color: #008080; text-decoration-color: #008080; font-weight: bold\">1174421</span>    <span style=\"color: #008080; text-decoration-color: #008080; font-weight: bold\">1.0</span>                                                         <span style=\"color: #7f7f7f; text-decoration-color: #7f7f7f\">               </span>\n",
       "<span style=\"color: #7fbfbf; text-decoration-color: #7fbfbf\">                    </span>                   <span style=\"color: #808000; text-decoration-color: #808000\">...</span>                                                          <span style=\"color: #7f7f7f; text-decoration-color: #7f7f7f\">               </span>\n",
       "<span style=\"color: #7fbfbf; text-decoration-color: #7fbfbf\">                    </span>         <span style=\"color: #008080; text-decoration-color: #008080; font-weight: bold\">3233413</span>    <span style=\"color: #008080; text-decoration-color: #008080; font-weight: bold\">0.0</span>                                                         <span style=\"color: #7f7f7f; text-decoration-color: #7f7f7f\">               </span>\n",
       "<span style=\"color: #7fbfbf; text-decoration-color: #7fbfbf\">                    </span>         <span style=\"color: #008080; text-decoration-color: #008080; font-weight: bold\">3140122</span>    <span style=\"color: #008080; text-decoration-color: #008080; font-weight: bold\">0.0</span>                                                         <span style=\"color: #7f7f7f; text-decoration-color: #7f7f7f\">               </span>\n",
       "<span style=\"color: #7fbfbf; text-decoration-color: #7fbfbf\">                    </span>         <span style=\"color: #008080; text-decoration-color: #008080; font-weight: bold\">3233398</span>    <span style=\"color: #008080; text-decoration-color: #008080; font-weight: bold\">0.0</span>                                                         <span style=\"color: #7f7f7f; text-decoration-color: #7f7f7f\">               </span>\n",
       "<span style=\"color: #7fbfbf; text-decoration-color: #7fbfbf\">                    </span>         <span style=\"color: #008080; text-decoration-color: #008080; font-weight: bold\">3233377</span>    <span style=\"color: #008080; text-decoration-color: #008080; font-weight: bold\">0.0</span>                                                         <span style=\"color: #7f7f7f; text-decoration-color: #7f7f7f\">               </span>\n",
       "<span style=\"color: #7fbfbf; text-decoration-color: #7fbfbf\">                    </span>         <span style=\"color: #008080; text-decoration-color: #008080; font-weight: bold\">4016137</span>    <span style=\"color: #008080; text-decoration-color: #008080; font-weight: bold\">0.0</span>                                                         <span style=\"color: #7f7f7f; text-decoration-color: #7f7f7f\">               </span>\n",
       "<span style=\"color: #7fbfbf; text-decoration-color: #7fbfbf\">                    </span>         Name: ClaimFreq_TRG, Length: <span style=\"color: #008080; text-decoration-color: #008080; font-weight: bold\">8972</span>, dtype: float64                      <span style=\"color: #7f7f7f; text-decoration-color: #7f7f7f\">               </span>\n",
       "</pre>\n"
      ],
      "text/plain": [
       "\u001B[2;36m                   \u001B[0m\u001B[2;36m \u001B[0m\u001B[34mINFO    \u001B[0m fold: \u001B[1;36m2\u001B[0m, trg values:                                                   \u001B]8;id=955569;file:///tmp/ipykernel_2296198/3203588996.py\u001B\\\u001B[2m3203588996.py\u001B[0m\u001B]8;;\u001B\\\u001B[2m:\u001B[0m\u001B]8;id=351371;file:///tmp/ipykernel_2296198/3203588996.py#3\u001B\\\u001B[2m3\u001B[0m\u001B]8;;\u001B\\\n",
       "\u001B[2;36m                    \u001B[0m         IDpol                                                                  \u001B[2m               \u001B[0m\n",
       "\u001B[2;36m                    \u001B[0m         \u001B[1;36m3069461\u001B[0m    \u001B[1;36m1.0\u001B[0m                                                         \u001B[2m               \u001B[0m\n",
       "\u001B[2;36m                    \u001B[0m         \u001B[1;36m4156323\u001B[0m    \u001B[1;36m1.0\u001B[0m                                                         \u001B[2m               \u001B[0m\n",
       "\u001B[2;36m                    \u001B[0m         \u001B[1;36m136054\u001B[0m     \u001B[1;36m1.0\u001B[0m                                                         \u001B[2m               \u001B[0m\n",
       "\u001B[2;36m                    \u001B[0m         \u001B[1;36m1174356\u001B[0m    \u001B[1;36m1.0\u001B[0m                                                         \u001B[2m               \u001B[0m\n",
       "\u001B[2;36m                    \u001B[0m         \u001B[1;36m1174421\u001B[0m    \u001B[1;36m1.0\u001B[0m                                                         \u001B[2m               \u001B[0m\n",
       "\u001B[2;36m                    \u001B[0m                   \u001B[33m...\u001B[0m                                                          \u001B[2m               \u001B[0m\n",
       "\u001B[2;36m                    \u001B[0m         \u001B[1;36m3233413\u001B[0m    \u001B[1;36m0.0\u001B[0m                                                         \u001B[2m               \u001B[0m\n",
       "\u001B[2;36m                    \u001B[0m         \u001B[1;36m3140122\u001B[0m    \u001B[1;36m0.0\u001B[0m                                                         \u001B[2m               \u001B[0m\n",
       "\u001B[2;36m                    \u001B[0m         \u001B[1;36m3233398\u001B[0m    \u001B[1;36m0.0\u001B[0m                                                         \u001B[2m               \u001B[0m\n",
       "\u001B[2;36m                    \u001B[0m         \u001B[1;36m3233377\u001B[0m    \u001B[1;36m0.0\u001B[0m                                                         \u001B[2m               \u001B[0m\n",
       "\u001B[2;36m                    \u001B[0m         \u001B[1;36m4016137\u001B[0m    \u001B[1;36m0.0\u001B[0m                                                         \u001B[2m               \u001B[0m\n",
       "\u001B[2;36m                    \u001B[0m         Name: ClaimFreq_TRG, Length: \u001B[1;36m8972\u001B[0m, dtype: float64                      \u001B[2m               \u001B[0m\n"
      ]
     },
     "metadata": {},
     "output_type": "display_data"
    },
    {
     "data": {
      "text/html": [
       "<pre style=\"white-space:pre;overflow-x:auto;line-height:normal;font-family:Menlo,'DejaVu Sans Mono',consolas,'Courier New',monospace\"><span style=\"color: #7fbfbf; text-decoration-color: #7fbfbf\">                    </span><span style=\"color: #000080; text-decoration-color: #000080\">INFO    </span> fold: <span style=\"color: #008080; text-decoration-color: #008080; font-weight: bold\">3</span>, trg values:                                                   <a href=\"file:///tmp/ipykernel_2296198/3203588996.py\" target=\"_blank\"><span style=\"color: #7f7f7f; text-decoration-color: #7f7f7f\">3203588996.py</span></a><span style=\"color: #7f7f7f; text-decoration-color: #7f7f7f\">:</span><a href=\"file:///tmp/ipykernel_2296198/3203588996.py#3\" target=\"_blank\"><span style=\"color: #7f7f7f; text-decoration-color: #7f7f7f\">3</span></a>\n",
       "<span style=\"color: #7fbfbf; text-decoration-color: #7fbfbf\">                    </span>         IDpol                                                                  <span style=\"color: #7f7f7f; text-decoration-color: #7f7f7f\">               </span>\n",
       "<span style=\"color: #7fbfbf; text-decoration-color: #7fbfbf\">                    </span>         <span style=\"color: #008080; text-decoration-color: #008080; font-weight: bold\">4121926</span>    <span style=\"color: #008080; text-decoration-color: #008080; font-weight: bold\">0.0</span>                                                         <span style=\"color: #7f7f7f; text-decoration-color: #7f7f7f\">               </span>\n",
       "<span style=\"color: #7fbfbf; text-decoration-color: #7fbfbf\">                    </span>         <span style=\"color: #008080; text-decoration-color: #008080; font-weight: bold\">1184677</span>    <span style=\"color: #008080; text-decoration-color: #008080; font-weight: bold\">0.0</span>                                                         <span style=\"color: #7f7f7f; text-decoration-color: #7f7f7f\">               </span>\n",
       "<span style=\"color: #7fbfbf; text-decoration-color: #7fbfbf\">                    </span>         <span style=\"color: #008080; text-decoration-color: #008080; font-weight: bold\">1185937</span>    <span style=\"color: #008080; text-decoration-color: #008080; font-weight: bold\">0.0</span>                                                         <span style=\"color: #7f7f7f; text-decoration-color: #7f7f7f\">               </span>\n",
       "<span style=\"color: #7fbfbf; text-decoration-color: #7fbfbf\">                    </span>         <span style=\"color: #008080; text-decoration-color: #008080; font-weight: bold\">1185919</span>    <span style=\"color: #008080; text-decoration-color: #008080; font-weight: bold\">0.0</span>                                                         <span style=\"color: #7f7f7f; text-decoration-color: #7f7f7f\">               </span>\n",
       "<span style=\"color: #7fbfbf; text-decoration-color: #7fbfbf\">                    </span>         <span style=\"color: #008080; text-decoration-color: #008080; font-weight: bold\">1185905</span>    <span style=\"color: #008080; text-decoration-color: #008080; font-weight: bold\">0.0</span>                                                         <span style=\"color: #7f7f7f; text-decoration-color: #7f7f7f\">               </span>\n",
       "<span style=\"color: #7fbfbf; text-decoration-color: #7fbfbf\">                    </span>                   <span style=\"color: #808000; text-decoration-color: #808000\">...</span>                                                          <span style=\"color: #7f7f7f; text-decoration-color: #7f7f7f\">               </span>\n",
       "<span style=\"color: #7fbfbf; text-decoration-color: #7fbfbf\">                    </span>         <span style=\"color: #008080; text-decoration-color: #008080; font-weight: bold\">1124908</span>    <span style=\"color: #008080; text-decoration-color: #008080; font-weight: bold\">0.0</span>                                                         <span style=\"color: #7f7f7f; text-decoration-color: #7f7f7f\">               </span>\n",
       "<span style=\"color: #7fbfbf; text-decoration-color: #7fbfbf\">                    </span>         <span style=\"color: #008080; text-decoration-color: #008080; font-weight: bold\">1124912</span>    <span style=\"color: #008080; text-decoration-color: #008080; font-weight: bold\">0.0</span>                                                         <span style=\"color: #7f7f7f; text-decoration-color: #7f7f7f\">               </span>\n",
       "<span style=\"color: #7fbfbf; text-decoration-color: #7fbfbf\">                    </span>         <span style=\"color: #008080; text-decoration-color: #008080; font-weight: bold\">1124939</span>    <span style=\"color: #008080; text-decoration-color: #008080; font-weight: bold\">0.0</span>                                                         <span style=\"color: #7f7f7f; text-decoration-color: #7f7f7f\">               </span>\n",
       "<span style=\"color: #7fbfbf; text-decoration-color: #7fbfbf\">                    </span>         <span style=\"color: #008080; text-decoration-color: #008080; font-weight: bold\">1124944</span>    <span style=\"color: #008080; text-decoration-color: #008080; font-weight: bold\">0.0</span>                                                         <span style=\"color: #7f7f7f; text-decoration-color: #7f7f7f\">               </span>\n",
       "<span style=\"color: #7fbfbf; text-decoration-color: #7fbfbf\">                    </span>         <span style=\"color: #008080; text-decoration-color: #008080; font-weight: bold\">1016573</span>    <span style=\"color: #008080; text-decoration-color: #008080; font-weight: bold\">0.0</span>                                                         <span style=\"color: #7f7f7f; text-decoration-color: #7f7f7f\">               </span>\n",
       "<span style=\"color: #7fbfbf; text-decoration-color: #7fbfbf\">                    </span>         Name: ClaimFreq_TRG, Length: <span style=\"color: #008080; text-decoration-color: #008080; font-weight: bold\">8972</span>, dtype: float64                      <span style=\"color: #7f7f7f; text-decoration-color: #7f7f7f\">               </span>\n",
       "</pre>\n"
      ],
      "text/plain": [
       "\u001B[2;36m                   \u001B[0m\u001B[2;36m \u001B[0m\u001B[34mINFO    \u001B[0m fold: \u001B[1;36m3\u001B[0m, trg values:                                                   \u001B]8;id=511768;file:///tmp/ipykernel_2296198/3203588996.py\u001B\\\u001B[2m3203588996.py\u001B[0m\u001B]8;;\u001B\\\u001B[2m:\u001B[0m\u001B]8;id=404865;file:///tmp/ipykernel_2296198/3203588996.py#3\u001B\\\u001B[2m3\u001B[0m\u001B]8;;\u001B\\\n",
       "\u001B[2;36m                    \u001B[0m         IDpol                                                                  \u001B[2m               \u001B[0m\n",
       "\u001B[2;36m                    \u001B[0m         \u001B[1;36m4121926\u001B[0m    \u001B[1;36m0.0\u001B[0m                                                         \u001B[2m               \u001B[0m\n",
       "\u001B[2;36m                    \u001B[0m         \u001B[1;36m1184677\u001B[0m    \u001B[1;36m0.0\u001B[0m                                                         \u001B[2m               \u001B[0m\n",
       "\u001B[2;36m                    \u001B[0m         \u001B[1;36m1185937\u001B[0m    \u001B[1;36m0.0\u001B[0m                                                         \u001B[2m               \u001B[0m\n",
       "\u001B[2;36m                    \u001B[0m         \u001B[1;36m1185919\u001B[0m    \u001B[1;36m0.0\u001B[0m                                                         \u001B[2m               \u001B[0m\n",
       "\u001B[2;36m                    \u001B[0m         \u001B[1;36m1185905\u001B[0m    \u001B[1;36m0.0\u001B[0m                                                         \u001B[2m               \u001B[0m\n",
       "\u001B[2;36m                    \u001B[0m                   \u001B[33m...\u001B[0m                                                          \u001B[2m               \u001B[0m\n",
       "\u001B[2;36m                    \u001B[0m         \u001B[1;36m1124908\u001B[0m    \u001B[1;36m0.0\u001B[0m                                                         \u001B[2m               \u001B[0m\n",
       "\u001B[2;36m                    \u001B[0m         \u001B[1;36m1124912\u001B[0m    \u001B[1;36m0.0\u001B[0m                                                         \u001B[2m               \u001B[0m\n",
       "\u001B[2;36m                    \u001B[0m         \u001B[1;36m1124939\u001B[0m    \u001B[1;36m0.0\u001B[0m                                                         \u001B[2m               \u001B[0m\n",
       "\u001B[2;36m                    \u001B[0m         \u001B[1;36m1124944\u001B[0m    \u001B[1;36m0.0\u001B[0m                                                         \u001B[2m               \u001B[0m\n",
       "\u001B[2;36m                    \u001B[0m         \u001B[1;36m1016573\u001B[0m    \u001B[1;36m0.0\u001B[0m                                                         \u001B[2m               \u001B[0m\n",
       "\u001B[2;36m                    \u001B[0m         Name: ClaimFreq_TRG, Length: \u001B[1;36m8972\u001B[0m, dtype: float64                      \u001B[2m               \u001B[0m\n"
      ]
     },
     "metadata": {},
     "output_type": "display_data"
    },
    {
     "data": {
      "text/html": [
       "<pre style=\"white-space:pre;overflow-x:auto;line-height:normal;font-family:Menlo,'DejaVu Sans Mono',consolas,'Courier New',monospace\"><span style=\"color: #7fbfbf; text-decoration-color: #7fbfbf\">                    </span><span style=\"color: #000080; text-decoration-color: #000080\">INFO    </span> fold: <span style=\"color: #008080; text-decoration-color: #008080; font-weight: bold\">4</span>, trg values:                                                   <a href=\"file:///tmp/ipykernel_2296198/3203588996.py\" target=\"_blank\"><span style=\"color: #7f7f7f; text-decoration-color: #7f7f7f\">3203588996.py</span></a><span style=\"color: #7f7f7f; text-decoration-color: #7f7f7f\">:</span><a href=\"file:///tmp/ipykernel_2296198/3203588996.py#3\" target=\"_blank\"><span style=\"color: #7f7f7f; text-decoration-color: #7f7f7f\">3</span></a>\n",
       "<span style=\"color: #7fbfbf; text-decoration-color: #7fbfbf\">                    </span>         IDpol                                                                  <span style=\"color: #7f7f7f; text-decoration-color: #7f7f7f\">               </span>\n",
       "<span style=\"color: #7fbfbf; text-decoration-color: #7fbfbf\">                    </span>         <span style=\"color: #008080; text-decoration-color: #008080; font-weight: bold\">1026535</span>    <span style=\"color: #008080; text-decoration-color: #008080; font-weight: bold\">0.0</span>                                                         <span style=\"color: #7f7f7f; text-decoration-color: #7f7f7f\">               </span>\n",
       "<span style=\"color: #7fbfbf; text-decoration-color: #7fbfbf\">                    </span>         <span style=\"color: #008080; text-decoration-color: #008080; font-weight: bold\">2118401</span>    <span style=\"color: #008080; text-decoration-color: #008080; font-weight: bold\">0.0</span>                                                         <span style=\"color: #7f7f7f; text-decoration-color: #7f7f7f\">               </span>\n",
       "<span style=\"color: #7fbfbf; text-decoration-color: #7fbfbf\">                    </span>         <span style=\"color: #008080; text-decoration-color: #008080; font-weight: bold\">2119015</span>    <span style=\"color: #008080; text-decoration-color: #008080; font-weight: bold\">0.0</span>                                                         <span style=\"color: #7f7f7f; text-decoration-color: #7f7f7f\">               </span>\n",
       "<span style=\"color: #7fbfbf; text-decoration-color: #7fbfbf\">                    </span>         <span style=\"color: #008080; text-decoration-color: #008080; font-weight: bold\">2119012</span>    <span style=\"color: #008080; text-decoration-color: #008080; font-weight: bold\">0.0</span>                                                         <span style=\"color: #7f7f7f; text-decoration-color: #7f7f7f\">               </span>\n",
       "<span style=\"color: #7fbfbf; text-decoration-color: #7fbfbf\">                    </span>         <span style=\"color: #008080; text-decoration-color: #008080; font-weight: bold\">2119004</span>    <span style=\"color: #008080; text-decoration-color: #008080; font-weight: bold\">0.0</span>                                                         <span style=\"color: #7f7f7f; text-decoration-color: #7f7f7f\">               </span>\n",
       "<span style=\"color: #7fbfbf; text-decoration-color: #7fbfbf\">                    </span>                   <span style=\"color: #808000; text-decoration-color: #808000\">...</span>                                                          <span style=\"color: #7f7f7f; text-decoration-color: #7f7f7f\">               </span>\n",
       "<span style=\"color: #7fbfbf; text-decoration-color: #7fbfbf\">                    </span>         <span style=\"color: #008080; text-decoration-color: #008080; font-weight: bold\">2263958</span>    <span style=\"color: #008080; text-decoration-color: #008080; font-weight: bold\">0.0</span>                                                         <span style=\"color: #7f7f7f; text-decoration-color: #7f7f7f\">               </span>\n",
       "<span style=\"color: #7fbfbf; text-decoration-color: #7fbfbf\">                    </span>         <span style=\"color: #008080; text-decoration-color: #008080; font-weight: bold\">2264064</span>    <span style=\"color: #008080; text-decoration-color: #008080; font-weight: bold\">0.0</span>                                                         <span style=\"color: #7f7f7f; text-decoration-color: #7f7f7f\">               </span>\n",
       "<span style=\"color: #7fbfbf; text-decoration-color: #7fbfbf\">                    </span>         <span style=\"color: #008080; text-decoration-color: #008080; font-weight: bold\">2264093</span>    <span style=\"color: #008080; text-decoration-color: #008080; font-weight: bold\">0.0</span>                                                         <span style=\"color: #7f7f7f; text-decoration-color: #7f7f7f\">               </span>\n",
       "<span style=\"color: #7fbfbf; text-decoration-color: #7fbfbf\">                    </span>         <span style=\"color: #008080; text-decoration-color: #008080; font-weight: bold\">2264097</span>    <span style=\"color: #008080; text-decoration-color: #008080; font-weight: bold\">0.0</span>                                                         <span style=\"color: #7f7f7f; text-decoration-color: #7f7f7f\">               </span>\n",
       "<span style=\"color: #7fbfbf; text-decoration-color: #7fbfbf\">                    </span>         <span style=\"color: #008080; text-decoration-color: #008080; font-weight: bold\">6114327</span>    <span style=\"color: #008080; text-decoration-color: #008080; font-weight: bold\">0.0</span>                                                         <span style=\"color: #7f7f7f; text-decoration-color: #7f7f7f\">               </span>\n",
       "<span style=\"color: #7fbfbf; text-decoration-color: #7fbfbf\">                    </span>         Name: ClaimFreq_TRG, Length: <span style=\"color: #008080; text-decoration-color: #008080; font-weight: bold\">8971</span>, dtype: float64                      <span style=\"color: #7f7f7f; text-decoration-color: #7f7f7f\">               </span>\n",
       "</pre>\n"
      ],
      "text/plain": [
       "\u001B[2;36m                   \u001B[0m\u001B[2;36m \u001B[0m\u001B[34mINFO    \u001B[0m fold: \u001B[1;36m4\u001B[0m, trg values:                                                   \u001B]8;id=627284;file:///tmp/ipykernel_2296198/3203588996.py\u001B\\\u001B[2m3203588996.py\u001B[0m\u001B]8;;\u001B\\\u001B[2m:\u001B[0m\u001B]8;id=720513;file:///tmp/ipykernel_2296198/3203588996.py#3\u001B\\\u001B[2m3\u001B[0m\u001B]8;;\u001B\\\n",
       "\u001B[2;36m                    \u001B[0m         IDpol                                                                  \u001B[2m               \u001B[0m\n",
       "\u001B[2;36m                    \u001B[0m         \u001B[1;36m1026535\u001B[0m    \u001B[1;36m0.0\u001B[0m                                                         \u001B[2m               \u001B[0m\n",
       "\u001B[2;36m                    \u001B[0m         \u001B[1;36m2118401\u001B[0m    \u001B[1;36m0.0\u001B[0m                                                         \u001B[2m               \u001B[0m\n",
       "\u001B[2;36m                    \u001B[0m         \u001B[1;36m2119015\u001B[0m    \u001B[1;36m0.0\u001B[0m                                                         \u001B[2m               \u001B[0m\n",
       "\u001B[2;36m                    \u001B[0m         \u001B[1;36m2119012\u001B[0m    \u001B[1;36m0.0\u001B[0m                                                         \u001B[2m               \u001B[0m\n",
       "\u001B[2;36m                    \u001B[0m         \u001B[1;36m2119004\u001B[0m    \u001B[1;36m0.0\u001B[0m                                                         \u001B[2m               \u001B[0m\n",
       "\u001B[2;36m                    \u001B[0m                   \u001B[33m...\u001B[0m                                                          \u001B[2m               \u001B[0m\n",
       "\u001B[2;36m                    \u001B[0m         \u001B[1;36m2263958\u001B[0m    \u001B[1;36m0.0\u001B[0m                                                         \u001B[2m               \u001B[0m\n",
       "\u001B[2;36m                    \u001B[0m         \u001B[1;36m2264064\u001B[0m    \u001B[1;36m0.0\u001B[0m                                                         \u001B[2m               \u001B[0m\n",
       "\u001B[2;36m                    \u001B[0m         \u001B[1;36m2264093\u001B[0m    \u001B[1;36m0.0\u001B[0m                                                         \u001B[2m               \u001B[0m\n",
       "\u001B[2;36m                    \u001B[0m         \u001B[1;36m2264097\u001B[0m    \u001B[1;36m0.0\u001B[0m                                                         \u001B[2m               \u001B[0m\n",
       "\u001B[2;36m                    \u001B[0m         \u001B[1;36m6114327\u001B[0m    \u001B[1;36m0.0\u001B[0m                                                         \u001B[2m               \u001B[0m\n",
       "\u001B[2;36m                    \u001B[0m         Name: ClaimFreq_TRG, Length: \u001B[1;36m8971\u001B[0m, dtype: float64                      \u001B[2m               \u001B[0m\n"
      ]
     },
     "metadata": {},
     "output_type": "display_data"
    }
   ],
   "source": [
    "for fold, keys in val_keys_cv.items():\n",
    "    trg = sample_target_part_df[\"ClaimFreq_TRG\"].loc[keys].sort_values(ascending=False)\n",
    "    logger.info(f\"fold: {fold}, trg values:\\n{trg}\")"
   ]
  },
  {
   "cell_type": "code",
   "execution_count": 101,
   "id": "76ba0c30-dfb7-4b53-b6b3-fc6162455327",
   "metadata": {},
   "outputs": [
    {
     "data": {
      "text/html": [
       "<pre style=\"white-space:pre;overflow-x:auto;line-height:normal;font-family:Menlo,'DejaVu Sans Mono',consolas,'Courier New',monospace\"><span style=\"color: #7fbfbf; text-decoration-color: #7fbfbf\">[09/21/24 17:19:01] </span><span style=\"color: #000080; text-decoration-color: #000080\">INFO    </span> IDpol                                                                 <a href=\"file:///tmp/ipykernel_2296198/3014082311.py\" target=\"_blank\"><span style=\"color: #7f7f7f; text-decoration-color: #7f7f7f\">3014082311.py</span></a><span style=\"color: #7f7f7f; text-decoration-color: #7f7f7f\">:</span><a href=\"file:///tmp/ipykernel_2296198/3014082311.py#59\" target=\"_blank\"><span style=\"color: #7f7f7f; text-decoration-color: #7f7f7f\">59</span></a>\n",
       "<span style=\"color: #7fbfbf; text-decoration-color: #7fbfbf\">                    </span>         <span style=\"color: #008080; text-decoration-color: #008080; font-weight: bold\">1149519</span>    <span style=\"color: #008080; text-decoration-color: #008080; font-weight: bold\">100.0</span>                                                      <span style=\"color: #7f7f7f; text-decoration-color: #7f7f7f\">                </span>\n",
       "<span style=\"color: #7fbfbf; text-decoration-color: #7fbfbf\">                    </span>         <span style=\"color: #008080; text-decoration-color: #008080; font-weight: bold\">1100830</span>    <span style=\"color: #008080; text-decoration-color: #008080; font-weight: bold\">100.0</span>                                                      <span style=\"color: #7f7f7f; text-decoration-color: #7f7f7f\">                </span>\n",
       "<span style=\"color: #7fbfbf; text-decoration-color: #7fbfbf\">                    </span>         <span style=\"color: #008080; text-decoration-color: #008080; font-weight: bold\">114918</span>     <span style=\"color: #008080; text-decoration-color: #008080; font-weight: bold\">100.0</span>                                                      <span style=\"color: #7f7f7f; text-decoration-color: #7f7f7f\">                </span>\n",
       "<span style=\"color: #7fbfbf; text-decoration-color: #7fbfbf\">                    </span>         <span style=\"color: #008080; text-decoration-color: #008080; font-weight: bold\">2204803</span>    <span style=\"color: #008080; text-decoration-color: #008080; font-weight: bold\">100.0</span>                                                      <span style=\"color: #7f7f7f; text-decoration-color: #7f7f7f\">                </span>\n",
       "<span style=\"color: #7fbfbf; text-decoration-color: #7fbfbf\">                    </span>         <span style=\"color: #008080; text-decoration-color: #008080; font-weight: bold\">4059223</span>    <span style=\"color: #008080; text-decoration-color: #008080; font-weight: bold\">100.0</span>                                                      <span style=\"color: #7f7f7f; text-decoration-color: #7f7f7f\">                </span>\n",
       "<span style=\"color: #7fbfbf; text-decoration-color: #7fbfbf\">                    </span>                    <span style=\"color: #808000; text-decoration-color: #808000\">...</span>                                                        <span style=\"color: #7f7f7f; text-decoration-color: #7f7f7f\">                </span>\n",
       "<span style=\"color: #7fbfbf; text-decoration-color: #7fbfbf\">                    </span>         <span style=\"color: #008080; text-decoration-color: #008080; font-weight: bold\">2179944</span>      <span style=\"color: #008080; text-decoration-color: #008080; font-weight: bold\">0.0</span>                                                      <span style=\"color: #7f7f7f; text-decoration-color: #7f7f7f\">                </span>\n",
       "<span style=\"color: #7fbfbf; text-decoration-color: #7fbfbf\">                    </span>         <span style=\"color: #008080; text-decoration-color: #008080; font-weight: bold\">2179933</span>      <span style=\"color: #008080; text-decoration-color: #008080; font-weight: bold\">0.0</span>                                                      <span style=\"color: #7f7f7f; text-decoration-color: #7f7f7f\">                </span>\n",
       "<span style=\"color: #7fbfbf; text-decoration-color: #7fbfbf\">                    </span>         <span style=\"color: #008080; text-decoration-color: #008080; font-weight: bold\">2179912</span>      <span style=\"color: #008080; text-decoration-color: #008080; font-weight: bold\">0.0</span>                                                      <span style=\"color: #7f7f7f; text-decoration-color: #7f7f7f\">                </span>\n",
       "<span style=\"color: #7fbfbf; text-decoration-color: #7fbfbf\">                    </span>         <span style=\"color: #008080; text-decoration-color: #008080; font-weight: bold\">2179820</span>      <span style=\"color: #008080; text-decoration-color: #008080; font-weight: bold\">0.0</span>                                                      <span style=\"color: #7f7f7f; text-decoration-color: #7f7f7f\">                </span>\n",
       "<span style=\"color: #7fbfbf; text-decoration-color: #7fbfbf\">                    </span>         <span style=\"color: #008080; text-decoration-color: #008080; font-weight: bold\">6114327</span>      <span style=\"color: #008080; text-decoration-color: #008080; font-weight: bold\">0.0</span>                                                      <span style=\"color: #7f7f7f; text-decoration-color: #7f7f7f\">                </span>\n",
       "<span style=\"color: #7fbfbf; text-decoration-color: #7fbfbf\">                    </span>         Name: ClaimFreq_TRG, Length: <span style=\"color: #008080; text-decoration-color: #008080; font-weight: bold\">44859</span>, dtype: float64                    <span style=\"color: #7f7f7f; text-decoration-color: #7f7f7f\">                </span>\n",
       "</pre>\n"
      ],
      "text/plain": [
       "\u001B[2;36m[09/21/24 17:19:01]\u001B[0m\u001B[2;36m \u001B[0m\u001B[34mINFO    \u001B[0m IDpol                                                                 \u001B]8;id=680898;file:///tmp/ipykernel_2296198/3014082311.py\u001B\\\u001B[2m3014082311.py\u001B[0m\u001B]8;;\u001B\\\u001B[2m:\u001B[0m\u001B]8;id=412922;file:///tmp/ipykernel_2296198/3014082311.py#59\u001B\\\u001B[2m59\u001B[0m\u001B]8;;\u001B\\\n",
       "\u001B[2;36m                    \u001B[0m         \u001B[1;36m1149519\u001B[0m    \u001B[1;36m100.0\u001B[0m                                                      \u001B[2m                \u001B[0m\n",
       "\u001B[2;36m                    \u001B[0m         \u001B[1;36m1100830\u001B[0m    \u001B[1;36m100.0\u001B[0m                                                      \u001B[2m                \u001B[0m\n",
       "\u001B[2;36m                    \u001B[0m         \u001B[1;36m114918\u001B[0m     \u001B[1;36m100.0\u001B[0m                                                      \u001B[2m                \u001B[0m\n",
       "\u001B[2;36m                    \u001B[0m         \u001B[1;36m2204803\u001B[0m    \u001B[1;36m100.0\u001B[0m                                                      \u001B[2m                \u001B[0m\n",
       "\u001B[2;36m                    \u001B[0m         \u001B[1;36m4059223\u001B[0m    \u001B[1;36m100.0\u001B[0m                                                      \u001B[2m                \u001B[0m\n",
       "\u001B[2;36m                    \u001B[0m                    \u001B[33m...\u001B[0m                                                        \u001B[2m                \u001B[0m\n",
       "\u001B[2;36m                    \u001B[0m         \u001B[1;36m2179944\u001B[0m      \u001B[1;36m0.0\u001B[0m                                                      \u001B[2m                \u001B[0m\n",
       "\u001B[2;36m                    \u001B[0m         \u001B[1;36m2179933\u001B[0m      \u001B[1;36m0.0\u001B[0m                                                      \u001B[2m                \u001B[0m\n",
       "\u001B[2;36m                    \u001B[0m         \u001B[1;36m2179912\u001B[0m      \u001B[1;36m0.0\u001B[0m                                                      \u001B[2m                \u001B[0m\n",
       "\u001B[2;36m                    \u001B[0m         \u001B[1;36m2179820\u001B[0m      \u001B[1;36m0.0\u001B[0m                                                      \u001B[2m                \u001B[0m\n",
       "\u001B[2;36m                    \u001B[0m         \u001B[1;36m6114327\u001B[0m      \u001B[1;36m0.0\u001B[0m                                                      \u001B[2m                \u001B[0m\n",
       "\u001B[2;36m                    \u001B[0m         Name: ClaimFreq_TRG, Length: \u001B[1;36m44859\u001B[0m, dtype: float64                    \u001B[2m                \u001B[0m\n"
      ]
     },
     "metadata": {},
     "output_type": "display_data"
    },
    {
     "data": {
      "text/html": [
       "<pre style=\"white-space:pre;overflow-x:auto;line-height:normal;font-family:Menlo,'DejaVu Sans Mono',consolas,'Courier New',monospace\"><span style=\"color: #7fbfbf; text-decoration-color: #7fbfbf\">                    </span><span style=\"color: #000080; text-decoration-color: #000080\">INFO    </span> <span style=\"color: #008080; text-decoration-color: #008080; font-weight: bold\">0</span>        <span style=\"color: #008080; text-decoration-color: #008080; font-weight: bold\">0</span>                                                            <a href=\"file:///tmp/ipykernel_2296198/3014082311.py\" target=\"_blank\"><span style=\"color: #7f7f7f; text-decoration-color: #7f7f7f\">3014082311.py</span></a><span style=\"color: #7f7f7f; text-decoration-color: #7f7f7f\">:</span><a href=\"file:///tmp/ipykernel_2296198/3014082311.py#60\" target=\"_blank\"><span style=\"color: #7f7f7f; text-decoration-color: #7f7f7f\">60</span></a>\n",
       "<span style=\"color: #7fbfbf; text-decoration-color: #7fbfbf\">                    </span>         <span style=\"color: #008080; text-decoration-color: #008080; font-weight: bold\">1</span>        <span style=\"color: #008080; text-decoration-color: #008080; font-weight: bold\">0</span>                                                            <span style=\"color: #7f7f7f; text-decoration-color: #7f7f7f\">                </span>\n",
       "<span style=\"color: #7fbfbf; text-decoration-color: #7fbfbf\">                    </span>         <span style=\"color: #008080; text-decoration-color: #008080; font-weight: bold\">2</span>        <span style=\"color: #008080; text-decoration-color: #008080; font-weight: bold\">0</span>                                                            <span style=\"color: #7f7f7f; text-decoration-color: #7f7f7f\">                </span>\n",
       "<span style=\"color: #7fbfbf; text-decoration-color: #7fbfbf\">                    </span>         <span style=\"color: #008080; text-decoration-color: #008080; font-weight: bold\">3</span>        <span style=\"color: #008080; text-decoration-color: #008080; font-weight: bold\">0</span>                                                            <span style=\"color: #7f7f7f; text-decoration-color: #7f7f7f\">                </span>\n",
       "<span style=\"color: #7fbfbf; text-decoration-color: #7fbfbf\">                    </span>         <span style=\"color: #008080; text-decoration-color: #008080; font-weight: bold\">4</span>        <span style=\"color: #008080; text-decoration-color: #008080; font-weight: bold\">0</span>                                                            <span style=\"color: #7f7f7f; text-decoration-color: #7f7f7f\">                </span>\n",
       "<span style=\"color: #7fbfbf; text-decoration-color: #7fbfbf\">                    </span>                 ..                                                            <span style=\"color: #7f7f7f; text-decoration-color: #7f7f7f\">                </span>\n",
       "<span style=\"color: #7fbfbf; text-decoration-color: #7fbfbf\">                    </span>         <span style=\"color: #008080; text-decoration-color: #008080; font-weight: bold\">44850</span>    <span style=\"color: #008080; text-decoration-color: #008080; font-weight: bold\">4</span>                                                            <span style=\"color: #7f7f7f; text-decoration-color: #7f7f7f\">                </span>\n",
       "<span style=\"color: #7fbfbf; text-decoration-color: #7fbfbf\">                    </span>         <span style=\"color: #008080; text-decoration-color: #008080; font-weight: bold\">44851</span>    <span style=\"color: #008080; text-decoration-color: #008080; font-weight: bold\">4</span>                                                            <span style=\"color: #7f7f7f; text-decoration-color: #7f7f7f\">                </span>\n",
       "<span style=\"color: #7fbfbf; text-decoration-color: #7fbfbf\">                    </span>         <span style=\"color: #008080; text-decoration-color: #008080; font-weight: bold\">44852</span>    <span style=\"color: #008080; text-decoration-color: #008080; font-weight: bold\">4</span>                                                            <span style=\"color: #7f7f7f; text-decoration-color: #7f7f7f\">                </span>\n",
       "<span style=\"color: #7fbfbf; text-decoration-color: #7fbfbf\">                    </span>         <span style=\"color: #008080; text-decoration-color: #008080; font-weight: bold\">44853</span>    <span style=\"color: #008080; text-decoration-color: #008080; font-weight: bold\">4</span>                                                            <span style=\"color: #7f7f7f; text-decoration-color: #7f7f7f\">                </span>\n",
       "<span style=\"color: #7fbfbf; text-decoration-color: #7fbfbf\">                    </span>         <span style=\"color: #008080; text-decoration-color: #008080; font-weight: bold\">44854</span>    <span style=\"color: #008080; text-decoration-color: #008080; font-weight: bold\">4</span>                                                            <span style=\"color: #7f7f7f; text-decoration-color: #7f7f7f\">                </span>\n",
       "<span style=\"color: #7fbfbf; text-decoration-color: #7fbfbf\">                    </span>         Length: <span style=\"color: #008080; text-decoration-color: #008080; font-weight: bold\">44855</span>, dtype: int64                                           <span style=\"color: #7f7f7f; text-decoration-color: #7f7f7f\">                </span>\n",
       "</pre>\n"
      ],
      "text/plain": [
       "\u001B[2;36m                   \u001B[0m\u001B[2;36m \u001B[0m\u001B[34mINFO    \u001B[0m \u001B[1;36m0\u001B[0m        \u001B[1;36m0\u001B[0m                                                            \u001B]8;id=810328;file:///tmp/ipykernel_2296198/3014082311.py\u001B\\\u001B[2m3014082311.py\u001B[0m\u001B]8;;\u001B\\\u001B[2m:\u001B[0m\u001B]8;id=675935;file:///tmp/ipykernel_2296198/3014082311.py#60\u001B\\\u001B[2m60\u001B[0m\u001B]8;;\u001B\\\n",
       "\u001B[2;36m                    \u001B[0m         \u001B[1;36m1\u001B[0m        \u001B[1;36m0\u001B[0m                                                            \u001B[2m                \u001B[0m\n",
       "\u001B[2;36m                    \u001B[0m         \u001B[1;36m2\u001B[0m        \u001B[1;36m0\u001B[0m                                                            \u001B[2m                \u001B[0m\n",
       "\u001B[2;36m                    \u001B[0m         \u001B[1;36m3\u001B[0m        \u001B[1;36m0\u001B[0m                                                            \u001B[2m                \u001B[0m\n",
       "\u001B[2;36m                    \u001B[0m         \u001B[1;36m4\u001B[0m        \u001B[1;36m0\u001B[0m                                                            \u001B[2m                \u001B[0m\n",
       "\u001B[2;36m                    \u001B[0m                 ..                                                            \u001B[2m                \u001B[0m\n",
       "\u001B[2;36m                    \u001B[0m         \u001B[1;36m44850\u001B[0m    \u001B[1;36m4\u001B[0m                                                            \u001B[2m                \u001B[0m\n",
       "\u001B[2;36m                    \u001B[0m         \u001B[1;36m44851\u001B[0m    \u001B[1;36m4\u001B[0m                                                            \u001B[2m                \u001B[0m\n",
       "\u001B[2;36m                    \u001B[0m         \u001B[1;36m44852\u001B[0m    \u001B[1;36m4\u001B[0m                                                            \u001B[2m                \u001B[0m\n",
       "\u001B[2;36m                    \u001B[0m         \u001B[1;36m44853\u001B[0m    \u001B[1;36m4\u001B[0m                                                            \u001B[2m                \u001B[0m\n",
       "\u001B[2;36m                    \u001B[0m         \u001B[1;36m44854\u001B[0m    \u001B[1;36m4\u001B[0m                                                            \u001B[2m                \u001B[0m\n",
       "\u001B[2;36m                    \u001B[0m         Length: \u001B[1;36m44855\u001B[0m, dtype: int64                                           \u001B[2m                \u001B[0m\n"
      ]
     },
     "metadata": {},
     "output_type": "display_data"
    },
    {
     "data": {
      "text/html": [
       "<pre style=\"white-space:pre;overflow-x:auto;line-height:normal;font-family:Menlo,'DejaVu Sans Mono',consolas,'Courier New',monospace\"><span style=\"color: #7fbfbf; text-decoration-color: #7fbfbf\">                    </span><span style=\"color: #000080; text-decoration-color: #000080\">INFO    </span> <span style=\"color: #008080; text-decoration-color: #008080; font-weight: bold\">0</span>    <span style=\"color: #008080; text-decoration-color: #008080; font-weight: bold\">8971</span>                                                             <a href=\"file:///tmp/ipykernel_2296198/3014082311.py\" target=\"_blank\"><span style=\"color: #7f7f7f; text-decoration-color: #7f7f7f\">3014082311.py</span></a><span style=\"color: #7f7f7f; text-decoration-color: #7f7f7f\">:</span><a href=\"file:///tmp/ipykernel_2296198/3014082311.py#62\" target=\"_blank\"><span style=\"color: #7f7f7f; text-decoration-color: #7f7f7f\">62</span></a>\n",
       "<span style=\"color: #7fbfbf; text-decoration-color: #7fbfbf\">                    </span>         <span style=\"color: #008080; text-decoration-color: #008080; font-weight: bold\">1</span>    <span style=\"color: #008080; text-decoration-color: #008080; font-weight: bold\">8971</span>                                                             <span style=\"color: #7f7f7f; text-decoration-color: #7f7f7f\">                </span>\n",
       "<span style=\"color: #7fbfbf; text-decoration-color: #7fbfbf\">                    </span>         <span style=\"color: #008080; text-decoration-color: #008080; font-weight: bold\">2</span>    <span style=\"color: #008080; text-decoration-color: #008080; font-weight: bold\">8971</span>                                                             <span style=\"color: #7f7f7f; text-decoration-color: #7f7f7f\">                </span>\n",
       "<span style=\"color: #7fbfbf; text-decoration-color: #7fbfbf\">                    </span>         <span style=\"color: #008080; text-decoration-color: #008080; font-weight: bold\">3</span>    <span style=\"color: #008080; text-decoration-color: #008080; font-weight: bold\">8971</span>                                                             <span style=\"color: #7f7f7f; text-decoration-color: #7f7f7f\">                </span>\n",
       "<span style=\"color: #7fbfbf; text-decoration-color: #7fbfbf\">                    </span>         <span style=\"color: #008080; text-decoration-color: #008080; font-weight: bold\">4</span>    <span style=\"color: #008080; text-decoration-color: #008080; font-weight: bold\">8971</span>                                                             <span style=\"color: #7f7f7f; text-decoration-color: #7f7f7f\">                </span>\n",
       "<span style=\"color: #7fbfbf; text-decoration-color: #7fbfbf\">                    </span>         Name: count, dtype: int64                                             <span style=\"color: #7f7f7f; text-decoration-color: #7f7f7f\">                </span>\n",
       "</pre>\n"
      ],
      "text/plain": [
       "\u001B[2;36m                   \u001B[0m\u001B[2;36m \u001B[0m\u001B[34mINFO    \u001B[0m \u001B[1;36m0\u001B[0m    \u001B[1;36m8971\u001B[0m                                                             \u001B]8;id=185356;file:///tmp/ipykernel_2296198/3014082311.py\u001B\\\u001B[2m3014082311.py\u001B[0m\u001B]8;;\u001B\\\u001B[2m:\u001B[0m\u001B]8;id=847123;file:///tmp/ipykernel_2296198/3014082311.py#62\u001B\\\u001B[2m62\u001B[0m\u001B]8;;\u001B\\\n",
       "\u001B[2;36m                    \u001B[0m         \u001B[1;36m1\u001B[0m    \u001B[1;36m8971\u001B[0m                                                             \u001B[2m                \u001B[0m\n",
       "\u001B[2;36m                    \u001B[0m         \u001B[1;36m2\u001B[0m    \u001B[1;36m8971\u001B[0m                                                             \u001B[2m                \u001B[0m\n",
       "\u001B[2;36m                    \u001B[0m         \u001B[1;36m3\u001B[0m    \u001B[1;36m8971\u001B[0m                                                             \u001B[2m                \u001B[0m\n",
       "\u001B[2;36m                    \u001B[0m         \u001B[1;36m4\u001B[0m    \u001B[1;36m8971\u001B[0m                                                             \u001B[2m                \u001B[0m\n",
       "\u001B[2;36m                    \u001B[0m         Name: count, dtype: int64                                             \u001B[2m                \u001B[0m\n"
      ]
     },
     "metadata": {},
     "output_type": "display_data"
    },
    {
     "data": {
      "text/html": [
       "<pre style=\"white-space:pre;overflow-x:auto;line-height:normal;font-family:Menlo,'DejaVu Sans Mono',consolas,'Courier New',monospace\"><span style=\"color: #7fbfbf; text-decoration-color: #7fbfbf\">                    </span><span style=\"color: #000080; text-decoration-color: #000080\">INFO    </span> <span style=\"font-weight: bold\">[</span><span style=\"color: #008080; text-decoration-color: #008080; font-weight: bold\">0</span> <span style=\"color: #008080; text-decoration-color: #008080; font-weight: bold\">1</span> <span style=\"color: #008080; text-decoration-color: #008080; font-weight: bold\">2</span> <span style=\"color: #008080; text-decoration-color: #008080; font-weight: bold\">3</span> <span style=\"color: #008080; text-decoration-color: #008080; font-weight: bold\">4</span><span style=\"font-weight: bold\">]</span>                                                           <a href=\"file:///tmp/ipykernel_2296198/3014082311.py\" target=\"_blank\"><span style=\"color: #7f7f7f; text-decoration-color: #7f7f7f\">3014082311.py</span></a><span style=\"color: #7f7f7f; text-decoration-color: #7f7f7f\">:</span><a href=\"file:///tmp/ipykernel_2296198/3014082311.py#64\" target=\"_blank\"><span style=\"color: #7f7f7f; text-decoration-color: #7f7f7f\">64</span></a>\n",
       "</pre>\n"
      ],
      "text/plain": [
       "\u001B[2;36m                   \u001B[0m\u001B[2;36m \u001B[0m\u001B[34mINFO    \u001B[0m \u001B[1m[\u001B[0m\u001B[1;36m0\u001B[0m \u001B[1;36m1\u001B[0m \u001B[1;36m2\u001B[0m \u001B[1;36m3\u001B[0m \u001B[1;36m4\u001B[0m\u001B[1m]\u001B[0m                                                           \u001B]8;id=235407;file:///tmp/ipykernel_2296198/3014082311.py\u001B\\\u001B[2m3014082311.py\u001B[0m\u001B]8;;\u001B\\\u001B[2m:\u001B[0m\u001B]8;id=360208;file:///tmp/ipykernel_2296198/3014082311.py#64\u001B\\\u001B[2m64\u001B[0m\u001B]8;;\u001B\\\n"
      ]
     },
     "metadata": {},
     "output_type": "display_data"
    },
    {
     "data": {
      "text/html": [
       "<pre style=\"white-space:pre;overflow-x:auto;line-height:normal;font-family:Menlo,'DejaVu Sans Mono',consolas,'Courier New',monospace\"><span style=\"color: #7fbfbf; text-decoration-color: #7fbfbf\">                    </span><span style=\"color: #000080; text-decoration-color: #000080\">INFO    </span> <span style=\"color: #008080; text-decoration-color: #008080; font-weight: bold\">0</span>        <span style=\"color: #008080; text-decoration-color: #008080; font-weight: bold\">0</span>                                                            <a href=\"file:///tmp/ipykernel_2296198/3014082311.py\" target=\"_blank\"><span style=\"color: #7f7f7f; text-decoration-color: #7f7f7f\">3014082311.py</span></a><span style=\"color: #7f7f7f; text-decoration-color: #7f7f7f\">:</span><a href=\"file:///tmp/ipykernel_2296198/3014082311.py#69\" target=\"_blank\"><span style=\"color: #7f7f7f; text-decoration-color: #7f7f7f\">69</span></a>\n",
       "<span style=\"color: #7fbfbf; text-decoration-color: #7fbfbf\">                    </span>         <span style=\"color: #008080; text-decoration-color: #008080; font-weight: bold\">1</span>        <span style=\"color: #008080; text-decoration-color: #008080; font-weight: bold\">0</span>                                                            <span style=\"color: #7f7f7f; text-decoration-color: #7f7f7f\">                </span>\n",
       "<span style=\"color: #7fbfbf; text-decoration-color: #7fbfbf\">                    </span>         <span style=\"color: #008080; text-decoration-color: #008080; font-weight: bold\">2</span>        <span style=\"color: #008080; text-decoration-color: #008080; font-weight: bold\">0</span>                                                            <span style=\"color: #7f7f7f; text-decoration-color: #7f7f7f\">                </span>\n",
       "<span style=\"color: #7fbfbf; text-decoration-color: #7fbfbf\">                    </span>         <span style=\"color: #008080; text-decoration-color: #008080; font-weight: bold\">3</span>        <span style=\"color: #008080; text-decoration-color: #008080; font-weight: bold\">0</span>                                                            <span style=\"color: #7f7f7f; text-decoration-color: #7f7f7f\">                </span>\n",
       "<span style=\"color: #7fbfbf; text-decoration-color: #7fbfbf\">                    </span>         <span style=\"color: #008080; text-decoration-color: #008080; font-weight: bold\">4</span>        <span style=\"color: #008080; text-decoration-color: #008080; font-weight: bold\">0</span>                                                            <span style=\"color: #7f7f7f; text-decoration-color: #7f7f7f\">                </span>\n",
       "<span style=\"color: #7fbfbf; text-decoration-color: #7fbfbf\">                    </span>                 ..                                                            <span style=\"color: #7f7f7f; text-decoration-color: #7f7f7f\">                </span>\n",
       "<span style=\"color: #7fbfbf; text-decoration-color: #7fbfbf\">                    </span>         <span style=\"color: #008080; text-decoration-color: #008080; font-weight: bold\">44854</span>    <span style=\"color: #008080; text-decoration-color: #008080; font-weight: bold\">4</span>                                                            <span style=\"color: #7f7f7f; text-decoration-color: #7f7f7f\">                </span>\n",
       "<span style=\"color: #7fbfbf; text-decoration-color: #7fbfbf\">                    </span>         <span style=\"color: #008080; text-decoration-color: #008080; font-weight: bold\">44855</span>    <span style=\"color: #008080; text-decoration-color: #008080; font-weight: bold\">0</span>                                                            <span style=\"color: #7f7f7f; text-decoration-color: #7f7f7f\">                </span>\n",
       "<span style=\"color: #7fbfbf; text-decoration-color: #7fbfbf\">                    </span>         <span style=\"color: #008080; text-decoration-color: #008080; font-weight: bold\">44856</span>    <span style=\"color: #008080; text-decoration-color: #008080; font-weight: bold\">1</span>                                                            <span style=\"color: #7f7f7f; text-decoration-color: #7f7f7f\">                </span>\n",
       "<span style=\"color: #7fbfbf; text-decoration-color: #7fbfbf\">                    </span>         <span style=\"color: #008080; text-decoration-color: #008080; font-weight: bold\">44857</span>    <span style=\"color: #008080; text-decoration-color: #008080; font-weight: bold\">2</span>                                                            <span style=\"color: #7f7f7f; text-decoration-color: #7f7f7f\">                </span>\n",
       "<span style=\"color: #7fbfbf; text-decoration-color: #7fbfbf\">                    </span>         <span style=\"color: #008080; text-decoration-color: #008080; font-weight: bold\">44858</span>    <span style=\"color: #008080; text-decoration-color: #008080; font-weight: bold\">3</span>                                                            <span style=\"color: #7f7f7f; text-decoration-color: #7f7f7f\">                </span>\n",
       "<span style=\"color: #7fbfbf; text-decoration-color: #7fbfbf\">                    </span>         Length: <span style=\"color: #008080; text-decoration-color: #008080; font-weight: bold\">44859</span>, dtype: int64                                           <span style=\"color: #7f7f7f; text-decoration-color: #7f7f7f\">                </span>\n",
       "</pre>\n"
      ],
      "text/plain": [
       "\u001B[2;36m                   \u001B[0m\u001B[2;36m \u001B[0m\u001B[34mINFO    \u001B[0m \u001B[1;36m0\u001B[0m        \u001B[1;36m0\u001B[0m                                                            \u001B]8;id=453622;file:///tmp/ipykernel_2296198/3014082311.py\u001B\\\u001B[2m3014082311.py\u001B[0m\u001B]8;;\u001B\\\u001B[2m:\u001B[0m\u001B]8;id=916121;file:///tmp/ipykernel_2296198/3014082311.py#69\u001B\\\u001B[2m69\u001B[0m\u001B]8;;\u001B\\\n",
       "\u001B[2;36m                    \u001B[0m         \u001B[1;36m1\u001B[0m        \u001B[1;36m0\u001B[0m                                                            \u001B[2m                \u001B[0m\n",
       "\u001B[2;36m                    \u001B[0m         \u001B[1;36m2\u001B[0m        \u001B[1;36m0\u001B[0m                                                            \u001B[2m                \u001B[0m\n",
       "\u001B[2;36m                    \u001B[0m         \u001B[1;36m3\u001B[0m        \u001B[1;36m0\u001B[0m                                                            \u001B[2m                \u001B[0m\n",
       "\u001B[2;36m                    \u001B[0m         \u001B[1;36m4\u001B[0m        \u001B[1;36m0\u001B[0m                                                            \u001B[2m                \u001B[0m\n",
       "\u001B[2;36m                    \u001B[0m                 ..                                                            \u001B[2m                \u001B[0m\n",
       "\u001B[2;36m                    \u001B[0m         \u001B[1;36m44854\u001B[0m    \u001B[1;36m4\u001B[0m                                                            \u001B[2m                \u001B[0m\n",
       "\u001B[2;36m                    \u001B[0m         \u001B[1;36m44855\u001B[0m    \u001B[1;36m0\u001B[0m                                                            \u001B[2m                \u001B[0m\n",
       "\u001B[2;36m                    \u001B[0m         \u001B[1;36m44856\u001B[0m    \u001B[1;36m1\u001B[0m                                                            \u001B[2m                \u001B[0m\n",
       "\u001B[2;36m                    \u001B[0m         \u001B[1;36m44857\u001B[0m    \u001B[1;36m2\u001B[0m                                                            \u001B[2m                \u001B[0m\n",
       "\u001B[2;36m                    \u001B[0m         \u001B[1;36m44858\u001B[0m    \u001B[1;36m3\u001B[0m                                                            \u001B[2m                \u001B[0m\n",
       "\u001B[2;36m                    \u001B[0m         Length: \u001B[1;36m44859\u001B[0m, dtype: int64                                           \u001B[2m                \u001B[0m\n"
      ]
     },
     "metadata": {},
     "output_type": "display_data"
    },
    {
     "data": {
      "text/html": [
       "<pre style=\"white-space:pre;overflow-x:auto;line-height:normal;font-family:Menlo,'DejaVu Sans Mono',consolas,'Courier New',monospace\"><span style=\"color: #7fbfbf; text-decoration-color: #7fbfbf\">                    </span><span style=\"color: #000080; text-decoration-color: #000080\">INFO    </span> <span style=\"color: #008080; text-decoration-color: #008080; font-weight: bold\">0</span>    <span style=\"color: #008080; text-decoration-color: #008080; font-weight: bold\">8972</span>                                                             <a href=\"file:///tmp/ipykernel_2296198/3014082311.py\" target=\"_blank\"><span style=\"color: #7f7f7f; text-decoration-color: #7f7f7f\">3014082311.py</span></a><span style=\"color: #7f7f7f; text-decoration-color: #7f7f7f\">:</span><a href=\"file:///tmp/ipykernel_2296198/3014082311.py#70\" target=\"_blank\"><span style=\"color: #7f7f7f; text-decoration-color: #7f7f7f\">70</span></a>\n",
       "<span style=\"color: #7fbfbf; text-decoration-color: #7fbfbf\">                    </span>         <span style=\"color: #008080; text-decoration-color: #008080; font-weight: bold\">1</span>    <span style=\"color: #008080; text-decoration-color: #008080; font-weight: bold\">8972</span>                                                             <span style=\"color: #7f7f7f; text-decoration-color: #7f7f7f\">                </span>\n",
       "<span style=\"color: #7fbfbf; text-decoration-color: #7fbfbf\">                    </span>         <span style=\"color: #008080; text-decoration-color: #008080; font-weight: bold\">2</span>    <span style=\"color: #008080; text-decoration-color: #008080; font-weight: bold\">8972</span>                                                             <span style=\"color: #7f7f7f; text-decoration-color: #7f7f7f\">                </span>\n",
       "<span style=\"color: #7fbfbf; text-decoration-color: #7fbfbf\">                    </span>         <span style=\"color: #008080; text-decoration-color: #008080; font-weight: bold\">3</span>    <span style=\"color: #008080; text-decoration-color: #008080; font-weight: bold\">8972</span>                                                             <span style=\"color: #7f7f7f; text-decoration-color: #7f7f7f\">                </span>\n",
       "<span style=\"color: #7fbfbf; text-decoration-color: #7fbfbf\">                    </span>         <span style=\"color: #008080; text-decoration-color: #008080; font-weight: bold\">4</span>    <span style=\"color: #008080; text-decoration-color: #008080; font-weight: bold\">8971</span>                                                             <span style=\"color: #7f7f7f; text-decoration-color: #7f7f7f\">                </span>\n",
       "<span style=\"color: #7fbfbf; text-decoration-color: #7fbfbf\">                    </span>         Name: count, dtype: int64                                             <span style=\"color: #7f7f7f; text-decoration-color: #7f7f7f\">                </span>\n",
       "</pre>\n"
      ],
      "text/plain": [
       "\u001B[2;36m                   \u001B[0m\u001B[2;36m \u001B[0m\u001B[34mINFO    \u001B[0m \u001B[1;36m0\u001B[0m    \u001B[1;36m8972\u001B[0m                                                             \u001B]8;id=831443;file:///tmp/ipykernel_2296198/3014082311.py\u001B\\\u001B[2m3014082311.py\u001B[0m\u001B]8;;\u001B\\\u001B[2m:\u001B[0m\u001B]8;id=901917;file:///tmp/ipykernel_2296198/3014082311.py#70\u001B\\\u001B[2m70\u001B[0m\u001B]8;;\u001B\\\n",
       "\u001B[2;36m                    \u001B[0m         \u001B[1;36m1\u001B[0m    \u001B[1;36m8972\u001B[0m                                                             \u001B[2m                \u001B[0m\n",
       "\u001B[2;36m                    \u001B[0m         \u001B[1;36m2\u001B[0m    \u001B[1;36m8972\u001B[0m                                                             \u001B[2m                \u001B[0m\n",
       "\u001B[2;36m                    \u001B[0m         \u001B[1;36m3\u001B[0m    \u001B[1;36m8972\u001B[0m                                                             \u001B[2m                \u001B[0m\n",
       "\u001B[2;36m                    \u001B[0m         \u001B[1;36m4\u001B[0m    \u001B[1;36m8971\u001B[0m                                                             \u001B[2m                \u001B[0m\n",
       "\u001B[2;36m                    \u001B[0m         Name: count, dtype: int64                                             \u001B[2m                \u001B[0m\n"
      ]
     },
     "metadata": {},
     "output_type": "display_data"
    },
    {
     "data": {
      "text/html": [
       "<pre style=\"white-space:pre;overflow-x:auto;line-height:normal;font-family:Menlo,'DejaVu Sans Mono',consolas,'Courier New',monospace\"><span style=\"color: #7fbfbf; text-decoration-color: #7fbfbf\">                    </span><span style=\"color: #000080; text-decoration-color: #000080\">INFO    </span> <span style=\"font-weight: bold\">[</span><span style=\"color: #008080; text-decoration-color: #008080; font-weight: bold\">0</span> <span style=\"color: #008080; text-decoration-color: #008080; font-weight: bold\">1</span> <span style=\"color: #008080; text-decoration-color: #008080; font-weight: bold\">2</span> <span style=\"color: #008080; text-decoration-color: #008080; font-weight: bold\">3</span> <span style=\"color: #008080; text-decoration-color: #008080; font-weight: bold\">4</span><span style=\"font-weight: bold\">]</span>                                                           <a href=\"file:///tmp/ipykernel_2296198/3014082311.py\" target=\"_blank\"><span style=\"color: #7f7f7f; text-decoration-color: #7f7f7f\">3014082311.py</span></a><span style=\"color: #7f7f7f; text-decoration-color: #7f7f7f\">:</span><a href=\"file:///tmp/ipykernel_2296198/3014082311.py#72\" target=\"_blank\"><span style=\"color: #7f7f7f; text-decoration-color: #7f7f7f\">72</span></a>\n",
       "</pre>\n"
      ],
      "text/plain": [
       "\u001B[2;36m                   \u001B[0m\u001B[2;36m \u001B[0m\u001B[34mINFO    \u001B[0m \u001B[1m[\u001B[0m\u001B[1;36m0\u001B[0m \u001B[1;36m1\u001B[0m \u001B[1;36m2\u001B[0m \u001B[1;36m3\u001B[0m \u001B[1;36m4\u001B[0m\u001B[1m]\u001B[0m                                                           \u001B]8;id=992415;file:///tmp/ipykernel_2296198/3014082311.py\u001B\\\u001B[2m3014082311.py\u001B[0m\u001B]8;;\u001B\\\u001B[2m:\u001B[0m\u001B]8;id=193423;file:///tmp/ipykernel_2296198/3014082311.py#72\u001B\\\u001B[2m72\u001B[0m\u001B]8;;\u001B\\\n"
      ]
     },
     "metadata": {},
     "output_type": "display_data"
    },
    {
     "data": {
      "text/html": [
       "<pre style=\"white-space:pre;overflow-x:auto;line-height:normal;font-family:Menlo,'DejaVu Sans Mono',consolas,'Courier New',monospace\"><span style=\"color: #7fbfbf; text-decoration-color: #7fbfbf\">                    </span><span style=\"color: #000080; text-decoration-color: #000080\">INFO    </span> <span style=\"color: #008080; text-decoration-color: #008080; font-weight: bold\">0</span>        <span style=\"color: #008080; text-decoration-color: #008080; font-weight: bold\">1</span>                                                            <a href=\"file:///tmp/ipykernel_2296198/3014082311.py\" target=\"_blank\"><span style=\"color: #7f7f7f; text-decoration-color: #7f7f7f\">3014082311.py</span></a><span style=\"color: #7f7f7f; text-decoration-color: #7f7f7f\">:</span><a href=\"file:///tmp/ipykernel_2296198/3014082311.py#78\" target=\"_blank\"><span style=\"color: #7f7f7f; text-decoration-color: #7f7f7f\">78</span></a>\n",
       "<span style=\"color: #7fbfbf; text-decoration-color: #7fbfbf\">                    </span>         <span style=\"color: #008080; text-decoration-color: #008080; font-weight: bold\">1</span>        <span style=\"color: #008080; text-decoration-color: #008080; font-weight: bold\">4</span>                                                            <span style=\"color: #7f7f7f; text-decoration-color: #7f7f7f\">                </span>\n",
       "<span style=\"color: #7fbfbf; text-decoration-color: #7fbfbf\">                    </span>         <span style=\"color: #008080; text-decoration-color: #008080; font-weight: bold\">2</span>        <span style=\"color: #008080; text-decoration-color: #008080; font-weight: bold\">1</span>                                                            <span style=\"color: #7f7f7f; text-decoration-color: #7f7f7f\">                </span>\n",
       "<span style=\"color: #7fbfbf; text-decoration-color: #7fbfbf\">                    </span>         <span style=\"color: #008080; text-decoration-color: #008080; font-weight: bold\">3</span>        <span style=\"color: #008080; text-decoration-color: #008080; font-weight: bold\">1</span>                                                            <span style=\"color: #7f7f7f; text-decoration-color: #7f7f7f\">                </span>\n",
       "<span style=\"color: #7fbfbf; text-decoration-color: #7fbfbf\">                    </span>         <span style=\"color: #008080; text-decoration-color: #008080; font-weight: bold\">4</span>        <span style=\"color: #008080; text-decoration-color: #008080; font-weight: bold\">2</span>                                                            <span style=\"color: #7f7f7f; text-decoration-color: #7f7f7f\">                </span>\n",
       "<span style=\"color: #7fbfbf; text-decoration-color: #7fbfbf\">                    </span>                 ..                                                            <span style=\"color: #7f7f7f; text-decoration-color: #7f7f7f\">                </span>\n",
       "<span style=\"color: #7fbfbf; text-decoration-color: #7fbfbf\">                    </span>         <span style=\"color: #008080; text-decoration-color: #008080; font-weight: bold\">44854</span>    <span style=\"color: #008080; text-decoration-color: #008080; font-weight: bold\">3</span>                                                            <span style=\"color: #7f7f7f; text-decoration-color: #7f7f7f\">                </span>\n",
       "<span style=\"color: #7fbfbf; text-decoration-color: #7fbfbf\">                    </span>         <span style=\"color: #008080; text-decoration-color: #008080; font-weight: bold\">44855</span>    <span style=\"color: #008080; text-decoration-color: #008080; font-weight: bold\">2</span>                                                            <span style=\"color: #7f7f7f; text-decoration-color: #7f7f7f\">                </span>\n",
       "<span style=\"color: #7fbfbf; text-decoration-color: #7fbfbf\">                    </span>         <span style=\"color: #008080; text-decoration-color: #008080; font-weight: bold\">44856</span>    <span style=\"color: #008080; text-decoration-color: #008080; font-weight: bold\">1</span>                                                            <span style=\"color: #7f7f7f; text-decoration-color: #7f7f7f\">                </span>\n",
       "<span style=\"color: #7fbfbf; text-decoration-color: #7fbfbf\">                    </span>         <span style=\"color: #008080; text-decoration-color: #008080; font-weight: bold\">44857</span>    <span style=\"color: #008080; text-decoration-color: #008080; font-weight: bold\">1</span>                                                            <span style=\"color: #7f7f7f; text-decoration-color: #7f7f7f\">                </span>\n",
       "<span style=\"color: #7fbfbf; text-decoration-color: #7fbfbf\">                    </span>         <span style=\"color: #008080; text-decoration-color: #008080; font-weight: bold\">44858</span>    <span style=\"color: #008080; text-decoration-color: #008080; font-weight: bold\">3</span>                                                            <span style=\"color: #7f7f7f; text-decoration-color: #7f7f7f\">                </span>\n",
       "<span style=\"color: #7fbfbf; text-decoration-color: #7fbfbf\">                    </span>         Length: <span style=\"color: #008080; text-decoration-color: #008080; font-weight: bold\">44859</span>, dtype: int64                                           <span style=\"color: #7f7f7f; text-decoration-color: #7f7f7f\">                </span>\n",
       "</pre>\n"
      ],
      "text/plain": [
       "\u001B[2;36m                   \u001B[0m\u001B[2;36m \u001B[0m\u001B[34mINFO    \u001B[0m \u001B[1;36m0\u001B[0m        \u001B[1;36m1\u001B[0m                                                            \u001B]8;id=191284;file:///tmp/ipykernel_2296198/3014082311.py\u001B\\\u001B[2m3014082311.py\u001B[0m\u001B]8;;\u001B\\\u001B[2m:\u001B[0m\u001B]8;id=545130;file:///tmp/ipykernel_2296198/3014082311.py#78\u001B\\\u001B[2m78\u001B[0m\u001B]8;;\u001B\\\n",
       "\u001B[2;36m                    \u001B[0m         \u001B[1;36m1\u001B[0m        \u001B[1;36m4\u001B[0m                                                            \u001B[2m                \u001B[0m\n",
       "\u001B[2;36m                    \u001B[0m         \u001B[1;36m2\u001B[0m        \u001B[1;36m1\u001B[0m                                                            \u001B[2m                \u001B[0m\n",
       "\u001B[2;36m                    \u001B[0m         \u001B[1;36m3\u001B[0m        \u001B[1;36m1\u001B[0m                                                            \u001B[2m                \u001B[0m\n",
       "\u001B[2;36m                    \u001B[0m         \u001B[1;36m4\u001B[0m        \u001B[1;36m2\u001B[0m                                                            \u001B[2m                \u001B[0m\n",
       "\u001B[2;36m                    \u001B[0m                 ..                                                            \u001B[2m                \u001B[0m\n",
       "\u001B[2;36m                    \u001B[0m         \u001B[1;36m44854\u001B[0m    \u001B[1;36m3\u001B[0m                                                            \u001B[2m                \u001B[0m\n",
       "\u001B[2;36m                    \u001B[0m         \u001B[1;36m44855\u001B[0m    \u001B[1;36m2\u001B[0m                                                            \u001B[2m                \u001B[0m\n",
       "\u001B[2;36m                    \u001B[0m         \u001B[1;36m44856\u001B[0m    \u001B[1;36m1\u001B[0m                                                            \u001B[2m                \u001B[0m\n",
       "\u001B[2;36m                    \u001B[0m         \u001B[1;36m44857\u001B[0m    \u001B[1;36m1\u001B[0m                                                            \u001B[2m                \u001B[0m\n",
       "\u001B[2;36m                    \u001B[0m         \u001B[1;36m44858\u001B[0m    \u001B[1;36m3\u001B[0m                                                            \u001B[2m                \u001B[0m\n",
       "\u001B[2;36m                    \u001B[0m         Length: \u001B[1;36m44859\u001B[0m, dtype: int64                                           \u001B[2m                \u001B[0m\n"
      ]
     },
     "metadata": {},
     "output_type": "display_data"
    },
    {
     "data": {
      "text/html": [
       "<pre style=\"white-space:pre;overflow-x:auto;line-height:normal;font-family:Menlo,'DejaVu Sans Mono',consolas,'Courier New',monospace\"><span style=\"color: #7fbfbf; text-decoration-color: #7fbfbf\">                    </span><span style=\"color: #000080; text-decoration-color: #000080\">INFO    </span> <span style=\"color: #008080; text-decoration-color: #008080; font-weight: bold\">1</span>    <span style=\"color: #008080; text-decoration-color: #008080; font-weight: bold\">8972</span>                                                             <a href=\"file:///tmp/ipykernel_2296198/3014082311.py\" target=\"_blank\"><span style=\"color: #7f7f7f; text-decoration-color: #7f7f7f\">3014082311.py</span></a><span style=\"color: #7f7f7f; text-decoration-color: #7f7f7f\">:</span><a href=\"file:///tmp/ipykernel_2296198/3014082311.py#79\" target=\"_blank\"><span style=\"color: #7f7f7f; text-decoration-color: #7f7f7f\">79</span></a>\n",
       "<span style=\"color: #7fbfbf; text-decoration-color: #7fbfbf\">                    </span>         <span style=\"color: #008080; text-decoration-color: #008080; font-weight: bold\">2</span>    <span style=\"color: #008080; text-decoration-color: #008080; font-weight: bold\">8972</span>                                                             <span style=\"color: #7f7f7f; text-decoration-color: #7f7f7f\">                </span>\n",
       "<span style=\"color: #7fbfbf; text-decoration-color: #7fbfbf\">                    </span>         <span style=\"color: #008080; text-decoration-color: #008080; font-weight: bold\">3</span>    <span style=\"color: #008080; text-decoration-color: #008080; font-weight: bold\">8972</span>                                                             <span style=\"color: #7f7f7f; text-decoration-color: #7f7f7f\">                </span>\n",
       "<span style=\"color: #7fbfbf; text-decoration-color: #7fbfbf\">                    </span>         <span style=\"color: #008080; text-decoration-color: #008080; font-weight: bold\">0</span>    <span style=\"color: #008080; text-decoration-color: #008080; font-weight: bold\">8972</span>                                                             <span style=\"color: #7f7f7f; text-decoration-color: #7f7f7f\">                </span>\n",
       "<span style=\"color: #7fbfbf; text-decoration-color: #7fbfbf\">                    </span>         <span style=\"color: #008080; text-decoration-color: #008080; font-weight: bold\">4</span>    <span style=\"color: #008080; text-decoration-color: #008080; font-weight: bold\">8971</span>                                                             <span style=\"color: #7f7f7f; text-decoration-color: #7f7f7f\">                </span>\n",
       "<span style=\"color: #7fbfbf; text-decoration-color: #7fbfbf\">                    </span>         Name: count, dtype: int64                                             <span style=\"color: #7f7f7f; text-decoration-color: #7f7f7f\">                </span>\n",
       "</pre>\n"
      ],
      "text/plain": [
       "\u001B[2;36m                   \u001B[0m\u001B[2;36m \u001B[0m\u001B[34mINFO    \u001B[0m \u001B[1;36m1\u001B[0m    \u001B[1;36m8972\u001B[0m                                                             \u001B]8;id=300224;file:///tmp/ipykernel_2296198/3014082311.py\u001B\\\u001B[2m3014082311.py\u001B[0m\u001B]8;;\u001B\\\u001B[2m:\u001B[0m\u001B]8;id=604600;file:///tmp/ipykernel_2296198/3014082311.py#79\u001B\\\u001B[2m79\u001B[0m\u001B]8;;\u001B\\\n",
       "\u001B[2;36m                    \u001B[0m         \u001B[1;36m2\u001B[0m    \u001B[1;36m8972\u001B[0m                                                             \u001B[2m                \u001B[0m\n",
       "\u001B[2;36m                    \u001B[0m         \u001B[1;36m3\u001B[0m    \u001B[1;36m8972\u001B[0m                                                             \u001B[2m                \u001B[0m\n",
       "\u001B[2;36m                    \u001B[0m         \u001B[1;36m0\u001B[0m    \u001B[1;36m8972\u001B[0m                                                             \u001B[2m                \u001B[0m\n",
       "\u001B[2;36m                    \u001B[0m         \u001B[1;36m4\u001B[0m    \u001B[1;36m8971\u001B[0m                                                             \u001B[2m                \u001B[0m\n",
       "\u001B[2;36m                    \u001B[0m         Name: count, dtype: int64                                             \u001B[2m                \u001B[0m\n"
      ]
     },
     "metadata": {},
     "output_type": "display_data"
    },
    {
     "data": {
      "text/html": [
       "<pre style=\"white-space:pre;overflow-x:auto;line-height:normal;font-family:Menlo,'DejaVu Sans Mono',consolas,'Courier New',monospace\"><span style=\"color: #7fbfbf; text-decoration-color: #7fbfbf\">                    </span><span style=\"color: #000080; text-decoration-color: #000080\">INFO    </span> <span style=\"font-weight: bold\">[</span><span style=\"color: #008080; text-decoration-color: #008080; font-weight: bold\">0</span> <span style=\"color: #008080; text-decoration-color: #008080; font-weight: bold\">1</span> <span style=\"color: #008080; text-decoration-color: #008080; font-weight: bold\">2</span> <span style=\"color: #008080; text-decoration-color: #008080; font-weight: bold\">3</span> <span style=\"color: #008080; text-decoration-color: #008080; font-weight: bold\">4</span><span style=\"font-weight: bold\">]</span>                                                           <a href=\"file:///tmp/ipykernel_2296198/3014082311.py\" target=\"_blank\"><span style=\"color: #7f7f7f; text-decoration-color: #7f7f7f\">3014082311.py</span></a><span style=\"color: #7f7f7f; text-decoration-color: #7f7f7f\">:</span><a href=\"file:///tmp/ipykernel_2296198/3014082311.py#81\" target=\"_blank\"><span style=\"color: #7f7f7f; text-decoration-color: #7f7f7f\">81</span></a>\n",
       "</pre>\n"
      ],
      "text/plain": [
       "\u001B[2;36m                   \u001B[0m\u001B[2;36m \u001B[0m\u001B[34mINFO    \u001B[0m \u001B[1m[\u001B[0m\u001B[1;36m0\u001B[0m \u001B[1;36m1\u001B[0m \u001B[1;36m2\u001B[0m \u001B[1;36m3\u001B[0m \u001B[1;36m4\u001B[0m\u001B[1m]\u001B[0m                                                           \u001B]8;id=699194;file:///tmp/ipykernel_2296198/3014082311.py\u001B\\\u001B[2m3014082311.py\u001B[0m\u001B]8;;\u001B\\\u001B[2m:\u001B[0m\u001B]8;id=94630;file:///tmp/ipykernel_2296198/3014082311.py#81\u001B\\\u001B[2m81\u001B[0m\u001B]8;;\u001B\\\n"
      ]
     },
     "metadata": {},
     "output_type": "display_data"
    },
    {
     "data": {
      "text/html": [
       "<pre style=\"white-space:pre;overflow-x:auto;line-height:normal;font-family:Menlo,'DejaVu Sans Mono',consolas,'Courier New',monospace\"><span style=\"color: #7fbfbf; text-decoration-color: #7fbfbf\">                    </span><span style=\"color: #000080; text-decoration-color: #000080\">INFO    </span> Stratified CV. Split into <span style=\"color: #008080; text-decoration-color: #008080; font-weight: bold\">5</span> folds.    The sizes of the folds:    -    <a href=\"file:///tmp/ipykernel_2296198/3014082311.py\" target=\"_blank\"><span style=\"color: #7f7f7f; text-decoration-color: #7f7f7f\">3014082311.py</span></a><span style=\"color: #7f7f7f; text-decoration-color: #7f7f7f\">:</span><a href=\"file:///tmp/ipykernel_2296198/3014082311.py#93\" target=\"_blank\"><span style=\"color: #7f7f7f; text-decoration-color: #7f7f7f\">93</span></a>\n",
       "<span style=\"color: #7fbfbf; text-decoration-color: #7fbfbf\">                    </span>         fold <span style=\"color: #008080; text-decoration-color: #008080; font-weight: bold\">0</span>: train: <span style=\"color: #008080; text-decoration-color: #008080; font-weight: bold\">35887</span> samples, validation: <span style=\"color: #008080; text-decoration-color: #008080; font-weight: bold\">8972</span> samples <span style=\"font-weight: bold\">(</span><span style=\"color: #008080; text-decoration-color: #008080; font-weight: bold\">20.00</span>%<span style=\"font-weight: bold\">)</span>    -  <span style=\"color: #7f7f7f; text-decoration-color: #7f7f7f\">                </span>\n",
       "<span style=\"color: #7fbfbf; text-decoration-color: #7fbfbf\">                    </span>         fold <span style=\"color: #008080; text-decoration-color: #008080; font-weight: bold\">1</span>: train: <span style=\"color: #008080; text-decoration-color: #008080; font-weight: bold\">35887</span> samples, validation: <span style=\"color: #008080; text-decoration-color: #008080; font-weight: bold\">8972</span> samples <span style=\"font-weight: bold\">(</span><span style=\"color: #008080; text-decoration-color: #008080; font-weight: bold\">20.00</span>%<span style=\"font-weight: bold\">)</span>    -  <span style=\"color: #7f7f7f; text-decoration-color: #7f7f7f\">                </span>\n",
       "<span style=\"color: #7fbfbf; text-decoration-color: #7fbfbf\">                    </span>         fold <span style=\"color: #008080; text-decoration-color: #008080; font-weight: bold\">2</span>: train: <span style=\"color: #008080; text-decoration-color: #008080; font-weight: bold\">35887</span> samples, validation: <span style=\"color: #008080; text-decoration-color: #008080; font-weight: bold\">8972</span> samples <span style=\"font-weight: bold\">(</span><span style=\"color: #008080; text-decoration-color: #008080; font-weight: bold\">20.00</span>%<span style=\"font-weight: bold\">)</span>    -  <span style=\"color: #7f7f7f; text-decoration-color: #7f7f7f\">                </span>\n",
       "<span style=\"color: #7fbfbf; text-decoration-color: #7fbfbf\">                    </span>         fold <span style=\"color: #008080; text-decoration-color: #008080; font-weight: bold\">3</span>: train: <span style=\"color: #008080; text-decoration-color: #008080; font-weight: bold\">35887</span> samples, validation: <span style=\"color: #008080; text-decoration-color: #008080; font-weight: bold\">8972</span> samples <span style=\"font-weight: bold\">(</span><span style=\"color: #008080; text-decoration-color: #008080; font-weight: bold\">20.00</span>%<span style=\"font-weight: bold\">)</span>    -  <span style=\"color: #7f7f7f; text-decoration-color: #7f7f7f\">                </span>\n",
       "<span style=\"color: #7fbfbf; text-decoration-color: #7fbfbf\">                    </span>         fold <span style=\"color: #008080; text-decoration-color: #008080; font-weight: bold\">4</span>: train: <span style=\"color: #008080; text-decoration-color: #008080; font-weight: bold\">35888</span> samples, validation: <span style=\"color: #008080; text-decoration-color: #008080; font-weight: bold\">8971</span> samples <span style=\"font-weight: bold\">(</span><span style=\"color: #008080; text-decoration-color: #008080; font-weight: bold\">20.00</span>%<span style=\"font-weight: bold\">)</span>       <span style=\"color: #7f7f7f; text-decoration-color: #7f7f7f\">                </span>\n",
       "</pre>\n"
      ],
      "text/plain": [
       "\u001B[2;36m                   \u001B[0m\u001B[2;36m \u001B[0m\u001B[34mINFO    \u001B[0m Stratified CV. Split into \u001B[1;36m5\u001B[0m folds.    The sizes of the folds:    -    \u001B]8;id=156681;file:///tmp/ipykernel_2296198/3014082311.py\u001B\\\u001B[2m3014082311.py\u001B[0m\u001B]8;;\u001B\\\u001B[2m:\u001B[0m\u001B]8;id=570610;file:///tmp/ipykernel_2296198/3014082311.py#93\u001B\\\u001B[2m93\u001B[0m\u001B]8;;\u001B\\\n",
       "\u001B[2;36m                    \u001B[0m         fold \u001B[1;36m0\u001B[0m: train: \u001B[1;36m35887\u001B[0m samples, validation: \u001B[1;36m8972\u001B[0m samples \u001B[1m(\u001B[0m\u001B[1;36m20.00\u001B[0m%\u001B[1m)\u001B[0m    -  \u001B[2m                \u001B[0m\n",
       "\u001B[2;36m                    \u001B[0m         fold \u001B[1;36m1\u001B[0m: train: \u001B[1;36m35887\u001B[0m samples, validation: \u001B[1;36m8972\u001B[0m samples \u001B[1m(\u001B[0m\u001B[1;36m20.00\u001B[0m%\u001B[1m)\u001B[0m    -  \u001B[2m                \u001B[0m\n",
       "\u001B[2;36m                    \u001B[0m         fold \u001B[1;36m2\u001B[0m: train: \u001B[1;36m35887\u001B[0m samples, validation: \u001B[1;36m8972\u001B[0m samples \u001B[1m(\u001B[0m\u001B[1;36m20.00\u001B[0m%\u001B[1m)\u001B[0m    -  \u001B[2m                \u001B[0m\n",
       "\u001B[2;36m                    \u001B[0m         fold \u001B[1;36m3\u001B[0m: train: \u001B[1;36m35887\u001B[0m samples, validation: \u001B[1;36m8972\u001B[0m samples \u001B[1m(\u001B[0m\u001B[1;36m20.00\u001B[0m%\u001B[1m)\u001B[0m    -  \u001B[2m                \u001B[0m\n",
       "\u001B[2;36m                    \u001B[0m         fold \u001B[1;36m4\u001B[0m: train: \u001B[1;36m35888\u001B[0m samples, validation: \u001B[1;36m8971\u001B[0m samples \u001B[1m(\u001B[0m\u001B[1;36m20.00\u001B[0m%\u001B[1m)\u001B[0m       \u001B[2m                \u001B[0m\n"
      ]
     },
     "metadata": {},
     "output_type": "display_data"
    }
   ],
   "source": [
    "train_keys_cv, val_keys_cv = get_stratified_train_test_split_keys(sample_target_part_df,\n",
    "                                                                      stratify_target_col=\"ClaimFreq_TRG\",\n",
    "                                                                      cv_folds=5, test_size=None,\n",
    "                                                                      random_seed=0,\n",
    "                                                                      verbose=True)"
   ]
  },
  {
   "cell_type": "code",
   "execution_count": 86,
   "id": "6e53d8f6-fd0e-416a-b100-9e3a31d1ac33",
   "metadata": {},
   "outputs": [
    {
     "data": {
      "text/html": [
       "<pre style=\"white-space:pre;overflow-x:auto;line-height:normal;font-family:Menlo,'DejaVu Sans Mono',consolas,'Courier New',monospace\"><span style=\"color: #7fbfbf; text-decoration-color: #7fbfbf\">[09/21/24 17:12:22] </span><span style=\"color: #000080; text-decoration-color: #000080\">INFO    </span> Stratified Train/Test Split. Stratified bins: <span style=\"color: #008080; text-decoration-color: #008080; font-weight: bold\">125</span>, avg bin size:     <a href=\"file:///tmp/ipykernel_2296198/1530708660.py\" target=\"_blank\"><span style=\"color: #7f7f7f; text-decoration-color: #7f7f7f\">1530708660.py</span></a><span style=\"color: #7f7f7f; text-decoration-color: #7f7f7f\">:</span><a href=\"file:///tmp/ipykernel_2296198/1530708660.py#116\" target=\"_blank\"><span style=\"color: #7f7f7f; text-decoration-color: #7f7f7f\">116</span></a>\n",
       "<span style=\"color: #7fbfbf; text-decoration-color: #7fbfbf\">                    </span>         <span style=\"color: #008080; text-decoration-color: #008080; font-weight: bold\">44859</span>.                                                               <span style=\"color: #7f7f7f; text-decoration-color: #7f7f7f\">                 </span>\n",
       "<span style=\"color: #7fbfbf; text-decoration-color: #7fbfbf\">                    </span>         Data is split into:                                                  <span style=\"color: #7f7f7f; text-decoration-color: #7f7f7f\">                 </span>\n",
       "</pre>\n"
      ],
      "text/plain": [
       "\u001B[2;36m[09/21/24 17:12:22]\u001B[0m\u001B[2;36m \u001B[0m\u001B[34mINFO    \u001B[0m Stratified Train/Test Split. Stratified bins: \u001B[1;36m125\u001B[0m, avg bin size:     \u001B]8;id=464393;file:///tmp/ipykernel_2296198/1530708660.py\u001B\\\u001B[2m1530708660.py\u001B[0m\u001B]8;;\u001B\\\u001B[2m:\u001B[0m\u001B]8;id=596613;file:///tmp/ipykernel_2296198/1530708660.py#116\u001B\\\u001B[2m116\u001B[0m\u001B]8;;\u001B\\\n",
       "\u001B[2;36m                    \u001B[0m         \u001B[1;36m44859\u001B[0m.                                                               \u001B[2m                 \u001B[0m\n",
       "\u001B[2;36m                    \u001B[0m         Data is split into:                                                  \u001B[2m                 \u001B[0m\n"
      ]
     },
     "metadata": {},
     "output_type": "display_data"
    },
    {
     "data": {
      "text/html": [
       "<pre style=\"white-space:pre;overflow-x:auto;line-height:normal;font-family:Menlo,'DejaVu Sans Mono',consolas,'Courier New',monospace\"><span style=\"color: #7fbfbf; text-decoration-color: #7fbfbf\">                    </span><span style=\"color: #000080; text-decoration-color: #000080\">INFO    </span>     - train: <span style=\"color: #008080; text-decoration-color: #008080; font-weight: bold\">31401</span> samples, validation: <span style=\"color: #008080; text-decoration-color: #008080; font-weight: bold\">13458</span> samples <span style=\"font-weight: bold\">(</span><span style=\"color: #008080; text-decoration-color: #008080; font-weight: bold\">30.00</span>%<span style=\"font-weight: bold\">)</span>       <a href=\"file:///tmp/ipykernel_2296198/1530708660.py\" target=\"_blank\"><span style=\"color: #7f7f7f; text-decoration-color: #7f7f7f\">1530708660.py</span></a><span style=\"color: #7f7f7f; text-decoration-color: #7f7f7f\">:</span><a href=\"file:///tmp/ipykernel_2296198/1530708660.py#117\" target=\"_blank\"><span style=\"color: #7f7f7f; text-decoration-color: #7f7f7f\">117</span></a>\n",
       "</pre>\n"
      ],
      "text/plain": [
       "\u001B[2;36m                   \u001B[0m\u001B[2;36m \u001B[0m\u001B[34mINFO    \u001B[0m     - train: \u001B[1;36m31401\u001B[0m samples, validation: \u001B[1;36m13458\u001B[0m samples \u001B[1m(\u001B[0m\u001B[1;36m30.00\u001B[0m%\u001B[1m)\u001B[0m       \u001B]8;id=836939;file:///tmp/ipykernel_2296198/1530708660.py\u001B\\\u001B[2m1530708660.py\u001B[0m\u001B]8;;\u001B\\\u001B[2m:\u001B[0m\u001B]8;id=629436;file:///tmp/ipykernel_2296198/1530708660.py#117\u001B\\\u001B[2m117\u001B[0m\u001B]8;;\u001B\\\n"
      ]
     },
     "metadata": {},
     "output_type": "display_data"
    }
   ],
   "source": [
    "train_keys_cv, val_keys_cv = get_stratified_train_test_split_keys(sample_target_part_df,\n",
    "                                                                      stratify_target_col=\"ClaimFreq_TRG\",\n",
    "                                                                      cv_folds=None, test_size=0.3,\n",
    "                                                                      random_seed=0,\n",
    "                                                                      verbose=True)"
   ]
  },
  {
   "cell_type": "code",
   "execution_count": 123,
   "id": "eb122cd0-adf3-41b8-9a4f-528f244c0003",
   "metadata": {},
   "outputs": [],
   "source": [
    "import numpy as np\n",
    "import pandas as pd\n",
    "\n",
    "def get_stratified_train_test_cv(target_df: pd.DataFrame, stratify_target_col: str, cv_folds: int, \n",
    "                                 shuffle: bool = True, random_seed: int = 0, verbose: bool = False, cv_type: str = 'train_test'):\n",
    "    \"\"\"\n",
    "    Performs stratified cross-validation splits.\n",
    "    \n",
    "    Args:\n",
    "        target_df (pd.DataFrame): The DataFrame containing the target column.\n",
    "        stratify_target_col (str): The column in target_df to stratify on (e.g., a continuous variable like frequency/severity).\n",
    "        cv_folds (int): The number of cross-validation folds.\n",
    "        shuffle (bool): Whether to shuffle the data before splitting. Default is True.\n",
    "        random_seed (int): The random seed for reproducibility. Default is 0.\n",
    "        verbose (bool): Whether to print information about the splits. Default is False.\n",
    "        cv_type (str): The type of cross-validation to perform. \n",
    "                       'train_test' for standard CV (train set: cv_folds-1, test set: 1 fold).\n",
    "                       'train_calib_test' for calibration CV (train set: cv_folds-2, calib set: 1 fold, test set: 1 fold).\n",
    "\n",
    "    Returns:\n",
    "        Tuple[Dict[str, pd.Index], Dict[str, pd.Index], Dict[str, pd.Index]]: Dictionaries containing train, calib, and test sets for each fold.\n",
    "    \"\"\"\n",
    "    \n",
    "    train_keys_cv = {}\n",
    "    calib_keys_cv = {}\n",
    "    test_keys_cv = {}\n",
    "\n",
    "    # Step 1: Sort the target_df by stratify_target_col in descending order\n",
    "    sorted_target_df = target_df.sort_values(by=stratify_target_col, ascending=False)\n",
    "\n",
    "    # Step 2: Label the sorted samples in a round-robin manner\n",
    "    n_samples = target_df.shape[0]\n",
    "    fold_labels = np.tile(np.arange(cv_folds), n_samples // cv_folds + 1)[:n_samples]\n",
    "    \n",
    "    # Optional: Shuffle the fold labels (if shuffle is enabled)\n",
    "    if shuffle:\n",
    "        rng = np.random.default_rng(random_seed)\n",
    "        rng.shuffle(fold_labels)\n",
    "\n",
    "    # Step 3: Cross-validation splitting based on cv_type\n",
    "    if cv_type == 'train_test':\n",
    "        # Standard cross-validation (cv_folds-1 train blocks, 1 test block)\n",
    "        for fold in range(cv_folds):\n",
    "            # Test set is the current fold\n",
    "            test_mask = (fold_labels == fold)\n",
    "            test_keys = sorted_target_df[test_mask].index\n",
    "            \n",
    "            # Training set is all other blocks except the current fold\n",
    "            train_mask = ~test_mask\n",
    "            train_keys = sorted_target_df[train_mask].index\n",
    "            \n",
    "            train_keys_cv[str(fold)] = train_keys\n",
    "            test_keys_cv[str(fold)] = test_keys\n",
    "\n",
    "    elif cv_type == 'train_calib_test':\n",
    "        # Calibration cross-validation (cv_folds-2 train blocks, 1 calibration block, 1 test block)\n",
    "        for fold in range(cv_folds):\n",
    "            # For each fold, use one block for calibration and one for test\n",
    "            test_fold = fold\n",
    "            calib_fold = (fold + 1) % cv_folds  # The calibration fold is the next one (cyclic shift)\n",
    "            \n",
    "            # Test set is the current fold\n",
    "            test_mask = (fold_labels == test_fold)\n",
    "            test_keys = sorted_target_df[test_mask].index\n",
    "            \n",
    "            # Calibration set is the next fold\n",
    "            calib_mask = (fold_labels == calib_fold)\n",
    "            calib_keys = sorted_target_df[calib_mask].index\n",
    "            \n",
    "            # Train set: all the other folds except the test and calibration folds\n",
    "            train_mask = ~(test_mask | calib_mask)\n",
    "            train_keys = sorted_target_df[train_mask].index\n",
    "            \n",
    "            # Store the indices in dictionaries\n",
    "            key = f'fold_{fold}'\n",
    "            train_keys_cv[key] = train_keys\n",
    "            test_keys_cv[key] = test_keys\n",
    "            calib_keys_cv[key] = calib_keys\n",
    "\n",
    "    # Step 4: Logging (if verbose mode is enabled)\n",
    "    if verbose:\n",
    "        avg_bin_size = n_samples / cv_folds\n",
    "        if cv_type == 'train_test':\n",
    "            msg = (f\"Stratified CV (Train/Test). Split into {cv_folds} folds. Average bin size: {avg_bin_size:.2f}. \"\n",
    "                   f\"The sizes of the folds:\")\n",
    "            for fold in train_keys_cv.keys():\n",
    "                msg += (f\"\\n    - fold {fold}: train: {len(train_keys_cv[fold])} samples, \"\n",
    "                        f\"test: {len(test_keys_cv[fold])} samples \"\n",
    "                        f\"({len(test_keys_cv[fold]) / len(target_df):.2%})\")\n",
    "        elif cv_type == 'train_calib_test':\n",
    "            msg = (f\"Stratified CV (Train/Calib/Test). Split into {cv_folds} partitions. Average bin size: {avg_bin_size:.2f}. \"\n",
    "                   f\"The sizes of the partitions:\")\n",
    "            for key in train_keys_cv.keys():\n",
    "                msg += (f\"\\n    - {key}: train: {len(train_keys_cv[key])} samples, \"\n",
    "                        f\"calibration: {len(calib_keys_cv[key])} samples, \"\n",
    "                        f\"test: {len(test_keys_cv[key])} samples \"\n",
    "                        f\"({len(test_keys_cv[key]) / len(target_df):.2%})\")\n",
    "        print(msg)\n",
    "\n",
    "    # Return appropriate dictionaries based on the cross-validation type\n",
    "    if cv_type == 'train_test':\n",
    "        return train_keys_cv, test_keys_cv\n",
    "    elif cv_type == 'train_calib_test':\n",
    "        return train_keys_cv, calib_keys_cv, test_keys_cv\n"
   ]
  },
  {
   "cell_type": "code",
   "execution_count": 131,
   "id": "0f1d2eb7-8059-41ac-87f2-5a5aad4736a9",
   "metadata": {},
   "outputs": [
    {
     "name": "stdout",
     "output_type": "stream",
     "text": [
      "Stratified CV (Train/Test). Split into 5 folds. Average bin size: 20.00. The sizes of the folds:\n",
      "    - fold 0: train: 80 samples, test: 20 samples (20.00%)\n",
      "    - fold 1: train: 80 samples, test: 20 samples (20.00%)\n",
      "    - fold 2: train: 80 samples, test: 20 samples (20.00%)\n",
      "    - fold 3: train: 80 samples, test: 20 samples (20.00%)\n",
      "    - fold 4: train: 80 samples, test: 20 samples (20.00%)\n"
     ]
    }
   ],
   "source": [
    "# Sample target DataFrame\n",
    "data = {'target': np.random.rand(100)}  # Example data\n",
    "target_df = pd.DataFrame(data)\n",
    "\n",
    "# Perform stratified cross-validation with 5 folds (standard train/test)\n",
    "train_keys, val_keys = get_stratified_train_test_cv(target_df, stratify_target_col='target', cv_folds=5, \n",
    "                                                   shuffle=True, random_seed=42, verbose=True, cv_type='train_test')\n"
   ]
  },
  {
   "cell_type": "code",
   "execution_count": 132,
   "id": "33b94a86-a2eb-4c14-995a-f3f600209e97",
   "metadata": {},
   "outputs": [
    {
     "name": "stdout",
     "output_type": "stream",
     "text": [
      "Stratified CV (Train/Calib/Test). Split into 5 partitions. Average bin size: 20.00. The sizes of the partitions:\n",
      "    - fold_0: train: 60 samples, calibration: 20 samples, test: 20 samples (20.00%)\n",
      "    - fold_1: train: 60 samples, calibration: 20 samples, test: 20 samples (20.00%)\n",
      "    - fold_2: train: 60 samples, calibration: 20 samples, test: 20 samples (20.00%)\n",
      "    - fold_3: train: 60 samples, calibration: 20 samples, test: 20 samples (20.00%)\n",
      "    - fold_4: train: 60 samples, calibration: 20 samples, test: 20 samples (20.00%)\n"
     ]
    }
   ],
   "source": [
    "# Perform stratified cross-validation with 5 folds (train/calib/test)\n",
    "train_keys, calib_keys, test_keys = get_stratified_train_test_cv(target_df, stratify_target_col='target', cv_folds=5, \n",
    "                                                               shuffle=True, random_seed=42, verbose=True, \n",
    "                                                               cv_type='train_calib_test')\n"
   ]
  },
  {
   "cell_type": "code",
   "execution_count": 136,
   "id": "3e10c61f-b3a0-4ec7-9090-39b62a933b14",
   "metadata": {},
   "outputs": [
    {
     "name": "stdout",
     "output_type": "stream",
     "text": [
      "Stratified CV (Train/Calib/Test). Split into 5 partitions. Average bin size: 8971.80. The sizes of the partitions:\n",
      "    - fold_0: train: 26915 samples, calibration: 8972 samples, test: 8972 samples (20.00%)\n",
      "    - fold_1: train: 26915 samples, calibration: 8972 samples, test: 8972 samples (20.00%)\n",
      "    - fold_2: train: 26915 samples, calibration: 8972 samples, test: 8972 samples (20.00%)\n",
      "    - fold_3: train: 26916 samples, calibration: 8971 samples, test: 8972 samples (20.00%)\n",
      "    - fold_4: train: 26916 samples, calibration: 8972 samples, test: 8971 samples (20.00%)\n"
     ]
    }
   ],
   "source": [
    "train_keys, calib_keys, test_keys = get_stratified_train_test_cv(sample_target_part_df,\n",
    "                                                                      stratify_target_col=\"ClaimFreq_TRG\",\n",
    "                                                                      cv_folds=5,\n",
    "                                                                      random_seed=0,\n",
    "                                                                      verbose=True,\n",
    "                                                                 cv_type='train_calib_test')"
   ]
  },
  {
   "cell_type": "code",
   "execution_count": 139,
   "id": "6b7cdc99-ef94-461e-8b19-d583b90c02ac",
   "metadata": {},
   "outputs": [
    {
     "data": {
      "text/html": [
       "<pre style=\"white-space:pre;overflow-x:auto;line-height:normal;font-family:Menlo,'DejaVu Sans Mono',consolas,'Courier New',monospace\"><span style=\"color: #7fbfbf; text-decoration-color: #7fbfbf\">[09/21/24 17:52:19] </span><span style=\"color: #000080; text-decoration-color: #000080\">INFO    </span> fold: fold_0, trg values:                                               <a href=\"file:///tmp/ipykernel_2296198/288570815.py\" target=\"_blank\"><span style=\"color: #7f7f7f; text-decoration-color: #7f7f7f\">288570815.py</span></a><span style=\"color: #7f7f7f; text-decoration-color: #7f7f7f\">:</span><a href=\"file:///tmp/ipykernel_2296198/288570815.py#3\" target=\"_blank\"><span style=\"color: #7f7f7f; text-decoration-color: #7f7f7f\">3</span></a>\n",
       "<span style=\"color: #7fbfbf; text-decoration-color: #7fbfbf\">                    </span>         IDpol                                                                   <span style=\"color: #7f7f7f; text-decoration-color: #7f7f7f\">              </span>\n",
       "<span style=\"color: #7fbfbf; text-decoration-color: #7fbfbf\">                    </span>         <span style=\"color: #008080; text-decoration-color: #008080; font-weight: bold\">2204803</span>    <span style=\"color: #008080; text-decoration-color: #008080; font-weight: bold\">100.0</span>                                                        <span style=\"color: #7f7f7f; text-decoration-color: #7f7f7f\">              </span>\n",
       "<span style=\"color: #7fbfbf; text-decoration-color: #7fbfbf\">                    </span>         <span style=\"color: #008080; text-decoration-color: #008080; font-weight: bold\">5096322</span>    <span style=\"color: #008080; text-decoration-color: #008080; font-weight: bold\">100.0</span>                                                        <span style=\"color: #7f7f7f; text-decoration-color: #7f7f7f\">              </span>\n",
       "<span style=\"color: #7fbfbf; text-decoration-color: #7fbfbf\">                    </span>         <span style=\"color: #008080; text-decoration-color: #008080; font-weight: bold\">4059223</span>    <span style=\"color: #008080; text-decoration-color: #008080; font-weight: bold\">100.0</span>                                                        <span style=\"color: #7f7f7f; text-decoration-color: #7f7f7f\">              </span>\n",
       "<span style=\"color: #7fbfbf; text-decoration-color: #7fbfbf\">                    </span>         <span style=\"color: #008080; text-decoration-color: #008080; font-weight: bold\">1077599</span>    <span style=\"color: #008080; text-decoration-color: #008080; font-weight: bold\">100.0</span>                                                        <span style=\"color: #7f7f7f; text-decoration-color: #7f7f7f\">              </span>\n",
       "<span style=\"color: #7fbfbf; text-decoration-color: #7fbfbf\">                    </span>         <span style=\"color: #008080; text-decoration-color: #008080; font-weight: bold\">2054078</span>    <span style=\"color: #008080; text-decoration-color: #008080; font-weight: bold\">100.0</span>                                                        <span style=\"color: #7f7f7f; text-decoration-color: #7f7f7f\">              </span>\n",
       "<span style=\"color: #7fbfbf; text-decoration-color: #7fbfbf\">                    </span>                    <span style=\"color: #808000; text-decoration-color: #808000\">...</span>                                                          <span style=\"color: #7f7f7f; text-decoration-color: #7f7f7f\">              </span>\n",
       "<span style=\"color: #7fbfbf; text-decoration-color: #7fbfbf\">                    </span>         <span style=\"color: #008080; text-decoration-color: #008080; font-weight: bold\">4175409</span>      <span style=\"color: #008080; text-decoration-color: #008080; font-weight: bold\">0.0</span>                                                        <span style=\"color: #7f7f7f; text-decoration-color: #7f7f7f\">              </span>\n",
       "<span style=\"color: #7fbfbf; text-decoration-color: #7fbfbf\">                    </span>         <span style=\"color: #008080; text-decoration-color: #008080; font-weight: bold\">4174799</span>      <span style=\"color: #008080; text-decoration-color: #008080; font-weight: bold\">0.0</span>                                                        <span style=\"color: #7f7f7f; text-decoration-color: #7f7f7f\">              </span>\n",
       "<span style=\"color: #7fbfbf; text-decoration-color: #7fbfbf\">                    </span>         <span style=\"color: #008080; text-decoration-color: #008080; font-weight: bold\">4174760</span>      <span style=\"color: #008080; text-decoration-color: #008080; font-weight: bold\">0.0</span>                                                        <span style=\"color: #7f7f7f; text-decoration-color: #7f7f7f\">              </span>\n",
       "<span style=\"color: #7fbfbf; text-decoration-color: #7fbfbf\">                    </span>         <span style=\"color: #008080; text-decoration-color: #008080; font-weight: bold\">4174072</span>      <span style=\"color: #008080; text-decoration-color: #008080; font-weight: bold\">0.0</span>                                                        <span style=\"color: #7f7f7f; text-decoration-color: #7f7f7f\">              </span>\n",
       "<span style=\"color: #7fbfbf; text-decoration-color: #7fbfbf\">                    </span>         <span style=\"color: #008080; text-decoration-color: #008080; font-weight: bold\">2179944</span>      <span style=\"color: #008080; text-decoration-color: #008080; font-weight: bold\">0.0</span>                                                        <span style=\"color: #7f7f7f; text-decoration-color: #7f7f7f\">              </span>\n",
       "<span style=\"color: #7fbfbf; text-decoration-color: #7fbfbf\">                    </span>         Name: ClaimFreq_TRG, Length: <span style=\"color: #008080; text-decoration-color: #008080; font-weight: bold\">26915</span>, dtype: float64                      <span style=\"color: #7f7f7f; text-decoration-color: #7f7f7f\">              </span>\n",
       "</pre>\n"
      ],
      "text/plain": [
       "\u001B[2;36m[09/21/24 17:52:19]\u001B[0m\u001B[2;36m \u001B[0m\u001B[34mINFO    \u001B[0m fold: fold_0, trg values:                                               \u001B]8;id=136424;file:///tmp/ipykernel_2296198/288570815.py\u001B\\\u001B[2m288570815.py\u001B[0m\u001B]8;;\u001B\\\u001B[2m:\u001B[0m\u001B]8;id=547597;file:///tmp/ipykernel_2296198/288570815.py#3\u001B\\\u001B[2m3\u001B[0m\u001B]8;;\u001B\\\n",
       "\u001B[2;36m                    \u001B[0m         IDpol                                                                   \u001B[2m              \u001B[0m\n",
       "\u001B[2;36m                    \u001B[0m         \u001B[1;36m2204803\u001B[0m    \u001B[1;36m100.0\u001B[0m                                                        \u001B[2m              \u001B[0m\n",
       "\u001B[2;36m                    \u001B[0m         \u001B[1;36m5096322\u001B[0m    \u001B[1;36m100.0\u001B[0m                                                        \u001B[2m              \u001B[0m\n",
       "\u001B[2;36m                    \u001B[0m         \u001B[1;36m4059223\u001B[0m    \u001B[1;36m100.0\u001B[0m                                                        \u001B[2m              \u001B[0m\n",
       "\u001B[2;36m                    \u001B[0m         \u001B[1;36m1077599\u001B[0m    \u001B[1;36m100.0\u001B[0m                                                        \u001B[2m              \u001B[0m\n",
       "\u001B[2;36m                    \u001B[0m         \u001B[1;36m2054078\u001B[0m    \u001B[1;36m100.0\u001B[0m                                                        \u001B[2m              \u001B[0m\n",
       "\u001B[2;36m                    \u001B[0m                    \u001B[33m...\u001B[0m                                                          \u001B[2m              \u001B[0m\n",
       "\u001B[2;36m                    \u001B[0m         \u001B[1;36m4175409\u001B[0m      \u001B[1;36m0.0\u001B[0m                                                        \u001B[2m              \u001B[0m\n",
       "\u001B[2;36m                    \u001B[0m         \u001B[1;36m4174799\u001B[0m      \u001B[1;36m0.0\u001B[0m                                                        \u001B[2m              \u001B[0m\n",
       "\u001B[2;36m                    \u001B[0m         \u001B[1;36m4174760\u001B[0m      \u001B[1;36m0.0\u001B[0m                                                        \u001B[2m              \u001B[0m\n",
       "\u001B[2;36m                    \u001B[0m         \u001B[1;36m4174072\u001B[0m      \u001B[1;36m0.0\u001B[0m                                                        \u001B[2m              \u001B[0m\n",
       "\u001B[2;36m                    \u001B[0m         \u001B[1;36m2179944\u001B[0m      \u001B[1;36m0.0\u001B[0m                                                        \u001B[2m              \u001B[0m\n",
       "\u001B[2;36m                    \u001B[0m         Name: ClaimFreq_TRG, Length: \u001B[1;36m26915\u001B[0m, dtype: float64                      \u001B[2m              \u001B[0m\n"
      ]
     },
     "metadata": {},
     "output_type": "display_data"
    },
    {
     "data": {
      "text/html": [
       "<pre style=\"white-space:pre;overflow-x:auto;line-height:normal;font-family:Menlo,'DejaVu Sans Mono',consolas,'Courier New',monospace\"><span style=\"color: #7fbfbf; text-decoration-color: #7fbfbf\">[09/21/24 17:52:20] </span><span style=\"color: #000080; text-decoration-color: #000080\">INFO    </span> fold: fold_1, trg values:                                               <a href=\"file:///tmp/ipykernel_2296198/288570815.py\" target=\"_blank\"><span style=\"color: #7f7f7f; text-decoration-color: #7f7f7f\">288570815.py</span></a><span style=\"color: #7f7f7f; text-decoration-color: #7f7f7f\">:</span><a href=\"file:///tmp/ipykernel_2296198/288570815.py#3\" target=\"_blank\"><span style=\"color: #7f7f7f; text-decoration-color: #7f7f7f\">3</span></a>\n",
       "<span style=\"color: #7fbfbf; text-decoration-color: #7fbfbf\">                    </span>         IDpol                                                                   <span style=\"color: #7f7f7f; text-decoration-color: #7f7f7f\">              </span>\n",
       "<span style=\"color: #7fbfbf; text-decoration-color: #7fbfbf\">                    </span>         <span style=\"color: #008080; text-decoration-color: #008080; font-weight: bold\">1149519</span>    <span style=\"color: #008080; text-decoration-color: #008080; font-weight: bold\">100.0</span>                                                        <span style=\"color: #7f7f7f; text-decoration-color: #7f7f7f\">              </span>\n",
       "<span style=\"color: #7fbfbf; text-decoration-color: #7fbfbf\">                    </span>         <span style=\"color: #008080; text-decoration-color: #008080; font-weight: bold\">4014458</span>    <span style=\"color: #008080; text-decoration-color: #008080; font-weight: bold\">100.0</span>                                                        <span style=\"color: #7f7f7f; text-decoration-color: #7f7f7f\">              </span>\n",
       "<span style=\"color: #7fbfbf; text-decoration-color: #7fbfbf\">                    </span>         <span style=\"color: #008080; text-decoration-color: #008080; font-weight: bold\">2211358</span>    <span style=\"color: #008080; text-decoration-color: #008080; font-weight: bold\">100.0</span>                                                        <span style=\"color: #7f7f7f; text-decoration-color: #7f7f7f\">              </span>\n",
       "<span style=\"color: #7fbfbf; text-decoration-color: #7fbfbf\">                    </span>         <span style=\"color: #008080; text-decoration-color: #008080; font-weight: bold\">3114873</span>    <span style=\"color: #008080; text-decoration-color: #008080; font-weight: bold\">100.0</span>                                                        <span style=\"color: #7f7f7f; text-decoration-color: #7f7f7f\">              </span>\n",
       "<span style=\"color: #7fbfbf; text-decoration-color: #7fbfbf\">                    </span>         <span style=\"color: #008080; text-decoration-color: #008080; font-weight: bold\">4134360</span>    <span style=\"color: #008080; text-decoration-color: #008080; font-weight: bold\">100.0</span>                                                        <span style=\"color: #7f7f7f; text-decoration-color: #7f7f7f\">              </span>\n",
       "<span style=\"color: #7fbfbf; text-decoration-color: #7fbfbf\">                    </span>                    <span style=\"color: #808000; text-decoration-color: #808000\">...</span>                                                          <span style=\"color: #7f7f7f; text-decoration-color: #7f7f7f\">              </span>\n",
       "<span style=\"color: #7fbfbf; text-decoration-color: #7fbfbf\">                    </span>         <span style=\"color: #008080; text-decoration-color: #008080; font-weight: bold\">4170408</span>      <span style=\"color: #008080; text-decoration-color: #008080; font-weight: bold\">0.0</span>                                                        <span style=\"color: #7f7f7f; text-decoration-color: #7f7f7f\">              </span>\n",
       "<span style=\"color: #7fbfbf; text-decoration-color: #7fbfbf\">                    </span>         <span style=\"color: #008080; text-decoration-color: #008080; font-weight: bold\">4171183</span>      <span style=\"color: #008080; text-decoration-color: #008080; font-weight: bold\">0.0</span>                                                        <span style=\"color: #7f7f7f; text-decoration-color: #7f7f7f\">              </span>\n",
       "<span style=\"color: #7fbfbf; text-decoration-color: #7fbfbf\">                    </span>         <span style=\"color: #008080; text-decoration-color: #008080; font-weight: bold\">4171798</span>      <span style=\"color: #008080; text-decoration-color: #008080; font-weight: bold\">0.0</span>                                                        <span style=\"color: #7f7f7f; text-decoration-color: #7f7f7f\">              </span>\n",
       "<span style=\"color: #7fbfbf; text-decoration-color: #7fbfbf\">                    </span>         <span style=\"color: #008080; text-decoration-color: #008080; font-weight: bold\">4171788</span>      <span style=\"color: #008080; text-decoration-color: #008080; font-weight: bold\">0.0</span>                                                        <span style=\"color: #7f7f7f; text-decoration-color: #7f7f7f\">              </span>\n",
       "<span style=\"color: #7fbfbf; text-decoration-color: #7fbfbf\">                    </span>         <span style=\"color: #008080; text-decoration-color: #008080; font-weight: bold\">6114327</span>      <span style=\"color: #008080; text-decoration-color: #008080; font-weight: bold\">0.0</span>                                                        <span style=\"color: #7f7f7f; text-decoration-color: #7f7f7f\">              </span>\n",
       "<span style=\"color: #7fbfbf; text-decoration-color: #7fbfbf\">                    </span>         Name: ClaimFreq_TRG, Length: <span style=\"color: #008080; text-decoration-color: #008080; font-weight: bold\">26915</span>, dtype: float64                      <span style=\"color: #7f7f7f; text-decoration-color: #7f7f7f\">              </span>\n",
       "</pre>\n"
      ],
      "text/plain": [
       "\u001B[2;36m[09/21/24 17:52:20]\u001B[0m\u001B[2;36m \u001B[0m\u001B[34mINFO    \u001B[0m fold: fold_1, trg values:                                               \u001B]8;id=127710;file:///tmp/ipykernel_2296198/288570815.py\u001B\\\u001B[2m288570815.py\u001B[0m\u001B]8;;\u001B\\\u001B[2m:\u001B[0m\u001B]8;id=887025;file:///tmp/ipykernel_2296198/288570815.py#3\u001B\\\u001B[2m3\u001B[0m\u001B]8;;\u001B\\\n",
       "\u001B[2;36m                    \u001B[0m         IDpol                                                                   \u001B[2m              \u001B[0m\n",
       "\u001B[2;36m                    \u001B[0m         \u001B[1;36m1149519\u001B[0m    \u001B[1;36m100.0\u001B[0m                                                        \u001B[2m              \u001B[0m\n",
       "\u001B[2;36m                    \u001B[0m         \u001B[1;36m4014458\u001B[0m    \u001B[1;36m100.0\u001B[0m                                                        \u001B[2m              \u001B[0m\n",
       "\u001B[2;36m                    \u001B[0m         \u001B[1;36m2211358\u001B[0m    \u001B[1;36m100.0\u001B[0m                                                        \u001B[2m              \u001B[0m\n",
       "\u001B[2;36m                    \u001B[0m         \u001B[1;36m3114873\u001B[0m    \u001B[1;36m100.0\u001B[0m                                                        \u001B[2m              \u001B[0m\n",
       "\u001B[2;36m                    \u001B[0m         \u001B[1;36m4134360\u001B[0m    \u001B[1;36m100.0\u001B[0m                                                        \u001B[2m              \u001B[0m\n",
       "\u001B[2;36m                    \u001B[0m                    \u001B[33m...\u001B[0m                                                          \u001B[2m              \u001B[0m\n",
       "\u001B[2;36m                    \u001B[0m         \u001B[1;36m4170408\u001B[0m      \u001B[1;36m0.0\u001B[0m                                                        \u001B[2m              \u001B[0m\n",
       "\u001B[2;36m                    \u001B[0m         \u001B[1;36m4171183\u001B[0m      \u001B[1;36m0.0\u001B[0m                                                        \u001B[2m              \u001B[0m\n",
       "\u001B[2;36m                    \u001B[0m         \u001B[1;36m4171798\u001B[0m      \u001B[1;36m0.0\u001B[0m                                                        \u001B[2m              \u001B[0m\n",
       "\u001B[2;36m                    \u001B[0m         \u001B[1;36m4171788\u001B[0m      \u001B[1;36m0.0\u001B[0m                                                        \u001B[2m              \u001B[0m\n",
       "\u001B[2;36m                    \u001B[0m         \u001B[1;36m6114327\u001B[0m      \u001B[1;36m0.0\u001B[0m                                                        \u001B[2m              \u001B[0m\n",
       "\u001B[2;36m                    \u001B[0m         Name: ClaimFreq_TRG, Length: \u001B[1;36m26915\u001B[0m, dtype: float64                      \u001B[2m              \u001B[0m\n"
      ]
     },
     "metadata": {},
     "output_type": "display_data"
    },
    {
     "data": {
      "text/html": [
       "<pre style=\"white-space:pre;overflow-x:auto;line-height:normal;font-family:Menlo,'DejaVu Sans Mono',consolas,'Courier New',monospace\"><span style=\"color: #7fbfbf; text-decoration-color: #7fbfbf\">                    </span><span style=\"color: #000080; text-decoration-color: #000080\">INFO    </span> fold: fold_2, trg values:                                               <a href=\"file:///tmp/ipykernel_2296198/288570815.py\" target=\"_blank\"><span style=\"color: #7f7f7f; text-decoration-color: #7f7f7f\">288570815.py</span></a><span style=\"color: #7f7f7f; text-decoration-color: #7f7f7f\">:</span><a href=\"file:///tmp/ipykernel_2296198/288570815.py#3\" target=\"_blank\"><span style=\"color: #7f7f7f; text-decoration-color: #7f7f7f\">3</span></a>\n",
       "<span style=\"color: #7fbfbf; text-decoration-color: #7fbfbf\">                    </span>         IDpol                                                                   <span style=\"color: #7f7f7f; text-decoration-color: #7f7f7f\">              </span>\n",
       "<span style=\"color: #7fbfbf; text-decoration-color: #7fbfbf\">                    </span>         <span style=\"color: #008080; text-decoration-color: #008080; font-weight: bold\">1149519</span>    <span style=\"color: #008080; text-decoration-color: #008080; font-weight: bold\">100.0</span>                                                        <span style=\"color: #7f7f7f; text-decoration-color: #7f7f7f\">              </span>\n",
       "<span style=\"color: #7fbfbf; text-decoration-color: #7fbfbf\">                    </span>         <span style=\"color: #008080; text-decoration-color: #008080; font-weight: bold\">2606</span>       <span style=\"color: #008080; text-decoration-color: #008080; font-weight: bold\">100.0</span>                                                        <span style=\"color: #7f7f7f; text-decoration-color: #7f7f7f\">              </span>\n",
       "<span style=\"color: #7fbfbf; text-decoration-color: #7fbfbf\">                    </span>         <span style=\"color: #008080; text-decoration-color: #008080; font-weight: bold\">1100830</span>    <span style=\"color: #008080; text-decoration-color: #008080; font-weight: bold\">100.0</span>                                                        <span style=\"color: #7f7f7f; text-decoration-color: #7f7f7f\">              </span>\n",
       "<span style=\"color: #7fbfbf; text-decoration-color: #7fbfbf\">                    </span>         <span style=\"color: #008080; text-decoration-color: #008080; font-weight: bold\">3058418</span>    <span style=\"color: #008080; text-decoration-color: #008080; font-weight: bold\">100.0</span>                                                        <span style=\"color: #7f7f7f; text-decoration-color: #7f7f7f\">              </span>\n",
       "<span style=\"color: #7fbfbf; text-decoration-color: #7fbfbf\">                    </span>         <span style=\"color: #008080; text-decoration-color: #008080; font-weight: bold\">4064483</span>    <span style=\"color: #008080; text-decoration-color: #008080; font-weight: bold\">100.0</span>                                                        <span style=\"color: #7f7f7f; text-decoration-color: #7f7f7f\">              </span>\n",
       "<span style=\"color: #7fbfbf; text-decoration-color: #7fbfbf\">                    </span>                    <span style=\"color: #808000; text-decoration-color: #808000\">...</span>                                                          <span style=\"color: #7f7f7f; text-decoration-color: #7f7f7f\">              </span>\n",
       "<span style=\"color: #7fbfbf; text-decoration-color: #7fbfbf\">                    </span>         <span style=\"color: #008080; text-decoration-color: #008080; font-weight: bold\">4174767</span>      <span style=\"color: #008080; text-decoration-color: #008080; font-weight: bold\">0.0</span>                                                        <span style=\"color: #7f7f7f; text-decoration-color: #7f7f7f\">              </span>\n",
       "<span style=\"color: #7fbfbf; text-decoration-color: #7fbfbf\">                    </span>         <span style=\"color: #008080; text-decoration-color: #008080; font-weight: bold\">4174063</span>      <span style=\"color: #008080; text-decoration-color: #008080; font-weight: bold\">0.0</span>                                                        <span style=\"color: #7f7f7f; text-decoration-color: #7f7f7f\">              </span>\n",
       "<span style=\"color: #7fbfbf; text-decoration-color: #7fbfbf\">                    </span>         <span style=\"color: #008080; text-decoration-color: #008080; font-weight: bold\">4174022</span>      <span style=\"color: #008080; text-decoration-color: #008080; font-weight: bold\">0.0</span>                                                        <span style=\"color: #7f7f7f; text-decoration-color: #7f7f7f\">              </span>\n",
       "<span style=\"color: #7fbfbf; text-decoration-color: #7fbfbf\">                    </span>         <span style=\"color: #008080; text-decoration-color: #008080; font-weight: bold\">4173941</span>      <span style=\"color: #008080; text-decoration-color: #008080; font-weight: bold\">0.0</span>                                                        <span style=\"color: #7f7f7f; text-decoration-color: #7f7f7f\">              </span>\n",
       "<span style=\"color: #7fbfbf; text-decoration-color: #7fbfbf\">                    </span>         <span style=\"color: #008080; text-decoration-color: #008080; font-weight: bold\">6114327</span>      <span style=\"color: #008080; text-decoration-color: #008080; font-weight: bold\">0.0</span>                                                        <span style=\"color: #7f7f7f; text-decoration-color: #7f7f7f\">              </span>\n",
       "<span style=\"color: #7fbfbf; text-decoration-color: #7fbfbf\">                    </span>         Name: ClaimFreq_TRG, Length: <span style=\"color: #008080; text-decoration-color: #008080; font-weight: bold\">26915</span>, dtype: float64                      <span style=\"color: #7f7f7f; text-decoration-color: #7f7f7f\">              </span>\n",
       "</pre>\n"
      ],
      "text/plain": [
       "\u001B[2;36m                   \u001B[0m\u001B[2;36m \u001B[0m\u001B[34mINFO    \u001B[0m fold: fold_2, trg values:                                               \u001B]8;id=673122;file:///tmp/ipykernel_2296198/288570815.py\u001B\\\u001B[2m288570815.py\u001B[0m\u001B]8;;\u001B\\\u001B[2m:\u001B[0m\u001B]8;id=829539;file:///tmp/ipykernel_2296198/288570815.py#3\u001B\\\u001B[2m3\u001B[0m\u001B]8;;\u001B\\\n",
       "\u001B[2;36m                    \u001B[0m         IDpol                                                                   \u001B[2m              \u001B[0m\n",
       "\u001B[2;36m                    \u001B[0m         \u001B[1;36m1149519\u001B[0m    \u001B[1;36m100.0\u001B[0m                                                        \u001B[2m              \u001B[0m\n",
       "\u001B[2;36m                    \u001B[0m         \u001B[1;36m2606\u001B[0m       \u001B[1;36m100.0\u001B[0m                                                        \u001B[2m              \u001B[0m\n",
       "\u001B[2;36m                    \u001B[0m         \u001B[1;36m1100830\u001B[0m    \u001B[1;36m100.0\u001B[0m                                                        \u001B[2m              \u001B[0m\n",
       "\u001B[2;36m                    \u001B[0m         \u001B[1;36m3058418\u001B[0m    \u001B[1;36m100.0\u001B[0m                                                        \u001B[2m              \u001B[0m\n",
       "\u001B[2;36m                    \u001B[0m         \u001B[1;36m4064483\u001B[0m    \u001B[1;36m100.0\u001B[0m                                                        \u001B[2m              \u001B[0m\n",
       "\u001B[2;36m                    \u001B[0m                    \u001B[33m...\u001B[0m                                                          \u001B[2m              \u001B[0m\n",
       "\u001B[2;36m                    \u001B[0m         \u001B[1;36m4174767\u001B[0m      \u001B[1;36m0.0\u001B[0m                                                        \u001B[2m              \u001B[0m\n",
       "\u001B[2;36m                    \u001B[0m         \u001B[1;36m4174063\u001B[0m      \u001B[1;36m0.0\u001B[0m                                                        \u001B[2m              \u001B[0m\n",
       "\u001B[2;36m                    \u001B[0m         \u001B[1;36m4174022\u001B[0m      \u001B[1;36m0.0\u001B[0m                                                        \u001B[2m              \u001B[0m\n",
       "\u001B[2;36m                    \u001B[0m         \u001B[1;36m4173941\u001B[0m      \u001B[1;36m0.0\u001B[0m                                                        \u001B[2m              \u001B[0m\n",
       "\u001B[2;36m                    \u001B[0m         \u001B[1;36m6114327\u001B[0m      \u001B[1;36m0.0\u001B[0m                                                        \u001B[2m              \u001B[0m\n",
       "\u001B[2;36m                    \u001B[0m         Name: ClaimFreq_TRG, Length: \u001B[1;36m26915\u001B[0m, dtype: float64                      \u001B[2m              \u001B[0m\n"
      ]
     },
     "metadata": {},
     "output_type": "display_data"
    },
    {
     "data": {
      "text/html": [
       "<pre style=\"white-space:pre;overflow-x:auto;line-height:normal;font-family:Menlo,'DejaVu Sans Mono',consolas,'Courier New',monospace\"><span style=\"color: #7fbfbf; text-decoration-color: #7fbfbf\">                    </span><span style=\"color: #000080; text-decoration-color: #000080\">INFO    </span> fold: fold_3, trg values:                                               <a href=\"file:///tmp/ipykernel_2296198/288570815.py\" target=\"_blank\"><span style=\"color: #7f7f7f; text-decoration-color: #7f7f7f\">288570815.py</span></a><span style=\"color: #7f7f7f; text-decoration-color: #7f7f7f\">:</span><a href=\"file:///tmp/ipykernel_2296198/288570815.py#3\" target=\"_blank\"><span style=\"color: #7f7f7f; text-decoration-color: #7f7f7f\">3</span></a>\n",
       "<span style=\"color: #7fbfbf; text-decoration-color: #7fbfbf\">                    </span>         IDpol                                                                   <span style=\"color: #7f7f7f; text-decoration-color: #7f7f7f\">              </span>\n",
       "<span style=\"color: #7fbfbf; text-decoration-color: #7fbfbf\">                    </span>         <span style=\"color: #008080; text-decoration-color: #008080; font-weight: bold\">1149519</span>    <span style=\"color: #008080; text-decoration-color: #008080; font-weight: bold\">100.0</span>                                                        <span style=\"color: #7f7f7f; text-decoration-color: #7f7f7f\">              </span>\n",
       "<span style=\"color: #7fbfbf; text-decoration-color: #7fbfbf\">                    </span>         <span style=\"color: #008080; text-decoration-color: #008080; font-weight: bold\">1112625</span>    <span style=\"color: #008080; text-decoration-color: #008080; font-weight: bold\">100.0</span>                                                        <span style=\"color: #7f7f7f; text-decoration-color: #7f7f7f\">              </span>\n",
       "<span style=\"color: #7fbfbf; text-decoration-color: #7fbfbf\">                    </span>         <span style=\"color: #008080; text-decoration-color: #008080; font-weight: bold\">1100830</span>    <span style=\"color: #008080; text-decoration-color: #008080; font-weight: bold\">100.0</span>                                                        <span style=\"color: #7f7f7f; text-decoration-color: #7f7f7f\">              </span>\n",
       "<span style=\"color: #7fbfbf; text-decoration-color: #7fbfbf\">                    </span>         <span style=\"color: #008080; text-decoration-color: #008080; font-weight: bold\">3058418</span>    <span style=\"color: #008080; text-decoration-color: #008080; font-weight: bold\">100.0</span>                                                        <span style=\"color: #7f7f7f; text-decoration-color: #7f7f7f\">              </span>\n",
       "<span style=\"color: #7fbfbf; text-decoration-color: #7fbfbf\">                    </span>         <span style=\"color: #008080; text-decoration-color: #008080; font-weight: bold\">4064483</span>    <span style=\"color: #008080; text-decoration-color: #008080; font-weight: bold\">100.0</span>                                                        <span style=\"color: #7f7f7f; text-decoration-color: #7f7f7f\">              </span>\n",
       "<span style=\"color: #7fbfbf; text-decoration-color: #7fbfbf\">                    </span>                    <span style=\"color: #808000; text-decoration-color: #808000\">...</span>                                                          <span style=\"color: #7f7f7f; text-decoration-color: #7f7f7f\">              </span>\n",
       "<span style=\"color: #7fbfbf; text-decoration-color: #7fbfbf\">                    </span>         <span style=\"color: #008080; text-decoration-color: #008080; font-weight: bold\">4174168</span>      <span style=\"color: #008080; text-decoration-color: #008080; font-weight: bold\">0.0</span>                                                        <span style=\"color: #7f7f7f; text-decoration-color: #7f7f7f\">              </span>\n",
       "<span style=\"color: #7fbfbf; text-decoration-color: #7fbfbf\">                    </span>         <span style=\"color: #008080; text-decoration-color: #008080; font-weight: bold\">4174170</span>      <span style=\"color: #008080; text-decoration-color: #008080; font-weight: bold\">0.0</span>                                                        <span style=\"color: #7f7f7f; text-decoration-color: #7f7f7f\">              </span>\n",
       "<span style=\"color: #7fbfbf; text-decoration-color: #7fbfbf\">                    </span>         <span style=\"color: #008080; text-decoration-color: #008080; font-weight: bold\">4174463</span>      <span style=\"color: #008080; text-decoration-color: #008080; font-weight: bold\">0.0</span>                                                        <span style=\"color: #7f7f7f; text-decoration-color: #7f7f7f\">              </span>\n",
       "<span style=\"color: #7fbfbf; text-decoration-color: #7fbfbf\">                    </span>         <span style=\"color: #008080; text-decoration-color: #008080; font-weight: bold\">4174713</span>      <span style=\"color: #008080; text-decoration-color: #008080; font-weight: bold\">0.0</span>                                                        <span style=\"color: #7f7f7f; text-decoration-color: #7f7f7f\">              </span>\n",
       "<span style=\"color: #7fbfbf; text-decoration-color: #7fbfbf\">                    </span>         <span style=\"color: #008080; text-decoration-color: #008080; font-weight: bold\">6114327</span>      <span style=\"color: #008080; text-decoration-color: #008080; font-weight: bold\">0.0</span>                                                        <span style=\"color: #7f7f7f; text-decoration-color: #7f7f7f\">              </span>\n",
       "<span style=\"color: #7fbfbf; text-decoration-color: #7fbfbf\">                    </span>         Name: ClaimFreq_TRG, Length: <span style=\"color: #008080; text-decoration-color: #008080; font-weight: bold\">26916</span>, dtype: float64                      <span style=\"color: #7f7f7f; text-decoration-color: #7f7f7f\">              </span>\n",
       "</pre>\n"
      ],
      "text/plain": [
       "\u001B[2;36m                   \u001B[0m\u001B[2;36m \u001B[0m\u001B[34mINFO    \u001B[0m fold: fold_3, trg values:                                               \u001B]8;id=387069;file:///tmp/ipykernel_2296198/288570815.py\u001B\\\u001B[2m288570815.py\u001B[0m\u001B]8;;\u001B\\\u001B[2m:\u001B[0m\u001B]8;id=666744;file:///tmp/ipykernel_2296198/288570815.py#3\u001B\\\u001B[2m3\u001B[0m\u001B]8;;\u001B\\\n",
       "\u001B[2;36m                    \u001B[0m         IDpol                                                                   \u001B[2m              \u001B[0m\n",
       "\u001B[2;36m                    \u001B[0m         \u001B[1;36m1149519\u001B[0m    \u001B[1;36m100.0\u001B[0m                                                        \u001B[2m              \u001B[0m\n",
       "\u001B[2;36m                    \u001B[0m         \u001B[1;36m1112625\u001B[0m    \u001B[1;36m100.0\u001B[0m                                                        \u001B[2m              \u001B[0m\n",
       "\u001B[2;36m                    \u001B[0m         \u001B[1;36m1100830\u001B[0m    \u001B[1;36m100.0\u001B[0m                                                        \u001B[2m              \u001B[0m\n",
       "\u001B[2;36m                    \u001B[0m         \u001B[1;36m3058418\u001B[0m    \u001B[1;36m100.0\u001B[0m                                                        \u001B[2m              \u001B[0m\n",
       "\u001B[2;36m                    \u001B[0m         \u001B[1;36m4064483\u001B[0m    \u001B[1;36m100.0\u001B[0m                                                        \u001B[2m              \u001B[0m\n",
       "\u001B[2;36m                    \u001B[0m                    \u001B[33m...\u001B[0m                                                          \u001B[2m              \u001B[0m\n",
       "\u001B[2;36m                    \u001B[0m         \u001B[1;36m4174168\u001B[0m      \u001B[1;36m0.0\u001B[0m                                                        \u001B[2m              \u001B[0m\n",
       "\u001B[2;36m                    \u001B[0m         \u001B[1;36m4174170\u001B[0m      \u001B[1;36m0.0\u001B[0m                                                        \u001B[2m              \u001B[0m\n",
       "\u001B[2;36m                    \u001B[0m         \u001B[1;36m4174463\u001B[0m      \u001B[1;36m0.0\u001B[0m                                                        \u001B[2m              \u001B[0m\n",
       "\u001B[2;36m                    \u001B[0m         \u001B[1;36m4174713\u001B[0m      \u001B[1;36m0.0\u001B[0m                                                        \u001B[2m              \u001B[0m\n",
       "\u001B[2;36m                    \u001B[0m         \u001B[1;36m6114327\u001B[0m      \u001B[1;36m0.0\u001B[0m                                                        \u001B[2m              \u001B[0m\n",
       "\u001B[2;36m                    \u001B[0m         Name: ClaimFreq_TRG, Length: \u001B[1;36m26916\u001B[0m, dtype: float64                      \u001B[2m              \u001B[0m\n"
      ]
     },
     "metadata": {},
     "output_type": "display_data"
    },
    {
     "data": {
      "text/html": [
       "<pre style=\"white-space:pre;overflow-x:auto;line-height:normal;font-family:Menlo,'DejaVu Sans Mono',consolas,'Courier New',monospace\"><span style=\"color: #7fbfbf; text-decoration-color: #7fbfbf\">                    </span><span style=\"color: #000080; text-decoration-color: #000080\">INFO    </span> fold: fold_4, trg values:                                               <a href=\"file:///tmp/ipykernel_2296198/288570815.py\" target=\"_blank\"><span style=\"color: #7f7f7f; text-decoration-color: #7f7f7f\">288570815.py</span></a><span style=\"color: #7f7f7f; text-decoration-color: #7f7f7f\">:</span><a href=\"file:///tmp/ipykernel_2296198/288570815.py#3\" target=\"_blank\"><span style=\"color: #7f7f7f; text-decoration-color: #7f7f7f\">3</span></a>\n",
       "<span style=\"color: #7fbfbf; text-decoration-color: #7fbfbf\">                    </span>         IDpol                                                                   <span style=\"color: #7f7f7f; text-decoration-color: #7f7f7f\">              </span>\n",
       "<span style=\"color: #7fbfbf; text-decoration-color: #7fbfbf\">                    </span>         <span style=\"color: #008080; text-decoration-color: #008080; font-weight: bold\">114918</span>     <span style=\"color: #008080; text-decoration-color: #008080; font-weight: bold\">100.0</span>                                                        <span style=\"color: #7f7f7f; text-decoration-color: #7f7f7f\">              </span>\n",
       "<span style=\"color: #7fbfbf; text-decoration-color: #7fbfbf\">                    </span>         <span style=\"color: #008080; text-decoration-color: #008080; font-weight: bold\">2606</span>       <span style=\"color: #008080; text-decoration-color: #008080; font-weight: bold\">100.0</span>                                                        <span style=\"color: #7f7f7f; text-decoration-color: #7f7f7f\">              </span>\n",
       "<span style=\"color: #7fbfbf; text-decoration-color: #7fbfbf\">                    </span>         <span style=\"color: #008080; text-decoration-color: #008080; font-weight: bold\">2204803</span>    <span style=\"color: #008080; text-decoration-color: #008080; font-weight: bold\">100.0</span>                                                        <span style=\"color: #7f7f7f; text-decoration-color: #7f7f7f\">              </span>\n",
       "<span style=\"color: #7fbfbf; text-decoration-color: #7fbfbf\">                    </span>         <span style=\"color: #008080; text-decoration-color: #008080; font-weight: bold\">1077599</span>    <span style=\"color: #008080; text-decoration-color: #008080; font-weight: bold\">100.0</span>                                                        <span style=\"color: #7f7f7f; text-decoration-color: #7f7f7f\">              </span>\n",
       "<span style=\"color: #7fbfbf; text-decoration-color: #7fbfbf\">                    </span>         <span style=\"color: #008080; text-decoration-color: #008080; font-weight: bold\">2054078</span>    <span style=\"color: #008080; text-decoration-color: #008080; font-weight: bold\">100.0</span>                                                        <span style=\"color: #7f7f7f; text-decoration-color: #7f7f7f\">              </span>\n",
       "<span style=\"color: #7fbfbf; text-decoration-color: #7fbfbf\">                    </span>                    <span style=\"color: #808000; text-decoration-color: #808000\">...</span>                                                          <span style=\"color: #7f7f7f; text-decoration-color: #7f7f7f\">              </span>\n",
       "<span style=\"color: #7fbfbf; text-decoration-color: #7fbfbf\">                    </span>         <span style=\"color: #008080; text-decoration-color: #008080; font-weight: bold\">4166403</span>      <span style=\"color: #008080; text-decoration-color: #008080; font-weight: bold\">0.0</span>                                                        <span style=\"color: #7f7f7f; text-decoration-color: #7f7f7f\">              </span>\n",
       "<span style=\"color: #7fbfbf; text-decoration-color: #7fbfbf\">                    </span>         <span style=\"color: #008080; text-decoration-color: #008080; font-weight: bold\">4166385</span>      <span style=\"color: #008080; text-decoration-color: #008080; font-weight: bold\">0.0</span>                                                        <span style=\"color: #7f7f7f; text-decoration-color: #7f7f7f\">              </span>\n",
       "<span style=\"color: #7fbfbf; text-decoration-color: #7fbfbf\">                    </span>         <span style=\"color: #008080; text-decoration-color: #008080; font-weight: bold\">4165553</span>      <span style=\"color: #008080; text-decoration-color: #008080; font-weight: bold\">0.0</span>                                                        <span style=\"color: #7f7f7f; text-decoration-color: #7f7f7f\">              </span>\n",
       "<span style=\"color: #7fbfbf; text-decoration-color: #7fbfbf\">                    </span>         <span style=\"color: #008080; text-decoration-color: #008080; font-weight: bold\">4164744</span>      <span style=\"color: #008080; text-decoration-color: #008080; font-weight: bold\">0.0</span>                                                        <span style=\"color: #7f7f7f; text-decoration-color: #7f7f7f\">              </span>\n",
       "<span style=\"color: #7fbfbf; text-decoration-color: #7fbfbf\">                    </span>         <span style=\"color: #008080; text-decoration-color: #008080; font-weight: bold\">2179912</span>      <span style=\"color: #008080; text-decoration-color: #008080; font-weight: bold\">0.0</span>                                                        <span style=\"color: #7f7f7f; text-decoration-color: #7f7f7f\">              </span>\n",
       "<span style=\"color: #7fbfbf; text-decoration-color: #7fbfbf\">                    </span>         Name: ClaimFreq_TRG, Length: <span style=\"color: #008080; text-decoration-color: #008080; font-weight: bold\">26916</span>, dtype: float64                      <span style=\"color: #7f7f7f; text-decoration-color: #7f7f7f\">              </span>\n",
       "</pre>\n"
      ],
      "text/plain": [
       "\u001B[2;36m                   \u001B[0m\u001B[2;36m \u001B[0m\u001B[34mINFO    \u001B[0m fold: fold_4, trg values:                                               \u001B]8;id=796812;file:///tmp/ipykernel_2296198/288570815.py\u001B\\\u001B[2m288570815.py\u001B[0m\u001B]8;;\u001B\\\u001B[2m:\u001B[0m\u001B]8;id=525597;file:///tmp/ipykernel_2296198/288570815.py#3\u001B\\\u001B[2m3\u001B[0m\u001B]8;;\u001B\\\n",
       "\u001B[2;36m                    \u001B[0m         IDpol                                                                   \u001B[2m              \u001B[0m\n",
       "\u001B[2;36m                    \u001B[0m         \u001B[1;36m114918\u001B[0m     \u001B[1;36m100.0\u001B[0m                                                        \u001B[2m              \u001B[0m\n",
       "\u001B[2;36m                    \u001B[0m         \u001B[1;36m2606\u001B[0m       \u001B[1;36m100.0\u001B[0m                                                        \u001B[2m              \u001B[0m\n",
       "\u001B[2;36m                    \u001B[0m         \u001B[1;36m2204803\u001B[0m    \u001B[1;36m100.0\u001B[0m                                                        \u001B[2m              \u001B[0m\n",
       "\u001B[2;36m                    \u001B[0m         \u001B[1;36m1077599\u001B[0m    \u001B[1;36m100.0\u001B[0m                                                        \u001B[2m              \u001B[0m\n",
       "\u001B[2;36m                    \u001B[0m         \u001B[1;36m2054078\u001B[0m    \u001B[1;36m100.0\u001B[0m                                                        \u001B[2m              \u001B[0m\n",
       "\u001B[2;36m                    \u001B[0m                    \u001B[33m...\u001B[0m                                                          \u001B[2m              \u001B[0m\n",
       "\u001B[2;36m                    \u001B[0m         \u001B[1;36m4166403\u001B[0m      \u001B[1;36m0.0\u001B[0m                                                        \u001B[2m              \u001B[0m\n",
       "\u001B[2;36m                    \u001B[0m         \u001B[1;36m4166385\u001B[0m      \u001B[1;36m0.0\u001B[0m                                                        \u001B[2m              \u001B[0m\n",
       "\u001B[2;36m                    \u001B[0m         \u001B[1;36m4165553\u001B[0m      \u001B[1;36m0.0\u001B[0m                                                        \u001B[2m              \u001B[0m\n",
       "\u001B[2;36m                    \u001B[0m         \u001B[1;36m4164744\u001B[0m      \u001B[1;36m0.0\u001B[0m                                                        \u001B[2m              \u001B[0m\n",
       "\u001B[2;36m                    \u001B[0m         \u001B[1;36m2179912\u001B[0m      \u001B[1;36m0.0\u001B[0m                                                        \u001B[2m              \u001B[0m\n",
       "\u001B[2;36m                    \u001B[0m         Name: ClaimFreq_TRG, Length: \u001B[1;36m26916\u001B[0m, dtype: float64                      \u001B[2m              \u001B[0m\n"
      ]
     },
     "metadata": {},
     "output_type": "display_data"
    }
   ],
   "source": [
    "for fold, keys in train_keys.items():\n",
    "    trg = sample_target_part_df[\"ClaimFreq_TRG\"].loc[keys].sort_values(ascending=False)\n",
    "    logger.info(f\"fold: {fold}, trg values:\\n{trg}\")"
   ]
  },
  {
   "cell_type": "code",
   "execution_count": 140,
   "id": "d64fbd5e-10a4-40b8-8a89-c3071f1579a7",
   "metadata": {},
   "outputs": [
    {
     "name": "stdout",
     "output_type": "stream",
     "text": [
      "Stratified CV (Train/Test). Split into 5 folds. Average bin size: 8971.80. The sizes of the folds:\n",
      "    - fold 0: train: 35887 samples, test: 8972 samples (20.00%)\n",
      "    - fold 1: train: 35887 samples, test: 8972 samples (20.00%)\n",
      "    - fold 2: train: 35887 samples, test: 8972 samples (20.00%)\n",
      "    - fold 3: train: 35887 samples, test: 8972 samples (20.00%)\n",
      "    - fold 4: train: 35888 samples, test: 8971 samples (20.00%)\n"
     ]
    }
   ],
   "source": [
    "train_keys, val_keys = get_stratified_train_test_cv(sample_target_part_df,\n",
    "                                                                      stratify_target_col=\"ClaimFreq_TRG\",\n",
    "                                                                      cv_folds=5,\n",
    "                                                                      random_seed=0,\n",
    "                                                                      verbose=True,\n",
    "                                                                 cv_type='train_test')"
   ]
  },
  {
   "cell_type": "code",
   "execution_count": 142,
   "id": "31011005-8492-4db0-bb49-c826eccf37e6",
   "metadata": {},
   "outputs": [
    {
     "data": {
      "text/html": [
       "<pre style=\"white-space:pre;overflow-x:auto;line-height:normal;font-family:Menlo,'DejaVu Sans Mono',consolas,'Courier New',monospace\"><span style=\"color: #7fbfbf; text-decoration-color: #7fbfbf\">[09/21/24 17:52:47] </span><span style=\"color: #000080; text-decoration-color: #000080\">INFO    </span> fold: <span style=\"color: #008080; text-decoration-color: #008080; font-weight: bold\">0</span>, trg values:                                                    <a href=\"file:///tmp/ipykernel_2296198/466937485.py\" target=\"_blank\"><span style=\"color: #7f7f7f; text-decoration-color: #7f7f7f\">466937485.py</span></a><span style=\"color: #7f7f7f; text-decoration-color: #7f7f7f\">:</span><a href=\"file:///tmp/ipykernel_2296198/466937485.py#3\" target=\"_blank\"><span style=\"color: #7f7f7f; text-decoration-color: #7f7f7f\">3</span></a>\n",
       "<span style=\"color: #7fbfbf; text-decoration-color: #7fbfbf\">                    </span>         IDpol                                                                   <span style=\"color: #7f7f7f; text-decoration-color: #7f7f7f\">              </span>\n",
       "<span style=\"color: #7fbfbf; text-decoration-color: #7fbfbf\">                    </span>         <span style=\"color: #008080; text-decoration-color: #008080; font-weight: bold\">1149519</span>    <span style=\"color: #008080; text-decoration-color: #008080; font-weight: bold\">100.0</span>                                                        <span style=\"color: #7f7f7f; text-decoration-color: #7f7f7f\">              </span>\n",
       "<span style=\"color: #7fbfbf; text-decoration-color: #7fbfbf\">                    </span>         <span style=\"color: #008080; text-decoration-color: #008080; font-weight: bold\">68804</span>      <span style=\"color: #008080; text-decoration-color: #008080; font-weight: bold\">100.0</span>                                                        <span style=\"color: #7f7f7f; text-decoration-color: #7f7f7f\">              </span>\n",
       "<span style=\"color: #7fbfbf; text-decoration-color: #7fbfbf\">                    </span>         <span style=\"color: #008080; text-decoration-color: #008080; font-weight: bold\">2158137</span>    <span style=\"color: #008080; text-decoration-color: #008080; font-weight: bold\">100.0</span>                                                        <span style=\"color: #7f7f7f; text-decoration-color: #7f7f7f\">              </span>\n",
       "<span style=\"color: #7fbfbf; text-decoration-color: #7fbfbf\">                    </span>         <span style=\"color: #008080; text-decoration-color: #008080; font-weight: bold\">3029628</span>    <span style=\"color: #008080; text-decoration-color: #008080; font-weight: bold\">100.0</span>                                                        <span style=\"color: #7f7f7f; text-decoration-color: #7f7f7f\">              </span>\n",
       "<span style=\"color: #7fbfbf; text-decoration-color: #7fbfbf\">                    </span>         <span style=\"color: #008080; text-decoration-color: #008080; font-weight: bold\">63522</span>      <span style=\"color: #008080; text-decoration-color: #008080; font-weight: bold\">100.0</span>                                                        <span style=\"color: #7f7f7f; text-decoration-color: #7f7f7f\">              </span>\n",
       "<span style=\"color: #7fbfbf; text-decoration-color: #7fbfbf\">                    </span>                    <span style=\"color: #808000; text-decoration-color: #808000\">...</span>                                                          <span style=\"color: #7f7f7f; text-decoration-color: #7f7f7f\">              </span>\n",
       "<span style=\"color: #7fbfbf; text-decoration-color: #7fbfbf\">                    </span>         <span style=\"color: #008080; text-decoration-color: #008080; font-weight: bold\">4155238</span>      <span style=\"color: #008080; text-decoration-color: #008080; font-weight: bold\">0.0</span>                                                        <span style=\"color: #7f7f7f; text-decoration-color: #7f7f7f\">              </span>\n",
       "<span style=\"color: #7fbfbf; text-decoration-color: #7fbfbf\">                    </span>         <span style=\"color: #008080; text-decoration-color: #008080; font-weight: bold\">4155330</span>      <span style=\"color: #008080; text-decoration-color: #008080; font-weight: bold\">0.0</span>                                                        <span style=\"color: #7f7f7f; text-decoration-color: #7f7f7f\">              </span>\n",
       "<span style=\"color: #7fbfbf; text-decoration-color: #7fbfbf\">                    </span>         <span style=\"color: #008080; text-decoration-color: #008080; font-weight: bold\">4155499</span>      <span style=\"color: #008080; text-decoration-color: #008080; font-weight: bold\">0.0</span>                                                        <span style=\"color: #7f7f7f; text-decoration-color: #7f7f7f\">              </span>\n",
       "<span style=\"color: #7fbfbf; text-decoration-color: #7fbfbf\">                    </span>         <span style=\"color: #008080; text-decoration-color: #008080; font-weight: bold\">4155508</span>      <span style=\"color: #008080; text-decoration-color: #008080; font-weight: bold\">0.0</span>                                                        <span style=\"color: #7f7f7f; text-decoration-color: #7f7f7f\">              </span>\n",
       "<span style=\"color: #7fbfbf; text-decoration-color: #7fbfbf\">                    </span>         <span style=\"color: #008080; text-decoration-color: #008080; font-weight: bold\">6114327</span>      <span style=\"color: #008080; text-decoration-color: #008080; font-weight: bold\">0.0</span>                                                        <span style=\"color: #7f7f7f; text-decoration-color: #7f7f7f\">              </span>\n",
       "<span style=\"color: #7fbfbf; text-decoration-color: #7fbfbf\">                    </span>         Name: ClaimFreq_TRG, Length: <span style=\"color: #008080; text-decoration-color: #008080; font-weight: bold\">8972</span>, dtype: float64                       <span style=\"color: #7f7f7f; text-decoration-color: #7f7f7f\">              </span>\n",
       "</pre>\n"
      ],
      "text/plain": [
       "\u001B[2;36m[09/21/24 17:52:47]\u001B[0m\u001B[2;36m \u001B[0m\u001B[34mINFO    \u001B[0m fold: \u001B[1;36m0\u001B[0m, trg values:                                                    \u001B]8;id=231096;file:///tmp/ipykernel_2296198/466937485.py\u001B\\\u001B[2m466937485.py\u001B[0m\u001B]8;;\u001B\\\u001B[2m:\u001B[0m\u001B]8;id=807914;file:///tmp/ipykernel_2296198/466937485.py#3\u001B\\\u001B[2m3\u001B[0m\u001B]8;;\u001B\\\n",
       "\u001B[2;36m                    \u001B[0m         IDpol                                                                   \u001B[2m              \u001B[0m\n",
       "\u001B[2;36m                    \u001B[0m         \u001B[1;36m1149519\u001B[0m    \u001B[1;36m100.0\u001B[0m                                                        \u001B[2m              \u001B[0m\n",
       "\u001B[2;36m                    \u001B[0m         \u001B[1;36m68804\u001B[0m      \u001B[1;36m100.0\u001B[0m                                                        \u001B[2m              \u001B[0m\n",
       "\u001B[2;36m                    \u001B[0m         \u001B[1;36m2158137\u001B[0m    \u001B[1;36m100.0\u001B[0m                                                        \u001B[2m              \u001B[0m\n",
       "\u001B[2;36m                    \u001B[0m         \u001B[1;36m3029628\u001B[0m    \u001B[1;36m100.0\u001B[0m                                                        \u001B[2m              \u001B[0m\n",
       "\u001B[2;36m                    \u001B[0m         \u001B[1;36m63522\u001B[0m      \u001B[1;36m100.0\u001B[0m                                                        \u001B[2m              \u001B[0m\n",
       "\u001B[2;36m                    \u001B[0m                    \u001B[33m...\u001B[0m                                                          \u001B[2m              \u001B[0m\n",
       "\u001B[2;36m                    \u001B[0m         \u001B[1;36m4155238\u001B[0m      \u001B[1;36m0.0\u001B[0m                                                        \u001B[2m              \u001B[0m\n",
       "\u001B[2;36m                    \u001B[0m         \u001B[1;36m4155330\u001B[0m      \u001B[1;36m0.0\u001B[0m                                                        \u001B[2m              \u001B[0m\n",
       "\u001B[2;36m                    \u001B[0m         \u001B[1;36m4155499\u001B[0m      \u001B[1;36m0.0\u001B[0m                                                        \u001B[2m              \u001B[0m\n",
       "\u001B[2;36m                    \u001B[0m         \u001B[1;36m4155508\u001B[0m      \u001B[1;36m0.0\u001B[0m                                                        \u001B[2m              \u001B[0m\n",
       "\u001B[2;36m                    \u001B[0m         \u001B[1;36m6114327\u001B[0m      \u001B[1;36m0.0\u001B[0m                                                        \u001B[2m              \u001B[0m\n",
       "\u001B[2;36m                    \u001B[0m         Name: ClaimFreq_TRG, Length: \u001B[1;36m8972\u001B[0m, dtype: float64                       \u001B[2m              \u001B[0m\n"
      ]
     },
     "metadata": {},
     "output_type": "display_data"
    },
    {
     "data": {
      "text/html": [
       "<pre style=\"white-space:pre;overflow-x:auto;line-height:normal;font-family:Menlo,'DejaVu Sans Mono',consolas,'Courier New',monospace\"><span style=\"color: #7fbfbf; text-decoration-color: #7fbfbf\">                    </span><span style=\"color: #000080; text-decoration-color: #000080\">INFO    </span> fold: <span style=\"color: #008080; text-decoration-color: #008080; font-weight: bold\">1</span>, trg values:                                                    <a href=\"file:///tmp/ipykernel_2296198/466937485.py\" target=\"_blank\"><span style=\"color: #7f7f7f; text-decoration-color: #7f7f7f\">466937485.py</span></a><span style=\"color: #7f7f7f; text-decoration-color: #7f7f7f\">:</span><a href=\"file:///tmp/ipykernel_2296198/466937485.py#3\" target=\"_blank\"><span style=\"color: #7f7f7f; text-decoration-color: #7f7f7f\">3</span></a>\n",
       "<span style=\"color: #7fbfbf; text-decoration-color: #7fbfbf\">                    </span>         IDpol                                                                   <span style=\"color: #7f7f7f; text-decoration-color: #7f7f7f\">              </span>\n",
       "<span style=\"color: #7fbfbf; text-decoration-color: #7fbfbf\">                    </span>         <span style=\"color: #008080; text-decoration-color: #008080; font-weight: bold\">114918</span>     <span style=\"color: #008080; text-decoration-color: #008080; font-weight: bold\">100.0</span>                                                        <span style=\"color: #7f7f7f; text-decoration-color: #7f7f7f\">              </span>\n",
       "<span style=\"color: #7fbfbf; text-decoration-color: #7fbfbf\">                    </span>         <span style=\"color: #008080; text-decoration-color: #008080; font-weight: bold\">5105891</span>    <span style=\"color: #008080; text-decoration-color: #008080; font-weight: bold\">100.0</span>                                                        <span style=\"color: #7f7f7f; text-decoration-color: #7f7f7f\">              </span>\n",
       "<span style=\"color: #7fbfbf; text-decoration-color: #7fbfbf\">                    </span>         <span style=\"color: #008080; text-decoration-color: #008080; font-weight: bold\">2606</span>       <span style=\"color: #008080; text-decoration-color: #008080; font-weight: bold\">100.0</span>                                                        <span style=\"color: #7f7f7f; text-decoration-color: #7f7f7f\">              </span>\n",
       "<span style=\"color: #7fbfbf; text-decoration-color: #7fbfbf\">                    </span>         <span style=\"color: #008080; text-decoration-color: #008080; font-weight: bold\">2165895</span>    <span style=\"color: #008080; text-decoration-color: #008080; font-weight: bold\">100.0</span>                                                        <span style=\"color: #7f7f7f; text-decoration-color: #7f7f7f\">              </span>\n",
       "<span style=\"color: #7fbfbf; text-decoration-color: #7fbfbf\">                    </span>         <span style=\"color: #008080; text-decoration-color: #008080; font-weight: bold\">2113613</span>    <span style=\"color: #008080; text-decoration-color: #008080; font-weight: bold\">100.0</span>                                                        <span style=\"color: #7f7f7f; text-decoration-color: #7f7f7f\">              </span>\n",
       "<span style=\"color: #7fbfbf; text-decoration-color: #7fbfbf\">                    </span>                    <span style=\"color: #808000; text-decoration-color: #808000\">...</span>                                                          <span style=\"color: #7f7f7f; text-decoration-color: #7f7f7f\">              </span>\n",
       "<span style=\"color: #7fbfbf; text-decoration-color: #7fbfbf\">                    </span>         <span style=\"color: #008080; text-decoration-color: #008080; font-weight: bold\">4168757</span>      <span style=\"color: #008080; text-decoration-color: #008080; font-weight: bold\">0.0</span>                                                        <span style=\"color: #7f7f7f; text-decoration-color: #7f7f7f\">              </span>\n",
       "<span style=\"color: #7fbfbf; text-decoration-color: #7fbfbf\">                    </span>         <span style=\"color: #008080; text-decoration-color: #008080; font-weight: bold\">4169884</span>      <span style=\"color: #008080; text-decoration-color: #008080; font-weight: bold\">0.0</span>                                                        <span style=\"color: #7f7f7f; text-decoration-color: #7f7f7f\">              </span>\n",
       "<span style=\"color: #7fbfbf; text-decoration-color: #7fbfbf\">                    </span>         <span style=\"color: #008080; text-decoration-color: #008080; font-weight: bold\">4170005</span>      <span style=\"color: #008080; text-decoration-color: #008080; font-weight: bold\">0.0</span>                                                        <span style=\"color: #7f7f7f; text-decoration-color: #7f7f7f\">              </span>\n",
       "<span style=\"color: #7fbfbf; text-decoration-color: #7fbfbf\">                    </span>         <span style=\"color: #008080; text-decoration-color: #008080; font-weight: bold\">4170017</span>      <span style=\"color: #008080; text-decoration-color: #008080; font-weight: bold\">0.0</span>                                                        <span style=\"color: #7f7f7f; text-decoration-color: #7f7f7f\">              </span>\n",
       "<span style=\"color: #7fbfbf; text-decoration-color: #7fbfbf\">                    </span>         <span style=\"color: #008080; text-decoration-color: #008080; font-weight: bold\">2179912</span>      <span style=\"color: #008080; text-decoration-color: #008080; font-weight: bold\">0.0</span>                                                        <span style=\"color: #7f7f7f; text-decoration-color: #7f7f7f\">              </span>\n",
       "<span style=\"color: #7fbfbf; text-decoration-color: #7fbfbf\">                    </span>         Name: ClaimFreq_TRG, Length: <span style=\"color: #008080; text-decoration-color: #008080; font-weight: bold\">8972</span>, dtype: float64                       <span style=\"color: #7f7f7f; text-decoration-color: #7f7f7f\">              </span>\n",
       "</pre>\n"
      ],
      "text/plain": [
       "\u001B[2;36m                   \u001B[0m\u001B[2;36m \u001B[0m\u001B[34mINFO    \u001B[0m fold: \u001B[1;36m1\u001B[0m, trg values:                                                    \u001B]8;id=437877;file:///tmp/ipykernel_2296198/466937485.py\u001B\\\u001B[2m466937485.py\u001B[0m\u001B]8;;\u001B\\\u001B[2m:\u001B[0m\u001B]8;id=297623;file:///tmp/ipykernel_2296198/466937485.py#3\u001B\\\u001B[2m3\u001B[0m\u001B]8;;\u001B\\\n",
       "\u001B[2;36m                    \u001B[0m         IDpol                                                                   \u001B[2m              \u001B[0m\n",
       "\u001B[2;36m                    \u001B[0m         \u001B[1;36m114918\u001B[0m     \u001B[1;36m100.0\u001B[0m                                                        \u001B[2m              \u001B[0m\n",
       "\u001B[2;36m                    \u001B[0m         \u001B[1;36m5105891\u001B[0m    \u001B[1;36m100.0\u001B[0m                                                        \u001B[2m              \u001B[0m\n",
       "\u001B[2;36m                    \u001B[0m         \u001B[1;36m2606\u001B[0m       \u001B[1;36m100.0\u001B[0m                                                        \u001B[2m              \u001B[0m\n",
       "\u001B[2;36m                    \u001B[0m         \u001B[1;36m2165895\u001B[0m    \u001B[1;36m100.0\u001B[0m                                                        \u001B[2m              \u001B[0m\n",
       "\u001B[2;36m                    \u001B[0m         \u001B[1;36m2113613\u001B[0m    \u001B[1;36m100.0\u001B[0m                                                        \u001B[2m              \u001B[0m\n",
       "\u001B[2;36m                    \u001B[0m                    \u001B[33m...\u001B[0m                                                          \u001B[2m              \u001B[0m\n",
       "\u001B[2;36m                    \u001B[0m         \u001B[1;36m4168757\u001B[0m      \u001B[1;36m0.0\u001B[0m                                                        \u001B[2m              \u001B[0m\n",
       "\u001B[2;36m                    \u001B[0m         \u001B[1;36m4169884\u001B[0m      \u001B[1;36m0.0\u001B[0m                                                        \u001B[2m              \u001B[0m\n",
       "\u001B[2;36m                    \u001B[0m         \u001B[1;36m4170005\u001B[0m      \u001B[1;36m0.0\u001B[0m                                                        \u001B[2m              \u001B[0m\n",
       "\u001B[2;36m                    \u001B[0m         \u001B[1;36m4170017\u001B[0m      \u001B[1;36m0.0\u001B[0m                                                        \u001B[2m              \u001B[0m\n",
       "\u001B[2;36m                    \u001B[0m         \u001B[1;36m2179912\u001B[0m      \u001B[1;36m0.0\u001B[0m                                                        \u001B[2m              \u001B[0m\n",
       "\u001B[2;36m                    \u001B[0m         Name: ClaimFreq_TRG, Length: \u001B[1;36m8972\u001B[0m, dtype: float64                       \u001B[2m              \u001B[0m\n"
      ]
     },
     "metadata": {},
     "output_type": "display_data"
    },
    {
     "data": {
      "text/html": [
       "<pre style=\"white-space:pre;overflow-x:auto;line-height:normal;font-family:Menlo,'DejaVu Sans Mono',consolas,'Courier New',monospace\"><span style=\"color: #7fbfbf; text-decoration-color: #7fbfbf\">                    </span><span style=\"color: #000080; text-decoration-color: #000080\">INFO    </span> fold: <span style=\"color: #008080; text-decoration-color: #008080; font-weight: bold\">2</span>, trg values:                                                    <a href=\"file:///tmp/ipykernel_2296198/466937485.py\" target=\"_blank\"><span style=\"color: #7f7f7f; text-decoration-color: #7f7f7f\">466937485.py</span></a><span style=\"color: #7f7f7f; text-decoration-color: #7f7f7f\">:</span><a href=\"file:///tmp/ipykernel_2296198/466937485.py#3\" target=\"_blank\"><span style=\"color: #7f7f7f; text-decoration-color: #7f7f7f\">3</span></a>\n",
       "<span style=\"color: #7fbfbf; text-decoration-color: #7fbfbf\">                    </span>         IDpol                                                                   <span style=\"color: #7f7f7f; text-decoration-color: #7f7f7f\">              </span>\n",
       "<span style=\"color: #7fbfbf; text-decoration-color: #7fbfbf\">                    </span>         <span style=\"color: #008080; text-decoration-color: #008080; font-weight: bold\">2204803</span>    <span style=\"color: #008080; text-decoration-color: #008080; font-weight: bold\">100.0</span>                                                        <span style=\"color: #7f7f7f; text-decoration-color: #7f7f7f\">              </span>\n",
       "<span style=\"color: #7fbfbf; text-decoration-color: #7fbfbf\">                    </span>         <span style=\"color: #008080; text-decoration-color: #008080; font-weight: bold\">1079463</span>    <span style=\"color: #008080; text-decoration-color: #008080; font-weight: bold\">100.0</span>                                                        <span style=\"color: #7f7f7f; text-decoration-color: #7f7f7f\">              </span>\n",
       "<span style=\"color: #7fbfbf; text-decoration-color: #7fbfbf\">                    </span>         <span style=\"color: #008080; text-decoration-color: #008080; font-weight: bold\">3053542</span>    <span style=\"color: #008080; text-decoration-color: #008080; font-weight: bold\">100.0</span>                                                        <span style=\"color: #7f7f7f; text-decoration-color: #7f7f7f\">              </span>\n",
       "<span style=\"color: #7fbfbf; text-decoration-color: #7fbfbf\">                    </span>         <span style=\"color: #008080; text-decoration-color: #008080; font-weight: bold\">53865</span>      <span style=\"color: #008080; text-decoration-color: #008080; font-weight: bold\">100.0</span>                                                        <span style=\"color: #7f7f7f; text-decoration-color: #7f7f7f\">              </span>\n",
       "<span style=\"color: #7fbfbf; text-decoration-color: #7fbfbf\">                    </span>         <span style=\"color: #008080; text-decoration-color: #008080; font-weight: bold\">4140766</span>    <span style=\"color: #008080; text-decoration-color: #008080; font-weight: bold\">100.0</span>                                                        <span style=\"color: #7f7f7f; text-decoration-color: #7f7f7f\">              </span>\n",
       "<span style=\"color: #7fbfbf; text-decoration-color: #7fbfbf\">                    </span>                    <span style=\"color: #808000; text-decoration-color: #808000\">...</span>                                                          <span style=\"color: #7f7f7f; text-decoration-color: #7f7f7f\">              </span>\n",
       "<span style=\"color: #7fbfbf; text-decoration-color: #7fbfbf\">                    </span>         <span style=\"color: #008080; text-decoration-color: #008080; font-weight: bold\">4173713</span>      <span style=\"color: #008080; text-decoration-color: #008080; font-weight: bold\">0.0</span>                                                        <span style=\"color: #7f7f7f; text-decoration-color: #7f7f7f\">              </span>\n",
       "<span style=\"color: #7fbfbf; text-decoration-color: #7fbfbf\">                    </span>         <span style=\"color: #008080; text-decoration-color: #008080; font-weight: bold\">4173930</span>      <span style=\"color: #008080; text-decoration-color: #008080; font-weight: bold\">0.0</span>                                                        <span style=\"color: #7f7f7f; text-decoration-color: #7f7f7f\">              </span>\n",
       "<span style=\"color: #7fbfbf; text-decoration-color: #7fbfbf\">                    </span>         <span style=\"color: #008080; text-decoration-color: #008080; font-weight: bold\">4174042</span>      <span style=\"color: #008080; text-decoration-color: #008080; font-weight: bold\">0.0</span>                                                        <span style=\"color: #7f7f7f; text-decoration-color: #7f7f7f\">              </span>\n",
       "<span style=\"color: #7fbfbf; text-decoration-color: #7fbfbf\">                    </span>         <span style=\"color: #008080; text-decoration-color: #008080; font-weight: bold\">4174072</span>      <span style=\"color: #008080; text-decoration-color: #008080; font-weight: bold\">0.0</span>                                                        <span style=\"color: #7f7f7f; text-decoration-color: #7f7f7f\">              </span>\n",
       "<span style=\"color: #7fbfbf; text-decoration-color: #7fbfbf\">                    </span>         <span style=\"color: #008080; text-decoration-color: #008080; font-weight: bold\">2179944</span>      <span style=\"color: #008080; text-decoration-color: #008080; font-weight: bold\">0.0</span>                                                        <span style=\"color: #7f7f7f; text-decoration-color: #7f7f7f\">              </span>\n",
       "<span style=\"color: #7fbfbf; text-decoration-color: #7fbfbf\">                    </span>         Name: ClaimFreq_TRG, Length: <span style=\"color: #008080; text-decoration-color: #008080; font-weight: bold\">8972</span>, dtype: float64                       <span style=\"color: #7f7f7f; text-decoration-color: #7f7f7f\">              </span>\n",
       "</pre>\n"
      ],
      "text/plain": [
       "\u001B[2;36m                   \u001B[0m\u001B[2;36m \u001B[0m\u001B[34mINFO    \u001B[0m fold: \u001B[1;36m2\u001B[0m, trg values:                                                    \u001B]8;id=254594;file:///tmp/ipykernel_2296198/466937485.py\u001B\\\u001B[2m466937485.py\u001B[0m\u001B]8;;\u001B\\\u001B[2m:\u001B[0m\u001B]8;id=835375;file:///tmp/ipykernel_2296198/466937485.py#3\u001B\\\u001B[2m3\u001B[0m\u001B]8;;\u001B\\\n",
       "\u001B[2;36m                    \u001B[0m         IDpol                                                                   \u001B[2m              \u001B[0m\n",
       "\u001B[2;36m                    \u001B[0m         \u001B[1;36m2204803\u001B[0m    \u001B[1;36m100.0\u001B[0m                                                        \u001B[2m              \u001B[0m\n",
       "\u001B[2;36m                    \u001B[0m         \u001B[1;36m1079463\u001B[0m    \u001B[1;36m100.0\u001B[0m                                                        \u001B[2m              \u001B[0m\n",
       "\u001B[2;36m                    \u001B[0m         \u001B[1;36m3053542\u001B[0m    \u001B[1;36m100.0\u001B[0m                                                        \u001B[2m              \u001B[0m\n",
       "\u001B[2;36m                    \u001B[0m         \u001B[1;36m53865\u001B[0m      \u001B[1;36m100.0\u001B[0m                                                        \u001B[2m              \u001B[0m\n",
       "\u001B[2;36m                    \u001B[0m         \u001B[1;36m4140766\u001B[0m    \u001B[1;36m100.0\u001B[0m                                                        \u001B[2m              \u001B[0m\n",
       "\u001B[2;36m                    \u001B[0m                    \u001B[33m...\u001B[0m                                                          \u001B[2m              \u001B[0m\n",
       "\u001B[2;36m                    \u001B[0m         \u001B[1;36m4173713\u001B[0m      \u001B[1;36m0.0\u001B[0m                                                        \u001B[2m              \u001B[0m\n",
       "\u001B[2;36m                    \u001B[0m         \u001B[1;36m4173930\u001B[0m      \u001B[1;36m0.0\u001B[0m                                                        \u001B[2m              \u001B[0m\n",
       "\u001B[2;36m                    \u001B[0m         \u001B[1;36m4174042\u001B[0m      \u001B[1;36m0.0\u001B[0m                                                        \u001B[2m              \u001B[0m\n",
       "\u001B[2;36m                    \u001B[0m         \u001B[1;36m4174072\u001B[0m      \u001B[1;36m0.0\u001B[0m                                                        \u001B[2m              \u001B[0m\n",
       "\u001B[2;36m                    \u001B[0m         \u001B[1;36m2179944\u001B[0m      \u001B[1;36m0.0\u001B[0m                                                        \u001B[2m              \u001B[0m\n",
       "\u001B[2;36m                    \u001B[0m         Name: ClaimFreq_TRG, Length: \u001B[1;36m8972\u001B[0m, dtype: float64                       \u001B[2m              \u001B[0m\n"
      ]
     },
     "metadata": {},
     "output_type": "display_data"
    },
    {
     "data": {
      "text/html": [
       "<pre style=\"white-space:pre;overflow-x:auto;line-height:normal;font-family:Menlo,'DejaVu Sans Mono',consolas,'Courier New',monospace\"><span style=\"color: #7fbfbf; text-decoration-color: #7fbfbf\">                    </span><span style=\"color: #000080; text-decoration-color: #000080\">INFO    </span> fold: <span style=\"color: #008080; text-decoration-color: #008080; font-weight: bold\">3</span>, trg values:                                                    <a href=\"file:///tmp/ipykernel_2296198/466937485.py\" target=\"_blank\"><span style=\"color: #7f7f7f; text-decoration-color: #7f7f7f\">466937485.py</span></a><span style=\"color: #7f7f7f; text-decoration-color: #7f7f7f\">:</span><a href=\"file:///tmp/ipykernel_2296198/466937485.py#3\" target=\"_blank\"><span style=\"color: #7f7f7f; text-decoration-color: #7f7f7f\">3</span></a>\n",
       "<span style=\"color: #7fbfbf; text-decoration-color: #7fbfbf\">                    </span>         IDpol                                                                   <span style=\"color: #7f7f7f; text-decoration-color: #7f7f7f\">              </span>\n",
       "<span style=\"color: #7fbfbf; text-decoration-color: #7fbfbf\">                    </span>         <span style=\"color: #008080; text-decoration-color: #008080; font-weight: bold\">5063326</span>    <span style=\"color: #008080; text-decoration-color: #008080; font-weight: bold\">100.0</span>                                                        <span style=\"color: #7f7f7f; text-decoration-color: #7f7f7f\">              </span>\n",
       "<span style=\"color: #7fbfbf; text-decoration-color: #7fbfbf\">                    </span>         <span style=\"color: #008080; text-decoration-color: #008080; font-weight: bold\">3114873</span>    <span style=\"color: #008080; text-decoration-color: #008080; font-weight: bold\">100.0</span>                                                        <span style=\"color: #7f7f7f; text-decoration-color: #7f7f7f\">              </span>\n",
       "<span style=\"color: #7fbfbf; text-decoration-color: #7fbfbf\">                    </span>         <span style=\"color: #008080; text-decoration-color: #008080; font-weight: bold\">2064279</span>    <span style=\"color: #008080; text-decoration-color: #008080; font-weight: bold\">100.0</span>                                                        <span style=\"color: #7f7f7f; text-decoration-color: #7f7f7f\">              </span>\n",
       "<span style=\"color: #7fbfbf; text-decoration-color: #7fbfbf\">                    </span>         <span style=\"color: #008080; text-decoration-color: #008080; font-weight: bold\">1077599</span>    <span style=\"color: #008080; text-decoration-color: #008080; font-weight: bold\">100.0</span>                                                        <span style=\"color: #7f7f7f; text-decoration-color: #7f7f7f\">              </span>\n",
       "<span style=\"color: #7fbfbf; text-decoration-color: #7fbfbf\">                    </span>         <span style=\"color: #008080; text-decoration-color: #008080; font-weight: bold\">2054078</span>    <span style=\"color: #008080; text-decoration-color: #008080; font-weight: bold\">100.0</span>                                                        <span style=\"color: #7f7f7f; text-decoration-color: #7f7f7f\">              </span>\n",
       "<span style=\"color: #7fbfbf; text-decoration-color: #7fbfbf\">                    </span>                    <span style=\"color: #808000; text-decoration-color: #808000\">...</span>                                                          <span style=\"color: #7f7f7f; text-decoration-color: #7f7f7f\">              </span>\n",
       "<span style=\"color: #7fbfbf; text-decoration-color: #7fbfbf\">                    </span>         <span style=\"color: #008080; text-decoration-color: #008080; font-weight: bold\">4174760</span>      <span style=\"color: #008080; text-decoration-color: #008080; font-weight: bold\">0.0</span>                                                        <span style=\"color: #7f7f7f; text-decoration-color: #7f7f7f\">              </span>\n",
       "<span style=\"color: #7fbfbf; text-decoration-color: #7fbfbf\">                    </span>         <span style=\"color: #008080; text-decoration-color: #008080; font-weight: bold\">4175515</span>      <span style=\"color: #008080; text-decoration-color: #008080; font-weight: bold\">0.0</span>                                                        <span style=\"color: #7f7f7f; text-decoration-color: #7f7f7f\">              </span>\n",
       "<span style=\"color: #7fbfbf; text-decoration-color: #7fbfbf\">                    </span>         <span style=\"color: #008080; text-decoration-color: #008080; font-weight: bold\">4175059</span>      <span style=\"color: #008080; text-decoration-color: #008080; font-weight: bold\">0.0</span>                                                        <span style=\"color: #7f7f7f; text-decoration-color: #7f7f7f\">              </span>\n",
       "<span style=\"color: #7fbfbf; text-decoration-color: #7fbfbf\">                    </span>         <span style=\"color: #008080; text-decoration-color: #008080; font-weight: bold\">4173388</span>      <span style=\"color: #008080; text-decoration-color: #008080; font-weight: bold\">0.0</span>                                                        <span style=\"color: #7f7f7f; text-decoration-color: #7f7f7f\">              </span>\n",
       "<span style=\"color: #7fbfbf; text-decoration-color: #7fbfbf\">                    </span>         <span style=\"color: #008080; text-decoration-color: #008080; font-weight: bold\">2180215</span>      <span style=\"color: #008080; text-decoration-color: #008080; font-weight: bold\">0.0</span>                                                        <span style=\"color: #7f7f7f; text-decoration-color: #7f7f7f\">              </span>\n",
       "<span style=\"color: #7fbfbf; text-decoration-color: #7fbfbf\">                    </span>         Name: ClaimFreq_TRG, Length: <span style=\"color: #008080; text-decoration-color: #008080; font-weight: bold\">8972</span>, dtype: float64                       <span style=\"color: #7f7f7f; text-decoration-color: #7f7f7f\">              </span>\n",
       "</pre>\n"
      ],
      "text/plain": [
       "\u001B[2;36m                   \u001B[0m\u001B[2;36m \u001B[0m\u001B[34mINFO    \u001B[0m fold: \u001B[1;36m3\u001B[0m, trg values:                                                    \u001B]8;id=772404;file:///tmp/ipykernel_2296198/466937485.py\u001B\\\u001B[2m466937485.py\u001B[0m\u001B]8;;\u001B\\\u001B[2m:\u001B[0m\u001B]8;id=338959;file:///tmp/ipykernel_2296198/466937485.py#3\u001B\\\u001B[2m3\u001B[0m\u001B]8;;\u001B\\\n",
       "\u001B[2;36m                    \u001B[0m         IDpol                                                                   \u001B[2m              \u001B[0m\n",
       "\u001B[2;36m                    \u001B[0m         \u001B[1;36m5063326\u001B[0m    \u001B[1;36m100.0\u001B[0m                                                        \u001B[2m              \u001B[0m\n",
       "\u001B[2;36m                    \u001B[0m         \u001B[1;36m3114873\u001B[0m    \u001B[1;36m100.0\u001B[0m                                                        \u001B[2m              \u001B[0m\n",
       "\u001B[2;36m                    \u001B[0m         \u001B[1;36m2064279\u001B[0m    \u001B[1;36m100.0\u001B[0m                                                        \u001B[2m              \u001B[0m\n",
       "\u001B[2;36m                    \u001B[0m         \u001B[1;36m1077599\u001B[0m    \u001B[1;36m100.0\u001B[0m                                                        \u001B[2m              \u001B[0m\n",
       "\u001B[2;36m                    \u001B[0m         \u001B[1;36m2054078\u001B[0m    \u001B[1;36m100.0\u001B[0m                                                        \u001B[2m              \u001B[0m\n",
       "\u001B[2;36m                    \u001B[0m                    \u001B[33m...\u001B[0m                                                          \u001B[2m              \u001B[0m\n",
       "\u001B[2;36m                    \u001B[0m         \u001B[1;36m4174760\u001B[0m      \u001B[1;36m0.0\u001B[0m                                                        \u001B[2m              \u001B[0m\n",
       "\u001B[2;36m                    \u001B[0m         \u001B[1;36m4175515\u001B[0m      \u001B[1;36m0.0\u001B[0m                                                        \u001B[2m              \u001B[0m\n",
       "\u001B[2;36m                    \u001B[0m         \u001B[1;36m4175059\u001B[0m      \u001B[1;36m0.0\u001B[0m                                                        \u001B[2m              \u001B[0m\n",
       "\u001B[2;36m                    \u001B[0m         \u001B[1;36m4173388\u001B[0m      \u001B[1;36m0.0\u001B[0m                                                        \u001B[2m              \u001B[0m\n",
       "\u001B[2;36m                    \u001B[0m         \u001B[1;36m2180215\u001B[0m      \u001B[1;36m0.0\u001B[0m                                                        \u001B[2m              \u001B[0m\n",
       "\u001B[2;36m                    \u001B[0m         Name: ClaimFreq_TRG, Length: \u001B[1;36m8972\u001B[0m, dtype: float64                       \u001B[2m              \u001B[0m\n"
      ]
     },
     "metadata": {},
     "output_type": "display_data"
    },
    {
     "data": {
      "text/html": [
       "<pre style=\"white-space:pre;overflow-x:auto;line-height:normal;font-family:Menlo,'DejaVu Sans Mono',consolas,'Courier New',monospace\"><span style=\"color: #7fbfbf; text-decoration-color: #7fbfbf\">                    </span><span style=\"color: #000080; text-decoration-color: #000080\">INFO    </span> fold: <span style=\"color: #008080; text-decoration-color: #008080; font-weight: bold\">4</span>, trg values:                                                    <a href=\"file:///tmp/ipykernel_2296198/466937485.py\" target=\"_blank\"><span style=\"color: #7f7f7f; text-decoration-color: #7f7f7f\">466937485.py</span></a><span style=\"color: #7f7f7f; text-decoration-color: #7f7f7f\">:</span><a href=\"file:///tmp/ipykernel_2296198/466937485.py#3\" target=\"_blank\"><span style=\"color: #7f7f7f; text-decoration-color: #7f7f7f\">3</span></a>\n",
       "<span style=\"color: #7fbfbf; text-decoration-color: #7fbfbf\">                    </span>         IDpol                                                                   <span style=\"color: #7f7f7f; text-decoration-color: #7f7f7f\">              </span>\n",
       "<span style=\"color: #7fbfbf; text-decoration-color: #7fbfbf\">                    </span>         <span style=\"color: #008080; text-decoration-color: #008080; font-weight: bold\">4059223</span>    <span style=\"color: #008080; text-decoration-color: #008080; font-weight: bold\">100.0</span>                                                        <span style=\"color: #7f7f7f; text-decoration-color: #7f7f7f\">              </span>\n",
       "<span style=\"color: #7fbfbf; text-decoration-color: #7fbfbf\">                    </span>         <span style=\"color: #008080; text-decoration-color: #008080; font-weight: bold\">4151182</span>    <span style=\"color: #008080; text-decoration-color: #008080; font-weight: bold\">100.0</span>                                                        <span style=\"color: #7f7f7f; text-decoration-color: #7f7f7f\">              </span>\n",
       "<span style=\"color: #7fbfbf; text-decoration-color: #7fbfbf\">                    </span>         <span style=\"color: #008080; text-decoration-color: #008080; font-weight: bold\">2154180</span>    <span style=\"color: #008080; text-decoration-color: #008080; font-weight: bold\">100.0</span>                                                        <span style=\"color: #7f7f7f; text-decoration-color: #7f7f7f\">              </span>\n",
       "<span style=\"color: #7fbfbf; text-decoration-color: #7fbfbf\">                    </span>         <span style=\"color: #008080; text-decoration-color: #008080; font-weight: bold\">2211358</span>    <span style=\"color: #008080; text-decoration-color: #008080; font-weight: bold\">100.0</span>                                                        <span style=\"color: #7f7f7f; text-decoration-color: #7f7f7f\">              </span>\n",
       "<span style=\"color: #7fbfbf; text-decoration-color: #7fbfbf\">                    </span>         <span style=\"color: #008080; text-decoration-color: #008080; font-weight: bold\">58084</span>      <span style=\"color: #008080; text-decoration-color: #008080; font-weight: bold\">100.0</span>                                                        <span style=\"color: #7f7f7f; text-decoration-color: #7f7f7f\">              </span>\n",
       "<span style=\"color: #7fbfbf; text-decoration-color: #7fbfbf\">                    </span>                    <span style=\"color: #808000; text-decoration-color: #808000\">...</span>                                                          <span style=\"color: #7f7f7f; text-decoration-color: #7f7f7f\">              </span>\n",
       "<span style=\"color: #7fbfbf; text-decoration-color: #7fbfbf\">                    </span>         <span style=\"color: #008080; text-decoration-color: #008080; font-weight: bold\">4171349</span>      <span style=\"color: #008080; text-decoration-color: #008080; font-weight: bold\">0.0</span>                                                        <span style=\"color: #7f7f7f; text-decoration-color: #7f7f7f\">              </span>\n",
       "<span style=\"color: #7fbfbf; text-decoration-color: #7fbfbf\">                    </span>         <span style=\"color: #008080; text-decoration-color: #008080; font-weight: bold\">4171376</span>      <span style=\"color: #008080; text-decoration-color: #008080; font-weight: bold\">0.0</span>                                                        <span style=\"color: #7f7f7f; text-decoration-color: #7f7f7f\">              </span>\n",
       "<span style=\"color: #7fbfbf; text-decoration-color: #7fbfbf\">                    </span>         <span style=\"color: #008080; text-decoration-color: #008080; font-weight: bold\">4171511</span>      <span style=\"color: #008080; text-decoration-color: #008080; font-weight: bold\">0.0</span>                                                        <span style=\"color: #7f7f7f; text-decoration-color: #7f7f7f\">              </span>\n",
       "<span style=\"color: #7fbfbf; text-decoration-color: #7fbfbf\">                    </span>         <span style=\"color: #008080; text-decoration-color: #008080; font-weight: bold\">4171558</span>      <span style=\"color: #008080; text-decoration-color: #008080; font-weight: bold\">0.0</span>                                                        <span style=\"color: #7f7f7f; text-decoration-color: #7f7f7f\">              </span>\n",
       "<span style=\"color: #7fbfbf; text-decoration-color: #7fbfbf\">                    </span>         <span style=\"color: #008080; text-decoration-color: #008080; font-weight: bold\">2180426</span>      <span style=\"color: #008080; text-decoration-color: #008080; font-weight: bold\">0.0</span>                                                        <span style=\"color: #7f7f7f; text-decoration-color: #7f7f7f\">              </span>\n",
       "<span style=\"color: #7fbfbf; text-decoration-color: #7fbfbf\">                    </span>         Name: ClaimFreq_TRG, Length: <span style=\"color: #008080; text-decoration-color: #008080; font-weight: bold\">8971</span>, dtype: float64                       <span style=\"color: #7f7f7f; text-decoration-color: #7f7f7f\">              </span>\n",
       "</pre>\n"
      ],
      "text/plain": [
       "\u001B[2;36m                   \u001B[0m\u001B[2;36m \u001B[0m\u001B[34mINFO    \u001B[0m fold: \u001B[1;36m4\u001B[0m, trg values:                                                    \u001B]8;id=668003;file:///tmp/ipykernel_2296198/466937485.py\u001B\\\u001B[2m466937485.py\u001B[0m\u001B]8;;\u001B\\\u001B[2m:\u001B[0m\u001B]8;id=439151;file:///tmp/ipykernel_2296198/466937485.py#3\u001B\\\u001B[2m3\u001B[0m\u001B]8;;\u001B\\\n",
       "\u001B[2;36m                    \u001B[0m         IDpol                                                                   \u001B[2m              \u001B[0m\n",
       "\u001B[2;36m                    \u001B[0m         \u001B[1;36m4059223\u001B[0m    \u001B[1;36m100.0\u001B[0m                                                        \u001B[2m              \u001B[0m\n",
       "\u001B[2;36m                    \u001B[0m         \u001B[1;36m4151182\u001B[0m    \u001B[1;36m100.0\u001B[0m                                                        \u001B[2m              \u001B[0m\n",
       "\u001B[2;36m                    \u001B[0m         \u001B[1;36m2154180\u001B[0m    \u001B[1;36m100.0\u001B[0m                                                        \u001B[2m              \u001B[0m\n",
       "\u001B[2;36m                    \u001B[0m         \u001B[1;36m2211358\u001B[0m    \u001B[1;36m100.0\u001B[0m                                                        \u001B[2m              \u001B[0m\n",
       "\u001B[2;36m                    \u001B[0m         \u001B[1;36m58084\u001B[0m      \u001B[1;36m100.0\u001B[0m                                                        \u001B[2m              \u001B[0m\n",
       "\u001B[2;36m                    \u001B[0m                    \u001B[33m...\u001B[0m                                                          \u001B[2m              \u001B[0m\n",
       "\u001B[2;36m                    \u001B[0m         \u001B[1;36m4171349\u001B[0m      \u001B[1;36m0.0\u001B[0m                                                        \u001B[2m              \u001B[0m\n",
       "\u001B[2;36m                    \u001B[0m         \u001B[1;36m4171376\u001B[0m      \u001B[1;36m0.0\u001B[0m                                                        \u001B[2m              \u001B[0m\n",
       "\u001B[2;36m                    \u001B[0m         \u001B[1;36m4171511\u001B[0m      \u001B[1;36m0.0\u001B[0m                                                        \u001B[2m              \u001B[0m\n",
       "\u001B[2;36m                    \u001B[0m         \u001B[1;36m4171558\u001B[0m      \u001B[1;36m0.0\u001B[0m                                                        \u001B[2m              \u001B[0m\n",
       "\u001B[2;36m                    \u001B[0m         \u001B[1;36m2180426\u001B[0m      \u001B[1;36m0.0\u001B[0m                                                        \u001B[2m              \u001B[0m\n",
       "\u001B[2;36m                    \u001B[0m         Name: ClaimFreq_TRG, Length: \u001B[1;36m8971\u001B[0m, dtype: float64                       \u001B[2m              \u001B[0m\n"
      ]
     },
     "metadata": {},
     "output_type": "display_data"
    }
   ],
   "source": [
    "for fold, keys in val_keys.items():\n",
    "    trg = sample_target_part_df[\"ClaimFreq_TRG\"].loc[keys].sort_values(ascending=False)\n",
    "    logger.info(f\"fold: {fold}, trg values:\\n{trg}\")"
   ]
  },
  {
   "cell_type": "code",
   "execution_count": 65,
   "id": "06b63f83-fadd-4f70-8c16-d006b2e7faa9",
   "metadata": {},
   "outputs": [],
   "source": [
    "calibrated_calib_predictions_df = catalog.load(\"calibrated_test_predictions_df\")"
   ]
  },
  {
   "cell_type": "code",
   "execution_count": 66,
   "id": "82eaef47-e2b5-4393-a610-cd4e7fc050a9",
   "metadata": {},
   "outputs": [],
   "source": [
    "calibrated_calib_predictions_df.head()"
   ]
  },
  {
   "cell_type": "code",
   "execution_count": 64,
   "id": "696fd9a6-c12d-4cee-b699-c386a288f7b4",
   "metadata": {
    "scrolled": true
   },
   "outputs": [],
   "source": [
    "task_out = my_kedro.run(pipeline_name=\"test\", level=\"DEBUG\")"
   ]
  },
  {
   "cell_type": "code",
   "execution_count": 5,
   "id": "ab3eb5a3-cde6-42d3-941d-6113d7ab0e29",
   "metadata": {
    "scrolled": true
   },
   "outputs": [],
   "source": [
    "task_out = my_kedro.run(pipeline_name=\"ds\", node_names=[\"process_parameters\", \"select_features\"])"
   ]
  },
  {
   "cell_type": "code",
   "execution_count": 30,
   "id": "86833c22-2a65-4d12-aeae-743d25d9d94b",
   "metadata": {},
   "outputs": [],
   "source": [
    "task_out = my_kedro.run(pipeline_name=\"ds\", node_names=[\"process_parameters\", \"fit_predictive_model\"])"
   ]
  },
  {
   "cell_type": "code",
   "execution_count": 74,
   "id": "c3797cd6-9bb5-4b12-8973-fde74711c37f",
   "metadata": {},
   "outputs": [],
   "source": [
    "# catalog.list()"
   ]
  },
  {
   "cell_type": "code",
   "execution_count": 301,
   "id": "fb24dd01-56bc-48a9-ac68-02905388f676",
   "metadata": {},
   "outputs": [],
   "source": [
    "sample_features_df = catalog.load(\"sample_features_df\")"
   ]
  },
  {
   "cell_type": "code",
   "execution_count": 214,
   "id": "8722f4f3-9bdc-4e18-b5d2-a1480aba5d53",
   "metadata": {},
   "outputs": [],
   "source": [
    "sample_features_df.head()"
   ]
  },
  {
   "cell_type": "code",
   "execution_count": 5,
   "id": "bfa78e6d-3144-4323-a18c-3711f95e250c",
   "metadata": {},
   "outputs": [],
   "source": [
    "transformed_sample_features_df = catalog.load(\"transformed_sample_features_df\")\n",
    "sample_target_df = catalog.load(\"sample_target_df\")"
   ]
  },
  {
   "cell_type": "code",
   "execution_count": 216,
   "id": "a9fe29cc-4304-42a6-a665-8ae861ab7fdf",
   "metadata": {},
   "outputs": [],
   "source": [
    "transformed_sample_features_df.head()"
   ]
  },
  {
   "cell_type": "code",
   "execution_count": 57,
   "id": "408d4fcb-b008-4929-962c-c8de23bb42ac",
   "metadata": {},
   "outputs": [],
   "source": [
    "rfe.get_selected_features()"
   ]
  },
  {
   "cell_type": "code",
   "execution_count": 60,
   "id": "0907e437-757f-4ddb-8f27-a3d5c02d0347",
   "metadata": {},
   "outputs": [],
   "source": [
    "transformed_sample_features_df.loc[:,rfe._selected_features]"
   ]
  },
  {
   "cell_type": "code",
   "execution_count": 217,
   "id": "15392c42-4595-4b8c-8d67-0760e2358c34",
   "metadata": {},
   "outputs": [],
   "source": [
    "transformed_sample_features_df.describe()"
   ]
  },
  {
   "cell_type": "code",
   "execution_count": 218,
   "id": "e62ba5d5-8c8a-4254-be16-ec89301932ee",
   "metadata": {},
   "outputs": [],
   "source": [
    "sample_target_df.head()"
   ]
  },
  {
   "cell_type": "code",
   "execution_count": 219,
   "id": "bfab9441-b3b3-4fc3-884a-fc7dad0aada5",
   "metadata": {},
   "outputs": [],
   "source": [
    "config.mdl_task.target_col"
   ]
  },
  {
   "cell_type": "code",
   "execution_count": 220,
   "id": "97437844-cc16-4968-b3eb-182b4e820763",
   "metadata": {},
   "outputs": [],
   "source": [
    "config.mdl_task.prediction_col"
   ]
  },
  {
   "cell_type": "code",
   "execution_count": 43,
   "id": "970c2863-cee4-4f4d-91b9-34d6f13c6996",
   "metadata": {},
   "outputs": [],
   "source": [
    "rfe = RecursiveFeatureEliminationSelector(config)\n",
    "rfe.fit(transformed_sample_features_df, sample_target_df)\n",
    "rfe.get_features_importance()"
   ]
  },
  {
   "cell_type": "code",
   "execution_count": 40,
   "id": "acefd715-3e2e-4d2a-96b6-7706584cda80",
   "metadata": {},
   "outputs": [],
   "source": [
    "importance = rfe.selector.estimator_.get_features_importance().copy()\n",
    "importance.index = rfe.selector.feature_names_in_[importance.index]\n",
    "importance"
   ]
  },
  {
   "cell_type": "code",
   "execution_count": 30,
   "id": "8750db34-6063-49f0-a05e-d027ff52f183",
   "metadata": {},
   "outputs": [],
   "source": [
    "rfe.selector.feature_names_in_"
   ]
  },
  {
   "cell_type": "code",
   "execution_count": 46,
   "id": "277f42bc-58d4-4fb3-bc9d-497bd4ebdffd",
   "metadata": {},
   "outputs": [],
   "source": [
    "\"\\n\".join(rfe.get_selected_features().tolist())"
   ]
  },
  {
   "cell_type": "code",
   "execution_count": 29,
   "id": "f9059d4b-206a-4e5c-aa6f-456329a2f13f",
   "metadata": {},
   "outputs": [],
   "source": "rfe.selector.feature_names_in_ rfe.selector.estimator_.get_features_importance()"
  },
  {
   "cell_type": "code",
   "execution_count": 15,
   "id": "43179b3d-3b62-4ab8-afcc-a1f442719507",
   "metadata": {},
   "outputs": [],
   "source": "rfe.get_features_importance()"
  },
  {
   "cell_type": "code",
   "execution_count": 24,
   "id": "e82a5b23-289c-43c6-bbb8-3601eb0f4493",
   "metadata": {},
   "outputs": [],
   "source": [
    "rfe.get_selected_features()"
   ]
  },
  {
   "cell_type": "code",
   "execution_count": 20,
   "id": "91d2e291-5d39-4831-8708-2628c279046a",
   "metadata": {},
   "outputs": [],
   "source": [
    "pd.Series(1 / rfe.selector.ranking_, index=pd.Index(rfe.selector.feature_names_in_))"
   ]
  },
  {
   "cell_type": "code",
   "execution_count": 401,
   "id": "0cea7602-cd1c-47fd-a8f8-a39f50ab2b65",
   "metadata": {},
   "outputs": [],
   "source": [
    "# from solvency_models.pipelines.p07_data_science.models.glm import GeneralizedLinearModel\n",
    "glm = GeneralizedLinearModel(config)\n",
    "glm.fit(transformed_sample_features_df, sample_target_df)\n",
    "glm.get_features_importance()"
   ]
  },
  {
   "cell_type": "code",
   "execution_count": 363,
   "id": "9bdc6593-d992-4619-9b68-95c9fed1513d",
   "metadata": {},
   "outputs": [],
   "source": [
    "rfe.selector.feature_names_in_"
   ]
  },
  {
   "cell_type": "code",
   "execution_count": 365,
   "id": "951eae78-a019-4452-9975-bd81c4142d5e",
   "metadata": {},
   "outputs": [],
   "source": [
    "rfe.selector.support_"
   ]
  },
  {
   "cell_type": "code",
   "execution_count": 364,
   "id": "b9350f60-4b22-4c22-a73f-e520d83294bc",
   "metadata": {},
   "outputs": [],
   "source": [
    "rfe.selector.feature_names_in_[rfe.selector.support_]"
   ]
  },
  {
   "cell_type": "code",
   "execution_count": 312,
   "id": "45d44671-6a96-4768-aaeb-0155c7e758a9",
   "metadata": {},
   "outputs": [],
   "source": [
    "lasso.get_selected_features()"
   ]
  },
  {
   "cell_type": "code",
   "execution_count": null,
   "id": "27d1c688-92be-4e14-b072-25e9aa4f625e",
   "metadata": {},
   "outputs": [],
   "source": []
  },
  {
   "cell_type": "code",
   "execution_count": 176,
   "id": "013531b2-84be-41c2-ac84-23b71cb15d30",
   "metadata": {},
   "outputs": [],
   "source": [
    "model = GeneralizedLinearModel(config)"
   ]
  },
  {
   "cell_type": "code",
   "execution_count": 177,
   "id": "c6e35547-a89b-41dd-938b-228e384d4df2",
   "metadata": {},
   "outputs": [],
   "source": [
    "model.fit(transformed_sample_features_df, sample_target_df)"
   ]
  },
  {
   "cell_type": "code",
   "execution_count": 178,
   "id": "b94de06f-e987-4a02-b2f6-8d92eb9849b8",
   "metadata": {},
   "outputs": [],
   "source": [
    "prediction_df = model.predict(transformed_sample_features_df)"
   ]
  },
  {
   "cell_type": "code",
   "execution_count": 173,
   "id": "909272b5-adff-4b83-a257-288e4dfd8b79",
   "metadata": {},
   "outputs": [],
   "source": [
    "s = pd.Series([0, 1, 2, 3, 4])\n",
    "pd.DataFrame(s)"
   ]
  },
  {
   "cell_type": "code",
   "execution_count": 179,
   "id": "3d692847-5c10-4263-8cc5-f33438edde20",
   "metadata": {},
   "outputs": [],
   "source": [
    "prediction_df"
   ]
  },
  {
   "cell_type": "code",
   "execution_count": 127,
   "id": "b0ab5fbf-eb2e-4dd1-a04f-9344c6503c5a",
   "metadata": {},
   "outputs": [],
   "source": [
    "prediction_df.name"
   ]
  },
  {
   "cell_type": "code",
   "execution_count": 183,
   "id": "2f52584d-d039-486e-acdf-e62683b37647",
   "metadata": {},
   "outputs": [],
   "source": [
    "model.summary()"
   ]
  },
  {
   "cell_type": "code",
   "execution_count": 92,
   "id": "0669867d-25ed-4e61-8b2d-e1cc079240a7",
   "metadata": {},
   "outputs": [],
   "source": [
    "prediction_df"
   ]
  },
  {
   "cell_type": "code",
   "execution_count": 25,
   "id": "82936db9-5add-426a-99a7-3932007bdfb8",
   "metadata": {},
   "outputs": [],
   "source": [
    "from claim_modelling_kedro.pipelines.utils.mlflow_model import MLFlowModelLoader\n",
    "from claim_modelling_kedro.pipelines.p08_model_calibration.utils import _calibration_model_artifact_path\n",
    "\n",
    "clb_model = MLFlowModelLoader(\"calibration model\").load_model(path=_calibration_model_artifact_path,\n",
    "                                                                  run_id=config.clb.mlflow_run_id)"
   ]
  },
  {
   "cell_type": "code",
   "execution_count": 26,
   "id": "99e0a7b8-ac39-4878-89a9-d7aa43cae8fa",
   "metadata": {},
   "outputs": [],
   "source": [
    "clb_model"
   ]
  },
  {
   "cell_type": "code",
   "execution_count": 27,
   "id": "7f62f526-5857-48e3-bcf2-0aea217a8f1d",
   "metadata": {},
   "outputs": [],
   "source": [
    "clb_model.y_thresholds_"
   ]
  },
  {
   "cell_type": "code",
   "execution_count": 28,
   "id": "c85e8054-d4a7-486c-b876-4d853e358408",
   "metadata": {},
   "outputs": [],
   "source": [
    "clb_model.X_thresholds_"
   ]
  },
  {
   "cell_type": "code",
   "execution_count": 31,
   "id": "5e9119f1-87ef-4857-be5c-425bf128c66b",
   "metadata": {},
   "outputs": [],
   "source": [
    "import numpy as np\n",
    "\n",
    "# Assuming clb_model.y_thresholds_ is a numpy array\n",
    "y_thresholds = clb_model.y_thresholds_\n",
    "\n",
    "# Define the x coordinates for the data points (xp)\n",
    "xp = np.arange(len(y_thresholds))\n",
    "\n",
    "# Define the x coordinates at which to evaluate the interpolant (x)\n",
    "x = np.linspace(0, len(y_thresholds) - 1, num=100)\n",
    "\n",
    "# Perform linear interpolation\n",
    "interpolated_y_thresholds = np.interp(x, xp, y_thresholds)"
   ]
  },
  {
   "cell_type": "code",
   "execution_count": 32,
   "id": "08ac3971-4dc6-4e60-8a28-006205712cce",
   "metadata": {},
   "outputs": [],
   "source": [
    "def calibrate(clb_model, y):\n",
    "    return np.interp(y, clb_model.X_thresholds_, clb_model.y_thresholds_)"
   ]
  },
  {
   "cell_type": "code",
   "execution_count": 33,
   "id": "0781112e-8569-481b-8f43-6472868de8d7",
   "metadata": {},
   "outputs": [],
   "source": [
    "y_cal = calibrate(clb_model, calibrated_test_predictions_df.pure_ClaimFreq_PRED)"
   ]
  },
  {
   "cell_type": "code",
   "execution_count": 34,
   "id": "57c51c99-5a70-4109-a90b-528b9cbcabde",
   "metadata": {},
   "outputs": [],
   "source": [
    "len(y_cal)"
   ]
  },
  {
   "cell_type": "code",
   "execution_count": 35,
   "id": "f21b1b7b-cd2d-4eaa-a7ce-3f3c877440ed",
   "metadata": {},
   "outputs": [],
   "source": [
    "y_cal"
   ]
  },
  {
   "cell_type": "code",
   "execution_count": 36,
   "id": "77f9ad9d-f92b-4ab6-b4ee-4e9d446f4a48",
   "metadata": {},
   "outputs": [],
   "source": [
    "calibrated_test_predictions_df.pure_ClaimFreq_PRED"
   ]
  },
  {
   "cell_type": "code",
   "execution_count": 37,
   "id": "9c331eeb-3089-4d8b-840c-35f33e4549eb",
   "metadata": {},
   "outputs": [],
   "source": [
    "len(np.unique(y_cal))"
   ]
  },
  {
   "cell_type": "code",
   "execution_count": 38,
   "id": "c3cdd0da-5d5d-430c-9a2c-6430a6d97996",
   "metadata": {},
   "outputs": [],
   "source": [
    "len(np.unique(calibrated_test_predictions_df.pure_ClaimFreq_PRED))"
   ]
  },
  {
   "cell_type": "code",
   "execution_count": 39,
   "id": "7a1886d7-723e-4268-b6cb-5b7f891e1f00",
   "metadata": {},
   "outputs": [],
   "source": [
    "len(np.unique(calibrated_test_predictions_df.calibrated_ClaimFreq_PRED))"
   ]
  },
  {
   "cell_type": "code",
   "execution_count": 42,
   "id": "1ef607ff-c63b-4e49-8f0f-015c90cfae1f",
   "metadata": {},
   "outputs": [],
   "source": [
    "y_pure_clb = calibrate(clb_model, calibrated_test_predictions_df.calibrated_ClaimFreq_PRED)"
   ]
  },
  {
   "cell_type": "code",
   "execution_count": 10,
   "id": "f5e3c877-d675-4c1f-9e50-9916fddb745a",
   "metadata": {},
   "outputs": [],
   "source": [
    "target_df = catalog.load(\"target_df\")"
   ]
  },
  {
   "cell_type": "code",
   "execution_count": 9,
   "id": "2a515f5c-b02d-43e8-be83-98f044f9de17",
   "metadata": {},
   "outputs": [],
   "source": [
    "calibrated_calib_predictions_df = catalog.load(\"calibrated_calib_predictions_df\")"
   ]
  },
  {
   "cell_type": "code",
   "execution_count": 65,
   "id": "109f2a58-f68c-4ab2-8611-d9ed00b23d96",
   "metadata": {},
   "outputs": [],
   "source": [
    "len(np.unique(y_cal))"
   ]
  },
  {
   "cell_type": "code",
   "execution_count": 11,
   "id": "6ed13192-b2e7-4f36-ab62-93b9a827e86d",
   "metadata": {},
   "outputs": [],
   "source": [
    "calibrated_calib_predictions_df"
   ]
  },
  {
   "cell_type": "code",
   "execution_count": 12,
   "id": "2324cb23-9133-40c5-9ee9-c236f558e338",
   "metadata": {},
   "outputs": [],
   "source": [
    "target_df"
   ]
  },
  {
   "cell_type": "code",
   "execution_count": 75,
   "id": "8db2a84e-7dac-4d16-8d73-55ddee7da928",
   "metadata": {},
   "outputs": [],
   "source": [
    "pure_sample_predictions_df = catalog.load(\"pure_sample_predictions_df\")"
   ]
  },
  {
   "cell_type": "code",
   "execution_count": 76,
   "id": "ff7bed0c-67ca-4640-a9fe-071695bbce70",
   "metadata": {},
   "outputs": [],
   "source": [
    "pure_sample_predictions_df"
   ]
  },
  {
   "cell_type": "code",
   "execution_count": 77,
   "id": "999809a9-9c64-42aa-aab0-29656bbc0938",
   "metadata": {},
   "outputs": [],
   "source": [
    "target_df = catalog.load(\"target_df\")"
   ]
  },
  {
   "cell_type": "code",
   "execution_count": 78,
   "id": "82d2a7a7-fd99-4bad-96ce-a395a585f7ed",
   "metadata": {},
   "outputs": [],
   "source": [
    "target_df"
   ]
  },
  {
   "cell_type": "code",
   "execution_count": 13,
   "id": "894c0f6b-cf6e-4c3d-9026-e0ec14ffa6d9",
   "metadata": {},
   "outputs": [],
   "source": [
    "y = target_df.loc[calibrated_calib_predictions_df.index, config.mdl_task.target_col]\n",
    "x = calibrated_calib_predictions_df.pure_ClaimFreq_PRED"
   ]
  },
  {
   "cell_type": "code",
   "execution_count": 16,
   "id": "14afbe00-62b3-4990-ba4e-2397d72d677b",
   "metadata": {},
   "outputs": [],
   "source": [
    "from cir_model import CenteredIsotonicRegression"
   ]
  },
  {
   "cell_type": "code",
   "execution_count": 14,
   "id": "20a1a27f-bfe1-487d-9151-27bb5ed96d5b",
   "metadata": {},
   "outputs": [],
   "source": [
    "y"
   ]
  },
  {
   "cell_type": "code",
   "execution_count": 15,
   "id": "fa2b817d-7937-4a23-aec2-b57bcf5d7d82",
   "metadata": {},
   "outputs": [],
   "source": [
    "x"
   ]
  },
  {
   "cell_type": "code",
   "execution_count": 18,
   "id": "6ceebc13-38ce-4b43-8de4-028fab45036f",
   "metadata": {},
   "outputs": [],
   "source": [
    "cir_model = CenteredIsotonicRegression()\n",
    "cir_model.fit(x, y)\n",
    "y_cir_cal = cir_model.predict(x)\n",
    "y_cir_cal"
   ]
  },
  {
   "cell_type": "code",
   "execution_count": 59,
   "id": "645e2764-6c90-4142-8f3e-f15df0afa7a8",
   "metadata": {},
   "outputs": [],
   "source": [
    "len(np.unique(y_cir_cal))"
   ]
  },
  {
   "cell_type": "code",
   "execution_count": 19,
   "id": "96238b8f-4b3b-4e83-9865-3c7e49da7440",
   "metadata": {},
   "outputs": [],
   "source": [
    "import sklearn"
   ]
  },
  {
   "cell_type": "code",
   "execution_count": 20,
   "id": "57ba0af8-4562-4ca1-8241-99232561bdff",
   "metadata": {},
   "outputs": [],
   "source": [
    "sklearn.__version__"
   ]
  },
  {
   "cell_type": "code",
   "execution_count": 22,
   "id": "036bee1a-2291-462f-9e4c-534dc0e533c0",
   "metadata": {},
   "outputs": [],
   "source": [
    "import cir_model"
   ]
  },
  {
   "cell_type": "code",
   "execution_count": 23,
   "id": "2d16ee44-6c4a-4258-b4c7-1696c9b19fb8",
   "metadata": {},
   "outputs": [],
   "source": [
    "cir_model.__version__"
   ]
  },
  {
   "cell_type": "markdown",
   "id": "c96173bd-96f5-4983-a751-9a0171db5687",
   "metadata": {},
   "source": [
    "## Exploring results"
   ]
  },
  {
   "cell_type": "code",
   "execution_count": 44,
   "id": "8b7d7400-eb40-4179-a69d-8b782e17cd0b",
   "metadata": {},
   "outputs": [],
   "source": [
    "import mlflow"
   ]
  },
  {
   "cell_type": "code",
   "execution_count": 45,
   "id": "589de50b-c097-4881-8b64-da9070765196",
   "metadata": {},
   "outputs": [],
   "source": [
    "mlflow.active_run().info"
   ]
  },
  {
   "cell_type": "code",
   "execution_count": null,
   "id": "ed1ff9e7-f0f0-4f85-9760-3c0fcbd6322c",
   "metadata": {},
   "outputs": [],
   "source": [
    "from claim_modelling_kedro.pipelines.p07_data_science.models.glm import GeneralizedLinearModel"
   ]
  },
  {
   "cell_type": "code",
   "execution_count": null,
   "id": "3217da7d-ed64-41fd-9b03-f5ad2278872a",
   "metadata": {},
   "outputs": [],
   "source": []
  }
 ],
 "metadata": {
  "kernelspec": {
   "display_name": "Python 3 (ipykernel)",
   "language": "python",
   "name": "python3"
  },
  "language_info": {
   "codemirror_mode": {
    "name": "ipython",
    "version": 3
   },
   "file_extension": ".py",
   "mimetype": "text/x-python",
   "name": "python",
   "nbconvert_exporter": "python",
   "pygments_lexer": "ipython3",
   "version": "3.11.9"
  }
 },
 "nbformat": 4,
 "nbformat_minor": 5
}
